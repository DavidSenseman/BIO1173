{
  "cells": [
    {
      "cell_type": "markdown",
      "metadata": {
        "id": "view-in-github",
        "colab_type": "text"
      },
      "source": [
        "<a href=\"https://colab.research.google.com/github/DavidSenseman/BIO1173/blob/main/Class_04_2.ipynb\" target=\"_parent\"><img src=\"https://colab.research.google.com/assets/colab-badge.svg\" alt=\"Open In Colab\"/></a>"
      ]
    },
    {
      "cell_type": "markdown",
      "metadata": {
        "id": "KqDIpQLjdgBT"
      },
      "source": [
        "---------------------------\n",
        "**COPYRIGHT NOTICE:** This Jupyterlab Notebook is a Derivative work of [Jeff Heaton](https://github.com/jeffheaton) licensed under the Apache License, Version 2.0 (the \"License\"); You may not use this file except in compliance with the License. You may obtain a copy of the License at\n",
        "\n",
        "> [http://www.apache.org/licenses/LICENSE-2.0](http://www.apache.org/licenses/LICENSE-2.0)\n",
        "\n",
        "Unless required by applicable law or agreed to in writing, software distributed under the License is distributed on an \"AS IS\" BASIS, WITHOUT WARRANTIES OR CONDITIONS OF ANY KIND, either express or implied. See the License for the specific language governing permissions and limitations under the License.\n",
        "\n",
        "------------------------"
      ]
    },
    {
      "cell_type": "markdown",
      "metadata": {
        "id": "2PlD6wjRdgBT"
      },
      "source": [
        "# **BIO 1173: Intro Computational Biology**"
      ]
    },
    {
      "cell_type": "markdown",
      "metadata": {
        "id": "wYIHucyqdgBU"
      },
      "source": [
        "##### **Module 4: Training for Tabular Data**\n",
        "\n",
        "* Instructor: [David Senseman](mailto:David.Senseman@utsa.edu), [Department of Biology, Health and the Environment](https://sciences.utsa.edu/bhe/), [UTSA](https://www.utsa.edu/)\n",
        "\n",
        "### Module 4 Material\n",
        "\n",
        "* Part 4.1: Encoding a Feature Vector for Keras Deep Learning\n",
        "* **Part 4.2: Keras Multiclass Classification for Deep Neural Networks with ROC and AUC**\n",
        "* Part 4.3: Keras Regression for Deep Neural Networks with RMSE\n",
        "* Part 4.4: Backpropagation, Nesterov Momentum, and ADAM Neural Network Training"
      ]
    },
    {
      "cell_type": "markdown",
      "metadata": {
        "id": "v4EKp4pkdgBU"
      },
      "source": [
        "## Google CoLab Instructions\n",
        "\n",
        "You MUST run the following code cell to get credit for this class lesson. By running this code cell, you will map your GDrive to ```/content/drive``` and print out your Google GMAIL address. Your Instructor will use your GMAIL address to verify the author of this class lesson."
      ]
    },
    {
      "cell_type": "code",
      "execution_count": 1,
      "metadata": {
        "id": "seXFCYH4LDUM",
        "scrolled": true,
        "colab": {
          "base_uri": "https://localhost:8080/"
        },
        "outputId": "19e5b296-eff4-46f8-e642-2fc939452ff9"
      },
      "outputs": [
        {
          "output_type": "stream",
          "name": "stdout",
          "text": [
            "Mounted at /content/drive\n",
            "Note: Using Google CoLab\n",
            "david.senseman@gmail.com\n"
          ]
        }
      ],
      "source": [
        "# You must run this cell first\n",
        "try:\n",
        "    from google.colab import drive\n",
        "    drive.mount('/content/drive', force_remount=True)\n",
        "    from google.colab import auth\n",
        "    auth.authenticate_user()\n",
        "    COLAB = True\n",
        "    print(\"Note: Using Google CoLab\")\n",
        "    import requests\n",
        "    gcloud_token = !gcloud auth print-access-token\n",
        "    gcloud_tokeninfo = requests.get('https://www.googleapis.com/oauth2/v3/tokeninfo?access_token=' + gcloud_token[0]).json()\n",
        "    print(gcloud_tokeninfo['email'])\n",
        "except:\n",
        "    print(\"**WARNING**: Your GMAIL address was **not** printed in the output below.\")\n",
        "    print(\"**WARNING**: You will NOT receive credit for this lesson.\")\n",
        "    COLAB = False"
      ]
    },
    {
      "cell_type": "markdown",
      "metadata": {
        "id": "izIVk7n6dgBU"
      },
      "source": [
        "## **Datasets for Class_04_2**\n",
        "\n",
        "For Class_04_2 we will be using the Pima Indians Diabetes dataset for the Examples, and the Wisconsin Breast Cancer dataset for the **Exercises**."
      ]
    },
    {
      "cell_type": "markdown",
      "metadata": {
        "id": "GZf61pI_dgBU"
      },
      "source": [
        "### **Pima Indians Diabetes Dataset**\n",
        "\n",
        "[Pima Indians Diabetes dataset](https://www.kaggle.com/datasets/uciml/pima-indians-diabetes-database)\n",
        "\n",
        "![___](https://biologicslab.co/BIO1173/images/Pima.jpg)\n",
        "\n",
        "The **_Pima Indians_** are known for their high prevalence of Type 2 diabetes, making them an important population for studying and understanding the genetic and environmental factors that contribute to the development of diabetes. They have one of the highest rates of diabetes in the world, with some estimates suggesting that up to 50% of Pima adults have the disease.\n",
        "\n",
        "Studying the Pima Indians has provided valuable insights into the genetic and lifestyle factors that contribute to the development of diabetes, as well as potential strategies for prevention and treatment. Researchers have identified specific genetic variants associated with diabetes in the Pima population, as well as lifestyle factors such as diet and exercise habits that may influence the risk of developing the disease.\n",
        "\n",
        "![___](https://biologicslab.co/BIO1173/images/PimaParadox.png)\n",
        "\n",
        "[THE PIMA PARADOX](https://www.newyorker.com/magazine/1998/02/02/the-pima-paradox)\n",
        "\n",
        "The article by Malcom Gladwell, \"THE PIMA PARADOX\", that appeared in the January 25, 1998 edition of the New Yorker Magazine, provides a highly readable introduction to this topic.\n",
        "\n",
        "**Pima Indians Diabetes Dataset**\n",
        "\n",
        "The datasets consist of several medical predictor (independent) variables and one target (dependent) variable, `Outcome`. Independent variables include the number of pregnancies the patient has had, their BMI, insulin level, age, and so on.\n",
        "\n",
        "Predictor (Independent) Variables:\n",
        "* **Pregnancies:** Number of times pregnant\n",
        "* **Glucose:** Plasma glucose concentration a 2 hours in an oral glucose tolerance test\n",
        "* **BloodPressure:** Diastolic blood pressure (mm Hg)\n",
        "* **SkinThickness:** Triceps skin fold thickness (mm)\n",
        "* **Insulin:** 2-Hour serum insulin (mu U/ml)\n",
        "* **BMI:** Body mass index (weight in kg/(height in m)<sup>2</sup>)\n",
        "* **DiabetesPedigree:** Diabetes pedigree function\n",
        "* **Age:** Age (years)\n",
        "\n",
        "Target (Dependent) Variable\n",
        "* **Outcome:** Class variable (0 or 1) 268 of 768 are 1, the others are 0\n",
        "  "
      ]
    },
    {
      "cell_type": "markdown",
      "metadata": {
        "jp-MarkdownHeadingCollapsed": true,
        "id": "Bc2rwAAMdgBV"
      },
      "source": [
        "### **Breast Cancer Wisconsin (Diagnostic) Data Set**\n",
        "\n",
        "[Breast Cancer Wisconsin (Diagnostic) Data Set](https://www.kaggle.com/datasets/uciml/breast-cancer-wisconsin-data)\n",
        "\n",
        "This dataset was described in the previous lesson (Class_04_1).\n",
        "\n",
        "The list of features computed from digitized images of breast mass cell nuclei obtained from by FNA in the Breast Cancer Wisconsing datasete are as follows:\n",
        "\n",
        "**Attribute Information:**\n",
        "\n",
        "* **ID number**\n",
        "* **Diagnosis:** (M = malignant, B = benign)\n",
        "\n",
        "Ten real-valued features are computed for each cell nucleus:\n",
        "\n",
        "*  **radius:** (mean of distances from center to points on the perimeter)\n",
        "* **texture:** (standard deviation of gray-scale values)\n",
        "* **perimeter:**\n",
        "* **area:**\n",
        "* **smoothness:** (local variation in radius lengths)\n",
        "* **compactness:** (perimeter<sup>2</sup> / area - 1.0)\n",
        "* **concavity:** (severity of concave portions of the contour)\n",
        "* **concave points:** (number of concave portions of the contour)\n",
        "* **symmetry:**\n",
        "* **fractal dimension:** (\"coastline approximation\" - 1)\n"
      ]
    },
    {
      "cell_type": "markdown",
      "metadata": {
        "id": "ZF1dep09K1AL"
      },
      "source": [
        "# **Multiclass Classification with ROC and AUC**\n",
        "\n",
        "The output of modern neural networks can be of many different forms. However, classically, neural network output has typically been one of the following:\n",
        "\n",
        "* **Binary Classification** - Classification between two possibilities (positive and negative). Common in medical testing, does the person has the disease (positive) or not (negative).\n",
        "* **Classification** - Classification between more than 2 possibilites, for example the Iris dataset (3-way classification).\n",
        "* **Regression** - Numeric prediction.  How many MPG does a car get? (covered in next video)\n",
        "\n",
        "We will look at some visualizations for all three in this lesson. In particular, we will focus on the importance of evaluating **_false positives_** and **_false negatives_** in the results produced by a neural network.\n",
        "\n",
        "## **Binary Classification and ROC Charts**\n",
        "\n",
        "**Binary classification** occurs when a neural network must choose between two options: true/false, yes/no, correct/incorrect, or healthy/diseased. To see how to use binary classification, we will consider a classification system for quantitative cytological measurements of cells extracted from female breast tumors. This system will to classirisY if a breast tumor is cancerous (malignant) or not (benign). This classification system must decide how to respond to a new patient presenting with a breast tumor.  \n",
        "\n",
        "When you have only two classes that you can consider, the objective function's score is the number of false-positive predictions versus the number of false negatives. False negatives and false positives are both types of errors, and it is essential to understand the difference. For breast cancer data example, diagnosing a breast tumor as cancerous (malignant) would be positive. A false positive occurs when the model decides the tumor is cancerous when in fact it is benign. A false negative happens when the model decides the tumor is benign when in fact it is cancerous.\n",
        "\n",
        "Because only two options exist, we can choose the mistake that is the more serious type of error, a false positive or a false negative. This depends entirely on the situation.\n",
        "\n",
        "#### **Breast Cancer Diagnosis**\n",
        "\n",
        "In the context of diagnosing breast cancer tumors, a false positive result is generally considered worse than a false negative result in the short-term, but not in the long-term.\n",
        "\n",
        "* **False positive result:** means that a patient is incorrectly told they have cancer when they do not. This can lead to unnecessary anxiety, invasive follow-up tests, and potentially harmful treatments such as surgery, chemotherapy, and radiation therapy.\n",
        "\n",
        "* **False negative result:** means that a patient is incorrectly told they do not have cancer when they actually do. This may delay necessary treatment and allow the cancer to progress without intervention, potentially leading to poorer outcomes in the long run.\n",
        "\n",
        "\n",
        "#### **COVID-19 Diagnosis**\n",
        "\n",
        "On the other hand, consider the situation where a model predicts whether a subject has COVID-19. In the context of diagnosing COVID-19, a false negative result is generally considered worse than a false positive result.\n",
        "\n",
        "* **False negative result:** means that a person is incorrectly told they do not have COVID-19 when they actually do. This can lead to the person unknowingly spreading the virus to others, potentially causing further infections and contributing to community transmission.\n",
        "\n",
        "* **False positive result:** means that a person is incorrectly told they have COVID-19 when they do not. While this can lead to unnecessary isolation and anxiety for the individual, it typically does not have as severe consequences for public health as a false negative.\n",
        "\n",
        "While it is not always clear which type of error is more important, it is obvious that having a solid understanding of how neural network models work, and how to assess their predictive accuracy is of paramount importance for their appropriate deployment in a clinical setting and how to explain a model's predictions to patients and their family members."
      ]
    },
    {
      "cell_type": "markdown",
      "metadata": {
        "id": "qorDQRU-dgBV"
      },
      "source": [
        "### Example 1: Read Datafile and Create DataFrame\n",
        "\n",
        "For the intial examples in this lesson, we will be using the \"Pima\" dataset that contains clinical information for 768 women of the Pima Indian nation.\n",
        "\n",
        "The data file, `pima.csv` is located on the course HTTPS server, located in the following filepath: `/BIO1173/data/`. The code below shows how to read this data file and store the information in a new DataFrame called `pidDF` (Pima Indian Diabetes DataFrame).   \n",
        "\n",
        "_Code Description:_\n",
        "\n",
        "Here is the code chunk that reads the datafile:\n",
        "\n",
        "~~~text\n",
        "# Read file and create DataFrame\n",
        "pidDF = pd.read_csv(\n",
        "    \"https://biologicslab.co/BIO1173/data/pima.csv\",\n",
        "#    index_col=0,\n",
        "    sep=',',\n",
        "    na_values=['NA','?'])\n",
        "\n",
        "~~~\n",
        "\n",
        "Please note that one of the lines of code has been \"commented out\":\n",
        "\n",
        "~~~text\n",
        "#    index_col=0,\n",
        "~~~\n",
        "\n",
        "Sometimes you need this line of code commented, other times, you need to remove the comment.\n",
        "\n",
        "Removing the comment changes which column in the datafile Pandas should consider to be the first column. For this datafile, you need to keep this argument commented out.\n"
      ]
    },
    {
      "cell_type": "code",
      "execution_count": 2,
      "metadata": {
        "id": "VmjrLkDwK1AM",
        "scrolled": true,
        "colab": {
          "base_uri": "https://localhost:8080/",
          "height": 298
        },
        "outputId": "0f739591-0f6d-4af4-a869-7e40f5c9a4ba"
      },
      "outputs": [
        {
          "output_type": "display_data",
          "data": {
            "text/plain": [
              "     Pregnancies  Glucose  BloodPressure  ...  DiabetesPedigreeFunction  Age  \\\n",
              "0              6      148             72  ...                     0.627   50   \n",
              "1              1       85             66  ...                     0.351   31   \n",
              "2              8      183             64  ...                     0.672   32   \n",
              "..           ...      ...            ...  ...                       ...  ...   \n",
              "765            5      121             72  ...                     0.245   30   \n",
              "766            1      126             60  ...                     0.349   47   \n",
              "767            1       93             70  ...                     0.315   23   \n",
              "\n",
              "     Outcome  \n",
              "0          1  \n",
              "1          0  \n",
              "2          1  \n",
              "..       ...  \n",
              "765        0  \n",
              "766        1  \n",
              "767        0  \n",
              "\n",
              "[768 rows x 9 columns]"
            ],
            "text/html": [
              "\n",
              "  <div id=\"df-e675a5d7-b838-4446-9873-7ea6e79b6ac2\" class=\"colab-df-container\">\n",
              "    <div>\n",
              "<style scoped>\n",
              "    .dataframe tbody tr th:only-of-type {\n",
              "        vertical-align: middle;\n",
              "    }\n",
              "\n",
              "    .dataframe tbody tr th {\n",
              "        vertical-align: top;\n",
              "    }\n",
              "\n",
              "    .dataframe thead th {\n",
              "        text-align: right;\n",
              "    }\n",
              "</style>\n",
              "<table border=\"1\" class=\"dataframe\">\n",
              "  <thead>\n",
              "    <tr style=\"text-align: right;\">\n",
              "      <th></th>\n",
              "      <th>Pregnancies</th>\n",
              "      <th>Glucose</th>\n",
              "      <th>BloodPressure</th>\n",
              "      <th>...</th>\n",
              "      <th>DiabetesPedigreeFunction</th>\n",
              "      <th>Age</th>\n",
              "      <th>Outcome</th>\n",
              "    </tr>\n",
              "  </thead>\n",
              "  <tbody>\n",
              "    <tr>\n",
              "      <th>0</th>\n",
              "      <td>6</td>\n",
              "      <td>148</td>\n",
              "      <td>72</td>\n",
              "      <td>...</td>\n",
              "      <td>0.627</td>\n",
              "      <td>50</td>\n",
              "      <td>1</td>\n",
              "    </tr>\n",
              "    <tr>\n",
              "      <th>1</th>\n",
              "      <td>1</td>\n",
              "      <td>85</td>\n",
              "      <td>66</td>\n",
              "      <td>...</td>\n",
              "      <td>0.351</td>\n",
              "      <td>31</td>\n",
              "      <td>0</td>\n",
              "    </tr>\n",
              "    <tr>\n",
              "      <th>2</th>\n",
              "      <td>8</td>\n",
              "      <td>183</td>\n",
              "      <td>64</td>\n",
              "      <td>...</td>\n",
              "      <td>0.672</td>\n",
              "      <td>32</td>\n",
              "      <td>1</td>\n",
              "    </tr>\n",
              "    <tr>\n",
              "      <th>...</th>\n",
              "      <td>...</td>\n",
              "      <td>...</td>\n",
              "      <td>...</td>\n",
              "      <td>...</td>\n",
              "      <td>...</td>\n",
              "      <td>...</td>\n",
              "      <td>...</td>\n",
              "    </tr>\n",
              "    <tr>\n",
              "      <th>765</th>\n",
              "      <td>5</td>\n",
              "      <td>121</td>\n",
              "      <td>72</td>\n",
              "      <td>...</td>\n",
              "      <td>0.245</td>\n",
              "      <td>30</td>\n",
              "      <td>0</td>\n",
              "    </tr>\n",
              "    <tr>\n",
              "      <th>766</th>\n",
              "      <td>1</td>\n",
              "      <td>126</td>\n",
              "      <td>60</td>\n",
              "      <td>...</td>\n",
              "      <td>0.349</td>\n",
              "      <td>47</td>\n",
              "      <td>1</td>\n",
              "    </tr>\n",
              "    <tr>\n",
              "      <th>767</th>\n",
              "      <td>1</td>\n",
              "      <td>93</td>\n",
              "      <td>70</td>\n",
              "      <td>...</td>\n",
              "      <td>0.315</td>\n",
              "      <td>23</td>\n",
              "      <td>0</td>\n",
              "    </tr>\n",
              "  </tbody>\n",
              "</table>\n",
              "<p>768 rows × 9 columns</p>\n",
              "</div>\n",
              "    <div class=\"colab-df-buttons\">\n",
              "\n",
              "  <div class=\"colab-df-container\">\n",
              "    <button class=\"colab-df-convert\" onclick=\"convertToInteractive('df-e675a5d7-b838-4446-9873-7ea6e79b6ac2')\"\n",
              "            title=\"Convert this dataframe to an interactive table.\"\n",
              "            style=\"display:none;\">\n",
              "\n",
              "  <svg xmlns=\"http://www.w3.org/2000/svg\" height=\"24px\" viewBox=\"0 -960 960 960\">\n",
              "    <path d=\"M120-120v-720h720v720H120Zm60-500h600v-160H180v160Zm220 220h160v-160H400v160Zm0 220h160v-160H400v160ZM180-400h160v-160H180v160Zm440 0h160v-160H620v160ZM180-180h160v-160H180v160Zm440 0h160v-160H620v160Z\"/>\n",
              "  </svg>\n",
              "    </button>\n",
              "\n",
              "  <style>\n",
              "    .colab-df-container {\n",
              "      display:flex;\n",
              "      gap: 12px;\n",
              "    }\n",
              "\n",
              "    .colab-df-convert {\n",
              "      background-color: #E8F0FE;\n",
              "      border: none;\n",
              "      border-radius: 50%;\n",
              "      cursor: pointer;\n",
              "      display: none;\n",
              "      fill: #1967D2;\n",
              "      height: 32px;\n",
              "      padding: 0 0 0 0;\n",
              "      width: 32px;\n",
              "    }\n",
              "\n",
              "    .colab-df-convert:hover {\n",
              "      background-color: #E2EBFA;\n",
              "      box-shadow: 0px 1px 2px rgba(60, 64, 67, 0.3), 0px 1px 3px 1px rgba(60, 64, 67, 0.15);\n",
              "      fill: #174EA6;\n",
              "    }\n",
              "\n",
              "    .colab-df-buttons div {\n",
              "      margin-bottom: 4px;\n",
              "    }\n",
              "\n",
              "    [theme=dark] .colab-df-convert {\n",
              "      background-color: #3B4455;\n",
              "      fill: #D2E3FC;\n",
              "    }\n",
              "\n",
              "    [theme=dark] .colab-df-convert:hover {\n",
              "      background-color: #434B5C;\n",
              "      box-shadow: 0px 1px 3px 1px rgba(0, 0, 0, 0.15);\n",
              "      filter: drop-shadow(0px 1px 2px rgba(0, 0, 0, 0.3));\n",
              "      fill: #FFFFFF;\n",
              "    }\n",
              "  </style>\n",
              "\n",
              "    <script>\n",
              "      const buttonEl =\n",
              "        document.querySelector('#df-e675a5d7-b838-4446-9873-7ea6e79b6ac2 button.colab-df-convert');\n",
              "      buttonEl.style.display =\n",
              "        google.colab.kernel.accessAllowed ? 'block' : 'none';\n",
              "\n",
              "      async function convertToInteractive(key) {\n",
              "        const element = document.querySelector('#df-e675a5d7-b838-4446-9873-7ea6e79b6ac2');\n",
              "        const dataTable =\n",
              "          await google.colab.kernel.invokeFunction('convertToInteractive',\n",
              "                                                    [key], {});\n",
              "        if (!dataTable) return;\n",
              "\n",
              "        const docLinkHtml = 'Like what you see? Visit the ' +\n",
              "          '<a target=\"_blank\" href=https://colab.research.google.com/notebooks/data_table.ipynb>data table notebook</a>'\n",
              "          + ' to learn more about interactive tables.';\n",
              "        element.innerHTML = '';\n",
              "        dataTable['output_type'] = 'display_data';\n",
              "        await google.colab.output.renderOutput(dataTable, element);\n",
              "        const docLink = document.createElement('div');\n",
              "        docLink.innerHTML = docLinkHtml;\n",
              "        element.appendChild(docLink);\n",
              "      }\n",
              "    </script>\n",
              "  </div>\n",
              "\n",
              "\n",
              "<div id=\"df-f1ddfb67-164e-4d6d-bfcf-0a5bb53dba6e\">\n",
              "  <button class=\"colab-df-quickchart\" onclick=\"quickchart('df-f1ddfb67-164e-4d6d-bfcf-0a5bb53dba6e')\"\n",
              "            title=\"Suggest charts\"\n",
              "            style=\"display:none;\">\n",
              "\n",
              "<svg xmlns=\"http://www.w3.org/2000/svg\" height=\"24px\"viewBox=\"0 0 24 24\"\n",
              "     width=\"24px\">\n",
              "    <g>\n",
              "        <path d=\"M19 3H5c-1.1 0-2 .9-2 2v14c0 1.1.9 2 2 2h14c1.1 0 2-.9 2-2V5c0-1.1-.9-2-2-2zM9 17H7v-7h2v7zm4 0h-2V7h2v10zm4 0h-2v-4h2v4z\"/>\n",
              "    </g>\n",
              "</svg>\n",
              "  </button>\n",
              "\n",
              "<style>\n",
              "  .colab-df-quickchart {\n",
              "      --bg-color: #E8F0FE;\n",
              "      --fill-color: #1967D2;\n",
              "      --hover-bg-color: #E2EBFA;\n",
              "      --hover-fill-color: #174EA6;\n",
              "      --disabled-fill-color: #AAA;\n",
              "      --disabled-bg-color: #DDD;\n",
              "  }\n",
              "\n",
              "  [theme=dark] .colab-df-quickchart {\n",
              "      --bg-color: #3B4455;\n",
              "      --fill-color: #D2E3FC;\n",
              "      --hover-bg-color: #434B5C;\n",
              "      --hover-fill-color: #FFFFFF;\n",
              "      --disabled-bg-color: #3B4455;\n",
              "      --disabled-fill-color: #666;\n",
              "  }\n",
              "\n",
              "  .colab-df-quickchart {\n",
              "    background-color: var(--bg-color);\n",
              "    border: none;\n",
              "    border-radius: 50%;\n",
              "    cursor: pointer;\n",
              "    display: none;\n",
              "    fill: var(--fill-color);\n",
              "    height: 32px;\n",
              "    padding: 0;\n",
              "    width: 32px;\n",
              "  }\n",
              "\n",
              "  .colab-df-quickchart:hover {\n",
              "    background-color: var(--hover-bg-color);\n",
              "    box-shadow: 0 1px 2px rgba(60, 64, 67, 0.3), 0 1px 3px 1px rgba(60, 64, 67, 0.15);\n",
              "    fill: var(--button-hover-fill-color);\n",
              "  }\n",
              "\n",
              "  .colab-df-quickchart-complete:disabled,\n",
              "  .colab-df-quickchart-complete:disabled:hover {\n",
              "    background-color: var(--disabled-bg-color);\n",
              "    fill: var(--disabled-fill-color);\n",
              "    box-shadow: none;\n",
              "  }\n",
              "\n",
              "  .colab-df-spinner {\n",
              "    border: 2px solid var(--fill-color);\n",
              "    border-color: transparent;\n",
              "    border-bottom-color: var(--fill-color);\n",
              "    animation:\n",
              "      spin 1s steps(1) infinite;\n",
              "  }\n",
              "\n",
              "  @keyframes spin {\n",
              "    0% {\n",
              "      border-color: transparent;\n",
              "      border-bottom-color: var(--fill-color);\n",
              "      border-left-color: var(--fill-color);\n",
              "    }\n",
              "    20% {\n",
              "      border-color: transparent;\n",
              "      border-left-color: var(--fill-color);\n",
              "      border-top-color: var(--fill-color);\n",
              "    }\n",
              "    30% {\n",
              "      border-color: transparent;\n",
              "      border-left-color: var(--fill-color);\n",
              "      border-top-color: var(--fill-color);\n",
              "      border-right-color: var(--fill-color);\n",
              "    }\n",
              "    40% {\n",
              "      border-color: transparent;\n",
              "      border-right-color: var(--fill-color);\n",
              "      border-top-color: var(--fill-color);\n",
              "    }\n",
              "    60% {\n",
              "      border-color: transparent;\n",
              "      border-right-color: var(--fill-color);\n",
              "    }\n",
              "    80% {\n",
              "      border-color: transparent;\n",
              "      border-right-color: var(--fill-color);\n",
              "      border-bottom-color: var(--fill-color);\n",
              "    }\n",
              "    90% {\n",
              "      border-color: transparent;\n",
              "      border-bottom-color: var(--fill-color);\n",
              "    }\n",
              "  }\n",
              "</style>\n",
              "\n",
              "  <script>\n",
              "    async function quickchart(key) {\n",
              "      const quickchartButtonEl =\n",
              "        document.querySelector('#' + key + ' button');\n",
              "      quickchartButtonEl.disabled = true;  // To prevent multiple clicks.\n",
              "      quickchartButtonEl.classList.add('colab-df-spinner');\n",
              "      try {\n",
              "        const charts = await google.colab.kernel.invokeFunction(\n",
              "            'suggestCharts', [key], {});\n",
              "      } catch (error) {\n",
              "        console.error('Error during call to suggestCharts:', error);\n",
              "      }\n",
              "      quickchartButtonEl.classList.remove('colab-df-spinner');\n",
              "      quickchartButtonEl.classList.add('colab-df-quickchart-complete');\n",
              "    }\n",
              "    (() => {\n",
              "      let quickchartButtonEl =\n",
              "        document.querySelector('#df-f1ddfb67-164e-4d6d-bfcf-0a5bb53dba6e button');\n",
              "      quickchartButtonEl.style.display =\n",
              "        google.colab.kernel.accessAllowed ? 'block' : 'none';\n",
              "    })();\n",
              "  </script>\n",
              "</div>\n",
              "\n",
              "  <div id=\"id_c0cdb95c-13c8-4ba9-ac65-7783b6f173f9\">\n",
              "    <style>\n",
              "      .colab-df-generate {\n",
              "        background-color: #E8F0FE;\n",
              "        border: none;\n",
              "        border-radius: 50%;\n",
              "        cursor: pointer;\n",
              "        display: none;\n",
              "        fill: #1967D2;\n",
              "        height: 32px;\n",
              "        padding: 0 0 0 0;\n",
              "        width: 32px;\n",
              "      }\n",
              "\n",
              "      .colab-df-generate:hover {\n",
              "        background-color: #E2EBFA;\n",
              "        box-shadow: 0px 1px 2px rgba(60, 64, 67, 0.3), 0px 1px 3px 1px rgba(60, 64, 67, 0.15);\n",
              "        fill: #174EA6;\n",
              "      }\n",
              "\n",
              "      [theme=dark] .colab-df-generate {\n",
              "        background-color: #3B4455;\n",
              "        fill: #D2E3FC;\n",
              "      }\n",
              "\n",
              "      [theme=dark] .colab-df-generate:hover {\n",
              "        background-color: #434B5C;\n",
              "        box-shadow: 0px 1px 3px 1px rgba(0, 0, 0, 0.15);\n",
              "        filter: drop-shadow(0px 1px 2px rgba(0, 0, 0, 0.3));\n",
              "        fill: #FFFFFF;\n",
              "      }\n",
              "    </style>\n",
              "    <button class=\"colab-df-generate\" onclick=\"generateWithVariable('pidDF')\"\n",
              "            title=\"Generate code using this dataframe.\"\n",
              "            style=\"display:none;\">\n",
              "\n",
              "  <svg xmlns=\"http://www.w3.org/2000/svg\" height=\"24px\"viewBox=\"0 0 24 24\"\n",
              "       width=\"24px\">\n",
              "    <path d=\"M7,19H8.4L18.45,9,17,7.55,7,17.6ZM5,21V16.75L18.45,3.32a2,2,0,0,1,2.83,0l1.4,1.43a1.91,1.91,0,0,1,.58,1.4,1.91,1.91,0,0,1-.58,1.4L9.25,21ZM18.45,9,17,7.55Zm-12,3A5.31,5.31,0,0,0,4.9,8.1,5.31,5.31,0,0,0,1,6.5,5.31,5.31,0,0,0,4.9,4.9,5.31,5.31,0,0,0,6.5,1,5.31,5.31,0,0,0,8.1,4.9,5.31,5.31,0,0,0,12,6.5,5.46,5.46,0,0,0,6.5,12Z\"/>\n",
              "  </svg>\n",
              "    </button>\n",
              "    <script>\n",
              "      (() => {\n",
              "      const buttonEl =\n",
              "        document.querySelector('#id_c0cdb95c-13c8-4ba9-ac65-7783b6f173f9 button.colab-df-generate');\n",
              "      buttonEl.style.display =\n",
              "        google.colab.kernel.accessAllowed ? 'block' : 'none';\n",
              "\n",
              "      buttonEl.onclick = () => {\n",
              "        google.colab.notebook.generateWithVariable('pidDF');\n",
              "      }\n",
              "      })();\n",
              "    </script>\n",
              "  </div>\n",
              "\n",
              "    </div>\n",
              "  </div>\n"
            ],
            "application/vnd.google.colaboratory.intrinsic+json": {
              "type": "dataframe",
              "variable_name": "pidDF",
              "summary": "{\n  \"name\": \"pidDF\",\n  \"rows\": 768,\n  \"fields\": [\n    {\n      \"column\": \"Pregnancies\",\n      \"properties\": {\n        \"dtype\": \"number\",\n        \"std\": 3,\n        \"min\": 0,\n        \"max\": 17,\n        \"num_unique_values\": 17,\n        \"samples\": [\n          6,\n          1,\n          3\n        ],\n        \"semantic_type\": \"\",\n        \"description\": \"\"\n      }\n    },\n    {\n      \"column\": \"Glucose\",\n      \"properties\": {\n        \"dtype\": \"number\",\n        \"std\": 31,\n        \"min\": 0,\n        \"max\": 199,\n        \"num_unique_values\": 136,\n        \"samples\": [\n          151,\n          101,\n          112\n        ],\n        \"semantic_type\": \"\",\n        \"description\": \"\"\n      }\n    },\n    {\n      \"column\": \"BloodPressure\",\n      \"properties\": {\n        \"dtype\": \"number\",\n        \"std\": 19,\n        \"min\": 0,\n        \"max\": 122,\n        \"num_unique_values\": 47,\n        \"samples\": [\n          86,\n          46,\n          85\n        ],\n        \"semantic_type\": \"\",\n        \"description\": \"\"\n      }\n    },\n    {\n      \"column\": \"SkinThickness\",\n      \"properties\": {\n        \"dtype\": \"number\",\n        \"std\": 15,\n        \"min\": 0,\n        \"max\": 99,\n        \"num_unique_values\": 51,\n        \"samples\": [\n          7,\n          12,\n          48\n        ],\n        \"semantic_type\": \"\",\n        \"description\": \"\"\n      }\n    },\n    {\n      \"column\": \"Insulin\",\n      \"properties\": {\n        \"dtype\": \"number\",\n        \"std\": 115,\n        \"min\": 0,\n        \"max\": 846,\n        \"num_unique_values\": 186,\n        \"samples\": [\n          52,\n          41,\n          183\n        ],\n        \"semantic_type\": \"\",\n        \"description\": \"\"\n      }\n    },\n    {\n      \"column\": \"BMI\",\n      \"properties\": {\n        \"dtype\": \"number\",\n        \"std\": 7.8841603203754405,\n        \"min\": 0.0,\n        \"max\": 67.1,\n        \"num_unique_values\": 248,\n        \"samples\": [\n          19.9,\n          31.0,\n          38.1\n        ],\n        \"semantic_type\": \"\",\n        \"description\": \"\"\n      }\n    },\n    {\n      \"column\": \"DiabetesPedigreeFunction\",\n      \"properties\": {\n        \"dtype\": \"number\",\n        \"std\": 0.33132859501277484,\n        \"min\": 0.078,\n        \"max\": 2.42,\n        \"num_unique_values\": 517,\n        \"samples\": [\n          1.731,\n          0.426,\n          0.138\n        ],\n        \"semantic_type\": \"\",\n        \"description\": \"\"\n      }\n    },\n    {\n      \"column\": \"Age\",\n      \"properties\": {\n        \"dtype\": \"number\",\n        \"std\": 11,\n        \"min\": 21,\n        \"max\": 81,\n        \"num_unique_values\": 52,\n        \"samples\": [\n          60,\n          47,\n          72\n        ],\n        \"semantic_type\": \"\",\n        \"description\": \"\"\n      }\n    },\n    {\n      \"column\": \"Outcome\",\n      \"properties\": {\n        \"dtype\": \"number\",\n        \"std\": 0,\n        \"min\": 0,\n        \"max\": 1,\n        \"num_unique_values\": 2,\n        \"samples\": [\n          0,\n          1\n        ],\n        \"semantic_type\": \"\",\n        \"description\": \"\"\n      }\n    }\n  ]\n}"
            }
          },
          "metadata": {}
        }
      ],
      "source": [
        "# Example 1: Read datafile and create DataFrame\n",
        "\n",
        "import pandas as pd\n",
        "\n",
        "# Read file and create DataFrame\n",
        "pidDF = pd.read_csv(\n",
        "    \"https://biologicslab.co/BIO1173/data/pima.csv\",\n",
        "#    index_col=0,\n",
        "    sep=',',\n",
        "    na_values=['NA','?'])\n",
        "\n",
        "# Set display options\n",
        "pd.set_option('display.max_columns', 6)\n",
        "pd.set_option('display.max_rows', 6)\n",
        "\n",
        "# Display DataFrame\n",
        "display(pidDF)"
      ]
    },
    {
      "cell_type": "markdown",
      "metadata": {
        "id": "lW39as6RdgBV"
      },
      "source": [
        "If your code is correct you should see the following table:\n",
        "\n",
        "![___](https://biologicslab.co/BIO1173/images/class_04_2_Exm1A.png)\n"
      ]
    },
    {
      "cell_type": "markdown",
      "metadata": {
        "id": "OnOTGw0sdgBV"
      },
      "source": [
        "### **Exercise 1: Read Datafile and Create DataFrame**\n",
        "\n",
        "In the cell below, read the datafile `bcwbreast.csv` containing the _Breast Cancer Wisconsin_ dataset that is located on the course HTTPS server. Create a new DataFrame called `bcwDF` to hold the data.  \n",
        "\n",
        "\n",
        "_Code Hints:_\n",
        "\n",
        "To read this file correctly, you will need to remove the `#` at the start of the\n",
        "of the line of code that reads: `index_col=0`. If you don't uncomment this line, your DataFrame `bcwDF` will have the wrong column names.\n",
        "\n",
        "----------------------------\n",
        "\n",
        "The Wisconsin Breast Cancer dataset provides data for 569 patients on 30 features of the cell nuclei obtained from a digitized image of a fine needle aspirate (FNA) of a breast mass. For each patient the cancer was diagnosed as malignant (`M`) or benign (`B`) in the column labeled `diagnosis`."
      ]
    },
    {
      "cell_type": "code",
      "execution_count": null,
      "metadata": {
        "scrolled": true,
        "id": "Z3mWpet8dgBV"
      },
      "outputs": [],
      "source": [
        "# Insert your code for Exercise 1 here\n",
        "\n"
      ]
    },
    {
      "cell_type": "markdown",
      "metadata": {
        "id": "DVh2DZy0dgBW"
      },
      "source": [
        "If your code is correct you should see the following table:\n",
        "\n",
        "![__](https://biologicslab.co/BIO1173/images/class_04/class_04_2_image03.png)\n",
        "\n",
        "If your output looks exactly like this, you are good to go. However, if your output looks like the one shown below, you have a big problem.\n"
      ]
    },
    {
      "cell_type": "markdown",
      "metadata": {
        "id": "9OTF_Kt7C_qk"
      },
      "source": [
        "**WARNING:** If your output looks like this:\n",
        "\n",
        "![__](https://biologicslab.co/BIO1173/images/class_04/class_04_2_image09.png)\n",
        "\n",
        "It means that you did not read the instructions for this exercise carefully. You must fix your error before preceding. Otherwise your code will not work correctly.\n"
      ]
    },
    {
      "cell_type": "markdown",
      "metadata": {
        "id": "Ic_JG5KpK1AN"
      },
      "source": [
        "## ROC Curves\n",
        "\n",
        "\n",
        "An ROC (Receiver Operating Characteristic) curve is a graphical representation of the performance of a classification model at different threshold settings. It plots the true positive rate (sensitivity) against the false positive rate (1 - specificity) for different threshold values. The curve allows for comparison of different models and helps in determining the optimal threshold for a given model. A higher area under the ROC curve indicates better performance of the model.\n",
        "\n",
        "Understand how to interpret an ROC curve can be extremely important in medical testing where the result is often **_binary_**, (1) the patient has the disease, (2) the patient does _not_ have the disease. This diagnosis can lead to two types of errors, known as false positives and false negatives:\n",
        "\n",
        "* **False Positive** - Your test (neural network) indicated that the patient had the disease; however, the patient did not.\n",
        "* **False Negative** - Your test (neural network) indicated that the patient did not have the disease; however, the patient did have the disease.\n",
        "\n",
        "And there are two ways that your diagnosis can be correct:\n",
        "\n",
        "* **True Positive** - Your test (neural network) correctly identified that the patient had the disease.\n",
        "* **True Negative** - Your test (neural network) correctly identified that the patient did not have the disease.\n",
        "\n",
        "**Type of Error**\n",
        "![__](https://biologicslab.co/BIO1173/images/class_4_errors.png)\n",
        "\n",
        "Neural networks classirisY in terms of the probability of it being positive. However, at what possibility do you give a positive result? Is the cutoff 50%? 90%? Where you set this cutoff is called the **_threshold_**. Anything above the cutoff is positive; anything below is negative. Setting this cutoff allows the model to be more sensitive or specific.\n",
        "\n",
        "* **Sensitivity** of a test refers to its ability to correctly identirisY individuals who have the condition or disease (true positive rate). A highly sensitive test will correctly identirisY all or most of the individuals with the condition, resulting in few false negative results.\n",
        "\n",
        "* **Specificity** of a test, on the other hand, refers to its ability to correctly identirisY individuals who do not have the condition or disease (true negative rate). A highly specific test will correctly identirisY all or most of the individuals without the condition, resulting in few false positive results.\n",
        "\n",
        "The key point is this:\n",
        "\n",
        "* **_Sensitivity_** focuses on the ability of a test to correctly identirisY individuals with the condition\n",
        "* **_Specificity_** focuses on the ability to correctly identirisY individuals without the condition.\n",
        "\n",
        "More info on Sensitivity vs. Specificity: [Khan Academy](https://www.youtube.com/watch?v=Z5TtopYX1Gc)"
      ]
    },
    {
      "cell_type": "markdown",
      "metadata": {
        "id": "ncOBRMogdgBW"
      },
      "source": [
        "### XY plot illustrating Sensitivity vs. Specificity\n",
        "\n",
        "The code in the cell below generates an XY plot illustrating the inherent trade-off between test sensitivity and test specificity."
      ]
    },
    {
      "cell_type": "code",
      "execution_count": 3,
      "metadata": {
        "id": "QfjMVDf2K1AO",
        "colab": {
          "base_uri": "https://localhost:8080/",
          "height": 455
        },
        "outputId": "1d90ce06-47e9-4e55-efb7-2100c5ebe944"
      },
      "outputs": [
        {
          "output_type": "display_data",
          "data": {
            "text/plain": [
              "<Figure size 640x480 with 1 Axes>"
            ],
            "image/png": "[encoded data removed]"
          },
          "metadata": {}
        }
      ],
      "source": [
        "# Generate XY Plot\n",
        "\n",
        "%matplotlib inline\n",
        "import matplotlib.pyplot as plt\n",
        "import numpy as np\n",
        "import scipy.stats as stats\n",
        "import math\n",
        "\n",
        "mu1 = -2\n",
        "mu2 = 2\n",
        "variance = 1\n",
        "sigma = math.sqrt(variance)\n",
        "x1 = np.linspace(mu1 - 5*sigma, mu1 + 4*sigma, 100)\n",
        "x2 = np.linspace(mu2 - 5*sigma, mu2 + 4*sigma, 100)\n",
        "plt.plot(x1, stats.norm.pdf(x1, mu1, sigma)/1,color=\"green\",\n",
        "         linestyle='dashed')\n",
        "plt.plot(x2, stats.norm.pdf(x2, mu2, sigma)/1,color=\"red\")\n",
        "plt.axvline(x=-2,color=\"black\")\n",
        "plt.axvline(x=0,color=\"black\")\n",
        "plt.axvline(x=+2,color=\"black\")\n",
        "plt.text(-2.7,0.55,\"Sensitive\")\n",
        "plt.text(-0.7,0.55,\"Balanced\")\n",
        "plt.text(1.7,0.55,\"Specific\")\n",
        "plt.ylim([0,0.53])\n",
        "plt.xlim([-5,5])\n",
        "plt.legend(['Negative','Positive'])\n",
        "plt.yticks([])\n",
        "plt.show()"
      ]
    },
    {
      "cell_type": "markdown",
      "source": [
        "If the code is correct, you should see the following plot:\n",
        "\n",
        "![____](https://biologicslab.co/BIO1173/images/class_04/Class_04_2_image01.png)\n"
      ],
      "metadata": {
        "id": "YV8e3DUGiAuX"
      }
    },
    {
      "cell_type": "markdown",
      "metadata": {
        "id": "hQxAmjVSdgBW"
      },
      "source": [
        "**Why not simply make a great test that is both highly sensitve and highly specific?**\n",
        "\n",
        "A test _cannot_ be both highly sensitive and highly specific simultaneously due to inherent trade-offs in test characteristics. In general, increasing sensitivity tends to decrease specificity, and vice versa. This is because the parameters that contribute to sensitivity (true positive rate) and specificity (true negative rate) are often inversely related.\n",
        "\n",
        "* **Sensitivity** focuses on minimizing false negatives, which means it aims to correctly identirisY all individuals with the condition. To achieve high sensitivity, the test may be designed to detect even low levels of the condition, making it more likely to generate false positives (lower specificity).\n",
        "\n",
        "* **Specificity** aims to minimize false positives by correctly identirisYing individuals without the condition. To achieve high specificity, the test may be designed to only detect the presence of the condition with a high degree of certainty, potentially leading to missed detections of milder cases (lower sensitivity).\n",
        "\n",
        "Therefore, to maximize sensitivity, a test may detect even slight signals of the condition, increasing the likelihood of false positives and reducing specificity. Conversely, a test designed for high specificity may require stronger, more specific indicators of the condition, potentially missing milder cases and reducing sensitivity. Achieving a balance between sensitivity and specificity is crucial in developing effective diagnostic tests.\n"
      ]
    },
    {
      "cell_type": "markdown",
      "metadata": {
        "id": "q5tUnrYLdgBW"
      },
      "source": [
        "### Example 2: Preprocess Data for Neural Network Training\n",
        "\n",
        "As usual, we will have to pre-process the Pima data in the DataFrame `pidDF` before it can be used to train a neural network. All of the data in `pidDF` is numeric, so it won't be necessary to One-Hot encode any categorical variables (strings).\n",
        "\n",
        "However, there are rather large differences in magnitude between different categories. For example, the average (mean) `Glucose` value = 120.894531, while the mean for the category `DiabetesPedigree` is only 0.471876.\n",
        "\n",
        "Its not that neural networks can't work with large and small numerical values at the same time, it's just that they **train better** when all of the data is similar in size. This can be achieve using data **_standarization_**. In the cell below we use a very common technique for standarization, converting each number to it's Z-score value.\n",
        "\n",
        "We beging by making a list of columns that we want to include in our standarization. In this example, we want to use all of the columns, except the column `Outcome`. Here is the code chunk to do this:\n",
        "~~~text\n",
        "# Generate column list for preprocessing\n",
        "pidX_columns = pidDF.columns.drop('Outcome')\n",
        "~~~\n",
        "\n",
        "Next we use the `for` loop to \"loop through\" each column in the column list, and convert the numerical values in that column to its z-score equivalent:\n",
        "\n",
        "~~~text\n",
        "# Replace values with their Z-scores\n",
        "for col in pidX_columns:\n",
        "    pidDF[col] = zscore(pidDF[col])\n",
        "~~~\n",
        "In this dataset, that's all the preprocessing that needs to be done. We can then generate our X feature vector and our Y feature vector in the usual way (e.g. see Class_04_1).\n",
        "\n",
        "Finally, we print out the first 4 values of our X and Y feature vectors to make sure they are in the correct format.\n"
      ]
    },
    {
      "cell_type": "code",
      "execution_count": 4,
      "metadata": {
        "id": "m55_Ygs9K1AP",
        "scrolled": true,
        "colab": {
          "base_uri": "https://localhost:8080/"
        },
        "outputId": "e02824cc-a50c-4354-a319-ff974c321e91"
      },
      "outputs": [
        {
          "output_type": "stream",
          "name": "stdout",
          "text": [
            "The first 4 X-values are:\n",
            "[[ 0.6399  0.8483  0.1496  0.9073 -0.6929  0.204   0.4685  1.426 ]\n",
            " [-0.8449 -1.1234 -0.1605  0.5309 -0.6929 -0.6844 -0.3651 -0.1907]\n",
            " [ 1.2339  1.9437 -0.2639 -1.2882 -0.6929 -1.1033  0.6044 -0.1056]\n",
            " [-0.8449 -0.9982 -0.1605  0.1545  0.1233 -0.494  -0.9208 -1.0415]]\n",
            "\n",
            "Their corresponding Y-values are:\n",
            "[1. 0. 1. 0.]\n"
          ]
        }
      ],
      "source": [
        "# Example 2: Pre-process data\n",
        "\n",
        "import pandas as pd\n",
        "from scipy.stats import zscore\n",
        "\n",
        "\n",
        "# Generate column list for preprocessing\n",
        "pidX_columns = pidDF.columns.drop('Outcome')\n",
        "\n",
        "# Replace values with their Z-scores\n",
        "for col in pidX_columns:\n",
        "    pidDF[col] = zscore(pidDF[col])\n",
        "\n",
        "# Generate X feature vector\n",
        "pidX = pidDF[pidX_columns].values\n",
        "pidX = np.asarray(pidX).astype(np.float32)\n",
        "\n",
        "# Generate Y as Numpy array\n",
        "pidY = pidDF['Outcome']\n",
        "pidY = np.asarray(pidY).astype(np.float32)\n",
        "\n",
        "# Print out X and Y\n",
        "np.set_printoptions(suppress=True,precision=4)\n",
        "print(\"The first 4 X-values are:\")\n",
        "print(pidX[0:4])\n",
        "print(\"\\nTheir corresponding Y-values are:\")\n",
        "print(pidY[0:4])"
      ]
    },
    {
      "cell_type": "markdown",
      "metadata": {
        "id": "NvOF8olIdgBW"
      },
      "source": [
        "If your code is correct you should see the following output:"
      ]
    },
    {
      "cell_type": "markdown",
      "metadata": {
        "id": "fFhihV4vdgBW"
      },
      "source": [
        "~~~text\n",
        "The first 4 X-values are:\n",
        "[[ 0.6399  0.8483  0.1496  0.9073 -0.6929  0.204   0.4685  1.426 ]\n",
        " [-0.8449 -1.1234 -0.1605  0.5309 -0.6929 -0.6844 -0.3651 -0.1907]\n",
        " [ 1.2339  1.9437 -0.2639 -1.2882 -0.6929 -1.1033  0.6044 -0.1056]\n",
        " [-0.8449 -0.9982 -0.1605  0.1545  0.1233 -0.494  -0.9208 -1.0415]]\n",
        "\n",
        "Their corresponding Y-values are:\n",
        "[1. 0. 1. 0.]\n",
        "~~~\n",
        "\n",
        "By inspection, you can see the X-values have been converted in their Z-score. Notice that z-scores are small values, near `0`, that can be both positive or negative. A z-score that is positive, it means that its original value was greater than column's average (mean). A z-score that is negative means that its original value was less than column's average (mean). If by chance, a you find a z-score = 0.00000, that means the original value just happen to exactly the same value as the mean."
      ]
    },
    {
      "cell_type": "markdown",
      "metadata": {
        "id": "ICz77SbCdgBX"
      },
      "source": [
        "---------------------------------\n",
        "\n",
        "## **Z-scores**\n",
        "\n",
        "Z-scores are a method of standardizing values by expressing them in terms of standard deviations from the mean. To calculate a z-score, you subtract the mean of the dataset from a specific value and then divide by the standard deviation. This normalization process allows for comparison of values across different datasets and variables, as it puts everything on a common scale.\n",
        "\n",
        "Z-scores are important because they allow for the transformation of raw data into a standardized form, making it easier to interpret and analyze. They can help identirisY outliers in a dataset, determine the relative position of a data point within a distribution, and assess the significance of a particular value compared to the overall dataset. Z-scores are commonly used in various fields such as statistics, finance, and psychology to compare and evaluate data in a meaningful way.\n",
        "\n",
        "---------------------------------"
      ]
    },
    {
      "cell_type": "markdown",
      "metadata": {
        "id": "n3bM6wFidgBX"
      },
      "source": [
        "### **Exercise 2: Preprocess Data for Neural Network Training**\n",
        "\n",
        "In the cell below you are write the code to preprocess the Breast Cancer Wisconsin data in the DataFrame `bcwDF`. Start by generating a list of columns to be used as X, `bcwX_columns`. To do this, begin by dropping the two columns using this line of code:\n",
        "\n",
        "~~~text\n",
        "bcwX_columns = bcwDF.columns.drop('diagnosis').drop('id')`\n",
        "~~~\n",
        "\n",
        "The column `id` should be dropped since it doesn't provide any useful information for making predictions about breast cancer while the column `diagnosis` needs to be dropped since it is the target column (Y).\n",
        "\n",
        "As shown in Example 2, replace the X values in `bcwX_columns` with their z-scores and then generate a Numpy array called `bcwX`.\n",
        "\n",
        "Unlike the Pima data preprocessed in Example 2, the target column `diagnosis` contains the categorical values 'M' for malignant and 'B' for benign. You will need to map the letter 'M' to the integer `1` and the letter `B` to the integer `0`.  \n",
        "\n",
        "You can use the following line of code to combine both the mapping and the creation of the Y feature vector with a single line of code:\n",
        "~~~text\n",
        "# Generate Y feature vector\n",
        "bcwY = bcwDF['diagnosis'].map({'M':1,\"B\":0}).values`\n",
        "~~~\n",
        "\n",
        "Finally, print out the first 4 values in your X and Y feature vectors."
      ]
    },
    {
      "cell_type": "code",
      "execution_count": null,
      "metadata": {
        "id": "eP6gd_DzdgBX"
      },
      "outputs": [],
      "source": [
        "# Insert your code for Exercise 2 here\n",
        "\n"
      ]
    },
    {
      "cell_type": "markdown",
      "metadata": {
        "id": "mo4owJu5dgBX"
      },
      "source": [
        "If your code is correct you should see the following output:"
      ]
    },
    {
      "cell_type": "markdown",
      "metadata": {
        "id": "D-kVfUXgdgBX"
      },
      "source": [
        "~~~text\n",
        "The first 4 X-values are:\n",
        "[[ 1.0971 -2.0733  1.2699  0.9844  1.5685  3.2835  2.6529  2.5325  2.2175\n",
        "   2.2557  2.4897 -0.5653  2.833   2.4876 -0.214   1.3169  0.724   0.6608\n",
        "   1.1488  0.9071  1.8867 -1.3593  2.3036  2.0012  1.3077  2.6167  2.1095\n",
        "   2.2961  2.7506  1.937 ]\n",
        " [ 1.8298 -0.3536  1.686   1.9087 -0.827  -0.4871 -0.0238  0.5481  0.0014\n",
        "  -0.8687  0.4993 -0.8762  0.2633  0.7424 -0.6054 -0.6929 -0.4408  0.2602\n",
        "  -0.8055 -0.0994  1.8059 -0.3692  1.5351  1.8905 -0.3756 -0.4304 -0.1467\n",
        "   1.0871 -0.2439  0.2812]\n",
        " [ 1.5799  0.4562  1.5665  1.5589  0.9422  1.0529  1.3635  2.0372  0.9397\n",
        "  -0.398   1.2287 -0.7801  0.8509  1.1813 -0.297   0.815   0.2131  1.4248\n",
        "   0.237   0.2936  1.5119 -0.024   1.3475  1.4563  0.5274  1.0829  0.855\n",
        "   1.955   1.1523  0.2014]\n",
        " [-0.7689  0.2537 -0.5927 -0.7645  3.2836  3.4029  1.9159  1.4517  2.8674\n",
        "   4.9109  0.3264 -0.1104  0.2866 -0.2884  0.6897  2.7443  0.8195  1.115\n",
        "   4.7327  2.0475 -0.2815  0.134  -0.2499 -0.55    3.3943  3.8934  1.9896\n",
        "   2.1758  6.046   4.935 ]]\n",
        "\n",
        "Their corresponding Y-values are:\n",
        "[1. 1. 1. 1.]\n",
        "~~~"
      ]
    },
    {
      "cell_type": "markdown",
      "metadata": {
        "id": "as4rUCd1K1AP"
      },
      "source": [
        "### Define functions for plotting\n",
        "\n",
        "The code cell below defines two functions that we will used later. The first function, `plot_confusion_matrix()` plots a confusion matrix. The second function, `plot_roc()` plots a ROC chart."
      ]
    },
    {
      "cell_type": "code",
      "execution_count": 5,
      "metadata": {
        "id": "25ys9moDK1AP"
      },
      "outputs": [],
      "source": [
        "# Define functions\n",
        "\n",
        "%matplotlib inline\n",
        "import pandas as pd\n",
        "from sklearn.metrics import roc_curve, auc\n",
        "\n",
        "\n",
        "# Plot a confusion matrix.\n",
        "# cm is the confusion matrix, names are the names of the classes.\n",
        "def plot_confusion_matrix(cm, names, title='Confusion matrix',\n",
        "                            cmap=plt.cm.Blues):\n",
        "    plt.imshow(cm, interpolation='nearest', cmap=cmap)\n",
        "    plt.title(title)\n",
        "    plt.colorbar()\n",
        "    tick_marks = np.arange(len(names))\n",
        "    plt.xticks(tick_marks, names, rotation=45)\n",
        "    plt.yticks(tick_marks, names)\n",
        "    plt.tight_layout()\n",
        "    plt.ylabel('True label')\n",
        "    plt.xlabel('Predicted label')\n",
        "\n",
        "\n",
        "# Plot an ROC. pred - the predictions, y - the expected output.\n",
        "def plot_roc(pred,y):\n",
        "    fpr, tpr, _ = roc_curve(y, pred)\n",
        "    roc_auc = auc(fpr, tpr)\n",
        "\n",
        "    plt.figure()\n",
        "    plt.plot(fpr, tpr, label='ROC curve (area = %0.2f)' % roc_auc)\n",
        "    plt.plot([0, 1], [0, 1], 'k--')\n",
        "    plt.xlim([0.0, 1.0])\n",
        "    plt.ylim([0.0, 1.05])\n",
        "    plt.xlabel('False Positive Rate')\n",
        "    plt.ylabel('True Positive Rate')\n",
        "    plt.title('Receiver Operating Characteristic (ROC)')\n",
        "    plt.legend(loc=\"lower right\")\n",
        "    plt.show()"
      ]
    },
    {
      "cell_type": "markdown",
      "metadata": {
        "id": "m02dTEbldgBX"
      },
      "source": [
        "There should be no output when you run the code cell above."
      ]
    },
    {
      "cell_type": "markdown",
      "metadata": {
        "id": "wQsttEMKdgBX"
      },
      "source": [
        "### Example 3: Construct, Compile and Train Binary Classification Neural Network\n",
        "\n",
        "The code in the cell below, uses the Keras/Tensorflow libraries to construct, compile and train a binary classificantion neural network called `pidModel` with 3 hidden layers.\n",
        "\n",
        "The model `pidModel` is designed to predict whether a women has Type II diabetes based on a several clinical measures. The model is trained (fitted) to the clinical data stored in the feature vectors `pidX` and `pidY`. A monitor function, `pidMonitor`, is also created. This monitor function to allow for Early Stopping when the validation loss fails to improve after waiting for 10 epochs. Training (fitting) is set for 1000 epochs, but the training will stop before reaching 1000 due to Early Stopping.\n"
      ]
    },
    {
      "cell_type": "code",
      "execution_count": 6,
      "metadata": {
        "id": "tchQMWrIK1AQ",
        "colab": {
          "base_uri": "https://localhost:8080/"
        },
        "outputId": "4c9f6290-2294-4ae9-8075-ca5a631975e2"
      },
      "outputs": [
        {
          "output_type": "stream",
          "name": "stdout",
          "text": [
            "Epoch 1/1000\n",
            "18/18 - 3s - 152ms/step - accuracy: 0.6615 - loss: 0.6891 - precision: 0.5833 - recall: 0.0704 - val_accuracy: 0.6354 - val_loss: 0.6828 - val_precision: 0.0000e+00 - val_recall: 0.0000e+00\n",
            "Epoch 2/1000\n",
            "18/18 - 1s - 42ms/step - accuracy: 0.6858 - loss: 0.6622 - precision: 0.7500 - recall: 0.1357 - val_accuracy: 0.7135 - val_loss: 0.6367 - val_precision: 0.7333 - val_recall: 0.3188\n",
            "Epoch 3/1000\n",
            "18/18 - 0s - 8ms/step - accuracy: 0.7500 - loss: 0.5714 - precision: 0.8313 - recall: 0.3467 - val_accuracy: 0.7396 - val_loss: 0.5529 - val_precision: 0.7568 - val_recall: 0.4058\n",
            "Epoch 4/1000\n",
            "18/18 - 0s - 9ms/step - accuracy: 0.7622 - loss: 0.4884 - precision: 0.7541 - recall: 0.4623 - val_accuracy: 0.7500 - val_loss: 0.5376 - val_precision: 0.6615 - val_recall: 0.6232\n",
            "Epoch 5/1000\n",
            "18/18 - 0s - 8ms/step - accuracy: 0.7847 - loss: 0.4648 - precision: 0.6943 - recall: 0.6734 - val_accuracy: 0.7083 - val_loss: 0.5348 - val_precision: 0.5823 - val_recall: 0.6667\n",
            "Epoch 6/1000\n",
            "18/18 - 0s - 7ms/step - accuracy: 0.7830 - loss: 0.4492 - precision: 0.7126 - recall: 0.6231 - val_accuracy: 0.7396 - val_loss: 0.5358 - val_precision: 0.6301 - val_recall: 0.6667\n",
            "Epoch 7/1000\n",
            "18/18 - 0s - 9ms/step - accuracy: 0.7882 - loss: 0.4392 - precision: 0.7151 - recall: 0.6432 - val_accuracy: 0.7500 - val_loss: 0.5301 - val_precision: 0.6479 - val_recall: 0.6667\n",
            "Epoch 8/1000\n",
            "18/18 - 0s - 14ms/step - accuracy: 0.7917 - loss: 0.4340 - precision: 0.7232 - recall: 0.6432 - val_accuracy: 0.7500 - val_loss: 0.5341 - val_precision: 0.6522 - val_recall: 0.6522\n",
            "Epoch 9/1000\n",
            "18/18 - 1s - 36ms/step - accuracy: 0.7917 - loss: 0.4291 - precision: 0.7207 - recall: 0.6482 - val_accuracy: 0.7448 - val_loss: 0.5393 - val_precision: 0.6429 - val_recall: 0.6522\n",
            "Epoch 10/1000\n",
            "18/18 - 0s - 20ms/step - accuracy: 0.7899 - loss: 0.4267 - precision: 0.7378 - recall: 0.6080 - val_accuracy: 0.7448 - val_loss: 0.5433 - val_precision: 0.6429 - val_recall: 0.6522\n",
            "Epoch 11/1000\n",
            "18/18 - 0s - 27ms/step - accuracy: 0.7917 - loss: 0.4240 - precision: 0.7207 - recall: 0.6482 - val_accuracy: 0.7448 - val_loss: 0.5476 - val_precision: 0.6429 - val_recall: 0.6522\n",
            "Epoch 12/1000\n",
            "18/18 - 0s - 21ms/step - accuracy: 0.7899 - loss: 0.4233 - precision: 0.7167 - recall: 0.6482 - val_accuracy: 0.7500 - val_loss: 0.5416 - val_precision: 0.6522 - val_recall: 0.6522\n",
            "Epoch 12: early stopping\n",
            "Restoring model weights from the end of the best epoch: 7.\n"
          ]
        },
        {
          "output_type": "execute_result",
          "data": {
            "text/plain": [
              "<keras.src.callbacks.history.History at 0x7ea54143eb10>"
            ]
          },
          "metadata": {},
          "execution_count": 6
        }
      ],
      "source": [
        "# Example 3: Construct, Compile and Train\n",
        "\n",
        "from keras.models import Sequential\n",
        "from keras.layers import Dense, Input\n",
        "from keras.callbacks import EarlyStopping\n",
        "from keras.optimizers import Adam\n",
        "from keras.metrics import Precision, Recall\n",
        "\n",
        "import numpy as np\n",
        "from sklearn.model_selection import train_test_split\n",
        "\n",
        "# Split into train/test---------------------------------------------------------\n",
        "pidX_train, pidX_test, pidY_train, pidY_test = train_test_split(\n",
        "    pidX, pidY, test_size=0.25, random_state=42)\n",
        "\n",
        "# Construct model---------------------------------------------------------------\n",
        "pidModel = Sequential()\n",
        "pidModel.add(Input(shape=(pidX.shape[1],)))\n",
        "pidModel.add(Dense(100, activation='relu', kernel_initializer='random_normal'))\n",
        "pidModel.add(Dense(50,activation='relu',kernel_initializer='random_normal'))\n",
        "pidModel.add(Dense(25,activation='relu',kernel_initializer='random_normal'))\n",
        "pidModel.add(Dense(1,activation='sigmoid',kernel_initializer='random_normal'))\n",
        "\n",
        "# Compile model------------------------------------------------------------------\n",
        "pidModel.compile(\n",
        "    loss='binary_crossentropy',\n",
        "    optimizer=Adam(learning_rate=0.001),  # SpecirisY learning rate\n",
        "    metrics=['accuracy', Precision(), Recall()]  # Add additional metrics\n",
        ")\n",
        "\n",
        "# Create monitor------------------------------------------------------------------\n",
        "pidMonitor = EarlyStopping(monitor='val_loss', min_delta=1e-3,\n",
        "    patience=5, verbose=1, mode='auto', restore_best_weights=True)\n",
        "\n",
        "# Train model---------------------------------------------------------------------\n",
        "pidModel.fit(pidX_train,pidY_train,validation_data=(pidX_test,pidY_test),\n",
        "          callbacks=[pidMonitor],verbose=2,epochs=1000)\n"
      ]
    },
    {
      "cell_type": "markdown",
      "metadata": {
        "id": "KZRdcE3gdgBY"
      },
      "source": [
        "If your code is correct you should see something similiar to the output below:\n",
        "~~~text\n",
        "Epoch 1/1000\n",
        "18/18 - 2s - 123ms/step - accuracy: 0.6458 - loss: 0.6905 - precision: 0.4684 - recall: 0.1859 - val_accuracy: 0.6771 - val_loss: 0.6873 - val_precision: 0.8182 - val_recall: 0.1304\n",
        "Epoch 2/1000\n",
        "18/18 - 0s - 5ms/step - accuracy: 0.7361 - loss: 0.6767 - precision: 0.8133 - recall: 0.3065 - val_accuracy: 0.7396 - val_loss: 0.6620 - val_precision: 0.7111 - val_recall: 0.4638\n",
        "Epoch 3/1000\n",
        "18/18 - 0s - 8ms/step - accuracy: 0.7674 - loss: 0.6137 - precision: 0.7241 - recall: 0.5276 - val_accuracy: 0.7344 - val_loss: 0.5768 - val_precision: 0.6500 - val_recall: 0.5652\n",
        "Epoch 4/1000\n",
        "18/18 - 0s - 7ms/step - accuracy: 0.7760 - loss: 0.5007 - precision: 0.7303 - recall: 0.5578 - val_accuracy: 0.7344 - val_loss: 0.5265 - val_precision: 0.6286 - val_recall: 0.6377\n",
        "Epoch 5/1000\n",
        "18/18 - 0s - 4ms/step - accuracy: 0.7865 - loss: 0.4554 - precision: 0.7021 - recall: 0.6633 - val_accuracy: 0.7240 - val_loss: 0.5378 - val_precision: 0.6111 - val_recall: 0.6377\n",
        "Epoch 6/1000\n",
        "18/18 - 0s - 8ms/step - accuracy: 0.7865 - loss: 0.4413 - precision: 0.7262 - recall: 0.6131 - val_accuracy: 0.7552 - val_loss: 0.5288 - val_precision: 0.6618 - val_recall: 0.6522\n",
        "Epoch 7/1000\n",
        "18/18 - 0s - 5ms/step - accuracy: 0.7795 - loss: 0.4353 - precision: 0.7195 - recall: 0.5930 - val_accuracy: 0.7396 - val_loss: 0.5378 - val_precision: 0.6338 - val_recall: 0.6522\n",
        "Epoch 8/1000\n",
        "18/18 - 0s - 7ms/step - accuracy: 0.7865 - loss: 0.4290 - precision: 0.7235 - recall: 0.6181 - val_accuracy: 0.7396 - val_loss: 0.5389 - val_precision: 0.6338 - val_recall: 0.6522\n",
        "Epoch 9/1000\n",
        "18/18 - 0s - 8ms/step - accuracy: 0.7847 - loss: 0.4260 - precision: 0.7119 - recall: 0.6332 - val_accuracy: 0.7396 - val_loss: 0.5416 - val_precision: 0.6338 - val_recall: 0.6522\n",
        "Epoch 9: early stopping\n",
        "Restoring model weights from the end of the best epoch: 4.\n",
        "<keras.src.callbacks.history.History at 0x7acd9803df30>\n",
        "~~~\n",
        "\n",
        "In this instance, the model `pidModel` reached a minimum validation loss (`val_loss: 0.54164`) after only 9 epochs!"
      ]
    },
    {
      "cell_type": "markdown",
      "metadata": {
        "id": "2dkdb4s5dgBY"
      },
      "source": [
        "### **Exercise 3: Construct, Compile and Train Binary Classification Neural Network**\n",
        "\n",
        "In the cell below, use the Keras libraries to construct, compile and train a binary classificantion neural network called `bcwModel` with 3 hidden layers using Example 3 as a template.\n",
        "\n",
        "Your model should be designed to predict whether a breast tumor is cancerous (malignant) or benign after fitting it to the clinical data stored in the feature vectors `bcwX` and `bcwY`.\n",
        "\n",
        "Create a monitor function called `bcwMonitor` to allow for EarlyStopping when validation loss fails to improve after waiting for 10 epochs. Set the training (fitting) for 1000 epochs.\n"
      ]
    },
    {
      "cell_type": "code",
      "execution_count": null,
      "metadata": {
        "id": "7NRJnqakdgBY"
      },
      "outputs": [],
      "source": [
        "# Insert your code for Exercise 3 here:\n",
        "\n",
        "\n"
      ]
    },
    {
      "cell_type": "markdown",
      "metadata": {
        "id": "yFhKH-AjdgBY"
      },
      "source": [
        "If your code is correct you should see something similiar to the following output:\n",
        "\n",
        "~~~text\n",
        "Epoch 10/1000\n",
        "14/14 - 0s - 10ms/step - accuracy: 0.9836 - loss: 0.0549 - precision_2: 0.9809 - recall_2: 0.9747 - val_accuracy: 0.9860 - val_loss: 0.0484 - val_precision_2: 0.9815 - val_recall_2: 0.9815\n",
        "Epoch 11/1000\n",
        "14/14 - 0s - 10ms/step - accuracy: 0.9859 - loss: 0.0503 - precision_2: 0.9872 - recall_2: 0.9747 - val_accuracy: 0.9860 - val_loss: 0.0479 - val_precision_2: 0.9815 - val_recall_2: 0.9815\n",
        "Epoch 12/1000\n",
        "14/14 - 0s - 7ms/step - accuracy: 0.9859 - loss: 0.0460 - precision_2: 0.9810 - recall_2: 0.9810 - val_accuracy: 0.9860 - val_loss: 0.0478 - val_precision_2: 0.9815 - val_recall_2: 0.9815\n",
        "Epoch 13/1000\n",
        "14/14 - 0s - 11ms/step - accuracy: 0.9859 - loss: 0.0427 - precision_2: 0.9810 - recall_2: 0.9810 - val_accuracy: 0.9860 - val_loss: 0.0519 - val_precision_2: 0.9815 - val_recall_2: 0.9815\n",
        "Epoch 14/1000\n",
        "14/14 - 0s - 6ms/step - accuracy: 0.9906 - loss: 0.0375 - precision_2: 0.9936 - recall_2: 0.9810 - val_accuracy: 0.9860 - val_loss: 0.0500 - val_precision_2: 0.9815 - val_recall_2: 0.9815\n",
        "Epoch 15/1000\n",
        "14/14 - 0s - 6ms/step - accuracy: 0.9906 - loss: 0.0359 - precision_2: 1.0000 - recall_2: 0.9747 - val_accuracy: 0.9860 - val_loss: 0.0523 - val_precision_2: 0.9815 - val_recall_2: 0.9815\n",
        "Epoch 15: early stopping\n",
        "Restoring model weights from the end of the best epoch: 10.\n",
        "<keras.src.callbacks.history.History at 0x7e22734a70a0>\n",
        "~~~\n",
        "In this instance, your model `bcwModel` reached a minimum validation loss (` val_loss: 0.0484`) after only 1o epochs.\n"
      ]
    },
    {
      "cell_type": "markdown",
      "metadata": {
        "id": "Tv0LnKwhdgBY"
      },
      "source": [
        "-----------------------------------------\n",
        "\n",
        "## **ROC Curves**\n",
        "\n",
        "**_Receiver Operating Characteristic (ROC) Curve_** is a graphical representation that illustrates the diagnostic ability of a binary classification system as its discrimination threshold is varied. The ROC curve plots the true positive rate (Sensitivity) against the false positive rate (1-Specificity) for various threshold values, showing the trade-off between sensitivity and specificity.\n",
        "\n",
        "The ROC curve is important in evaluating the performance of diagnostic tests or classification models as it provides a comprehensive assessment of their ability to discriminate between positive and negative cases. Some key reasons why ROC curves are important include:\n",
        "\n",
        "* **Quantitative Measure:** ROC curves provide a quantitative measure of the diagnostic accuracy of a test by summarizing its performance across all possible thresholds.\n",
        "\n",
        "* **Comparison:** ROC curves allow for a direct comparison of different tests or models based on their area under the curve (AUC), where a higher AUC indicates better overall performance.\n",
        "\n",
        "* **Threshold Selection:** ROC curves help in selecting the optimal threshold for classification that balances sensitivity and specificity based on the specific requirements of the application.\n",
        "\n",
        "* **Visual Representation:** The visual nature of ROC curves facilitates a clear understanding of the trade-offs between sensitivity and specificity, aiding in decision-making and interpretation of test results.\n",
        "\n",
        "--------------------------------------\n"
      ]
    },
    {
      "cell_type": "markdown",
      "metadata": {
        "id": "JDyGw6MrdgBb"
      },
      "source": [
        "### Example 4: Plot ROC curve for the Model\n",
        "\n",
        "The code in the cell below uses the model, `pidModel`, to **_predict_** whether each of the 192 women who were randomly placed in the `pidX_test` dataset, had Type II diabetes based on their clinical values.\n",
        "\n",
        "It then sends these predictions all with the women's actual diagnosis, stored in `bcwY_test`, to the plotting function, `plot_roc()` defined earlier in this lesson.\n",
        "\n",
        "Using the predicted and the actual values, the plotting function generates an ROC curve for the `pidModel` model.  "
      ]
    },
    {
      "cell_type": "code",
      "execution_count": 7,
      "metadata": {
        "id": "_95P1kTBK1AQ",
        "colab": {
          "base_uri": "https://localhost:8080/",
          "height": 489
        },
        "outputId": "63e06032-c9a7-4a38-cf5b-9a9c3c7b129a"
      },
      "outputs": [
        {
          "output_type": "stream",
          "name": "stdout",
          "text": [
            "\u001b[1m6/6\u001b[0m \u001b[32m━━━━━━━━━━━━━━━━━━━━\u001b[0m\u001b[37m\u001b[0m \u001b[1m0s\u001b[0m 6ms/step \n"
          ]
        },
        {
          "output_type": "display_data",
          "data": {
            "text/plain": [
              "<Figure size 640x480 with 1 Axes>"
            ],
            "image/png": "[encoded data removed]"
          },
          "metadata": {}
        }
      ],
      "source": [
        "# Example 4: Plot ROC curve\n",
        "\n",
        "# Use model to generate predictions\n",
        "pidPred = pidModel.predict(pidX_test)\n",
        "\n",
        "# Plot model predictions against actual values\n",
        "plot_roc(pidPred,pidY_test)"
      ]
    },
    {
      "cell_type": "markdown",
      "metadata": {
        "id": "OO9kI1lmdgBb"
      },
      "source": [
        "Here is an annotated version of a similar ROC plot from the `pidModel` model.\n",
        "\n",
        "![ROC Curve ](https://biologicslab.co/BIO1173/images/class_04_2_ROC1B.png)"
      ]
    },
    {
      "cell_type": "markdown",
      "metadata": {
        "id": "RNDL-NK0dgBb"
      },
      "source": [
        "### ROC Curve: Receiver Operating Characteristic Curve\n",
        "\n",
        "ROC curve stands for \"Receiver Operating Characteristic Curve\". The ROC Curve above shows the performance of the classification model `piModel` at all classification thresholds for predicting whether a Pima women has Type II diabetes.\n",
        "\n",
        "This curve plots two parameters:\n",
        "\n",
        "* True Positive Rate (Sensitivity)\n",
        "* False Positive Rate\n",
        "\n",
        "**True Positive Rate (TPR)** is a synonym for _sensitivity_ and is defined as follows:\n",
        "\n",
        "$TPR=\\frac{TP}{TP+FN}$\n",
        "\n",
        "In other words, the sensitivity of the model (True Positive Rate) increases to a perfect score (1.0) as the False Negative rate decreases to zero.\n",
        "\n",
        "**False Positive Rate (FPR)** is defined as follows:\n",
        "\n",
        "$FPR=\\frac{FP}{FP+TN}$\n",
        "\n",
        "In other words, the False Positive Rate increases to a perfect score (1.0) as the True Negative rate decreases to zero.\n",
        "\n",
        "An ROC curve plots TPR vs. FPR at different classification thresholds. Lowering the classification threshold classifies more items as positive, thus increasing both False Positives and True Positives.\n",
        "\n",
        "### AUC: Area Under the ROC Curve\n",
        "\n",
        "AUC stands for \"Area under the ROC Curve.\" In the plot above, the area colored light blue is the AUC. AUC measures the entire two-dimensional area underneath the entire ROC curve (think integral calculus) from (0,0) to (1,1).\n",
        "\n",
        "AUC provides an aggregate measure of performance across all possible classification thresholds. One way of interpreting AUC is as the probability that the model ranks a random positive example more highly than a random negative example.\n",
        "\n",
        "AUC ranges in value from 0 to 1. A model whose predictions are 100% wrong has an AUC of 0.0; one whose predictions are 100% correct has an AUC of 1.0. In this example, the AUC of the model `piModel` was 0.80.\n",
        "\n",
        "AUC is desirable for the following two reasons:\n",
        "\n",
        "* AUC is **scale-invariant**. It measures how well predictions are ranked, rather than their absolute values.\n",
        "\n",
        "* AUC is **classification-threshold-invariant**. It measures the quality of the model's predictions irrespective of what classification threshold is chosen."
      ]
    },
    {
      "cell_type": "markdown",
      "metadata": {
        "id": "JXIHTvrNdgBb"
      },
      "source": [
        "### **Exercise 4: Plot ROC curve for the Model**\n",
        "\n",
        "In the cell below write the code to generate a ROC plot of your Breast Cancer classsification model, `bcwModel`."
      ]
    },
    {
      "cell_type": "code",
      "execution_count": null,
      "metadata": {
        "scrolled": true,
        "id": "rBouqiC1dgBb"
      },
      "outputs": [],
      "source": [
        "# Insert your code for Exercise 4 here\n",
        "\n"
      ]
    },
    {
      "cell_type": "markdown",
      "metadata": {
        "id": "jJsEN4zrdgBc"
      },
      "source": [
        "If code is correct you should see the following ROC curve:\n",
        "\n",
        "![ROCCurve](https://biologicslab.co/BIO1173/images/class_04_2_ROC2a.png)"
      ]
    },
    {
      "cell_type": "markdown",
      "metadata": {
        "id": "m5u0lv7KdgBc"
      },
      "source": [
        "Compared to the Pima classification model, `pidModel`, the ROC curve shows that your Breast Cancer model, `bcwModel` is much more accurate since its AUC (area under the curve) = 1.0."
      ]
    },
    {
      "cell_type": "markdown",
      "metadata": {
        "id": "yElFCdNQK1AR"
      },
      "source": [
        "## **Multiclass Classification Error Metrics**\n",
        "\n",
        "If you want to predict more than one outcome, you will need more than one output neuron. Because a single neuron can predict two results, (e.g. `0` for \"no\", `1` for \"yes\") neural networks with only two output neurons are somewhat rare.\n",
        "\n",
        "However, with three or more outcomes, there will be three or more output neurons. The following sections will examine several metrics for evaluating classification error in multiclass situtations."
      ]
    },
    {
      "cell_type": "markdown",
      "metadata": {
        "id": "enz-GpPQdgBc"
      },
      "source": [
        "--------------------------------------\n",
        "\n",
        "## ST Segment\n",
        "\n",
        "(This vignette is from the [article](https://litfl.com/st-segment-ecg-library/) by Ed Burns and Robert Buttner, Mar 16, 2022)\n",
        "\n",
        "The **_ST segment_** is the flat, isoelectric section of the ECG between the end of the S wave (the J point) and the beginning of the T wave.\n",
        "\n",
        "* The ST Segment represents the interval between ventricular depolarization and repolarization.\n",
        "* The most important cause of ST segment abnormality (elevation or depression) is **myocardial ischaemia** or **infarction**.\n",
        "\n",
        "![ST Segment](https://biologicslab.co/BIO1173/images/ECG_ST.jpg)\n",
        "\n",
        "**Causes of ST Segment Elevation**\n",
        "\n",
        "* [Acute myocardial infarction](https://litfl.com/anterior-myocardial-infarction-ecg-library/)\n",
        "* [Coronary vasospasm (Printzmetal’s angina)](https://www.ncbi.nlm.nih.gov/pubmed/15293589)\n",
        "* [Pericarditis](https://litfl.com/pericarditis-ecg-library/)\n",
        "* [Benign early repolarization](https://litfl.com/benign-early-repolarisation-ecg-library/)\n",
        "* [Left bundle branch block](https://litfl.com/left-bundle-branch-block-lbbb-ecg-library/)\n",
        "* [Left ventricular hypertrophy](https://litfl.com/left-bundle-branch-block-lbbb-ecg-library/)\n",
        "* [Ventricular aneurysm](https://litfl.com/left-ventricular-aneursym-ecg-library/)\n",
        "* [Brugada syndrome](https://litfl.com/brugada-syndrome-ecg-library/)\n",
        "* [Ventricular paced rhythm](https://litfl.com/pacemaker-rhythms-normal-patterns/)\n",
        "* [Raised intracranial pressure](https://litfl.com/raised-intracranial-pressure-ecg-library/)\n",
        "* [Takotsubo Cardiomyopathy](https://litfl.com/tako-tsubo-cardiomyopathy-ecg-library/)\n",
        "\n",
        "---------------------------------------"
      ]
    },
    {
      "cell_type": "markdown",
      "metadata": {
        "id": "lHZgyIuMdgBc"
      },
      "source": [
        "### Example 5: Read Datafile and Create DataFrame\n",
        "\n",
        "For the next section in this lesson, we will be using the Heart Disease dataset for the Examples. The data file, `heart_disease.csv` is located on the course HTTPS server, located in the following filepath: `/BIO1173/data/`. The code below shows how to read this data file and store the information in a new DataFrame called `ecgDF`. We will generate a new DataFrame to prevent problems with the previous manipulations of this dataset.\n",
        "\n",
        "Since we want to explore ***Multi*class Classification Error Metrics**, we will use `RestingECG` as our target column (Y). We will want to include the `HeartDisease` column as part of the independent variables (X).\n",
        "\n",
        "The column `RestingECG` has the 3 following categorical values: `Normal`, `ST` (ST segment elevation), `LVH` (left ventricular hypertropy). Consequently, our classification neural network model will have **_3_** output neurons--one for each category.\n",
        "   "
      ]
    },
    {
      "cell_type": "code",
      "execution_count": 8,
      "metadata": {
        "scrolled": true,
        "id": "BuRRSbPadgBc",
        "colab": {
          "base_uri": "https://localhost:8080/",
          "height": 298
        },
        "outputId": "5645850d-f3f8-4238-f8e1-f73db6201287"
      },
      "outputs": [
        {
          "output_type": "display_data",
          "data": {
            "text/plain": [
              "     Age Sex ChestPainType  ...  Oldpeak  ST_Slope  HeartDisease\n",
              "0     40   M           ATA  ...      0.0        Up             0\n",
              "1     49   F           NAP  ...      1.0      Flat             1\n",
              "2     37   M           ATA  ...      0.0        Up             0\n",
              "..   ...  ..           ...  ...      ...       ...           ...\n",
              "915   57   M           ASY  ...      1.2      Flat             1\n",
              "916   57   F           ATA  ...      0.0      Flat             1\n",
              "917   38   M           NAP  ...      0.0        Up             0\n",
              "\n",
              "[918 rows x 12 columns]"
            ],
            "text/html": [
              "\n",
              "  <div id=\"df-108721f3-d0ab-4574-8cb3-1e7ac439e54e\" class=\"colab-df-container\">\n",
              "    <div>\n",
              "<style scoped>\n",
              "    .dataframe tbody tr th:only-of-type {\n",
              "        vertical-align: middle;\n",
              "    }\n",
              "\n",
              "    .dataframe tbody tr th {\n",
              "        vertical-align: top;\n",
              "    }\n",
              "\n",
              "    .dataframe thead th {\n",
              "        text-align: right;\n",
              "    }\n",
              "</style>\n",
              "<table border=\"1\" class=\"dataframe\">\n",
              "  <thead>\n",
              "    <tr style=\"text-align: right;\">\n",
              "      <th></th>\n",
              "      <th>Age</th>\n",
              "      <th>Sex</th>\n",
              "      <th>ChestPainType</th>\n",
              "      <th>...</th>\n",
              "      <th>Oldpeak</th>\n",
              "      <th>ST_Slope</th>\n",
              "      <th>HeartDisease</th>\n",
              "    </tr>\n",
              "  </thead>\n",
              "  <tbody>\n",
              "    <tr>\n",
              "      <th>0</th>\n",
              "      <td>40</td>\n",
              "      <td>M</td>\n",
              "      <td>ATA</td>\n",
              "      <td>...</td>\n",
              "      <td>0.0</td>\n",
              "      <td>Up</td>\n",
              "      <td>0</td>\n",
              "    </tr>\n",
              "    <tr>\n",
              "      <th>1</th>\n",
              "      <td>49</td>\n",
              "      <td>F</td>\n",
              "      <td>NAP</td>\n",
              "      <td>...</td>\n",
              "      <td>1.0</td>\n",
              "      <td>Flat</td>\n",
              "      <td>1</td>\n",
              "    </tr>\n",
              "    <tr>\n",
              "      <th>2</th>\n",
              "      <td>37</td>\n",
              "      <td>M</td>\n",
              "      <td>ATA</td>\n",
              "      <td>...</td>\n",
              "      <td>0.0</td>\n",
              "      <td>Up</td>\n",
              "      <td>0</td>\n",
              "    </tr>\n",
              "    <tr>\n",
              "      <th>...</th>\n",
              "      <td>...</td>\n",
              "      <td>...</td>\n",
              "      <td>...</td>\n",
              "      <td>...</td>\n",
              "      <td>...</td>\n",
              "      <td>...</td>\n",
              "      <td>...</td>\n",
              "    </tr>\n",
              "    <tr>\n",
              "      <th>915</th>\n",
              "      <td>57</td>\n",
              "      <td>M</td>\n",
              "      <td>ASY</td>\n",
              "      <td>...</td>\n",
              "      <td>1.2</td>\n",
              "      <td>Flat</td>\n",
              "      <td>1</td>\n",
              "    </tr>\n",
              "    <tr>\n",
              "      <th>916</th>\n",
              "      <td>57</td>\n",
              "      <td>F</td>\n",
              "      <td>ATA</td>\n",
              "      <td>...</td>\n",
              "      <td>0.0</td>\n",
              "      <td>Flat</td>\n",
              "      <td>1</td>\n",
              "    </tr>\n",
              "    <tr>\n",
              "      <th>917</th>\n",
              "      <td>38</td>\n",
              "      <td>M</td>\n",
              "      <td>NAP</td>\n",
              "      <td>...</td>\n",
              "      <td>0.0</td>\n",
              "      <td>Up</td>\n",
              "      <td>0</td>\n",
              "    </tr>\n",
              "  </tbody>\n",
              "</table>\n",
              "<p>918 rows × 12 columns</p>\n",
              "</div>\n",
              "    <div class=\"colab-df-buttons\">\n",
              "\n",
              "  <div class=\"colab-df-container\">\n",
              "    <button class=\"colab-df-convert\" onclick=\"convertToInteractive('df-108721f3-d0ab-4574-8cb3-1e7ac439e54e')\"\n",
              "            title=\"Convert this dataframe to an interactive table.\"\n",
              "            style=\"display:none;\">\n",
              "\n",
              "  <svg xmlns=\"http://www.w3.org/2000/svg\" height=\"24px\" viewBox=\"0 -960 960 960\">\n",
              "    <path d=\"M120-120v-720h720v720H120Zm60-500h600v-160H180v160Zm220 220h160v-160H400v160Zm0 220h160v-160H400v160ZM180-400h160v-160H180v160Zm440 0h160v-160H620v160ZM180-180h160v-160H180v160Zm440 0h160v-160H620v160Z\"/>\n",
              "  </svg>\n",
              "    </button>\n",
              "\n",
              "  <style>\n",
              "    .colab-df-container {\n",
              "      display:flex;\n",
              "      gap: 12px;\n",
              "    }\n",
              "\n",
              "    .colab-df-convert {\n",
              "      background-color: #E8F0FE;\n",
              "      border: none;\n",
              "      border-radius: 50%;\n",
              "      cursor: pointer;\n",
              "      display: none;\n",
              "      fill: #1967D2;\n",
              "      height: 32px;\n",
              "      padding: 0 0 0 0;\n",
              "      width: 32px;\n",
              "    }\n",
              "\n",
              "    .colab-df-convert:hover {\n",
              "      background-color: #E2EBFA;\n",
              "      box-shadow: 0px 1px 2px rgba(60, 64, 67, 0.3), 0px 1px 3px 1px rgba(60, 64, 67, 0.15);\n",
              "      fill: #174EA6;\n",
              "    }\n",
              "\n",
              "    .colab-df-buttons div {\n",
              "      margin-bottom: 4px;\n",
              "    }\n",
              "\n",
              "    [theme=dark] .colab-df-convert {\n",
              "      background-color: #3B4455;\n",
              "      fill: #D2E3FC;\n",
              "    }\n",
              "\n",
              "    [theme=dark] .colab-df-convert:hover {\n",
              "      background-color: #434B5C;\n",
              "      box-shadow: 0px 1px 3px 1px rgba(0, 0, 0, 0.15);\n",
              "      filter: drop-shadow(0px 1px 2px rgba(0, 0, 0, 0.3));\n",
              "      fill: #FFFFFF;\n",
              "    }\n",
              "  </style>\n",
              "\n",
              "    <script>\n",
              "      const buttonEl =\n",
              "        document.querySelector('#df-108721f3-d0ab-4574-8cb3-1e7ac439e54e button.colab-df-convert');\n",
              "      buttonEl.style.display =\n",
              "        google.colab.kernel.accessAllowed ? 'block' : 'none';\n",
              "\n",
              "      async function convertToInteractive(key) {\n",
              "        const element = document.querySelector('#df-108721f3-d0ab-4574-8cb3-1e7ac439e54e');\n",
              "        const dataTable =\n",
              "          await google.colab.kernel.invokeFunction('convertToInteractive',\n",
              "                                                    [key], {});\n",
              "        if (!dataTable) return;\n",
              "\n",
              "        const docLinkHtml = 'Like what you see? Visit the ' +\n",
              "          '<a target=\"_blank\" href=https://colab.research.google.com/notebooks/data_table.ipynb>data table notebook</a>'\n",
              "          + ' to learn more about interactive tables.';\n",
              "        element.innerHTML = '';\n",
              "        dataTable['output_type'] = 'display_data';\n",
              "        await google.colab.output.renderOutput(dataTable, element);\n",
              "        const docLink = document.createElement('div');\n",
              "        docLink.innerHTML = docLinkHtml;\n",
              "        element.appendChild(docLink);\n",
              "      }\n",
              "    </script>\n",
              "  </div>\n",
              "\n",
              "\n",
              "<div id=\"df-f146f65c-7534-4974-9314-bf3281c4b02a\">\n",
              "  <button class=\"colab-df-quickchart\" onclick=\"quickchart('df-f146f65c-7534-4974-9314-bf3281c4b02a')\"\n",
              "            title=\"Suggest charts\"\n",
              "            style=\"display:none;\">\n",
              "\n",
              "<svg xmlns=\"http://www.w3.org/2000/svg\" height=\"24px\"viewBox=\"0 0 24 24\"\n",
              "     width=\"24px\">\n",
              "    <g>\n",
              "        <path d=\"M19 3H5c-1.1 0-2 .9-2 2v14c0 1.1.9 2 2 2h14c1.1 0 2-.9 2-2V5c0-1.1-.9-2-2-2zM9 17H7v-7h2v7zm4 0h-2V7h2v10zm4 0h-2v-4h2v4z\"/>\n",
              "    </g>\n",
              "</svg>\n",
              "  </button>\n",
              "\n",
              "<style>\n",
              "  .colab-df-quickchart {\n",
              "      --bg-color: #E8F0FE;\n",
              "      --fill-color: #1967D2;\n",
              "      --hover-bg-color: #E2EBFA;\n",
              "      --hover-fill-color: #174EA6;\n",
              "      --disabled-fill-color: #AAA;\n",
              "      --disabled-bg-color: #DDD;\n",
              "  }\n",
              "\n",
              "  [theme=dark] .colab-df-quickchart {\n",
              "      --bg-color: #3B4455;\n",
              "      --fill-color: #D2E3FC;\n",
              "      --hover-bg-color: #434B5C;\n",
              "      --hover-fill-color: #FFFFFF;\n",
              "      --disabled-bg-color: #3B4455;\n",
              "      --disabled-fill-color: #666;\n",
              "  }\n",
              "\n",
              "  .colab-df-quickchart {\n",
              "    background-color: var(--bg-color);\n",
              "    border: none;\n",
              "    border-radius: 50%;\n",
              "    cursor: pointer;\n",
              "    display: none;\n",
              "    fill: var(--fill-color);\n",
              "    height: 32px;\n",
              "    padding: 0;\n",
              "    width: 32px;\n",
              "  }\n",
              "\n",
              "  .colab-df-quickchart:hover {\n",
              "    background-color: var(--hover-bg-color);\n",
              "    box-shadow: 0 1px 2px rgba(60, 64, 67, 0.3), 0 1px 3px 1px rgba(60, 64, 67, 0.15);\n",
              "    fill: var(--button-hover-fill-color);\n",
              "  }\n",
              "\n",
              "  .colab-df-quickchart-complete:disabled,\n",
              "  .colab-df-quickchart-complete:disabled:hover {\n",
              "    background-color: var(--disabled-bg-color);\n",
              "    fill: var(--disabled-fill-color);\n",
              "    box-shadow: none;\n",
              "  }\n",
              "\n",
              "  .colab-df-spinner {\n",
              "    border: 2px solid var(--fill-color);\n",
              "    border-color: transparent;\n",
              "    border-bottom-color: var(--fill-color);\n",
              "    animation:\n",
              "      spin 1s steps(1) infinite;\n",
              "  }\n",
              "\n",
              "  @keyframes spin {\n",
              "    0% {\n",
              "      border-color: transparent;\n",
              "      border-bottom-color: var(--fill-color);\n",
              "      border-left-color: var(--fill-color);\n",
              "    }\n",
              "    20% {\n",
              "      border-color: transparent;\n",
              "      border-left-color: var(--fill-color);\n",
              "      border-top-color: var(--fill-color);\n",
              "    }\n",
              "    30% {\n",
              "      border-color: transparent;\n",
              "      border-left-color: var(--fill-color);\n",
              "      border-top-color: var(--fill-color);\n",
              "      border-right-color: var(--fill-color);\n",
              "    }\n",
              "    40% {\n",
              "      border-color: transparent;\n",
              "      border-right-color: var(--fill-color);\n",
              "      border-top-color: var(--fill-color);\n",
              "    }\n",
              "    60% {\n",
              "      border-color: transparent;\n",
              "      border-right-color: var(--fill-color);\n",
              "    }\n",
              "    80% {\n",
              "      border-color: transparent;\n",
              "      border-right-color: var(--fill-color);\n",
              "      border-bottom-color: var(--fill-color);\n",
              "    }\n",
              "    90% {\n",
              "      border-color: transparent;\n",
              "      border-bottom-color: var(--fill-color);\n",
              "    }\n",
              "  }\n",
              "</style>\n",
              "\n",
              "  <script>\n",
              "    async function quickchart(key) {\n",
              "      const quickchartButtonEl =\n",
              "        document.querySelector('#' + key + ' button');\n",
              "      quickchartButtonEl.disabled = true;  // To prevent multiple clicks.\n",
              "      quickchartButtonEl.classList.add('colab-df-spinner');\n",
              "      try {\n",
              "        const charts = await google.colab.kernel.invokeFunction(\n",
              "            'suggestCharts', [key], {});\n",
              "      } catch (error) {\n",
              "        console.error('Error during call to suggestCharts:', error);\n",
              "      }\n",
              "      quickchartButtonEl.classList.remove('colab-df-spinner');\n",
              "      quickchartButtonEl.classList.add('colab-df-quickchart-complete');\n",
              "    }\n",
              "    (() => {\n",
              "      let quickchartButtonEl =\n",
              "        document.querySelector('#df-f146f65c-7534-4974-9314-bf3281c4b02a button');\n",
              "      quickchartButtonEl.style.display =\n",
              "        google.colab.kernel.accessAllowed ? 'block' : 'none';\n",
              "    })();\n",
              "  </script>\n",
              "</div>\n",
              "\n",
              "  <div id=\"id_d342b684-7a26-4f08-9710-12cdaeaa125c\">\n",
              "    <style>\n",
              "      .colab-df-generate {\n",
              "        background-color: #E8F0FE;\n",
              "        border: none;\n",
              "        border-radius: 50%;\n",
              "        cursor: pointer;\n",
              "        display: none;\n",
              "        fill: #1967D2;\n",
              "        height: 32px;\n",
              "        padding: 0 0 0 0;\n",
              "        width: 32px;\n",
              "      }\n",
              "\n",
              "      .colab-df-generate:hover {\n",
              "        background-color: #E2EBFA;\n",
              "        box-shadow: 0px 1px 2px rgba(60, 64, 67, 0.3), 0px 1px 3px 1px rgba(60, 64, 67, 0.15);\n",
              "        fill: #174EA6;\n",
              "      }\n",
              "\n",
              "      [theme=dark] .colab-df-generate {\n",
              "        background-color: #3B4455;\n",
              "        fill: #D2E3FC;\n",
              "      }\n",
              "\n",
              "      [theme=dark] .colab-df-generate:hover {\n",
              "        background-color: #434B5C;\n",
              "        box-shadow: 0px 1px 3px 1px rgba(0, 0, 0, 0.15);\n",
              "        filter: drop-shadow(0px 1px 2px rgba(0, 0, 0, 0.3));\n",
              "        fill: #FFFFFF;\n",
              "      }\n",
              "    </style>\n",
              "    <button class=\"colab-df-generate\" onclick=\"generateWithVariable('ecgDF')\"\n",
              "            title=\"Generate code using this dataframe.\"\n",
              "            style=\"display:none;\">\n",
              "\n",
              "  <svg xmlns=\"http://www.w3.org/2000/svg\" height=\"24px\"viewBox=\"0 0 24 24\"\n",
              "       width=\"24px\">\n",
              "    <path d=\"M7,19H8.4L18.45,9,17,7.55,7,17.6ZM5,21V16.75L18.45,3.32a2,2,0,0,1,2.83,0l1.4,1.43a1.91,1.91,0,0,1,.58,1.4,1.91,1.91,0,0,1-.58,1.4L9.25,21ZM18.45,9,17,7.55Zm-12,3A5.31,5.31,0,0,0,4.9,8.1,5.31,5.31,0,0,0,1,6.5,5.31,5.31,0,0,0,4.9,4.9,5.31,5.31,0,0,0,6.5,1,5.31,5.31,0,0,0,8.1,4.9,5.31,5.31,0,0,0,12,6.5,5.46,5.46,0,0,0,6.5,12Z\"/>\n",
              "  </svg>\n",
              "    </button>\n",
              "    <script>\n",
              "      (() => {\n",
              "      const buttonEl =\n",
              "        document.querySelector('#id_d342b684-7a26-4f08-9710-12cdaeaa125c button.colab-df-generate');\n",
              "      buttonEl.style.display =\n",
              "        google.colab.kernel.accessAllowed ? 'block' : 'none';\n",
              "\n",
              "      buttonEl.onclick = () => {\n",
              "        google.colab.notebook.generateWithVariable('ecgDF');\n",
              "      }\n",
              "      })();\n",
              "    </script>\n",
              "  </div>\n",
              "\n",
              "    </div>\n",
              "  </div>\n"
            ],
            "application/vnd.google.colaboratory.intrinsic+json": {
              "type": "dataframe",
              "variable_name": "ecgDF",
              "summary": "{\n  \"name\": \"ecgDF\",\n  \"rows\": 918,\n  \"fields\": [\n    {\n      \"column\": \"Age\",\n      \"properties\": {\n        \"dtype\": \"number\",\n        \"std\": 9,\n        \"min\": 28,\n        \"max\": 77,\n        \"num_unique_values\": 50,\n        \"samples\": [\n          44,\n          68,\n          66\n        ],\n        \"semantic_type\": \"\",\n        \"description\": \"\"\n      }\n    },\n    {\n      \"column\": \"Sex\",\n      \"properties\": {\n        \"dtype\": \"category\",\n        \"num_unique_values\": 2,\n        \"samples\": [\n          \"F\",\n          \"M\"\n        ],\n        \"semantic_type\": \"\",\n        \"description\": \"\"\n      }\n    },\n    {\n      \"column\": \"ChestPainType\",\n      \"properties\": {\n        \"dtype\": \"category\",\n        \"num_unique_values\": 4,\n        \"samples\": [\n          \"NAP\",\n          \"TA\"\n        ],\n        \"semantic_type\": \"\",\n        \"description\": \"\"\n      }\n    },\n    {\n      \"column\": \"RestingBP\",\n      \"properties\": {\n        \"dtype\": \"number\",\n        \"std\": 18,\n        \"min\": 0,\n        \"max\": 200,\n        \"num_unique_values\": 67,\n        \"samples\": [\n          165,\n          118\n        ],\n        \"semantic_type\": \"\",\n        \"description\": \"\"\n      }\n    },\n    {\n      \"column\": \"Cholesterol\",\n      \"properties\": {\n        \"dtype\": \"number\",\n        \"std\": 109,\n        \"min\": 0,\n        \"max\": 603,\n        \"num_unique_values\": 222,\n        \"samples\": [\n          305,\n          321\n        ],\n        \"semantic_type\": \"\",\n        \"description\": \"\"\n      }\n    },\n    {\n      \"column\": \"FastingBS\",\n      \"properties\": {\n        \"dtype\": \"number\",\n        \"std\": 0,\n        \"min\": 0,\n        \"max\": 1,\n        \"num_unique_values\": 2,\n        \"samples\": [\n          1,\n          0\n        ],\n        \"semantic_type\": \"\",\n        \"description\": \"\"\n      }\n    },\n    {\n      \"column\": \"RestingECG\",\n      \"properties\": {\n        \"dtype\": \"category\",\n        \"num_unique_values\": 3,\n        \"samples\": [\n          \"Normal\",\n          \"ST\"\n        ],\n        \"semantic_type\": \"\",\n        \"description\": \"\"\n      }\n    },\n    {\n      \"column\": \"MaxHR\",\n      \"properties\": {\n        \"dtype\": \"number\",\n        \"std\": 25,\n        \"min\": 60,\n        \"max\": 202,\n        \"num_unique_values\": 119,\n        \"samples\": [\n          132,\n          157\n        ],\n        \"semantic_type\": \"\",\n        \"description\": \"\"\n      }\n    },\n    {\n      \"column\": \"ExerciseAngina\",\n      \"properties\": {\n        \"dtype\": \"category\",\n        \"num_unique_values\": 2,\n        \"samples\": [\n          \"Y\",\n          \"N\"\n        ],\n        \"semantic_type\": \"\",\n        \"description\": \"\"\n      }\n    },\n    {\n      \"column\": \"Oldpeak\",\n      \"properties\": {\n        \"dtype\": \"number\",\n        \"std\": 1.0665701510493233,\n        \"min\": -2.6,\n        \"max\": 6.2,\n        \"num_unique_values\": 53,\n        \"samples\": [\n          1.3,\n          0.6\n        ],\n        \"semantic_type\": \"\",\n        \"description\": \"\"\n      }\n    },\n    {\n      \"column\": \"ST_Slope\",\n      \"properties\": {\n        \"dtype\": \"category\",\n        \"num_unique_values\": 3,\n        \"samples\": [\n          \"Up\",\n          \"Flat\"\n        ],\n        \"semantic_type\": \"\",\n        \"description\": \"\"\n      }\n    },\n    {\n      \"column\": \"HeartDisease\",\n      \"properties\": {\n        \"dtype\": \"number\",\n        \"std\": 0,\n        \"min\": 0,\n        \"max\": 1,\n        \"num_unique_values\": 2,\n        \"samples\": [\n          1,\n          0\n        ],\n        \"semantic_type\": \"\",\n        \"description\": \"\"\n      }\n    }\n  ]\n}"
            }
          },
          "metadata": {}
        }
      ],
      "source": [
        "# Example 5: Read the data set\n",
        "\n",
        "import pandas as pd\n",
        "\n",
        "\n",
        "# Read the data file and create DataFrame\n",
        "ecgDF = pd.read_csv(\n",
        "    \"https://biologicslab.co/BIO1173/data/heart_disease.csv\",\n",
        "    #    index_col=0,\n",
        "    sep=',',\n",
        "    na_values=['NA','?'])\n",
        "\n",
        "# Set display options\n",
        "pd.set_option('display.max_columns', 6)\n",
        "pd.set_option('display.max_rows', 6)\n",
        "\n",
        "# Display DataFrame\n",
        "display(ecgDF)"
      ]
    },
    {
      "cell_type": "markdown",
      "metadata": {
        "id": "y40AylRTdgBc"
      },
      "source": [
        "If code is correct you should see the following table:\n",
        "\n",
        "![ROC Curve](https://biologicslab.co/BIO1173/images/class_04/class_04_2_image02.png)"
      ]
    },
    {
      "cell_type": "markdown",
      "metadata": {
        "id": "Tig1Uf29dgBc"
      },
      "source": [
        "### **Exercise 5: Read Datafile and Create DataFrame**\n",
        "\n",
        "For the next section, you will be using the Iris Flower dataset for your Exercises. The data file, `iris.csv` is located on the course HTTPS server. You can use this code chunk to read the datafile and create a new DataFrame called `irisDF` (Iris Flower DataFrame).\n",
        "\n",
        "~~~text\n",
        "# Read the data file and create DataFrame\n",
        "irisDF = pd.read_csv(\n",
        "    \"https://biologicslab.co/BIO1173/data/iris.csv\",\n",
        "#    index_col=0,\n",
        "    sep=',',\n",
        "    na_values=['NA','?'])\n",
        "~~~\n",
        "\n",
        "Set the display options to show all columns and 6 rows of the `irisDF` DataFrame."
      ]
    },
    {
      "cell_type": "code",
      "execution_count": null,
      "metadata": {
        "scrolled": true,
        "id": "ouHrfh3NdgBd"
      },
      "outputs": [],
      "source": [
        "# Insert your code for Exercise 5 here\n",
        "\n",
        "\n",
        "\n"
      ]
    },
    {
      "cell_type": "markdown",
      "metadata": {
        "id": "XfhuFt6ldgBd"
      },
      "source": [
        "If code is correct you should see the following table:\n",
        "\n",
        "![ROCCurve](https://biologicslab.co/BIO1173/images/class_04_2_Exe5.png)"
      ]
    },
    {
      "cell_type": "markdown",
      "metadata": {
        "id": "XGA-9toLdgBd"
      },
      "source": [
        "### Example 6: Compute Number of Samples in Each Output Class\n",
        "\n",
        "It is generally useful to have some idea how many samples are in each output class. Ideally, for training a multiclass classification neural network, the number of samples in each class should be approximately equal.\n",
        "\n",
        "The code below uses the grouby.count to print out next section in this lesson, we will again be using the Heart Disease dataset for the Examples. The data file, heart_disease.csv is located on the course HTTPS server."
      ]
    },
    {
      "cell_type": "code",
      "execution_count": 9,
      "metadata": {
        "scrolled": true,
        "id": "-x6T31NxdgBd",
        "colab": {
          "base_uri": "https://localhost:8080/"
        },
        "outputId": "f3e3911c-7fc2-48cc-b048-89be3ee1a4c9"
      },
      "outputs": [
        {
          "output_type": "stream",
          "name": "stdout",
          "text": [
            "RestingECG\n",
            "LVH       188\n",
            "Normal    552\n",
            "ST        178\n",
            "Name: RestingECG, dtype: int64\n"
          ]
        }
      ],
      "source": [
        "# Example 6: Groupby\n",
        "\n",
        "import pandas as pd\n",
        "\n",
        "# Create groupby\n",
        "ecgGroups = ecgDF.groupby(['RestingECG'])['RestingECG'].count()\n",
        "\n",
        "# Print results\n",
        "print(ecgGroups)"
      ]
    },
    {
      "cell_type": "markdown",
      "metadata": {
        "id": "kLE3AGavdgBd"
      },
      "source": [
        "If your code is correct you should see the following output:"
      ]
    },
    {
      "cell_type": "markdown",
      "metadata": {
        "id": "6xarFRL7dgBd"
      },
      "source": [
        "~~~text\n",
        "RestingECG\n",
        "LVH       188\n",
        "Normal    552\n",
        "ST        178\n",
        "Name: RestingECG, dtype: int64\n",
        "~~~"
      ]
    },
    {
      "cell_type": "markdown",
      "metadata": {
        "id": "OlO3zg-GdgBd"
      },
      "source": [
        "As you can see from the output above, the number of samples in each of the 3 output classes, `LVH`, `Normal` and `ST` are _not_ ideal. The number of samples in the class `Normal` is almost twice the size of the other two classes, `LVH` and `ST`. Let's see if this becomes a problem later."
      ]
    },
    {
      "cell_type": "markdown",
      "metadata": {
        "id": "jOMQv9EjdgBd"
      },
      "source": [
        "### **Exercise 6: Compute Number of Samples in Each Output Class**\n",
        "\n",
        "In the cell below write the code to print out the number of samples in each class of the column `species` in your DataFrame `irisDF`.\n"
      ]
    },
    {
      "cell_type": "code",
      "execution_count": null,
      "metadata": {
        "scrolled": true,
        "id": "RgKt0Po5dgBd"
      },
      "outputs": [],
      "source": [
        "# Insert your code for Exercise 6 here\n"
      ]
    },
    {
      "cell_type": "markdown",
      "metadata": {
        "id": "qgsKT952dgBd"
      },
      "source": [
        "\n",
        "If your code is correct you should see the following output:\n",
        "~~~text\n",
        "species\n",
        "Iris-setosa        50\n",
        "Iris-versicolor    50\n",
        "Iris-virginica     50\n",
        "Name: species, dtype: int64\n",
        "~~~\n",
        "As you can see from the output above, the number of samples in each of the 3 output classes, `Iris-setosa`, `Iris-versicolor` and `Iris-virginica` are exactly equal (i.e. `50`), which is ideal."
      ]
    },
    {
      "cell_type": "markdown",
      "metadata": {
        "id": "XFiTYpVldgBd"
      },
      "source": [
        "### Example 7: Check for Missing Data\n",
        "\n",
        "The code in the cell below checks the DataFrame `ecgDF` for missing values. The number of rows is set to `15` to make sure that the results from all of the columns are displayed."
      ]
    },
    {
      "cell_type": "code",
      "execution_count": null,
      "metadata": {
        "id": "3Lc-QNZ0dgBe"
      },
      "outputs": [],
      "source": [
        "# Example 7: Check for missing data\n",
        "\n",
        "# Find the locations of missing data\n",
        "missing_locations = ecgDF.isnull().any()\n",
        "\n",
        "# Set max rows to 15\n",
        "pd.set_option('display.max_rows', 15)\n",
        "\n",
        "# Display the locations of missing data\n",
        "print(missing_locations)"
      ]
    },
    {
      "cell_type": "markdown",
      "metadata": {
        "id": "cMkCHIFgdgBe"
      },
      "source": [
        "If your code is correct you should see the following output:\n",
        "~~~text\n",
        "Age               False\n",
        "Sex               False\n",
        "ChestPainType     False\n",
        "RestingBP         False\n",
        "Cholesterol       False\n",
        "FastingBS         False\n",
        "RestingECG        False\n",
        "MaxHR             False\n",
        "ExerciseAngina    False\n",
        "Oldpeak           False\n",
        "ST_Slope          False\n",
        "HeartDisease      False\n",
        "dtype: bool\n",
        "~~~\n",
        "The results show that there are no missing data values in the DataFrame `ecgDF`."
      ]
    },
    {
      "cell_type": "markdown",
      "metadata": {
        "id": "spxQyDb0dgBe"
      },
      "source": [
        "### **Exercise 7: Check for Missing Data**\n",
        "\n",
        "In the cell below write the code to check for missing values in the DataFrame `irisDF`. Set the number of rows to display to `5`."
      ]
    },
    {
      "cell_type": "code",
      "execution_count": null,
      "metadata": {
        "id": "Cjbxw6S8dgBe"
      },
      "outputs": [],
      "source": [
        "# Insert your code for Exercise 7 here\n",
        "\n"
      ]
    },
    {
      "cell_type": "markdown",
      "metadata": {
        "id": "gygyjHcIdgBe"
      },
      "source": [
        "If your code is correct you should see the following output:"
      ]
    },
    {
      "cell_type": "markdown",
      "metadata": {
        "id": "vxOHtGCTdgBe"
      },
      "source": [
        "~~~text\n",
        "sepal_length    False\n",
        "sepal_width     False\n",
        "petal_length    False\n",
        "petal_width     False\n",
        "species         False\n",
        "dtype: bool\n",
        "~~~"
      ]
    },
    {
      "cell_type": "markdown",
      "metadata": {
        "id": "xVOLTlyudgBe"
      },
      "source": [
        "Again, the results show that there are no missing data values in the DataFrame `irisDF`."
      ]
    },
    {
      "cell_type": "markdown",
      "metadata": {
        "id": "i8iUvVbydgBe"
      },
      "source": [
        "### Example 8: Preprocess Data for Neural Network Training\n",
        "\n",
        "The code in the cell below preprocesses the Heart Disease data to make it ready for machine learning.\n",
        "\n",
        "Two columns, `Sex`, and `ExerciseAngina` have _binary_ categorical variables. The column `Sex` has the letters `M` and `F`, while the column `ExerciseAngina` has the letters `Y` and `N`. In the cell below, these categorical values will be **_mapped_** to the integers `1` and `0`.  \n",
        "\n",
        "Two other columns have categorical values than need to be converted into numerical values. The column `ST_Slope`, has the categorical values `Down`, `Up` and `Flat` while the column `ChestPainTypes` has four categorical values, `ATA`, `NAP`, `ASY`, `TA`. One-Hot encoding will be applied to these two columns before they are used to generate the X-values.\n",
        "\n",
        "The `ecgDF` DataFrame has 4 columns with numeric data: `RestingBP`, `Cholesterol`, `FastingBS` and `MaxHR`. Since the values in these columns vary substantially in magnitude, there will be **standardized** by replacing their values by their z-scores.\n",
        "\n",
        "Finally, the target column for this example, `RestingECG` has three categorical values: `LVH`, `Normal`, and `ST`. Since this is is going to be our target column, it will be One-Hot encoded separately when generating the Y feature vector.\n",
        "\n",
        "Remember, the with classification neural networks, it is **always** necessary to One-Hot encode the target column when generating the Y values, whether or not the target column contains string or numerical data."
      ]
    },
    {
      "cell_type": "code",
      "execution_count": 10,
      "metadata": {
        "id": "wD57aaWKK1AR",
        "colab": {
          "base_uri": "https://localhost:8080/"
        },
        "outputId": "3d657cf1-a5f4-445c-cd5c-215726b06e42"
      },
      "outputs": [
        {
          "output_type": "stream",
          "name": "stdout",
          "text": [
            "LVH Normal ST\n"
          ]
        }
      ],
      "source": [
        "# Example 6: Preprocess data\n",
        "\n",
        "# Map `Sex` to int\n",
        "mapping = {'M': 1, 'F': 0}\n",
        "ecgDF['Sex'] = ecgDF['Sex'].map(mapping)\n",
        "\n",
        "# Map 'ExerciseAngina' to int\n",
        "mapping = {'Y': 1, 'N': 0}\n",
        "ecgDF['ExerciseAngina'] = ecgDF['ExerciseAngina'].map(mapping)\n",
        "\n",
        "# One Hot encode ChestPainType\n",
        "ecgDF = pd.concat([ecgDF,pd.get_dummies(ecgDF['ChestPainType'],prefix=\"PainType\", dtype=float)],axis=1)\n",
        "ecgDF.drop('ChestPainType', axis=1, inplace=True)\n",
        "\n",
        "# One Hot encode ST_Slope\n",
        "ecgDF = pd.concat([ecgDF,pd.get_dummies(ecgDF['ST_Slope'],prefix=\"ST_Slope\", dtype=float)],axis=1)\n",
        "ecgDF.drop('ST_Slope', axis=1, inplace=True)\n",
        "\n",
        "# Standardize ranges in numeric columns\n",
        "ecgDF['RestingBP'] = zscore(ecgDF['RestingBP'])\n",
        "ecgDF['Cholesterol'] = zscore(ecgDF['Cholesterol'])\n",
        "ecgDF['FastingBS'] = zscore(ecgDF['RestingBP'])\n",
        "ecgDF['MaxHR'] = zscore(ecgDF['MaxHR'])\n",
        "\n",
        "\n",
        "# Generate X from all columns EXCEPT the target colunm\n",
        "ecgX_columns = ecgDF.columns.drop('RestingECG')\n",
        "ecgX = ecgDF[ecgX_columns].values\n",
        "ecgX = np.asarray(ecgX).astype(np.float32)\n",
        "\n",
        "# One-Hot encode the target column and generate Y\n",
        "dummies = pd.get_dummies(ecgDF['RestingECG'], dtype=float) # Classification\n",
        "ECGclasses = dummies.columns\n",
        "ecgY = dummies.values\n",
        "ecgY = np.asarray(ecgY).astype(np.float32)\n",
        "\n",
        "# Print the ECGtypes\n",
        "print(*ECGclasses)"
      ]
    },
    {
      "cell_type": "markdown",
      "metadata": {
        "id": "88BB8ZOkdgBf"
      },
      "source": [
        "If your code is correct you should see the following output:"
      ]
    },
    {
      "cell_type": "markdown",
      "metadata": {
        "scrolled": true,
        "id": "zok5Ha8kdgBf"
      },
      "source": [
        "~~~text\n",
        "LVH Normal ST\n",
        "~~~"
      ]
    },
    {
      "cell_type": "markdown",
      "metadata": {
        "id": "vE1yJzeLdgBf"
      },
      "source": [
        "The output represents the 3 output classes (Y) that our neural network will be designed to predict after being trained on the X data stored in the variable `ecgX`."
      ]
    },
    {
      "cell_type": "markdown",
      "metadata": {
        "id": "CoCT28VKdgBg"
      },
      "source": [
        "--------------------------\n",
        "\n",
        "## **Should binary numerical categories be converted to Z-scores?**\n",
        "\n",
        "Since we converted the numerical data into Z-scores, should we also convert the data in the columns that were mapped to `0` and `1` into Z-scores?\n",
        "\n",
        "No, binary numerical categories should **not** be converted into Z-scores when fitting a neural network. Z-scores are used for standardizing continuous numerical data by calculating the number of standard deviations a data point is from the mean. Binary numerical categories are already in a format that is suitable for inputting into a neural network, as they typically represent two distinct classes or states. Converting them into Z-scores would not add any meaningful information and could potentially introduce unnecessary noise into the data.\n",
        "\n",
        "--------------------------"
      ]
    },
    {
      "cell_type": "markdown",
      "metadata": {
        "id": "c6EO4abQdgBg"
      },
      "source": [
        "### **Exercise 8: Preprocess Data for Neural Network Training**\n",
        "\n",
        "In the cell below, preprocess the data in your DataFrame `irisDF` to make it ready for processing by a neural network. Compared to Example 8 above, your code will require fewer steps.\n",
        "\n",
        "Things you **don't** have to do for preprocessing:\n",
        "\n",
        "1. Since there are no missing data in `irisDF` you don't need to correct for missing data.\n",
        "2. Since the all of the columns (except the target column) are numeric, you don't have to map any categorical values to integers.\n",
        "\n",
        "Things you **will** need to do for preprocessing:\n",
        "\n",
        "1. Create a list of columns to used in creating your X values called `irisX_columns`, by dropping the target column `species`.\n",
        "2. Use your list to generate an X feature vector called `irisX`.\n",
        "3. Convert `irisX` to float32 using the command: `irisX = np.asarray(irisX).astype(np.float32)`\n",
        "4. Generate your Y feature vector by One-Hot encode the target column, `species` using this code chunk:\n",
        "\n",
        "~~~text\n",
        "# Generate Y feature vector\n",
        "dummies = pd.get_dummies(irisDF['species'], dtype=float) # Classification\n",
        "IRIS_species = dummies.columns\n",
        "irisY = dummies.values\n",
        "irisY = np.asarray(irisY).astype(np.float32)\n",
        "~~~\n",
        "Print out the contents of the variable `IRIS_species` using the starred notation demonstrated in Example 8."
      ]
    },
    {
      "cell_type": "code",
      "execution_count": null,
      "metadata": {
        "id": "_0jcqZfidgBg"
      },
      "outputs": [],
      "source": [
        "# Insert your code for Exercise 8 here\n",
        "\n"
      ]
    },
    {
      "cell_type": "markdown",
      "metadata": {
        "id": "casJ9cJXdgBg"
      },
      "source": [
        "If your code is correct you should see the following output:\n",
        "~~~text\n",
        "Iris-setosa Iris-versicolor Iris-virginica\n",
        "~~~\n",
        "These are the three classes that your neural network will be designed to predict."
      ]
    },
    {
      "cell_type": "markdown",
      "metadata": {
        "id": "7KHbtF94dgBh"
      },
      "source": [
        "### Example 9: Construct, Compile and Train Multiclass Classification Neural Network\n",
        "\n",
        "The code in the cell below starts by splitting the X-values stored in the X feature vector, `ecgX`, into `ecgX_train` and `ecgX_test` sets with 75% being used for training.\n",
        "\n",
        "Similarily, the Y-values stores in `ecgY` are split into `ecgY_train` and `ecgY_test` sets. Keep in mind that the Y-values in the training and testing sets match the X-values in the training and testing sets.\n",
        "\n",
        "The cell below then builds a linear (\"sequential\") muticlass classsification neural network called `ecgModel` with 3 hidden layers. The number of inputs to the 1st hidden layer is specified by the argument `input_dim=ecgX.shape[1]`. Similarly, the argument `ecgY.shape[1]`, is used in the output layer to specirisY the number output neurons. Since there are 3 classes in `ecgY` (`LVH`, `Normal`, `ST`) the output layer will have 3 neurons--one neuron for each class.\n",
        "\n",
        "Since this model is doing classification, we will compile it using the loss function, `categorical_crossentropy` with the `Adam` optimizer.\n",
        "\n",
        "To allow for early stopping, an EarlyStopping monitor, `ecgMoniter` is created.  The monitor is specified to wait `50` epochs for the validation loss to start improving after reaching a local minimum, before termining the training. This is a fairly long time to wait, but it is needed in this example due to the relatively low number of data samples.\n",
        "\n",
        "Finally, the model `ecgModel` is trained (fitted) to the training and test (validation) data sets for 1000 epochs."
      ]
    },
    {
      "cell_type": "code",
      "execution_count": 11,
      "metadata": {
        "id": "aggbZoEUK1AR",
        "colab": {
          "base_uri": "https://localhost:8080/"
        },
        "outputId": "cc9f630d-4341-4ede-a2d5-b7bbf6ba2b99"
      },
      "outputs": [
        {
          "output_type": "stream",
          "name": "stdout",
          "text": [
            "Epoch 1/1000\n",
            "22/22 - 2s - 91ms/step - accuracy: 0.6148 - loss: 0.9994 - val_accuracy: 0.5609 - val_loss: 1.0369\n",
            "Epoch 2/1000\n",
            "22/22 - 0s - 17ms/step - accuracy: 0.6148 - loss: 0.9602 - val_accuracy: 0.5609 - val_loss: 1.0176\n",
            "Epoch 3/1000\n",
            "22/22 - 0s - 6ms/step - accuracy: 0.6148 - loss: 0.9575 - val_accuracy: 0.5609 - val_loss: 1.0130\n",
            "Epoch 4/1000\n",
            "22/22 - 0s - 7ms/step - accuracy: 0.6148 - loss: 0.9537 - val_accuracy: 0.5609 - val_loss: 1.0213\n",
            "Epoch 5/1000\n",
            "22/22 - 0s - 9ms/step - accuracy: 0.6148 - loss: 0.9511 - val_accuracy: 0.5609 - val_loss: 1.0093\n",
            "Epoch 6/1000\n",
            "22/22 - 0s - 12ms/step - accuracy: 0.6148 - loss: 0.9492 - val_accuracy: 0.5609 - val_loss: 1.0106\n",
            "Epoch 7/1000\n",
            "22/22 - 0s - 18ms/step - accuracy: 0.6148 - loss: 0.9476 - val_accuracy: 0.5609 - val_loss: 1.0109\n",
            "Epoch 8/1000\n",
            "22/22 - 0s - 13ms/step - accuracy: 0.6148 - loss: 0.9474 - val_accuracy: 0.5609 - val_loss: 1.0156\n",
            "Epoch 9/1000\n",
            "22/22 - 0s - 18ms/step - accuracy: 0.6148 - loss: 0.9460 - val_accuracy: 0.5609 - val_loss: 1.0057\n",
            "Epoch 10/1000\n",
            "22/22 - 1s - 23ms/step - accuracy: 0.6148 - loss: 0.9428 - val_accuracy: 0.5609 - val_loss: 0.9972\n",
            "Epoch 11/1000\n",
            "22/22 - 0s - 14ms/step - accuracy: 0.6148 - loss: 0.9384 - val_accuracy: 0.5609 - val_loss: 1.0043\n",
            "Epoch 12/1000\n",
            "22/22 - 0s - 13ms/step - accuracy: 0.6148 - loss: 0.9366 - val_accuracy: 0.5609 - val_loss: 0.9889\n",
            "Epoch 13/1000\n",
            "22/22 - 0s - 11ms/step - accuracy: 0.6148 - loss: 0.9380 - val_accuracy: 0.5609 - val_loss: 0.9922\n",
            "Epoch 14/1000\n",
            "22/22 - 0s - 11ms/step - accuracy: 0.6148 - loss: 0.9338 - val_accuracy: 0.5609 - val_loss: 0.9873\n",
            "Epoch 15/1000\n",
            "22/22 - 0s - 12ms/step - accuracy: 0.6148 - loss: 0.9308 - val_accuracy: 0.5609 - val_loss: 0.9861\n",
            "Epoch 16/1000\n",
            "22/22 - 0s - 10ms/step - accuracy: 0.6148 - loss: 0.9277 - val_accuracy: 0.5609 - val_loss: 0.9814\n",
            "Epoch 17/1000\n",
            "22/22 - 0s - 11ms/step - accuracy: 0.6148 - loss: 0.9259 - val_accuracy: 0.5609 - val_loss: 0.9781\n",
            "Epoch 18/1000\n",
            "22/22 - 0s - 15ms/step - accuracy: 0.6148 - loss: 0.9264 - val_accuracy: 0.5609 - val_loss: 0.9759\n",
            "Epoch 19/1000\n",
            "22/22 - 0s - 10ms/step - accuracy: 0.6148 - loss: 0.9248 - val_accuracy: 0.5609 - val_loss: 0.9816\n",
            "Epoch 20/1000\n",
            "22/22 - 0s - 10ms/step - accuracy: 0.6148 - loss: 0.9169 - val_accuracy: 0.5609 - val_loss: 0.9704\n",
            "Epoch 21/1000\n",
            "22/22 - 0s - 7ms/step - accuracy: 0.6148 - loss: 0.9148 - val_accuracy: 0.5609 - val_loss: 0.9710\n",
            "Epoch 22/1000\n",
            "22/22 - 0s - 15ms/step - accuracy: 0.6206 - loss: 0.9073 - val_accuracy: 0.5652 - val_loss: 0.9615\n",
            "Epoch 23/1000\n",
            "22/22 - 0s - 6ms/step - accuracy: 0.6206 - loss: 0.9017 - val_accuracy: 0.5609 - val_loss: 0.9489\n",
            "Epoch 24/1000\n",
            "22/22 - 0s - 14ms/step - accuracy: 0.6221 - loss: 0.8953 - val_accuracy: 0.5609 - val_loss: 0.9569\n",
            "Epoch 25/1000\n",
            "22/22 - 0s - 14ms/step - accuracy: 0.6177 - loss: 0.8912 - val_accuracy: 0.5609 - val_loss: 0.9460\n",
            "Epoch 26/1000\n",
            "22/22 - 0s - 8ms/step - accuracy: 0.6221 - loss: 0.8826 - val_accuracy: 0.5609 - val_loss: 0.9356\n",
            "Epoch 27/1000\n",
            "22/22 - 0s - 12ms/step - accuracy: 0.6163 - loss: 0.8818 - val_accuracy: 0.5522 - val_loss: 0.9389\n",
            "Epoch 28/1000\n",
            "22/22 - 0s - 6ms/step - accuracy: 0.6163 - loss: 0.8853 - val_accuracy: 0.5478 - val_loss: 0.9395\n",
            "Epoch 29/1000\n",
            "22/22 - 0s - 6ms/step - accuracy: 0.6265 - loss: 0.8795 - val_accuracy: 0.5609 - val_loss: 0.9377\n",
            "Epoch 30/1000\n",
            "22/22 - 0s - 7ms/step - accuracy: 0.6279 - loss: 0.8756 - val_accuracy: 0.5652 - val_loss: 0.9307\n",
            "Epoch 31/1000\n",
            "22/22 - 0s - 7ms/step - accuracy: 0.6279 - loss: 0.8747 - val_accuracy: 0.5565 - val_loss: 0.9345\n",
            "Epoch 32/1000\n",
            "22/22 - 0s - 8ms/step - accuracy: 0.6235 - loss: 0.8713 - val_accuracy: 0.5739 - val_loss: 0.9363\n",
            "Epoch 33/1000\n",
            "22/22 - 0s - 7ms/step - accuracy: 0.6308 - loss: 0.8667 - val_accuracy: 0.5565 - val_loss: 0.9603\n",
            "Epoch 34/1000\n",
            "22/22 - 0s - 6ms/step - accuracy: 0.6134 - loss: 0.8694 - val_accuracy: 0.5565 - val_loss: 0.9344\n",
            "Epoch 35/1000\n",
            "22/22 - 0s - 6ms/step - accuracy: 0.6279 - loss: 0.8643 - val_accuracy: 0.5478 - val_loss: 0.9343\n",
            "Epoch 36/1000\n",
            "22/22 - 0s - 7ms/step - accuracy: 0.6337 - loss: 0.8679 - val_accuracy: 0.5609 - val_loss: 0.9506\n",
            "Epoch 37/1000\n",
            "22/22 - 0s - 7ms/step - accuracy: 0.6308 - loss: 0.8653 - val_accuracy: 0.5696 - val_loss: 0.9386\n",
            "Epoch 38/1000\n",
            "22/22 - 0s - 8ms/step - accuracy: 0.6221 - loss: 0.8596 - val_accuracy: 0.5565 - val_loss: 0.9393\n",
            "Epoch 39/1000\n",
            "22/22 - 0s - 7ms/step - accuracy: 0.6308 - loss: 0.8608 - val_accuracy: 0.5739 - val_loss: 0.9459\n",
            "Epoch 40/1000\n",
            "22/22 - 0s - 13ms/step - accuracy: 0.6294 - loss: 0.8542 - val_accuracy: 0.5652 - val_loss: 0.9354\n",
            "Epoch 41/1000\n",
            "22/22 - 0s - 6ms/step - accuracy: 0.6366 - loss: 0.8552 - val_accuracy: 0.5696 - val_loss: 0.9378\n",
            "Epoch 42/1000\n",
            "22/22 - 0s - 13ms/step - accuracy: 0.6308 - loss: 0.8520 - val_accuracy: 0.5652 - val_loss: 0.9498\n",
            "Epoch 43/1000\n",
            "22/22 - 0s - 8ms/step - accuracy: 0.6337 - loss: 0.8495 - val_accuracy: 0.5565 - val_loss: 0.9385\n",
            "Epoch 44/1000\n",
            "22/22 - 0s - 7ms/step - accuracy: 0.6308 - loss: 0.8530 - val_accuracy: 0.5609 - val_loss: 0.9702\n",
            "Epoch 45/1000\n",
            "22/22 - 0s - 7ms/step - accuracy: 0.6221 - loss: 0.8559 - val_accuracy: 0.5652 - val_loss: 0.9452\n",
            "Epoch 46/1000\n",
            "22/22 - 0s - 8ms/step - accuracy: 0.6337 - loss: 0.8454 - val_accuracy: 0.5696 - val_loss: 0.9502\n",
            "Epoch 47/1000\n",
            "22/22 - 0s - 13ms/step - accuracy: 0.6177 - loss: 0.8486 - val_accuracy: 0.5565 - val_loss: 0.9726\n",
            "Epoch 48/1000\n",
            "22/22 - 0s - 7ms/step - accuracy: 0.6148 - loss: 0.8815 - val_accuracy: 0.5696 - val_loss: 0.9418\n",
            "Epoch 49/1000\n",
            "22/22 - 0s - 8ms/step - accuracy: 0.6337 - loss: 0.8505 - val_accuracy: 0.5739 - val_loss: 0.9444\n",
            "Epoch 50/1000\n",
            "22/22 - 0s - 8ms/step - accuracy: 0.6308 - loss: 0.8446 - val_accuracy: 0.5652 - val_loss: 0.9473\n",
            "Epoch 51/1000\n",
            "22/22 - 0s - 12ms/step - accuracy: 0.6294 - loss: 0.8363 - val_accuracy: 0.5739 - val_loss: 0.9555\n",
            "Epoch 52/1000\n",
            "22/22 - 0s - 7ms/step - accuracy: 0.6294 - loss: 0.8376 - val_accuracy: 0.5609 - val_loss: 0.9562\n",
            "Epoch 53/1000\n",
            "22/22 - 0s - 7ms/step - accuracy: 0.6294 - loss: 0.8371 - val_accuracy: 0.5652 - val_loss: 0.9545\n",
            "Epoch 54/1000\n",
            "22/22 - 0s - 9ms/step - accuracy: 0.6323 - loss: 0.8356 - val_accuracy: 0.5609 - val_loss: 0.9515\n",
            "Epoch 55/1000\n",
            "22/22 - 0s - 7ms/step - accuracy: 0.6381 - loss: 0.8349 - val_accuracy: 0.5522 - val_loss: 0.9566\n",
            "Epoch 56/1000\n",
            "22/22 - 0s - 8ms/step - accuracy: 0.6294 - loss: 0.8319 - val_accuracy: 0.5652 - val_loss: 0.9551\n",
            "Epoch 57/1000\n",
            "22/22 - 0s - 13ms/step - accuracy: 0.6323 - loss: 0.8256 - val_accuracy: 0.5565 - val_loss: 0.9631\n",
            "Epoch 58/1000\n",
            "22/22 - 0s - 7ms/step - accuracy: 0.6279 - loss: 0.8281 - val_accuracy: 0.5652 - val_loss: 0.9616\n",
            "Epoch 59/1000\n",
            "22/22 - 0s - 15ms/step - accuracy: 0.6366 - loss: 0.8294 - val_accuracy: 0.5739 - val_loss: 0.9697\n",
            "Epoch 60/1000\n",
            "22/22 - 0s - 10ms/step - accuracy: 0.6294 - loss: 0.8285 - val_accuracy: 0.5609 - val_loss: 0.9547\n",
            "Epoch 61/1000\n",
            "22/22 - 0s - 14ms/step - accuracy: 0.6323 - loss: 0.8256 - val_accuracy: 0.5522 - val_loss: 0.9739\n",
            "Epoch 62/1000\n",
            "22/22 - 0s - 10ms/step - accuracy: 0.6424 - loss: 0.8316 - val_accuracy: 0.5609 - val_loss: 0.9530\n",
            "Epoch 63/1000\n",
            "22/22 - 0s - 11ms/step - accuracy: 0.6352 - loss: 0.8236 - val_accuracy: 0.5522 - val_loss: 0.9614\n",
            "Epoch 64/1000\n",
            "22/22 - 0s - 12ms/step - accuracy: 0.6337 - loss: 0.8270 - val_accuracy: 0.5609 - val_loss: 0.9563\n",
            "Epoch 65/1000\n",
            "22/22 - 0s - 13ms/step - accuracy: 0.6366 - loss: 0.8243 - val_accuracy: 0.5609 - val_loss: 0.9551\n",
            "Epoch 66/1000\n",
            "22/22 - 0s - 14ms/step - accuracy: 0.6366 - loss: 0.8247 - val_accuracy: 0.5522 - val_loss: 0.9643\n",
            "Epoch 67/1000\n",
            "22/22 - 0s - 9ms/step - accuracy: 0.6279 - loss: 0.8155 - val_accuracy: 0.5609 - val_loss: 0.9622\n",
            "Epoch 68/1000\n",
            "22/22 - 0s - 14ms/step - accuracy: 0.6381 - loss: 0.8123 - val_accuracy: 0.5696 - val_loss: 0.9805\n",
            "Epoch 69/1000\n",
            "22/22 - 0s - 14ms/step - accuracy: 0.6294 - loss: 0.8156 - val_accuracy: 0.5652 - val_loss: 0.9846\n",
            "Epoch 70/1000\n",
            "22/22 - 0s - 13ms/step - accuracy: 0.6337 - loss: 0.8179 - val_accuracy: 0.5609 - val_loss: 0.9585\n",
            "Epoch 71/1000\n",
            "22/22 - 0s - 13ms/step - accuracy: 0.6337 - loss: 0.8081 - val_accuracy: 0.5696 - val_loss: 0.9697\n",
            "Epoch 72/1000\n",
            "22/22 - 0s - 14ms/step - accuracy: 0.6381 - loss: 0.8137 - val_accuracy: 0.5696 - val_loss: 0.9744\n",
            "Epoch 73/1000\n",
            "22/22 - 0s - 14ms/step - accuracy: 0.6352 - loss: 0.8093 - val_accuracy: 0.5565 - val_loss: 0.9689\n",
            "Epoch 74/1000\n",
            "22/22 - 0s - 12ms/step - accuracy: 0.6337 - loss: 0.8122 - val_accuracy: 0.5652 - val_loss: 0.9674\n",
            "Epoch 75/1000\n",
            "22/22 - 0s - 15ms/step - accuracy: 0.6366 - loss: 0.8092 - val_accuracy: 0.5652 - val_loss: 0.9663\n",
            "Epoch 76/1000\n",
            "22/22 - 0s - 13ms/step - accuracy: 0.6337 - loss: 0.8081 - val_accuracy: 0.5522 - val_loss: 0.9725\n",
            "Epoch 77/1000\n",
            "22/22 - 0s - 14ms/step - accuracy: 0.6366 - loss: 0.8113 - val_accuracy: 0.5696 - val_loss: 0.9646\n",
            "Epoch 78/1000\n",
            "22/22 - 0s - 11ms/step - accuracy: 0.6323 - loss: 0.8047 - val_accuracy: 0.5478 - val_loss: 0.9719\n",
            "Epoch 79/1000\n",
            "22/22 - 0s - 15ms/step - accuracy: 0.6395 - loss: 0.7999 - val_accuracy: 0.5739 - val_loss: 0.9770\n",
            "Epoch 80/1000\n",
            "22/22 - 0s - 12ms/step - accuracy: 0.6294 - loss: 0.8043 - val_accuracy: 0.5522 - val_loss: 0.9703\n",
            "Epoch 80: early stopping\n",
            "Restoring model weights from the end of the best epoch: 30.\n"
          ]
        },
        {
          "output_type": "execute_result",
          "data": {
            "text/plain": [
              "<keras.src.callbacks.history.History at 0x7ea52c672610>"
            ]
          },
          "metadata": {},
          "execution_count": 11
        }
      ],
      "source": [
        "# Example 9: Classification neural network\n",
        "\n",
        "from keras.models import Sequential\n",
        "from keras.layers import Dense, Input\n",
        "from keras.callbacks import EarlyStopping\n",
        "from keras.optimizers import Adam\n",
        "from keras.metrics import Precision, Recall\n",
        "\n",
        "# Split into train/test--------------------------------------------------------\n",
        "ecgX_train, ecgX_test, ecgY_train, ecgY_test = train_test_split(\n",
        "    ecgX, ecgY, test_size=0.25, random_state=10)\n",
        "\n",
        "\n",
        "# Construct model---------------------------------------------------------------\n",
        "ecgModel = Sequential()\n",
        "ecgModel.add(Input(shape=(ecgX.shape[1],)))\n",
        "ecgModel.add(Dense(100, activation='relu',\n",
        "                kernel_initializer='random_normal'))  # Hidden 1\n",
        "ecgModel.add(Dense(50,activation='relu',\n",
        "                   kernel_initializer='random_normal')) # Hidden 2\n",
        "ecgModel.add(Dense(25,activation='relu',\n",
        "                   kernel_initializer='random_normal')) # Hidden 3\n",
        "ecgModel.add(Dense(ecgY.shape[1],activation='softmax',\n",
        "                kernel_initializer='random_normal')) # Output\n",
        "\n",
        "# Compile model------------------------------------------------------------------\n",
        "ecgModel.compile(loss='categorical_crossentropy',\n",
        "              optimizer=Adam(),\n",
        "              metrics =['accuracy'])\n",
        "\n",
        "# Create EarlyStopping monitor---------------------------------------------------\n",
        "ecgMonitor = EarlyStopping(monitor='val_loss', min_delta=1e-3, patience=50,\n",
        "                        verbose=1, mode='auto', restore_best_weights=True)\n",
        "\n",
        "# Train model--------------------------------------------------------------------\n",
        "ecgModel.fit(ecgX_train,ecgY_train,validation_data=(ecgX_test,ecgY_test),\n",
        "          callbacks=[ecgMonitor],verbose=2,epochs=1000)\n"
      ]
    },
    {
      "cell_type": "markdown",
      "metadata": {
        "id": "p_3er0EydgBh"
      },
      "source": [
        "If you code is correct you should see something similiar to the output below.\n",
        "\n",
        "~~~text\n",
        "Epoch 1/1000\n",
        "22/22 - 2s - 98ms/step - accuracy: 0.5247 - loss: 1.0418 - val_accuracy: 0.5609 - val_loss: 1.0121\n",
        "Epoch 2/1000\n",
        "22/22 - 0s - 16ms/step - accuracy: 0.6148 - loss: 0.9552 - val_accuracy: 0.5609 - val_loss: 1.0294\n",
        "Epoch 3/1000\n",
        "22/22 - 0s - 14ms/step - accuracy: 0.6148 - loss: 0.9583 - val_accuracy: 0.5609 - val_loss: 1.0167\n",
        "Epoch 4/1000\n",
        "22/22 - 0s - 13ms/step - accuracy: 0.6148 - loss: 0.9548 - val_accuracy: 0.5609 - val_loss: 1.0108\n",
        "Epoch 5/1000\n",
        "22/22 - 0s - 14ms/step - accuracy: 0.6148 - loss: 0.9574 - val_accuracy: 0.5609 - val_loss: 1.0141\n",
        "\n",
        ".................\n",
        "\n",
        "Epoch 79/1000\n",
        "22/22 - 0s - 6ms/step - accuracy: 0.6308 - loss: 0.8164 - val_accuracy: 0.5565 - val_loss: 0.9527\n",
        "Epoch 80/1000\n",
        "22/22 - 0s - 8ms/step - accuracy: 0.6352 - loss: 0.8153 - val_accuracy: 0.5696 - val_loss: 0.9686\n",
        "Epoch 81/1000\n",
        "22/22 - 0s - 13ms/step - accuracy: 0.6337 - loss: 0.8243 - val_accuracy: 0.5783 - val_loss: 0.9780\n",
        "Epoch 82/1000\n",
        "22/22 - 0s - 9ms/step - accuracy: 0.6279 - loss: 0.8294 - val_accuracy: 0.5609 - val_loss: 0.9549\n",
        "Epoch 83/1000\n",
        "22/22 - 0s - 11ms/step - accuracy: 0.6352 - loss: 0.8141 - val_accuracy: 0.5609 - val_loss: 0.9607\n",
        "Epoch 84/1000\n",
        "22/22 - 0s - 8ms/step - accuracy: 0.6308 - loss: 0.8096 - val_accuracy: 0.5609 - val_loss: 0.9645\n",
        "Epoch 84: early stopping\n",
        "Restoring model weights from the end of the best epoch: 34.\n",
        "<keras.src.callbacks.history.History at 0x7a0258edabc0>\n",
        "~~~\n",
        "\n",
        "In this particular run, the model `egcModel` reached the lowest validation loss (`val_loss: 0.9301`) after 34 epochs."
      ]
    },
    {
      "cell_type": "markdown",
      "metadata": {
        "id": "-wXyaGrxdgBh"
      },
      "source": [
        "### **Exercise 9: Construct, Compile and Train Multiclass Classification Neural Network**\n",
        "\n",
        "In the cell below construct, compile and train a multiclass classification neural network model called `irisModel` using the code in Example 8 as a template.\n",
        "\n",
        "Start by splitting the X-values stored in `irisX` into `irisX_train` and `irisX_test` sets with 75% being used for training. Similarily, split the Y-values stores in `irisY` are split into `irisY_train` and `irisY_test` sets.\n",
        "\n",
        "Build a linear (\"sequential\") muticlass classsification neural network called `irisModel` with 3 hidden layers. SpecirisY the number of inputs by the argument `irisX.shape[1]` and specirisY the number of neurons in the output layer by the argument `irisY.shape[1]`. Since there are 3 classes in `irisY` (`Iris-setosa`, `Iris-versicolor`, `Iris-virginica`) the output layer will have 3 neurons--one neuron for each class.\n",
        "\n",
        "Once the model is constructed, compile it using the loss function, `categorical_crossentropy` with the `Adam` optimizer.\n",
        "\n",
        "Create an EarlyStopping monitor called, `irisMoniter` and specirisY the monitor to wait `20` epochs for the validation loss to start improving after reaching a local minimum, before termining the training.\n",
        "\n",
        "Finally, fit your model `irisModel` to the training and test (validation) data sets for 1000 epochs."
      ]
    },
    {
      "cell_type": "code",
      "execution_count": null,
      "metadata": {
        "scrolled": true,
        "id": "aVFB9B8rdgBh"
      },
      "outputs": [],
      "source": [
        "# Insert your code for Exercise 9 here\n"
      ]
    },
    {
      "cell_type": "markdown",
      "metadata": {
        "id": "pyNI6YtEdgBh"
      },
      "source": [
        "If you code is correct you should see something similiar to the output below.\n",
        "\n",
        "~~~text\n",
        "Epoch 1/1000\n",
        "4/4 - 2s - 493ms/step - accuracy: 0.3393 - loss: 1.0969 - val_accuracy: 0.3158 - val_loss: 1.0940\n",
        "Epoch 2/1000\n",
        "4/4 - 0s - 20ms/step - accuracy: 0.3393 - loss: 1.0933 - val_accuracy: 0.3158 - val_loss: 1.0907\n",
        "Epoch 3/1000\n",
        "4/4 - 0s - 18ms/step - accuracy: 0.3393 - loss: 1.0898 - val_accuracy: 0.3158 - val_loss: 1.0866\n",
        "Epoch 4/1000\n",
        "4/4 - 0s - 36ms/step - accuracy: 0.3393 - loss: 1.0848 - val_accuracy: 0.3158 - val_loss: 1.0808\n",
        "Epoch 5/1000\n",
        "4/4 - 0s - 29ms/step - accuracy: 0.4286 - loss: 1.0777 - val_accuracy: 0.5789 - val_loss: 1.0725\n",
        "\n",
        "........................\n",
        "\n",
        "Epoch 449/1000\n",
        "4/4 - 0s - 31ms/step - accuracy: 0.9821 - loss: 0.0666 - val_accuracy: 0.9737 - val_loss: 0.0346\n",
        "Epoch 450/1000\n",
        "4/4 - 0s - 39ms/step - accuracy: 0.9732 - loss: 0.0531 - val_accuracy: 0.9474 - val_loss: 0.0512\n",
        "Epoch 451/1000\n",
        "4/4 - 0s - 29ms/step - accuracy: 0.9643 - loss: 0.0734 - val_accuracy: 0.9737 - val_loss: 0.0430\n",
        "Epoch 452/1000\n",
        "4/4 - 0s - 26ms/step - accuracy: 0.9821 - loss: 0.0626 - val_accuracy: 0.9737 - val_loss: 0.0335\n",
        "Epoch 453/1000\n",
        "4/4 - 0s - 35ms/step - accuracy: 0.9732 - loss: 0.0566 - val_accuracy: 0.9737 - val_loss: 0.0334\n",
        "Epoch 453: early stopping\n",
        "Restoring model weights from the end of the best epoch: 403.\n",
        "<keras.src.callbacks.history.History at 0x7a025a8eb1c0>\n",
        "~~~\n",
        "\n",
        "In this particular run, the model irisModel reached the lowest validation loss (`val_loss: 0.0506`) after 403 epochs.\n"
      ]
    },
    {
      "cell_type": "markdown",
      "metadata": {
        "id": "vr9U9rgvK1AR"
      },
      "source": [
        "## **Calculate Classification Accuracy**\n",
        "\n",
        "Accuracy is the number of rows where the neural network correctly predicted the target class.  Accuracy is _only_ used for classification, not regression.\n",
        "\n",
        "$$ accuracy = \\frac{c}{N} $$\n",
        "\n",
        "Where $c$ is the number correct and $N$ is the size of the evaluated set (training or validation). Higher accuracy numbers are desired.\n",
        "\n",
        "As we just saw, by default, Keras will return the percent probability for each class. We can change these prediction probabilities into the actual prediction values with **argmax**. For each prediction, argmax \"looks\" at the numerical value in each of the output neurons and assigns a value of one to the neuron with the highest values. In other words, this is an example of a \"winner take all\" strategy. The output neuron that \"wins\" represents the model's prediction for that particular combination of X values for one subject assigned to the training (validation) set.  "
      ]
    },
    {
      "cell_type": "markdown",
      "metadata": {
        "id": "g99EGcgFdgBh"
      },
      "source": [
        "### Example 10: Convert Prediction Probabilites into Actual Prediction Values\n",
        "\n",
        "The code in the cell below, uses `argmax` method to convert prediction probabilites from the `ecgModel` into actual prediction values. The `ecgModel` has three output neurons, the first one representing `RestingECG` class `LVH` (left ventricular hypertropy), the second one representing the class `Normal` and the third one representing the class `ST` (ST interval elevation). For each of the 230 subjects randomly assigned to the `ecgX_test` validation dataset, the model `ecgModel` will process the X-values for each subject and predicts the **_probability_** that the subject belongs to each class of `RestingECG` stores these prediction probabilites in a variable called `ecgProb`.\n",
        "\n",
        "What is actually stored in `ecgProb` is a 3-element numpy array for each of the 230 subjects in `ecgX_test` with the prediction probability values of the 3 output neurons. For example, here are the prediction probabilites values in `ecgProb` for the first subject in the `ecgX_test` data set:\n",
        "~~~text\n",
        "[[0.24944986 0.501199   0.24935108]]\n",
        "~~~\n",
        "\n",
        "The first value, `0.24944986` is the model's probability prediction that the subject had the `LVH` class of `RestingECG`, `0.501199` is the model's prediction probability that this subject had the `Normal` class and `0.24935108` the prediction probability that the subject had the `ST` class. As might be expected, the sum of these three values is 1.0.\n",
        "\n",
        "These prediction probabilites are converted into actual predictions using this line of code:\n",
        "~~~text\n",
        "ecgPred = np.argmax(ecgP1,axis=1)\n",
        "~~~\n",
        "\n",
        "The function `np.argmax()` sequentially processes each 3-element array in `ecgProb` and generates a new array called `ecgPred`. The array `ecgPred` will have a single integer value: `0`, `1` or `2` , for each subject in `x_test`, depending on prediction probabilities. If first value is the highest, `np.argmax()` will place a `0` in `ecgPred`, if the second value is the highest, the number `1` will be placed in `ecgPred`, and so forth. Subject 1, in the example above, would be assigned the value `1` since the second output neuron had the highest probability (`0.501199`). In other words, `np.argmax` assigns the model's actual prediction, `0`, `1` or `2`, to the output neuron with the highest probability prediction.\n",
        " subject.  "
      ]
    },
    {
      "cell_type": "code",
      "source": [
        "# Example 10: Convert Prediction Probabilites into Actual Prediction Values\n",
        "\n",
        "import tensorflow as tf\n",
        "\n",
        "# Define the predict function outside of any loops to prevent retracing\n",
        "@tf.function\n",
        "def predict_probabilities(model, inputs):\n",
        "    return model(inputs)\n",
        "\n",
        "# Use model to predict probabilities for subjects in x_test\n",
        "ecgProb = predict_probabilities(ecgModel, ecgX_test)\n",
        "\n",
        "# Print prediction probabilities (first 6 samples)\n",
        "print(f\"Prediction Probabilities (first 6):\\n{ecgProb[0:6]}\")\n",
        "\n",
        "# Use argmax to convert probabilities to prediction values\n",
        "ecgPred = tf.argmax(ecgProb, axis=1)\n",
        "\n",
        "# Print out prediction values (first 6 samples)\n",
        "print(f\"Prediction Values (first 6):\\n{ecgPred.numpy()[0:6]}\")\n"
      ],
      "metadata": {
        "id": "E0ZzSPNRY4gg",
        "colab": {
          "base_uri": "https://localhost:8080/"
        },
        "outputId": "75c1a1b8-4990-4392-b7f6-c7aba09100ed"
      },
      "execution_count": 12,
      "outputs": [
        {
          "output_type": "stream",
          "name": "stdout",
          "text": [
            "Prediction Probabilities (first 6):\n",
            "[[0.207  0.5493 0.2436]\n",
            " [0.1508 0.6017 0.2475]\n",
            " [0.1575 0.6764 0.1661]\n",
            " [0.375  0.5299 0.0951]\n",
            " [0.2577 0.6583 0.084 ]\n",
            " [0.2308 0.5624 0.2069]]\n",
            "Prediction Values (first 6):\n",
            "[1 1 1 1 1 1]\n"
          ]
        }
      ]
    },
    {
      "cell_type": "markdown",
      "metadata": {
        "id": "n3HVoe7QdgBi"
      },
      "source": [
        "If your code is correct you should see something similiar to the output below."
      ]
    },
    {
      "cell_type": "markdown",
      "metadata": {
        "id": "LgcEe9XPdgBi"
      },
      "source": [
        "~~~text\n",
        "Prediction Probabilities (first 6):\n",
        "[[0.1829 0.57   0.2471]\n",
        " [0.1563 0.582  0.2616]\n",
        " [0.1329 0.6982 0.169 ]\n",
        " [0.3349 0.5634 0.1018]\n",
        " [0.2448 0.6693 0.0859]\n",
        " [0.2089 0.5905 0.2006]]\n",
        "Prediction Values (first 6):\n",
        "[1 1 1 1 1 1]\n",
        "~~~"
      ]
    },
    {
      "cell_type": "markdown",
      "metadata": {
        "id": "7pJM5FPjdgBi"
      },
      "source": [
        "Clearly, our model `ecgModel` is **_not_** very certain when it comes to predicting the `RestingECG` class. Essentially the model is saying that there is a 50% chance most subjects will have a `RestingECG` that is `Normal`, and a 50% chance that the subject's `RestingECG` will not be normal. This is basically the same accuracy as \"coin-flipping\".\n",
        "\n",
        "There is no guarantee that a neural network model you build will be especially accurate when fitted to given dataset! In this case, the relatively low number of test subjects in the dataset (_n_=918) is probably a main reason for the low accuracy. It is also possible that the class of `RestingECG` is not strongly dependent on the clinical variables used in the training set, `ecgX_train`.   "
      ]
    },
    {
      "cell_type": "markdown",
      "metadata": {
        "id": "zJPRx5ssdgBi"
      },
      "source": [
        "### **Exercise 10: Convert Prediction Probabilites into Actual Prediction Values**\n",
        "\n",
        "In the cell below write the code to generate an Numpy array called `ifProb` that contains the prediction probabilities for all of the Iris flowers in the validation set, `irisX_train`. Print out the first 6 values in `ifProb`. The use the function `np.argmax()` to convert these prediction probabilites into actual predictions. Store the model's actual predictions in a new Numpy array called `irisPred`. Print out the first 6 values in `irisPred`."
      ]
    },
    {
      "cell_type": "code",
      "execution_count": null,
      "metadata": {
        "id": "VHKqsGs-dgBi"
      },
      "outputs": [],
      "source": [
        "# Insert your code for Exercise 10 here\n",
        "\n"
      ]
    },
    {
      "cell_type": "markdown",
      "metadata": {
        "id": "TZUeRWupdgBi"
      },
      "source": [
        "If your code is correct you should see something similar to the following output:"
      ]
    },
    {
      "cell_type": "markdown",
      "metadata": {
        "id": "LCoNHt9ZdgBi"
      },
      "source": [
        "~~~text\n",
        "Prediction Probabilities (first 6):\n",
        "[[0.     0.9938 0.0062]\n",
        " [0.     0.0025 0.9975]\n",
        " [1.     0.     0.    ]\n",
        " [0.     0.997  0.003 ]\n",
        " [1.     0.     0.    ]\n",
        " [0.0004 0.9984 0.0013]]\n",
        "Prediction Values (first 6):\n",
        "[1 2 0 1 0 1]\n",
        "~~~"
      ]
    },
    {
      "cell_type": "markdown",
      "metadata": {
        "id": "qQsCnwjidgBi"
      },
      "source": [
        "Compared the model `ecgModel`, the Iris Flower model, `irisModel` is clearly more certain about which `species` class to assign to the flowers in the validation data set `irisX_test`. In the example above, the model `irisModel` predicted that the first flower in the validation data set had the following probabilites:\n",
        "\n",
        "~~~text\n",
        "0.     0.9938 0.0062\n",
        "~~~\n",
        "\n",
        "In other words, `irisModel` predicts that there is an essentially `0%` chance that the first flower in the validation test set is `Iris setosa`, a `99%` chance that the flower species is `Iris versicolor` and less than a `1%` chance that the flower species is `Iris virginica`.\n",
        "\n",
        "The Numpy function, `np.argmax()` places a `1` in `irisPred` representing `Iris versicolor` as the model's actual prediction for the first flower.\n",
        "\n",
        "Even though the Iris flower dataset is much smaller (_n_ =150) than the Heart Disease dataset (_n_ =918), why do you think the neural network constructed in **Exercise 9** so much more accurate?\n",
        "\n",
        "The answer lies in the different nature of the two datasets. It turns out that the sepal and petal dimensions of Iris flowers are **very** species specific. It simply not that hard for a neural network to figure out the correct relationships (i.e. connection weights) between the neurons in the hidden layers so that a particular set of sepal and petal dimensions (X values) end up going to correct output neuron.\n",
        "\n",
        "On the other hand, humans often exhibit a wide range of variations in their characteristics. This is especially true for the measurements found in medical/clinical datasets. **_If_** there is a correlation between clinical values, it may take a very large dataset for a neural network to correctly identirisY these correlations.     "
      ]
    },
    {
      "cell_type": "markdown",
      "metadata": {
        "id": "6_a5WcpJK1AS"
      },
      "source": [
        "### Example 11: Compute the Percent Accuracy\n",
        "\n",
        "Now that we have the actual `RestingECG` type predicted for each subject in the validation test set (`ecgX_test), we can calculate the percent accuracy (how many were correctly classified). The code for doing this is shown in the next cell.\n",
        "\n",
        "In the first step, a Numpy array called `ecg_compare` is created. This array contains the actual `RestingEGC` value for each subject in the validation set, where `0` represents `LVH`, `1` represents `Normal` and `2` represents `ST`.\n",
        "\n",
        "In the next step, the function `metric.accuracy_score()` from the `sklean` library computes the accuracy score by comparing the **actual** RestingECG values in `ecg_compare` with the **_predicted_** RestingECG values stored in `ecgPred` and returns the accuracy in the variable called `score`.  "
      ]
    },
    {
      "cell_type": "code",
      "source": [
        "# Example 11: Compute percent accuracy\n",
        "\n",
        "import numpy as np\n",
        "from sklearn import metrics\n",
        "\n",
        "# Generate array containing actual class type\n",
        "ecgY_compare = np.argmax(ecgY_test, axis=1)\n",
        "print(f'First 6 values in Y_compare: {ecgY_compare[0:6]}')\n",
        "\n",
        "# Make sure ecgPred is also a NumPy array on the CPU\n",
        "if not isinstance(ecgPred, np.ndarray):\n",
        "    ecgPred = ecgPred.numpy()\n",
        "\n",
        "# Compute the percentage score\n",
        "score = metrics.accuracy_score(ecgY_compare, ecgPred)\n",
        "\n",
        "# Print out the score\n",
        "print(\"Accuracy score: {}\".format(score))\n"
      ],
      "metadata": {
        "id": "KSdlf2jHmyG_",
        "colab": {
          "base_uri": "https://localhost:8080/"
        },
        "outputId": "c52e7d3a-2388-42f8-9393-f0b3e23855f3"
      },
      "execution_count": 13,
      "outputs": [
        {
          "output_type": "stream",
          "name": "stdout",
          "text": [
            "First 6 values in Y_compare: [1 2 1 2 0 1]\n",
            "Accuracy score: 0.5652173913043478\n"
          ]
        }
      ]
    },
    {
      "cell_type": "markdown",
      "metadata": {
        "id": "9QzN18pIdgBj"
      },
      "source": [
        "If your code is correct you should see something like the following output:"
      ]
    },
    {
      "cell_type": "markdown",
      "metadata": {
        "id": "sdnbftm-dgBj"
      },
      "source": [
        "~~~text\n",
        "First 6 values in Y_compare: [1 2 1 2 0 1]\n",
        "Accuracy score: 0.5652173913043478\n",
        "~~~"
      ]
    },
    {
      "cell_type": "markdown",
      "metadata": {
        "id": "U1CTJt7xdgBj"
      },
      "source": [
        "In this run, the model `ecgModel` was only able to predict the correct class of `RestingECG` about 56% of the time. Not especially impressive, but it's about what we would have expected."
      ]
    },
    {
      "cell_type": "markdown",
      "metadata": {
        "id": "SiG6NOchdgBj"
      },
      "source": [
        "### **Exercise 11: Compute the Percent Accuracy**\n",
        "\n",
        "In the cell below, compute the accuracy score for your model `irisModel` using Example 11 as a template. Store the actual species name (class value) in an array called `irisY_compare` and print out the first 6 values. Use the function `metrics.accuracy_score()` to compute the accuracy of your model and print it out."
      ]
    },
    {
      "cell_type": "code",
      "execution_count": null,
      "metadata": {
        "id": "1NuxoNIodgBj"
      },
      "outputs": [],
      "source": [
        "# Insert your code for Exercise 11 here\n",
        "\n"
      ]
    },
    {
      "cell_type": "markdown",
      "metadata": {
        "id": "fY3p9BN1dgBj"
      },
      "source": [
        "If your code is correct you should see something like the following output:"
      ]
    },
    {
      "cell_type": "markdown",
      "metadata": {
        "id": "jbsF8pQtdgBj"
      },
      "source": [
        "~~~text\n",
        "First 6 values in Y_compare: [1 0 2 1 1 0]\n",
        "Accuracy score: 0.9736842105263158\n",
        "~~~"
      ]
    },
    {
      "cell_type": "markdown",
      "metadata": {
        "id": "86YdXfKKdgBj"
      },
      "source": [
        "As might be expected, your model `irisModel` is able predict the correct species of Iris flower with more than 95% accuracy!"
      ]
    },
    {
      "cell_type": "markdown",
      "metadata": {
        "id": "1zlG17MKK1AS"
      },
      "source": [
        "## **Calculate Classification Log Loss**\n",
        "\n",
        "**_Log loss_**, also known as logarithmic loss or cross-entropy loss, is a common evaluation metric used in machine learning, particularly for binary classification problems. It measures the performance of a classification model by penalizing false classifications.\n",
        "\n",
        "In binary classification, where the target variable has two classes (usually labeled as 0 and 1), log loss is calculated as the negative logarithm of the predicted probability assigned to the correct class. The formula for log loss for a single observation is:\n",
        "\n",
        "$\\text{Log Loss} = - \\frac{1}{N} \\sum_{i=1}^{N} \\left[ y_i \\log(p_i) + (1 - y_i) \\log(1 - p_i) \\right]$\n",
        "\n",
        "where:\n",
        "\n",
        "&nbsp;&nbsp;&nbsp;&nbsp;$N$ is the number of observations, <br>\n",
        "&nbsp;&nbsp;&nbsp;&nbsp;$y_i$ is the actual class label (0 or 1) for the $i$th observation, <br>\n",
        "&nbsp;&nbsp;&nbsp;&nbsp;$p_i$ is the predicted probability that the $i$th observation belongs to class 1.\n",
        "\n",
        "A lower log loss indicates better performance, with 0 representing a perfect model and higher values indicating poorer performance. Log loss is a useful metric for evaluating the accuracy of probabilistic predictions generated by a classification model.\n"
      ]
    },
    {
      "cell_type": "markdown",
      "metadata": {
        "id": "elcUmNQwdgBj"
      },
      "source": [
        "### Example 12: Calculate Log Loss\n",
        "\n",
        "The code in the cell below calculates the log loss for the model `ecgModel`."
      ]
    },
    {
      "cell_type": "code",
      "source": [
        "# Example 12: Calculate Log Loss\n",
        "\n",
        "from IPython.display import display\n",
        "import numpy as np\n",
        "from sklearn import metrics\n",
        "\n",
        "# Generate predictions\n",
        "ecgProb = ecgModel.predict(ecgX_test)\n",
        "\n",
        "# Ensure the predicted probabilities sum to one for each sample\n",
        "print(\"Sum of probabilities for the first prediction:\", np.sum(ecgProb[0]))\n",
        "\n",
        "# Print prediction probabilities (first 6 samples)\n",
        "print(\"Numpy array of predictions\")\n",
        "display(ecgProb[0:5])\n",
        "\n",
        "# As percent probability\n",
        "print(\"As percent probability\")\n",
        "print(ecgProb[0] * 100)\n",
        "\n",
        "# Calculate log loss score\n",
        "score = metrics.log_loss(ecgY_test, ecgProb)\n",
        "print(\"Log loss score: {}\".format(score))\n",
        "\n",
        "# Convert raw probabilities to chosen class (highest probability)\n",
        "ecgPred = np.argmax(ecgProb, axis=1)\n",
        "\n",
        "# Print out prediction values (first 6 samples)\n",
        "print(ecgPred[0:6])"
      ],
      "metadata": {
        "id": "if2bDYvN09Qj",
        "colab": {
          "base_uri": "https://localhost:8080/",
          "height": 225
        },
        "outputId": "7bbb2ba6-547c-4b41-e937-76d643a9ae60"
      },
      "execution_count": 14,
      "outputs": [
        {
          "output_type": "stream",
          "name": "stdout",
          "text": [
            "\u001b[1m8/8\u001b[0m \u001b[32m━━━━━━━━━━━━━━━━━━━━\u001b[0m\u001b[37m\u001b[0m \u001b[1m0s\u001b[0m 26ms/step\n",
            "Sum of probabilities for the first prediction: 0.99999994\n",
            "Numpy array of predictions\n"
          ]
        },
        {
          "output_type": "display_data",
          "data": {
            "text/plain": [
              "array([[0.207 , 0.5493, 0.2436],\n",
              "       [0.1508, 0.6017, 0.2475],\n",
              "       [0.1575, 0.6764, 0.1661],\n",
              "       [0.375 , 0.5299, 0.0951],\n",
              "       [0.2577, 0.6583, 0.084 ]], dtype=float32)"
            ]
          },
          "metadata": {}
        },
        {
          "output_type": "stream",
          "name": "stdout",
          "text": [
            "As percent probability\n",
            "[20.7044 54.9318 24.3638]\n",
            "Log loss score: 0.9307068789015986\n",
            "[1 1 1 1 1 1]\n"
          ]
        }
      ]
    },
    {
      "cell_type": "markdown",
      "metadata": {
        "id": "AkLNRLlSdgBk"
      },
      "source": [
        "If your code is correct you should see something similar to the output below:"
      ]
    },
    {
      "cell_type": "markdown",
      "metadata": {
        "id": "-f3OPlAvdgBk"
      },
      "source": [
        "~~~text\n",
        "8/8 ━━━━━━━━━━━━━━━━━━━━ 0s 2ms/step\n",
        "Sum of probabilities for the first prediction: 0.99999994\n",
        "Numpy array of predictions\n",
        "array([[0.2209, 0.5206, 0.2585],\n",
        "       [0.1106, 0.6174, 0.272 ],\n",
        "       [0.1573, 0.6488, 0.1939],\n",
        "       [0.3576, 0.5334, 0.109 ],\n",
        "       [0.2702, 0.6347, 0.0951]], dtype=float32)\n",
        "As percent probability\n",
        "[22.0891 52.0633 25.8476]\n",
        "Log loss score: 0.9267466264226367\n",
        "[1 1 1 1 1 1]\n",
        "~~~"
      ]
    },
    {
      "cell_type": "markdown",
      "metadata": {
        "id": "kAisJZrsdgBk"
      },
      "source": [
        "The log loss score `0.93` looks pretty high. Let's see how it compares to your model `irisModel`."
      ]
    },
    {
      "cell_type": "markdown",
      "metadata": {
        "id": "1plDFC_ZdgBk"
      },
      "source": [
        "### **Exercise 12: Calculate Log Loss**\n",
        "\n",
        "In the cell below calculate the log loss for the model `irisModel`."
      ]
    },
    {
      "cell_type": "code",
      "source": [
        "# Insert your code for Exercise 12 here\n",
        "\n",
        "\n"
      ],
      "metadata": {
        "id": "X3sMHu4l0lhB"
      },
      "execution_count": null,
      "outputs": []
    },
    {
      "cell_type": "markdown",
      "metadata": {
        "id": "Aj-duSPUdgBk"
      },
      "source": [
        "If your code is correct you should see something similar to the output below:"
      ]
    },
    {
      "cell_type": "markdown",
      "metadata": {
        "id": "pY5UkW9qdgBk"
      },
      "source": [
        "~~~text\n",
        "2/2 ━━━━━━━━━━━━━━━━━━━━ 0s 6ms/step\n",
        "Sum of probabilities for the first prediction: 1.0\n",
        "Numpy array of predictions\n",
        "array([[0.0001, 0.9941, 0.0058],\n",
        "       [0.    , 0.0031, 0.9969],\n",
        "       [1.    , 0.    , 0.    ],\n",
        "       [0.0001, 0.997 , 0.0029],\n",
        "       [1.    , 0.    , 0.    ]], dtype=float32)\n",
        "As percent probability\n",
        "[ 0.0097 99.4073  0.583 ]\n",
        "Log loss score: 0.03508699879655408\n",
        "[1 2 0 1 0 1]\n",
        "Log loss score: 0.03375224627976317\n",
        "~~~"
      ]
    },
    {
      "cell_type": "markdown",
      "metadata": {
        "id": "4t9i4b5_dgBk"
      },
      "source": [
        "The log loss score for your Iris flower model, 0.03 is much lower, and therefore significantly better than the 0.92 log loss score for the model `ecgModel`."
      ]
    },
    {
      "cell_type": "markdown",
      "metadata": {
        "id": "iU3NLdorK1AS"
      },
      "source": [
        "[Log loss](https://www.kaggle.com/wiki/LogarithmicLoss) is calculated as follows:\n",
        "\n",
        "$$ \\mbox{log loss} = -\\frac{1}{N}\\sum_{i=1}^N {( {y}_i\\log(\\hat{y}_i) + (1 - {y}_i)\\log(1 - \\hat{y}_i))} $$\n",
        "\n",
        "\n",
        "You should use this equation only as an objective function for classifications that have two outcomes. The variable y-hat is the neural network’s prediction, and the variable y is the known correct answer.  In this case, y will always be 0 or 1.  The training data have no probabilities. The neural network classifies it either into one class (1) or the other (0).  \n",
        "\n",
        "The variable N represents the number of elements in the training set the number of questions in the test.  We divide by N because this process is customary for an average.  We also begin the equation with a negative because the log function is always negative over the domain 0 to 1.  This negation allows a positive score for the training to minimize.\n",
        "\n",
        "You will notice two terms are separated by the addition (+).  Each contains a log function.  Because y will be either 0 or 1, then one of these two terms will cancel out to 0.  If y is 0, then the first term will reduce to 0.  If y is 1, then the second term will be 0.  \n",
        "\n",
        "If your prediction for the first class of a two-class prediction is y-hat, then your prediction for the second class is 1 minus y-hat.  Essentially, if your prediction for class A is 70% (0.7), then your prediction for class B is 30% (0.3).  Your score will increase by the log of your prediction for the correct class.  If the neural network had predicted 1.0 for class A, and the correct answer was A, your score would increase by log (1), which is 0. For log loss, we seek a low score, so a correct answer results in 0.  Some of these log values for a neural network's probability estimate for the correct class:\n",
        "\n",
        "* -log(1.0) = 0\n",
        "* -log(0.95) = 0.02\n",
        "* -log(0.9) = 0.05\n",
        "* -log(0.8) = 0.1\n",
        "* -log(0.5) = 0.3\n",
        "* -log(0.1) = 1\n",
        "* -log(0.01) = 2\n",
        "* -log(1.0e-12) = 12\n",
        "* -log(0.0) = negative infinity\n",
        "\n",
        "As you can see, giving a low confidence to the correct answer affects the score the most.  Because log (0) is negative infinity, we typically impose a minimum value.  Of course, the above log values are for a single training set element.  We will average the log values for the entire training set.\n",
        "\n",
        "The log function is useful to penalizing wrong answers.  The following code demonstrates the utility of the log function:"
      ]
    },
    {
      "cell_type": "code",
      "source": [
        "%matplotlib inline\n",
        "from matplotlib.pyplot import figure, show\n",
        "from numpy import arange, log\n",
        "\n",
        "# Start t from a small positive value to avoid log(0)\n",
        "t = arange(1e-10, 1.0, 0.00001)  # data scientists\n",
        "\n",
        "fig = figure(1, figsize=(10, 8))\n",
        "ax1 = fig.add_subplot(211)\n",
        "ax1.plot(t, log(t))\n",
        "ax1.grid(True)\n",
        "ax1.set_ylim((-8, 1.5))\n",
        "ax1.set_xlim((-0.1, 1))\n",
        "ax1.set_xlabel('x')\n",
        "ax1.set_ylabel('y')\n",
        "ax1.set_title('log(x)')\n",
        "show()\n"
      ],
      "metadata": {
        "id": "4yTjv4fct11H",
        "colab": {
          "base_uri": "https://localhost:8080/",
          "height": 382
        },
        "outputId": "2571e34a-bff8-448e-b96c-87d7c68da5ed"
      },
      "execution_count": 15,
      "outputs": [
        {
          "output_type": "display_data",
          "data": {
            "text/plain": [
              "<Figure size 1000x800 with 1 Axes>"
            ],
            "image/png": "[encoded data removed]"
          },
          "metadata": {}
        }
      ]
    },
    {
      "cell_type": "markdown",
      "metadata": {
        "id": "OnyNhfdnvDNT"
      },
      "source": [
        "If code is correct you should see the following plot:\n",
        "\n",
        "![ROCCurve](https://biologicslab.co/BIO1173/images/class_04/class_04_2_image04.png)"
      ]
    },
    {
      "cell_type": "markdown",
      "metadata": {
        "id": "ZaRtddpcK1AT"
      },
      "source": [
        "## **Confusion Matrix**\n",
        "\n",
        "A **Confusion Matrix** is a performance measurement tool used in machine learning for evaluating the accuracy of a classification model. It is a table that allows visualization of the performance of a model by comparing the actual values of the target variable with the predicted values. The confusion matrix is particularly useful for evaluating the performance of a classification model on a dataset with known class labels.\n",
        "\n",
        "The confusion matrix is organized into a grid with four possible outcomes:\n",
        "\n",
        "* **True Positives (TP):** The number of correct predictions that the model has made for the positive class.\n",
        "* **True Negatives (TN):** The number of correct predictions that the model has made for the negative class.\n",
        "* **False Positives (FP):** The number of incorrect predictions that the model has made, predicting a positive class when the actual class is negative (Type I error).\n",
        "* **False Negatives (FN):** The number of incorrect predictions that the model has made, predicting a negative class when the actual class is positive (Type II error).\n",
        "\n",
        "The confusion matrix enables the calculation of various evaluation metrics such as accuracy, precision, recall, F1 score, and specificity. These metrics help in assessing the model's performance, identirisYing potential areas for improvement, and making informed decisions about the model's effectiveness for the given classification task.\n",
        "\n",
        "In other words, a confusion matrix shows which predicted classes are often confused for the other classes. The vertical axis (y) represents the true labels and the horizontal axis (x) represents the predicted labels. When the true label and predicted label are the same, the highest values occur down the diagonal extending from the upper left to the lower right. The other values, outside the diagonal, represent incorrect predictions. For example, in the confusion matrix below, the value in row 2, column 1 shows how often the predicted value A occurred when it should have been B."
      ]
    },
    {
      "cell_type": "markdown",
      "metadata": {
        "id": "F0jq8N1ddgBl"
      },
      "source": [
        "### Example 13: Generate Confusion Matrix\n",
        "\n",
        "The code in the cell below generates a Confusion Matrix for the model `ecgModel`. It uses the function `plot_confusion_matrix()` that was defined earlier in this lesson. To generate the Confusion Matrix, only two arguments need to be passed to the plotting function, the actual values of the `RestingEGC` of the patients in the validation set (i.e. `ecgY_compare`), and the model's predicted values for these patients (i.e. `ecgPred`)."
      ]
    },
    {
      "cell_type": "code",
      "execution_count": 16,
      "metadata": {
        "id": "1pvqhwRcK1AT",
        "scrolled": true,
        "colab": {
          "base_uri": "https://localhost:8080/",
          "height": 575
        },
        "outputId": "3d46239b-0dee-4fc7-e244-ef796748fec1"
      },
      "outputs": [
        {
          "output_type": "stream",
          "name": "stdout",
          "text": [
            "Normalized confusion matrix\n",
            "[[0.14 0.86 0.  ]\n",
            " [0.05 0.95 0.  ]\n",
            " [0.02 0.98 0.  ]]\n"
          ]
        },
        {
          "output_type": "display_data",
          "data": {
            "text/plain": [
              "<Figure size 640x480 with 2 Axes>"
            ],
            "image/png": "[encoded data removed]"
          },
          "metadata": {}
        }
      ],
      "source": [
        "# Example 13: Generate confusion matrix\n",
        "\n",
        "import numpy as np\n",
        "from sklearn import svm, datasets\n",
        "from sklearn.model_selection import train_test_split\n",
        "from sklearn.metrics import confusion_matrix\n",
        "\n",
        "# Compute confusion matrix\n",
        "cm = confusion_matrix(ecgY_compare, ecgPred)\n",
        "np.set_printoptions(precision=2)\n",
        "\n",
        "# Normalize the confusion matrix by row (i.e by the number of samples\n",
        "# in each class)\n",
        "cm_normalized = cm.astype('float') / cm.sum(axis=1)[:, np.newaxis]\n",
        "print('Normalized confusion matrix')\n",
        "print(cm_normalized)\n",
        "plt.figure()\n",
        "plot_confusion_matrix(cm_normalized, ECGclasses,\n",
        "        title='Normalized confusion matrix')\n",
        "\n",
        "plt.show()"
      ]
    },
    {
      "cell_type": "markdown",
      "metadata": {
        "id": "PXqEFTl9dgBl"
      },
      "source": [
        "If your code is correct you should see a figure similar to the one below:\n",
        "\n",
        "![___](https://biologicslab.co/BIO1173/images/class_04_2_CM1.png)\n"
      ]
    },
    {
      "cell_type": "markdown",
      "metadata": {
        "id": "b8QeTdZrdgBl"
      },
      "source": [
        "In this particular Confusion Matrix shown above for the model `ecgModel`, indicates that it predicted the `RestingEGC` was normal for nearly **_every_** subject in the validation (test) set, irregardless of their actual type. The model was able to correctly identirisY patients with LVH only 8% of the time but missidentified the remaining 90%  as having a normal `RestingECG` the rest of the time. The model was never able to identirisY any of the patients in the validation data set who had a `RestingECG` of the type `ST`.\n",
        "\n",
        "Based on our results so far, we should expect your model `irisModel` to generate a much different looking Confusion Matrix."
      ]
    },
    {
      "cell_type": "markdown",
      "metadata": {
        "id": "YBovRPzfdgBl"
      },
      "source": [
        "### **Exercise 13: Generate Confusion Matrix**\n",
        "\n",
        "In the cell below write the code to generate a Confusion Matrix for your Iris flower model, `irisModel`, using Example 13 as a template. Use the variable `IRIS_species` instead of `ECGclasses` when you give the command `plot_confusion_mactrix()`."
      ]
    },
    {
      "cell_type": "code",
      "execution_count": null,
      "metadata": {
        "id": "WWXJXD2rdgBl"
      },
      "outputs": [],
      "source": [
        "# Insert your code for Exercise 13 here\n",
        "\n"
      ]
    },
    {
      "cell_type": "markdown",
      "metadata": {
        "id": "J7zGRz9ndgBl"
      },
      "source": [
        "If your code is correct you should see the figure below:\n",
        "\n",
        "![___](https://biologicslab.co/BIO1173/images/class_04_2_CM2a.png)\n"
      ]
    },
    {
      "cell_type": "markdown",
      "metadata": {
        "id": "gv0wSPFkdgBl"
      },
      "source": [
        "### **Analysis of the Confusion Matrix**\n",
        "\n",
        "Let's analyze the Confusion Matrix above to see what is says about your Iris Flower model, `irisModel`.\n",
        "\n",
        "Based on the Confusion Matrix your `irisModel` was able to predict, with 100% accuracy, the correct species of flowers obtained from both _`Iris setosa`_ (top left) and _`Iris virginica`_ (bottom right). The top left and bottom right squares in the Confusion Matrix are colored with the darkest possible shade of blue. According to the color key shown at the right of this image, this shade of dark blue represents a value of `1.0`, which means a perfect score.\n",
        "\n",
        "When it came to flowers from the species, _`Iris versicolor`_, however, your model was accurate only about 90% of the time. Furthermore, based on the Confusion Matrix, when your model made a mistake, it invariably classified an _`Iris versicolor`_ flower as being from the species _`Iris virginica`_, but it _never_ confused the flower as being from the species _`Iris setosa`_. (Note light blue color panel in the center of the right side).\n",
        "\n",
        "If we wanted to improve our model, we should focus on ways to improve the model's ability to discrimate between flowers from these two species.\n"
      ]
    },
    {
      "cell_type": "markdown",
      "metadata": {
        "id": "7ORPxeeFdgBl"
      },
      "source": [
        "## **Lesson Turn-in**\n",
        "\n",
        "When you have completed and run all of the code cells, use the **File --> Print.. --> Save to PDF** to generate a PDF of your Colab notebook. Save your PDF as `Class_04_2.lastname.pdf` where _lastname_ is your last name, and upload the file to Canvas."
      ]
    },
    {
      "cell_type": "markdown",
      "source": [
        "## **Poly-A Tail**\n",
        "\n",
        "## **Attention Is All You Need**\n",
        "\n",
        "![__](https://upload.wikimedia.org/wikipedia/commons/8/8f/The-Transformer-model-architecture.png)\n",
        "\n",
        "**\"Attention Is All You Need\"** is a 2017 landmark research paper in machine learning authored by eight scientists working at Google. The paper introduced a new deep learning architecture known as the transformer, based on the attention mechanism proposed in 2014 by Bahdanau et al. It is considered a foundational paper in modern artificial intelligence, as the transformer approach has become the main architecture of large language models like those based on GPT. At the time, the focus of the research was on improving Seq2seq techniques for machine translation, but the authors go further in the paper, foreseeing the technique's potential for other tasks like question answering and what is now known as multimodal Generative AI.\n",
        "\n",
        "The paper's title is a reference to the song \"All You Need Is Love\" by the Beatles. The name \"Transformer\" was picked because Jakob Uszkoreit, one of the paper's authors, liked the sound of that word.\n",
        "\n",
        "An early design document was titled \"Transformers: Iterative Self-Attention and Processing for Various Tasks\", and included an illustration of six characters from the Transformers animated show. The team was named Team Transformer.\n",
        "\n",
        "Some early examples that the team tried their Transformer architecture on included English-to-German translation, generating Wikipedia articles on \"The Transformer\", and parsing. These convinced the team that the Transformer is a general purpose language model, and not just good for translation.\n",
        "\n",
        "As of 2024, the paper has been cited more than 140,000 times.\n",
        "\n",
        "**Authors**\n",
        "\n",
        "The authors of the paper are: Ashish Vaswani, Noam Shazeer, Niki Parmar, Jakob Uszkoreit, Llion Jones, Aidan Gomez, Lukasz Kaiser, and Illia Polosukhin. All eight authors were \"equal contributors\" to the paper; the listed order was randomized. The Wired article highlights the group's diversity:\n",
        "\n",
        "Six of the eight authors were born outside the United States; the other two are children of two green-card-carrying Germans who were temporarily in California and a first-generation American whose family had fled persecution, respectively.\n",
        "\n",
        "**Methods discussed & introduced**\n",
        "\n",
        "The paper is most well known for the introduction of the Transformer architecture, which forms the underlying architecture for most forms of modern Large Language Models (LLMs). A key reason for why the architecture is preferred by most modern LLMs is the parallelizability of the architecture over its predecessors. This ensures that the operations necessary for training can be accelerated on a GPU allowing both faster training times and models of bigger sizes to be trained.\n",
        "\n",
        "The following mechanisms were introduced by the paper as part of the development of the transformer architecture.\n",
        "\n",
        "**Scaled dot-product attention & self-attention**\n",
        "\n",
        "The use of the scaled dot-product attention and self-attention mechanism instead of an RNN or LSTM (which rely on recurrence instead) allow for better performance as described in the following paragraph.\n",
        "\n",
        "Since the model relies on Query (Q), Key (K) and Value (V) matrices that come from the same source itself (i.e. the input sequence / context window), this eliminates the need for RNNs completely ensuring parallelizability for the architecture. This differs from the original form of the Attention mechanism introduced in 2014. Additionally, the paper also discusses the use of an additional scaling factor that was found to be most effective with respect to the dimension of the key vectors.\n",
        "\n",
        "In the specific context of translation which the paper focused on, the Query and Key matrices are usually represented in embeddings corresponding to the source language while the Value matrix corresponds to the target language.\n",
        "\n",
        "**Multi-head attention**\n",
        "\n",
        "In the self-attention mechanism, queries (Q), keys (K), and values (V) are dynamically generated for each input sequence (limited typically by the size of the context window), allowing the model to focus on different parts of the input sequence at different steps. Multi-head attention enhances this process by introducing multiple parallel attention heads. Each attention head learns different linear projections of the Q, K, and V matrices. This allows the model to capture different aspects of the relationships between words in the sequence simultaneously, rather than focusing on a single aspect.\n",
        "\n",
        "By doing this, multi-head attention ensures that the input embeddings are updated from a more varied and diverse set of perspectives. After the attention outputs from all heads are calculated, they are concatenated and passed through a final linear transformation to generate the output.\n",
        "\n",
        "**Positional encoding**\n",
        "\n",
        "Since the Transformer model is not a seq2seq model and does not rely on the sequence of the text in order to perform encoding and decoding, the paper relied on the use of sine and cosine wave functions to encode the position of the token into the embedding.\n",
        "\n",
        "** Historical context**\n",
        "\n",
        "For many years, sequence modelling and generation was done by using plain recurrent neural networks (RNNs). A well-cited early example was the Elman network (1990). In theory, the information from one token can propagate arbitrarily far down the sequence, but in practice the vanishing-gradient problem leaves the model's state at the end of a long sentence without precise, extractable information about preceding tokens.\n",
        "\n",
        "A key breakthrough was LSTM (1995), a RNN which used various innovations to overcome the vanishing gradient problem, allowing efficient learning of long-sequence modelling. One key innovation was the use of an attention mechanism which used neurons that multiply the outputs of other neurons, so-called multiplicative units. Neural networks using multiplicative units were later called sigma-pi networks or higher-order networks. LSTM became the standard architecture for long sequence modelling until the 2017 publication of Transformers. However, LSTM still used sequential processing, like most other RNNs. Specifically, RNNs operate one token at a time from first to last; they cannot operate in parallel over all tokens in a sequence.\n",
        "\n",
        "Modern Transformers overcome this problem, but unlike RNNs, they require computation time that is quadratic in the size of the context window. The linearly scaling fast weight controller (1992) learns to compute a weight matrix for further processing depending on the input. One of its two networks has \"fast weights\" or \"dynamic links\" (1981). A slow neural network learns by gradient descent to generate keys and values for computing the weight changes of the fast neural network which computes answers to queries. This was later shown to be equivalent to the unnormalized linear Transformer."
      ],
      "metadata": {
        "id": "RYHW6OYFnjoU"
      }
    },
    {
      "cell_type": "code",
      "source": [],
      "metadata": {
        "id": "zuuvXsWDpNuS"
      },
      "execution_count": null,
      "outputs": []
    }
  ],
  "metadata": {
    "kernelspec": {
      "display_name": "Python 3 (ipykernel)",
      "language": "python",
      "name": "python3"
    },
    "language_info": {
      "codemirror_mode": {
        "name": "ipython",
        "version": 3
      },
      "file_extension": ".py",
      "mimetype": "text/x-python",
      "name": "python",
      "nbconvert_exporter": "python",
      "pygments_lexer": "ipython3",
      "version": "3.11.5"
    },
    "colab": {
      "provenance": [],
      "include_colab_link": true
    }
  },
  "nbformat": 4,
  "nbformat_minor": 0
}