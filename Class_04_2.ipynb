{
 "cells": [
  {
   "cell_type": "markdown",
   "metadata": {
    "id": "bLEEW13uCtiJ"
   },
   "source": [
    "<a href=\"https://colab.research.google.com/github/DavidSenseman/BIO1173/blob/master/Class_04_2.ipynb\" target=\"_parent\"><img src=\"https://colab.research.google.com/assets/colab-badge.svg\" alt=\"Open In Colab\"/></a>"
   ]
  },
  {
   "cell_type": "markdown",
   "metadata": {},
   "source": [
    "---------------------------\n",
    "**COPYRIGHT NOTICE:** This Jupyterlab Notebook is a Derivative work of [Jeff Heaton](https://github.com/jeffheaton) licensed under the Apache License, Version 2.0 (the \"License\"); You may not use this file except in compliance with the License. You may obtain a copy of the License at\n",
    "\n",
    "> [http://www.apache.org/licenses/LICENSE-2.0](http://www.apache.org/licenses/LICENSE-2.0)\n",
    "\n",
    "Unless required by applicable law or agreed to in writing, software distributed under the License is distributed on an \"AS IS\" BASIS, WITHOUT WARRANTIES OR CONDITIONS OF ANY KIND, either express or implied. See the License for the specific language governing permissions and limitations under the License.\n",
    "\n",
    "------------------------"
   ]
  },
  {
   "cell_type": "markdown",
   "metadata": {},
   "source": [
    "# **BIO 1173: Intro Computational Biology**"
   ]
  },
  {
   "cell_type": "markdown",
   "metadata": {},
   "source": [
    "##### **Module 4: Training for Tabular Data**\n",
    "\n",
    "* Instructor: [David Senseman](mailto:David.Senseman@utsa.edu), [Department of Integrative Biology](https://sciences.utsa.edu/integrative-biology/), [UTSA](https://www.utsa.edu/)\n",
    "\n",
    "### Module 4 Material\n",
    "\n",
    "* Part 4.1: Encoding a Feature Vector for Keras Deep Learning\n",
    "* **Part 4.2: Keras Multiclass Classification for Deep Neural Networks with ROC and AUC**\n",
    "* Part 4.3: Keras Regression for Deep Neural Networks with RMSE\n",
    "* Part 4.4: Backpropagation, Nesterov Momentum, and ADAM Neural Network Training"
   ]
  },
  {
   "cell_type": "markdown",
   "metadata": {},
   "source": [
    "### Lesson Setup\n",
    "\n",
    "Run the next code cell to load necessary packages"
   ]
  },
  {
   "cell_type": "code",
   "execution_count": 1,
   "metadata": {},
   "outputs": [
    {
     "name": "stdout",
     "output_type": "stream",
     "text": [
      "Your current working directory is : C:\\Users\\David\\BIO1173_Test\\Class_04_2\n",
      "Disk usage(total=4000108531712, used=1006321041408, free=2993787490304)\n"
     ]
    }
   ],
   "source": [
    "# You MUST run this code cell first\n",
    "\n",
    "# Classification neural network\n",
    "import tensorflow.keras\n",
    "from tensorflow.keras.models import Sequential\n",
    "from tensorflow.keras.layers import Dense, Activation\n",
    "from tensorflow.keras.callbacks import EarlyStopping\n",
    "from sklearn.model_selection import train_test_split\n",
    "from sklearn.metrics import confusion_matrix\n",
    "from sklearn import svm, datasets\n",
    "\n",
    "%matplotlib inline\n",
    "import matplotlib.pyplot as plt\n",
    "from sklearn.metrics import roc_curve, auc\n",
    "import scipy.stats as stats\n",
    "from scipy.stats import zscore\n",
    "import math\n",
    "\n",
    "import pandas as pd\n",
    "import numpy as np\n",
    "\n",
    "import os\n",
    "import shutil\n",
    "path = '/'\n",
    "memory = shutil.disk_usage(path)\n",
    "dirpath = os.getcwd()\n",
    "print(\"Your current working directory is : \" + dirpath)\n",
    "print(\"Disk\", memory)"
   ]
  },
  {
   "cell_type": "markdown",
   "metadata": {},
   "source": [
    "### Google CoLab Instructions\n",
    "\n",
    "The following code ensures that Google CoLab is running the correct version of TensorFlow."
   ]
  },
  {
   "cell_type": "code",
   "execution_count": 2,
   "metadata": {
    "colab": {
     "base_uri": "https://localhost:8080/"
    },
    "id": "seXFCYH4LDUM",
    "outputId": "c05015aa-871e-4779-9265-5ad07e8bf617",
    "scrolled": true
   },
   "outputs": [
    {
     "name": "stdout",
     "output_type": "stream",
     "text": [
      "Note: not using Google CoLab\n"
     ]
    }
   ],
   "source": [
    "# You must run this cell second\n",
    "try:\n",
    "    from google.colab import drive\n",
    "    drive.mount('/content/drive', force_remount=True)\n",
    "    from google.colab import auth\n",
    "    auth.authenticate_user()\n",
    "    COLAB = True\n",
    "    print(\"Note: using Google CoLab\")\n",
    "    %tensorflow_version 2.x\n",
    "    import requests\n",
    "    gcloud_token = !gcloud auth print-access-token\n",
    "    gcloud_tokeninfo = requests.get('https://www.googleapis.com/oauth2/v3/tokeninfo?access_token=' + gcloud_token[0]).json()\n",
    "    print(gcloud_tokeninfo['email'])\n",
    "except:\n",
    "    print(\"Note: not using Google CoLab\")\n",
    "    COLAB = False"
   ]
  },
  {
   "cell_type": "markdown",
   "metadata": {},
   "source": [
    "## Datasets for Class_04_2\n",
    "\n",
    "For Class_04_2 we will be using the Pima Indians Diabetes dataset for the Examples, and the Wisconsin Breast Cancer dataset for the **Exercises**."
   ]
  },
  {
   "cell_type": "markdown",
   "metadata": {},
   "source": [
    "### **Pima Indians Diabetes Dataset** \n",
    "\n",
    "[Pima Indians Diabetes dataset](https://www.kaggle.com/datasets/uciml/pima-indians-diabetes-database)\n",
    "\n",
    "![___](https://biologicslab.co/BIO1173/images/Pima.jpg)\n",
    "\n",
    "The **_Pima Indians_** are known for their high prevalence of Type 2 diabetes, making them an important population for studying and understanding the genetic and environmental factors that contribute to the development of diabetes. They have one of the highest rates of diabetes in the world, with some estimates suggesting that up to 50% of Pima adults have the disease.\n",
    "\n",
    "Studying the Pima Indians has provided valuable insights into the genetic and lifestyle factors that contribute to the development of diabetes, as well as potential strategies for prevention and treatment. Researchers have identified specific genetic variants associated with diabetes in the Pima population, as well as lifestyle factors such as diet and exercise habits that may influence the risk of developing the disease.\n",
    "\n",
    "![___](https://biologicslab.co/BIO1173/images/PimaParadox.png)\n",
    "\n",
    "[THE PIMA PARADOX](https://www.newyorker.com/magazine/1998/02/02/the-pima-paradox)\n",
    "\n",
    "The article by Malcom Gladwell, \"THE PIMA PARADOX\", that appeared in the January 25, 1998 edition of the New Yorker Magazine, provides a highly readable introduction to this topic.\n",
    "\n",
    "**Pima Indians Diabetes Dataset**\n",
    "\n",
    "The datasets consist of several medical predictor (independent) variables and one target (dependent) variable, `Outcome`. Independent variables include the number of pregnancies the patient has had, their BMI, insulin level, age, and so on.\n",
    "\n",
    "Predictor (Independent) Variables:\n",
    "* **Pregnancies:** Number of times pregnant\n",
    "* **Glucose:** Plasma glucose concentration a 2 hours in an oral glucose tolerance test\n",
    "* **BloodPressure:** Diastolic blood pressure (mm Hg)\n",
    "* **SkinThickness:** Triceps skin fold thickness (mm)\n",
    "* **Insulin:** 2-Hour serum insulin (mu U/ml)\n",
    "* **BMI:** Body mass index (weight in kg/(height in m)<sup>2</sup>)\n",
    "* **DiabetesPedigree:** Diabetes pedigree function\n",
    "* **Age:** Age (years)\n",
    "\n",
    "Target (Dependent) Variable\n",
    "* **Outcome:** Class variable (0 or 1) 268 of 768 are 1, the others are 0\n",
    "  "
   ]
  },
  {
   "cell_type": "markdown",
   "metadata": {
    "jp-MarkdownHeadingCollapsed": true
   },
   "source": [
    "### **Breast Cancer Wisconsin (Diagnostic) Data Set** \n",
    "\n",
    "[Breast Cancer Wisconsin (Diagnostic) Data Set](https://www.kaggle.com/datasets/uciml/breast-cancer-wisconsin-data)\n",
    "\n",
    "This dataset was described in the previous lesson (Class_04_1). \n",
    "\n",
    "The list of features computed from digitized images of breast mass cell nuclei obtained from by FNA in the Breast Cancer Wisconsing datasete are as follows:\n",
    "\n",
    "**Attribute Information:**\n",
    "\n",
    "* **ID number**\n",
    "* **Diagnosis:** (M = malignant, B = benign)\n",
    "\n",
    "Ten real-valued features are computed for each cell nucleus:\n",
    "\n",
    "*  **radius:** (mean of distances from center to points on the perimeter)\n",
    "* **texture:** (standard deviation of gray-scale values)\n",
    "* **perimeter:**\n",
    "* **area:**\n",
    "* **smoothness:** (local variation in radius lengths)\n",
    "* **compactness:** (perimeter<sup>2</sup> / area - 1.0)\n",
    "* **concavity:** (severity of concave portions of the contour)\n",
    "* **concave points:** (number of concave portions of the contour)\n",
    "* **symmetry:**\n",
    "* **fractal dimension:** (\"coastline approximation\" - 1)\n"
   ]
  },
  {
   "cell_type": "markdown",
   "metadata": {
    "id": "ZF1dep09K1AL"
   },
   "source": [
    "# Part 4.2: Multiclass Classification with ROC and AUC\n",
    "\n",
    "The output of modern neural networks can be of many different forms. However, classically, neural network output has typically been one of the following:\n",
    "\n",
    "* **Binary Classification** - Classification between two possibilities (positive and negative). Common in medical testing, does the person has the disease (positive) or not (negative).\n",
    "* **Classification** - Classification between more than 2 possibilites, for example the Iris dataset (3-way classification).\n",
    "* **Regression** - Numeric prediction.  How many MPG does a car get? (covered in next video)\n",
    "\n",
    "We will look at some visualizations for all three in this lesson. In particular, we will focus on the importance of evaluating **_false positives_** and **_false negatives_** in the results produced by a neural network. \n",
    "\n",
    "## Binary Classification and ROC Charts\n",
    "\n",
    "Binary classification occurs when a neural network must choose between two options: true/false, yes/no, correct/incorrect, or healthy/diseased. To see how to use binary classification, we will consider a classification system for quantitative cytological measurements of cells extracted from female breast tumors. This system will to classify if a breast tumor is cancerous (malignant) or not (benign). This classification system must decide how to respond to a new patient presenting with a breast tumor.  \n",
    "\n",
    "When you have only two classes that you can consider, the objective function's score is the number of false-positive predictions versus the number of false negatives. False negatives and false positives are both types of errors, and it is essential to understand the difference. For breast cancer data example, diagnosing a breast tumor as cancerous (malignant) would be positive. A false positive occurs when the model decides the tumor is cancerous when in fact it is benign. A false negative happens when the model decides the tumor is benign when in fact it is cancerous. \n",
    "\n",
    "Because only two options exist, we can choose the mistake that is the more serious type of error, a false positive or a false negative. This depends entirely on the situation. \n",
    "\n",
    "#### Breast Cancer Diagnosis\n",
    "\n",
    "In the context of diagnosing breast cancer tumors, a false positive result is generally considered worse than a false negative result in the short-term, but not in the long-term.\n",
    "\n",
    "* **False positive result:** means that a patient is incorrectly told they have cancer when they do not. This can lead to unnecessary anxiety, invasive follow-up tests, and potentially harmful treatments such as surgery, chemotherapy, and radiation therapy.\n",
    "\n",
    "* **False negative result:** means that a patient is incorrectly told they do not have cancer when they actually do. This may delay necessary treatment and allow the cancer to progress without intervention, potentially leading to poorer outcomes in the long run.\n",
    "\n",
    "\n",
    "#### COVID-19 Diagnosis\n",
    "\n",
    "On the other hand, consider the situation where a model predicts whether a subject has COVID-19. In the context of diagnosing COVID-19, a false negative result is generally considered worse than a false positive result.\n",
    "\n",
    "* **False negative result:** means that a person is incorrectly told they do not have COVID-19 when they actually do. This can lead to the person unknowingly spreading the virus to others, potentially causing further infections and contributing to community transmission.\n",
    "\n",
    "* **False positive result:** means that a person is incorrectly told they have COVID-19 when they do not. While this can lead to unnecessary isolation and anxiety for the individual, it typically does not have as severe consequences for public health as a false negative.\n",
    "\n",
    "While it is not always clear which type of error is more important, it is obvious that having a solid understanding of how neural network models work, and how to assess their predictive accuracy is of paramount importance for their appropriate deployment in a clinical setting and how to explain a model's predictions to patients and their family members."
   ]
  },
  {
   "cell_type": "markdown",
   "metadata": {},
   "source": [
    "### Example 1: Read Datafile and Create DataFrame\n",
    "\n",
    "For the intial examples in this lesson, we will be using the \"Pima\" dataset that contains clinical information for 768 women of the Pima Indian nation. \n",
    "\n",
    "The data file, `pima.csv` is located on the course HTTPS server, located in the following filepath: `/BIO1173/data/`. The code below shows how to read this data file and store the information in a new DataFrame called `pidDF` (Pima Indian Diabetes DataFrame).   "
   ]
  },
  {
   "cell_type": "code",
   "execution_count": 3,
   "metadata": {
    "colab": {
     "base_uri": "https://localhost:8080/",
     "height": 235
    },
    "id": "VmjrLkDwK1AM",
    "outputId": "650cc2a4-d295-459d-aa40-d9e2d2950c88",
    "scrolled": true
   },
   "outputs": [
    {
     "data": {
      "text/html": [
       "<div>\n",
       "<style scoped>\n",
       "    .dataframe tbody tr th:only-of-type {\n",
       "        vertical-align: middle;\n",
       "    }\n",
       "\n",
       "    .dataframe tbody tr th {\n",
       "        vertical-align: top;\n",
       "    }\n",
       "\n",
       "    .dataframe thead th {\n",
       "        text-align: right;\n",
       "    }\n",
       "</style>\n",
       "<table border=\"1\" class=\"dataframe\">\n",
       "  <thead>\n",
       "    <tr style=\"text-align: right;\">\n",
       "      <th></th>\n",
       "      <th>Pregnancies</th>\n",
       "      <th>Glucose</th>\n",
       "      <th>BloodPressure</th>\n",
       "      <th>...</th>\n",
       "      <th>DiabetesPedigreeFunction</th>\n",
       "      <th>Age</th>\n",
       "      <th>Outcome</th>\n",
       "    </tr>\n",
       "  </thead>\n",
       "  <tbody>\n",
       "    <tr>\n",
       "      <th>0</th>\n",
       "      <td>6</td>\n",
       "      <td>148</td>\n",
       "      <td>72</td>\n",
       "      <td>...</td>\n",
       "      <td>0.627</td>\n",
       "      <td>50</td>\n",
       "      <td>1</td>\n",
       "    </tr>\n",
       "    <tr>\n",
       "      <th>1</th>\n",
       "      <td>1</td>\n",
       "      <td>85</td>\n",
       "      <td>66</td>\n",
       "      <td>...</td>\n",
       "      <td>0.351</td>\n",
       "      <td>31</td>\n",
       "      <td>0</td>\n",
       "    </tr>\n",
       "    <tr>\n",
       "      <th>2</th>\n",
       "      <td>8</td>\n",
       "      <td>183</td>\n",
       "      <td>64</td>\n",
       "      <td>...</td>\n",
       "      <td>0.672</td>\n",
       "      <td>32</td>\n",
       "      <td>1</td>\n",
       "    </tr>\n",
       "    <tr>\n",
       "      <th>...</th>\n",
       "      <td>...</td>\n",
       "      <td>...</td>\n",
       "      <td>...</td>\n",
       "      <td>...</td>\n",
       "      <td>...</td>\n",
       "      <td>...</td>\n",
       "      <td>...</td>\n",
       "    </tr>\n",
       "    <tr>\n",
       "      <th>765</th>\n",
       "      <td>5</td>\n",
       "      <td>121</td>\n",
       "      <td>72</td>\n",
       "      <td>...</td>\n",
       "      <td>0.245</td>\n",
       "      <td>30</td>\n",
       "      <td>0</td>\n",
       "    </tr>\n",
       "    <tr>\n",
       "      <th>766</th>\n",
       "      <td>1</td>\n",
       "      <td>126</td>\n",
       "      <td>60</td>\n",
       "      <td>...</td>\n",
       "      <td>0.349</td>\n",
       "      <td>47</td>\n",
       "      <td>1</td>\n",
       "    </tr>\n",
       "    <tr>\n",
       "      <th>767</th>\n",
       "      <td>1</td>\n",
       "      <td>93</td>\n",
       "      <td>70</td>\n",
       "      <td>...</td>\n",
       "      <td>0.315</td>\n",
       "      <td>23</td>\n",
       "      <td>0</td>\n",
       "    </tr>\n",
       "  </tbody>\n",
       "</table>\n",
       "<p>768 rows × 9 columns</p>\n",
       "</div>"
      ],
      "text/plain": [
       "     Pregnancies  Glucose  BloodPressure  ...  DiabetesPedigreeFunction  Age  \\\n",
       "0              6      148             72  ...                     0.627   50   \n",
       "1              1       85             66  ...                     0.351   31   \n",
       "2              8      183             64  ...                     0.672   32   \n",
       "..           ...      ...            ...  ...                       ...  ...   \n",
       "765            5      121             72  ...                     0.245   30   \n",
       "766            1      126             60  ...                     0.349   47   \n",
       "767            1       93             70  ...                     0.315   23   \n",
       "\n",
       "     Outcome  \n",
       "0          1  \n",
       "1          0  \n",
       "2          1  \n",
       "..       ...  \n",
       "765        0  \n",
       "766        1  \n",
       "767        0  \n",
       "\n",
       "[768 rows x 9 columns]"
      ]
     },
     "metadata": {},
     "output_type": "display_data"
    }
   ],
   "source": [
    "# Example 1: Read datafile and create DataFrame\n",
    "\n",
    "# Read file and create DataFrame\n",
    "pidDF = pd.read_csv(\n",
    "    \"https://biologicslab.co/BIO1173/data/pima.csv\",\n",
    "    na_values=['NA','?'])\n",
    "\n",
    "# Set display options\n",
    "pd.set_option('display.max_columns', 6)\n",
    "pd.set_option('display.max_rows', 6)\n",
    "\n",
    "# Display DataFrame\n",
    "display(pidDF)"
   ]
  },
  {
   "cell_type": "markdown",
   "metadata": {},
   "source": [
    "If your code is correct you should see the following table:\n",
    "\n",
    "![___](https://biologicslab.co/BIO1173/images/class_04_2_Exm1A.png)\n"
   ]
  },
  {
   "cell_type": "markdown",
   "metadata": {},
   "source": [
    "### **Exercise 1: Read Datafile and Create DataFrame**\n",
    "\n",
    "In the cell below, read the datafile `bcwbreast.csv` containing the _Breast Cancer Wisconsin_ dataset that is located on the course HTTPS server. Create a new DataFrame called `bcwDF` to hold the data.  \n",
    "\n",
    "The Wisconsin Breast Cancer dataset provides data for 569 patients on 30 features of the cell nuclei obtained from a digitized image of a fine needle aspirate (FNA) of a breast mass. For each patient the cancer was diagnosed as malignant (`M`) or benign (`B`) in the column labeled `diagnosis`."
   ]
  },
  {
   "cell_type": "code",
   "execution_count": 4,
   "metadata": {
    "colab": {
     "base_uri": "https://localhost:8080/",
     "height": 235
    },
    "id": "VmjrLkDwK1AM",
    "outputId": "650cc2a4-d295-459d-aa40-d9e2d2950c88",
    "scrolled": true
   },
   "outputs": [],
   "source": [
    "### Insert your code for Exercise 1 here\n",
    "\n"
   ]
  },
  {
   "cell_type": "markdown",
   "metadata": {},
   "source": [
    "If your code is correct you should see the following table:\n",
    "\n",
    "![__](https://biologicslab.co/BIO1173/images/class_04_1_Exm1B.png)\n"
   ]
  },
  {
   "cell_type": "markdown",
   "metadata": {
    "id": "Ic_JG5KpK1AN"
   },
   "source": [
    "## ROC Curves\n",
    "\n",
    "\n",
    "An ROC (Receiver Operating Characteristic) curve is a graphical representation of the performance of a classification model at different threshold settings. It plots the true positive rate (sensitivity) against the false positive rate (1 - specificity) for different threshold values. The curve allows for comparison of different models and helps in determining the optimal threshold for a given model. A higher area under the ROC curve indicates better performance of the model.\n",
    "\n",
    "Understand how to interpret an ROC curve can be extremely important in medical testing where the result is often **_binary_**, (1) the patient has the disease, (2) the patient does _not_ have the disease. This diagnosis can lead to two types of errors, known as false positives and false negatives:\n",
    "\n",
    "* **False Positive** - Your test (neural network) indicated that the patient had the disease; however, the patient did not.\n",
    "* **False Negative** - Your test (neural network) indicated that the patient did not have the disease; however, the patient did have the disease.\n",
    "\n",
    "And there are two ways that your diagnosis can be correct:\n",
    "\n",
    "* **True Positive** - Your test (neural network) correctly identified that the patient had the disease.\n",
    "* **True Negative** - Your test (neural network) correctly identified that the patient did not have the disease.\n",
    "\n",
    "**Type of Error**\n",
    "![__](https://biologicslab.co/BIO1173/images/class_4_errors.png)\n",
    "\n",
    "Neural networks classify in terms of the probability of it being positive. However, at what possibility do you give a positive result? Is the cutoff 50%? 90%? Where you set this cutoff is called the **_threshold_**. Anything above the cutoff is positive; anything below is negative. Setting this cutoff allows the model to be more sensitive or specific.\n",
    "\n",
    "* **Sensitivity** of a test refers to its ability to correctly identify individuals who have the condition or disease (true positive rate). A highly sensitive test will correctly identify all or most of the individuals with the condition, resulting in few false negative results.\n",
    "\n",
    "* **Specificity** of a test, on the other hand, refers to its ability to correctly identify individuals who do not have the condition or disease (true negative rate). A highly specific test will correctly identify all or most of the individuals without the condition, resulting in few false positive results.\n",
    "\n",
    "The key point is this: \n",
    "\n",
    "* **_Sensitivity_** focuses on the ability of a test to correctly identify individuals with the condition\n",
    "* **_Specificity_** focuses on the ability to correctly identify individuals without the condition. \n",
    "\n",
    "More info on Sensitivity vs. Specificity: [Khan Academy](https://www.youtube.com/watch?v=Z5TtopYX1Gc)"
   ]
  },
  {
   "cell_type": "markdown",
   "metadata": {},
   "source": [
    "### XY plot illustrating Sensitivity vs. Specificity\n",
    "\n",
    "The code in the cell below generates an XY plot illustrating the inherent trade-off between test sensitivity and test specificity."
   ]
  },
  {
   "cell_type": "code",
   "execution_count": 5,
   "metadata": {
    "colab": {
     "base_uri": "https://localhost:8080/",
     "height": 282
    },
    "id": "QfjMVDf2K1AO",
    "outputId": "9fefbe74-69f2-4c55-bad1-459a3c581c28"
   },
   "outputs": [
    {
     "data": {
      "image/png": "[encoded data removed]",
      "text/plain": [
       "<Figure size 640x480 with 1 Axes>"
      ]
     },
     "metadata": {},
     "output_type": "display_data"
    }
   ],
   "source": [
    "# Generate XY Plot\n",
    "\n",
    "%matplotlib inline\n",
    "\n",
    "mu1 = -2\n",
    "mu2 = 2\n",
    "variance = 1\n",
    "sigma = math.sqrt(variance)\n",
    "x1 = np.linspace(mu1 - 5*sigma, mu1 + 4*sigma, 100)\n",
    "x2 = np.linspace(mu2 - 5*sigma, mu2 + 4*sigma, 100)\n",
    "plt.plot(x1, stats.norm.pdf(x1, mu1, sigma)/1,color=\"green\", \n",
    "         linestyle='dashed')\n",
    "plt.plot(x2, stats.norm.pdf(x2, mu2, sigma)/1,color=\"red\")\n",
    "plt.axvline(x=-2,color=\"black\")\n",
    "plt.axvline(x=0,color=\"black\")\n",
    "plt.axvline(x=+2,color=\"black\")\n",
    "plt.text(-2.7,0.55,\"Sensitive\")\n",
    "plt.text(-0.7,0.55,\"Balanced\")\n",
    "plt.text(1.7,0.55,\"Specific\")\n",
    "plt.ylim([0,0.53])\n",
    "plt.xlim([-5,5])\n",
    "plt.legend(['Negative','Positive'])\n",
    "plt.yticks([])\n",
    "plt.show()"
   ]
  },
  {
   "cell_type": "markdown",
   "metadata": {},
   "source": [
    "**Why not simply make a great test that is both highly sensitve and highly specific?**\n",
    "\n",
    "A test _cannot_ be both highly sensitive and highly specific simultaneously due to inherent trade-offs in test characteristics. In general, increasing sensitivity tends to decrease specificity, and vice versa. This is because the parameters that contribute to sensitivity (true positive rate) and specificity (true negative rate) are often inversely related.\n",
    "\n",
    "* **Sensitivity** focuses on minimizing false negatives, which means it aims to correctly identify all individuals with the condition. To achieve high sensitivity, the test may be designed to detect even low levels of the condition, making it more likely to generate false positives (lower specificity).\n",
    "\n",
    "* **Specificity** aims to minimize false positives by correctly identifying individuals without the condition. To achieve high specificity, the test may be designed to only detect the presence of the condition with a high degree of certainty, potentially leading to missed detections of milder cases (lower sensitivity).\n",
    "\n",
    "Therefore, to maximize sensitivity, a test may detect even slight signals of the condition, increasing the likelihood of false positives and reducing specificity. Conversely, a test designed for high specificity may require stronger, more specific indicators of the condition, potentially missing milder cases and reducing sensitivity. Achieving a balance between sensitivity and specificity is crucial in developing effective diagnostic tests.\n"
   ]
  },
  {
   "cell_type": "markdown",
   "metadata": {},
   "source": [
    "### Example 2: Preprocess Data for Neural Network Training\n",
    "\n",
    "As usual, we will have to pre-process the Pima data in the DataFrame `pidDF` before it can be used to train a neural network. All of the data in `pidDF` is numeric, so it won't be necessary to One-Hot encode any categorical variables (strings). \n",
    "\n",
    "However, there are rather large differences in magnitude between different categories. For example, the average (mean) `Glucose` value = 120.894531, while the mean for the category `DiabetesPedigree` is only 0.471876. \n",
    "\n",
    "Its not that neural networks can't work with large and small numerical values at the same time, it's just that they **train better** when all of the data is similar in size. This can be achieve using data **_standarization_**. In the cell below we use a very common technique for standarization, converting each number to it's Z-score value.\n",
    "\n",
    "We beging by making a list of columns that we want to include in our standarization. In this example, we want to use all of the columns, except the column `Outcome`. Here is the code chunk to do this:\n",
    "~~~text\n",
    "# Generate column list for preprocessing \n",
    "pidX_columns = pidDF.columns.drop('Outcome')\n",
    "~~~\n",
    "\n",
    "Next we use the `for` loop to \"loop through\" each column in the column list, and convert the numerical values in that column to its z-score equivalent:\n",
    "\n",
    "~~~text\n",
    "# Replace values with their Z-scores\n",
    "for col in pidX_columns:\n",
    "    pidDF[col] = zscore(pidDF[col])\n",
    "~~~\n",
    "In this dataset, that's all the preprocessing that needs to be done. We can then generate our X feature vector and our Y feature vector in the usual way (e.g. see Class_04_1). \n",
    "\n",
    "Finally, we print out the first 4 values of our X and Y feature vectors to make sure they are in the correct format.\n"
   ]
  },
  {
   "cell_type": "code",
   "execution_count": 6,
   "metadata": {
    "id": "m55_Ygs9K1AP",
    "scrolled": true
   },
   "outputs": [
    {
     "name": "stdout",
     "output_type": "stream",
     "text": [
      "The first 4 X-values are:\n",
      "[[ 0.6399  0.8483  0.1496  0.9073 -0.6929  0.204   0.4685  1.426 ]\n",
      " [-0.8449 -1.1234 -0.1605  0.5309 -0.6929 -0.6844 -0.3651 -0.1907]\n",
      " [ 1.2339  1.9437 -0.2639 -1.2882 -0.6929 -1.1033  0.6044 -0.1056]\n",
      " [-0.8449 -0.9982 -0.1605  0.1545  0.1233 -0.494  -0.9208 -1.0415]]\n",
      "\n",
      "Their corresponding Y-values are:\n",
      "[1. 0. 1. 0.]\n"
     ]
    }
   ],
   "source": [
    "# Example 2: Pre-process data\n",
    "\n",
    "# Generate column list for preprocessing\n",
    "pidX_columns = pidDF.columns.drop('Outcome')\n",
    "\n",
    "# Replace values with their Z-scores\n",
    "for col in pidX_columns:\n",
    "    pidDF[col] = zscore(pidDF[col])\n",
    "\n",
    "# Generate X feature vector\n",
    "pidX = pidDF[pidX_columns].values\n",
    "pidX = np.asarray(pidX).astype(np.float32)\n",
    "\n",
    "# Generate Y as Numpy array\n",
    "pidY = pidDF['Outcome']   \n",
    "pidY = np.asarray(pidY).astype(np.float32)    \n",
    "\n",
    "# Print out X and Y\n",
    "np.set_printoptions(suppress=True,precision=4)\n",
    "print(\"The first 4 X-values are:\")\n",
    "print(pidX[0:4])\n",
    "print(\"\\nTheir corresponding Y-values are:\")\n",
    "print(pidY[0:4])"
   ]
  },
  {
   "cell_type": "markdown",
   "metadata": {},
   "source": [
    "If your code is correct you should see the following output:"
   ]
  },
  {
   "cell_type": "markdown",
   "metadata": {},
   "source": [
    "~~~text\n",
    "The first 4 X-values are:\n",
    "[[ 0.6399  0.8483  0.1496  0.9073 -0.6929  0.204   0.4685  1.426 ]\n",
    " [-0.8449 -1.1234 -0.1605  0.5309 -0.6929 -0.6844 -0.3651 -0.1907]\n",
    " [ 1.2339  1.9437 -0.2639 -1.2882 -0.6929 -1.1033  0.6044 -0.1056]\n",
    " [-0.8449 -0.9982 -0.1605  0.1545  0.1233 -0.494  -0.9208 -1.0415]]\n",
    "\n",
    "Their corresponding Y-values are:\n",
    "[1. 0. 1. 0.]\n",
    "~~~\n",
    "\n",
    "By inspection, you can see the X-values have been converted in their Z-score. Notice that z-scores are small values, near `0`, that can be both positive or negative. A z-score that is positive, it means that its original value was greater than column's average (mean). A z-score that is negative means that its original value was less than column's average (mean). If by chance, a you find a z-score = 0.00000, that means the original value just happen to exactly the same value as the mean."
   ]
  },
  {
   "cell_type": "markdown",
   "metadata": {},
   "source": [
    "---------------------------------\n",
    "\n",
    "## **Z-scores**\n",
    "\n",
    "Z-scores are a method of standardizing values by expressing them in terms of standard deviations from the mean. To calculate a z-score, you subtract the mean of the dataset from a specific value and then divide by the standard deviation. This normalization process allows for comparison of values across different datasets and variables, as it puts everything on a common scale.\n",
    "\n",
    "Z-scores are important because they allow for the transformation of raw data into a standardized form, making it easier to interpret and analyze. They can help identify outliers in a dataset, determine the relative position of a data point within a distribution, and assess the significance of a particular value compared to the overall dataset. Z-scores are commonly used in various fields such as statistics, finance, and psychology to compare and evaluate data in a meaningful way.\n",
    "\n",
    "---------------------------------"
   ]
  },
  {
   "cell_type": "markdown",
   "metadata": {},
   "source": [
    "### **Exercise 2: Preprocess Data for Neural Network Training**\n",
    "\n",
    "In the cell below you are write the code to preprocess the Breast Cancer Wisconsin data in the DataFrame `bcwDF`. Start by generating a list of columns to be used as X, `bcwX_columns`. To do this, begin by dropping the two columns using this line of code:\n",
    "\n",
    "~~~text\n",
    "bcwX_columns = bcwDF.columns.drop('diagnosis').drop('id')`\n",
    "~~~\n",
    "\n",
    "The column `id` should be dropped since it doesn't provide any useful information for making predictions about breast cancer while the column `diagnosis` needs to be dropped since it is the target column (Y). \n",
    "\n",
    "As shown in Example 2, replace the X values in `bcwX_columns` with their z-scores and then generate a Numpy array called `bcwX`. \n",
    "\n",
    "Unlike the Pima data preprocessed in Example 2, the target column `diagnosis` contains the categorical values 'M' for malignant and 'B' for benign. You will need to map the letter 'M' to the integer `1` and the letter `B` to the integer `0`.  \n",
    "\n",
    "You can use the following line of code to combine both the mapping and the creation of the Y feature vector with a single line of code:\n",
    "~~~text\n",
    "# Generate Y feature vector\n",
    "bcwY = bcwDF['diagnosis'].map({'M':1,\"B\":0}).values`\n",
    "~~~\n",
    "\n",
    "Finally, print out the first 4 values in your X and Y feature vectors."
   ]
  },
  {
   "cell_type": "code",
   "execution_count": 7,
   "metadata": {
    "id": "m55_Ygs9K1AP"
   },
   "outputs": [],
   "source": [
    "# Insert your code for Exercise 2 here\n",
    "\n"
   ]
  },
  {
   "cell_type": "markdown",
   "metadata": {},
   "source": [
    "If your code is correct you should see the following output:"
   ]
  },
  {
   "cell_type": "markdown",
   "metadata": {},
   "source": [
    "~~~text\n",
    "The first 4 X-values are:\n",
    "[[-1.729   1.0971 -2.0733  1.2699  0.9844  1.5685  3.2835  2.6529  2.5325\n",
    "   2.2175  2.2557  2.4897 -0.5653  2.833   2.4876 -0.214   1.3169  0.724\n",
    "   0.6608  1.1488  0.9071  1.8867 -1.3593  2.3036  2.0012  1.3077  2.6167\n",
    "   2.1095  2.2961  2.7506  1.937 ]\n",
    " [-1.7229  1.8298 -0.3536  1.686   1.9087 -0.827  -0.4871 -0.0238  0.5481\n",
    "   0.0014 -0.8687  0.4993 -0.8762  0.2633  0.7424 -0.6054 -0.6929 -0.4408\n",
    "   0.2602 -0.8055 -0.0994  1.8059 -0.3692  1.5351  1.8905 -0.3756 -0.4304\n",
    "  -0.1467  1.0871 -0.2439  0.2812]\n",
    " [-1.7168  1.5799  0.4562  1.5665  1.5589  0.9422  1.0529  1.3635  2.0372\n",
    "   0.9397 -0.398   1.2287 -0.7801  0.8509  1.1813 -0.297   0.815   0.2131\n",
    "   1.4248  0.237   0.2936  1.5119 -0.024   1.3475  1.4563  0.5274  1.0829\n",
    "   0.855   1.955   1.1523  0.2014]\n",
    " [-1.7107 -0.7689  0.2537 -0.5927 -0.7645  3.2836  3.4029  1.9159  1.4517\n",
    "   2.8674  4.9109  0.3264 -0.1104  0.2866 -0.2884  0.6897  2.7443  0.8195\n",
    "   1.115   4.7327  2.0475 -0.2815  0.134  -0.2499 -0.55    3.3943  3.8934\n",
    "   1.9896  2.1758  6.046   4.935 ]]\n",
    "\n",
    "Their corresponding Y-values are:\n",
    "[1. 1. 1. 1.]\n",
    "~~~"
   ]
  },
  {
   "cell_type": "markdown",
   "metadata": {
    "id": "as4rUCd1K1AP"
   },
   "source": [
    "### Define functions for plotting\n",
    "\n",
    "The code cell below defines two functions that we will used later. The first function, `plot_confusion_matrix()` plots a confusion matrix. The second function, `plot_roc()` plots a ROC chart."
   ]
  },
  {
   "cell_type": "code",
   "execution_count": 8,
   "metadata": {
    "id": "25ys9moDK1AP"
   },
   "outputs": [],
   "source": [
    "# Define functions\n",
    "\n",
    "%matplotlib inline\n",
    "\n",
    "# Plot a confusion matrix.\n",
    "# cm is the confusion matrix, names are the names of the classes.\n",
    "def plot_confusion_matrix(cm, names, title='Confusion matrix', \n",
    "                            cmap=plt.cm.Blues):\n",
    "    plt.imshow(cm, interpolation='nearest', cmap=cmap)\n",
    "    plt.title(title)\n",
    "    plt.colorbar()\n",
    "    tick_marks = np.arange(len(names))\n",
    "    plt.xticks(tick_marks, names, rotation=45)\n",
    "    plt.yticks(tick_marks, names)\n",
    "    plt.tight_layout()\n",
    "    plt.ylabel('True label')\n",
    "    plt.xlabel('Predicted label')\n",
    "    \n",
    "\n",
    "# Plot an ROC. pred - the predictions, y - the expected output.\n",
    "def plot_roc(pred,y):\n",
    "    fpr, tpr, _ = roc_curve(y, pred)\n",
    "    roc_auc = auc(fpr, tpr)\n",
    "\n",
    "    plt.figure()\n",
    "    plt.plot(fpr, tpr, label='ROC curve (area = %0.2f)' % roc_auc)\n",
    "    plt.plot([0, 1], [0, 1], 'k--')\n",
    "    plt.xlim([0.0, 1.0])\n",
    "    plt.ylim([0.0, 1.05])\n",
    "    plt.xlabel('False Positive Rate')\n",
    "    plt.ylabel('True Positive Rate')\n",
    "    plt.title('Receiver Operating Characteristic (ROC)')\n",
    "    plt.legend(loc=\"lower right\")\n",
    "    plt.show()"
   ]
  },
  {
   "cell_type": "markdown",
   "metadata": {},
   "source": [
    "There should be no output when you run the code cell above. "
   ]
  },
  {
   "cell_type": "markdown",
   "metadata": {},
   "source": [
    "### Example 3: Construct, Compile and Train Binary Classification Neural Network\n",
    "\n",
    "The code in the cell below, uses the Keras/Tensorflow libraries to construct, compile and train a binary classificantion neural network called `pidModel` with 3 hidden layers. \n",
    "\n",
    "The model `pidModel` is designed to predict whether a women has Type II diabetes based on a several clinical measures. The model is trained (fitted) to the clinical data stored in the feature vectors `pidX` and `pidY`. A monitor function, `pidMonitor`, is also created. This monitor function to allow for Early Stopping when the validation loss fails to improve after waiting for 10 epochs. Training (fitting) is set for 1000 epochs, but the training will stop before reaching 1000 due to Early Stopping. \n"
   ]
  },
  {
   "cell_type": "code",
   "execution_count": 9,
   "metadata": {
    "colab": {
     "base_uri": "https://localhost:8080/"
    },
    "id": "tchQMWrIK1AQ",
    "outputId": "e4be0d2b-d974-4917-bc0f-908917773c99"
   },
   "outputs": [
    {
     "name": "stdout",
     "output_type": "stream",
     "text": [
      "Epoch 1/1000\n",
      "18/18 - 1s - loss: 0.6879 - accuracy: 0.6562 - val_loss: 0.6793 - val_accuracy: 0.6406 - 945ms/epoch - 52ms/step\n",
      "Epoch 2/1000\n",
      "18/18 - 0s - loss: 0.6514 - accuracy: 0.6771 - val_loss: 0.6188 - val_accuracy: 0.7083 - 115ms/epoch - 6ms/step\n",
      "Epoch 3/1000\n",
      "18/18 - 0s - loss: 0.5526 - accuracy: 0.7292 - val_loss: 0.5440 - val_accuracy: 0.7448 - 104ms/epoch - 6ms/step\n",
      "Epoch 4/1000\n",
      "18/18 - 0s - loss: 0.4868 - accuracy: 0.7639 - val_loss: 0.5367 - val_accuracy: 0.6979 - 119ms/epoch - 7ms/step\n",
      "Epoch 5/1000\n",
      "18/18 - 0s - loss: 0.4576 - accuracy: 0.7882 - val_loss: 0.5349 - val_accuracy: 0.7188 - 104ms/epoch - 6ms/step\n",
      "Epoch 6/1000\n",
      "18/18 - 0s - loss: 0.4446 - accuracy: 0.7934 - val_loss: 0.5378 - val_accuracy: 0.7240 - 102ms/epoch - 6ms/step\n",
      "Epoch 7/1000\n",
      "18/18 - 0s - loss: 0.4421 - accuracy: 0.7899 - val_loss: 0.5336 - val_accuracy: 0.7396 - 128ms/epoch - 7ms/step\n",
      "Epoch 8/1000\n",
      "18/18 - 0s - loss: 0.4350 - accuracy: 0.7847 - val_loss: 0.5354 - val_accuracy: 0.7396 - 168ms/epoch - 9ms/step\n",
      "Epoch 9/1000\n",
      "18/18 - 0s - loss: 0.4304 - accuracy: 0.7830 - val_loss: 0.5383 - val_accuracy: 0.7344 - 173ms/epoch - 10ms/step\n",
      "Epoch 10/1000\n",
      "18/18 - 0s - loss: 0.4313 - accuracy: 0.7917 - val_loss: 0.5327 - val_accuracy: 0.7500 - 120ms/epoch - 7ms/step\n",
      "Epoch 11/1000\n",
      "18/18 - 0s - loss: 0.4268 - accuracy: 0.7847 - val_loss: 0.5412 - val_accuracy: 0.7448 - 111ms/epoch - 6ms/step\n",
      "Epoch 12/1000\n",
      "Restoring model weights from the end of the best epoch: 7.\n",
      "18/18 - 0s - loss: 0.4199 - accuracy: 0.7917 - val_loss: 0.5436 - val_accuracy: 0.7396 - 113ms/epoch - 6ms/step\n",
      "Epoch 12: early stopping\n"
     ]
    },
    {
     "data": {
      "text/plain": [
       "<keras.callbacks.History at 0x1af09962430>"
      ]
     },
     "execution_count": 9,
     "metadata": {},
     "output_type": "execute_result"
    }
   ],
   "source": [
    "# Example 3: Construct, Compile and Train\n",
    "\n",
    "# Split into train/test---------------------------------------------------------\n",
    "pidX_train, pidX_test, pidY_train, pidY_test = train_test_split(    \n",
    "    pidX, pidY, test_size=0.25, random_state=42)\n",
    "\n",
    "# Construct model---------------------------------------------------------------\n",
    "pidModel = Sequential()\n",
    "pidModel.add(Dense(100, input_dim=pidX.shape[1], activation='relu',\n",
    "                kernel_initializer='random_normal'))\n",
    "pidModel.add(Dense(50,activation='relu',kernel_initializer='random_normal'))\n",
    "pidModel.add(Dense(25,activation='relu',kernel_initializer='random_normal'))\n",
    "pidModel.add(Dense(1,activation='sigmoid',kernel_initializer='random_normal'))\n",
    "\n",
    "# Compile model------------------------------------------------------------------\n",
    "pidModel.compile(loss='binary_crossentropy', \n",
    "              optimizer=tensorflow.keras.optimizers.Adam(),\n",
    "              metrics =['accuracy'])\n",
    "\n",
    "# Create monitor------------------------------------------------------------------\n",
    "pidMonitor = EarlyStopping(monitor='val_loss', min_delta=1e-3, \n",
    "    patience=5, verbose=1, mode='auto', restore_best_weights=True)\n",
    "\n",
    "# Train model---------------------------------------------------------------------\n",
    "pidModel.fit(pidX_train,pidY_train,validation_data=(pidX_test,pidY_test),\n",
    "          callbacks=[pidMonitor],verbose=2,epochs=1000)\n"
   ]
  },
  {
   "cell_type": "markdown",
   "metadata": {},
   "source": [
    "If your code is correct you should see something similiar to the output below:\n",
    "~~~text\n",
    "Epoch 1/1000\n",
    "18/18 - 1s - loss: 0.6891 - accuracy: 0.6476 - val_loss: 0.6825 - val_accuracy: 0.6406 - 624ms/epoch - 35ms/step\n",
    "Epoch 2/1000\n",
    "18/18 - 0s - loss: 0.6651 - accuracy: 0.6545 - val_loss: 0.6360 - val_accuracy: 0.6406 - 107ms/epoch - 6ms/step\n",
    "Epoch 3/1000\n",
    "18/18 - 0s - loss: 0.5800 - accuracy: 0.6545 - val_loss: 0.5619 - val_accuracy: 0.6406 - 106ms/epoch - 6ms/step\n",
    "Epoch 4/1000\n",
    "18/18 - 0s - loss: 0.5093 - accuracy: 0.7205 - val_loss: 0.5506 - val_accuracy: 0.7500 - 103ms/epoch - 6ms/step\n",
    "Epoch 5/1000\n",
    "18/18 - 0s - loss: 0.4807 - accuracy: 0.7726 - val_loss: 0.5384 - val_accuracy: 0.7240 - 103ms/Epoch 6/1000\n",
    "18/18 - 0s - loss: 0.4619 - accuracy: 0.7882 - val_loss: 0.5420 - val_accuracy: 0.7292 - 100ms/epoch - 6ms/step\n",
    "Epoch 7/1000\n",
    "18/18 - 0s - loss: 0.4472 - accuracy: 0.7882 - val_loss: 0.5434 - val_accuracy: 0.7240 - 99ms/epoch - 6ms/step\n",
    "Epoch 8/1000\n",
    "18/18 - 0s - loss: 0.4402 - accuracy: 0.7830 - val_loss: 0.5394 - val_accuracy: 0.7344 - 99ms/epoch - 6ms/step\n",
    "Epoch 9/1000\n",
    "18/18 - 0s - loss: 0.4347 - accuracy: 0.7882 - val_loss: 0.5451 - val_accuracy: 0.7344 - 101ms/epoch - 6ms/step\n",
    "Epoch 10/1000\n",
    "Restoring model weights from the end of the best epoch: 5.\n",
    "18/18 - 0s - loss: 0.4347 - accuracy: 0.7830 - val_loss: 0.5471 - val_accuracy: 0.7448 - 111ms/epoch - 6ms/step\n",
    "Epoch 10: early stopping\n",
    "\n",
    "<keras.callbacks.History at 0x1f657191f40>\n",
    "~~~\n",
    "\n",
    "In this instance, the model `pidModel` reached a minimum validation loss (`val_loss: 0.5384`) after only 5 epochs!"
   ]
  },
  {
   "cell_type": "markdown",
   "metadata": {},
   "source": [
    "### **Exercise 3: Construct, Compile and Train Binary Classification Neural Network**\n",
    "\n",
    "In the cell below, use the Keras/Tensorflow libraries to construct, compile and train a binary classificantion neural network called `bcwModel` with 3 hidden layers using Example 3 as a template.\n",
    "\n",
    "Your model should be designed to predict whether a breast tumor is cancerous (malignant) or benign after fitting it to the clinical data stored in the feature vectors `bcwX` and `bcwY`.\n",
    "\n",
    "Create a monitor function called `bcwMonitor` to allow for EarlyStopping when validation loss fails to improve after waiting for 10 epochs. Set the training (fitting) for 1000 epochs.\n"
   ]
  },
  {
   "cell_type": "code",
   "execution_count": 10,
   "metadata": {
    "colab": {
     "base_uri": "https://localhost:8080/"
    },
    "id": "tchQMWrIK1AQ",
    "outputId": "e4be0d2b-d974-4917-bc0f-908917773c99"
   },
   "outputs": [],
   "source": [
    "# Insert your code for Exercise 3 here:\n",
    "\n",
    "\n"
   ]
  },
  {
   "cell_type": "markdown",
   "metadata": {},
   "source": [
    "If your code is correct you should see something similiar to the following output:\n",
    "\n",
    "~~~text\n",
    "Epoch 1/1000\n",
    "14/14 - 1s - loss: 0.6847 - accuracy: 0.8357 - val_loss: 0.6628 - val_accuracy: 0.9650 - 637ms/epoch - 45ms/step\n",
    "Epoch 2/1000\n",
    "14/14 - 0s - loss: 0.6179 - accuracy: 0.9413 - val_loss: 0.5148 - val_accuracy: 0.9580 - 137ms/epoch - 10ms/step\n",
    "Epoch 3/1000\n",
    "14/14 - 0s - loss: 0.3915 - accuracy: 0.9507 - val_loss: 0.2044 - val_accuracy: 0.9580 - 121ms/epoch - 9ms/step\n",
    "Epoch 4/1000\n",
    "14/14 - 0s - loss: 0.1579 - accuracy: 0.9577 - val_loss: 0.0740 - val_accuracy: 0.9720 - 102ms/epoch - 7ms/step\n",
    "Epoch 5/1000\n",
    "14/14 - 0s - loss: 0.0831 - accuracy: 0.9812 - val_loss: 0.0543 - val_accuracy: 0.9790 - 102ms/epoch - 7ms/step\n",
    "\n",
    "........................\n",
    "\n",
    "Epoch 11/1000\n",
    "14/14 - 0s - loss: 0.0330 - accuracy: 0.9906 - val_loss: 0.0443 - val_accuracy: 0.9790 - 96ms/epoch - 7ms/step\n",
    "Epoch 12/1000\n",
    "14/14 - 0s - loss: 0.0298 - accuracy: 0.9930 - val_loss: 0.0463 - val_accuracy: 0.9790 - 96ms/epoch - 7ms/step\n",
    "Epoch 13/1000\n",
    "14/14 - 0s - loss: 0.0275 - accuracy: 0.9953 - val_loss: 0.0439 - val_accuracy: 0.9790 - 97ms/epoch - 7ms/step\n",
    "Epoch 14/1000\n",
    "14/14 - 0s - loss: 0.0247 - accuracy: 0.9953 - val_loss: 0.0412 - val_accuracy: 0.9790 - 98ms/epoch - 7ms/step\n",
    "Epoch 15/1000\n",
    "Restoring model weights from the end of the best epoch: 10.\n",
    "14/14 - 0s - loss: 0.0227 - accuracy: 0.9930 - val_loss: 0.0440 - val_accuracy: 0.9790 - 97ms/epoch - 7ms/step\n",
    "Epoch 15: early stopping\n",
    "\n",
    "<keras.callbacks.History at 0x1f6577596a0>\n",
    "~~~\n",
    "In this instance, your model `bcwModel` reached a minimum validation loss (`val_loss: 0.0463`) after only 12 epochs.\n"
   ]
  },
  {
   "cell_type": "markdown",
   "metadata": {},
   "source": [
    "-----------------------------------------\n",
    "\n",
    "## ROC Curves\n",
    "\n",
    "**_Receiver Operating Characteristic (ROC) Curve_** is a graphical representation that illustrates the diagnostic ability of a binary classification system as its discrimination threshold is varied. The ROC curve plots the true positive rate (Sensitivity) against the false positive rate (1-Specificity) for various threshold values, showing the trade-off between sensitivity and specificity.\n",
    "\n",
    "The ROC curve is important in evaluating the performance of diagnostic tests or classification models as it provides a comprehensive assessment of their ability to discriminate between positive and negative cases. Some key reasons why ROC curves are important include:\n",
    "\n",
    "* **Quantitative Measure:** ROC curves provide a quantitative measure of the diagnostic accuracy of a test by summarizing its performance across all possible thresholds.\n",
    "\n",
    "* **Comparison:** ROC curves allow for a direct comparison of different tests or models based on their area under the curve (AUC), where a higher AUC indicates better overall performance.\n",
    "\n",
    "* **Threshold Selection:** ROC curves help in selecting the optimal threshold for classification that balances sensitivity and specificity based on the specific requirements of the application.\n",
    "\n",
    "* **Visual Representation:** The visual nature of ROC curves facilitates a clear understanding of the trade-offs between sensitivity and specificity, aiding in decision-making and interpretation of test results.\n",
    "\n",
    "--------------------------------------\n"
   ]
  },
  {
   "cell_type": "markdown",
   "metadata": {},
   "source": [
    "### Example 4: Plot ROC curve for the Model\n",
    "\n",
    "The code in the cell below uses the model, `pidModel`, to **_predict_** whether each of the 192 women who were randomly placed in the `pidX_test` dataset, had Type II diabetes based on their clinical values. \n",
    "\n",
    "It then sends these predictions all with the women's actual diagnosis, stored in `bcwY_test`, to the plotting function, `plot_roc()` defined earlier in this lesson. \n",
    "\n",
    "Using the predicted and the actual values, the plotting function generates an ROC curve for the `pidModel` model.  "
   ]
  },
  {
   "cell_type": "code",
   "execution_count": 11,
   "metadata": {
    "colab": {
     "base_uri": "https://localhost:8080/",
     "height": 295
    },
    "id": "_95P1kTBK1AQ",
    "outputId": "35b353e5-0eaf-412f-83a3-1970e8e07bb1"
   },
   "outputs": [
    {
     "name": "stdout",
     "output_type": "stream",
     "text": [
      "6/6 [==============================] - 0s 6ms/step\n"
     ]
    },
    {
     "data": {
      "image/png": "[encoded data removed]",
      "text/plain": [
       "<Figure size 640x480 with 1 Axes>"
      ]
     },
     "metadata": {},
     "output_type": "display_data"
    }
   ],
   "source": [
    "# Example 4: Plot ROC curve\n",
    "\n",
    "# Use model to generate predictions\n",
    "pidPred = pidModel.predict(pidX_test)\n",
    "\n",
    "# Plot model predictions against actual values\n",
    "plot_roc(pidPred,pidY_test)"
   ]
  },
  {
   "cell_type": "markdown",
   "metadata": {},
   "source": [
    "Here is an annotated version of a similar ROC plot from the `pidModel` model.\n",
    "\n",
    "![ROC Curve ](https://biologicslab.co/BIO1173/images/class_04_2_ROC1B.png)"
   ]
  },
  {
   "cell_type": "markdown",
   "metadata": {},
   "source": [
    "### ROC Curve: Receiver Operating Characteristic Curve\n",
    "\n",
    "ROC curve stands for \"Receiver Operating Characteristic Curve\". The ROC Curve above shows the performance of the classification model `piModel` at all classification thresholds for predicting whether a Pima women has Type II diabetes. \n",
    "\n",
    "This curve plots two parameters:\n",
    "\n",
    "* True Positive Rate (Sensitivity)\n",
    "* False Positive Rate\n",
    "\n",
    "**True Positive Rate (TPR)** is a synonym for _sensitivity_ and is defined as follows:\n",
    "\n",
    "$TPR=\\frac{TP}{TP+FN}$\n",
    "\n",
    "In other words, the sensitivity of the model (True Positive Rate) increases to a perfect score (1.0) as the False Negative rate decreases to zero.\n",
    "\n",
    "**False Positive Rate (FPR)** is defined as follows:\n",
    "\n",
    "$FPR=\\frac{FP}{FP+TN}$\n",
    "\n",
    "In other words, the False Positive Rate increases to a perfect score (1.0) as the True Negative rate decreases to zero.\n",
    "\n",
    "An ROC curve plots TPR vs. FPR at different classification thresholds. Lowering the classification threshold classifies more items as positive, thus increasing both False Positives and True Positives. \n",
    "\n",
    "### AUC: Area Under the ROC Curve\n",
    "\n",
    "AUC stands for \"Area under the ROC Curve.\" In the plot above, the area colored light blue is the AUC. AUC measures the entire two-dimensional area underneath the entire ROC curve (think integral calculus) from (0,0) to (1,1).\n",
    "\n",
    "AUC provides an aggregate measure of performance across all possible classification thresholds. One way of interpreting AUC is as the probability that the model ranks a random positive example more highly than a random negative example.\n",
    "\n",
    "AUC ranges in value from 0 to 1. A model whose predictions are 100% wrong has an AUC of 0.0; one whose predictions are 100% correct has an AUC of 1.0. In this example, the AUC of the model `piModel` was 0.80.\n",
    "\n",
    "AUC is desirable for the following two reasons:\n",
    "\n",
    "* AUC is **scale-invariant**. It measures how well predictions are ranked, rather than their absolute values.\n",
    " \n",
    "* AUC is **classification-threshold-invariant**. It measures the quality of the model's predictions irrespective of what classification threshold is chosen."
   ]
  },
  {
   "cell_type": "markdown",
   "metadata": {},
   "source": [
    "### **Exercise 4: Plot ROC curve for the Model**\n",
    "\n",
    "In the cell below write the code to generate a ROC plot of your Breast Cancer classsification model, `bcwModel`."
   ]
  },
  {
   "cell_type": "code",
   "execution_count": 12,
   "metadata": {
    "colab": {
     "base_uri": "https://localhost:8080/",
     "height": 295
    },
    "id": "_95P1kTBK1AQ",
    "outputId": "35b353e5-0eaf-412f-83a3-1970e8e07bb1",
    "scrolled": true
   },
   "outputs": [],
   "source": [
    "# Insert your code for Exercise 4 here\n",
    "\n"
   ]
  },
  {
   "cell_type": "markdown",
   "metadata": {},
   "source": [
    "If code is correct you should see the following ROC curve:\n",
    "\n",
    "![ROCCurve](https://biologicslab.co/BIO1173/images/class_04_2_ROC2a.png)"
   ]
  },
  {
   "cell_type": "markdown",
   "metadata": {},
   "source": [
    "Compared to the Pima classification model, `piModel`, the ROC curve shows that your Breast Cancer model, `bcwModel` is much more accurate since its AUC (area under the curve) = 1.0."
   ]
  },
  {
   "cell_type": "markdown",
   "metadata": {
    "id": "yElFCdNQK1AR"
   },
   "source": [
    "## Multiclass Classification Error Metrics\n",
    "\n",
    "If you want to predict more than one outcome, you will need more than one output neuron. Because a single neuron can predict two results, (e.g. `0` for \"no\", `1` for \"yes\") neural networks with only two output neurons are somewhat rare. \n",
    "\n",
    "However, with three or more outcomes, there will be three or more output neurons. The following sections will examine several metrics for evaluating classification error in multiclass situtations. "
   ]
  },
  {
   "cell_type": "markdown",
   "metadata": {},
   "source": [
    "--------------------------------------\n",
    "\n",
    "## ST Segment \n",
    "\n",
    "(This vignette is from the [article](https://litfl.com/st-segment-ecg-library/) by Ed Burns and Robert Buttner, Mar 16, 2022)\n",
    "\n",
    "The **_ST segment_** is the flat, isoelectric section of the ECG between the end of the S wave (the J point) and the beginning of the T wave.\n",
    "\n",
    "* The ST Segment represents the interval between ventricular depolarization and repolarization.\n",
    "* The most important cause of ST segment abnormality (elevation or depression) is **myocardial ischaemia** or **infarction**.\n",
    "\n",
    "![ST Segment](https://biologicslab.co/BIO1173/images/ECG_ST.jpg)\n",
    "\n",
    "**Causes of ST Segment Elevation**\n",
    "\n",
    "* [Acute myocardial infarction](https://litfl.com/anterior-myocardial-infarction-ecg-library/)\n",
    "* [Coronary vasospasm (Printzmetal’s angina)](https://www.ncbi.nlm.nih.gov/pubmed/15293589)\n",
    "* [Pericarditis](https://litfl.com/pericarditis-ecg-library/)\n",
    "* [Benign early repolarization](https://litfl.com/benign-early-repolarisation-ecg-library/)\n",
    "* [Left bundle branch block](https://litfl.com/left-bundle-branch-block-lbbb-ecg-library/)\n",
    "* [Left ventricular hypertrophy](https://litfl.com/left-bundle-branch-block-lbbb-ecg-library/)\n",
    "* [Ventricular aneurysm](https://litfl.com/left-ventricular-aneursym-ecg-library/)\n",
    "* [Brugada syndrome](https://litfl.com/brugada-syndrome-ecg-library/)\n",
    "* [Ventricular paced rhythm](https://litfl.com/pacemaker-rhythms-normal-patterns/)\n",
    "* [Raised intracranial pressure](https://litfl.com/raised-intracranial-pressure-ecg-library/)\n",
    "* [Takotsubo Cardiomyopathy](https://litfl.com/tako-tsubo-cardiomyopathy-ecg-library/)\n",
    "\n",
    "---------------------------------------"
   ]
  },
  {
   "cell_type": "markdown",
   "metadata": {},
   "source": [
    "### Example 5: Read Datafile and Create DataFrame\n",
    "\n",
    "For the next section in this lesson, we will be using the Heart Disease dataset for the Examples. The data file, `heart_disease.csv` is located on the course HTTPS server, located in the following filepath: `/BIO1173/data/`. The code below shows how to read this data file and store the information in a new DataFrame called `ecgDF`. We will generate a new DataFrame to prevent problems with the previous manipulations of this dataset. \n",
    "\n",
    "Since we want to explore ***Multi*class Classification Error Metrics**, we will use `RestingECG` as our target column (Y). We will want to include the `HeartDisease` column as part of the independent variables (X).\n",
    "\n",
    "The column `RestingECG` has the 3 following categorical values: `Normal`, `ST` (ST segment elevation), `LVH` (left ventricular hypertropy). Consequently, our classification neural network model will have **_3_** output neurons--one for each category. \n",
    "   "
   ]
  },
  {
   "cell_type": "code",
   "execution_count": 13,
   "metadata": {
    "scrolled": true
   },
   "outputs": [
    {
     "data": {
      "text/html": [
       "<div>\n",
       "<style scoped>\n",
       "    .dataframe tbody tr th:only-of-type {\n",
       "        vertical-align: middle;\n",
       "    }\n",
       "\n",
       "    .dataframe tbody tr th {\n",
       "        vertical-align: top;\n",
       "    }\n",
       "\n",
       "    .dataframe thead th {\n",
       "        text-align: right;\n",
       "    }\n",
       "</style>\n",
       "<table border=\"1\" class=\"dataframe\">\n",
       "  <thead>\n",
       "    <tr style=\"text-align: right;\">\n",
       "      <th></th>\n",
       "      <th>Age</th>\n",
       "      <th>Sex</th>\n",
       "      <th>ChestPainType</th>\n",
       "      <th>...</th>\n",
       "      <th>Oldpeak</th>\n",
       "      <th>ST_Slope</th>\n",
       "      <th>HeartDisease</th>\n",
       "    </tr>\n",
       "  </thead>\n",
       "  <tbody>\n",
       "    <tr>\n",
       "      <th>0</th>\n",
       "      <td>40</td>\n",
       "      <td>M</td>\n",
       "      <td>ATA</td>\n",
       "      <td>...</td>\n",
       "      <td>0.0</td>\n",
       "      <td>Up</td>\n",
       "      <td>0</td>\n",
       "    </tr>\n",
       "    <tr>\n",
       "      <th>1</th>\n",
       "      <td>49</td>\n",
       "      <td>F</td>\n",
       "      <td>NAP</td>\n",
       "      <td>...</td>\n",
       "      <td>1.0</td>\n",
       "      <td>Flat</td>\n",
       "      <td>1</td>\n",
       "    </tr>\n",
       "    <tr>\n",
       "      <th>2</th>\n",
       "      <td>37</td>\n",
       "      <td>M</td>\n",
       "      <td>ATA</td>\n",
       "      <td>...</td>\n",
       "      <td>0.0</td>\n",
       "      <td>Up</td>\n",
       "      <td>0</td>\n",
       "    </tr>\n",
       "    <tr>\n",
       "      <th>...</th>\n",
       "      <td>...</td>\n",
       "      <td>...</td>\n",
       "      <td>...</td>\n",
       "      <td>...</td>\n",
       "      <td>...</td>\n",
       "      <td>...</td>\n",
       "      <td>...</td>\n",
       "    </tr>\n",
       "    <tr>\n",
       "      <th>915</th>\n",
       "      <td>57</td>\n",
       "      <td>M</td>\n",
       "      <td>ASY</td>\n",
       "      <td>...</td>\n",
       "      <td>1.2</td>\n",
       "      <td>Flat</td>\n",
       "      <td>1</td>\n",
       "    </tr>\n",
       "    <tr>\n",
       "      <th>916</th>\n",
       "      <td>57</td>\n",
       "      <td>F</td>\n",
       "      <td>ATA</td>\n",
       "      <td>...</td>\n",
       "      <td>0.0</td>\n",
       "      <td>Flat</td>\n",
       "      <td>1</td>\n",
       "    </tr>\n",
       "    <tr>\n",
       "      <th>917</th>\n",
       "      <td>38</td>\n",
       "      <td>M</td>\n",
       "      <td>NAP</td>\n",
       "      <td>...</td>\n",
       "      <td>0.0</td>\n",
       "      <td>Up</td>\n",
       "      <td>0</td>\n",
       "    </tr>\n",
       "  </tbody>\n",
       "</table>\n",
       "<p>918 rows × 12 columns</p>\n",
       "</div>"
      ],
      "text/plain": [
       "     Age Sex ChestPainType  ...  Oldpeak  ST_Slope  HeartDisease\n",
       "0     40   M           ATA  ...      0.0        Up             0\n",
       "1     49   F           NAP  ...      1.0      Flat             1\n",
       "2     37   M           ATA  ...      0.0        Up             0\n",
       "..   ...  ..           ...  ...      ...       ...           ...\n",
       "915   57   M           ASY  ...      1.2      Flat             1\n",
       "916   57   F           ATA  ...      0.0      Flat             1\n",
       "917   38   M           NAP  ...      0.0        Up             0\n",
       "\n",
       "[918 rows x 12 columns]"
      ]
     },
     "metadata": {},
     "output_type": "display_data"
    }
   ],
   "source": [
    "# Example 5: Read the data set\n",
    "\n",
    "# Read the data file and create DataFrame\n",
    "ecgDF = pd.read_csv(\n",
    "    \"https://biologicslab.co/BIO1173/data/heart_disease.csv\",\n",
    "    na_values=['NA','?'])\n",
    "\n",
    "# Set display options\n",
    "pd.set_option('display.max_columns', 6)\n",
    "pd.set_option('display.max_rows', 6)\n",
    "\n",
    "# Display DataFrame\n",
    "display(ecgDF)"
   ]
  },
  {
   "cell_type": "markdown",
   "metadata": {},
   "source": [
    "If code is correct you should see the following table:\n",
    "\n",
    "![ROC Curve](https://biologicslab.co/BIO1173/images/class_04_2_Exm5.png)"
   ]
  },
  {
   "cell_type": "markdown",
   "metadata": {},
   "source": [
    "### **Exercise 5: Read Datafile and Create DataFrame**\n",
    "\n",
    "For the next section, you will be using the Iris Flower dataset for your Exercises. The data file, `iris.csv` is located on the course HTTPS server. You can use this code chunk to read the datafile and create a new DataFrame called `ifDF` (Iris Flower DataFrame).\n",
    "\n",
    "~~~text\n",
    "# Read the data file and create DataFrame\n",
    "ifDF = pd.read_csv(\n",
    "    \"https://biologicslab.co/BIO1173/data/iris.csv\",\n",
    "    na_values=['NA','?'])\n",
    "~~~\n",
    "\n",
    "Set the display options to show all columns and 6 rows of the `ifDF` DataFrame."
   ]
  },
  {
   "cell_type": "code",
   "execution_count": 14,
   "metadata": {
    "scrolled": true
   },
   "outputs": [],
   "source": [
    "# Insert your code for Exercise 5 here\n",
    "\n"
   ]
  },
  {
   "cell_type": "markdown",
   "metadata": {},
   "source": [
    "If code is correct you should see the following table:\n",
    "\n",
    "![ROCCurve](https://biologicslab.co/BIO1173/images/class_04_2_Exe5.png)"
   ]
  },
  {
   "cell_type": "markdown",
   "metadata": {},
   "source": [
    "### Example 6: Compute Number of Samples in Each Output Class\n",
    "\n",
    "It is generally useful to have some idea how many samples are in each output class. Ideally, for training a multiclass classification neural network, the number of samples in each class should be approximately equal.\n",
    "\n",
    "The code below uses the grouby.count to print out next section in this lesson, we will again be using the Heart Disease dataset for the Examples. The data file, heart_disease.csv is located on the course HTTPS s"
   ]
  },
  {
   "cell_type": "code",
   "execution_count": 15,
   "metadata": {
    "scrolled": true
   },
   "outputs": [
    {
     "name": "stdout",
     "output_type": "stream",
     "text": [
      "RestingECG\n",
      "LVH       188\n",
      "Normal    552\n",
      "ST        178\n",
      "Name: RestingECG, dtype: int64\n"
     ]
    }
   ],
   "source": [
    "# Example 6: Groupby\n",
    "\n",
    "# Create groupby\n",
    "ecgGroups = ecgDF.groupby(['RestingECG'])['RestingECG'].count()\n",
    "\n",
    "# Print results\n",
    "print(ecgGroups)"
   ]
  },
  {
   "cell_type": "markdown",
   "metadata": {},
   "source": [
    "If your code is correct you should see the following output:"
   ]
  },
  {
   "cell_type": "markdown",
   "metadata": {},
   "source": [
    "~~~text\n",
    "RestingECG\n",
    "LVH       188\n",
    "Normal    552\n",
    "ST        178\n",
    "Name: RestingECG, dtype: int64\n",
    "~~~"
   ]
  },
  {
   "cell_type": "markdown",
   "metadata": {},
   "source": [
    "As you can see from the output above, the number of samples in each of the 3 output classes, `LVH`, `Normal` and `ST` are _not_ ideal. The number of samples in the class `Normal` is almost twice the size of the other two classes, `LVH` and `ST`. Let's see if this becomes a problem later."
   ]
  },
  {
   "cell_type": "markdown",
   "metadata": {},
   "source": [
    "### **Exercise 6: Compute Number of Samples in Each Output Class**\n",
    "\n",
    "In the cell below write the code to print out the number of samples in each class of the column `species` in your DataFrame `ifDF`.\n"
   ]
  },
  {
   "cell_type": "code",
   "execution_count": 16,
   "metadata": {
    "scrolled": true
   },
   "outputs": [],
   "source": [
    "# Insert your code for Exercise 6 here\n"
   ]
  },
  {
   "cell_type": "markdown",
   "metadata": {},
   "source": [
    "\n",
    "If your code is correct you should see the following output:\n",
    "~~~text\n",
    "species\n",
    "Iris-setosa        50\n",
    "Iris-versicolor    50\n",
    "Iris-virginica     50\n",
    "Name: species, dtype: int64\n",
    "~~~\n",
    "As you can see from the output above, the number of samples in each of the 3 output classes, `Iris-setosa`, `Iris-versicolor` and `Iris-virginica` are exactly equal (i.e. `50`), which is ideal. "
   ]
  },
  {
   "cell_type": "markdown",
   "metadata": {},
   "source": [
    "### Example 7: Check for Missing Data\n",
    "\n",
    "The code in the cell below checks the DataFrame `ecgDF` for missing values. The number of rows is set to `15` to make sure that the results from all of the columns are displayed. "
   ]
  },
  {
   "cell_type": "code",
   "execution_count": 17,
   "metadata": {},
   "outputs": [
    {
     "name": "stdout",
     "output_type": "stream",
     "text": [
      "Age               False\n",
      "Sex               False\n",
      "ChestPainType     False\n",
      "RestingBP         False\n",
      "Cholesterol       False\n",
      "FastingBS         False\n",
      "RestingECG        False\n",
      "MaxHR             False\n",
      "ExerciseAngina    False\n",
      "Oldpeak           False\n",
      "ST_Slope          False\n",
      "HeartDisease      False\n",
      "dtype: bool\n"
     ]
    }
   ],
   "source": [
    "# Example 7: Check for missing data\n",
    "\n",
    "# Find the locations of missing data\n",
    "missing_locations = ecgDF.isnull().any()\n",
    "\n",
    "# Set max rows to 15\n",
    "pd.set_option('display.max_rows', 15)\n",
    "\n",
    "# Display the locations of missing data\n",
    "print(missing_locations)"
   ]
  },
  {
   "cell_type": "markdown",
   "metadata": {},
   "source": [
    "If your code is correct you should see the following output:\n",
    "~~~text\n",
    "Age               False\n",
    "Sex               False\n",
    "ChestPainType     False\n",
    "RestingBP         False\n",
    "Cholesterol       False\n",
    "FastingBS         False\n",
    "RestingECG        False\n",
    "MaxHR             False\n",
    "ExerciseAngina    False\n",
    "Oldpeak           False\n",
    "ST_Slope          False\n",
    "HeartDisease      False\n",
    "dtype: bool\n",
    "~~~\n",
    "The results show that there are no missing data values in the DataFrame `ecgDF`."
   ]
  },
  {
   "cell_type": "markdown",
   "metadata": {},
   "source": [
    "### **Exercise 7: Check for Missing Data**\n",
    "\n",
    "In the cell below write the code to check for missing values in the DataFrame `ifDF`. Set the number of rows to display to `5`. "
   ]
  },
  {
   "cell_type": "code",
   "execution_count": 18,
   "metadata": {},
   "outputs": [],
   "source": [
    "# Insert your code for Exercise 7 here\n",
    "\n"
   ]
  },
  {
   "cell_type": "markdown",
   "metadata": {},
   "source": [
    "If your code is correct you should see the following output:"
   ]
  },
  {
   "cell_type": "markdown",
   "metadata": {},
   "source": [
    "~~~text\n",
    "sepal_length    False\n",
    "sepal_width     False\n",
    "petal_length    False\n",
    "petal_width     False\n",
    "species         False\n",
    "dtype: bool\n",
    "~~~"
   ]
  },
  {
   "cell_type": "markdown",
   "metadata": {},
   "source": [
    "Again, the results show that there are no missing data values in the DataFrame `ifDF`."
   ]
  },
  {
   "cell_type": "markdown",
   "metadata": {},
   "source": [
    "### Example 8: Preprocess Data for Neural Network Training\n",
    "\n",
    "The code in the cell below preprocesses the Heart Disease data to make it ready for machine learning. \n",
    "\n",
    "Two columns, `Sex`, and `ExerciseAngina` have _binary_ categorical variables. The column `Sex` has the letters `M` and `F`, while the column `ExerciseAngina` has the letters `Y` and `N`. In the cell below, these categorical values will be **_mapped_** to the integers `1` and `0`.  \n",
    "\n",
    "Two other columns have categorical values than need to be converted into numerical values. The column `ST_Slope`, has the categorical values `Down`, `Up` and `Flat` while the column `ChestPainTypes` has four categorical values, `ATA`, `NAP`, `ASY`, `TA`. One-Hot encoding will be applied to these two columns before they are used to generate the X-values.\n",
    "\n",
    "The `ecgDF` DataFrame has 4 columns with numeric data: `RestingBP`, `Cholesterol`, `FastingBS` and `MaxHR`. Since the values in these columns vary substantially in magnitude, there will be **_standardized_** by replacing their values by their z-scores. \n",
    "\n",
    "Finally, the target column for this example, `RestingECG` has three categorical values: `LVH`, `Normal`, and `ST`. Since this is is going to be our target column, it will be One-Hot encoded separately when generating the Y feature vector. \n",
    "\n",
    "Remember, the with classification neural networks, it is **always** necessary to One-Hot encode the target column when generating the Y values, whether or not the target column contains string or numerical data."
   ]
  },
  {
   "cell_type": "code",
   "execution_count": 19,
   "metadata": {
    "id": "wD57aaWKK1AR"
   },
   "outputs": [
    {
     "name": "stdout",
     "output_type": "stream",
     "text": [
      "LVH Normal ST\n"
     ]
    }
   ],
   "source": [
    "# Example 6: Preprocess data\n",
    "\n",
    "# Map `Sex` to int\n",
    "mapping = {'M': 1, 'F': 0}\n",
    "ecgDF['Sex'] = ecgDF['Sex'].map(mapping)\n",
    "\n",
    "# Map 'ExerciseAngina' to int\n",
    "mapping = {'Y': 1, 'N': 0}\n",
    "ecgDF['ExerciseAngina'] = ecgDF['ExerciseAngina'].map(mapping)\n",
    "\n",
    "# One Hot encode ChestPainType\n",
    "ecgDF = pd.concat([ecgDF,pd.get_dummies(ecgDF['ChestPainType'],prefix=\"PainType\", dtype=float)],axis=1)\n",
    "ecgDF.drop('ChestPainType', axis=1, inplace=True)\n",
    "\n",
    "# One Hot encode ST_Slope\n",
    "ecgDF = pd.concat([ecgDF,pd.get_dummies(ecgDF['ST_Slope'],prefix=\"ST_Slope\", dtype=float)],axis=1)\n",
    "ecgDF.drop('ST_Slope', axis=1, inplace=True)\n",
    "\n",
    "# Standardize ranges in numeric columns\n",
    "ecgDF['RestingBP'] = zscore(ecgDF['RestingBP'])\n",
    "ecgDF['Cholesterol'] = zscore(ecgDF['Cholesterol'])\n",
    "ecgDF['FastingBS'] = zscore(ecgDF['RestingBP'])\n",
    "ecgDF['MaxHR'] = zscore(ecgDF['MaxHR'])\n",
    "\n",
    "\n",
    "# Generate X from all columns EXCEPT the target colunm\n",
    "ecgX_columns = ecgDF.columns.drop('RestingECG')\n",
    "ecgX = ecgDF[ecgX_columns].values \n",
    "ecgX = np.asarray(ecgX).astype(np.float32)\n",
    "\n",
    "# One-Hot encode the target column and generate Y\n",
    "dummies = pd.get_dummies(ecgDF['RestingECG'], dtype=float) # Classification\n",
    "ECGclasses = dummies.columns\n",
    "ecgY = dummies.values\n",
    "ecgY = np.asarray(ecgY).astype(np.float32)\n",
    "\n",
    "# Print the ECGtypes\n",
    "print(*ECGclasses)"
   ]
  },
  {
   "cell_type": "markdown",
   "metadata": {},
   "source": [
    "If your code is correct you should see the following output:"
   ]
  },
  {
   "cell_type": "markdown",
   "metadata": {
    "scrolled": true
   },
   "source": [
    "~~~text\n",
    "LVH Normal ST\n",
    "~~~"
   ]
  },
  {
   "cell_type": "markdown",
   "metadata": {},
   "source": [
    "The output represents the 3 output classes (Y) that our neural network will be designed to predict after being trained on the X data stored in the variable `ecgX`. "
   ]
  },
  {
   "cell_type": "markdown",
   "metadata": {},
   "source": [
    "--------------------------\n",
    "\n",
    "## Should binary numerical categories be converted to Z-scores?\n",
    "\n",
    "Since we converted the numerical data into Z-scores, should we also convert the data in the columns that were mapped to `0` and `1` into Z-scores?\n",
    "\n",
    "No, binary numerical categories should **not** be converted into Z-scores when fitting a neural network. Z-scores are used for standardizing continuous numerical data by calculating the number of standard deviations a data point is from the mean. Binary numerical categories are already in a format that is suitable for inputting into a neural network, as they typically represent two distinct classes or states. Converting them into Z-scores would not add any meaningful information and could potentially introduce unnecessary noise into the data.\n",
    "\n",
    "--------------------------"
   ]
  },
  {
   "cell_type": "markdown",
   "metadata": {},
   "source": [
    "### **Exercise 8: Preprocess Data for Neural Network Training**\n",
    "\n",
    "In the cell below, preprocess the data in your DataFrame `ifDF` to make it ready for processing by a neural network. Compared to Example 8 above, your code will require fewer steps.\n",
    "\n",
    "Things you **don't** have to do for preprocessing:\n",
    "\n",
    "1. Since there are no missing data in `ifDF` you don't need to correct for missing data.\n",
    "2. Since the all of the columns (except the target column) are numeric, you don't have to map any categorical values to integers.\n",
    "\n",
    "Things you **will** need to do for preprocessing:\n",
    "\n",
    "1. Create a list of columns to used in creating your X values called `ifX_columns`, by dropping the target column `species`.\n",
    "2. Use your list to generate an X feature vector called `ifX`.\n",
    "3. Convert `ifX` to float32 using the command: `ifX = np.asarray(ifX).astype(np.float32)`\n",
    "4. Generate your Y feature vector by One-Hot encode the target column, `species` using this code chunk:\n",
    "\n",
    "~~~text\n",
    "# Generate Y feature vector\n",
    "dummies = pd.get_dummies(ifDF['species'], dtype=float) # Classification\n",
    "IRIS_species = dummies.columns\n",
    "ifY = dummies.values\n",
    "ifY = np.asarray(ifY).astype(np.float32)\n",
    "~~~\n",
    "Print out the contents of the variable `IRIS_species` using the starred notation demonstrated in Example 8."
   ]
  },
  {
   "cell_type": "code",
   "execution_count": 20,
   "metadata": {
    "id": "wD57aaWKK1AR"
   },
   "outputs": [],
   "source": [
    "# Insert your code for Exercise 8 here\n",
    "\n"
   ]
  },
  {
   "cell_type": "markdown",
   "metadata": {},
   "source": [
    "If your code is correct you should see the following output:\n",
    "~~~text\n",
    "Iris-setosa Iris-versicolor Iris-virginica\n",
    "~~~\n",
    "These are the three classes that your neural network will be designed to predict."
   ]
  },
  {
   "cell_type": "markdown",
   "metadata": {},
   "source": [
    "### Example 9: Construct, Compile and Train Multiclass Classification Neural Network\n",
    "\n",
    "The code in the cell below starts by splitting the X-values stored in the X feature vector, `ecgX`, into `ecgX_train` and `ecgX_test` sets with 75% being used for training. \n",
    "\n",
    "Similarily, the Y-values stores in `ecgY` are split into `ecgY_train` and `ecgY_test` sets. Keep in mind that the Y-values in the training and testing sets match the X-values in the training and testing sets.\n",
    "\n",
    "The cell below then builds a linear (\"sequential\") muticlass classsification neural network called `ecgModel` with 3 hidden layers. The number of inputs to the 1st hidden layer is specified by the argument `input_dim=ecgX.shape[1]`. Similarly, the argument `ecgY.shape[1]`, is used in the output layer to specify the number output neurons. Since there are 3 classes in `ecgY` (`LVH`, `Normal`, `ST`) the output layer will have 3 neurons--one neuron for each class.\n",
    "\n",
    "Since this model is doing classification, we will compile it using the loss function, `categorical_crossentropy` with the `Adam` optimizer. \n",
    "\n",
    "To allow for early stopping, an EarlyStopping monitor, `ecgMoniter` is created.  The monitor is specified to wait `50` epochs for the validation loss to start improving after reaching a local minimum, before termining the training. This is a fairly long time to wait, but it is needed in this example due to the relatively low number of data samples. \n",
    "\n",
    "Finally, the model `ecgModel` is trained (fitted) to the training and test (validation) data sets for 1000 epochs."
   ]
  },
  {
   "cell_type": "code",
   "execution_count": 21,
   "metadata": {
    "colab": {
     "base_uri": "https://localhost:8080/"
    },
    "id": "aggbZoEUK1AR",
    "outputId": "6893844e-1126-4e7d-b6cb-34b2ab04ab4f"
   },
   "outputs": [
    {
     "name": "stdout",
     "output_type": "stream",
     "text": [
      "Epoch 1/1000\n",
      "22/22 - 1s - loss: 1.0584 - accuracy: 0.5741 - val_loss: 1.0148 - val_accuracy: 0.5609 - 1s/epoch - 49ms/step\n",
      "Epoch 2/1000\n",
      "22/22 - 0s - loss: 0.9663 - accuracy: 0.6148 - val_loss: 1.0155 - val_accuracy: 0.5609 - 206ms/epoch - 9ms/step\n",
      "Epoch 3/1000\n",
      "22/22 - 0s - loss: 0.9566 - accuracy: 0.6148 - val_loss: 1.0270 - val_accuracy: 0.5609 - 193ms/epoch - 9ms/step\n",
      "Epoch 4/1000\n",
      "22/22 - 0s - loss: 0.9590 - accuracy: 0.6148 - val_loss: 1.0121 - val_accuracy: 0.5609 - 148ms/epoch - 7ms/step\n",
      "Epoch 5/1000\n",
      "22/22 - 0s - loss: 0.9535 - accuracy: 0.6148 - val_loss: 1.0178 - val_accuracy: 0.5609 - 137ms/epoch - 6ms/step\n",
      "Epoch 6/1000\n",
      "22/22 - 0s - loss: 0.9533 - accuracy: 0.6148 - val_loss: 1.0081 - val_accuracy: 0.5609 - 140ms/epoch - 6ms/step\n",
      "Epoch 7/1000\n",
      "22/22 - 0s - loss: 0.9533 - accuracy: 0.6148 - val_loss: 1.0133 - val_accuracy: 0.5609 - 137ms/epoch - 6ms/step\n",
      "Epoch 8/1000\n",
      "22/22 - 0s - loss: 0.9497 - accuracy: 0.6148 - val_loss: 1.0089 - val_accuracy: 0.5609 - 138ms/epoch - 6ms/step\n",
      "Epoch 9/1000\n",
      "22/22 - 0s - loss: 0.9467 - accuracy: 0.6148 - val_loss: 1.0062 - val_accuracy: 0.5609 - 138ms/epoch - 6ms/step\n",
      "Epoch 10/1000\n",
      "22/22 - 0s - loss: 0.9450 - accuracy: 0.6148 - val_loss: 1.0081 - val_accuracy: 0.5609 - 139ms/epoch - 6ms/step\n",
      "Epoch 11/1000\n",
      "22/22 - 0s - loss: 0.9444 - accuracy: 0.6148 - val_loss: 1.0062 - val_accuracy: 0.5609 - 141ms/epoch - 6ms/step\n",
      "Epoch 12/1000\n",
      "22/22 - 0s - loss: 0.9415 - accuracy: 0.6148 - val_loss: 0.9998 - val_accuracy: 0.5609 - 154ms/epoch - 7ms/step\n",
      "Epoch 13/1000\n",
      "22/22 - 0s - loss: 0.9391 - accuracy: 0.6148 - val_loss: 0.9909 - val_accuracy: 0.5609 - 148ms/epoch - 7ms/step\n",
      "Epoch 14/1000\n",
      "22/22 - 0s - loss: 0.9399 - accuracy: 0.6148 - val_loss: 0.9887 - val_accuracy: 0.5609 - 137ms/epoch - 6ms/step\n",
      "Epoch 15/1000\n",
      "22/22 - 0s - loss: 0.9395 - accuracy: 0.6148 - val_loss: 0.9871 - val_accuracy: 0.5609 - 139ms/epoch - 6ms/step\n",
      "Epoch 16/1000\n",
      "22/22 - 0s - loss: 0.9411 - accuracy: 0.6148 - val_loss: 0.9877 - val_accuracy: 0.5609 - 142ms/epoch - 6ms/step\n",
      "Epoch 17/1000\n",
      "22/22 - 0s - loss: 0.9309 - accuracy: 0.6148 - val_loss: 0.9828 - val_accuracy: 0.5609 - 145ms/epoch - 7ms/step\n",
      "Epoch 18/1000\n",
      "22/22 - 0s - loss: 0.9306 - accuracy: 0.6148 - val_loss: 0.9862 - val_accuracy: 0.5609 - 146ms/epoch - 7ms/step\n",
      "Epoch 19/1000\n",
      "22/22 - 0s - loss: 0.9277 - accuracy: 0.6148 - val_loss: 0.9790 - val_accuracy: 0.5609 - 154ms/epoch - 7ms/step\n",
      "Epoch 20/1000\n",
      "22/22 - 0s - loss: 0.9230 - accuracy: 0.6148 - val_loss: 0.9879 - val_accuracy: 0.5609 - 144ms/epoch - 7ms/step\n",
      "Epoch 21/1000\n",
      "22/22 - 0s - loss: 0.9239 - accuracy: 0.6148 - val_loss: 0.9665 - val_accuracy: 0.5609 - 167ms/epoch - 8ms/step\n",
      "Epoch 22/1000\n",
      "22/22 - 0s - loss: 0.9154 - accuracy: 0.6148 - val_loss: 0.9612 - val_accuracy: 0.5609 - 151ms/epoch - 7ms/step\n",
      "Epoch 23/1000\n",
      "22/22 - 0s - loss: 0.9144 - accuracy: 0.6148 - val_loss: 0.9590 - val_accuracy: 0.5609 - 146ms/epoch - 7ms/step\n",
      "Epoch 24/1000\n",
      "22/22 - 0s - loss: 0.9068 - accuracy: 0.6148 - val_loss: 0.9576 - val_accuracy: 0.5609 - 147ms/epoch - 7ms/step\n",
      "Epoch 25/1000\n",
      "22/22 - 0s - loss: 0.9025 - accuracy: 0.6148 - val_loss: 0.9557 - val_accuracy: 0.5609 - 163ms/epoch - 7ms/step\n",
      "Epoch 26/1000\n",
      "22/22 - 0s - loss: 0.9002 - accuracy: 0.6148 - val_loss: 0.9403 - val_accuracy: 0.5609 - 149ms/epoch - 7ms/step\n",
      "Epoch 27/1000\n",
      "22/22 - 0s - loss: 0.8935 - accuracy: 0.6148 - val_loss: 0.9447 - val_accuracy: 0.5609 - 145ms/epoch - 7ms/step\n",
      "Epoch 28/1000\n",
      "22/22 - 0s - loss: 0.8889 - accuracy: 0.6148 - val_loss: 0.9353 - val_accuracy: 0.5609 - 149ms/epoch - 7ms/step\n",
      "Epoch 29/1000\n",
      "22/22 - 0s - loss: 0.8983 - accuracy: 0.6148 - val_loss: 0.9297 - val_accuracy: 0.5609 - 150ms/epoch - 7ms/step\n",
      "Epoch 30/1000\n",
      "22/22 - 0s - loss: 0.8919 - accuracy: 0.6148 - val_loss: 0.9351 - val_accuracy: 0.5609 - 146ms/epoch - 7ms/step\n",
      "Epoch 31/1000\n",
      "22/22 - 0s - loss: 0.8836 - accuracy: 0.6148 - val_loss: 0.9280 - val_accuracy: 0.5609 - 150ms/epoch - 7ms/step\n",
      "Epoch 32/1000\n",
      "22/22 - 0s - loss: 0.8776 - accuracy: 0.6148 - val_loss: 0.9316 - val_accuracy: 0.5609 - 169ms/epoch - 8ms/step\n",
      "Epoch 33/1000\n",
      "22/22 - 0s - loss: 0.8794 - accuracy: 0.6148 - val_loss: 0.9336 - val_accuracy: 0.5609 - 150ms/epoch - 7ms/step\n",
      "Epoch 34/1000\n",
      "22/22 - 0s - loss: 0.8798 - accuracy: 0.6148 - val_loss: 0.9302 - val_accuracy: 0.5609 - 150ms/epoch - 7ms/step\n",
      "Epoch 35/1000\n",
      "22/22 - 0s - loss: 0.8866 - accuracy: 0.6148 - val_loss: 0.9283 - val_accuracy: 0.5609 - 150ms/epoch - 7ms/step\n",
      "Epoch 36/1000\n",
      "22/22 - 0s - loss: 0.8766 - accuracy: 0.6148 - val_loss: 0.9297 - val_accuracy: 0.5609 - 147ms/epoch - 7ms/step\n",
      "Epoch 37/1000\n",
      "22/22 - 0s - loss: 0.8756 - accuracy: 0.6148 - val_loss: 0.9333 - val_accuracy: 0.5609 - 154ms/epoch - 7ms/step\n",
      "Epoch 38/1000\n",
      "22/22 - 0s - loss: 0.8816 - accuracy: 0.6148 - val_loss: 0.9308 - val_accuracy: 0.5609 - 158ms/epoch - 7ms/step\n",
      "Epoch 39/1000\n",
      "22/22 - 0s - loss: 0.8676 - accuracy: 0.6148 - val_loss: 0.9339 - val_accuracy: 0.5609 - 162ms/epoch - 7ms/step\n",
      "Epoch 40/1000\n",
      "22/22 - 0s - loss: 0.8660 - accuracy: 0.6148 - val_loss: 0.9266 - val_accuracy: 0.5609 - 168ms/epoch - 8ms/step\n",
      "Epoch 41/1000\n",
      "22/22 - 0s - loss: 0.8734 - accuracy: 0.6148 - val_loss: 0.9295 - val_accuracy: 0.5609 - 165ms/epoch - 7ms/step\n",
      "Epoch 42/1000\n",
      "22/22 - 0s - loss: 0.8713 - accuracy: 0.6206 - val_loss: 0.9346 - val_accuracy: 0.5609 - 165ms/epoch - 8ms/step\n",
      "Epoch 43/1000\n",
      "22/22 - 0s - loss: 0.8658 - accuracy: 0.6221 - val_loss: 0.9420 - val_accuracy: 0.5609 - 152ms/epoch - 7ms/step\n",
      "Epoch 44/1000\n",
      "22/22 - 0s - loss: 0.8604 - accuracy: 0.6265 - val_loss: 0.9356 - val_accuracy: 0.5652 - 150ms/epoch - 7ms/step\n",
      "Epoch 45/1000\n",
      "22/22 - 0s - loss: 0.8599 - accuracy: 0.6294 - val_loss: 0.9379 - val_accuracy: 0.5565 - 154ms/epoch - 7ms/step\n",
      "Epoch 46/1000\n",
      "22/22 - 0s - loss: 0.8609 - accuracy: 0.6235 - val_loss: 0.9339 - val_accuracy: 0.5739 - 150ms/epoch - 7ms/step\n",
      "Epoch 47/1000\n",
      "22/22 - 0s - loss: 0.8587 - accuracy: 0.6279 - val_loss: 0.9452 - val_accuracy: 0.5478 - 148ms/epoch - 7ms/step\n",
      "Epoch 48/1000\n",
      "22/22 - 0s - loss: 0.8750 - accuracy: 0.6177 - val_loss: 0.9586 - val_accuracy: 0.5478 - 174ms/epoch - 8ms/step\n",
      "Epoch 49/1000\n",
      "22/22 - 0s - loss: 0.8791 - accuracy: 0.6206 - val_loss: 0.9354 - val_accuracy: 0.5609 - 154ms/epoch - 7ms/step\n",
      "Epoch 50/1000\n",
      "22/22 - 0s - loss: 0.8608 - accuracy: 0.6250 - val_loss: 0.9450 - val_accuracy: 0.5565 - 146ms/epoch - 7ms/step\n",
      "Epoch 51/1000\n",
      "22/22 - 0s - loss: 0.8549 - accuracy: 0.6279 - val_loss: 0.9417 - val_accuracy: 0.5652 - 146ms/epoch - 7ms/step\n",
      "Epoch 52/1000\n",
      "22/22 - 0s - loss: 0.8517 - accuracy: 0.6366 - val_loss: 0.9439 - val_accuracy: 0.5696 - 146ms/epoch - 7ms/step\n",
      "Epoch 53/1000\n",
      "22/22 - 0s - loss: 0.8504 - accuracy: 0.6206 - val_loss: 0.9452 - val_accuracy: 0.5652 - 148ms/epoch - 7ms/step\n",
      "Epoch 54/1000\n",
      "22/22 - 0s - loss: 0.8413 - accuracy: 0.6250 - val_loss: 0.9468 - val_accuracy: 0.5522 - 146ms/epoch - 7ms/step\n",
      "Epoch 55/1000\n",
      "22/22 - 0s - loss: 0.8428 - accuracy: 0.6323 - val_loss: 0.9499 - val_accuracy: 0.5652 - 146ms/epoch - 7ms/step\n",
      "Epoch 56/1000\n",
      "22/22 - 0s - loss: 0.8481 - accuracy: 0.6279 - val_loss: 0.9448 - val_accuracy: 0.5652 - 148ms/epoch - 7ms/step\n",
      "Epoch 57/1000\n",
      "22/22 - 0s - loss: 0.8448 - accuracy: 0.6235 - val_loss: 0.9467 - val_accuracy: 0.5261 - 145ms/epoch - 7ms/step\n",
      "Epoch 58/1000\n",
      "22/22 - 0s - loss: 0.8500 - accuracy: 0.6250 - val_loss: 0.9569 - val_accuracy: 0.5565 - 146ms/epoch - 7ms/step\n",
      "Epoch 59/1000\n",
      "22/22 - 0s - loss: 0.8344 - accuracy: 0.6410 - val_loss: 0.9545 - val_accuracy: 0.5348 - 165ms/epoch - 8ms/step\n",
      "Epoch 60/1000\n",
      "22/22 - 0s - loss: 0.8388 - accuracy: 0.6235 - val_loss: 0.9526 - val_accuracy: 0.5696 - 149ms/epoch - 7ms/step\n",
      "Epoch 61/1000\n",
      "22/22 - 0s - loss: 0.8350 - accuracy: 0.6352 - val_loss: 0.9494 - val_accuracy: 0.5522 - 146ms/epoch - 7ms/step\n",
      "Epoch 62/1000\n",
      "22/22 - 0s - loss: 0.8376 - accuracy: 0.6265 - val_loss: 0.9481 - val_accuracy: 0.5652 - 149ms/epoch - 7ms/step\n",
      "Epoch 63/1000\n",
      "22/22 - 0s - loss: 0.8355 - accuracy: 0.6337 - val_loss: 0.9613 - val_accuracy: 0.5739 - 148ms/epoch - 7ms/step\n",
      "Epoch 64/1000\n",
      "22/22 - 0s - loss: 0.8382 - accuracy: 0.6337 - val_loss: 0.9599 - val_accuracy: 0.5783 - 168ms/epoch - 8ms/step\n",
      "Epoch 65/1000\n",
      "22/22 - 0s - loss: 0.8232 - accuracy: 0.6294 - val_loss: 0.9554 - val_accuracy: 0.5565 - 160ms/epoch - 7ms/step\n",
      "Epoch 66/1000\n",
      "22/22 - 0s - loss: 0.8246 - accuracy: 0.6381 - val_loss: 0.9557 - val_accuracy: 0.5522 - 165ms/epoch - 7ms/step\n",
      "Epoch 67/1000\n",
      "22/22 - 0s - loss: 0.8343 - accuracy: 0.6294 - val_loss: 0.9525 - val_accuracy: 0.5478 - 151ms/epoch - 7ms/step\n",
      "Epoch 68/1000\n",
      "22/22 - 0s - loss: 0.8285 - accuracy: 0.6221 - val_loss: 0.9516 - val_accuracy: 0.5522 - 146ms/epoch - 7ms/step\n",
      "Epoch 69/1000\n",
      "22/22 - 0s - loss: 0.8324 - accuracy: 0.6250 - val_loss: 0.9499 - val_accuracy: 0.5565 - 165ms/epoch - 8ms/step\n",
      "Epoch 70/1000\n",
      "22/22 - 0s - loss: 0.8156 - accuracy: 0.6424 - val_loss: 0.9600 - val_accuracy: 0.5522 - 196ms/epoch - 9ms/step\n",
      "Epoch 71/1000\n",
      "22/22 - 0s - loss: 0.8139 - accuracy: 0.6352 - val_loss: 0.9462 - val_accuracy: 0.5609 - 163ms/epoch - 7ms/step\n",
      "Epoch 72/1000\n",
      "22/22 - 0s - loss: 0.8174 - accuracy: 0.6439 - val_loss: 0.9580 - val_accuracy: 0.5478 - 159ms/epoch - 7ms/step\n",
      "Epoch 73/1000\n",
      "22/22 - 0s - loss: 0.8096 - accuracy: 0.6337 - val_loss: 0.9865 - val_accuracy: 0.5739 - 172ms/epoch - 8ms/step\n",
      "Epoch 74/1000\n",
      "22/22 - 0s - loss: 0.8110 - accuracy: 0.6337 - val_loss: 0.9476 - val_accuracy: 0.5565 - 170ms/epoch - 8ms/step\n",
      "Epoch 75/1000\n",
      "22/22 - 0s - loss: 0.8115 - accuracy: 0.6308 - val_loss: 0.9561 - val_accuracy: 0.5783 - 153ms/epoch - 7ms/step\n",
      "Epoch 76/1000\n",
      "22/22 - 0s - loss: 0.8064 - accuracy: 0.6395 - val_loss: 0.9534 - val_accuracy: 0.5609 - 175ms/epoch - 8ms/step\n",
      "Epoch 77/1000\n",
      "22/22 - 0s - loss: 0.8041 - accuracy: 0.6395 - val_loss: 0.9693 - val_accuracy: 0.5478 - 158ms/epoch - 7ms/step\n",
      "Epoch 78/1000\n",
      "22/22 - 0s - loss: 0.8079 - accuracy: 0.6453 - val_loss: 0.9606 - val_accuracy: 0.5652 - 158ms/epoch - 7ms/step\n",
      "Epoch 79/1000\n",
      "22/22 - 0s - loss: 0.7970 - accuracy: 0.6439 - val_loss: 0.9552 - val_accuracy: 0.5609 - 154ms/epoch - 7ms/step\n",
      "Epoch 80/1000\n",
      "22/22 - 0s - loss: 0.7942 - accuracy: 0.6235 - val_loss: 0.9601 - val_accuracy: 0.5565 - 152ms/epoch - 7ms/step\n",
      "Epoch 81/1000\n",
      "22/22 - 0s - loss: 0.7929 - accuracy: 0.6308 - val_loss: 0.9654 - val_accuracy: 0.5522 - 195ms/epoch - 9ms/step\n",
      "Epoch 82/1000\n",
      "22/22 - 0s - loss: 0.7927 - accuracy: 0.6381 - val_loss: 0.9629 - val_accuracy: 0.5565 - 190ms/epoch - 9ms/step\n",
      "Epoch 83/1000\n",
      "22/22 - 0s - loss: 0.7949 - accuracy: 0.6366 - val_loss: 0.9525 - val_accuracy: 0.5696 - 158ms/epoch - 7ms/step\n",
      "Epoch 84/1000\n",
      "22/22 - 0s - loss: 0.8029 - accuracy: 0.6424 - val_loss: 0.9604 - val_accuracy: 0.5652 - 171ms/epoch - 8ms/step\n",
      "Epoch 85/1000\n",
      "22/22 - 0s - loss: 0.7886 - accuracy: 0.6424 - val_loss: 0.9810 - val_accuracy: 0.5522 - 160ms/epoch - 7ms/step\n",
      "Epoch 86/1000\n",
      "22/22 - 0s - loss: 0.7842 - accuracy: 0.6453 - val_loss: 0.9607 - val_accuracy: 0.5565 - 154ms/epoch - 7ms/step\n",
      "Epoch 87/1000\n",
      "22/22 - 0s - loss: 0.7822 - accuracy: 0.6323 - val_loss: 0.9825 - val_accuracy: 0.5478 - 153ms/epoch - 7ms/step\n",
      "Epoch 88/1000\n",
      "22/22 - 0s - loss: 0.7858 - accuracy: 0.6468 - val_loss: 0.9636 - val_accuracy: 0.5609 - 152ms/epoch - 7ms/step\n",
      "Epoch 89/1000\n",
      "22/22 - 0s - loss: 0.7947 - accuracy: 0.6424 - val_loss: 0.9546 - val_accuracy: 0.5522 - 157ms/epoch - 7ms/step\n",
      "Epoch 90/1000\n",
      "Restoring model weights from the end of the best epoch: 40.\n",
      "22/22 - 0s - loss: 0.7860 - accuracy: 0.6410 - val_loss: 0.9704 - val_accuracy: 0.5565 - 160ms/epoch - 7ms/step\n",
      "Epoch 90: early stopping\n"
     ]
    },
    {
     "data": {
      "text/plain": [
       "<keras.callbacks.History at 0x1af0d853f40>"
      ]
     },
     "execution_count": 21,
     "metadata": {},
     "output_type": "execute_result"
    }
   ],
   "source": [
    "# Example 9: Classification neural network\n",
    "\n",
    "# Split into train/test--------------------------------------------------------\n",
    "ecgX_train, ecgX_test, ecgY_train, ecgY_test = train_test_split(    \n",
    "    ecgX, ecgY, test_size=0.25, random_state=10)\n",
    "\n",
    "\n",
    "# Construct model---------------------------------------------------------------\n",
    "ecgModel = Sequential()\n",
    "ecgModel.add(Dense(100, input_dim=ecgX.shape[1], activation='relu',\n",
    "                kernel_initializer='random_normal'))  # Hidden 1\n",
    "ecgModel.add(Dense(50,activation='relu',\n",
    "                   kernel_initializer='random_normal')) # Hidden 2\n",
    "ecgModel.add(Dense(25,activation='relu',\n",
    "                   kernel_initializer='random_normal')) # Hidden 3\n",
    "ecgModel.add(Dense(ecgY.shape[1],activation='softmax',\n",
    "                kernel_initializer='random_normal')) # Output\n",
    "\n",
    "# Compile model------------------------------------------------------------------\n",
    "ecgModel.compile(loss='categorical_crossentropy', \n",
    "              optimizer=tensorflow.keras.optimizers.Adam(),\n",
    "              metrics =['accuracy'])\n",
    "\n",
    "# Create EarlyStopping monitor---------------------------------------------------\n",
    "ecgMonitor = EarlyStopping(monitor='val_loss', min_delta=1e-3, patience=50, \n",
    "                        verbose=1, mode='auto', restore_best_weights=True)\n",
    "\n",
    "# Train model--------------------------------------------------------------------\n",
    "ecgModel.fit(ecgX_train,ecgY_train,validation_data=(ecgX_test,ecgY_test),\n",
    "          callbacks=[ecgMonitor],verbose=2,epochs=1000)\n"
   ]
  },
  {
   "cell_type": "markdown",
   "metadata": {},
   "source": [
    "If you code is correct you should see something similiar to the output below.\n",
    "\n",
    "~~~text\n",
    "Epoch 1/1000\n",
    "22/22 - 1s - loss: 1.0210 - accuracy: 0.5683 - val_loss: 1.0234 - val_accuracy: 0.5609 - 659ms/epoch - 30ms/step\n",
    "Epoch 2/1000\n",
    "22/22 - 0s - loss: 0.9631 - accuracy: 0.6148 - val_loss: 1.0139 - val_accuracy: 0.5609 - 155ms/epoch - 7ms/step\n",
    "Epoch 3/1000\n",
    "22/22 - 0s - loss: 0.9584 - accuracy: 0.6148 - val_loss: 1.0177 - val_accuracy: 0.5609 - 149ms/epoch - 7ms/step\n",
    "Epoch 4/1000\n",
    "22/22 - 0s - loss: 0.9567 - accuracy: 0.6148 - val_loss: 1.0150 - val_accuracy: 0.5609 - 147ms/epoch - 7ms/step\n",
    "Epoch 5/1000\n",
    "22/22 - 0s - loss: 0.9563 - accuracy: 0.6148 - val_loss: 1.0159 - val_accuracy: 0.5609 - 142ms/epoch - 6ms/step\n",
    "\n",
    ".................\n",
    "\n",
    "Epoch 80/1000\n",
    "22/22 - 0s - loss: 0.8027 - accuracy: 0.6395 - val_loss: 0.9618 - val_accuracy: 0.5739 - 130ms/epoch - 6ms/step\n",
    "Epoch 81/1000\n",
    "22/22 - 0s - loss: 0.8011 - accuracy: 0.6410 - val_loss: 0.9685 - val_accuracy: 0.5696 - 131ms/epoch - 6ms/step\n",
    "Epoch 82/1000\n",
    "22/22 - 0s - loss: 0.7982 - accuracy: 0.6352 - val_loss: 0.9998 - val_accuracy: 0.5652 - 132ms/epoch - 6ms/step\n",
    "Epoch 83/1000\n",
    "Restoring model weights from the end of the best epoch: 33.\n",
    "22/22 - 0s - loss: 0.8035 - accuracy: 0.6410 - val_loss: 0.9653 - val_accuracy: 0.5783 - 143ms/epoch - 6ms/step\n",
    "Epoch 83: early stopping\n",
    "\n",
    "<keras.callbacks.History at 0x1f66a0b46d0>\n",
    "~~~\n",
    "\n",
    "In this particular run, the model `egcModel` reached the lowest validation loss (`val_loss: 0.9301`) after 33 epochs."
   ]
  },
  {
   "cell_type": "markdown",
   "metadata": {},
   "source": [
    "### **Exercise 9: Construct, Compile and Train Multiclass Classification Neural Network**\n",
    "\n",
    "In the cell below construct, compile and train a multiclass classification neural network model called `ifModel` using the code in Example 8 as a template.\n",
    "\n",
    "Start by splitting the X-values stored in `ifX` into `ifX_train` and `ifX_test` sets with 75% being used for training. Similarily, split the Y-values stores in `ifY` are split into `ifY_train` and `ifY_test` sets. \n",
    "\n",
    "Build a linear (\"sequential\") muticlass classsification neural network called `ecgModel` with 3 hidden layers. Specify the number of inputs to the 1st hidden layer by the argument `input_dim=ifX.shape[1]` and specify the number of neurons in the output layer by the argument `ifY.shape[1]`. Since there are 3 classes in `ifY` (`Iris-setosa`, `Iris-versicolor`, `Iris-virginica`) the output layer will have 3 neurons--one neuron for each class.\n",
    "\n",
    "Once the model is constructed, compile it using the loss function, `categorical_crossentropy` with the `Adam` optimizer. \n",
    "\n",
    "Create an EarlyStopping monitor called, `ifMoniter` and specify the monitor to wait `20` epochs for the validation loss to start improving after reaching a local minimum, before termining the training. \n",
    "\n",
    "Finally, fit your model `ifModel` to the training and test (validation) data sets for 1000 epochs."
   ]
  },
  {
   "cell_type": "code",
   "execution_count": 22,
   "metadata": {
    "colab": {
     "base_uri": "https://localhost:8080/"
    },
    "id": "aggbZoEUK1AR",
    "outputId": "6893844e-1126-4e7d-b6cb-34b2ab04ab4f",
    "scrolled": true
   },
   "outputs": [],
   "source": [
    "# Insert your code for Exercise 9 here\n",
    "\n",
    "\n"
   ]
  },
  {
   "cell_type": "markdown",
   "metadata": {},
   "source": [
    "If you code is correct you should see something similiar to the output below.\n",
    "\n",
    "~~~text\n",
    "Epoch 1/1000\n",
    "4/4 - 0s - loss: 1.0986 - accuracy: 0.4107 - val_loss: 1.0978 - val_accuracy: 0.3158 - 497ms/epoch - 124ms/step\n",
    "Epoch 2/1000\n",
    "4/4 - 0s - loss: 1.0974 - accuracy: 0.3393 - val_loss: 1.0968 - val_accuracy: 0.4474 - 84ms/epoch - 21ms/step\n",
    "Epoch 3/1000\n",
    "4/4 - 0s - loss: 1.0964 - accuracy: 0.5893 - val_loss: 1.0956 - val_accuracy: 0.6842 - 79ms/epoch - 20ms/step\n",
    "Epoch 4/1000\n",
    "4/4 - 0s - loss: 1.0950 - accuracy: 0.6518 - val_loss: 1.0942 - val_accuracy: 0.7105 - 85ms/epoch - 21ms/step\n",
    "Epoch 5/1000\n",
    "4/4 - 0s - loss: 1.0930 - accuracy: 0.7500 - val_loss: 1.0910 - val_accuracy: 0.7105 - 66ms/epoch - 16ms/step\n",
    "\n",
    "........................\n",
    "\n",
    "Epoch 130/1000\n",
    "4/4 - 0s - loss: 0.0655 - accuracy: 0.9643 - val_loss: 0.0637 - val_accuracy: 1.0000 - 46ms/epoch - 12ms/step\n",
    "Epoch 131/1000\n",
    "4/4 - 0s - loss: 0.0656 - accuracy: 0.9643 - val_loss: 0.0510 - val_accuracy: 0.9737 - 47ms/epoch - 12ms/step\n",
    "Epoch 132/1000\n",
    "4/4 - 0s - loss: 0.0626 - accuracy: 0.9732 - val_loss: 0.0545 - val_accuracy: 1.0000 - 45ms/epoch - 11ms/step\n",
    "Epoch 133/1000\n",
    "4/4 - 0s - loss: 0.0625 - accuracy: 0.9732 - val_loss: 0.0567 - val_accuracy: 1.0000 - 46ms/epoch - 11ms/step\n",
    "Epoch 134/1000\n",
    "Restoring model weights from the end of the best epoch: 114.\n",
    "4/4 - 0s - loss: 0.0655 - accuracy: 0.9643 - val_loss: 0.0497 - val_accuracy: 0.9737 - 48ms/epoch - 12ms/step\n",
    "Epoch 134: early stopping\n",
    "\n",
    "<keras.callbacks.History at 0x1f66a2b9490>\n",
    "~~~\n",
    "\n",
    "In this particular run, the model ifModel reached the lowest validation loss (`val_loss: 0.0506`) after 114 epochs.\n"
   ]
  },
  {
   "cell_type": "markdown",
   "metadata": {
    "id": "vr9U9rgvK1AR"
   },
   "source": [
    "### Calculate Classification Accuracy\n",
    " \n",
    "Accuracy is the number of rows where the neural network correctly predicted the target class.  Accuracy is _only_ used for classification, not regression.\n",
    "\n",
    "$$ accuracy = \\frac{c}{N} $$\n",
    "\n",
    "Where $c$ is the number correct and $N$ is the size of the evaluated set (training or validation). Higher accuracy numbers are desired.\n",
    "\n",
    "As we just saw, by default, Keras will return the percent probability for each class. We can change these prediction probabilities into the actual prediction values with **argmax**. For each prediction, argmax \"looks\" at the numerical value in each of the output neurons and assigns a value of one to the neuron with the highest values. In other words, this is an example of a \"winner take all\" strategy. The output neuron that \"wins\" represents the model's prediction for that particular combination of X values for one subject assigned to the training (validation) set.  "
   ]
  },
  {
   "cell_type": "markdown",
   "metadata": {},
   "source": [
    "### Example 10: Convert Prediction Probabilites into Actual Prediction Values\n",
    "\n",
    "The code in the cell below, uses `argmax` method to convert prediction probabilites from the `ecgModel` into actual prediction values. The `ecgModel` has three output neurons, the first one representing `RestingECG` class `LVH` (left ventricular hypertropy), the second one representing the class `Normal` and the third one representing the class `ST` (ST interval elevation). For each of the 230 subjects randomly assigned to the `ecgX_test` validation dataset, the model `ecgModel` will process the X-values for each subject and predicts the **_probability_** that the subject belongs to each class of `RestingECG` stores these prediction probabilites in a variable called `ecgProb`. \n",
    "\n",
    "What is actually stored in `ecgProb` is a 3-element numpy array for each of the 230 subjects in `ecgX_test` with the prediction probability values of the 3 output neurons. For example, here are the prediction probabilites values in `ecgProb` for the first subject in the `ecgX_test` data set:\n",
    "~~~text\n",
    "[[0.24944986 0.501199   0.24935108]]\n",
    "~~~\n",
    "\n",
    "The first value, `0.24944986` is the model's probability prediction that the subject had the `LVH` class of `RestingECG`, `0.501199` is the model's prediction probability that this subject had the `Normal` class and `0.24935108` the prediction probability that the subject had the `ST` class. As might be expected, the sum of these three values is 1.0. \n",
    "\n",
    "These prediction probabilites are converted into actual predictions using this line of code:\n",
    "~~~text\n",
    "ecgPred = np.argmax(ecgP1,axis=1)\n",
    "~~~\n",
    "\n",
    "The function `np.argmax()` sequentially processes each 3-element array in `ecgProb` and generates a new array called `ecgPred`. The array `ecgPred` will have a single integer value: `0`, `1` or `2` , for each subject in `x_test`, depending on prediction probabilities. If first value is the highest, `np.argmax()` will place a `0` in `ecgPred`, if the second value is the highest, the number `1` will be placed in `ecgPred`, and so forth. Subject 1, in the example above, would be assigned the value `1` since the second output neuron had the highest probability (`0.501199`). In other words, `np.argmax` assigns the model's actual prediction, `0`, `1` or `2`, to the output neuron with the highest probability prediction.\n",
    " subject.  "
   ]
  },
  {
   "cell_type": "code",
   "execution_count": 23,
   "metadata": {
    "scrolled": true
   },
   "outputs": [
    {
     "name": "stdout",
     "output_type": "stream",
     "text": [
      "8/8 [==============================] - 0s 4ms/step\n",
      "[[0.2392 0.542  0.2187]\n",
      " [0.1306 0.6059 0.2635]\n",
      " [0.1844 0.6797 0.1359]\n",
      " [0.3551 0.5769 0.068 ]\n",
      " [0.2146 0.7143 0.0711]\n",
      " [0.2552 0.5809 0.1639]]\n",
      "[1 1 1 1 1 1]\n"
     ]
    }
   ],
   "source": [
    "# Example 10: Convert probabilities to predictions\n",
    "\n",
    "# Use model to predict probabilites for subjects in x_test\n",
    "ecgProb = ecgModel.predict(ecgX_test)\n",
    "\n",
    "# Print prediction probabilites\n",
    "print(ecgProb[0:6])  \n",
    "\n",
    "# Use argmax to convert probabilites to prediction values\n",
    "ecgPred = np.argmax(ecgProb,axis=1)\n",
    "\n",
    "# Print out prediction values \n",
    "print(ecgPred[0:6])"
   ]
  },
  {
   "cell_type": "markdown",
   "metadata": {},
   "source": [
    "If your code is correct you should see something similiar to the output below."
   ]
  },
  {
   "cell_type": "markdown",
   "metadata": {},
   "source": [
    "~~~text\n",
    "8/8 [==============================] - 0s 3ms/step\n",
    "[[0.24944986 0.501199   0.24935108]\n",
    " [0.12482199 0.57438475 0.30079323]\n",
    " [0.17668504 0.6379587  0.18535627]\n",
    " [0.3083075  0.55753493 0.13415763]\n",
    " [0.25011855 0.6450567  0.10482469]\n",
    " [0.2428562  0.52980953 0.22733422]]\n",
    "[1 1 1 1 1 1]\n",
    "~~~"
   ]
  },
  {
   "cell_type": "markdown",
   "metadata": {},
   "source": [
    "Clearly, our model `ecgModel` is **_not_** very certain when it comes to predicting the `RestingECG` class. Essentially the model is saying that there is a 50% chance most subjects will have a `RestingECG` that is `Normal`, and a 50% chance that the subject's `RestingECG` will not be normal. This is basically the same accuracy as \"coin-flipping\". \n",
    "\n",
    "There is no guarantee that a neural network model you build will be especially accurate when fitted to given dataset! In this case, the relatively low number of test subjects in the dataset (_n_=918) is probably a main reason for the low accuracy. It is also possible that the class of `RestingECG` is not strongly dependent on the clinical variables used in the training set, `ecgX_train`.   "
   ]
  },
  {
   "cell_type": "markdown",
   "metadata": {},
   "source": [
    "### **Exercise 10: Convert Prediction Probabilites into Actual Prediction Values**\n",
    "\n",
    "In the cell below write the code to generate an Numpy array called `ifProb` that contains the prediction probabilities for all of the Iris flowers in the validation set, `ifX_train`. Print out the first 6 values in `ifProb`. The use the function `np.argmax()` to convert these prediction probabilites into actual predictions. Store the model's actual predictions in a new Numpy array called `ifPred`. Print out the first 6 values in `ifPred`. "
   ]
  },
  {
   "cell_type": "code",
   "execution_count": 24,
   "metadata": {},
   "outputs": [],
   "source": [
    "# Insert your code for Exercise 10 here\n",
    "\n"
   ]
  },
  {
   "cell_type": "markdown",
   "metadata": {},
   "source": [
    "If your code is correct you should see something similar to the following output:"
   ]
  },
  {
   "cell_type": "markdown",
   "metadata": {},
   "source": [
    "~~~text\n",
    "2/2 [==============================] - 0s 4ms/step\n",
    "[[0.   0.97 0.03]\n",
    " [1.   0.   0.  ]\n",
    " [0.   0.   1.  ]\n",
    " [0.   0.93 0.07]\n",
    " [0.   0.97 0.03]\n",
    " [1.   0.   0.  ]]\n",
    "[1 0 2 1 1 0]\n",
    "\n",
    "\n",
    "~~~"
   ]
  },
  {
   "cell_type": "markdown",
   "metadata": {},
   "source": [
    "Compared the model `ecgModel`, the Iris Flower model, `ifModel` is clearly more certain about which `species` class to assign to the flowers in the validation data set `ifX_test`. In the example above, the model `ifModel` predicted that the first flower in the validation data set had the following probabilites:\n",
    "\n",
    "~~~text\n",
    "[1.8357505e-05 9.6463978e-01 3.5341803e-02]\n",
    "~~~\n",
    "\n",
    "Because these values vary so much in magnitude, Numpy automatically printed them out in **_scientific_** notation. In non-scientific notation, these values are:\n",
    "\n",
    "~~~text\n",
    "0.000018357505 0.96463978 0.035341803\n",
    "~~~\n",
    "\n",
    "In other words, `ifModel` predicts that there is an essentially `0%` chance that the first flower in the validation test set is `Iris setosa`, a `97%` chance that the flower species is `Iris versicolor` and less than a `4%` chance that the flower species is `Iris virginica`. The Numpy function, `np.argmax()` places a `1` in `ifPred` representing `Iris versicolor` as the model's actual prediction for the first flower.\n",
    "\n",
    "Even though the Iris flower dataset is much smaller (_n_=150) than the Heart Disease dataset (_n_=918), why is the neural network constructed in **Exercise 9** so much more accurate? \n",
    "\n",
    "The answer lies in the different nature of the two datasets. It turns out that the sepal and petal dimensions of Iris flowers are **very** species specific. It simply not that hard for a neural network to figure out the correct relationships (i.e. connection weights) between the neurons in the hidden layers so that a particular set of sepal and petal dimensions (X values) end up going to correct output neuron. \n",
    "\n",
    "On the other hand, humans often exhibit a wide range of variations in their characteristics. This is especially true for the measurements found in medical/clinical datasets. **_If_** there is a correlation between clinical values, it may take a very large dataset for a neural network to correctly identify these correlations.     "
   ]
  },
  {
   "cell_type": "markdown",
   "metadata": {
    "id": "6_a5WcpJK1AS"
   },
   "source": [
    "### Example 11: Compute the Percent Accuracy\n",
    "\n",
    "Now that we have the actual `RestingECG` type predicted for each subject in the validation test set (`ecgX_test), we can calculate the percent accuracy (how many were correctly classified). The code for doing this is shown in the next cell. \n",
    "\n",
    "In the first step, a Numpy array called `ecg_compare` is created. This array contains the actual `RestingEGC` value for each subject in the validation set, where `0` represents `LVH`, `1` represents `Normal` and `2` represents `ST`. \n",
    "\n",
    "In the next step, the function `metric.accuracy_score()` from the `sklean` library computes the accuracy score by comparing the **actual** RestingECG values in `ecg_compare` with the **_predicted_** RestingECG values stored in `ecgPred` and returns the accuracy in the variable called `score`.  "
   ]
  },
  {
   "cell_type": "code",
   "execution_count": 25,
   "metadata": {
    "colab": {
     "base_uri": "https://localhost:8080/"
    },
    "id": "l7ZN4mO5K1AS",
    "outputId": "8a2bf888-d1e2-4317-bc55-855b78b5db99"
   },
   "outputs": [
    {
     "name": "stdout",
     "output_type": "stream",
     "text": [
      "First 6 values in Y_compare: [1 2 1 2 0 1]\n",
      "Accuracy score: 0.5608695652173913\n"
     ]
    }
   ],
   "source": [
    "# Example 11: Compute precent accuracy\n",
    "\n",
    "from sklearn import metrics\n",
    "\n",
    "# Generate array containing actual class type\n",
    "ecgY_compare = np.argmax(ecgY_test,axis=1) \n",
    "print(f'First 6 values in Y_compare: {ecgY_compare[0:6]}')\n",
    "\n",
    "# Compute the percentage score\n",
    "score = metrics.accuracy_score(ecgY_compare, ecgPred)\n",
    "\n",
    "# Print out the score\n",
    "print(\"Accuracy score: {}\".format(score))"
   ]
  },
  {
   "cell_type": "markdown",
   "metadata": {},
   "source": [
    "If your code is correct you should see something like the following output:"
   ]
  },
  {
   "cell_type": "markdown",
   "metadata": {},
   "source": [
    "~~~text\n",
    "First 6 values in Y_compare: [1 2 1 2 0 1]\n",
    "Accuracy score: 0.5652173913043478\n",
    "~~~"
   ]
  },
  {
   "cell_type": "markdown",
   "metadata": {},
   "source": [
    "In this run, the model `ecgModel` was only able to predict the correct class of `RestingECG` about 56% of the time. Not especially impressive, but it's about what we would have expected."
   ]
  },
  {
   "cell_type": "markdown",
   "metadata": {
    "id": "6_a5WcpJK1AS"
   },
   "source": [
    "### **Exercise 11: Compute the Percent Accuracy**\n",
    "\n",
    "In the cell below, compute the accuracy score for your model `ifModel` using Example 11 as a template. Store the actual species name (class value) in an array called `ifY_compare` and print out the first 6 values. Use the function `metrics.accuracy_score()` to compute the accuracy of your model and print it out."
   ]
  },
  {
   "cell_type": "code",
   "execution_count": 26,
   "metadata": {
    "colab": {
     "base_uri": "https://localhost:8080/"
    },
    "id": "l7ZN4mO5K1AS",
    "outputId": "8a2bf888-d1e2-4317-bc55-855b78b5db99"
   },
   "outputs": [],
   "source": [
    "# Insert your code for Exercise 11 here\n",
    "\n"
   ]
  },
  {
   "cell_type": "markdown",
   "metadata": {},
   "source": [
    "If your code is correct you should see something like the following output:"
   ]
  },
  {
   "cell_type": "markdown",
   "metadata": {},
   "source": [
    "~~~text\n",
    "First 6 values in Y_compare: [1 0 2 1 1 0]\n",
    "Accuracy score: 0.9736842105263158\n",
    "~~~"
   ]
  },
  {
   "cell_type": "markdown",
   "metadata": {},
   "source": [
    "As might be expected, your model `ifModel` is able predict the correct species of Iris flower with more than 95% accuracy! "
   ]
  },
  {
   "cell_type": "markdown",
   "metadata": {
    "id": "1zlG17MKK1AS"
   },
   "source": [
    "## Calculate Classification Log Loss\n",
    "\n",
    "**_Log loss_**, also known as logarithmic loss or cross-entropy loss, is a common evaluation metric used in machine learning, particularly for binary classification problems. It measures the performance of a classification model by penalizing false classifications.\n",
    "\n",
    "In binary classification, where the target variable has two classes (usually labeled as 0 and 1), log loss is calculated as the negative logarithm of the predicted probability assigned to the correct class. The formula for log loss for a single observation is:\n",
    "\n",
    "$\\text{Log Loss} = - \\frac{1}{N} \\sum_{i=1}^{N} \\left[ y_i \\log(p_i) + (1 - y_i) \\log(1 - p_i) \\right]$\n",
    "\n",
    "where:\n",
    "\n",
    "&nbsp;&nbsp;&nbsp;&nbsp;$N$ is the number of observations, <br>\n",
    "&nbsp;&nbsp;&nbsp;&nbsp;$y_i$ is the actual class label (0 or 1) for the $i$th observation, <br>\n",
    "&nbsp;&nbsp;&nbsp;&nbsp;$p_i$ is the predicted probability that the $i$th observation belongs to class 1.\n",
    "\n",
    "A lower log loss indicates better performance, with 0 representing a perfect model and higher values indicating poorer performance. Log loss is a useful metric for evaluating the accuracy of probabilistic predictions generated by a classification model.\n"
   ]
  },
  {
   "cell_type": "markdown",
   "metadata": {},
   "source": [
    "### Example 12: Calculate Log Loss\n",
    "\n",
    "The code in the cell below calculates the log loss for the model `ecgModel`. "
   ]
  },
  {
   "cell_type": "code",
   "execution_count": 27,
   "metadata": {
    "colab": {
     "base_uri": "https://localhost:8080/",
     "height": 195
    },
    "id": "ucCNS9XAK1AS",
    "outputId": "76375262-9554-4105-9d2c-3b088732e2df"
   },
   "outputs": [
    {
     "name": "stdout",
     "output_type": "stream",
     "text": [
      "8/8 [==============================] - 0s 3ms/step\n",
      "Numpy array of predictions\n"
     ]
    },
    {
     "data": {
      "text/plain": [
       "array([[0.2392, 0.542 , 0.2187],\n",
       "       [0.1306, 0.6059, 0.2635],\n",
       "       [0.1844, 0.6797, 0.1359],\n",
       "       [0.3551, 0.5769, 0.068 ],\n",
       "       [0.2146, 0.7143, 0.0711]], dtype=float32)"
      ]
     },
     "metadata": {},
     "output_type": "display_data"
    },
    {
     "name": "stdout",
     "output_type": "stream",
     "text": [
      "As percent probability\n",
      "[23.9248 54.2034 21.8718]\n",
      "Log loss score: 0.9266324152478946\n"
     ]
    }
   ],
   "source": [
    "# Example 12: Calculate Log Loss\n",
    "\n",
    "from IPython.display import display\n",
    "\n",
    "# Don't display numpy in scientific notation\n",
    "np.set_printoptions(precision=4)\n",
    "np.set_printoptions(suppress=True)\n",
    "\n",
    "# Generate predictions\n",
    "ecgPred = ecgModel.predict(ecgX_test)\n",
    "\n",
    "print(\"Numpy array of predictions\")\n",
    "display(ecgPred[0:5])\n",
    "\n",
    "print(\"As percent probability\")\n",
    "print(ecgPred[0]*100)\n",
    "\n",
    "score = metrics.log_loss(ecgY_test, ecgPred)\n",
    "print(\"Log loss score: {}\".format(score))\n",
    "\n",
    "# raw probabilities to chosen class (highest probability)\n",
    "ecgPred = np.argmax(ecgPred,axis=1) "
   ]
  },
  {
   "cell_type": "markdown",
   "metadata": {},
   "source": [
    "If your code is correct you should see something similar to the output below:"
   ]
  },
  {
   "cell_type": "markdown",
   "metadata": {},
   "source": [
    "~~~text\n",
    "8/8 [==============================] - 0s 4ms/step\n",
    "Numpy array of predictions\n",
    "\n",
    "array([[0.2494, 0.5012, 0.2494],\n",
    "       [0.1248, 0.5744, 0.3008],\n",
    "       [0.1767, 0.638 , 0.1854],\n",
    "       [0.3083, 0.5575, 0.1342],\n",
    "       [0.2501, 0.6451, 0.1048]], dtype=float32)\n",
    "\n",
    "As percent probability\n",
    "[24.945  50.1199 24.9351]\n",
    "Log loss score: 0.9228499967441923\n",
    "~~~"
   ]
  },
  {
   "cell_type": "markdown",
   "metadata": {},
   "source": [
    "The log loss score `0.92` looks pretty high. Let's see how it compares to your model `ifModel`."
   ]
  },
  {
   "cell_type": "markdown",
   "metadata": {},
   "source": [
    "### **Exercise 12: Calculate Log Loss**\n",
    "\n",
    "In the cell below calculate the log loss for the model `ifModel`. "
   ]
  },
  {
   "cell_type": "code",
   "execution_count": 28,
   "metadata": {
    "colab": {
     "base_uri": "https://localhost:8080/",
     "height": 195
    },
    "id": "ucCNS9XAK1AS",
    "outputId": "76375262-9554-4105-9d2c-3b088732e2df"
   },
   "outputs": [],
   "source": [
    "# Insert your code for Exercise 12 here\n",
    "\n"
   ]
  },
  {
   "cell_type": "markdown",
   "metadata": {},
   "source": [
    "If your code is correct you should see something similar to the output below:"
   ]
  },
  {
   "cell_type": "markdown",
   "metadata": {},
   "source": [
    "~~~text\n",
    "2/2 [==============================] - 0s 9ms/step\n",
    "Numpy array of predictions\n",
    "\n",
    "array([[0.    , 0.9646, 0.0353],\n",
    "       [0.9983, 0.0017, 0.    ],\n",
    "       [0.    , 0.    , 1.    ],\n",
    "       [0.    , 0.9261, 0.0739],\n",
    "       [0.    , 0.9639, 0.0361]], dtype=float32)\n",
    "\n",
    "As percent probability\n",
    "[ 0.0018 96.464   3.5342]\n",
    "Log loss score: 0.0597694178993309\n",
    "~~~"
   ]
  },
  {
   "cell_type": "markdown",
   "metadata": {},
   "source": [
    "The log loss score for your Iris flower model, 0.06 is much lower, and therefore significantly better than the 0.92 log loss score for the model `ecgModel`. "
   ]
  },
  {
   "cell_type": "markdown",
   "metadata": {
    "id": "iU3NLdorK1AS"
   },
   "source": [
    "[Log loss](https://www.kaggle.com/wiki/LogarithmicLoss) is calculated as follows:\n",
    "\n",
    "$$ \\mbox{log loss} = -\\frac{1}{N}\\sum_{i=1}^N {( {y}_i\\log(\\hat{y}_i) + (1 - {y}_i)\\log(1 - \\hat{y}_i))} $$\n",
    "\n",
    "\n",
    "You should use this equation only as an objective function for classifications that have two outcomes. The variable y-hat is the neural network’s prediction, and the variable y is the known correct answer.  In this case, y will always be 0 or 1.  The training data have no probabilities. The neural network classifies it either into one class (1) or the other (0).  \n",
    "\n",
    "The variable N represents the number of elements in the training set the number of questions in the test.  We divide by N because this process is customary for an average.  We also begin the equation with a negative because the log function is always negative over the domain 0 to 1.  This negation allows a positive score for the training to minimize.\n",
    "\n",
    "You will notice two terms are separated by the addition (+).  Each contains a log function.  Because y will be either 0 or 1, then one of these two terms will cancel out to 0.  If y is 0, then the first term will reduce to 0.  If y is 1, then the second term will be 0.  \n",
    "\n",
    "If your prediction for the first class of a two-class prediction is y-hat, then your prediction for the second class is 1 minus y-hat.  Essentially, if your prediction for class A is 70% (0.7), then your prediction for class B is 30% (0.3).  Your score will increase by the log of your prediction for the correct class.  If the neural network had predicted 1.0 for class A, and the correct answer was A, your score would increase by log (1), which is 0. For log loss, we seek a low score, so a correct answer results in 0.  Some of these log values for a neural network's probability estimate for the correct class:\n",
    "\n",
    "* -log(1.0) = 0\n",
    "* -log(0.95) = 0.02\n",
    "* -log(0.9) = 0.05\n",
    "* -log(0.8) = 0.1\n",
    "* -log(0.5) = 0.3\n",
    "* -log(0.1) = 1\n",
    "* -log(0.01) = 2\n",
    "* -log(1.0e-12) = 12\n",
    "* -log(0.0) = negative infinity\n",
    "\n",
    "As you can see, giving a low confidence to the correct answer affects the score the most.  Because log (0) is negative infinity, we typically impose a minimum value.  Of course, the above log values are for a single training set element.  We will average the log values for the entire training set.\n",
    "\n",
    "The log function is useful to penalizing wrong answers.  The following code demonstrates the utility of the log function:"
   ]
  },
  {
   "cell_type": "code",
   "execution_count": 29,
   "metadata": {
    "colab": {
     "base_uri": "https://localhost:8080/",
     "height": 360
    },
    "id": "g5Zv2tgNK1AT",
    "outputId": "f0861083-7809-406f-9970-4c83505ca14a"
   },
   "outputs": [
    {
     "name": "stderr",
     "output_type": "stream",
     "text": [
      "C:\\Users\\David\\AppData\\Local\\Temp\\ipykernel_48860\\2665920359.py:12: RuntimeWarning: divide by zero encountered in log\n",
      "  ax1.plot(t, np.log(t))\n"
     ]
    },
    {
     "data": {
      "image/png": "[encoded data removed]",
      "text/plain": [
       "<Figure size 1200x1000 with 1 Axes>"
      ]
     },
     "metadata": {},
     "output_type": "display_data"
    }
   ],
   "source": [
    "%matplotlib inline\n",
    "from matplotlib.pyplot import figure, show\n",
    "from numpy import arange, sin, pi\n",
    "\n",
    "#t = arange(1e-5, 5.0, 0.00001)\n",
    "#t = arange(1.0, 5.0, 0.00001) # computer scientists\n",
    "t = arange(0.0, 1.0, 0.00001)  # data     scientists\n",
    "\n",
    "fig = figure(1,figsize=(12, 10))\n",
    "\n",
    "ax1 = fig.add_subplot(211)\n",
    "ax1.plot(t, np.log(t))\n",
    "ax1.grid(True)\n",
    "ax1.set_ylim((-8, 1.5))\n",
    "ax1.set_xlim((-0.1, 2))\n",
    "ax1.set_xlabel('x')\n",
    "ax1.set_ylabel('y')\n",
    "ax1.set_title('log(x)')\n",
    "\n",
    "show()"
   ]
  },
  {
   "cell_type": "markdown",
   "metadata": {
    "id": "ZaRtddpcK1AT"
   },
   "source": [
    "## Confusion Matrix\n",
    "\n",
    "A confusion matrix is a performance measurement tool used in machine learning for evaluating the accuracy of a classification model. It is a table that allows visualization of the performance of a model by comparing the actual values of the target variable with the predicted values. The confusion matrix is particularly useful for evaluating the performance of a classification model on a dataset with known class labels.\n",
    "\n",
    "The confusion matrix is organized into a grid with four possible outcomes:\n",
    "\n",
    "* **True Positives (TP):** The number of correct predictions that the model has made for the positive class.\n",
    "* **True Negatives (TN):** The number of correct predictions that the model has made for the negative class.\n",
    "* **False Positives (FP):** The number of incorrect predictions that the model has made, predicting a positive class when the actual class is negative (Type I error).\n",
    "* **False Negatives (FN):** The number of incorrect predictions that the model has made, predicting a negative class when the actual class is positive (Type II error).\n",
    "\n",
    "The confusion matrix enables the calculation of various evaluation metrics such as accuracy, precision, recall, F1 score, and specificity. These metrics help in assessing the model's performance, identifying potential areas for improvement, and making informed decisions about the model's effectiveness for the given classification task.\n",
    "\n",
    "In other words, a confusion matrix shows which predicted classes are often confused for the other classes. The vertical axis (y) represents the true labels and the horizontal axis (x) represents the predicted labels. When the true label and predicted label are the same, the highest values occur down the diagonal extending from the upper left to the lower right. The other values, outside the diagonal, represent incorrect predictions. For example, in the confusion matrix below, the value in row 2, column 1 shows how often the predicted value A occurred when it should have been B."
   ]
  },
  {
   "cell_type": "markdown",
   "metadata": {},
   "source": [
    "### Example 13: Generate Confusion Matrix\n",
    "\n",
    "The code in the cell below generates a Confusion Matrix for the model `ecgModel`. It uses the function `plot_confusion_matrix()` that was defined earlier in this lesson. To generate the Confusion Matrix, only two arguments need to be passed to the plotting function, the actual values of the `RestingEGC` of the patients in the validation set (i.e. `ecgY_compare`), and the model's predicted values for these patients (i.e. `ecgPred`). "
   ]
  },
  {
   "cell_type": "code",
   "execution_count": 30,
   "metadata": {
    "colab": {
     "base_uri": "https://localhost:8080/",
     "height": 454
    },
    "id": "1pvqhwRcK1AT",
    "outputId": "89d39b8b-af2d-4861-81da-905acb8c5528",
    "scrolled": true
   },
   "outputs": [
    {
     "name": "stdout",
     "output_type": "stream",
     "text": [
      "Normalized confusion matrix\n",
      "[[0. 1. 0.]\n",
      " [0. 1. 0.]\n",
      " [0. 1. 0.]]\n"
     ]
    },
    {
     "data": {
      "image/png": "[encoded data removed]",
      "text/plain": [
       "<Figure size 640x480 with 2 Axes>"
      ]
     },
     "metadata": {},
     "output_type": "display_data"
    }
   ],
   "source": [
    "# Example 13: Generate confusion matrix\n",
    "\n",
    "# Compute confusion matrix\n",
    "cm = confusion_matrix(ecgY_compare, ecgPred)\n",
    "np.set_printoptions(precision=2)\n",
    "\n",
    "# Normalize the confusion matrix by row (i.e by the number of samples\n",
    "# in each class)\n",
    "cm_normalized = cm.astype('float') / cm.sum(axis=1)[:, np.newaxis]\n",
    "print('Normalized confusion matrix')\n",
    "print(cm_normalized)\n",
    "plt.figure()\n",
    "plot_confusion_matrix(cm_normalized, ECGclasses, \n",
    "        title='Normalized confusion matrix')\n",
    "\n",
    "plt.show()"
   ]
  },
  {
   "cell_type": "markdown",
   "metadata": {},
   "source": [
    "If your code is correct you should see a figure similar to the one below:\n",
    "\n",
    "![___](https://biologicslab.co/BIO1173/images/class_04_2_CM1.png)\n"
   ]
  },
  {
   "cell_type": "markdown",
   "metadata": {},
   "source": [
    "In this particular Confusion Matrix shown above for the model `ecgModel`, indicates that it predicted the `RestingEGC` was normal for nearly **_every_** subject in the validation (test) set, irregardless of their actual type. The model was able to correctly identify patients with LVH only 8% of the time but missidentified the remaining 90%  as having a normal `RestingECG` the rest of the time. The model was never able to identify any of the patients in the validation data set who had a `RestingECG` of the type `ST`. \n",
    "\n",
    "Based on our results so far, we should expect your model `ifModel` to generate a much different looking Confusion Matrix."
   ]
  },
  {
   "cell_type": "markdown",
   "metadata": {},
   "source": [
    "### **Exercise 13: Generate Confusion Matrix**\n",
    "\n",
    "In the cell below write the code to generate a Confusion Matrix for your Iris flower model, `ifModel`, using Example 13 as a template. Use the variable `IRIS_species` instead of `ECGclasses` when you give the command `plot_confusion_mactrix()`."
   ]
  },
  {
   "cell_type": "code",
   "execution_count": 31,
   "metadata": {
    "colab": {
     "base_uri": "https://localhost:8080/",
     "height": 454
    },
    "id": "1pvqhwRcK1AT",
    "outputId": "89d39b8b-af2d-4861-81da-905acb8c5528"
   },
   "outputs": [
    {
     "ename": "NameError",
     "evalue": "name 'ifY_compare' is not defined",
     "output_type": "error",
     "traceback": [
      "\u001b[1;31m---------------------------------------------------------------------------\u001b[0m",
      "\u001b[1;31mNameError\u001b[0m                                 Traceback (most recent call last)",
      "Cell \u001b[1;32mIn[31], line 9\u001b[0m\n\u001b[0;32m      6\u001b[0m \u001b[38;5;28;01mfrom\u001b[39;00m \u001b[38;5;21;01msklearn\u001b[39;00m\u001b[38;5;21;01m.\u001b[39;00m\u001b[38;5;21;01mmetrics\u001b[39;00m \u001b[38;5;28;01mimport\u001b[39;00m confusion_matrix\n\u001b[0;32m      8\u001b[0m \u001b[38;5;66;03m# Compute confusion matrix\u001b[39;00m\n\u001b[1;32m----> 9\u001b[0m cm \u001b[38;5;241m=\u001b[39m confusion_matrix(\u001b[43mifY_compare\u001b[49m, ifPred)\n\u001b[0;32m     10\u001b[0m np\u001b[38;5;241m.\u001b[39mset_printoptions(precision\u001b[38;5;241m=\u001b[39m\u001b[38;5;241m2\u001b[39m)\n\u001b[0;32m     12\u001b[0m \u001b[38;5;66;03m# Normalize the confusion matrix by row (i.e by the number of samples\u001b[39;00m\n\u001b[0;32m     13\u001b[0m \u001b[38;5;66;03m# in each class)\u001b[39;00m\n",
      "\u001b[1;31mNameError\u001b[0m: name 'ifY_compare' is not defined"
     ]
    }
   ],
   "source": [
    "# Insert your code for Exericse 13 here\n",
    "\n",
    "import numpy as np\n",
    "from sklearn import svm, datasets\n",
    "from sklearn.model_selection import train_test_split\n",
    "from sklearn.metrics import confusion_matrix\n",
    "\n",
    "# Compute confusion matrix\n",
    "cm = confusion_matrix(ifY_compare, ifPred)\n",
    "np.set_printoptions(precision=2)\n",
    "\n",
    "# Normalize the confusion matrix by row (i.e by the number of samples\n",
    "# in each class)\n",
    "cm_normalized = cm.astype('float') / cm.sum(axis=1)[:, np.newaxis]\n",
    "print('Normalized confusion matrix')\n",
    "print(cm_normalized)\n",
    "plt.figure()\n",
    "plot_confusion_matrix(cm_normalized, IRIS_species, \n",
    "        title='Normalized confusion matrix')\n",
    "\n",
    "plt.show()"
   ]
  },
  {
   "cell_type": "markdown",
   "metadata": {},
   "source": [
    "If your code is correct you should see the figure below:\n",
    "\n",
    "![___](https://biologicslab.co/BIO1173/images/class_04_2_CM2a.png)\n"
   ]
  },
  {
   "cell_type": "markdown",
   "metadata": {},
   "source": [
    "### Analysis of the Confusion Matrix\n",
    "\n",
    "Let's analyze the Confusion Matrix above to see what is says about your Iris Flower model, `ifModel`. \n",
    "\n",
    "Based on the Confusion Matrix your `ifModel` was able to predict, with 100% accuracy, the correct species of flowers obtained from both _`Iris setosa`_ (top left) and _`Iris virginica`_ (bottom right). The top left and bottom right squares in the Confusion Matrix are colored with the darkest possible shade of blue. According to the color key shown at the right of this image, this shade of dark blue represents a value of `1.0`, which means a perfect score.\n",
    "\n",
    "When it came to flowers from the species, _`Iris versicolor`_, however, your model was accurate only about 90% of the time. Furthermore, based on the Confusion Matrix, when your model made a mistake, it invariably classified an _`Iris versicolor`_ flower as being from the species _`Iris virginica`_, but it _never_ confused the flower as being from the species _`Iris setosa`_. (Note light blue color panel in the center of the right side). \n",
    "\n",
    "If we wanted to improve our model, we should focus on ways to improve the model's ability to discrimate between flowers from these two species.\n"
   ]
  },
  {
   "cell_type": "markdown",
   "metadata": {},
   "source": [
    "## **Lesson Turn-in**\n",
    "\n",
    "When you have completed all of the code cells, and run them in sequential order (the last code cell should be number 31), use the **File --> Print.. --> Save to PDF** to generate a PDF of your JupyterLab notebook. Save your PDF as `Class_04_2.lastname.pdf` where _lastname_ is your last name, and upload the file to Canvas."
   ]
  }
 ],
 "metadata": {
  "kernelspec": {
   "display_name": "Python 3.9 (tensorflow)",
   "language": "python",
   "name": "tensorflow"
  },
  "language_info": {
   "codemirror_mode": {
    "name": "ipython",
    "version": 3
   },
   "file_extension": ".py",
   "mimetype": "text/x-python",
   "name": "python",
   "nbconvert_exporter": "python",
   "pygments_lexer": "ipython3",
   "version": "3.9.19"
  }
 },
 "nbformat": 4,
 "nbformat_minor": 4
}
