{
  "cells": [
    {
      "cell_type": "markdown",
      "metadata": {
        "id": "view-in-github",
        "colab_type": "text"
      },
      "source": [
        "<a href=\"https://colab.research.google.com/github/DavidSenseman/BIO1173/blob/main/Class_03_4.ipynb\" target=\"_parent\"><img src=\"https://colab.research.google.com/assets/colab-badge.svg\" alt=\"Open In Colab\"/></a>"
      ]
    },
    {
      "cell_type": "markdown",
      "metadata": {
        "id": "U77ZhdlQlkIs"
      },
      "source": [
        "---------------------------\n",
        "**COPYRIGHT NOTICE:** This Jupyterlab Notebook is a Derivative work of [Jeff Heaton](https://github.com/jeffheaton) licensed under the Apache License, Version 2.0 (the \"License\"); You may not use this file except in compliance with the License. You may obtain a copy of the License at\n",
        "\n",
        "> [http://www.apache.org/licenses/LICENSE-2.0](http://www.apache.org/licenses/LICENSE-2.0)\n",
        "\n",
        "Unless required by applicable law or agreed to in writing, software distributed under the License is distributed on an \"AS IS\" BASIS, WITHOUT WARRANTIES OR CONDITIONS OF ANY KIND, either express or implied. See the License for the specific language governing permissions and limitations under the License.\n",
        "\n",
        "------------------------"
      ]
    },
    {
      "cell_type": "markdown",
      "metadata": {
        "id": "VfNFC_tflkIs"
      },
      "source": [
        "# **BIO 1173: Intro Computational Biology**"
      ]
    },
    {
      "cell_type": "markdown",
      "metadata": {
        "id": "Q-MvVbEBlkIs"
      },
      "source": [
        "**Module 3: Introduction to TensorFlow**\n",
        "\n",
        "* Instructor: [David Senseman](mailto:David.Senseman@utsa.edu), [Department of Integrative Biology](https://sciences.utsa.edu/integrative-biology/), [UTSA](https://www.utsa.edu/)\n",
        "\n",
        "### Module 3 Material\n",
        "\n",
        "* Part 3.1: Deep Learning and Neural Network Introduction\n",
        "* Part 3.2: Using Keras to Build Regression Models\n",
        "* Part 3.3: Using Keras to Build Classification Models\n",
        "* **Part 3.4: Saving and Loading a Keras Neural Network**\n",
        "* Part 3.5: Early Stopping in Keras to Prevent Overfitting\n"
      ]
    },
    {
      "cell_type": "markdown",
      "metadata": {
        "id": "Y0EwEZuylkIt"
      },
      "source": [
        "### Google CoLab Instructions\n",
        "\n",
        "The following code ensures that Google CoLab is running the correct version of TensorFlow."
      ]
    },
    {
      "cell_type": "code",
      "execution_count": null,
      "metadata": {
        "id": "NSqMaYpLlkIs"
      },
      "outputs": [],
      "source": [
        "# YOU MUST RUN THIS CODE CELL FIRST\n",
        "\n",
        "try:\n",
        "    from google.colab import drive\n",
        "    drive.mount('/content/drive', force_remount=True)\n",
        "    from google.colab import auth\n",
        "    auth.authenticate_user()\n",
        "    COLAB = True\n",
        "    print(\"Note: using Google CoLab\")\n",
        "    %tensorflow_version 2.x\n",
        "    import requests\n",
        "    gcloud_token = !gcloud auth print-access-token\n",
        "    gcloud_tokeninfo = requests.get('https://www.googleapis.com/oauth2/v3/tokeninfo?access_token=' + gcloud_token[0]).json()\n",
        "    print(gcloud_tokeninfo['email'])\n",
        "except:\n",
        "    print(\"Note: not using Google CoLab\")\n",
        "    COLAB = False"
      ]
    },
    {
      "cell_type": "markdown",
      "metadata": {
        "id": "wJoUq4JylkIt"
      },
      "source": [
        "Make sure your GMAIL address is included as the last line in the output abpve."
      ]
    },
    {
      "cell_type": "markdown",
      "metadata": {
        "id": "fRRFsMFQlkIt"
      },
      "source": [
        "## Datasets for Class_03_4\n",
        "\n",
        "In this class we will be using the **_Orange Quality_** dataset for the Examples and the **_Apple Quality_** dataset for the **Exercises**. Both of these datasets will be downloaded from the course HTTPS server [https://biologicslab.co](https://biologicslab.co)."
      ]
    },
    {
      "cell_type": "markdown",
      "metadata": {
        "jp-MarkdownHeadingCollapsed": true,
        "id": "SzpXj3MjlkIt"
      },
      "source": [
        "### Orange Quality Dataset\n",
        "\n",
        "[Orange Quality Dataset](https://www.kaggle.com/datasets/shruthiiiee/orange-quality)\n",
        "\n",
        "**Description**\n",
        "\n",
        "This tabular dataset contains numerical attributes describing the quality of oranges, including their size, weight, sweetness (Brix), acidity (pH), softness, harvest time, and ripeness, as well as categorical attributes such as color, variety, presence of blemishes, and overall quality. The number of oranges in the dataset (_n_=241) is relatively small making it difficult to achieve robut learning using neural networks.\n",
        "\n",
        "The list below shows the actual `Column Names` as well a brief description of their contents.\n",
        "\n",
        "`Column Name`: Description\n",
        "\n",
        "* `Size (cm)` : Size of orange in cm\n",
        "* `Weight (g)` : Weight of orange in gm\n",
        "* `Brix (Sweetness)`: Sweetness level in Brix\n",
        "* `pH (Acidity)`: Acidity level (pH)\n",
        "* `Softness (1-5)`: Softness rating (1-5)\n",
        "* `HarvestTime (days)`: Days since harvest\n",
        "* `Ripeness (1-5)` : Ripeness rating (1-5)\n",
        "* `Color` : Fruit color\n",
        "* `Variety` : Orange variety\n",
        "* `Blemishes (Y/N)` : Presence of blemishes (Yes/No)\n",
        "* `Quality (1-5)` : Overall quality rating (1-5)\n",
        "\n",
        "Columns containing non-numeric values:\n",
        "* `Color`\n",
        "* `Variety`\n",
        "* `Blemished`\n",
        "\n",
        "\n",
        "The number of examples in the Orange Quality dataset by `Color` are as follows:\n",
        "~~~text\n",
        "Color\n",
        "Deep Orange      75\n",
        "Light Orange     64\n",
        "Orange           38\n",
        "Orange-Red       55\n",
        "Yellow-Orange     9\n",
        "~~~\n",
        "\n",
        "The number of examples in the Orange Quality dataset by `Variety` are as follows:\n",
        "~~~text\n",
        "Variety\n",
        "Ambiance                 11\n",
        "Blood Orange              2\n",
        "California Valencia       7\n",
        "Cara Cara                21\n",
        "Clementine               14\n",
        "Clementine (Seedless)     4\n",
        "Hamlin                    5\n",
        "Honey Tangerine           7\n",
        "Jaffa                    11\n",
        "Midsweet (Hybrid)         5\n",
        "Minneola (Hybrid)        12\n",
        "Moro (Blood)             16\n",
        "Murcott (Hybrid)          3\n",
        "Navel                    16\n",
        "Navel (Early Season)      2\n",
        "Navel (Late Season)       3\n",
        "Ortanique (Hybrid)       13\n",
        "Satsuma Mandarin         13\n",
        "Star Ruby                18\n",
        "Tangelo (Hybrid)          1\n",
        "Tangerine                14\n",
        "Temple                   18\n",
        "Valencia                 11\n",
        "Washington Navel         14\n",
        "~~~\n",
        "\n",
        "The number of examples in the Orange Quality  dataset by `Blemishes (Y/N)` are as follows:\n",
        "~~~text\n",
        "Blemishes (Y/N)\n",
        "N                          149\n",
        "N (Minor)                    1\n",
        "N (Split Skin)               1\n",
        "Y (Bruise)                   1\n",
        "Y (Bruising)                 9\n",
        "Y (Minor Insect Damage)      6\n",
        "Y (Minor)                   14\n",
        "Y (Mold Spot)               10\n",
        "Y (Scars)                   17\n",
        "Y (Split Skin)               8\n",
        "Y (Sunburn Patch)           23\n",
        "Y (Sunburn)                  2\n",
        "~~~\n",
        "\n",
        "We will need to use this information about these non-numeric categorical values when we prepare the feature vector below."
      ]
    },
    {
      "cell_type": "markdown",
      "metadata": {
        "jp-MarkdownHeadingCollapsed": true,
        "id": "rgOjxVHclkIt"
      },
      "source": [
        "### Apple Quality Dataset\n",
        "\n",
        "[Apple Quality Data Set](https://www.kaggle.com/datasets/nelgiriyewithana/apple-quality)\n",
        "\n",
        "**Description:**\n",
        "\n",
        "This is the same Apple Quality dataset that has been used several times in previous lesson. The Apple Quality dataset contains information about various attributes of a large sample of apples (_n_=4000). The size of this dataset is sufficiently large to enable robust learning with neural networks.\n",
        "\n",
        "The dataset includes details such as fruit ID, size, weight, sweetness, crunchiness, juiciness, ripeness, acidity, and quality.\n",
        "\n",
        "**Key Features:**\n",
        "\n",
        "* **A_id:** Unique identifier for each fruit\n",
        "* **Size:** Size of the fruit\n",
        "* **Weight:** Weight of the fruit\n",
        "* **Sweetness:** Degree of sweetness of the fruit\n",
        "* **Crunchiness:** Texture indicating the crunchiness of the fruit\n",
        "* **Juiciness:** Level of juiciness of the fruit\n",
        "* **Ripeness:** Stage of ripeness of the fruit\n",
        "* **Acidity:** Acidity level of the fruit\n",
        "* **Quality:** Overall quality of the fruit\n",
        "\n",
        "Columns containing non-numeric values:\n",
        "\n",
        "* `Quality`: \"good\" and \"bad\""
      ]
    },
    {
      "cell_type": "markdown",
      "metadata": {
        "id": "ihLGqmbXLDUN"
      },
      "source": [
        "# Part 3.4: Saving and Loading a Keras Neural Network\n",
        "\n",
        "Complex neural networks will take a _long_ time to fit/train.  It is helpful to be able to save a trained neural network so that you can reload it and using it again.  Again, a reloaded neural network will **not** require retraining.  \n",
        "\n",
        "Keras provides the following two formats for saving neural networks:\n",
        "\n",
        "* **JSON** - Stores the neural network structure (no weights) in the [JSON file format](https://en.wikipedia.org/wiki/JSON).\n",
        "* **Keras** - Stores the complete neural network (with weights) in the native Keras format.\n",
        "\n",
        "Usually, you will want to save in native Keras format."
      ]
    },
    {
      "cell_type": "markdown",
      "metadata": {
        "id": "3k7g6lgYlkIt"
      },
      "source": [
        "### Example 1: Build and Train a Classification Neural Network\n",
        "\n",
        "The code in Example 1 builds and trains a neural network called `orModel` that can classify the `Quality` of an orange based on its physical and chemical characteristics.\n",
        "\n",
        "The code in the cell below reads the Orange Quality dataset from the course HTTP server and creates a DataFrame called `orDF` (i.e. \"orange\" DataFrame).\n",
        "\n",
        "In order to create a feature vector, the 3 non-numeric columns in the dataset: `Color`, `Variety` and `Blemished` must be pre-processed. Mapping strings to integers is used to take care of the column `Color` while One-Hot Encoding is used to take care the column `Variety`. To take care of the column `Blemish`, it will simply excluded (dropped) from the column list when generating the X-values.\n",
        "\n",
        "While most of the numerical values are small integers, the weight values are an order of magnitude larger, so they are standardized to their z-scores. This makes weight values closer in magnitude to the other numerical values and significantly improved the accuracy of the model. After the weights are stardardized, X-values are generated and stored in a Numpy array called `orX`.\n",
        "\n",
        "For this assigment we won't bother to split the data into Training/Validation sets, nor will we bother to shuffle the data.\n",
        "\n",
        "Since we are building a classification neural network, we will need to One-Hot Encode the column `Quality` which contains the Y-values. It should be noted that this column is already numeric, so we are **not** using One-Hot Encoding to replace string values with integer. Rather, One-Hot Encoding the Y-values is necessary to give them the **_correct format_** for the neural network.\n",
        "\n",
        "Again, because we want `orModel` to act as a _classifier_, not a \"regressor\", we will use the `softmax` activation function in the output layer.\n",
        "\n",
        "Finally, we will compile the model using `categorical_crossentropy` as the loss function instead of using `mean_squared_error`.   "
      ]
    },
    {
      "cell_type": "code",
      "execution_count": null,
      "metadata": {
        "scrolled": true,
        "id": "aKoJe9hFlkIt"
      },
      "outputs": [],
      "source": [
        "# Example 1: Build and Train Classification Model\n",
        "\n",
        "import pandas as pd\n",
        "import numpy as np\n",
        "from scipy.stats import zscore\n",
        "import tensorflow as tf\n",
        "from tensorflow.keras.models import Sequential\n",
        "from tensorflow.keras.layers import Dense, Activation\n",
        "\n",
        "# Read dataset and create DataFrame --------------------------------\n",
        "orDF = pd.read_csv(\n",
        "    \"https://biologicslab.co/BIO1173/data/orange_quality.csv\",\n",
        "    na_values=['NA', '?'])\n",
        "\n",
        "\n",
        "# Create feature vector ---------------------------------------------\n",
        "\n",
        "# Map str to int\n",
        "mapping = {'Orange':0,'Deep Orange':1,\n",
        "           'Light Orange':2,'Orange-Red':3,\n",
        "           'Yellow-Orange':4}\n",
        "orDF['Color'] = orDF['Color'].map(mapping)\n",
        "\n",
        "# Standardize to z-scores\n",
        "orDF['Weight (g)'] = zscore(orDF['Weight (g)'])\n",
        "\n",
        "# Generate X-values\n",
        "orX = orDF[['Size (cm)', 'Weight (g)', 'Brix (Sweetness)', 'pH (Acidity)',\n",
        "       'Softness (1-5)', 'HarvestTime (days)', 'Ripeness (1-5)',\n",
        "        'Color']].values\n",
        "orX = np.asarray(orX).astype('float32')\n",
        "\n",
        "# Generate Y-values\n",
        "dummies = pd.get_dummies(orDF['Quality (1-5)'], dtype=int) # Classification\n",
        "orY = dummies.values\n",
        "orY = np.asarray(orY).astype('float32')\n",
        "\n",
        "# Build neural network-----------------------------------------\n",
        "orModel = Sequential()\n",
        "orModel.add(Dense(50, input_dim=orX.shape[1], activation='relu')) # Hidden 1\n",
        "orModel.add(Dense(25, activation='relu')) # Hidden 2\n",
        "orModel.add(Dense(orY.shape[1],activation='softmax')) # Output\n",
        "orModel.compile(loss='categorical_crossentropy', optimizer='adam')\n",
        "\n",
        "# Train model\n",
        "orModel.fit(orX,orY,verbose=2,epochs=100)"
      ]
    },
    {
      "cell_type": "markdown",
      "metadata": {
        "id": "59WJF3TBlkIt"
      },
      "source": [
        "Training should go pretty fast since there are only 241 oranges in the dataset.\n",
        "\n",
        "If you code is correct, you should see something similar to the following output:\n",
        "\n",
        "~~~text\n",
        "Epoch 1/100\n",
        "8/8 - 0s - loss: 8.4513 - 306ms/epoch - 38ms/step\n",
        "Epoch 2/100\n",
        "8/8 - 0s - loss: 4.5695 - 61ms/epoch - 8ms/step\n",
        "Epoch 3/100\n",
        "8/8 - 0s - loss: 2.3987 - 39ms/epoch - 5ms/step\n",
        "Epoch 4/100\n",
        "8/8 - 0s - loss: 2.1689 - 46ms/epoch - 6ms/step\n",
        "Epoch 5/100\n",
        "8/8 - 0s - loss: 2.0318 - 34ms/epoch - 4ms/step\n",
        "\n",
        ".......................\n",
        "\n",
        "Epoch 95/100\n",
        "8/8 - 0s - loss: 1.1693 - 28ms/epoch - 3ms/step\n",
        "Epoch 96/100\n",
        "8/8 - 0s - loss: 1.1688 - 31ms/epoch - 4ms/step\n",
        "Epoch 97/100\n",
        "8/8 - 0s - loss: 1.1676 - 28ms/epoch - 4ms/step\n",
        "Epoch 98/100\n",
        "8/8 - 0s - loss: 1.1612 - 27ms/epoch - 3ms/step\n",
        "Epoch 99/100\n",
        "8/8 - 0s - loss: 1.1614 - 28ms/epoch - 4ms/step\n",
        "Epoch 100/100\n",
        "8/8 - 0s - loss: 1.1533 - 28ms/epoch - 3ms/step\n",
        "\n",
        "<keras.callbacks.History at 0x2d31709f910>\n",
        "~~~"
      ]
    },
    {
      "cell_type": "markdown",
      "metadata": {
        "id": "zx5Gf5-alkIt"
      },
      "source": [
        "### **Exercise 1: Build and Train a Classification Neural Network**\n",
        "\n",
        "In the cell below build and train a new classification neural network called `apModel`.\n",
        "\n",
        "Start by reading the dataset and creating a DataFrame called `apDF` (\"apple\" DataFrame) using this code chunk:\n",
        "~~~text\n",
        "apDF = pd.read_csv(\n",
        "    \"https://biologicslab.co/BIO1173/data/apple_quality.csv\",\n",
        "    na_values=['NA', '?'])\n",
        "~~~\n",
        "The goal of your neural network model `apModel` will be to classify the apples in the Apple Quality dataset using the values in the following columns: 'Size', 'Weight', 'Sweetness', 'Crunchiness', 'Juiciness', 'Acidity' and 'Ripeness'. Since all of these columns are numeric, there is no need pre-process any of these columns. Moreover, the numerical values all have a similar magnitude so you don't need to standardize any column to their z-scores. Nor do you need to split the data into Training/Validation sets or suffle the data. When you generate your X-values, you should called them `apX`.\n",
        "\n",
        "Since you are building a classification neural network, you will need to One-Hot Encode the column containing the Y-values, `Quality`. This column is non-numeric, so by One-Hot Encoding it, you will accomplish two things: (1) replace string values with integers and (2) give the Y-values the correct format for the neural network. When you generate your Y-values, you should called them `apY`.\n",
        "\n",
        "Again, because you want your `apModel` to act as a _classifier_, use the `softmax` activation function in the output layer. You should also compile your model using `categorical_crossentropy` as the loss function.\n",
        "\n",
        "Finally, train (fit) your model on your X-values (`apX`) and your Y-values (`apY`) for 100 epochs.  "
      ]
    },
    {
      "cell_type": "code",
      "execution_count": null,
      "metadata": {
        "scrolled": true,
        "id": "ZSBuh6qVlkIu"
      },
      "outputs": [],
      "source": [
        "# Insert your code for Exercise 1 here\n",
        "\n"
      ]
    },
    {
      "cell_type": "markdown",
      "metadata": {
        "id": "XBG5KrPblkIu"
      },
      "source": [
        "Training your model will take longer since the Apple Quality dataset contains 4,000 items instead of only 241 in the Orange Quality dataset.\n",
        "\n",
        "If your code was correct your should see something similiar to the following output:\n",
        "~~~text\n",
        "Epoch 1/100\n",
        "125/125 - 1s - loss: 0.4866 - 746ms/epoch - 6ms/step\n",
        "Epoch 2/100\n",
        "125/125 - 0s - loss: 0.3555 - 440ms/epoch - 4ms/step\n",
        "Epoch 3/100\n",
        "125/125 - 0s - loss: 0.3111 - 444ms/epoch - 4ms/step\n",
        "Epoch 4/100\n",
        "125/125 - 0s - loss: 0.2861 - 435ms/epoch - 3ms/step\n",
        "Epoch 5/100\n",
        "125/125 - 0s - loss: 0.2686 - 497ms/epoch - 4ms/step\n",
        "\n",
        "............................................\n",
        "\n",
        "Epoch 95/100\n",
        "125/125 - 0s - loss: 0.0764 - 429ms/epoch - 3ms/step\n",
        "Epoch 96/100\n",
        "125/125 - 0s - loss: 0.0734 - 429ms/epoch - 3ms/step\n",
        "Epoch 97/100\n",
        "125/125 - 0s - loss: 0.0741 - 447ms/epoch - 4ms/step\n",
        "Epoch 98/100\n",
        "125/125 - 1s - loss: 0.0732 - 507ms/epoch - 4ms/step\n",
        "Epoch 99/100\n",
        "125/125 - 0s - loss: 0.0723 - 418ms/epoch - 3ms/step\n",
        "Epoch 100/100\n",
        "125/125 - 0s - loss: 0.0719 - 416ms/epoch - 3ms/s\n",
        "~~~\n",
        "\n",
        "Notice that in this example, the loss went from `0.4866` after the 1st epoch down to `0.0719` after the 100th epoch."
      ]
    },
    {
      "cell_type": "markdown",
      "metadata": {
        "id": "YAH-1llLlkIu"
      },
      "source": [
        "### Example 2: Determine the Model's RSME and Accuracy\n",
        "\n",
        "The overall objective of this assignment is to convince you that can save a _trained_ neural network to a file, and then later, recreate the neural network from the file, **_without changing the model's accuracy_**.\n",
        "\n",
        "#### Why is this important?\n",
        "\n",
        "As you already know, it can take significant time and processing power to train even relatively small neural networks that we created so far in this course. Neural networks that are used commercially (think \"Siri\" or \"Alexa\" or ChatGPT) are many times larger and require enormous resources as well as weeks (or months) to train. Obviously, if you had to train a neural network every time you wanted to use it, it won't be very practical and there would be little interest in \"AI\". However, once the neural network has been trained, you can save it to a file, and then re-use it over and over again, without any loss in the neural network's ability to solve problems (i.e. loss in accuracy).      \n",
        "\n",
        "The code in the cell below calculates ability of the `orModel` neural network to predict an orange's quality (Y-value) based on its physical and chemical characteristics (X-values). Two measures of predictive ability are computed, the **_Root Mean Square Error (RMSE)_** and **_Accuracy_**. The code stores the RSME value in the variable `orScore` and the Accuracy value in the variable `orCorrect` and then prints out thes values.\n"
      ]
    },
    {
      "cell_type": "code",
      "execution_count": null,
      "metadata": {
        "id": "sAs1WFJjlkIu"
      },
      "outputs": [],
      "source": [
        "# Example 2: Determine the model's RMSE and Accuracy\n",
        "\n",
        "import sklearn\n",
        "from sklearn import metrics\n",
        "from sklearn.metrics import accuracy_score\n",
        "\n",
        "# Measure RMSE error.\n",
        "orPred = orModel.predict(orX)\n",
        "orScore = np.sqrt(metrics.mean_squared_error(orPred,orY))\n",
        "print(f\"Before save score (RMSE): {orScore}\")\n",
        "\n",
        "# Measure the accuracy\n",
        "orPredict_classes = np.argmax(orPred,axis=1)\n",
        "orExpected_classes = np.argmax(orY,axis=1)\n",
        "orCorrect = accuracy_score(orExpected_classes,orPredict_classes)\n",
        "print(f\"Before save Accuracy: {orCorrect}\")"
      ]
    },
    {
      "cell_type": "markdown",
      "metadata": {
        "id": "3KGioPH0lkIu"
      },
      "source": [
        "If your code is correct you should see something similar to the following output:\n",
        "~~~text\n",
        "8/8 [==============================] - 0s 3ms/step\n",
        "Before save score (RMSE): 0.26590439677238464\n",
        "Before save Accuracy: 0.5518672199170125\n",
        "~~~\n",
        "\n",
        "The `orModel` isn't doing that great ( Accuracy: 0.5518672199170125 or 55% accurate). A model with only 55% accuracy is about a accurate as flipping a coin, which is 50% accurate.\n",
        "\n",
        "However, as mentioned above, the number of items (oranges) in this dataset is relatively small (_n_=241). As you can see, this is really too few samples for training a neural network and expect to acheive a high level of accuracy."
      ]
    },
    {
      "cell_type": "markdown",
      "metadata": {
        "id": "h5U9H6aclkIu"
      },
      "source": [
        "### **Exercise 2: Determine the Model's RSME and Accuracy**\n",
        "\n",
        "In the cell below, determine the RSME and Accuracy of your `apModel`. Store the RSME value in a variable called `apScore` and the Accuracy value in a variable called `apCorrect`. Print out these values as shown in Example 2 above."
      ]
    },
    {
      "cell_type": "code",
      "execution_count": null,
      "metadata": {
        "id": "XNx3_F7plkIu"
      },
      "outputs": [],
      "source": [
        "# Insert your code for Exercise 2 here\n",
        "\n"
      ]
    },
    {
      "cell_type": "markdown",
      "metadata": {
        "id": "DblFH4LXlkIu"
      },
      "source": [
        "If your code is correct you should see something similiar to the following output:\n",
        "\n",
        "~~~text\n",
        "125/125 [==============================] - 0s 2ms/step\n",
        "Before save score (RMSE): 0.13398617506027222\n",
        "Before save Accuracy: 0.977\n",
        "~~~\n",
        "\n",
        "WOW! Your `apModel` \"nailed-it\" with better than 95% accuracy."
      ]
    },
    {
      "cell_type": "markdown",
      "metadata": {
        "id": "lRH-rnocLDUO"
      },
      "source": [
        "The code below sets up a neural network and reads the data (for predictions), but it does not clear the model directory or fit the neural network. The code loads the weights from the previous fit. Now we reload the network and perform another prediction. The RMSE should match the previous one exactly if we saved and reloaded the neural network correctly."
      ]
    },
    {
      "cell_type": "markdown",
      "metadata": {
        "id": "Q4QsnlVBlkIu"
      },
      "source": [
        "### Example 3: Save the Model\n",
        "\n",
        "The code in the cell below saves the _trained_ neural network `orModel` as a file in two different file formats: JSON and HDF5.\n",
        "\n",
        "The code saves each file in the current working directory (`save_path = \".\"`). The filename of the JSON file is `orModel.json` while the filename of the HDF5 file is `orModel.h5`."
      ]
    },
    {
      "cell_type": "code",
      "execution_count": null,
      "metadata": {
        "id": "0LHaJ_yclkIu"
      },
      "outputs": [],
      "source": [
        "# Example 3: Save the model\n",
        "\n",
        "import os\n",
        "\n",
        "# Save path is the current directory\n",
        "save_path = \".\"\n",
        "\n",
        "# Save neural network structure to JSON (no weights)\n",
        "orModel_json = orModel.to_json()\n",
        "with open(os.path.join(save_path,\"orModel.json\"), \"w\") as json_file:\n",
        "    json_file.write(orModel_json)\n",
        "\n",
        "# Save the model in the native Keras format\n",
        "orModel.save('orModel.keras')\n",
        "\n",
        "# Print out the files in current directory\n",
        "files = os.listdir()\n",
        "print(files)"
      ]
    },
    {
      "cell_type": "markdown",
      "metadata": {
        "id": "ZLWx_HTFlkIu"
      },
      "source": [
        "If your code is correct you should see something like the following output:\n",
        "\n",
        "~~~text\n",
        "['.config', 'orModel.json', 'orModel.keras', 'drive', 'sample_data']\n",
        "~~~\n",
        "\n",
        "After running the code cell above, there should now be two new files in your `Class_03_4` folder called `orModel.hh5` and `orModel.json`."
      ]
    },
    {
      "cell_type": "markdown",
      "metadata": {
        "id": "hQ1HzMozlkIu"
      },
      "source": [
        "### **Exercise 3: Save the Model**\n",
        "\n",
        "In the code cell below save your _trained_ neural network `apModel` as a JSON file with the filename, `apModel.json`, and as a native Keras file with the filenmane `apModel.keras`. Save both files to your current working directory (`save_path = \".\"`)."
      ]
    },
    {
      "cell_type": "code",
      "execution_count": null,
      "metadata": {
        "id": "bqIU7RhclkIu"
      },
      "outputs": [],
      "source": [
        "# Insert your code for Exercise 3 here\n",
        "\n"
      ]
    },
    {
      "cell_type": "markdown",
      "metadata": {
        "id": "Fm992PzXlkIu"
      },
      "source": [
        "If your code is correct you should see the following output:\n",
        "\n",
        "~~~text\n",
        "['.ipynb_checkpoints', 'apModel.h5', 'apModel.json', 'Class_03_4.ipynb', 'orModel.h5', 'orModel.json']\n",
        "~~~\n",
        "\n",
        "You should now see the two more files with your neural network."
      ]
    },
    {
      "cell_type": "markdown",
      "metadata": {
        "id": "RpOGejsxlkIu"
      },
      "source": [
        "The advantage of the JSON format is that it can be visually inspected -- just click on the file name in the file browser panel. The JSON file perserves the model's _architecture_ which you can see by looking at the JSON file, but if you want to use it, you will need to train all over again.\n",
        "\n",
        "On the other hand, you can't view the contents of the HDF5 file, since it is not UTF-8 encoded (it's formated). Neverthelss, you should always save your model in the HDF5 format since this **_preserves architecture and the values of the weights_** of the model's connections. By preserving these values you don't have to waste time retraining the model again."
      ]
    },
    {
      "cell_type": "markdown",
      "metadata": {
        "id": "lPoAtxe8lkIu"
      },
      "source": [
        "### Example 4: Create New Model from Saved Model\n",
        "\n",
        "Once a trained model has been saved in the HDF5 format, it is a simple matter to read the file to make an exact copy of the model using the Keras function `load_model()` as shown in the cell below. In Example 4 we have given the re-loaded neural network the name `or2Model` to differentiate it from the one that we built previously.  "
      ]
    },
    {
      "cell_type": "code",
      "execution_count": null,
      "metadata": {
        "id": "XhbEI5jjLDUO",
        "scrolled": true
      },
      "outputs": [],
      "source": [
        "# Example 4: Create new model from saved model\n",
        "\n",
        "from tensorflow.keras.models import load_model\n",
        "\n",
        "# Look in current folder\n",
        "save_path = \".\"\n",
        "\n",
        "# Create model2 from the saved model\n",
        "or2Model = load_model(os.path.join(save_path,\"orModel.h5\"))\n",
        "\n",
        "# Print out model summary\n",
        "or2Model.summary()\n"
      ]
    },
    {
      "cell_type": "markdown",
      "metadata": {
        "id": "BXzA2v0ZlkIv"
      },
      "source": [
        "If your code is correct, you should see something similar to the following output:\n",
        "\n",
        "~~~text\n",
        "Model: \"sequential_3\"\n",
        "_________________________________________________________________\n",
        " Layer (type)                Output Shape              Param #   \n",
        "=================================================================\n",
        " dense_9 (Dense)             (None, 50)                450       \n",
        "                                                                 \n",
        " dense_10 (Dense)            (None, 25)                1275      \n",
        "                                                                 \n",
        " dense_11 (Dense)            (None, 8)                 208       \n",
        "                                                                 \n",
        "=================================================================\n",
        "Total params: 1,933\n",
        "Trainable params: 1,933\n",
        "Non-trainable params: 0\n",
        "___________________________\n",
        "~~~"
      ]
    },
    {
      "cell_type": "markdown",
      "metadata": {
        "id": "4NTlaOrclkIv"
      },
      "source": [
        "### **Exercise 4: Create New Model from Saved Model**\n",
        "\n",
        "In the cell below create a new neural network called `ap2Model` from the file `apModel.h5` in your current directory. Print out a summary of your new `ap2Model`."
      ]
    },
    {
      "cell_type": "code",
      "execution_count": null,
      "metadata": {
        "scrolled": true,
        "id": "-UszmEbBlkIv"
      },
      "outputs": [],
      "source": [
        "# Insert your code for Exercise 4 here\n",
        "\n"
      ]
    },
    {
      "cell_type": "markdown",
      "metadata": {
        "id": "5f0VIMDMlkIv"
      },
      "source": [
        "If your code is correct you should see something similar to the following output:\n",
        "\n",
        "~~~text\n",
        "Model: \"sequential\"\n",
        "_________________________________________________________________\n",
        " Layer (type)                Output Shape              Param #   \n",
        "=================================================================\n",
        " dense (Dense)               (None, 50)                400       \n",
        "                                                                 \n",
        " dense_1 (Dense)             (None, 25)                1275      \n",
        "                                                                 \n",
        " dense_2 (Dense)             (None, 2)                 52        \n",
        "                                                                 \n",
        "=================================================================\n",
        "Total params: 1,727\n",
        "Trainable params: 1,727\n",
        "Non-trainable params: 0\n",
        "~~~"
      ]
    },
    {
      "cell_type": "markdown",
      "metadata": {
        "id": "SsjpWjyglkIv"
      },
      "source": [
        "### Example 5: Compare the Predictive Accuracy of the Old and New Models\n",
        "\n",
        "The code in the cell below computes the RMSE error and the Accuracy of our new model `or2Model` and compares these values with the original `orModel`. We are trying to address the question whether re-loaded model has the same accuracy as the original model?"
      ]
    },
    {
      "cell_type": "code",
      "execution_count": null,
      "metadata": {
        "scrolled": true,
        "id": "jumnSbiylkIv"
      },
      "outputs": [],
      "source": [
        "# Example 5: Determine new model's RMSE and Accuracy\n",
        "\n",
        "# Measure RMSE error.\n",
        "or2Pred = or2Model.predict(orX)\n",
        "or2Score = np.sqrt(metrics.mean_squared_error(or2Pred,orY))\n",
        "print(f\"Before save score (RMSE): {orScore}\")\n",
        "print(f\"After save score (RMSE) : {or2Score}\")\n",
        "\n",
        "# Measure the accuracy\n",
        "or2Predict_classes = np.argmax(or2Pred,axis=1)\n",
        "or2Expected_classes = np.argmax(orY,axis=1)\n",
        "or2Correct = accuracy_score(or2Expected_classes,or2Predict_classes)\n",
        "print(f\"Before save Accuracy: {orCorrect}\")\n",
        "print(f\"After save Accuracy : {or2Correct}\")\n"
      ]
    },
    {
      "cell_type": "markdown",
      "metadata": {
        "id": "GWNB7BUSlkIv"
      },
      "source": [
        "If your code is correct you should see something similar to the following output:\n",
        "\n",
        "~~~text\n",
        "8/8 [==============================] - 0s 4ms/step\n",
        "Before save score (RMSE): 0.26590439677238464\n",
        "After save score (RMSE) : 0.26590439677238464\n",
        "Before save Accuracy: 0.5518672199170125\n",
        "After save Accuracy : 0.5518672199170125\n",
        "~~~~\n",
        "\n",
        "As you can see, there is **_no difference_** in the accuracy of the saved model compared to the original one. Train Once...Use Anywhere!"
      ]
    },
    {
      "cell_type": "markdown",
      "metadata": {
        "id": "oPC6owxHlkIv"
      },
      "source": [
        "### **Exercise 5: Compare the Predictive Accuracy of the Old and New Models**\n",
        "\n",
        "In the cell below write the code to compute the RMSE and Accuracy values for your `ap2Model` and print out these values along with the values for your original `apModel`."
      ]
    },
    {
      "cell_type": "code",
      "execution_count": null,
      "metadata": {
        "id": "AZKM-Q8alkIv"
      },
      "outputs": [],
      "source": [
        "# Insert your code for Exercise 5 here\n",
        "\n",
        "\n"
      ]
    },
    {
      "cell_type": "markdown",
      "metadata": {
        "id": "uxVOZUWDlkIv"
      },
      "source": [
        "If your code is correct you should see something similar to the following output:\n",
        "\n",
        "~~~text\n",
        "125/125 [==============================] - 0s 2ms/step\n",
        "Before save score (RMSE): 0.13398617506027222\n",
        "After save score (RMSE) : 0.13398617506027222\n",
        "Before save Accuracy: 0.977\n",
        "After save Accuracy : 0.977\n",
        "~~~\n",
        "\n",
        "Again, there is no loss in accuracy using a trained neural network that has been saved and then recreated from the saved `h5` file."
      ]
    },
    {
      "cell_type": "markdown",
      "metadata": {
        "id": "pjYoPxlXlkIv"
      },
      "source": [
        "## **Lesson Turn-in**\n",
        "\n",
        "When you have completed and run all of the code cells, use the **File --> Print.. --> Save to PDF** to generate a PDF of your Colab notebook. Save your PDF as `Class_03_4.lastname.pdf` where _lastname_ is your last name, and upload the file to Canvas."
      ]
    }
  ],
  "metadata": {
    "kernelspec": {
      "display_name": "Python 3 (ipykernel)",
      "language": "python",
      "name": "python3"
    },
    "language_info": {
      "codemirror_mode": {
        "name": "ipython",
        "version": 3
      },
      "file_extension": ".py",
      "mimetype": "text/x-python",
      "name": "python",
      "nbconvert_exporter": "python",
      "pygments_lexer": "ipython3",
      "version": "3.11.5"
    },
    "colab": {
      "provenance": [],
      "include_colab_link": true
    }
  },
  "nbformat": 4,
  "nbformat_minor": 0
}