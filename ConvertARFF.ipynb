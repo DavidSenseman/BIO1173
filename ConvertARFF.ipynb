{
  "nbformat": 4,
  "nbformat_minor": 0,
  "metadata": {
    "colab": {
      "provenance": [],
      "authorship_tag": "ABX9TyPemPsMAJEf2JzmiyHQ0zyt",
      "include_colab_link": true
    },
    "kernelspec": {
      "name": "python3",
      "display_name": "Python 3"
    },
    "language_info": {
      "name": "python"
    }
  },
  "cells": [
    {
      "cell_type": "markdown",
      "metadata": {
        "id": "view-in-github",
        "colab_type": "text"
      },
      "source": [
        "<a href=\"https://colab.research.google.com/github/DavidSenseman/BIO1173/blob/main/ConvertARFF.ipynb\" target=\"_parent\"><img src=\"https://colab.research.google.com/assets/colab-badge.svg\" alt=\"Open In Colab\"/></a>"
      ]
    },
    {
      "cell_type": "code",
      "execution_count": null,
      "metadata": {
        "id": "thqswy3eocvB"
      },
      "outputs": [],
      "source": [
        "# Read a datafile in ARFF format and print it out as a text file\n",
        "\n",
        "import os\n",
        "\n",
        "def convert_arff_to_txt(arff_file_path, txt_file_path):\n",
        "    with open(arff_file_path, 'r') as arff_file:\n",
        "        arff_content = arff_file.read()\n",
        "\n",
        "    with open(txt_file_path, 'w') as txt_file:\n",
        "        txt_file.write(arff_content)\n",
        "\n",
        "# Example usage\n",
        "arff_file_path = 'bone_marrow.arff'\n",
        "txt_file_path = 'bone_marrow.txt'\n",
        "convert_arff_to_txt(arff_file_path, txt_file_path)\n",
        "\n",
        "print(f\"ARFF file has been successfully converted to a text file: {os.path.abspath(txt_file_path)}\")"
      ]
    }
  ]
}