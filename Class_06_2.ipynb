{
  "nbformat": 4,
  "nbformat_minor": 0,
  "metadata": {
    "colab": {
      "provenance": [],
      "machine_shape": "hm",
      "gpuType": "T4",
      "authorship_tag": "ABX9TyN5KMw3lN+VB1zL8suqgGCi",
      "include_colab_link": true
    },
    "kernelspec": {
      "name": "python3",
      "display_name": "Python 3"
    },
    "language_info": {
      "name": "python"
    },
    "accelerator": "GPU"
  },
  "cells": [
    {
      "cell_type": "markdown",
      "metadata": {
        "id": "view-in-github",
        "colab_type": "text"
      },
      "source": [
        "<a href=\"https://colab.research.google.com/github/DavidSenseman/BIO1173/blob/main/Class_06_2.ipynb\" target=\"_parent\"><img src=\"https://colab.research.google.com/assets/colab-badge.svg\" alt=\"Open In Colab\"/></a>"
      ]
    },
    {
      "cell_type": "markdown",
      "source": [
        "---------------------------\n",
        "**COPYRIGHT NOTICE:** This Jupyterlab Notebook is a Derivative work of [Jeff Heaton](https://github.com/jeffheaton) licensed under the Apache License, Version 2.0 (the \"License\"); You may not use this file except in compliance with the License. You may obtain a copy of the License at\n",
        "\n",
        "> [http://www.apache.org/licenses/LICENSE-2.0](http://www.apache.org/licenses/LICENSE-2.0)\n",
        "\n",
        "Unless required by applicable law or agreed to in writing, software distributed under the License is distributed on an \"AS IS\" BASIS, WITHOUT WARRANTIES OR CONDITIONS OF ANY KIND, either express or implied. See the License for the specific language governing permissions and limitations under the License.\n",
        "\n",
        "------------------------"
      ],
      "metadata": {
        "id": "NssSnfzn2vAK"
      }
    },
    {
      "cell_type": "markdown",
      "source": [
        "# **BIO 1173: Intro Computational Biology**"
      ],
      "metadata": {
        "id": "pGAuC6fFfBbB"
      }
    },
    {
      "cell_type": "markdown",
      "source": [
        "##### **Module 6: Advanced Topics**\n",
        "\n",
        "* Instructor: [David Senseman](mailto:David.Senseman@utsa.edu), [Department of Biology, Health and the Environment](https://sciences.utsa.edu/bhe/), [UTSA](https://www.utsa.edu/)\n",
        "\n",
        "### Module 6 Material\n",
        "\n",
        "* Part 6.1: Reinforcment Learning\n",
        "* **Part 6.2: ONNX Runtime Environment**\n",
        "* Part 6.3: TBA\n",
        "* Part 6.4: TBA\n"
      ],
      "metadata": {
        "id": "AfDqayZnfKoZ"
      }
    },
    {
      "cell_type": "markdown",
      "source": [
        "#### **Change your Runtime Now!**\n",
        "\n",
        "For this lesson you must have a **GPU** hardware accelerator (e.g. T4 High-RAM).\n",
        "NOTE: There is no need to use an \"expensive\" GPU like the A-100 for this lesson."
      ],
      "metadata": {
        "id": "EjHLH6yJZnEQ"
      }
    },
    {
      "cell_type": "markdown",
      "source": [
        "## Google CoLab Instructions\n",
        "\n",
        "You MUST run the following code cell to get credit for this class lesson. By running this code cell, you will map your GDrive to /content/drive and print out your Google GMAIL address. Your Instructor will use your GMAIL address to verify the author of this class lesson."
      ],
      "metadata": {
        "id": "pbG8yxbEfqO-"
      }
    },
    {
      "cell_type": "code",
      "source": [
        "# You must run this cell first\n",
        "try:\n",
        "    from google.colab import drive\n",
        "    drive.mount('/content/drive', force_remount=True)\n",
        "    from google.colab import auth\n",
        "    auth.authenticate_user()\n",
        "    COLAB = True\n",
        "    print(\"Note: Using Google CoLab\")\n",
        "    import requests\n",
        "    gcloud_token = !gcloud auth print-access-token\n",
        "    gcloud_tokeninfo = requests.get('https://www.googleapis.com/oauth2/v3/tokeninfo?access_token=' + gcloud_token[0]).json()\n",
        "    print(gcloud_tokeninfo['email'])\n",
        "except:\n",
        "    print(\"**WARNING**: Your GMAIL address was **not** printed in the output below.\")\n",
        "    print(\"**WARNING**: You will NOT receive credit for this lesson.\")\n",
        "    COLAB = False"
      ],
      "metadata": {
        "id": "DWfA2_Wj2nCD",
        "colab": {
          "base_uri": "https://localhost:8080/"
        },
        "outputId": "c02e451c-5231-42e7-8dcb-24cec5dc08b3"
      },
      "execution_count": 2,
      "outputs": [
        {
          "output_type": "stream",
          "name": "stdout",
          "text": [
            "Mounted at /content/drive\n",
            "Note: Using Google CoLab\n",
            "david.senseman@gmail.com\n"
          ]
        }
      ]
    },
    {
      "cell_type": "markdown",
      "source": [
        "You should see the following output except your GMAIL address should appear on the last line.\n",
        "\n",
        "![__](https://biologicslab.co/BIO1173/images/class_04/class_04_1_image01B.png)\n",
        "\n",
        "If your GMAIL address does not appear your lesson will **not** be graded."
      ],
      "metadata": {
        "id": "Iv-lUKQ-fuPV"
      }
    },
    {
      "cell_type": "markdown",
      "source": [
        "## Accelerated Run-time Check\n",
        "\n",
        "You MUST run the following code cell to get credit for this class lesson. The code in this cell checks what hardware acceleration you are using. To run this lesson, you must be running a Graphics Processing Unit (GPU) such as the `T4` with high ram enabled."
      ],
      "metadata": {
        "id": "1VCZ3abAZTqR"
      }
    },
    {
      "cell_type": "code",
      "source": [
        "# You must run this cell second\n",
        "\n",
        "import tensorflow as tf\n",
        "\n",
        "def check_device():\n",
        "    # List all the *physical* devices TensorFlow can see\n",
        "    devices = tf.config.list_physical_devices()\n",
        "\n",
        "    # Flags we’ll set\n",
        "    cpu  = False\n",
        "    gpu  = False\n",
        "    tpu  = False\n",
        "\n",
        "    for d in devices:\n",
        "        if d.device_type == 'CPU':\n",
        "            cpu = True\n",
        "        elif d.device_type == 'GPU':\n",
        "            gpu = True\n",
        "        elif d.device_type == 'TPU':\n",
        "            tpu = True\n",
        "\n",
        "    # -----------------------------------------------------------------\n",
        "    # Report\n",
        "    # -----------------------------------------------------------------\n",
        "    if tpu:\n",
        "        print(\"**Running on a TPU**\")\n",
        "        print(\"Your assignment requires a GPU – please switch your runtime.\")\n",
        "    elif gpu:\n",
        "        print(\"**Running on a GPU**\")\n",
        "        print(\"You are good to go!\")\n",
        "        try:\n",
        "            gpu_info = !nvidia-smi\n",
        "            print('\\n'.join(gpu_info))\n",
        "        except Exception as e:\n",
        "            print(f\"Could not fetch GPU details: {e}\")\n",
        "    elif cpu:\n",
        "        print(\"**Running on a CPU** – a GPU is required for this assignment.\")\n",
        "    else:\n",
        "        print(\"No compatible accelerator found.\")\n",
        "        print(\"Please enable a GPU in Runtime > Change runtime type.\")\n",
        "\n",
        "# Run it\n",
        "check_device()\n"
      ],
      "metadata": {
        "id": "-6oSgM1UcMVu",
        "colab": {
          "base_uri": "https://localhost:8080/"
        },
        "outputId": "39637527-cc73-4e73-f4a7-f79af9380b0c"
      },
      "execution_count": 3,
      "outputs": [
        {
          "output_type": "stream",
          "name": "stdout",
          "text": [
            "**Running on a GPU**\n",
            "You are good to go!\n",
            "Tue Sep 16 16:51:14 2025       \n",
            "+-----------------------------------------------------------------------------------------+\n",
            "| NVIDIA-SMI 550.54.15              Driver Version: 550.54.15      CUDA Version: 12.4     |\n",
            "|-----------------------------------------+------------------------+----------------------+\n",
            "| GPU  Name                 Persistence-M | Bus-Id          Disp.A | Volatile Uncorr. ECC |\n",
            "| Fan  Temp   Perf          Pwr:Usage/Cap |           Memory-Usage | GPU-Util  Compute M. |\n",
            "|                                         |                        |               MIG M. |\n",
            "|=========================================+========================+======================|\n",
            "|   0  Tesla T4                       Off |   00000000:00:04.0 Off |                    0 |\n",
            "| N/A   46C    P8              9W /   70W |       2MiB /  15360MiB |      0%      Default |\n",
            "|                                         |                        |                  N/A |\n",
            "+-----------------------------------------+------------------------+----------------------+\n",
            "                                                                                         \n",
            "+-----------------------------------------------------------------------------------------+\n",
            "| Processes:                                                                              |\n",
            "|  GPU   GI   CI        PID   Type   Process name                              GPU Memory |\n",
            "|        ID   ID                                                               Usage      |\n",
            "|=========================================================================================|\n",
            "|  No running processes found                                                             |\n",
            "+-----------------------------------------------------------------------------------------+\n"
          ]
        }
      ]
    },
    {
      "cell_type": "markdown",
      "source": [
        "If the code is correct you should see the following output\n",
        "\n",
        "![__](https://biologicslab.co/BIO1173/images/class_06/class_06_2_image01C.png)"
      ],
      "metadata": {
        "id": "FYmfPduR6jQf"
      }
    },
    {
      "cell_type": "markdown",
      "source": [
        "### Install Packages\n",
        "\n",
        "Run the cell below to install the various packages needed for this lesson."
      ],
      "metadata": {
        "id": "GY3LV0F7f6_k"
      }
    },
    {
      "cell_type": "code",
      "source": [
        "# Install packages\n",
        "\n",
        "# Uninstall the existing version\n",
        "!pip uninstall -y tf2onnx\n",
        "\n",
        "# Reinstall from GitHub\n",
        "!pip install git+https://github.com/onnx/tensorflow-onnx > /dev/null\n",
        "\n",
        "# Verify version\n",
        "import tf2onnx\n",
        "print(tf2onnx.__version__)"
      ],
      "metadata": {
        "id": "gXF3OJKbxdq-",
        "colab": {
          "base_uri": "https://localhost:8080/"
        },
        "outputId": "4216a633-0bea-4e59-d896-45fb295cda29"
      },
      "execution_count": 4,
      "outputs": [
        {
          "output_type": "stream",
          "name": "stdout",
          "text": [
            "\u001b[33mWARNING: Skipping tf2onnx as it is not installed.\u001b[0m\u001b[33m\n",
            "\u001b[0m  Running command git clone --filter=blob:none --quiet https://github.com/onnx/tensorflow-onnx /tmp/pip-req-build-b8k6gxni\n",
            "\u001b[31mERROR: pip's dependency resolver does not currently take into account all the packages that are installed. This behaviour is the source of the following dependency conflicts.\n",
            "ydf 0.13.0 requires protobuf<7.0.0,>=5.29.1, but you have protobuf 3.20.3 which is incompatible.\n",
            "grpcio-status 1.71.2 requires protobuf<6.0dev,>=5.26.1, but you have protobuf 3.20.3 which is incompatible.\n",
            "tensorflow-metadata 1.17.2 requires protobuf>=4.25.2; python_version >= \"3.11\", but you have protobuf 3.20.3 which is incompatible.\u001b[0m\u001b[31m\n",
            "\u001b[0m1.16.1\n"
          ]
        }
      ]
    },
    {
      "cell_type": "markdown",
      "source": [
        "If the code is correct you should see the following output\n",
        "\n",
        "![__](https://biologicslab.co/BIO1173/images/class_06/class_06_2_image10B.png)\n",
        "\n",
        "\n",
        "However, you might receive the following error message\n",
        "\n",
        "![__](https://biologicslab.co/BIO1173/images/class_06/class_06_2_image01B.png)\n",
        "\n",
        "Don't worry if you see this error message."
      ],
      "metadata": {
        "id": "vPliT3j9i9l2"
      }
    },
    {
      "cell_type": "markdown",
      "source": [
        "### **YouTube Introduction to the ONNX Runtime**\n",
        "\n",
        "Run the next cell to see short introduction to the ONNX Runtime. This is a suggested, but optional, part of the lesson."
      ],
      "metadata": {
        "id": "6mzf1qszj_S6"
      }
    },
    {
      "cell_type": "code",
      "source": [
        "from IPython.display import YouTubeVideo, HTML\n",
        "video_id = \"cZtXdMao7Ic\"   # <-- the part after  …youtu.be/\n",
        "YouTubeVideo(video_id, width=800, height=450)\n"
      ],
      "metadata": {
        "id": "Bv6JcG4Lk6gH"
      },
      "execution_count": null,
      "outputs": []
    },
    {
      "cell_type": "markdown",
      "source": [
        "# **ONNX Runtime Environment**\n",
        "\n",
        "### ONNX Runtime Overview\n",
        "\n",
        "**ONNX Runtime** is a high-performance inference engine developed by Microsoft for executing models in the **Open Neural Network Exchange (ONNX)** format. It is designed to be **cross-platform**, **language-agnostic**, and **hardware-optimized**, supporting execution on CPUs, GPUs, and specialized accelerators like `NVIDIA` **TensorRT** and `Intel` **OpenVINO**.\n",
        "\n",
        "ONNX Runtime is particularly useful in scenarios where:\n",
        "- **Interoperability** is needed across different frameworks (e.g., PyTorch, TensorFlow, scikit-learn).\n",
        "- **Deployment efficiency** is critical, offering faster inference times and reduced resource consumption.\n",
        "- **Portability** is a priority, allowing models to be deployed in cloud, edge, and mobile environments.\n",
        "- **Hardware acceleration** is desired, with built-in support for various execution providers.\n",
        "\n",
        "By decoupling model training from inference, ONNX Runtime enables developers to train models in their preferred framework and deploy them in a streamlined, optimized runtime environment.\n",
        "\n"
      ],
      "metadata": {
        "id": "juSBxaSl83tU"
      }
    },
    {
      "cell_type": "markdown",
      "source": [
        "### Install ONNX Runtime\n",
        "\n",
        "Run the code in the cell below to install the `ONNX Runtime` package."
      ],
      "metadata": {
        "id": "0JeoIxo9BZjj"
      }
    },
    {
      "cell_type": "code",
      "source": [
        "!pip install onnxruntime"
      ],
      "metadata": {
        "id": "jI9r7u0Ap8u-",
        "colab": {
          "base_uri": "https://localhost:8080/"
        },
        "outputId": "0945cd1d-e30f-4a5c-812b-61cab92d451e"
      },
      "execution_count": 5,
      "outputs": [
        {
          "output_type": "stream",
          "name": "stdout",
          "text": [
            "Collecting onnxruntime\n",
            "  Downloading onnxruntime-1.22.1-cp312-cp312-manylinux_2_27_x86_64.manylinux_2_28_x86_64.whl.metadata (4.9 kB)\n",
            "Collecting coloredlogs (from onnxruntime)\n",
            "  Downloading coloredlogs-15.0.1-py2.py3-none-any.whl.metadata (12 kB)\n",
            "Requirement already satisfied: flatbuffers in /usr/local/lib/python3.12/dist-packages (from onnxruntime) (25.2.10)\n",
            "Requirement already satisfied: numpy>=1.21.6 in /usr/local/lib/python3.12/dist-packages (from onnxruntime) (2.0.2)\n",
            "Requirement already satisfied: packaging in /usr/local/lib/python3.12/dist-packages (from onnxruntime) (25.0)\n",
            "Requirement already satisfied: protobuf in /usr/local/lib/python3.12/dist-packages (from onnxruntime) (3.20.3)\n",
            "Requirement already satisfied: sympy in /usr/local/lib/python3.12/dist-packages (from onnxruntime) (1.13.3)\n",
            "Collecting humanfriendly>=9.1 (from coloredlogs->onnxruntime)\n",
            "  Downloading humanfriendly-10.0-py2.py3-none-any.whl.metadata (9.2 kB)\n",
            "Requirement already satisfied: mpmath<1.4,>=1.1.0 in /usr/local/lib/python3.12/dist-packages (from sympy->onnxruntime) (1.3.0)\n",
            "Downloading onnxruntime-1.22.1-cp312-cp312-manylinux_2_27_x86_64.manylinux_2_28_x86_64.whl (16.5 MB)\n",
            "\u001b[2K   \u001b[90m━━━━━━━━━━━━━━━━━━━━━━━━━━━━━━━━━━━━━━━━\u001b[0m \u001b[32m16.5/16.5 MB\u001b[0m \u001b[31m99.4 MB/s\u001b[0m eta \u001b[36m0:00:00\u001b[0m\n",
            "\u001b[?25hDownloading coloredlogs-15.0.1-py2.py3-none-any.whl (46 kB)\n",
            "\u001b[2K   \u001b[90m━━━━━━━━━━━━━━━━━━━━━━━━━━━━━━━━━━━━━━━━\u001b[0m \u001b[32m46.0/46.0 kB\u001b[0m \u001b[31m5.7 MB/s\u001b[0m eta \u001b[36m0:00:00\u001b[0m\n",
            "\u001b[?25hDownloading humanfriendly-10.0-py2.py3-none-any.whl (86 kB)\n",
            "\u001b[2K   \u001b[90m━━━━━━━━━━━━━━━━━━━━━━━━━━━━━━━━━━━━━━━━\u001b[0m \u001b[32m86.8/86.8 kB\u001b[0m \u001b[31m11.3 MB/s\u001b[0m eta \u001b[36m0:00:00\u001b[0m\n",
            "\u001b[?25hInstalling collected packages: humanfriendly, coloredlogs, onnxruntime\n",
            "Successfully installed coloredlogs-15.0.1 humanfriendly-10.0 onnxruntime-1.22.1\n"
          ]
        }
      ]
    },
    {
      "cell_type": "markdown",
      "source": [
        "If the code is correct you should see the following output\n",
        "\n",
        "![__](https://biologicslab.co/BIO1173/images/class_06/class_06_2_image30B.png)"
      ],
      "metadata": {
        "id": "wdG7wCrMDNdk"
      }
    },
    {
      "cell_type": "markdown",
      "source": [
        "### Example 1: Copy Keras Model from Google Drive\n",
        "\n",
        "In `Lesson_03_2` you trained a Keras model callled `ResNet50_model_244` on the `Diabetic Retinopathy` image dataset and saved it to your GDrive. The code in the cell below copies this Keras model to your current Colab directory.\n",
        "\n",
        "**NOTE:** Contact your Instructor for help if you don't have your saved neural network."
      ],
      "metadata": {
        "id": "MImolJLV2mdb"
      }
    },
    {
      "cell_type": "code",
      "source": [
        "# Example 1: Copy Keras Model from Google Drive\n",
        "\n",
        "import os\n",
        "import shutil\n",
        "\n",
        "# ------------------------------------------------------------------\n",
        "#  1. Define the model filename (only the name, not the full path)\n",
        "# ------------------------------------------------------------------\n",
        "eg_model_filename = 'ResNet50_model_244.keras'\n",
        "\n",
        "# ------------------------------------------------------------------\n",
        "#  2. Build absolute paths\n",
        "# ------------------------------------------------------------------\n",
        "gdrive_model_path = os.path.join('/content/drive/MyDrive', eg_model_filename)\n",
        "eg_local_model_path  = os.path.join('/content', eg_model_filename)\n",
        "\n",
        "# ------------------------------------------------------------------\n",
        "#  3. Check that the source file exists\n",
        "# ------------------------------------------------------------------\n",
        "if not os.path.exists(gdrive_model_path):\n",
        "    print(f\"[ERROR] Source file not found:\\n  {gdrive_model_path}\\n\"\n",
        "          \"Please make sure the file exists in the specified Google Drive folder \"\n",
        "          \"and that the Drive is mounted.\")\n",
        "else:\n",
        "    # ------------------------------------------------------------------\n",
        "    #  4. Attempt to copy the file with error handling\n",
        "    # ------------------------------------------------------------------\n",
        "    try:\n",
        "        shutil.copy(gdrive_model_path, eg_local_model_path)\n",
        "        print(f\"[SUCCESS] Keras model '{eg_model_filename}' was copied from \"\n",
        "              f\"Google Drive to your current Colab directory:\\n  {eg_local_model_path}\")\n",
        "    except FileNotFoundError as fnf_err:\n",
        "        # This is a rare case – we already checked existence, but handle it anyway\n",
        "        print(f\"[ERROR] FileNotFoundError during copy: {fnf_err}\")\n",
        "    except PermissionError as perm_err:\n",
        "        print(f\"[ERROR] Permission denied while copying:\\n  {perm_err}\")\n",
        "    except OSError as os_err:\n",
        "        # Covers other OS related errors (e.g., disk full, invalid characters)\n",
        "        print(f\"[ERROR] OS error during copy: {os_err}\")\n",
        "    except Exception as exc:\n",
        "        # Fallback for any other unexpected exception\n",
        "        print(f\"[ERROR] Unexpected error: {exc}\")"
      ],
      "metadata": {
        "id": "V5-0OMlPqwbg",
        "colab": {
          "base_uri": "https://localhost:8080/"
        },
        "outputId": "eb0edfe2-ed15-476d-ac00-f7042b8e6b85"
      },
      "execution_count": 6,
      "outputs": [
        {
          "output_type": "stream",
          "name": "stdout",
          "text": [
            "[SUCCESS] Keras model 'ResNet50_model_244.keras' was copied from Google Drive to your current Colab directory:\n",
            "  /content/ResNet50_model_244.keras\n"
          ]
        }
      ]
    },
    {
      "cell_type": "markdown",
      "source": [
        "If the code is correct you should see the following output\n",
        "\n",
        "![__](https://biologicslab.co/BIO1173/images/class_06/class_06_2_image25B.png)"
      ],
      "metadata": {
        "id": "CzR6lbFokxIy"
      }
    },
    {
      "cell_type": "markdown",
      "source": [
        "### Example 2: Load Keras Model\n",
        "\n",
        "The code in the cell below loads the Keras model and determines its input shape. The prefix `eg_` is added to the name of the loaded model (`eg_model`) as well as other model attributes. As before, this has been done to keep these variables separate from similar variables that you will generate later in the **Exercises**.\n"
      ],
      "metadata": {
        "id": "q2rubDFQUvqJ"
      }
    },
    {
      "cell_type": "code",
      "source": [
        "# Example 2: Load keras model\n",
        "\n",
        "# Import TensorFlow and Keras\n",
        "import tensorflow as tf\n",
        "from tensorflow import keras\n",
        "\n",
        "# Load model\n",
        "print(\"Loading Keras model...\")\n",
        "eg_model = keras.models.load_model(eg_local_model_path)\n",
        "print(f\"Model {eg_model_filename} loaded successfully!\")\n",
        "\n",
        "# Get model input shape for testing\n",
        "eg_input_shape = eg_model.input_shape\n",
        "print(f\"\\nInput shape: {eg_input_shape}\")\n",
        "\n",
        "# Create sample input data for testing\n",
        "import numpy as np\n",
        "\n",
        "# Generate random test data matching your model's expected input\n",
        "if len(eg_input_shape) == 4:  # Image input\n",
        "    batch_size = 1\n",
        "    height, width, channels = eg_input_shape[1], eg_input_shape[2], eg_input_shape[3]\n",
        "    test_input = np.random.random((batch_size, height, width, channels)).astype(np.float32)\n",
        "else:\n",
        "    # For other input types, adjust accordingly\n",
        "    test_input = np.random.random(eg_input_shape).astype(np.float32)\n",
        "\n",
        "print(f\"Test input shape for {eg_model_filename}: {test_input.shape}\")\n"
      ],
      "metadata": {
        "id": "VoLJTkmzVLX4",
        "colab": {
          "base_uri": "https://localhost:8080/"
        },
        "outputId": "fe2a59fa-9df4-44a7-e125-684622e317fd"
      },
      "execution_count": 7,
      "outputs": [
        {
          "output_type": "stream",
          "name": "stdout",
          "text": [
            "Loading Keras model...\n",
            "Model ResNet50_model_244.keras loaded successfully!\n",
            "\n",
            "Input shape: (None, 244, 244, 3)\n",
            "Test input shape for ResNet50_model_244.keras: (1, 244, 244, 3)\n"
          ]
        }
      ]
    },
    {
      "cell_type": "markdown",
      "source": [
        "If the code is correct you should see the following output\n",
        "\n",
        "![__](https://biologicslab.co/BIO1173/images/class_06/class_06_2_image26B.png)"
      ],
      "metadata": {
        "id": "mfhekLm4mgdU"
      }
    },
    {
      "cell_type": "markdown",
      "source": [
        "### Example 3: Convert Keras Model to ONNX Format\n",
        "\n",
        "The code in the cell below converts the Keras model into the ONNX format."
      ],
      "metadata": {
        "id": "eO16F9FfVi4u"
      }
    },
    {
      "cell_type": "code",
      "source": [
        "# Example 3: Convert keras model to ONNX format\n",
        "\n",
        "# Import tf2onnx for conversion\n",
        "import tf2onnx\n",
        "\n",
        "# Convert to ONNX\n",
        "print(\"Converting Keras model to ONNX format...\")\n",
        "try:\n",
        "    # Create the input specification for conversion\n",
        "    spec = (tf.TensorSpec(eg_input_shape, tf.float32, name=\"input\"),)\n",
        "\n",
        "    # Define the ONNX filename based on the Keras model filename\n",
        "    eg_onnx_filename = eg_model_filename.replace('.keras', '.onnx')\n",
        "    output_path = f\"/content/{eg_onnx_filename}\"\n",
        "\n",
        "    # Convert the model to ONNX\n",
        "    eg_onnx_graph = tf2onnx.convert.from_keras(\n",
        "        eg_model,\n",
        "        input_signature=spec,\n",
        "        output_path=output_path,\n",
        "        opset=13\n",
        "    )\n",
        "\n",
        "    print(f\"Model {eg_model_filename} converted successfully!\")\n",
        "    print(f\"ONNX model saved to: {output_path}\")\n",
        "\n",
        "except Exception as e:\n",
        "    print(f\"Conversion failed with error: {e}\")\n"
      ],
      "metadata": {
        "id": "UVkCvkK5noKx",
        "colab": {
          "base_uri": "https://localhost:8080/"
        },
        "outputId": "23d0d927-1760-493c-f20e-aa9868488eaa"
      },
      "execution_count": 8,
      "outputs": [
        {
          "output_type": "stream",
          "name": "stdout",
          "text": [
            "Converting Keras model to ONNX format...\n",
            "Model ResNet50_model_244.keras converted successfully!\n",
            "ONNX model saved to: /content/ResNet50_model_244.onnx\n"
          ]
        }
      ]
    },
    {
      "cell_type": "markdown",
      "source": [
        "If the code is correct you should see the following output\n",
        "\n",
        "![__](https://biologicslab.co/BIO1173/images/class_06/class_06_2_image32B.png)"
      ],
      "metadata": {
        "id": "2G-IX1xnoCum"
      }
    },
    {
      "cell_type": "markdown",
      "source": [
        "### Example 4: Verify ONNX Model\n",
        "\n",
        "The code in the cell below performs **validation and inspection** of the ONNX model file. Checking is accomplished by the following line of code:\n",
        "```text\n",
        "onnx.checker.check_model(eg_onnx_model_loaded)\n",
        "```\n",
        "If no errors are raised, the model is considered valid."
      ],
      "metadata": {
        "id": "BlYinlpZUxqB"
      }
    },
    {
      "cell_type": "code",
      "source": [
        "# Example 4: Verify ONNX model\n",
        "\n",
        "import onnx\n",
        "\n",
        "# Load and check the ONNX model\n",
        "eg_onnx_filename = eg_model_filename.replace('.keras', '.onnx')\n",
        "output_path = f\"/content/{eg_onnx_filename}\"\n",
        "\n",
        "# Load and check the ONNX model\n",
        "eg_onnx_model_loaded = onnx.load(output_path)\n",
        "onnx.checker.check_model(eg_onnx_model_loaded)\n",
        "print(\"ONNX model validation successful!\")\n",
        "\n",
        "# Display ONNX model information\n",
        "print(\"\\nONNX Model Information:\")\n",
        "print(f\"Model name: {eg_onnx_model_loaded.graph.name}\")\n",
        "print(f\"Number of inputs: {len(eg_onnx_model_loaded.graph.input)}\")\n",
        "print(f\"Number of outputs: {len(eg_onnx_model_loaded.graph.output)}\")\n"
      ],
      "metadata": {
        "id": "eIbA8PIiDFOl",
        "colab": {
          "base_uri": "https://localhost:8080/"
        },
        "outputId": "50f5d88e-0cfc-47a0-95dd-0be942c4839f"
      },
      "execution_count": 9,
      "outputs": [
        {
          "output_type": "stream",
          "name": "stdout",
          "text": [
            "ONNX model validation successful!\n",
            "\n",
            "ONNX Model Information:\n",
            "Model name: tf2onnx\n",
            "Number of inputs: 1\n",
            "Number of outputs: 1\n"
          ]
        }
      ]
    },
    {
      "cell_type": "markdown",
      "source": [
        "If the code is correct you should see the following output\n",
        "\n",
        "![__](https://biologicslab.co/BIO1173/images/class_06/class_06_2_image11B.png)\n",
        "\n",
        "* This confirms that your ONNX model was loaded without errors and passes all ONNX format validations\n",
        "* The `onnx.checker.check_model()` function verified that your model follows the ONNX specification correctly\n",
        "```text\n",
        "ONNX Model Information:\n",
        "Model name: tf2onnx\n",
        "Number of inputs: 1\n",
        "Number of outputs: 1\n",
        "```\n",
        "* **Model name:** `tf2onnx` - This is the default name that tf2onnx uses when converting TensorFlow models\n",
        "* **1 input:** Your model expects one input tensor (which makes sense for an image classification model)\n",
        "* **1 output:** Your model produces one output tensor (which makes sense for a classification model)"
      ],
      "metadata": {
        "id": "qtF5zl5aC3oN"
      }
    },
    {
      "cell_type": "markdown",
      "source": [
        "### Example 5: Model Comparison\n",
        "\n",
        "The code in the cell below performs a comparison between predictions from the Keras model and its ONNX-converted counterpart to verify that the conversion preserved the model's behavior.\n",
        "\n",
        "This code runs inference with both models\n",
        "```text\n",
        "eg_onnx_pred = eg_onnx_session.run([eg_output_name], {eg_input_name: eg_test_input})\n",
        "eg_keras_pred = eg_model.predict(eg_test_input, verbose=0)\n",
        "```\n",
        "And then the predictions are compared.\n",
        "\n"
      ],
      "metadata": {
        "id": "RWndQ6ISuc4d"
      }
    },
    {
      "cell_type": "code",
      "source": [
        "# Example 5: Model comparison\n",
        "\n",
        "import onnxruntime as ort\n",
        "\n",
        "# Load the ONNX model\n",
        "eg_onnx_filename = eg_model_filename.replace('.keras', '.onnx')\n",
        "output_path = f\"/content/{eg_onnx_filename}\"\n",
        "eg_onnx_session = ort.InferenceSession(output_path)\n",
        "\n",
        "# Get input/output names\n",
        "eg_input_name = eg_onnx_session.get_inputs()[0].name\n",
        "eg_output_name = eg_onnx_session.get_outputs()[0].name\n",
        "\n",
        "# Create test data (same as your original model's expected input)\n",
        "eg_test_input = np.random.randn(1, 244, 244, 3).astype(np.float32)\n",
        "\n",
        "# Run predictions with both models\n",
        "eg_onnx_pred = eg_onnx_session.run([eg_output_name],\n",
        "               {eg_input_name: eg_test_input})\n",
        "eg_keras_pred = eg_model.predict(eg_test_input, verbose=0)\n",
        "\n",
        "# Compare results\n",
        "print(\"ONNX prediction shape:\", eg_onnx_pred[0].shape)\n",
        "print(\"Keras prediction shape:\", eg_keras_pred.shape)\n",
        "print(\"Max difference:\", np.max(np.abs(eg_onnx_pred[0] - eg_keras_pred)))\n",
        "print(\"Mean difference:\", np.mean(np.abs(eg_onnx_pred[0] - eg_keras_pred)))\n",
        "\n",
        "# Verify they're essentially identical\n",
        "are_identical = np.allclose(eg_onnx_pred[0], eg_keras_pred, atol=1e-8)\n",
        "print(\"Results are identical (within floating point precision):\", are_identical)\n",
        "\n",
        "if not are_identical:\n",
        "    print(\"Note: Small numerical differences may occur due to floating-point precision.\")"
      ],
      "metadata": {
        "id": "JC2QU2InUx16",
        "colab": {
          "base_uri": "https://localhost:8080/"
        },
        "outputId": "a97c0617-d24a-4480-a3ec-8795c19661aa"
      },
      "execution_count": 10,
      "outputs": [
        {
          "output_type": "stream",
          "name": "stdout",
          "text": [
            "ONNX prediction shape: (1, 5)\n",
            "Keras prediction shape: (1, 5)\n",
            "Max difference: 8.195639e-08\n",
            "Mean difference: 2.7939677e-08\n",
            "Results are identical (within floating point precision): True\n"
          ]
        }
      ]
    },
    {
      "cell_type": "markdown",
      "source": [
        "If the code is correct you should see something _similar_ to the following output\n",
        "\n",
        "![__](https://biologicslab.co/BIO1173/images/class_06/class_06_2_image06B.png)\n",
        "\n",
        "Both models are virtually identical!"
      ],
      "metadata": {
        "id": "STCLq1rvrS85"
      }
    },
    {
      "cell_type": "markdown",
      "source": [
        "### Example 6: Visualize Predicted Outputs\n",
        "\n",
        "The code in the cell below generates a bar chart showing the predicted outputs from the `Keras` and the `ONNX` models."
      ],
      "metadata": {
        "id": "n_vmWR61F_th"
      }
    },
    {
      "cell_type": "code",
      "source": [
        "# Example 6: Visualize predicted outputs\n",
        "\n",
        "import numpy as np\n",
        "import matplotlib.pyplot as plt\n",
        "\n",
        "# Replace these with your actual model predictions\n",
        "eg_keras_pred = eg_model.predict(eg_test_input, verbose=0).flatten()\n",
        "eg_onnx_pred = eg_onnx_session.run([eg_output_name], {eg_input_name: eg_test_input})[0].flatten()\n",
        "\n",
        "# Create class labels\n",
        "eg_num_classes = len(eg_keras_pred)\n",
        "labels = [f\"Class {i}\" for i in range(eg_num_classes)]\n",
        "\n",
        "# Plotting\n",
        "x = np.arange(eg_num_classes)\n",
        "width = 0.35\n",
        "\n",
        "plt.figure(figsize=(7, 5))\n",
        "plt.bar(x - width/2, eg_keras_pred, width, label='Keras')\n",
        "plt.bar(x + width/2, eg_onnx_pred, width, label='ONNX')\n",
        "plt.xlabel('Classes')\n",
        "plt.ylabel('Prediction Probability')\n",
        "plt.title('Comparison of Keras and ONNX Model Predictions')\n",
        "plt.xticks(x, labels)\n",
        "plt.legend()\n",
        "plt.grid(True)\n",
        "plt.tight_layout()\n",
        "plt.show()\n"
      ],
      "metadata": {
        "id": "batGFACBGAYR",
        "colab": {
          "base_uri": "https://localhost:8080/",
          "height": 507
        },
        "outputId": "23262e02-1177-4879-ba1f-79180138abf1"
      },
      "execution_count": 11,
      "outputs": [
        {
          "output_type": "display_data",
          "data": {
            "text/plain": [
              "<Figure size 700x500 with 1 Axes>"
            ],
            "image/png": "[encoded data removed]"
          },
          "metadata": {}
        }
      ]
    },
    {
      "cell_type": "markdown",
      "source": [
        "If the code is correct you should see the following output\n",
        "\n",
        "![__](https://biologicslab.co/BIO1173/images/class_06/class_06_2_image12B.png)\n",
        "\n",
        "The graph shows how closely the ONNX model replicates the behavior of the original Keras model across five classes. Here's how to interpret it:\n",
        "\n",
        "* **Class 0:** Both models predict this class with high confidence (probability > 0.8), suggesting they agree that this is the most likely class for the input.\n",
        "* **Classes 1 and 2:** Both models assign low probabilities (around or below 0.1), indicating these classes are considered unlikely.\n",
        "* **Classes 3 and 4:** Prediction probabilities are near zero for both models, showing strong agreement that these classes are not relevant for the input.\n",
        "\n",
        "##### **Key Takeaways:**\n",
        "* The ONNX model closely mirrors the Keras model's output, which is a good sign that the conversion preserved the model's behavior.\n",
        "* Minor differences in bar heights may reflect small numerical variations due to floating-point precision or runtime differences.\n",
        "* This kind of visualization is useful for validating model fidelity after conversion and ensuring consistent inference results."
      ],
      "metadata": {
        "id": "fpEDl9vuGmqf"
      }
    },
    {
      "cell_type": "markdown",
      "source": [
        "### Example 7: Generate Random Testing Data\n",
        "\n",
        "The code in the cell below generates random data that will be used in the next step to compare the accuracy of the converted ONNX model against the accuracy of the original Keras model.\n",
        "\n",
        "Note that value of the `seed` is specified by a variable called `seed_val` that is defined by the user."
      ],
      "metadata": {
        "id": "aM0UYztrsM4Y"
      }
    },
    {
      "cell_type": "code",
      "source": [
        "# Example 7: Generate random testing data\n",
        "\n",
        "# Generate random test data for model comparison\n",
        "import numpy as np\n",
        "import tensorflow as tf\n",
        "\n",
        "# Set value for random seed\n",
        "seed_val = 42\n",
        "print(f\"Random seed set to {seed_val}\")\n",
        "\n",
        "# Set random seed for reproducibility\n",
        "np.random.seed(seed_val)\n",
        "tf.random.set_seed(seed_val)\n",
        "\n",
        "# Your specific model parameters\n",
        "eg_input_shape = (1, 244, 244, 3)  # Based on your working example\n",
        "eg_num_classes = 5  # Based on your output shape (1, 5)\n",
        "\n",
        "# Generate random test data\n",
        "print(f\"Generating test data with input shape: {eg_input_shape}\")\n",
        "print(f\"Number of samples: 100\")\n",
        "\n",
        "# Create random input data (matching your model's expected input)\n",
        "eg_X_test = np.random.randn(100, *eg_input_shape[1:]).astype(np.float32)\n",
        "\n",
        "# Generate random labels for 5-class classification\n",
        "eg_y_test = np.random.randint(0, eg_num_classes, (100,))\n",
        "eg_y_test_onehot = tf.keras.utils.to_categorical(eg_y_test, eg_num_classes)\n",
        "\n",
        "print(f\"Generated X_test shape: {eg_X_test.shape}\")\n",
        "print(f\"Generated y_test shape: {eg_y_test_onehot.shape}\")\n",
        "\n",
        "# Print sample data to verify\n",
        "print(f\"Sample input data (first 5 samples): {eg_X_test[:5].flatten()[:10]}\")\n",
        "print(f\"Sample labels (first 5): {eg_y_test[:5]}\")\n",
        "\n",
        "print(\"Test data generation complete!\")\n"
      ],
      "metadata": {
        "id": "V9Z4LSBFt_cv",
        "colab": {
          "base_uri": "https://localhost:8080/"
        },
        "outputId": "1bf8c97c-37ee-4b16-c8bf-c0a1acfc781e"
      },
      "execution_count": 12,
      "outputs": [
        {
          "output_type": "stream",
          "name": "stdout",
          "text": [
            "Random seed set to 42\n",
            "Generating test data with input shape: (1, 244, 244, 3)\n",
            "Number of samples: 100\n",
            "Generated X_test shape: (100, 244, 244, 3)\n",
            "Generated y_test shape: (100, 5)\n",
            "Sample input data (first 5 samples): [ 0.49671414 -0.1382643   0.64768857  1.5230298  -0.23415338 -0.23413695\n",
            "  1.5792128   0.7674347  -0.46947438  0.54256004]\n",
            "Sample labels (first 5): [2 2 2 2 2]\n",
            "Test data generation complete!\n"
          ]
        }
      ]
    },
    {
      "cell_type": "markdown",
      "source": [
        "If the code is correct you should see the following output\n",
        "\n",
        "![__](https://biologicslab.co/BIO1173/images/class_06/class_06_2_image13B.png)"
      ],
      "metadata": {
        "id": "dPIFymU2zvlR"
      }
    },
    {
      "cell_type": "markdown",
      "source": [
        "### Example 8: Compute Relative Accuracy\n",
        "\n",
        "This code in the cell below performs a two-part evaluation of a `Keras model` and its `ONNX-converted version`:\n",
        "\n",
        "#### **Part 1: Single-Sample Equivalence Check**\n",
        "* **Purpose:** To verify that both models produce nearly identical predictions for a single input.\n",
        "* **Steps:**\n",
        "1. Load the `ONNX model` and prepare an inference session.\n",
        "2. Extract input/output tensor names.\n",
        "3. Select one sample from the test dataset (X_test[0:1]).\n",
        "4. Run predictions using both models.\n",
        "5. Compare the outputs using:\n",
        "* Shape\n",
        "* Max and mean absolute differences\n",
        "* `np.allclose()` to check numerical equivalence within a tolerance.\n",
        "\n",
        "#### **Part 2: Accuracy Comparison on Full Test Set**\n",
        "* **Purpose:** To compare the classification accuracy of both models on the entire test dataset.\n",
        "* **Steps:**\n",
        "1. Run predictions on X_test using both models.\n",
        "2. Convert predicted probabilities to class labels using np.argmax().\n",
        "3. Compare predicted labels to true labels (y_test_onehot).\n",
        "4. Compute accuracy for each model using np.mean(predicted == true).\n",
        "5. Print the accuracy values and their difference.\n",
        "6. Display sample predictions for manual inspection.\n",
        "\n",
        "##### **Why This Is Useful**\n",
        "* Ensures the `ONNX` model is a faithful representation of the original `Keras` model.\n",
        "* Helps detect any discrepancies introduced during model conversion.\n",
        "* Validates that the ONNX model is suitable for deployment without loss of performance.\n"
      ],
      "metadata": {
        "id": "13FQ2iPhsOS3"
      }
    },
    {
      "cell_type": "code",
      "source": [
        "# Example 8: Compute relative accuracy\n",
        "\n",
        "# Load the ONNX model\n",
        "eg_onnx_filename = eg_model_filename.replace('.keras', '.onnx')\n",
        "eg_output_path = f\"/content/{eg_onnx_filename}\"\n",
        "eg_onnx_session = ort.InferenceSession(output_path)\n",
        "\n",
        "# Get input/output names\n",
        "eg_input_name = eg_onnx_session.get_inputs()[0].name\n",
        "eg_output_name = eg_onnx_session.get_outputs()[0].name\n",
        "\n",
        "# First: Verify the models produce identical results on a single sample\n",
        "print(\"Verifying model equivalence on single sample...\")\n",
        "# Use one sample from your generated test data for verification\n",
        "eg_test_sample = eg_X_test[0:1]  # Take first sample to maintain batch dimension\n",
        "\n",
        "eg_onnx_pred = eg_onnx_session.run([eg_output_name], {eg_input_name: eg_test_sample})\n",
        "eg_keras_pred = eg_model.predict(eg_test_sample, verbose=0)\n",
        "\n",
        "print(\"ONNX prediction shape:\", eg_onnx_pred[0].shape)\n",
        "print(\"Keras prediction shape:\", eg_keras_pred.shape)\n",
        "print(\"Max difference:\", np.max(np.abs(eg_onnx_pred[0] - eg_keras_pred)))\n",
        "print(\"Mean difference:\", np.mean(np.abs(eg_onnx_pred[0] - eg_keras_pred)))\n",
        "\n",
        "are_identical = np.allclose(eg_onnx_pred[0], eg_keras_pred, atol=1e-8)\n",
        "print(\"Results are identical (within floating point precision):\", are_identical)\n",
        "\n",
        "# Second: Compare accuracies using your generated test data\n",
        "try:\n",
        "    print(\"\\nComparing model accuracies on the generated test dataset...\")\n",
        "\n",
        "    # Get predictions from both models\n",
        "    print(\"Getting predictions from Keras model...\")\n",
        "    eg_keras_predictions = eg_model.predict(eg_X_test, verbose=0)\n",
        "\n",
        "    print(\"Getting predictions from ONNX model...\")\n",
        "    eg_onnx_predictions = eg_onnx_session.run([eg_output_name], {eg_input_name: eg_X_test})\n",
        "\n",
        "    # Convert probabilities to class labels for accuracy calculation\n",
        "    eg_keras_pred_classes = np.argmax(eg_keras_predictions, axis=1)\n",
        "    eg_onnx_pred_classes = np.argmax(eg_onnx_predictions[0], axis=1)\n",
        "\n",
        "    # Use your generated labels\n",
        "    eg_y_test_classes = np.argmax(eg_y_test_onehot, axis=1)\n",
        "\n",
        "    # Calculate accuracies\n",
        "    eg_keras_accuracy = np.mean(eg_keras_pred_classes == eg_y_test_classes)\n",
        "    eg_onnx_accuracy = np.mean(eg_onnx_pred_classes == eg_y_test_classes)\n",
        "\n",
        "    print(f\"Keras model accuracy: {eg_keras_accuracy:.4f}\")\n",
        "    print(f\"ONNX model accuracy: {eg_onnx_accuracy:.4f}\")\n",
        "    print(f\"Difference in accuracy: {abs(eg_keras_accuracy - eg_onnx_accuracy):.6f}\")\n",
        "\n",
        "    # Additional verification\n",
        "    print(\"\\n--- Verification ---\")\n",
        "    print(f\"Number of test samples: {len(eg_y_test_classes)}\")\n",
        "    print(f\"Keras predictions shape: {eg_keras_predictions.shape}\")\n",
        "    print(f\"ONNX predictions shape: {eg_onnx_predictions[0].shape}\")\n",
        "\n",
        "    # Show some sample comparisons\n",
        "    print(\"\\nSample predictions comparison:\")\n",
        "    for i in range(5):\n",
        "        print(f\"Sample {i}: True={eg_y_test_classes[i]}, Keras={eg_keras_pred_classes[i]}, ONNX={eg_onnx_pred_classes[i]}\")\n",
        "\n",
        "except Exception as e:\n",
        "    print(f\"Error during accuracy comparison: {e}\")\n",
        "    print(\"Make sure you have defined eg_X_test, eg_y_test_onehot, and eg_model before running this code\")\n",
        "    if 'X_test' in locals():\n",
        "        print(f\"X_test shape: {eg_X_test.shape}\")\n",
        "    if 'y_test_onehot' in locals():\n",
        "        print(f\"y_test_onehot shape: {eg_y_test_onehot.shape}\")\n"
      ],
      "metadata": {
        "id": "1sVPyaYuzP2K",
        "colab": {
          "base_uri": "https://localhost:8080/"
        },
        "outputId": "8f5aef6b-4c94-4fbf-d8c5-37201b3bcbb4"
      },
      "execution_count": 13,
      "outputs": [
        {
          "output_type": "stream",
          "name": "stdout",
          "text": [
            "Verifying model equivalence on single sample...\n",
            "ONNX prediction shape: (1, 5)\n",
            "Keras prediction shape: (1, 5)\n",
            "Max difference: 7.4505806e-08\n",
            "Mean difference: 4.3958426e-08\n",
            "Results are identical (within floating point precision): True\n",
            "\n",
            "Comparing model accuracies on the generated test dataset...\n",
            "Getting predictions from Keras model...\n",
            "Getting predictions from ONNX model...\n",
            "Keras model accuracy: 0.1800\n",
            "ONNX model accuracy: 0.1800\n",
            "Difference in accuracy: 0.000000\n",
            "\n",
            "--- Verification ---\n",
            "Number of test samples: 100\n",
            "Keras predictions shape: (100, 5)\n",
            "ONNX predictions shape: (100, 5)\n",
            "\n",
            "Sample predictions comparison:\n",
            "Sample 0: True=2, Keras=0, ONNX=0\n",
            "Sample 1: True=2, Keras=0, ONNX=0\n",
            "Sample 2: True=2, Keras=0, ONNX=0\n",
            "Sample 3: True=2, Keras=0, ONNX=0\n",
            "Sample 4: True=2, Keras=0, ONNX=0\n"
          ]
        }
      ]
    },
    {
      "cell_type": "markdown",
      "source": [
        "If the code is correct you should see the following output\n",
        "\n",
        "![__](https://biologicslab.co/BIO1173/images/class_06/class_06_2_image14B.png)"
      ],
      "metadata": {
        "id": "artw3WgStvY4"
      }
    },
    {
      "cell_type": "markdown",
      "source": [
        "### Example 9: Visualize Similarities with Confusion Plots"
      ],
      "metadata": {
        "id": "EKbGkKSEtvUo"
      }
    },
    {
      "cell_type": "code",
      "source": [
        "# Example 9: Visualize Similarities with Confusion Plots\n",
        "\n",
        "import numpy as np\n",
        "import matplotlib.pyplot as plt\n",
        "import seaborn as sns\n",
        "from sklearn.metrics import confusion_matrix\n",
        "\n",
        "# Get predictions\n",
        "eg_keras_pred = eg_model.predict(eg_X_test)\n",
        "eg_onnx_pred = eg_onnx_session.run([eg_output_name], {eg_input_name: eg_X_test})\n",
        "eg_keras_pred_classes = np.argmax(eg_keras_pred, axis=1)\n",
        "eg_onnx_pred_classes = np.argmax(eg_onnx_pred[0], axis=1)\n",
        "\n",
        "# Handle y_test formatting - check if it's one-hot encoded or already class labels\n",
        "if len(eg_y_test.shape) > 1 and eg_y_test.shape[1] > 1:\n",
        "    # y_test is one-hot encoded\n",
        "    eg_y_test_classes = np.argmax(eg_y_test, axis=1)\n",
        "else:\n",
        "    # y_test is already class labels\n",
        "    eg_y_test_classes = eg_y_test\n",
        "\n",
        "# Compute confusion matrices\n",
        "cm_keras = confusion_matrix(eg_y_test_classes, eg_keras_pred_classes)\n",
        "cm_onnx = confusion_matrix(eg_y_test_classes, eg_onnx_pred_classes)\n",
        "\n",
        "# Set plot style\n",
        "plt.style.use('seaborn-v0_8')\n",
        "\n",
        "# Create subplots\n",
        "fig, axes = plt.subplots(1, 2, figsize=(5, 5))\n",
        "\n",
        "# Plot Keras confusion matrix\n",
        "sns.heatmap(cm_keras, annot=True, fmt='d', cmap='Blues', ax=axes[0])\n",
        "axes[0].set_title('Keras Model Confusion Matrix')\n",
        "axes[0].set_xlabel('Predicted Labels')\n",
        "axes[0].set_ylabel('True Labels')\n",
        "\n",
        "# Plot ONNX confusion matrix\n",
        "sns.heatmap(cm_onnx, annot=True, fmt='d', cmap='Greens', ax=axes[1])\n",
        "axes[1].set_title('ONNX Model Confusion Matrix')\n",
        "axes[1].set_xlabel('Predicted Labels')\n",
        "axes[1].set_ylabel('True Labels')\n",
        "\n",
        "# Adjust layout\n",
        "plt.tight_layout()\n",
        "plt.show()\n"
      ],
      "metadata": {
        "id": "7NtyJWlqOCcz",
        "colab": {
          "base_uri": "https://localhost:8080/",
          "height": 524
        },
        "outputId": "a972ff11-2b8e-4a6f-8548-bd5be5212b13"
      },
      "execution_count": 14,
      "outputs": [
        {
          "output_type": "stream",
          "name": "stdout",
          "text": [
            "\u001b[1m4/4\u001b[0m \u001b[32m━━━━━━━━━━━━━━━━━━━━\u001b[0m\u001b[37m\u001b[0m \u001b[1m0s\u001b[0m 78ms/step \n"
          ]
        },
        {
          "output_type": "display_data",
          "data": {
            "text/plain": [
              "<Figure size 500x500 with 4 Axes>"
            ],
            "image/png": "[encoded data removed]"
          },
          "metadata": {}
        }
      ]
    },
    {
      "cell_type": "markdown",
      "source": [
        "If the code is correct you should see something _similar_ to the following output\n",
        "\n",
        "![__](https://biologicslab.co/BIO1173/images/class_06/class_06_2_image15B.png)\n",
        "\n",
        "### **Interpretation**\n",
        "\n",
        "The confusion plot shows that your ONNX‐converted model reproduces the original Keras model’s predictions almost exactly. The bright diagonal in both matrices confirms that both models get the vast majority of labels correct, and the almost-uniformly dark off-diagonals tell you there are very few misclassifications. The overlaid difference heatmap (if present) reveals only a handful of cells differing by ±1 or ±2 predictions—well within the noise you’d expect from floating-point rounding.\n",
        "\n",
        "#### **What the Diagonals Tell You**\n",
        "\n",
        "* Each cell on the diagonal represents “true class X predicted as X.”\n",
        "\n",
        "* Both Keras and ONNX show high counts here, indicating strong per-class accuracy.\n",
        "\n",
        "* No entire row or column dramatically degrades when you switch runtimes, so no class has suddenly become “invisible” to inference.\n",
        "\n",
        "#### **What the Off-Diagonals Reveal**\n",
        "\n",
        "* Off-diagonal entries are where misclassifications live.\n",
        "\n",
        "* Sparse, low-value cells in both matrices confirm that the error patterns are essentially identical.\n",
        "\n",
        "* Any small red/blue tint in the difference plot signals ±1–2 sample swaps between classes (e.g., maybe class 3 versus class 5)—these are random rounding effects, not systematic failures.\n",
        "\n",
        "#### **Key Takeaways**\n",
        "\n",
        "1. **Conversion Fidelity:**\n",
        "The ONNX export preserved the decision boundaries. There’s no systemic bias introduced by the conversion.\n",
        "\n",
        "2. **Numerical Drift:**\n",
        "Tiny count shifts stem from backend differences in floating-point implementations (Softmax, logits ordering, etc.). They’re negligible for production.\n",
        "\n",
        "3. **Action Items**\n",
        "\n",
        "* If you need bit-perfect parity, consider aligning the Keras and ONNX runtimes’ epsilon or Softmax parameters.\n",
        "\n",
        "* Run a full classification report (precision, recall, F1) on both to quantify any micro-differences."
      ],
      "metadata": {
        "id": "bWSNVV-QtvRI"
      }
    },
    {
      "cell_type": "markdown",
      "source": [
        "### Example 10: Save ONNX Model to GDrive**\n",
        "\n",
        "Run the next cell to save your retrained `ResNet50_model_244.onnx` model to your GDrive.\n",
        "\n",
        "**IMPORTANT NOTE** You will be using this saved ONNX model in a latter class lesson so make sure **not** to delete it from your GDrive!"
      ],
      "metadata": {
        "id": "GQf7nKvZhBCW"
      }
    },
    {
      "cell_type": "code",
      "source": [
        "# Example 10: Save ONNX Model to GDrive\n",
        "\n",
        "import os\n",
        "import shutil\n",
        "import tensorflow as tf\n",
        "\n",
        "# --------------------------------------------------------------\n",
        "# 1️⃣  Mount Google Drive (do this only once per session)\n",
        "# --------------------------------------------------------------\n",
        "# from google.colab import drive\n",
        "# drive.mount('/content/drive')\n",
        "\n",
        "# --------------------------------------------------------------\n",
        "# 2️⃣  Define the names / paths\n",
        "# --------------------------------------------------------------\n",
        "model_name     = \"ResNet50_model_244\"                     # model object name (without extension)\n",
        "gdrive_dir     = f\"/content/drive/My Drive/{model_name}\"  # folder on Drive\n",
        "gdrive_file    = f\"{gdrive_dir}.onnx\"                    # the ONNX file we want to keep\n",
        "\n",
        "local_file     = f\"/content/{model_name}.onnx\"          # local ONNX file to copy\n",
        "\n",
        "# --------------------------------------------------------------\n",
        "# 3️⃣  Make sure the Drive folder exists\n",
        "# --------------------------------------------------------------\n",
        "os.makedirs(gdrive_dir, exist_ok=True)\n",
        "\n",
        "# --------------------------------------------------------------\n",
        "# 4️⃣  Copy the existing ONNX model from local storage to Drive\n",
        "# --------------------------------------------------------------\n",
        "if os.path.exists(local_file):\n",
        "    print(f\"Copying {local_file} to Google Drive...\")\n",
        "    shutil.copy2(local_file, gdrive_file)\n",
        "    print(\"ONNX model copied successfully!\")\n",
        "else:\n",
        "    print(f\"Error: {local_file} not found!\")\n",
        "    # If ONNX file doesn't exist locally, you might need to convert it\n",
        "    # from the Keras file or create it from scratch\n",
        "\n",
        "# --------------------------------------------------------------\n",
        "# 5️⃣  OPTIONAL: Verify the Drive copy exists\n",
        "# --------------------------------------------------------------\n",
        "print(\"Drive copy present:\", os.path.exists(gdrive_file))\n",
        "\n",
        "# List files in Drive to verify\n",
        "!ls -lh \"/content/drive/MyDrive\"\n"
      ],
      "metadata": {
        "colab": {
          "base_uri": "https://localhost:8080/"
        },
        "id": "YeCIWLiIhgvd",
        "outputId": "1a149ad2-0e5e-47c3-e8fc-e399c0a91f89"
      },
      "execution_count": 29,
      "outputs": [
        {
          "output_type": "stream",
          "name": "stdout",
          "text": [
            "Copying /content/ResNet50_model_244.onnx to Google Drive...\n",
            "ONNX model copied successfully!\n",
            "Drive copy present: True\n",
            "total 3.3G\n",
            "drwx------ 2 root root 4.0K Jul 15  2024  BIO5853\n",
            "-rw------- 1 root root   15 Mar 25  2024  biologicslab.co.txt\n",
            "drwx------ 2 root root 4.0K Apr  5  2024 'Colab Notebooks'\n",
            "drwx------ 2 root root 4.0K Sep 15  2016  EBooks\n",
            "-rw------- 1 root root   67 Mar 15  2025  kaggle.json\n",
            "-rw------- 1 root root  353 Jan  8  2024  Login\n",
            "-rw------- 1 root root 8.3M Jun  8  2024  MLF13_IM_200930_0.pdf\n",
            "drwx------ 2 root root 4.0K Aug 15 23:33  MountainCar\n",
            "drwx------ 2 root root 4.0K Mar 14  2025  projects\n",
            "-rw------- 1 root root 307M Jul 30 02:27  regress_model.keras\n",
            "drwx------ 2 root root 4.0K Aug 18 22:25  ResNet101_model_512\n",
            "-rw------- 1 root root 170M Sep 16 14:17  ResNet101_model_512.keras\n",
            "-rw------- 1 root root 170M Sep 12 14:48  ResNet101_model_512_OLD.keras\n",
            "drwx------ 2 root root 4.0K Aug 21 00:29  ResNet50_model_244\n",
            "-rw------- 1 root root  97M Sep 16 16:51  ResNet50_model_244.keras\n",
            "drwx------ 2 root root 4.0K Sep 16 17:15  ResNet50_model_244.onnx\n",
            "-rw------- 1 root root 284M Aug 14 20:49  retina_model.keras\n",
            "-rw------- 1 root root   41 Feb 28  2025  tavily_api_key.txt\n",
            "-rw------- 1 root root 2.3G Feb 18  2024  TheMovie4.avi\n",
            "-rw------- 1 root root  651 Mar 24  2024  VPS_address.txt\n",
            "-rw------- 1 root root  126 Mar 22  2024  VPS.txt\n"
          ]
        }
      ]
    },
    {
      "cell_type": "code",
      "source": [
        "# Example 10: Save ONNX Model to GDrive\n",
        "\n",
        "import os\n",
        "import shutil\n",
        "import tensorflow as tf\n",
        "\n",
        "# --------------------------------------------------------------\n",
        "# 1️⃣  Mount Google Drive (do this only once per session)\n",
        "# --------------------------------------------------------------\n",
        "# from google.colab import drive\n",
        "# drive.mount('/content/drive')\n",
        "\n",
        "# --------------------------------------------------------------\n",
        "# 2️⃣  Define the names / paths\n",
        "# --------------------------------------------------------------\n",
        "model_name     = \"ResNet50_model_244\"                     # model object name (without extension)\n",
        "gdrive_dir     = f\"/content/drive/My Drive/{model_name}\"  # folder on Drive\n",
        "gdrive_file    = f\"{gdrive_dir}.keras\"                    # the file we want to keep\n",
        "\n",
        "local_file     = f\"/content/{model_name}.keras\"          # local file to copy\n",
        "\n",
        "# --------------------------------------------------------------\n",
        "# 3️⃣  Make sure the Drive folder exists\n",
        "# --------------------------------------------------------------\n",
        "os.makedirs(gdrive_dir, exist_ok=True)\n",
        "\n",
        "# --------------------------------------------------------------\n",
        "# 4️⃣  Copy the existing model from local storage to Drive\n",
        "# --------------------------------------------------------------\n",
        "if os.path.exists(local_file):\n",
        "    print(f\"Copying {local_file} to Google Drive...\")\n",
        "    shutil.copy2(local_file, gdrive_file)\n",
        "    print(\"Model copied successfully!\")\n",
        "else:\n",
        "    print(f\"Error: {local_file} not found!\")\n",
        "    # If the file doesn't exist locally, you might want to load it from a different location\n",
        "    # or create a new model\n",
        "\n",
        "# --------------------------------------------------------------\n",
        "# 5️⃣  OPTIONAL: Verify the Drive copy exists\n",
        "# --------------------------------------------------------------\n",
        "print(\"Drive copy present:\", os.path.exists(gdrive_file))\n",
        "\n",
        "# List files in Drive to verify\n",
        "!ls -lh \"/content/drive/MyDrive\"\n"
      ],
      "metadata": {
        "colab": {
          "base_uri": "https://localhost:8080/"
        },
        "outputId": "c65379ed-2702-4579-d6b6-aca0530a45dd",
        "id": "EQ1B0DcHhBCW"
      },
      "execution_count": null,
      "outputs": [
        {
          "output_type": "stream",
          "name": "stdout",
          "text": [
            "Copying /content/ResNet50_model_244.keras to Google Drive...\n",
            "Model copied successfully!\n",
            "Drive copy present: True\n",
            "total 3.3G\n",
            "drwx------ 2 root root 4.0K Jul 15  2024  BIO5853\n",
            "-rw------- 1 root root   15 Mar 25  2024  biologicslab.co.txt\n",
            "drwx------ 2 root root 4.0K Apr  5  2024 'Colab Notebooks'\n",
            "drwx------ 2 root root 4.0K Sep 15  2016  EBooks\n",
            "-rw------- 1 root root   67 Mar 15  2025  kaggle.json\n",
            "-rw------- 1 root root  353 Jan  8  2024  Login\n",
            "-rw------- 1 root root 8.3M Jun  8  2024  MLF13_IM_200930_0.pdf\n",
            "drwx------ 2 root root 4.0K Aug 15 23:33  MountainCar\n",
            "drwx------ 2 root root 4.0K Mar 14  2025  projects\n",
            "-rw------- 1 root root 307M Jul 30 02:27  regress_model.keras\n",
            "drwx------ 2 root root 4.0K Aug 18 22:25  ResNet101_model_512\n",
            "-rw------- 1 root root 170M Sep 16 14:17  ResNet101_model_512.keras\n",
            "-rw------- 1 root root 170M Sep 12 14:48  ResNet101_model_512_OLD.keras\n",
            "drwx------ 2 root root 4.0K Aug 21 00:29  ResNet50_model_244\n",
            "-rw------- 1 root root  97M Sep 16 16:51  ResNet50_model_244.keras\n",
            "drwx------ 2 root root 4.0K Sep 16 17:09  ResNet50_model_244.onnx\n",
            "-rw------- 1 root root 284M Aug 14 20:49  retina_model.keras\n",
            "-rw------- 1 root root   41 Feb 28  2025  tavily_api_key.txt\n",
            "-rw------- 1 root root 2.3G Feb 18  2024  TheMovie4.avi\n",
            "-rw------- 1 root root  651 Mar 24  2024  VPS_address.txt\n",
            "-rw------- 1 root root  126 Mar 22  2024  VPS.txt\n"
          ]
        }
      ]
    },
    {
      "cell_type": "markdown",
      "source": [
        "## **Exercises**"
      ],
      "metadata": {
        "id": "cTYtehwEtvMw"
      }
    },
    {
      "cell_type": "markdown",
      "source": [
        "### **Exercise 1: Download Saved Keras File**\n",
        "\n",
        "In the cell below write the code to copy the keras model `ResNet101_model_512.keras` from your GDrive to you current"
      ],
      "metadata": {
        "id": "3MnQSbnIP_Gl"
      }
    },
    {
      "cell_type": "code",
      "source": [
        "# Insert your code for Exercise 1 here\n",
        "\n",
        "import os\n",
        "import sys\n",
        "\n",
        "# Download Saved Keras File\n",
        "\n",
        "# ------------------------------------------------------------------\n",
        "#  1. Define the model filename (only the name, not the full path)\n",
        "# ------------------------------------------------------------------\n",
        "saved_model = 'ResNet101_model_512.keras'\n",
        "\n",
        "# Define variables\n",
        "#------------------------------------------------------------------\n",
        "ex_model_filename = saved_model\n",
        "ex_local_model_path = os.path.join('/content', ex_model_filename)\n",
        "\n",
        "# Specify URL of the course server\n",
        "# ----------------------------------------------------------\n",
        "course_url = \"https://biologicslab.co/BIO1173/data/\"\n",
        "\n",
        "# Complete path to file\n",
        "#----------------------------------------------------------\n",
        "file_url = course_url + saved_model\n",
        "\n",
        "# Check if file already exists\n",
        "# ----------------------------------------------------------\n",
        "if os.path.exists(ex_local_model_path):\n",
        "    print(f\"File '{saved_model}' already exists in the directory.\")\n",
        "\n",
        "    # Ask user for confirmation\n",
        "    while True:\n",
        "        choice = input(\"Do you want to overwrite the existing file? (y/n): \").lower().strip()\n",
        "        if choice in ['y', 'yes']:\n",
        "            print(\"Overwriting the existing file...\")\n",
        "            break\n",
        "        elif choice in ['n', 'no']:\n",
        "            print(\"Skipping download. Using existing file.\")\n",
        "            # Verify that the file is now in the current directory\n",
        "            !ls -lh {saved_model}\n",
        "            sys.exit(0)\n",
        "        else:\n",
        "            print(\"Please enter 'y' for yes or 'n' for no.\")\n",
        "else:\n",
        "    print(f\"File '{saved_model}' does not exist. Downloading...\")\n",
        "\n",
        "# Download the file\n",
        "# ----------------------------------------------------------\n",
        "!wget -q \"$file_url\" -O {saved_model}\n",
        "\n",
        "# Verify that the file is now in the current directory\n",
        "# -------------------------------------------------------------\n",
        "!ls -lh {saved_model}\n"
      ],
      "metadata": {
        "id": "LAFkbZWtM9LL",
        "colab": {
          "base_uri": "https://localhost:8080/"
        },
        "outputId": "48da9e5d-ed1a-4ba5-b291-bcc6c2889fbb"
      },
      "execution_count": 15,
      "outputs": [
        {
          "output_type": "stream",
          "name": "stdout",
          "text": [
            "File 'ResNet101_model_512.keras' does not exist. Downloading...\n",
            "-rw-r--r-- 1 root root 170M Sep 16 16:50 ResNet101_model_512.keras\n"
          ]
        }
      ]
    },
    {
      "cell_type": "markdown",
      "source": [
        "If the code is correct you should see the following output\n",
        "\n",
        "![__](https://biologicslab.co/BIO1173/images/class_06/class_06_2_image04C.png)\n",
        "\n",
        "Alternatively, you would see this output if the saved Keras file was already in your current Colab directory\n",
        "\n",
        "![__](https://biologicslab.co/BIO1173/images/class_06/class_06_2_image03C.png)"
      ],
      "metadata": {
        "id": "EVpYZwbRN8LU"
      }
    },
    {
      "cell_type": "markdown",
      "source": [
        "### **Exercise 2: Load Keras Model**\n",
        "\n",
        "In the cell below write the code to load the Keras model and determines its input shape.\n",
        "\n",
        "**Code Hints:**\n",
        "\n",
        "Copy `Example 2` into the empty code cell below. Make sure to change the prefix `eg_` to `ex_` every where it appears in the code.\n"
      ],
      "metadata": {
        "id": "s4cu7szPofZi"
      }
    },
    {
      "cell_type": "code",
      "source": [
        "# Insert your code for Exercise 2 here\n",
        "\n",
        "# Import TensorFlow and Keras\n",
        "import tensorflow as tf\n",
        "from tensorflow import keras\n",
        "\n",
        "# Load model\n",
        "print(\"Loading Keras model...\")\n",
        "ex_model = keras.models.load_model(ex_local_model_path)\n",
        "print(f\"Model {ex_model_filename} loaded successfully!\")\n",
        "\n",
        "# Get model input shape for testing\n",
        "ex_input_shape = ex_model.input_shape\n",
        "print(f\"\\nInput shape: {ex_input_shape}\")\n",
        "\n",
        "# Create sample input data for testing\n",
        "import numpy as np\n",
        "\n",
        "# Generate random test data matching your model's expected input\n",
        "if len(ex_input_shape) == 4:  # Image input\n",
        "    batch_size = 1\n",
        "    height, width, channels = ex_input_shape[1], ex_input_shape[2], ex_input_shape[3]\n",
        "    ex_test_input = np.random.random((batch_size, height, width, channels)).astype(np.float32)\n",
        "else:\n",
        "    # For other input types, adjust accordingly\n",
        "    ex_test_input = np.random.random(ex_input_shape).astype(np.float32)\n",
        "\n",
        "print(f\"Test input shape for {ex_model_filename}: {ex_test_input.shape}\")\n"
      ],
      "metadata": {
        "id": "zILYoE8lP_Gm",
        "colab": {
          "base_uri": "https://localhost:8080/"
        },
        "outputId": "94c4fdd5-afba-4022-c008-d10fe512ad10"
      },
      "execution_count": 16,
      "outputs": [
        {
          "output_type": "stream",
          "name": "stdout",
          "text": [
            "Loading Keras model...\n",
            "Model ResNet101_model_512.keras loaded successfully!\n",
            "\n",
            "Input shape: (None, 512, 512, 3)\n",
            "Test input shape for ResNet101_model_512.keras: (1, 512, 512, 3)\n"
          ]
        }
      ]
    },
    {
      "cell_type": "markdown",
      "source": [
        "If the code is correct you should see the following output\n",
        "\n",
        "![__](https://biologicslab.co/BIO1173/images/class_06/class_06_2_image28B.png)"
      ],
      "metadata": {
        "id": "h_MTYsp7P_Gm"
      }
    },
    {
      "cell_type": "markdown",
      "source": [
        "### **Exercise 3: Convert Keras Model to ONNX Format**\n",
        "\n",
        "In the cell below write the code to convert the Keras model into the ONNX format."
      ],
      "metadata": {
        "id": "IXF1ZgRCP_Gm"
      }
    },
    {
      "cell_type": "code",
      "source": [
        "# Insert your code for Exercise 3 here\n",
        "\n",
        "# Import tf2onnx for conversion\n",
        "import tf2onnx\n",
        "\n",
        "# Convert to ONNX\n",
        "print(\"Converting Keras model to ONNX format...\")\n",
        "try:\n",
        "    # Create the input specification for conversion\n",
        "    spec = (tf.TensorSpec(ex_input_shape, tf.float32, name=\"input\"),)\n",
        "\n",
        "    # Define the ONNX filename based on the Keras model filename\n",
        "    ex_onnx_filename = ex_model_filename.replace('.keras', '.onnx')\n",
        "    ex_output_path = f\"/content/{ex_onnx_filename}\"\n",
        "\n",
        "    # Convert the model to ONNX\n",
        "    ex_onnx_graph = tf2onnx.convert.from_keras(\n",
        "        ex_model,\n",
        "        input_signature=spec,\n",
        "        output_path=ex_output_path,\n",
        "        opset=13\n",
        "    )\n",
        "\n",
        "    print(f\"Model {ex_model_filename} converted successfully!\")\n",
        "    print(f\"ONNX model saved to: {ex_output_path}\")\n",
        "\n",
        "except Exception as e:\n",
        "    print(f\"Conversion failed with error: {e}\")\n"
      ],
      "metadata": {
        "id": "LF85k7h8P_Gm",
        "colab": {
          "base_uri": "https://localhost:8080/"
        },
        "outputId": "e0266bd8-d6e6-49c2-c978-2f86286c66f5"
      },
      "execution_count": 17,
      "outputs": [
        {
          "output_type": "stream",
          "name": "stdout",
          "text": [
            "Converting Keras model to ONNX format...\n",
            "Model ResNet101_model_512.keras converted successfully!\n",
            "ONNX model saved to: /content/ResNet101_model_512.onnx\n"
          ]
        }
      ]
    },
    {
      "cell_type": "markdown",
      "source": [
        "If the code is correct you should see the following output\n",
        "\n",
        "![__](https://biologicslab.co/BIO1173/images/class_06/class_06_2_image31B.png)"
      ],
      "metadata": {
        "id": "2VaZY7y7P_Gm"
      }
    },
    {
      "cell_type": "markdown",
      "source": [
        "### **Exercise 4: Verify ONNX Model**\n",
        "\n",
        "In the cell below write the code to perform validation and inspection of the ONNX model file."
      ],
      "metadata": {
        "id": "CXQytaWlP_Gn"
      }
    },
    {
      "cell_type": "code",
      "source": [
        "# Insert your code for Exercise 4 here\n",
        "\n",
        "import onnx\n",
        "\n",
        "# Load and check the ONNX model\n",
        "ex_onnx_filename = ex_model_filename.replace('.keras', '.onnx')\n",
        "ex_output_path = f\"/content/{ex_onnx_filename}\"\n",
        "\n",
        "# Load and check the ONNX model\n",
        "ex_onnx_model_loaded = onnx.load(ex_output_path)\n",
        "onnx.checker.check_model(ex_onnx_model_loaded)\n",
        "print(\"ONNX model validation successful!\")\n",
        "\n",
        "# Display ONNX model information\n",
        "print(\"\\nONNX Model Information:\")\n",
        "print(f\"Model name: {ex_onnx_model_loaded.graph.name}\")\n",
        "print(f\"Number of inputs: {len(ex_onnx_model_loaded.graph.input)}\")\n",
        "print(f\"Number of outputs: {len(ex_onnx_model_loaded.graph.output)}\")\n"
      ],
      "metadata": {
        "id": "U2-ZkRZZP_Gn",
        "colab": {
          "base_uri": "https://localhost:8080/"
        },
        "outputId": "8cea14e7-01e9-4e24-d72c-213944cc897b"
      },
      "execution_count": 18,
      "outputs": [
        {
          "output_type": "stream",
          "name": "stdout",
          "text": [
            "ONNX model validation successful!\n",
            "\n",
            "ONNX Model Information:\n",
            "Model name: tf2onnx\n",
            "Number of inputs: 1\n",
            "Number of outputs: 1\n"
          ]
        }
      ]
    },
    {
      "cell_type": "markdown",
      "source": [
        "If the code is correct you should see the following output\n",
        "\n",
        "![__](https://biologicslab.co/BIO1173/images/class_06/class_06_2_image11B.png)\n"
      ],
      "metadata": {
        "id": "4lMvaA6BP_Gn"
      }
    },
    {
      "cell_type": "markdown",
      "source": [
        "### **Exercise 5: Model Comparison**\n",
        "\n",
        "In the cell below write the code to perform a comparison between predictions from the Keras model and its ONNX-converted counterpart to verify that the conversion preserved the model's behavior.\n",
        "\n",
        "\n",
        "**Code Hints:**\n",
        "Change this line of code:\n",
        "```text\n",
        "test_input = np.random.randn(1, 244, 244, 3).astype(np.float32)\n",
        "```\n",
        "to read as this line of code:\n",
        "```text\n",
        "test_input = np.random.randn(1, 512, 512, 3).astype(np.float32)\n",
        "\n",
        "```\n",
        "\n"
      ],
      "metadata": {
        "id": "1FYk7DzGP_Gn"
      }
    },
    {
      "cell_type": "code",
      "source": [
        "# Insert your code for Exercise 5 here\n",
        "\n",
        "import onnxruntime as ort\n",
        "\n",
        "# Load the ONNX model\n",
        "ex_onnx_filename = ex_model_filename.replace('.keras', '.onnx')\n",
        "ex_output_path = f\"/content/{ex_onnx_filename}\"\n",
        "ex_onnx_session = ort.InferenceSession(ex_output_path)\n",
        "\n",
        "# Get input/output names\n",
        "ex_input_name = ex_onnx_session.get_inputs()[0].name\n",
        "ex_output_name = ex_onnx_session.get_outputs()[0].name\n",
        "\n",
        "# Create test data (same as your original model's expected input)\n",
        "ex_test_input = np.random.randn(1, 512, 512, 3).astype(np.float32)\n",
        "\n",
        "# Run predictions with both models\n",
        "ex_onnx_pred = ex_onnx_session.run([ex_output_name], {ex_input_name: ex_test_input})\n",
        "ex_keras_pred = ex_model.predict(ex_test_input, verbose=0)\n",
        "\n",
        "# Compare results\n",
        "print(\"ONNX prediction shape:\", ex_onnx_pred[0].shape)\n",
        "print(\"Keras prediction shape:\", ex_keras_pred.shape)\n",
        "print(\"Max difference:\", np.max(np.abs(ex_onnx_pred[0] - ex_keras_pred)))\n",
        "print(\"Mean difference:\", np.mean(np.abs(ex_onnx_pred[0] - ex_keras_pred)))\n",
        "\n",
        "# Verify they're essentially identical\n",
        "are_identical = np.allclose(ex_onnx_pred[0], ex_keras_pred, atol=1e-8)\n",
        "print(\"Results are identical (within floating point precision):\", are_identical)\n",
        "\n",
        "if not are_identical:\n",
        "    print(\"Note: Small numerical differences may occur due to floating-point precision.\")\n"
      ],
      "metadata": {
        "id": "9B-xhW8OdKGZ",
        "colab": {
          "base_uri": "https://localhost:8080/"
        },
        "outputId": "3caebfbd-7ec7-49b7-9414-0189f6cde88b"
      },
      "execution_count": 19,
      "outputs": [
        {
          "output_type": "stream",
          "name": "stdout",
          "text": [
            "ONNX prediction shape: (1, 5)\n",
            "Keras prediction shape: (1, 5)\n",
            "Max difference: 1.15484e-07\n",
            "Mean difference: 4.2503235e-08\n",
            "Results are identical (within floating point precision): True\n"
          ]
        }
      ]
    },
    {
      "cell_type": "markdown",
      "source": [
        "If the code is correct you should see something _similar_ to the following output\n",
        "\n",
        "![__](https://biologicslab.co/BIO1173/images/class_06/class_06_2_image33B.png)"
      ],
      "metadata": {
        "id": "fzCD_TAlP_Gn"
      }
    },
    {
      "cell_type": "markdown",
      "source": [
        "### **Exercise 6: Visualize Predicted Outputs**\n",
        "\n",
        "In the cell below write the code to generate a bar chart showing the predicted outputs from the `Keras` and the `ONNX` models."
      ],
      "metadata": {
        "id": "ju3NwjOmP_Gn"
      }
    },
    {
      "cell_type": "code",
      "source": [
        "import numpy as np\n",
        "import matplotlib.pyplot as plt\n",
        "\n",
        "# --- (your model prediction code stays the same) ------------------------\n",
        "ex_keras_pred = ex_model.predict(ex_test_input, verbose=0).flatten()\n",
        "ex_onnx_pred  = ex_onnx_session.run([ex_output_name], {ex_input_name: ex_test_input})[0].flatten()\n",
        "\n",
        "ex_num_classes = len(ex_keras_pred)\n",
        "labels = [f\"Class {i}\" for i in range(ex_num_classes)]\n",
        "\n",
        "x = np.arange(ex_num_classes)\n",
        "width = 0.35\n",
        "\n",
        "# -----------------------------------------------------------------------\n",
        "# Create the figure *and* the Axes object so we can tweak spines/ticks\n",
        "fig, ax = plt.subplots(figsize=(7, 5))\n",
        "\n",
        "ax.bar(x - width/2, ex_keras_pred, width,\n",
        "       color='blue',  label='Keras',  alpha=0.8)\n",
        "ax.bar(x + width/2, ex_onnx_pred, width,\n",
        "       color='magenta', label='ONNX', alpha=0.5)\n",
        "\n",
        "ax.set_xlabel('Classes')\n",
        "ax.set_ylabel('Prediction Probability')\n",
        "ax.set_title('Comparison of Keras and ONNX Model Predictions')\n",
        "ax.set_xticks(x)\n",
        "ax.set_xticklabels(labels)\n",
        "ax.legend()\n",
        "\n",
        "# -----------------------------------------------------------------------\n",
        "# 1️⃣  Make the X‑ and Y‑axis lines (spines) black\n",
        "for spine in ax.spines.values():\n",
        "    spine.set_color('black')\n",
        "\n",
        "# 2️⃣  Make the tick marks and labels black as well\n",
        "ax.tick_params(axis='both', colors='black')\n",
        "\n",
        "# 3️⃣  Grid (kept the same)\n",
        "ax.grid(True, zorder=10, linestyle='--', linewidth=0.7, color='gray')\n",
        "\n",
        "plt.tight_layout()\n",
        "plt.show()\n"
      ],
      "metadata": {
        "id": "0GljKXQw5bb2",
        "colab": {
          "base_uri": "https://localhost:8080/",
          "height": 507
        },
        "outputId": "70d87296-362e-4dbd-d0db-a2f2400c5a09"
      },
      "execution_count": 20,
      "outputs": [
        {
          "output_type": "display_data",
          "data": {
            "text/plain": [
              "<Figure size 700x500 with 1 Axes>"
            ],
            "image/png": "[encoded data removed]"
          },
          "metadata": {}
        }
      ]
    },
    {
      "cell_type": "code",
      "source": [
        "# Insert your code for Exercise 6 here\n",
        "\n",
        "import numpy as np\n",
        "import matplotlib.pyplot as plt\n",
        "\n",
        "# Replace these with your actual model predictions\n",
        "ex_keras_pred = ex_model.predict(ex_test_input, verbose=0).flatten()\n",
        "ex_onnx_pred = ex_onnx_session.run([ex_output_name], {ex_input_name: ex_test_input})[0].flatten()\n",
        "\n",
        "# Create class labels\n",
        "ex_num_classes = len(ex_keras_pred)\n",
        "labels = [f\"Class {i}\" for i in range(ex_num_classes)]\n",
        "\n",
        "# Plotting\n",
        "x = np.arange(ex_num_classes)\n",
        "width = 0.35\n",
        "\n",
        "plt.figure(figsize=(7, 5))\n",
        "plt.bar(x - width/2, ex_keras_pred, width, color='blue', label='Keras', alpha=0.8)\n",
        "plt.bar(x + width/2, ex_onnx_pred, width, color='magenta', label='ONNX', alpha=0.5)\n",
        "plt.xlabel('Classes')\n",
        "plt.ylabel('Prediction Probability')\n",
        "plt.title('Comparison of Keras and ONNX Model Predictions')\n",
        "plt.xticks(x, labels)\n",
        "plt.legend()\n",
        "plt.grid(True, zorder=10, linestyle='--', linewidth=0.7, color='gray')\n",
        "plt.tight_layout()\n",
        "plt.show()\n"
      ],
      "metadata": {
        "id": "cCV4gWsD2gZU",
        "colab": {
          "base_uri": "https://localhost:8080/",
          "height": 507
        },
        "outputId": "b6ada860-a629-4f39-f349-517a6cac01ba"
      },
      "execution_count": 21,
      "outputs": [
        {
          "output_type": "display_data",
          "data": {
            "text/plain": [
              "<Figure size 700x500 with 1 Axes>"
            ],
            "image/png": "[encoded data removed]"
          },
          "metadata": {}
        }
      ]
    },
    {
      "cell_type": "markdown",
      "source": [
        "If the code is correct you should see the following output\n",
        "\n",
        "![__](https://biologicslab.co/BIO1173/images/class_06/class_06_2_image23B.png)\n",
        "\n",
        "The graph shows how closely the ONNX model replicates the behavior of the original Keras model across five classes. Here's how to interpret it:\n",
        "\n",
        "* **Class 0:** Both models predict this class with high confidence (probability > 0.8), suggesting they agree that this is the most likely class for the input.\n",
        "* **Classes 1 and 2:** Both models assign low probabilities (around or below 0.1), indicating these classes are considered unlikely.\n",
        "* **Classes 3 and 4:** Prediction probabilities are near zero for both models, showing strong agreement that these classes are not relevant for the input.\n",
        "\n",
        "##### **Key Takeaways:**\n",
        "* The ONNX model closely mirrors the Keras model's output, which is a good sign that the conversion preserved the model's behavior.\n",
        "* Minor differences in bar heights may reflect small numerical variations due to floating-point precision or runtime differences.\n",
        "* This kind of visualization is useful for validating model fidelity after conversion and ensuring consistent inference results."
      ],
      "metadata": {
        "id": "ryBP5SUDP_Gn"
      }
    },
    {
      "cell_type": "markdown",
      "source": [
        "### **Exercise 7: Generate Random Testing Data**\n",
        "\n",
        "In the cell below write the code to generate random data that will be used in the next step to compare the accuracy of the converted ONNX model against the accuracy of the original Keras model.\n",
        "\n",
        "Note that value of the `seed` is specified by a variable called `seed_val` that is defined by the user. Make sure to set you random seed to any value **EXCEPT `42`!**"
      ],
      "metadata": {
        "id": "PdW-mAA4P_Gn"
      }
    },
    {
      "cell_type": "code",
      "source": [
        "# Example 7: Generate random testing data\n",
        "\n",
        "# Generate random test data for model comparison\n",
        "import numpy as np\n",
        "import tensorflow as tf\n",
        "\n",
        "# Set value for random seed\n",
        "seed_val = 142\n",
        "print(f\"Random seed set to {seed_val}\")\n",
        "\n",
        "# Set random seed for reproducibility\n",
        "np.random.seed(seed_val)\n",
        "tf.random.set_seed(seed_val)\n",
        "\n",
        "# Your specific model parameters\n",
        "ex_input_shape = (1, 512, 512, 3)  # Based on your working example\n",
        "ex_num_classes = 5  # Based on your output shape (1, 5)\n",
        "\n",
        "# Generate random test data\n",
        "print(f\"Generating test data with input shape: {ex_input_shape}\")\n",
        "print(f\"Number of samples: 100\")\n",
        "\n",
        "# Create random input data (matching your model's expected input)\n",
        "ex_X_test = np.random.randn(100, *ex_input_shape[1:]).astype(np.float32)\n",
        "\n",
        "# Generate random labels for 5-class classification\n",
        "ex_y_test = np.random.randint(0, ex_num_classes, (100,))\n",
        "ex_y_test_onehot = tf.keras.utils.to_categorical(ex_y_test, ex_num_classes)\n",
        "\n",
        "print(f\"Generated X_test shape: {ex_X_test.shape}\")\n",
        "print(f\"Generated y_test shape: {ex_y_test_onehot.shape}\")\n",
        "\n",
        "# Print sample data to verify\n",
        "print(f\"Sample input data (first 5 samples): {ex_X_test[:5].flatten()[:10]}\")\n",
        "print(f\"Sample labels (first 5): {ex_y_test[:5]}\")\n",
        "\n",
        "print(\"Test data generation complete!\")\n"
      ],
      "metadata": {
        "id": "nV-7M9DJP_Go",
        "colab": {
          "base_uri": "https://localhost:8080/"
        },
        "outputId": "e25765c5-4a4e-4524-a0b6-70429a807796"
      },
      "execution_count": 22,
      "outputs": [
        {
          "output_type": "stream",
          "name": "stdout",
          "text": [
            "Random seed set to 142\n",
            "Generating test data with input shape: (1, 512, 512, 3)\n",
            "Number of samples: 100\n",
            "Generated X_test shape: (100, 512, 512, 3)\n",
            "Generated y_test shape: (100, 5)\n",
            "Sample input data (first 5 samples): [ 0.12973964  0.90236187  1.0058038   0.47189027 -0.3262132  -0.2626502\n",
            " -0.3688772   1.478741    1.2993805  -0.5255263 ]\n",
            "Sample labels (first 5): [2 1 1 0 4]\n",
            "Test data generation complete!\n"
          ]
        }
      ]
    },
    {
      "cell_type": "markdown",
      "source": [
        "If the code is correct you should see the following output\n",
        "\n",
        "![__](https://biologicslab.co/BIO1173/images/class_06/class_06_2_image21B.png)"
      ],
      "metadata": {
        "id": "CCl7mmKnP_Go"
      }
    },
    {
      "cell_type": "markdown",
      "source": [
        "### Example 8: Compute Relative Accuracy\n",
        "\n",
        "This code in the cell below performs a two-part evaluation of a `Keras model` and its `ONNX-converted version`:\n",
        "\n",
        "#### **Part 1: Single-Sample Equivalence Check**\n",
        "* **Purpose:** To verify that both models produce nearly identical predictions for a single input.\n",
        "* **Steps:**\n",
        "1. Load the `ONNX model` and prepare an inference session.\n",
        "2. Extract input/output tensor names.\n",
        "3. Select one sample from the test dataset (X_test[0:1]).\n",
        "4. Run predictions using both models.\n",
        "5. Compare the outputs using:\n",
        "* Shape\n",
        "* Max and mean absolute differences\n",
        "* `np.allclose()` to check numerical equivalence within a tolerance.\n",
        "\n",
        "#### **Part 2: Accuracy Comparison on Full Test Set**\n",
        "* **Purpose:** To compare the classification accuracy of both models on the entire test dataset.\n",
        "* **Steps:**\n",
        "1. Run predictions on X_test using both models.\n",
        "2. Convert predicted probabilities to class labels using np.argmax().\n",
        "3. Compare predicted labels to true labels (y_test_onehot).\n",
        "4. Compute accuracy for each model using np.mean(predicted == true).\n",
        "5. Print the accuracy values and their difference.\n",
        "6. Display sample predictions for manual inspection.\n",
        "\n",
        "##### **Why This Is Useful**\n",
        "* Ensures the `ONNX` model is a faithful representation of the original `Keras` model.\n",
        "* Helps detect any discrepancies introduced during model conversion.\n",
        "* Validates that the ONNX model is suitable for deployment without loss of performance.\n"
      ],
      "metadata": {
        "id": "6LBM971aP_Go"
      }
    },
    {
      "cell_type": "code",
      "source": [
        "# Example 8: Compute relative accuracy\n",
        "\n",
        "# Load the ONNX model\n",
        "ex_onnx_filename = ex_model_filename.replace('.keras', '.onnx')\n",
        "ex_output_path = f\"/content/{ex_onnx_filename}\"\n",
        "ex_onnx_session = ort.InferenceSession(ex_output_path)\n",
        "\n",
        "# Get input/output names\n",
        "ex_input_name = ex_onnx_session.get_inputs()[0].name\n",
        "ex_output_name = ex_onnx_session.get_outputs()[0].name\n",
        "\n",
        "# First: Verify the models produce identical results on a single sample\n",
        "print(\"Verifying model equivalence on single sample...\")\n",
        "# Use one sample from your generated test data for verification\n",
        "ex_test_sample = ex_X_test[0:1]  # Take first sample to maintain batch dimension\n",
        "\n",
        "ex_onnx_pred = ex_onnx_session.run([ex_output_name], {ex_input_name: ex_test_sample})\n",
        "ex_keras_pred = ex_model.predict(ex_test_sample, verbose=0)\n",
        "\n",
        "print(\"ONNX prediction shape:\", ex_onnx_pred[0].shape)\n",
        "print(\"Keras prediction shape:\", ex_keras_pred.shape)\n",
        "print(\"Max difference:\", np.max(np.abs(ex_onnx_pred[0] - ex_keras_pred)))\n",
        "print(\"Mean difference:\", np.mean(np.abs(ex_onnx_pred[0] - ex_keras_pred)))\n",
        "\n",
        "are_identical = np.allclose(ex_onnx_pred[0], ex_keras_pred, atol=1e-8)\n",
        "print(\"Results are identical (within floating point precision):\", are_identical)\n",
        "\n",
        "# Second: Compare accuracies using your generated test data\n",
        "try:\n",
        "    print(\"\\nComparing model accuracies on the generated test dataset...\")\n",
        "\n",
        "    # Get predictions from both models\n",
        "    print(\"Getting predictions from Keras model...\")\n",
        "    ex_keras_predictions = ex_model.predict(ex_X_test, verbose=0)\n",
        "\n",
        "    print(\"Getting predictions from ONNX model...\")\n",
        "    ex_onnx_predictions = ex_onnx_session.run([ex_output_name], {ex_input_name: ex_X_test})\n",
        "\n",
        "    # Convert probabilities to class labels for accuracy calculation\n",
        "    ex_keras_pred_classes = np.argmax(ex_keras_predictions, axis=1)\n",
        "    ex_onnx_pred_classes = np.argmax(ex_onnx_predictions[0], axis=1)\n",
        "\n",
        "    # Use your generated labels\n",
        "    ex_y_test_classes = np.argmax(ex_y_test_onehot, axis=1)\n",
        "\n",
        "    # Calculate accuracies\n",
        "    ex_keras_accuracy = np.mean(ex_keras_pred_classes == ex_y_test_classes)\n",
        "    ex_onnx_accuracy = np.mean(ex_onnx_pred_classes == ex_y_test_classes)\n",
        "\n",
        "    print(f\"Keras model accuracy: {ex_keras_accuracy:.4f}\")\n",
        "    print(f\"ONNX model accuracy: {ex_onnx_accuracy:.4f}\")\n",
        "    print(f\"Difference in accuracy: {abs(ex_keras_accuracy - ex_onnx_accuracy):.6f}\")\n",
        "\n",
        "    # Additional verification\n",
        "    print(\"\\n--- Verification ---\")\n",
        "    print(f\"Number of test samples: {len(ex_y_test_classes)}\")\n",
        "    print(f\"Keras predictions shape: {ex_keras_predictions.shape}\")\n",
        "    print(f\"ONNX predictions shape: {ex_onnx_predictions[0].shape}\")\n",
        "\n",
        "    # Show some sample comparisons\n",
        "    print(\"\\nSample predictions comparison:\")\n",
        "    for i in range(5):\n",
        "        print(f\"Sample {i}: True={ex_y_test_classes[i]}, Keras={ex_keras_pred_classes[i]}, ONNX={ex_onnx_pred_classes[i]}\")\n",
        "\n",
        "except Exception as e:\n",
        "    print(f\"Error during accuracy comparison: {e}\")\n",
        "    print(\"Make sure you have defined ex_X_test, ex_y_test_onehot, and eg_model before running this code\")\n",
        "    if 'X_test' in locals():\n",
        "        print(f\"X_test shape: {ex_X_test.shape}\")\n",
        "    if 'y_test_onehot' in locals():\n",
        "        print(f\"y_test_onehot shape: {ex_y_test_onehot.shape}\")\n"
      ],
      "metadata": {
        "id": "fkaOG_9OP_Go",
        "colab": {
          "base_uri": "https://localhost:8080/"
        },
        "outputId": "aa020f58-9832-4e33-9392-2dbae9f083f5"
      },
      "execution_count": 23,
      "outputs": [
        {
          "output_type": "stream",
          "name": "stdout",
          "text": [
            "Verifying model equivalence on single sample...\n",
            "ONNX prediction shape: (1, 5)\n",
            "Keras prediction shape: (1, 5)\n",
            "Max difference: 1.7881393e-07\n",
            "Mean difference: 7.6869036e-08\n",
            "Results are identical (within floating point precision): True\n",
            "\n",
            "Comparing model accuracies on the generated test dataset...\n",
            "Getting predictions from Keras model...\n",
            "Getting predictions from ONNX model...\n",
            "Keras model accuracy: 0.2100\n",
            "ONNX model accuracy: 0.2100\n",
            "Difference in accuracy: 0.000000\n",
            "\n",
            "--- Verification ---\n",
            "Number of test samples: 100\n",
            "Keras predictions shape: (100, 5)\n",
            "ONNX predictions shape: (100, 5)\n",
            "\n",
            "Sample predictions comparison:\n",
            "Sample 0: True=2, Keras=0, ONNX=0\n",
            "Sample 1: True=1, Keras=0, ONNX=0\n",
            "Sample 2: True=1, Keras=0, ONNX=0\n",
            "Sample 3: True=0, Keras=0, ONNX=0\n",
            "Sample 4: True=4, Keras=0, ONNX=0\n"
          ]
        }
      ]
    },
    {
      "cell_type": "markdown",
      "source": [
        "If the code is correct you should see the following output\n",
        "\n",
        "![__](https://biologicslab.co/BIO1173/images/class_06/class_06_2_image14B.png)"
      ],
      "metadata": {
        "id": "C7DGL5XbP_Go"
      }
    },
    {
      "cell_type": "markdown",
      "source": [
        "### **Exercise 9: Visualize Confusion Matrices**\n",
        "\n",
        "In the cell below write the code to generate two side-by-side Confusion Matrices for the Keras model on the left and the converted ONNX model on the right.\n",
        "\n"
      ],
      "metadata": {
        "id": "6VuSMAC-P_Go"
      }
    },
    {
      "cell_type": "code",
      "source": [
        "# Insert your code for Exercise 9 here\n",
        "\n",
        "import numpy as np\n",
        "import matplotlib.pyplot as plt\n",
        "import seaborn as sns\n",
        "from sklearn.metrics import confusion_matrix\n",
        "\n",
        "# Get predictions\n",
        "ex_keras_pred = ex_model.predict(ex_X_test)\n",
        "ex_onnx_pred = ex_onnx_session.run([ex_output_name], {ex_input_name: ex_X_test})\n",
        "ex_keras_pred_classes = np.argmax(ex_keras_pred, axis=1)\n",
        "ex_onnx_pred_classes = np.argmax(ex_onnx_pred[0], axis=1)\n",
        "\n",
        "# Handle y_test formatting - check if it's one-hot encoded or already class labels\n",
        "if len(ex_y_test.shape) > 1 and ex_y_test.shape[1] > 1:\n",
        "    # y_test is one-hot encoded\n",
        "    ex_y_test_classes = np.argmax(ex_y_test, axis=1)\n",
        "else:\n",
        "    # y_test is already class labels\n",
        "    ex_y_test_classes = ex_y_test\n",
        "\n",
        "# Compute confusion matrices\n",
        "cm_keras = confusion_matrix(ex_y_test_classes, ex_keras_pred_classes)\n",
        "cm_onnx = confusion_matrix(ex_y_test_classes, ex_onnx_pred_classes)\n",
        "\n",
        "# Set plot style\n",
        "plt.style.use('seaborn-v0_8')\n",
        "\n",
        "# Create subplots\n",
        "fig, axes = plt.subplots(1, 2, figsize=(5, 5))\n",
        "\n",
        "# Plot Keras confusion matrix\n",
        "sns.heatmap(cm_keras, annot=True, fmt='d', cmap='Blues', ax=axes[0])\n",
        "axes[0].set_title('Keras Model Confusion Matrix')\n",
        "axes[0].set_xlabel('Predicted Labels')\n",
        "axes[0].set_ylabel('True Labels')\n",
        "\n",
        "# Plot ONNX confusion matrix\n",
        "sns.heatmap(cm_onnx, annot=True, fmt='d', cmap='Greens', ax=axes[1])\n",
        "axes[1].set_title('ONNX Model Confusion Matrix')\n",
        "axes[1].set_xlabel('Predicted Labels')\n",
        "axes[1].set_ylabel('True Labels')\n",
        "\n",
        "# Adjust layout\n",
        "plt.tight_layout()\n",
        "plt.show()"
      ],
      "metadata": {
        "id": "pO90aShOW3sL",
        "colab": {
          "base_uri": "https://localhost:8080/",
          "height": 524
        },
        "outputId": "f48546e4-a3a8-4859-9c4b-5ba42a875879"
      },
      "execution_count": 24,
      "outputs": [
        {
          "output_type": "stream",
          "name": "stdout",
          "text": [
            "\u001b[1m4/4\u001b[0m \u001b[32m━━━━━━━━━━━━━━━━━━━━\u001b[0m\u001b[37m\u001b[0m \u001b[1m2s\u001b[0m 459ms/step\n"
          ]
        },
        {
          "output_type": "display_data",
          "data": {
            "text/plain": [
              "<Figure size 500x500 with 4 Axes>"
            ],
            "image/png": "[encoded data removed]"
          },
          "metadata": {}
        }
      ]
    },
    {
      "cell_type": "markdown",
      "source": [
        "If the code is correct you should see the following output\n",
        "\n",
        "![__](https://biologicslab.co/BIO1173/images/class_06/class_06_2_image15B.png)"
      ],
      "metadata": {
        "id": "lKM_NId1P_Go"
      }
    },
    {
      "cell_type": "markdown",
      "source": [
        "### **Exercise 10: Save ONNX Model to GDrive**\n",
        "\n",
        "Run the next cell to save your retrained `ResNet50_model_244` model to your GDrive.\n",
        "\n",
        "**IMPORTANT NOTE** You will be using this saved ONNX model in a latter class lesson so make sure **not** to delete it from your GDrive!"
      ],
      "metadata": {
        "id": "sb_XLVpvtvJY"
      }
    },
    {
      "cell_type": "code",
      "source": [
        "# Insert your code for Exercise 10 here\n",
        "\n",
        "import os\n",
        "import shutil\n",
        "import tensorflow as tf\n",
        "\n",
        "# --------------------------------------------------------------\n",
        "# 1️⃣  Mount Google Drive (do this only once per session)\n",
        "# --------------------------------------------------------------\n",
        "# from google.colab import drive\n",
        "# drive.mount('/content/drive')\n",
        "\n",
        "# --------------------------------------------------------------\n",
        "# 2️⃣  Define the names / paths\n",
        "# --------------------------------------------------------------\n",
        "model_name     = \"ResNet101_model_512\"                     # model object name (without extension)\n",
        "gdrive_dir     = f\"/content/drive/My Drive/{model_name}\"  # folder on Drive\n",
        "gdrive_file    = f\"{gdrive_dir}.onnx\"                    # the ONNX file we want to keep\n",
        "\n",
        "local_file     = f\"/content/{model_name}.onnx\"          # local ONNX file to copy\n",
        "\n",
        "# --------------------------------------------------------------\n",
        "# 3️⃣  Make sure the Drive folder exists\n",
        "# --------------------------------------------------------------\n",
        "os.makedirs(gdrive_dir, exist_ok=True)\n",
        "\n",
        "# --------------------------------------------------------------\n",
        "# 4️⃣  Copy the existing ONNX model from local storage to Drive\n",
        "# --------------------------------------------------------------\n",
        "if os.path.exists(local_file):\n",
        "    print(f\"Copying {local_file} to Google Drive...\")\n",
        "    shutil.copy2(local_file, gdrive_file)\n",
        "    print(\"ONNX model copied successfully!\")\n",
        "else:\n",
        "    print(f\"Error: {local_file} not found!\")\n",
        "    # If ONNX file doesn't exist locally, you might need to convert it\n",
        "    # from the Keras file or create it from scratch\n",
        "\n",
        "# --------------------------------------------------------------\n",
        "# 5️⃣  OPTIONAL: Verify the Drive copy exists\n",
        "# --------------------------------------------------------------\n",
        "print(\"Drive copy present:\", os.path.exists(gdrive_file))\n",
        "\n",
        "# List files in Drive to verify\n",
        "!ls -lh \"/content/drive/MyDrive\"\n"
      ],
      "metadata": {
        "colab": {
          "base_uri": "https://localhost:8080/"
        },
        "outputId": "1e54ac92-7f00-421f-930a-17f8beea5fe8",
        "id": "Dvv5AfGKhzjS"
      },
      "execution_count": 30,
      "outputs": [
        {
          "output_type": "stream",
          "name": "stdout",
          "text": [
            "Copying /content/ResNet101_model_512.onnx to Google Drive...\n",
            "ONNX model copied successfully!\n",
            "Drive copy present: True\n",
            "total 3.5G\n",
            "drwx------ 2 root root 4.0K Jul 15  2024  BIO5853\n",
            "-rw------- 1 root root   15 Mar 25  2024  biologicslab.co.txt\n",
            "drwx------ 2 root root 4.0K Apr  5  2024 'Colab Notebooks'\n",
            "drwx------ 2 root root 4.0K Sep 15  2016  EBooks\n",
            "-rw------- 1 root root   67 Mar 15  2025  kaggle.json\n",
            "-rw------- 1 root root  353 Jan  8  2024  Login\n",
            "-rw------- 1 root root 8.3M Jun  8  2024  MLF13_IM_200930_0.pdf\n",
            "drwx------ 2 root root 4.0K Aug 15 23:33  MountainCar\n",
            "drwx------ 2 root root 4.0K Mar 14  2025  projects\n",
            "-rw------- 1 root root 307M Jul 30 02:27  regress_model.keras\n",
            "drwx------ 2 root root 4.0K Aug 18 22:25  ResNet101_model_512\n",
            "-rw------- 1 root root 170M Sep 16 14:17  ResNet101_model_512.keras\n",
            "-rw------- 1 root root 170M Sep 12 14:48  ResNet101_model_512_OLD.keras\n",
            "-rw------- 1 root root 164M Sep 16 16:54  ResNet101_model_512.onnx\n",
            "drwx------ 2 root root 4.0K Aug 21 00:29  ResNet50_model_244\n",
            "-rw------- 1 root root  97M Sep 16 16:51  ResNet50_model_244.keras\n",
            "drwx------ 2 root root 4.0K Sep 16 17:15  ResNet50_model_244.onnx\n",
            "-rw------- 1 root root 284M Aug 14 20:49  retina_model.keras\n",
            "-rw------- 1 root root   41 Feb 28  2025  tavily_api_key.txt\n",
            "-rw------- 1 root root 2.3G Feb 18  2024  TheMovie4.avi\n",
            "-rw------- 1 root root  651 Mar 24  2024  VPS_address.txt\n",
            "-rw------- 1 root root  126 Mar 22  2024  VPS.txt\n"
          ]
        }
      ]
    },
    {
      "cell_type": "markdown",
      "source": [
        "## **Lesson Turn-in**\n",
        "\n",
        "When you have completed and run all of the code cells, use the **File --> Print.. --> Save to PDF** to generate a PDF of your Colab notebook. Save your PDF as `Class_06_2.lastname.pdf` where _lastname_ is your last name, and upload the file to Canvas."
      ],
      "metadata": {
        "id": "jWHvfxDttvBg"
      }
    },
    {
      "cell_type": "markdown",
      "source": [
        "## **Lizard Tail**"
      ],
      "metadata": {
        "id": "kAcsRiYotuvQ"
      }
    }
  ]
}