{
  "cells": [
    {
      "cell_type": "markdown",
      "metadata": {
        "id": "view-in-github",
        "colab_type": "text"
      },
      "source": [
        "<a href=\"https://colab.research.google.com/github/DavidSenseman/BIO1173/blob/main/Assigment_1_cellmnist.ipynb\" target=\"_parent\"><img src=\"https://colab.research.google.com/assets/colab-badge.svg\" alt=\"Open In Colab\"/></a>"
      ]
    },
    {
      "cell_type": "markdown",
      "metadata": {
        "id": "KdRFfd32xmjj"
      },
      "source": [
        "---------------------------\n",
        "**COPYRIGHT NOTICE:** This Jupyterlab Notebook is a Derivative work of [Jeff Heaton](https://github.com/jeffheaton) licensed under the Apache License, Version 2.0 (the \"License\"); You may not use this file except in compliance with the License. You may obtain a copy of the License at\n",
        "\n",
        "> [http://www.apache.org/licenses/LICENSE-2.0](http://www.apache.org/licenses/LICENSE-2.0)\n",
        "\n",
        "Unless required by applicable law or agreed to in writing, software distributed under the License is distributed on an \"AS IS\" BASIS, WITHOUT WARRANTIES OR CONDITIONS OF ANY KIND, either express or implied. See the License for the specific language governing permissions and limitations under the License.\n",
        "\n",
        "------------------------"
      ]
    },
    {
      "cell_type": "markdown",
      "metadata": {
        "id": "p_CU7EF2xmjk"
      },
      "source": [
        "# **BIO 1173: Intro Computational Biology**"
      ]
    },
    {
      "cell_type": "markdown",
      "metadata": {
        "id": "_sRFBydyxmjk"
      },
      "source": [
        "**Assignment 1: Convolutional Neural Networks (CNN) for Computer Vision**\n",
        "\n",
        "* Instructor: [David Senseman](mailto:David.Senseman@utsa.edu), [Department of Integrative Biology](https://sciences.utsa.edu/integrative-biology/), [UTSA](https://www.utsa.edu/)\n",
        "\n"
      ]
    },
    {
      "cell_type": "markdown",
      "source": [
        "# **The Purpose of Assignments**\n",
        "\n",
        "In this course, **_Assignments_** are designed to help me (and you) assess your ability to transfer knowledge gained in completing class coding exercises to solving more realistic problems.\n",
        "\n",
        "Assignments play a pivotal role in reinforcing your learning, as they require you to apply theoretical concepts to practical scenarios. This helps solidify your understanding and enhances your problem-solving skills. By tackling these assignments independently, you develop critical thinking and the ability to synthesize information from various sources. Moreover, assignments encourage you to explore topics more deeply, fostering intellectual curiosity and promoting a deeper engagement with the subject matter. Ultimately, these assignments are not just a measure of your learning, but a means to equip you with the skills needed for real-world applications and future challenges."
      ],
      "metadata": {
        "id": "Qfs64u4eDRpD"
      }
    },
    {
      "cell_type": "markdown",
      "metadata": {
        "id": "yKQylnEiLDUM"
      },
      "source": [
        "### Google CoLab Instructions\n",
        "\n",
        "The following code ensures that Google CoLab is running the correct version of TensorFlow.\n",
        "  Running the following code will map your GDrive to ```/content/drive```."
      ]
    },
    {
      "cell_type": "code",
      "execution_count": 1,
      "metadata": {
        "colab": {
          "base_uri": "https://localhost:8080/"
        },
        "id": "seXFCYH4LDUM",
        "outputId": "8d8f872b-0a3b-4057-ebf0-46e094dd75d8"
      },
      "outputs": [
        {
          "output_type": "stream",
          "name": "stdout",
          "text": [
            "Mounted at /content/drive\n",
            "Note: using Google CoLab\n",
            "david.senseman@gmail.com\n"
          ]
        }
      ],
      "source": [
        "# YOU MUST RUN THIS CELL FIRST\n",
        "\n",
        "try:\n",
        "    from google.colab import drive\n",
        "    drive.mount('/content/drive', force_remount=True)\n",
        "    from google.colab import auth\n",
        "    auth.authenticate_user()\n",
        "    COLAB = True\n",
        "    print(\"Note: using Google CoLab\")\n",
        "    #%tensorflow_version 2.x\n",
        "    #print(f\"Tensorflow version: {tf.__version__}\")\n",
        "    import requests\n",
        "    gcloud_token = !gcloud auth print-access-token\n",
        "    gcloud_tokeninfo = requests.get('https://www.googleapis.com/oauth2/v3/tokeninfo?access_token=' + gcloud_token[0]).json()\n",
        "    print(gcloud_tokeninfo['email'])\n",
        "except:\n",
        "    print(\"Note: not using Google CoLab\")\n",
        "    COLAB = False"
      ]
    },
    {
      "cell_type": "markdown",
      "metadata": {
        "id": "Ho0r__E9xmjn"
      },
      "source": [
        "### Define functions\n",
        "\n",
        "The cell below creates several functions that are needed for this assignment. If you don't run this cell, you will receive errors later when you try to run some cells."
      ]
    },
    {
      "cell_type": "code",
      "source": [
        "# Create functions for this lesson\n",
        "\n",
        "import psutil\n",
        "import os\n",
        "\n",
        "def check_current_ram():\n",
        "  ram = psutil.virtual_memory()\n",
        "  print(f\"Available RAM: {ram.available / (1024 ** 3):.2f} GB\")\n",
        "\n",
        "def list_files():\n",
        "   files = os.listdir('.')\n",
        "   print(f\"Current files: {files}\")\n",
        "\n",
        "def list_extract():\n",
        "  files = os.listdir(EXTRACT_TARGET)\n",
        "  print(f\"Current files in EXTRACT_TARGET: {files}\")\n",
        "\n",
        "# Simple function to print out elasped time\n",
        "def hms_string(sec_elapsed):\n",
        "    h = int(sec_elapsed / (60 * 60))\n",
        "    m = int((sec_elapsed % (60 * 60)) / 60)\n",
        "    s = sec_elapsed % 60\n",
        "    return \"{}:{:>02}:{:>05.2f}\".format(h, m, s)\n"
      ],
      "metadata": {
        "id": "EWG5pvkXPnff"
      },
      "execution_count": 22,
      "outputs": []
    },
    {
      "cell_type": "code",
      "source": [
        "list_files()"
      ],
      "metadata": {
        "colab": {
          "base_uri": "https://localhost:8080/"
        },
        "id": "UXMVlSZE_gOm",
        "outputId": "0f0f6cf3-f383-40c3-9f88-56c7725eae28"
      },
      "execution_count": 4,
      "outputs": [
        {
          "output_type": "stream",
          "name": "stdout",
          "text": [
            "Current files and folders: ['.config', 'drive', 'sample_data']\n"
          ]
        }
      ]
    },
    {
      "cell_type": "markdown",
      "source": [
        "### Record your specific GPU/TPU accelerator\n",
        "\n",
        "You will need to record what hardware you will be using in this Assignment by entering the appropiate value in the `my_GPU_dict` below."
      ],
      "metadata": {
        "id": "B0_vXredOjVi"
      }
    },
    {
      "cell_type": "code",
      "source": [
        "# Record your current Runtime GPU/TPU\n",
        "\n",
        "\n",
        "# List of Current GPU/TPUs\n",
        "my_GPU_dict = {\n",
        "    1: 'CPU',\n",
        "    2: 'A100 GPU',\n",
        "    3: 'L4 GPU',\n",
        "    4: 'T4 GPU',\n",
        "    5: 'TPU v2-8'\n",
        "}\n",
        "\n",
        "# Enter the correct key number in the square brackets [ ]\n",
        "my_GPU = my_GPU_dict[2]\n",
        "\n",
        "# Print selection\n",
        "print(f\"My current runtime GPU/TPU is: {my_GPU}\")"
      ],
      "metadata": {
        "colab": {
          "base_uri": "https://localhost:8080/"
        },
        "id": "wpLuo8TwOdZb",
        "outputId": "b77ba9a1-f373-4fdf-de58-b7ccf2768399"
      },
      "execution_count": 20,
      "outputs": [
        {
          "output_type": "stream",
          "name": "stdout",
          "text": [
            "My current runtime GPU/TPU is: A100 GPU\n"
          ]
        }
      ]
    },
    {
      "cell_type": "markdown",
      "source": [
        "If your code is correct, you should see something like the following:\n",
        "~~~text\n",
        "My current runtime GPU/TPU is: A100 GPU\n",
        "~~~\n",
        "\n",
        "In some situations, it will be helpful to the Instructor to know your hardware environment when trying to help you resolve coding problems."
      ],
      "metadata": {
        "id": "GPBKPF3_EzmZ"
      }
    },
    {
      "cell_type": "markdown",
      "metadata": {
        "id": "Jf_otSJdmp8k"
      },
      "source": [
        "# **Assigment 1: Keras Neural Networks for Medical MNIST**\n",
        "\n",
        "**Assignment 1** is pecifically designed to assess your ability to write the Python/Tensorflow/Keras code necessary to classify image data in a MedMNIST dataset. This assignment is designed so that you can re-use the code in **Class_06_1**\n",
        ". The same series of steps used in both the Example and the **Exercise** in Class_06_1, are provided in this assignment.\n",
        "\n",
        "For the most part, the code in Class_06_1 should be reusable here. BUT, since the MedMNSIT datafiles vary in scale (see below), it will be up to you to troubleshoot errors when they come up. You Instructor is more than happy to help you when you encounter an error that you can figure out.\n"
      ]
    },
    {
      "cell_type": "markdown",
      "source": [
        "## **MedMNIST Datasets**\n",
        "\n",
        "**MedMNIST** offers a collection of 12 pre-processed 2D datasets designed for various biomedical image classification tasks1\n",
        ". These datasets cover primary data modalities such as **X-Ray**, **OCT (Optical Coherence Tomography)**, **Ultrasound**, **CT (Computed Tomography)**, and **Electron Microscope** images.\n",
        "\n",
        "The datasets are diverse, ranging from binary/multi-class classification to ordinal regression and multi-label tasks. They also vary in scale, with data sizes ranging from 100 to 100,000 images.\n",
        "\n",
        "Here's a list of the 12 2D datasets offered by MedMNIST, along with their names and the classes they contain:\n",
        "\n",
        "| Dataset Name       | Classes                         |Datafile Name\n",
        "|--------------------|---------------------------------|--------------|\n",
        "| DermaMNIST         | 7 (skin conditions)   |dermamnist_64.npz\n",
        "| OCTMNIST           | 10 (retinal layers)   |octmnist.npz\n",
        "| PneumoniaMNIST     | 2 (normal, pneumonia) |pneumoniamnist_64.npz\n",
        "| RetinaMNIST        | 5 (retinal diseases)  |retinamnist_128.npz\n",
        "| ChestMNIST         | 14 (chest X-ray views)|???chestmnist.npz\n",
        "| MammographyMNIST   | 2 (benign, malignant) |breastmnist_224.npz\n",
        "| PathMNIST          | 9 (histopathological conditions) |pathmnist_224.npz\n",
        "| BloodMNIST         | 8 (blood cell types)  |bloodmnist_224.npz\n",
        "| TissueMNIST        | 7 (tissue types)   |tissuemnist.npz\n",
        "| OrganMNIST - A     | 9 (organs -axial view)   |organamnist.npz\n",
        "| OrganMNIST - C     | 9 (organs - coronal view)   |organcmnist.npz\n",
        "| OrganMNIST - S     | 9 (organs - saggital view) |organsmnist.npz\n",
        "| CellMNIST          | 5 (cell types)                      |\n",
        "| UltrasoundMNIST    | 3 (ultrasound views)                |"
      ],
      "metadata": {
        "id": "eFG_5T2BFeYc"
      }
    },
    {
      "cell_type": "markdown",
      "metadata": {
        "id": "kSBh89W3xmjo"
      },
      "source": [
        "# **Your Assignmment 1 Dataset**\n",
        "\n",
        "The last digit in your myUTSA ID (e.g. 'abc123`) will determine which MedMNIST dataset you are to analyze for **Assignment 1**.\n",
        "\n",
        "**WARNING!** You are not free to choose any dataset for Assignment 1. If analyze the wrong dataset, _30 points_ will be immediately deducted from your score. If you are uncertain which dataset you should be working on, contact your Instructor for help.\n",
        "\n",
        "\n",
        "| Last Digit in my UTSA ID | MedMNIST Dataset to Analyze\n",
        "---------------------------|--------------------------------\n",
        "0                          | breastmnist_224.npz\n",
        "1                          | chestmnist.npz\n",
        "2                          | octmnist.npz\n",
        "3                          | organamnist.npz\n",
        "4                          | organcmnist.npz\n",
        "5                          | organsmnist.npz\n",
        "6                          | pathmnist_224.npz\n",
        "7                          | pneumoniamnist_64.npz\n",
        "8                          | retinamnist_128.npz\n",
        "9                          | tissuemnist.npz\n",
        "\n"
      ]
    },
    {
      "cell_type": "markdown",
      "metadata": {
        "id": "OiaQvHptyO42"
      },
      "source": [
        "### **Step - 1: Setup Evironmental Variables**\n",
        "\n",
        "In the cell below, create environmental variables so you can download your specific MedMNIST dataset that has been assigned to you in the cell above.\n",
        "\n",
        "It is assumed that you will want to use the code provided in Class_06_1 as a template for this assignment. If you use the code from Step 1 in Class_06_1, you will only need to make changes to the `DOWNLOAD_SOURCE` and the `EXTRACT_TARGET`.\n",
        "\n",
        "For your `EXTRACT_TARGET` you should use the file name of the MedMNIST assigned to you in the cell above, exactly as it is written.\n",
        "\n",
        "For example, if the last digit of your myUTSA ID was `6`, your `DOWNLOAD_SOURCE` would be:\n",
        "~~~text\n",
        "DOWNLOAD_SOURCE = URL+\"/pathmnist_224.npz\"\n",
        "~~~\n",
        "and your `EXTRACT_TARGET` would be:\n",
        "~~~text\n",
        "EXTRACT_TARGET = os.path.join(PATH,\"pathmnist_224\")\n",
        "~~~\n"
      ]
    },
    {
      "cell_type": "code",
      "execution_count": 85,
      "metadata": {
        "colab": {
          "base_uri": "https://localhost:8080/"
        },
        "id": "xcy2iqXOumlO",
        "outputId": "d0655edb-c622-4939-ac45-2adbb49fcf8a"
      },
      "outputs": [
        {
          "output_type": "stream",
          "name": "stdout",
          "text": [
            "DOWNLOAD_SOURCE https://biologicslab.co/BIO1173/data/cellmnist.npz\n",
            "DOWNLOAD_NAME cellmnist.npz\n",
            "PATH /content\n",
            "EXTRACT_TARGET /cellmnist.npz\n",
            "SOURCE /cellmnist.npz\n",
            "TARGET /cellmnist.npz\n",
            "Current files: ['.config', 'organamnist.npz', 'tissuemnist.npz', 'organcmnist.npz', 'organsmnist.npz', 'drive', 'sample_data']\n"
          ]
        }
      ],
      "source": [
        "# Step - 1: Setup Environmental Variables\n",
        "\n",
        "import os\n",
        "\n",
        "# Define datafile location\n",
        "URL = \"https://biologicslab.co/BIO1173/data\"\n",
        "DOWNLOAD_SOURCE = URL+\"/cellmnist.npz\"\n",
        "DOWNLOAD_NAME = DOWNLOAD_SOURCE[DOWNLOAD_SOURCE.rfind('/')+1:]\n",
        "print(f\"DOWNLOAD_SOURCE {DOWNLOAD_SOURCE}\")\n",
        "print(f\"DOWNLOAD_NAME {DOWNLOAD_NAME}\")\n",
        "\n",
        "# Define folder locations to store the data\n",
        "PATH = \"/content\"\n",
        "EXTRACT_TARGET = os.path.join(PATH,\"/cellmnist.npz\")\n",
        "SOURCE = os.path.join(EXTRACT_TARGET)\n",
        "TARGET = SOURCE\n",
        "\n",
        "# Print out environmental variables\n",
        "print(f\"PATH {PATH}\")\n",
        "print(f\"EXTRACT_TARGET {EXTRACT_TARGET}\")\n",
        "print(f\"SOURCE {SOURCE}\")\n",
        "print(f\"TARGET {TARGET}\")\n",
        "\n",
        "# List current files and folders\n",
        "list_files()\n"
      ]
    },
    {
      "cell_type": "markdown",
      "metadata": {
        "id": "-TxbZZQayNCu"
      },
      "source": [
        "### **Step - 2: Download and Extract Data**\n",
        "\n",
        "If your code in Step 1 is correct, you should be ready to download and extract your dataset.\n",
        "\n",
        "In the cell below, write the code to download your datafile, make the appropiate file folders and then extract (unzip) your datafile into the file folders you created.\n",
        "\n",
        "**Please Note:** There is considerable differences in the size of these MedMNIST datasets. The larger ones (e.g. `pathmnist_224.npz`) are more than 12GB in size and will require many minutes to upload to Colab and then to extract it. So you will need to be patient. As long as the \"little wheel\" at the top left of the code cell keeps spinning, your code is working correctly."
      ]
    },
    {
      "cell_type": "code",
      "source": [
        "# Step 2\n",
        "import os\n",
        "\n",
        "print(\"Creating necessary directories...\", end='')\n",
        "# Create necessary directories\n",
        "os.makedirs(SOURCE, exist_ok=True)\n",
        "# os.makedirs(TARGET, exist_ok=True)\n",
        "os.makedirs(EXTRACT_TARGET, exist_ok=True)\n",
        "print(\"done.\")\n",
        "\n",
        "print(\"Downloading files...\", end='')\n",
        "# Define paths and URLs\n",
        "download_path = os.path.join(PATH, DOWNLOAD_NAME)\n",
        "extract_path = os.path.join(EXTRACT_TARGET, DOWNLOAD_NAME)\n",
        "\n",
        "# Download the file\n",
        "os.system(f\"wget -O {download_path} {DOWNLOAD_SOURCE}\")\n",
        "print(\"done.\")\n",
        "\n",
        "print(\"Extracting files...\", end='')\n",
        "# Extract the file\n",
        "os.system(f\"unzip -o -d {EXTRACT_TARGET} {download_path} >/dev/null\")\n",
        "print(\"done.\")\n",
        "\n",
        "# List extracted files\n",
        "list_extract()"
      ],
      "metadata": {
        "colab": {
          "base_uri": "https://localhost:8080/"
        },
        "id": "kJ98jTFn-BDz",
        "outputId": "ab4d8606-1925-40f0-cd94-919d758520c1"
      },
      "execution_count": 86,
      "outputs": [
        {
          "output_type": "stream",
          "name": "stdout",
          "text": [
            "Creating necessary directories...done.\n",
            "Downloading files...done.\n",
            "Extracting files...done.\n",
            "Current files in EXTRACT_TARGET: []\n"
          ]
        }
      ]
    },
    {
      "cell_type": "markdown",
      "metadata": {
        "id": "YISiH78A5asC"
      },
      "source": [
        "### **Step - 3: Load and Shuffle Images and Labels into Numpy arrays**\n",
        "\n",
        "In the cell below, write the Python code to read (load) and shuffle the image and label data into Numpy arrays. In total, you should create the following 6 numpy arrays: `train_X`, `train_Y`, `test_X`, `test_Y`, `val_X` and `val_Y`. The `X` arrays will have the images, the `Y` arrays will have their corresponding labels.\n",
        "\n",
        "Make sure to print out the `shape` of each numpy array.   "
      ]
    },
    {
      "cell_type": "code",
      "source": [
        "# Insert your code for Step 3 here\n",
        "\n",
        "import numpy as np\n",
        "\n",
        "# Set the random seed\n",
        "np.random.seed(42)\n",
        "\n",
        "# Unpack and shuffle train_images\n",
        "train_images = np.load(os.path.join(SOURCE,\"train_images.npy\"),)\n",
        "train_labels = np.load(os.path.join(SOURCE,\"train_labels.npy\"),)\n",
        "combined = list(zip(train_images, train_labels))\n",
        "np.random.shuffle(combined)\n",
        "train_X, train_Y = zip(*combined)\n",
        "train_X = np.array(train_X)\n",
        "train_Y = np.array(train_Y)\n",
        "print(f\"train_X: {train_X.shape}\")\n",
        "print(f\"train_Y: {train_Y.shape}\")\n",
        "\n",
        "# Unpack and shuffle test_images\n",
        "test_images = np.load(os.path.join(SOURCE,\"test_images.npy\"),)\n",
        "test_labels = np.load(os.path.join(SOURCE,\"test_labels.npy\"),)\n",
        "combined = list(zip(test_images, test_labels))\n",
        "np.random.shuffle(combined)\n",
        "test_X, test_Y = zip(*combined)\n",
        "test_X = np.array(test_X)\n",
        "test_Y = np.array(test_Y)\n",
        "print(f\"test_X: {test_X.shape}\")\n",
        "print(f\"test_Y: {test_Y.shape}\")\n",
        "\n",
        "# Unpack and shuffle val_images\n",
        "val_images = np.load(os.path.join(SOURCE,\"val_images.npy\"),)\n",
        "val_labels = np.load(os.path.join(SOURCE,\"val_labels.npy\"),)\n",
        "combined = list(zip(val_images, val_labels))\n",
        "np.random.shuffle(combined)\n",
        "val_X, val_Y = zip(*combined)\n",
        "val_X = np.array(val_X)\n",
        "val_Y = np.array(val_Y)\n",
        "print(f\"val_X: {val_X.shape}\")\n",
        "print(f\"val_Y: {val_Y.shape}\")"
      ],
      "metadata": {
        "colab": {
          "base_uri": "https://localhost:8080/",
          "height": 332
        },
        "id": "l3dCKhH9lAKZ",
        "outputId": "b3f46a99-697f-4e97-8e82-417c0295b09f"
      },
      "execution_count": 87,
      "outputs": [
        {
          "output_type": "error",
          "ename": "FileNotFoundError",
          "evalue": "[Errno 2] No such file or directory: '/cellmnist.npz/train_images.npy'",
          "traceback": [
            "\u001b[0;31m---------------------------------------------------------------------------\u001b[0m",
            "\u001b[0;31mFileNotFoundError\u001b[0m                         Traceback (most recent call last)",
            "\u001b[0;32m<ipython-input-87-ba8dd1b1dd64>\u001b[0m in \u001b[0;36m<cell line: 9>\u001b[0;34m()\u001b[0m\n\u001b[1;32m      7\u001b[0m \u001b[0;34m\u001b[0m\u001b[0m\n\u001b[1;32m      8\u001b[0m \u001b[0;31m# Unpack and shuffle train_images\u001b[0m\u001b[0;34m\u001b[0m\u001b[0;34m\u001b[0m\u001b[0m\n\u001b[0;32m----> 9\u001b[0;31m \u001b[0mtrain_images\u001b[0m \u001b[0;34m=\u001b[0m \u001b[0mnp\u001b[0m\u001b[0;34m.\u001b[0m\u001b[0mload\u001b[0m\u001b[0;34m(\u001b[0m\u001b[0mos\u001b[0m\u001b[0;34m.\u001b[0m\u001b[0mpath\u001b[0m\u001b[0;34m.\u001b[0m\u001b[0mjoin\u001b[0m\u001b[0;34m(\u001b[0m\u001b[0mSOURCE\u001b[0m\u001b[0;34m,\u001b[0m\u001b[0;34m\"train_images.npy\"\u001b[0m\u001b[0;34m)\u001b[0m\u001b[0;34m,\u001b[0m\u001b[0;34m)\u001b[0m\u001b[0;34m\u001b[0m\u001b[0;34m\u001b[0m\u001b[0m\n\u001b[0m\u001b[1;32m     10\u001b[0m \u001b[0mtrain_labels\u001b[0m \u001b[0;34m=\u001b[0m \u001b[0mnp\u001b[0m\u001b[0;34m.\u001b[0m\u001b[0mload\u001b[0m\u001b[0;34m(\u001b[0m\u001b[0mos\u001b[0m\u001b[0;34m.\u001b[0m\u001b[0mpath\u001b[0m\u001b[0;34m.\u001b[0m\u001b[0mjoin\u001b[0m\u001b[0;34m(\u001b[0m\u001b[0mSOURCE\u001b[0m\u001b[0;34m,\u001b[0m\u001b[0;34m\"train_labels.npy\"\u001b[0m\u001b[0;34m)\u001b[0m\u001b[0;34m,\u001b[0m\u001b[0;34m)\u001b[0m\u001b[0;34m\u001b[0m\u001b[0;34m\u001b[0m\u001b[0m\n\u001b[1;32m     11\u001b[0m \u001b[0mcombined\u001b[0m \u001b[0;34m=\u001b[0m \u001b[0mlist\u001b[0m\u001b[0;34m(\u001b[0m\u001b[0mzip\u001b[0m\u001b[0;34m(\u001b[0m\u001b[0mtrain_images\u001b[0m\u001b[0;34m,\u001b[0m \u001b[0mtrain_labels\u001b[0m\u001b[0;34m)\u001b[0m\u001b[0;34m)\u001b[0m\u001b[0;34m\u001b[0m\u001b[0;34m\u001b[0m\u001b[0m\n",
            "\u001b[0;32m/usr/local/lib/python3.10/dist-packages/numpy/lib/npyio.py\u001b[0m in \u001b[0;36mload\u001b[0;34m(file, mmap_mode, allow_pickle, fix_imports, encoding, max_header_size)\u001b[0m\n\u001b[1;32m    425\u001b[0m             \u001b[0mown_fid\u001b[0m \u001b[0;34m=\u001b[0m \u001b[0;32mFalse\u001b[0m\u001b[0;34m\u001b[0m\u001b[0;34m\u001b[0m\u001b[0m\n\u001b[1;32m    426\u001b[0m         \u001b[0;32melse\u001b[0m\u001b[0;34m:\u001b[0m\u001b[0;34m\u001b[0m\u001b[0;34m\u001b[0m\u001b[0m\n\u001b[0;32m--> 427\u001b[0;31m             \u001b[0mfid\u001b[0m \u001b[0;34m=\u001b[0m \u001b[0mstack\u001b[0m\u001b[0;34m.\u001b[0m\u001b[0menter_context\u001b[0m\u001b[0;34m(\u001b[0m\u001b[0mopen\u001b[0m\u001b[0;34m(\u001b[0m\u001b[0mos_fspath\u001b[0m\u001b[0;34m(\u001b[0m\u001b[0mfile\u001b[0m\u001b[0;34m)\u001b[0m\u001b[0;34m,\u001b[0m \u001b[0;34m\"rb\"\u001b[0m\u001b[0;34m)\u001b[0m\u001b[0;34m)\u001b[0m\u001b[0;34m\u001b[0m\u001b[0;34m\u001b[0m\u001b[0m\n\u001b[0m\u001b[1;32m    428\u001b[0m             \u001b[0mown_fid\u001b[0m \u001b[0;34m=\u001b[0m \u001b[0;32mTrue\u001b[0m\u001b[0;34m\u001b[0m\u001b[0;34m\u001b[0m\u001b[0m\n\u001b[1;32m    429\u001b[0m \u001b[0;34m\u001b[0m\u001b[0m\n",
            "\u001b[0;31mFileNotFoundError\u001b[0m: [Errno 2] No such file or directory: '/cellmnist.npz/train_images.npy'"
          ]
        }
      ]
    },
    {
      "cell_type": "markdown",
      "source": [
        "Take a good look at your output. Make a note of the `shape` value for the array called `train_X`.\n",
        "\n",
        "The `shape` should have 4 numbers. The first number is the number of images in your particular dataset. The next 2 numbers are the dimensions (in pixels) of the image and the last number specifies the number of color channels. The number `3` means a color image (RGB).\n",
        "\n",
        "**You will need to know these 4 numbers later in your analysis.** Please note that these values vary significantly between the different datasets."
      ],
      "metadata": {
        "id": "JJGEexOa2kMA"
      }
    },
    {
      "cell_type": "markdown",
      "source": [
        "### **Step 4 - Add Color Channel and Resize Images**"
      ],
      "metadata": {
        "id": "iN7g2V0UXCAK"
      }
    },
    {
      "cell_type": "code",
      "source": [
        "import numpy as np\n",
        "import tensorflow as tf\n",
        "\n",
        "# Add a color channel if not already present\n",
        "if train_X.ndim == 4:\n",
        "    print(\"No need to add a color channel, images are RGB\")\n",
        "else:\n",
        "    print(\"Adding monochrome color channel...\", end='')\n",
        "    train_X = np.expand_dims(train_X, axis=-1)\n",
        "    test_X = np.expand_dims(test_X, axis=-1)\n",
        "    val_X = np.expand_dims(val_X, axis=-1)\n",
        "    print(\"done\")\n",
        "\n",
        "# Resize images if they are less than 64 pixels\n",
        "if train_X.shape[1] >= 64:\n",
        "    print(\"No need to resize images--already 64x64 (or more) pixels\")\n",
        "    train_X_resized = train_X\n",
        "    test_X_resized = test_X\n",
        "    val_X_resized = val_X\n",
        "else:\n",
        "    print(\"Resizing images to 64x64 pixels...\", end='')\n",
        "    train_X_resized = np.array([tf.image.resize(img, (64, 64)).numpy() for img in train_X])\n",
        "    test_X_resized = np.array([tf.image.resize(img, (64, 64)).numpy() for img in test_X])\n",
        "    val_X_resized = np.array([tf.image.resize(img, (64, 64)).numpy() for img in val_X])\n",
        "    print(\"done\")\n",
        "\n",
        "# Copy back\n",
        "train_X = np.copy(train_X_resized)\n",
        "test_X = np.copy(test_X_resized)\n",
        "val_X = np.copy(val_X_resized)\n",
        "\n",
        "\n",
        "# Check shapes\n",
        "print(train_X.shape)\n",
        "print(test_X.shape)\n",
        "print(val_X.shape)\n"
      ],
      "metadata": {
        "colab": {
          "base_uri": "https://localhost:8080/"
        },
        "id": "ze3HxEjAZsEY",
        "outputId": "817d26fb-6f1d-4214-d39b-2eaa40de2fbf"
      },
      "execution_count": 75,
      "outputs": [
        {
          "output_type": "stream",
          "name": "stdout",
          "text": [
            "Adding monochrome color channel...done\n",
            "Resizing images to 64x64 pixels...done\n",
            "(13932, 64, 64, 1)\n",
            "(8827, 64, 64, 1)\n",
            "(2452, 64, 64, 1)\n"
          ]
        }
      ]
    },
    {
      "cell_type": "code",
      "source": [
        "# Check available memory\n",
        "\n",
        "import psutil\n",
        "\n",
        "# Get the memory details\n",
        "mem = psutil.virtual_memory()\n",
        "\n",
        "# Print total, available, and used memory\n",
        "print(f\"Total Memory: {mem.total / (1024 ** 3):.2f} GB\")\n",
        "print(f\"Available Memory: {mem.available / (1024 ** 3):.2f} GB\")\n",
        "print(f\"Used Memory: {mem.used / (1024 ** 3):.2f} GB\")\n"
      ],
      "metadata": {
        "colab": {
          "base_uri": "https://localhost:8080/"
        },
        "id": "341bu2ql028Y",
        "outputId": "aebecfed-89fe-442a-f6a8-67c7d8c58941"
      },
      "execution_count": 76,
      "outputs": [
        {
          "output_type": "stream",
          "name": "stdout",
          "text": [
            "Total Memory: 83.48 GB\n",
            "Available Memory: 60.61 GB\n",
            "Used Memory: 22.02 GB\n"
          ]
        }
      ]
    },
    {
      "cell_type": "markdown",
      "source": [
        "### **Step - X: Augment Training Image Set**\n",
        "\n",
        "In the cell below, write the code to augment your set of training images (`train_X`)  "
      ],
      "metadata": {
        "id": "l_nbNykcnaBF"
      }
    },
    {
      "cell_type": "code",
      "source": [
        "import numpy as np\n",
        "import psutil\n",
        "\n",
        "# Get the memory details\n",
        "mem = psutil.virtual_memory()\n",
        "\n",
        "if mem.available <= mem.used:\n",
        "    print(f\"Available memory ({mem.available / (1024 ** 3):.2f} GB) might not be enough to augment train_X\")\n",
        "    print(f\"Number of train_X images: {train_X.shape[0]}\")\n",
        "else:\n",
        "    print(f\"Available memory ({mem.available / (1024 ** 3):.2f} GB) should be enough to augment train_X\")\n",
        "    print(\"Augmenting the number of images in train_X...\", end=' ')\n",
        "\n",
        "    # Initialize lists to store the augmented images and labels\n",
        "    augmented_images = []\n",
        "    augmented_labels = []\n",
        "\n",
        "    # Iterate through each image and its corresponding label\n",
        "    for img, label in zip(train_X, train_Y):\n",
        "        # Original image\n",
        "        augmented_images.append(img)\n",
        "        augmented_labels.append(label)\n",
        "\n",
        "        # Vertically flipped image\n",
        "        augmented_images.append(np.flipud(img))\n",
        "        augmented_labels.append(label)\n",
        "\n",
        "        # Horizontally flipped image\n",
        "        augmented_images.append(np.fliplr(img))\n",
        "        augmented_labels.append(label)\n",
        "\n",
        "    # Convert lists back to numpy arrays\n",
        "    augmented_images = np.array(augmented_images)\n",
        "    augmented_labels = np.array(augmented_labels)\n",
        "\n",
        "    print(\"done\")\n",
        "    print(f\"Original number of train_X images: {len(train_X)}\")\n",
        "    print(f\"Augmented number of train_X images: {len(augmented_images)}\")\n",
        "\n",
        "    # Copy images back\n",
        "    train_X = np.copy(augmented_images)\n",
        "    train_Y = np.copy(augmented_labels)\n"
      ],
      "metadata": {
        "colab": {
          "base_uri": "https://localhost:8080/"
        },
        "id": "H5gNnudK36Mg",
        "outputId": "5d7cd3ec-7f4b-43b4-9ade-9b91748ff81f"
      },
      "execution_count": 77,
      "outputs": [
        {
          "output_type": "stream",
          "name": "stdout",
          "text": [
            "Available memory (60.61 GB) should be enough to augment train_X\n",
            "Augmenting the number of images in train_X... done\n",
            "Original number of train_X images: 13932\n",
            "Augmented number of train_X images: 41796\n"
          ]
        }
      ]
    },
    {
      "cell_type": "markdown",
      "metadata": {
        "id": "3Y5nBI6K9AwI"
      },
      "source": [
        "### **Step - 4: One-Hot Encode Labels**\n",
        "\n",
        "In the cell below, use the Keras function `to_categorical()` to One-Hot Encode the label information for your training, testing and validation images. Make sure to print out the `shapes` of your arrays after One-Hot Encoding, Their shape should match as the new number of classes in your dataset. Many of the MedMNIST datasets have only 2 classes, while other datasets have more than 10."
      ]
    },
    {
      "cell_type": "code",
      "source": [
        "# Insert your code for Step - 4 here\n",
        "\n",
        "from tensorflow.keras.utils import to_categorical\n",
        "import numpy as np\n",
        "\n",
        "# Determine the number of classes\n",
        "classes, counts = np.unique(test_Y, return_counts=True)\n",
        "class_count = len(classes)\n",
        "print(f\"The label data contains {class_count} classes\")\n",
        "\n",
        "train_Y = to_categorical(train_Y, num_classes=class_count)\n",
        "test_Y = to_categorical(test_Y, num_classes=class_count)\n",
        "val_Y = to_categorical(val_Y, num_classes=class_count)\n",
        "\n",
        "print(f'Train Labels Shape (train_Y): {train_Y.shape}')\n",
        "print(f'Test Labels Shape (test_Y): {test_Y.shape}')\n",
        "print(f'Validation Labels Shape (val_Y): {val_Y.shape}')\n",
        "\n"
      ],
      "metadata": {
        "id": "OsEr9PnH5EHf",
        "colab": {
          "base_uri": "https://localhost:8080/"
        },
        "outputId": "6eba551a-d3c3-44c3-fe4e-a7296738bbd8"
      },
      "execution_count": 78,
      "outputs": [
        {
          "output_type": "stream",
          "name": "stdout",
          "text": [
            "The label data contains 11 classes\n",
            "Train Labels Shape (train_Y): (41796, 11)\n",
            "Test Labels Shape (test_Y): (8827, 11)\n",
            "Validation Labels Shape (val_Y): (2452, 11)\n"
          ]
        }
      ]
    },
    {
      "cell_type": "markdown",
      "metadata": {
        "id": "05ksNhEs7cjM"
      },
      "source": [
        "Check your ouput after performing One-Hot Encoding. The second shape number should be the same as the number of classes. Here is a correct example:\n",
        "\n",
        "~~~text\n",
        "The label data contains 8 classes\n",
        "Train Labels Shape (train_Y): (496398, 8)\n",
        "Test Labels Shape (test_Y): (47280, 8)\n",
        "Validation Labels Shape (val_Y): (23640, 8)\n",
        "~~~\n",
        "\n",
        "##### **WARNING:** If your output shows 3 numbers instead of 2 after the arrays with label as shown in this example:\n",
        "~~~text\n",
        "The label data contains 2 classes\n",
        "Train Labels Shape (train_Y): (496398, 8, 2)\n",
        "Test Labels Shape (test_Y): (47280, 8, 2)\n",
        "Validation Labels Shape (val_Y): (23640, 8, 2)\n",
        "~~~\n",
        "**Do not proceed!**\n",
        "\n",
        "The presence of a third number means that you have One-Hot encoded the data more than once. If you try to use this data, your model will crash during training. You need to go back to Step 1 and start over."
      ]
    },
    {
      "cell_type": "markdown",
      "metadata": {
        "id": "pozf-SwUCN3f"
      },
      "source": [
        "### **Step - 5: Create and Compile CNN neural network model**\n",
        "\n",
        "In the cell below, build a convolutional neural network (CNN) model to classify the images in your particular dataset into one of the different classes.\n",
        "\n",
        "Use the code for the CNN models shown in Step 5 of Class_06_1 as a template.\n",
        "\n",
        "### **Setting the `input_dim`**\n",
        "\n",
        "In a CNN model, `input_dim` refers to the dimensions of the input data that the model will process. It includes the height, width, and number of channels (color depth) of the images. For example, if you’re working with RGB images of size 64x64 pixels, the input_dim would be (64, 64, 3). This ensures that the model architecture matches the shape of your data. It’s the initial layer's responsibility to match this input shape, setting the stage for the entire convolutional process\n",
        "\n",
        "It is up to you to set the correct values for the `input_dim`. These values were printed out in **Step X**.\n",
        "\n",
        "**IMPORTANT WARNING:**\n",
        "\n",
        "Probably the most common error students encounter in creating a CNN model is putting in the wrong input dimensions (`input_dim`). If your crashes almost immediately after you start training, it is probably due to the wrong values for the `input_dim` variable.\n",
        "\n",
        "### **Setting the `learning_rate`**\n",
        "\n",
        "Choosing the optimal learning rate for a CNN involves some experimentation and fine-tuning. You can start with a learning rate = 0.0001. If training proceeds smoothly, that's great. However, if encounter a problem you could increase or decrease the learning rate to see if that resolves the issue.\n"
      ]
    },
    {
      "cell_type": "code",
      "source": [
        "# Example Step - 5: Construct and compile CNN model\n",
        "\n",
        "from tensorflow.keras.models import Sequential\n",
        "from tensorflow.keras.layers import Conv2D, MaxPooling2D, Flatten, Dense, Dropout, BatchNormalization, Input\n",
        "from tensorflow.keras.utils import to_categorical\n",
        "from keras.callbacks import EarlyStopping\n",
        "from tensorflow.keras.optimizers import Adam\n",
        "from tensorflow.keras.regularizers import l2\n",
        "import numpy as np\n",
        "\n",
        "# Define input_dim: Must be the pixel size of your images\n",
        "input_dim = (64, 64, 1)\n",
        "\n",
        "# Sete learning rate\n",
        "learning_rate = 0.0001\n",
        "\n",
        "# Create CNN model\n",
        "model = Sequential([\n",
        "    # Input Layer\n",
        "    Input(shape=input_dim),\n",
        "\n",
        "    # 1st Convolution layer\n",
        "    Conv2D(16, (3, 3), activation='relu', kernel_regularizer=l2(0.01)),\n",
        "    MaxPooling2D(2, 2),\n",
        "    BatchNormalization(),\n",
        "\n",
        "    # 2nd Convolution layer\n",
        "    Conv2D(32, (3, 3), activation='relu', kernel_regularizer=l2(0.01)),\n",
        "    MaxPooling2D(2, 2),\n",
        "    BatchNormalization(),\n",
        "    Dropout(0.5),\n",
        "\n",
        "    # 3rd Convolution layer\n",
        "    Conv2D(64, (3, 3), activation='relu', kernel_regularizer=l2(0.01)),\n",
        "    MaxPooling2D(2, 2),\n",
        "    BatchNormalization(),\n",
        "    Dropout(0.5),\n",
        "\n",
        "    # 4th Convolution layer\n",
        "    Conv2D(128, (3, 3), activation='relu', kernel_regularizer=l2(0.01)),\n",
        "    MaxPooling2D(2, 2),\n",
        "    BatchNormalization(),\n",
        "    Dropout(0.5),\n",
        "\n",
        "    # Flatten the results to feed into a DNN\n",
        "    Flatten(),\n",
        "    Dropout(0.5),\n",
        "\n",
        "    # 512 neuron hidden layer\n",
        "    Dense(512, activation='relu'),\n",
        "    BatchNormalization(),\n",
        "\n",
        "    # Output layer has neurons equal to class_count\n",
        "    Dense(class_count, activation='softmax')\n",
        "])\n",
        "\n",
        "# Compile model\n",
        "model.compile(\n",
        "    loss='categorical_crossentropy',\n",
        "    optimizer=Adam(learning_rate=learning_rate),\n",
        "    metrics=['accuracy']\n",
        ")\n",
        "\n",
        "# Create early stopping monitor\n",
        "e_stop_monitor = EarlyStopping(monitor='val_loss',\n",
        "                 min_delta=1e-3, patience=10,\n",
        "                 verbose=1, mode='auto',\n",
        "                 restore_best_weights=True)\n",
        "\n",
        "# Print model summary\n",
        "model.summary()\n"
      ],
      "metadata": {
        "id": "QbuyJWp_msHD",
        "colab": {
          "base_uri": "https://localhost:8080/",
          "height": 854
        },
        "outputId": "7cb8821f-9aff-4967-9b51-5d186872cb97"
      },
      "execution_count": 79,
      "outputs": [
        {
          "output_type": "display_data",
          "data": {
            "text/plain": [
              "\u001b[1mModel: \"sequential_4\"\u001b[0m\n"
            ],
            "text/html": [
              "<pre style=\"white-space:pre;overflow-x:auto;line-height:normal;font-family:Menlo,'DejaVu Sans Mono',consolas,'Courier New',monospace\"><span style=\"font-weight: bold\">Model: \"sequential_4\"</span>\n",
              "</pre>\n"
            ]
          },
          "metadata": {}
        },
        {
          "output_type": "display_data",
          "data": {
            "text/plain": [
              "┏━━━━━━━━━━━━━━━━━━━━━━━━━━━━━━━━━━━━━━┳━━━━━━━━━━━━━━━━━━━━━━━━━━━━━┳━━━━━━━━━━━━━━━━━┓\n",
              "┃\u001b[1m \u001b[0m\u001b[1mLayer (type)                        \u001b[0m\u001b[1m \u001b[0m┃\u001b[1m \u001b[0m\u001b[1mOutput Shape               \u001b[0m\u001b[1m \u001b[0m┃\u001b[1m \u001b[0m\u001b[1m        Param #\u001b[0m\u001b[1m \u001b[0m┃\n",
              "┡━━━━━━━━━━━━━━━━━━━━━━━━━━━━━━━━━━━━━━╇━━━━━━━━━━━━━━━━━━━━━━━━━━━━━╇━━━━━━━━━━━━━━━━━┩\n",
              "│ conv2d_16 (\u001b[38;5;33mConv2D\u001b[0m)                   │ (\u001b[38;5;45mNone\u001b[0m, \u001b[38;5;34m62\u001b[0m, \u001b[38;5;34m62\u001b[0m, \u001b[38;5;34m16\u001b[0m)          │             \u001b[38;5;34m160\u001b[0m │\n",
              "├──────────────────────────────────────┼─────────────────────────────┼─────────────────┤\n",
              "│ max_pooling2d_16 (\u001b[38;5;33mMaxPooling2D\u001b[0m)      │ (\u001b[38;5;45mNone\u001b[0m, \u001b[38;5;34m31\u001b[0m, \u001b[38;5;34m31\u001b[0m, \u001b[38;5;34m16\u001b[0m)          │               \u001b[38;5;34m0\u001b[0m │\n",
              "├──────────────────────────────────────┼─────────────────────────────┼─────────────────┤\n",
              "│ batch_normalization_20               │ (\u001b[38;5;45mNone\u001b[0m, \u001b[38;5;34m31\u001b[0m, \u001b[38;5;34m31\u001b[0m, \u001b[38;5;34m16\u001b[0m)          │              \u001b[38;5;34m64\u001b[0m │\n",
              "│ (\u001b[38;5;33mBatchNormalization\u001b[0m)                 │                             │                 │\n",
              "├──────────────────────────────────────┼─────────────────────────────┼─────────────────┤\n",
              "│ conv2d_17 (\u001b[38;5;33mConv2D\u001b[0m)                   │ (\u001b[38;5;45mNone\u001b[0m, \u001b[38;5;34m29\u001b[0m, \u001b[38;5;34m29\u001b[0m, \u001b[38;5;34m32\u001b[0m)          │           \u001b[38;5;34m4,640\u001b[0m │\n",
              "├──────────────────────────────────────┼─────────────────────────────┼─────────────────┤\n",
              "│ max_pooling2d_17 (\u001b[38;5;33mMaxPooling2D\u001b[0m)      │ (\u001b[38;5;45mNone\u001b[0m, \u001b[38;5;34m14\u001b[0m, \u001b[38;5;34m14\u001b[0m, \u001b[38;5;34m32\u001b[0m)          │               \u001b[38;5;34m0\u001b[0m │\n",
              "├──────────────────────────────────────┼─────────────────────────────┼─────────────────┤\n",
              "│ batch_normalization_21               │ (\u001b[38;5;45mNone\u001b[0m, \u001b[38;5;34m14\u001b[0m, \u001b[38;5;34m14\u001b[0m, \u001b[38;5;34m32\u001b[0m)          │             \u001b[38;5;34m128\u001b[0m │\n",
              "│ (\u001b[38;5;33mBatchNormalization\u001b[0m)                 │                             │                 │\n",
              "├──────────────────────────────────────┼─────────────────────────────┼─────────────────┤\n",
              "│ dropout_16 (\u001b[38;5;33mDropout\u001b[0m)                 │ (\u001b[38;5;45mNone\u001b[0m, \u001b[38;5;34m14\u001b[0m, \u001b[38;5;34m14\u001b[0m, \u001b[38;5;34m32\u001b[0m)          │               \u001b[38;5;34m0\u001b[0m │\n",
              "├──────────────────────────────────────┼─────────────────────────────┼─────────────────┤\n",
              "│ conv2d_18 (\u001b[38;5;33mConv2D\u001b[0m)                   │ (\u001b[38;5;45mNone\u001b[0m, \u001b[38;5;34m12\u001b[0m, \u001b[38;5;34m12\u001b[0m, \u001b[38;5;34m64\u001b[0m)          │          \u001b[38;5;34m18,496\u001b[0m │\n",
              "├──────────────────────────────────────┼─────────────────────────────┼─────────────────┤\n",
              "│ max_pooling2d_18 (\u001b[38;5;33mMaxPooling2D\u001b[0m)      │ (\u001b[38;5;45mNone\u001b[0m, \u001b[38;5;34m6\u001b[0m, \u001b[38;5;34m6\u001b[0m, \u001b[38;5;34m64\u001b[0m)            │               \u001b[38;5;34m0\u001b[0m │\n",
              "├──────────────────────────────────────┼─────────────────────────────┼─────────────────┤\n",
              "│ batch_normalization_22               │ (\u001b[38;5;45mNone\u001b[0m, \u001b[38;5;34m6\u001b[0m, \u001b[38;5;34m6\u001b[0m, \u001b[38;5;34m64\u001b[0m)            │             \u001b[38;5;34m256\u001b[0m │\n",
              "│ (\u001b[38;5;33mBatchNormalization\u001b[0m)                 │                             │                 │\n",
              "├──────────────────────────────────────┼─────────────────────────────┼─────────────────┤\n",
              "│ dropout_17 (\u001b[38;5;33mDropout\u001b[0m)                 │ (\u001b[38;5;45mNone\u001b[0m, \u001b[38;5;34m6\u001b[0m, \u001b[38;5;34m6\u001b[0m, \u001b[38;5;34m64\u001b[0m)            │               \u001b[38;5;34m0\u001b[0m │\n",
              "├──────────────────────────────────────┼─────────────────────────────┼─────────────────┤\n",
              "│ conv2d_19 (\u001b[38;5;33mConv2D\u001b[0m)                   │ (\u001b[38;5;45mNone\u001b[0m, \u001b[38;5;34m4\u001b[0m, \u001b[38;5;34m4\u001b[0m, \u001b[38;5;34m128\u001b[0m)           │          \u001b[38;5;34m73,856\u001b[0m │\n",
              "├──────────────────────────────────────┼─────────────────────────────┼─────────────────┤\n",
              "│ max_pooling2d_19 (\u001b[38;5;33mMaxPooling2D\u001b[0m)      │ (\u001b[38;5;45mNone\u001b[0m, \u001b[38;5;34m2\u001b[0m, \u001b[38;5;34m2\u001b[0m, \u001b[38;5;34m128\u001b[0m)           │               \u001b[38;5;34m0\u001b[0m │\n",
              "├──────────────────────────────────────┼─────────────────────────────┼─────────────────┤\n",
              "│ batch_normalization_23               │ (\u001b[38;5;45mNone\u001b[0m, \u001b[38;5;34m2\u001b[0m, \u001b[38;5;34m2\u001b[0m, \u001b[38;5;34m128\u001b[0m)           │             \u001b[38;5;34m512\u001b[0m │\n",
              "│ (\u001b[38;5;33mBatchNormalization\u001b[0m)                 │                             │                 │\n",
              "├──────────────────────────────────────┼─────────────────────────────┼─────────────────┤\n",
              "│ dropout_18 (\u001b[38;5;33mDropout\u001b[0m)                 │ (\u001b[38;5;45mNone\u001b[0m, \u001b[38;5;34m2\u001b[0m, \u001b[38;5;34m2\u001b[0m, \u001b[38;5;34m128\u001b[0m)           │               \u001b[38;5;34m0\u001b[0m │\n",
              "├──────────────────────────────────────┼─────────────────────────────┼─────────────────┤\n",
              "│ flatten_4 (\u001b[38;5;33mFlatten\u001b[0m)                  │ (\u001b[38;5;45mNone\u001b[0m, \u001b[38;5;34m512\u001b[0m)                 │               \u001b[38;5;34m0\u001b[0m │\n",
              "├──────────────────────────────────────┼─────────────────────────────┼─────────────────┤\n",
              "│ dropout_19 (\u001b[38;5;33mDropout\u001b[0m)                 │ (\u001b[38;5;45mNone\u001b[0m, \u001b[38;5;34m512\u001b[0m)                 │               \u001b[38;5;34m0\u001b[0m │\n",
              "├──────────────────────────────────────┼─────────────────────────────┼─────────────────┤\n",
              "│ dense_8 (\u001b[38;5;33mDense\u001b[0m)                      │ (\u001b[38;5;45mNone\u001b[0m, \u001b[38;5;34m512\u001b[0m)                 │         \u001b[38;5;34m262,656\u001b[0m │\n",
              "├──────────────────────────────────────┼─────────────────────────────┼─────────────────┤\n",
              "│ batch_normalization_24               │ (\u001b[38;5;45mNone\u001b[0m, \u001b[38;5;34m512\u001b[0m)                 │           \u001b[38;5;34m2,048\u001b[0m │\n",
              "│ (\u001b[38;5;33mBatchNormalization\u001b[0m)                 │                             │                 │\n",
              "├──────────────────────────────────────┼─────────────────────────────┼─────────────────┤\n",
              "│ dense_9 (\u001b[38;5;33mDense\u001b[0m)                      │ (\u001b[38;5;45mNone\u001b[0m, \u001b[38;5;34m11\u001b[0m)                  │           \u001b[38;5;34m5,643\u001b[0m │\n",
              "└──────────────────────────────────────┴─────────────────────────────┴─────────────────┘\n"
            ],
            "text/html": [
              "<pre style=\"white-space:pre;overflow-x:auto;line-height:normal;font-family:Menlo,'DejaVu Sans Mono',consolas,'Courier New',monospace\">┏━━━━━━━━━━━━━━━━━━━━━━━━━━━━━━━━━━━━━━┳━━━━━━━━━━━━━━━━━━━━━━━━━━━━━┳━━━━━━━━━━━━━━━━━┓\n",
              "┃<span style=\"font-weight: bold\"> Layer (type)                         </span>┃<span style=\"font-weight: bold\"> Output Shape                </span>┃<span style=\"font-weight: bold\">         Param # </span>┃\n",
              "┡━━━━━━━━━━━━━━━━━━━━━━━━━━━━━━━━━━━━━━╇━━━━━━━━━━━━━━━━━━━━━━━━━━━━━╇━━━━━━━━━━━━━━━━━┩\n",
              "│ conv2d_16 (<span style=\"color: #0087ff; text-decoration-color: #0087ff\">Conv2D</span>)                   │ (<span style=\"color: #00d7ff; text-decoration-color: #00d7ff\">None</span>, <span style=\"color: #00af00; text-decoration-color: #00af00\">62</span>, <span style=\"color: #00af00; text-decoration-color: #00af00\">62</span>, <span style=\"color: #00af00; text-decoration-color: #00af00\">16</span>)          │             <span style=\"color: #00af00; text-decoration-color: #00af00\">160</span> │\n",
              "├──────────────────────────────────────┼─────────────────────────────┼─────────────────┤\n",
              "│ max_pooling2d_16 (<span style=\"color: #0087ff; text-decoration-color: #0087ff\">MaxPooling2D</span>)      │ (<span style=\"color: #00d7ff; text-decoration-color: #00d7ff\">None</span>, <span style=\"color: #00af00; text-decoration-color: #00af00\">31</span>, <span style=\"color: #00af00; text-decoration-color: #00af00\">31</span>, <span style=\"color: #00af00; text-decoration-color: #00af00\">16</span>)          │               <span style=\"color: #00af00; text-decoration-color: #00af00\">0</span> │\n",
              "├──────────────────────────────────────┼─────────────────────────────┼─────────────────┤\n",
              "│ batch_normalization_20               │ (<span style=\"color: #00d7ff; text-decoration-color: #00d7ff\">None</span>, <span style=\"color: #00af00; text-decoration-color: #00af00\">31</span>, <span style=\"color: #00af00; text-decoration-color: #00af00\">31</span>, <span style=\"color: #00af00; text-decoration-color: #00af00\">16</span>)          │              <span style=\"color: #00af00; text-decoration-color: #00af00\">64</span> │\n",
              "│ (<span style=\"color: #0087ff; text-decoration-color: #0087ff\">BatchNormalization</span>)                 │                             │                 │\n",
              "├──────────────────────────────────────┼─────────────────────────────┼─────────────────┤\n",
              "│ conv2d_17 (<span style=\"color: #0087ff; text-decoration-color: #0087ff\">Conv2D</span>)                   │ (<span style=\"color: #00d7ff; text-decoration-color: #00d7ff\">None</span>, <span style=\"color: #00af00; text-decoration-color: #00af00\">29</span>, <span style=\"color: #00af00; text-decoration-color: #00af00\">29</span>, <span style=\"color: #00af00; text-decoration-color: #00af00\">32</span>)          │           <span style=\"color: #00af00; text-decoration-color: #00af00\">4,640</span> │\n",
              "├──────────────────────────────────────┼─────────────────────────────┼─────────────────┤\n",
              "│ max_pooling2d_17 (<span style=\"color: #0087ff; text-decoration-color: #0087ff\">MaxPooling2D</span>)      │ (<span style=\"color: #00d7ff; text-decoration-color: #00d7ff\">None</span>, <span style=\"color: #00af00; text-decoration-color: #00af00\">14</span>, <span style=\"color: #00af00; text-decoration-color: #00af00\">14</span>, <span style=\"color: #00af00; text-decoration-color: #00af00\">32</span>)          │               <span style=\"color: #00af00; text-decoration-color: #00af00\">0</span> │\n",
              "├──────────────────────────────────────┼─────────────────────────────┼─────────────────┤\n",
              "│ batch_normalization_21               │ (<span style=\"color: #00d7ff; text-decoration-color: #00d7ff\">None</span>, <span style=\"color: #00af00; text-decoration-color: #00af00\">14</span>, <span style=\"color: #00af00; text-decoration-color: #00af00\">14</span>, <span style=\"color: #00af00; text-decoration-color: #00af00\">32</span>)          │             <span style=\"color: #00af00; text-decoration-color: #00af00\">128</span> │\n",
              "│ (<span style=\"color: #0087ff; text-decoration-color: #0087ff\">BatchNormalization</span>)                 │                             │                 │\n",
              "├──────────────────────────────────────┼─────────────────────────────┼─────────────────┤\n",
              "│ dropout_16 (<span style=\"color: #0087ff; text-decoration-color: #0087ff\">Dropout</span>)                 │ (<span style=\"color: #00d7ff; text-decoration-color: #00d7ff\">None</span>, <span style=\"color: #00af00; text-decoration-color: #00af00\">14</span>, <span style=\"color: #00af00; text-decoration-color: #00af00\">14</span>, <span style=\"color: #00af00; text-decoration-color: #00af00\">32</span>)          │               <span style=\"color: #00af00; text-decoration-color: #00af00\">0</span> │\n",
              "├──────────────────────────────────────┼─────────────────────────────┼─────────────────┤\n",
              "│ conv2d_18 (<span style=\"color: #0087ff; text-decoration-color: #0087ff\">Conv2D</span>)                   │ (<span style=\"color: #00d7ff; text-decoration-color: #00d7ff\">None</span>, <span style=\"color: #00af00; text-decoration-color: #00af00\">12</span>, <span style=\"color: #00af00; text-decoration-color: #00af00\">12</span>, <span style=\"color: #00af00; text-decoration-color: #00af00\">64</span>)          │          <span style=\"color: #00af00; text-decoration-color: #00af00\">18,496</span> │\n",
              "├──────────────────────────────────────┼─────────────────────────────┼─────────────────┤\n",
              "│ max_pooling2d_18 (<span style=\"color: #0087ff; text-decoration-color: #0087ff\">MaxPooling2D</span>)      │ (<span style=\"color: #00d7ff; text-decoration-color: #00d7ff\">None</span>, <span style=\"color: #00af00; text-decoration-color: #00af00\">6</span>, <span style=\"color: #00af00; text-decoration-color: #00af00\">6</span>, <span style=\"color: #00af00; text-decoration-color: #00af00\">64</span>)            │               <span style=\"color: #00af00; text-decoration-color: #00af00\">0</span> │\n",
              "├──────────────────────────────────────┼─────────────────────────────┼─────────────────┤\n",
              "│ batch_normalization_22               │ (<span style=\"color: #00d7ff; text-decoration-color: #00d7ff\">None</span>, <span style=\"color: #00af00; text-decoration-color: #00af00\">6</span>, <span style=\"color: #00af00; text-decoration-color: #00af00\">6</span>, <span style=\"color: #00af00; text-decoration-color: #00af00\">64</span>)            │             <span style=\"color: #00af00; text-decoration-color: #00af00\">256</span> │\n",
              "│ (<span style=\"color: #0087ff; text-decoration-color: #0087ff\">BatchNormalization</span>)                 │                             │                 │\n",
              "├──────────────────────────────────────┼─────────────────────────────┼─────────────────┤\n",
              "│ dropout_17 (<span style=\"color: #0087ff; text-decoration-color: #0087ff\">Dropout</span>)                 │ (<span style=\"color: #00d7ff; text-decoration-color: #00d7ff\">None</span>, <span style=\"color: #00af00; text-decoration-color: #00af00\">6</span>, <span style=\"color: #00af00; text-decoration-color: #00af00\">6</span>, <span style=\"color: #00af00; text-decoration-color: #00af00\">64</span>)            │               <span style=\"color: #00af00; text-decoration-color: #00af00\">0</span> │\n",
              "├──────────────────────────────────────┼─────────────────────────────┼─────────────────┤\n",
              "│ conv2d_19 (<span style=\"color: #0087ff; text-decoration-color: #0087ff\">Conv2D</span>)                   │ (<span style=\"color: #00d7ff; text-decoration-color: #00d7ff\">None</span>, <span style=\"color: #00af00; text-decoration-color: #00af00\">4</span>, <span style=\"color: #00af00; text-decoration-color: #00af00\">4</span>, <span style=\"color: #00af00; text-decoration-color: #00af00\">128</span>)           │          <span style=\"color: #00af00; text-decoration-color: #00af00\">73,856</span> │\n",
              "├──────────────────────────────────────┼─────────────────────────────┼─────────────────┤\n",
              "│ max_pooling2d_19 (<span style=\"color: #0087ff; text-decoration-color: #0087ff\">MaxPooling2D</span>)      │ (<span style=\"color: #00d7ff; text-decoration-color: #00d7ff\">None</span>, <span style=\"color: #00af00; text-decoration-color: #00af00\">2</span>, <span style=\"color: #00af00; text-decoration-color: #00af00\">2</span>, <span style=\"color: #00af00; text-decoration-color: #00af00\">128</span>)           │               <span style=\"color: #00af00; text-decoration-color: #00af00\">0</span> │\n",
              "├──────────────────────────────────────┼─────────────────────────────┼─────────────────┤\n",
              "│ batch_normalization_23               │ (<span style=\"color: #00d7ff; text-decoration-color: #00d7ff\">None</span>, <span style=\"color: #00af00; text-decoration-color: #00af00\">2</span>, <span style=\"color: #00af00; text-decoration-color: #00af00\">2</span>, <span style=\"color: #00af00; text-decoration-color: #00af00\">128</span>)           │             <span style=\"color: #00af00; text-decoration-color: #00af00\">512</span> │\n",
              "│ (<span style=\"color: #0087ff; text-decoration-color: #0087ff\">BatchNormalization</span>)                 │                             │                 │\n",
              "├──────────────────────────────────────┼─────────────────────────────┼─────────────────┤\n",
              "│ dropout_18 (<span style=\"color: #0087ff; text-decoration-color: #0087ff\">Dropout</span>)                 │ (<span style=\"color: #00d7ff; text-decoration-color: #00d7ff\">None</span>, <span style=\"color: #00af00; text-decoration-color: #00af00\">2</span>, <span style=\"color: #00af00; text-decoration-color: #00af00\">2</span>, <span style=\"color: #00af00; text-decoration-color: #00af00\">128</span>)           │               <span style=\"color: #00af00; text-decoration-color: #00af00\">0</span> │\n",
              "├──────────────────────────────────────┼─────────────────────────────┼─────────────────┤\n",
              "│ flatten_4 (<span style=\"color: #0087ff; text-decoration-color: #0087ff\">Flatten</span>)                  │ (<span style=\"color: #00d7ff; text-decoration-color: #00d7ff\">None</span>, <span style=\"color: #00af00; text-decoration-color: #00af00\">512</span>)                 │               <span style=\"color: #00af00; text-decoration-color: #00af00\">0</span> │\n",
              "├──────────────────────────────────────┼─────────────────────────────┼─────────────────┤\n",
              "│ dropout_19 (<span style=\"color: #0087ff; text-decoration-color: #0087ff\">Dropout</span>)                 │ (<span style=\"color: #00d7ff; text-decoration-color: #00d7ff\">None</span>, <span style=\"color: #00af00; text-decoration-color: #00af00\">512</span>)                 │               <span style=\"color: #00af00; text-decoration-color: #00af00\">0</span> │\n",
              "├──────────────────────────────────────┼─────────────────────────────┼─────────────────┤\n",
              "│ dense_8 (<span style=\"color: #0087ff; text-decoration-color: #0087ff\">Dense</span>)                      │ (<span style=\"color: #00d7ff; text-decoration-color: #00d7ff\">None</span>, <span style=\"color: #00af00; text-decoration-color: #00af00\">512</span>)                 │         <span style=\"color: #00af00; text-decoration-color: #00af00\">262,656</span> │\n",
              "├──────────────────────────────────────┼─────────────────────────────┼─────────────────┤\n",
              "│ batch_normalization_24               │ (<span style=\"color: #00d7ff; text-decoration-color: #00d7ff\">None</span>, <span style=\"color: #00af00; text-decoration-color: #00af00\">512</span>)                 │           <span style=\"color: #00af00; text-decoration-color: #00af00\">2,048</span> │\n",
              "│ (<span style=\"color: #0087ff; text-decoration-color: #0087ff\">BatchNormalization</span>)                 │                             │                 │\n",
              "├──────────────────────────────────────┼─────────────────────────────┼─────────────────┤\n",
              "│ dense_9 (<span style=\"color: #0087ff; text-decoration-color: #0087ff\">Dense</span>)                      │ (<span style=\"color: #00d7ff; text-decoration-color: #00d7ff\">None</span>, <span style=\"color: #00af00; text-decoration-color: #00af00\">11</span>)                  │           <span style=\"color: #00af00; text-decoration-color: #00af00\">5,643</span> │\n",
              "└──────────────────────────────────────┴─────────────────────────────┴─────────────────┘\n",
              "</pre>\n"
            ]
          },
          "metadata": {}
        },
        {
          "output_type": "display_data",
          "data": {
            "text/plain": [
              "\u001b[1m Total params: \u001b[0m\u001b[38;5;34m368,459\u001b[0m (1.41 MB)\n"
            ],
            "text/html": [
              "<pre style=\"white-space:pre;overflow-x:auto;line-height:normal;font-family:Menlo,'DejaVu Sans Mono',consolas,'Courier New',monospace\"><span style=\"font-weight: bold\"> Total params: </span><span style=\"color: #00af00; text-decoration-color: #00af00\">368,459</span> (1.41 MB)\n",
              "</pre>\n"
            ]
          },
          "metadata": {}
        },
        {
          "output_type": "display_data",
          "data": {
            "text/plain": [
              "\u001b[1m Trainable params: \u001b[0m\u001b[38;5;34m366,955\u001b[0m (1.40 MB)\n"
            ],
            "text/html": [
              "<pre style=\"white-space:pre;overflow-x:auto;line-height:normal;font-family:Menlo,'DejaVu Sans Mono',consolas,'Courier New',monospace\"><span style=\"font-weight: bold\"> Trainable params: </span><span style=\"color: #00af00; text-decoration-color: #00af00\">366,955</span> (1.40 MB)\n",
              "</pre>\n"
            ]
          },
          "metadata": {}
        },
        {
          "output_type": "display_data",
          "data": {
            "text/plain": [
              "\u001b[1m Non-trainable params: \u001b[0m\u001b[38;5;34m1,504\u001b[0m (5.88 KB)\n"
            ],
            "text/html": [
              "<pre style=\"white-space:pre;overflow-x:auto;line-height:normal;font-family:Menlo,'DejaVu Sans Mono',consolas,'Courier New',monospace\"><span style=\"font-weight: bold\"> Non-trainable params: </span><span style=\"color: #00af00; text-decoration-color: #00af00\">1,504</span> (5.88 KB)\n",
              "</pre>\n"
            ]
          },
          "metadata": {}
        }
      ]
    },
    {
      "cell_type": "markdown",
      "metadata": {
        "id": "SJZweTywHAIb"
      },
      "source": [
        "### **Step - 6: Train the Neural Network**\n",
        "\n",
        "In the cell below, write the Python code to train the neural network that you constructed and compiled above.\n",
        "\n",
        "Set your number of EPOCHS to 100. When it comes to BATCH_SIZE, set it either to `64` or `128`.\n",
        "\n",
        "### **Setting the `BATCH_SIZE`**\n",
        "\n",
        "Batch size in a CNN (or any neural network) refers to the number of training examples used in one forward and backward pass through the network.\n",
        "\n",
        "##### **Why It Matters:**\n",
        "* **Memory Management:** Larger batch sizes can make better use of your GPU's memory, leading to faster training times. However, they require more memory.\n",
        "* **Gradient Estimates:** Smaller batch sizes provide noisier estimates of the gradient, which can help the model escape local minima and potentially improve generalization.\n",
        "* **Training Speed:** Larger batches tend to converge faster in terms of iterations but might take longer in terms of wall-clock time due to the increased computations.\n",
        "\n",
        "##### **Choosing Batch Size:**\n",
        "* Common choices are powers of 2 (e.g., 32, 64, 128), as they align well with memory allocation in hardware.\n",
        "\n",
        "* Experiment with different sizes to see what works best for your specific dataset and model architecture.\n",
        "\n",
        "The sweet spot for batch size often depends on your specific hardware and dataset, so some experimentation is usually required.\n",
        "\n",
        "### **Setting the `steps_per_epoch`**\n",
        "\n",
        "**steps_per_epoch** defines how many batches of data the model will train on in one epoch. The optimal step size is equal to the number of images in `train_X` divided by the batch size. In the code below, the `STEPS_PER_EPOCH` is set automatically using the following code chunk:\n",
        "\n",
        "~~~text\n",
        "STEPS_PER_EPOCH = len(train_X) // BATCH_SIZE\n",
        "~~~\n",
        "\n"
      ]
    },
    {
      "cell_type": "code",
      "source": [
        "# Insert your code for Step - 6\n",
        "\n",
        "import time\n",
        "import tensorflow as tf\n",
        "import numpy as np\n",
        "\n",
        "# Set variables\n",
        "EPOCHS = 100\n",
        "BATCH_SIZE = 64\n",
        "STEPS_PER_EPOCH = len(train_X) // BATCH_SIZE\n",
        "\n",
        "# Record start time\n",
        "start_time = time.time()\n",
        "\n",
        "# Print header\n",
        "print(f\"----- Training is starting for {EPOCHS} epochs, batch size: {BATCH_SIZE}, steps per epoch: {STEPS_PER_EPOCH}, runtime GPU/TPU: {my_GPU} --------------\")\n",
        "\n",
        "# Train the model\n",
        "history = model.fit(train_X, train_Y,\n",
        "                    validation_data=(test_X, test_Y),\n",
        "                    epochs=EPOCHS, batch_size=BATCH_SIZE,\n",
        "                    steps_per_epoch=STEPS_PER_EPOCH,\n",
        "                    callbacks=[e_stop_monitor])\n",
        "\n",
        "\n",
        "# Record end time\n",
        "elapsed_time = time.time() - start_time\n",
        "\n",
        "# Print elapsed time\n",
        "print(f\"Elapsed time: {hms_string(elapsed_time)}\")\n"
      ],
      "metadata": {
        "id": "GLUZBXGUzTnV",
        "colab": {
          "base_uri": "https://localhost:8080/"
        },
        "outputId": "2cc4d8ac-ed53-4eb3-9cce-ed3890156cec"
      },
      "execution_count": 80,
      "outputs": [
        {
          "output_type": "stream",
          "name": "stdout",
          "text": [
            "----- Training is starting for 100 epochs, batch size: 64, steps per epoch: 653, runtime GPU/TPU: A100 GPU --------------\n",
            "Epoch 1/100\n",
            "\u001b[1m653/653\u001b[0m \u001b[32m━━━━━━━━━━━━━━━━━━━━\u001b[0m\u001b[37m\u001b[0m \u001b[1m12s\u001b[0m 6ms/step - accuracy: 0.2795 - loss: 3.6868 - val_accuracy: 0.2438 - val_loss: 3.7988\n",
            "Epoch 2/100\n",
            "\u001b[1m  1/653\u001b[0m \u001b[37m━━━━━━━━━━━━━━━━━━━━\u001b[0m \u001b[1m58:25\u001b[0m 5s/step - accuracy: 0.5000 - loss: 2.9902"
          ]
        },
        {
          "output_type": "stream",
          "name": "stderr",
          "text": [
            "/usr/lib/python3.10/contextlib.py:153: UserWarning: Your input ran out of data; interrupting training. Make sure that your dataset or generator can generate at least `steps_per_epoch * epochs` batches. You may need to use the `.repeat()` function when building your dataset.\n",
            "  self.gen.throw(typ, value, traceback)\n"
          ]
        },
        {
          "output_type": "stream",
          "name": "stdout",
          "text": [
            "\b\b\b\b\b\b\b\b\b\b\b\b\b\b\b\b\b\b\b\b\b\b\b\b\b\b\b\b\b\b\b\b\b\b\b\b\b\b\b\b\b\b\b\b\b\b\b\b\b\b\b\b\b\b\b\b\b\b\b\b\b\b\b\b\b\b\b\b\b\b\b\b\b\b\b\b\r\u001b[1m653/653\u001b[0m \u001b[32m━━━━━━━━━━━━━━━━━━━━\u001b[0m\u001b[37m\u001b[0m \u001b[1m6s\u001b[0m 438us/step - accuracy: 0.5000 - loss: 2.9902 - val_accuracy: 0.2435 - val_loss: 3.7985\n",
            "Epoch 3/100\n",
            "\u001b[1m653/653\u001b[0m \u001b[32m━━━━━━━━━━━━━━━━━━━━\u001b[0m\u001b[37m\u001b[0m \u001b[1m2s\u001b[0m 4ms/step - accuracy: 0.4591 - loss: 2.8702 - val_accuracy: 0.2409 - val_loss: 3.9833\n",
            "Epoch 4/100\n",
            "\u001b[1m653/653\u001b[0m \u001b[32m━━━━━━━━━━━━━━━━━━━━\u001b[0m\u001b[37m\u001b[0m \u001b[1m0s\u001b[0m 426us/step - accuracy: 0.2500 - loss: 4.7264 - val_accuracy: 0.2380 - val_loss: 3.9826\n",
            "Epoch 5/100\n",
            "\u001b[1m653/653\u001b[0m \u001b[32m━━━━━━━━━━━━━━━━━━━━\u001b[0m\u001b[37m\u001b[0m \u001b[1m2s\u001b[0m 3ms/step - accuracy: 0.5066 - loss: 2.5623 - val_accuracy: 0.2595 - val_loss: 3.7881\n",
            "Epoch 6/100\n",
            "\u001b[1m653/653\u001b[0m \u001b[32m━━━━━━━━━━━━━━━━━━━━\u001b[0m\u001b[37m\u001b[0m \u001b[1m0s\u001b[0m 435us/step - accuracy: 0.5000 - loss: 2.4038 - val_accuracy: 0.2589 - val_loss: 3.7787\n",
            "Epoch 7/100\n",
            "\u001b[1m653/653\u001b[0m \u001b[32m━━━━━━━━━━━━━━━━━━━━\u001b[0m\u001b[37m\u001b[0m \u001b[1m2s\u001b[0m 3ms/step - accuracy: 0.5238 - loss: 2.3319 - val_accuracy: 0.2899 - val_loss: 3.5563\n",
            "Epoch 8/100\n",
            "\u001b[1m653/653\u001b[0m \u001b[32m━━━━━━━━━━━━━━━━━━━━\u001b[0m\u001b[37m\u001b[0m \u001b[1m0s\u001b[0m 450us/step - accuracy: 0.5000 - loss: 2.0412 - val_accuracy: 0.2872 - val_loss: 3.5532\n",
            "Epoch 9/100\n",
            "\u001b[1m653/653\u001b[0m \u001b[32m━━━━━━━━━━━━━━━━━━━━\u001b[0m\u001b[37m\u001b[0m \u001b[1m2s\u001b[0m 4ms/step - accuracy: 0.5441 - loss: 2.1394 - val_accuracy: 0.2728 - val_loss: 3.4737\n",
            "Epoch 10/100\n",
            "\u001b[1m653/653\u001b[0m \u001b[32m━━━━━━━━━━━━━━━━━━━━\u001b[0m\u001b[37m\u001b[0m \u001b[1m0s\u001b[0m 421us/step - accuracy: 0.0000e+00 - loss: 3.4059 - val_accuracy: 0.2726 - val_loss: 3.4787\n",
            "Epoch 11/100\n",
            "\u001b[1m653/653\u001b[0m \u001b[32m━━━━━━━━━━━━━━━━━━━━\u001b[0m\u001b[37m\u001b[0m \u001b[1m2s\u001b[0m 4ms/step - accuracy: 0.5612 - loss: 1.9823 - val_accuracy: 0.2889 - val_loss: 3.3391\n",
            "Epoch 12/100\n",
            "\u001b[1m653/653\u001b[0m \u001b[32m━━━━━━━━━━━━━━━━━━━━\u001b[0m\u001b[37m\u001b[0m \u001b[1m0s\u001b[0m 436us/step - accuracy: 0.2500 - loss: 2.8610 - val_accuracy: 0.2871 - val_loss: 3.3345\n",
            "Epoch 13/100\n",
            "\u001b[1m653/653\u001b[0m \u001b[32m━━━━━━━━━━━━━━━━━━━━\u001b[0m\u001b[37m\u001b[0m \u001b[1m2s\u001b[0m 4ms/step - accuracy: 0.5794 - loss: 1.8339 - val_accuracy: 0.3293 - val_loss: 3.2558\n",
            "Epoch 14/100\n",
            "\u001b[1m653/653\u001b[0m \u001b[32m━━━━━━━━━━━━━━━━━━━━\u001b[0m\u001b[37m\u001b[0m \u001b[1m0s\u001b[0m 421us/step - accuracy: 0.7500 - loss: 1.6243 - val_accuracy: 0.3258 - val_loss: 3.2705\n",
            "Epoch 15/100\n",
            "\u001b[1m653/653\u001b[0m \u001b[32m━━━━━━━━━━━━━━━━━━━━\u001b[0m\u001b[37m\u001b[0m \u001b[1m2s\u001b[0m 3ms/step - accuracy: 0.5848 - loss: 1.7104 - val_accuracy: 0.2996 - val_loss: 3.2757\n",
            "Epoch 16/100\n",
            "\u001b[1m653/653\u001b[0m \u001b[32m━━━━━━━━━━━━━━━━━━━━\u001b[0m\u001b[37m\u001b[0m \u001b[1m0s\u001b[0m 424us/step - accuracy: 0.5000 - loss: 2.0247 - val_accuracy: 0.2936 - val_loss: 3.3089\n",
            "Epoch 17/100\n",
            "\u001b[1m653/653\u001b[0m \u001b[32m━━━━━━━━━━━━━━━━━━━━\u001b[0m\u001b[37m\u001b[0m \u001b[1m2s\u001b[0m 4ms/step - accuracy: 0.6022 - loss: 1.5821 - val_accuracy: 0.3137 - val_loss: 3.0106\n",
            "Epoch 18/100\n",
            "\u001b[1m653/653\u001b[0m \u001b[32m━━━━━━━━━━━━━━━━━━━━\u001b[0m\u001b[37m\u001b[0m \u001b[1m0s\u001b[0m 431us/step - accuracy: 0.0000e+00 - loss: 2.8250 - val_accuracy: 0.3202 - val_loss: 3.0198\n",
            "Epoch 19/100\n",
            "\u001b[1m653/653\u001b[0m \u001b[32m━━━━━━━━━━━━━━━━━━━━\u001b[0m\u001b[37m\u001b[0m \u001b[1m2s\u001b[0m 4ms/step - accuracy: 0.6087 - loss: 1.5029 - val_accuracy: 0.3287 - val_loss: 2.8556\n",
            "Epoch 20/100\n",
            "\u001b[1m653/653\u001b[0m \u001b[32m━━━━━━━━━━━━━━━━━━━━\u001b[0m\u001b[37m\u001b[0m \u001b[1m0s\u001b[0m 427us/step - accuracy: 0.7500 - loss: 1.2569 - val_accuracy: 0.3222 - val_loss: 2.8804\n",
            "Epoch 21/100\n",
            "\u001b[1m653/653\u001b[0m \u001b[32m━━━━━━━━━━━━━━━━━━━━\u001b[0m\u001b[37m\u001b[0m \u001b[1m2s\u001b[0m 4ms/step - accuracy: 0.6240 - loss: 1.4063 - val_accuracy: 0.3614 - val_loss: 2.6530\n",
            "Epoch 22/100\n",
            "\u001b[1m653/653\u001b[0m \u001b[32m━━━━━━━━━━━━━━━━━━━━\u001b[0m\u001b[37m\u001b[0m \u001b[1m0s\u001b[0m 435us/step - accuracy: 0.7500 - loss: 1.0632 - val_accuracy: 0.3753 - val_loss: 2.6072\n",
            "Epoch 23/100\n",
            "\u001b[1m653/653\u001b[0m \u001b[32m━━━━━━━━━━━━━━━━━━━━\u001b[0m\u001b[37m\u001b[0m \u001b[1m2s\u001b[0m 4ms/step - accuracy: 0.6333 - loss: 1.3312 - val_accuracy: 0.4174 - val_loss: 2.2802\n",
            "Epoch 24/100\n",
            "\u001b[1m653/653\u001b[0m \u001b[32m━━━━━━━━━━━━━━━━━━━━\u001b[0m\u001b[37m\u001b[0m \u001b[1m0s\u001b[0m 444us/step - accuracy: 0.5000 - loss: 1.3664 - val_accuracy: 0.4192 - val_loss: 2.2624\n",
            "Epoch 25/100\n",
            "\u001b[1m653/653\u001b[0m \u001b[32m━━━━━━━━━━━━━━━━━━━━\u001b[0m\u001b[37m\u001b[0m \u001b[1m2s\u001b[0m 3ms/step - accuracy: 0.6405 - loss: 1.2694 - val_accuracy: 0.3339 - val_loss: 2.5454\n",
            "Epoch 26/100\n",
            "\u001b[1m653/653\u001b[0m \u001b[32m━━━━━━━━━━━━━━━━━━━━\u001b[0m\u001b[37m\u001b[0m \u001b[1m0s\u001b[0m 427us/step - accuracy: 0.7500 - loss: 1.5589 - val_accuracy: 0.3394 - val_loss: 2.5025\n",
            "Epoch 27/100\n",
            "\u001b[1m653/653\u001b[0m \u001b[32m━━━━━━━━━━━━━━━━━━━━\u001b[0m\u001b[37m\u001b[0m \u001b[1m2s\u001b[0m 4ms/step - accuracy: 0.6507 - loss: 1.2109 - val_accuracy: 0.4620 - val_loss: 1.9160\n",
            "Epoch 28/100\n",
            "\u001b[1m653/653\u001b[0m \u001b[32m━━━━━━━━━━━━━━━━━━━━\u001b[0m\u001b[37m\u001b[0m \u001b[1m0s\u001b[0m 456us/step - accuracy: 0.2500 - loss: 2.1919 - val_accuracy: 0.4639 - val_loss: 1.8975\n",
            "Epoch 29/100\n",
            "\u001b[1m653/653\u001b[0m \u001b[32m━━━━━━━━━━━━━━━━━━━━\u001b[0m\u001b[37m\u001b[0m \u001b[1m2s\u001b[0m 4ms/step - accuracy: 0.6556 - loss: 1.1656 - val_accuracy: 0.4396 - val_loss: 1.8714\n",
            "Epoch 30/100\n",
            "\u001b[1m653/653\u001b[0m \u001b[32m━━━━━━━━━━━━━━━━━━━━\u001b[0m\u001b[37m\u001b[0m \u001b[1m0s\u001b[0m 438us/step - accuracy: 0.2500 - loss: 2.2507 - val_accuracy: 0.4499 - val_loss: 1.8230\n",
            "Epoch 31/100\n",
            "\u001b[1m653/653\u001b[0m \u001b[32m━━━━━━━━━━━━━━━━━━━━\u001b[0m\u001b[37m\u001b[0m \u001b[1m2s\u001b[0m 4ms/step - accuracy: 0.6658 - loss: 1.1156 - val_accuracy: 0.4326 - val_loss: 1.8981\n",
            "Epoch 32/100\n",
            "\u001b[1m653/653\u001b[0m \u001b[32m━━━━━━━━━━━━━━━━━━━━\u001b[0m\u001b[37m\u001b[0m \u001b[1m0s\u001b[0m 437us/step - accuracy: 0.7500 - loss: 0.9372 - val_accuracy: 0.4409 - val_loss: 1.8543\n",
            "Epoch 33/100\n",
            "\u001b[1m653/653\u001b[0m \u001b[32m━━━━━━━━━━━━━━━━━━━━\u001b[0m\u001b[37m\u001b[0m \u001b[1m2s\u001b[0m 4ms/step - accuracy: 0.6731 - loss: 1.0806 - val_accuracy: 0.4609 - val_loss: 1.8245\n",
            "Epoch 34/100\n",
            "\u001b[1m653/653\u001b[0m \u001b[32m━━━━━━━━━━━━━━━━━━━━\u001b[0m\u001b[37m\u001b[0m \u001b[1m0s\u001b[0m 437us/step - accuracy: 0.5000 - loss: 0.9053 - val_accuracy: 0.4644 - val_loss: 1.8016\n",
            "Epoch 35/100\n",
            "\u001b[1m653/653\u001b[0m \u001b[32m━━━━━━━━━━━━━━━━━━━━\u001b[0m\u001b[37m\u001b[0m \u001b[1m2s\u001b[0m 3ms/step - accuracy: 0.6773 - loss: 1.0441 - val_accuracy: 0.4698 - val_loss: 1.8251\n",
            "Epoch 36/100\n",
            "\u001b[1m653/653\u001b[0m \u001b[32m━━━━━━━━━━━━━━━━━━━━\u001b[0m\u001b[37m\u001b[0m \u001b[1m0s\u001b[0m 424us/step - accuracy: 0.5000 - loss: 1.7399 - val_accuracy: 0.4662 - val_loss: 1.8374\n",
            "Epoch 37/100\n",
            "\u001b[1m653/653\u001b[0m \u001b[32m━━━━━━━━━━━━━━━━━━━━\u001b[0m\u001b[37m\u001b[0m \u001b[1m2s\u001b[0m 4ms/step - accuracy: 0.6797 - loss: 1.0180 - val_accuracy: 0.5407 - val_loss: 1.4462\n",
            "Epoch 38/100\n",
            "\u001b[1m653/653\u001b[0m \u001b[32m━━━━━━━━━━━━━━━━━━━━\u001b[0m\u001b[37m\u001b[0m \u001b[1m0s\u001b[0m 458us/step - accuracy: 0.2500 - loss: 1.6186 - val_accuracy: 0.5535 - val_loss: 1.3983\n",
            "Epoch 39/100\n",
            "\u001b[1m653/653\u001b[0m \u001b[32m━━━━━━━━━━━━━━━━━━━━\u001b[0m\u001b[37m\u001b[0m \u001b[1m2s\u001b[0m 4ms/step - accuracy: 0.6881 - loss: 0.9888 - val_accuracy: 0.5711 - val_loss: 1.3192\n",
            "Epoch 40/100\n",
            "\u001b[1m653/653\u001b[0m \u001b[32m━━━━━━━━━━━━━━━━━━━━\u001b[0m\u001b[37m\u001b[0m \u001b[1m0s\u001b[0m 435us/step - accuracy: 0.2500 - loss: 2.5492 - val_accuracy: 0.5754 - val_loss: 1.3045\n",
            "Epoch 41/100\n",
            "\u001b[1m653/653\u001b[0m \u001b[32m━━━━━━━━━━━━━━━━━━━━\u001b[0m\u001b[37m\u001b[0m \u001b[1m2s\u001b[0m 3ms/step - accuracy: 0.6910 - loss: 0.9655 - val_accuracy: 0.5949 - val_loss: 1.2661\n",
            "Epoch 42/100\n",
            "\u001b[1m653/653\u001b[0m \u001b[32m━━━━━━━━━━━━━━━━━━━━\u001b[0m\u001b[37m\u001b[0m \u001b[1m0s\u001b[0m 426us/step - accuracy: 0.5000 - loss: 1.4586 - val_accuracy: 0.5856 - val_loss: 1.2913\n",
            "Epoch 43/100\n",
            "\u001b[1m653/653\u001b[0m \u001b[32m━━━━━━━━━━━━━━━━━━━━\u001b[0m\u001b[37m\u001b[0m \u001b[1m2s\u001b[0m 4ms/step - accuracy: 0.6921 - loss: 0.9507 - val_accuracy: 0.6050 - val_loss: 1.2281\n",
            "Epoch 44/100\n",
            "\u001b[1m653/653\u001b[0m \u001b[32m━━━━━━━━━━━━━━━━━━━━\u001b[0m\u001b[37m\u001b[0m \u001b[1m0s\u001b[0m 438us/step - accuracy: 0.2500 - loss: 4.7256 - val_accuracy: 0.6155 - val_loss: 1.1842\n",
            "Epoch 45/100\n",
            "\u001b[1m653/653\u001b[0m \u001b[32m━━━━━━━━━━━━━━━━━━━━\u001b[0m\u001b[37m\u001b[0m \u001b[1m2s\u001b[0m 4ms/step - accuracy: 0.6991 - loss: 0.9306 - val_accuracy: 0.5361 - val_loss: 1.4139\n",
            "Epoch 46/100\n",
            "\u001b[1m653/653\u001b[0m \u001b[32m━━━━━━━━━━━━━━━━━━━━\u001b[0m\u001b[37m\u001b[0m \u001b[1m0s\u001b[0m 417us/step - accuracy: 0.2500 - loss: 1.2271 - val_accuracy: 0.5425 - val_loss: 1.3927\n",
            "Epoch 47/100\n",
            "\u001b[1m653/653\u001b[0m \u001b[32m━━━━━━━━━━━━━━━━━━━━\u001b[0m\u001b[37m\u001b[0m \u001b[1m2s\u001b[0m 4ms/step - accuracy: 0.7023 - loss: 0.9086 - val_accuracy: 0.5964 - val_loss: 1.2697\n",
            "Epoch 48/100\n",
            "\u001b[1m653/653\u001b[0m \u001b[32m━━━━━━━━━━━━━━━━━━━━\u001b[0m\u001b[37m\u001b[0m \u001b[1m0s\u001b[0m 431us/step - accuracy: 0.2500 - loss: 3.8134 - val_accuracy: 0.5903 - val_loss: 1.2781\n",
            "Epoch 49/100\n",
            "\u001b[1m653/653\u001b[0m \u001b[32m━━━━━━━━━━━━━━━━━━━━\u001b[0m\u001b[37m\u001b[0m \u001b[1m2s\u001b[0m 4ms/step - accuracy: 0.7065 - loss: 0.8940 - val_accuracy: 0.5531 - val_loss: 1.3726\n",
            "Epoch 50/100\n",
            "\u001b[1m653/653\u001b[0m \u001b[32m━━━━━━━━━━━━━━━━━━━━\u001b[0m\u001b[37m\u001b[0m \u001b[1m0s\u001b[0m 423us/step - accuracy: 0.5000 - loss: 1.4532 - val_accuracy: 0.5603 - val_loss: 1.3486\n",
            "Epoch 51/100\n",
            "\u001b[1m653/653\u001b[0m \u001b[32m━━━━━━━━━━━━━━━━━━━━\u001b[0m\u001b[37m\u001b[0m \u001b[1m2s\u001b[0m 4ms/step - accuracy: 0.7089 - loss: 0.8814 - val_accuracy: 0.6410 - val_loss: 1.1055\n",
            "Epoch 52/100\n",
            "\u001b[1m653/653\u001b[0m \u001b[32m━━━━━━━━━━━━━━━━━━━━\u001b[0m\u001b[37m\u001b[0m \u001b[1m0s\u001b[0m 424us/step - accuracy: 1.0000 - loss: 0.4048 - val_accuracy: 0.6301 - val_loss: 1.1397\n",
            "Epoch 53/100\n",
            "\u001b[1m653/653\u001b[0m \u001b[32m━━━━━━━━━━━━━━━━━━━━\u001b[0m\u001b[37m\u001b[0m \u001b[1m2s\u001b[0m 3ms/step - accuracy: 0.7140 - loss: 0.8589 - val_accuracy: 0.6077 - val_loss: 1.1949\n",
            "Epoch 54/100\n",
            "\u001b[1m653/653\u001b[0m \u001b[32m━━━━━━━━━━━━━━━━━━━━\u001b[0m\u001b[37m\u001b[0m \u001b[1m0s\u001b[0m 432us/step - accuracy: 0.7500 - loss: 1.3410 - val_accuracy: 0.5575 - val_loss: 1.4212\n",
            "Epoch 55/100\n",
            "\u001b[1m653/653\u001b[0m \u001b[32m━━━━━━━━━━━━━━━━━━━━\u001b[0m\u001b[37m\u001b[0m \u001b[1m2s\u001b[0m 4ms/step - accuracy: 0.7167 - loss: 0.8517 - val_accuracy: 0.6478 - val_loss: 1.0633\n",
            "Epoch 56/100\n",
            "\u001b[1m653/653\u001b[0m \u001b[32m━━━━━━━━━━━━━━━━━━━━\u001b[0m\u001b[37m\u001b[0m \u001b[1m0s\u001b[0m 442us/step - accuracy: 0.5000 - loss: 1.4468 - val_accuracy: 0.6451 - val_loss: 1.0661\n",
            "Epoch 57/100\n",
            "\u001b[1m653/653\u001b[0m \u001b[32m━━━━━━━━━━━━━━━━━━━━\u001b[0m\u001b[37m\u001b[0m \u001b[1m2s\u001b[0m 4ms/step - accuracy: 0.7182 - loss: 0.8357 - val_accuracy: 0.6528 - val_loss: 1.0357\n",
            "Epoch 58/100\n",
            "\u001b[1m653/653\u001b[0m \u001b[32m━━━━━━━━━━━━━━━━━━━━\u001b[0m\u001b[37m\u001b[0m \u001b[1m0s\u001b[0m 429us/step - accuracy: 0.7500 - loss: 0.8922 - val_accuracy: 0.6515 - val_loss: 1.0364\n",
            "Epoch 59/100\n",
            "\u001b[1m653/653\u001b[0m \u001b[32m━━━━━━━━━━━━━━━━━━━━\u001b[0m\u001b[37m\u001b[0m \u001b[1m2s\u001b[0m 3ms/step - accuracy: 0.7220 - loss: 0.8320 - val_accuracy: 0.6791 - val_loss: 0.9583\n",
            "Epoch 60/100\n",
            "\u001b[1m653/653\u001b[0m \u001b[32m━━━━━━━━━━━━━━━━━━━━\u001b[0m\u001b[37m\u001b[0m \u001b[1m0s\u001b[0m 443us/step - accuracy: 0.7500 - loss: 0.6514 - val_accuracy: 0.6820 - val_loss: 0.9552\n",
            "Epoch 61/100\n",
            "\u001b[1m653/653\u001b[0m \u001b[32m━━━━━━━━━━━━━━━━━━━━\u001b[0m\u001b[37m\u001b[0m \u001b[1m2s\u001b[0m 3ms/step - accuracy: 0.7229 - loss: 0.8182 - val_accuracy: 0.6079 - val_loss: 1.2334\n",
            "Epoch 62/100\n",
            "\u001b[1m653/653\u001b[0m \u001b[32m━━━━━━━━━━━━━━━━━━━━\u001b[0m\u001b[37m\u001b[0m \u001b[1m0s\u001b[0m 422us/step - accuracy: 0.5000 - loss: 1.2861 - val_accuracy: 0.6067 - val_loss: 1.2350\n",
            "Epoch 63/100\n",
            "\u001b[1m653/653\u001b[0m \u001b[32m━━━━━━━━━━━━━━━━━━━━\u001b[0m\u001b[37m\u001b[0m \u001b[1m2s\u001b[0m 4ms/step - accuracy: 0.7283 - loss: 0.8099 - val_accuracy: 0.6562 - val_loss: 1.0138\n",
            "Epoch 64/100\n",
            "\u001b[1m653/653\u001b[0m \u001b[32m━━━━━━━━━━━━━━━━━━━━\u001b[0m\u001b[37m\u001b[0m \u001b[1m0s\u001b[0m 426us/step - accuracy: 0.5000 - loss: 1.2981 - val_accuracy: 0.6130 - val_loss: 1.1590\n",
            "Epoch 65/100\n",
            "\u001b[1m653/653\u001b[0m \u001b[32m━━━━━━━━━━━━━━━━━━━━\u001b[0m\u001b[37m\u001b[0m \u001b[1m2s\u001b[0m 4ms/step - accuracy: 0.7311 - loss: 0.7976 - val_accuracy: 0.6308 - val_loss: 1.1291\n",
            "Epoch 66/100\n",
            "\u001b[1m653/653\u001b[0m \u001b[32m━━━━━━━━━━━━━━━━━━━━\u001b[0m\u001b[37m\u001b[0m \u001b[1m0s\u001b[0m 440us/step - accuracy: 0.7500 - loss: 1.4189 - val_accuracy: 0.6226 - val_loss: 1.1502\n",
            "Epoch 67/100\n",
            "\u001b[1m653/653\u001b[0m \u001b[32m━━━━━━━━━━━━━━━━━━━━\u001b[0m\u001b[37m\u001b[0m \u001b[1m2s\u001b[0m 4ms/step - accuracy: 0.7274 - loss: 0.7853 - val_accuracy: 0.6295 - val_loss: 1.1268\n",
            "Epoch 68/100\n",
            "\u001b[1m653/653\u001b[0m \u001b[32m━━━━━━━━━━━━━━━━━━━━\u001b[0m\u001b[37m\u001b[0m \u001b[1m0s\u001b[0m 425us/step - accuracy: 0.5000 - loss: 2.3287 - val_accuracy: 0.6469 - val_loss: 1.0694\n",
            "Epoch 69/100\n",
            "\u001b[1m653/653\u001b[0m \u001b[32m━━━━━━━━━━━━━━━━━━━━\u001b[0m\u001b[37m\u001b[0m \u001b[1m2s\u001b[0m 3ms/step - accuracy: 0.7330 - loss: 0.7828 - val_accuracy: 0.6207 - val_loss: 1.1536\n",
            "Epoch 70/100\n",
            "\u001b[1m653/653\u001b[0m \u001b[32m━━━━━━━━━━━━━━━━━━━━\u001b[0m\u001b[37m\u001b[0m \u001b[1m0s\u001b[0m 425us/step - accuracy: 0.5000 - loss: 3.1430 - val_accuracy: 0.6068 - val_loss: 1.2032\n",
            "Epoch 70: early stopping\n",
            "Restoring model weights from the end of the best epoch: 60.\n",
            "Elapsed time: 0:01:47.95\n"
          ]
        }
      ]
    },
    {
      "cell_type": "markdown",
      "source": [
        "If you used the `A100 GPU`, your output should be similar to the following:\n",
        "\n",
        "First 5 Epochs....\n",
        "~~~text\n",
        "----- Training is starting for 100 epochs, batch size: 64, steps per epoch: 653, runtime GPU/TPU: A100 GPU --------------\n",
        "Epoch 1/100\n",
        "653/653 ━━━━━━━━━━━━━━━━━━━━ 12s 6ms/step - accuracy: 0.2795 - loss: 3.6868 - val_accuracy: 0.2438 - val_loss: 3.7988\n",
        "~~~\n",
        "\n",
        "Last 2 Epochs...\n",
        "~~~text\n",
        "Epoch 67/100\n",
        "653/653 ━━━━━━━━━━━━━━━━━━━━ 2s 4ms/step - accuracy: 0.7274 - loss: 0.7853 - val_accuracy: 0.6295 - val_loss: 1.1268\n",
        "Epoch 68/100\n",
        "653/653 ━━━━━━━━━━━━━━━━━━━━ 0s 425us/step - accuracy: 0.5000 - loss: 2.3287 - val_accuracy: 0.6469 - val_loss: 1.0694\n",
        "Epoch 69/100\n",
        "653/653 ━━━━━━━━━━━━━━━━━━━━ 2s 3ms/step - accuracy: 0.7330 - loss: 0.7828 - val_accuracy: 0.6207 - val_loss: 1.1536\n",
        "Epoch 70/100\n",
        "653/653 ━━━━━━━━━━━━━━━━━━━━ 0s 425us/step - accuracy: 0.5000 - loss: 3.1430 - val_accuracy: 0.6068 - val_loss: 1.2032\n",
        "Epoch 70: early stopping\n",
        "Restoring model weights from the end of the best epoch: 60.\n",
        "Elapsed time: 0:01:47.95\n",
        "~~~\n",
        "\n",
        "With the `A100 GPU`, the total training time was about 4 minutes. Just using the standard `CPU` runtime, the training time will be more than 3 hours."
      ],
      "metadata": {
        "id": "lahk-o8p7aTo"
      }
    },
    {
      "cell_type": "markdown",
      "source": [
        "## **Evaluating Model's Training**\n",
        "\n",
        "Now that we have trained our model, let's look at how it changed during its training."
      ],
      "metadata": {
        "id": "TA1Ja2Pciiqk"
      }
    },
    {
      "cell_type": "markdown",
      "source": [
        "### Example: Plot `accuracy` and `val_accuracy`\n",
        "\n",
        "The code in the cell below plot's the `accuracy` and the `val_accuracy` recorded during each epoch in the training cycle. As you can see, `accuracy` and the `val_accuracy` increase during training as model adjusts its synaptic weights to improve its classification precision after each epoch."
      ],
      "metadata": {
        "id": "5-dk5fvGoAKW"
      }
    },
    {
      "cell_type": "code",
      "execution_count": 81,
      "metadata": {
        "id": "Cao-YA602GA5",
        "colab": {
          "base_uri": "https://localhost:8080/",
          "height": 472
        },
        "outputId": "702b19f7-e6bc-4897-8d28-61d893febe1f"
      },
      "outputs": [
        {
          "output_type": "display_data",
          "data": {
            "text/plain": [
              "<Figure size 640x480 with 1 Axes>"
            ],
            "image/png": "[encoded data removed]"
          },
          "metadata": {}
        }
      ],
      "source": [
        "# Example: Plot accuracy and val_accuracy\n",
        "\n",
        "import matplotlib.pyplot as plt\n",
        "\n",
        "plt.plot(history.history['accuracy'])\n",
        "plt.plot(history.history['val_accuracy'])\n",
        "plt.legend(['accuracy', 'val_accuracy'], frameon=False)\n",
        "plt.xticks(np.arange(0,50, 5))\n",
        "\n",
        "plt.xlabel('Epochs')\n",
        "plt.ylabel('Accuracy')\n",
        "plt.title('Accuracy in Every Epoch')\n",
        "plt.show()"
      ]
    },
    {
      "cell_type": "markdown",
      "metadata": {
        "id": "AEimnB24U11J"
      },
      "source": [
        "If the code is correct, you should see the following plot:\n",
        "\n",
        "\n",
        "![__](https://biologicslab.co/BIO1173/images/class_06/class_06_1_image18.png)"
      ]
    },
    {
      "cell_type": "markdown",
      "source": [
        "In training a neural network, `accuracy` and `val_accuracy` represent different performance metrics:\n",
        "\n",
        "* **Accuracy:** This measures how well the model is performing on the training data. It calculates the percentage of correct predictions out of the total predictions made during training.\n",
        "\n",
        "* **Val_accuracy:** This measures how well the model is performing on the validation data, which is separate from the training data. It calculates the percentage of correct predictions out of the total predictions made on the validation set. This metric helps you understand how well the model generalizes to new, unseen data.\n",
        "\n",
        "In short, `accuracy` tells you how well the model is learning from the training data, while `val_accuracy` tells you how well the model is expected to perform on new data.\n",
        "\n",
        "#### **Why is `val_accuracy` so erratic near the end of training?**\n",
        "\n",
        "That's likely a sign of overfitting. When the model performs well on the training data (`accuracy`) but poorly on the validation data (`val_accuracy`), it means it's learning the noise and details in the training set rather than generalizing from the patterns.\n",
        "\n",
        "Overfitting often results in unstable validation accuracy because the model's predictions are more influenced by the peculiarities of the training data, leading to fluctuating performance on new, unseen data. Reducing the complexity of the model, adding regularization techniques, or gathering more training data can help mitigate this."
      ],
      "metadata": {
        "id": "wO1FoE65G-3J"
      }
    },
    {
      "cell_type": "code",
      "source": [
        "from sklearn.metrics import accuracy_score\n",
        "\n",
        "# Step 1: Train your model (assuming your model is already trained)\n",
        "\n",
        "# Step 2: Make predictions on the validation set\n",
        "predictions = model.predict(val_X)\n",
        "\n",
        "# Step 3: Convert probabilities to class labels (if necessary)\n",
        "predicted_labels = np.argmax(predictions, axis=1)\n",
        "true_labels = np.argmax(val_Y, axis=1)\n",
        "\n",
        "# Step 4: Calculate accuracy\n",
        "accuracy = accuracy_score(true_labels, predicted_labels)\n",
        "print(f\"Accuracy on validation set: {accuracy:.2f}\")\n"
      ],
      "metadata": {
        "colab": {
          "base_uri": "https://localhost:8080/"
        },
        "id": "KMqWIENxVj2n",
        "outputId": "f2571b62-f18f-4bfb-aaa4-16e3c3bf8464"
      },
      "execution_count": 82,
      "outputs": [
        {
          "output_type": "stream",
          "name": "stdout",
          "text": [
            "\u001b[1m77/77\u001b[0m \u001b[32m━━━━━━━━━━━━━━━━━━━━\u001b[0m\u001b[37m\u001b[0m \u001b[1m1s\u001b[0m 9ms/step\n",
            "Accuracy on validation set: 0.81\n"
          ]
        }
      ]
    },
    {
      "cell_type": "markdown",
      "source": [
        "### Example: Plot Image with Label\n",
        "\n",
        "The code in the cell below reads the data for one image from the Numpy array `test_images` and its corresponding label from `test_labels` and displays the data as an image."
      ],
      "metadata": {
        "id": "uac6Uh-0owAM"
      }
    },
    {
      "cell_type": "code",
      "source": [
        "# Example: Plot 1 image with label\n",
        "import matplotlib.pyplot as plt\n",
        "import numpy as np\n",
        "\n",
        "# Define test image number\n",
        "img_num=10\n",
        "\n",
        "# Assuming 'test_images' and 'test_labels' are already defined\n",
        "image = test_X[img_num]\n",
        "\n",
        "# Display the image\n",
        "plt.imshow(image)\n",
        "plt.title('Tissue type ' + str(np.argmax(test_Y[img_num])))\n",
        "plt.axis('off')  # Hide the axis\n",
        "plt.show()\n"
      ],
      "metadata": {
        "id": "DMb2bhLQ7Jrr",
        "colab": {
          "base_uri": "https://localhost:8080/",
          "height": 428
        },
        "outputId": "fb978cd7-9947-4db0-bf07-08c820de5294"
      },
      "execution_count": 83,
      "outputs": [
        {
          "output_type": "display_data",
          "data": {
            "text/plain": [
              "<Figure size 640x480 with 1 Axes>"
            ],
            "image/png": "[encoded data removed]"
          },
          "metadata": {}
        }
      ]
    },
    {
      "cell_type": "markdown",
      "metadata": {
        "id": "QprEMopn-RBT"
      },
      "source": [
        "If the code is correct, you should see the following image:\n",
        "\n",
        "\n",
        "![__](https://biologicslab.co/BIO1173/images/class_06/class_06_1_image53.png)\n",
        "\n",
        "\n",
        "You can easily look at other images by simply changing the image number variable, `img_num`."
      ]
    },
    {
      "cell_type": "markdown",
      "source": [
        "### Example: Plot 4 Frames with Label\n",
        "\n",
        "The code in the cell below generates a 2 X 2 plot showing 4 images from the training dataset along with their labels."
      ],
      "metadata": {
        "id": "M_y5H0TnyhT6"
      }
    },
    {
      "cell_type": "code",
      "execution_count": 84,
      "metadata": {
        "id": "fqMEezJ72I8J",
        "colab": {
          "base_uri": "https://localhost:8080/",
          "height": 853
        },
        "outputId": "97e819ee-cc38-4563-8dcd-74f41c6ffd70"
      },
      "outputs": [
        {
          "output_type": "display_data",
          "data": {
            "text/plain": [
              "<Figure size 1000x1000 with 8 Axes>"
            ],
            "image/png": "[encoded data removed]"
          },
          "metadata": {}
        }
      ],
      "source": [
        "# Example: Plot 4 frames with label\n",
        "\n",
        "import matplotlib.pyplot as plt\n",
        "from mpl_toolkits.axes_grid1 import ImageGrid\n",
        "\n",
        "\n",
        "# Set figure size\n",
        "fig = plt.figure(figsize=(10,10))\n",
        "grid = ImageGrid(\n",
        "        fig, 111,\n",
        "        nrows_ncols=(2,2),\n",
        "        axes_pad=0.5\n",
        ")\n",
        "\n",
        "# Plot 4 images\n",
        "for x in range(0,4):\n",
        "    grid[x].set_title('Tissue type ' + str(np.argmax(test_Y[x])))\n",
        "    grid[x].imshow(test_X[x])\n"
      ]
    },
    {
      "cell_type": "markdown",
      "metadata": {
        "id": "im-zO4VlIm7W"
      },
      "source": [
        "If the code is correct, you should see something similar to the following:\n",
        "\n",
        "\n",
        "![__](https://biologicslab.co/BIO1173/images/class_06/class_06_1_image19.png)\n",
        "\n",
        "The figure shows 4 pictures from the `test_images` with their blood cell type shown in the image title."
      ]
    },
    {
      "cell_type": "markdown",
      "metadata": {
        "id": "QFC6ukZ9cTbp"
      },
      "source": [
        "\n",
        "# Other Resources\n",
        "\n",
        "* [Imagenet:Large Scale Visual Recognition Challenge 2014](http://image-net.org/challenges/LSVRC/2014/index)\n",
        "* [Andrej Karpathy](http://cs.stanford.edu/people/karpathy/) - PhD student/instructor at Stanford.\n",
        "* [CS231n Convolutional Neural Networks for Visual Recognition](http://cs231n.stanford.edu/) - Stanford course on computer vision/CNN's.\n",
        "* [CS231n - GitHub](http://cs231n.github.io/)\n",
        "* [ConvNetJS](http://cs.stanford.edu/people/karpathy/convnetjs/) - JavaScript library for deep learning."
      ]
    },
    {
      "cell_type": "markdown",
      "metadata": {
        "id": "atkFq1eGxmjw"
      },
      "source": [
        "## **Lesson Turn-in**\n",
        "\n",
        "When you have completed and run all of the code cells, use the **File --> Print.. --> Save to PDF** to generate a PDF of your Colab notebook. Save your PDF as `Assignment_01.lastname.pdf` where _lastname_ is your last name, and upload the file to Canvas."
      ]
    }
  ],
  "metadata": {
    "colab": {
      "provenance": [],
      "machine_shape": "hm",
      "gpuType": "A100",
      "include_colab_link": true
    },
    "kernelspec": {
      "display_name": "Python 3",
      "name": "python3"
    },
    "language_info": {
      "codemirror_mode": {
        "name": "ipython",
        "version": 3
      },
      "file_extension": ".py",
      "mimetype": "text/x-python",
      "name": "python",
      "nbconvert_exporter": "python",
      "pygments_lexer": "ipython3",
      "version": "3.9.18"
    },
    "accelerator": "GPU"
  },
  "nbformat": 4,
  "nbformat_minor": 0
}