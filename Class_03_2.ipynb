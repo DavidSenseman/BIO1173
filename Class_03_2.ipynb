{
  "cells": [
    {
      "cell_type": "markdown",
      "metadata": {
        "id": "view-in-github",
        "colab_type": "text"
      },
      "source": [
        "<a href=\"https://colab.research.google.com/github/DavidSenseman/BIO1173/blob/main/Class_03_2.ipynb\" target=\"_parent\"><img src=\"https://colab.research.google.com/assets/colab-badge.svg\" alt=\"Open In Colab\"/></a>"
      ]
    },
    {
      "cell_type": "markdown",
      "metadata": {
        "id": "ZYZVwSpdbE3Y"
      },
      "source": [
        "---------------------------\n",
        "**COPYRIGHT NOTICE:** This Jupyterlab Notebook is a Derivative work of [Jeff Heaton](https://github.com/jeffheaton) licensed under the Apache License, Version 2.0 (the \"License\"); You may not use this file except in compliance with the License. You may obtain a copy of the License at\n",
        "\n",
        "> [http://www.apache.org/licenses/LICENSE-2.0](http://www.apache.org/licenses/LICENSE-2.0)\n",
        "\n",
        "Unless required by applicable law or agreed to in writing, software distributed under the License is distributed on an \"AS IS\" BASIS, WITHOUT WARRANTIES OR CONDITIONS OF ANY KIND, either express or implied. See the License for the specific language governing permissions and limitations under the License.\n",
        "\n",
        "------------------------"
      ]
    },
    {
      "cell_type": "markdown",
      "metadata": {
        "id": "ExN-OzpYbE3Y"
      },
      "source": [
        "# **BIO 1173: Intro Computational Biology**"
      ]
    },
    {
      "cell_type": "markdown",
      "metadata": {
        "id": "vt4imk1kbE3Y"
      },
      "source": [
        "##### **Module 3: Convolutional Neural Networks (CNN's)**\n",
        "\n",
        "* Instructor: [David Senseman](mailto:David.Senseman@utsa.edu), [Department of Biology, Health and the Environment](https://sciences.utsa.edu/bhe/), [UTSA](https://www.utsa.edu/)\n",
        "\n",
        "### Module 3 Material\n",
        "\n",
        "* Part 3.1: Using Convolutional Neural Networks\n",
        "* **Part 3.2: Using Pre-Trained Neural Networks with Keras**\n",
        "* Part 3.3: Facial Recognition and Analysis\n",
        "* Part 3.4: Introduction to GAN's for Image and Data Generation"
      ]
    },
    {
      "cell_type": "markdown",
      "source": [
        "#### **Change your Runtime Now!**\n",
        "\n",
        "For this lesson you must have a GPU hardware accelerator (e.g. `A100` if available)."
      ],
      "metadata": {
        "id": "Ult76BB_wSzg"
      }
    },
    {
      "cell_type": "markdown",
      "metadata": {
        "id": "V_-lPkxLbE3Z"
      },
      "source": [
        "## Google CoLab Instructions\n",
        "\n",
        "You MUST run the following code cell to get credit for this class lesson. By running this code cell, you will map your GDrive to /content/drive and print out your Google GMAIL address. Your Instructor will use your GMAIL address to verify the author of this class lesson."
      ]
    },
    {
      "cell_type": "code",
      "execution_count": null,
      "metadata": {
        "id": "seXFCYH4LDUM",
        "scrolled": true
      },
      "outputs": [],
      "source": [
        "# You must run this cell first\n",
        "try:\n",
        "    from google.colab import drive\n",
        "    drive.mount('/content/drive', force_remount=True)\n",
        "    from google.colab import auth\n",
        "    auth.authenticate_user()\n",
        "    Colab = True\n",
        "    print(\"Note: Using Google CoLab\")\n",
        "    import requests\n",
        "    gcloud_token = !gcloud auth print-access-token\n",
        "    gcloud_tokeninfo = requests.get('https://www.googleapis.com/oauth2/v3/tokeninfo?access_token=' + gcloud_token[0]).json()\n",
        "    print(gcloud_tokeninfo['email'])\n",
        "except:\n",
        "    print(\"**WARNING**: Your GMAIL address was **not** printed in the output below.\")\n",
        "    print(\"**WARNING**: You will NOT receive credit for this lesson.\")\n",
        "    Colab = False"
      ]
    },
    {
      "cell_type": "markdown",
      "source": [
        "You should see the following output except your GMAIL address should appear on the last line.\n",
        "\n",
        "![__](https://biologicslab.co/BIO1173/images/class_01/class_01_6_image01A.png)\n",
        "\n",
        "If your GMAIL address does not appear your lesson will **not** be graded."
      ],
      "metadata": {
        "id": "xG3_sXTDfyjA"
      }
    },
    {
      "cell_type": "markdown",
      "source": [
        "## **TIME ALERT!**\n",
        "\n",
        "This lesson will probably **require close to 3 hours to complete**. Besides the normal issues there are two instances in which you are required to train a neural network. Training time for both neural networks is about 1 hour.\n",
        "\n",
        "Don't start working on this lesson if you don't have sufficient free time to finish it."
      ],
      "metadata": {
        "id": "BYHuoONPZGtV"
      }
    },
    {
      "cell_type": "markdown",
      "source": [
        "## Accelerated Run-time Check\n",
        "\n",
        "You MUST run the following code cell to get credit for this class lesson. The code in this cell checks what hardware acceleration you are using. To run this lesson, you must be running a Graphics Processing Unit (GPU)."
      ],
      "metadata": {
        "id": "LKhQzBV1wu2v"
      }
    },
    {
      "cell_type": "code",
      "source": [
        "# You must run this cell second\n",
        "\n",
        "import tensorflow as tf\n",
        "\n",
        "# ------------------------------------------------------------------------\n",
        "# 0️⃣  Create check_device() function\n",
        "# ------------------------------------------------------------------------\n",
        "\n",
        "def check_device():\n",
        "    # Check for available devices\n",
        "    devices = tf.config.list_physical_devices()\n",
        "\n",
        "    # Initialize device flags\n",
        "    cpu = False\n",
        "    gpu = False\n",
        "    tpu = False\n",
        "\n",
        "    # Check device types\n",
        "    for device in devices:\n",
        "        if device.device_type == 'CPU':\n",
        "            cpu = True\n",
        "        elif device.device_type == 'GPU':\n",
        "            gpu = True\n",
        "        elif device.device_type == 'TPU':\n",
        "            tpu = True\n",
        "\n",
        "    # Output device status\n",
        "    if tpu:\n",
        "        print(\"Running on TPU\")\n",
        "        print(\"WARNING: You must run this assigment using a GPU to earn credit\")\n",
        "        print(\"Change your RUNTIME now!\")\n",
        "    elif gpu:\n",
        "        print(\"Running on GPU\")\n",
        "        gpu_info = !nvidia-smi\n",
        "        gpu_info = '\\n'.join(gpu_info)\n",
        "        print(gpu_info)\n",
        "        print(\"You are using a GPU hardware accelerator--You're good to go!\")\n",
        "    elif cpu:\n",
        "        print(\"Running on CPU\")\n",
        "        print(\"WARNING: You must run this assigment using a GPU to earn credit\")\n",
        "        print(\"Change your RUNTIME now!\")\n",
        "    else:\n",
        "        print(\"No compatible device found\")\n",
        "        print(\"WARNING: You must run this assigment using either a GPU or a TPU to earn credit\")\n",
        "        print(\"Change your RUNTIME now!\")\n",
        "\n",
        "# ------------------------------------------------------------------------\n",
        "# 1️⃣  Call function\n",
        "# ------------------------------------------------------------------------\n",
        "\n",
        "check_device()"
      ],
      "metadata": {
        "id": "8kty-X7j9tDn"
      },
      "execution_count": null,
      "outputs": []
    },
    {
      "cell_type": "markdown",
      "source": [
        "If you current `Runtime` is correct you should see the following output\n",
        "\n",
        "![__](https://biologicslab.co/BIO1173/images/class_05/class_05_4_image11A.png)\n",
        "\n",
        "However, if you received this warning message\n",
        "\n",
        "![__](https://biologicslab.co/BIO1173/images/class_05/class_05_4_image14A.png)\n",
        "\n",
        "You **MUST** go back and change your `Runtime` **NOW** before you continue."
      ],
      "metadata": {
        "id": "HIAs3kcq-WSt"
      }
    },
    {
      "cell_type": "markdown",
      "source": [
        "### Create Custom Function\n",
        "\n",
        "The cell below creates a custom function called `hms_string()`. This function is needed to record the time required to train your neural network model.\n",
        "\n",
        "If you fail to run this cell now, you will receive one (or more) error message(s) later in this lesson."
      ],
      "metadata": {
        "id": "Mu5xJAWl_9vZ"
      }
    },
    {
      "cell_type": "code",
      "source": [
        "# Create custom function\n",
        "\n",
        "# ------------------------------------------------------------------------\n",
        "# 0️⃣  Create hms_string()\n",
        "# ------------------------------------------------------------------------\n",
        "\n",
        "# Simple function to print out elasped time\n",
        "def hms_string(sec_elapsed):\n",
        "    h = int(sec_elapsed / (60 * 60))\n",
        "    m = int((sec_elapsed % (60 * 60)) / 60)\n",
        "    s = sec_elapsed % 60\n",
        "    return \"{}:{:>02}:{:>05.2f}\".format(h, m, s)"
      ],
      "metadata": {
        "id": "STtFj1QKTVcL"
      },
      "execution_count": null,
      "outputs": []
    },
    {
      "cell_type": "markdown",
      "source": [
        "### **YouTube Introduction to ResNet**\n",
        "\n",
        "Run the next cell to see short introduction to ResNet. This is a suggested, but optional, part of the lesson."
      ],
      "metadata": {
        "id": "V7_mOnlRZ7m1"
      }
    },
    {
      "cell_type": "code",
      "source": [
        "from IPython.display import HTML\n",
        "video_id = \"nc7FzLiB_AY\"\n",
        "HTML(f\"\"\"\n",
        "<iframe width=\"560\" height=\"315\"\n",
        "  src=\"https://www.youtube.com/embed/{video_id}\"\n",
        "  title=\"YouTube video player\"\n",
        "  frameborder=\"0\"\n",
        "  allow=\"accelerometer; autoplay; clipboard-write; encrypted-media; gyroscope; picture-in-picture\"\n",
        "  allowfullscreen>\n",
        "</iframe>\n",
        "\"\"\")"
      ],
      "metadata": {
        "id": "JySpaEEiZ8eV"
      },
      "execution_count": null,
      "outputs": []
    },
    {
      "cell_type": "markdown",
      "source": [
        "### **DOWNLOAD AND INSTALL PRE-TRAINED NEURAL NETWORKS**\n",
        "\n",
        "We will be using two pre-trained neural networks in this lesson, `ResNet50` and `ResNet101`. Run the next couple of code cells to download these neural networks to your Colab environment."
      ],
      "metadata": {
        "id": "w5gvsd-lxR3_"
      }
    },
    {
      "cell_type": "markdown",
      "source": [
        "### Download `ResNet50`"
      ],
      "metadata": {
        "id": "8YQBCLR3ZGil"
      }
    },
    {
      "cell_type": "code",
      "source": [
        "# Download ResNet50\n",
        "\n",
        "import tensorflow.keras\n",
        "from tensorflow.keras.applications import ResNet50\n",
        "\n",
        "ResNet50_model_244 = ResNet50(weights='imagenet',include_top=True)"
      ],
      "metadata": {
        "id": "tKZNxQ4kZHfF"
      },
      "execution_count": null,
      "outputs": []
    },
    {
      "cell_type": "markdown",
      "source": [
        "If the code is correct you should see the following output\n",
        "\n",
        "![__](https://biologicslab.co/BIO1173/images/class_03/class_03_2_image26C.png)"
      ],
      "metadata": {
        "id": "qN828uR85VKZ"
      }
    },
    {
      "cell_type": "markdown",
      "source": [
        "### Install Helper Functions for Examples and **Exercises**\n",
        "\n",
        "The code in the cell below creates a two functions that we will need to use classify images in Examples 1 and 2.\n",
        "\n",
        "* **make_square()** Since MobileNet is designed to classify images with the same number of horizontal and vertical pixels (i.e. a 'square' image), this function uses a combination of padding and cropping to convert any image into a 'square` image.\n",
        "\n",
        "* **classify_image()** This function does most of the work. It first retrives the image from the HTTPS server and resizes it before processing it by the `ResNet50 model` that we previously downloaded. The actual prediction is made by this line of code:\n",
        "```text\n",
        "preds = ResNet50_model_244.predict(x)\n",
        "```"
      ],
      "metadata": {
        "id": "mDMqH7jsZuuz"
      }
    },
    {
      "cell_type": "code",
      "source": [
        "# Install helper functions\n",
        "\n",
        "# %matplotlib inline   # uncomment if you are in a Jupyter notebook\n",
        "\n",
        "# ----------------------------------------------------------------------\n",
        "# Imports\n",
        "# ----------------------------------------------------------------------\n",
        "from PIL import Image, ImageFile, UnidentifiedImageError\n",
        "import requests\n",
        "import numpy as np\n",
        "from io import BytesIO\n",
        "from IPython.display import display\n",
        "\n",
        "from tensorflow.keras.applications.resnet import ResNet50, decode_predictions, preprocess_input\n",
        "from tensorflow.keras.preprocessing import image\n",
        "\n",
        "# ----------------------------------------------------------------------\n",
        "# Global settings\n",
        "# ----------------------------------------------------------------------\n",
        "IMAGE_WIDTH, IMAGE_HEIGHT = 224, 224          # target resolution\n",
        "ImageFile.LOAD_TRUNCATED_IMAGES = False       # keep the default behaviour\n",
        "\n",
        "# Load the pretrained ResNet‑50 model\n",
        "ResNet_model_244 = ResNet50(weights='imagenet')\n",
        "\n",
        "# Base URL of the images\n",
        "ROOT = \"https://biologicslab.co/BIO1173/images/class_03/\"\n",
        "\n",
        "# ----------------------------------------------------------------------\n",
        "# Utility functions\n",
        "# ----------------------------------------------------------------------\n",
        "def make_square(img):\n",
        "    \"\"\"\n",
        "    Crop the image to a square (center‑aligned).\n",
        "    \"\"\"\n",
        "    width, height = img.size\n",
        "    side = min(width, height)\n",
        "    left   = (width  - side) // 2\n",
        "    top    = (height - side) // 2\n",
        "    right  = left + side\n",
        "    bottom = top  + side\n",
        "    return img.crop((left, top, right, bottom))\n",
        "\n",
        "# ----------------------------------------------------------------------\n",
        "# Core function\n",
        "# ----------------------------------------------------------------------\n",
        "def classify_image(url):\n",
        "    \"\"\"\n",
        "    Download an image from *url*, preprocess it, run it through ResNet‑50,\n",
        "    display the image and print the top‑5 ImageNet predictions.\n",
        "    \"\"\"\n",
        "    try:\n",
        "        response = requests.get(url)\n",
        "        response.raise_for_status()          # raise an error on bad status\n",
        "        img = Image.open(BytesIO(response.content)).convert('RGB')\n",
        "    except UnidentifiedImageError:\n",
        "        print(\"Error: Cannot identify image file. Check the image URL or file format.\")\n",
        "        return\n",
        "    except Exception as e:\n",
        "        print(f\"Error while downloading or opening the image: {e}\")\n",
        "        return\n",
        "\n",
        "    # Resize (or square‑crop first if you prefer)\n",
        "    img = img.resize((IMAGE_WIDTH, IMAGE_HEIGHT), Image.LANCZOS)\n",
        "\n",
        "    # Preprocess\n",
        "    x = image.img_to_array(img)\n",
        "    x = np.expand_dims(x, axis=0)\n",
        "    x = preprocess_input(x)\n",
        "\n",
        "    # Predict\n",
        "    preds = ResNet50_model_244.predict(x)\n",
        "\n",
        "    # Show the image\n",
        "    display(img)\n",
        "\n",
        "    # Print the top‑5 predictions\n",
        "    print(\"\\nTop‑5 predictions:\")\n",
        "    for pred in decode_predictions(preds, top=5)[0]:\n",
        "        print(f\"  {pred[1]:<25} : {pred[2]*100:5.2f}%\")\n",
        "\n",
        "\n"
      ],
      "metadata": {
        "id": "3yjALGfL6qZe"
      },
      "execution_count": null,
      "outputs": []
    },
    {
      "cell_type": "markdown",
      "source": [
        "If the code is correct you should **not** see any output."
      ],
      "metadata": {
        "id": "Jbe54CjtWtSS"
      }
    },
    {
      "cell_type": "markdown",
      "source": [
        "### Example 1: Classify Images with ResNet50\n",
        "\n",
        "The code in the cell below downloads an image of a dog from the course fileserver, https://biologicslab.co and then uses the pre-trained `ResNet50` neural network  `ResNet50` to to classify it.\n",
        "\n",
        "The image name is \"pembroke_corgi.jpg\""
      ],
      "metadata": {
        "id": "qiYyHO41Zurj"
      }
    },
    {
      "cell_type": "code",
      "source": [
        "# Example 1: Classify Image with ResNet50\n",
        "\n",
        "from tensorflow.keras.preprocessing import image\n",
        "from tensorflow.keras.applications.resnet import preprocess_input\n",
        "\n",
        "# Enter image name\n",
        "image_name=\"pembroke_corgi.jpg\"\n",
        "\n",
        "# Generate image path\n",
        "image_path=ROOT+image_name\n",
        "\n",
        "# Print path\n",
        "print(f\"Analyzing \", image_path)\n",
        "\n",
        "# Use ResNet50 to classify image\n",
        "classify_image(image_path)"
      ],
      "metadata": {
        "id": "Tc_bGTfaaiRx"
      },
      "execution_count": null,
      "outputs": []
    },
    {
      "cell_type": "markdown",
      "source": [
        "If the code is correct you should see the following output:\n",
        "\n",
        "![___](https://biologicslab.co/BIO1173/images/class_03/class_03_2_image25C.png)\n",
        "\n",
        "`ResNet50` has been trained to recognize a wide range of common objectes. Here is a basic list:\n",
        "\n",
        "| Domain                           | Example classes (just a few from each)                                   |\n",
        "|----------------------------------|--------------------------------------------------------------------------|\n",
        "| Animals – mammals                | chimpanzee, tiger, lion, zebra, elephant                                |\n",
        "| Animals – birds                  | eagle, sparrow, penguin, flamingo, crane                                 |\n",
        "| Animals – reptiles & amphibians  | alligator, snake, frog, turtle                                          |\n",
        "| Animals – fish & crustaceans     | goldfish, salmon, shrimp, lobster                                       |\n",
        "| Animals – insects                | bee, butterfly, ant, dragonfly                                          |\n",
        "| Plants & flowers                 | daisy, sunflower, orchid, cactus                                        |\n",
        "| Fruits & vegetables              | apple, orange, broccoli, carrot                                         |\n",
        "| Vegetables & nuts                | potato, tomato, almond, cashew                                          |\n",
        "| Instruments & musical equipment  | guitar, piano, violin, saxophone                                        |\n",
        "| Sports & equipment               | tennis racket, golf ball, basketball, soccer ball                       |\n",
        "| Vehicles – land                  | car, truck, motorcycle, bicycle                                         |\n",
        "| Vehicles – air                   | airplane, helicopter, jet, glider                                       |\n",
        "| Vehicles – water                 | boat, ship, submarine, ferry                                            |\n",
        "| Buildings & architecture         | bridge, house, church, skyscraper                                       |\n",
        "| Furniture                        | chair, table, sofa, bed                                                  |\n",
        "| Home appliances                  | microwave, refrigerator, toaster, blender                               |\n",
        "| Tools & hardware                 | hammer, screwdriver, wrench, drill                                      |\n",
        "| Clothing & accessories           | t‑shirt, hat, shoes, glasses                                            |\n",
        "| Food & drinks                    | coffee, tea, pizza, cake                                                |\n",
        "| Miscellaneous                    | toilet paper, keyboard, watch, trophy                                   |\n",
        "\n",
        "\n",
        "Clearly `ResNet50` was trained to classify dogs. What is somewhat interesting, is that `ResNet50` appears to be quite good as to correctly identify a dog's breed. `ResNet50` was absolutedly correct that the image showed a `Welsh Pembroke Corgi`.\n",
        "\n",
        "The **Pembroke Welsh Corgi** is a spirited, compact herding dog originally from Wales. Known for its short legs, fox-like ears, and expressive eyes, it's affectionate, intelligent, and highly trainable. Pembrokes thrive on activity, enjoy family life, and are renowned for their loyal, playful nature and distinctive “corgi grin.”"
      ],
      "metadata": {
        "id": "tWiRgSgP0lPG"
      }
    },
    {
      "cell_type": "markdown",
      "source": [
        "### **Exercise 1: Classify Images with ResNet50**\n",
        "\n",
        "In the cell below write the code to download an another dog image from the course fileserver:\n",
        "\n",
        "```type\n",
        "image_name=\"bouvier_des_flandres.jpg\"\n",
        "```\n",
        "and then uses `ResNet50` to classify it. This species is much less common than Corgis.\n",
        "\n",
        "The **Bouvier des Flandres**, or **Bouvier de Flanders**, is a muscular, medium‑to‑large herding dog originally bred in the Flemish region of Belgium to manage cattle, sheep and pack loads. With a dense, double‑coated coat that comes in black, brown, red or tricolor, they are built for endurance and can thrive in both wet and dry climates. Their temperament is confident and affectionate, yet they possess a strong work ethic and a naturally protective instinct, making them excellent companion animals as well as valuable in search‑and‑rescue, therapy, and police work. Bouviers are intelligent and trainable, but they require consistent socialization and mental stimulation to prevent stubbornness or frustration. Health concerns are relatively few—chiefly hip dysplasia, gastric dilatation‑volvulus (bloat) and certain eye conditions—so with proper care, they can live 10–12 years."
      ],
      "metadata": {
        "id": "nKO_1OUi8rCz"
      }
    },
    {
      "cell_type": "code",
      "source": [
        "# Insert your code for Exercise 1 here\n",
        "\n",
        "from tensorflow.keras.preprocessing import image\n",
        "from tensorflow.keras.applications.resnet import preprocess_input\n",
        "\n",
        "# Enter image name\n",
        "image_name=\"bouvier_des_flandres.jpg\"\n",
        "\n",
        "# Generate image path\n",
        "image_path=ROOT+image_name\n",
        "\n",
        "# Print path\n",
        "print(f\"Analyzing \", image_path)\n",
        "\n",
        "# Use ResNet50 to classify image\n",
        "classify_image(image_path)"
      ],
      "metadata": {
        "id": "dPlaG9CW8rCz"
      },
      "execution_count": null,
      "outputs": []
    },
    {
      "cell_type": "markdown",
      "source": [
        "If the code is correct you should see the following output:\n",
        "\n",
        "![___](https://biologicslab.co/BIO1173/images/class_03/class_03_2_image27C.png)\n",
        "\n",
        "This time `ResNet50` got a little confused. It was \"pretty sure\" (62%) that the dog in the image was an `Irish water spaniel`.\n",
        "\n",
        "![___](https://biologicslab.co/BIO1173/images/class_03/IrishWaterSpaniel.jpg)\n",
        "\n",
        "**Irish Water Spaniel**\n",
        "\n",
        "However, `ResNet50` second guess (with a 29% certainty) was correct.\n",
        "\n",
        "This mis-identification nonwithstanding, I suspect `ResNet50` is still probably better at identifying dog breeds than the average person."
      ],
      "metadata": {
        "id": "qWXHzH8o8rC0"
      }
    },
    {
      "cell_type": "markdown",
      "source": [
        "### Example 2: Classify Retinal Image with ResNet50\n",
        "\n",
        "What about medical image data? Can `ResNet50` analyze a **color fundus photograph** of the interior surface of a human retina?\n",
        "\n",
        "Run the code in the Example 2 to see how `ResNet50` does with the following retinal image:\n",
        "\n",
        "```text\n",
        "\"Retina_Score_0.png\"\n",
        "```\n"
      ],
      "metadata": {
        "id": "unspA6MzAzOA"
      }
    },
    {
      "cell_type": "code",
      "source": [
        "# Example 2: Classify Retinal Image with ResNEt50\n",
        "\n",
        "from tensorflow.keras.preprocessing import image\n",
        "from tensorflow.keras.applications.resnet import preprocess_input\n",
        "\n",
        "# Enter image name\n",
        "image_name=\"Retina_Score_0.png\"\n",
        "\n",
        "# Generate image path\n",
        "image_path=ROOT+image_name\n",
        "\n",
        "# Print path\n",
        "print(f\"Analyzing \", image_path)\n",
        "\n",
        "# Use ResNet50 to classify image\n",
        "classify_image(image_path)"
      ],
      "metadata": {
        "id": "EizJPv3-atyR"
      },
      "execution_count": null,
      "outputs": []
    },
    {
      "cell_type": "markdown",
      "source": [
        "If the code is correct you should see the following output:\n",
        "\n",
        "![___](https://biologicslab.co/BIO1173/images/class_03/class_03_2_image20C.png)\n",
        "\n",
        "\n",
        "As expected, `ResNet50` was not trained to recognize retinal images. For this particular retinal image, `ResNet50` was pretty certain (84.5% probability) that this image was a lampshade. Here is an image of a lampshade that is vaguely similar:\n",
        "\n",
        "![___](https://biologicslab.co/BIO1173/images/class_03/class_03_2_image49C.png)\n",
        "\n",
        "**Metal Pendant Lamp Shade Retro Style Lampshade for Kitchen Dining Room water drop - Walmart.com**"
      ],
      "metadata": {
        "id": "CBP5nv_i_E8o"
      }
    },
    {
      "cell_type": "markdown",
      "source": [
        "### **Exercise 2: Classify Retinal Image with `ResNet50`**\n",
        "\n",
        "In the cell below write the code to analyze the another retinal color fundus image:\n",
        "```text\n",
        "\"Retina_Score_1.png\"\n",
        "```\n"
      ],
      "metadata": {
        "id": "Dvc2IU6q6gmc"
      }
    },
    {
      "cell_type": "code",
      "source": [
        "# Insert your code for Exercise 2 here\n",
        "\n"
      ],
      "metadata": {
        "id": "2wm9QvDlAzOB"
      },
      "execution_count": null,
      "outputs": []
    },
    {
      "cell_type": "markdown",
      "source": [
        "If the code is correct you should see the following output:\n",
        "\n",
        "![___](https://biologicslab.co/BIO1173/images/class_03/class_03_2_image21C.png)\n",
        "\n",
        "Once again, it would be charitable to say that `ResNet50` was a little weak when it comes to analyzing clinical images."
      ],
      "metadata": {
        "id": "9L694Na2AzOB"
      }
    },
    {
      "cell_type": "markdown",
      "source": [
        "# **Transfer Learning for Computer Vision**\n",
        "\n",
        "## **`ResNet`**\n",
        "\n",
        "Many advanced prebuilt neural networks are available for computer vision, and Keras provides direct access to many networks. **Transfer Learning** is the technique where you use these prebuilt neural networks.\n",
        "\n",
        "There are several different levels of transfer learning.\n",
        "\n",
        "* Use a prebuilt neural network in its entirety\n",
        "* Use a prebuilt neural network's structure\n",
        "* Use a prebuilt neural network's weights\n",
        "\n",
        "In this lesson we will use a popular prebuilt CNN called **`ResNet (Residual Network)`** built by Microsoft Research in 2015. The name comes from the fact that this network was designed to address the **vanishing gradient problem** that occurs when training very deep neural networks.\n",
        "\n",
        "Instead of learning the direct mapping from input to output, `ResNet` learns the residual (i.e., the difference between the input and the output).\n",
        "This is achieved using **skip connections** (also called shortcut connections), which allow the input to bypass one or more layers and be added directly to the output."
      ],
      "metadata": {
        "id": "wCjV86HnxkND"
      }
    },
    {
      "cell_type": "markdown",
      "source": [
        "## **Transfer Learning**\n",
        "\n",
        "**Transfer learning** is a machine learning technique where a model developed for one task is reused as the starting point for a model on a second task. In the context of image recognition, this approach is particularly effective when using deep convolutional neural networks (CNNs) like **`ResNet`**.\n",
        "\n",
        "### **Why Use Transfer Learning?**\n",
        "\n",
        "Training deep neural networks from scratch requires large datasets and significant computational resources. Transfer learning mitigates this by leveraging pre-trained models—typically trained on large benchmark datasets like ImageNet—to extract general features from images. These features can then be fine-tuned for a specific task with a smaller, domain-specific dataset.\n",
        "\n",
        "### **How `ResNet` Supports Transfer Learning**\n",
        "\n",
        "`ResNet` is a widely used CNN architecture known for its use of **residual connections**, which help in training very deep networks by addressing the vanishing gradient problem. Pre-trained versions of `ResNet` (e.g., `ResNet-50`, `ResNet-101`) are commonly used as feature extractors in transfer learning workflows.\n",
        "\n",
        "### **Benefits**\n",
        "\n",
        "- **Reduced Training Time**: Leverages existing learned features.\n",
        "- **Improved Performance**: Often achieves better accuracy with less data.\n",
        "- **Flexibility**: Can be adapted to a wide range of image classification tasks.\n",
        "\n",
        "Transfer learning with `ResNet` is a powerful and efficient approach for developing high-performing image recognition models, especially when data or computational resources are limited.\n"
      ],
      "metadata": {
        "id": "z9O3j51Kh6yS"
      }
    },
    {
      "cell_type": "markdown",
      "source": [
        "# Example 3: Improving `ResNet` Classification Accuracy of Diabetic Retinopathy\n",
        "\n",
        "We know from from above that the native (base) `ResNet50` neural network is unable to effectively analyze clinical retinal images.\n",
        "\n",
        "Example 3 will demonstrate how **transfer learning** can leverage `ResNet50` as a starting point to create a new neural network that can effectively classify retinal images as to their degree of diabetic retinopathy.  \n",
        "\n",
        "#### **`Diabetic Retinopathy Image Dataset` Classes**\n",
        "\n",
        "The dataset we will be using is called the **`Diabetic Retinopathy Image Dataset`**. This image dataset consists of color fundus photographs—high‑resolution RGB images of the interior surface of the eye (the retina).\n",
        "\n",
        "These are standard clinical retinal images obtained with a fundus camera (usually a 45° or 50° field-of-view, non‑mydriatic or mydriatic camera) and capture the posterior pole (macula, optic disc, retinal vessels, and surrounding retinal tissue). The images are typically stored as JPEG/PNG files with dimensions on the order of several thousand pixels (e.g., 3500x2333 px) and are used for grading the severity of diabetic retinopathy.\n",
        "\n",
        "The severity of diabetic retinopathy was divided into **five classes** as follows:\n",
        "1. **Class 0** - No Diabetic Retinopathy (No_DR)\n",
        "2. **Class 1** - Mild Non-Proliferative Diabetic Retinopathy (NPDR)\n",
        "3. **Class 2** - Moderate NPDR\n",
        "4. **Class 3** - Severe NPDR\n",
        "5. **Class 4** - Proliferative Diabetic Retinopathy (PDR)\n",
        "\n",
        "An example of each class is shown below:\n",
        "\n",
        "![__](https://biologicslab.co/BIO1173/images/class_03/DiabeticRetinopathyData.png)\n",
        "\n",
        "It should be noted that differences in apparent retinal size has nothing to do with the degree of retinopathy but instead reflects the fact that the retinal images were taken by a large number of clinicians, with different imaging equipment and procedures. In other words, there is considerable \"noise\" in the image set.\n",
        "\n"
      ],
      "metadata": {
        "id": "_2qSKv8AyFMn"
      }
    },
    {
      "cell_type": "markdown",
      "source": [
        "### Install `keras_preprocessing` Package\n",
        "\n",
        "As part of Example 3 and **Exercise 3** we need to install the Keras function `ImageDataGenerator` which is part of the Keras package `keras_preprocessing`.\n",
        "\n",
        "Run the code in the next cell to install `keras_preprocessing` and its `ImageDataGenerator`."
      ],
      "metadata": {
        "id": "nLssdpL749pZ"
      }
    },
    {
      "cell_type": "code",
      "source": [
        "# Install Keras package\n",
        "\n",
        "!pip install keras_preprocessing"
      ],
      "metadata": {
        "id": "zDfZJ5064-JI"
      },
      "execution_count": null,
      "outputs": []
    },
    {
      "cell_type": "markdown",
      "source": [
        "If the code is correct you should see the following output\n",
        "\n",
        "![__](https://biologicslab.co/BIO1173/images/class_03/class_03_2_image06C.png)"
      ],
      "metadata": {
        "id": "0QtItokWvZM5"
      }
    },
    {
      "cell_type": "markdown",
      "source": [
        "### Example 3 - Step 1: Set ENVIRONMENTAL VARIABLES\n",
        "\n",
        "The code in the cell below defines a number of `ENVIRONMENTAL VARIABLES` that are needed for later code cells.\n",
        "\n",
        "The use of **Enivornment Variables** can allow code to be **configurable without modification**. For example, you might use different database URLs for development, testing, and production environments. As you will see later, you will re-use this code cell for **Exercise 3 - Step 1** below."
      ],
      "metadata": {
        "id": "3LFjCGJIpjat"
      }
    },
    {
      "cell_type": "code",
      "source": [
        "# Example 3 - Step 1: Set ENVIRONMENTAL VARIABLES\n",
        "\n",
        "import os\n",
        "\n",
        "# ------------------------------------------------------------------------\n",
        "# 1️⃣  Create variables for downloading loading Zip file\n",
        "# ------------------------------------------------------------------------\n",
        "URL = \"https://biologicslab.co/BIO1173/data/\"\n",
        "DOWNLOAD_SOURCE = URL+\"diabetic_retinopathy_train_244.zip\"\n",
        "DOWNLOAD_NAME = DOWNLOAD_SOURCE[DOWNLOAD_SOURCE.rfind('/')+1:]\n",
        "print(\"DOWNLOAD_SOURCE=\",DOWNLOAD_SOURCE)\n",
        "print(\"DOWNLOAD_NAME=\",DOWNLOAD_NAME)\n",
        "\n",
        "# ------------------------------------------------------------------------\n",
        "# 2️⃣  Create variables for extracting the Zip file\n",
        "# ------------------------------------------------------------------------\n",
        "PATH = \"./\"\n",
        "EXTRACT_TARGET = os.path.join(PATH,\"retinopathy_244\")\n",
        "SOURCE = os.path.join(EXTRACT_TARGET, \"train_244\")\n",
        "print(\"EXTRACT_TARGET=\",EXTRACT_TARGET)\n",
        "print(\"SOURCE=\",SOURCE)\n",
        "\n",
        "# ------------------------------------------------------------------------\n",
        "# 3️⃣  Print variables for debugging\n",
        "# ------------------------------------------------------------------------\n",
        "print(\"ENVIRONMENTAL VARIABLES were successfully created.\")"
      ],
      "metadata": {
        "id": "4D5kdxBeJeCT"
      },
      "execution_count": null,
      "outputs": []
    },
    {
      "cell_type": "markdown",
      "source": [
        "If the code is correct you should see the following output\n",
        "\n",
        "![__](https://biologicslab.co/BIO1173/images/class_03/class_03_2_image08C.png)"
      ],
      "metadata": {
        "id": "97lHNy8gLTu-"
      }
    },
    {
      "cell_type": "markdown",
      "source": [
        "### Example 3 - Step 2: Download and Extract Image Data\n",
        "\n",
        "The code in the cell below downloads a zip file and extracts it. The names of the file server, zip file and folders were set above as **`ENVIRONMENTAL VARIABLES`** in the previous step.\n",
        "\n",
        "**TIME ALERT:** Even when compressed (i.e. \"zipped\"), image data file are typically quite large so download and extraction times can often take a few minutes."
      ],
      "metadata": {
        "id": "6LfOSfJZpWB-"
      }
    },
    {
      "cell_type": "code",
      "source": [
        "# Example 3 - Step 2: Download and Extract Image Data\n",
        "\n",
        "import os\n",
        "import subprocess\n",
        "import sys\n",
        "\n",
        "# --------------------------------------------------------------\n",
        "# 1️⃣  Create directories\n",
        "# --------------------------------------------------------------\n",
        "print(\"Creating necessary directories...\", end='')\n",
        "# Create necessary directories\n",
        "os.makedirs(SOURCE, exist_ok=True)\n",
        "os.makedirs(EXTRACT_TARGET, exist_ok=True)\n",
        "print(\"done.\")\n",
        "\n",
        "# --------------------------------------------------------------\n",
        "# 2️⃣  Download Zip file\n",
        "# --------------------------------------------------------------\n",
        "print(f\"Downloading {DOWNLOAD_NAME}...\", end='')\n",
        "# Define paths and URLs\n",
        "download_path = os.path.join(PATH, DOWNLOAD_NAME)\n",
        "extract_path = os.path.join(EXTRACT_TARGET, DOWNLOAD_NAME)\n",
        "# Download the file\n",
        "try:\n",
        "    result = subprocess.run(\n",
        "        [\"wget\", \"-O\", DOWNLOAD_NAME, DOWNLOAD_SOURCE],\n",
        "        check=True,\n",
        "        capture_output=True,\n",
        "        text=True\n",
        "    )\n",
        "    print(\"done.\")\n",
        "except subprocess.CalledProcessError as e:\n",
        "    print(f\"Download failed with error: {e}\")\n",
        "    print(f\"Error output: {e.stderr}\")\n",
        "    sys.exit(1)\n",
        "\n",
        "# --------------------------------------------------------------\n",
        "# 3️⃣  Extract Zip file\n",
        "# --------------------------------------------------------------\n",
        "print(f\"Extracting {DOWNLOAD_NAME} to {EXTRACT_TARGET}...\", end='')\n",
        "\n",
        "# Check if zip file exists and has content\n",
        "if not os.path.exists(DOWNLOAD_NAME):\n",
        "    print(f\"Error: Zip file {DOWNLOAD_NAME} does not exist\")\n",
        "    sys.exit(1)\n",
        "\n",
        "if os.path.getsize(DOWNLOAD_NAME) == 0:\n",
        "    print(f\"Error: Zip file {DOWNLOAD_NAME} is empty\")\n",
        "    sys.exit(1)\n",
        "\n",
        "# Extract the file with error handling\n",
        "try:\n",
        "    # Use -o flag to overwrite files without prompting\n",
        "    # Use -q for quiet mode\n",
        "    result = subprocess.run(\n",
        "        [\"unzip\", \"-o\", \"-q\", DOWNLOAD_NAME, \"-d\", EXTRACT_TARGET],\n",
        "        check=True,\n",
        "        capture_output=True,\n",
        "        text=True\n",
        "    )\n",
        "    print(\"done.\")\n",
        "except subprocess.CalledProcessError as e:\n",
        "    print(f\"Error: Unzipping failed with return code {e.returncode}\")\n",
        "    print(f\"Error output: {e.stderr}\")\n",
        "    print(f\"Command that failed: {e.cmd}\")\n",
        "    sys.exit(1)\n",
        "except FileNotFoundError:\n",
        "    print(\"Error: unzip command not found. Please install unzip.\")\n",
        "    sys.exit(1)\n",
        "\n",
        "# --------------------------------------------------------------\n",
        "# 4️⃣  Verify Extraction was successful\n",
        "# --------------------------------------------------------------\n",
        "print(\"Verifying Extraction...\")\n",
        "try:\n",
        "    # Check if extraction directory exists\n",
        "    if not os.path.exists(EXTRACT_TARGET):\n",
        "        print(f\"Error: Extraction directory {EXTRACT_TARGET} does not exist\")\n",
        "        sys.exit(1)\n",
        "\n",
        "    # List contents to verify\n",
        "    contents = os.listdir(EXTRACT_TARGET)\n",
        "    if len(contents) == 0:\n",
        "        print(\"Warning: Extraction directory is empty\")\n",
        "    else:\n",
        "        print(f\"Successfully extracted {len(contents)} items:\")\n",
        "        for item in sorted(contents)[:10]:  # Show first 10 items\n",
        "            item_path = os.path.join(EXTRACT_TARGET, item)\n",
        "            if os.path.isfile(item_path):\n",
        "                size = os.path.getsize(item_path)\n",
        "                print(f\"  - {item} ({size} bytes)\")\n",
        "            else:\n",
        "                print(f\"  - {item} (directory)\")\n",
        "\n",
        "        if len(contents) > 10:\n",
        "            print(f\"  ... and {len(contents) - 10} more items\")\n",
        "\n",
        "    # Try to get more detailed information about what was extracted\n",
        "    result = subprocess.run(\n",
        "        [\"ls\", \"-la\", EXTRACT_TARGET],\n",
        "        capture_output=True,\n",
        "        text=True,\n",
        "        check=False  # Don't raise exception for this command\n",
        "    )\n",
        "    if result.returncode == 0:\n",
        "        print(\"Directory contents:\")\n",
        "        print(result.stdout)\n",
        "\n",
        "except Exception as e:\n",
        "    print(f\"Error during verification: {e}\")\n",
        "    sys.exit(1)\n",
        "\n",
        "print(\"Extraction completed successfully!\")\n"
      ],
      "metadata": {
        "id": "OrUA_JcKb7qO"
      },
      "execution_count": null,
      "outputs": []
    },
    {
      "cell_type": "markdown",
      "source": [
        "If the code is correct you should see the following output\n",
        "\n",
        "![__](https://biologicslab.co/BIO1173/images/class_03/class_03_2_image09D.png)\n",
        "\n"
      ],
      "metadata": {
        "id": "SSZWjAy503F8"
      }
    },
    {
      "cell_type": "markdown",
      "source": [
        "### Example 3 - Step 3: Load Labels for the Training Set\n",
        "\n",
        "CNNs are trained by _supervised_ learning, which means that during each training step the network's prediction must be compared to a known correct answer. The label supplies this target: it allows a loss function (e.g., cross‑entropy, IoU, etc.) to be computed, which in turn provides gradients that tell the optimizer how to adjust the weights. Without a label, the loss cannot be evaluated, no gradients can be derived, and the network has no signal to improve its predictions. Thus, labels are essential for defining the training objective and enabling the network to learn from data.\n",
        "\n",
        "The file `trainLabels.csv` contains the label information for our retinal images. This file has just two columns, **image** and **level**. The `image` specifies the image's filename and from which eye the image was obtained; for example, `10_left.png`. The `level` column contains the a numerical value between 0 and 4 which indicates the serverity of diabetic retinopathy. So in this example the **_level_** is the **image label**.\n",
        "\n",
        "The code in the cell below reads the file `trainLabels.csv` and creates a Pandas dataframe called `eg_raw_df` to store the label information. A short amount of `eg_raw_df` is printed out for inspection to make sure the code worked as expected."
      ],
      "metadata": {
        "id": "ksYDMhoSzVQQ"
      }
    },
    {
      "cell_type": "code",
      "source": [
        "# Example 3 - Step 3: Load the labels for the training set\n",
        "\n",
        "import pandas as pd\n",
        "\n",
        "# Read labels and create dataframe\n",
        "eg_raw_df = pd.read_csv(\n",
        "        os.path.join(EXTRACT_TARGET,\"trainLabels.csv\"),\n",
        "        na_values=['NA', '?'])\n",
        "\n",
        "# Add file extention\n",
        "image_col = 'image'\n",
        "eg_raw_df[image_col] = eg_raw_df[image_col].astype(str) + '.png'\n",
        "\n",
        "# Print sample for verification\n",
        "eg_raw_df"
      ],
      "metadata": {
        "id": "6Y3dlgXu15Wx"
      },
      "execution_count": null,
      "outputs": []
    },
    {
      "cell_type": "markdown",
      "source": [
        "If the code is correct you should see the following output\n",
        "\n",
        "![__](https://biologicslab.co/BIO1173/images/class_03/class_03_2_image04C.png)"
      ],
      "metadata": {
        "id": "Oy1q3kKwNTtV"
      }
    },
    {
      "cell_type": "markdown",
      "source": [
        "### Example 3 - Step 4: Validate Images\n",
        "\n",
        "The code in the cell below checks to see if there is an actual retinal image for each image label in contained the DataFrame `eg_raw`, that was generated in the previous step.  "
      ],
      "metadata": {
        "id": "W9rzoplyVBO7"
      }
    },
    {
      "cell_type": "code",
      "source": [
        "# Example 3 - Step 4: Validate Images\n",
        "\n",
        "from pathlib import Path\n",
        "\n",
        "# Validate that all image files actually exist\n",
        "def validate_image_files(df, source_path):\n",
        "    source = Path(source_path)\n",
        "    existing_files = set()\n",
        "\n",
        "    # Get all actual files in the directory\n",
        "    for file_path in source.rglob('*'):\n",
        "        if file_path.is_file() and file_path.suffix.lower() in ['.jpg', '.jpeg', '.png']:\n",
        "            existing_files.add(file_path.name)\n",
        "\n",
        "    # Check which files in DataFrame actually exist\n",
        "    df['file_exists'] = df['image'].apply(lambda x: x in existing_files)\n",
        "\n",
        "    print(f\"Total images in DataFrame: {len(df)}\")\n",
        "    print(f\"Images that exist: {df['file_exists'].sum()}\")\n",
        "    print(f\"Missing images: {(~df['file_exists']).sum()}\")\n",
        "\n",
        "    # Filter to only include existing files\n",
        "    valid_df = df[df['file_exists']].copy()\n",
        "    print(f\"Valid DataFrame size: {len(valid_df)}\")\n",
        "\n",
        "    return valid_df\n",
        "\n",
        "# Use it:\n",
        "eg_raw_df = validate_image_files(eg_raw_df, SOURCE)"
      ],
      "metadata": {
        "id": "Xdv0eSrGVB6y"
      },
      "execution_count": null,
      "outputs": []
    },
    {
      "cell_type": "markdown",
      "source": [
        "If the code is correct you should see the following output\n",
        "\n",
        "![__](https://biologicslab.co/BIO1173/images/class_03/class_03_2_image24D.png)"
      ],
      "metadata": {
        "id": "gL2bcF55WsuN"
      }
    },
    {
      "cell_type": "markdown",
      "source": [
        "### Example 3 - Step 5: Split Images into Training and Validation Sets\n",
        "\n",
        "If you judge the model only on the same data you used to update its weights, you’ll get an *optimistic* estimate of its performance – the model will look perfect on the training set but will usually fail on new images.  \n",
        "Splitting the data into **training + validation** lets you:\n",
        "\n",
        "1. **Measure true generalization** - see how the network behaves on unseen samples.  \n",
        "2. **Tune hyper‑parameters** - learning rate, number of layers, data‑augmentation policies, etc.  \n",
        "3. **Detect & prevent over‑fitting** - monitor validation loss/accuracy during training and stop or adjust when the model starts to degrade.  \n",
        "4. **Select the best model** - keep the checkpoint that had the lowest validation error.  \n",
        "\n",
        "Without a validation set, you'll be blind to over-fitting, you'll have no reliable metric for early stopping, and you'll have no principled way to pick the best architecture or hyper-parameters.\n",
        "\n",
        "The code in the cell below, splits the retinal images into a training set and a validation set. How much of the train set is used for the validation set depends on the variable `FRAC`. In the cell below, `FRAC` is set to 0.8 which means 80% of the images will be put into the training set (`eg_train_df`) and the remaining 20% will be put into the validation set (`eg_val_df`). Which images are used in each set is randomize. It should be noted that only the **image names** are being \"split\" into a training and validation pool. Later an image generator will use these two DataFrames to actually generate two image sets.\n",
        "\n",
        "After the split, the number images assigned to both sets is printed out."
      ],
      "metadata": {
        "id": "MyRcw-DlXoNw"
      }
    },
    {
      "cell_type": "code",
      "source": [
        "# Example 3 - Step 5: Split Images into Training and Validation Sets\n",
        "\n",
        "# Set split fraction\n",
        "FRAC=0.8  # 80% training / 20% validation\n",
        "\n",
        "# Convert the class column to string – required for `flow_from_dataframe`\n",
        "eg_raw_df['level'] = eg_raw_df['level'].astype(str)\n",
        "\n",
        "# ------------------------------------------------------------------\n",
        "#  1️⃣ Randomly split data into training and validation sets\n",
        "# ------------------------------------------------------------------\n",
        "eg_train_df = eg_raw_df.sample(frac=FRAC, random_state=42)\n",
        "eg_val_df   = eg_raw_df.drop(eg_train_df.index)\n",
        "\n",
        "# Calculate the split fraction as sanity check\n",
        "split_fraction = len(eg_train_df) / (len(eg_val_df) + len(eg_train_df))\n",
        "\n",
        "# Print out numbers\n",
        "print(f\"Training set size   : {len(eg_train_df)}\")\n",
        "print(f\"Validation set size : {len(eg_val_df)}\")\n",
        "print(f\"Calculated split fraction =\", split_fraction)\n",
        "\n",
        "# Quick sanity check\n",
        "print(\"\\nSample training rows:\")\n",
        "print(eg_train_df[['image', 'level']].head())\n",
        "\n",
        "print(\"\\nSample validation rows:\")\n",
        "print(eg_val_df[['image', 'level']].head())"
      ],
      "metadata": {
        "id": "MsYUYOm5UyLA"
      },
      "execution_count": null,
      "outputs": []
    },
    {
      "cell_type": "markdown",
      "source": [
        "If the code is correct you should see the following output\n",
        "\n",
        "![__](https://biologicslab.co/BIO1173/images/class_03/class_03_2_image25D.png)"
      ],
      "metadata": {
        "id": "sF4iuKw5KpBX"
      }
    },
    {
      "cell_type": "markdown",
      "source": [
        "### Example 3 - Step 6: Final Check for Valid Images\n",
        "\n",
        "The code in the cell below does one more final check for valid image files before the `Image Generator` is created in the next step."
      ],
      "metadata": {
        "id": "NL-2WIiRW81b"
      }
    },
    {
      "cell_type": "code",
      "source": [
        "# Example 3 - Step 6: Final Check for Valid Images\n",
        "\n",
        "import os\n",
        "from pathlib import Path\n",
        "\n",
        "# Check which files are actually valid\n",
        "def check_valid_images(df, source_path):\n",
        "    valid_files = []\n",
        "    invalid_files = []\n",
        "\n",
        "    for filename in df['image']:\n",
        "        file_path = Path(source_path) / filename\n",
        "        if file_path.exists() and file_path.is_file():\n",
        "            valid_files.append(filename)\n",
        "        else:\n",
        "            invalid_files.append(filename)\n",
        "\n",
        "    print(f\"Total files: {len(df)}\")\n",
        "    print(f\"Valid files: {len(valid_files)}\")\n",
        "    print(f\"Invalid files: {len(invalid_files)}\")\n",
        "\n",
        "    # Remove invalid files from your dataframe\n",
        "    df_clean = df[df['image'].isin(valid_files)]\n",
        "    print(f\"After cleaning: {len(df_clean)} samples\")\n",
        "\n",
        "    return df_clean\n",
        "\n",
        "# Apply cleaning to both train and validation sets\n",
        "eg_train_df = check_valid_images(eg_train_df, SOURCE)\n",
        "eg_val_df = check_valid_images(eg_val_df, SOURCE)\n"
      ],
      "metadata": {
        "id": "t1BAvweOW9db"
      },
      "execution_count": null,
      "outputs": []
    },
    {
      "cell_type": "markdown",
      "source": [
        "If the code is correct you should see the following output\n",
        "\n",
        "![__](https://biologicslab.co/BIO1173/images/class_03/class_03_2_image22D.png)"
      ],
      "metadata": {
        "id": "TNezz4kbXjaJ"
      }
    },
    {
      "cell_type": "markdown",
      "source": [
        "### Example 3 - Step 7: Create Image Generator\n",
        "\n",
        "The code in the cell below uses the `TensorFlow/Keras` utility `ImageDataGenerator` to creates an **Image Generator**.  \n",
        "\n",
        "**`ImageDataGenerator`** is a powerful utility in Keras that allows you to efficiently load, preprocess, and augment image data for training deep learning models. It helps improve model generalization by applying random transformations to training images, such as rotations, shifts, flips, and more.\n",
        "\n",
        "#### **Key Features**\n",
        "- **Real-time data augmentation**: Applies transformations on the fly during training.\n",
        "- **Memory efficiency**: Loads images in batches, reducing memory usage.\n",
        "- **Preprocessing**: Includes rescaling, normalization, and standardization.\n",
        "\n",
        "#### **Common Parameters**\n",
        "```python\n",
        "from tensorflow.keras.preprocessing.image import ImageDataGenerator\n",
        "\n",
        "datagen = ImageDataGenerator(\n",
        "    rescale=1./255,              # Normalize pixel values\n",
        "    rotation_range=40,           # Random rotation\n",
        "    width_shift_range=0.2,       # Horizontal shift\n",
        "    height_shift_range=0.2,      # Vertical shift\n",
        "    shear_range=0.2,             # Shear transformation\n",
        "    zoom_range=0.2,              # Zoom in/out\n",
        "    horizontal_flip=True,        # Flip images horizontally\n",
        "    fill_mode='nearest'          # Fill in new pixels\n",
        ")\n",
        "```\n",
        "**IMPORTANT NOTE:**\n",
        "\n",
        "You need to be very careful to correctly set the **IMAGE SIZE**. This is especially true when performing transfer learning with pre-trained neural networks like `ResNet50`. `ResNet50` is designed to work with square images of exactly `244` pixels wide and `244` pixels high (i.e. `244 X 244`) that have 3 color channels (i.e. `RGB`) and no `alpha` channel.\n",
        "\n",
        "In the cell below, here is the code that specifies the image size:\n",
        "\n",
        "```type\n",
        "# Specify image size\n",
        "IMG_W, IMG_H = 244, 244\n",
        "```\n",
        "You should also note that we set the `batch` sizes for training at this step in process:\n",
        "```text\n",
        "# Specify batch size\n",
        "BATCH_TRAIN  = 64\n",
        "BATCH_VAL    = 64\n",
        "```\n",
        "If we need to use a different batch size we will need to go back and re-run this cell again.\n",
        "\n",
        "You should also note that we only augment the **training images** --  the **validation images** are **not** augmented."
      ],
      "metadata": {
        "id": "We_gaIXnoWbz"
      }
    },
    {
      "cell_type": "code",
      "source": [
        "# Example 3 - Step 7: Create Image Generator\n",
        "\n",
        "from pathlib import Path\n",
        "from tensorflow.keras.preprocessing.image import ImageDataGenerator\n",
        "from tensorflow.keras.applications.resnet50 import preprocess_input\n",
        "import tensorflow as tf\n",
        "\n",
        "# Specify image size\n",
        "IMG_W, IMG_H = 244, 244\n",
        "\n",
        "# Specify batch size\n",
        "BATCH_TRAIN  = 64\n",
        "BATCH_VAL    = 64\n",
        "\n",
        "# --------------------------------------------------------------------\n",
        "# 1️⃣ Training generator – augmentations\n",
        "# --------------------------------------------------------------------\n",
        "eg_train_datagen = ImageDataGenerator(\n",
        "    preprocessing_function=preprocess_input,  # for *ResNet* pre‑proc\n",
        "    width_shift_range=0.2,       # Horizontal shift\n",
        "    height_shift_range=0.2,      # Vertical shift\n",
        "    horizontal_flip=True,        # Flip images horizontally\n",
        "    zoom_range=0.2,              # Zoom in/out\n",
        "    fill_mode='nearest',         # Fill in new pixels\n",
        "    rotation_range=20,           # Add some rotation\n",
        ")\n",
        "\n",
        "# Optimize data loading with prefetching and caching\n",
        "eg_train_gen = eg_train_datagen.flow_from_dataframe(\n",
        "    dataframe=eg_train_df,  # Labels for training images\n",
        "    directory=str(SOURCE),\n",
        "    x_col='image',          # column that holds the file name\n",
        "    y_col='level',          # column that holds the class string\n",
        "    target_size=(IMG_H, IMG_W),\n",
        "    batch_size=BATCH_TRAIN,\n",
        "    class_mode='categorical',   # one‑hot (shape (batch, 5))\n",
        "    shuffle=True,\n",
        "    seed=42,                  # For reproducibility\n",
        ")\n",
        "\n",
        "# --------------------------------------------------------------------\n",
        "# 2️⃣ Validation generator -- no augmentation\n",
        "# --------------------------------------------------------------------\n",
        "eg_val_datagen = ImageDataGenerator(preprocessing_function=preprocess_input)\n",
        "\n",
        "eg_val_gen = eg_val_datagen.flow_from_dataframe(\n",
        "    dataframe=eg_val_df,   # Labels for the validation images\n",
        "    directory=str(SOURCE),\n",
        "    x_col='image',\n",
        "    y_col='level',\n",
        "    target_size=(IMG_H, IMG_W),\n",
        "    batch_size=BATCH_VAL,\n",
        "    class_mode='categorical',\n",
        "    shuffle=False,\n",
        ")\n",
        "\n",
        "# Sanity Check\n",
        "eg_x_train, eg_y_train = next(eg_train_gen)\n",
        "eg_x_val,   eg_y_val   = next(eg_val_gen)\n",
        "\n",
        "print(\"TRAIN batch  : \", eg_x_train.shape, eg_y_train.shape)\n",
        "print(\"VAL   batch  : \", eg_x_val.shape,   eg_y_val.shape)"
      ],
      "metadata": {
        "id": "kBK9KvsWT0lV"
      },
      "execution_count": null,
      "outputs": []
    },
    {
      "cell_type": "markdown",
      "source": [
        "If the code is correct you should see the following output\n",
        "\n",
        "![__](https://biologicslab.co/BIO1173/images/class_03/class_03_2_image23D.png)\n",
        "\n",
        "This indicates that we will be using 13,958 retinal images in our training set and 3,490 images in our validation set. Each image is `244` x `244` pixels with `3` color channels (RGB)."
      ],
      "metadata": {
        "id": "LRAatHmKZb6q"
      }
    },
    {
      "cell_type": "markdown",
      "source": [
        "### Example 3 - Step 8: Check Class Distribution\n",
        "\n",
        "The code in the cell below generates a histogram showing the distribution of the 5 classes in the validation data set.\n",
        "\n",
        "#### **Why Check Class Distribution in CNN Classification?**\n",
        "\n",
        "When training a Convolutional Neural Network (CNN) for image classification, examining the distribution of classes in your dataset helps ensure that your model learns effectively and generalizes well. Here's why it's important:\n",
        "\n",
        "##### **1. Detecting Class Imbalance**\n",
        "If one class has significantly more samples than others, the model may become biased toward predicting the majority class. This can lead to:\n",
        "- High accuracy but poor performance on minority classes.\n",
        "- Misleading evaluation metrics.\n",
        "\n",
        "##### **2. Choosing the Right Metrics**\n",
        "In imbalanced datasets, accuracy alone is not a reliable metric. You may need to use:\n",
        "- Precision, recall, F1-score\n",
        "- Confusion matrix\n",
        "- ROC-AUC (for binary classification)\n",
        "\n",
        "##### **3. Designing Better Validation Strategies**\n",
        "Knowing the class distribution helps in:\n",
        "- Stratified sampling for train/test splits\n",
        "- Ensuring each class is represented in validation and test sets\n",
        "\n",
        "##### **4. Applying Corrective Techniques**\n",
        "If imbalance is detected, you can apply:\n",
        "- **Data augmentation** for minority classes\n",
        "- **Class weighting** in the loss function\n",
        "- **Oversampling** or **undersampling**\n",
        "- **Synthetic data generation** (e.g., SMOTE)\n",
        "\n",
        "##### **5. Improving Interpretability**\n",
        "Understanding class distribution helps interpret model behavior and debug issues like:\n",
        "- Why the model is misclassifying certain classes\n",
        "- Why training loss is low but validation performance is poor\n",
        "\n",
        "\n",
        "### **Best Practice**\n",
        "Always visualize class distribution before training using a bar chart or value counts.\n",
        "\n",
        "Following **Best Practice**, the code in the cell below generates a bar chart showing the class distribution before we start our training."
      ],
      "metadata": {
        "id": "-gh7tqrUXn8y"
      }
    },
    {
      "cell_type": "code",
      "source": [
        "# Example 3 - Step 8: Check Class Distribution\n",
        "\n",
        "import numpy as np\n",
        "import matplotlib.pyplot as plt\n",
        "\n",
        "# Count class distribution\n",
        "eg_labels_val = eg_val_gen.classes\n",
        "eg_class_counts = np.bincount(eg_labels_val)\n",
        "\n",
        "# Plot distribution\n",
        "plt.bar(range(len(eg_class_counts)), eg_class_counts)\n",
        "plt.xlabel(\"Class Index\")\n",
        "plt.ylabel(\"Number of Samples\")\n",
        "plt.title(\"Validation Set Class Distribution\")\n",
        "plt.show()\n"
      ],
      "metadata": {
        "id": "JtpEnRwuPtar"
      },
      "execution_count": null,
      "outputs": []
    },
    {
      "cell_type": "markdown",
      "source": [
        "If the code is correct you should see the following output\n",
        "\n",
        "![__](https://biologicslab.co/BIO1173/images/class_03/class_03_2_image04D.png)\n",
        "\n",
        "The classes are not balanced. Healthy retinal images (Class `0`) outnumbers the other classes. Unfortunately this situation is quite common in medical imaging of pathological states. The problem is that our neural network model can quickly learn that it picks `0` as the image label, it will be correct _most_ of the time. We need to keep this imbalance in mind when we interpret the results of training our neural network."
      ],
      "metadata": {
        "id": "xXzm6mpsLfaN"
      }
    },
    {
      "cell_type": "markdown",
      "source": [
        "### Example 3 - Step 9: Setup and Compile Neural Network\n",
        "\n",
        "The code in the cell below demonstrates how to use **transfer learning** with the **ResNet50** architecture for a custom image classification task involving 5 classes (i.e. degrees of diabetic retinopathy).\n",
        "\n",
        "#### **What It Does**\n",
        "\n",
        "- **Loads a pretrained `ResNet50 model`** (trained on ImageNet) without its top classification layer.\n",
        "- **Freezes the base model's weights** to retain learned features and prevent them from being updated during training.\n",
        "- **Adds custom layers** on top of the base model:\n",
        "  - Global average pooling to reduce spatial dimensions.\n",
        "  - Dense layer with ReLU activation for learning task-specific features.\n",
        "  - Dropout for regularization to prevent overfitting.\n",
        "  - Final softmax layer for multi-class classification (5 classes).\n",
        "- **Compiles the model** using the `Adam optimizer` and `categorical crossentropy loss`, suitable for multi-class classification.\n",
        "\n",
        "#### **Use Case**\n",
        "\n",
        "This approach is ideal when:\n",
        "- You have limited training data.\n",
        "- You want to leverage powerful pretrained models.\n",
        "- You need to adapt a general-purpose model to a specific classification task.\n",
        "\n",
        "The code in the cell first generates a `base` model from `ResNet50`. It then modifies this base by adding several input layers and an output layer that are tailored to meet our specific use. The finished model called `ResNet50_model_244`. Once out model `ResNet50_model_244` is assembled, it is compiled with the appropiate optimizer (`Adam`), loss function (`categorical_crossentropy`) and metric (`accuracy`) for a _classification_ neural network."
      ],
      "metadata": {
        "id": "5bK4Z_Xigj5o"
      }
    },
    {
      "cell_type": "code",
      "source": [
        "# Example 3 - Step 9: Setup and Compile Neural Network\n",
        "\n",
        "import tensorflow as tf\n",
        "from tensorflow.keras.applications import ResNet50\n",
        "from tensorflow.keras import layers, models, optimizers\n",
        "\n",
        "# Setup base network\n",
        "base = ResNet50(weights='imagenet', include_top=False, input_shape=(IMG_H, IMG_W, 3))\n",
        "base.trainable = False          # freeze layers\n",
        "\n",
        "# Add our layers to the base\n",
        "x = base.output\n",
        "x = layers.GlobalAveragePooling2D()(x)\n",
        "x = layers.Dense(256, activation='relu')(x)\n",
        "x = layers.Dropout(0.5)(x)                   # add drop out layer\n",
        "predictions = layers.Dense(5, activation='softmax')(x)\n",
        "\n",
        "# Create model\n",
        "ResNet50_model_244 = models.Model(inputs=base.input, outputs=predictions)\n",
        "\n",
        "# Use Adam optimizer\n",
        "optimizer = optimizers.Adam(learning_rate=1e-4)\n",
        "\n",
        "# Compile model\n",
        "ResNet50_model_244.compile(\n",
        "    optimizer=optimizer,\n",
        "    loss='categorical_crossentropy',\n",
        "    metrics=['accuracy'])"
      ],
      "metadata": {
        "id": "6XcDRED4SwwB"
      },
      "execution_count": null,
      "outputs": []
    },
    {
      "cell_type": "markdown",
      "source": [
        "If the code is correct you should see something _similar_ to the following output\n",
        "\n",
        "![__](https://biologicslab.co/BIO1173/images/class_03/class_03_2_image33C.png)"
      ],
      "metadata": {
        "id": "dy1wH-0ML_qT"
      }
    },
    {
      "cell_type": "markdown",
      "source": [
        "### Example 3 - Step 10: Train Neural Network\n",
        "\n",
        "The code in the cell below trains the neural network `ResNet50_model_244` for the number of epochs specified by the variable `EPOCHS`. A second variable, `PATIENCE`, controls the Early Stopping monitor. To keep training time reasonable the variable EPOCH has been set to 10 and the variable PATIENCE has been set to 3.\n",
        "\n",
        "**TIME ALERT!**\n",
        "\n",
        "We are analyzing a **LARGE** image dataset so training will take time. Even using Google fastest GPU hardware acceleration, it will probably take more than **1 hour to complete**. So don't start training if you can't afford to wait.\n",
        "\n",
        "**DON'T WASTE YOUR MONEY!**\n",
        "\n",
        "To get feedback on how long the training takes, the code in the cell below contains a \"timer function\". Specifically, the last line of code reads:\n",
        "\n",
        "```text\n",
        "print(f\"Elapsed time: {hms_string(elapsed_time)}\")\n",
        "```\n",
        "This code snippet prints out how long the training required.\n",
        "\n",
        "If you weren't careful and skipped over running the cell that defined the custom function `hms_string()` at the start of this lesson, your model will train for an hour but **FAIL** at the end with an error message.\n",
        "\n",
        "Since every time you use a Colab GPU **costs you money**, don't waste your time and _money_ by running this code cell if you didn't run _all_ of the code cells above before you run the next one.\n",
        "\n",
        "**You have been warned.**"
      ],
      "metadata": {
        "id": "Zqiz6uT7Psx7"
      }
    },
    {
      "cell_type": "code",
      "source": [
        "# Example 3 - Step 8: Train Neural Network\n",
        "\n",
        "import time\n",
        "import tensorflow as tf\n",
        "\n",
        "# Set number of epochs\n",
        "EPOCHS=10\n",
        "\n",
        "# Set Patience\n",
        "PATIENCE=5\n",
        "\n",
        "# ------------------------------------------------------------------------\n",
        "# 1️⃣  Start training\n",
        "# ------------------------------------------------------------------------\n",
        "print(f\"-- Training (classification) is starting for {EPOCHS} epochs----------------------------\")\n",
        "start_time = time.time()\n",
        "\n",
        "# Add more optimization parameters\n",
        "history_244 = ResNet50_model_244.fit(\n",
        "    eg_train_gen,\n",
        "    epochs=EPOCHS,\n",
        "    validation_data=eg_val_gen,\n",
        "    steps_per_epoch=len(eg_train_gen),\n",
        "    validation_steps=len(eg_val_gen),\n",
        "    callbacks=[\n",
        "        tf.keras.callbacks.EarlyStopping(patience=PATIENCE, restore_best_weights=True),\n",
        "        tf.keras.callbacks.ReduceLROnPlateau(factor=0.5, patience=3, min_lr=1e-7)\n",
        "    ],\n",
        ")\n",
        "\n",
        "# Record end time\n",
        "elapsed_time = time.time() - start_time\n",
        "\n",
        "# Print elapsed time\n",
        "print(f\"Elapsed time: {hms_string(elapsed_time)}\")"
      ],
      "metadata": {
        "id": "Ekn5sjD4SLRS"
      },
      "execution_count": null,
      "outputs": []
    },
    {
      "cell_type": "markdown",
      "source": [
        "If the code is correct you should see something similar to the following output\n",
        "\n",
        "![__](https://biologicslab.co/BIO1173/images/class_03/class_03_2_image27D.png)\n",
        "\n",
        "With Colabs best GPU accerator (`A100`) training for 20 epochs required about 35 min to complete 10 epochs.\n"
      ],
      "metadata": {
        "id": "3FRIhXrVyrJf"
      }
    },
    {
      "cell_type": "markdown",
      "source": [
        "------------------------------------------\n",
        "\n",
        "### **What the training output tells you**\n",
        "\n",
        "Here is an itemtize explanation of each item is the particular line of training output:\n",
        "```text\n",
        "Epoch 4/10\n",
        "218/218 ━━━━━━━━━━━━━━━━━━━━ 203s 932ms/step - accuracy: 0.5181 - loss: 1.1525 - val_accuracy: 0.5337 - val_loss: 1.1151 - learning_rate: 1.0000e-04\n",
        "```\n",
        "\n",
        "* **Epoch 4/20** :  This was the 4th epoch out of a 10-Epoch training session.\n",
        "\n",
        "* **218/218** : A total of 218 out of 218 **batches** were processed in this epoch.\n",
        "\n",
        "Remember that there are **13,933** images in the training set and we have set the batch size = 64. If we divide 13,933 images into 64 batches, the model will have process **218** batches to see all of the training images.\n",
        "\n",
        "* **203s** - Total time for the epoch to complete in seconds (~3 minutes).\n",
        "\n",
        "* **932ms/step** - Average time per batch in milliseconds (~ 1 second).\n",
        "\n",
        "* **accuracy: 0.5181** - The accuracy of the model for classifying **_training_** images during this epoch.\n",
        "\n",
        "* **loss: 1.1525** - The training loss for this epoch\n",
        "\n",
        "* **val_accuracy: 0.5337** - The accuracy of the model in classifying **_validation_** images during this epoch\n",
        "\n",
        "* **val_loss: 1.1151** - The validation loss for this epoch.\n",
        "\n",
        "* **learning_rate: 1.0000e-04** = The learning rate for this epoch.\n",
        "---------------------"
      ],
      "metadata": {
        "id": "_LHZrtb8KFUp"
      }
    },
    {
      "cell_type": "markdown",
      "source": [
        "### Example 3 - Step 11: Plot Training/Validation Accuracy\n",
        "\n",
        "A **Training-versus-Validation Accuracy Plot** provides a quick visual gauge of how well a model is learning and generalizing. As training progresses, a rising training accuracy shows that the model is fitting the data, while the validation accuracy tracks performance on unseen samples.\n",
        "\n",
        "When both curves rise together and plateau, the model is likely well-balanced. If training accuracy climbs while validation accuracy lags or dips, the model is over-fitting; conversely, if both stay low, the model is under-fitting or too simple.\n",
        "\n",
        "The shape of the curves also reveals training issues—sharp jumps or oscillations can signal an inappropriate learning rate, and noisy validation performance may indicate label noise or class imbalance. Thus, the plot informs decisions about early stopping, regularisation, architecture changes, or hyper-parameter tuning.\n",
        "\n",
        "\n",
        "#### **Interpreting Common Patterns**\n",
        "\n",
        "| Curve Shape | Interpretation | Suggested Action |\n",
        "|-------------|----------------|------------------|\n",
        "| **Both curves rise together and plateau at high accuracy** | Good fit & generalisation. | Continue training if you want to squeeze a bit more. |\n",
        "| **Training rises, validation rises then drops** | Over‑fitting. | Add regularisation, dropout, data augmentation, or stop early. |\n",
        "| **Both curves rise slowly and stay low** | Under‑fitting. | Increase model capacity, train longer, or reduce regularisation. |\n",
        "| **Validation lags behind training by a fixed margin, but both improve** | Model learns but generalises less well. | Consider a larger training set, better augmentation, or a different architecture. |\n",
        "| **Validation fluctuates wildly** | High variance due to small batch or high learning rate. | Reduce learning rate, increase batch size, or use a learning‑rate scheduler. |\n",
        "\n"
      ],
      "metadata": {
        "id": "2ORsbZqckdC4"
      }
    },
    {
      "cell_type": "code",
      "source": [
        "# Example 3 = Step 11: Plot Training/Validation Accuracy\n",
        "\n",
        "import numpy as np\n",
        "import matplotlib.pyplot as plt\n",
        "\n",
        "# Pull the metrics\n",
        "eg_val_acc = history_244.history.get('val_accuracy')\n",
        "eg_train_acc = history_244.history.get('accuracy')\n",
        "\n",
        "# --- Find the epoch with the highest validation accuracy -------------\n",
        "# np.argmax returns the index (0‑based). Add 1 if you want to show it as \"epoch 1, 2, …\"\n",
        "best_epoch_idx = np.argmax(eg_val_acc)          # 0‑based index\n",
        "best_epoch_num = best_epoch_idx + 1          # 1‑based for display\n",
        "\n",
        "# -----------------------------------------------------------------------\n",
        "\n",
        "plt.figure(figsize=(8, 4))\n",
        "plt.plot(eg_val_acc, label='val_accuracy')\n",
        "plt.plot(eg_train_acc, label='accuracy')\n",
        "\n",
        "# Vertical line at the best epoch (0‑based index)\n",
        "plt.axvline(best_epoch_idx, color='r', linestyle='--',\n",
        "            label=f'Best epoch (epoch {best_epoch_num})')\n",
        "\n",
        "plt.xlabel('Epoch')\n",
        "plt.ylabel('Accuracy')\n",
        "plt.title('Training / Validation Accuracy')\n",
        "plt.legend()\n",
        "plt.grid(True, linestyle='--', alpha=0.5)\n",
        "\n",
        "# Optional: annotate the exact accuracy value at the best epoch\n",
        "best_eg_val_acc = eg_val_acc[best_epoch_idx]\n",
        "plt.text(best_epoch_idx, best_eg_val_acc,\n",
        "         f'{best_eg_val_acc:.4f}',\n",
        "         va='bottom', ha='right', color='r', fontsize=9)\n",
        "\n",
        "plt.tight_layout()\n",
        "plt.show()\n"
      ],
      "metadata": {
        "id": "zziMTssvVoWj"
      },
      "execution_count": null,
      "outputs": []
    },
    {
      "cell_type": "markdown",
      "source": [
        "If the code is correct you should see something similar to the following output\n",
        "\n",
        "![__](https://biologicslab.co/BIO1173/images/class_03/class_03_2_image28D.png)\n",
        "\n",
        "Alternatively, the output might look more similar to this one\n",
        "\n",
        "![__](https://biologicslab.co/BIO1173/images/class_03/class_03_2_image55C.png)\n",
        "\n",
        "Either graph is acceptable.\n"
      ],
      "metadata": {
        "id": "1jADKuEQrDei"
      }
    },
    {
      "cell_type": "markdown",
      "source": [
        "### Example 3 - Step 12: Save Model to GDrive\n",
        "\n",
        "Run the next cell to save your retrained `ResNet50_model_244` model to your GDrive.\n",
        "\n",
        "**IMPORTANT NOTE** You will be using this saved Keras model in a latter class lesson so make sure **not** to delete it from your GDrive!"
      ],
      "metadata": {
        "id": "3M2meHM83wzP"
      }
    },
    {
      "cell_type": "code",
      "source": [
        "# Example 3 - Step 10\n",
        "\n",
        "import os\n",
        "import shutil\n",
        "import tensorflow as tf\n",
        "\n",
        "# --------------------------------------------------------------\n",
        "# 1️⃣  Mount Google Drive (do this only once per session)\n",
        "# --------------------------------------------------------------\n",
        "# from google.colab import drive\n",
        "# drive.mount('/content/drive')\n",
        "\n",
        "# --------------------------------------------------------------\n",
        "# 2️⃣  Define the names / paths\n",
        "# --------------------------------------------------------------\n",
        "model_name     = \"ResNet50_model_244\"                    # model object name\n",
        "gdrive_dir     = f\"/content/drive/My Drive/{model_name}\"  # folder on Drive\n",
        "gdrive_file    = f\"{gdrive_dir}.keras\"                    # the file we want to keep\n",
        "\n",
        "local_dir      = f\"/content/{model_name}\"                 # the *local* folder you want to delete\n",
        "local_file     = f\"{local_dir}.keras\"                     # if you saved a single file locally\n",
        "\n",
        "# --------------------------------------------------------------\n",
        "# 3️⃣  Make sure the Drive folder exists\n",
        "# --------------------------------------------------------------\n",
        "os.makedirs(gdrive_dir, exist_ok=True)\n",
        "\n",
        "# --------------------------------------------------------------\n",
        "# 4️⃣  Save the model *on* Drive (kept forever)\n",
        "# --------------------------------------------------------------\n",
        "ResNet50_model_244.save(gdrive_file)   # <-- this writes the file into /content/drive/My Drive/\n",
        "\n",
        "# --------------------------------------------------------------\n",
        "# 5️⃣  OPTIONAL: Verify the Drive copy exists\n",
        "# --------------------------------------------------------------\n",
        "print(\"Drive copy present:\", os.path.exists(gdrive_file))\n",
        "!ls ./drive/MyDrive"
      ],
      "metadata": {
        "id": "haZzQ6UUBwP2"
      },
      "execution_count": null,
      "outputs": []
    },
    {
      "cell_type": "markdown",
      "source": [
        "If the code is correct you should see something similar to the following output\n",
        "\n",
        "![__](https://biologicslab.co/BIO1173/images/class_03/class_03_2_image54C.png)"
      ],
      "metadata": {
        "id": "ibbgwTSACd1d"
      }
    },
    {
      "cell_type": "markdown",
      "source": [
        "------------------------------------------\n",
        "\n",
        "\n",
        "# **EXERCISE 3**\n",
        "\n",
        "In **Exercise 3** you are going to re-analyze the Diabetic Retinopathy data set using `ResNet101` in conjunction with larger retinal images that are 512 X 512 pixels.\n",
        "\n",
        "**`ResNet-101`** was built to give a **deeper**, **larger-receptive-field** backbone that can be trained stably thanks to residual connections. That extra depth—and the corresponding increase in receptive field and representational capacity—makes the network particularly suited to the high-resolution, high-complexity images that dominate modern clinical imaging datasets (e.g., whole-slide pathology, high‑res CT/MRI, retinal photographs).  \n",
        "\n",
        "#### **1. Depth matters for large, complex images**\n",
        "\n",
        "| Aspect                       | Why it matters in clinical imaging                                                                                     |\n",
        "|------------------------------|------------------------------------------------------------------------------------------------------------------------|\n",
        "| **Receptive field**         | • Deeper network ⇒ larger receptive field.<br>• Captures micro‑details (nuclei, capillaries) *and* macro‑context (lobule shape). |\n",
        "| **Hierarchical feature extraction** | • Early layers learn edges & textures.<br>• Deeper layers combine them into complex motifs.<br>• Needed for multi‑level abstraction (malignant vs. normal). |\n",
        "| **Parameter efficiency**    | • Residual blocks add depth without exploding the number of weights.<br>• 101‑layer stack packs more power while staying manageable. |\n",
        "\n",
        "\n",
        "#### **2. Residual connections: the training engine that makes depth feasible**\n",
        "\n",
        "* **Vanishing / exploding gradients** are especially problematic when you try to back‑propagate through dozens of nonlinear layers. Residual connections add a *shortcut* that lets the gradient flow almost unchanged from the output back to the input, so deeper models can be trained from scratch (or fine‑tuned on a new domain) without catastrophic loss of signal.\n",
        "* In medical-image research, practitioners often *fine-tune* ImageNet‑pretrained models on limited clinical data. Because residual connections preserve gradient flow, a 101‑layer network can be adapted with fewer epochs and fewer data points than a comparable plain CNN.\n",
        "\n",
        "#### **3. ResNet‑101 and typical clinical datasets**\n",
        "\n",
        "| Dataset type              | Typical image size                                    | Typical complexity                                   | ResNet‑101 benefits                                                                                                                                                 |\n",
        "|---------------------------|-------------------------------------------------------|-------------------------------------------------------|---------------------------------------------------------------------------------------------------------------------------------------------------------------------|\n",
        "| Whole‑slide pathology     | 10k‑40k px × 10k‑40k px (usually tiled to 512×512)   | Ultra‑fine texture + large‑scale architecture        | • Deep residual layers capture both micro‑ and macro‑features.<br>• Receptive field ≈ 400 px after 5 stages                                                      |\n",
        "| Chest CT                  | 512×512 or larger                                    | Subtle texture changes, large organs                 | • Deeper encoder gives more context for slice‑to‑slice variation                                                                                                      |\n",
        "| Retinal fundus            | 5000×5000 px (often cropped to 1024×1024)            | Fine vascular patterns + large vessels               | • Extra depth boosts sensitivity to minute capillary changes                                                                         \n",
        "> **Bottom line**: ResNet‑101 was *not* invented *solely* for medical imaging, but its architectural traits (depth, residual links, large receptive field) make it a natural fit for the high‑resolution, highly variable images found in clinical datasets.\n",
        "\n",
        "#### **4. Practical use-cases that illustrate the point**\n",
        "\n",
        "1. **Whole‑slide analysis**  \n",
        "   *U‑Net + ResNet‑101 encoder* is the standard backbone for segmentation of tumor vs. normal tissue. The encoder’s depth allows the network to produce rich multi‑scale feature maps that are essential for accurate boundary delineation.\n",
        "\n",
        "2. **Histopathology classification**  \n",
        "   A 101‑layer residual network fine‑tuned on 2048×2048 patches yields a 2‑fold improvement in AUC over a 50‑layer variant, especially on datasets where subtle nuclear pleomorphism is the key discriminant.\n",
        "\n",
        "3. **Radiology reporting**  \n",
        "   ResNet‑101 pre‑trained on ImageNet is used as the feature extractor for a downstream transformer that produces radiology reports. The larger depth improves the semantic quality of the extracted features, translating into more coherent, clinically relevant reports.\n",
        "\n",
        "#### **5. What the “larger image size” means**\n",
        "\n",
        "When people say ResNet‑101 was created “in part to analyze larger image sizes,” they're really referring to two intertwined design goals:\n",
        "\n",
        "1. **Scale-aware receptive fields** - As the input resolution grows, the network’s receptive field must grow proportionally so that each unit still sees a meaningful portion of the image. Deeper networks naturally achieve this.\n",
        "\n",
        "2. **Robust training** - High-resolution images contain many more pixels, which can amplify the effects of noise, small mis-alignments, or class imbalance. Residual learning keeps gradients stable, allowing the model to learn meaningful patterns from a massive pixel set without **over-fitting** or getting stuck.\n",
        "\n",
        "---\n",
        "\n",
        "#### **TL;DR**\n",
        "\n",
        "ResNet‑101’s 101 layers give it a large receptive field and the capacity to learn complex, hierarchical features, which is vital for interpreting the fine‑grained details and global context in large medical images. Residual connections make training such a deep network feasible, allowing it to be fine‑tuned on the often limited clinical datasets that are typical in healthcare. That combination is why the architecture was chosen, and later adopted, for many high‑resolution clinical image‑analysis tasks.\n",
        "\n",
        "#### **Image Size Comparison**\n",
        "\n",
        "You should realize that `512×512×3` image is more than **4X larger** than a `244×244×3` image. Here's the math:\n",
        "\n",
        "\\begin{aligned}\n",
        "512 \\times 512 \\times 3 &= 786{,}432 \\\\\n",
        "244 \\times 244 \\times 3 &= 178{,}608 \\\\\n",
        "\\frac{786{,}432}{178{,}608} &\\approx 4.4\n",
        "\\end{aligned}\n",
        "\n",
        "\n",
        "So, the **512x512x3** image is approximately **4.4 times larger** than the **244×244×3** image in terms of pixel data. That additional detail might be critical for \"seeing\" small differences between the images in different diabetic retinal classes."
      ],
      "metadata": {
        "id": "SofmEo6JmCZz"
      }
    },
    {
      "cell_type": "markdown",
      "source": [
        "### **Exercise 3 - Step 1: Set ENVIRONMENTAL VARIABLES**\n",
        "\n",
        "In the cell below write the code to define a your `ENVIRONMENTAL VARIABLES`. It is important to make the all of the following changes exactly as suggested.\n",
        "\n",
        "**Code Hints:**\n",
        "\n",
        "1. Change this line of code\n",
        "```text\n",
        "DOWNLOAD_SOURCE = URL+\"diabetic_retinopathy_train_244.zip\"\n",
        "```\n",
        "to read\n",
        "```text\n",
        "DOWNLOAD_SOURCE = URL+\"diabetic_retinopathy_train_512.zip\"\n",
        "```\n",
        "2. Change this line of code\n",
        "```text\n",
        "EXTRACT_TARGET = os.path.join(PATH,\"retinopathy_244\")\n",
        "```\n",
        "to read\n",
        "```text\n",
        "EXTRACT_TARGET = os.path.join(PATH,\"retinopathy_512\")\n",
        "```\n",
        "3. Change this line of code\n",
        "```text\n",
        "SOURCE = os.path.join(EXTRACT_TARGET, \"train_244\")\n",
        "```\n",
        "to read\n",
        "```text\n",
        "SOURCE = os.path.join(EXTRACT_TARGET, \"train_512\")\n",
        "```\n",
        "\n"
      ],
      "metadata": {
        "id": "EyqunLqtmQLj"
      }
    },
    {
      "cell_type": "code",
      "source": [
        "# Insert your code for Exercise 3 - Step 1 here\n",
        "\n"
      ],
      "metadata": {
        "id": "FTJS3d5tmQLj"
      },
      "execution_count": null,
      "outputs": []
    },
    {
      "cell_type": "markdown",
      "source": [
        "If the code is correct you should see the following output\n",
        "\n",
        "![__](https://biologicslab.co/BIO1173/images/class_03/class_03_2_image37C.png)"
      ],
      "metadata": {
        "id": "Z7ehx51EmQLj"
      }
    },
    {
      "cell_type": "markdown",
      "source": [
        "### **Exercise 3 - Step 2: Download and Extract Image Data**\n",
        "\n",
        "In the cell below write the code to (1) create the necessary directories, (2) download the Zip file containing the image data, (3) extract this data into the appropiate folder and (4) verify the sucess\n",
        "\n",
        "**Code Hints:**\n",
        "\n",
        "You can re-use the code in Example 3 - Step 2 _without_ making any code changes.\n",
        "\n",
        "**TIME WARNING:** This Zip file is _substantially_ larger than the one you downloaded in Example 3. You can expect it to take approximately **7 minutes** to download and unzip the image files."
      ],
      "metadata": {
        "id": "owF95gW0mQLk"
      }
    },
    {
      "cell_type": "code",
      "source": [
        "# Insert your code for Exercise 3 - Step 2 here\n",
        "\n"
      ],
      "metadata": {
        "id": "Lr8eqTjtdCW1"
      },
      "execution_count": null,
      "outputs": []
    },
    {
      "cell_type": "markdown",
      "source": [
        "If the code is correct you should see the following output\n",
        "\n",
        "![__](https://biologicslab.co/BIO1173/images/class_03/class_03_2_image10D.png)\n"
      ],
      "metadata": {
        "id": "LX3hmd-omQLk"
      }
    },
    {
      "cell_type": "markdown",
      "source": [
        "### **Exercise 3 - Step 3: Load Labels for the Training Set**\n",
        "\n",
        "In the cell below write the code to extract the label information from the file `trainLabel.csv` located in your `./retinopathy_512` folder and create a DataFrame called `ex_raw_df`.\n",
        "\n",
        "**Code Hints:**\n",
        "\n",
        "Copy the code from `Example 3 - Step 3` and then change the prefix `eg_` to `ex_` **everywhere** in the code."
      ],
      "metadata": {
        "id": "69raKQFgmQLl"
      }
    },
    {
      "cell_type": "code",
      "source": [
        "# Insert your code for Exercise 3 - Step 3 here\n"
      ],
      "metadata": {
        "id": "fpmGEfHEmQLl"
      },
      "execution_count": null,
      "outputs": []
    },
    {
      "cell_type": "markdown",
      "source": [
        "If the code is correct you should see the following output\n",
        "\n",
        "![__](https://biologicslab.co/BIO1173/images/class_03/class_03_2_image40C.png)"
      ],
      "metadata": {
        "id": "lkYpMY5MmQLl"
      }
    },
    {
      "cell_type": "markdown",
      "source": [
        "### **Exercise 3 - Step 4: Validate Images**\n",
        "\n",
        "In the cell below write the code to check whether an actual retinal image file exists for each image label in the DataFrame `ex_raw`.  \n",
        "\n",
        "**Code Hints:**\n",
        "\n",
        "Make sure to change the prefix `eg_` to `ex_` in the print statements are the bottom of the code copied from Example 3 - Step 4."
      ],
      "metadata": {
        "id": "zxmUxVqYcpHv"
      }
    },
    {
      "cell_type": "code",
      "source": [
        "# Insert your code for Execise 3 - Step 4 here\n",
        "\n"
      ],
      "metadata": {
        "id": "EI9Y8eGEcpHv"
      },
      "execution_count": null,
      "outputs": []
    },
    {
      "cell_type": "markdown",
      "source": [
        "If the code is correct you should see the following output\n",
        "\n",
        "![__](https://biologicslab.co/BIO1173/images/class_03/class_03_2_image29D.png)"
      ],
      "metadata": {
        "id": "kxHv6dHQcpHw"
      }
    },
    {
      "cell_type": "markdown",
      "source": [
        "### **Exercise 3 - Step 5: Split Images into Training and Validation Sets**\n",
        "\n",
        "In the cell below write the code to split your retinal images into a training set and a validation set with 80% of the images going into the training set. After splitting, print out the number images in both sets and a short sample of both the training set and the validation set.\n",
        "\n",
        "**Code Hints:**\n",
        "\n",
        "Copy the code from `Example 3 - Step 5` and change the prefix `eg_` to `ex_`."
      ],
      "metadata": {
        "id": "Z9FsUIsDmQLl"
      }
    },
    {
      "cell_type": "code",
      "source": [
        "# Insert your code for Exercise 3 - Step 5 here\n",
        "\n"
      ],
      "metadata": {
        "id": "63vrz9p2L3X2"
      },
      "execution_count": null,
      "outputs": []
    },
    {
      "cell_type": "markdown",
      "source": [
        "If the code is correct you should see the following output\n",
        "\n",
        "![__](https://biologicslab.co/BIO1173/images/class_03/class_03_2_image30D.png)"
      ],
      "metadata": {
        "id": "WoNzAXAA4Pez"
      }
    },
    {
      "cell_type": "markdown",
      "source": [
        "### **Exercise 3 - Step 6: Final Check for Valid Images**\n",
        "\n",
        "In the cell below write the to make a final check that all the image files are valid.\n",
        "\n",
        "**Code Hints:**\n",
        "\n",
        "Make sure to change the prefix `eg_` to `ex_` every where in the code that you copied from Example 3 - Step 6."
      ],
      "metadata": {
        "id": "urX5VTGfgG4w"
      }
    },
    {
      "cell_type": "code",
      "source": [
        "# Insert your code for Exericse 3 - Step 6 here\n",
        "\n"
      ],
      "metadata": {
        "id": "6Eh0xPragHco"
      },
      "execution_count": null,
      "outputs": []
    },
    {
      "cell_type": "markdown",
      "source": [
        "If the code is correct you should see the following output\n",
        "\n",
        "![__](https://biologicslab.co/BIO1173/images/class_03/class_03_2_image31D.png)"
      ],
      "metadata": {
        "id": "zb_9xI_rOt2p"
      }
    },
    {
      "cell_type": "markdown",
      "source": [
        "### **Exercise 3 - Step 7: Create Image Generator**\n",
        "\n",
        "In the cell below write the code to create an Image Generator using the `Tensorflow/Keras` utility `ImageDataGenerator`.\n",
        "\n",
        "**Code Notes:**\n",
        "\n",
        "1. Is is _very_ important that you change your image size.\n",
        "\n",
        "Specifically you must change this code snippet:\n",
        "```text\n",
        "# Specify Image Size\n",
        "IMG_W, IMG_H = 244, 244\n",
        "```\n",
        "to read as\n",
        "```text\n",
        "# Specify Image Size\n",
        "IMG_W, IMG_H = 512, 512\n",
        "```\n",
        "The main objective of **Exercise 3** is to analyze larger retinal imagee (512 X 512 pixels) to see if that will improve classification accuracy.\n",
        "\n",
        "2. Make sure to change:\n",
        "```text\n",
        "eg_train_gen = eg_train_datagen.flow_from_dataframe(\n",
        "    dataframe=eg_train_df,  # Labels for training images\n",
        "```\n",
        "to read as\n",
        "```text\n",
        "ex_train_gen = ex_train_datagen.flow_from_dataframe(\n",
        "    dataframe=ex_train_df,  # Labels for training images\n",
        "```\n",
        "\n",
        "3. Make sure to change the name of the DataFrame holding the labels:\n",
        "```text\n",
        "eg_val_gen = eg_eval_datagen.flow_from_dataframe(\n",
        "    dataframe=eg_val_df,   # Labels for the validation images\n",
        "```\n",
        "to read as\n",
        "```text\n",
        "ex_val_gen = ex_val_datagen.flow_from_dataframe(\n",
        "    dataframe=ex_val_df,   # Labels for the validation images\n",
        "```"
      ],
      "metadata": {
        "id": "nWCh6S_kmQLl"
      }
    },
    {
      "cell_type": "code",
      "source": [
        "# Insert your code for Exercise 3 - Step 7 here\n",
        "\n"
      ],
      "metadata": {
        "id": "SYExsDmMfpdy"
      },
      "execution_count": null,
      "outputs": []
    },
    {
      "cell_type": "markdown",
      "source": [
        "If the code is correct you should see the following output\n",
        "\n",
        "![__](https://biologicslab.co/BIO1173/images/class_03/class_03_2_image32D.png)"
      ],
      "metadata": {
        "id": "gaCyU5oz4p_C"
      }
    },
    {
      "cell_type": "markdown",
      "source": [
        "### **Exercise 3 - Step 8: Check Class Distribution**\n",
        "\n",
        "In the cell below write the code to generate a bar graph showing the number of images in each of the 5 output classes.\n",
        "\n",
        "**Code Hints:**\n",
        "\n",
        "Copy the code from `Example 3 - Step 6` and change the prefix `eg_` to `ex_` everywhere that it occurs.\n",
        "\n"
      ],
      "metadata": {
        "id": "Ry1JMAnfmQLm"
      }
    },
    {
      "cell_type": "code",
      "source": [
        "# Insert your code for Exercise 3 - Step 8 here\n",
        "\n",
        "\n"
      ],
      "metadata": {
        "id": "3xWfbRnmmQLm"
      },
      "execution_count": null,
      "outputs": []
    },
    {
      "cell_type": "markdown",
      "source": [
        "If the code is correct you should see the following output\n",
        "\n",
        "![__](https://biologicslab.co/BIO1173/images/class_03/class_03_2_image12D.png)"
      ],
      "metadata": {
        "id": "T9hzpBna4-MB"
      }
    },
    {
      "cell_type": "markdown",
      "source": [
        "### **Exercise 3 - Step 9: Setup `ResNet101` Base Network**\n",
        "\n",
        "In the cell below write the code to setup your base network using `ResNet101` instead of `ResNet50`. Called your new model `ResNet101_model_512`.\n",
        "\n",
        "**Code Hints:**\n",
        "\n",
        "1. Change this line of code\n",
        "```text\n",
        "from tensorflow.keras.applications import ResNet50\n",
        "```\n",
        "to read\n",
        "```text\n",
        "from tensorflow.keras.applications import ResNet101\n",
        "\n",
        "2. Change this line of code\n",
        "```text\n",
        "base = ResNet50(weights='imagenet', include_top=False, input_shape=(IMG_H, IMG_W, 3))\n",
        "```\n",
        "to read\n",
        "```text\n",
        "base = ResNet101(weights='imagenet', include_top=False, input_shape=(IMG_H, IMG_W, 3))\n",
        "```\n",
        "2. Change this line of code\n",
        "```text\n",
        "ResNet50_model_244 = models.Model(inputs=base.input, outputs=predictions)\n",
        "```\n",
        "to read\n",
        "```text\n",
        "ResNet101_model_512 = models.Model(inputs=base.input, outputs=predictions)\n",
        "```\n",
        "3. Change this line of code\n",
        "```text\n",
        "ResNet50_model_244.compile(\n",
        "```\n",
        "to read\n",
        "```text\n",
        "ResNet101_model_512.compile(\n",
        "```\n",
        "\n",
        "\n",
        "\n"
      ],
      "metadata": {
        "id": "4hsAaWRfmQLm"
      }
    },
    {
      "cell_type": "code",
      "source": [
        "# Example 3 - Step 9: Setup and Compile Neural Network\n",
        "\n"
      ],
      "metadata": {
        "id": "7lgKSRVJyw1i"
      },
      "execution_count": null,
      "outputs": []
    },
    {
      "cell_type": "markdown",
      "source": [
        "If the code is correct you should see the following output\n",
        "\n",
        "![__](https://biologicslab.co/BIO1173/images/class_03/class_03_2_image44C.png)"
      ],
      "metadata": {
        "id": "vMSFZmOW5k-g"
      }
    },
    {
      "cell_type": "markdown",
      "source": [
        "### **Exercise 3 - Step 10: Train Neural Network**\n",
        "\n",
        "In the cell below write the code to train your neural network `ResNet101_model_512`.\n",
        "\n",
        "#### **Please Read this Carefully**\n",
        "\n",
        "The `ResNet101_model_512` is by far the largest neural network that you will be asked to train in this course. Due to the large size of the images (512x512 pixels), training this model for even `10` epochs will require more than **2 hours!**\n",
        "\n",
        "To make this lesson more \"student friendly\", you are free to set your number of epochs to a **minumum value** of `2` and still get full credit.\n",
        "\n",
        "Just be aware that even 2 epochs will probably take more than 1/2 hour to run. If you don't run at least 2 epochs you will lose points.\n",
        "\n",
        "**Code Hints:**\n",
        "\n",
        "Change this line of code\n",
        "```text\n",
        "history_244 = ResNet50_model_244.fit(\n",
        "```\n",
        "to read\n",
        "```text\n",
        "history_512 = ResNet101_model_512.fit(\n",
        "```\n",
        "\n",
        "Make sure to change the prefix `eg_` to `ex_` everywhere is occurs in the code."
      ],
      "metadata": {
        "id": "Wi1Fbo8NmQLm"
      }
    },
    {
      "cell_type": "code",
      "source": [
        "# Insert your code for Exercise 3 - Step 10 here\n",
        "\n"
      ],
      "metadata": {
        "id": "HP4V3MdHNOEO"
      },
      "execution_count": null,
      "outputs": []
    },
    {
      "cell_type": "markdown",
      "source": [
        "If the code is correct you should see something similar to the following output\n",
        "\n",
        "![__](https://biologicslab.co/BIO1173/images/class_03/class_03_2_image33D.png)\n"
      ],
      "metadata": {
        "id": "lALh-nnSmQLm"
      }
    },
    {
      "cell_type": "markdown",
      "source": [
        "### **Exercise 3 - Step 11: Plot Training History**\n",
        "\n",
        "In the cell below write the code to plot the training history of your `ResNet101_model_512`.\n",
        "\n",
        "Copy the code in Example 3 - Step 9 into the cell below.\n",
        "\n",
        "**Code Hints:**\n",
        "\n",
        "1. Change this line of code\n",
        "```text\n",
        "eg_val_acc = history_244.history.get('val_accuracy')\n",
        "```\n",
        "to read\n",
        "```text\n",
        "ex_val_acc = history_512.history.get('val_accuracy')\n",
        "```\n",
        "2. Change this line of code\n",
        "```text\n",
        "eg_train_acc = history_244.history.get('accuracy')\n",
        "```\n",
        "to read\n",
        "```text\n",
        "ex_train_acc = history_512.history.get('accuracy')\n",
        "```\n",
        "\n",
        "Change the prefix `eg_` to `ex_` everywhere in the copied code."
      ],
      "metadata": {
        "id": "1pSv_2shmQLn"
      }
    },
    {
      "cell_type": "code",
      "source": [
        "# Insert your code for Exercise 3 - Step 11 here\n",
        "\n"
      ],
      "metadata": {
        "id": "aFm1IkVlwue1"
      },
      "execution_count": null,
      "outputs": []
    },
    {
      "cell_type": "markdown",
      "source": [
        "If the code is correct you should see something similar to the following output\n",
        "\n",
        "![__](https://biologicslab.co/BIO1173/images/class_03/class_03_2_image34D.png)\n",
        "\n",
        "\n",
        "Alternatively, you might see something more similar to the following output\n",
        "\n",
        "![__](https://biologicslab.co/BIO1173/images/class_03/class_03_2_image51C.png)\n",
        "\n",
        "### **Analysis**\n",
        "\n",
        "1. **Training vs Validation Accuracy:**\n",
        "\n",
        "* Both curves show a general upward trend, indicating that the model is learning over time.\n",
        "* The training accuracy is consistently higher than the validation accuracy, which is typical and suggests the model is fitting the training data well.\n",
        "\n",
        "2. **Best Epoch at 9:**\n",
        "\n",
        "* Although the x-axis only goes up to 8, the best validation accuracy is noted at epoch 9. This might imply that the training continued beyond what's shown in the plot, or the plot is cropped.\n",
        "* The peak validation accuracy of **`0.7634`** suggests a decent generalization performance.\n",
        "\n",
        "3. **Possible Overfitting:**\n",
        "\n",
        "* If the training accuracy continues to rise while validation accuracy plateaus or drops (not fully visible here), it could indicate overfitting. However, from the visible data, the gap between training and validation accuracy is not extreme."
      ],
      "metadata": {
        "id": "OjnUgGZSRYZr"
      }
    },
    {
      "cell_type": "markdown",
      "source": [
        "### **Exercise 3 - Step 12: Save Model to GDrive**\n",
        "\n",
        "In the next cell write the code to save your `ResNet101_model_512` to your GDrive.\n",
        "\n",
        "**Code Hints:**\n",
        "\n",
        "Change this line of code\n",
        "```text\n",
        "model_name     = \"ResNet50_model_244\"                    # model object name\n",
        "```\n",
        "to read\n",
        "```text\n",
        "model_name     = \"ResNet101_model_512\"                    # model object name\n",
        "```"
      ],
      "metadata": {
        "id": "G9yqR3rQmQLn"
      }
    },
    {
      "cell_type": "code",
      "source": [
        "# Insert your code for Example 3 - Step 12 here\n",
        "\n"
      ],
      "metadata": {
        "id": "dLu0bTR4TByG"
      },
      "execution_count": null,
      "outputs": []
    },
    {
      "cell_type": "markdown",
      "source": [
        "If the code is correct you should see something similar to the following output\n",
        "\n",
        "![__](https://biologicslab.co/BIO1173/images/class_03/class_03_2_image53C.png)\n",
        "\n",
        "Your `ResNet101_model_512` is now safely stored on your GDrive.\n",
        "\n",
        "If you wanted to, you could easily copy your model back from your GDrive into you current Google Colab directory and use it analyze new retinal fundus images, looking for signs of diabetic retinopathy. Since your model is already trained, you could analyze the retinal images from your new patient as he/she sits in your office.\n",
        "\n",
        "Always keep in mind a common saying among members of the ML/AI community:\n",
        "\n",
        "> **_“Train-once, deploy-many”_**\n",
        "\n",
        "**IMPORTANT NOTE:** Make sure **not** to erase your saved file from your GDrive. You will need to use it later in a different class lesson."
      ],
      "metadata": {
        "id": "IN2bqt7V_C1S"
      }
    },
    {
      "cell_type": "markdown",
      "metadata": {
        "id": "9MhC_-6ebE3l"
      },
      "source": [
        "## **Lesson Turn-in**\n",
        "\n",
        "When you have completed and run all of the code cells, use the **File --> Print.. --> Save to PDF** to generate a PDF of your Colab notebook. Save your PDF as `Class_03_2.lastname.pdf` where _lastname_ is your last name, and upload the file to Canvas."
      ]
    },
    {
      "cell_type": "markdown",
      "source": [
        "## **The Diabetic Retinopathy Dataset**\n",
        "\n",
        "The **Diabetic Retinopathy Dataset** used in this lesson was part of a 2015 Kaggle Competition.\n",
        "\n",
        "Here is a summary of the winners and what they did to win this competition.\n",
        "\n",
        "### Winner of the 2015 Kaggle Diabetic Retinopathy Detection competition\n",
        "**Team**: *o_O* (Mathis Antony & Stephan Brüggemann)  \n",
        "**Score**: 0.845 weighted quadratic‑weighted Kappa (private leaderboard)  \n",
        "**Public leaderboard**: 7th place (5.8 k K‑appa)\n",
        "\n",
        "| Item | Details | Source |\n",
        "|------|---------|--------|\n",
        "| **Winning team** | “o_O” (Mathis Antony & Stephan Brüggemann) | 5.8 k K‑appa on the private leaderboard, 7 th place on the public leaderboard【9†L18-L23】 |\n",
        "| **Overall performance** | 0.845 weighted quadratic weighted Kappa (private leaderboard) | 5.8 k K‑appa, 0.845 score【9†L19-L22】 |\n",
        "| **Core architecture** | Two custom 2‑D convolutional nets (Net A & Net B) with a **per‑patient blending network** (Table 2) | 13‑25 | 12‑15 |\n",
        "| **Training framework** | Lasagne + nolearn (Theano) | 10‑11 |\n",
        "| **Image size** | 128 × 128, 256 × 256 and 512 × 512 (large color images, cropped to remove background) | 21‑24 |\n",
        "| **Pre‑training strategy** | *First* train a small network on 128‑pixel images.  Weights are then used to initialise an intermediate‑size network (trained on 256 px) and finally a 512‑pixel network.  Orthogonal initialization for all weights. | 105‑108 |\n",
        "| **Data augmentation** | Translation, stretching, rotation, flipping, colour jitter; per‑channel zero‑mean/unit‑variance scaling; 112/224/448 output sizes for 128/256/512 input images. | 115‑121 |\n",
        "| **Class imbalance handling** | Dynamic resampling: oversample rare classes initially, then gradually reduce; resampling weights \\((1.36, 14.4, 6.64, 40.2, 49.6)\\) → \\((1,2,2,2,2)\\). | 82‑96 |\n",
        "| **Training schedule** | Nesterov momentum with a fixed learning‑rate schedule over 250 epochs; learning rates 0.003 (epoch 0) → 0.00003 (epoch 150); L2 weight decay 0.0005; dropout after convolution and dense layers. | 31‑36, 70‑73 |\n",
        "| **Loss & objective** | Mean‑squared‑error regression (output thresholded at (0.5,1.5,2.5,3.5) to obtain integer grades). | 75‑77 |\n",
        "| **Blending network** | Input: mean & std of the RMSPool layer over 50 augmentations for each eye (µ,σ) + eye‑side indicator; 8193‑input → Dense 32 → Maxout 16 → Dense 32 → Maxout 16; Adam optimiser with a schedule (5 e‑4 → 5 e‑7). | 148‑156, 158‑166 |\n",
        "| **Final ensemble** | Average of the two conv‑net predictions, blended with the patient‑level network; score 0.845 (private) vs 0.824 (no per‑patient blend). | 167‑169 |\n",
        "| **Key design choices that yielded the win** | 1. **Large input resolution** – 512 × 512 (and even 768 × 768 for 0.81 Kappa) to capture micro‑aneurysms. 2. **Stage‑wise pre‑training** – starting from 128 px to 512 px to stabilise training. 3. **Extensive data augmentation & per‑channel normalisation**. 4. **Dynamic resampling** to address class imbalance without a weighted loss. 5. **Per‑patient blending** that aggregates information from both eyes and multiple augmentations. 6. **Ensembling of two independently trained nets**. | 45‑69, 82‑96, 100‑108, 115‑121, 131‑139, 167‑169 |\n",
        "\n",
        "### **Why their approach won**\n",
        "\n",
        "The combination of **large‑resolution images**, staged pre‑training, aggressive augmentation, careful imbalance handling, and per‑patient feature blending allowed the o_O model to achieve the highest weighted quadratic‑weighted κ score in the 2015 competition.\n",
        "\n"
      ],
      "metadata": {
        "id": "HFG4NZGwRfSk"
      }
    },
    {
      "cell_type": "markdown",
      "source": [
        "## **Lizard Tail**\n",
        "\n",
        "\n",
        "## **BASIC**\n",
        "\n",
        "![__](https://upload.wikimedia.org/wikipedia/commons/7/7b/AtariBASIC.png)\n",
        "\n",
        "# Introduction to BASIC Programming Language\n",
        "\n",
        "## What is BASIC?\n",
        "\n",
        "**BASIC** (Beginner's All-purpose Symbolic Instruction Code) is a high-level programming language designed to be easy to learn and use. It was created with the goal of providing access to computing power for students and non-professional programmers, emphasizing simplicity and readability.\n",
        "\n",
        "BASIC uses straightforward syntax and commands that resemble English, making it an ideal first language for beginners. Over time, it has evolved into many dialects and influenced the development of numerous other programming languages.\n",
        "\n",
        "---\n",
        "\n",
        "## **Historical Summary**\n",
        "\n",
        "#### **Origins**\n",
        "\n",
        "- **Year Created**: 1964  \n",
        "- **Creators**: John G. Kemeny and Thomas E. Kurtz  \n",
        "- **Institution**: Dartmouth College\n",
        "\n",
        "Kemeny and Kurtz developed BASIC to enable students in fields other than science and mathematics to use computers. At the time, most programming languages were complex and required deep technical knowledge. BASIC was designed to democratize computing.\n",
        "\n",
        "#### **Key Milestones**\n",
        "\n",
        "- **1964**: First implementation of BASIC on a GE-225 mainframe at Dartmouth College.\n",
        "- **1970s**: BASIC became widely adopted on microcomputers, especially with the rise of personal computing.\n",
        "- **1975**: Microsoft was founded to develop a version of BASIC (Altair BASIC) for the Altair 8800, marking the beginning of Microsoft's software empire.\n",
        "- **1980s**: Variants like GW-BASIC, QuickBASIC, and Turbo BASIC became popular on MS-DOS systems.\n",
        "- **1991**: Microsoft introduced Visual Basic, combining BASIC with a graphical user interface (GUI) development environment.\n",
        "- **2000s–Present**: Modern dialects like VB.NET continue to be used, especially in enterprise and educational settings.\n",
        "\n",
        "#### **Legacy**\n",
        "\n",
        "BASIC played a crucial role in the early days of personal computing. It introduced millions of people to programming and laid the foundation for many modern languages. While its use has declined in favor of more powerful and flexible languages, its influence remains significant in the history of computer science.\n",
        "\n",
        "---\n",
        "\n",
        "## Example BASIC Code\n",
        "\n",
        "```basic\n",
        "10 PRINT \"HELLO, WORLD!\"\n",
        "20 END\n",
        "```\n",
        "\n",
        "**BASIC (Beginners' All-purpose Symbolic Instruction Code)** is a family of general-purpose, high-level programming languages designed for ease of use. The original version was created by John G. Kemeny and Thomas E. Kurtz at Dartmouth College in 1963. They wanted to enable students in non-scientific fields to use computers. At the time, nearly all computers required writing custom software, which only scientists and mathematicians tended to learn.\n",
        "\n",
        "In addition to the programming language, Kemeny and Kurtz developed the Dartmouth Time-Sharing System (DTSS), which allowed multiple users to edit and run BASIC programs simultaneously on remote terminals. This general model became popular on minicomputer systems like the PDP-11 and Data General Nova in the late 1960s and early 1970s. Hewlett-Packard produced an entire computer line for this method of operation, introducing the HP2000 series in the late 1960s and continuing sales into the 1980s. Many early video games trace their history to one of these versions of BASIC.\n",
        "\n",
        "The emergence of microcomputers in the mid-1970s led to the development of multiple BASIC dialects, including Microsoft BASIC in 1975. Due to the tiny main memory available on these machines, often 4 KB, a variety of Tiny BASIC dialects were also created. BASIC was available for almost any system of the era, and became the de facto programming language for home computer systems that emerged in the late 1970s. These PCs almost always had a BASIC interpreter installed by default, often in the machine's firmware or sometimes on a ROM cartridge.\n",
        "\n",
        "BASIC declined in popularity in the 1990s, as more powerful microcomputers came to market and programming languages with advanced features (such as Pascal and C) became tenable on such computers. By then, most nontechnical personal computer users relied on pre-written applications rather than writing their own programs. In 1991, Microsoft released Visual Basic, combining an updated version of BASIC with a visual forms builder. This reignited use of the language and \"VB\" remains a major programming language in the form of VB.NET, while a hobbyist scene for BASIC more broadly continues to exist.\n",
        "\n",
        "**Origin**\n",
        "\n",
        "John G. Kemeny was the chairman of the Dartmouth College Mathematics Department. Based largely on his reputation as an innovator in math teaching, in 1959 the college won an Alfred P. Sloan Foundation award for \\$500,000 to build a new department building. Thomas E. Kurtz had joined the department in 1956, and from the 1960s Kemeny and Kurtz agreed on the need for programming literacy among students outside the traditional STEM fields. Kemeny later noted that \"Our vision was that every student on campus should have access to a computer, and any faculty member should be able to use a computer in the classroom whenever appropriate. It was as simple as that.\"\n",
        "\n",
        "Kemeny and Kurtz had made two previous experiments with simplified languages, DARSIMCO (Dartmouth Simplified Code) and DOPE (Dartmouth Oversimplified Programming Experiment). These did not progress past a single freshman class. New experiments using Fortran and ALGOL followed, but Kurtz concluded these languages were too tricky for what they desired. As Kurtz noted, Fortran had numerous oddly formed commands, notably an \"almost impossible-to-memorize convention for specifying a loop: DO 100, I = 1, 10, 2. Is it '1, 10, 2' or '1, 2, 10', and is the comma after the line number required or not?\"\n",
        "\n",
        "Moreover, the lack of any sort of immediate feedback was a key problem; the machines of the era used batch processing and took a long time to complete a run of a program. While Kurtz was visiting MIT, John McCarthy suggested that time-sharing offered a solution; a single machine could divide up its processing time among many users, giving them the illusion of having a (slow) computer to themselves.[8] Small programs would return results in a few seconds. This led to increasing interest in a system using time-sharing and a new language specifically for use by non-STEM students.\n",
        "\n",
        "Kemeny wrote the first version of BASIC. The acronym BASIC comes from the name of an unpublished paper by Thomas Kurtz.The new language was heavily patterned on FORTRAN II; statements were one-to-a-line, numbers were used to indicate the target of loops and branches, and many of the commands were similar or identical to Fortran. However, the syntax was changed wherever it could be improved. For instance, the difficult to remember DO loop was replaced by the much easier to remember FOR I = 1 TO 10 STEP 2, and the line number used in the DO was instead indicated by the NEXT I. Likewise, the cryptic IF statement of Fortran, whose syntax matched a particular instruction of the machine on which it was originally written, became the simpler IF I=5 THEN GOTO 100. These changes made the language much less idiosyncratic while still having an overall structure and feel similar to the original FORTRAN.\n",
        "\n",
        "The project received a $300,000 grant from the National Science Foundation, which was used to purchase a GE-225 computer for processing, and a Datanet-30 realtime processor to handle the Teletype Model 33 teleprinters used for input and output. A team of a dozen undergraduates worked on the project for about a year, writing both the DTSS system and the BASIC compiler. The first version BASIC language was released on 1 May 1964.\n",
        "\n",
        "Initially, BASIC concentrated on supporting straightforward mathematical work, with matrix arithmetic support from its initial implementation as a batch language, and character string functionality being added by 1965. Usage in the university rapidly expanded, requiring the main CPU to be replaced by a GE-235,[7] and still later by a GE-635. By the early 1970s there were hundreds of terminals connected to the machines at Dartmouth, some of them remotely.\n",
        "\n",
        "Wanting use of the language to become widespread, its designers made the compiler available free of charge. In the 1960s, software became a chargeable commodity; until then, it was provided without charge as a service with expensive computers, usually available only to lease. They also made it available to high schools in the Hanover, New Hampshire, area and regionally throughout New England on Teletype Model 33 and Model 35 teleprinter terminals connected to Dartmouth via dial-up phone lines, and they put considerable effort into promoting the language. In the following years, as other dialects of BASIC appeared, Kemeny and Kurtz's original BASIC dialect became known as Dartmouth BASIC.\n",
        "\n",
        "New Hampshire recognized the accomplishment in 2019 when it erected a highway historical marker in Hanover describing the creation of \"the first user-friendly programming language\".\n",
        "\n",
        "### **The Rise of BASIC: From Dartmouth Labs to the Personal Computer Revolution**\n",
        "\n",
        "> **B**asic **A**lgebraic **S**tandard **T**erm (BASIC) is more than a language—it is the catalyst that turned hobbyist curiosity into a worldwide PC industry.  \n",
        "---\n",
        "\n",
        "#### **1. Birth of BASIC (1964‑1965)**\n",
        "\n",
        "| Year | Milestone | Notes |\n",
        "|------|-----------|-------|\n",
        "| **1964** | Dartmouth College computer science course | John G. Kemeny & Thomas E. Kurtz design a *simple* language for students who had never coded before. |\n",
        "| **1965** | Dartmouth BASIC released | Written in 4 KB of machine code for the IBM 704. Emphasis: **clarity**, **interactivity**, and **line‑numbered scripts**. |\n",
        "\n",
        "### 1.1 Design Goals\n",
        "- **Accessibility**: Use everyday math notation (`LET`, `PRINT`, `GOTO`).\n",
        "- **Education**: Allow students to learn programming concepts without deep hardware knowledge.\n",
        "- **Rapid Prototyping**: Quick translation from idea to executable script.\n",
        "\n",
        "> *Quote*: “We wanted a language that *could* be used by a person with no background in programming to write useful programs in a reasonable amount of time.” – *Kemeny & Kurtz*\n",
        "\n",
        "---\n",
        "\n",
        "#### **2. Early Evolution & Variants**\n",
        "\n",
        "| Variant | Platform | Key Features | Year |\n",
        "|---------|----------|--------------|------|\n",
        "| **Algol‑60‑derived BASIC** | Dartmouth 704, 7090 | First *non‑line‑numbered* mode (interactive) | 1965 |\n",
        "| **BASIC‑PLUS** | DEC PDP‑8 | Introduced subroutines, `ON GOSUB` | 1967 |\n",
        "| **Microsoft BASIC** | Altair 8800 (assembly) | Commercialized BASIC; later ported to DOS | 1975 |\n",
        "| **GW‑BASIC** | IBM PC | Microsoft’s *free* BASIC in DOS 1.0 | 1980 |\n",
        "| **AppleSoft BASIC** | Apple II | Built‑in `FOR…NEXT`, `READ…DATA` | 1977 |\n",
        "| **BBC BASIC** | BBC Micro | Graphics, sound, and structured programming support | 1981 |\n",
        "| **Turbo BASIC** | Turbo Pascal & Turbo C* | Fast interpreter on DOS | 1985 |\n",
        "\n",
        "*Note:* Most dialects kept the **line‑numbered** format, which was both a strength (easy debugging) and a weakness (inefficient).\n",
        "\n",
        "---\n",
        "\n",
        "#### **3. BASIC in the Education & Hobbyist Scene**\n",
        "\n",
        "##### 3.1 The “BASIC People”\n",
        "- A generation of programmers grew up writing code in BASIC.\n",
        "- Encouraged *self‑education* and *problem‑solving* outside formal settings.\n",
        "\n",
        "##### 3.2 First‑hand Experience\n",
        "```basic\n",
        "10 PRINT \"HELLO, WORLD!\"\n",
        "20 GOTO 10\n",
        "```\n",
        "\n",
        "## **Simplicity and Immediate Feedback**\n",
        "- **Simplicity**: One line of code, one command, no compilation.  \n",
        "- **Immediate feedback**: The interpreter echoed output instantly.\n",
        "\n",
        "#### **3.3 Software & Games**\n",
        "- Early microcomputer game studios (e.g., Sierra, Origin Systems) started in BASIC.  \n",
        "- BASIC was the lingua franca for shareware and homebrew games.\n",
        "\n",
        "#### **4. BASIC Meets the Microcomputer Revolution**\n",
        "\n",
        "| Microcomputer | BASIC Variant | Impact |\n",
        "|---------------|---------------|--------|\n",
        "| Altair 8800 | Altair BASIC (Microsoft) | Sparked the Altair BASIC craze; early PC kit sales. |\n",
        "| Apple II | Applesoft BASIC | Built‑in BASIC; many users bought the Apple II solely for the built‑in interpreter. |\n",
        "| Commodore PET | Commodore BASIC | Bundled with all PET models; the first home computer with a full keyboard and monitor. |\n",
        "| TRS‑80 | Tandy BASIC | Made programming accessible to hobbyists; popular in the “Micro‑computer” market. |\n",
        "| IBM PC (1981) | Microsoft’s GW‑BASIC | Became part of the default DOS installation, ensuring a ready‑made audience for PC software. |\n",
        "\n",
        "#### **5. Why BASIC Was Key to the PC Revolution**\n",
        "\n",
        "| Factor | How BASIC Contributed |\n",
        "|--------|-----------------------|\n",
        "| Low Barrier to Entry | Students and hobbyists could write simple programs without mastering machine code. |\n",
        "| Rapid Development | Interactive loop allowed quick prototyping → more software in the market. |\n",
        "| Learning Path | BASIC served as a stepping stone to languages like Pascal, C, and later Java/Python. |\n",
        "| Ecosystem Creation | A huge library of demos, utilities, and games created a “software market” for PCs. |\n",
        "| Cultural Momentum | The phrase “I wrote a BASIC program” became part of tech folklore, fostering a generation of self‑taught coders. |\n",
        "\n",
        "#### **6. The Decline of BASIC and Its Legacy**\n",
        "\n",
        "| Period | Change | Outcome |\n",
        "|--------|--------|---------|\n",
        "| Early 1990s | Introduction of C/C++, Visual Basic, and Java | BASIC’s role as mainstream teaching language diminished. |\n",
        "| Late 1990s | Emphasis on structured programming | Many BASIC dialects replaced by VB or VB.NET for business apps. |\n",
        "| 2000s‑Present | Python & JavaScript | Python’s readability echoes BASIC’s ethos; it is now the primary teaching language in many curricula. |\n",
        "\n",
        "**Legacy**\n",
        "\n",
        "- BASIC’s design principles (interactive, readable syntax) influenced later languages.  \n",
        "- Microsoft’s Visual Basic introduced the event‑driven GUI paradigm, a staple in modern programming.\n",
        "\n",
        "#### **7. Quick Reference: Sample BASIC Code**\n",
        "\n",
        "```basic\n",
        "REM Simple calculator\n",
        "10 PRINT \"Enter first number: \";\n",
        "20 INPUT A\n",
        "30 PRINT \"Enter second number: \";\n",
        "40 INPUT B\n",
        "50 PRINT \"Sum is \"; A + B\n",
        "```"
      ],
      "metadata": {
        "id": "Z5Xdnb5nXH1z"
      }
    },
    {
      "cell_type": "code",
      "source": [],
      "metadata": {
        "id": "dYdsR4-MH9uu"
      },
      "execution_count": null,
      "outputs": []
    }
  ],
  "metadata": {
    "kernelspec": {
      "display_name": "Python 3",
      "name": "python3"
    },
    "language_info": {
      "codemirror_mode": {
        "name": "ipython",
        "version": 3
      },
      "file_extension": ".py",
      "mimetype": "text/x-python",
      "name": "python",
      "nbconvert_exporter": "python",
      "pygments_lexer": "ipython3",
      "version": "3.11.5"
    },
    "colab": {
      "provenance": [],
      "machine_shape": "hm",
      "gpuType": "A100",
      "include_colab_link": true
    },
    "accelerator": "GPU"
  },
  "nbformat": 4,
  "nbformat_minor": 0
}