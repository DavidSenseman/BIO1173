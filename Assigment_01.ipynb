{
  "cells": [
    {
      "cell_type": "markdown",
      "metadata": {
        "id": "view-in-github",
        "colab_type": "text"
      },
      "source": [
        "<a href=\"https://colab.research.google.com/github/DavidSenseman/BIO1173/blob/main/Assigment_01.ipynb\" target=\"_parent\"><img src=\"https://colab.research.google.com/assets/colab-badge.svg\" alt=\"Open In Colab\"/></a>"
      ]
    },
    {
      "cell_type": "markdown",
      "metadata": {
        "id": "KdRFfd32xmjj"
      },
      "source": [
        "---------------------------\n",
        "**COPYRIGHT NOTICE:** This Jupyterlab Notebook is a Derivative work of [Jeff Heaton](https://github.com/jeffheaton) licensed under the Apache License, Version 2.0 (the \"License\"); You may not use this file except in compliance with the License. You may obtain a copy of the License at\n",
        "\n",
        "> [http://www.apache.org/licenses/LICENSE-2.0](http://www.apache.org/licenses/LICENSE-2.0)\n",
        "\n",
        "Unless required by applicable law or agreed to in writing, software distributed under the License is distributed on an \"AS IS\" BASIS, WITHOUT WARRANTIES OR CONDITIONS OF ANY KIND, either express or implied. See the License for the specific language governing permissions and limitations under the License.\n",
        "\n",
        "------------------------"
      ]
    },
    {
      "cell_type": "markdown",
      "metadata": {
        "id": "p_CU7EF2xmjk"
      },
      "source": [
        "# **BIO 1173: Intro Computational Biology**"
      ]
    },
    {
      "cell_type": "markdown",
      "metadata": {
        "id": "_sRFBydyxmjk"
      },
      "source": [
        "**Assignment 1: Convolutional Neural Networks (CNN) for Computer Vision**\n",
        "\n",
        "* Instructor: [David Senseman](mailto:David.Senseman@utsa.edu), [Department of Integrative Biology](https://sciences.utsa.edu/integrative-biology/), [UTSA](https://www.utsa.edu/)\n",
        "\n"
      ]
    },
    {
      "cell_type": "markdown",
      "source": [
        "# **The Purpose of Assignments**\n",
        "\n",
        "In this course, **_Assignments_** are designed to help me (and you) assess your ability to transfer knowledge gained in completing class coding exercises to solving more realistic problems.\n",
        "\n",
        "Assignments play a pivotal role in reinforcing your learning, as they require you to apply theoretical concepts to practical scenarios. This helps solidify your understanding and enhances your problem-solving skills. By tackling these assignments independently, you develop critical thinking and the ability to synthesize information from various sources. Moreover, assignments encourage you to explore topics more deeply, fostering intellectual curiosity and promoting a deeper engagement with the subject matter. Ultimately, these assignments are not just a measure of your learning, but a means to equip you with the skills needed for real-world applications and future challenges."
      ],
      "metadata": {
        "id": "Qfs64u4eDRpD"
      }
    },
    {
      "cell_type": "markdown",
      "metadata": {
        "id": "yKQylnEiLDUM"
      },
      "source": [
        "### Google CoLab Instructions\n",
        "\n",
        "The following code ensures that Google CoLab is running the correct version of TensorFlow.\n",
        "  Running the following code will map your GDrive to ```/content/drive```."
      ]
    },
    {
      "cell_type": "code",
      "execution_count": null,
      "metadata": {
        "id": "seXFCYH4LDUM"
      },
      "outputs": [],
      "source": [
        "# YOU MUST RUN THIS CELL FIRST\n",
        "\n",
        "try:\n",
        "    from google.colab import drive\n",
        "    drive.mount('/content/drive', force_remount=True)\n",
        "    from google.colab import auth\n",
        "    auth.authenticate_user()\n",
        "    COLAB = True\n",
        "    print(\"Note: using Google CoLab\")\n",
        "    import requests\n",
        "    gcloud_token = !gcloud auth print-access-token\n",
        "    gcloud_tokeninfo = requests.get('https://www.googleapis.com/oauth2/v3/tokeninfo?access_token=' + gcloud_token[0]).json()\n",
        "    print(gcloud_tokeninfo['email'])\n",
        "except:\n",
        "    print(\"Note: not using Google CoLab\")\n",
        "    print(\"THIS ASSIGNMENT WILL **NOT** BE GRADED\")\n",
        "    COLAB = False"
      ]
    },
    {
      "cell_type": "markdown",
      "source": [
        "Your GMAIL address **must** appear in the output in order for your work to be graded."
      ],
      "metadata": {
        "id": "vEMDiVKsMzpY"
      }
    },
    {
      "cell_type": "markdown",
      "metadata": {
        "id": "Ho0r__E9xmjn"
      },
      "source": [
        "### Define functions\n",
        "\n",
        "The cell below creates several functions that are needed for this assignment. If you don't run this cell, you will receive errors later when you try to run some cells."
      ]
    },
    {
      "cell_type": "code",
      "source": [
        "# Create functions for this lesson\n",
        "\n",
        "import psutil\n",
        "import os\n",
        "\n",
        "def check_current_ram():\n",
        "  ram = psutil.virtual_memory()\n",
        "  print(f\"Available RAM: {ram.available / (1024 ** 3):.2f} GB\")\n",
        "\n",
        "def list_files():\n",
        "   files = os.listdir('.')\n",
        "   print(f\"Current files: {files}\")\n",
        "\n",
        "def list_extract():\n",
        "  files = os.listdir(EXTRACT_TARGET)\n",
        "  print(f\"Current files in EXTRACT_TARGET: {files}\")\n",
        "\n",
        "# Simple function to print out elasped time\n",
        "def hms_string(sec_elapsed):\n",
        "    h = int(sec_elapsed / (60 * 60))\n",
        "    m = int((sec_elapsed % (60 * 60)) / 60)\n",
        "    s = sec_elapsed % 60\n",
        "    return \"{}:{:>02}:{:>05.2f}\".format(h, m, s)\n",
        "\n",
        "# List files in current directory\n",
        "list_files()"
      ],
      "metadata": {
        "id": "EWG5pvkXPnff"
      },
      "execution_count": null,
      "outputs": []
    },
    {
      "cell_type": "markdown",
      "source": [
        "### Record your specific GPU/TPU accelerator\n",
        "\n",
        "You will need to record what hardware you will be using in this Assignment by entering the appropiate value in the `my_GPU_dict` below."
      ],
      "metadata": {
        "id": "B0_vXredOjVi"
      }
    },
    {
      "cell_type": "code",
      "source": [
        "# Record your current Runtime GPU/TPU\n",
        "\n",
        "\n",
        "# List of Current GPU/TPUs\n",
        "my_GPU_dict = {\n",
        "    1: 'CPU',\n",
        "    2: 'A100 GPU',\n",
        "    3: 'L4 GPU',\n",
        "    4: 'T4 GPU',\n",
        "    5: 'TPU v2-8'\n",
        "}\n",
        "\n",
        "# Enter the correct key number in the square brackets [ ]\n",
        "my_GPU = my_GPU_dict[ ]\n",
        "\n",
        "# Print selection\n",
        "print(f\"My current runtime GPU/TPU is: {my_GPU}\")"
      ],
      "metadata": {
        "id": "wpLuo8TwOdZb"
      },
      "execution_count": null,
      "outputs": []
    },
    {
      "cell_type": "markdown",
      "source": [
        "If your code is correct, you should see something like the following:\n",
        "~~~text\n",
        "My current runtime GPU/TPU is: L4 GPU\n",
        "~~~\n",
        "\n",
        "In some situations, it will be helpful to the Instructor to know your hardware environment when trying to help you resolve coding problems."
      ],
      "metadata": {
        "id": "GPBKPF3_EzmZ"
      }
    },
    {
      "cell_type": "markdown",
      "metadata": {
        "id": "Jf_otSJdmp8k"
      },
      "source": [
        "# **Assigment 1: Keras Neural Networks for Medical MNIST**\n",
        "\n",
        "**Assignment_01** is pecifically designed to assess your ability to write the Python/Tensorflow/Keras code necessary to classify image data in a MedMNIST dataset. This assignment is designed so that you can re-use the code in **Class_06_1**\n",
        ". The same series of steps used in both the Example and the **Exercise** in Class_06_1, are provided in this assignment.\n",
        "\n",
        "**NOTE: Do _not_ turn in `Class_06_1` as your assignment.\n",
        "\n",
        "For the most part, the code in Class_06_1 should be reusable here. BUT, since the MedMNSIT datafiles vary in scale (see below), it will be up to you to troubleshoot errors when they come up. You Instructor is more than happy to help you when you encounter an error that you can figure out. The best way to get help is to COME TO CLASS!\n",
        "\n"
      ]
    },
    {
      "cell_type": "markdown",
      "source": [
        "## **MedMNIST Datasets**\n",
        "\n",
        "**MedMNIST** offers a collection of 12 pre-processed 2D datasets designed for various biomedical image classification tasks1\n",
        ". These datasets cover primary data modalities such as **X-Ray**, **OCT (Optical Coherence Tomography)**, **Ultrasound**, **CT (Computed Tomography)**, and **Electron Microscope** images.\n",
        "\n",
        "The datasets are diverse, ranging from binary/multi-class classification to ordinal regression and multi-label tasks. They also vary in scale, with data sizes ranging from 100 to 100,000 images.\n",
        "\n",
        "Here's a list of the 12 2D datasets offered by MedMNIST, along with their names and the classes they contain:\n",
        "\n",
        "| Dataset Name       | Classes                         |Datafile Name\n",
        "|--------------------|---------------------------------|--------------|\n",
        "| DermaMNIST         | 7 (skin conditions)   |dermamnist_64.npz\n",
        "| OCTMNIST           | 10 (retinal layers)   |octmnist.npz\n",
        "| PneumoniaMNIST     | 2 (normal, pneumonia) |pneumoniamnist_64.npz\n",
        "| RetinaMNIST        | 5 (retinal diseases)  |retinamnist_128.npz\n",
        "| MammographyMNIST   | 2 (benign, malignant) |breastmnist_224.npz\n",
        "| PathMNIST          | 9 (histopathological conditions) |pathmnist_128.npz\n",
        "| BloodMNIST         | 8 (blood cell types)  |bloodmnist_128.npz\n",
        "| TissueMNIST        | 7 (tissue types)   |tissuemnist.npz\n",
        "| OrganMNIST - A     | 9 (organs -axial view)   |organamnist.npz\n",
        "| OrganMNIST - C     | 9 (organs - coronal view)   |organcmnist.npz\n",
        "| OrganMNIST - S     | 9 (organs - saggital view) |organsmnist.npz\n",
        "| CellMNIST          | 5 (cell types)                      |\n",
        "| UltrasoundMNIST    | 3 (ultrasound views)                |"
      ],
      "metadata": {
        "id": "eFG_5T2BFeYc"
      }
    },
    {
      "cell_type": "markdown",
      "metadata": {
        "id": "kSBh89W3xmjo"
      },
      "source": [
        "# **Your Assignmment 1 Dataset**\n",
        "\n",
        "The last digit in your myUTSA ID (e.g. 'abc123`) will determine which MedMNIST dataset you are to analyze for this assignment.\n",
        "\n",
        "**---WARNING------WARNING------WARNING------WARNING------WARNING------WARNING---**\n",
        "\n",
        "You are **not** free to choose any dataset for this assignment. If analyze the wrong dataset, **_30 points_**  will be immediately deducted from your score!\n",
        "\n",
        "If you are uncertain which dataset you should be working on, contact your Instructor for help.\n",
        "\n",
        "Remember, your score in this assignment will have a large impact on your course grade so please be careful.\n",
        "\n",
        "\n",
        "| Last Digit in my UTSA ID | MedMNIST Dataset to Analyze\n",
        "---------------------------|--------------------------------\n",
        "0                          | breastmnist_224.npz\n",
        "1                          | chestmnist.npz\n",
        "2                          | octmnist.npz\n",
        "3                          | organamnist.npz\n",
        "4                          | organcmnist.npz\n",
        "5                          | organsmnist.npz\n",
        "6                          | pathmnist_128.npz\n",
        "7                          | pneumoniamnist_64.npz\n",
        "8                          | retinamnist_128.npz\n",
        "9                          | tissuemnist.npz\n",
        "\n"
      ]
    },
    {
      "cell_type": "markdown",
      "metadata": {
        "id": "OiaQvHptyO42"
      },
      "source": [
        "### **Step - 1: Setup Evironmental Variables**\n",
        "\n",
        "In the cell below, create environmental variables so you can download your specific MedMNIST dataset that has been assigned to you in the cell above.\n",
        "\n",
        "If you don't use the code provided in Class_06_1 as a template, you will make an unacceptable number of coding errors. Based on past experience, students who tried to us AI to help with their coding errors turned easily corrected errors into HORRIBLE coding errors that couldn't be fixed. In short, use the code provided for you in `Class_06_1` this assignment.\n",
        "\n",
        "If you use the code from Step 1 in Class_06_1, you will only need to make changes to the `DOWNLOAD_SOURCE` and the `EXTRACT_TARGET`.\n",
        "\n",
        "For your `EXTRACT_TARGET` you should use the file name of the MedMNIST assigned to you in the cell above, **exactly** as it is written.\n",
        "\n",
        "For example, if the last digit of your myUTSA ID was `6`, your `DOWNLOAD_SOURCE` would be:\n",
        "~~~text\n",
        "DOWNLOAD_SOURCE = URL+\"/pathmnist_224.npz\"\n",
        "~~~\n",
        "and your `EXTRACT_TARGET` would be:\n",
        "~~~text\n",
        "EXTRACT_TARGET = os.path.join(PATH,\"pathmnist_224\")\n",
        "~~~\n",
        "\n",
        "Be careful when you cut-and-paste that you don't accidently include any spaces.\n"
      ]
    },
    {
      "cell_type": "code",
      "execution_count": null,
      "metadata": {
        "id": "xcy2iqXOumlO"
      },
      "outputs": [],
      "source": [
        "# Step - 1: Setup Environmental Variables\n",
        "\n"
      ]
    },
    {
      "cell_type": "markdown",
      "metadata": {
        "id": "-TxbZZQayNCu"
      },
      "source": [
        "### **Step - 2: Download and Extract Data**\n",
        "\n",
        "If your code in Step 1 is correct, you should be ready to download and extract your dataset.\n",
        "\n",
        "In the cell below, write the code to download your datafile, make the appropiate file folders and then extract (unzip) your datafile into the file folders you created.\n",
        "\n",
        "**Please Note:** There is considerable differences in the size of these MedMNIST datasets. The larger ones (e.g. `pathmnist_128.npz`) are more than 3GB in size and will require several minutes to upload to Colab and then to extract it. As long as the \"little wheel\" at the top left of the code cell keeps spinning, your code is working correctly, so be patient."
      ]
    },
    {
      "cell_type": "code",
      "source": [
        "# Step 2: Download and Extract Data\n",
        "\n"
      ],
      "metadata": {
        "id": "H6_nGGnFcnK2"
      },
      "execution_count": null,
      "outputs": []
    },
    {
      "cell_type": "markdown",
      "metadata": {
        "id": "YISiH78A5asC"
      },
      "source": [
        "### **Step - 3: Load and Shuffle Images and Labels into Numpy arrays**\n",
        "\n",
        "In the cell below, write the Python code to read (load) and shuffle the image and label data into Numpy arrays. In total, you should create the following 6 numpy arrays: `train_X`, `train_Y`, `test_X`, `test_Y`, `val_X` and `val_Y`. The `X` arrays will have the images, the `Y` arrays will have their corresponding labels.\n",
        "\n",
        "Make sure to print out the `shape` of each numpy array.   "
      ]
    },
    {
      "cell_type": "code",
      "source": [
        "# Step - 3: Load and Shuffle Images and Labels into Numpy arrays\n",
        "\n"
      ],
      "metadata": {
        "id": "l3dCKhH9lAKZ"
      },
      "execution_count": null,
      "outputs": []
    },
    {
      "cell_type": "markdown",
      "source": [
        "Take a good look at your output. Make a note of the `shape` value for the array called `train_X`.\n",
        "\n",
        "The `shape` should have 4 numbers. The first number is the number of images in your particular dataset. The next 2 numbers are the dimensions (in pixels) of the image and the last number specifies the number of color channels. For example, the number `3` means a color image (RGB).\n",
        "\n",
        "**You will need to know these 4 numbers later in your analysis.** Please note that these values vary significantly between the different datasets."
      ],
      "metadata": {
        "id": "JJGEexOa2kMA"
      }
    },
    {
      "cell_type": "markdown",
      "source": [
        "### **Step 4 - Add Color Channel and Resize Images**"
      ],
      "metadata": {
        "id": "iN7g2V0UXCAK"
      }
    },
    {
      "cell_type": "code",
      "source": [
        "# Step 4 - Add Color Channel and Resize Images\n",
        "\n"
      ],
      "metadata": {
        "id": "ze3HxEjAZsEY"
      },
      "execution_count": null,
      "outputs": []
    },
    {
      "cell_type": "markdown",
      "source": [
        "### **Step 5 - Check Available Memory**"
      ],
      "metadata": {
        "id": "AISmq0_dRA1X"
      }
    },
    {
      "cell_type": "code",
      "source": [
        "# Step 5: Check available memory\n",
        "\n"
      ],
      "metadata": {
        "id": "341bu2ql028Y"
      },
      "execution_count": null,
      "outputs": []
    },
    {
      "cell_type": "markdown",
      "source": [
        "### **Step - 6: Augment Training Image Set**\n"
      ],
      "metadata": {
        "id": "l_nbNykcnaBF"
      }
    },
    {
      "cell_type": "code",
      "source": [
        "# Step - 6: Augment Training Image Set\n"
      ],
      "metadata": {
        "colab": {
          "base_uri": "https://localhost:8080/"
        },
        "id": "H5gNnudK36Mg",
        "outputId": "d73c4f3d-64b9-4bdc-fcfb-d39089026a3d"
      },
      "execution_count": null,
      "outputs": [
        {
          "output_type": "stream",
          "name": "stdout",
          "text": [
            "Available memory (43.33 GB) should be enough to augment train_X\n",
            "Augmenting the number of images in train_X... done\n",
            "Original number of train_X images: 44998\n",
            "Augmented number of train_X images: 134994\n"
          ]
        }
      ]
    },
    {
      "cell_type": "markdown",
      "metadata": {
        "id": "3Y5nBI6K9AwI"
      },
      "source": [
        "### **Step - 7: One-Hot Encode Labels**\n"
      ]
    },
    {
      "cell_type": "code",
      "source": [
        "# Step 7: One-Hot Encode Labels\n",
        "\n"
      ],
      "metadata": {
        "id": "OsEr9PnH5EHf"
      },
      "execution_count": null,
      "outputs": []
    },
    {
      "cell_type": "markdown",
      "metadata": {
        "id": "pozf-SwUCN3f"
      },
      "source": [
        "### **Step - 8: Create and Compile CNN neural network model**\n",
        "\n"
      ]
    },
    {
      "cell_type": "code",
      "source": [
        "# Step - 8: Create and Compile CNN neural network mode\n"
      ],
      "metadata": {
        "id": "QbuyJWp_msHD"
      },
      "execution_count": null,
      "outputs": []
    },
    {
      "cell_type": "markdown",
      "metadata": {
        "id": "SJZweTywHAIb"
      },
      "source": [
        "### **Step - 9: Train the Neural Network**\n",
        "\n",
        "\n"
      ]
    },
    {
      "cell_type": "code",
      "source": [
        "# Step - 9: Train the Neural Networ\n",
        "\n"
      ],
      "metadata": {
        "id": "GLUZBXGUzTnV"
      },
      "execution_count": null,
      "outputs": []
    },
    {
      "cell_type": "markdown",
      "source": [
        "## **Evaluating Model's Training**\n",
        "\n",
        "Now that we have trained our model, let's look at how it changed during its training."
      ],
      "metadata": {
        "id": "TA1Ja2Pciiqk"
      }
    },
    {
      "cell_type": "markdown",
      "source": [
        "### **Step 10: Plot `accuracy` and `val_accuracy`**\n",
        "\n"
      ],
      "metadata": {
        "id": "5-dk5fvGoAKW"
      }
    },
    {
      "cell_type": "code",
      "execution_count": null,
      "metadata": {
        "id": "Cao-YA602GA5"
      },
      "outputs": [],
      "source": [
        "# Step 10: Plot `accuracy` and `val_accuracy`\n",
        "\n"
      ]
    },
    {
      "cell_type": "markdown",
      "source": [
        "### **Step 11: Compute Accuracy Score with Validation Data**\n"
      ],
      "metadata": {
        "id": "uac6Uh-0owAM"
      }
    },
    {
      "cell_type": "code",
      "source": [
        "# Step 11: Compute Accuracy Score with Validation DataExample: Plot 1 image with label\n",
        "\n"
      ],
      "metadata": {
        "id": "DMb2bhLQ7Jrr"
      },
      "execution_count": null,
      "outputs": []
    },
    {
      "cell_type": "markdown",
      "source": [
        "### **Step 12: Plot Image with Label**\n",
        "\n",
        "Make sure you use a meaningful label, **not** the label used in Class_06_1, Step 12. For example, if your datafile was `pathmnist_128`, you label might say `Organ type` or `Pathology type`. Do not use `Blood Cell type` unless you analyzing the bloodcell datafile, `bloodmnist_224`."
      ],
      "metadata": {
        "id": "mqiLQ_zTTpIL"
      }
    },
    {
      "cell_type": "code",
      "source": [
        "# Step 12: Plot Image with Label"
      ],
      "metadata": {
        "id": "d-_EbAzbTn-k"
      },
      "execution_count": null,
      "outputs": []
    },
    {
      "cell_type": "markdown",
      "source": [
        "### **Step 13: Plot 4 Frames with Label**\n",
        "\n",
        "Again, make sure you use a meaningful label, **not** the label used in Class_06_1, Step 12. For example, if your datafile was `pathmnist_128`, you label might say `Organ type` or `Pathology type`. Do not use `Blood Cell type` unless you analyzing the bloodcell datafile, `bloodmnist_224`."
      ],
      "metadata": {
        "id": "M_y5H0TnyhT6"
      }
    },
    {
      "cell_type": "markdown",
      "metadata": {
        "id": "atkFq1eGxmjw"
      },
      "source": [
        "## **Assignment Turn-in**\n",
        "\n",
        "When you have completed and run all of the code cells, use the **File --> Print.. --> Save to PDF** to generate a PDF of your Colab notebook. Save your PDF as `Copy of Assignment_01.lastname.pdf` where _lastname_ is your last name, and upload the file to Canvas."
      ]
    }
  ],
  "metadata": {
    "colab": {
      "provenance": [],
      "gpuType": "L4",
      "machine_shape": "hm",
      "include_colab_link": true
    },
    "kernelspec": {
      "display_name": "Python 3",
      "name": "python3"
    },
    "language_info": {
      "codemirror_mode": {
        "name": "ipython",
        "version": 3
      },
      "file_extension": ".py",
      "mimetype": "text/x-python",
      "name": "python",
      "nbconvert_exporter": "python",
      "pygments_lexer": "ipython3",
      "version": "3.9.18"
    },
    "accelerator": "GPU"
  },
  "nbformat": 4,
  "nbformat_minor": 0
}