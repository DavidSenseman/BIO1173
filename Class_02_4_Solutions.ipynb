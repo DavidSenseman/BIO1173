{
  "cells": [
    {
      "cell_type": "markdown",
      "metadata": {
        "id": "view-in-github",
        "colab_type": "text"
      },
      "source": [
        "<a href=\"https://colab.research.google.com/github/DavidSenseman/BIO1173/blob/main/Class_02_4_Solutions.ipynb\" target=\"_parent\"><img src=\"https://colab.research.google.com/assets/colab-badge.svg\" alt=\"Open In Colab\"/></a>"
      ]
    },
    {
      "cell_type": "markdown",
      "metadata": {
        "id": "ZYZVwSpdbE3Y"
      },
      "source": [
        "---------------------------\n",
        "**COPYRIGHT NOTICE:** This Jupyterlab Notebook is a Derivative work of [Jeff Heaton](https://github.com/jeffheaton) licensed under the Apache License, Version 2.0 (the \"License\"); You may not use this file except in compliance with the License. You may obtain a copy of the License at\n",
        "\n",
        "> [http://www.apache.org/licenses/LICENSE-2.0](http://www.apache.org/licenses/LICENSE-2.0)\n",
        "\n",
        "Unless required by applicable law or agreed to in writing, software distributed under the License is distributed on an \"AS IS\" BASIS, WITHOUT WARRANTIES OR CONDITIONS OF ANY KIND, either express or implied. See the License for the specific language governing permissions and limitations under the License.\n",
        "\n",
        "------------------------"
      ]
    },
    {
      "cell_type": "markdown",
      "metadata": {
        "id": "ExN-OzpYbE3Y"
      },
      "source": [
        "# **BIO 1173: Intro Computational Biology**"
      ]
    },
    {
      "cell_type": "markdown",
      "metadata": {
        "id": "vt4imk1kbE3Y"
      },
      "source": [
        "##### **Module 2: Neural Networks with Tensorflow and Keras**\n",
        "\n",
        "* Instructor: [David Senseman](mailto:David.Senseman@utsa.edu), [Department of Biology, Health and the Environment](https://sciences.utsa.edu/bhe/), [UTSA](https://www.utsa.edu/)\n",
        "\n",
        "### Module 2 Material\n",
        "\n",
        "* Part 2.1: Introduction to Neural Networks with Tensorflow and Keras\n",
        "* Part 2.2: Encoding Feature Vectors\n",
        "* Part 2.3: Controlling Overfitting\n",
        "* **Part 2.4: Saving and Loading a Keras Neural Network**"
      ]
    },
    {
      "cell_type": "markdown",
      "metadata": {
        "id": "V_-lPkxLbE3Z"
      },
      "source": [
        "## Google CoLab Instructions\n",
        "\n",
        "You MUST run the following code cell to get credit for this class lesson. By running this code cell, you will map your GDrive to /content/drive and print out your Google GMAIL address. Your Instructor will use your GMAIL address to verify the author of this class lesson."
      ]
    },
    {
      "cell_type": "code",
      "execution_count": null,
      "metadata": {
        "id": "seXFCYH4LDUM",
        "scrolled": true,
        "colab": {
          "base_uri": "https://localhost:8080/"
        },
        "outputId": "a02080fd-9dc5-4356-efaf-154beb818408"
      },
      "outputs": [
        {
          "output_type": "stream",
          "name": "stdout",
          "text": [
            "Mounted at /content/drive\n",
            "Note: Using Google CoLab\n",
            "david.senseman@gmail.com\n"
          ]
        }
      ],
      "source": [
        "# You must run this cell first\n",
        "try:\n",
        "    from google.colab import drive\n",
        "    drive.mount('/content/drive', force_remount=True)\n",
        "    from google.colab import auth\n",
        "    auth.authenticate_user()\n",
        "    COLAB = True\n",
        "    print(\"Note: Using Google CoLab\")\n",
        "    import requests\n",
        "    gcloud_token = !gcloud auth print-access-token\n",
        "    gcloud_tokeninfo = requests.get('https://www.googleapis.com/oauth2/v3/tokeninfo?access_token=' + gcloud_token[0]).json()\n",
        "    print(gcloud_tokeninfo['email'])\n",
        "except:\n",
        "    print(\"**WARNING**: Your GMAIL address was **not** printed in the output below.\")\n",
        "    print(\"**WARNING**: You will NOT receive credit for this lesson.\")\n",
        "    COLAB = False"
      ]
    },
    {
      "cell_type": "markdown",
      "source": [
        "You should see the following output except your GMAIL address should appear on the last line.\n",
        "\n",
        "![__](https://biologicslab.co/BIO1173/images/class_01/class_01_6_image01A.png)\n",
        "\n",
        "If your GMAIL address does not appear your lesson will **not** be graded."
      ],
      "metadata": {
        "id": "xG3_sXTDfyjA"
      }
    },
    {
      "cell_type": "markdown",
      "source": [
        "### Create Custom Functions\n",
        "\n",
        "Run the cell below to create the functions needed for this lesson."
      ],
      "metadata": {
        "id": "Mu5xJAWl_9vZ"
      }
    },
    {
      "cell_type": "code",
      "source": [
        "# Simple function to print out elasped time\n",
        "def hms_string(sec_elapsed):\n",
        "    h = int(sec_elapsed / (60 * 60))\n",
        "    m = int((sec_elapsed % (60 * 60)) / 60)\n",
        "    s = sec_elapsed % 60\n",
        "    return \"{}:{:>02}:{:>05.2f}\".format(h, m, s)\n",
        "\n",
        "# Simple function to change column name in a dataframe\n",
        "def rename_col_by_index(dataframe, index_mapping):\n",
        "    dataframe.columns = [index_mapping.get(i, col) for i, col in enumerate(dataframe.columns)]\n",
        "    return dataframe"
      ],
      "metadata": {
        "id": "tnwowmLuABDZ"
      },
      "execution_count": null,
      "outputs": []
    },
    {
      "cell_type": "markdown",
      "source": [
        "# **Saving and Loading a Keras Neural Network**\n",
        "\n",
        "Complex neural networks will take a _long_ time to fit/train.  It is helpful to be able to save a trained neural network so that you can reload it and using it again.  Again, a reloaded neural network will **not** require retraining.  \n",
        "\n",
        "Keras provides the following two formats for saving neural networks:\n",
        "\n",
        "* **JSON** - Stores the neural network structure (no weights) in the [JSON file format](https://en.wikipedia.org/wiki/JSON).\n",
        "* **Keras** - Stores the complete neural network (with weights) in the native Keras format.\n",
        "\n",
        "Usually, you will want to save in native Keras format."
      ],
      "metadata": {
        "id": "YPb6R6QD6h6F"
      }
    },
    {
      "cell_type": "markdown",
      "source": [
        "### Example 1A: Build, Compile and Train Classification Neural Network\n",
        "\n",
        "The code in `Example 1` builds, compiles and trains a neural network called `or_model` that can classify the `Quality` of an orange based on its physical and chemical characteristics.\n",
        "\n",
        "The code in the cell below reads the Orange Quality dataset from the course HTTP server and creates a DataFrame called `or_df` (i.e. \"orange\" DataFrame).\n",
        "\n",
        "In order to create a feature vector, the 3 non-numeric columns in the dataset: `Color`, `Variety` and `Blemished` must be pre-processed. Mapping strings to integers is used to take care of the column `Color` while one-hot encoding is used to take care the column `Variety`. To take care of the column `Blemish`, it will simply be excluded (dropped) from the column list when generating the X-values.\n",
        "\n",
        "The following code chunk identifies which columns in `or_df` are numeric:\n",
        "```text\n",
        "numeric_cols = or_df.select_dtypes(include=['int64', 'float64']).columns\n",
        "```\n",
        "Once we have identified the numeric columns, we can use the following code chunk to normalizes all numeric values to their Z-scores:\n",
        "```text\n",
        "or_df[numeric_cols] = or_df[numeric_cols].apply(zscore)\n",
        "```\n",
        "\n",
        "Since we are building a classification neural network, we will need to one-hot encode the column `Quality` which contains the `Y-values`. It should be noted that this column is already numeric, so we are **not** using one-hot encoding to replace string values with integer. Rather, one-hot Encoding the `Y-values` is necessary to give them the **correct format** for the neural network.\n",
        "\n",
        "Again, because we want `or_model` to act as a _classifier_, not a \"regressor\", we will use the `softmax` activation function in the output layer.\n",
        "\n",
        "Finally, we will compile the model using `categorical_crossentropy` as the loss function instead of using `mean_squared_error`.   \n"
      ],
      "metadata": {
        "id": "EcUlAWeD7dEx"
      }
    },
    {
      "cell_type": "code",
      "source": [
        "# Example 1A: Build, Compile and Train Classification Model\n",
        "\n",
        "# ------------------------------------------------------------\n",
        "# 0️⃣  Imports\n",
        "# ------------------------------------------------------------\n",
        "import pandas as pd\n",
        "import time\n",
        "import numpy as np\n",
        "from scipy.stats import zscore\n",
        "from keras.models import Sequential\n",
        "from keras.layers import Dense, Input\n",
        "from keras.layers import BatchNormalization, Dropout\n",
        "from keras.callbacks import EarlyStopping, ModelCheckpoint\n",
        "import numpy as np\n",
        "\n",
        "# ------------------------------------------------------------\n",
        "# 1️⃣  Parameters\n",
        "# ------------------------------------------------------------\n",
        "EPOCHS        = 100\n",
        "PATIENCE      = 10\n",
        "VERBOSE       = 0     # 0 means no output during training\n",
        "\n",
        "# ------------------------------------------------------------\n",
        "# 2️⃣  Load data\n",
        "# ------------------------------------------------------------\n",
        "or_df = pd.read_csv(\n",
        "    \"https://biologicslab.co/BIO1173/data/orange_quality.csv\",\n",
        "    na_values=['NA', '?'])\n",
        "\n",
        "\n",
        "# ------------------------------------------------------------\n",
        "# 5️⃣  Preprocessing\n",
        "# ------------------------------------------------------------\n",
        "\n",
        "# Map str to int\n",
        "mapping = {'Orange':0,'Deep Orange':1,\n",
        "           'Light Orange':2,'Orange-Red':3,\n",
        "           'Yellow-Orange':4}\n",
        "or_df['Color'] = or_df['Color'].map(mapping)\n",
        "\n",
        "# Standardise all numeric column with z‑score\n",
        "numeric_cols = or_df.select_dtypes(include=['int64', 'float64']).columns\n",
        "or_df[numeric_cols] = or_df[numeric_cols].apply(zscore)\n",
        "\n",
        "\n",
        "# Generate X-values\n",
        "or_X = or_df[['Size (cm)', 'Weight (g)', 'Brix (Sweetness)', 'pH (Acidity)',\n",
        "       'Softness (1-5)', 'HarvestTime (days)', 'Ripeness (1-5)',\n",
        "        'Color']].values\n",
        "or_X = np.asarray(or_X).astype('float32')\n",
        "\n",
        "# Generate Y-values\n",
        "dummies = pd.get_dummies(or_df['Quality (1-5)'], dtype=int) # Classification\n",
        "or_Y = dummies.values\n",
        "or_Y = np.asarray(or_Y).astype('float32')\n",
        "\n",
        "# ------------------------------------------------------------\n",
        "# 6️⃣  Build & compile model\n",
        "# ------------------------------------------------------------\n",
        "\n",
        "# Build model\n",
        "or_model = Sequential([\n",
        "    Input(shape=(or_X.shape[1],)),\n",
        "    Dense(128, activation='relu'),\n",
        "    BatchNormalization(),\n",
        "    Dropout(0.3),\n",
        "    Dense(64, activation='relu'),\n",
        "    BatchNormalization(),\n",
        "    Dropout(0.3),\n",
        "    Dense(or_Y.shape[1], activation='softmax')\n",
        "])\n",
        "\n",
        "or_model.compile(\n",
        "    loss='categorical_crossentropy',\n",
        "    optimizer='adam',\n",
        "    metrics=['accuracy']\n",
        ")\n",
        "\n",
        "# ------------------------------------------------------------\n",
        "# 7️⃣  Callbacks (monitor accuracy)\n",
        "# ------------------------------------------------------------\n",
        "checkpoint_path = \"or_best_classification_model.keras\"\n",
        "callbacks = [\n",
        "    EarlyStopping(\n",
        "        monitor=\"val_accuracy\",\n",
        "        patience=PATIENCE,\n",
        "        restore_best_weights=True,\n",
        "        mode=\"max\"          # <– add this line\n",
        "    ),\n",
        "    ModelCheckpoint(\n",
        "        filepath=checkpoint_path,\n",
        "        monitor=\"val_accuracy\",\n",
        "        save_best_only=True,\n",
        "        mode=\"max\"\n",
        "    ),\n",
        "]\n",
        "\n",
        "# ------------------------------------------------------------\n",
        "# 8️⃣  Train model\n",
        "# ------------------------------------------------------------\n",
        "print(f\"------Training Starting for {EPOCHS} epochs --------------\")\n",
        "start_time = time.time()\n",
        "or_history = or_model.fit(\n",
        "    or_X, or_Y,\n",
        "    epochs=EPOCHS,\n",
        "    validation_split=0.2,\n",
        "    callbacks=callbacks,\n",
        "    verbose=VERBOSE,\n",
        ")\n",
        "\n",
        "# ---------------------------------------------------------------------------\n",
        "# 9️⃣ Inspect training\n",
        "# ---------------------------------------------------------------------------\n",
        "print(f\"\\nTraining finished.\")\n",
        "print(f\"Best val accuracy: {np.max(or_history.history['val_accuracy']):.4f}\")\n",
        "\n",
        "# --- NEW: print the *last* epoch that was executed -------------\n",
        "if or_history.epoch:                       # safety guard – should always be true\n",
        "    last_epoch = or_history.epoch[-1] + 1  # +1 → human‑friendly (1‑based) count\n",
        "    print(f\"Training ran through epoch #{last_epoch} (total {len(or_history.epoch)} epochs).\")\n",
        "else:\n",
        "    print(\"No epochs were run.\")\n",
        "\n",
        "elapsed_time = time.time() - start_time\n",
        "print(\"Elapsed time: {}\".format(hms_string(elapsed_time)))"
      ],
      "metadata": {
        "id": "Np7QHbJp7iq5",
        "colab": {
          "base_uri": "https://localhost:8080/"
        },
        "outputId": "3fab1dc8-d552-42dc-fdf4-3e12fd58a253"
      },
      "execution_count": null,
      "outputs": [
        {
          "output_type": "stream",
          "name": "stdout",
          "text": [
            "------Training Starting for 100 epochs --------------\n",
            "\n",
            "Training finished.\n",
            "Best val accuracy: 0.4286\n",
            "Training ran through epoch #25 (total 25 epochs).\n",
            "Elapsed time: 0:00:05.14\n"
          ]
        }
      ]
    },
    {
      "cell_type": "markdown",
      "source": [
        "If the code is correct you should see something _similar_ to the following output\n",
        "\n",
        "![__](https://biologicslab.co:/BIO1173/images/class_02/class_02_4_image01B.png)\n",
        "\n",
        "Our `or_model` neural network doesn't appear to have done a very good job since the best validation accuracy (`val accuracy`) is only about 40-45%. It should also be noted that in this particular run, `EarlyStopping` terminated training at the 25th epoch."
      ],
      "metadata": {
        "id": "O9l9OU8us5cQ"
      }
    },
    {
      "cell_type": "markdown",
      "source": [
        "### Example 1B: Visualize Training\n",
        "\n",
        "The code in the cell below generates two side-by-side plots, **`Accuracy`**"
      ],
      "metadata": {
        "id": "XSEK-qjtdMJe"
      }
    },
    {
      "cell_type": "code",
      "source": [
        "import numpy as np\n",
        "\n",
        "# Show the best validation accuracy\n",
        "best_val_acc = np.max(or_history.history['val_accuracy'])\n",
        "print(f\"Best validation accuracy: {best_val_acc:.4f}\")\n",
        "\n",
        "# Show the best validation loss\n",
        "best_val_loss = np.min(or_history.history['val_loss'])\n",
        "print(f\"Best validation loss: {best_val_loss:.4f}\")\n",
        "\n",
        "# Plot training history\n",
        "import matplotlib.pyplot as plt\n",
        "\n",
        "plt.figure(figsize=(12,5))\n",
        "\n",
        "plt.subplot(1,2,1)\n",
        "plt.plot(or_history.history['accuracy'], label='train')\n",
        "plt.plot(or_history.history['val_accuracy'], label='val')\n",
        "plt.title('Accuracy')\n",
        "plt.xlabel('Epoch')\n",
        "plt.legend()\n",
        "\n",
        "plt.subplot(1,2,2)\n",
        "plt.plot(or_history.history['loss'], label='train')\n",
        "plt.plot(or_history.history['val_loss'], label='val')\n",
        "plt.title('Loss')\n",
        "plt.xlabel('Epoch')\n",
        "plt.legend()\n",
        "\n",
        "plt.show()\n"
      ],
      "metadata": {
        "colab": {
          "base_uri": "https://localhost:8080/",
          "height": 522
        },
        "id": "Xn_WFh1XcIUj",
        "outputId": "6c88b010-fae9-49d0-ae5a-12e9df123604"
      },
      "execution_count": 44,
      "outputs": [
        {
          "output_type": "stream",
          "name": "stdout",
          "text": [
            "Best validation accuracy: 0.4286\n",
            "Best validation loss: 1.7553\n"
          ]
        },
        {
          "output_type": "display_data",
          "data": {
            "text/plain": [
              "<Figure size 1200x500 with 2 Axes>"
            ],
            "image/png": "[encoded data removed]"
          },
          "metadata": {}
        }
      ]
    },
    {
      "cell_type": "markdown",
      "source": [
        "If the code is correct you should see something _similar_ to the following output\n",
        "\n",
        "![__](https://biologicslab.co:/BIO1173/images/class_02/class_02_4_image02B.png)"
      ],
      "metadata": {
        "id": "JwOjf0rDzWqc"
      }
    },
    {
      "cell_type": "markdown",
      "source": [
        "### **Exercise 1: Build and Train a Classification Neural Network**\n",
        "\n",
        "In the cell below build and train a new classification neural network called `ap_model`.\n",
        "\n",
        "Start by reading the dataset and creating a DataFrame called `ap_df` (\"apple\" DataFrame) using this code chunk:\n",
        "~~~text\n",
        "ap_df = pd.read_csv(\n",
        "    \"https://biologicslab.co/BIO1173/data/apple_quality.csv\",\n",
        "    na_values=['NA', '?'])\n",
        "~~~\n",
        "The goal of your neural network model `ap_model` will be to classify the apples in the Apple Quality dataset using the values in the following columns: 'Size', 'Weight', 'Sweetness', 'Crunchiness', 'Juiciness', 'Acidity' and 'Ripeness'. Since all of these columns are numeric, there is no need pre-process any of these columns. Moreover, the numerical values all have a similar magnitude so you don't need to standardize any column to their z-scores. Nor do you need to split the data into Training/Validation sets or suffle the data. When you generate your X-values, you should called them `ap_X`.\n",
        "\n",
        "Since you are building a classification neural network, you will need to One-Hot Encode the column containing the Y-values, `Quality`. This column is non-numeric, so by One-Hot Encoding it, you will accomplish two things: (1) replace string values with integers and (2) give the Y-values the correct format for the neural network. When you generate your Y-values, you should called them `ap_Y`.\n",
        "\n",
        "Again, because you want your `ap_model` to act as a _classifier_, use the `softmax` activation function in the output layer. You should also compile your model using `categorical_crossentropy` as the loss function.\n",
        "\n",
        "Finally, train (fit) your model on your X-values (`ap_X`) and your Y-values (`ap_Y`) for 100 epochs.  "
      ],
      "metadata": {
        "id": "9Mrt8H0R81h1"
      }
    },
    {
      "cell_type": "markdown",
      "source": [],
      "metadata": {
        "id": "HEq-cYJzedfZ"
      }
    },
    {
      "cell_type": "code",
      "source": [
        "# -------------------------------------------------------------\n",
        "# 0️⃣  Imports\n",
        "# -------------------------------------------------------------\n",
        "import pandas as pd\n",
        "import time\n",
        "import numpy as np\n",
        "from scipy.stats import zscore\n",
        "from keras.models import Sequential\n",
        "from keras.layers import Dense, Input\n",
        "from keras.callbacks import EarlyStopping, ModelCheckpoint\n",
        "\n",
        "# -------------------------------------------------------------\n",
        "# 1️⃣  Parameters\n",
        "# -------------------------------------------------------------\n",
        "EPOCHS   = 100\n",
        "PATIENCE = 10\n",
        "VERBOSE  = 2           # 2 = progress bars\n",
        "\n",
        "# -------------------------------------------------------------\n",
        "# 2️⃣  Load data\n",
        "# -------------------------------------------------------------\n",
        "ap_df = pd.read_csv(\n",
        "    \"https://biologicslab.co/BIO1173/data/apple_quality.csv\",\n",
        "    na_values=['NA', '?']\n",
        ")\n",
        "\n",
        "# -------------------------------------------------------------\n",
        "# 5️⃣  Preprocessing\n",
        "# -------------------------------------------------------------\n",
        "# 5.1 Map text to numeric (if needed – the dataset already uses\n",
        "# numeric quality, so this step is optional)\n",
        "# mapping = {'Size':..., 'Weight':..., ...}\n",
        "\n",
        "# 5.2 Standardise numeric predictors (optional but often helps)\n",
        "# ap_df[['Size','Weight','Sweetness','Crunchiness',\n",
        "#        'Juiciness','Acidity','Ripeness']] = \\\n",
        "#     ap_df[['Size','Weight','Sweetness','Crunchiness',\n",
        "#            'Juiciness','Acidity','Ripeness']].apply(zscore)\n",
        "\n",
        "# 5.3 Generate X‑values\n",
        "ap_X = ap_df[['Size', 'Weight', 'Sweetness', 'Crunchiness',\n",
        "              'Juiciness', 'Acidity', 'Ripeness']].values\n",
        "ap_X = np.asarray(ap_X).astype('float32')\n",
        "\n",
        "# 5.4 Generate Y‑values (one‑hot for classification)\n",
        "dummies = pd.get_dummies(ap_df['Quality'], dtype=int)\n",
        "ap_Y = dummies.values\n",
        "ap_Y = np.asarray(ap_Y).astype('float32')\n",
        "\n",
        "# -------------------------------------------------------------\n",
        "# 6️⃣  Build & compile model\n",
        "# -------------------------------------------------------------\n",
        "ap_model = Sequential()\n",
        "ap_model.add(Input(shape=(ap_X.shape[1],)))         # Input layer\n",
        "ap_model.add(Dense(50, activation='relu'))          # Hidden 1\n",
        "ap_model.add(Dense(25, activation='relu'))          # Hidden 2\n",
        "ap_model.add(Dense(ap_Y.shape[1], activation='softmax'))  # Output\n",
        "\n",
        "ap_model.compile(\n",
        "    loss='categorical_crossentropy',\n",
        "    optimizer='adam',\n",
        "    metrics=['accuracy']\n",
        ")\n",
        "\n",
        "# -------------------------------------------------------------\n",
        "# 7️⃣  Callbacks (monitor accuracy)\n",
        "# -------------------------------------------------------------\n",
        "checkpoint_path = \"ap_best_classification_model.keras\"\n",
        "callbacks = [\n",
        "    EarlyStopping(\n",
        "        monitor=\"val_accuracy\",\n",
        "        patience=PATIENCE,\n",
        "        restore_best_weights=True,\n",
        "        mode=\"max\"\n",
        "    ),\n",
        "    ModelCheckpoint(\n",
        "        filepath=checkpoint_path,\n",
        "        monitor=\"val_accuracy\",\n",
        "        save_best_only=True,\n",
        "        mode=\"max\"\n",
        "    ),\n",
        "]\n",
        "\n",
        "# -------------------------------------------------------------\n",
        "# 8️⃣  Train model\n",
        "# -------------------------------------------------------------\n",
        "print(f\"------Training Starting for {EPOCHS} epochs --------------\")\n",
        "start_time = time.time()\n",
        "ap_history = ap_model.fit(\n",
        "    ap_X, ap_Y,\n",
        "    epochs=EPOCHS,\n",
        "    validation_split=0.2,\n",
        "    callbacks=callbacks,\n",
        "    verbose=VERBOSE\n",
        ")\n",
        "\n",
        "# -------------------------------------------------------------\n",
        "# 9️⃣  Inspect training\n",
        "# -------------------------------------------------------------\n",
        "print(\"\\nTraining finished\")\n",
        "print(f\"Best val accuracy: {np.max(ap_history.history['val_accuracy']):.4f}\")\n",
        "elapsed_time = time.time() - start_time\n",
        "print(\"Elapsed time: {}\".format(hms_string(elapsed_time)))\n"
      ],
      "metadata": {
        "colab": {
          "base_uri": "https://localhost:8080/"
        },
        "id": "9mfNvH90lmOx",
        "outputId": "bceee392-d0a6-4581-a897-f1455aa45194"
      },
      "execution_count": null,
      "outputs": [
        {
          "output_type": "stream",
          "name": "stdout",
          "text": [
            "------Training Starting for 100 epochs --------------\n",
            "Epoch 1/100\n",
            "100/100 - 2s - 22ms/step - accuracy: 0.7250 - loss: 0.5549 - val_accuracy: 0.8175 - val_loss: 0.4220\n",
            "Epoch 2/100\n",
            "100/100 - 0s - 5ms/step - accuracy: 0.8369 - loss: 0.3735 - val_accuracy: 0.8537 - val_loss: 0.3421\n",
            "Epoch 3/100\n",
            "100/100 - 1s - 6ms/step - accuracy: 0.8647 - loss: 0.3160 - val_accuracy: 0.8650 - val_loss: 0.3076\n",
            "Epoch 4/100\n",
            "100/100 - 0s - 4ms/step - accuracy: 0.8769 - loss: 0.2882 - val_accuracy: 0.8838 - val_loss: 0.2921\n",
            "Epoch 5/100\n",
            "100/100 - 0s - 2ms/step - accuracy: 0.8872 - loss: 0.2735 - val_accuracy: 0.8838 - val_loss: 0.2846\n",
            "Epoch 6/100\n",
            "100/100 - 0s - 4ms/step - accuracy: 0.8881 - loss: 0.2572 - val_accuracy: 0.8925 - val_loss: 0.2717\n",
            "Epoch 7/100\n",
            "100/100 - 1s - 5ms/step - accuracy: 0.8956 - loss: 0.2481 - val_accuracy: 0.8913 - val_loss: 0.2687\n",
            "Epoch 8/100\n",
            "100/100 - 0s - 3ms/step - accuracy: 0.9006 - loss: 0.2399 - val_accuracy: 0.8900 - val_loss: 0.2658\n",
            "Epoch 9/100\n",
            "100/100 - 0s - 3ms/step - accuracy: 0.9000 - loss: 0.2359 - val_accuracy: 0.8900 - val_loss: 0.2575\n",
            "Epoch 10/100\n",
            "100/100 - 0s - 3ms/step - accuracy: 0.9034 - loss: 0.2250 - val_accuracy: 0.8963 - val_loss: 0.2540\n",
            "Epoch 11/100\n",
            "100/100 - 0s - 3ms/step - accuracy: 0.9106 - loss: 0.2193 - val_accuracy: 0.8875 - val_loss: 0.2616\n",
            "Epoch 12/100\n",
            "100/100 - 0s - 3ms/step - accuracy: 0.9116 - loss: 0.2134 - val_accuracy: 0.9038 - val_loss: 0.2443\n",
            "Epoch 13/100\n",
            "100/100 - 0s - 3ms/step - accuracy: 0.9175 - loss: 0.2058 - val_accuracy: 0.9062 - val_loss: 0.2424\n",
            "Epoch 14/100\n",
            "100/100 - 0s - 3ms/step - accuracy: 0.9159 - loss: 0.2013 - val_accuracy: 0.9075 - val_loss: 0.2388\n",
            "Epoch 15/100\n",
            "100/100 - 0s - 3ms/step - accuracy: 0.9166 - loss: 0.1973 - val_accuracy: 0.9075 - val_loss: 0.2347\n",
            "Epoch 16/100\n",
            "100/100 - 0s - 3ms/step - accuracy: 0.9181 - loss: 0.1910 - val_accuracy: 0.9013 - val_loss: 0.2416\n",
            "Epoch 17/100\n",
            "100/100 - 0s - 3ms/step - accuracy: 0.9175 - loss: 0.1884 - val_accuracy: 0.9075 - val_loss: 0.2404\n",
            "Epoch 18/100\n",
            "100/100 - 0s - 2ms/step - accuracy: 0.9206 - loss: 0.1850 - val_accuracy: 0.9075 - val_loss: 0.2355\n",
            "Epoch 19/100\n",
            "100/100 - 0s - 3ms/step - accuracy: 0.9287 - loss: 0.1804 - val_accuracy: 0.8963 - val_loss: 0.2401\n",
            "Epoch 20/100\n",
            "100/100 - 0s - 3ms/step - accuracy: 0.9247 - loss: 0.1778 - val_accuracy: 0.9112 - val_loss: 0.2382\n",
            "Epoch 21/100\n",
            "100/100 - 0s - 2ms/step - accuracy: 0.9281 - loss: 0.1750 - val_accuracy: 0.9100 - val_loss: 0.2304\n",
            "Epoch 22/100\n",
            "100/100 - 0s - 3ms/step - accuracy: 0.9284 - loss: 0.1711 - val_accuracy: 0.9100 - val_loss: 0.2304\n",
            "Epoch 23/100\n",
            "100/100 - 0s - 4ms/step - accuracy: 0.9337 - loss: 0.1682 - val_accuracy: 0.9125 - val_loss: 0.2263\n",
            "Epoch 24/100\n",
            "100/100 - 0s - 3ms/step - accuracy: 0.9322 - loss: 0.1619 - val_accuracy: 0.9175 - val_loss: 0.2237\n",
            "Epoch 25/100\n",
            "100/100 - 0s - 3ms/step - accuracy: 0.9366 - loss: 0.1589 - val_accuracy: 0.9162 - val_loss: 0.2310\n",
            "Epoch 26/100\n",
            "100/100 - 0s - 3ms/step - accuracy: 0.9347 - loss: 0.1591 - val_accuracy: 0.9150 - val_loss: 0.2226\n",
            "Epoch 27/100\n",
            "100/100 - 0s - 3ms/step - accuracy: 0.9366 - loss: 0.1571 - val_accuracy: 0.9125 - val_loss: 0.2229\n",
            "Epoch 28/100\n",
            "100/100 - 0s - 2ms/step - accuracy: 0.9388 - loss: 0.1534 - val_accuracy: 0.9150 - val_loss: 0.2185\n",
            "Epoch 29/100\n",
            "100/100 - 0s - 3ms/step - accuracy: 0.9394 - loss: 0.1464 - val_accuracy: 0.9137 - val_loss: 0.2205\n",
            "Epoch 30/100\n",
            "100/100 - 0s - 3ms/step - accuracy: 0.9403 - loss: 0.1454 - val_accuracy: 0.9162 - val_loss: 0.2167\n",
            "Epoch 31/100\n",
            "100/100 - 0s - 3ms/step - accuracy: 0.9434 - loss: 0.1413 - val_accuracy: 0.9212 - val_loss: 0.2112\n",
            "Epoch 32/100\n",
            "100/100 - 0s - 3ms/step - accuracy: 0.9459 - loss: 0.1403 - val_accuracy: 0.9225 - val_loss: 0.2101\n",
            "Epoch 33/100\n",
            "100/100 - 0s - 3ms/step - accuracy: 0.9459 - loss: 0.1357 - val_accuracy: 0.9275 - val_loss: 0.2108\n",
            "Epoch 34/100\n",
            "100/100 - 0s - 3ms/step - accuracy: 0.9475 - loss: 0.1318 - val_accuracy: 0.9225 - val_loss: 0.2098\n",
            "Epoch 35/100\n",
            "100/100 - 0s - 3ms/step - accuracy: 0.9484 - loss: 0.1334 - val_accuracy: 0.9262 - val_loss: 0.2090\n",
            "Epoch 36/100\n",
            "100/100 - 0s - 5ms/step - accuracy: 0.9513 - loss: 0.1287 - val_accuracy: 0.9237 - val_loss: 0.2088\n",
            "Epoch 37/100\n",
            "100/100 - 1s - 6ms/step - accuracy: 0.9494 - loss: 0.1278 - val_accuracy: 0.9237 - val_loss: 0.2081\n",
            "Epoch 38/100\n",
            "100/100 - 1s - 7ms/step - accuracy: 0.9497 - loss: 0.1235 - val_accuracy: 0.9200 - val_loss: 0.2082\n",
            "Epoch 39/100\n",
            "100/100 - 0s - 4ms/step - accuracy: 0.9544 - loss: 0.1218 - val_accuracy: 0.9300 - val_loss: 0.1971\n",
            "Epoch 40/100\n",
            "100/100 - 1s - 7ms/step - accuracy: 0.9541 - loss: 0.1190 - val_accuracy: 0.9287 - val_loss: 0.2027\n",
            "Epoch 41/100\n",
            "100/100 - 0s - 5ms/step - accuracy: 0.9541 - loss: 0.1166 - val_accuracy: 0.9262 - val_loss: 0.1985\n",
            "Epoch 42/100\n",
            "100/100 - 0s - 3ms/step - accuracy: 0.9584 - loss: 0.1139 - val_accuracy: 0.9362 - val_loss: 0.1988\n",
            "Epoch 43/100\n",
            "100/100 - 0s - 2ms/step - accuracy: 0.9566 - loss: 0.1149 - val_accuracy: 0.9212 - val_loss: 0.2056\n",
            "Epoch 44/100\n",
            "100/100 - 0s - 3ms/step - accuracy: 0.9575 - loss: 0.1116 - val_accuracy: 0.9325 - val_loss: 0.2022\n",
            "Epoch 45/100\n",
            "100/100 - 0s - 3ms/step - accuracy: 0.9584 - loss: 0.1071 - val_accuracy: 0.9287 - val_loss: 0.1958\n",
            "Epoch 46/100\n",
            "100/100 - 0s - 3ms/step - accuracy: 0.9616 - loss: 0.1039 - val_accuracy: 0.9350 - val_loss: 0.1990\n",
            "Epoch 47/100\n",
            "100/100 - 0s - 3ms/step - accuracy: 0.9619 - loss: 0.1055 - val_accuracy: 0.9425 - val_loss: 0.1954\n",
            "Epoch 48/100\n",
            "100/100 - 0s - 3ms/step - accuracy: 0.9597 - loss: 0.1041 - val_accuracy: 0.9350 - val_loss: 0.1945\n",
            "Epoch 49/100\n",
            "100/100 - 0s - 3ms/step - accuracy: 0.9606 - loss: 0.1024 - val_accuracy: 0.9325 - val_loss: 0.1971\n",
            "Epoch 50/100\n",
            "100/100 - 0s - 3ms/step - accuracy: 0.9606 - loss: 0.1023 - val_accuracy: 0.9300 - val_loss: 0.2021\n",
            "Epoch 51/100\n",
            "100/100 - 0s - 3ms/step - accuracy: 0.9616 - loss: 0.0992 - val_accuracy: 0.9337 - val_loss: 0.2022\n",
            "Epoch 52/100\n",
            "100/100 - 0s - 3ms/step - accuracy: 0.9631 - loss: 0.0965 - val_accuracy: 0.9375 - val_loss: 0.1908\n",
            "Epoch 53/100\n",
            "100/100 - 0s - 3ms/step - accuracy: 0.9647 - loss: 0.0952 - val_accuracy: 0.9413 - val_loss: 0.1896\n",
            "Epoch 54/100\n",
            "100/100 - 0s - 3ms/step - accuracy: 0.9628 - loss: 0.0942 - val_accuracy: 0.9425 - val_loss: 0.1847\n",
            "Epoch 55/100\n",
            "100/100 - 0s - 3ms/step - accuracy: 0.9666 - loss: 0.0908 - val_accuracy: 0.9388 - val_loss: 0.1844\n",
            "Epoch 56/100\n",
            "100/100 - 0s - 2ms/step - accuracy: 0.9672 - loss: 0.0913 - val_accuracy: 0.9337 - val_loss: 0.1946\n",
            "Epoch 57/100\n",
            "100/100 - 0s - 3ms/step - accuracy: 0.9619 - loss: 0.0903 - val_accuracy: 0.9388 - val_loss: 0.1843\n",
            "\n",
            "Training finished\n",
            "Best val accuracy: 0.9425\n",
            "Elapsed time: 00:00:21.064\n"
          ]
        }
      ]
    },
    {
      "cell_type": "code",
      "source": [
        "# Insert your code for Exercise 1A here\n",
        "\n",
        "# ------------------------------------------------------------\n",
        "# 0️⃣  Imports\n",
        "# ------------------------------------------------------------\n",
        "import pandas as pd\n",
        "import time\n",
        "import numpy as np\n",
        "from scipy.stats import zscore\n",
        "from keras.models import Sequential\n",
        "from keras.layers import Dense, Input\n",
        "from keras.callbacks import EarlyStopping, ModelCheckpoint\n",
        "import numpy as np\n",
        "\n",
        "# ------------------------------------------------------------\n",
        "# 1️⃣  Parameters\n",
        "# ------------------------------------------------------------\n",
        "EPOCHS        = 100\n",
        "PATIENCE      = 10\n",
        "VERBOSE       = 2     # 2 means output during training\n",
        "\n",
        "# ------------------------------------------------------------\n",
        "# 2️⃣  Load data\n",
        "# ------------------------------------------------------------\n",
        "ap_df = pd.read_csv(\n",
        "    \"https://biologicslab.co/BIO1173/data/apple_quality.csv\",\n",
        "    na_values=['NA', '?'])\n",
        "\n",
        "\n",
        "# ------------------------------------------------------------\n",
        "# 5️⃣  Preprocessing\n",
        "# ------------------------------------------------------------\n",
        "\n",
        "# Map str to int\n",
        "\n",
        "# 'Size', 'Weight', 'Sweetness', 'Crunchiness', 'Juiciness', 'Acidity' and 'Ripeness'.\n",
        "\n",
        "# Generate X-values\n",
        "ap_X = ap_df[['Size', 'Weight', 'Sweetness', 'Crunchiness',\n",
        "       'Juiciness', 'Acidity', 'Ripeness']].values\n",
        "ap_X = np.asarray(ap_X).astype('float32')\n",
        "\n",
        "# Generate Y-values\n",
        "dummies = pd.get_dummies(ap_df['Quality'], dtype=int) # Classification\n",
        "ap_Y = dummies.values\n",
        "ap_Y = np.asarray(ap_Y).astype('float32')\n",
        "\n",
        "# ------------------------------------------------------------\n",
        "# 6️⃣  Build & compile model\n",
        "# ------------------------------------------------------------\n",
        "\n",
        "# Build model\n",
        "ap_model = Sequential()\n",
        "ap_model.add(Input(shape=(ap_X.shape[1],)))  # Input\n",
        "ap_model.add(Dense(50, activation='relu')) # Hidden 1\n",
        "ap_model.add(Dense(25, activation='relu')) # Hidden 2\n",
        "ap_model.add(Dense(ap_Y.shape[1],activation='softmax')) # Output\n",
        "\n",
        "# Compile model\n",
        "ap_model.compile(\n",
        "    loss='categorical_crossentropy',\n",
        "    optimizer='adam',\n",
        "    metrics=['accuracy']\n",
        ")\n",
        "\n",
        "# ------------------------------------------------------------\n",
        "# 7️⃣  Callbacks (monitor accuracy)\n",
        "# ------------------------------------------------------------\n",
        "checkpoint_path = \"or_best_classification_model.keras\"\n",
        "callbacks = [\n",
        "    EarlyStopping(\n",
        "        monitor=\"val_accuracy\",\n",
        "        patience=PATIENCE,\n",
        "        restore_best_weights=True,\n",
        "        mode=\"max\"          # <– add this line\n",
        "    ),\n",
        "    ModelCheckpoint(\n",
        "        filepath=checkpoint_path,\n",
        "        monitor=\"val_accuracy\",\n",
        "        save_best_only=True,\n",
        "        mode=\"max\"\n",
        "    ),\n",
        "]\n",
        "\n",
        "# ------------------------------------------------------------\n",
        "# 8️⃣  Train model\n",
        "# ------------------------------------------------------------\n",
        "print(f\"------Training Starting for {EPOCHS} epochs --------------\")\n",
        "start_time = time.time()\n",
        "ap_history = ap_model.fit(\n",
        "    ap_X, ap_Y,\n",
        "    epochs=EPOCHS,\n",
        "    validation_split=0.2,\n",
        "    callbacks=callbacks,\n",
        "    verbose=VERBOSE,\n",
        ")\n",
        "\n",
        "# ---------------------------------------------------------------------------\n",
        "# 9️⃣ Inspect training\n",
        "# ---------------------------------------------------------------------------\n",
        "print(f\"\\nTraining finished\")\n",
        "print(f\"Best val accuracy: {np.max(or_history.history['val_accuracy']):.4f}\")\n",
        "elapsed_time = time.time() - start_time\n",
        "print(\"Elapsed time: {}\".format(hms_string(elapsed_time)))"
      ],
      "metadata": {
        "colab": {
          "base_uri": "https://localhost:8080/"
        },
        "outputId": "f0d5adcd-da16-42a1-8bc2-4502b2008e1d",
        "id": "ATIr4WN8eeL0"
      },
      "execution_count": null,
      "outputs": [
        {
          "output_type": "stream",
          "name": "stdout",
          "text": [
            "------Training Starting for 100 epochs --------------\n",
            "Epoch 1/100\n",
            "100/100 - 2s - 23ms/step - accuracy: 0.7409 - loss: 0.5207 - val_accuracy: 0.8300 - val_loss: 0.4030\n",
            "Epoch 2/100\n",
            "100/100 - 1s - 10ms/step - accuracy: 0.8431 - loss: 0.3528 - val_accuracy: 0.8662 - val_loss: 0.3335\n",
            "Epoch 3/100\n",
            "100/100 - 0s - 3ms/step - accuracy: 0.8625 - loss: 0.3095 - val_accuracy: 0.8763 - val_loss: 0.3086\n",
            "Epoch 4/100\n",
            "100/100 - 0s - 3ms/step - accuracy: 0.8741 - loss: 0.2890 - val_accuracy: 0.8800 - val_loss: 0.2996\n",
            "Epoch 5/100\n",
            "100/100 - 0s - 3ms/step - accuracy: 0.8834 - loss: 0.2748 - val_accuracy: 0.8850 - val_loss: 0.2903\n",
            "Epoch 6/100\n",
            "100/100 - 0s - 3ms/step - accuracy: 0.8888 - loss: 0.2667 - val_accuracy: 0.8838 - val_loss: 0.2793\n",
            "Epoch 7/100\n",
            "100/100 - 0s - 3ms/step - accuracy: 0.8928 - loss: 0.2553 - val_accuracy: 0.8888 - val_loss: 0.2818\n",
            "Epoch 8/100\n",
            "100/100 - 0s - 3ms/step - accuracy: 0.8975 - loss: 0.2513 - val_accuracy: 0.8900 - val_loss: 0.2671\n",
            "Epoch 9/100\n",
            "100/100 - 0s - 3ms/step - accuracy: 0.8994 - loss: 0.2450 - val_accuracy: 0.8950 - val_loss: 0.2736\n",
            "Epoch 10/100\n",
            "100/100 - 0s - 3ms/step - accuracy: 0.9034 - loss: 0.2395 - val_accuracy: 0.9000 - val_loss: 0.2558\n",
            "Epoch 11/100\n",
            "100/100 - 0s - 3ms/step - accuracy: 0.9062 - loss: 0.2320 - val_accuracy: 0.8888 - val_loss: 0.2715\n",
            "Epoch 12/100\n",
            "100/100 - 0s - 3ms/step - accuracy: 0.9044 - loss: 0.2307 - val_accuracy: 0.9062 - val_loss: 0.2487\n",
            "Epoch 13/100\n",
            "100/100 - 0s - 2ms/step - accuracy: 0.9109 - loss: 0.2227 - val_accuracy: 0.9013 - val_loss: 0.2502\n",
            "Epoch 14/100\n",
            "100/100 - 0s - 3ms/step - accuracy: 0.9116 - loss: 0.2186 - val_accuracy: 0.9112 - val_loss: 0.2472\n",
            "Epoch 15/100\n",
            "100/100 - 0s - 3ms/step - accuracy: 0.9134 - loss: 0.2140 - val_accuracy: 0.9150 - val_loss: 0.2378\n",
            "Epoch 16/100\n",
            "100/100 - 0s - 3ms/step - accuracy: 0.9172 - loss: 0.2090 - val_accuracy: 0.9150 - val_loss: 0.2368\n",
            "Epoch 17/100\n",
            "100/100 - 0s - 3ms/step - accuracy: 0.9200 - loss: 0.2053 - val_accuracy: 0.9150 - val_loss: 0.2337\n",
            "Epoch 18/100\n",
            "100/100 - 0s - 3ms/step - accuracy: 0.9219 - loss: 0.1993 - val_accuracy: 0.9087 - val_loss: 0.2316\n",
            "Epoch 19/100\n",
            "100/100 - 0s - 3ms/step - accuracy: 0.9237 - loss: 0.1971 - val_accuracy: 0.9187 - val_loss: 0.2265\n",
            "Epoch 20/100\n",
            "100/100 - 0s - 3ms/step - accuracy: 0.9259 - loss: 0.1942 - val_accuracy: 0.9187 - val_loss: 0.2287\n",
            "Epoch 21/100\n",
            "100/100 - 0s - 3ms/step - accuracy: 0.9275 - loss: 0.1873 - val_accuracy: 0.9125 - val_loss: 0.2303\n",
            "Epoch 22/100\n",
            "100/100 - 0s - 3ms/step - accuracy: 0.9300 - loss: 0.1831 - val_accuracy: 0.9237 - val_loss: 0.2184\n",
            "Epoch 23/100\n",
            "100/100 - 0s - 3ms/step - accuracy: 0.9287 - loss: 0.1814 - val_accuracy: 0.9250 - val_loss: 0.2163\n",
            "Epoch 24/100\n",
            "100/100 - 0s - 3ms/step - accuracy: 0.9284 - loss: 0.1793 - val_accuracy: 0.9237 - val_loss: 0.2158\n",
            "Epoch 25/100\n",
            "100/100 - 0s - 3ms/step - accuracy: 0.9325 - loss: 0.1741 - val_accuracy: 0.9250 - val_loss: 0.2150\n",
            "Epoch 26/100\n",
            "100/100 - 0s - 3ms/step - accuracy: 0.9341 - loss: 0.1706 - val_accuracy: 0.9325 - val_loss: 0.2103\n",
            "Epoch 27/100\n",
            "100/100 - 0s - 3ms/step - accuracy: 0.9353 - loss: 0.1649 - val_accuracy: 0.9250 - val_loss: 0.2114\n",
            "Epoch 28/100\n",
            "100/100 - 0s - 3ms/step - accuracy: 0.9350 - loss: 0.1623 - val_accuracy: 0.9250 - val_loss: 0.2127\n",
            "Epoch 29/100\n",
            "100/100 - 0s - 2ms/step - accuracy: 0.9350 - loss: 0.1597 - val_accuracy: 0.9312 - val_loss: 0.2065\n",
            "Epoch 30/100\n",
            "100/100 - 0s - 3ms/step - accuracy: 0.9400 - loss: 0.1551 - val_accuracy: 0.9262 - val_loss: 0.2084\n",
            "Epoch 31/100\n",
            "100/100 - 0s - 3ms/step - accuracy: 0.9359 - loss: 0.1558 - val_accuracy: 0.9312 - val_loss: 0.2038\n",
            "Epoch 32/100\n",
            "100/100 - 0s - 3ms/step - accuracy: 0.9388 - loss: 0.1528 - val_accuracy: 0.9312 - val_loss: 0.2084\n",
            "Epoch 33/100\n",
            "100/100 - 0s - 3ms/step - accuracy: 0.9431 - loss: 0.1491 - val_accuracy: 0.9362 - val_loss: 0.1963\n",
            "Epoch 34/100\n",
            "100/100 - 0s - 3ms/step - accuracy: 0.9394 - loss: 0.1498 - val_accuracy: 0.9388 - val_loss: 0.2006\n",
            "Epoch 35/100\n",
            "100/100 - 0s - 2ms/step - accuracy: 0.9447 - loss: 0.1438 - val_accuracy: 0.9388 - val_loss: 0.1946\n",
            "Epoch 36/100\n",
            "100/100 - 0s - 3ms/step - accuracy: 0.9431 - loss: 0.1414 - val_accuracy: 0.9325 - val_loss: 0.1994\n",
            "Epoch 37/100\n",
            "100/100 - 0s - 5ms/step - accuracy: 0.9453 - loss: 0.1371 - val_accuracy: 0.9400 - val_loss: 0.1924\n",
            "Epoch 38/100\n",
            "100/100 - 0s - 4ms/step - accuracy: 0.9475 - loss: 0.1352 - val_accuracy: 0.9375 - val_loss: 0.1947\n",
            "Epoch 39/100\n",
            "100/100 - 1s - 6ms/step - accuracy: 0.9481 - loss: 0.1351 - val_accuracy: 0.9375 - val_loss: 0.1875\n",
            "Epoch 40/100\n",
            "100/100 - 1s - 7ms/step - accuracy: 0.9516 - loss: 0.1303 - val_accuracy: 0.9362 - val_loss: 0.1893\n",
            "Epoch 41/100\n",
            "100/100 - 0s - 4ms/step - accuracy: 0.9528 - loss: 0.1283 - val_accuracy: 0.9400 - val_loss: 0.1860\n",
            "Epoch 42/100\n",
            "100/100 - 1s - 7ms/step - accuracy: 0.9538 - loss: 0.1241 - val_accuracy: 0.9413 - val_loss: 0.1788\n",
            "Epoch 43/100\n",
            "100/100 - 0s - 3ms/step - accuracy: 0.9488 - loss: 0.1237 - val_accuracy: 0.9413 - val_loss: 0.1892\n",
            "Epoch 44/100\n",
            "100/100 - 0s - 3ms/step - accuracy: 0.9531 - loss: 0.1191 - val_accuracy: 0.9413 - val_loss: 0.1780\n",
            "Epoch 45/100\n",
            "100/100 - 0s - 3ms/step - accuracy: 0.9544 - loss: 0.1193 - val_accuracy: 0.9438 - val_loss: 0.1813\n",
            "Epoch 46/100\n",
            "100/100 - 0s - 3ms/step - accuracy: 0.9538 - loss: 0.1175 - val_accuracy: 0.9463 - val_loss: 0.1828\n",
            "Epoch 47/100\n",
            "100/100 - 1s - 6ms/step - accuracy: 0.9563 - loss: 0.1145 - val_accuracy: 0.9463 - val_loss: 0.1774\n",
            "Epoch 48/100\n",
            "100/100 - 0s - 3ms/step - accuracy: 0.9588 - loss: 0.1104 - val_accuracy: 0.9300 - val_loss: 0.1976\n",
            "Epoch 49/100\n",
            "100/100 - 0s - 3ms/step - accuracy: 0.9575 - loss: 0.1108 - val_accuracy: 0.9463 - val_loss: 0.1717\n",
            "Epoch 50/100\n",
            "100/100 - 0s - 3ms/step - accuracy: 0.9603 - loss: 0.1085 - val_accuracy: 0.9463 - val_loss: 0.1761\n",
            "Epoch 51/100\n",
            "100/100 - 0s - 3ms/step - accuracy: 0.9591 - loss: 0.1086 - val_accuracy: 0.9475 - val_loss: 0.1699\n",
            "Epoch 52/100\n",
            "100/100 - 0s - 3ms/step - accuracy: 0.9569 - loss: 0.1049 - val_accuracy: 0.9450 - val_loss: 0.1781\n",
            "Epoch 53/100\n",
            "100/100 - 0s - 3ms/step - accuracy: 0.9600 - loss: 0.1027 - val_accuracy: 0.9475 - val_loss: 0.1728\n",
            "Epoch 54/100\n",
            "100/100 - 0s - 3ms/step - accuracy: 0.9644 - loss: 0.0987 - val_accuracy: 0.9463 - val_loss: 0.1731\n",
            "Epoch 55/100\n",
            "100/100 - 0s - 3ms/step - accuracy: 0.9638 - loss: 0.0987 - val_accuracy: 0.9450 - val_loss: 0.1769\n",
            "Epoch 56/100\n",
            "100/100 - 0s - 3ms/step - accuracy: 0.9609 - loss: 0.0996 - val_accuracy: 0.9488 - val_loss: 0.1714\n",
            "Epoch 57/100\n",
            "100/100 - 0s - 3ms/step - accuracy: 0.9628 - loss: 0.0997 - val_accuracy: 0.9488 - val_loss: 0.1660\n",
            "Epoch 58/100\n",
            "100/100 - 0s - 3ms/step - accuracy: 0.9669 - loss: 0.0941 - val_accuracy: 0.9438 - val_loss: 0.1736\n",
            "Epoch 59/100\n",
            "100/100 - 0s - 3ms/step - accuracy: 0.9666 - loss: 0.0926 - val_accuracy: 0.9500 - val_loss: 0.1685\n",
            "Epoch 60/100\n",
            "100/100 - 0s - 2ms/step - accuracy: 0.9659 - loss: 0.0902 - val_accuracy: 0.9475 - val_loss: 0.1699\n",
            "Epoch 61/100\n",
            "100/100 - 0s - 3ms/step - accuracy: 0.9634 - loss: 0.0949 - val_accuracy: 0.9513 - val_loss: 0.1656\n",
            "Epoch 62/100\n",
            "100/100 - 0s - 3ms/step - accuracy: 0.9650 - loss: 0.0889 - val_accuracy: 0.9500 - val_loss: 0.1701\n",
            "Epoch 63/100\n",
            "100/100 - 0s - 3ms/step - accuracy: 0.9675 - loss: 0.0893 - val_accuracy: 0.9550 - val_loss: 0.1709\n",
            "Epoch 64/100\n",
            "100/100 - 0s - 2ms/step - accuracy: 0.9688 - loss: 0.0860 - val_accuracy: 0.9500 - val_loss: 0.1673\n",
            "Epoch 65/100\n",
            "100/100 - 0s - 3ms/step - accuracy: 0.9650 - loss: 0.0862 - val_accuracy: 0.9538 - val_loss: 0.1668\n",
            "Epoch 66/100\n",
            "100/100 - 0s - 3ms/step - accuracy: 0.9694 - loss: 0.0830 - val_accuracy: 0.9525 - val_loss: 0.1692\n",
            "Epoch 67/100\n",
            "100/100 - 0s - 3ms/step - accuracy: 0.9688 - loss: 0.0827 - val_accuracy: 0.9425 - val_loss: 0.1725\n",
            "Epoch 68/100\n",
            "100/100 - 0s - 2ms/step - accuracy: 0.9666 - loss: 0.0843 - val_accuracy: 0.9475 - val_loss: 0.1651\n",
            "Epoch 69/100\n",
            "100/100 - 0s - 3ms/step - accuracy: 0.9703 - loss: 0.0815 - val_accuracy: 0.9475 - val_loss: 0.1675\n",
            "Epoch 70/100\n",
            "100/100 - 0s - 3ms/step - accuracy: 0.9694 - loss: 0.0813 - val_accuracy: 0.9513 - val_loss: 0.1728\n",
            "Epoch 71/100\n",
            "100/100 - 0s - 2ms/step - accuracy: 0.9700 - loss: 0.0774 - val_accuracy: 0.9450 - val_loss: 0.1789\n",
            "Epoch 72/100\n",
            "100/100 - 0s - 3ms/step - accuracy: 0.9700 - loss: 0.0813 - val_accuracy: 0.9488 - val_loss: 0.1681\n",
            "Epoch 73/100\n",
            "100/100 - 0s - 4ms/step - accuracy: 0.9725 - loss: 0.0744 - val_accuracy: 0.9500 - val_loss: 0.1767\n",
            "\n",
            "Training finished\n",
            "Best val accuracy: 0.4490\n",
            "Elapsed time: 00:00:26.096\n"
          ]
        }
      ]
    },
    {
      "cell_type": "markdown",
      "source": [
        "### Example 1B: Visualize Training\n",
        "\n",
        "The code in the cell below generates two side-by-side plots, **`Accuracy`**"
      ],
      "metadata": {
        "id": "dNKiSkZweeL1"
      }
    },
    {
      "cell_type": "code",
      "source": [
        "import numpy as np\n",
        "\n",
        "# Show the best validation accuracy\n",
        "best_val_acc = np.max(or_histor_Y.histor_Y['val_accuracy'])\n",
        "print(f\"Best validation accuracy: {best_val_acc:.4f}\")\n",
        "\n",
        "# Show the best validation loss\n",
        "best_val_loss = np.min(or_histor_Y.histor_Y['val_loss'])\n",
        "print(f\"Best validation loss: {best_val_loss:.4f}\")\n",
        "\n",
        "# Plot training histor_Y\n",
        "import matplotlib.pyplot as plt\n",
        "\n",
        "plt.figure(figsize=(12,5))\n",
        "\n",
        "plt.subplot(1,2,1)\n",
        "plt.plot(or_histor_Y.histor_Y['accuracy'], label='train')\n",
        "plt.plot(or_histor_Y.histor_Y['val_accuracy'], label='val')\n",
        "plt.title('Accuracy')\n",
        "plt.xlabel('Epoch')\n",
        "plt.legend()\n",
        "\n",
        "plt.subplot(1,2,2)\n",
        "plt.plot(or_histor_Y.histor_Y['loss'], label='train')\n",
        "plt.plot(or_histor_Y.histor_Y['val_loss'], label='val')\n",
        "plt.title('Loss')\n",
        "plt.xlabel('Epoch')\n",
        "plt.legend()\n",
        "\n",
        "plt.show()\n"
      ],
      "metadata": {
        "colab": {
          "base_uri": "https://localhost:8080/",
          "height": 522
        },
        "outputId": "35e18b0e-10d8-49ca-9177-b5059b661b61",
        "id": "AHpTicaKeeL1"
      },
      "execution_count": null,
      "outputs": [
        {
          "output_type": "stream",
          "name": "stdout",
          "text": [
            "Best validation accuracy: 0.3673\n",
            "Best validation loss: 1.7409\n"
          ]
        },
        {
          "output_type": "display_data",
          "data": {
            "text/plain": [
              "<Figure size 1200x500 with 2 Axes>"
            ],
            "image/png": "[encoded data removed]"
          },
          "metadata": {}
        }
      ]
    },
    {
      "cell_type": "code",
      "source": [
        "# Insert your code for Exercise 1 here\n",
        "\n",
        "# Example 1: Build and Train Classification Model\n"
      ],
      "metadata": {
        "id": "ADg2vo8j890E"
      },
      "execution_count": null,
      "outputs": []
    },
    {
      "cell_type": "markdown",
      "source": [
        "Training your model will take longer since the Apple Quality dataset contains 4,000 items instead of only 241 in the Orange Quality dataset.\n",
        "\n",
        "If your code was correct your should see something similiar to the following output:\n",
        "~~~text\n",
        "Epoch 1/100\n",
        "125/125 - 1s - loss: 0.4866 - 746ms/epoch - 6ms/step\n",
        "Epoch 2/100\n",
        "125/125 - 0s - loss: 0.3555 - 440ms/epoch - 4ms/step\n",
        "Epoch 3/100\n",
        "125/125 - 0s - loss: 0.3111 - 444ms/epoch - 4ms/step\n",
        "Epoch 4/100\n",
        "125/125 - 0s - loss: 0.2861 - 435ms/epoch - 3ms/step\n",
        "Epoch 5/100\n",
        "125/125 - 0s - loss: 0.2686 - 497ms/epoch - 4ms/step\n",
        "\n",
        "............................................\n",
        "\n",
        "Epoch 95/100\n",
        "125/125 - 0s - loss: 0.0764 - 429ms/epoch - 3ms/step\n",
        "Epoch 96/100\n",
        "125/125 - 0s - loss: 0.0734 - 429ms/epoch - 3ms/step\n",
        "Epoch 97/100\n",
        "125/125 - 0s - loss: 0.0741 - 447ms/epoch - 4ms/step\n",
        "Epoch 98/100\n",
        "125/125 - 1s - loss: 0.0732 - 507ms/epoch - 4ms/step\n",
        "Epoch 99/100\n",
        "125/125 - 0s - loss: 0.0723 - 418ms/epoch - 3ms/step\n",
        "Epoch 100/100\n",
        "125/125 - 0s - loss: 0.0719 - 416ms/epoch - 3ms/s\n",
        "~~~\n",
        "\n",
        "Notice that in this example, the loss went from `0.4866` after the 1st epoch down to `0.0719` after the 100th epoch."
      ],
      "metadata": {
        "id": "Ayg-LmKm9FYr"
      }
    },
    {
      "cell_type": "markdown",
      "source": [
        "### Example 2: Determine the Model's RSME and Accuracy\n",
        "\n",
        "The overall objective of this assignment is to convince you that can save a _trained_ neural network to a file, and then later, recreate the neural network from the file, **_without changing the model's accuracy_**.\n",
        "\n",
        "#### Why is this important?\n",
        "\n",
        "As you already know, it can take significant time and processing power to train even relatively small neural networks that we created so far in this course. Neural networks that are used commercially (think \"Siri\" or \"Alexa\" or ChatGPT) are many times larger and require enormous resources as well as weeks (or months) to train. Obviously, if you had to train a neural network every time you wanted to use it, it won't be very practical and there would be little interest in \"AI\". However, once the neural network has been trained, you can save it to a file, and then re-use it over and over again, without any loss in the neural network's ability to solve problems (i.e. loss in accuracy).      \n",
        "\n",
        "The code in the cell below calculates ability of the `or_model` neural network to predict an orange's quality (Y-value) based on its physical and chemical characteristics (X-values). Two measures of predictive ability are computed, the **_Root Mean Square Error (RMSE)_** and **_Accuracy_**. The code stores the RSME value in the variable `orScore` and the Accuracy value in the variable `orCorrect` and then prints out thes values.\n"
      ],
      "metadata": {
        "id": "yQn3GXQe9OnD"
      }
    },
    {
      "cell_type": "code",
      "source": [
        "# Example 2: Determine the model's RMSE and Accuracy\n",
        "\n",
        "import sklearn\n",
        "from sklearn import metrics\n",
        "from sklearn.metrics import accuracy_score\n",
        "\n",
        "# Measure RMSE error.\n",
        "orPred = or_model.predict(or_X)\n",
        "orScore = np.sqrt(metrics.mean_squared_error(orPred,or_Y))\n",
        "print(f\"Before save score (RMSE): {orScore}\")\n",
        "\n",
        "# Measure the accuracy\n",
        "orPredict_classes = np.argmax(orPred,axis=1)\n",
        "orExpected_classes = np.argmax(or_Y,axis=1)\n",
        "orCorrect = accuracy_score(orExpected_classes,orPredict_classes)\n",
        "print(f\"Before save Accuracy: {orCorrect}\")"
      ],
      "metadata": {
        "id": "H1OGthZ09THz"
      },
      "execution_count": null,
      "outputs": []
    },
    {
      "cell_type": "markdown",
      "source": [
        "If your code is correct you should see something similar to the following output:\n",
        "\n",
        "![__](https://biologicslab.co/BIO1173/images/class_02/class_02_4_image01A.png)\n",
        "\n",
        "The `or_model` isn't doing that great (Accuracy ~50% accurate). A model with 50% accuracy is about a accurate as just flipping a coin.\n",
        "\n",
        "However, as mentioned above, the number of items (oranges) in this dataset is relatively small (_n_=241). As you can see, this is really too few samples for training a neural network and then to expect a high level of accuracy."
      ],
      "metadata": {
        "id": "6TkU0X_b9WqT"
      }
    },
    {
      "cell_type": "markdown",
      "source": [
        "### **Exercise 2: Determine the Model's RSME and Accuracy**\n",
        "\n",
        "In the cell below, determine the RSME and Accuracy of your `ap_model`. Store the RSME value in a variable called `apScore` and the Accuracy value in a variable called `apCorrect`. Print out these values as shown in Example 2 above."
      ],
      "metadata": {
        "id": "wP7Yge269bWi"
      }
    },
    {
      "cell_type": "code",
      "source": [
        "# Insert your code for Exercise 2 here\n"
      ],
      "metadata": {
        "id": "fTWlNJzA9fti"
      },
      "execution_count": null,
      "outputs": []
    },
    {
      "cell_type": "markdown",
      "source": [
        "If your code is correct you should see something similar to the following output:\n",
        "\n",
        "![__](https://biologicslab.co/BIO1173/images/class_02/class_02_4_image02A.png)\n",
        "\n",
        "According to the output above, your `ap_model` is better than 70% accurate when it comes to predicting apple quality. Apparently, it's a little easier to predict an apple's `Quality` with a classification neural network than to predict orange quality."
      ],
      "metadata": {
        "id": "Om3ueI6p9idK"
      }
    },
    {
      "cell_type": "markdown",
      "source": [
        "### Example 3: Save the Model\n",
        "\n",
        "The code in the cell below saves the _trained_ neural network `or_model` as a file in two different file formats: `JSON` and `keras`.\n",
        "\n",
        "Each file in the current working director_Y (`save_path = \".\"`). The filename of the JSON file is `or_model.json` while the filename of the `keras` file is `or_model.keras`."
      ],
      "metadata": {
        "id": "7NVtEsrt-xd1"
      }
    },
    {
      "cell_type": "code",
      "source": [
        "# Example 3: Save the model\n",
        "\n",
        "from keras.models import save_model\n",
        "import os\n",
        "\n",
        "# Save path is the current director_Y\n",
        "save_path = \".\"\n",
        "\n",
        "# Save neural network structure to JSON (no weights)\n",
        "or_model_json = or_model.to_json()\n",
        "with open(os.path.join(save_path,\"or_model.json\"), \"w\") as json_file:\n",
        "    json_file.write(or_model_json)\n",
        "\n",
        "# Save the model in the native Keras format\n",
        "or_model.save('or_model.keras')\n",
        "\n",
        "# Print out the files in current director_Y\n",
        "files = os.listdir()\n",
        "print(files)"
      ],
      "metadata": {
        "id": "RgkJhlPB_Wl7"
      },
      "execution_count": null,
      "outputs": []
    },
    {
      "cell_type": "markdown",
      "source": [
        "If your code is correct you should see the following output:\n",
        "\n",
        "![__](https://biologicslab.co/BIO1173/images/class_02/class_02_4_image03A.png)\n",
        "\n",
        "After running the code cell above, there should now be two new files in your `Class_02_4` folder called `or_model.jason` and `or_model.keras`."
      ],
      "metadata": {
        "id": "uKVJKqIo_fhD"
      }
    },
    {
      "cell_type": "markdown",
      "source": [
        "### **Exercise 3: Save the Model**\n",
        "\n",
        "In the code cell below save your _trained_ neural network `ap_model` as a JSON file with the filename, `ap_model.json`, and as a native Keras file with the filenmane `ap_model.keras`. Save both files to your current working director_Y (`save_path = \".\"`)."
      ],
      "metadata": {
        "id": "OcoPhtQi_kiC"
      }
    },
    {
      "cell_type": "code",
      "source": [
        "# Insert your code for Exercise 3 here\n"
      ],
      "metadata": {
        "id": "TbjbyLCGClTn"
      },
      "execution_count": null,
      "outputs": []
    },
    {
      "cell_type": "markdown",
      "source": [
        "If your code is correct you should see something similar to the following output:\n",
        "\n",
        "![__](https://biologicslab.co/BIO1173/images/class_02/class_02_4_image04A.png)\n",
        "\n",
        "You should now see the two more files with your neural network."
      ],
      "metadata": {
        "id": "rl_-kxWhbuhd"
      }
    },
    {
      "cell_type": "markdown",
      "source": [
        "The advantage of the JSON format is that it can be visually inspected -- just click on the file name in the file browser panel. The JSON file perserves the model's _architecture_ which you can see by looking at the JSON file, but if you want to use it, you will need to train all over again.\n",
        "\n",
        "On the other hand, you can't view the contents of the HDF5 file, since it is not UTF-8 encoded (it's formated). Neverthelss, you should always save your model in the HDF5 format since this **_preserves architecture and the values of the weights_** of the model's connections. By preserving these values you don't have to waste time retraining the model again."
      ],
      "metadata": {
        "id": "v3FMuLDNcExU"
      }
    },
    {
      "cell_type": "markdown",
      "source": [
        "### Example 4: Create New Model from Saved Model\n",
        "\n",
        "Once a trained model has been saved in the HDF5 format, it is a simple matter to read the file to make an exact copy of the model using the Keras function `load_model()` as shown in the cell below. In Example 4 we have given the re-loaded neural network the name `or2Model` to differentiate it from the one that we built previously.  "
      ],
      "metadata": {
        "id": "Qk2Sx-0_cHBj"
      }
    },
    {
      "cell_type": "code",
      "source": [
        "# Example 4: Create new model from saved model\n",
        "\n",
        "from keras.models import load_model\n",
        "\n",
        "# Look in current folder\n",
        "save_path = \".\"\n",
        "\n",
        "# Create model2 from the saved model\n",
        "or2Model = load_model(os.path.join(save_path,\"or_model.keras\"))\n",
        "\n",
        "# Print out model summary\n",
        "or2Model.summary()"
      ],
      "metadata": {
        "id": "F_cMX2v1_qIq"
      },
      "execution_count": null,
      "outputs": []
    },
    {
      "cell_type": "markdown",
      "source": [
        "If your code is correct you should see the following output:\n",
        "\n",
        "![__](https://biologicslab.co/BIO1173/images/class_02/class_02_4_image05A.png)"
      ],
      "metadata": {
        "id": "-1pWvfA5cVcz"
      }
    },
    {
      "cell_type": "markdown",
      "source": [
        "### **Exercise 4: Create New Model from Saved Model**\n",
        "\n",
        "In the cell below create a new neural network called `ap2Model` from the file `ap_model.keras` in your current director_Y. Print out a summary of your new `ap2Model`."
      ],
      "metadata": {
        "id": "PhDXUkydD64K"
      }
    },
    {
      "cell_type": "code",
      "source": [
        "# Insert your code for Exercise 4 here\n"
      ],
      "metadata": {
        "id": "igrzYQ6lECiS"
      },
      "execution_count": null,
      "outputs": []
    },
    {
      "cell_type": "markdown",
      "source": [
        "If your code is correct you should see the following output:\n",
        "\n",
        "![__](https://biologicslab.co/BIO1173/images/class_02/class_02_4_image06A.png)"
      ],
      "metadata": {
        "id": "Wq-QSomoEMuK"
      }
    },
    {
      "cell_type": "markdown",
      "source": [
        "### Example 5: Compare the Predictive Accuracy of the Old and New Models\n",
        "\n",
        "The code in the cell below computes the RMSE error and the Accuracy of our new model `or2Model` and compares these values with the original `or_model`. We are trying to address the question whether re-loaded model has the same accuracy as the original model?"
      ],
      "metadata": {
        "id": "9CuvngfiEUgB"
      }
    },
    {
      "cell_type": "code",
      "source": [
        "# Example 5: Determine new model's RMSE and Accuracy\n",
        "\n",
        "import numpy as np\n",
        "import math\n",
        "\n",
        "# Measure RMSE error.\n",
        "or2Pred = or2Model.predict(or_X)\n",
        "or2Score = np.sqrt(metrics.mean_squared_error(or2Pred,or_Y))\n",
        "print(f\"Before save score (RMSE): {orScore}\")\n",
        "print(f\"After save score (RMSE) : {or2Score}\")\n",
        "\n",
        "# Measure the accuracy\n",
        "or2Predict_classes = np.argmax(or2Pred,axis=1)\n",
        "or2Expected_classes = np.argmax(or_Y,axis=1)\n",
        "or2Correct = accuracy_score(or2Expected_classes,or2Predict_classes)\n",
        "print(f\"Before save Accuracy: {orCorrect}\")\n",
        "print(f\"After save Accuracy : {or2Correct}\")"
      ],
      "metadata": {
        "id": "7DYJ9n67dB0J"
      },
      "execution_count": null,
      "outputs": []
    },
    {
      "cell_type": "markdown",
      "source": [
        "If your code is correct you should see something similar to the following output:\n",
        "\n",
        "![__](https://biologicslab.co/BIO1173/images/class_02/class_02_4_image07A.png)\n",
        "\n",
        "As you can see, there is **_no difference_** in the accuracy of the saved model compared to the original one.\n",
        "\n",
        "### **_...Train Once...Use Anywhere!_**\n",
        "\n",
        "Big generative models like `ChatGTP` can take days or even months to train. But once they are trained and saved, they can process new data very fast."
      ],
      "metadata": {
        "id": "XHbiXkwldEUw"
      }
    },
    {
      "cell_type": "markdown",
      "source": [
        "### **Exercise 5: Compare the Predictive Accuracy of the Old and New Models**\n",
        "\n",
        "In the cell below write the code to compute the RMSE and Accuracy values for your `ap2Model` and print out these values along with the values for your original `ap_model`."
      ],
      "metadata": {
        "id": "axjJIaLgEiPg"
      }
    },
    {
      "cell_type": "code",
      "source": [
        "# Insert your code for Exercise 5 here\n"
      ],
      "metadata": {
        "id": "oUcDuK89EnKf"
      },
      "execution_count": null,
      "outputs": []
    },
    {
      "cell_type": "markdown",
      "source": [
        "If your code is correct you should see something similar to the following output:\n",
        "\n",
        "![__](https://biologicslab.co/BIO1173/images/class_02/class_02_4_image08A.png)\n",
        "\n",
        "As you can see, again, there is **_no difference_** in the accuracy of the model saved in the `keras` format compared to the original one.\n"
      ],
      "metadata": {
        "id": "_AFMQlXOEvF_"
      }
    },
    {
      "cell_type": "markdown",
      "metadata": {
        "id": "9MhC_-6ebE3l"
      },
      "source": [
        "## **Lesson Turn-in**\n",
        "\n",
        "When you have completed and run all of the code cells, use the **File --> Print.. --> Save to PDF** to generate a PDF of your Colab notebook. Save your PDF as `Class_02_4.lastname.pdf` where _lastname_ is your last name, and upload the file to Canvas."
      ]
    },
    {
      "cell_type": "markdown",
      "source": [
        "## **Lizard Tail**\n",
        "\n",
        "\n",
        "## **Stable Diffusion**\n",
        "\n",
        "![___](https://upload.wikimedia.org/wikipedia/commons/thumb/8/82/Astronaut_Riding_a_Horse_%28SD3.5%29.webp/1024px-Astronaut_Riding_a_Horse_%28SD3.5%29.webp.png)\n",
        "\n",
        ">*An image generated with Stable Diffusion 3.5 based on the text prompt*\n",
        "\n",
        "**Stable Diffusion** is a deep learning, text-to-image model released in 2022 based on diffusion techniques. The generative artificial intelligence technology is the premier product of `Stability AI` and is considered to be a part of the ongoing artificial intelligence boom.\n",
        "\n",
        "It is primarily used to generate detailed images conditioned on text descriptions, though it can also be applied to other tasks such as inpainting, outpainting, and generating image-to-image translations guided by a text prompt.[3] Its development involved researchers from the CompVis Group at Ludwig Maximilian University of Munich and Runway with a computational donation from Stability and training data from non-profit organizations.\n",
        "\n",
        "**Stable Diffusion** is a latent diffusion model, a kind of deep generative artificial neural network. Its code and model weights have been released publicly, and it can run on most consumer hardware equipped with a modest GPU with at least 4 GB VRAM. This marked a departure from previous proprietary text-to-image models such as DALL-E and Midjourney which were accessible only via cloud services.\n",
        "\n",
        "**Development**\n",
        "\n",
        "Stable Diffusion originated from a project called Latent Diffusion, developed in Germany by researchers at Ludwig Maximilian University in Munich and Heidelberg University. Four of the original 5 authors (Robin Rombach, Andreas Blattmann, Patrick Esser and Dominik Lorenz) later joined Stability AI and released subsequent versions of Stable Diffusion.\n",
        "\n",
        "The technical license for the model was released by the CompVis group at Ludwig Maximilian University of Munich. Development was led by Patrick Esser of Runway and Robin Rombach of CompVis, who were among the researchers who had earlier invented the latent diffusion model architecture used by Stable Diffusion. Stability AI also credited EleutherAI and LAION (a German nonprofit which assembled the dataset on which Stable Diffusion was trained) as supporters of the project.\n",
        "\n",
        "**Technology**\n",
        "\n",
        "The denoising process used by Stable Diffusion. The model generates images by iteratively denoising random noise until a configured number of steps have been reached, guided by the CLIP text encoder pretrained on concepts along with the attention mechanism, resulting in the desired image depicting a representation of the trained concept.\n",
        "\n",
        "**Architecture**\n",
        "\n",
        "Diffusion models, introduced in 2015, are trained with the objective of removing successive applications of Gaussian noise on training images, which can be thought of as a sequence of denoising autoencoders. The name diffusion is from the thermodynamic diffusion, since they were first developed with inspiration from thermodynamics.\n",
        "\n",
        "Models in Stable Diffusion series before SD 3 all used a variant of diffusion models, called latent diffusion model (LDM), developed in 2021 by the CompVis (Computer Vision & Learning) group at LMU Munich.\n",
        "\n",
        "Stable Diffusion consists of 3 parts: the variational autoencoder (VAE), U-Net, and an optional text encoder. The VAE encoder compresses the image from pixel space to a smaller dimensional latent space, capturing a more fundamental semantic meaning of the image. Gaussian noise is iteratively applied to the compressed latent representation during forward diffusion. The U-Net block, composed of a ResNet backbone, denoises the output from forward diffusion backwards to obtain a latent representation. Finally, the VAE decoder generates the final image by converting the representation back into pixel space.\n",
        "\n",
        "The denoising step can be flexibly conditioned on a string of text, an image, or another modality. The encoded conditioning data is exposed to denoising U-Nets via a cross-attention mechanism. For conditioning on text, the fixed, pretrained CLIP ViT-L/14 text encoder is used to transform text prompts to an embedding space. Researchers point to increased computational efficiency for training and generation as an advantage of LDMs.\n",
        "\n",
        "With 860 million parameters in the U-Net and 123 million in the text encoder, Stable Diffusion is considered relatively lightweight by 2022 standards, and unlike other diffusion models, it can run on consumer GPUs, and even CPU-only if using the OpenVINO version of Stable Diffusion.\n",
        "\n",
        "**SD XL**\n",
        "The XL version uses the same LDM architecture as previous versions, except larger: larger UNet backbone, larger cross-attention context, two text encoders instead of one, and trained on multiple aspect ratios (not just the square aspect ratio like previous versions).\n",
        "\n",
        "The SD XL Refiner, released at the same time, has the same architecture as SD XL, but it was trained for adding fine details to preexisting images via text-conditional img2img.\n",
        "\n",
        "**SD 3.0**\n",
        "\n",
        "Main article: Diffusion model § Rectified flow\n",
        "The 3.0 version completely changes the backbone. Not a UNet, but a Rectified Flow Transformer, which implements the rectified flow method with a Transformer.\n",
        "\n",
        "The Transformer architecture used for SD 3.0 has three \"tracks\", for original text encoding, transformed text encoding, and image encoding (in latent space). The transformed text encoding and image encoding are mixed during each transformer block.\n",
        "\n",
        "The architecture is named \"multimodal diffusion transformer (MMDiT), where the \"multimodal\" means that it mixes text and image encodings inside its operations. This differs from previous versions of DiT, where the text encoding affects the image encoding, but not vice versa.\n",
        "\n",
        "**Training data**\n",
        "\n",
        "Stable Diffusion was trained on pairs of images and captions taken from LAION-5B, a publicly available dataset derived from Common Crawl data scraped from the web, where 5 billion image-text pairs were classified based on language and filtered into separate datasets by resolution, a predicted likelihood of containing a watermark, and predicted \"aesthetic\" score (e.g. subjective visual quality). The dataset was created by LAION, a German non-profit which receives funding from Stability AI. The Stable Diffusion model was trained on three subsets of LAION-5B: laion2B-en, laion-high-resolution, and laion-aesthetics v2 5+. A third-party analysis of the model's training data identified that out of a smaller subset of 12 million images taken from the original wider dataset used, approximately 47% of the sample size of images came from 100 different domains, with Pinterest taking up 8.5% of the subset, followed by websites such as WordPress, Blogspot, Flickr, DeviantArt and Wikimedia Commons. An investigation by Bayerischer Rundfunk showed that LAION's datasets, hosted on Hugging Face, contain large amounts of private and sensitive data.\n",
        "\n",
        "**Training procedures**\n",
        "\n",
        "The model was initially trained on the laion2B-en and laion-high-resolution subsets, with the last few rounds of training done on LAION-Aesthetics v2 5+, a subset of 600 million captioned images which the LAION-Aesthetics Predictor V2 predicted that humans would, on average, give a score of at least 5 out of 10 when asked to rate how much they liked them. The LAION-Aesthetics v2 5+ subset also excluded low-resolution images and images which LAION-5B-WatermarkDetection identified as carrying a watermark with greater than 80% probability. Final rounds of training additionally dropped 10% of text conditioning to improve Classifier-Free Diffusion Guidance.\n",
        "\n",
        "The model was trained using 256 Nvidia A100 GPUs on Amazon Web Services for a total of 150,000 GPU-hours, at a cost of $600,000.\n",
        "\n",
        "![__](https://upload.wikimedia.org/wikipedia/commons/f/f6/Stable_Diffusion_architecture.png)\n",
        "\n",
        ">Diagram of the latent diffusion architecture used by Stable Diffusion\n",
        "\n",
        "\n",
        "**Limitations**\n",
        "\n",
        "Stable Diffusion has issues with degradation and inaccuracies in certain scenarios. Initial releases of the model were trained on a dataset that consists of 512×512 resolution images, meaning that the quality of generated images noticeably degrades when user specifications deviate from its \"expected\" 512×512 resolution; the version 2.0 update of the Stable Diffusion model later introduced the ability to natively generate images at 768×768 resolution. Another challenge is in generating human limbs due to poor data quality of limbs in the LAION database. The model is insufficiently trained to replicate human limbs and faces due to the lack of representative features in the database, and prompting the model to generate images of such type can confound the model. Stable Diffusion XL (SDXL) version 1.0, released in July 2023, introduced native 1024x1024 resolution and improved generation for limbs and text.\n",
        "\n",
        "Accessibility for individual developers can also be a problem. In order to customize the model for new use cases that are not included in the dataset, such as generating anime characters (\"waifu diffusion\"), new data and further training are required. Fine-tuned adaptations of Stable Diffusion created through additional retraining have been used for a variety of different use-cases, from medical imaging to algorithmically generated music. However, this fine-tuning process is sensitive to the quality of new data; low resolution images or different resolutions from the original data can not only fail to learn the new task but degrade the overall performance of the model. Even when the model is additionally trained on high quality images, it is difficult for individuals to run models in consumer electronics. For example, the training process for waifu-diffusion requires a minimum 30 GB of VRAM, which exceeds the usual resource provided in such consumer GPUs as Nvidia's GeForce 30 series, which has only about 12 GB.\n",
        "\n",
        "The creators of Stable Diffusion acknowledge the potential for algorithmic bias, as the model was primarily trained on images with English descriptions. As a result, generated images reinforce social biases and are from a western perspective, as the creators note that the model lacks data from other communities and cultures. The model gives more accurate results for prompts that are written in English in comparison to those written in other languages, with western or white cultures often being the default representation.\n",
        "\n",
        "**End-user fine-tuning**\n",
        "\n",
        "To address the limitations of the model's initial training, end-users may opt to implement additional training to fine-tune generation outputs to match more specific use-cases, a process also referred to as personalization. There are three methods in which user-accessible fine-tuning can be applied to a Stable Diffusion model checkpoint:\n",
        "\n",
        "An \"embedding\" can be trained from a collection of user-provided images, and allows the model to generate visually similar images whenever the name of the embedding is used within a generation prompt.[44] Embeddings are based on the \"textual inversion\" concept developed by researchers from Tel Aviv University in 2022 with support from Nvidia, where vector representations for specific tokens used by the model's text encoder are linked to new pseudo-words. Embeddings can be used to reduce biases within the original model, or mimic visual styles.\n",
        "\n",
        "A \"hypernetwork\" is a small pretrained neural network that is applied to various points within a larger neural network, and refers to the technique created by NovelAI developer Kurumuz in 2021, originally intended for text-generation transformer models. Hypernetworks steer results towards a particular direction, allowing Stable Diffusion-based models to imitate the art style of specific artists, even if the artist is not recognised by the original model; they process the image by finding key areas of importance such as hair and eyes, and then patch these areas in secondary latent space.\n",
        "DreamBooth is a deep learning generation model developed by researchers from Google Research and Boston University in 2022 which can fine-tune the model to generate precise, personalised outputs that depict a specific subject, following training via a set of images which depict the subject."
      ],
      "metadata": {
        "id": "kiYJyOq4HARA"
      }
    }
  ],
  "metadata": {
    "kernelspec": {
      "display_name": "Python 3",
      "name": "python3"
    },
    "language_info": {
      "codemirror_mode": {
        "name": "ipython",
        "version": 3
      },
      "file_extension": ".py",
      "mimetype": "text/x-python",
      "name": "python",
      "nbconvert_exporter": "python",
      "pygments_lexer": "ipython3",
      "version": "3.11.5"
    },
    "colab": {
      "provenance": [],
      "include_colab_link": true
    }
  },
  "nbformat": 4,
  "nbformat_minor": 0
}