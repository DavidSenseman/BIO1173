{
 "cells": [
  {
   "cell_type": "markdown",
   "metadata": {
    "id": "bLEEW13uCtiJ"
   },
   "source": [
    "<a href=\"https://colab.research.google.com/github/DavidSenseman/BIO1173/blob/master/Assignment_01.ipynb\" target=\"_parent\"><img src=\"https://colab.research.google.com/assets/colab-badge.svg\" alt=\"Open In Colab\"/></a>"
   ]
  },
  {
   "cell_type": "markdown",
   "metadata": {},
   "source": [
    "---------------------------\n",
    "**COPYRIGHT NOTICE:** This Jupyterlab Notebook is a Derivative work of [Jeff Heaton](https://github.com/jeffheaton) licensed under the Apache License, Version 2.0 (the \"License\"); You may not use this file except in compliance with the License. You may obtain a copy of the License at\n",
    "\n",
    "> [http://www.apache.org/licenses/LICENSE-2.0](http://www.apache.org/licenses/LICENSE-2.0)\n",
    "\n",
    "Unless required by applicable law or agreed to in writing, software distributed under the License is distributed on an \"AS IS\" BASIS, WITHOUT WARRANTIES OR CONDITIONS OF ANY KIND, either express or implied. See the License for the specific language governing permissions and limitations under the License.\n",
    "\n",
    "------------------------"
   ]
  },
  {
   "cell_type": "markdown",
   "metadata": {},
   "source": [
    "# **BIO 1173: Intro Computational Biology**"
   ]
  },
  {
   "cell_type": "markdown",
   "metadata": {
    "tags": []
   },
   "source": [
    "## **Assignment 01**"
   ]
  },
  {
   "cell_type": "markdown",
   "metadata": {
    "tags": []
   },
   "source": [
    "### **Objectives**\n",
    "\n",
    "* Analyze a new data set by applying tools of previous lessons.\n",
    "* Further develop critical thinking skills.\n",
    "\n"
   ]
  },
  {
   "cell_type": "markdown",
   "metadata": {},
   "source": [
    "### Blood Sample Dataset\n",
    "\n",
    "[Blood Sample Dataset](https://www.kaggle.com/datasets/ehababoelnaga/multiple-disease-prediction?resource=download/)\n",
    "\n",
    "**Description:**\n",
    "\n",
    "This dataset is for the prediction of human diseases based on blood sample values and a panel of clinical assesments taken from 1552 subjects. The last column, `Disease`, list five disease categories: \n",
    "\n",
    "* **Anemia:** Anemia is the condition of not having enough healthy red blood cells or hemoglobin to carry oxygen to the body's tissues. \n",
    "* **Diabetes:** Diabetes is a chronic (long-lasting) condition that affects how your body turns food into energy. With diabetes, your body doesn’t make enough insulin or can’t use it as well as it should. When there isn’t enough insulin or cells stop responding to insulin, too much blood sugar stays in your bloodstream.\n",
    "* **Healthy:** No apparent medical condistion.\n",
    "* **Thalasse:** Thalassemia is an inherited blood disorder that inhibits the production of the protein hemoglobin.  \n",
    "* **Thromboc:** Thrombocytopenia is the medical condition for low blood platelets. Normal platelet counts for adults are between 150,000 and 450,000 platelets per microliter (uL) of blood. Thrombocytopenia is a platelet count below 150,000.\n",
    "\n",
    "**Key Features of the dataset:**\n",
    "\n",
    "The following are the attributes of the Blood Sample dataset:\n",
    "\n",
    "* **Cholesterol:** This is the level of cholesterol in the blood, measured in milligrams per deciliter (mg/dL).\n",
    "* **Hemoglobin:** This is the protein in red blood cells that carries oxygen from the lungs to the rest of the body\n",
    "* **Platelets:** Platelets are blood cells that help with clotting\n",
    "* **White Blood Cells (WBC):** These are cells of the immune system that help fight infections\n",
    "* **Red Blood Cells (RBC):** These are the cells that carry oxygen from the lungs to the rest of the body\n",
    "* **Hematocrit:** This is the percentage of blood volume that is occupied by red blood cells\n",
    "* **Mean Corpuscular Volume (MCV):** This is the average volume of red blood cells\n",
    "* **Mean Corpuscular Hemoglobin (MCH):** This is the average amount of hemoglobin in a red blood cell\n",
    "* **Mean Corpuscular Hemoglobin Concentration (MCHC):** This is the average concentration of hemoglobin in a red blood cell\n",
    "* **Insulin:** This is a hormone that helps regulate blood sugar levels\n",
    "* **BMI (Body Mass Index):** This is a measure of body fat based on height and weight\n",
    "* **Systolic Blood Pressure (SBP):** This is the pressure in the arteries when the heart beats\n",
    "* **Diastolic Blood Pressure (DBP):** This is the pressure in the arteries when the heart is at rest between beats\n",
    "* **Triglycerides:** These are a type of fat found in the blood, measured in milligrams per deciliter (mg/dL)\n",
    "* **HbA1c (Glycated Hemoglobin):** This is a measure of average blood sugar levels over the past two to three months\n",
    "* **LDL (Low-Density Lipoprotein) Cholesterol:** This is the \"bad\" cholesterol that can build up in the arteries\n",
    "* **HDL (High-Density Lipoprotein) Cholesterol:** This is the \"good\" cholesterol that helps remove LDL cholesterol from the arteries\n",
    "* **ALT (Alanine Aminotransferase):** This is an enzyme found primarily in the liver\n",
    "* **AST (Aspartate Aminotransferase):** This is an enzyme found in various tissues including the liver and heart\n",
    "* **Heart Rate:** This is the number of heartbeats per minute (bpm)\n",
    "* **Creatinine:** This is a waste product produced by muscles and filtered out of the blood by the kidneys\n",
    "* **Troponin:** This is a protein released into the bloodstream when there is damage to the heart muscle\n",
    "* **C-reactive Protein (CRP):** This is a marker of inflammation in the body\n",
    "* **Disease:** This indicates whether he has a specific disease or not"
   ]
  },
  {
   "cell_type": "markdown",
   "metadata": {
    "tags": []
   },
   "source": [
    "## **Assignment Setup**\n",
    "\n",
    "Run the next cell to load the necessary Python packages for this lesson."
   ]
  },
  {
   "cell_type": "code",
   "execution_count": null,
   "metadata": {},
   "outputs": [],
   "source": [
    "# You MUST run this code cell\n",
    "\n",
    "# Import Tensorflow and Keras\n",
    "import tensorflow as tf\n",
    "import io\n",
    "from sklearn import metrics\n",
    "from sklearn.model_selection import train_test_split\n",
    "from tensorflow.keras.models import Sequential\n",
    "from tensorflow.keras.layers import Dense, Activation\n",
    "from tensorflow.keras.callbacks import EarlyStopping\n",
    "from tensorflow.keras.models import load_model\n",
    "\n",
    "# Import Numpy, Pandas and h5py\n",
    "import numpy as np\n",
    "import pandas as pd\n",
    "\n",
    "# Import Utilites\n",
    "import os\n",
    "import shutil\n",
    "path = '/'\n",
    "memory = shutil.disk_usage(path)\n",
    "dirpath = os.getcwd()\n",
    "print(\"Your current working directory is : \" + dirpath)\n",
    "print(\"Disk\", memory) \n",
    "print(\"Tensorflow version =\", (tf.__version__))\n",
    "print(\"Available GPU acceleration =\", tf.test.gpu_device_name())"
   ]
  },
  {
   "cell_type": "markdown",
   "metadata": {},
   "source": [
    "If you received an error message after running the above cell, it probably means one (or more) Python packages are not installed. Contact your instructor if you need assistance."
   ]
  },
  {
   "cell_type": "markdown",
   "metadata": {},
   "source": [
    "### Google CoLab Instructions\n",
    "\n",
    "The following code ensures that Google CoLab is running the correct version of TensorFlow."
   ]
  },
  {
   "cell_type": "code",
   "execution_count": null,
   "metadata": {
    "colab": {
     "base_uri": "https://localhost:8080/"
    },
    "id": "seXFCYH4LDUM",
    "outputId": "c05015aa-871e-4779-9265-5ad07e8bf617",
    "scrolled": true
   },
   "outputs": [],
   "source": [
    "# You must run this cell\n",
    "try:\n",
    "    from google.colab import drive\n",
    "    drive.mount('/content/drive', force_remount=True)\n",
    "    from google.colab import auth\n",
    "    auth.authenticate_user()\n",
    "    COLAB = True\n",
    "    print(\"Note: using Google CoLab\")\n",
    "    %tensorflow_version 2.x\n",
    "    import requests\n",
    "    gcloud_token = !gcloud auth print-access-token\n",
    "    gcloud_tokeninfo = requests.get('https://www.googleapis.com/oauth2/v3/tokeninfo?access_token=' + gcloud_token[0]).json()\n",
    "    print(gcloud_tokeninfo['email'])\n",
    "except:\n",
    "    print(\"Note: not using Google CoLab\")\n",
    "    COLAB = False"
   ]
  },
  {
   "cell_type": "markdown",
   "metadata": {},
   "source": [
    "## **Part I: Neural Network for Disease Classification**\n",
    "\n",
    "The goal of Part I is to build and assess the accuracy of a deep neural network that is able to predict the health status of a patient based on his/her blood sample values and the results obtained from a panel of clinical assessements. \n",
    "\n",
    "Part I has been subdivided into a series of logical steps to help guide your coding.\n"
   ]
  },
  {
   "cell_type": "markdown",
   "metadata": {},
   "source": [
    "### Part I - Step 1: Read the dataset \n",
    "\n",
    "In the cell below, write the Python code to read the Blood Sample dataset, `Blood_samples.csv`, located on the course fileserver. Create a new DataFrame called `bsDF`. \n",
    "\n",
    "You can use this code snippet to read the datafile:\n",
    "\n",
    "~~~text\n",
    "bsDF = pd.read_csv(\n",
    "    \"https://biologicslab.co/BIO1173/data/Blood_samples.csv\", \n",
    "    na_values=['NA', '?'])\n",
    "~~~\n",
    "    \n",
    "Set the display options to 8 columns and 8 rows and display the contents of `bsDF`."
   ]
  },
  {
   "cell_type": "code",
   "execution_count": null,
   "metadata": {},
   "outputs": [],
   "source": [
    "# Insert your code for Part 1 - Step 1 here \n",
    "\n",
    "\n"
   ]
  },
  {
   "cell_type": "markdown",
   "metadata": {},
   "source": [
    "If your code is correct you should see the following output:\n",
    "\n",
    "![___](https://biologicslab.co/BIO1173/images/Assignment_01_Step1.png)"
   ]
  },
  {
   "cell_type": "code",
   "execution_count": null,
   "metadata": {
    "scrolled": true
   },
   "outputs": [],
   "source": [
    "# Insert your code for Part 1-Step 2 here \n",
    "\n"
   ]
  },
  {
   "cell_type": "markdown",
   "metadata": {},
   "source": [
    "If your code is correct, you should see all 25 column names."
   ]
  },
  {
   "cell_type": "markdown",
   "metadata": {},
   "source": [
    "### Part I - Step 2: Print out a statistical summary \n",
    "\n",
    "In the cell below, use the Pandas `pd.describe()` to print out a statistical summary of the Blood Sample dataset."
   ]
  },
  {
   "cell_type": "code",
   "execution_count": null,
   "metadata": {},
   "outputs": [],
   "source": [
    "# Insert your code for Part I - Step 2 here \n",
    "\n"
   ]
  },
  {
   "cell_type": "markdown",
   "metadata": {},
   "source": [
    "### Part I - Step 3: Suffle and Reindex the DataFrame\n",
    "\n",
    "In the cell below, write the code to suffle and reindex the DataFrame `bsDF`. Set the random seed to `420` before suffling. Set the display options to 8 rows and 8 columns and print out the shuffled and reindexed DataFrame. \n",
    "\n",
    "(HINT: This topic was covered in Class_02_3, Example 2)"
   ]
  },
  {
   "cell_type": "code",
   "execution_count": null,
   "metadata": {},
   "outputs": [],
   "source": [
    "# Insert your code for Part I - Step 3 here \n",
    "\n"
   ]
  },
  {
   "cell_type": "markdown",
   "metadata": {},
   "source": [
    "If your code is correct, you should see the same DataFrame table shown in Step 1 above, but with the index values on the left side in a random order."
   ]
  },
  {
   "cell_type": "markdown",
   "metadata": {},
   "source": [
    "### Part I - Step 4: Create independent and dependent variables\n",
    "\n",
    "In the cell below, write the code to create an independent variable called `bsX` and a dependent variable called `bsY`. \n",
    "\n",
    "The independent variable, `bsX` should contain the clinical data from **all** of the columns in the DataFrame `bsDF`, _except_ the very last column, `Disease`. In other words, there should be 24 column names in the definition of `bsX`. \n",
    "\n",
    "Here is a simple way to generate the variable `bsX`. First, create a list called `bxX_columns` using the following code snippet:\n",
    "\n",
    "`bsX_columns= bsDF.columns.drop('Disease') `\n",
    "\n",
    "If you printed out the variable `bsX_columns` you would see that it contained all of the column names in the DataFrame `bsDF`, except the column name `Disease`.\n",
    "\n",
    "The next step is to use `bsX_columns` to generate our Numpy array, `bsX` using the following code snippet:\n",
    "\n",
    "`bpX = bsDF[bsX_columns].values`\n",
    "\n",
    "The last column, `Disease`, is the dependent or response variable for your neural network. Use this column to create `bsY`. Since this column contains string variables (i.e. the names of diseases) you will have to `One-Hot Encode` it. As part of creating `bsY`, create a variable called `diseaseLst` from the `dummies.columns`. Print out the values in `diseaseLst` using the command `print(*diseaseLst)`. By adding an asterisk `*` before the list variable, only the names in the list are printed out."
   ]
  },
  {
   "cell_type": "code",
   "execution_count": null,
   "metadata": {},
   "outputs": [],
   "source": [
    "# Insert your code for Part I - Step 4 here \n",
    "\n"
   ]
  },
  {
   "cell_type": "markdown",
   "metadata": {},
   "source": [
    "If your code is correct you should see the following output:"
   ]
  },
  {
   "cell_type": "raw",
   "metadata": {},
   "source": [
    "Anemia Diabetes Healthy Thalasse Thromboc"
   ]
  },
  {
   "cell_type": "markdown",
   "metadata": {},
   "source": [
    "### Part I - Step 5: Split the dataset and build the neural network\n",
    "\n",
    "In the cell below, start by spliting the independent variable, `bsX` and the dependent variable, `bsY`, into train and test datasets with 80% of the data going into the training data and the remaining 20% going into the test (validation) data. Set the variable `random_state` to the value `420`.\n",
    "\n",
    "Then build a _classification_ neural network called `bsModel` with **3 hidden layers**. The 1st hidden layer should have `80` neurons, the 2nd layer `40` neurons and the 3rd layer `20` neurons. Compile your neural network and print out a summary of `bsModel`."
   ]
  },
  {
   "cell_type": "code",
   "execution_count": null,
   "metadata": {
    "scrolled": true
   },
   "outputs": [],
   "source": [
    "# Insert your code for Part I - Step 5 here \n",
    "\n",
    "\n"
   ]
  },
  {
   "cell_type": "markdown",
   "metadata": {},
   "source": [
    "If your code is correct, you should see the following output:\n",
    "\n",
    "~~~text\n",
    "Model: \"sequential\"\n",
    "_________________________________________________________________\n",
    " Layer (type)                Output Shape              Param #   \n",
    "=================================================================\n",
    " dense (Dense)               (None, 80)                2000      \n",
    "                                                                 \n",
    " dense_1 (Dense)             (None, 40)                3240      \n",
    "                                                                 \n",
    " dense_2 (Dense)             (None, 20)                820       \n",
    "                                                                 \n",
    " dense_3 (Dense)             (None, 5)                 105       \n",
    "                                                                 \n",
    "=================================================================\n",
    "Total params: 6,165\n",
    "Trainable params: 6,165\n",
    "Non-trainable params: 0\n",
    "\n",
    "~~~"
   ]
  },
  {
   "cell_type": "markdown",
   "metadata": {},
   "source": [
    "### Part I - Step 6: Create Early Stopping monitor and fit the model\n",
    "\n",
    "In the cell below, use the Keras function `EarlyStopping()` to create a monitor that will stop the training/fitting of your model, `bsModel`, after waiting **_50_ epochs** for an improvement in the `val_loss` value. Set the `min_delta` to `le-3` and have the monitor restore the best weights after stopping. \n",
    "\n",
    "Then train/fit `bsModel` for 1000 epochs using the monitor for early stopping. Set the `verbose` variable to a value of `2`."
   ]
  },
  {
   "cell_type": "code",
   "execution_count": null,
   "metadata": {},
   "outputs": [],
   "source": [
    "# Insert your code for Part I - Step 6 here \n",
    "\n"
   ]
  },
  {
   "cell_type": "markdown",
   "metadata": {},
   "source": [
    "If your code is correct, you should expect the training to stop fairly soon due to **early stopping**."
   ]
  },
  {
   "cell_type": "markdown",
   "metadata": {},
   "source": [
    "### Part I - Step 7: Compute the accuracy score\n",
    "\n",
    "In the cell below, write the code to predict the `accuracy_score` for your classification model, `bsModel`, and print out its value."
   ]
  },
  {
   "cell_type": "code",
   "execution_count": null,
   "metadata": {
    "scrolled": true
   },
   "outputs": [],
   "source": [
    "# Insert your code for Part 1 - Step 7 here \n",
    "\n"
   ]
  },
  {
   "cell_type": "markdown",
   "metadata": {},
   "source": [
    "If your code is correct, you should be a very high value for Accuracy."
   ]
  },
  {
   "cell_type": "markdown",
   "metadata": {},
   "source": [
    "### Part I - Step 8: _Ad hoc_ prediction\n",
    "\n",
    "To assess your neural network's utility as a diagnostic tool in a clinical environment, use `bsModel` to make two _ad hoc_ predictions. \n",
    "\n",
    "Start by running the next two code cells to create clinical values for two patients `Subject0` and `Subject3`. "
   ]
  },
  {
   "cell_type": "code",
   "execution_count": null,
   "metadata": {},
   "outputs": [],
   "source": [
    "# Run this cell to create data for Subject0\n",
    "\n",
    "Subject0 = np.array( [[0.1967969 , 0.16542872, \n",
    "        0.86688889, 0.1897373 , 0.84452864,\n",
    "        0.26358894, 0.3063053 , 0.15061818, \n",
    "        0.91539114, 0.96827259, 0.42538595, \n",
    "        0.74910886, 0.61077082, 0.70906404, \n",
    "        0.63093562, 0.20622291, 0.79804346, \n",
    "        0.22110572, 0.76061147, 0.5913137,\n",
    "        0.54413641, 0.49432947, 0.01228667, \n",
    "        0.63308778]], dtype=float)\n",
    "Sub0Diag = \"Thalasse\" "
   ]
  },
  {
   "cell_type": "code",
   "execution_count": null,
   "metadata": {},
   "outputs": [],
   "source": [
    "# Run this cell to create data for Subject3\n",
    "\n",
    "Subject3 = np.array( [[0.1071651 , 0.60334057, \n",
    "        0.79121548, 0.17883956, 0.71867373,\n",
    "        0.82576883, 0.75365724, 0.39666911, \n",
    "        0.76266705, 0.73267095, 0.23287651, \n",
    "        0.11933781, 0.1425914 , 0.47437821,\n",
    "        0.73136867, 0.4895137 , 0.10267911, \n",
    "        0.86103504, 0.60906836, 0.67741541,\n",
    "        0.97919154, 0.55496046, 0.47242801, \n",
    "        0.62168682]], dtype=float)\n",
    "\n",
    "Sub3Diag = \"Thromboc\""
   ]
  },
  {
   "cell_type": "markdown",
   "metadata": {},
   "source": [
    "### Example code for making _ad hoc_ prediction\n",
    "\n",
    "The code in the cell below illustrates how to use `bsModel` to predict the disease status of `Subject0`."
   ]
  },
  {
   "cell_type": "code",
   "execution_count": null,
   "metadata": {
    "colab": {
     "base_uri": "https://localhost:8080/"
    },
    "id": "FZUSWVGnCtiT",
    "outputId": "d98e7cc3-7e10-44f0-a5cb-b858f3c4c850"
   },
   "outputs": [],
   "source": [
    "# Example for making an ad hoc prediction\n",
    "\n",
    "# Use the neural network to predict the disease\n",
    "sub0Pred = bsModel.predict(Subject0)\n",
    "\n",
    "# Print out the results\n",
    "print(*diseaseLst)\n",
    "print(*sub0Pred)\n",
    "sub0Pred = np.argmax(sub0Pred)\n",
    "print(f\"Model predicts that Subject0 is mostly likely suffering from:{diseaseLst[sub0Pred]}\")\n",
    "print(f\"Subject0 has been diagnosed with:{Sub0Diag} \")"
   ]
  },
  {
   "cell_type": "markdown",
   "metadata": {},
   "source": [
    "If your code is correct you should see something _similar_ to the following output:"
   ]
  },
  {
   "cell_type": "raw",
   "metadata": {},
   "source": [
    "1/1 [==============================] - 0s 26ms/step\n",
    "Anemia Diabetes Healthy Thalasse Thromboc\n",
    "[2.3243643e-09 4.4336057e-06 5.6631811e-06 9.9998724e-01 2.6526450e-06]\n",
    "Model predicts that Subject0 is mostly likely suffering from:Thalasse\n",
    "Subject0 has been diagnosed with:Thalasse "
   ]
  },
  {
   "cell_type": "markdown",
   "metadata": {},
   "source": [
    "### Part I - Step 8: _Ad hoc_ prediction\n",
    "\n",
    "Using the example above as a template, use your neural network model to predict the disease status of `Subject3`. "
   ]
  },
  {
   "cell_type": "code",
   "execution_count": null,
   "metadata": {
    "colab": {
     "base_uri": "https://localhost:8080/"
    },
    "id": "FZUSWVGnCtiT",
    "outputId": "d98e7cc3-7e10-44f0-a5cb-b858f3c4c850",
    "scrolled": true
   },
   "outputs": [],
   "source": [
    "# Insert your code for Part I - Step 8 here\n",
    "\n"
   ]
  },
  {
   "cell_type": "markdown",
   "metadata": {},
   "source": [
    "If your code is correct, your Subject3 should be suffering from `Thromboc`. "
   ]
  },
  {
   "cell_type": "markdown",
   "metadata": {},
   "source": [
    "## Part II: Neural Network to Predict C-reactive Protein Levels\n",
    "\n",
    "The goal of Part 2 is to build a neural network that can predict the levels of C-reactive protein. Unlike the neural network constructed in Part 1, the job of this  neural neural network is **_regression_** instead of classification. Before we start, here is some information about C-reactive protein and why it is of clinical significance.\n",
    "\n",
    "[C-Reactive Protein (CRP) Test](https://medlineplus.gov/lab-tests/c-reactive-protein-crp-test/#:~:text=A%20c%2Dreactive%20protein%20test,have%20inflammation%20in%20your%20body)\n",
    "\n",
    "**_What is a c-reactive (CRP) protein test?_**\n",
    "\n",
    "A c-reactive protein test measures the level of c-reactive protein (CRP) in a sample of your blood. CRP is a protein that your liver makes. Normally, you have low levels of c-reactive protein in your blood. Your liver releases more CRP into your bloodstream if you have inflammation in your body. High levels of CRP may mean you have a serious health condition that causes inflammation. CRP test can show whether you have inflammation in your body and how much. But the test can't show what's causing the inflammation or which part of your body is inflamed.\n",
    "\n",
    "A CRP test may be used to help find or monitor inflammation in acute or chronic conditions, including:\n",
    "\n",
    "* **Infections:** from bacteria or viruses\n",
    "* **Inflammatory bowel disease:** disorders of the intestines that include Crohn's disease and ulcerative colitis\n",
    "* **Autoimmune disorders:** such as lupus, rheumatoid arthritis, and vasculitis\n",
    "* **Lung diseases:** such as asthma"
   ]
  },
  {
   "cell_type": "markdown",
   "metadata": {},
   "source": [
    "### Part II - Step 1: Re-Read the Blood Sample dataset\n",
    "\n",
    "In order to separate the data/code between Part I and Part II, re-read the Blood Sample dataset from the course web server and store these values in a new DataFrame called `bs2DF`. \n",
    "\n",
    "Use the DataFrame`bs2DF` to create a new variable called `bsGrps` that contains the number of patients in the column `Disease` grouped by their health status. Print out `bsGrps`. \n",
    "\n",
    "(HINT: This topic was covered in Class_02_3, Example 4)"
   ]
  },
  {
   "cell_type": "code",
   "execution_count": null,
   "metadata": {},
   "outputs": [],
   "source": [
    "# Insert your code for Part II - Step 1 here\n",
    "\n"
   ]
  },
  {
   "cell_type": "markdown",
   "metadata": {},
   "source": [
    "If your code is correct you should see the following output:"
   ]
  },
  {
   "cell_type": "raw",
   "metadata": {},
   "source": [
    "Disease\n",
    "Anemia      623\n",
    "Diabetes    540\n",
    "Healthy     556\n",
    "Thalasse    509\n",
    "Thromboc    123\n",
    "Name: Disease, dtype: int64"
   ]
  },
  {
   "cell_type": "markdown",
   "metadata": {},
   "source": [
    "### Part II - Step 2: Create disease list\n",
    "\n",
    "In the cell below, create a variable called `diseaseLst` that contains a list of the category values in the column `Disease` in the DataFrame `bs2DF`. \n",
    "\n",
    "The trick here is to use the `.unique()` method so that list only has one value from each category. Print out the number of categories on one line, and the names of the categories on the next line. \n",
    "\n",
    "(HINT: Look at Class_02_2 Example 3--Step 2 for reference)\n"
   ]
  },
  {
   "cell_type": "code",
   "execution_count": null,
   "metadata": {},
   "outputs": [],
   "source": [
    "# Insert your code for Part 2 -Step 1 here\n",
    "\n"
   ]
  },
  {
   "cell_type": "markdown",
   "metadata": {},
   "source": [
    "If your code is correct, you should see the following output:"
   ]
  },
  {
   "cell_type": "raw",
   "metadata": {},
   "source": [
    "Number of Disease categories: 5\n",
    "diseaseLst: ['Healthy', 'Anemia', 'Diabetes', 'Thalasse', 'Thromboc']"
   ]
  },
  {
   "cell_type": "markdown",
   "metadata": {},
   "source": [
    "### Part II - Step 3: Map disease names to integers\n",
    "\n",
    "In order to use the string data in column `Disease` as an independent variable, you will need to map these 5 disease names to the integer values, `0` through `4`. \n",
    "\n",
    "Set the display to 8 rows and 8 columns are display DataFrame `bs2DF` after mapping.\n",
    "\n",
    "(HINT: See Class_01_9, Example 8)."
   ]
  },
  {
   "cell_type": "code",
   "execution_count": null,
   "metadata": {},
   "outputs": [],
   "source": [
    "# Insert your code for Part II - Step 3 here\n",
    "\n"
   ]
  },
  {
   "cell_type": "markdown",
   "metadata": {},
   "source": [
    "If your code is correct you should see the following output:\n",
    "\n",
    "![___](https://biologicslab.co/BIO1173/images/Assignment_01_Part2Step3.png)"
   ]
  },
  {
   "cell_type": "markdown",
   "metadata": {},
   "source": [
    "### Part II - Step 4: Suffle and Reindex the DataFrame\n",
    "\n",
    "In the cell below, write the code to suffle and reindex the DataFrame `bs2DF`. Set the random seed to `420` before suffling. Set the display options to 8 rows and 8 columns and print out the shuffled and reindexed DataFrame. "
   ]
  },
  {
   "cell_type": "code",
   "execution_count": null,
   "metadata": {
    "scrolled": true
   },
   "outputs": [],
   "source": [
    "# Insert your code for Part II - Step 4 here \n",
    "\n"
   ]
  },
  {
   "cell_type": "markdown",
   "metadata": {},
   "source": [
    "If your code is correct, you should see the same DataFrame table shown in Part II Step 3 above, but with the index values on the left side in a random order."
   ]
  },
  {
   "cell_type": "markdown",
   "metadata": {},
   "source": [
    "### Part II - Step 5: Create independent and dependent variables\n",
    "\n",
    "In the cell below, create the independent variable, `bs2X`, that contains the values from in **_all of the columns_** in the DataFrame, `bs2DF`, **_except_** the column `C-reactive Protein`. In other words, make sure to include the column `Disease` in `bs2X`, but **not** the column `C-reactive Protein`.\n",
    "\n",
    "Since you are building a **_regression_** neural network to predict the value of `C-reactive protein`, use the values in this column as your dependent variable, `bs2Y'.\n",
    "\n",
    "Split the independent variable, `bs2X` and the dependent variable, `bs2Y`, into train and test datasets with 80% of the data going into the training data and the remaining 20% going into the test (validation) data. Set the variable random_state to the value 420.\n",
    "\n",
    "Then build a **_regression_** neural network called `bs2Model` with 3 hidden layers. The 1st hidden layer should have 80 neurons, the 2nd layer 40 neurons and the 3rd layer 20 neurons. Compile your neural network and print out a summary of `bs2Model`."
   ]
  },
  {
   "cell_type": "code",
   "execution_count": null,
   "metadata": {
    "scrolled": true
   },
   "outputs": [],
   "source": [
    "# Insert your code for Part II - Step 5 here \n",
    "\n"
   ]
  },
  {
   "cell_type": "markdown",
   "metadata": {},
   "source": [
    "If your code is correct, the summary of model `bs2Model` should have the following:\n",
    "\n",
    "~~~text\n",
    "Model: \"sequential_1\"\n",
    "_________________________________________________________________\n",
    " Layer (type)                Output Shape              Param #   \n",
    "=================================================================\n",
    " dense_4 (Dense)             (None, 80)                2000      \n",
    "                                                                 \n",
    " dense_5 (Dense)             (None, 40)                3240      \n",
    "                                                                 \n",
    " dense_6 (Dense)             (None, 20)                820       \n",
    "                                                                 \n",
    " dense_7 (Dense)             (None, 1)                 21        \n",
    "                                                                 \n",
    "=================================================================\n",
    "Total params: 6,081\n",
    "Trainable params: 6,081\n",
    "Non-trainable params: 0\n",
    "~~~"
   ]
  },
  {
   "cell_type": "markdown",
   "metadata": {},
   "source": [
    "### Part II - Step 6: Create Early Stopping monitor and fit the model\n",
    "\n",
    "In the cell below, use the Keras function `EarlyStopping()` to create a monitor called `bs2Monitor` that will stop the training/fitting of your model, `bs2Model`, after waiting **_50_ epochs** for an improvement in the `val_loss` value. Set the `min_delta` to `le-3` and have the monitor restore the best weights after stopping. \n",
    "\n",
    "Then train/fit `bs2Model` for 1000 epochs using the monitor for early stopping. Set the `verbose` variable to a value of `2`."
   ]
  },
  {
   "cell_type": "code",
   "execution_count": null,
   "metadata": {
    "scrolled": true
   },
   "outputs": [],
   "source": [
    "# Insert your code for Part II - Step 6 here \n",
    "\n"
   ]
  },
  {
   "cell_type": "markdown",
   "metadata": {},
   "source": [
    "If your code is correct, training/fitting should have stopped well before 200 epochs. "
   ]
  },
  {
   "cell_type": "markdown",
   "metadata": {},
   "source": [
    "### Part II - Step 7: Compute the Root Mean Square Error (RMSE)\n",
    "\n",
    "When working with neural networks that perform a regression analysis, it is customary to use the Root Mean Square Error (RMSE) as a measurement of predictive accuracy. In the cell below write the code to compute the RMSE for your `bs2Model` neural network and then print out the result."
   ]
  },
  {
   "cell_type": "code",
   "execution_count": null,
   "metadata": {},
   "outputs": [],
   "source": [
    "# Insert your code for Part II - Step 7 here \n",
    "\n"
   ]
  },
  {
   "cell_type": "markdown",
   "metadata": {},
   "source": [
    "If your code is correct you should see something _similar_ to the following output:"
   ]
  },
  {
   "cell_type": "raw",
   "metadata": {},
   "source": [
    "15/15 [==============================] - 0s 3ms/step\n",
    "Final score (RMSE): 0.015304747288936498"
   ]
  },
  {
   "cell_type": "markdown",
   "metadata": {},
   "source": [
    "### Part II - Step 8: _Ad hoc_ prediction\n",
    "\n",
    "To assess your neural network's utility as a diagnostic tool in a clinical environment, use `bs2Model` to make two _ad hoc_ predictions. \n",
    "\n",
    "Start by running the next two code cells to create clinical values for two patients `Subject163` and `Subject205`. "
   ]
  },
  {
   "cell_type": "code",
   "execution_count": null,
   "metadata": {},
   "outputs": [],
   "source": [
    "# Run this cell to create Subject163\n",
    "\n",
    "Subject163 = np.array( [[0.14152901, 0.57785393, \n",
    "    0.09730975, 0.12706108, 0.22775076,\n",
    "    0.63645922, 0.40086091, 0.61307206, \n",
    "    0.02086084, 0.85518951, 0.44480601, \n",
    "    0.55396231, 0.49913998, 0.5690086 , \n",
    "    0.89760374, 0.459586  , 0.48598845, \n",
    "    0.12536889, 0.77141595, 0.17089377,\n",
    "    0.35264676, 0.92592426, 0.69949006, 2]], dtype=float)\n",
    "Sub163C = \"0.2939618585350387\""
   ]
  },
  {
   "cell_type": "code",
   "execution_count": null,
   "metadata": {},
   "outputs": [],
   "source": [
    "# Run this cell to create Subject205\n",
    "\n",
    "Subject205 = np.array([[0.58227775, 0.11463251, \n",
    "    0.84626618, 0.736968  , 0.48740453,\n",
    "    0.90404592, 0.39454734, 0.06592621, \n",
    "    0.68745776, 0.45989471, 0.07954346, \n",
    "    0.78002702, 0.54174906, 0.06648775, \n",
    "    0.15177372, 0.53362722, 0.71344132, \n",
    "    0.42099619, 0.21107792, 0.61167368,\n",
    "    0.92816086, 0.14738511, 0.75177812, 0.]], dtype=float)\n",
    "\n",
    "Sub205C = \"0.709262\""
   ]
  },
  {
   "cell_type": "markdown",
   "metadata": {},
   "source": [
    "### Example code for making an _ad hoc_ prediction\n",
    "\n",
    "The code in the cell below illustrates how to use `bs2Model` to predict the C-reactive protein level of `Subject163`."
   ]
  },
  {
   "cell_type": "code",
   "execution_count": null,
   "metadata": {
    "colab": {
     "base_uri": "https://localhost:8080/"
    },
    "id": "FZUSWVGnCtiT",
    "outputId": "d98e7cc3-7e10-44f0-a5cb-b858f3c4c850"
   },
   "outputs": [],
   "source": [
    "# Example for making an ad hoc prediction\n",
    "\n",
    "# Make the prediction\n",
    "Sub163_Pred = bs2Model.predict(Subject163)\n",
    "\n",
    "# Print out the results\n",
    "print(f\"Model predicts that the C-reactive protein of Subject163 is: {Sub163_Pred}\")\n",
    "print(f\"The actual C-reactive protein of Subject163 was: {Sub163C}\")"
   ]
  },
  {
   "cell_type": "markdown",
   "metadata": {},
   "source": [
    "If your code is correct you should see similiar to the following output:"
   ]
  },
  {
   "cell_type": "raw",
   "metadata": {},
   "source": [
    "1/1 [==============================] - 0s 25ms/step\n",
    "Model predicts that the C-reactive protein of Subject163 is: [[0.2381665]]\n",
    "The actual C-reactive protein of Subject163 was: 0.2939618585350387"
   ]
  },
  {
   "cell_type": "markdown",
   "metadata": {},
   "source": [
    "### Part II - Step 8: _Ad hoc_ prediction\n",
    "\n",
    "Using the example above as a template, use your neural network model to predict the C-reactive Protein level of `Subject205`. "
   ]
  },
  {
   "cell_type": "code",
   "execution_count": null,
   "metadata": {
    "colab": {
     "base_uri": "https://localhost:8080/"
    },
    "id": "FZUSWVGnCtiT",
    "outputId": "d98e7cc3-7e10-44f0-a5cb-b858f3c4c850",
    "scrolled": true
   },
   "outputs": [],
   "source": [
    "# Insert your code for Part II - Step 8 here \n",
    "\n"
   ]
  },
  {
   "cell_type": "markdown",
   "metadata": {},
   "source": [
    "If your code is correct, the C-reactive protein of Subject205 should be around `0.7`."
   ]
  },
  {
   "cell_type": "markdown",
   "metadata": {},
   "source": [
    "## **Assignment Turn-in**\n",
    "\n",
    "When you have completed all of the code cells, and run them in sequential order (the last code cell should be number 25), use the **File --> Print.. --> Save to PDF** to generate a PDF of your JupyterLab notebook. Save your PDF as `Assignment_02.lastname.pdf` where _lastname_ is your last name, and upload the file to Canvas."
   ]
  }
 ],
 "metadata": {
  "kernelspec": {
   "display_name": "Python 3.9 (tensorflow)",
   "language": "python",
   "name": "tf-sum24"
  },
  "language_info": {
   "codemirror_mode": {
    "name": "ipython",
    "version": 3
   },
   "file_extension": ".py",
   "mimetype": "text/x-python",
   "name": "python",
   "nbconvert_exporter": "python",
   "pygments_lexer": "ipython3",
   "version": "3.9.19"
  }
 },
 "nbformat": 4,
 "nbformat_minor": 4
}
