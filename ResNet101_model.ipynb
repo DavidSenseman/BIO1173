{
  "cells": [
    {
      "cell_type": "markdown",
      "metadata": {
        "id": "view-in-github",
        "colab_type": "text"
      },
      "source": [
        "<a href=\"https://colab.research.google.com/github/DavidSenseman/BIO1173/blob/main/ResNet101_model.ipynb\" target=\"_parent\"><img src=\"https://colab.research.google.com/assets/colab-badge.svg\" alt=\"Open In Colab\"/></a>"
      ]
    },
    {
      "cell_type": "markdown",
      "metadata": {
        "id": "ZYZVwSpdbE3Y"
      },
      "source": [
        "---------------------------\n",
        "**COPYRIGHT NOTICE:** This Jupyterlab Notebook is a Derivative work of [Jeff Heaton](https://github.com/jeffheaton) licensed under the Apache License, Version 2.0 (the \"License\"); You may not use this file except in compliance with the License. You may obtain a copy of the License at\n",
        "\n",
        "> [http://www.apache.org/licenses/LICENSE-2.0](http://www.apache.org/licenses/LICENSE-2.0)\n",
        "\n",
        "Unless required by applicable law or agreed to in writing, software distributed under the License is distributed on an \"AS IS\" BASIS, WITHOUT WARRANTIES OR CONDITIONS OF ANY KIND, either express or implied. See the License for the specific language governing permissions and limitations under the License.\n",
        "\n",
        "------------------------"
      ]
    },
    {
      "cell_type": "markdown",
      "metadata": {
        "id": "ExN-OzpYbE3Y"
      },
      "source": [
        "# **BIO 1173: Intro Computational Biology**"
      ]
    },
    {
      "cell_type": "markdown",
      "metadata": {
        "id": "vt4imk1kbE3Y"
      },
      "source": [
        "##### **Module 3: Convolutional Neural Networks (CNN's)**\n",
        "\n",
        "* Instructor: [David Senseman](mailto:David.Senseman@utsa.edu), [Department of Biology, Health and the Environment](https://sciences.utsa.edu/bhe/), [UTSA](https://www.utsa.edu/)\n",
        "\n",
        "### Module 3 Material\n",
        "\n",
        "* Part 3.1: Using Convolutional Neural Networks\n",
        "* **Part 3.2: Using Pre-Trained Neural Networks with Keras**\n",
        "* Part 3.3: Facial Recognition and Analysis\n",
        "* Part 3.4: Introduction to GAN's for Image and Data Generation"
      ]
    },
    {
      "cell_type": "markdown",
      "source": [
        "#### **Change your Runtime Now!**\n",
        "\n",
        "For this lesson you must have a GPU hardware accelerator (e.g. `A100`)."
      ],
      "metadata": {
        "id": "Ult76BB_wSzg"
      }
    },
    {
      "cell_type": "markdown",
      "metadata": {
        "id": "V_-lPkxLbE3Z"
      },
      "source": [
        "## Google CoLab Instructions\n",
        "\n",
        "You MUST run the following code cell to get credit for this class lesson. By running this code cell, you will map your GDrive to /content/drive and print out your Google GMAIL address. Your Instructor will use your GMAIL address to verify the author of this class lesson."
      ]
    },
    {
      "cell_type": "code",
      "execution_count": 1,
      "metadata": {
        "id": "seXFCYH4LDUM",
        "scrolled": true,
        "colab": {
          "base_uri": "https://localhost:8080/"
        },
        "outputId": "7c828282-3170-4fac-e428-12e3be854710"
      },
      "outputs": [
        {
          "output_type": "stream",
          "name": "stdout",
          "text": [
            "Mounted at /content/drive\n",
            "Note: Using Google CoLab\n",
            "david.senseman@gmail.com\n"
          ]
        }
      ],
      "source": [
        "# You must run this cell first\n",
        "try:\n",
        "    from google.colab import drive\n",
        "    drive.mount('/content/drive', force_remount=True)\n",
        "    from google.colab import auth\n",
        "    auth.authenticate_user()\n",
        "    Colab = True\n",
        "    print(\"Note: Using Google CoLab\")\n",
        "    import requests\n",
        "    gcloud_token = !gcloud auth print-access-token\n",
        "    gcloud_tokeninfo = requests.get('https://www.googleapis.com/oauth2/v3/tokeninfo?access_token=' + gcloud_token[0]).json()\n",
        "    print(gcloud_tokeninfo['email'])\n",
        "except:\n",
        "    print(\"**WARNING**: Your GMAIL address was **not** printed in the output below.\")\n",
        "    print(\"**WARNING**: You will NOT receive credit for this lesson.\")\n",
        "    Colab = False"
      ]
    },
    {
      "cell_type": "markdown",
      "source": [
        "### Create Custom Function\n",
        "\n",
        "The cell below creates a custom function called `hms_string()`. This function is needed to record the time required to train your neural network model.\n",
        "\n",
        "If you fail to run this cell now, you will receive one (or more) error message(s) later in this lesson."
      ],
      "metadata": {
        "id": "Mu5xJAWl_9vZ"
      }
    },
    {
      "cell_type": "code",
      "source": [
        "# Create custom function\n",
        "\n",
        "# ------------------------------------------------------------------------\n",
        "# 0️⃣  Create hms_string()\n",
        "# ------------------------------------------------------------------------\n",
        "\n",
        "# Simple function to print out elasped time\n",
        "def hms_string(sec_elapsed):\n",
        "    h = int(sec_elapsed / (60 * 60))\n",
        "    m = int((sec_elapsed % (60 * 60)) / 60)\n",
        "    s = sec_elapsed % 60\n",
        "    return \"{}:{:>02}:{:>05.2f}\".format(h, m, s)"
      ],
      "metadata": {
        "id": "STtFj1QKTVcL"
      },
      "execution_count": 2,
      "outputs": []
    },
    {
      "cell_type": "markdown",
      "source": [
        "### Download`ResNet101`"
      ],
      "metadata": {
        "id": "-NKUT1cv4rTs"
      }
    },
    {
      "cell_type": "code",
      "source": [
        "# Download ResNet101\n",
        "\n",
        "import tensorflow.keras\n",
        "from tensorflow.keras.applications import ResNet101\n",
        "\n",
        "ResNet101_model_512 = ResNet101(weights='imagenet',include_top=True)"
      ],
      "metadata": {
        "id": "z0LTPBQv4rTs",
        "colab": {
          "base_uri": "https://localhost:8080/"
        },
        "outputId": "01211637-364d-447f-b74c-4623cd133b74"
      },
      "execution_count": 10,
      "outputs": [
        {
          "output_type": "stream",
          "name": "stdout",
          "text": [
            "Downloading data from https://storage.googleapis.com/tensorflow/keras-applications/resnet/resnet101_weights_tf_dim_ordering_tf_kernels.h5\n",
            "\u001b[1m179648224/179648224\u001b[0m \u001b[32m━━━━━━━━━━━━━━━━━━━━\u001b[0m\u001b[37m\u001b[0m \u001b[1m5s\u001b[0m 0us/step\n"
          ]
        }
      ]
    },
    {
      "cell_type": "code",
      "source": [
        "# Install Keras package\n",
        "\n",
        "!pip install keras_preprocessing"
      ],
      "metadata": {
        "id": "zDfZJ5064-JI",
        "colab": {
          "base_uri": "https://localhost:8080/"
        },
        "outputId": "dd640a82-96f2-4e64-b554-59ce46fcc79c"
      },
      "execution_count": 3,
      "outputs": [
        {
          "output_type": "stream",
          "name": "stdout",
          "text": [
            "Collecting keras_preprocessing\n",
            "  Downloading Keras_Preprocessing-1.1.2-py2.py3-none-any.whl.metadata (1.9 kB)\n",
            "Requirement already satisfied: numpy>=1.9.1 in /usr/local/lib/python3.12/dist-packages (from keras_preprocessing) (2.0.2)\n",
            "Requirement already satisfied: six>=1.9.0 in /usr/local/lib/python3.12/dist-packages (from keras_preprocessing) (1.17.0)\n",
            "Downloading Keras_Preprocessing-1.1.2-py2.py3-none-any.whl (42 kB)\n",
            "\u001b[?25l   \u001b[90m━━━━━━━━━━━━━━━━━━━━━━━━━━━━━━━━━━━━━━━━\u001b[0m \u001b[32m0.0/42.6 kB\u001b[0m \u001b[31m?\u001b[0m eta \u001b[36m-:--:--\u001b[0m\r\u001b[2K   \u001b[90m━━━━━━━━━━━━━━━━━━━━━━━━━━━━━━━━━━━━━━━━\u001b[0m \u001b[32m42.6/42.6 kB\u001b[0m \u001b[31m4.0 MB/s\u001b[0m eta \u001b[36m0:00:00\u001b[0m\n",
            "\u001b[?25hInstalling collected packages: keras_preprocessing\n",
            "Successfully installed keras_preprocessing-1.1.2\n"
          ]
        }
      ]
    },
    {
      "cell_type": "markdown",
      "source": [
        "### **Set ENVIRONMENTAL VARIABLES**\n",
        "\n"
      ],
      "metadata": {
        "id": "EyqunLqtmQLj"
      }
    },
    {
      "cell_type": "code",
      "source": [
        "# Set ENVIRONMENTAL VARIABLES\n",
        "\n",
        "import os\n",
        "\n",
        "# ------------------------------------------------------------------------\n",
        "# 1️⃣  Create variables for downloading loading Zip file\n",
        "# ------------------------------------------------------------------------\n",
        "URL = \"https://biologicslab.co/BIO1173/data/\"\n",
        "DOWNLOAD_SOURCE = URL+\"diabetic_retinopathy_train_512.zip\"\n",
        "DOWNLOAD_NAME = DOWNLOAD_SOURCE[DOWNLOAD_SOURCE.rfind('/')+1:]\n",
        "print(\"DOWNLOAD_SOURCE=\",DOWNLOAD_SOURCE)\n",
        "print(\"DOWNLOAD_NAME=\",DOWNLOAD_NAME)\n",
        "\n",
        "# ------------------------------------------------------------------------\n",
        "# 2️⃣  Create variables for extracting the Zip file\n",
        "# ------------------------------------------------------------------------\n",
        "PATH = \"./\"\n",
        "EXTRACT_TARGET = os.path.join(PATH,\"retinopathy_512\")\n",
        "SOURCE = os.path.join(EXTRACT_TARGET, \"train_512\")\n",
        "print(\"EXTRACT_TARGET=\",EXTRACT_TARGET)\n",
        "print(\"SOURCE=\",SOURCE)\n",
        "\n",
        "# ------------------------------------------------------------------------\n",
        "# 3️⃣  Print variables for debugging\n",
        "# ------------------------------------------------------------------------\n",
        "print(\"ENVIRONMENTAL VARIABLES were successfully created.\")"
      ],
      "metadata": {
        "id": "FTJS3d5tmQLj",
        "colab": {
          "base_uri": "https://localhost:8080/"
        },
        "outputId": "c774447a-0df7-41b9-9c37-7e2d358bbdec"
      },
      "execution_count": 4,
      "outputs": [
        {
          "output_type": "stream",
          "name": "stdout",
          "text": [
            "DOWNLOAD_SOURCE= https://biologicslab.co/BIO1173/data/diabetic_retinopathy_train_512.zip\n",
            "DOWNLOAD_NAME= diabetic_retinopathy_train_512.zip\n",
            "EXTRACT_TARGET= ./retinopathy_512\n",
            "SOURCE= ./retinopathy_512/train_512\n",
            "ENVIRONMENTAL VARIABLES were successfully created.\n"
          ]
        }
      ]
    },
    {
      "cell_type": "markdown",
      "source": [
        "If the code is correct you should see the following output\n",
        "\n",
        "![__](https://biologicslab.co/BIO1173/images/class_03/class_03_2_image37C.png)"
      ],
      "metadata": {
        "id": "Z7ehx51EmQLj"
      }
    },
    {
      "cell_type": "markdown",
      "source": [
        "### **Download and Extract Image Data**"
      ],
      "metadata": {
        "id": "owF95gW0mQLk"
      }
    },
    {
      "cell_type": "code",
      "source": [
        "# Download and Extract Image Data\n",
        "\n",
        "import os\n",
        "import subprocess\n",
        "import sys\n",
        "\n",
        "# --------------------------------------------------------------\n",
        "# 1️⃣  Create directories\n",
        "# --------------------------------------------------------------\n",
        "print(\"Creating necessary directories...\", end='')\n",
        "# Create necessary directories\n",
        "os.makedirs(SOURCE, exist_ok=True)\n",
        "os.makedirs(EXTRACT_TARGET, exist_ok=True)\n",
        "print(\"done.\")\n",
        "\n",
        "# --------------------------------------------------------------\n",
        "# 2️⃣  Download Zip file\n",
        "# --------------------------------------------------------------\n",
        "print(f\"Downloading {DOWNLOAD_NAME}...\", end='')\n",
        "# Define paths and URLs\n",
        "download_path = os.path.join(PATH, DOWNLOAD_NAME)\n",
        "extract_path = os.path.join(EXTRACT_TARGET, DOWNLOAD_NAME)\n",
        "# Download the file\n",
        "try:\n",
        "    result = subprocess.run(\n",
        "        [\"wget\", \"-O\", DOWNLOAD_NAME, DOWNLOAD_SOURCE],\n",
        "        check=True,\n",
        "        capture_output=True,\n",
        "        text=True\n",
        "    )\n",
        "    print(\"done.\")\n",
        "except subprocess.CalledProcessError as e:\n",
        "    print(f\"Download failed with error: {e}\")\n",
        "    print(f\"Error output: {e.stderr}\")\n",
        "    sys.exit(1)\n",
        "\n",
        "# --------------------------------------------------------------\n",
        "# 3️⃣  Extract Zip file\n",
        "# --------------------------------------------------------------\n",
        "print(f\"Extracting {DOWNLOAD_NAME} to {EXTRACT_TARGET}...\", end='')\n",
        "\n",
        "# Check if zip file exists and has content\n",
        "if not os.path.exists(DOWNLOAD_NAME):\n",
        "    print(f\"Error: Zip file {DOWNLOAD_NAME} does not exist\")\n",
        "    sys.exit(1)\n",
        "\n",
        "if os.path.getsize(DOWNLOAD_NAME) == 0:\n",
        "    print(f\"Error: Zip file {DOWNLOAD_NAME} is empty\")\n",
        "    sys.exit(1)\n",
        "\n",
        "# Extract the file with error handling\n",
        "try:\n",
        "    # Use -o flag to overwrite files without prompting\n",
        "    # Use -q for quiet mode\n",
        "    result = subprocess.run(\n",
        "        [\"unzip\", \"-o\", \"-q\", DOWNLOAD_NAME, \"-d\", EXTRACT_TARGET],\n",
        "        check=True,\n",
        "        capture_output=True,\n",
        "        text=True\n",
        "    )\n",
        "    print(\"done.\")\n",
        "except subprocess.CalledProcessError as e:\n",
        "    print(f\"Error: Unzipping failed with return code {e.returncode}\")\n",
        "    print(f\"Error output: {e.stderr}\")\n",
        "    print(f\"Command that failed: {e.cmd}\")\n",
        "    sys.exit(1)\n",
        "except FileNotFoundError:\n",
        "    print(\"Error: unzip command not found. Please install unzip.\")\n",
        "    sys.exit(1)\n",
        "\n",
        "# --------------------------------------------------------------\n",
        "# 4️⃣  Verify Extraction was successful\n",
        "# --------------------------------------------------------------\n",
        "print(\"Verifying Extraction...\")\n",
        "try:\n",
        "    # Check if extraction directory exists\n",
        "    if not os.path.exists(EXTRACT_TARGET):\n",
        "        print(f\"Error: Extraction directory {EXTRACT_TARGET} does not exist\")\n",
        "        sys.exit(1)\n",
        "\n",
        "    # List contents to verify\n",
        "    contents = os.listdir(EXTRACT_TARGET)\n",
        "    if len(contents) == 0:\n",
        "        print(\"Warning: Extraction directory is empty\")\n",
        "    else:\n",
        "        print(f\"Successfully extracted {len(contents)} items:\")\n",
        "        for item in sorted(contents)[:10]:  # Show first 10 items\n",
        "            item_path = os.path.join(EXTRACT_TARGET, item)\n",
        "            if os.path.isfile(item_path):\n",
        "                size = os.path.getsize(item_path)\n",
        "                print(f\"  - {item} ({size} bytes)\")\n",
        "            else:\n",
        "                print(f\"  - {item} (directory)\")\n",
        "\n",
        "        if len(contents) > 10:\n",
        "            print(f\"  ... and {len(contents) - 10} more items\")\n",
        "\n",
        "    # Try to get more detailed information about what was extracted\n",
        "    result = subprocess.run(\n",
        "        [\"ls\", \"-la\", EXTRACT_TARGET],\n",
        "        capture_output=True,\n",
        "        text=True,\n",
        "        check=False  # Don't raise exception for this command\n",
        "    )\n",
        "    if result.returncode == 0:\n",
        "        print(\"Directory contents:\")\n",
        "        print(result.stdout)\n",
        "\n",
        "except Exception as e:\n",
        "    print(f\"Error during verification: {e}\")\n",
        "    sys.exit(1)\n",
        "\n",
        "print(\"Extraction completed successfully!\")\n"
      ],
      "metadata": {
        "colab": {
          "base_uri": "https://localhost:8080/"
        },
        "id": "Lr8eqTjtdCW1",
        "outputId": "c7b91685-d00d-481c-fd30-a08d4bc61917"
      },
      "execution_count": 6,
      "outputs": [
        {
          "output_type": "stream",
          "name": "stdout",
          "text": [
            "Creating necessary directories...done.\n",
            "Downloading diabetic_retinopathy_train_512.zip...done.\n",
            "Extracting diabetic_retinopathy_train_512.zip to ./retinopathy_512...done.\n",
            "Verifying Extraction...\n",
            "Successfully extracted 2 items:\n",
            "  - trainLabels.csv (465317 bytes)\n",
            "  - train_512 (directory)\n",
            "Directory contents:\n",
            "total 1008\n",
            "drwxr-xr-x 3 root root   4096 Sep 15 11:51 .\n",
            "drwxr-xr-x 1 root root   4096 Sep 15 11:31 ..\n",
            "drwxr-xr-x 2 root root 548864 Sep 15 11:51 train_512\n",
            "-rw-rw---- 1 root root 465317 Sep 12 15:05 trainLabels.csv\n",
            "\n",
            "Extraction completed successfully!\n"
          ]
        }
      ]
    },
    {
      "cell_type": "markdown",
      "source": [
        "### **Load Labels for the Training Set**"
      ],
      "metadata": {
        "id": "69raKQFgmQLl"
      }
    },
    {
      "cell_type": "code",
      "source": [
        "# Load Labels for the Training Set\n",
        "\n",
        "import pandas as pd\n",
        "\n",
        "# Read labels and create dataframe\n",
        "ex_raw_df = pd.read_csv(\n",
        "        os.path.join(EXTRACT_TARGET,\"trainLabels.csv\"),\n",
        "        na_values=['NA', '?'])\n",
        "\n",
        "# Add file extention\n",
        "image_col = 'image'\n",
        "ex_raw_df[image_col] = ex_raw_df[image_col].astype(str) + '.png'\n",
        "\n",
        "# Print sample for verification\n",
        "ex_raw_df\n"
      ],
      "metadata": {
        "id": "fpmGEfHEmQLl",
        "colab": {
          "base_uri": "https://localhost:8080/",
          "height": 423
        },
        "outputId": "e7289ebe-7c22-49aa-a307-3e12bc0f389a"
      },
      "execution_count": 7,
      "outputs": [
        {
          "output_type": "execute_result",
          "data": {
            "text/plain": [
              "                 image  level\n",
              "0          10_left.png      0\n",
              "1         10_right.png      0\n",
              "2          13_left.png      0\n",
              "3         13_right.png      0\n",
              "4          15_left.png      1\n",
              "...                ...    ...\n",
              "35121  44347_right.png      0\n",
              "35122   44348_left.png      0\n",
              "35123  44348_right.png      0\n",
              "35124   44349_left.png      0\n",
              "35125  44349_right.png      1\n",
              "\n",
              "[35126 rows x 2 columns]"
            ],
            "text/html": [
              "\n",
              "  <div id=\"df-99a02f49-f5bc-44a4-be8a-4d6ac76db098\" class=\"colab-df-container\">\n",
              "    <div>\n",
              "<style scoped>\n",
              "    .dataframe tbody tr th:only-of-type {\n",
              "        vertical-align: middle;\n",
              "    }\n",
              "\n",
              "    .dataframe tbody tr th {\n",
              "        vertical-align: top;\n",
              "    }\n",
              "\n",
              "    .dataframe thead th {\n",
              "        text-align: right;\n",
              "    }\n",
              "</style>\n",
              "<table border=\"1\" class=\"dataframe\">\n",
              "  <thead>\n",
              "    <tr style=\"text-align: right;\">\n",
              "      <th></th>\n",
              "      <th>image</th>\n",
              "      <th>level</th>\n",
              "    </tr>\n",
              "  </thead>\n",
              "  <tbody>\n",
              "    <tr>\n",
              "      <th>0</th>\n",
              "      <td>10_left.png</td>\n",
              "      <td>0</td>\n",
              "    </tr>\n",
              "    <tr>\n",
              "      <th>1</th>\n",
              "      <td>10_right.png</td>\n",
              "      <td>0</td>\n",
              "    </tr>\n",
              "    <tr>\n",
              "      <th>2</th>\n",
              "      <td>13_left.png</td>\n",
              "      <td>0</td>\n",
              "    </tr>\n",
              "    <tr>\n",
              "      <th>3</th>\n",
              "      <td>13_right.png</td>\n",
              "      <td>0</td>\n",
              "    </tr>\n",
              "    <tr>\n",
              "      <th>4</th>\n",
              "      <td>15_left.png</td>\n",
              "      <td>1</td>\n",
              "    </tr>\n",
              "    <tr>\n",
              "      <th>...</th>\n",
              "      <td>...</td>\n",
              "      <td>...</td>\n",
              "    </tr>\n",
              "    <tr>\n",
              "      <th>35121</th>\n",
              "      <td>44347_right.png</td>\n",
              "      <td>0</td>\n",
              "    </tr>\n",
              "    <tr>\n",
              "      <th>35122</th>\n",
              "      <td>44348_left.png</td>\n",
              "      <td>0</td>\n",
              "    </tr>\n",
              "    <tr>\n",
              "      <th>35123</th>\n",
              "      <td>44348_right.png</td>\n",
              "      <td>0</td>\n",
              "    </tr>\n",
              "    <tr>\n",
              "      <th>35124</th>\n",
              "      <td>44349_left.png</td>\n",
              "      <td>0</td>\n",
              "    </tr>\n",
              "    <tr>\n",
              "      <th>35125</th>\n",
              "      <td>44349_right.png</td>\n",
              "      <td>1</td>\n",
              "    </tr>\n",
              "  </tbody>\n",
              "</table>\n",
              "<p>35126 rows × 2 columns</p>\n",
              "</div>\n",
              "    <div class=\"colab-df-buttons\">\n",
              "\n",
              "  <div class=\"colab-df-container\">\n",
              "    <button class=\"colab-df-convert\" onclick=\"convertToInteractive('df-99a02f49-f5bc-44a4-be8a-4d6ac76db098')\"\n",
              "            title=\"Convert this dataframe to an interactive table.\"\n",
              "            style=\"display:none;\">\n",
              "\n",
              "  <svg xmlns=\"http://www.w3.org/2000/svg\" height=\"24px\" viewBox=\"0 -960 960 960\">\n",
              "    <path d=\"M120-120v-720h720v720H120Zm60-500h600v-160H180v160Zm220 220h160v-160H400v160Zm0 220h160v-160H400v160ZM180-400h160v-160H180v160Zm440 0h160v-160H620v160ZM180-180h160v-160H180v160Zm440 0h160v-160H620v160Z\"/>\n",
              "  </svg>\n",
              "    </button>\n",
              "\n",
              "  <style>\n",
              "    .colab-df-container {\n",
              "      display:flex;\n",
              "      gap: 12px;\n",
              "    }\n",
              "\n",
              "    .colab-df-convert {\n",
              "      background-color: #E8F0FE;\n",
              "      border: none;\n",
              "      border-radius: 50%;\n",
              "      cursor: pointer;\n",
              "      display: none;\n",
              "      fill: #1967D2;\n",
              "      height: 32px;\n",
              "      padding: 0 0 0 0;\n",
              "      width: 32px;\n",
              "    }\n",
              "\n",
              "    .colab-df-convert:hover {\n",
              "      background-color: #E2EBFA;\n",
              "      box-shadow: 0px 1px 2px rgba(60, 64, 67, 0.3), 0px 1px 3px 1px rgba(60, 64, 67, 0.15);\n",
              "      fill: #174EA6;\n",
              "    }\n",
              "\n",
              "    .colab-df-buttons div {\n",
              "      margin-bottom: 4px;\n",
              "    }\n",
              "\n",
              "    [theme=dark] .colab-df-convert {\n",
              "      background-color: #3B4455;\n",
              "      fill: #D2E3FC;\n",
              "    }\n",
              "\n",
              "    [theme=dark] .colab-df-convert:hover {\n",
              "      background-color: #434B5C;\n",
              "      box-shadow: 0px 1px 3px 1px rgba(0, 0, 0, 0.15);\n",
              "      filter: drop-shadow(0px 1px 2px rgba(0, 0, 0, 0.3));\n",
              "      fill: #FFFFFF;\n",
              "    }\n",
              "  </style>\n",
              "\n",
              "    <script>\n",
              "      const buttonEl =\n",
              "        document.querySelector('#df-99a02f49-f5bc-44a4-be8a-4d6ac76db098 button.colab-df-convert');\n",
              "      buttonEl.style.display =\n",
              "        google.colab.kernel.accessAllowed ? 'block' : 'none';\n",
              "\n",
              "      async function convertToInteractive(key) {\n",
              "        const element = document.querySelector('#df-99a02f49-f5bc-44a4-be8a-4d6ac76db098');\n",
              "        const dataTable =\n",
              "          await google.colab.kernel.invokeFunction('convertToInteractive',\n",
              "                                                    [key], {});\n",
              "        if (!dataTable) return;\n",
              "\n",
              "        const docLinkHtml = 'Like what you see? Visit the ' +\n",
              "          '<a target=\"_blank\" href=https://colab.research.google.com/notebooks/data_table.ipynb>data table notebook</a>'\n",
              "          + ' to learn more about interactive tables.';\n",
              "        element.innerHTML = '';\n",
              "        dataTable['output_type'] = 'display_data';\n",
              "        await google.colab.output.renderOutput(dataTable, element);\n",
              "        const docLink = document.createElement('div');\n",
              "        docLink.innerHTML = docLinkHtml;\n",
              "        element.appendChild(docLink);\n",
              "      }\n",
              "    </script>\n",
              "  </div>\n",
              "\n",
              "\n",
              "    <div id=\"df-bd0b103b-40ce-46ce-ba5b-a052b3618197\">\n",
              "      <button class=\"colab-df-quickchart\" onclick=\"quickchart('df-bd0b103b-40ce-46ce-ba5b-a052b3618197')\"\n",
              "                title=\"Suggest charts\"\n",
              "                style=\"display:none;\">\n",
              "\n",
              "<svg xmlns=\"http://www.w3.org/2000/svg\" height=\"24px\"viewBox=\"0 0 24 24\"\n",
              "     width=\"24px\">\n",
              "    <g>\n",
              "        <path d=\"M19 3H5c-1.1 0-2 .9-2 2v14c0 1.1.9 2 2 2h14c1.1 0 2-.9 2-2V5c0-1.1-.9-2-2-2zM9 17H7v-7h2v7zm4 0h-2V7h2v10zm4 0h-2v-4h2v4z\"/>\n",
              "    </g>\n",
              "</svg>\n",
              "      </button>\n",
              "\n",
              "<style>\n",
              "  .colab-df-quickchart {\n",
              "      --bg-color: #E8F0FE;\n",
              "      --fill-color: #1967D2;\n",
              "      --hover-bg-color: #E2EBFA;\n",
              "      --hover-fill-color: #174EA6;\n",
              "      --disabled-fill-color: #AAA;\n",
              "      --disabled-bg-color: #DDD;\n",
              "  }\n",
              "\n",
              "  [theme=dark] .colab-df-quickchart {\n",
              "      --bg-color: #3B4455;\n",
              "      --fill-color: #D2E3FC;\n",
              "      --hover-bg-color: #434B5C;\n",
              "      --hover-fill-color: #FFFFFF;\n",
              "      --disabled-bg-color: #3B4455;\n",
              "      --disabled-fill-color: #666;\n",
              "  }\n",
              "\n",
              "  .colab-df-quickchart {\n",
              "    background-color: var(--bg-color);\n",
              "    border: none;\n",
              "    border-radius: 50%;\n",
              "    cursor: pointer;\n",
              "    display: none;\n",
              "    fill: var(--fill-color);\n",
              "    height: 32px;\n",
              "    padding: 0;\n",
              "    width: 32px;\n",
              "  }\n",
              "\n",
              "  .colab-df-quickchart:hover {\n",
              "    background-color: var(--hover-bg-color);\n",
              "    box-shadow: 0 1px 2px rgba(60, 64, 67, 0.3), 0 1px 3px 1px rgba(60, 64, 67, 0.15);\n",
              "    fill: var(--button-hover-fill-color);\n",
              "  }\n",
              "\n",
              "  .colab-df-quickchart-complete:disabled,\n",
              "  .colab-df-quickchart-complete:disabled:hover {\n",
              "    background-color: var(--disabled-bg-color);\n",
              "    fill: var(--disabled-fill-color);\n",
              "    box-shadow: none;\n",
              "  }\n",
              "\n",
              "  .colab-df-spinner {\n",
              "    border: 2px solid var(--fill-color);\n",
              "    border-color: transparent;\n",
              "    border-bottom-color: var(--fill-color);\n",
              "    animation:\n",
              "      spin 1s steps(1) infinite;\n",
              "  }\n",
              "\n",
              "  @keyframes spin {\n",
              "    0% {\n",
              "      border-color: transparent;\n",
              "      border-bottom-color: var(--fill-color);\n",
              "      border-left-color: var(--fill-color);\n",
              "    }\n",
              "    20% {\n",
              "      border-color: transparent;\n",
              "      border-left-color: var(--fill-color);\n",
              "      border-top-color: var(--fill-color);\n",
              "    }\n",
              "    30% {\n",
              "      border-color: transparent;\n",
              "      border-left-color: var(--fill-color);\n",
              "      border-top-color: var(--fill-color);\n",
              "      border-right-color: var(--fill-color);\n",
              "    }\n",
              "    40% {\n",
              "      border-color: transparent;\n",
              "      border-right-color: var(--fill-color);\n",
              "      border-top-color: var(--fill-color);\n",
              "    }\n",
              "    60% {\n",
              "      border-color: transparent;\n",
              "      border-right-color: var(--fill-color);\n",
              "    }\n",
              "    80% {\n",
              "      border-color: transparent;\n",
              "      border-right-color: var(--fill-color);\n",
              "      border-bottom-color: var(--fill-color);\n",
              "    }\n",
              "    90% {\n",
              "      border-color: transparent;\n",
              "      border-bottom-color: var(--fill-color);\n",
              "    }\n",
              "  }\n",
              "</style>\n",
              "\n",
              "      <script>\n",
              "        async function quickchart(key) {\n",
              "          const quickchartButtonEl =\n",
              "            document.querySelector('#' + key + ' button');\n",
              "          quickchartButtonEl.disabled = true;  // To prevent multiple clicks.\n",
              "          quickchartButtonEl.classList.add('colab-df-spinner');\n",
              "          try {\n",
              "            const charts = await google.colab.kernel.invokeFunction(\n",
              "                'suggestCharts', [key], {});\n",
              "          } catch (error) {\n",
              "            console.error('Error during call to suggestCharts:', error);\n",
              "          }\n",
              "          quickchartButtonEl.classList.remove('colab-df-spinner');\n",
              "          quickchartButtonEl.classList.add('colab-df-quickchart-complete');\n",
              "        }\n",
              "        (() => {\n",
              "          let quickchartButtonEl =\n",
              "            document.querySelector('#df-bd0b103b-40ce-46ce-ba5b-a052b3618197 button');\n",
              "          quickchartButtonEl.style.display =\n",
              "            google.colab.kernel.accessAllowed ? 'block' : 'none';\n",
              "        })();\n",
              "      </script>\n",
              "    </div>\n",
              "\n",
              "  <div id=\"id_9ba14260-e81d-4b39-ba13-dc31d064ee42\">\n",
              "    <style>\n",
              "      .colab-df-generate {\n",
              "        background-color: #E8F0FE;\n",
              "        border: none;\n",
              "        border-radius: 50%;\n",
              "        cursor: pointer;\n",
              "        display: none;\n",
              "        fill: #1967D2;\n",
              "        height: 32px;\n",
              "        padding: 0 0 0 0;\n",
              "        width: 32px;\n",
              "      }\n",
              "\n",
              "      .colab-df-generate:hover {\n",
              "        background-color: #E2EBFA;\n",
              "        box-shadow: 0px 1px 2px rgba(60, 64, 67, 0.3), 0px 1px 3px 1px rgba(60, 64, 67, 0.15);\n",
              "        fill: #174EA6;\n",
              "      }\n",
              "\n",
              "      [theme=dark] .colab-df-generate {\n",
              "        background-color: #3B4455;\n",
              "        fill: #D2E3FC;\n",
              "      }\n",
              "\n",
              "      [theme=dark] .colab-df-generate:hover {\n",
              "        background-color: #434B5C;\n",
              "        box-shadow: 0px 1px 3px 1px rgba(0, 0, 0, 0.15);\n",
              "        filter: drop-shadow(0px 1px 2px rgba(0, 0, 0, 0.3));\n",
              "        fill: #FFFFFF;\n",
              "      }\n",
              "    </style>\n",
              "    <button class=\"colab-df-generate\" onclick=\"generateWithVariable('ex_raw_df')\"\n",
              "            title=\"Generate code using this dataframe.\"\n",
              "            style=\"display:none;\">\n",
              "\n",
              "  <svg xmlns=\"http://www.w3.org/2000/svg\" height=\"24px\"viewBox=\"0 0 24 24\"\n",
              "       width=\"24px\">\n",
              "    <path d=\"M7,19H8.4L18.45,9,17,7.55,7,17.6ZM5,21V16.75L18.45,3.32a2,2,0,0,1,2.83,0l1.4,1.43a1.91,1.91,0,0,1,.58,1.4,1.91,1.91,0,0,1-.58,1.4L9.25,21ZM18.45,9,17,7.55Zm-12,3A5.31,5.31,0,0,0,4.9,8.1,5.31,5.31,0,0,0,1,6.5,5.31,5.31,0,0,0,4.9,4.9,5.31,5.31,0,0,0,6.5,1,5.31,5.31,0,0,0,8.1,4.9,5.31,5.31,0,0,0,12,6.5,5.46,5.46,0,0,0,6.5,12Z\"/>\n",
              "  </svg>\n",
              "    </button>\n",
              "    <script>\n",
              "      (() => {\n",
              "      const buttonEl =\n",
              "        document.querySelector('#id_9ba14260-e81d-4b39-ba13-dc31d064ee42 button.colab-df-generate');\n",
              "      buttonEl.style.display =\n",
              "        google.colab.kernel.accessAllowed ? 'block' : 'none';\n",
              "\n",
              "      buttonEl.onclick = () => {\n",
              "        google.colab.notebook.generateWithVariable('ex_raw_df');\n",
              "      }\n",
              "      })();\n",
              "    </script>\n",
              "  </div>\n",
              "\n",
              "    </div>\n",
              "  </div>\n"
            ],
            "application/vnd.google.colaboratory.intrinsic+json": {
              "type": "dataframe",
              "variable_name": "ex_raw_df",
              "summary": "{\n  \"name\": \"ex_raw_df\",\n  \"rows\": 35126,\n  \"fields\": [\n    {\n      \"column\": \"image\",\n      \"properties\": {\n        \"dtype\": \"string\",\n        \"num_unique_values\": 35126,\n        \"samples\": [\n          \"23997_right.png\",\n          \"12793_right.png\",\n          \"18073_right.png\"\n        ],\n        \"semantic_type\": \"\",\n        \"description\": \"\"\n      }\n    },\n    {\n      \"column\": \"level\",\n      \"properties\": {\n        \"dtype\": \"number\",\n        \"std\": 0,\n        \"min\": 0,\n        \"max\": 4,\n        \"num_unique_values\": 5,\n        \"samples\": [\n          1,\n          3,\n          2\n        ],\n        \"semantic_type\": \"\",\n        \"description\": \"\"\n      }\n    }\n  ]\n}"
            }
          },
          "metadata": {},
          "execution_count": 7
        }
      ]
    },
    {
      "cell_type": "code",
      "source": [
        "# Insert this code after loading your DataFrame but before splitting\n",
        "from pathlib import Path\n",
        "\n",
        "# Validate that all image files actually exist\n",
        "def validate_image_files(df, source_path):\n",
        "    source = Path(source_path)\n",
        "    existing_files = set()\n",
        "\n",
        "    # Get all actual files in the directory\n",
        "    for file_path in source.rglob('*'):\n",
        "        if file_path.is_file() and file_path.suffix.lower() in ['.jpg', '.jpeg', '.png']:\n",
        "            existing_files.add(file_path.name)\n",
        "\n",
        "    # Check which files in DataFrame actually exist\n",
        "    df['file_exists'] = df['image'].apply(lambda x: x in existing_files)\n",
        "\n",
        "    print(f\"Total images in DataFrame: {len(df)}\")\n",
        "    print(f\"Images that exist: {df['file_exists'].sum()}\")\n",
        "    print(f\"Missing images: {(~df['file_exists']).sum()}\")\n",
        "\n",
        "    # Filter to only include existing files\n",
        "    valid_df = df[df['file_exists']].copy()\n",
        "    print(f\"Valid DataFrame size: {len(valid_df)}\")\n",
        "\n",
        "    return valid_df\n",
        "\n",
        "# Use it:\n",
        "ex_raw_df = validate_image_files(ex_raw_df, SOURCE)\n"
      ],
      "metadata": {
        "colab": {
          "base_uri": "https://localhost:8080/"
        },
        "id": "Eh4niFe0KQki",
        "outputId": "a55e5f16-fe30-42ac-d56c-a68d74227e41"
      },
      "execution_count": 8,
      "outputs": [
        {
          "output_type": "stream",
          "name": "stdout",
          "text": [
            "Total images in DataFrame: 35126\n",
            "Images that exist: 17448\n",
            "Missing images: 17678\n",
            "Valid DataFrame size: 17448\n"
          ]
        }
      ]
    },
    {
      "cell_type": "markdown",
      "source": [
        "### **Split Images into Training and Validation Sets**"
      ],
      "metadata": {
        "id": "Z9FsUIsDmQLl"
      }
    },
    {
      "cell_type": "code",
      "source": [
        "# Split Images into Training and Validation Sets\n",
        "\n",
        "\n",
        "# Set split fraction\n",
        "FRAC=0.8  # 80% training / 20% validation\n",
        "\n",
        "# Convert the class column to string – required for `flow_from_dataframe`\n",
        "ex_raw_df['level'] = ex_raw_df['level'].astype(str)\n",
        "\n",
        "# ------------------------------------------------------------------\n",
        "#  1️⃣ Randomly split data into training and validation sets\n",
        "# ------------------------------------------------------------------\n",
        "ex_train_df = ex_raw_df.sample(frac=FRAC, random_state=42)\n",
        "ex_val_df   = ex_raw_df.drop(ex_train_df.index)\n",
        "\n",
        "# Calculate the split fraction as sanity check\n",
        "split_fraction = len(ex_train_df) / (len(ex_val_df) + len(ex_train_df))\n",
        "\n",
        "# Print out numbers\n",
        "print(f\"Training set size   : {len(ex_train_df)}\")\n",
        "print(f\"Validation set size : {len(ex_val_df)}\")\n",
        "print(f\"Calculated split fraction =\", split_fraction)\n",
        "\n",
        "# Quick sanity check\n",
        "print(\"\\nSample training rows:\")\n",
        "print(ex_train_df[['image', 'level']].head())\n",
        "\n",
        "print(\"\\nSample validation rows:\")\n",
        "print(ex_val_df[['image', 'level']].head())"
      ],
      "metadata": {
        "colab": {
          "base_uri": "https://localhost:8080/"
        },
        "id": "63vrz9p2L3X2",
        "outputId": "f2c9ba27-953e-4ee1-af6a-77145d981f82"
      },
      "execution_count": 10,
      "outputs": [
        {
          "output_type": "stream",
          "name": "stdout",
          "text": [
            "Training set size   : 13958\n",
            "Validation set size : 3490\n",
            "Calculated split fraction = 0.7999770747363595\n",
            "\n",
            "Sample training rows:\n",
            "                 image level\n",
            "16508   20710_left.png     0\n",
            "8057   10109_right.png     2\n",
            "23120   29217_left.png     0\n",
            "24         31_left.png     0\n",
            "12902   16217_left.png     0\n",
            "\n",
            "Sample validation rows:\n",
            "           image level\n",
            "1   10_right.png     0\n",
            "7   16_right.png     4\n",
            "10   19_left.png     0\n",
            "13  20_right.png     0\n",
            "15  21_right.png     0\n"
          ]
        }
      ]
    },
    {
      "cell_type": "code",
      "source": [
        "# Add this code before creating your generators to debug the issue\n",
        "import os\n",
        "from pathlib import Path\n",
        "\n",
        "# Check which files are actually valid\n",
        "def check_valid_images(df, source_path):\n",
        "    valid_files = []\n",
        "    invalid_files = []\n",
        "\n",
        "    for filename in df['image']:\n",
        "        file_path = Path(source_path) / filename\n",
        "        if file_path.exists() and file_path.is_file():\n",
        "            valid_files.append(filename)\n",
        "        else:\n",
        "            invalid_files.append(filename)\n",
        "\n",
        "    print(f\"Total files: {len(df)}\")\n",
        "    print(f\"Valid files: {len(valid_files)}\")\n",
        "    print(f\"Invalid files: {len(invalid_files)}\")\n",
        "\n",
        "    # Remove invalid files from your dataframe\n",
        "    df_clean = df[df['image'].isin(valid_files)]\n",
        "    print(f\"After cleaning: {len(df_clean)} samples\")\n",
        "\n",
        "    return df_clean\n",
        "\n",
        "# Apply cleaning to both train and validation sets\n",
        "ex_train_df = check_valid_images(ex_train_df, SOURCE)\n",
        "ex_val_df = check_valid_images(ex_val_df, SOURCE)\n"
      ],
      "metadata": {
        "colab": {
          "base_uri": "https://localhost:8080/"
        },
        "id": "hUl7jQf9IM_i",
        "outputId": "7f0f0a4e-0448-4560-af02-e87a0540e258"
      },
      "execution_count": 11,
      "outputs": [
        {
          "output_type": "stream",
          "name": "stdout",
          "text": [
            "Total files: 13958\n",
            "Valid files: 13958\n",
            "Invalid files: 0\n",
            "After cleaning: 13958 samples\n",
            "Total files: 3490\n",
            "Valid files: 3490\n",
            "Invalid files: 0\n",
            "After cleaning: 3490 samples\n"
          ]
        }
      ]
    },
    {
      "cell_type": "markdown",
      "source": [
        "### **Create Image Generator**"
      ],
      "metadata": {
        "id": "nWCh6S_kmQLl"
      }
    },
    {
      "cell_type": "code",
      "source": [
        "# Create Image Generator\n",
        "\n",
        "from pathlib import Path\n",
        "from tensorflow.keras.preprocessing.image import ImageDataGenerator\n",
        "from tensorflow.keras.applications.resnet50 import preprocess_input\n",
        "\n",
        "# Specify Image Size\n",
        "IMG_W, IMG_H = 512, 512\n",
        "\n",
        "BATCH_TRAIN  = 64\n",
        "BATCH_VAL    = 64\n",
        "\n",
        "# --------------------------------------------------------------------\n",
        "# 1️⃣ Training generator – augmentations\n",
        "# --------------------------------------------------------------------\n",
        "train_datagen = ImageDataGenerator(\n",
        "    preprocessing_function=preprocess_input,  # for *ResNet* pre‑proc\n",
        "    width_shift_range=0.2,       # Horizontal shift\n",
        "    height_shift_range=0.2,      # Vertical shift\n",
        "    horizontal_flip=True,        # Flip images horizontally\n",
        "    zoom_range=0.2,              # Zoom in/out\n",
        "    fill_mode='nearest',         # Fill in new pixels\n",
        "    rotation_range=20,           # Add some rotation\n",
        ")\n",
        "\n",
        "# Optimize data loading with prefetching and caching\n",
        "train_gen = train_datagen.flow_from_dataframe(\n",
        "    dataframe=ex_train_df,  # Labels for training images\n",
        "    directory=str(SOURCE),\n",
        "    x_col='image',          # column that holds the file name\n",
        "    y_col='level',          # column that holds the class string\n",
        "    target_size=(IMG_H, IMG_W),\n",
        "    batch_size=BATCH_TRAIN,\n",
        "    class_mode='categorical',   # one‑hot (shape (batch, 5))\n",
        "    shuffle=True,\n",
        "    seed=42,                  # For reproducibility\n",
        ")\n",
        "\n",
        "# --------------------------------------------------------------------\n",
        "# 2️⃣ Validation generator -- no augmentation\n",
        "# --------------------------------------------------------------------\n",
        "val_datagen = ImageDataGenerator(preprocessing_function=preprocess_input)\n",
        "\n",
        "val_gen = val_datagen.flow_from_dataframe(\n",
        "    dataframe=ex_val_df,   # Labels for the validation images\n",
        "    directory=str(SOURCE),\n",
        "    x_col='image',\n",
        "    y_col='level',\n",
        "    target_size=(IMG_H, IMG_W),\n",
        "    batch_size=BATCH_VAL,\n",
        "    class_mode='categorical',\n",
        "    shuffle=False,\n",
        ")\n",
        "\n",
        "# Sanity Check\n",
        "ex_x_train, ex_y_train = next(train_gen)\n",
        "ex_x_val,   ex_y_val   = next(val_gen)\n",
        "\n",
        "print(\"TRAIN batch  : \", ex_x_train.shape, ex_y_train.shape)   # should be (32, 512, 512, 3) , (32, 5)\n",
        "print(\"VAL   batch  : \", ex_x_val.shape,   ex_y_val.shape)     # same, but 32 samples if 7025>batch"
      ],
      "metadata": {
        "colab": {
          "base_uri": "https://localhost:8080/"
        },
        "id": "6XILWlBpMafg",
        "outputId": "ef5dd63c-d3c7-48da-fdda-45958a403fd1"
      },
      "execution_count": 12,
      "outputs": [
        {
          "output_type": "stream",
          "name": "stdout",
          "text": [
            "Found 13958 validated image filenames belonging to 5 classes.\n",
            "Found 3490 validated image filenames belonging to 5 classes.\n",
            "TRAIN batch  :  (64, 512, 512, 3) (64, 5)\n",
            "VAL   batch  :  (64, 512, 512, 3) (64, 5)\n"
          ]
        }
      ]
    },
    {
      "cell_type": "markdown",
      "source": [
        "### **Check Class Distribution**\n"
      ],
      "metadata": {
        "id": "Ry1JMAnfmQLm"
      }
    },
    {
      "cell_type": "code",
      "source": [
        "# Check Class Distribution\n",
        "\n",
        "import numpy as np\n",
        "import matplotlib.pyplot as plt\n",
        "\n",
        "# Count class distribution\n",
        "ex_labels_val = val_gen.classes\n",
        "class_counts = np.bincount(ex_labels_val)\n",
        "\n",
        "# Plot distribution\n",
        "plt.bar(range(len(class_counts)), class_counts)\n",
        "plt.xlabel(\"Class Index\")\n",
        "plt.ylabel(\"Number of Samples\")\n",
        "plt.title(\"Validation Set Class Distribution\")\n",
        "plt.show()\n"
      ],
      "metadata": {
        "id": "3xWfbRnmmQLm",
        "colab": {
          "base_uri": "https://localhost:8080/",
          "height": 472
        },
        "outputId": "bac0b612-d41d-47f8-f56c-2a12db36472c"
      },
      "execution_count": 13,
      "outputs": [
        {
          "output_type": "display_data",
          "data": {
            "text/plain": [
              "<Figure size 640x480 with 1 Axes>"
            ],
            "image/png": "[encoded data removed]"
          },
          "metadata": {}
        }
      ]
    },
    {
      "cell_type": "markdown",
      "source": [
        "### **Setup `ResNet101` Base Network**\n",
        "\n",
        "\n",
        "\n",
        "\n"
      ],
      "metadata": {
        "id": "4hsAaWRfmQLm"
      }
    },
    {
      "cell_type": "code",
      "source": [
        "# Setup `ResNet101` Base Network\n",
        "\n",
        "import tensorflow as tf\n",
        "from tensorflow.keras.applications import ResNet101\n",
        "from tensorflow.keras import layers, models, optimizers\n",
        "from tensorflow.keras.layers import Dense, GlobalAveragePooling2D\n",
        "from tensorflow.keras.models import Model\n",
        "from tensorflow.keras.optimizers import Adam\n",
        "\n",
        "base = ResNet101(weights='imagenet', include_top=False, input_shape=(IMG_H, IMG_W, 3))\n",
        "base.trainable = False          # freeze layers\n",
        "\n",
        "x = base.output\n",
        "x = layers.GlobalAveragePooling2D()(x)\n",
        "x = layers.Dense(256, activation='relu')(x)\n",
        "x = layers.Dropout(0.5)(x)\n",
        "predictions = layers.Dense(5, activation='softmax')(x)\n",
        "\n",
        "ResNet101_model_512 = models.Model(inputs=base.input, outputs=predictions)\n",
        "\n",
        "# Use mixed precision optimizer\n",
        "optimizer = optimizers.Adam(learning_rate=1e-4)  # Adjusted for mixed precision\n",
        "\n",
        "ResNet101_model_512.compile(\n",
        "    optimizer=optimizer,\n",
        "    loss='categorical_crossentropy',\n",
        "    metrics=['accuracy']\n",
        ")"
      ],
      "metadata": {
        "id": "ziXxejVCM-JX",
        "colab": {
          "base_uri": "https://localhost:8080/"
        },
        "outputId": "482e81cc-03ef-4a6e-ca89-b665ccc6241c"
      },
      "execution_count": 14,
      "outputs": [
        {
          "output_type": "stream",
          "name": "stdout",
          "text": [
            "Downloading data from https://storage.googleapis.com/tensorflow/keras-applications/resnet/resnet101_weights_tf_dim_ordering_tf_kernels_notop.h5\n",
            "\u001b[1m171446536/171446536\u001b[0m \u001b[32m━━━━━━━━━━━━━━━━━━━━\u001b[0m\u001b[37m\u001b[0m \u001b[1m8s\u001b[0m 0us/step\n"
          ]
        }
      ]
    },
    {
      "cell_type": "markdown",
      "source": [
        "If the code is correct you should see the following output\n",
        "\n",
        "![__](https://biologicslab.co/BIO1173/images/class_03/class_03_2_image44C.png)"
      ],
      "metadata": {
        "id": "vMSFZmOW5k-g"
      }
    },
    {
      "cell_type": "markdown",
      "source": [
        "### **Train Neural Network**"
      ],
      "metadata": {
        "id": "Wi1Fbo8NmQLm"
      }
    },
    {
      "cell_type": "code",
      "source": [
        "# Train Neural Network\n",
        "import time\n",
        "import tensorflow as tf\n",
        "\n",
        "# Set number of epochs\n",
        "EPOCHS=20\n",
        "\n",
        "# Set Patience\n",
        "PATIENCE=5\n",
        "\n",
        "# ------------------------------------------------------------------------\n",
        "# 1️⃣  Start training\n",
        "# ------------------------------------------------------------------------\n",
        "print(f\"-- Training (classification) is starting for {EPOCHS} epochs----------------------------\")\n",
        "start_time = time.time()\n",
        "\n",
        "# Add more optimization parameters\n",
        "history_512 = ResNet101_model_512.fit(\n",
        "    train_gen,\n",
        "    epochs=EPOCHS,\n",
        "    validation_data=val_gen,\n",
        "    steps_per_epoch=len(train_gen),\n",
        "    validation_steps=len(val_gen),\n",
        "    callbacks=[\n",
        "        tf.keras.callbacks.EarlyStopping(patience=PATIENCE, restore_best_weights=True),\n",
        "        tf.keras.callbacks.ReduceLROnPlateau(factor=0.5, patience=3, min_lr=1e-7)\n",
        "    ],\n",
        ")\n",
        "\n",
        "# Record end time\n",
        "elapsed_time = time.time() - start_time\n",
        "\n",
        "# Print elapsed time\n",
        "print(f\"Elapsed time: {hms_string(elapsed_time)}\")"
      ],
      "metadata": {
        "colab": {
          "base_uri": "https://localhost:8080/"
        },
        "id": "HP4V3MdHNOEO",
        "outputId": "dc766b0f-7777-4804-a7ca-cf1ced6cf0d6"
      },
      "execution_count": null,
      "outputs": [
        {
          "output_type": "stream",
          "name": "stdout",
          "text": [
            "-- Training (classification) is starting for 20 epochs----------------------------\n"
          ]
        },
        {
          "output_type": "stream",
          "name": "stderr",
          "text": [
            "/usr/local/lib/python3.12/dist-packages/keras/src/trainers/data_adapters/py_dataset_adapter.py:121: UserWarning: Your `PyDataset` class should call `super().__init__(**kwargs)` in its constructor. `**kwargs` can include `workers`, `use_multiprocessing`, `max_queue_size`. Do not pass these arguments to `fit()`, as they will be ignored.\n",
            "  self._warn_if_super_not_called()\n"
          ]
        },
        {
          "output_type": "stream",
          "name": "stdout",
          "text": [
            "Epoch 1/20\n",
            "\u001b[1m  7/219\u001b[0m \u001b[37m━━━━━━━━━━━━━━━━━━━━\u001b[0m \u001b[1m10:53\u001b[0m 3s/step - accuracy: 0.2053 - loss: 2.3636"
          ]
        }
      ]
    },
    {
      "cell_type": "markdown",
      "source": [
        "### **Plot Training History**"
      ],
      "metadata": {
        "id": "1pSv_2shmQLn"
      }
    },
    {
      "cell_type": "code",
      "source": [
        "# Plot Training History\n",
        "\n",
        "import numpy as np\n",
        "import matplotlib.pyplot as plt\n",
        "\n",
        "# Pull the metrics\n",
        "ex_val_acc = history_512.history.get('val_accuracy')\n",
        "ex_train_acc = history_512.history.get('accuracy')\n",
        "\n",
        "# --- Find the epoch with the highest validation accuracy -------------\n",
        "# np.argmax returns the index (0‑based). Add 1 if you want to show it as \"epoch 1, 2, …\"\n",
        "best_epoch_idx = np.argmax(ex_val_acc)       # 0‑based index\n",
        "best_epoch_num = best_epoch_idx + 1          # 1‑based for display\n",
        "\n",
        "# -----------------------------------------------------------------------\n",
        "\n",
        "plt.figure(figsize=(8, 4))\n",
        "plt.plot(ex_val_acc, label='val_accuracy')\n",
        "plt.plot(ex_train_acc, label='accuracy')\n",
        "\n",
        "# Vertical line at the best epoch (0‑based index)\n",
        "plt.axvline(best_epoch_idx, color='r', linestyle='--',\n",
        "            label=f'Best epoch (epoch {best_epoch_num})')\n",
        "\n",
        "plt.xlabel('Epoch')\n",
        "plt.ylabel('Accuracy')\n",
        "plt.title('Training / Validation Accuracy')\n",
        "plt.legend()\n",
        "plt.grid(True, linestyle='--', alpha=0.5)\n",
        "\n",
        "# Optional: annotate the exact accuracy value at the best epoch\n",
        "best_ex_val_acc = ex_val_acc[best_epoch_idx]\n",
        "plt.text(best_epoch_idx, best_ex_val_acc,\n",
        "         f'{best_ex_val_acc:.4f}',\n",
        "         va='bottom', ha='right', color='r', fontsize=9)\n",
        "\n",
        "plt.tight_layout()\n",
        "plt.show()"
      ],
      "metadata": {
        "id": "aFm1IkVlwue1"
      },
      "execution_count": null,
      "outputs": []
    },
    {
      "cell_type": "markdown",
      "source": [
        "### **Save Model to GDrive**"
      ],
      "metadata": {
        "id": "G9yqR3rQmQLn"
      }
    },
    {
      "cell_type": "code",
      "source": [
        "# Save Model to GDrive\n",
        "import os\n",
        "import shutil\n",
        "import tensorflow as tf\n",
        "\n",
        "# --------------------------------------------------------------\n",
        "# 1️⃣  Mount Google Drive (do this only once per session)\n",
        "# --------------------------------------------------------------\n",
        "# from google.colab import drive\n",
        "# drive.mount('/content/drive')\n",
        "\n",
        "# --------------------------------------------------------------\n",
        "# 2️⃣  Define the names / paths\n",
        "# --------------------------------------------------------------\n",
        "model_name     = \"ResNet101_model_512\"                    # model object name\n",
        "gdrive_dir     = f\"/content/drive/My Drive/{model_name}\"  # folder on Drive\n",
        "gdrive_file    = f\"{gdrive_dir}.keras\"                    # the file we want to keep\n",
        "\n",
        "local_dir      = f\"/content/{model_name}\"                 # the *local* folder you want to delete\n",
        "local_file     = f\"{local_dir}.keras\"                     # if you saved a single file locally\n",
        "\n",
        "# --------------------------------------------------------------\n",
        "# 3️⃣  Make sure the Drive folder exists\n",
        "# --------------------------------------------------------------\n",
        "os.makedirs(gdrive_dir, exist_ok=True)\n",
        "\n",
        "# --------------------------------------------------------------\n",
        "# 4️⃣  Save the model *on* Drive (kept forever)\n",
        "# --------------------------------------------------------------\n",
        "ResNet101_model_512.save(gdrive_file)   # <-- this writes the file into /content/drive/My Drive/\n",
        "\n",
        "# --------------------------------------------------------------\n",
        "# 5️⃣  OPTIONAL: Verify the Drive copy exists\n",
        "# --------------------------------------------------------------\n",
        "print(\"Drive copy present:\", os.path.exists(gdrive_file))\n",
        "!ls ./drive/MyDrive"
      ],
      "metadata": {
        "id": "dLu0bTR4TByG"
      },
      "execution_count": null,
      "outputs": []
    },
    {
      "cell_type": "markdown",
      "source": [
        "## **The Diabetic Retinopathy Dataset**\n",
        "\n",
        "The **Diabetic Retinopathy Dataset** used in this lesson was part of a 2015 Kaggle Competition.\n",
        "\n",
        "Here is a summary of the winners and what they did to win this competition.\n",
        "\n",
        "### Winner of the 2015 Kaggle Diabetic Retinopathy Detection competition\n",
        "**Team**: *o_O* (Mathis Antony & Stephan Brüggemann)  \n",
        "**Score**: 0.845 weighted quadratic‑weighted Kappa (private leaderboard)  \n",
        "**Public leaderboard**: 7th place (5.8 k K‑appa)\n",
        "\n",
        "| Item | Details | Source |\n",
        "|------|---------|--------|\n",
        "| **Winning team** | “o_O” (Mathis Antony & Stephan Brüggemann) | 5.8 k K‑appa on the private leaderboard, 7 th place on the public leaderboard【9†L18-L23】 |\n",
        "| **Overall performance** | 0.845 weighted quadratic weighted Kappa (private leaderboard) | 5.8 k K‑appa, 0.845 score【9†L19-L22】 |\n",
        "| **Core architecture** | Two custom 2‑D convolutional nets (Net A & Net B) with a **per‑patient blending network** (Table 2) | 13‑25 | 12‑15 |\n",
        "| **Training framework** | Lasagne + nolearn (Theano) | 10‑11 |\n",
        "| **Image size** | 128 × 128, 256 × 256 and 512 × 512 (large color images, cropped to remove background) | 21‑24 |\n",
        "| **Pre‑training strategy** | *First* train a small network on 128‑pixel images.  Weights are then used to initialise an intermediate‑size network (trained on 256 px) and finally a 512‑pixel network.  Orthogonal initialization for all weights. | 105‑108 |\n",
        "| **Data augmentation** | Translation, stretching, rotation, flipping, colour jitter; per‑channel zero‑mean/unit‑variance scaling; 112/224/448 output sizes for 128/256/512 input images. | 115‑121 |\n",
        "| **Class imbalance handling** | Dynamic resampling: oversample rare classes initially, then gradually reduce; resampling weights \\((1.36, 14.4, 6.64, 40.2, 49.6)\\) → \\((1,2,2,2,2)\\). | 82‑96 |\n",
        "| **Training schedule** | Nesterov momentum with a fixed learning‑rate schedule over 250 epochs; learning rates 0.003 (epoch 0) → 0.00003 (epoch 150); L2 weight decay 0.0005; dropout after convolution and dense layers. | 31‑36, 70‑73 |\n",
        "| **Loss & objective** | Mean‑squared‑error regression (output thresholded at (0.5,1.5,2.5,3.5) to obtain integer grades). | 75‑77 |\n",
        "| **Blending network** | Input: mean & std of the RMSPool layer over 50 augmentations for each eye (µ,σ) + eye‑side indicator; 8193‑input → Dense 32 → Maxout 16 → Dense 32 → Maxout 16; Adam optimiser with a schedule (5 e‑4 → 5 e‑7). | 148‑156, 158‑166 |\n",
        "| **Final ensemble** | Average of the two conv‑net predictions, blended with the patient‑level network; score 0.845 (private) vs 0.824 (no per‑patient blend). | 167‑169 |\n",
        "| **Key design choices that yielded the win** | 1. **Large input resolution** – 512 × 512 (and even 768 × 768 for 0.81 Kappa) to capture micro‑aneurysms. 2. **Stage‑wise pre‑training** – starting from 128 px to 512 px to stabilise training. 3. **Extensive data augmentation & per‑channel normalisation**. 4. **Dynamic resampling** to address class imbalance without a weighted loss. 5. **Per‑patient blending** that aggregates information from both eyes and multiple augmentations. 6. **Ensembling of two independently trained nets**. | 45‑69, 82‑96, 100‑108, 115‑121, 131‑139, 167‑169 |\n",
        "\n",
        "### **Why their approach won**\n",
        "\n",
        "The combination of **large‑resolution images**, staged pre‑training, aggressive augmentation, careful imbalance handling, and per‑patient feature blending allowed the o_O model to achieve the highest weighted quadratic‑weighted κ score in the 2015 competition.\n",
        "\n"
      ],
      "metadata": {
        "id": "HFG4NZGwRfSk"
      }
    }
  ],
  "metadata": {
    "kernelspec": {
      "display_name": "Python 3",
      "name": "python3"
    },
    "language_info": {
      "codemirror_mode": {
        "name": "ipython",
        "version": 3
      },
      "file_extension": ".py",
      "mimetype": "text/x-python",
      "name": "python",
      "nbconvert_exporter": "python",
      "pygments_lexer": "ipython3",
      "version": "3.11.5"
    },
    "colab": {
      "provenance": [],
      "machine_shape": "hm",
      "gpuType": "A100",
      "include_colab_link": true
    },
    "accelerator": "GPU"
  },
  "nbformat": 4,
  "nbformat_minor": 0
}