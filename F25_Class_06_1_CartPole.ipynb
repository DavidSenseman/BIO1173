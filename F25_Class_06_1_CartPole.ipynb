{
  "cells": [
    {
      "cell_type": "markdown",
      "metadata": {
        "id": "view-in-github",
        "colab_type": "text"
      },
      "source": [
        "<a href=\"https://colab.research.google.com/github/DavidSenseman/BIO1173/blob/main/F25_Class_06_1_CartPole.ipynb\" target=\"_parent\"><img src=\"https://colab.research.google.com/assets/colab-badge.svg\" alt=\"Open In Colab\"/></a>"
      ]
    },
    {
      "cell_type": "markdown",
      "metadata": {
        "id": "6dkLTudD-NoQ"
      },
      "source": [
        "---------------------------\n",
        "**COPYRIGHT NOTICE:** This Jupyterlab Notebook is a Derivative work of [Jeff Heaton](https://github.com/jeffheaton) licensed under the Apache License, Version 2.0 (the \"License\"); You may not use this file except in compliance with the License. You may obtain a copy of the License at\n",
        "\n",
        "> [http://www.apache.org/licenses/LICENSE-2.0](http://www.apache.org/licenses/LICENSE-2.0)\n",
        "\n",
        "Unless required by applicable law or agreed to in writing, software distributed under the License is distributed on an \"AS IS\" BASIS, WITHOUT WARRANTIES OR CONDITIONS OF ANY KIND, either express or implied. See the License for the specific language governing permissions and limitations under the License.\n",
        "\n",
        "------------------------"
      ]
    },
    {
      "cell_type": "markdown",
      "source": [
        "# **BIO 1173: Intro Computational Biology**"
      ],
      "metadata": {
        "id": "fhdLgU8usnPQ"
      }
    },
    {
      "cell_type": "markdown",
      "metadata": {
        "id": "wN-T0x2j-NoR"
      },
      "source": [
        "##### **Module 6: Reinforcement Learning**\n",
        "\n",
        "* Instructor: [David Senseman](mailto:David.Senseman@utsa.edu), [Department of Biology, Health and the Environment](https://sciences.utsa.edu/bhe/), [UTSA](https://www.utsa.edu/)\n",
        "\n",
        "### Module 6 Material\n",
        "\n",
        "* **Part 6.1: Introduction to Introduction to Gymnasium and Q-Learning**\n",
        "* Part 6.2: Stable Baselines Q-Learning\n",
        "* Part 6.3: Atari Games with Stable Baselines Neural Networks\n",
        "* Part 6.4: Future of Reinforcement Learning\n"
      ]
    },
    {
      "cell_type": "markdown",
      "metadata": {
        "id": "MIOgB0oG-NoS"
      },
      "source": [
        "## Google CoLab Instructions\n",
        "\n",
        "You MUST run the following code cell to get credit for this class lesson. By running this code cell, you will map your GDrive to /content/drive and print out your Google GMAIL address. Your Instructor will use your GMAIL address to verify the author of this class lesson."
      ]
    },
    {
      "cell_type": "code",
      "execution_count": null,
      "metadata": {
        "colab": {
          "base_uri": "https://localhost:8080/"
        },
        "id": "ERfMETL_-NoS",
        "outputId": "d0240b46-0dd5-4408-fd0f-109fc4dd8657"
      },
      "outputs": [
        {
          "output_type": "stream",
          "name": "stdout",
          "text": [
            "Mounted at /content/drive\n",
            "Note: Using Google CoLab\n",
            "david.senseman@gmail.com\n"
          ]
        }
      ],
      "source": [
        "# You must run this cell first\n",
        "try:\n",
        "    from google.colab import drive\n",
        "    drive.mount('/content/drive', force_remount=True)\n",
        "    from google.colab import auth\n",
        "    auth.authenticate_user()\n",
        "    COLAB = True\n",
        "    print(\"Note: Using Google CoLab\")\n",
        "    import requests\n",
        "    gcloud_token = !gcloud auth print-access-token\n",
        "    gcloud_tokeninfo = requests.get('https://www.googleapis.com/oauth2/v3/tokeninfo?access_token=' + gcloud_token[0]).json()\n",
        "    print(gcloud_tokeninfo['email'])\n",
        "except:\n",
        "    print(\"**WARNING**: Your GMAIL address was **not** printed in the output below.\")\n",
        "    print(\"**WARNING**: You will NOT receive credit for this lesson.\")\n",
        "    COLAB = False"
      ]
    },
    {
      "cell_type": "markdown",
      "source": [
        "Make sure your GMAIL address is included as the last line in the output above."
      ],
      "metadata": {
        "id": "b3tT0Yojtv-8"
      }
    },
    {
      "cell_type": "markdown",
      "source": [
        "### Install Gymnasium\n",
        "\n",
        "Before we can beging, we need to install Hugging Face datasets by running the code in the next cell."
      ],
      "metadata": {
        "id": "dxOKy1Sat7rz"
      }
    },
    {
      "cell_type": "code",
      "execution_count": null,
      "metadata": {
        "id": "IcTY1gkD-X5r"
      },
      "outputs": [],
      "source": [
        "# Install gymnasium\n",
        "\n",
        "!pip install gymnasium[atari] > /dev/null\n",
        "!pip install pyvirtualdisplay > /dev/null\n",
        "!sudo DEBIAN_FRONTEND=noninteractive apt-get install -y xvfb ffmpeg > /dev/null\n"
      ]
    },
    {
      "cell_type": "markdown",
      "source": [
        "### Install Custom Functions\n",
        "\n",
        "Run the cell below to load custom functions used in this lesson."
      ],
      "metadata": {
        "id": "dfExM5hY3fAT"
      }
    },
    {
      "cell_type": "code",
      "source": [
        "# Simple function to print out elasped time\n",
        "def hms_string(sec_elapsed):\n",
        "    h = int(sec_elapsed / (60 * 60))\n",
        "    m = int((sec_elapsed % (60 * 60)) / 60)\n",
        "    s = sec_elapsed % 60\n",
        "    return \"{}:{:>02}:{:>05.2f}\".format(h, m, s)"
      ],
      "metadata": {
        "id": "37ShL3h23sK5"
      },
      "execution_count": null,
      "outputs": []
    },
    {
      "cell_type": "markdown",
      "source": [
        "# **Introduction to Gymnasium and Q-Learning**"
      ],
      "metadata": {
        "id": "ZJrIgZkszA7x"
      }
    },
    {
      "cell_type": "markdown",
      "source": [
        "## **Gymnasium**\n",
        "\n",
        "**Gymnasium** is a toolkit for developing and comparing reinforcement learning (RL) algorithms. It provides various environments that simulate different tasks and challenges, which agents (algorithms) can interact with to learn and improve their performance.\n",
        "\n",
        "### **How Gymnasium Can Be Useful for Computational Biologists**\n",
        "\n",
        "Gymnasium can be a valuable tool for computational biologists in several ways. Here are some potential applications:\n",
        "\n",
        "##### **1. Modeling Biological Systems**\n",
        "Gymnasium provides a platform for simulating and modeling complex biological systems. Computational biologists can use Gymnasium environments to create and test models of cellular processes, metabolic pathways, and genetic networks. This helps in understanding the dynamics of these systems and predicting their behavior under different conditions.\n",
        "\n",
        "##### **2. Reinforcement Learning for Drug Discovery**\n",
        "Reinforcement learning (RL) algorithms can be applied to drug discovery and development. By using Gymnasium environments, computational biologists can train RL agents to explore chemical spaces, optimize molecular structures, and predict the efficacy of potential drug candidates. This accelerates the drug discovery process and reduces the need for costly and time-consuming experiments.\n",
        "\n",
        "##### **3. Optimization of Experimental Protocols**\n",
        "Gymnasium can be used to optimize experimental protocols in computational biology. For example, RL agents can be trained to design efficient experimental setups, select optimal parameters, and minimize experimental errors. This leads to more accurate and reproducible results in biological research.\n",
        "\n",
        "##### **4. Simulating Evolutionary Processes**\n",
        "Gymnasium environments can simulate evolutionary processes, allowing computational biologists to study the evolution of populations, genetic diversity, and adaptation mechanisms. By modeling these processes, researchers can gain insights into the principles of evolution and apply them to areas such as conservation biology and synthetic biology.\n",
        "\n",
        "##### **5. Analyzing Biological Data**\n",
        "Gymnasium can be integrated with data analysis tools to analyze large-scale biological data. Computational biologists can use Gymnasium environments to preprocess, visualize, and interpret data from genomics, proteomics, and other omics studies. This helps in identifying patterns, correlations, and potential biomarkers.\n",
        "\n",
        "##### **6. Training and Education**\n",
        "Gymnasium can be used as an educational tool to teach computational biology concepts. Students and researchers can interact with Gymnasium environments to learn about biological systems, experiment with different algorithms, and gain hands-on experience in computational modeling and simulation.\n",
        "\n",
        "### **Example Use Case: Protein Folding**\n",
        "One specific application is the study of protein folding. Computational biologists can use Gymnasium to create environments that simulate the folding process of proteins. RL agents can be trained to predict the final folded structure of a protein based on its amino acid sequence. This has significant implications for understanding diseases related to protein misfolding and designing therapeutic interventions.\n",
        "\n",
        "By leveraging Gymnasium, computational biologists can enhance their research capabilities, accelerate discoveries, and gain deeper insights into the complexities of biological systems."
      ],
      "metadata": {
        "id": "FQ2xbLNlzFvB"
      }
    },
    {
      "cell_type": "markdown",
      "metadata": {
        "id": "zA-E4NR2-NoY"
      },
      "source": [
        "## **Q-Learning**\n",
        "\n",
        "\n",
        "Q-Learning is a foundational technology upon which deep reinforcement learning is based. Before we explore deep reinforcement learning, it is essential to understand Q-Learning. Several components make up any Q-Learning system.\n",
        "\n",
        "1. **Agent** - The agent is an entity that exists in an environment that takes actions to affect the state of the environment, to receive rewards.\n",
        "2. **Environment** - The environment is the universe that the agent exists in. The environment is always in a specific state that is changed by the agent's actions.\n",
        "3. **Actions** - Steps that the agent can perform to alter the environment\n",
        "4. **Step** - A step occurs when the agent performs an action and potentially changes the environment state.\n",
        "5. **Episode** - A chain of steps that ultimately culminates in the environment entering a terminal state.\n",
        "6. **Epoch** - A training iteration of the agent that contains some number of episodes.\n",
        "7. **Terminal State** -  A state in which further actions do not make sense. A terminal state occurs when the agent has one, lost, or the environment exceeds the maximum number of steps in many environments.\n",
        "\n",
        "Q-Learning works by building a table that suggests an action for every possible state. This approach runs into several problems. First, the environment is usually composed of several continuous numbers, resulting in an infinite number of states. Q-Learning handles continuous states by binning these numeric values into ranges.\n",
        "\n",
        "Out of the box, Q-Learning does not deal with continuous inputs, such as a car's accelerator that can range from released to fully engaged. Additionally, Q-Learning primarily deals with discrete actions, such as pressing a joystick up or down. Researchers have developed clever tricks to allow Q-Learning to accommodate continuous actions.\n",
        "\n",
        "Deep neural networks can help solve the problems of continuous environments and action spaces. In the next section, we will learn more about deep reinforcement learning. For now, we will apply regular Q-Learning to the Mountain Car problem from OpenAI Gym.\n",
        "\n"
      ]
    },
    {
      "cell_type": "markdown",
      "source": [
        "### Example 1: Introducing the Mountain Car\n",
        "\n",
        "This section will demonstrate how Q-Learning can create a solution to the mountain car gym environment. The Mountain car is an environment where a car must climb a mountain. Because gravity is stronger than the car's engine, it cannot merely accelerate up the steep slope even with full throttle. The vehicle is situated in a valley and must learn to utilize potential energy by driving up the opposite hill before the car can make it to the goal at the top of the rightmost hill.\n",
        "\n",
        "First, it might be helpful to visualize the mountain car environment. The following code shows this environment. This code makes use of TF-Agents to perform this render. Usually, we use TF-Agents for the type of deep reinforcement learning that we will see in the next module. However, TF-Agents is just used to render the mountain care environment for now."
      ],
      "metadata": {
        "id": "GFI9xF411UuB"
      }
    },
    {
      "cell_type": "code",
      "source": [
        "# Example 1: Introduce Mountain Car\n",
        "\n",
        "import gymnasium as gym\n",
        "from PIL import Image\n",
        "from IPython.display import display\n",
        "\n",
        "# Function to display the environment's state as an image\n",
        "def display_env_state(env):\n",
        "    frame = env.render()  # Render the environment's state to a numpy array\n",
        "    image = Image.fromarray(frame)  # Convert the numpy array to an image\n",
        "    display(image)  # Display the image\n",
        "\n",
        "# Create and initialize the MountainCar environment with render mode \"rgb_array\"\n",
        "env = gym.make('MountainCar-v0', render_mode=\"rgb_array\")\n",
        "env.reset()\n",
        "\n",
        "# Display the initial state of the environment\n",
        "display_env_state(env)\n",
        "\n",
        "# Close the environment when done\n",
        "env.close()\n"
      ],
      "metadata": {
        "colab": {
          "base_uri": "https://localhost:8080/",
          "height": 417
        },
        "id": "VPuxwG6U3mPZ",
        "outputId": "8e3df182-19f5-43f7-fd0b-76d5227b947c"
      },
      "execution_count": null,
      "outputs": [
        {
          "output_type": "display_data",
          "data": {
            "text/plain": [
              "<PIL.Image.Image image mode=RGB size=600x400>"
            ],
            "image/png": "[encoded data removed]",
            "image/jpeg": "[encoded data removed]"
          },
          "metadata": {}
        }
      ]
    },
    {
      "cell_type": "markdown",
      "metadata": {
        "id": "cQBcs3yAMo_P"
      },
      "source": [
        "The mountain car environment provides the following discrete actions:\n",
        "\n",
        "* 0 - Apply left force\n",
        "* 1 - Apply no force\n",
        "* 2 - Apply right force\n",
        "\n",
        "The mountain car environment is made up of the following continuous values:\n",
        "\n",
        "* state[0] - Position\n",
        "* state[1] - Velocity\n",
        "\n",
        "The cart is not strong enough. It will need to use potential energy from the mountain behind it. The following code shows an agent that applies full throttle to climb the hill."
      ]
    },
    {
      "cell_type": "markdown",
      "source": [
        "### Example 2: Apply Full Throttle\n",
        "\n"
      ],
      "metadata": {
        "id": "Qqk1IKpkZmQZ"
      }
    },
    {
      "cell_type": "code",
      "source": [
        "import gymnasium as gym\n",
        "from gymnasium.wrappers import RecordVideo\n",
        "import glob\n",
        "import io\n",
        "import base64\n",
        "from IPython.display import HTML\n",
        "from IPython import display as ipythondisplay\n",
        "from pyvirtualdisplay import Display\n",
        "import os\n",
        "\n",
        "# Start virtual display for rendering\n",
        "virtual_display = Display(visible=0, size=(1400, 900))\n",
        "virtual_display.start()\n",
        "\n",
        "# Ensure the video folder exists\n",
        "video_folder = './videos'\n",
        "os.makedirs(video_folder, exist_ok=True)\n",
        "\n",
        "# Create the MountainCar environment with specified render mode\n",
        "env = gym.make('MountainCar-v0', render_mode=\"rgb_array\")\n",
        "env = RecordVideo(env, video_folder=video_folder)\n",
        "env.metadata['render_fps'] = 30\n",
        "\n",
        "# Reset the environment to start recording\n",
        "observation, info = env.reset()\n",
        "\n",
        "# Run the environment until truncated\n",
        "truncated = False\n",
        "i = 0\n",
        "while not truncated:\n",
        "    i += 1\n",
        "    action = 2  # Always push right\n",
        "    observation, reward, terminated, truncated, info = env.step(action)\n",
        "    # Removed the print statement to suppress Step output\n",
        "\n",
        "# Close the environment\n",
        "env.close()\n",
        "\n",
        "# Ensure the video file exists and handle video display\n",
        "video_files = glob.glob(os.path.join(video_folder, '*.mp4'))\n",
        "if not video_files:\n",
        "    raise RuntimeError(\"No video files found. Make sure the environment ran successfully and recorded video.\")\n",
        "\n",
        "# Display the video\n",
        "video = io.open(video_files[0], 'r+b').read()\n",
        "encoded = base64.b64encode(video)\n",
        "ipythondisplay.display(HTML(data='''\n",
        "    <video width=\"640\" height=\"480\" controls>\n",
        "        <source src=\"data:video/mp4;base64,{0}\" type=\"video/mp4\" />\n",
        "    </video>\n",
        "'''.format(encoded.decode('ascii'))))\n",
        "\n",
        "# Stop the virtual display when done\n",
        "virtual_display.stop()\n"
      ],
      "metadata": {
        "colab": {
          "base_uri": "https://localhost:8080/",
          "height": 574
        },
        "id": "LiqJoVJVkmDQ",
        "outputId": "4f0eb8c5-1a01-4f54-d3b6-d60c8906d533"
      },
      "execution_count": null,
      "outputs": [
        {
          "output_type": "stream",
          "name": "stderr",
          "text": [
            "/usr/local/lib/python3.11/dist-packages/gymnasium/wrappers/rendering.py:283: UserWarning: \u001b[33mWARN: Overwriting existing videos at /content/videos folder (try specifying a different `video_folder` for the `RecordVideo` wrapper if this is not desired)\u001b[0m\n",
            "  logger.warn(\n"
          ]
        },
        {
          "output_type": "display_data",
          "data": {
            "text/plain": [
              "<IPython.core.display.HTML object>"
            ],
            "text/html": [
              "\n",
              "    <video width=\"640\" height=\"480\" controls>\n",
              "        <source src=\"data:video/mp4;base64,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\" type=\"video/mp4\" />\n",
              "    </video>\n"
            ]
          },
          "metadata": {}
        },
        {
          "output_type": "execute_result",
          "data": {
            "text/plain": [
              "<pyvirtualdisplay.display.Display at 0x7a44ad764d10>"
            ]
          },
          "metadata": {},
          "execution_count": 6
        }
      ]
    },
    {
      "cell_type": "markdown",
      "metadata": {
        "id": "IVcdwI-0-Nod"
      },
      "source": [
        "### Example 3: Programmed Car\n",
        "\n",
        "Now we will look at a car that I hand-programmed. This car is straightforward; however, it solves the problem. The programmed car always applies force in one direction or another. It does not break. Whatever direction the vehicle is currently rolling, the agent uses power in that direction. Therefore, the car begins to climb a hill, is overpowered, and turns backward. However, once it starts to roll backward, force is immediately applied in this new direction.\n",
        "\n",
        "The following code implements this preprogrammed car."
      ]
    },
    {
      "cell_type": "code",
      "source": [
        "# Example 3: Programmed Car\n",
        "\n",
        "import gymnasium as gym\n",
        "from gymnasium.wrappers import RecordVideo\n",
        "import glob\n",
        "import io\n",
        "import base64\n",
        "from IPython.display import HTML\n",
        "from IPython import display as ipythondisplay\n",
        "from pyvirtualdisplay import Display\n",
        "import os\n",
        "import numpy as np\n",
        "\n",
        "# Start virtual display for rendering\n",
        "virtual_display = Display(visible=0, size=(1400, 900))\n",
        "virtual_display.start()\n",
        "\n",
        "# Ensure the video folder exists\n",
        "video_folder = './videos'\n",
        "os.makedirs(video_folder, exist_ok=True)\n",
        "\n",
        "# Create the MountainCar environment with specified render mode\n",
        "env = gym.make('MountainCar-v0', render_mode=\"rgb_array\")\n",
        "env.metadata['render_fps'] = 30\n",
        "\n",
        "# Setup the wrapper to record the video\n",
        "env = RecordVideo(env, video_folder=video_folder, episode_trigger=lambda episode_id: True)\n",
        "\n",
        "# Reset the environment to start recording\n",
        "observation, info = env.reset()\n",
        "\n",
        "# Run the environment until truncated\n",
        "truncated = False\n",
        "action = 2  # Initial action: Always push right\n",
        "\n",
        "print(\"Starting truncation...\", end=\"\")\n",
        "while not truncated:\n",
        "    state, reward, terminated, truncated, info = env.step(action)\n",
        "\n",
        "    # Adjust action based on the state\n",
        "    if state[1] > 0:\n",
        "        action = 2  # Push right\n",
        "    else:\n",
        "        action = 0  # Push left\n",
        "\n",
        "print(\"done.\")\n",
        "# Close the environment\n",
        "env.close()\n",
        "\n",
        "# Ensure the video file exists and handle video display\n",
        "video_files = glob.glob(os.path.join(video_folder, '*.mp4'))\n",
        "if not video_files:\n",
        "    raise RuntimeError(\"No video files found. Make sure the environment ran successfully and recorded video.\")\n",
        "\n",
        "# Display the video\n",
        "video = io.open(video_files[0], 'r+b').read()\n",
        "encoded = base64.b64encode(video)\n",
        "ipythondisplay.display(HTML(data='''\n",
        "    <video width=\"640\" height=\"480\" controls>\n",
        "        <source src=\"data:video/mp4;base64,{0}\" type=\"video/mp4\" />\n",
        "    </video>\n",
        "'''.format(encoded.decode('ascii'))))\n",
        "\n",
        "# Stop the virtual display when done\n",
        "virtual_display.stop()\n"
      ],
      "metadata": {
        "colab": {
          "base_uri": "https://localhost:8080/",
          "height": 591
        },
        "id": "U959dxVFfavV",
        "outputId": "a810c878-c034-48a5-e931-a0e54c10b901"
      },
      "execution_count": null,
      "outputs": [
        {
          "output_type": "stream",
          "name": "stderr",
          "text": [
            "/usr/local/lib/python3.11/dist-packages/gymnasium/wrappers/rendering.py:283: UserWarning: \u001b[33mWARN: Overwriting existing videos at /content/videos folder (try specifying a different `video_folder` for the `RecordVideo` wrapper if this is not desired)\u001b[0m\n",
            "  logger.warn(\n"
          ]
        },
        {
          "output_type": "stream",
          "name": "stdout",
          "text": [
            "Starting truncation...done.\n"
          ]
        },
        {
          "output_type": "display_data",
          "data": {
            "text/plain": [
              "<IPython.core.display.HTML object>"
            ],
            "text/html": [
              "\n",
              "    <video width=\"640\" height=\"480\" controls>\n",
              "        <source src=\"data:video/mp4;base64,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\" type=\"video/mp4\" />\n",
              "    </video>\n"
            ]
          },
          "metadata": {}
        },
        {
          "output_type": "execute_result",
          "data": {
            "text/plain": [
              "<pyvirtualdisplay.display.Display at 0x7a44ad3ba7d0>"
            ]
          },
          "metadata": {},
          "execution_count": 7
        }
      ]
    },
    {
      "cell_type": "markdown",
      "metadata": {
        "id": "QAyqqoy9-Nog"
      },
      "source": [
        "# **Reinforcement Learning**\n",
        "\n",
        "Q-Learning is a system of rewards that the algorithm gives an agent for successfully moving the environment into a state considered successful. These rewards are the Q-values from which this algorithm takes its name. The final output from the Q-Learning algorithm is a table of Q-values that indicate the reward value of every action that the agent can take, given every possible environment state. The agent must bin continuous state values into a fixed finite number of columns.\n",
        "\n",
        "Learning occurs when the algorithm runs the agent and environment through episodes and updates the Q-values based on the rewards received from actions taken; Figure 12.REINF provides a high-level overview of this reinforcement or Q-Learning loop.\n",
        "\n",
        "**Figure 12.REINF:Reinforcement/Q Learning**\n",
        "![Reinforcement Learning](https://raw.githubusercontent.com/jeffheaton/t81_558_deep_learning/master/images/reinforcement.png \"Reinforcement Learning\")\n",
        "\n",
        "The Q-values can dictate action by selecting the action column with the highest Q-value for the current environment state. The choice between choosing a random action and a Q-value-driven action is governed by the epsilon ($\\epsilon$) parameter, the probability of random action.\n",
        "\n",
        "Each time through the training loop, the training algorithm updates the Q-values according to the following equation.\n"
      ]
    },
    {
      "cell_type": "markdown",
      "metadata": {
        "id": "NzZnd9Tj7rNc"
      },
      "source": [
        "$Q^{new}(s_{t},a_{t}) \\leftarrow \\underbrace{Q(s_{t},a_{t})}_{\\text{old value}} + \\underbrace{\\alpha}_{\\text{learning rate}} \\cdot  \\overbrace{\\bigg( \\underbrace{\\underbrace{r_{t}}_{\\text{reward}} + \\underbrace{\\gamma}_{\\text{discount factor}} \\cdot \\underbrace{\\max_{a}Q(s_{t+1}, a)}_{\\text{estimate of optimal future value}}}_{\\text{new value (temporal difference target)}} - \\underbrace{Q(s_{t},a_{t})}_{\\text{old value}} \\bigg) }^{\\text{temporal difference}}$\n",
        "\n",
        "There are several parameters in this equation:\n",
        "* alpha ($\\alpha$) - The learning rate, how much should the current step cause the Q-values to be updated.\n",
        "* lambda ($\\lambda$) - The discount factor is the percentage of future reward that the algorithm should consider in this update.\n",
        "\n",
        "This equation modifies several values:\n",
        "\n",
        "* $Q(s_t,a_t)$ - The Q-table.  For each combination of states, what reward would the agent likely receive for performing each action?\n",
        "* $s_t$ - The current state.\n",
        "* $r_t$ - The last reward received.\n",
        "* $a_t$ - The action that the agent will perform.\n",
        "\n",
        "The equation works by calculating a delta (temporal difference) that the equation should apply to the old state. This learning rate ($\\alpha$) scales this delta. A learning rate of 1.0 would fully implement the temporal difference in the Q-values each iteration and would likely be very chaotic.\n",
        "\n",
        "There are two parts to the temporal difference: the new and old values. The new value is subtracted from the old value to provide a delta; the full amount we would change the Q-value by if the learning rate did not scale this value. The new value is a summation of the reward received from the last action and the maximum Q-values from the resulting state when the client takes this action. Adding the maximum of action Q-values for the new state is essential because it estimates the optimal future values from proceeding with this action.\n",
        "\n",
        "\n"
      ]
    },
    {
      "cell_type": "markdown",
      "source": [
        "### Example 4: Q-Learning Car\n",
        "\n",
        "We will now use Q-Learning to produce a car that learns to drive itself. Look out, Tesla! We begin by defining two essential functions."
      ],
      "metadata": {
        "id": "8E0wxj3r4hbF"
      }
    },
    {
      "cell_type": "markdown",
      "source": [],
      "metadata": {
        "id": "FjZnsxqIlj0r"
      }
    },
    {
      "cell_type": "code",
      "source": [
        "# Functions for Car Game\n",
        "\n",
        "import gymnasium\n",
        "import numpy as np\n",
        "\n",
        "# This function converts the floating point state values into\n",
        "# discrete values. This is often called binning.  We divide\n",
        "# the range that the state values might occupy and assign\n",
        "# each region to a bucket.\n",
        "def calc_discrete_state_car(state):\n",
        "    discrete_state = (state - env.observation_space.low)/buckets\n",
        "    return tuple(discrete_state.astype(int))\n",
        "\n",
        "# Run one game.  The q_table to use is provided.  We also\n",
        "# provide a flag to indicate if the game should be\n",
        "# rendered/animated.  Finally, we also provide\n",
        "# a flag to indicate if the q_table should be updated.\n",
        "def run_game_car(q_table_car, render, should_update):\n",
        "    done = False\n",
        "    discrete_state = calc_discrete_state_car(env.reset()[0])\n",
        "    success = False\n",
        "\n",
        "    while not done:\n",
        "        # Exploit or explore\n",
        "        if np.random.random() > epsilon:\n",
        "            # Exploit - use q-table to take current best action\n",
        "            # (and probably refine)\n",
        "            action = np.argmax(q_table_car[discrete_state])\n",
        "        else:\n",
        "            # Explore - t\n",
        "            action = np.random.randint(0, env.action_space.n)\n",
        "\n",
        "        # Run simulation step\n",
        "        new_state, reward, done, _, _ = env.step(action)\n",
        "\n",
        "        # Convert continuous state to discrete\n",
        "        new_state_disc = calc_discrete_state_car(new_state)\n",
        "\n",
        "        # Have we reached the goal position (have we won?)?\n",
        "        if new_state[0] >= env.unwrapped.goal_position:\n",
        "            success = True\n",
        "\n",
        "        # Update q-table\n",
        "        if should_update:\n",
        "            max_future_q = np.max(q_table_car[new_state_disc])\n",
        "            current_q = q_table_car[discrete_state + (action,)]\n",
        "            new_q = (1 - LEARNING_RATE) * current_q + LEARNING_RATE * \\\n",
        "                (reward + DISCOUNT * max_future_q)\n",
        "            q_table_car[discrete_state + (action,)] = new_q\n",
        "\n",
        "        discrete_state = new_state_disc\n",
        "\n",
        "        if render:\n",
        "            env.render()\n",
        "\n",
        "    return success"
      ],
      "metadata": {
        "id": "23drChSYm-Da"
      },
      "execution_count": null,
      "outputs": []
    },
    {
      "cell_type": "markdown",
      "source": [],
      "metadata": {
        "id": "1C9QDfDTms5w"
      }
    },
    {
      "cell_type": "markdown",
      "metadata": {
        "id": "n3j1M4MddIBF"
      },
      "source": [
        "Several hyperparameters are very important for Q-Learning. These parameters will likely need adjustment as you apply Q-Learning to other problems. Because of this, it is crucial to understand the role of each parameter.\n",
        "\n",
        "* **LEARNING_RATE** The rate at which previous Q-values are updated based on new episodes run during training.\n",
        "* **DISCOUNT** The amount of significance to give estimates of future rewards when added to the reward for the current action taken. A value of 0.95 would indicate a discount of 5% on the future reward estimates.\n",
        "* **EPISODES** The number of episodes to train over. Increase this for more complex problems; however, training time also increases.\n",
        "* **SHOW_EVERY** How many episodes to allow to elapse before showing an update.\n",
        "* **DISCRETE_GRID_SIZE** How many buckets to use when converting each continuous state variable. For example, [10, 10] indicates that the algorithm should use ten buckets for the first and second state variables.\n",
        "* **START_EPSILON_DECAYING** Epsilon is the probability that the agent will select a random action over what the Q-Table suggests. This value determines the starting probability of randomness.\n",
        "* **END_EPSILON_DECAYING** How many episodes should elapse before epsilon goes to zero and no random actions are permitted. For example, EPISODES//10  means only the first 1/10th of the episodes might have random actions."
      ]
    },
    {
      "cell_type": "code",
      "source": [
        "# Car Game\n",
        "\n",
        "LEARNING_RATE = 0.1\n",
        "DISCOUNT = 0.95\n",
        "EPISODES = 500\n",
        "SHOW_EVERY = 100\n",
        "\n",
        "DISCRETE_GRID_SIZE = [10, 10]\n",
        "START_EPSILON_DECAYING = 0.5\n",
        "END_EPSILON_DECAYING = EPISODES//10\n",
        "\n",
        "env = gymnasium.make(\"MountainCar-v0\", render_mode=\"rgb_array\")\n",
        "\n",
        "epsilon = 1\n",
        "epsilon_change = epsilon/(END_EPSILON_DECAYING - START_EPSILON_DECAYING)\n",
        "buckets = (env.observation_space.high - env.observation_space.low) \\\n",
        "    / DISCRETE_GRID_SIZE\n",
        "q_table_car = np.random.uniform(low=-3, high=0, size=(DISCRETE_GRID_SIZE\n",
        "                                                  + [env.action_space.n]))\n",
        "success = False\n"
      ],
      "metadata": {
        "id": "5Xyc6Xpv0QcO"
      },
      "execution_count": null,
      "outputs": []
    },
    {
      "cell_type": "markdown",
      "source": [],
      "metadata": {
        "id": "YYOdh11qmBeS"
      }
    },
    {
      "cell_type": "code",
      "source": [
        "episode = 0\n",
        "success_count = 0\n",
        "\n",
        "# Loop through the required number of episodes\n",
        "while episode < EPISODES:\n",
        "    episode += 1\n",
        "    done = False\n",
        "\n",
        "    # Run the game.  If we are local, display render animation\n",
        "    # at SHOW_EVERY intervals.\n",
        "    if episode % SHOW_EVERY == 0:\n",
        "        print(f\"Current episode: {episode}, success: {success_count}\" +\n",
        "              f\" {(float(success_count)/SHOW_EVERY)}\")\n",
        "        success = run_game_car(q_table_car, True, False)\n",
        "        success_count = 0\n",
        "    else:\n",
        "        success = run_game_car(q_table_car, False, True)\n",
        "\n",
        "    # Count successes\n",
        "    if success:\n",
        "        success_count += 1\n",
        "\n",
        "    # Move epsilon towards its ending value, if it still needs to move\n",
        "    if END_EPSILON_DECAYING >= episode >= START_EPSILON_DECAYING:\n",
        "        epsilon = max(0, epsilon - epsilon_change)\n",
        "\n",
        "print(success)"
      ],
      "metadata": {
        "colab": {
          "base_uri": "https://localhost:8080/"
        },
        "id": "9Y4KPDggnH92",
        "outputId": "89b00157-1531-4b1d-8787-ae6726f38db9"
      },
      "execution_count": null,
      "outputs": [
        {
          "output_type": "stream",
          "name": "stdout",
          "text": [
            "Current episode: 100, success: 99 0.99\n",
            "Current episode: 200, success: 100 1.0\n",
            "Current episode: 300, success: 100 1.0\n",
            "Current episode: 400, success: 100 1.0\n",
            "Current episode: 500, success: 100 1.0\n",
            "True\n"
          ]
        }
      ]
    },
    {
      "cell_type": "markdown",
      "source": [
        "If the code is correct, you should see something like the following output:\n",
        "\n",
        "~~~text\n",
        "Current episode: 100, success: 99 0.99\n",
        "Current episode: 200, success: 100 1.0\n",
        "Current episode: 300, success: 100 1.0\n",
        "Current episode: 400, success: 100 1.0\n",
        "Current episode: 500, success: 100 1.0\n",
        "True\n",
        "~~~"
      ],
      "metadata": {
        "id": "KOa6lXxgwUQq"
      }
    },
    {
      "cell_type": "markdown",
      "source": [
        "As you can see, the number of successful episodes generally increases as training progresses. It is not advisable to stop the first time we observe 100% success over 1,000 episodes. There is a randomness to most games, so it is not likely that an agent would retain its 100% success rate with a new run. It might be safe to stop training once you observe that the agent has gotten 100% for several update intervals."
      ],
      "metadata": {
        "id": "AkBE_FkumBRq"
      }
    },
    {
      "cell_type": "markdown",
      "metadata": {
        "id": "kDHTQkREFRSE"
      },
      "source": [
        "\n",
        "\n",
        "## **Running and Observing the Agent**\n",
        "\n",
        "Now that the algorithm has trained the agent, we can observe the agent in action. You can use the following code to see the agent in action."
      ]
    },
    {
      "cell_type": "code",
      "execution_count": null,
      "metadata": {
        "colab": {
          "base_uri": "https://localhost:8080/",
          "height": 501
        },
        "id": "v_mf3A0h-Nox",
        "outputId": "0002604c-5bdc-4b17-a60a-ba1920434d9f"
      },
      "outputs": [
        {
          "output_type": "display_data",
          "data": {
            "text/plain": [
              "<IPython.core.display.HTML object>"
            ],
            "text/html": [
              "\n",
              "    <video width=\"640\" height=\"480\" controls>\n",
              "        <source src=\"data:video/mp4;base64,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\" type=\"video/mp4\" />\n",
              "    </video>\n"
            ]
          },
          "metadata": {}
        }
      ],
      "source": [
        "# Game 1\n",
        "\n",
        "# Setup the wrapper to record the video\n",
        "env = gymnasium.make(\"MountainCar-v0\", render_mode=\"rgb_array\")\n",
        "video_callable=lambda episode_id: True\n",
        "env = RecordVideo(env, video_folder='./videos', episode_trigger=video_callable)\n",
        "\n",
        "run_game_car(q_table_car, True, False)\n",
        "\n",
        "# Display the video\n",
        "video = io.open(glob.glob('videos/*.mp4')[0], 'r+b').read()\n",
        "encoded = base64.b64encode(video)\n",
        "ipythondisplay.display(HTML(data='''\n",
        "    <video width=\"640\" height=\"480\" controls>\n",
        "        <source src=\"data:video/mp4;base64,{0}\" type=\"video/mp4\" />\n",
        "    </video>\n",
        "'''.format(encoded.decode('ascii'))))\n"
      ]
    },
    {
      "cell_type": "markdown",
      "source": [
        "### Inspecting the Q-Table\n",
        "\n",
        "We can also display the Q-table. The following code shows the agent's action for each environment state. As the weights of a neural network, this table is not straightforward to interpret. Some patterns do emerge in that direction, as seen by calculating the means of rows and columns. The actions seem consistent at both velocity and position's upper and lower halves."
      ],
      "metadata": {
        "id": "WCmgAHPNn6r7"
      }
    },
    {
      "cell_type": "code",
      "execution_count": null,
      "metadata": {
        "colab": {
          "base_uri": "https://localhost:8080/",
          "height": 362
        },
        "id": "xyf1lvnKxGVP",
        "outputId": "fa96b27f-b7a3-4651-822f-ed85164b90cf"
      },
      "outputs": [
        {
          "output_type": "execute_result",
          "data": {
            "text/plain": [
              "     v-0  v-1  v-2  v-3  v-4  v-5  v-6  v-7  v-8  v-9\n",
              "p-0    0    2    1    2    2    1    1    1    2    2\n",
              "p-1    2    0    2    0    2    2    2    1    2    1\n",
              "p-2    0    1    0    2    1    1    1    1    2    2\n",
              "p-3    0    0    0    0    1    2    0    2    2    2\n",
              "p-4    1    0    0    0    0    0    2    2    2    2\n",
              "p-5    1    1    0    1    0    1    2    2    2    0\n",
              "p-6    1    1    1    2    1    2    1    1    2    0\n",
              "p-7    2    1    1    0    0    1    2    2    2    1\n",
              "p-8    1    0    2    2    1    0    2    0    0    0\n",
              "p-9    0    2    2    2    0    2    1    0    2    0"
            ],
            "text/html": [
              "\n",
              "  <div id=\"df-97c3385d-5062-4033-b74d-bfb8f2bf58aa\" class=\"colab-df-container\">\n",
              "    <div>\n",
              "<style scoped>\n",
              "    .dataframe tbody tr th:only-of-type {\n",
              "        vertical-align: middle;\n",
              "    }\n",
              "\n",
              "    .dataframe tbody tr th {\n",
              "        vertical-align: top;\n",
              "    }\n",
              "\n",
              "    .dataframe thead th {\n",
              "        text-align: right;\n",
              "    }\n",
              "</style>\n",
              "<table border=\"1\" class=\"dataframe\">\n",
              "  <thead>\n",
              "    <tr style=\"text-align: right;\">\n",
              "      <th></th>\n",
              "      <th>v-0</th>\n",
              "      <th>v-1</th>\n",
              "      <th>v-2</th>\n",
              "      <th>v-3</th>\n",
              "      <th>v-4</th>\n",
              "      <th>v-5</th>\n",
              "      <th>v-6</th>\n",
              "      <th>v-7</th>\n",
              "      <th>v-8</th>\n",
              "      <th>v-9</th>\n",
              "    </tr>\n",
              "  </thead>\n",
              "  <tbody>\n",
              "    <tr>\n",
              "      <th>p-0</th>\n",
              "      <td>0</td>\n",
              "      <td>2</td>\n",
              "      <td>1</td>\n",
              "      <td>2</td>\n",
              "      <td>2</td>\n",
              "      <td>1</td>\n",
              "      <td>1</td>\n",
              "      <td>1</td>\n",
              "      <td>2</td>\n",
              "      <td>2</td>\n",
              "    </tr>\n",
              "    <tr>\n",
              "      <th>p-1</th>\n",
              "      <td>2</td>\n",
              "      <td>0</td>\n",
              "      <td>2</td>\n",
              "      <td>0</td>\n",
              "      <td>2</td>\n",
              "      <td>2</td>\n",
              "      <td>2</td>\n",
              "      <td>1</td>\n",
              "      <td>2</td>\n",
              "      <td>1</td>\n",
              "    </tr>\n",
              "    <tr>\n",
              "      <th>p-2</th>\n",
              "      <td>0</td>\n",
              "      <td>1</td>\n",
              "      <td>0</td>\n",
              "      <td>2</td>\n",
              "      <td>1</td>\n",
              "      <td>1</td>\n",
              "      <td>1</td>\n",
              "      <td>1</td>\n",
              "      <td>2</td>\n",
              "      <td>2</td>\n",
              "    </tr>\n",
              "    <tr>\n",
              "      <th>p-3</th>\n",
              "      <td>0</td>\n",
              "      <td>0</td>\n",
              "      <td>0</td>\n",
              "      <td>0</td>\n",
              "      <td>1</td>\n",
              "      <td>2</td>\n",
              "      <td>0</td>\n",
              "      <td>2</td>\n",
              "      <td>2</td>\n",
              "      <td>2</td>\n",
              "    </tr>\n",
              "    <tr>\n",
              "      <th>p-4</th>\n",
              "      <td>1</td>\n",
              "      <td>0</td>\n",
              "      <td>0</td>\n",
              "      <td>0</td>\n",
              "      <td>0</td>\n",
              "      <td>0</td>\n",
              "      <td>2</td>\n",
              "      <td>2</td>\n",
              "      <td>2</td>\n",
              "      <td>2</td>\n",
              "    </tr>\n",
              "    <tr>\n",
              "      <th>p-5</th>\n",
              "      <td>1</td>\n",
              "      <td>1</td>\n",
              "      <td>0</td>\n",
              "      <td>1</td>\n",
              "      <td>0</td>\n",
              "      <td>1</td>\n",
              "      <td>2</td>\n",
              "      <td>2</td>\n",
              "      <td>2</td>\n",
              "      <td>0</td>\n",
              "    </tr>\n",
              "    <tr>\n",
              "      <th>p-6</th>\n",
              "      <td>1</td>\n",
              "      <td>1</td>\n",
              "      <td>1</td>\n",
              "      <td>2</td>\n",
              "      <td>1</td>\n",
              "      <td>2</td>\n",
              "      <td>1</td>\n",
              "      <td>1</td>\n",
              "      <td>2</td>\n",
              "      <td>0</td>\n",
              "    </tr>\n",
              "    <tr>\n",
              "      <th>p-7</th>\n",
              "      <td>2</td>\n",
              "      <td>1</td>\n",
              "      <td>1</td>\n",
              "      <td>0</td>\n",
              "      <td>0</td>\n",
              "      <td>1</td>\n",
              "      <td>2</td>\n",
              "      <td>2</td>\n",
              "      <td>2</td>\n",
              "      <td>1</td>\n",
              "    </tr>\n",
              "    <tr>\n",
              "      <th>p-8</th>\n",
              "      <td>1</td>\n",
              "      <td>0</td>\n",
              "      <td>2</td>\n",
              "      <td>2</td>\n",
              "      <td>1</td>\n",
              "      <td>0</td>\n",
              "      <td>2</td>\n",
              "      <td>0</td>\n",
              "      <td>0</td>\n",
              "      <td>0</td>\n",
              "    </tr>\n",
              "    <tr>\n",
              "      <th>p-9</th>\n",
              "      <td>0</td>\n",
              "      <td>2</td>\n",
              "      <td>2</td>\n",
              "      <td>2</td>\n",
              "      <td>0</td>\n",
              "      <td>2</td>\n",
              "      <td>1</td>\n",
              "      <td>0</td>\n",
              "      <td>2</td>\n",
              "      <td>0</td>\n",
              "    </tr>\n",
              "  </tbody>\n",
              "</table>\n",
              "</div>\n",
              "    <div class=\"colab-df-buttons\">\n",
              "\n",
              "  <div class=\"colab-df-container\">\n",
              "    <button class=\"colab-df-convert\" onclick=\"convertToInteractive('df-97c3385d-5062-4033-b74d-bfb8f2bf58aa')\"\n",
              "            title=\"Convert this dataframe to an interactive table.\"\n",
              "            style=\"display:none;\">\n",
              "\n",
              "  <svg xmlns=\"http://www.w3.org/2000/svg\" height=\"24px\" viewBox=\"0 -960 960 960\">\n",
              "    <path d=\"M120-120v-720h720v720H120Zm60-500h600v-160H180v160Zm220 220h160v-160H400v160Zm0 220h160v-160H400v160ZM180-400h160v-160H180v160Zm440 0h160v-160H620v160ZM180-180h160v-160H180v160Zm440 0h160v-160H620v160Z\"/>\n",
              "  </svg>\n",
              "    </button>\n",
              "\n",
              "  <style>\n",
              "    .colab-df-container {\n",
              "      display:flex;\n",
              "      gap: 12px;\n",
              "    }\n",
              "\n",
              "    .colab-df-convert {\n",
              "      background-color: #E8F0FE;\n",
              "      border: none;\n",
              "      border-radius: 50%;\n",
              "      cursor: pointer;\n",
              "      display: none;\n",
              "      fill: #1967D2;\n",
              "      height: 32px;\n",
              "      padding: 0 0 0 0;\n",
              "      width: 32px;\n",
              "    }\n",
              "\n",
              "    .colab-df-convert:hover {\n",
              "      background-color: #E2EBFA;\n",
              "      box-shadow: 0px 1px 2px rgba(60, 64, 67, 0.3), 0px 1px 3px 1px rgba(60, 64, 67, 0.15);\n",
              "      fill: #174EA6;\n",
              "    }\n",
              "\n",
              "    .colab-df-buttons div {\n",
              "      margin-bottom: 4px;\n",
              "    }\n",
              "\n",
              "    [theme=dark] .colab-df-convert {\n",
              "      background-color: #3B4455;\n",
              "      fill: #D2E3FC;\n",
              "    }\n",
              "\n",
              "    [theme=dark] .colab-df-convert:hover {\n",
              "      background-color: #434B5C;\n",
              "      box-shadow: 0px 1px 3px 1px rgba(0, 0, 0, 0.15);\n",
              "      filter: drop-shadow(0px 1px 2px rgba(0, 0, 0, 0.3));\n",
              "      fill: #FFFFFF;\n",
              "    }\n",
              "  </style>\n",
              "\n",
              "    <script>\n",
              "      const buttonEl =\n",
              "        document.querySelector('#df-97c3385d-5062-4033-b74d-bfb8f2bf58aa button.colab-df-convert');\n",
              "      buttonEl.style.display =\n",
              "        google.colab.kernel.accessAllowed ? 'block' : 'none';\n",
              "\n",
              "      async function convertToInteractive(key) {\n",
              "        const element = document.querySelector('#df-97c3385d-5062-4033-b74d-bfb8f2bf58aa');\n",
              "        const dataTable =\n",
              "          await google.colab.kernel.invokeFunction('convertToInteractive',\n",
              "                                                    [key], {});\n",
              "        if (!dataTable) return;\n",
              "\n",
              "        const docLinkHtml = 'Like what you see? Visit the ' +\n",
              "          '<a target=\"_blank\" href=https://colab.research.google.com/notebooks/data_table.ipynb>data table notebook</a>'\n",
              "          + ' to learn more about interactive tables.';\n",
              "        element.innerHTML = '';\n",
              "        dataTable['output_type'] = 'display_data';\n",
              "        await google.colab.output.renderOutput(dataTable, element);\n",
              "        const docLink = document.createElement('div');\n",
              "        docLink.innerHTML = docLinkHtml;\n",
              "        element.appendChild(docLink);\n",
              "      }\n",
              "    </script>\n",
              "  </div>\n",
              "\n",
              "\n",
              "<div id=\"df-0ff15b72-9ac4-4a99-9820-b31bc0b05eb2\">\n",
              "  <button class=\"colab-df-quickchart\" onclick=\"quickchart('df-0ff15b72-9ac4-4a99-9820-b31bc0b05eb2')\"\n",
              "            title=\"Suggest charts\"\n",
              "            style=\"display:none;\">\n",
              "\n",
              "<svg xmlns=\"http://www.w3.org/2000/svg\" height=\"24px\"viewBox=\"0 0 24 24\"\n",
              "     width=\"24px\">\n",
              "    <g>\n",
              "        <path d=\"M19 3H5c-1.1 0-2 .9-2 2v14c0 1.1.9 2 2 2h14c1.1 0 2-.9 2-2V5c0-1.1-.9-2-2-2zM9 17H7v-7h2v7zm4 0h-2V7h2v10zm4 0h-2v-4h2v4z\"/>\n",
              "    </g>\n",
              "</svg>\n",
              "  </button>\n",
              "\n",
              "<style>\n",
              "  .colab-df-quickchart {\n",
              "      --bg-color: #E8F0FE;\n",
              "      --fill-color: #1967D2;\n",
              "      --hover-bg-color: #E2EBFA;\n",
              "      --hover-fill-color: #174EA6;\n",
              "      --disabled-fill-color: #AAA;\n",
              "      --disabled-bg-color: #DDD;\n",
              "  }\n",
              "\n",
              "  [theme=dark] .colab-df-quickchart {\n",
              "      --bg-color: #3B4455;\n",
              "      --fill-color: #D2E3FC;\n",
              "      --hover-bg-color: #434B5C;\n",
              "      --hover-fill-color: #FFFFFF;\n",
              "      --disabled-bg-color: #3B4455;\n",
              "      --disabled-fill-color: #666;\n",
              "  }\n",
              "\n",
              "  .colab-df-quickchart {\n",
              "    background-color: var(--bg-color);\n",
              "    border: none;\n",
              "    border-radius: 50%;\n",
              "    cursor: pointer;\n",
              "    display: none;\n",
              "    fill: var(--fill-color);\n",
              "    height: 32px;\n",
              "    padding: 0;\n",
              "    width: 32px;\n",
              "  }\n",
              "\n",
              "  .colab-df-quickchart:hover {\n",
              "    background-color: var(--hover-bg-color);\n",
              "    box-shadow: 0 1px 2px rgba(60, 64, 67, 0.3), 0 1px 3px 1px rgba(60, 64, 67, 0.15);\n",
              "    fill: var(--button-hover-fill-color);\n",
              "  }\n",
              "\n",
              "  .colab-df-quickchart-complete:disabled,\n",
              "  .colab-df-quickchart-complete:disabled:hover {\n",
              "    background-color: var(--disabled-bg-color);\n",
              "    fill: var(--disabled-fill-color);\n",
              "    box-shadow: none;\n",
              "  }\n",
              "\n",
              "  .colab-df-spinner {\n",
              "    border: 2px solid var(--fill-color);\n",
              "    border-color: transparent;\n",
              "    border-bottom-color: var(--fill-color);\n",
              "    animation:\n",
              "      spin 1s steps(1) infinite;\n",
              "  }\n",
              "\n",
              "  @keyframes spin {\n",
              "    0% {\n",
              "      border-color: transparent;\n",
              "      border-bottom-color: var(--fill-color);\n",
              "      border-left-color: var(--fill-color);\n",
              "    }\n",
              "    20% {\n",
              "      border-color: transparent;\n",
              "      border-left-color: var(--fill-color);\n",
              "      border-top-color: var(--fill-color);\n",
              "    }\n",
              "    30% {\n",
              "      border-color: transparent;\n",
              "      border-left-color: var(--fill-color);\n",
              "      border-top-color: var(--fill-color);\n",
              "      border-right-color: var(--fill-color);\n",
              "    }\n",
              "    40% {\n",
              "      border-color: transparent;\n",
              "      border-right-color: var(--fill-color);\n",
              "      border-top-color: var(--fill-color);\n",
              "    }\n",
              "    60% {\n",
              "      border-color: transparent;\n",
              "      border-right-color: var(--fill-color);\n",
              "    }\n",
              "    80% {\n",
              "      border-color: transparent;\n",
              "      border-right-color: var(--fill-color);\n",
              "      border-bottom-color: var(--fill-color);\n",
              "    }\n",
              "    90% {\n",
              "      border-color: transparent;\n",
              "      border-bottom-color: var(--fill-color);\n",
              "    }\n",
              "  }\n",
              "</style>\n",
              "\n",
              "  <script>\n",
              "    async function quickchart(key) {\n",
              "      const quickchartButtonEl =\n",
              "        document.querySelector('#' + key + ' button');\n",
              "      quickchartButtonEl.disabled = true;  // To prevent multiple clicks.\n",
              "      quickchartButtonEl.classList.add('colab-df-spinner');\n",
              "      try {\n",
              "        const charts = await google.colab.kernel.invokeFunction(\n",
              "            'suggestCharts', [key], {});\n",
              "      } catch (error) {\n",
              "        console.error('Error during call to suggestCharts:', error);\n",
              "      }\n",
              "      quickchartButtonEl.classList.remove('colab-df-spinner');\n",
              "      quickchartButtonEl.classList.add('colab-df-quickchart-complete');\n",
              "    }\n",
              "    (() => {\n",
              "      let quickchartButtonEl =\n",
              "        document.querySelector('#df-0ff15b72-9ac4-4a99-9820-b31bc0b05eb2 button');\n",
              "      quickchartButtonEl.style.display =\n",
              "        google.colab.kernel.accessAllowed ? 'block' : 'none';\n",
              "    })();\n",
              "  </script>\n",
              "</div>\n",
              "\n",
              "  <div id=\"id_31503906-04b4-4b88-99d4-e731be2574bf\">\n",
              "    <style>\n",
              "      .colab-df-generate {\n",
              "        background-color: #E8F0FE;\n",
              "        border: none;\n",
              "        border-radius: 50%;\n",
              "        cursor: pointer;\n",
              "        display: none;\n",
              "        fill: #1967D2;\n",
              "        height: 32px;\n",
              "        padding: 0 0 0 0;\n",
              "        width: 32px;\n",
              "      }\n",
              "\n",
              "      .colab-df-generate:hover {\n",
              "        background-color: #E2EBFA;\n",
              "        box-shadow: 0px 1px 2px rgba(60, 64, 67, 0.3), 0px 1px 3px 1px rgba(60, 64, 67, 0.15);\n",
              "        fill: #174EA6;\n",
              "      }\n",
              "\n",
              "      [theme=dark] .colab-df-generate {\n",
              "        background-color: #3B4455;\n",
              "        fill: #D2E3FC;\n",
              "      }\n",
              "\n",
              "      [theme=dark] .colab-df-generate:hover {\n",
              "        background-color: #434B5C;\n",
              "        box-shadow: 0px 1px 3px 1px rgba(0, 0, 0, 0.15);\n",
              "        filter: drop-shadow(0px 1px 2px rgba(0, 0, 0, 0.3));\n",
              "        fill: #FFFFFF;\n",
              "      }\n",
              "    </style>\n",
              "    <button class=\"colab-df-generate\" onclick=\"generateWithVariable('df_car')\"\n",
              "            title=\"Generate code using this dataframe.\"\n",
              "            style=\"display:none;\">\n",
              "\n",
              "  <svg xmlns=\"http://www.w3.org/2000/svg\" height=\"24px\"viewBox=\"0 0 24 24\"\n",
              "       width=\"24px\">\n",
              "    <path d=\"M7,19H8.4L18.45,9,17,7.55,7,17.6ZM5,21V16.75L18.45,3.32a2,2,0,0,1,2.83,0l1.4,1.43a1.91,1.91,0,0,1,.58,1.4,1.91,1.91,0,0,1-.58,1.4L9.25,21ZM18.45,9,17,7.55Zm-12,3A5.31,5.31,0,0,0,4.9,8.1,5.31,5.31,0,0,0,1,6.5,5.31,5.31,0,0,0,4.9,4.9,5.31,5.31,0,0,0,6.5,1,5.31,5.31,0,0,0,8.1,4.9,5.31,5.31,0,0,0,12,6.5,5.46,5.46,0,0,0,6.5,12Z\"/>\n",
              "  </svg>\n",
              "    </button>\n",
              "    <script>\n",
              "      (() => {\n",
              "      const buttonEl =\n",
              "        document.querySelector('#id_31503906-04b4-4b88-99d4-e731be2574bf button.colab-df-generate');\n",
              "      buttonEl.style.display =\n",
              "        google.colab.kernel.accessAllowed ? 'block' : 'none';\n",
              "\n",
              "      buttonEl.onclick = () => {\n",
              "        google.colab.notebook.generateWithVariable('df_car');\n",
              "      }\n",
              "      })();\n",
              "    </script>\n",
              "  </div>\n",
              "\n",
              "    </div>\n",
              "  </div>\n"
            ],
            "application/vnd.google.colaboratory.intrinsic+json": {
              "type": "dataframe",
              "variable_name": "df_car",
              "summary": "{\n  \"name\": \"df_car\",\n  \"rows\": 10,\n  \"fields\": [\n    {\n      \"column\": \"v-0\",\n      \"properties\": {\n        \"dtype\": \"number\",\n        \"std\": 0,\n        \"min\": 0,\n        \"max\": 2,\n        \"num_unique_values\": 3,\n        \"samples\": [\n          0,\n          2,\n          1\n        ],\n        \"semantic_type\": \"\",\n        \"description\": \"\"\n      }\n    },\n    {\n      \"column\": \"v-1\",\n      \"properties\": {\n        \"dtype\": \"number\",\n        \"std\": 0,\n        \"min\": 0,\n        \"max\": 2,\n        \"num_unique_values\": 3,\n        \"samples\": [\n          2,\n          0,\n          1\n        ],\n        \"semantic_type\": \"\",\n        \"description\": \"\"\n      }\n    },\n    {\n      \"column\": \"v-2\",\n      \"properties\": {\n        \"dtype\": \"number\",\n        \"std\": 0,\n        \"min\": 0,\n        \"max\": 2,\n        \"num_unique_values\": 3,\n        \"samples\": [\n          1,\n          2,\n          0\n        ],\n        \"semantic_type\": \"\",\n        \"description\": \"\"\n      }\n    },\n    {\n      \"column\": \"v-3\",\n      \"properties\": {\n        \"dtype\": \"number\",\n        \"std\": 0,\n        \"min\": 0,\n        \"max\": 2,\n        \"num_unique_values\": 3,\n        \"samples\": [\n          2,\n          0,\n          1\n        ],\n        \"semantic_type\": \"\",\n        \"description\": \"\"\n      }\n    },\n    {\n      \"column\": \"v-4\",\n      \"properties\": {\n        \"dtype\": \"number\",\n        \"std\": 0,\n        \"min\": 0,\n        \"max\": 2,\n        \"num_unique_values\": 3,\n        \"samples\": [\n          2,\n          1,\n          0\n        ],\n        \"semantic_type\": \"\",\n        \"description\": \"\"\n      }\n    },\n    {\n      \"column\": \"v-5\",\n      \"properties\": {\n        \"dtype\": \"number\",\n        \"std\": 0,\n        \"min\": 0,\n        \"max\": 2,\n        \"num_unique_values\": 3,\n        \"samples\": [\n          1,\n          2,\n          0\n        ],\n        \"semantic_type\": \"\",\n        \"description\": \"\"\n      }\n    },\n    {\n      \"column\": \"v-6\",\n      \"properties\": {\n        \"dtype\": \"number\",\n        \"std\": 0,\n        \"min\": 0,\n        \"max\": 2,\n        \"num_unique_values\": 3,\n        \"samples\": [\n          1,\n          2,\n          0\n        ],\n        \"semantic_type\": \"\",\n        \"description\": \"\"\n      }\n    },\n    {\n      \"column\": \"v-7\",\n      \"properties\": {\n        \"dtype\": \"number\",\n        \"std\": 0,\n        \"min\": 0,\n        \"max\": 2,\n        \"num_unique_values\": 3,\n        \"samples\": [\n          1,\n          2,\n          0\n        ],\n        \"semantic_type\": \"\",\n        \"description\": \"\"\n      }\n    },\n    {\n      \"column\": \"v-8\",\n      \"properties\": {\n        \"dtype\": \"number\",\n        \"std\": 0,\n        \"min\": 0,\n        \"max\": 2,\n        \"num_unique_values\": 2,\n        \"samples\": [\n          0,\n          2\n        ],\n        \"semantic_type\": \"\",\n        \"description\": \"\"\n      }\n    },\n    {\n      \"column\": \"v-9\",\n      \"properties\": {\n        \"dtype\": \"number\",\n        \"std\": 0,\n        \"min\": 0,\n        \"max\": 2,\n        \"num_unique_values\": 3,\n        \"samples\": [\n          2,\n          1\n        ],\n        \"semantic_type\": \"\",\n        \"description\": \"\"\n      }\n    }\n  ]\n}"
            }
          },
          "metadata": {},
          "execution_count": 12
        }
      ],
      "source": [
        "import pandas as pd\n",
        "\n",
        "df_car = pd.DataFrame(q_table_car.argmax(axis=2))\n",
        "\n",
        "df_car.columns = [f'v-{x}' for x in range(DISCRETE_GRID_SIZE[0])]\n",
        "df_car.index = [f'p-{x}' for x in range(DISCRETE_GRID_SIZE[1])]\n",
        "df_car\n"
      ]
    },
    {
      "cell_type": "markdown",
      "source": [],
      "metadata": {
        "id": "l-2EDkiFxGVQ"
      }
    },
    {
      "cell_type": "code",
      "execution_count": null,
      "metadata": {
        "colab": {
          "base_uri": "https://localhost:8080/",
          "height": 397
        },
        "id": "RNkud6kZxGVQ",
        "outputId": "1915240c-6340-431c-dc56-3caadf7ce908"
      },
      "outputs": [
        {
          "output_type": "execute_result",
          "data": {
            "text/plain": [
              "v-0    0.8\n",
              "v-1    0.8\n",
              "v-2    0.9\n",
              "v-3    1.1\n",
              "v-4    0.8\n",
              "v-5    1.2\n",
              "v-6    1.4\n",
              "v-7    1.2\n",
              "v-8    1.8\n",
              "v-9    1.0\n",
              "dtype: float64"
            ],
            "text/html": [
              "<div>\n",
              "<style scoped>\n",
              "    .dataframe tbody tr th:only-of-type {\n",
              "        vertical-align: middle;\n",
              "    }\n",
              "\n",
              "    .dataframe tbody tr th {\n",
              "        vertical-align: top;\n",
              "    }\n",
              "\n",
              "    .dataframe thead th {\n",
              "        text-align: right;\n",
              "    }\n",
              "</style>\n",
              "<table border=\"1\" class=\"dataframe\">\n",
              "  <thead>\n",
              "    <tr style=\"text-align: right;\">\n",
              "      <th></th>\n",
              "      <th>0</th>\n",
              "    </tr>\n",
              "  </thead>\n",
              "  <tbody>\n",
              "    <tr>\n",
              "      <th>v-0</th>\n",
              "      <td>0.8</td>\n",
              "    </tr>\n",
              "    <tr>\n",
              "      <th>v-1</th>\n",
              "      <td>0.8</td>\n",
              "    </tr>\n",
              "    <tr>\n",
              "      <th>v-2</th>\n",
              "      <td>0.9</td>\n",
              "    </tr>\n",
              "    <tr>\n",
              "      <th>v-3</th>\n",
              "      <td>1.1</td>\n",
              "    </tr>\n",
              "    <tr>\n",
              "      <th>v-4</th>\n",
              "      <td>0.8</td>\n",
              "    </tr>\n",
              "    <tr>\n",
              "      <th>v-5</th>\n",
              "      <td>1.2</td>\n",
              "    </tr>\n",
              "    <tr>\n",
              "      <th>v-6</th>\n",
              "      <td>1.4</td>\n",
              "    </tr>\n",
              "    <tr>\n",
              "      <th>v-7</th>\n",
              "      <td>1.2</td>\n",
              "    </tr>\n",
              "    <tr>\n",
              "      <th>v-8</th>\n",
              "      <td>1.8</td>\n",
              "    </tr>\n",
              "    <tr>\n",
              "      <th>v-9</th>\n",
              "      <td>1.0</td>\n",
              "    </tr>\n",
              "  </tbody>\n",
              "</table>\n",
              "</div><br><label><b>dtype:</b> float64</label>"
            ]
          },
          "metadata": {},
          "execution_count": 13
        }
      ],
      "source": [
        "df_car.mean(axis=0)"
      ]
    },
    {
      "cell_type": "markdown",
      "source": [],
      "metadata": {
        "id": "Ti3eDPWHxGVQ"
      }
    },
    {
      "cell_type": "code",
      "execution_count": null,
      "metadata": {
        "colab": {
          "base_uri": "https://localhost:8080/",
          "height": 397
        },
        "id": "bQoswfEZxGVQ",
        "outputId": "b929bc03-4d96-4e5e-e567-559c9fb66fbb"
      },
      "outputs": [
        {
          "output_type": "execute_result",
          "data": {
            "text/plain": [
              "p-0    1.4\n",
              "p-1    1.4\n",
              "p-2    1.1\n",
              "p-3    0.9\n",
              "p-4    0.9\n",
              "p-5    1.0\n",
              "p-6    1.2\n",
              "p-7    1.2\n",
              "p-8    0.8\n",
              "p-9    1.1\n",
              "dtype: float64"
            ],
            "text/html": [
              "<div>\n",
              "<style scoped>\n",
              "    .dataframe tbody tr th:only-of-type {\n",
              "        vertical-align: middle;\n",
              "    }\n",
              "\n",
              "    .dataframe tbody tr th {\n",
              "        vertical-align: top;\n",
              "    }\n",
              "\n",
              "    .dataframe thead th {\n",
              "        text-align: right;\n",
              "    }\n",
              "</style>\n",
              "<table border=\"1\" class=\"dataframe\">\n",
              "  <thead>\n",
              "    <tr style=\"text-align: right;\">\n",
              "      <th></th>\n",
              "      <th>0</th>\n",
              "    </tr>\n",
              "  </thead>\n",
              "  <tbody>\n",
              "    <tr>\n",
              "      <th>p-0</th>\n",
              "      <td>1.4</td>\n",
              "    </tr>\n",
              "    <tr>\n",
              "      <th>p-1</th>\n",
              "      <td>1.4</td>\n",
              "    </tr>\n",
              "    <tr>\n",
              "      <th>p-2</th>\n",
              "      <td>1.1</td>\n",
              "    </tr>\n",
              "    <tr>\n",
              "      <th>p-3</th>\n",
              "      <td>0.9</td>\n",
              "    </tr>\n",
              "    <tr>\n",
              "      <th>p-4</th>\n",
              "      <td>0.9</td>\n",
              "    </tr>\n",
              "    <tr>\n",
              "      <th>p-5</th>\n",
              "      <td>1.0</td>\n",
              "    </tr>\n",
              "    <tr>\n",
              "      <th>p-6</th>\n",
              "      <td>1.2</td>\n",
              "    </tr>\n",
              "    <tr>\n",
              "      <th>p-7</th>\n",
              "      <td>1.2</td>\n",
              "    </tr>\n",
              "    <tr>\n",
              "      <th>p-8</th>\n",
              "      <td>0.8</td>\n",
              "    </tr>\n",
              "    <tr>\n",
              "      <th>p-9</th>\n",
              "      <td>1.1</td>\n",
              "    </tr>\n",
              "  </tbody>\n",
              "</table>\n",
              "</div><br><label><b>dtype:</b> float64</label>"
            ]
          },
          "metadata": {},
          "execution_count": 14
        }
      ],
      "source": [
        "df_car.mean(axis=1)"
      ]
    },
    {
      "cell_type": "markdown",
      "source": [
        "# **Exercises**\n"
      ],
      "metadata": {
        "id": "nHEcoD-QWe_N"
      }
    },
    {
      "cell_type": "markdown",
      "source": [
        "### **Exercise 1: Introduction to the Acrobot**\n",
        "\n",
        "Here is a visualization of the Acrobot environment. The following code shows this environment. This code makes use of TF-Agents to perform this render. Usually, we use TF-Agents for the type of deep reinforcement learning that we will see in the next module. However, TF-Agents is just used to render the Acrobot environment for now."
      ],
      "metadata": {
        "id": "KN8khRmGTKRE"
      }
    },
    {
      "cell_type": "code",
      "source": [
        "# Insert your code for Exercise 1 here\n",
        "\n",
        "import gymnasium as gym\n",
        "from PIL import Image\n",
        "from IPython.display import display\n",
        "\n",
        "# Function to display the environment's state as an image\n",
        "def display_env_state(env):\n",
        "    frame = env.render()  # Render the environment's state to a numpy array\n",
        "    image = Image.fromarray(frame)  # Convert the numpy array to an image\n",
        "    display(image)  # Display the image\n",
        "\n",
        "# Create and initialize the MountainCar environment with render mode \"rgb_array\"\n",
        "env = gym.make('CartPole-v1', render_mode=\"rgb_array\")\n",
        "env.reset()\n",
        "\n",
        "# Display the initial state of the environment\n",
        "display_env_state(env)\n",
        "\n",
        "# Close the environment when done\n",
        "env.close()"
      ],
      "metadata": {
        "colab": {
          "base_uri": "https://localhost:8080/",
          "height": 417
        },
        "id": "G4G_IqYDrHP2",
        "outputId": "08662329-cc78-4420-9855-402b9f27f23e"
      },
      "execution_count": null,
      "outputs": [
        {
          "output_type": "display_data",
          "data": {
            "text/plain": [
              "<PIL.Image.Image image mode=RGB size=600x400>"
            ],
            "image/png": "[encoded data removed]",
            "image/jpeg": "[encoded data removed]"
          },
          "metadata": {}
        }
      ]
    },
    {
      "cell_type": "markdown",
      "source": [
        "### **Exercise 2: Apply**"
      ],
      "metadata": {
        "id": "33TceYMJklV4"
      }
    },
    {
      "cell_type": "code",
      "source": [
        "# Insert your code for Exercise 2 here\n",
        "\n",
        "import gymnasium as gym\n",
        "from gymnasium.wrappers import RecordVideo\n",
        "import glob\n",
        "import io\n",
        "import base64\n",
        "from IPython.display import HTML\n",
        "from IPython import display as ipythondisplay\n",
        "from pyvirtualdisplay import Display\n",
        "import os\n",
        "import numpy as np\n",
        "\n",
        "# Start virtual display for rendering\n",
        "virtual_display = Display(visible=0, size=(1400, 900))\n",
        "virtual_display.start()\n",
        "\n",
        "# Ensure the video folder exists\n",
        "video_folder = './videos'\n",
        "os.makedirs(video_folder, exist_ok=True)\n",
        "\n",
        "# Create the MountainCar environment with specified render mode\n",
        "env = gym.make('CartPole-v1', render_mode=\"rgb_array\")\n",
        "env = RecordVideo(env, video_folder=video_folder)\n",
        "env.metadata['render_fps'] = 30\n",
        "\n",
        "# Reset the environment to start recording\n",
        "observation, info = env.reset()\n",
        "\n",
        "# Run the environment until truncated\n",
        "truncated = False\n",
        "i = 0\n",
        "while not truncated:\n",
        "    i += 1\n",
        "#    action = 1  # Always push right\n",
        "    # Randomly select action: 0 (push left) or 1 (push right)\n",
        "    action = np.random.choice([0, 1])\n",
        "    observation, reward, terminated, truncated, info = env.step(action)\n",
        "    # Removed the print statement to suppress Step output\n",
        "\n",
        "# Close the environment\n",
        "env.close()\n",
        "\n",
        "# Ensure the video file exists and handle video display\n",
        "video_files = glob.glob(os.path.join(video_folder, '*.mp4'))\n",
        "if not video_files:\n",
        "    raise RuntimeError(\"No video files found. Make sure the environment ran successfully and recorded video.\")\n",
        "\n",
        "# Display the video\n",
        "video = io.open(video_files[0], 'r+b').read()\n",
        "encoded = base64.b64encode(video)\n",
        "ipythondisplay.display(HTML(data='''\n",
        "    <video width=\"640\" height=\"480\" controls>\n",
        "        <source src=\"data:video/mp4;base64,{0}\" type=\"video/mp4\" />\n",
        "    </video>\n",
        "'''.format(encoded.decode('ascii'))))\n",
        "\n",
        "# Stop the virtual display when done\n",
        "virtual_display.stop()\n"
      ],
      "metadata": {
        "colab": {
          "base_uri": "https://localhost:8080/",
          "height": 608
        },
        "id": "t-COa4-ykKbB",
        "outputId": "35983cc7-c25d-4bcf-e1b6-0aeebde5a196"
      },
      "execution_count": null,
      "outputs": [
        {
          "output_type": "stream",
          "name": "stderr",
          "text": [
            "/usr/local/lib/python3.11/dist-packages/gymnasium/wrappers/rendering.py:283: UserWarning: \u001b[33mWARN: Overwriting existing videos at /content/videos folder (try specifying a different `video_folder` for the `RecordVideo` wrapper if this is not desired)\u001b[0m\n",
            "  logger.warn(\n",
            "/usr/local/lib/python3.11/dist-packages/gymnasium/envs/classic_control/cartpole.py:214: UserWarning: \u001b[33mWARN: You are calling 'step()' even though this environment has already returned terminated = True. You should always call 'reset()' once you receive 'terminated = True' -- any further steps are undefined behavior.\u001b[0m\n",
            "  logger.warn(\n"
          ]
        },
        {
          "output_type": "display_data",
          "data": {
            "text/plain": [
              "<IPython.core.display.HTML object>"
            ],
            "text/html": [
              "\n",
              "    <video width=\"640\" height=\"480\" controls>\n",
              "        <source src=\"data:video/mp4;base64,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\" type=\"video/mp4\" />\n",
              "    </video>\n"
            ]
          },
          "metadata": {}
        },
        {
          "output_type": "execute_result",
          "data": {
            "text/plain": [
              "<pyvirtualdisplay.display.Display at 0x7e67905c2c90>"
            ]
          },
          "metadata": {},
          "execution_count": 4
        }
      ]
    },
    {
      "cell_type": "markdown",
      "source": [
        "### **Exercise 3:**"
      ],
      "metadata": {
        "id": "Sax2AW0byWvh"
      }
    },
    {
      "cell_type": "markdown",
      "source": [
        "The goal of the **CartPole-v1** environment is to balance a pole on a moving cart for as long as possible by applying forces to move the cart left or right. The task is considered solved when the agent can keep the pole balanced for at least 500 time steps (the maximum allowed steps per episode) without letting the pole fall.\n",
        "\n",
        "#### **Termination Conditions:**\n",
        "\n",
        "The episode ends when:\n",
        "1. The pole's angle deviates too far (falls beyond ±12 degrees from vertical).\n",
        "2. The cart moves too far to the left or right (cart's position goes beyond ±2.4 units from the center).\n",
        "3. The time step limit (500 steps) is reached.\n",
        "\n",
        "The challenge for the agent is to learn an optimal policy that keeps the pole upright and the cart within bounds. Let me know if you'd like help implementing or solving this environment! 🚀"
      ],
      "metadata": {
        "id": "7lzLGrxM9ZbG"
      }
    },
    {
      "cell_type": "code",
      "source": [
        "# Insert your code for Exercise 3 here\n",
        "\n",
        "import gymnasium as gym\n",
        "from gymnasium.wrappers import RecordVideo\n",
        "import glob\n",
        "import io\n",
        "import base64\n",
        "from IPython.display import HTML\n",
        "from IPython import display as ipythondisplay\n",
        "from pyvirtualdisplay import Display\n",
        "import os\n",
        "import numpy as np\n",
        "\n",
        "# Start virtual display for rendering\n",
        "virtual_display = Display(visible=0, size=(1400, 900))\n",
        "virtual_display.start()\n",
        "\n",
        "# Ensure the video folder exists\n",
        "video_folder = './videos'\n",
        "os.makedirs(video_folder, exist_ok=True)\n",
        "\n",
        "# Create the Acrobot environment with specified render mode\n",
        "env = gym.make('CartPole-v1', render_mode=\"rgb_array\")  # Updated for Acrobot-v1\n",
        "env.metadata['render_fps'] = 30\n",
        "\n",
        "# Setup the wrapper to record the video\n",
        "env = RecordVideo(env, video_folder=video_folder, episode_trigger=lambda episode_id: True)\n",
        "\n",
        "# Reset the environment to start recording\n",
        "observation, info = env.reset()\n",
        "\n",
        "# Run the environment until truncated\n",
        "truncated = False\n",
        "action = env.action_space.sample()  # Initial action: Random action sampling\n",
        "\n",
        "print(\"Starting truncation...\", end=\"\")\n",
        "while not truncated:\n",
        "    # Execute a random action\n",
        "    state, reward, terminated, truncated, info = env.step(action)\n",
        "\n",
        "    # Adjust action randomly for exploration\n",
        "    action = env.action_space.sample()  # Continue random action sampling\n",
        "\n",
        "print(\"done.\")\n",
        "# Close the environment\n",
        "env.close()\n",
        "\n",
        "# Ensure the video file exists and handle video display\n",
        "video_files = glob.glob(os.path.join(video_folder, '*.mp4'))\n",
        "if not video_files:\n",
        "    raise RuntimeError(\"No video files found. Make sure the environment ran successfully and recorded video.\")\n",
        "\n",
        "# Display the video\n",
        "video = io.open(video_files[0], 'r+b').read()\n",
        "encoded = base64.b64encode(video)\n",
        "ipythondisplay.display(HTML(data='''\n",
        "    <video width=\"640\" height=\"480\" controls>\n",
        "        <source src=\"data:video/mp4;base64,{0}\" type=\"video/mp4\" />\n",
        "    </video>\n",
        "'''.format(encoded.decode('ascii'))))\n",
        "\n",
        "# Stop the virtual display when done\n",
        "virtual_display.stop()\n"
      ],
      "metadata": {
        "colab": {
          "base_uri": "https://localhost:8080/",
          "height": 626
        },
        "id": "6UNJTFHzVSnr",
        "outputId": "5eee8620-74ef-4e0b-e4df-d522279428c4"
      },
      "execution_count": null,
      "outputs": [
        {
          "output_type": "stream",
          "name": "stderr",
          "text": [
            "/usr/local/lib/python3.11/dist-packages/gymnasium/wrappers/rendering.py:283: UserWarning: \u001b[33mWARN: Overwriting existing videos at /content/videos folder (try specifying a different `video_folder` for the `RecordVideo` wrapper if this is not desired)\u001b[0m\n",
            "  logger.warn(\n",
            "/usr/local/lib/python3.11/dist-packages/gymnasium/envs/classic_control/cartpole.py:214: UserWarning: \u001b[33mWARN: You are calling 'step()' even though this environment has already returned terminated = True. You should always call 'reset()' once you receive 'terminated = True' -- any further steps are undefined behavior.\u001b[0m\n",
            "  logger.warn(\n"
          ]
        },
        {
          "output_type": "stream",
          "name": "stdout",
          "text": [
            "Starting truncation...done.\n"
          ]
        },
        {
          "output_type": "display_data",
          "data": {
            "text/plain": [
              "<IPython.core.display.HTML object>"
            ],
            "text/html": [
              "\n",
              "    <video width=\"640\" height=\"480\" controls>\n",
              "        <source src=\"data:video/mp4;base64,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\" type=\"video/mp4\" />\n",
              "    </video>\n"
            ]
          },
          "metadata": {}
        },
        {
          "output_type": "execute_result",
          "data": {
            "text/plain": [
              "<pyvirtualdisplay.display.Display at 0x7e6791dd4a50>"
            ]
          },
          "metadata": {},
          "execution_count": 5
        }
      ]
    },
    {
      "cell_type": "code",
      "source": [
        "import gymnasium as gym\n",
        "import numpy as np\n",
        "\n",
        "# Hyperparameters\n",
        "LEARNING_RATE = 0.01\n",
        "DISCOUNT = 0.95\n",
        "EPISODES = 2000\n",
        "SHOW_EVERY = 500\n",
        "epsilon = 1.0  # Exploration rate\n",
        "START_EPSILON_DECAY = 1\n",
        "END_EPSILON_DECAY = EPISODES // 2\n",
        "epsilon_decay_value = epsilon / (END_EPSILON_DECAY - START_EPSILON_DECAY)\n",
        "\n",
        "# Environment setup\n",
        "env = gym.make(\"CartPole-v1\")\n",
        "\n",
        "# Discretization settings (number of bins per state dimension)\n",
        "DISCRETE_OS_SIZE = [20, 20, 20, 20]  # Four state variables\n",
        "discrete_os_win_size = (env.observation_space.high - env.observation_space.low) / DISCRETE_OS_SIZE\n",
        "discrete_os_win_size[1] = 2  # Manually adjust for velocity limits\n",
        "discrete_os_win_size[3] = 0.5  # Adjust for pole angular velocity\n",
        "\n",
        "# Initialize Q-table\n",
        "q_table_cartpole = np.random.uniform(low=-2, high=0, size=(DISCRETE_OS_SIZE + [env.action_space.n]))\n",
        "\n",
        "# Helper function to convert continuous states to discrete states\n",
        "def get_discrete_state_cartpole(state):\n",
        "    discrete_state = (state - env.observation_space.low) / discrete_os_win_size\n",
        "    return tuple(np.clip(discrete_state, 0, DISCRETE_OS_SIZE - np.array([1, 1, 1, 1])).astype(int))\n",
        "\n",
        "# Training loop\n",
        "for episode in range(EPISODES):\n",
        "    state, _ = env.reset()\n",
        "    discrete_state = get_discrete_state_cartpole(state)\n",
        "    done = False\n",
        "\n",
        "    while not done:\n",
        "        # Choose action: explore or exploit\n",
        "        if np.random.random() > epsilon:\n",
        "            action = np.argmax(q_table_cartpole[discrete_state])  # Exploit\n",
        "        else:\n",
        "            action = np.random.randint(0, env.action_space.n)  # Explore\n",
        "\n",
        "        # Take action and observe the result\n",
        "        new_state, reward, terminated, truncated, _ = env.step(action)\n",
        "        done = terminated or truncated\n",
        "        new_discrete_state = get_discrete_state_cartpole(new_state)\n",
        "\n",
        "        # Update Q-value\n",
        "        if not done:\n",
        "            max_future_q = np.max(q_table_cartpole[new_discrete_state])\n",
        "            current_q = q_table_cartpole[discrete_state + (action,)]\n",
        "            new_q = (1 - LEARNING_RATE) * current_q + LEARNING_RATE * (reward + DISCOUNT * max_future_q)\n",
        "            q_table_cartpole[discrete_state + (action,)] = new_q\n",
        "        elif terminated:\n",
        "            q_table_cartpole[discrete_state + (action,)] = 0  # Terminal state\n",
        "\n",
        "        discrete_state = new_discrete_state\n",
        "\n",
        "    # Decay epsilon to reduce exploration over time\n",
        "    if START_EPSILON_DECAY <= episode <= END_EPSILON_DECAY:\n",
        "        epsilon -= epsilon_decay_value\n",
        "\n",
        "    # Render the environment every SHOW_EVERY episodes\n",
        "    if episode % SHOW_EVERY == 0:\n",
        "        print(f\"Episode: {episode}\")\n",
        "        env.render()\n",
        "\n",
        "env.close()\n",
        "print(\"Training complete!\")\n"
      ],
      "metadata": {
        "colab": {
          "base_uri": "https://localhost:8080/"
        },
        "id": "GC0OUm3d-CGU",
        "outputId": "cceeace0-b38d-4f32-d0fb-64e95a94e946"
      },
      "execution_count": null,
      "outputs": [
        {
          "output_type": "stream",
          "name": "stdout",
          "text": [
            "Episode: 0\n"
          ]
        },
        {
          "output_type": "stream",
          "name": "stderr",
          "text": [
            "/usr/local/lib/python3.11/dist-packages/gymnasium/envs/classic_control/cartpole.py:250: UserWarning: \u001b[33mWARN: You are calling render method without specifying any render mode. You can specify the render_mode at initialization, e.g. gym.make(\"CartPole-v1\", render_mode=\"rgb_array\")\u001b[0m\n",
            "  gym.logger.warn(\n"
          ]
        },
        {
          "output_type": "stream",
          "name": "stdout",
          "text": [
            "Episode: 500\n",
            "Episode: 1000\n",
            "Episode: 1500\n",
            "Training complete!\n"
          ]
        }
      ]
    },
    {
      "cell_type": "markdown",
      "source": [],
      "metadata": {
        "id": "s2fLMrfq-UgT"
      }
    },
    {
      "cell_type": "code",
      "source": [
        "# Import necessary libraries\n",
        "import gymnasium as gym\n",
        "from gymnasium.wrappers import RecordVideo\n",
        "import glob\n",
        "import io\n",
        "import base64\n",
        "from IPython.display import HTML\n",
        "from IPython import display as ipythondisplay\n",
        "\n",
        "# Create the CartPole environment\n",
        "env = gym.make(\"CartPole-v1\", render_mode=\"rgb_array\")\n",
        "\n",
        "# Define the video recording wrapper\n",
        "video_callable = lambda episode_id: True  # Record all episodes\n",
        "env = RecordVideo(env, video_folder='./videos', episode_trigger=video_callable)\n",
        "\n",
        "# Function to run a trained agent using the Q-table\n",
        "def run_game_cartpole(q_table_cartpole, render=True):\n",
        "    observation, _ = env.reset()\n",
        "    discrete_state = get_discrete_state_cartpole(observation)\n",
        "    done = False\n",
        "    while not done:\n",
        "        if render:\n",
        "            env.render()\n",
        "        # Select the best action using the Q-table\n",
        "        action = np.argmax(q_table_cartpole[discrete_state])\n",
        "        new_observation, reward, terminated, truncated, _ = env.step(action)\n",
        "        done = terminated or truncated\n",
        "        discrete_state = get_discrete_state_cartpole(new_observation)\n",
        "\n",
        "# Run the trained agent with the recorded video\n",
        "run_game_cartpole(q_table_cartpole, render=True)\n",
        "\n",
        "# Close the environment\n",
        "env.close()\n",
        "\n",
        "# Display the video\n",
        "video_files = glob.glob('./videos/*.mp4')\n",
        "if not video_files:\n",
        "    raise RuntimeError(\"No video files found. Make sure the environment ran successfully and recorded video.\")\n",
        "\n",
        "# Embed the video into the notebook\n",
        "video = io.open(video_files[0], 'r+b').read()\n",
        "encoded = base64.b64encode(video)\n",
        "ipythondisplay.display(HTML(data='''\n",
        "    <video width=\"640\" height=\"480\" controls>\n",
        "        <source src=\"data:video/mp4;base64,{0}\" type=\"video/mp4\" />\n",
        "    </video>\n",
        "'''.format(encoded.decode('ascii'))))\n"
      ],
      "metadata": {
        "colab": {
          "base_uri": "https://localhost:8080/",
          "height": 501
        },
        "id": "MaXbAedL-zSZ",
        "outputId": "ee4b9da3-c0f0-432a-9234-3d7e1f5a7952"
      },
      "execution_count": null,
      "outputs": [
        {
          "output_type": "display_data",
          "data": {
            "text/plain": [
              "<IPython.core.display.HTML object>"
            ],
            "text/html": [
              "\n",
              "    <video width=\"640\" height=\"480\" controls>\n",
              "        <source src=\"data:video/mp4;base64,AAAAIGZ0eXBpc29tAAACAGlzb21pc28yYXZjMW1wNDEAAAAIZnJlZQAADlptZGF0AAACrwYF//+r3EXpvebZSLeWLNgg2SPu73gyNjQgLSBjb3JlIDE2NCByMzE5MSA0NjEzYWMzIC0gSC4yNjQvTVBFRy00IEFWQyBjb2RlYyAtIENvcHlsZWZ0IDIwMDMtMjAyNCAtIGh0dHA6Ly93d3cudmlkZW9sYW4ub3JnL3gyNjQuaHRtbCAtIG9wdGlvbnM6IGNhYmFjPTEgcmVmPTMgZGVibG9jaz0xOjA6MCBhbmFseXNlPTB4MzoweDExMyBtZT1oZXggc3VibWU9NyBwc3k9MSBwc3lfcmQ9MS4wMDowLjAwIG1peGVkX3JlZj0xIG1lX3JhbmdlPTE2IGNocm9tYV9tZT0xIHRyZWxsaXM9MSA4eDhkY3Q9MSBjcW09MCBkZWFkem9uZT0yMSwxMSBmYXN0X3Bza2lwPTEgY2hyb21hX3FwX29mZnNldD0tMiB0aHJlYWRzPTEyIGxvb2thaGVhZF90aHJlYWRzPTIgc2xpY2VkX3RocmVhZHM9MCBucj0wIGRlY2ltYXRlPTEgaW50ZXJsYWNlZD0wIGJsdXJheV9jb21wYXQ9MCBjb25zdHJhaW5lZF9pbnRyYT0wIGJmcmFtZXM9MyBiX3B5cmFtaWQ9MiBiX2FkYXB0PTEgYl9iaWFzPTAgZGlyZWN0PTEgd2VpZ2h0Yj0xIG9wZW5fZ29wPTAgd2VpZ2h0cD0yIGtleWludD0yNTAga2V5aW50X21pbj0yNSBzY2VuZWN1dD00MCBpbnRyYV9yZWZyZXNoPTAgcmNfbG9va2FoZWFkPTQwIHJjPWNyZiBtYnRyZWU9MSBjcmY9MjMuMCBxY29tcD0wLjYwIHFwbWluPTAgcXBtYXg9NjkgcXBzdGVwPTQgaXBfcmF0aW89MS40MCBhcT0xOjEuMDAAgAAAAfVliIQAK//+9nN8CmtHM5UuBXb3ZqPl0JLl+xBg+tAADUfYAAADAAdksOnSPICGqQAAAwAFiADpCSh5B5iJirFQJYNi1PBMSVDqfytaOY6HgUEo/3kYqs3NbRmq1+97mqZWISDniJRJRaYVfDSbwfOxyFGpoDu9SDgX3nAqfUtOBTmTorbXP/mx4zPjvIHfnASL2voDFsuLNDNq+iIe4pywJigOtlY6/UorfVIbVFkAZ+77ZmvZQ0DU7CImAXutZApcgAdKTcPQPYkPyComtrTzaQe/HAxECb7b2DGo6nVUAVNlVvsqn0l11Tt3SCwiVc3JE2DgYSQkIOlKV5VSNE0MeyumEGa542a7uz7C4EbK7XBilsgGJM/S4gEYiSuz94bwAG6BZfwcwYaV/JNROwnZrckpx7xOXsLTO3PVqEPlBY/DXvcGKQYzP2i9PPkvjl7ffJetefFZV8OaKEBDoUlUkSO5Cla7PXH5uvP11jYwieVChoYAhle5hOTUib48hYjX3FJXn+MIfvoPm/yfs8o9TI3s4wnUiw9sYB7fKRDvSQ+C7zzf91DJV8FwClBS2uYWPiM0f2LjbnLPcgTyD8Agrq7pn59XXGP8KNwui22Y0jc+yu2pGrvdpREjc4qf35L+V84W1XuiL5EAGAoAAAMAAAMAE1EAAACFQZojbEK//jhAAAENztOWQEsigo7HgYZ7cjSWxkc/qwvuEHPFeH75ext2AeBCAMxjsVx7D/3qpBHHRubEkNLBjtA/iho3g/aqz9i98OjbFdxoksYU9fR5aGGWNde+suAlhfM4MTs2/V+0WR82iNJkXfxEsc53bTsTSFf7hZ/B219t4Nbx1gAAAFVBnkF4hX8AAA6ADsRkdnGHwzxMALQLESq1NqabeMfFtQCVggvl4B2KOPDrGjx7Ld9IX9Sjg7O/AfhY0Ze9JOky8PZsEdfhkYzKnYnYAghcNxHe8upJAAAAIAGeYmpCfwAABxXie/DSOF2wwAvt1eSidheh/unmraeBAAAA60GaZUmoQWiZTBTwr/44QAABDPbclYBRi7XxZordd19TrUIyNe43purZE9cSKYiVJ9rlJo3+1tqeE03IzhtvQRnwrAjStl9+62CQYkBV+Z41/W6uyre3nb84Ah9JB8rrckQFbokwE5C7EbfLlGmMa0kfLS75Bl2sfgS6G16LCq4qezJifZdituqiscMqCYSharR/+77+Hyh/E5ftR7tlOPGPUHFRs2obilCnJ/wq6uJ41lx9oZTnk7oA6NUe/SYNUJMQ0eCGQt+zmxw5VGgzdtDJqzTuKKC35sZOrufVjfkt8xJGLMfCXf7TAckAAABcAZ6EakJ/AAAS3SMq14ZqJ4bU4IZDs0ap76R3saO0qvaOnNEj/H0BCk86KjS0kmuXJK1V5XHwje2OLCAD9unc/Iij7k8oPebbbpUsUt1U39wAAAMAhTTZSn4gPSEAAAChQZqJSeEKUmUwIT/98QAAAwKe995NnxPUI1b38rXAkqvYPKGS/P9Y32IFZABXAXs7FI04XZ2hTiiWbMEr0d7QL/ijL0sYkz9TUitsNhA4hXkZApMyTUtxIH5dM/Ue3GrYnphjMCat1h3jxbp6fk+SdsKjKPTwFqSvBsrnajQzrxN+5TOdCNl8H5BWGaaRAC7thTGSZt5ayolvcy4qH8gHt2UAAABVQZ6nRTRMK/8AAA6ADesBPkUxgUKtLr1lsrN7kbBPP/YcKLgSK175UkToeRigJ/vNRy0fqOyQWzoOtfp/HPW8HhCyM3qll5LogEAAAAMANPg8W8IHNQAAAD8BnsZ0Qn8AABLeZ7S663xtYAfJYvOHrYn7ChP9AZ3NE+p+mKEoQnt4srAwTcu+W4uA6NSgoNvqhEMDpDf3vx4AAAAeAZ7IakJ/AAASWKibbMMybKeQOtX+AHygtNgx9jvSAAAAbUGay0moQWiZTBTwr/44QAABDPrgnlzymZ0/cUX0efsj70EX1vO8++o3FO6/8sx/x+wFsGTB0wGGVUUznejMAEVZkx5akb2QrojCVQnbfeA6hi3sbY+ttP7DsIa4MFfQ3dGlUo3GGK06XasPNdcAAAA9AZ7qakJ/AAAS2Iw9ccloVllXp4O+VQH+xBvz1GimULwYbs47xfxLXUsgbXgj4oWQbcAAAAMABaHHMywRcAAAAH5Bmu1J4QpSZTBSwr/+OEAAAGdJy1m3ZwphklGxbj+x7FIERnDn8W1BQoAIYA6yZStNc//7Zn9pLbqMQAin/uyaNauh/s1V3TvLLXjFYkS1ui1eUx5ZWKsMlmyRzXN/tctKI9MX0mmAJ1riDu422DhbCRF5SqRDzTNzbt++8IAAAABHAZ8MakJ/AAAG6kbdU3gDUD+24sO5A/ay/eNhu4ZOdLNxioHB+GRsbxvI/oH732XMxX1QuBDufzxAAAADACUOTuSuGbuwagkAAAC6QZsQSeEOiZTAhX/+OEAAAQz2UKgBCMbC/ecFLMeDiN/tARrwgDBMSSfAWDpjXQbs7KzrtPWtZKC4z1K3E0oIMUPyDdUJ16LOPgN11/BMmYa4bthL4//WvMKKCuA3t2YYiaN19zIc/hVnksIKlFamLTzZ/z+dPV1A0imf0YPm6TBgjB4/8U5IQFaJvSO7ZlYPBWN7XkO5sVCPDU+Dli2bsw3Wi344rptj3RAW/aUxvQ3J8HCBDS9D85NxAAAAXEGfLkUVPCv/AAAOfWU4KkjkbSyhUGgUZKpjiOM/L87WvrTDbLQucirwBEDiFn06C6X6nfh6AAMplGZxTTQkuoiLMx0Dih8QXVuMxQdKQ7xbslsBAA4kPgowNXnxAAAAOQGfT2pCfwAAEt21o6BOLz+tz2WY0wx9HQSlc6Ai/3PthF/efjFw6SDYnyooPsO8+e0kPidAA6PbMAAAAJdBm1FJqEFomUwIT//98QAAAwKfunXbESWdlpQyACt35Nu4XwYYyjuwZGL/KKcOlNZLGqYras4xe+DOp7zX983KvYus2dqInWX464stoX8GDmaUs8ywvd+2r61GKHNnyBC5ihcfObaZqUOwXbnu3+tb5SQUgpMxbonsDGg7n4pFkO2/APDF5Xkbz/qjwc4ZpHrA+3pXgGp4AAAAo0GbcknhClJlMCFf/jhAAAEM+sKNYAWHF5d5gjE5zDz4dXU/jSpVFxgzStq3ZNpwFVAPUVODe8wNpGVQa92NyCKTP2jtSFPLMzxmo+XQ4UOYNJ9gsOtf/bHEquPuEuXmh0LYe6oP1gpTYasc5sjeDeon/8T82P8ispH8urkForG5NjKlNUYn6CtcYI1J0tGlHYwRv5z4VVWeQZeNc5zA1vTqUHEAAACjQZuTSeEOiZTAhP/98QAAAwKg1jEf8Rv1g7ANIttnyDqLt8cKet6hCdYAOBMtB9Nb5A+tSyP15ASssCSCVAlGZnNIqOIJ/zClPp8Fq/5Uz29hJiI8WOtfMC/AUENdIePtkEnHUbwnlWDj0143w6ten7pIWdRtlZ8VZcLXPsjOjtm4Jsmoxi/HRW4Eqv7GxFI8pGQ6/rcdpGm4cokC6Yig5knrgAAAAJpBm7RJ4Q8mUwIT//3xAAADAp8Lf00AI9XiXRo4YQ2Ggy/onaWlUbRV7H1P5yxFPd4j/DxFu1YCjKI2fFABuyzbVzNGQBn/Z+Yt6ZX3zDIAIcQhEU0n9v/4x+URCMN07U9mKXXKlfpl5gsVMZ09ytPUY/2AFYL09p2kvuxoN2cJv4CtKfgDyWue/GkcKvt3j1ugrzrmDoxAPCAgAAAAiUGb1UnhDyZTAhP//fEAAAMCoKIgpt+VD/Mb8ZJM5Jhn9KwB1ZUAJZE+CVCHJDL28+cZxMpouT+W4jJ0hbzw6MXQQ+cASqG3lWJNBc7sgqoko5/yYMtL8I4uqQWMXlaVXy0+km+Hig8MKDJpxSZmd36HiJS/7gMIiBJ+sFQTyJFkzZ3QSkyiTS5hAAAEAm1vb3YAAABsbXZoZAAAAAAAAAAAAAAAAAAAA+gAAALeAAEAAAEAAAAAAAAAAAAAAAABAAAAAAAAAAAAAAAAAAAAAQAAAAAAAAAAAAAAAAAAQAAAAAAAAAAAAAAAAAAAAAAAAAAAAAAAAAAAAAAAAAIAAAMtdHJhawAAAFx0a2hkAAAAAwAAAAAAAAAAAAAAAQAAAAAAAALeAAAAAAAAAAAAAAAAAAAAAAABAAAAAAAAAAAAAAAAAAAAAQAAAAAAAAAAAAAAAAAAQAAAAAJYAAABkAAAAAAAJGVkdHMAAAAcZWxzdAAAAAAAAAABAAAC3gAABAAAAQAAAAACpW1kaWEAAAAgbWRoZAAAAAAAAAAAAAAAAAAAPAAAACwAVcQAAAAAAC1oZGxyAAAAAAAAAAB2aWRlAAAAAAAAAAAAAAAAVmlkZW9IYW5kbGVyAAAAAlBtaW5mAAAAFHZtaGQAAAABAAAAAAAAAAAAAAAkZGluZgAAABxkcmVmAAAAAAAAAAEAAAAMdXJsIAAAAAEAAAIQc3RibAAAALBzdHNkAAAAAAAAAAEAAACgYXZjMQAAAAAAAAABAAAAAAAAAAAAAAAAAAAAAAJYAZAASAAAAEgAAAAAAAAAARRMYXZjNjEuMy4xMDAgbGlieDI2NAAAAAAAAAAAAAAAABj//wAAADZhdmNDAWQAHv/hABlnZAAerNlAmDPl4QAAAwABAAADADwPFi2WAQAGaOvjyyLA/fj4AAAAABRidHJ0AAAAAAAAnDgAAJw4AAAAGHN0dHMAAAAAAAAAAQAAABYAAAIAAAAAFHN0c3MAAAAAAAAAAQAAAAEAAACQY3R0cwAAAAAAAAAQAAAAAQAABAAAAAABAAAIAAAAAAIAAAIAAAAAAQAABgAAAAABAAACAAAAAAEAAAoAAAAAAQAABAAAAAABAAAAAAAAAAEAAAIAAAAAAQAABgAAAAABAAACAAAAAAEAAAYAAAAAAQAAAgAAAAABAAAIAAAAAAIAAAIAAAAABQAABAAAAAAcc3RzYwAAAAAAAAABAAAAAQAAABYAAAABAAAAbHN0c3oAAAAAAAAAAAAAABYAAASsAAAAiQAAAFkAAAAkAAAA7wAAAGAAAAClAAAAWQAAAEMAAAAiAAAAcQAAAEEAAACCAAAASwAAAL4AAABgAAAAPQAAAJsAAACnAAAApwAAAJ4AAACNAAAAFHN0Y28AAAAAAAAAAQAAADAAAABhdWR0YQAAAFltZXRhAAAAAAAAACFoZGxyAAAAAAAAAABtZGlyYXBwbAAAAAAAAAAAAAAAACxpbHN0AAAAJKl0b28AAAAcZGF0YQAAAAEAAAAATGF2ZjYxLjEuMTAw\" type=\"video/mp4\" />\n",
              "    </video>\n"
            ]
          },
          "metadata": {}
        }
      ]
    },
    {
      "cell_type": "markdown",
      "source": [
        "## **Reinforcement Learning**"
      ],
      "metadata": {
        "id": "e7xzly62yl0w"
      }
    },
    {
      "cell_type": "markdown",
      "source": [],
      "metadata": {
        "id": "XFCssw1Ryrxf"
      }
    },
    {
      "cell_type": "markdown",
      "metadata": {
        "id": "WeQzNFSosdys"
      },
      "source": [
        "## **Inspecting the Q-Table**\n",
        "\n",
        "We can also display the Q-table. The following code shows the agent's action for each environment state. As the weights of a neural network, this table is not straightforward to interpret. Some patterns do emerge in that direction, as seen by calculating the means of rows and columns. The actions seem consistent at both velocity and position's upper and lower halves."
      ]
    },
    {
      "cell_type": "code",
      "source": [
        "print(q_table_cartpole)"
      ],
      "metadata": {
        "id": "j9lTD6TDBwpP"
      },
      "execution_count": null,
      "outputs": []
    },
    {
      "cell_type": "code",
      "source": [
        "df_cartpole_1 = pd.DataFrame(q_table_cartpole.argmax(axis=3).flatten(), columns=[\"Best Action\"])\n",
        "\n",
        "df_cartpole_1"
      ],
      "metadata": {
        "colab": {
          "base_uri": "https://localhost:8080/",
          "height": 423
        },
        "id": "k4HanLoTC9UC",
        "outputId": "ebecbfcd-ed2c-492e-ab44-b0126a3c910d"
      },
      "execution_count": null,
      "outputs": [
        {
          "output_type": "execute_result",
          "data": {
            "text/plain": [
              "       Best Action\n",
              "0               13\n",
              "1                8\n",
              "2                7\n",
              "3               14\n",
              "4                6\n",
              "...            ...\n",
              "15995           17\n",
              "15996            7\n",
              "15997            5\n",
              "15998           14\n",
              "15999           17\n",
              "\n",
              "[16000 rows x 1 columns]"
            ],
            "text/html": [
              "\n",
              "  <div id=\"df-06f5281e-ea86-4b81-9804-db441048f9ec\" class=\"colab-df-container\">\n",
              "    <div>\n",
              "<style scoped>\n",
              "    .dataframe tbody tr th:only-of-type {\n",
              "        vertical-align: middle;\n",
              "    }\n",
              "\n",
              "    .dataframe tbody tr th {\n",
              "        vertical-align: top;\n",
              "    }\n",
              "\n",
              "    .dataframe thead th {\n",
              "        text-align: right;\n",
              "    }\n",
              "</style>\n",
              "<table border=\"1\" class=\"dataframe\">\n",
              "  <thead>\n",
              "    <tr style=\"text-align: right;\">\n",
              "      <th></th>\n",
              "      <th>Best Action</th>\n",
              "    </tr>\n",
              "  </thead>\n",
              "  <tbody>\n",
              "    <tr>\n",
              "      <th>0</th>\n",
              "      <td>13</td>\n",
              "    </tr>\n",
              "    <tr>\n",
              "      <th>1</th>\n",
              "      <td>8</td>\n",
              "    </tr>\n",
              "    <tr>\n",
              "      <th>2</th>\n",
              "      <td>7</td>\n",
              "    </tr>\n",
              "    <tr>\n",
              "      <th>3</th>\n",
              "      <td>14</td>\n",
              "    </tr>\n",
              "    <tr>\n",
              "      <th>4</th>\n",
              "      <td>6</td>\n",
              "    </tr>\n",
              "    <tr>\n",
              "      <th>...</th>\n",
              "      <td>...</td>\n",
              "    </tr>\n",
              "    <tr>\n",
              "      <th>15995</th>\n",
              "      <td>17</td>\n",
              "    </tr>\n",
              "    <tr>\n",
              "      <th>15996</th>\n",
              "      <td>7</td>\n",
              "    </tr>\n",
              "    <tr>\n",
              "      <th>15997</th>\n",
              "      <td>5</td>\n",
              "    </tr>\n",
              "    <tr>\n",
              "      <th>15998</th>\n",
              "      <td>14</td>\n",
              "    </tr>\n",
              "    <tr>\n",
              "      <th>15999</th>\n",
              "      <td>17</td>\n",
              "    </tr>\n",
              "  </tbody>\n",
              "</table>\n",
              "<p>16000 rows × 1 columns</p>\n",
              "</div>\n",
              "    <div class=\"colab-df-buttons\">\n",
              "\n",
              "  <div class=\"colab-df-container\">\n",
              "    <button class=\"colab-df-convert\" onclick=\"convertToInteractive('df-06f5281e-ea86-4b81-9804-db441048f9ec')\"\n",
              "            title=\"Convert this dataframe to an interactive table.\"\n",
              "            style=\"display:none;\">\n",
              "\n",
              "  <svg xmlns=\"http://www.w3.org/2000/svg\" height=\"24px\" viewBox=\"0 -960 960 960\">\n",
              "    <path d=\"M120-120v-720h720v720H120Zm60-500h600v-160H180v160Zm220 220h160v-160H400v160Zm0 220h160v-160H400v160ZM180-400h160v-160H180v160Zm440 0h160v-160H620v160ZM180-180h160v-160H180v160Zm440 0h160v-160H620v160Z\"/>\n",
              "  </svg>\n",
              "    </button>\n",
              "\n",
              "  <style>\n",
              "    .colab-df-container {\n",
              "      display:flex;\n",
              "      gap: 12px;\n",
              "    }\n",
              "\n",
              "    .colab-df-convert {\n",
              "      background-color: #E8F0FE;\n",
              "      border: none;\n",
              "      border-radius: 50%;\n",
              "      cursor: pointer;\n",
              "      display: none;\n",
              "      fill: #1967D2;\n",
              "      height: 32px;\n",
              "      padding: 0 0 0 0;\n",
              "      width: 32px;\n",
              "    }\n",
              "\n",
              "    .colab-df-convert:hover {\n",
              "      background-color: #E2EBFA;\n",
              "      box-shadow: 0px 1px 2px rgba(60, 64, 67, 0.3), 0px 1px 3px 1px rgba(60, 64, 67, 0.15);\n",
              "      fill: #174EA6;\n",
              "    }\n",
              "\n",
              "    .colab-df-buttons div {\n",
              "      margin-bottom: 4px;\n",
              "    }\n",
              "\n",
              "    [theme=dark] .colab-df-convert {\n",
              "      background-color: #3B4455;\n",
              "      fill: #D2E3FC;\n",
              "    }\n",
              "\n",
              "    [theme=dark] .colab-df-convert:hover {\n",
              "      background-color: #434B5C;\n",
              "      box-shadow: 0px 1px 3px 1px rgba(0, 0, 0, 0.15);\n",
              "      filter: drop-shadow(0px 1px 2px rgba(0, 0, 0, 0.3));\n",
              "      fill: #FFFFFF;\n",
              "    }\n",
              "  </style>\n",
              "\n",
              "    <script>\n",
              "      const buttonEl =\n",
              "        document.querySelector('#df-06f5281e-ea86-4b81-9804-db441048f9ec button.colab-df-convert');\n",
              "      buttonEl.style.display =\n",
              "        google.colab.kernel.accessAllowed ? 'block' : 'none';\n",
              "\n",
              "      async function convertToInteractive(key) {\n",
              "        const element = document.querySelector('#df-06f5281e-ea86-4b81-9804-db441048f9ec');\n",
              "        const dataTable =\n",
              "          await google.colab.kernel.invokeFunction('convertToInteractive',\n",
              "                                                    [key], {});\n",
              "        if (!dataTable) return;\n",
              "\n",
              "        const docLinkHtml = 'Like what you see? Visit the ' +\n",
              "          '<a target=\"_blank\" href=https://colab.research.google.com/notebooks/data_table.ipynb>data table notebook</a>'\n",
              "          + ' to learn more about interactive tables.';\n",
              "        element.innerHTML = '';\n",
              "        dataTable['output_type'] = 'display_data';\n",
              "        await google.colab.output.renderOutput(dataTable, element);\n",
              "        const docLink = document.createElement('div');\n",
              "        docLink.innerHTML = docLinkHtml;\n",
              "        element.appendChild(docLink);\n",
              "      }\n",
              "    </script>\n",
              "  </div>\n",
              "\n",
              "\n",
              "<div id=\"df-58792588-4f4c-4d66-a8ee-09dc091f4059\">\n",
              "  <button class=\"colab-df-quickchart\" onclick=\"quickchart('df-58792588-4f4c-4d66-a8ee-09dc091f4059')\"\n",
              "            title=\"Suggest charts\"\n",
              "            style=\"display:none;\">\n",
              "\n",
              "<svg xmlns=\"http://www.w3.org/2000/svg\" height=\"24px\"viewBox=\"0 0 24 24\"\n",
              "     width=\"24px\">\n",
              "    <g>\n",
              "        <path d=\"M19 3H5c-1.1 0-2 .9-2 2v14c0 1.1.9 2 2 2h14c1.1 0 2-.9 2-2V5c0-1.1-.9-2-2-2zM9 17H7v-7h2v7zm4 0h-2V7h2v10zm4 0h-2v-4h2v4z\"/>\n",
              "    </g>\n",
              "</svg>\n",
              "  </button>\n",
              "\n",
              "<style>\n",
              "  .colab-df-quickchart {\n",
              "      --bg-color: #E8F0FE;\n",
              "      --fill-color: #1967D2;\n",
              "      --hover-bg-color: #E2EBFA;\n",
              "      --hover-fill-color: #174EA6;\n",
              "      --disabled-fill-color: #AAA;\n",
              "      --disabled-bg-color: #DDD;\n",
              "  }\n",
              "\n",
              "  [theme=dark] .colab-df-quickchart {\n",
              "      --bg-color: #3B4455;\n",
              "      --fill-color: #D2E3FC;\n",
              "      --hover-bg-color: #434B5C;\n",
              "      --hover-fill-color: #FFFFFF;\n",
              "      --disabled-bg-color: #3B4455;\n",
              "      --disabled-fill-color: #666;\n",
              "  }\n",
              "\n",
              "  .colab-df-quickchart {\n",
              "    background-color: var(--bg-color);\n",
              "    border: none;\n",
              "    border-radius: 50%;\n",
              "    cursor: pointer;\n",
              "    display: none;\n",
              "    fill: var(--fill-color);\n",
              "    height: 32px;\n",
              "    padding: 0;\n",
              "    width: 32px;\n",
              "  }\n",
              "\n",
              "  .colab-df-quickchart:hover {\n",
              "    background-color: var(--hover-bg-color);\n",
              "    box-shadow: 0 1px 2px rgba(60, 64, 67, 0.3), 0 1px 3px 1px rgba(60, 64, 67, 0.15);\n",
              "    fill: var(--button-hover-fill-color);\n",
              "  }\n",
              "\n",
              "  .colab-df-quickchart-complete:disabled,\n",
              "  .colab-df-quickchart-complete:disabled:hover {\n",
              "    background-color: var(--disabled-bg-color);\n",
              "    fill: var(--disabled-fill-color);\n",
              "    box-shadow: none;\n",
              "  }\n",
              "\n",
              "  .colab-df-spinner {\n",
              "    border: 2px solid var(--fill-color);\n",
              "    border-color: transparent;\n",
              "    border-bottom-color: var(--fill-color);\n",
              "    animation:\n",
              "      spin 1s steps(1) infinite;\n",
              "  }\n",
              "\n",
              "  @keyframes spin {\n",
              "    0% {\n",
              "      border-color: transparent;\n",
              "      border-bottom-color: var(--fill-color);\n",
              "      border-left-color: var(--fill-color);\n",
              "    }\n",
              "    20% {\n",
              "      border-color: transparent;\n",
              "      border-left-color: var(--fill-color);\n",
              "      border-top-color: var(--fill-color);\n",
              "    }\n",
              "    30% {\n",
              "      border-color: transparent;\n",
              "      border-left-color: var(--fill-color);\n",
              "      border-top-color: var(--fill-color);\n",
              "      border-right-color: var(--fill-color);\n",
              "    }\n",
              "    40% {\n",
              "      border-color: transparent;\n",
              "      border-right-color: var(--fill-color);\n",
              "      border-top-color: var(--fill-color);\n",
              "    }\n",
              "    60% {\n",
              "      border-color: transparent;\n",
              "      border-right-color: var(--fill-color);\n",
              "    }\n",
              "    80% {\n",
              "      border-color: transparent;\n",
              "      border-right-color: var(--fill-color);\n",
              "      border-bottom-color: var(--fill-color);\n",
              "    }\n",
              "    90% {\n",
              "      border-color: transparent;\n",
              "      border-bottom-color: var(--fill-color);\n",
              "    }\n",
              "  }\n",
              "</style>\n",
              "\n",
              "  <script>\n",
              "    async function quickchart(key) {\n",
              "      const quickchartButtonEl =\n",
              "        document.querySelector('#' + key + ' button');\n",
              "      quickchartButtonEl.disabled = true;  // To prevent multiple clicks.\n",
              "      quickchartButtonEl.classList.add('colab-df-spinner');\n",
              "      try {\n",
              "        const charts = await google.colab.kernel.invokeFunction(\n",
              "            'suggestCharts', [key], {});\n",
              "      } catch (error) {\n",
              "        console.error('Error during call to suggestCharts:', error);\n",
              "      }\n",
              "      quickchartButtonEl.classList.remove('colab-df-spinner');\n",
              "      quickchartButtonEl.classList.add('colab-df-quickchart-complete');\n",
              "    }\n",
              "    (() => {\n",
              "      let quickchartButtonEl =\n",
              "        document.querySelector('#df-58792588-4f4c-4d66-a8ee-09dc091f4059 button');\n",
              "      quickchartButtonEl.style.display =\n",
              "        google.colab.kernel.accessAllowed ? 'block' : 'none';\n",
              "    })();\n",
              "  </script>\n",
              "</div>\n",
              "\n",
              "  <div id=\"id_30bf057a-c54f-449a-83df-0b9897cb14e2\">\n",
              "    <style>\n",
              "      .colab-df-generate {\n",
              "        background-color: #E8F0FE;\n",
              "        border: none;\n",
              "        border-radius: 50%;\n",
              "        cursor: pointer;\n",
              "        display: none;\n",
              "        fill: #1967D2;\n",
              "        height: 32px;\n",
              "        padding: 0 0 0 0;\n",
              "        width: 32px;\n",
              "      }\n",
              "\n",
              "      .colab-df-generate:hover {\n",
              "        background-color: #E2EBFA;\n",
              "        box-shadow: 0px 1px 2px rgba(60, 64, 67, 0.3), 0px 1px 3px 1px rgba(60, 64, 67, 0.15);\n",
              "        fill: #174EA6;\n",
              "      }\n",
              "\n",
              "      [theme=dark] .colab-df-generate {\n",
              "        background-color: #3B4455;\n",
              "        fill: #D2E3FC;\n",
              "      }\n",
              "\n",
              "      [theme=dark] .colab-df-generate:hover {\n",
              "        background-color: #434B5C;\n",
              "        box-shadow: 0px 1px 3px 1px rgba(0, 0, 0, 0.15);\n",
              "        filter: drop-shadow(0px 1px 2px rgba(0, 0, 0, 0.3));\n",
              "        fill: #FFFFFF;\n",
              "      }\n",
              "    </style>\n",
              "    <button class=\"colab-df-generate\" onclick=\"generateWithVariable('df_cartpole_1')\"\n",
              "            title=\"Generate code using this dataframe.\"\n",
              "            style=\"display:none;\">\n",
              "\n",
              "  <svg xmlns=\"http://www.w3.org/2000/svg\" height=\"24px\"viewBox=\"0 0 24 24\"\n",
              "       width=\"24px\">\n",
              "    <path d=\"M7,19H8.4L18.45,9,17,7.55,7,17.6ZM5,21V16.75L18.45,3.32a2,2,0,0,1,2.83,0l1.4,1.43a1.91,1.91,0,0,1,.58,1.4,1.91,1.91,0,0,1-.58,1.4L9.25,21ZM18.45,9,17,7.55Zm-12,3A5.31,5.31,0,0,0,4.9,8.1,5.31,5.31,0,0,0,1,6.5,5.31,5.31,0,0,0,4.9,4.9,5.31,5.31,0,0,0,6.5,1,5.31,5.31,0,0,0,8.1,4.9,5.31,5.31,0,0,0,12,6.5,5.46,5.46,0,0,0,6.5,12Z\"/>\n",
              "  </svg>\n",
              "    </button>\n",
              "    <script>\n",
              "      (() => {\n",
              "      const buttonEl =\n",
              "        document.querySelector('#id_30bf057a-c54f-449a-83df-0b9897cb14e2 button.colab-df-generate');\n",
              "      buttonEl.style.display =\n",
              "        google.colab.kernel.accessAllowed ? 'block' : 'none';\n",
              "\n",
              "      buttonEl.onclick = () => {\n",
              "        google.colab.notebook.generateWithVariable('df_cartpole_1');\n",
              "      }\n",
              "      })();\n",
              "    </script>\n",
              "  </div>\n",
              "\n",
              "    </div>\n",
              "  </div>\n"
            ],
            "application/vnd.google.colaboratory.intrinsic+json": {
              "type": "dataframe",
              "variable_name": "df_cartpole_1",
              "summary": "{\n  \"name\": \"df_cartpole_1\",\n  \"rows\": 16000,\n  \"fields\": [\n    {\n      \"column\": \"Best Action\",\n      \"properties\": {\n        \"dtype\": \"number\",\n        \"std\": 5,\n        \"min\": 0,\n        \"max\": 19,\n        \"num_unique_values\": 20,\n        \"samples\": [\n          13,\n          15,\n          4\n        ],\n        \"semantic_type\": \"\",\n        \"description\": \"\"\n      }\n    }\n  ]\n}"
            }
          },
          "metadata": {},
          "execution_count": 19
        }
      ]
    },
    {
      "cell_type": "markdown",
      "source": [
        "## **Lesson Turn-in**\n",
        "\n",
        "When you have completed and run all of the code cells, use the **File --> Print.. --> Save to PDF** to generate a PDF of your Colab notebook. Save your PDF as `Copy of Class_06_1.lastname.pdf` where _lastname_ is your last name, and upload the file to Canvas."
      ],
      "metadata": {
        "id": "iG6D_KMDNdIz"
      }
    },
    {
      "cell_type": "markdown",
      "source": [
        "## **Lizard Tail**\n",
        "\n",
        "## **IBM PC**\n",
        "\n",
        "![__](https://upload.wikimedia.org/wikipedia/commons/a/a6/IBM_PC-IMG_7271_%28transparent%29.png)\n",
        "\n",
        "The **IBM Personal Computer** (model 5150, commonly known as the IBM PC) is the first microcomputer released in the IBM PC model line and the basis for the IBM PC compatible _de facto_ standard. Released on August 12, 1981, it was created by a team of engineers and designers at International Business Machines (IBM), directed by William C. Lowe and Philip Don Estridge in Boca Raton, Florida.\n",
        "\n",
        "Powered by an x86-architecture Intel 8088 processor, the machine was based on open architecture and third-party peripherals. Over time, expansion cards and software technology increased to support it. The PC had a substantial influence on the personal computer market; the specifications of the IBM PC became one of the most popular computer design standards in the world. The only significant competition it faced from a non-compatible platform throughout the 1980s was from Apple's Macintosh product line, as well as consumer-grade platforms created by companies like Commodore and Atari. Most present-day personal computers share architectural features in common with the original IBM PC, including the Intel-based Mac computers manufactured from 2006 to 2022.\n",
        "\n",
        "**History**\n",
        "\n",
        "Prior to the 1980s, IBM had largely been known as a provider of business computer systems. As the 1980s opened, their market share in the growing minicomputer market failed to keep up with competitors, while other manufacturers were beginning to see impressive profits in the microcomputer space. The market for personal computers was dominated at the time by Tandy, Commodore, and Apple, whose machines sold for several hundred dollars each and had become very popular. The microcomputer market was large enough for IBM's attention, with \\$15 billion in sales by 1979 and projected annual growth of more than 40% during the early 1980s. Other large technology companies had entered it, such as Hewlett-Packard, Texas Instruments and Data General, and some large IBM customers were buying Apples.\n",
        "\n",
        "As early as 1980 there were rumors of IBM developing a personal computer, possibly a miniaturized version of the IBM System/370, and Matsushita acknowledged publicly that it had discussed with IBM the possibility of manufacturing a personal computer in partnership, although this project was abandoned. The public responded to these rumors with skepticism, owing to IBM's tendency towards slow-moving, bureaucratic business practices tailored towards the production of large, sophisticated and expensive business systems As with other large computer companies, its new products typically required about four to five years for development, and a well publicized quote from an industry analyst was, \"IBM bringing out a personal computer would be like teaching an elephant to tap dance.\"\n",
        "\n",
        "IBM had previously produced microcomputers, such as 1975's IBM 5100, but targeted them towards businesses; the 5100 had a price tag as high as \\$20,000. Their entry into the home computer market needed to be competitively priced.\n",
        "\n",
        "In the summer of 1979, Ron Mion, IBM’s Senior Business Trends Advisor for entry-level systems, proposed a plan for IBM to enter the emerging microcomputer market. At that time, the likes of Apple and Tandy were starting to encroach on the small-business marketplace that IBM intended to dominate. Mion believed that that market would grow significantly and that IBM should aggressively pursue it. However, he felt that they wouldn’t be successful unless IBM departed from its long-standing business model."
      ],
      "metadata": {
        "id": "9OOmzIDVNtli"
      }
    },
    {
      "cell_type": "code",
      "source": [],
      "metadata": {
        "id": "vilb8qMcN2mj"
      },
      "execution_count": null,
      "outputs": []
    }
  ],
  "metadata": {
    "anaconda-cloud": {},
    "colab": {
      "provenance": [],
      "machine_shape": "hm",
      "include_colab_link": true
    },
    "kernelspec": {
      "display_name": "Python 3.9 (torch)",
      "language": "python",
      "name": "pytorch"
    },
    "language_info": {
      "codemirror_mode": {
        "name": "ipython",
        "version": 3
      },
      "file_extension": ".py",
      "mimetype": "text/x-python",
      "name": "python",
      "nbconvert_exporter": "python",
      "pygments_lexer": "ipython3",
      "version": "3.9.18"
    },
    "varInspector": {
      "cols": {
        "lenName": 16,
        "lenType": 16,
        "lenVar": 40
      },
      "kernels_config": {
        "python": {
          "delete_cmd_postfix": "",
          "delete_cmd_prefix": "del ",
          "library": "var_list.py",
          "varRefreshCmd": "print(var_dic_list())"
        },
        "r": {
          "delete_cmd_postfix": ") ",
          "delete_cmd_prefix": "rm(",
          "library": "var_list.r",
          "varRefreshCmd": "cat(var_dic_list()) "
        }
      },
      "types_to_exclude": [
        "module",
        "function",
        "builtin_function_or_method",
        "instance",
        "_Feature"
      ],
      "window_display": false
    }
  },
  "nbformat": 4,
  "nbformat_minor": 0
}