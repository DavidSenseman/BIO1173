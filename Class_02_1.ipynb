{
  "cells": [
    {
      "cell_type": "markdown",
      "metadata": {
        "id": "view-in-github",
        "colab_type": "text"
      },
      "source": [
        "<a href=\"https://colab.research.google.com/github/DavidSenseman/BIO1173/blob/main/Class_02_1.ipynb\" target=\"_parent\"><img src=\"https://colab.research.google.com/assets/colab-badge.svg\" alt=\"Open In Colab\"/></a>"
      ]
    },
    {
      "cell_type": "markdown",
      "metadata": {
        "id": "sx9UW2CBjYaf"
      },
      "source": [
        "---------------------------\n",
        "**COPYRIGHT NOTICE:** This Jupyterlab Notebook is a Derivative work of [Jeff Heaton](https://github.com/jeffheaton) licensed under the Apache License, Version 2.0 (the \"License\"); You may not use this file except in compliance with the License. You may obtain a copy of the License at\n",
        "\n",
        "> [http://www.apache.org/licenses/LICENSE-2.0](http://www.apache.org/licenses/LICENSE-2.0)\n",
        "\n",
        "Unless required by applicable law or agreed to in writing, software distributed under the License is distributed on an \"AS IS\" BASIS, WITHOUT WARRANTIES OR CONDITIONS OF ANY KIND, either express or implied. See the License for the specific language governing permissions and limitations under the License.\n",
        "\n",
        "------------------------"
      ]
    },
    {
      "cell_type": "markdown",
      "metadata": {
        "id": "JmMxL6uHjYag"
      },
      "source": [
        "# **BIO 1173: Intro Computational Biology**"
      ]
    },
    {
      "cell_type": "markdown",
      "metadata": {
        "id": "nVzCrgXSjYag"
      },
      "source": [
        "**Module 2: Neural Networks with TensorFlow and Keras**\n",
        "\n",
        "* Instructor: [David Senseman](mailto:David.Senseman@utsa.edu), [Department of Biology, Health and the Environment](https://sciences.utsa.edu/bhe/), [UTSA](https://www.utsa.edu/)\n",
        "\n",
        "### Module 2 Material\n",
        "\n",
        "* **Part 2.1: Introduction to Neural Networks with Tensorflow and Keras**\n",
        "* Part 2.2: Encoding Feature Vectors\n",
        "* Part 2.3: Controlling Overfitting\n",
        "* Part 2.4: Saving and Loading a Keras Neural Network\n"
      ]
    },
    {
      "cell_type": "markdown",
      "metadata": {
        "id": "2__7GCYcjYag"
      },
      "source": [
        "## Google CoLab Instructions\n",
        "\n",
        "You MUST run the following code cell to get credit for this class lesson. By running this code cell, you will map your GDrive to ```/content/drive```  and print out your Google GMAIL address. Your Instructor will use your GMAIL address to verify the author of this class lesson."
      ]
    },
    {
      "cell_type": "code",
      "execution_count": null,
      "metadata": {
        "id": "seXFCYH4LDUM",
        "scrolled": true,
        "colab": {
          "base_uri": "https://localhost:8080/"
        },
        "outputId": "82010c5c-6232-48ff-ea37-78db06710b78"
      },
      "outputs": [
        {
          "output_type": "stream",
          "name": "stdout",
          "text": [
            "Mounted at /content/drive\n",
            "Note: Using Google CoLab\n",
            "david.senseman@gmail.com\n"
          ]
        }
      ],
      "source": [
        "# You must run this cell first\n",
        "try:\n",
        "    from google.colab import drive\n",
        "    drive.mount('/content/drive', force_remount=True)\n",
        "    from google.colab import auth\n",
        "    auth.authenticate_user()\n",
        "    COLAB = True\n",
        "    print(\"Note: Using Google CoLab\")\n",
        "    import requests\n",
        "    gcloud_token = !gcloud auth print-access-token\n",
        "    gcloud_tokeninfo = requests.get('https://www.googleapis.com/oauth2/v3/tokeninfo?access_token=' + gcloud_token[0]).json()\n",
        "    print(gcloud_tokeninfo['email'])\n",
        "except:\n",
        "    print(\"**WARNING**: Your GMAIL address was **not** printed in the output below.\")\n",
        "    print(\"**WARNING**: You will NOT receive credit for this lesson.\")\n",
        "    COLAB = False"
      ]
    },
    {
      "cell_type": "markdown",
      "source": [
        "You should see the following output except your GMAIL address should appear on the last line.\n",
        "\n",
        "![__](https://biologicslab.co/BIO1173/images/class_04/class_04_1_image01B.png)\n",
        "\n",
        "If your GMAIL address does not appear your lesson will **not** be graded."
      ],
      "metadata": {
        "id": "Ec2zE7yUokuW"
      }
    },
    {
      "cell_type": "markdown",
      "source": [
        "### Create Custom Function\n",
        "\n",
        "The cell below creates a custom function called `hms_string()`. This function is needed to record the time required to train your neural network model.\n",
        "\n",
        "If you fail to run this cell now, you will receive one (or more) error message(s) later in this lesson."
      ],
      "metadata": {
        "id": "_tikfGIOwr9t"
      }
    },
    {
      "cell_type": "code",
      "source": [
        "# Create custom function\n",
        "\n",
        "# ------------------------------------------------------------------------\n",
        "# 0️⃣  Create hms_string()\n",
        "# ------------------------------------------------------------------------\n",
        "\n",
        "# Simple function to print out elasped time\n",
        "def hms_string(sec_elapsed):\n",
        "    h = int(sec_elapsed / (60 * 60))\n",
        "    m = int((sec_elapsed % (60 * 60)) / 60)\n",
        "    s = sec_elapsed % 60\n",
        "    return \"{}:{:>02}:{:>05.2f}\".format(h, m, s)"
      ],
      "metadata": {
        "id": "oHXmx6Yzwvgl"
      },
      "execution_count": null,
      "outputs": []
    },
    {
      "cell_type": "markdown",
      "metadata": {
        "id": "I9zp9WOrjYag"
      },
      "source": [
        "# **Deep Learning and Neural Network Introduction**\n",
        "\n",
        "**Neural networks** were one of the first machine learning models. Their popularity has fallen twice and is now on its third rise. **Deep learning** implies the use of neural networks. The \"deep\" in deep learning refers to a neural network with many hidden layers. Because neural networks have been around for so long, they have quite a bit of baggage. Researchers have created many different training algorithms, activation/transfer functions, and structures. This course is only concerned with the latest, most current state-of-the-art techniques for deep neural networks. We will not spend much time discussing the history of neural networks.\n",
        "\n",
        "Neural networks accept input and produce output. The input to a neural network is called the **_feature vector_**. The size of this vector is always a fixed length. Changing the size of the feature vector usually means recreating the entire neural network. Though the feature vector is called a \"vector,\" this is not always the case. A vector implies a 1D array. Later we will learn about **Convolutional Neural Networks (CNNs)**, which can allow the input size to change without retraining the neural network. Historically the input to a neural network was always 1D. However, with modern neural networks, you might see input data, such as:\n",
        "\n",
        "* **1D vector** - Classic input to a neural network, similar to rows in a spreadsheet. Common in predictive modeling.\n",
        "* **2D Matrix** - Grayscale image input to a CNN.\n",
        "* **3D Matrix** - Color image input to a CNN.\n",
        "* **nD Matrix** - Higher-order input to a CNN.\n",
        "\n",
        "Before CNNs, programs either encoded images to an intermediate form or sent the image input to a neural network by merely squashing the image matrix into a long array by placing the image's rows side-by-side. CNNs are different as the matrix passes through the neural network layers.\n",
        "\n",
        "Initially, this vpitdr will focus on 1D input to neural networks. However, later modules will focus more heavily on higher dimension input.\n",
        "\n",
        "The term **dimension** can be confusing in neural networks. In the sense of a 1D input vector, dimension refers to how many elements are in that 1D array. For example, a neural network with ten input neurons has ten dimensions. However, now that we have CNNs, the input has dimensions. The input to the neural network will *usually* have 1, 2, or 3 dimensions. Four or more dimensions are unusual. You might have a 2D input to a neural network with 64x64 pixels. This configuration would result in 4,096 input neurons. This network is either 2D or 4,096D, depending on which dimensions you reference.\n"
      ]
    },
    {
      "cell_type": "markdown",
      "metadata": {
        "id": "mzD89SWKjYah"
      },
      "source": [
        "## **Neurons and Layers**\n",
        "\n",
        "Most neural network structures use some type of neuron. Many different neural networks exist, and programmers introduce experimental neural network structures. Consequently, it is not possible to cover every neural network architecture. However, there are some commonalities among neural network implementations. A neural network algorithm would typically be composed of individual, interconnected units, even though these units may or may not be called neurons. The name for a neural network processing unit varies among the literature sources. It could be called a node, neuron, or unit.\n",
        "\n",
        "The diagram below shows the abstract structure of a single artificial neuron (ANN).\n",
        "\n",
        "**An Artifical Neuron**\n",
        "![__](https://biologicslab.co/BIO1173/images/class_02/class_02_1_image00A.png \"An Artifical\")\n",
        "\n",
        "The artificial neuron receives input from one or more sources that may be other neurons or data fed into the network from a computer program. This input is usually floating-point or binary. Often binary input is encoded to floating-point by representing true or false as 1 or 0. Sometimes the program also depicts the binary information using a bipolar system with true as one and false as -1.\n",
        "\n",
        "An artificial neuron multiplies each of these inputs by a **_weight_**. Then it adds these multiplications and passes this sum to an **_activation function_**. Some neural networks do not use an activation function. The following equation summarizes the calculated output of a neuron:\n",
        "\n",
        "$$ f(x,w) = \\phi(\\sum_i(\\theta_i \\cdot x_i)) $$\n",
        "\n",
        "In the above equation, the variables $x$ and $\\theta$ represent the input and weights of the neuron. The variable $i$ corresponds to the number of weights and inputs. You must always have the same number of weights as inputs. The neural network multiplies each weight by its respective input and feeds the products of these multiplications into an activation function, denoted by the Greek letter $\\phi$ (phi). This process results in a single output from the neuron.  \n",
        "\n",
        "The above neuron has two inputs plus the bias as a third. This neuron might accept the following input feature vector:\n",
        "\n",
        "$$ [1,2] $$\n",
        "\n",
        "Because a bias neuron is present, the program should append the value of one as follows:\n",
        "\n",
        "$$ [1,2,1] $$\n",
        "\n",
        "The weights for a 3-input layer (2 real inputs + bias) will always have additional weight for the bias. A weight vector might be:\n",
        "\n",
        "$$ [ 0.1, 0.2, 0.3] $$\n",
        "\n",
        "To calculate the summation, perform the following:\n",
        "\n",
        "$$ 0.1*1 + 0.2*2 + 0.3*1 = 0.8 $$\n",
        "\n",
        "The program passes a value of 0.8 to the $\\phi$ (phi) function, representing the activation function.\n",
        "\n",
        "The above figure shows the structure with just one building block. You can chain together many artificial neurons to build an artificial neural network (ANN). Think of the artificial neurons as **_building blocks_** for which the input and output circles are the connectors. The figure below shows an artificial neural network composed of three neurons:\n",
        "\n",
        "**Three Neuron Neural Network**\n",
        "![Three Neuron Neural Network](https://biologicslab.co/BIO1173/images/ann-simple.png \"Three Neuron Neural Network\")\n",
        "\n",
        "The above diagram shows three interconnected neurons. This representation is essentially this figure, minus a few inputs, repeated three times and then connected. It also has a total of four inputs and a single output. The output of neurons **N1** and **N2** feed **N3** to produce the output **O**.  To calculate the output for this network, we perform the previous equation three times. The first two times calculate **N1** and **N2**, and the third calculation uses the output of **N1** and **N2** to calculate **N3**.\n",
        "   \n",
        "Neural network diagrams do not typically show the detail seen in the previous figure. We can omit the activation functions and intermediate outputs to simplify the chart, resulting in  \n",
        "\n",
        "**Three Neuron Neural Network**\n",
        "![Three Neuron Neural Network](https://biologicslab.co/BIO1173/images/typical-ann.png \"Three Neuron Neural Network\")\n",
        "\n",
        "Looking at the previous figure, you can see two additional components of neural networks. First, consider the graph represents the inputs and outputs as abstract dotted line circles. The input and output could be parts of a more extensive neural network. However, the input and output are often a particular type of neuron that accepts data from the computer program using the neural network. The output neurons return a result to the program. This type of neuron is called an input neuron. We will discuss these neurons in the next section. This figure shows the neurons arranged in layers. The input neurons are the first layer, the **N1** and **N2** neurons create the second layer, the third layer contains **N3**, and the fourth layer has **O**.  Most neural networks arrange neurons into layers.\n",
        "\n",
        "The neurons that form a layer share several characteristics. First, every neuron in a layer has the same activation function. However, the activation functions employed by each layer may be different. Each of the layers fully connects to the next layer. In other words, every neuron in one layer has a connection to neurons in the previous layer. The former figure is not fully connected. Several layers are missing connections. For example, **I1** and **N2** do not connect. The next neural network shown below is fully connected and has an additional layer.\n",
        "\n",
        "**Fully Connected Neural Network Diagram**\n",
        "![Fully Connected Neural Network Diagram](https://biologicslab.co/BIO1173/images/ann-dense.png \"Fully Connected Neural Network Diagram\")\n",
        "\n",
        "In this figure, you see a fully connected, multilayered neural network. Networks such as this one will always have an input and output layer. The hidden layer structure determines the name of the network architecture. The network in this figure is a two-hidden-layer network. Most networks will have between zero and two hidden layers. Without implementing deep learning strategies, networks with more than two hidden layers are rare.    \n",
        "\n",
        "You might also notice that the arrows always point downward or forward from the input to the output. Later in this course, we will see recurrent neural networks that form inverted loops among the neurons. This type of neural network is called a feedforward neural network."
      ]
    },
    {
      "cell_type": "markdown",
      "metadata": {
        "id": "UNPZ4tMcjYah"
      },
      "source": [
        "# **Types of Neurons**\n",
        "\n",
        "In the last section, we briefly introduced the idea that different types of neurons exist. Not every neural network will use every kind of neuron. It is also possible for a single neuron to fill the role of several different neuron types. Now we will explain all the neuron types described in the course.\n",
        "\n",
        "There are usually four types of neurons in a neural network:\n",
        "\n",
        "* **Input Neurons** - We map each input neuron to one element in the feature vector.\n",
        "* **Hidden Neurons** - Hidden neurons allow the neural network to be abstract and process the input into the output.\n",
        "* **Output Neurons** - Each output neuron calculates one part of the output.\n",
        "* **Bias Neurons** - Work similar to the y-intercept of a linear equation.  \n",
        "\n",
        "We place each neuron into a layer:\n",
        "\n",
        "* **Input Layer** - The input layer accepts feature vectors from the dataset. Input layers usually have a bias neuron.\n",
        "* **Output Layer** - The output from the neural network. The output layer does not have a bias neuron.\n",
        "* **Hidden Layers** - Layers between the input and output layers. Each hidden layer will usually have a bias neuron.\n",
        "\n",
        "\n",
        "### **Input and Output Neurons**\n",
        "\n",
        "Nearly every neural network has input and output neurons. The input neurons accept data from the program for the network. The output neuron provides processed data from the network back to the program. The program will group these input and output neurons into separate layers called the input and output layers. The program normally represents the input to a neural network as an array or vector. The number of elements contained in the vector must equal the number of input neurons. For example, a neural network with three input neurons might accept the following input vector:\n",
        "\n",
        "$$ [0.5, 0.75, 0.2] $$\n",
        "\n",
        "Neural networks typically accept floating-point vectors as their input. To be consistent, we will represent the output of a single output neuron network as a single-element vector. Likewise, neural networks will output a vector with a length equal to the number of output neurons. The output will often be a single value from a single output neuron.\n",
        "\n",
        "## **Hidden Neurons**\n",
        "\n",
        "Hidden neurons have two essential characteristics. First, hidden neurons only receive input from other neurons, such as input or other hidden neurons. Second, hidden neurons only output to other neurons, such as output or other hidden neurons. Hidden neurons help the neural network understand the input and form the output. Programmers often group hidden neurons into fully connected hidden layers. However, these hidden layers do not directly process the incoming data or the eventual output.\n",
        "\n",
        "A common question for programmers concerns the number of hidden neurons in a network. Since the answer to this question is complex, more than one section of the course will include a relevant discussion of the number of hidden neurons. Before deep learning, researchers generally suggested that anything more than a single hidden layer is excessive. [[Cite:hornik1989multilayer]](https://www.sciencedirect.com/science/article/abs/pii/0893608089900208) Researchers have proven that a single-hidden-layer neural network can function as a universal approximator. In other words, this network should be able to learn to produce (or approximate) any output from any input as long as it has enough hidden neurons in a single layer.\n",
        "\n",
        "Training refers to the process that determines good weight values. Before the advent of deep learning, researchers feared additional layers would lengthen training time or encourage overfitting. Both concerns are true; however, increased hardware speeds and clever techniques can mitigate these concerns. Before researchers introduced deep learning techniques, we did not have an efficient way to train a deep network, which is a neural network with many hidden layers. Although a single-hidden-layer neural network can theoretically learn anything, deep learning facilitates a more complex representation of patterns in the data.  \n",
        "\n",
        "## **Bias Neurons**\n",
        "\n",
        "Programmers add bias neurons to neural networks to help them learn patterns. Bias neurons function like an input neuron that always produces a value of 1. Because the bias neurons have a constant output of 1, they are not connected to the previous layer. The value of 1, called the bias activation, can be set to values other than 1. However, 1 is the most common bias activation. Not all neural networks have bias neurons. The figure below shows a single-hidden-layer neural network with bias neurons:\n",
        "\n",
        "**Neural Network with Bias Neurons**\n",
        "![Neural Network with Bias Neurons](https://biologicslab.co/BIO1173/images/class_02/class_02_1_image00B.png \"Neural Network with Bias Neurons\")\n",
        "\n",
        "The above network contains three bias neurons. Except for the output layer, every level includes a single bias neuron. Bias neurons allow the program to shift the output of an activation function. We will see precisely how this shifting occurs later in the module when discussing activation functions.  \n",
        "\n",
        "## **Other Neuron Types**\n",
        "\n",
        "The individual units that comprise a neural network are not always called neurons. Researchers will sometimes refer to these neurons as nodes, units, or summations. You will almost always construct neural networks of weighted connections between these units.\n",
        "\n",
        "## **Why are Bias Neurons Needed?**\n",
        "\n",
        "The activation functions from the previous section specify the output of a single neuron. Together, the weight and bias of a neuron shape the output of the activation to produce the desired output. To see how this process occurs, consider the following equation. It represents a single-input sigmoid activation neural network.\n",
        "\n",
        "$$ f(x,w,b) = \\frac{1}{1 + e^{-(wx+b)}} $$\n",
        "\n",
        "The $x$ variable represents the single input to the neural network. The $w$ and $b$ variables specify the weight and bias of the neural network. The above equation combines the weighted sum of the inputs and the sigmoid activation function. For this section, we will consider the sigmoid function because it demonstrates a bias neuron's effect.\n",
        "\n",
        "The weights of the neuron allow you to adjust the slope or shape of the activation function. The next figure shows the effect on the output of the sigmoid activation function if the weight is varied:\n",
        "\n",
        "**Neuron Weight Shifting**\n",
        "![Adjusting Weight](https://biologicslab.co/BIO1173/images/class_2_bias_weight.png \"Neuron Weight Shifting\")\n",
        "\n",
        "The above diagram shows several sigmoid curves using the following parameters:\n",
        "\n",
        "$$ f(x,0.5,0.0) $$\n",
        "$$ f(x,1.0,0.0) $$\n",
        "$$ f(x,1.5,0.0) $$\n",
        "$$ f(x,2.0,0.0) $$\n",
        "\n",
        "We did not use bias to produce the curves, which is evident in the third parameter of 0 in each case. Using four weight values yields four different sigmoid curves in the above figure. No matter the weight, we always get the same value of 0.5 when *x* is 0 because all curves hit the same point when x is 0. We might need the neural network to produce other values when the input is near 0.5.  \n",
        "\n",
        "Bias does shift the sigmoid curve, which allows values other than 0.5 when *x* is near 0. The next image shows the effect of using a weight of 1.0 with several different biases:\n",
        "\n",
        "**Neuron Bias Shifting**\n",
        "![Adjusting Bias](https://biologicslab.co/BIO1173/images/class_2_bias_value.png \"Neuron Bias Shifting\")\n",
        "\n",
        "The above diagram shows several sigmoid curves with the following parameters:\n",
        "\n",
        "$$ f(x,1.0,1.0) $$\n",
        "$$ f(x,1.0,0.5) $$\n",
        "$$ f(x,1.0,1.5) $$\n",
        "$$ f(x,1.0,2.0) $$\n",
        "\n",
        "We used a weight of 1.0 for these curves in all cases. When we utilized several different biases, sigmoid curves shifted to the left or right. Because all the curves merge at the top right or bottom left, it is not a complete shift.\n",
        "\n",
        "When we put bias and weights together, they produced a curve that created the necessary output. The above curves are the output from only one neuron. In a complete network, the output from many different neurons will combine to produce intricate output patterns."
      ]
    },
    {
      "cell_type": "markdown",
      "metadata": {
        "id": "VRVtvb_CjYah"
      },
      "source": [
        "# **Modern Activation Functions**\n",
        "\n",
        "**_Activation functions_**, also known as transfer functions, are used to calculate the _output_ of each layer of a neural network. Historically neural networks have used a hyperbolic tangent, sigmoid/logistic, or linear activation function. However, modern deep neural networks primarily make use of the following activation functions:\n",
        "\n",
        "* **Rectified Linear Unit (ReLU)** - Used for the output of hidden layers. [[Cite:glorot2011deep]](http://proceedings.mlr.press/v15/glorot11a/glorot11a.pdf)\n",
        "* **Softmax** - Used for the output of classification neural networks.\n",
        "* **Linear** - Used for the output of regression neural networks (or 2-class classification).\n",
        "\n",
        "### **Linear Activation Function**\n",
        "The most basic activation function is the linear function because it does not change the neuron output. The following equation 1.2 shows how the program typically implements a linear activation function:\n",
        "\n",
        "$$ \\phi(x) = x $$\n",
        "\n",
        "As you can observe, this activation function simply returns the value that the neuron inputs passed to it.  The next figure shows the graph for a linear activation function:\n",
        "\n",
        "**Linear Activation Function**\n",
        "![Linear Activation Function](https://biologicslab.co/BIO1173/images/graphs-linear.png \"Linear Activation Function\")\n",
        "\n",
        "\n",
        "Regression neural networks, which learn to provide numeric values, will usually use a linear activation function on their output layer. Classification neural networks, which determine an appropriate class for their input, will often utilize a softmax activation function for their output layer.\n",
        "\n",
        "### **Rectified Linear Units (ReLU)**\n",
        "\n",
        "Since its introduction, researchers have rapidly adopted the **_Rectified Linear Unit (ReLU)_**. [[Cite:nair2010rectified]](https://www.cs.toronto.edu/~fritz/absps/reluICML.pdf) Before the ReLU activation function, the programmers generally regarded the hyperbolic tangent as the activation function of choice. Most current research now recommends the ReLU due to superior training results. As a result, most neural networks should utilize the ReLU on hidden layers and either softmax or linear on the output layer. The following equation shows the straightforward ReLU function:\n",
        "\n",
        "$$ \\phi(x) = \\max(0, x) $$\n",
        "\n",
        "The next figure shows the graph of the ReLU activation function:\n",
        "\n",
        "**Rectified Linear Units (ReLU)**\n",
        "![Rectified Linear Units (ReLU)](https://biologicslab.co/BIO1173/images/class_02/class_02_1_image00C.png \"Rectified Linear Units (ReLU)\")\n",
        "\n",
        "Most current research states that the hidden layers of your neural network should use the ReLU activation.\n",
        "\n",
        "### **Softmax Activation Function**\n",
        "\n",
        "The final activation function that we will examine is the **_softmax_** activation function. Along with the linear activation function, you can usually find the softmax function in the output layer of a neural network. Classification neural networks typically employ the softmax function. The neuron with the highest value claims the input as a member of its class. Because it is a preferable method, the softmax activation function forces the neural network's output to represent the probability that the input falls into each of the classes. The neuron's outputs are numeric values without the softmax, with the highest indicating the winning class.\n",
        "\n",
        "To see how the program uses the softmax activation function, we will look at a typical neural network classification problem. The iris data set contains four measurements for 150 different iris flowers. Each of these flowers belongs to one of three species of iris.\n",
        "\n",
        "![Iris Flower Species](https://biologicslab.co/BIO1173/images/class_06/iris_species.png \"Iris Flower Species\")\n",
        "**Iris Flower Species**\n",
        "\n",
        "When you provide the measurements of a flower, the softmax function allows the neural network to give you the probability that these measurements belong to each of the three species. For example, the neural network might tell you that there is an 80% chance that the iris is setosa, a 15% probability that it is virginica, and only a 5% probability of versicolor. Because these are probabilities, they must add up to 100%. There could not be an 80% probability of setosa, a 75% probability of virginica, and a 20% probability of versicolor—this type of result would be nonsensical.\n",
        "\n",
        "To classify input data into one of three iris species, you will need one output neuron for each species. The output neurons do not inherently specify the probability of each of the three species. Therefore, it is desirable to provide probabilities that sum to 100%. The neural network will tell you the likelihood of a flower being each of the three species. To get the probability, use the softmax function in the following equation:\n",
        "\n",
        "$$ \\phi_i(x) = \\frac{exp(x_i)}{\\sum_{j}^{ }exp(x_j)} $$\n",
        "\n",
        "In the above equation, $i$ represents the index of the output neuron ($\\phi$) that the program is calculating, and $j$ represents the indexes of all neurons in the group/level. The variable $x$ designates the array of output neurons. It's important to note that the program calculates the softmax activation differently than the other activation functions in this module. When softmax is the activation function, the output of a single neuron is dependent on the other output neurons.\n",
        "\n",
        "To see the softmax function in operation, refer to this [Softmax example website](http://www.heatonresearch.com/aifh/vol3/softmax.html).\n",
        "\n",
        "Consider a trained neural network that classifies data into three categories: the three iris species. In this case, you would use one output neuron for each of the target classes. Consider if the neural network were to output the following:   \n",
        "\n",
        "* **Neuron 1**: setosa: 0.9\n",
        "* **Neuron 2**: versicolour: 0.2\n",
        "* **Neuron 3**: virginica: 0.4\n",
        "\n",
        "The above output shows that the neural network considers the data to represent a setosa iris. However, these numbers are not probabilities. The 0.9 value does not represent a 90% likelihood of the data representing a setosa. These values sum to 1.5. For the program to treat them as probabilities, they must sum to 1.0. The output vector for this neural network is the following:\n",
        "\n",
        "$$ [0.9,0.2,0.4] $$\n",
        "\n",
        "If you provide this vector to the softmax function it will return the following vector:\n",
        "\n",
        "$$ [0.47548495534876745 , 0.2361188410001125 , 0.28839620365112] $$\n",
        "\n",
        "The above three values do sum to 1.0 and can be treated as probabilities.  The likelihood of the data representing a setosa iris is 48% because the first value in the vector rounds to 0.48 (48%).  You can calculate this value in the following manner:\n",
        "\n",
        "$$ sum=\\exp(0.9)+\\exp(0.2)+\\exp(0.4)=5.17283056695839 $$\n",
        "$$ j_0= \\exp(0.9)/sum = 0.47548495534876745 $$\n",
        "$$ j_1= \\exp(0.2)/sum = 0.2361188410001125 $$\n",
        "$$ j_2= \\exp(0.4)/sum = 0.28839620365112 $$\n",
        "\n",
        "### **Step Activation Function**\n",
        "\n",
        "The step or threshold activation function is another simple activation function. Neural networks were initially called perceptrons. McCulloch & Pitts (1943) introduced the original perceptron and used a step activation function like the following equation:[[Cite:mcculloch1943logical]](https://link.springer.com/article/10.1007/BF02478259) The step activation is 1 if x>=0.5, and 0 otherwise.\n",
        "  \n",
        "This equation outputs a value of 1.0 for incoming values of 0.5 or higher and 0 for all other values. Step functions, also known as threshold functions, only return 1 (true) for values above the specified threshold, as seen in the next figure.\n",
        "\n",
        "**Step Activation Function**\n",
        "![Step Activation Function](https://biologicslab.co/BIO1173/images/graphs-step.png \"Step Activation Function\")\n",
        "\n",
        "### **Sigmoid Activation Function**\n",
        "\n",
        "The sigmoid or logistic activation function is a common choice for feedforward neural networks that need to output only positive numbers. Despite its widespread use, the hyperbolic tangent or the rectified linear unit (ReLU) activation function is usually a more suitable choice. We introduce the ReLU activation function later in this module. The following equation shows the sigmoid activation function:\n",
        "\n",
        "$$ \\phi(x) = \\frac{1}{1 + e^{-x}} $$\n",
        "\n",
        "Use the sigmoid function to ensure that values stay within a relatively small range, as seen in Figure 3.SIGMOID:\n",
        "\n",
        "**Sigmoid Activation Function**\n",
        "![Sigmoid Activation Function](https://biologicslab.co/BIO1173/images/graphs-sigmoid.png \"Sigmoid Activation Function\")\n",
        "\n",
        "As you can see from the above graph, we can force values to a range. Here, the function compressed values above or below 0 to the approximate range between 0 and 1.\n",
        "\n",
        "### **Hyperbolic Tangent Activation Function**\n",
        "\n",
        "The hyperbolic tangent function is also a prevalent activation function for neural networks that must output values between -1 and 1. This activation function is simply the hyperbolic tangent (tanh) function, as shown in the following equation:\n",
        "\n",
        "$$ \\phi(x) = \\tanh(x) $$\n",
        "\n",
        "The graph of the hyperbolic tangent function has a similar shape to the sigmoid activation function, as seen below.\n",
        "\n",
        "**Hyperbolic Tangent Activation Function**\n",
        "![Hyperbolic Tangent Activation Function](https://biologicslab.co/BIO1173/images/graphs-tanh.png \"Hyperbolic Tangent Activation Function\")\n",
        "\n",
        "The hyperbolic tangent function has several advantages over the sigmoid activation function.  \n",
        "\n",
        "### **Why ReLU?**\n",
        "\n",
        "Why is the ReLU activation function so popular? One of the critical improvements to neural networks makes deep learning work. [[Cite:nair2010rectified]](https://www.cs.toronto.edu/~hinton/absps/reluICML.pdf)\n",
        "\n",
        "Before deep learning, the sigmoid activation function was prevalent.  We covered the sigmoid activation function earlier in this module. Frameworks like Keras often train neural networks with gradient descent. For the neural network to use gradient descent, it is necessary to take the derivative of the activation function. The program must derive partial derivatives of each of the weights for the error function. The next figure shows a derivative, the instantaneous rate of change.\n",
        "\n",
        "**Derivative**\n",
        "![Derivative](https://biologicslab.co/BIO1173/images/class_02/class_02_1_image00D.png \"Derivative\")\n",
        "\n",
        "The derivative of the sigmoid function is given here:\n",
        "\n",
        "$$ \\phi'(x)=\\phi(x)(1-\\phi(x)) $$\n",
        "\n",
        "Textbooks often give this derivative in other forms. We use the above form for computational efficiency. To see how we determined this derivative, [refer to the following article](http://www.heatonresearch.com/aifh/vol3/deriv_sigmoid.html).\n",
        "\n",
        "We present the graph of the sigmoid derivative in the following image.\n",
        "\n",
        "**Sigmoid Derivative**\n",
        "![Sigmoid Derivative](https://biologicslab.co/BIO1173/images/class_2_deriv_sigmoid.png \"Sigmoid Derivative\")\n",
        "\n",
        "The derivative quickly saturates to zero as $x$ moves from zero.  This is not a problem for the derivative of the ReLU, which is given here:\n",
        "\n",
        "$$ \\phi'(x) = \\begin{cases} 1 & x > 0 \\\\ 0 & x \\leq 0 \\end{cases} $$"
      ]
    },
    {
      "cell_type": "markdown",
      "source": [
        "# **Using Keras to Build Neural Network Models**\n",
        "\n",
        "From this introduction to the basic mathematical concepts that underlie deep learning with neural networks, some of you might now have the impression that buidling and using neural networks is impossibly hard task. In the next section we build our first artifical neural network so you can judge for yourself how hard is this task.\n",
        "\n"
      ],
      "metadata": {
        "id": "cXjxPhbneIHq"
      }
    },
    {
      "cell_type": "markdown",
      "source": [
        "**`Keras`** is a software layer or API (application interface) that \"sits\" on top of `TensorFlow`. This makes buidling neural networks much easier.\n",
        "\n",
        "For example, the following code uses `Keras` to add one layer to a neural network called `model`:\n",
        "```text\n",
        "`model.add(Dense(25, input_dim=x_0.shape[1], activation='relu'))`\n",
        "```\n",
        "When you run this line of code, this apparently simple function, `model.add(Dense(25...)` executes a large number of hidden commands \"behind the scenes\".\n",
        "\n",
        "For example, here the code Keras uses to just define the class `SimpleDense(Layer)`:\n",
        "\n",
        "~~~text\n",
        "class SimpleDense(Layer):\n",
        "    def __init__(self, units=32):\n",
        "        super().__init__()\n",
        "        self.units = units\n",
        "\n",
        "    # Create the state of the layer (weights)\n",
        "    def build(self, input_shape):\n",
        "        self.kernel = self.add_weight(\n",
        "            shape=(input_shape[-1], self.units),\n",
        "            initializer=\"glorot_uniform\",\n",
        "            trainable=True,\n",
        "            name=\"kernel\",\n",
        "        )\n",
        "        self.bias = self.add_weight(\n",
        "            shape=(self.units,),\n",
        "            initializer=\"zeros\",\n",
        "            trainable=True,\n",
        "            name=\"bias\",\n",
        "        )\n",
        "\n",
        "    # Defines the computation\n",
        "    def call(self, inputs):\n",
        "        return ops.matmul(inputs, self.kernel) + self.bias\n",
        "\n",
        "# Instantiates the layer.\n",
        "linear_layer = SimpleDense(4)\n",
        "\n",
        "# This will also call `build(input_shape)` and create the weights.\n",
        "y = linear_layer(ops.ones((2, 2)))\n",
        "assert len(linear_layer.weights) == 2\n",
        "\n",
        "# These weights are trainable, so they're listed in `trainable_weights`:\n",
        "assert len(linear_layer.trainable_weights) == 2\n",
        "\n",
        "~~~\n",
        "Rather than asking you to create each individual layer in a network with hundreds lines of `Python` and `Tensorflow` code, you will be asked only use a handful of `Keras` commands.\n",
        "\n",
        "Unless you are researching entirely new structures of deep neural networks, it is unlikely that you need to program TensorFlow directly. For this class, we will usually use `TensorFlow` through `Keras`, rather than directly program in `TensorFlow`."
      ],
      "metadata": {
        "id": "S7iRt7g-U5dY"
      }
    },
    {
      "cell_type": "markdown",
      "source": [
        "## **The `MNIST` Dataset**\n",
        "\n",
        "Our first neural network will solve a basic, but important problem in image recognition: specifically, how to teach a machine to accurately \"read\" hand-drawn numbers (zip code) on an envelope. As you might imagine, this was an important problem for the US Postal Service (USPS). Having a post office clerk manually read, and sort every letter was incredibly slow and labor intensive. As you will see, a rather simple neural network, hooked up to a camera can easily solve this problem.\n",
        "\n",
        "The **`MNIST (Modified National Institute of Standards and Technology)`** dataset is a collection of 70,000 28x28 grayscale images of handwritten digits (0-9). It consists of 60,000 training images and 10,000 test images. Created by Yann LeCun, Corinna Cortes, and Christopher Burges in the late 1990s, it has been instrumental in advancing machine learning, particularly neural networks.\n",
        "\n",
        "![__](https://biologicslab.co/BIO1173/images/class_02/class_02_1_image14A.png)\n",
        "**`MINST Data Set`**\n",
        "\n",
        "### Historical Importance\n",
        "\n",
        "1. **Standard Benchmark**: MNIST became the gold standard benchmark for evaluating and comparing the performance of various machine learning algorithms, providing a common ground for researchers.\n",
        "\n",
        "2. **Accessible and Manageable**: The dataset is relatively small and easy to process, making it accessible for both beginners and seasoned researchers. Its simplicity enabled quick experimentation and iteration.\n",
        "\n",
        "3. **Catalyst for Innovation**: Solving the MNIST problem spurred significant advancements in neural network architectures and techniques. Many foundational methods and innovations in deep learning were first validated using MNIST.\n",
        "\n",
        "### Modern Impact\n",
        "\n",
        "1. **Training Ground**: MNIST continues to serve as an educational tool and a starting point for newcomers to machine learning and deep learning.\n",
        "2. **Benchmarking**: Despite the emergence of more challenging datasets, MNIST remains a useful benchmark for testing new ideas and architectures.\n",
        "3. **Legacy**: The success stories and breakthroughs achieved on MNIST have inspired countless advancements in AI, establishing the dataset as a cornerstone in the history of machine learning.\n",
        "\n",
        "In summary, the `MNIST` dataset's historical importance lies in its role as a catalyst for innovation, a standard benchmark for evaluation, and a training ground for both models and researchers. It has significantly contributed to the growth and success of neural networks and deep learning.\n"
      ],
      "metadata": {
        "id": "UhbmilOZjYMQ"
      }
    },
    {
      "cell_type": "markdown",
      "source": [
        "### Example 1: Construct, Compile and Train a Neural Network\n",
        "\n",
        "The code in the cell below shows the `Python` code needed to construct, compile and train a neural network to analyze the MINST dataset using the `Tensorflow/Keras` libraries.\n",
        "\n",
        "In this example, the data is called `EG_x` and `EG_y`. Each data point in `EG_x` is one image of a hand-drawn digit (see above). while the corresponding `EG_y` value is the actual digit value (i.e. _correct number_) of the hand-drawn digit.\n",
        "\n",
        "The job of the neural network `EG_model` is to learn which image corresponds to one of the 10 possible digits (i.e. `0` to `9`). The neural network model in the example is called `EG+model`. The `EG_` prefix is used to indicate that this is the EXAMPLE model since the letters `e.g.` are used for example.\n",
        "\n",
        "Exactly how this and other neural networks classily images will be covered in later lessons.\n"
      ],
      "metadata": {
        "id": "pKSjjlkalvy4"
      }
    },
    {
      "cell_type": "code",
      "source": [
        "# Example 1: Construct, Compile and Train a Neural Network\n",
        "\n",
        "\n",
        "import os, time, logging          # standard libraries\n",
        "import numpy as np\n",
        "import tensorflow as tf\n",
        "from tensorflow.keras.datasets import mnist, fashion_mnist\n",
        "from tensorflow.keras.models import Sequential\n",
        "from tensorflow.keras.layers import Dense, Flatten, Dropout, BatchNormalization\n",
        "from tensorflow.keras.callbacks import EarlyStopping, ReduceLROnPlateau\n",
        "\n",
        "# ------------------------------------------------------------------------\n",
        "# 1️⃣  Configuration constants\n",
        "# ------------------------------------------------------------------------\n",
        "\n",
        "EPOCHS      = 20          # number of training epochs (keep it small for demo)\n",
        "PATIENCE    = 3          # patience for early‑stopping / LR reduction\n",
        "LEARN_RATE  = 0.0010     # learning rate for the Adam optimizer\n",
        "BATCH_SIZE  = 32         # batch size for tf.data\n",
        "SHUFFLE_BUF = 1000       # buffer size for shuffling the training data\n",
        "VAL_RATIO   = 0.1        # fraction of training data used for validation\n",
        "\n",
        "# ------------------------------------------------------------------------\n",
        "# 2️⃣  Load the MNIST datase\n",
        "# ------------------------------------------------------------------------\n",
        "\n",
        "(eg_train_images, eg_train_labels), (eg_test_images, eg_test_labels) = mnist.load_data()\n",
        "\n",
        "# ------------------------------------------------------------------------\n",
        "# 3️⃣  Split the data into training and validation sets\n",
        "# ------------------------------------------------------------------------\n",
        "\n",
        "eg_val_size = int(len(eg_train_images) * VAL_RATIO)\n",
        "eg_x_val, eg_y_val = eg_train_images[:eg_val_size], eg_train_labels[:eg_val_size]\n",
        "eg_x_train, eg_y_train  = eg_train_images[eg_val_size:], eg_train_labels[eg_val_size:]\n",
        "\n",
        "# ------------------------------------------------------------------------\n",
        "# 4️⃣   Prepare data\n",
        "# ------------------------------------------------------------------------\n",
        "\n",
        "eg_train_ds = tf.data.Dataset.from_tensor_slices((eg_x_train, eg_y_train))\n",
        "eg_train_ds = eg_train_ds.map(\n",
        "    lambda img, lbl: (tf.cast(img, tf.float32) / 255.0, lbl),\n",
        "    num_parallel_calls=tf.data.AUTOTUNE\n",
        ")\n",
        "eg_train_ds = eg_train_ds.shuffle(buffer_size=SHUFFLE_BUF)\n",
        "eg_train_ds = eg_train_ds.batch(BATCH_SIZE).prefetch(tf.data.AUTOTUNE)\n",
        "\n",
        "eg_val_ds = tf.data.Dataset.from_tensor_slices((eg_x_val, eg_y_val))\n",
        "eg_val_ds = eg_val_ds.map(\n",
        "    lambda img, lbl: (tf.cast(img, tf.float32) / 255.0, lbl),\n",
        "    num_parallel_calls=tf.data.AUTOTUNE\n",
        ")\n",
        "eg_val_ds = eg_val_ds.batch(BATCH_SIZE).prefetch(tf.data.AUTOTUNE)\n",
        "\n",
        "eg_test_ds = tf.data.Dataset.from_tensor_slices((eg_test_images, eg_test_labels))\n",
        "eg_test_ds = eg_test_ds.map(\n",
        "    lambda img, lbl: (tf.cast(img, tf.float32) / 255.0, lbl),\n",
        "    num_parallel_calls=tf.data.AUTOTUNE\n",
        ")\n",
        "eg_test_ds = eg_test_ds.batch(BATCH_SIZE).prefetch(tf.data.AUTOTUNE)\n",
        "\n",
        "# ------------------------------------------------------------------------\n",
        "# 5️⃣  Build neural network model\n",
        "# ------------------------------------------------------------------------\n",
        "#  A simple feed‑forward model with a couple of dense layers\n",
        "eg_model = Sequential([\n",
        "    tf.keras.Input(shape=(28, 28)),          # <-- new explicit Input layer\n",
        "    Flatten(),                               # shape inferred from Input\n",
        "    Dense(256, activation=\"relu\"),\n",
        "    BatchNormalization(),\n",
        "    Dropout(0.3),\n",
        "    Dense(128, activation=\"relu\"),\n",
        "    BatchNormalization(),\n",
        "    Dropout(0.3),\n",
        "    Dense(10, activation=\"softmax\")          # 10 classes\n",
        "])\n",
        "# ------------------------------------------------------------------------\n",
        "# 6️⃣  Compile Model\n",
        "# ------------------------------------------------------------------------\n",
        "eg_model.compile(\n",
        "    optimizer=tf.keras.optimizers.Adam(learning_rate=LEARN_RATE),\n",
        "    loss=\"sparse_categorical_crossentropy\",\n",
        "    metrics=[\"accuracy\"]\n",
        ")\n",
        "\n",
        "# ------------------------------------------------------------------------\n",
        "# 7️⃣  Add callbacks\n",
        "# ------------------------------------------------------------------------\n",
        "callbacks = [\n",
        "    EarlyStopping(\n",
        "        monitor=\"val_loss\",\n",
        "        patience=PATIENCE,\n",
        "        restore_best_weights=True\n",
        "    ),\n",
        "    ReduceLROnPlateau(\n",
        "        monitor=\"val_loss\",\n",
        "        factor=0.5,\n",
        "        patience=PATIENCE,\n",
        "        verbose=1\n",
        "    )\n",
        "]\n",
        "\n",
        "# ------------------------------------------------------------------------\n",
        "# 8️⃣  Train model\n",
        "# -------------------------------------------------------------------------\n",
        "print(f\"----- Starting training for {EPOCHS} epochs ---------------------------\")\n",
        "start_time = time.time()\n",
        "eg_history = eg_model.fit(\n",
        "    eg_train_ds,\n",
        "    validation_data=eg_val_ds,\n",
        "    epochs=EPOCHS,\n",
        "    callbacks=callbacks\n",
        ")\n",
        "\n",
        "# ---------------------------------------------------------------------------\n",
        "# 9️⃣ Inspect training\n",
        "# ---------------------------------------------------------------------------\n",
        "print(\"\\nTraining complete.\")\n",
        "print(\"Best validation accuracy:\", max(eg_history.history[\"val_accuracy\"]))\n",
        "\n",
        "elapsed_time = time.time() - start_time\n",
        "print(f\"Elapsed time: {hms_string(elapsed_time)}\")\n",
        "\n"
      ],
      "metadata": {
        "colab": {
          "base_uri": "https://localhost:8080/"
        },
        "id": "RKwJYeOYpP9j",
        "outputId": "919776cf-7893-46c5-aca5-649c86af13c5"
      },
      "execution_count": null,
      "outputs": [
        {
          "output_type": "stream",
          "name": "stdout",
          "text": [
            "----- Starting training for 20 epochs ---------------------------\n",
            "Epoch 1/20\n",
            "\u001b[1m1688/1688\u001b[0m \u001b[32m━━━━━━━━━━━━━━━━━━━━\u001b[0m\u001b[37m\u001b[0m \u001b[1m17s\u001b[0m 9ms/step - accuracy: 0.8387 - loss: 0.5253 - val_accuracy: 0.9573 - val_loss: 0.1356 - learning_rate: 0.0010\n",
            "Epoch 2/20\n",
            "\u001b[1m1688/1688\u001b[0m \u001b[32m━━━━━━━━━━━━━━━━━━━━\u001b[0m\u001b[37m\u001b[0m \u001b[1m16s\u001b[0m 9ms/step - accuracy: 0.9369 - loss: 0.2087 - val_accuracy: 0.9667 - val_loss: 0.1079 - learning_rate: 0.0010\n",
            "Epoch 3/20\n",
            "\u001b[1m1688/1688\u001b[0m \u001b[32m━━━━━━━━━━━━━━━━━━━━\u001b[0m\u001b[37m\u001b[0m \u001b[1m23s\u001b[0m 14ms/step - accuracy: 0.9488 - loss: 0.1646 - val_accuracy: 0.9727 - val_loss: 0.0936 - learning_rate: 0.0010\n",
            "Epoch 4/20\n",
            "\u001b[1m1688/1688\u001b[0m \u001b[32m━━━━━━━━━━━━━━━━━━━━\u001b[0m\u001b[37m\u001b[0m \u001b[1m18s\u001b[0m 11ms/step - accuracy: 0.9546 - loss: 0.1466 - val_accuracy: 0.9738 - val_loss: 0.0847 - learning_rate: 0.0010\n",
            "Epoch 5/20\n",
            "\u001b[1m1688/1688\u001b[0m \u001b[32m━━━━━━━━━━━━━━━━━━━━\u001b[0m\u001b[37m\u001b[0m \u001b[1m17s\u001b[0m 10ms/step - accuracy: 0.9582 - loss: 0.1298 - val_accuracy: 0.9757 - val_loss: 0.0858 - learning_rate: 0.0010\n",
            "Epoch 6/20\n",
            "\u001b[1m1688/1688\u001b[0m \u001b[32m━━━━━━━━━━━━━━━━━━━━\u001b[0m\u001b[37m\u001b[0m \u001b[1m16s\u001b[0m 9ms/step - accuracy: 0.9637 - loss: 0.1135 - val_accuracy: 0.9765 - val_loss: 0.0780 - learning_rate: 0.0010\n",
            "Epoch 7/20\n",
            "\u001b[1m1688/1688\u001b[0m \u001b[32m━━━━━━━━━━━━━━━━━━━━\u001b[0m\u001b[37m\u001b[0m \u001b[1m16s\u001b[0m 9ms/step - accuracy: 0.9668 - loss: 0.1068 - val_accuracy: 0.9775 - val_loss: 0.0753 - learning_rate: 0.0010\n",
            "Epoch 8/20\n",
            "\u001b[1m1688/1688\u001b[0m \u001b[32m━━━━━━━━━━━━━━━━━━━━\u001b[0m\u001b[37m\u001b[0m \u001b[1m16s\u001b[0m 9ms/step - accuracy: 0.9683 - loss: 0.1019 - val_accuracy: 0.9783 - val_loss: 0.0682 - learning_rate: 0.0010\n",
            "Epoch 9/20\n",
            "\u001b[1m1688/1688\u001b[0m \u001b[32m━━━━━━━━━━━━━━━━━━━━\u001b[0m\u001b[37m\u001b[0m \u001b[1m17s\u001b[0m 10ms/step - accuracy: 0.9706 - loss: 0.0930 - val_accuracy: 0.9798 - val_loss: 0.0664 - learning_rate: 0.0010\n",
            "Epoch 10/20\n",
            "\u001b[1m1688/1688\u001b[0m \u001b[32m━━━━━━━━━━━━━━━━━━━━\u001b[0m\u001b[37m\u001b[0m \u001b[1m20s\u001b[0m 9ms/step - accuracy: 0.9719 - loss: 0.0869 - val_accuracy: 0.9802 - val_loss: 0.0685 - learning_rate: 0.0010\n",
            "Epoch 11/20\n",
            "\u001b[1m1688/1688\u001b[0m \u001b[32m━━━━━━━━━━━━━━━━━━━━\u001b[0m\u001b[37m\u001b[0m \u001b[1m16s\u001b[0m 9ms/step - accuracy: 0.9722 - loss: 0.0868 - val_accuracy: 0.9773 - val_loss: 0.0719 - learning_rate: 0.0010\n",
            "Epoch 12/20\n",
            "\u001b[1m1684/1688\u001b[0m \u001b[32m━━━━━━━━━━━━━━━━━━━\u001b[0m\u001b[37m━\u001b[0m \u001b[1m0s\u001b[0m 9ms/step - accuracy: 0.9728 - loss: 0.0840\n",
            "Epoch 12: ReduceLROnPlateau reducing learning rate to 0.0005000000237487257.\n",
            "\u001b[1m1688/1688\u001b[0m \u001b[32m━━━━━━━━━━━━━━━━━━━━\u001b[0m\u001b[37m\u001b[0m \u001b[1m21s\u001b[0m 9ms/step - accuracy: 0.9728 - loss: 0.0840 - val_accuracy: 0.9798 - val_loss: 0.0694 - learning_rate: 0.0010\n",
            "\n",
            "Training complete.\n",
            "Best validation accuracy: 0.9801666736602783\n",
            "Elapsed time: 0:03:31.43\n"
          ]
        }
      ]
    },
    {
      "cell_type": "markdown",
      "source": [
        "If the code is correct, you should see something _similar_ to the following output\n",
        "\n",
        "![__](https://biologicslab.co/BIO1173/images/class_02/class_02_1_image07C.png)"
      ],
      "metadata": {
        "id": "W1vo0L8WHg7W"
      }
    },
    {
      "cell_type": "markdown",
      "source": [
        "### Example 2A: Create Custom Accuracy Function\n",
        "\n",
        "Once a neural network has been trained, it is customary to measure how \"accurate\" it was in making its predictions. There are different ways to measure accuracy.\n",
        "\n",
        "The code in the cell below creates a custom function called `compute_accuracy()` that provides some additional flexibility compared to other methods:\n",
        "\n",
        "* Evaluate on a different dataset that isn’t the one you pass to fit().\n",
        "* Compute additional metrics that Keras doesn’t expose by default.\n",
        "* Log a metric that uses all predictions at once (e.g. a macro‑averaged score)."
      ],
      "metadata": {
        "id": "QORV4DZuqr9n"
      }
    },
    {
      "cell_type": "code",
      "source": [
        "# Example 2A: Create custom accuracy function\n",
        "\n",
        "from sklearn.metrics import accuracy_score   # Optional, if you prefer SciPy\n",
        "\n",
        "def compute_accuracy(model, ds, use_sklearn=False):\n",
        "    \"\"\"\n",
        "    Compute accuracy on a tf.data.Dataset that yields (image, label).\n",
        "    Returns a float in [0, 1].\n",
        "    \"\"\"\n",
        "    # Collect all predictions and true labels\n",
        "    preds = []\n",
        "    true = []\n",
        "\n",
        "    for batch_images, batch_labels in ds:\n",
        "        # model.predict returns a 2‑D array (batch, classes)\n",
        "        batch_preds = model.predict(batch_images, verbose=0)\n",
        "        batch_pred_labels = np.argmax(batch_preds, axis=1)\n",
        "\n",
        "        preds.extend(batch_pred_labels)\n",
        "        true.extend(batch_labels.numpy())\n",
        "\n",
        "    if use_sklearn:\n",
        "        return accuracy_score(true, preds)\n",
        "\n",
        "    # Vanilla NumPy\n",
        "    return np.mean(np.array(preds) == np.array(true))"
      ],
      "metadata": {
        "id": "kqokNOy2RDiw"
      },
      "execution_count": null,
      "outputs": []
    },
    {
      "cell_type": "markdown",
      "source": [
        "If the code is correct you should **not** see any output."
      ],
      "metadata": {
        "id": "iSIL5jbleN2W"
      }
    },
    {
      "cell_type": "markdown",
      "source": [
        "### Example 2B: Compute Accuracy\n",
        "\n",
        "The code in the cell below uses the custom `compute_accuracy()` function to evaluate the accuracy of the `eg_model`."
      ],
      "metadata": {
        "id": "pm-fvJtfTEaP"
      }
    },
    {
      "cell_type": "code",
      "source": [
        "# Example 2B: Compute accuracy\n",
        "\n",
        "# Compute accuracy\n",
        "eg_test_acc_manual = compute_accuracy(eg_model, eg_test_ds)\n",
        "\n",
        "# Print results\n",
        "print(f\"eg_model accuracy: {eg_test_acc_manual:.4f}\")\n"
      ],
      "metadata": {
        "colab": {
          "base_uri": "https://localhost:8080/"
        },
        "id": "kIAXPK5aQpSQ",
        "outputId": "f49d170c-4193-432f-ce4e-ebfbb334f067"
      },
      "execution_count": null,
      "outputs": [
        {
          "output_type": "stream",
          "name": "stdout",
          "text": [
            "eg_model accuracy: 0.9806\n"
          ]
        }
      ]
    },
    {
      "cell_type": "markdown",
      "source": [
        "If the code is correct, you should see something _similar_ to the following output\n",
        "\n",
        "![__](https://biologicslab.co/BIO1173/images/class_02/class_02_1_image08C.png)\n",
        "\n",
        "An accuracy of `~98%` is clearly very good."
      ],
      "metadata": {
        "id": "Bs-OegH8b-ue"
      }
    },
    {
      "cell_type": "markdown",
      "source": [
        "### **Exercise 1: Construct, Compile and Train a MNIST Neural Network**\n",
        "\n",
        "In the cell below write the `Python` code needed to construct, compile and train a neural network to analyze the `fashion_minst` dataset using the Tensorflow/Keras libraries.\n",
        "\n",
        "![__](https://biologicslab.co/BIO1173/images/class_02/class_02_1_image15A.jpg)\n",
        "\n",
        "**`Fashion MINST` Data Set**\n",
        "\n",
        "Instead of analyzing hand-written digits, your neural network `EX_model` will analyze pictures of clothing into the following different categories:\n",
        "\n",
        "* T-shirt/top\n",
        "* Trouser\n",
        "* Pullover\n",
        "* Dress\n",
        "* Coat\n",
        "* Sandal\n",
        "* Shirt\n",
        "* Sneaker\n",
        "* Bag\n",
        "* Ankle boot\n",
        "\n",
        "**Code Hints:**\n",
        "\n",
        "You can reuse the same Python code shown in Example 1 after making the following changes:\n",
        "\n",
        "1. Change the import command from\n",
        "```type\n",
        "# ------------------------------------------------------------------------\n",
        "# 2️⃣  Load the MNIST datase\n",
        "# ------------------------------------------------------------------------\n",
        "\n",
        "(eg_train_images, eg_train_labels), (eg_test_images, eg_test_labels) = mnist.load_data()\n",
        "```\n",
        "to read as\n",
        "```type\n",
        "# ------------------------------------------------------------------------\n",
        "# 2️⃣  Load the FASHION_MNIST datase\n",
        "# ------------------------------------------------------------------------\n",
        "\n",
        "(ex_train_images, ex_train_labels), (ex_test_images, ex_test_labels) = fashion_mnist.load_data()\n",
        "```\n",
        "this will read the correct dataset.\n",
        "\n",
        "2. Change the prefix **`eg_`** to **`ex_`** everywhere in the code that you copied from Example 1.\n",
        "\n",
        "\n"
      ],
      "metadata": {
        "id": "hzkLt8NcIcs7"
      }
    },
    {
      "cell_type": "code",
      "source": [
        "# Insert your code for Exercise 1 here\n",
        "# Example 1: Construct, Compile and Train a Neural Network\n",
        "\n",
        "\n",
        "import os, time, logging          # standard libraries\n",
        "import numpy as np\n",
        "import tensorflow as tf\n",
        "from tensorflow.keras.datasets import mnist, fashion_mnist\n",
        "from tensorflow.keras.models import Sequential\n",
        "from tensorflow.keras.layers import Dense, Flatten, Dropout, BatchNormalization\n",
        "from tensorflow.keras.callbacks import EarlyStopping, ReduceLROnPlateau\n",
        "\n",
        "# ------------------------------------------------------------------------\n",
        "# 1️⃣  Configuration constants\n",
        "# ------------------------------------------------------------------------\n",
        "\n",
        "EPOCHS      = 20          # number of training epochs (keep it small for demo)\n",
        "PATIENCE    = 3          # patience for early‑stopping / LR reduction\n",
        "LEARN_RATE  = 0.0010     # learning rate for the Adam optimizer\n",
        "BATCH_SIZE  = 32         # batch size for tf.data\n",
        "SHUFFLE_BUF = 1000       # buffer size for shuffling the training data\n",
        "VAL_RATIO   = 0.1        # fraction of training data used for validation\n",
        "\n",
        "# ------------------------------------------------------------------------\n",
        "# 2️⃣  Load the MNIST datase\n",
        "# ------------------------------------------------------------------------\n",
        "\n",
        "(ex_train_images, ex_train_labels), (ex_test_images, ex_test_labels) = fashion_mnist.load_data()\n",
        "\n",
        "# ------------------------------------------------------------------------\n",
        "# 3️⃣  Split the data into training and validation sets\n",
        "# ------------------------------------------------------------------------\n",
        "ex_val_size = int(len(ex_train_images) * VAL_RATIO)\n",
        "ex_x_val, ex_y_val = ex_train_images[:ex_val_size], ex_train_labels[:ex_val_size]\n",
        "ex_x_train, ex_y_train  = ex_train_images[ex_val_size:], ex_train_labels[ex_val_size:]\n",
        "\n",
        "# ------------------------------------------------------------------------\n",
        "# 4️⃣   Prepare data\n",
        "# ------------------------------------------------------------------------\n",
        "\n",
        "ex_train_ds = tf.data.Dataset.from_tensor_slices((ex_x_train, ex_y_train))\n",
        "ex_train_ds = ex_train_ds.map(\n",
        "    lambda img, lbl: (tf.cast(img, tf.float32) / 255.0, lbl),\n",
        "    num_parallel_calls=tf.data.AUTOTUNE\n",
        ")\n",
        "ex_train_ds = ex_train_ds.shuffle(buffer_size=SHUFFLE_BUF)\n",
        "ex_train_ds = ex_train_ds.batch(BATCH_SIZE).prefetch(tf.data.AUTOTUNE)\n",
        "\n",
        "ex_val_ds = tf.data.Dataset.from_tensor_slices((ex_x_val, ex_y_val))\n",
        "ex_val_ds = ex_val_ds.map(\n",
        "    lambda img, lbl: (tf.cast(img, tf.float32) / 255.0, lbl),\n",
        "    num_parallel_calls=tf.data.AUTOTUNE\n",
        ")\n",
        "ex_val_ds = ex_val_ds.batch(BATCH_SIZE).prefetch(tf.data.AUTOTUNE)\n",
        "\n",
        "ex_test_ds = tf.data.Dataset.from_tensor_slices((ex_test_images, ex_test_labels))\n",
        "ex_test_ds = ex_test_ds.map(\n",
        "    lambda img, lbl: (tf.cast(img, tf.float32) / 255.0, lbl),\n",
        "    num_parallel_calls=tf.data.AUTOTUNE\n",
        ")\n",
        "ex_test_ds = ex_test_ds.batch(BATCH_SIZE).prefetch(tf.data.AUTOTUNE)\n",
        "\n",
        "# ------------------------------------------------------------------------\n",
        "# 5️⃣  Build neural network model\n",
        "# ------------------------------------------------------------------------\n",
        "#  A simple feed‑forward model with a couple of dense layers\n",
        "ex_model = Sequential([\n",
        "    tf.keras.Input(shape=(28, 28)),          # <-- new explicit Input layer\n",
        "    Flatten(),                               # shape inferred from Input\n",
        "    Dense(256, activation=\"relu\"),\n",
        "    BatchNormalization(),\n",
        "    Dropout(0.3),\n",
        "    Dense(128, activation=\"relu\"),\n",
        "    BatchNormalization(),\n",
        "    Dropout(0.3),\n",
        "    Dense(10, activation=\"softmax\")          # 10 classes\n",
        "])\n",
        "# ------------------------------------------------------------------------\n",
        "# 6️⃣  Compile Model\n",
        "# ------------------------------------------------------------------------\n",
        "ex_model.compile(\n",
        "    optimizer=tf.keras.optimizers.Adam(learning_rate=LEARN_RATE),\n",
        "    loss=\"sparse_categorical_crossentropy\",\n",
        "    metrics=[\"accuracy\"]\n",
        ")\n",
        "\n",
        "# ------------------------------------------------------------------------\n",
        "# 7️⃣  Add callbacks\n",
        "# ------------------------------------------------------------------------\n",
        "callbacks = [\n",
        "    EarlyStopping(\n",
        "        monitor=\"val_loss\",\n",
        "        patience=PATIENCE,\n",
        "        restore_best_weights=True\n",
        "    ),\n",
        "    ReduceLROnPlateau(\n",
        "        monitor=\"val_loss\",\n",
        "        factor=0.5,\n",
        "        patience=PATIENCE,\n",
        "        verbose=1\n",
        "    )\n",
        "]\n",
        "\n",
        "# ------------------------------------------------------------------------\n",
        "# 8️⃣  Train model\n",
        "# -------------------------------------------------------------------------\n",
        "print(f\"----- Starting training for {EPOCHS} epochs ---------------------------\")\n",
        "start_time = time.time()\n",
        "ex_history = ex_model.fit(\n",
        "    ex_train_ds,\n",
        "    validation_data=ex_val_ds,\n",
        "    epochs=EPOCHS,\n",
        "    callbacks=callbacks\n",
        ")\n",
        "\n",
        "# ---------------------------------------------------------------------------\n",
        "# 9️⃣ Inspect training\n",
        "# ---------------------------------------------------------------------------\n",
        "print(\"\\nTraining complete.\")\n",
        "print(\"Best validation accuracy:\", max(ex_history.history[\"val_accuracy\"]))\n",
        "\n",
        "elapsed_time = time.time() - start_time\n",
        "print(f\"Elapsed time: {hms_string(elapsed_time)}\")\n"
      ],
      "metadata": {
        "colab": {
          "base_uri": "https://localhost:8080/"
        },
        "id": "xvCI-BNSv68D",
        "outputId": "ebb2f35a-2657-47a5-dbf8-8ab33628f9f0"
      },
      "execution_count": null,
      "outputs": [
        {
          "output_type": "stream",
          "name": "stdout",
          "text": [
            "Downloading data from https://storage.googleapis.com/tensorflow/tf-keras-datasets/train-labels-idx1-ubyte.gz\n",
            "\u001b[1m29515/29515\u001b[0m \u001b[32m━━━━━━━━━━━━━━━━━━━━\u001b[0m\u001b[37m\u001b[0m \u001b[1m0s\u001b[0m 0us/step\n",
            "Downloading data from https://storage.googleapis.com/tensorflow/tf-keras-datasets/train-images-idx3-ubyte.gz\n",
            "\u001b[1m26421880/26421880\u001b[0m \u001b[32m━━━━━━━━━━━━━━━━━━━━\u001b[0m\u001b[37m\u001b[0m \u001b[1m0s\u001b[0m 0us/step\n",
            "Downloading data from https://storage.googleapis.com/tensorflow/tf-keras-datasets/t10k-labels-idx1-ubyte.gz\n",
            "\u001b[1m5148/5148\u001b[0m \u001b[32m━━━━━━━━━━━━━━━━━━━━\u001b[0m\u001b[37m\u001b[0m \u001b[1m0s\u001b[0m 0us/step\n",
            "Downloading data from https://storage.googleapis.com/tensorflow/tf-keras-datasets/t10k-images-idx3-ubyte.gz\n",
            "\u001b[1m4422102/4422102\u001b[0m \u001b[32m━━━━━━━━━━━━━━━━━━━━\u001b[0m\u001b[37m\u001b[0m \u001b[1m0s\u001b[0m 0us/step\n",
            "----- Starting training for 20 epochs ---------------------------\n",
            "Epoch 1/20\n",
            "\u001b[1m1688/1688\u001b[0m \u001b[32m━━━━━━━━━━━━━━━━━━━━\u001b[0m\u001b[37m\u001b[0m \u001b[1m18s\u001b[0m 9ms/step - accuracy: 0.7459 - loss: 0.7287 - val_accuracy: 0.8450 - val_loss: 0.4292 - learning_rate: 0.0010\n",
            "Epoch 2/20\n",
            "\u001b[1m1688/1688\u001b[0m \u001b[32m━━━━━━━━━━━━━━━━━━━━\u001b[0m\u001b[37m\u001b[0m \u001b[1m21s\u001b[0m 10ms/step - accuracy: 0.8248 - loss: 0.4932 - val_accuracy: 0.8455 - val_loss: 0.4225 - learning_rate: 0.0010\n",
            "Epoch 3/20\n",
            "\u001b[1m1688/1688\u001b[0m \u001b[32m━━━━━━━━━━━━━━━━━━━━\u001b[0m\u001b[37m\u001b[0m \u001b[1m18s\u001b[0m 11ms/step - accuracy: 0.8347 - loss: 0.4588 - val_accuracy: 0.8570 - val_loss: 0.3958 - learning_rate: 0.0010\n",
            "Epoch 4/20\n",
            "\u001b[1m1688/1688\u001b[0m \u001b[32m━━━━━━━━━━━━━━━━━━━━\u001b[0m\u001b[37m\u001b[0m \u001b[1m18s\u001b[0m 11ms/step - accuracy: 0.8389 - loss: 0.4458 - val_accuracy: 0.8585 - val_loss: 0.3821 - learning_rate: 0.0010\n",
            "Epoch 5/20\n",
            "\u001b[1m1688/1688\u001b[0m \u001b[32m━━━━━━━━━━━━━━━━━━━━\u001b[0m\u001b[37m\u001b[0m \u001b[1m17s\u001b[0m 10ms/step - accuracy: 0.8432 - loss: 0.4267 - val_accuracy: 0.8677 - val_loss: 0.3540 - learning_rate: 0.0010\n",
            "Epoch 6/20\n",
            "\u001b[1m1688/1688\u001b[0m \u001b[32m━━━━━━━━━━━━━━━━━━━━\u001b[0m\u001b[37m\u001b[0m \u001b[1m19s\u001b[0m 9ms/step - accuracy: 0.8507 - loss: 0.4122 - val_accuracy: 0.8677 - val_loss: 0.3618 - learning_rate: 0.0010\n",
            "Epoch 7/20\n",
            "\u001b[1m1688/1688\u001b[0m \u001b[32m━━━━━━━━━━━━━━━━━━━━\u001b[0m\u001b[37m\u001b[0m \u001b[1m16s\u001b[0m 9ms/step - accuracy: 0.8533 - loss: 0.4089 - val_accuracy: 0.8703 - val_loss: 0.3468 - learning_rate: 0.0010\n",
            "Epoch 8/20\n",
            "\u001b[1m1688/1688\u001b[0m \u001b[32m━━━━━━━━━━━━━━━━━━━━\u001b[0m\u001b[37m\u001b[0m \u001b[1m18s\u001b[0m 11ms/step - accuracy: 0.8568 - loss: 0.3922 - val_accuracy: 0.8757 - val_loss: 0.3490 - learning_rate: 0.0010\n",
            "Epoch 9/20\n",
            "\u001b[1m1688/1688\u001b[0m \u001b[32m━━━━━━━━━━━━━━━━━━━━\u001b[0m\u001b[37m\u001b[0m \u001b[1m19s\u001b[0m 10ms/step - accuracy: 0.8638 - loss: 0.3843 - val_accuracy: 0.8657 - val_loss: 0.3635 - learning_rate: 0.0010\n",
            "Epoch 10/20\n",
            "\u001b[1m1688/1688\u001b[0m \u001b[32m━━━━━━━━━━━━━━━━━━━━\u001b[0m\u001b[37m\u001b[0m \u001b[1m15s\u001b[0m 9ms/step - accuracy: 0.8596 - loss: 0.3832 - val_accuracy: 0.8738 - val_loss: 0.3413 - learning_rate: 0.0010\n",
            "Epoch 11/20\n",
            "\u001b[1m1688/1688\u001b[0m \u001b[32m━━━━━━━━━━━━━━━━━━━━\u001b[0m\u001b[37m\u001b[0m \u001b[1m23s\u001b[0m 10ms/step - accuracy: 0.8661 - loss: 0.3682 - val_accuracy: 0.8415 - val_loss: 0.4395 - learning_rate: 0.0010\n",
            "Epoch 12/20\n",
            "\u001b[1m1688/1688\u001b[0m \u001b[32m━━━━━━━━━━━━━━━━━━━━\u001b[0m\u001b[37m\u001b[0m \u001b[1m16s\u001b[0m 9ms/step - accuracy: 0.8672 - loss: 0.3617 - val_accuracy: 0.8743 - val_loss: 0.3465 - learning_rate: 0.0010\n",
            "Epoch 13/20\n",
            "\u001b[1m1688/1688\u001b[0m \u001b[32m━━━━━━━━━━━━━━━━━━━━\u001b[0m\u001b[37m\u001b[0m \u001b[1m17s\u001b[0m 10ms/step - accuracy: 0.8699 - loss: 0.3553 - val_accuracy: 0.8730 - val_loss: 0.3328 - learning_rate: 0.0010\n",
            "Epoch 14/20\n",
            "\u001b[1m1688/1688\u001b[0m \u001b[32m━━━━━━━━━━━━━━━━━━━━\u001b[0m\u001b[37m\u001b[0m \u001b[1m23s\u001b[0m 12ms/step - accuracy: 0.8707 - loss: 0.3565 - val_accuracy: 0.8790 - val_loss: 0.3321 - learning_rate: 0.0010\n",
            "Epoch 15/20\n",
            "\u001b[1m1688/1688\u001b[0m \u001b[32m━━━━━━━━━━━━━━━━━━━━\u001b[0m\u001b[37m\u001b[0m \u001b[1m16s\u001b[0m 9ms/step - accuracy: 0.8720 - loss: 0.3516 - val_accuracy: 0.8843 - val_loss: 0.3268 - learning_rate: 0.0010\n",
            "Epoch 16/20\n",
            "\u001b[1m1688/1688\u001b[0m \u001b[32m━━━━━━━━━━━━━━━━━━━━\u001b[0m\u001b[37m\u001b[0m \u001b[1m16s\u001b[0m 9ms/step - accuracy: 0.8712 - loss: 0.3543 - val_accuracy: 0.8803 - val_loss: 0.3223 - learning_rate: 0.0010\n",
            "Epoch 17/20\n",
            "\u001b[1m1688/1688\u001b[0m \u001b[32m━━━━━━━━━━━━━━━━━━━━\u001b[0m\u001b[37m\u001b[0m \u001b[1m16s\u001b[0m 9ms/step - accuracy: 0.8712 - loss: 0.3509 - val_accuracy: 0.8853 - val_loss: 0.3163 - learning_rate: 0.0010\n",
            "Epoch 18/20\n",
            "\u001b[1m1688/1688\u001b[0m \u001b[32m━━━━━━━━━━━━━━━━━━━━\u001b[0m\u001b[37m\u001b[0m \u001b[1m17s\u001b[0m 10ms/step - accuracy: 0.8761 - loss: 0.3413 - val_accuracy: 0.8800 - val_loss: 0.3212 - learning_rate: 0.0010\n",
            "Epoch 19/20\n",
            "\u001b[1m1688/1688\u001b[0m \u001b[32m━━━━━━━━━━━━━━━━━━━━\u001b[0m\u001b[37m\u001b[0m \u001b[1m19s\u001b[0m 9ms/step - accuracy: 0.8772 - loss: 0.3356 - val_accuracy: 0.8805 - val_loss: 0.3275 - learning_rate: 0.0010\n",
            "Epoch 20/20\n",
            "\u001b[1m1680/1688\u001b[0m \u001b[32m━━━━━━━━━━━━━━━━━━━\u001b[0m\u001b[37m━\u001b[0m \u001b[1m0s\u001b[0m 9ms/step - accuracy: 0.8769 - loss: 0.3363\n",
            "Epoch 20: ReduceLROnPlateau reducing learning rate to 0.0005000000237487257.\n",
            "\u001b[1m1688/1688\u001b[0m \u001b[32m━━━━━━━━━━━━━━━━━━━━\u001b[0m\u001b[37m\u001b[0m \u001b[1m15s\u001b[0m 9ms/step - accuracy: 0.8769 - loss: 0.3363 - val_accuracy: 0.8800 - val_loss: 0.3342 - learning_rate: 0.0010\n",
            "\n",
            "Training complete.\n",
            "Best validation accuracy: 0.8853333592414856\n",
            "Elapsed time: 0:05:56.77\n"
          ]
        }
      ]
    },
    {
      "cell_type": "markdown",
      "source": [
        "If the code is correct, you should see something _similar_ to the last part of the output\n",
        "\n",
        "![__](https://biologicslab.co/BIO1173/images/class_02/class_02_1_image09C.png)"
      ],
      "metadata": {
        "id": "8llxmCEVIcs8"
      }
    },
    {
      "cell_type": "markdown",
      "source": [
        "### **Exercise 2A: Create Custom Accuracy Function**\n",
        "\n",
        "In the cell below write the code to create a custom `compute_accuracy()` function.\n",
        "\n",
        "**Code Hints**\n",
        "\n",
        "You can reuse the code in Example 2A without any modification."
      ],
      "metadata": {
        "id": "EBuPcC1Hed40"
      }
    },
    {
      "cell_type": "code",
      "source": [
        "# Insert your code for Exercise 2A here\n",
        "\n",
        "from sklearn.metrics import accuracy_score   # Optional, if you prefer SciPy\n",
        "\n",
        "def compute_accuracy(model, ds, use_sklearn=False):\n",
        "    \"\"\"\n",
        "    Compute accuracy on a tf.data.Dataset that yields (image, label).\n",
        "    Returns a float in [0, 1].\n",
        "    \"\"\"\n",
        "    # Collect all predictions and true labels\n",
        "    preds = []\n",
        "    true = []\n",
        "\n",
        "    for batch_images, batch_labels in ds:\n",
        "        # model.predict returns a 2‑D array (batch, classes)\n",
        "        batch_preds = model.predict(batch_images, verbose=0)\n",
        "        batch_pred_labels = np.argmax(batch_preds, axis=1)\n",
        "\n",
        "        preds.extend(batch_pred_labels)\n",
        "        true.extend(batch_labels.numpy())\n",
        "\n",
        "    if use_sklearn:\n",
        "        return accuracy_score(true, preds)\n",
        "\n",
        "    # Vanilla NumPy\n",
        "    return np.mean(np.array(preds) == np.array(true))"
      ],
      "metadata": {
        "id": "xFmJi_xaed41"
      },
      "execution_count": null,
      "outputs": []
    },
    {
      "cell_type": "markdown",
      "source": [
        "If the code is correct you should **not** see any output."
      ],
      "metadata": {
        "id": "dlTvCqYaed41"
      }
    },
    {
      "cell_type": "markdown",
      "source": [
        "### **Exercise 2B: Compute Accuracy**\n",
        "\n",
        "In the cell below use the custom `compute_accuracy()` function to evaluate the accuracy of your `EX_model`. Make sure to change print statement."
      ],
      "metadata": {
        "id": "Y7HKCvLHed41"
      }
    },
    {
      "cell_type": "code",
      "source": [
        "# Insert your code for Exercise 2B here\n",
        "\n",
        "# Compute accuracy\n",
        "ex_test_acc_manual = compute_accuracy(ex_model, ex_test_ds)\n",
        "\n",
        "# Print results\n",
        "print(f\"ex_model accuracy: {ex_test_acc_manual:.4f}\")\n"
      ],
      "metadata": {
        "colab": {
          "base_uri": "https://localhost:8080/"
        },
        "outputId": "aa7af034-064c-47ef-a99b-49a2d06b5e4b",
        "id": "KeOPxxPyed41"
      },
      "execution_count": null,
      "outputs": [
        {
          "output_type": "stream",
          "name": "stdout",
          "text": [
            "ex_model accuracy: 0.8733\n"
          ]
        }
      ]
    },
    {
      "cell_type": "markdown",
      "source": [
        "If the code is correct, you should see something _similar_ to the following output\n",
        "\n",
        "![__](https://biologicslab.co/BIO1173/images/class_02/class_02_1_image10C.png)\n",
        "\n",
        "Your `ex_model's` accuracy of `~88%` is pretty good, but not as good as the accuracy of the `eg_model`. It's quite possible that if you trained your `ex_model` for more than `20` epochs your model would have been able to better recognize the different fashion items."
      ],
      "metadata": {
        "id": "DoznVi8qed41"
      }
    },
    {
      "cell_type": "markdown",
      "source": [
        "### Example 3: Visual Example of the Model's Accuracy\n",
        "\n",
        "The output from Example 2 was just a \"number\" so it's a little hard to see how well the model is working. If you run the next code cell several times, you will get a better idea of the model's ability.\n",
        "\n",
        "The code in the cell below picks a random image of a hand-drawn digit from the `mnist` dataset and displays it as a picture. It then uses the trained `EG_model` to examine the image and predict what digit it is.\n",
        "\n",
        "If you re-run this code cell several times you will see how `EG_model` does with different hand-drawn digits.\n"
      ],
      "metadata": {
        "id": "uCgMUwTWsD_r"
      }
    },
    {
      "cell_type": "code",
      "source": [
        "# Example 3: Visual example of the model's accuracy\n",
        "\n",
        "import numpy as np\n",
        "import matplotlib.pyplot as plt\n",
        "from tensorflow.keras.datasets import mnist\n",
        "\n",
        "# -----------------------------------------------------------------\n",
        "# 1️⃣  Load the test set (same data that was used for training)\n",
        "# -----------------------------------------------------------------\n",
        "(x_test, _), _ = mnist.load_data()\n",
        "\n",
        "# -----------------------------------------------------------------\n",
        "# 3️⃣  Pick a random image\n",
        "# -----------------------------------------------------------------\n",
        "index = np.random.randint(0, x_test.shape[0])\n",
        "selected_image = x_test[index]\n",
        "\n",
        "# -----------------------------------------------------------------\n",
        "# 4️⃣  Show the image\n",
        "# -----------------------------------------------------------------\n",
        "plt.imshow(selected_image, cmap='gray')\n",
        "plt.title(f'Original Image at Index {index}')\n",
        "plt.show()\n",
        "\n",
        "# -----------------------------------------------------------------\n",
        "# 5️⃣  Predict the digit\n",
        "# -----------------------------------------------------------------\n",
        "# Normalise just like we did during training\n",
        "selected_image_reshaped = selected_image.reshape(1, 28, 28) / 255.0\n",
        "\n",
        "predicted_probabilities = eg_model.predict(selected_image_reshaped)\n",
        "predicted_digit = np.argmax(predicted_probabilities)\n",
        "\n",
        "print(f'The model predicts this digit is: {predicted_digit}')\n"
      ],
      "metadata": {
        "colab": {
          "base_uri": "https://localhost:8080/",
          "height": 487
        },
        "id": "KE1Km3alhbZr",
        "outputId": "420f0841-eafe-46db-938d-9cc87ed00837"
      },
      "execution_count": null,
      "outputs": [
        {
          "output_type": "display_data",
          "data": {
            "text/plain": [
              "<Figure size 640x480 with 1 Axes>"
            ],
            "image/png": "[encoded data removed]"
          },
          "metadata": {}
        },
        {
          "output_type": "stream",
          "name": "stdout",
          "text": [
            "\u001b[1m1/1\u001b[0m \u001b[32m━━━━━━━━━━━━━━━━━━━━\u001b[0m\u001b[37m\u001b[0m \u001b[1m0s\u001b[0m 40ms/step\n",
            "The model predicts this digit is: 7\n"
          ]
        }
      ]
    },
    {
      "cell_type": "markdown",
      "source": [
        "If the code is correct, you should see something _similar_ to the following output\n",
        "\n",
        "![__](https://biologicslab.co/BIO1173/images/class_02/class_02_1_image05C.png)"
      ],
      "metadata": {
        "id": "7Ze3qk8Njd1k"
      }
    },
    {
      "cell_type": "markdown",
      "source": [
        "Make sure you run the above cell several times to see if the model makes any mistakes. The accuracy of our neural network was very good, but it wasn't perfect. We might expect an error once in 10 tries."
      ],
      "metadata": {
        "id": "H5Q8H0kluFkU"
      }
    },
    {
      "cell_type": "markdown",
      "source": [
        "### **Exercise 3: Visual Example of the Model's Accuracy**\n",
        "\n",
        "\n",
        "In the cell below, write the Python code to provide a visual example of the accuracy of your `ex_model`.\n",
        "\n",
        "**Code Hints:**\n",
        "\n",
        "1. Change this line of code\n",
        "```text\n",
        "(x_test, _), _ = mnist.load_data()   # shape: (10000, 28, 28)\n",
        "```\n",
        "to read as\n",
        "```text\n",
        "(x_test, _), _ = fashion_mnist.load_data()   # shape: (10000, 28, 28)\n",
        "```\n",
        "\n",
        "2. Add this chunk of code right below Section 1 (Load the test..)\n",
        "```text\n",
        "# ----------------------------------------------------------\n",
        "# 2️⃣  Map numeric class → human‑readable name\n",
        "# ----------------------------------------------------------\n",
        "CLASS_NAMES = {\n",
        "    0: \"T-shirt/top\",\n",
        "    1: \"Trouser\",\n",
        "    2: \"Pullover\",\n",
        "    3: \"Dress\",\n",
        "    4: \"Coat\",\n",
        "    5: \"Sandal\",\n",
        "    6: \"Shirt\",\n",
        "    7: \"Sneaker\",\n",
        "    8: \"Bag\",\n",
        "    9: \"Ankle boot\",\n",
        "}\n",
        "```\n",
        "\n",
        "2. Change this line of code\n",
        "```text\n",
        "predicted_probabilities = eg_model.predict(selected_image_reshaped)\n",
        "```\n",
        "to read as\n",
        "```text\n",
        "predicted_probabilities = ex_model.predict(selected_image_reshaped)\n",
        "```\n",
        "\n",
        "3. Change this line of code\n",
        "```text\n",
        "predicted_probabilities = eg_model.predict(selected_image_reshaped)\n",
        "predicted_digit = np.argmax(predicted_probabilities)\n",
        "```\n",
        "to read as\n",
        "```text\n",
        "predicted_probabilities = ex_model.predict(input_img)   \n",
        "predicted_class_idx = np.argmax(predicted_probabilities)\n",
        "```\n",
        "\n",
        "4. Change this line of code\n",
        "```text\n",
        "print(f'The model predicts this digit is: {predicted_digit}')\n",
        "```\n",
        "to read as\n",
        "```text\n",
        "predicted_name = CLASS_NAMES[predicted_class_idx]\n",
        "print(f'The model predicts this object is: {predicted_class_idx} ({predicted_name})')\n",
        "```"
      ],
      "metadata": {
        "id": "fQbqKDu3rTtN"
      }
    },
    {
      "cell_type": "code",
      "source": [
        "# Insert your code for Exercise 3 here\n",
        "\n",
        "import numpy as np\n",
        "import matplotlib.pyplot as plt\n",
        "from tensorflow.keras.datasets import fashion_mnist\n",
        "\n",
        "# ----------------------------------------------------------\n",
        "# 1️⃣  Load the test set (the same split that was used for training)\n",
        "# ----------------------------------------------------------\n",
        "(x_test, _), _ = fashion_mnist.load_data()\n",
        "\n",
        "# ----------------------------------------------------------\n",
        "# 2️⃣  Map numeric class → human‑readable name\n",
        "# ----------------------------------------------------------\n",
        "CLASS_NAMES = {\n",
        "    0: \"T-shirt/top\",\n",
        "    1: \"Trouser\",\n",
        "    2: \"Pullover\",\n",
        "    3: \"Dress\",\n",
        "    4: \"Coat\",\n",
        "    5: \"Sandal\",\n",
        "    6: \"Shirt\",\n",
        "    7: \"Sneaker\",\n",
        "    8: \"Bag\",\n",
        "    9: \"Ankle boot\",\n",
        "}\n",
        "\n",
        "# ----------------------------------------------------------\n",
        "# 3️⃣  Pick a random image\n",
        "# ----------------------------------------------------------\n",
        "index = np.random.randint(0, x_test.shape[0])\n",
        "selected_image = x_test[index]\n",
        "\n",
        "# ----------------------------------------------------------\n",
        "# 4️⃣  Show the image\n",
        "# ----------------------------------------------------------\n",
        "plt.imshow(selected_image, cmap='gray')\n",
        "plt.title(f'Original Image at Index {index}')\n",
        "plt.show()\n",
        "\n",
        "# ----------------------------------------------------------\n",
        "# 5️⃣  Predict the class\n",
        "# ----------------------------------------------------------\n",
        "# Normalise & reshape as the model expects\n",
        "input_img = selected_image.reshape(1, 28, 28).astype(np.float32) / 255.0\n",
        "\n",
        "predicted_probabilities = ex_model.predict(input_img)\n",
        "predicted_class_idx = np.argmax(predicted_probabilities)\n",
        "\n",
        "# ----------------------------------------------------------\n",
        "# 6️⃣  Print the numeric label and the name\n",
        "# ----------------------------------------------------------\n",
        "predicted_name = CLASS_NAMES[predicted_class_idx]\n",
        "print(f'The model predicts this object is: {predicted_class_idx} ({predicted_name})')\n"
      ],
      "metadata": {
        "colab": {
          "base_uri": "https://localhost:8080/",
          "height": 487
        },
        "id": "Za5XD660lQmd",
        "outputId": "a2a1e276-7af1-479a-bac1-91dff858948d"
      },
      "execution_count": null,
      "outputs": [
        {
          "output_type": "display_data",
          "data": {
            "text/plain": [
              "<Figure size 640x480 with 1 Axes>"
            ],
            "image/png": "[encoded data removed]"
          },
          "metadata": {}
        },
        {
          "output_type": "stream",
          "name": "stdout",
          "text": [
            "\u001b[1m1/1\u001b[0m \u001b[32m━━━━━━━━━━━━━━━━━━━━\u001b[0m\u001b[37m\u001b[0m \u001b[1m0s\u001b[0m 55ms/step\n",
            "The model predicts this object is: 4 (Coat)\n"
          ]
        }
      ]
    },
    {
      "cell_type": "markdown",
      "source": [
        "If the code is correct, you should see something _similar_ to the following output\n",
        "\n",
        "![__](https://biologicslab.co/BIO1173/images/class_02/class_02_1_image06C.png)"
      ],
      "metadata": {
        "id": "g4ZMNIjaoKg7"
      }
    },
    {
      "cell_type": "markdown",
      "source": [
        "Again, make sure you run the above cell several times to see if the model makes any mistakes. The accuracy of your neural network (`ex_model`) wasn't quite as good so we might expect to see errors somewhat more often."
      ],
      "metadata": {
        "id": "SRk34m1arTtO"
      }
    },
    {
      "cell_type": "markdown",
      "metadata": {
        "id": "2sgjoLrIjYah"
      },
      "source": [
        "# **Lesson Turn-in**\n",
        "\n",
        "When you have completed and run all of the code cells, the **File --> Print.. --> Save to PDF** to generate a PDF of your Colab notebook. Save your PDF as `Class_02_1.lastname.pdf` where _lastname_ is your last name, and upload the file to Canvas. Make sure you are turning in a Copy of `Lesson_02_1` that is stored on your GDrive and not the original Colab notebook if you want your lesson graded."
      ]
    },
    {
      "cell_type": "markdown",
      "source": [
        "## **Lizard Tail**\n",
        "\n",
        "\n",
        "### **FORTRAN**\n",
        "\n",
        "**Fortran** (/ˈfɔːrtræn/; formerly FORTRAN) is a third generation, compiled, imperative programming language that is especially suited to numeric computation and scientific computing.\n",
        "\n",
        "Fortran was originally developed by IBM. It first compiled correctly in 1958. Fortran computer programs have been written to support scientific and engineering applications, such as numerical weather prediction, finite element analysis, computational fluid dynamics, plasma physics, geophysics, computational physics, crystallography and computational chemistry. It is a popular language for high-performance computing and is used for programs that benchmark and rank the world's fastest supercomputers.\n",
        "\n",
        "The IBM Blue Gene/P supercomputer installation in 2007 at the Argonne Leadership Angela Yang Computing Facility located in the Argonne National Laboratory, in Lemont, Illinois, US.\n",
        "\n",
        "Fortran has evolved through numerous versions and dialects. In 1966, the American National Standards Institute (ANSI) developed a standard for Fortran to limit proliferation of compilers using slightly different syntax. Successive versions have added support for a character data type (Fortran 77), structured programming, array programming, modular programming, generic programming (Fortran 90), parallel computing (Fortran 95), object-oriented programming (Fortran 2003), and concurrent programming (Fortran 2008).\n",
        "\n",
        "**FORTRAN and COBOL genealogy tree**\n",
        "\n",
        "Since April 2024, Fortran has ranked among the top ten languages in the TIOBE index, a measure of the popularity of programming languages.\n",
        "\n",
        "**Naming**\n",
        "\n",
        "The first manual for FORTRAN describes it as a Formula Translating System, and printed the name with small caps, Fortran. Other sources suggest the name stands for Formula Translator, or Formula Translation.\n",
        "\n",
        "Early IBM computers did not support lowercase letters, and the names of versions of the language through FORTRAN 77 were usually spelled in all-uppercase. FORTRAN 77 was the last version in which the Fortran character set included only uppercase letters.\n",
        "\n",
        "The official language standards for Fortran have referred to the language as \"Fortran\" with initial caps since Fortran 90.\n",
        "\n",
        "**Origins**\n",
        "\n",
        "In late 1953, John W. Backus submitted a proposal to his superiors at IBM to develop a more practical alternative to assembly language for programming their IBM 704 mainframe computer.Backus' historic FORTRAN team consisted of programmers Richard Goldberg, Sheldon F. Best, Harlan Herrick, Peter Sheridan, Roy Nutt, Robert Nelson, Irving Ziller, Harold Stern, Lois Haibt, and David Sayre. Its concepts included easier entry of equations into a computer, an idea developed by J. Halcombe Laning and demonstrated in the Laning and Zierler system of 1952.\n",
        "\n",
        "A draft specification for The IBM Mathematical Formula Translating System was completed by November 1954. The first manual for FORTRAN appeared in October 1956,with the first FORTRAN compiler delivered in April 1957. Fortran produced efficient enough code for assembly language programmers to accept a high-level programming language replacement.\n",
        "\n",
        "John Backus said during a 1979 interview with Think, the IBM employee magazine, \"Much of my work has come from being lazy. I didn't like writing programs, and so, when I was working on the IBM 701, writing programs for computing missile trajectories, I started work on a programming system to make it easier to write programs.\"\n",
        "\n",
        "The language was widely adopted by scientists for writing numerically intensive programs, which encouraged compiler writers to produce compilers that could generate faster and more efficient code. The inclusion of a complex number data type in the language made Fortran especially suited to technical applications such as electrical engineering.\n",
        "\n",
        "By 1960, versions of FORTRAN were available for the IBM 709, 650, 1620, and 7090 computers. Significantly, the increasing popularity of FORTRAN spurred competing computer manufacturers to provide FORTRAN compilers for their machines, so that by 1963 over 40 FORTRAN compilers existed.\n",
        "\n",
        "FORTRAN was provided for the IBM 1401 computer by an innovative 63-phase compiler that ran entirely in its core memory of only 8000 (six-bit) characters. The compiler could be run from tape, or from a 2200-card deck; it used no further tape or disk storage. It kept the program in memory and loaded overlays that gradually transformed it, in place, into executable form, as described by Haines.[21] This article was reprinted, edited, in both editions of Anatomy of a Compiler[22] and in the IBM manual \"Fortran Specifications and Operating Procedures, IBM 1401\".[23] The executable form was not entirely machine language; rather, floating-point arithmetic, sub-scripting, input/output, and function references were interpreted, preceding UCSD Pascal P-code by two decades. GOTRAN, a simplified, interpreted version of FORTRAN I (with only 12 statements not 32) for \"load and go\" operation was available (at least for the early IBM 1620 computer).[24] Modern Fortran, and almost all later versions, are fully compiled, as done for other high-performance languages.\n",
        "\n",
        "The development of Fortran paralleled the early evolution of compiler technology, and many advances in the theory and design of compilers were specifically motivated by the need to generate efficient code for Fortran programs.\n"
      ],
      "metadata": {
        "id": "W07sTeBVeDQh"
      }
    }
  ],
  "metadata": {
    "kernelspec": {
      "display_name": "Python 3 (ipykernel)",
      "language": "python",
      "name": "python3"
    },
    "language_info": {
      "codemirror_mode": {
        "name": "ipython",
        "version": 3
      },
      "file_extension": ".py",
      "mimetype": "text/x-python",
      "name": "python",
      "nbconvert_exporter": "python",
      "pygments_lexer": "ipython3",
      "version": "3.11.5"
    },
    "colab": {
      "provenance": [],
      "include_colab_link": true
    }
  },
  "nbformat": 4,
  "nbformat_minor": 0
}