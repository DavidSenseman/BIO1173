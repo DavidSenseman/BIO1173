{
 "cells": [
  {
   "cell_type": "markdown",
   "metadata": {},
   "source": [
    "<a href=\"https://colab.research.google.com/github/DavidSenseman/BIO1173/blob/master/Class_01_3.ipynb\" target=\"_parent\"><img src=\"https://colab.research.google.com/assets/colab-badge.svg\" alt=\"Open In Colab\"/></a>"
   ]
  },
  {
   "cell_type": "markdown",
   "metadata": {},
   "source": [
    "---------------------------\n",
    "**COPYRIGHT NOTICE:** This Jupyterlab Notebook is a Derivative work of [Jeff Heaton](https://github.com/jeffheaton) licensed under the Apache License, Version 2.0 (the \"License\"); You may not use this file except in compliance with the License. You may obtain a copy of the License at\n",
    "\n",
    "> [http://www.apache.org/licenses/LICENSE-2.0](http://www.apache.org/licenses/LICENSE-2.0)\n",
    "\n",
    "Unless required by applicable law or agreed to in writing, software distributed under the License is distributed on an \"AS IS\" BASIS, WITHOUT WARRANTIES OR CONDITIONS OF ANY KIND, either express or implied. See the License for the specific language governing permissions and limitations under the License.\n",
    "\n",
    "------------------------"
   ]
  },
  {
   "cell_type": "markdown",
   "metadata": {},
   "source": [
    "# **BIO 1173: Introduction to Computational Biology**"
   ]
  },
  {
   "cell_type": "markdown",
   "metadata": {},
   "source": [
    "##### **Module 1: Getting Started with Python**\n",
    "\n",
    "* Instructor: [David Senseman](mailto:David.Senseman@utsa.edu), [Department of Integrative Biology](https://sciences.utsa.edu/integrative-biology/), [UTSA](https://www.utsa.edu/)\n",
    "\n",
    "\n",
    "### Module 1 Material\n",
    "\n",
    "* Part 1.1: Course Overview \n",
    "* Part 1.2: Installing Python, Miniconda and Jupyter Lab\n",
    "* **Part 1.3: Introduction to Jupyterlab AI, Google CoLab**\n",
    "* Part 1.4: Python Basics 1 -- Strings, Variables and Indexing\n",
    "* Part 1.5: Python Basics 2 -- Numbers, Booleans, Operators and Comparisons\n",
    "* Part 1.6: Python Basics 3 -- Lists, Dictionaries, Sets and JSON\n",
    "* Part 1.7: Python Basics 4 -- Conditionals and Loops\n",
    "* Part 1.8: Python Basics 5 -- Packages, NumPy arrays and Matplotlib\n",
    "* Part 1.9: Python Basics 6 -- Pandas and File Handling"
   ]
  },
  {
   "cell_type": "markdown",
   "metadata": {
    "id": "CpVJpj2DCtiM"
   },
   "source": [
    "## Google CoLab Instructions\n",
    "\n",
    "The following code ensures that Google CoLab is running the correct version of TensorFlow."
   ]
  },
  {
   "cell_type": "code",
   "execution_count": 1,
   "metadata": {
    "colab": {
     "base_uri": "https://localhost:8080/"
    },
    "id": "wU1AMzx8CtiM",
    "outputId": "24a17c67-4563-471f-9955-dfadd0f171d7"
   },
   "outputs": [
    {
     "name": "stdout",
     "output_type": "stream",
     "text": [
      "Note: not using Google CoLab\n"
     ]
    }
   ],
   "source": [
    "try:\n",
    "    %tensorflow_version 2.x\n",
    "    COLAB = True\n",
    "    print(\"Note: using Google CoLab\")\n",
    "except:\n",
    "    print(\"Note: not using Google CoLab\")\n",
    "    COLAB = False"
   ]
  },
  {
   "cell_type": "markdown",
   "metadata": {
    "tags": []
   },
   "source": [
    "# Part 1.3: Overview: Jupyter and Google CoLab\n",
    "\n",
    "**Jupyter** is a large umbrella project that covers many different software offerings and tools, including the popular [Jupyter Notebook](https://jupyter-notebook.readthedocs.io/en/latest/) and [JupyterLab](https://jupyterlab.readthedocs.io/en/latest/) web-based notebook authoring and editing applications. The Jupyter project and its subprojects all center around providing tools (and standards) for interactive computing with computational notebooks.\n",
    "\n",
    "In this course the main pedagogical (teaching) tool will be the JupyterLab notebook. In this course you will be assigned a number of JupyterLab notebook's as **_Class Lessons_**. This particular JupyterLab notebook is **Class_01_03**, which means it's the **3rd** lesson in Module **1** of this course. \n",
    "\n",
    "Each class lesson explains a different aspect of writing computer code in Python and using Python to solve biological and medical problems using neural networks and deep learning. There is no textbook for this course per se. Rather, the contents of the various JupyterLab notebooks, including this one, contain the information that you are required to learn in this course. You will be given in class quizes, midterm exams and a final exam to see if you successfully learned the material presented in these JupyterLab notebooks. \n",
    "\n",
    "Google's **_Colaboratory_**, or Colab for short, has an visual interface that is very similar to the JupyterLab notebook and provides an alternative way to develop and run Python code. As part of this course, you are expected to be able to write and execute Python code on both your laptop computer **and** on Google CoLab. \n"
   ]
  },
  {
   "cell_type": "markdown",
   "metadata": {},
   "source": [
    "## What is a Notebook?\n",
    "\n",
    "An important objective of this course is to make you familiar with the JupyterLab/CoLab interface. Specifically, you are expected to how to use these interfaces effectively to write and execute Python programs.\n",
    "\n",
    "The visual interfact for a JupyterLab notebook is shown in the following image:\n",
    "    \n",
    "![___](https://biologicslab.co/BIO1173/images/class_01/jupyterlab.png)\n",
    "\n",
    "**Pictured:** _A computational notebook document, shown inside JupyterLab_\n",
    "\n",
    "A notebook is a shareable document that combines computer code, plain language descriptions, data, rich visualizations like 3D models, charts, graphs and figures, and interactive controls. JupyterLab notebook provides a fast interactive environment for prototyping and explaining code, exploring and visualizing data, and sharing ideas with others."
   ]
  },
  {
   "cell_type": "markdown",
   "metadata": {},
   "source": [
    "## JupyterLab interface\n",
    "\n",
    "The [JupyterLab interface](https://jupyterlab.readthedocs.io/en/stable/user/interface.html) consists of a [main work area](https://jupyterlab.readthedocs.io/en/stable/user/interface.html#main-area) containing tabs of documents and activities, a collapsible [left sidebar](https://jupyterlab.readthedocs.io/en/stable/user/interface.html#left-sidebar), and a [menu bar](https://jupyterlab.readthedocs.io/en/stable/user/interface.html#menu-bar). The left sidebar contains a [file browser](https://jupyterlab.readthedocs.io/en/stable/user/files.html#working-with-files), the [list of running kernels and terminals](https://jupyterlab.readthedocs.io/en/stable/user/running.html#running), the command palette, the [notebook cell tools inspector](https://jupyterlab.readthedocs.io/en/stable/user/notebook.html#notebook), and the [tabs list](https://jupyterlab.readthedocs.io/en/stable/user/interface.html#tabs).\n",
    "\n"
   ]
  },
  {
   "cell_type": "markdown",
   "metadata": {
    "jp-MarkdownHeadingCollapsed": true
   },
   "source": [
    "### Main Work Area\n",
    "\n",
    "The area highlighted in red is JupyterLab's **main work area**. \n",
    "\n",
    "![__](https://biologicslab.co/BIO1173/images/class_01/Interface_Main.png)\n",
    "\n",
    "The main work area in JupyterLab enables you to arrange documents (notebooks, text files, etc.) and other activities (terminals, code consoles, etc.) into panels of tabs that can be resized or subdivided. Drag a tab to the center of a tab panel to move the tab to the panel. Subdivide a tab panel by dragging a tab to the left, right, top, or bottom of the panel. The work area has a single current activity. The tab for the current activity is marked with a colored top border (blue by default)."
   ]
  },
  {
   "cell_type": "markdown",
   "metadata": {
    "jp-MarkdownHeadingCollapsed": true
   },
   "source": [
    "### Left Side Bar\n",
    "\n",
    "The left sidebar contains a number of commonly-used tabs including:\n",
    "\n",
    "* a file browser,\n",
    "* a list of tabs in the main work and of running kernels and terminals\n",
    "* the table of contents,\n",
    "* the extension manager.\n",
    "\n",
    "The area highlighted in red shows the Left Side Bar in its \"File Browser\" mode.\n",
    "\n",
    "![__](https://biologicslab.co/BIO1173/images/class_01/Interface_Left.png)\n"
   ]
  },
  {
   "cell_type": "markdown",
   "metadata": {},
   "source": [
    "### Menu Bar\n",
    "\n",
    "The menu bar at the top of JupyterLab has top-level menus that expose actions available in JupyterLab with their keyboard shortcuts. The default menus are:\n",
    "\n",
    "* **File:** actions related to files and directories\n",
    "* **Edit:** actions related to editing documents and other activities\n",
    "* **View:** actions that alter the appearance of JupyterLab\n",
    "* **Run:** actions for running code in different activities such as notebooks and code consoles\n",
    "* **Kernel:** actions for managing kernels, which are separate processes for running code\n",
    "* **Tabs:** a list of the open documents and activities in the dock panel\n",
    "* **Settings:** common settings and an advanced settings editor\n",
    "* **Help:** a list of JupyterLab and kernel help links\n",
    "\n",
    "The Menu Bar is highlighted in red in the following image:\n",
    "\n",
    "![__](https://biologicslab.co/BIO1173/images/class_01/Interface_Menu.png)\n"
   ]
  },
  {
   "cell_type": "markdown",
   "metadata": {},
   "source": [
    "### Short-cut Tool Bar\n",
    "\n",
    "The short-cut tool bar contains 9 icons and a drop down menu. These icons provide quick access to the most frequently used commands. The Menu Bar is highlighted in red in the following image:\n",
    "\n",
    "![__](https://biologicslab.co/BIO1173/images/class_01/Interface_Tool.png)\n",
    "\n",
    "The functions of the different icons are listed in the table below.\n",
    "\n",
    "------------------------------------------------------------------\n",
    "| - | - |\n",
    "|---|---|\n",
    "| Save and Create Checkpoint (Cntrl+S)| ![_](https://biologicslab.co/BIO1173/images/class_01/Icon1.png) |\n",
    "| Insert a cell below (B)| ![_](https://biologicslab.co/BIO1173/images/class_01/Icon2.png) |\n",
    "| Cut this cell (X) | ![_](https://biologicslab.co/BIO1173/images/class_01/Icon3.png) | \n",
    "| Copy this cell (C)| ![_](https://biologicslab.co/BIO1173/images/class_01/Icon4.png) |\n",
    "| Paste this cell from the clipboard (V)| ![_](https://biologicslab.co/BIO1173/images/class_01/Icon5.png) |\n",
    "| Run this cell and advance (Shift-Enter) | ![_](https://biologicslab.co/BIO1173/images/class_01/Icon6.png) | \n",
    "| Interrupt the kernel| ![_](https://biologicslab.co/BIO1173/images/class_01/Icon7.png) |\n",
    "| Restart the kernel  | ![_](https://biologicslab.co/BIO1173/images/class_01/Icon8.png) |\n",
    "| Restart the kernel and run all cells | ![__](https://biologicslab.co/BIO1173/images/class_01/Icon9.png) | \n",
    "\n",
    "----------------------------------------------\n",
    "\n",
    "The drop down menu controls the cell type.\n",
    "\n",
    "![___](https://biologicslab.co/BIO1173/images/class_01/Icon12.png)"
   ]
  },
  {
   "cell_type": "markdown",
   "metadata": {},
   "source": [
    "## Cells\n",
    "\n",
    "A JupyterLab notebook consists of cells. There are types of cells:\n",
    "\n",
    "1. **Markdown:** Rendered text\n",
    "2. **Code:** Python code\n",
    "3. **Raw:** Plain text\n",
    "\n",
    "### Markdown\n",
    "\n",
    "**Markdown cells** contain text, equations and graphics. The text is written in a type of \"markup language\" called **Markdown**. The cell below shows what the text in the you are reading looks like before it is **rendered**. To render a markdown cell, select the cell with your mouse and then press **Shift-Enter** or press the `Run this cell` icon."
   ]
  },
  {
   "cell_type": "markdown",
   "metadata": {},
   "source": [
    "~~~text\n",
    "## Cells\n",
    "\n",
    "A JupyterLab notebook consists of cells. There are types of cells:\n",
    "\n",
    "1. **Markdown:** Rendered text\n",
    "2. **Code:** Python code\n",
    "3. **Raw:** Plain text\n",
    "\n",
    "### Markdown\n",
    "\n",
    "**Markdown cells** contain text, equations and graphics. The text is written in a type of \"markup language\" called **Markdown**. The cell below shows what the text in the you are reading looks like before it is **rendered**. To render a markdown cell, select the cell with your mouse and then press **Shift-Enter** or press the `Run this cell` icon.\n",
    "~~~"
   ]
  },
  {
   "cell_type": "markdown",
   "metadata": {},
   "source": [
    "### Code cells\n",
    "\n",
    "A **code cell** contains actual code that you want to run. You can specify a cell as a code cell using the pulldown menu in the Shortcut Icon toolbar or you can can hit `Esc+y` while the cell is selected to make it a code cell. (Note that you will have to hit enter after doing this to start editing it.)\n",
    "\n",
    "The next cell is a code cell that prints \"Hello, World\" when it is executed. To execute (run) the code in the cell it must first be **selected** using your mouse. There will be a blue line at the left of the currently selected cell. \n",
    "\n",
    "Once a cell is selected it can be \"run\" (executed) by hitting **Shift+Enter** or by clicking on the `Run this cell` icon in the Short-Cut Toolbar."
   ]
  },
  {
   "cell_type": "code",
   "execution_count": 3,
   "metadata": {},
   "outputs": [
    {
     "name": "stdout",
     "output_type": "stream",
     "text": [
      "Hello, World\n"
     ]
    }
   ],
   "source": [
    "# This is a Code cell\n",
    "print(\"Hello, World\")"
   ]
  },
  {
   "cell_type": "markdown",
   "metadata": {},
   "source": [
    "When you run a code cell, a program called the `Python Interpreter` parses ('looks at') each line of code. If the `Python Interpreter` understands the code, it will carry out the code's command. In this example, Python printing out the words `Hello, World` to your JupyterLab immediately below the code cell. If the Python Interpreter doesn't understand the code -- perhaps you spelled the command `print` with a captial letter as `Print` -- Python will report an error and stop. "
   ]
  },
  {
   "cell_type": "markdown",
   "metadata": {},
   "source": [
    "## Code Cell Numbering\n",
    "\n",
    "To the let of each code cell is a pair of square brackets. Before the cell is run, these brackets are empty as shown in the next image.\n",
    "\n",
    "![__](https://biologicslab.co/BIO1173/images/class_01/CodeCell1.png)\n",
    "\n",
    "After a code cell has been run, a number will appear inside the square brackets as show in the next image.\n",
    "\n",
    "![__](https://biologicslab.co/BIO1173/images/class_01/CodeCell2.png)\n",
    "\n",
    "The number `1` inside the square brackets means it was the first code cell run. \n",
    "\n",
    "When you turn in this or any Class lesson for grading, the first thing that the Grader will do is to check whether **ALL** of your code cells have been run in **sequential order**. In other words, to receive full credit, the first code cell in your JupyterLab notebook must have the number `1` inside the square brackets, the second code cell must have the number `2` inside the square brackets, and so forth. \n",
    "\n",
    "To make this processes easier, you can hit the [Restart the kernel and run all cells](https://biologicslab.co/BIO1173/images/class_01/Icon9.png) icon in the Short-cut Icon toolbar after you have completed all of your coding and are ready to submit your JupyterLab notebook for grading. \n",
    "\n",
    "![__](https://biologicslab.co/BIO1173/images/class_01/Icon9.png)\n"
   ]
  },
  {
   "cell_type": "markdown",
   "metadata": {},
   "source": [
    "## Google CoLaboratory\n",
    "\n",
    "[**Google Colab**](https://colab.google) is a Jupyter Notebook service, hosted by Google. Unlike JupyterLab, CoLab requires no setup to use and provides **_free_** access to computing resources. In particular, Colab allows you to run your Python neural network code using Graphics Processing Units (GPUs) and Tensor Processing Units (TPUs). Running Python code on GPUs and TPUs, instead of your laptop's Central Processing Unit (CPU) can literally save hours or even days of processing time when running deep neural networks. This makes Colab is especially well suited to machine learning, data science, and education.\n",
    "\n",
    "The CoLab interface is based-on JupyterLab as seen in the next image.\n",
    "\n",
    "![___](https://biologicslab.co/BIO1173/images/class_01/CoLab1.png)\n"
   ]
  },
  {
   "cell_type": "markdown",
   "metadata": {},
   "source": [
    "### Using Google COLAB in this course\n",
    "\n",
    "Starting with this lesson, Class_01_3, you are free to choose whether to use Jupyterlab Notebook, Google COLAB or any combination, for your lessons and assignments in this course. Like most things in life, there are trade offs when you choose one over the other. If you plan to do most of your work in this class on an older, low-power laptop, then I would recommend that you use COLAB. On the other hand, if you plan to do most of your work on a fairly powerful gaming PC or one of the newer, bigger MacBooks, you might want to use Jupyterlab. If you are a real \"computer jock\" running the latest Ubuntu, you don't need any advice from me. \n",
    "\n",
    "Here are some of the advantages for using Google COLAB:\n",
    "* **Resource Management:** Google Colab provides access to powerful GPU resources for training machine learning models, allowing for quicker model development and iteration compared to relying solely on the resources of a personal computer or MacBook.\n",
    "* **Cloud Storage:** Google Colab integrates seamlessly with Google Drive, allowing for easy access to files and datasets stored in the cloud compared to managing files locally on a PC or MacBook.\n",
    "* **Pre-installed Libraries:** Google Colab comes pre-installed with popular data science libraries such as TensorFlow and PyTorch, saving time on installing and configuring libraries compared to setting up a local environment on a PC or MacBook.\n",
    "* **Free of Charge:** Google Colab is free to use, providing a cost-effective solution for those who may not want to invest in expensive hardware upgrades for their PC or MacBook.\n",
    "\n",
    "Here are some of the advantages for using Jupyter Lab on your own computer:\n",
    "* **Offline Access:** Working with Jupyter Lab on your own PC or MacBook allows you to work offline, making it convenient for situations where an internet connection may not be available compared to relying on Google Colab's cloud-based platform.\n",
    "* **Customization:** You have more control over the environment and settings when using Jupyter Lab on your own PC or MacBook, allowing you to customize the setup to suit your specific workflow and preferences compared to the limitations of a cloud-based platform like Google Colab.\n",
    "* **Data Privacy:** Working on your own PC or MacBook ensures that your sensitive data and code remain on your local machine, providing an added layer of privacy and security compared to working on a cloud-based platform like Google Colab where data is stored in the cloud.\n",
    "* **Hardware Access:** You have direct access to the hardware resources of your own PC or MacBook, allowing you to leverage any upgrades or specialized hardware configurations you may have for improved performance compared to relying on the resources provided by Google Colab.\n",
    "* **Software Installation:** Using Jupyter Lab on your own PC or MacBook gives you more control over software installations and configurations, allowing you to easily install additional libraries or packages that may not be available on Google Colab's pre-configured environment.\n",
    "\n",
    "\n"
   ]
  },
  {
   "cell_type": "markdown",
   "metadata": {},
   "source": [
    "## Logging directly on to Google COLAB\n",
    "\n",
    "At the very top of every Jupyter Lab notebook will be the code cell below:"
   ]
  },
  {
   "cell_type": "markdown",
   "metadata": {},
   "source": [
    "<a href=\"https://colab.research.google.com/github/DavidSenseman/BIO1173/blob/master/Class_01_3.ipynb\" target=\"_parent\"><img src=\"https://colab.research.google.com/assets/colab-badge.svg\" alt=\"Open In Colab\"/></a>"
   ]
  },
  {
   "cell_type": "markdown",
   "metadata": {},
   "source": [
    "You will also see this icon as part of the Assigment description on Canvas. Clicking on this icon will take you directly to COLAB with the Class lesson ready to work on. If you click on that icon right now, you will be taken directly this lesson on COLAB! \n",
    "\n",
    "If you are going to use COLAB, you will need to have a Google Account, if you don't already have one. The \"basic account\" is free. Google would certainly  "
   ]
  },
  {
   "cell_type": "code",
   "execution_count": null,
   "metadata": {},
   "outputs": [],
   "source": []
  }
 ],
 "metadata": {
  "kernelspec": {
   "display_name": "Python 3.9 (tensorflow)",
   "language": "python",
   "name": "tensorflow"
  },
  "language_info": {
   "codemirror_mode": {
    "name": "ipython",
    "version": 3
   },
   "file_extension": ".py",
   "mimetype": "text/x-python",
   "name": "python",
   "nbconvert_exporter": "python",
   "pygments_lexer": "ipython3",
   "version": "3.9.18"
  }
 },
 "nbformat": 4,
 "nbformat_minor": 4
}
