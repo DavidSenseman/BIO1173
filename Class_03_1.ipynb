{
  "cells": [
    {
      "cell_type": "markdown",
      "metadata": {
        "id": "view-in-github",
        "colab_type": "text"
      },
      "source": [
        "<a href=\"https://colab.research.google.com/github/DavidSenseman/BIO1173/blob/main/Class_03_1.ipynb\" target=\"_parent\"><img src=\"https://colab.research.google.com/assets/colab-badge.svg\" alt=\"Open In Colab\"/></a>"
      ]
    },
    {
      "cell_type": "markdown",
      "metadata": {
        "id": "ZYZVwSpdbE3Y"
      },
      "source": [
        "---------------------------\n",
        "**COPYRIGHT NOTICE:** This Jupyterlab Notebook is a Derivative work of [Jeff Heaton](https://github.com/jeffheaton) licensed under the Apache License, Version 2.0 (the \"License\"); You may not use this file except in compliance with the License. You may obtain a copy of the License at\n",
        "\n",
        "> [http://www.apache.org/licenses/LICENSE-2.0](http://www.apache.org/licenses/LICENSE-2.0)\n",
        "\n",
        "Unless required by applicable law or agreed to in writing, software distributed under the License is distributed on an \"AS IS\" BASIS, WITHOUT WARRANTIES OR CONDITIONS OF ANY KIND, either express or implied. See the License for the specific language governing permissions and limitations under the License.\n",
        "\n",
        "------------------------"
      ]
    },
    {
      "cell_type": "markdown",
      "metadata": {
        "id": "ExN-OzpYbE3Y"
      },
      "source": [
        "# **BIO 1173: Intro Computational Biology**"
      ]
    },
    {
      "cell_type": "markdown",
      "metadata": {
        "id": "vt4imk1kbE3Y"
      },
      "source": [
        "##### **Module 3: Convolutional Neural Networks (CNN's)**\n",
        "\n",
        "* Instructor: [David Senseman](mailto:David.Senseman@utsa.edu), [Department of Biology, Health and the Environment](https://sciences.utsa.edu/bhe/), [UTSA](https://www.utsa.edu/)\n",
        "\n",
        "### Module 3 Material\n",
        "\n",
        "* **Part 3.1: Using Convolutional Neural Networks**\n",
        "* Part 3.2: Using Pre-Trained Neural Networks with Keras\n",
        "* Part 3.3: Facial Recognition and Analysis\n",
        "* Part 3.4: Introduction to GAN's for Image and Data Generation"
      ]
    },
    {
      "cell_type": "markdown",
      "source": [
        "# **You MUST Change Your Runtime Type Now!**\n",
        "\n",
        "#### **Buying a Colab Membership**\n",
        "\n",
        "To run the code in this lesson, you will need to have a paid subscription to Colab. A paid membership is only $9.99 a month and you can cancel at anytime. To purchase a paid membership, check out: [Google Colab Paid Services](https://colab.research.google.com/signup).\n",
        "\n",
        "If you have a paid membership, you should choose the `A100 GPU`. Instead of waiting hours for this lesson to run, training times will usually be less than 10 minutes.\n",
        "\n",
        "Don't forget to change the your runtime if you just bought a paid membership.\n",
        "\n",
        "To run the code in this assignment (Class_03_1) you will need to change your runtime type **BEFORE**  you begin working on this lesson. That's because when you change your runtime type, all your previous work is erased!\n",
        "\n",
        "To change your runtime type, select the downward pointing triangle at the top right of your CoLab notebook as illustrated in the image below.\n",
        "\n",
        "![__](https://biologicslab.co/BIO1173/images/class_06/class_06_1_image67.png)\n",
        "\n",
        "That will give a pop-up window showing the available GPU's and TPU's that you can use with your paid CoLab PRO subscription.\n",
        "\n",
        "The different GPU and TPU selections change from time to time as new accelerators are developed. More importantly, the available choices will also depend upon how many of the CoLab users are currently using a particular accelerator for their coding.\n",
        "\n",
        "In this course, you should always select a **GPU** for your hardware acceleration. For example, at of the time this lesson was created, the **100 GPU** was selected as the hardware accelerator.\n",
        "\n",
        "![__](https://biologicslab.co/BIO1173/images/class_03/class_03_1_image02B.png)\n",
        "\n",
        "Once you have pressed the `Save` button, you can continue with this lesson."
      ],
      "metadata": {
        "id": "Ult76BB_wSzg"
      }
    },
    {
      "cell_type": "markdown",
      "metadata": {
        "id": "V_-lPkxLbE3Z"
      },
      "source": [
        "## Google CoLab Instructions\n",
        "\n",
        "You MUST run the following code cell to get credit for this class lesson. By running this code cell, you will map your GDrive to /content/drive and print out your Google GMAIL address. Your Instructor will use your GMAIL address to verify the author of this class lesson."
      ]
    },
    {
      "cell_type": "code",
      "execution_count": null,
      "metadata": {
        "id": "seXFCYH4LDUM",
        "scrolled": true
      },
      "outputs": [],
      "source": [
        "# You must run this cell first\n",
        "try:\n",
        "    from google.colab import drive\n",
        "    drive.mount('/content/drive', force_remount=True)\n",
        "    from google.colab import auth\n",
        "    auth.authenticate_user()\n",
        "    COLAB = True\n",
        "    print(\"Note: Using Google CoLab\")\n",
        "    import requests\n",
        "    gcloud_token = !gcloud auth print-access-token\n",
        "    gcloud_tokeninfo = requests.get('https://www.googleapis.com/oauth2/v3/tokeninfo?access_token=' + gcloud_token[0]).json()\n",
        "    print(gcloud_tokeninfo['email'])\n",
        "except:\n",
        "    print(\"**WARNING**: Your GMAIL address was **not** printed in the output below.\")\n",
        "    print(\"**WARNING**: You will NOT receive credit for this lesson.\")\n",
        "    COLAB = False"
      ]
    },
    {
      "cell_type": "markdown",
      "source": [
        "You should see the following output except your GMAIL address should appear on the last line.\n",
        "\n",
        "![__](https://biologicslab.co/BIO1173/images/class_01/class_01_6_image01A.png)\n",
        "\n",
        "If your GMAIL address does not appear your lesson will **not** be graded."
      ],
      "metadata": {
        "id": "xG3_sXTDfyjA"
      }
    },
    {
      "cell_type": "markdown",
      "source": [
        "## Accelerated Run-time Check\n",
        "\n",
        "You MUST run the following code cell to get credit for this class lesson. The code in this cell checks what hardware acceleration you are using. To run this lesson, you must be running a Graphics Processing Unit (GPU)."
      ],
      "metadata": {
        "id": "LKhQzBV1wu2v"
      }
    },
    {
      "cell_type": "code",
      "source": [
        "# You must run this cell second\n",
        "\n",
        "import tensorflow as tf\n",
        "\n",
        "def check_device():\n",
        "    # Check for available devices\n",
        "    devices = tf.config.list_physical_devices()\n",
        "\n",
        "    # Initialize device flags\n",
        "    cpu = False\n",
        "    gpu = False\n",
        "    tpu = False\n",
        "\n",
        "    # Check device types\n",
        "    for device in devices:\n",
        "        if device.device_type == 'CPU':\n",
        "            cpu = True\n",
        "        elif device.device_type == 'GPU':\n",
        "            gpu = True\n",
        "        elif device.device_type == 'TPU':\n",
        "            tpu = True\n",
        "\n",
        "    # Output device status\n",
        "    if tpu:\n",
        "        print(\"Running on TPU\")\n",
        "        print(\"WARNING: You must run this assigment using a GPU to earn credit\")\n",
        "        print(\"Change your RUNTIME now!\")\n",
        "    elif gpu:\n",
        "        print(\"Running on GPU\")\n",
        "        gpu_info = !nvidia-smi\n",
        "        gpu_info = '\\n'.join(gpu_info)\n",
        "        print(gpu_info)\n",
        "        print(\"You are using a GPU hardware accelerator--You're good to go!\")\n",
        "    elif cpu:\n",
        "        print(\"Running on CPU\")\n",
        "        print(\"WARNING: You must run this assigment using a GPU to earn credit\")\n",
        "        print(\"Change your RUNTIME now!\")\n",
        "    else:\n",
        "        print(\"No compatible device found\")\n",
        "        print(\"WARNING: You must run this assigment using either a GPU or a TPU to earn credit\")\n",
        "        print(\"Change your RUNTIME now!\")\n",
        "\n",
        "\n",
        "# Call the function\n",
        "check_device()"
      ],
      "metadata": {
        "id": "rwdkubU395Qm"
      },
      "execution_count": null,
      "outputs": []
    },
    {
      "cell_type": "markdown",
      "source": [
        "If you current `Runtime` is correct you should see the following output\n",
        "\n",
        "![__](https://biologicslab.co/BIO1173/images/class_05/class_05_4_image11A.png)\n",
        "\n",
        "However, if you received this warning message\n",
        "\n",
        "![__](https://biologicslab.co/BIO1173/images/class_05/class_05_4_image14A.png)\n",
        "\n",
        "You **MUST** go back and change your `Runtime` now before you continue.\n"
      ],
      "metadata": {
        "id": "xow1Nb2-w-Vt"
      }
    },
    {
      "cell_type": "markdown",
      "source": [
        "### Create Functions\n",
        "\n",
        "The cell below creates several functions that are needed for this assignment. If you don't run this cell you will receive errors later when you try to run some cells."
      ],
      "metadata": {
        "id": "XBvhiEZ0xYDD"
      }
    },
    {
      "cell_type": "code",
      "source": [
        "# Create functions for this lesson\n",
        "\n",
        "import psutil\n",
        "import os\n",
        "\n",
        "def check_current_ram():\n",
        "  ram = psutil.virtual_memory()\n",
        "  print(f\"Available RAM: {ram.available / (1024 ** 3):.2f} GB\")\n",
        "\n",
        "def list_files():\n",
        "   files = os.listdir('.')\n",
        "   print(f\"Current files: {files}\")\n",
        "\n",
        "def list_extract():\n",
        "  files = os.listdir(EXTRACT_TARGET)\n",
        "  print(f\"Current files in EXTRACT_TARGET: {files}\")\n",
        "\n",
        "# Simple function to print out elasped time\n",
        "def hms_string(sec_elapsed):\n",
        "    h = int(sec_elapsed / (60 * 60))\n",
        "    m = int((sec_elapsed % (60 * 60)) / 60)\n",
        "    s = sec_elapsed % 60\n",
        "    return \"{}:{:>02}:{:>05.2f}\".format(h, m, s)"
      ],
      "metadata": {
        "id": "tnwowmLuABDZ"
      },
      "execution_count": null,
      "outputs": []
    },
    {
      "cell_type": "markdown",
      "source": [
        "### **YouTube Introduction to the `MNIST` Dataset**\n",
        "\n",
        "Run the next cell to see short introduction to the MNIST Dataset. This is a suggested, but optional, part of the lesson."
      ],
      "metadata": {
        "id": "6NcY4RdGYPEG"
      }
    },
    {
      "cell_type": "code",
      "source": [
        "from IPython.display import HTML\n",
        "video_id = \"SrT6QkQUH4Q\"\n",
        "HTML(f\"\"\"\n",
        "<iframe width=\"560\" height=\"315\"\n",
        "  src=\"https://www.youtube.com/embed/{video_id}\"\n",
        "  title=\"YouTube video player\"\n",
        "  frameborder=\"0\"\n",
        "  allow=\"accelerometer; autoplay; clipboard-write; encrypted-media; gyroscope; picture-in-picture\"\n",
        "  allowfullscreen>\n",
        "</iframe>\n",
        "\"\"\")"
      ],
      "metadata": {
        "colab": {
          "base_uri": "https://localhost:8080/",
          "height": 336
        },
        "id": "SpH27YzdYPnU",
        "outputId": "65e01675-b071-4d6f-afac-b623f10a8969"
      },
      "execution_count": 1,
      "outputs": [
        {
          "output_type": "execute_result",
          "data": {
            "text/plain": [
              "<IPython.core.display.HTML object>"
            ],
            "text/html": [
              "\n",
              "<iframe width=\"560\" height=\"315\"\n",
              "  src=\"https://www.youtube.com/embed/SrT6QkQUH4Q\"\n",
              "  title=\"YouTube video player\"\n",
              "  frameborder=\"0\"\n",
              "  allow=\"accelerometer; autoplay; clipboard-write; encrypted-media; gyroscope; picture-in-picture\"\n",
              "  allowfullscreen>\n",
              "</iframe>\n"
            ]
          },
          "metadata": {},
          "execution_count": 1
        }
      ]
    },
    {
      "cell_type": "markdown",
      "source": [
        "# **Keras Neural Networks for Medical MNIST**\n",
        "\n",
        "This module will focus on computer vision. There are some important differences and similarities with previous neural networks.\n",
        "\n",
        "* We will usually use classification, though regression is still an option.\n",
        "* The input to the neural network is now 3D (height, width, _and_ color)\n",
        "* Data are not transformed; no more Z-scores or dummy variables.\n",
        "* Processing time is **_much_**  longer.\n",
        "* We now have different layer types. Besides dense layers, we now have _convolution layers_, and _max-pooling layers_.\n",
        "* Data will no longer arrive as tabular data stored in CSV files, but as hundred or even thousands of **_images_**."
      ],
      "metadata": {
        "id": "wCjV86HnxkND"
      }
    },
    {
      "cell_type": "markdown",
      "source": [
        "## **Common Computer Vision Data Sets**\n",
        "\n",
        "There are many data sets for computer vision. Two of the most popular classic datasets are the MNIST digits data set and the CIFAR image data sets. We will be using two MNIST data sets in this lesson. It is important to be familiar with both sets, neural network texts often refer to them.\n",
        "\n",
        "The [MNIST Digits Data Set](http://yann.lecun.com/exdb/mnist/) is very popular in the neural network research community. You can see a sample of it below.\n",
        "\n",
        "**Figure 6.MNIST: MNIST Data Set**\n",
        "\n",
        "![MNIST Data Set](https://biologicslab.co/BIO1173/images/class_8_mnist.png \"MNIST Data Set\")\n",
        "\n",
        "The original MNIST Digit Data Set is a large database of handwritten digits that is commonly used for training various image processing systems. It was created by Yan LeCun, Corinna Cortes, and Christopher Burges as a benchmark for evaluating machine learning algorithms in the field of computer vision. The dataset was first released in 1998 and consists of 60,000 training images and 10,000 testing images of handwritten digits from 0 to 9.\n",
        "\n",
        "The MNIST dataset has been widely used in the research community to develop and test classification algorithms, particularly in the field of deep learning. It has become a standard benchmark for evaluating the performance of machine learning models on image recognition tasks. Despite its simplicity, the MNIST dataset remains popular due to its ease of use and ability to quickly assess the effectiveness of new algorithms.\n",
        "\n",
        "Over the years, the MNIST dataset has been used in numerous research studies and competitions, leading to the development of more advanced techniques in computer vision. It continues to be a valuable resource for researchers and practitioners in the field of machine learning.\n",
        "\n",
        "[MedMINST Data Sets](https://medmnist.com/) are a collection of 18 standardized biomedical datasets produced by a consortium of researchers at Harvard University and colaborators in Germany and China. The image sets cover a variety medical tissues and cell types including Chest X-Rays, Colon Pathology, Breast Ultrasound, Blood Cytology and Abdominal CT scans. The `RetinaMINST` dataset has 1,600 fundus camera samples (1,080 training, 120 validation, 400 test).\n",
        "\n",
        "**Figure 6.MedMNIST: RetinaMNIST Data Set**\n",
        "\n",
        "![RetinaMNIST](https://biologicslab.co/BIO1173/images/class_06/RetinaMNIST.jpg \"RetinaMNIST\")\n",
        "\n",
        "The [CIFAR-10 and CIFAR-100](https://www.cs.toronto.edu/~kriz/cifar.html) datasets are also frequently used by the neural network research community.\n",
        "\n",
        "\n",
        "**Figure 6.CIFAR: CIFAR Data Set**\n",
        "\n",
        "![CIFAR Data Set](https://biologicslab.co/BIO1173/images/class_8_cifar.png \"CIFAR Data Set\")\n",
        "\n",
        "The CIFAR-10 data set contains low-rez images that are divided into 10 classes. The CIFAR-100 data set contains 100 classes in a hierarchy."
      ],
      "metadata": {
        "id": "bJC-LE63xxFD"
      }
    },
    {
      "cell_type": "markdown",
      "source": [
        "# **Convolutional Neural Networks (CNNs)**\n",
        "\n",
        "The convolutional neural network (CNN) is a neural network technology that has profoundly impacted the area of computer vision (CV). Fukushima  (1980) [[Cite:fukushima1980neocognitron]](https://www.rctn.org/bruno/public/papers/Fukushima1980.pdf) introduced the original concept of a convolutional neural network, and   LeCun, Bottou, Bengio & Haffner (1998) [[Cite:lecun1995convolutional]](http://yann.lecun.com/exdb/publis/pdf/lecun-bengio-95a.pdf) greatly improved this work.\n",
        "\n",
        "From this research, Yan LeCun introduced the famous LeNet-5 neural network architecture. This chapter follows the **LeNet-5 style** of convolutional neural network. Although computer vision primarily uses CNNs, this technology has some applications outside of the field. You need to realize that if you want to utilize CNNs on non-visual data, you must find a way to encode your data to mimic the properties of visual data.  \n",
        "\n",
        "The order of the input array elements is _crucial_ to the training. In contrast, most neural networks that are not CNNs, treat their input data as a long vector of values. The order in which you arrange the incoming features in this vector is irrelevant. Importantly, you can't change the order of the data in these vectors for these types of neural networks once your network has been trained.\n",
        "\n",
        "On the other hand, the CNN network arranges the inputs into a **grid**. This arrangement works well with images because the pixels in closer proximity to each other are important to each other. The order of pixels in an image is significant. The human body is a relevant example of this type of order. For the design of the face, we are accustomed to eyes being near to each other.\n",
        "\n",
        "This advance in CNNs is due to years of research on biological eyes. In other words, CNNs utilize overlapping fields of input to simulate features of biological eyes. Until this breakthrough, AI had been unable to reproduce the capabilities of biological vision.\n",
        "\n",
        "Scale, rotation, and noise have presented challenges for AI computer vision research. You can observe the complexity of biological eyes in the example that follows.\n",
        "\n",
        "A friend raises a sheet of paper with a large number written on it. As your friend moves nearer to you, the number is still identifiable. In the same way, you can still identify the number when your friend rotates the paper. Lastly, your friend creates noise by drawing lines on the page, but you can still identify the number.\n",
        "\n",
        "As you can see, these examples demonstrate the high function of the biological eye and allow you to understand better the research breakthrough of CNNs. That is, this neural network can process scale, rotation, and noise in the field of computer vision. You can see this network structure in Figure 6.LENET.\n",
        "\n",
        "**LeNET-5 Network (LeCun, 1998)**\n",
        "\n",
        "![A LeNET-5 Network](https://biologicslab.co/BIO1173/images/class_8_lenet5.png \"A LeNET-5 Network\")\n",
        "\n",
        "So far, we have only seen one layer type (dense layers). By the end of this course you will also know about:\n",
        "  \n",
        "* **Convolution Layers** - Used to scan across images.\n",
        "* **Max Pooling Layers** - Used to downsample images.\n",
        "* **Dropout Layers** - Used to add regularization.\n",
        "* **LSTM and Transformer Layers** - Used for time series data."
      ],
      "metadata": {
        "id": "Z2qGkCiWx5Jq"
      }
    },
    {
      "cell_type": "markdown",
      "source": [
        "## **Convolution Layers**\n",
        "\n",
        "The first layer that we will examine is the convolutional layer. We will begin by looking at the hyper-parameters that you must specify for a convolutional layer in most neural network frameworks that support the CNN:\n",
        "\n",
        "* Number of filters\n",
        "* Filter Size\n",
        "* Stride\n",
        "* Padding\n",
        "* Activation Function/Non-Linearity\n",
        "\n",
        "The primary purpose of a convolutional layer is to detect features such as edges, lines, blobs of color, and other visual elements. The filters can detect these features. The more filters we give to a convolutional layer, the more features it can see.\n",
        "\n",
        "A filter is a square-shaped object that scans over the image. A grid can represent the individual pixels of a grid. You can think of the convolutional layer as a smaller grid that sweeps left to right over each image row. There is also a hyperparameter that specifies both the width and height of the square-shaped filter. The following figure shows this configuration in which you see the six convolutional filters sweeping over the image grid:\n",
        "\n",
        "A convolutional layer has weights between it and the previous layer or image grid. Each pixel on each convolutional layer is a weight. Therefore, the number of weights between a convolutional layer and its predecessor layer or image field is the following:\n",
        "\n",
        "```\n",
        "[FilterSize] * [FilterSize] * [# of Filters]\n",
        "```\n",
        "\n",
        "For example, if the filter size were 5 (5x5) for 10 filters, there would be 250 weights.\n",
        "\n",
        "You need to understand how the convolutional filters sweep across the previous layer's output or image grid. Figure 6.CNN illustrates the sweep:\n",
        "\n",
        "**Figure 6.CNN: Convolutional Neural Network**\n",
        "![Convolutional Neural Network](https://biologicslab.co/BIO1173/images/class_8_cnn_grid.png \"Convolutional Neural Network\")\n",
        "\n",
        "The above figure shows a convolutional filter with 4 and a padding size of 1. The **padding size** is responsible for the border of zeros in the area that the filter sweeps. Even though the image is 8x7, the extra padding provides a virtual image size of 9x8 for the filter to sweep across. The **stride** specifies the number of positions the convolutional filters will stop. The convolutional filters move to the right, advancing by the number of cells specified in the stride. Once you reach the far right, the convolutional filter moves back to the far left; then, it moves down by the stride amount and continues to the right again.\n",
        "\n",
        "Some constraints exist concerning the size of the stride. The stride cannot be `0`. The convolutional filter would never move if you set the stride to `0`. Furthermore, neither the stride nor the convolutional filter size can be larger than the previous grid. There are additional constraints on the stride (*s*), padding (*p*), and the filter width (*f*) for an image of width (*w*). Specifically, the convolutional filter must be able to start at the far left or top border, move a certain number of strides, and land on the far right or bottom border. The following equation shows the number of steps a convolutional operator\n",
        "must take to cross the image:\n",
        "\n",
        "$$ steps = \\frac{w - f + 2p}{s}+1 $$\n",
        "\n",
        "The number of steps must be an integer. In other words, it cannot have decimal places. The purpose of the padding (*p*) is to be adjusted to make this equation become an integer value."
      ],
      "metadata": {
        "id": "fkuLAEWpx-pi"
      }
    },
    {
      "cell_type": "markdown",
      "source": [
        "### **Max Pooling Layers**\n",
        "\n",
        "Max-pool layers downsample a 3D box to a new one with smaller dimensions. Typically, you can always place a max-pool layer immediately following the convolutional layer. The LENET shows the max-pool layer immediately after layers C1 and C3. These max-pool layers progressively decrease the size of the dimensions of the 3D boxes passing through them. This technique can avoid overfitting (Krizhevsky, Sutskever & Hinton, 2012).\n",
        "\n",
        "A pooling layer has the following hyper-parameters:\n",
        "\n",
        "* Spatial Extent (*f*)\n",
        "* Stride (*s*)\n",
        "\n",
        "Unlike convolutional layers, max-pool layers do not use padding. Additionally, max-pool layers have no weights, so training does not affect them. These layers downsample their 3D box input. The 3D box output by a max-pool layer will have a width equal to this equation:\n",
        "\n",
        "$$ w_2 = \\frac{w_1 - f}{s} + 1 $$\n",
        "\n",
        "The height of the 3D box produced by the max-pool layer is calculated similarly with this equation:\n",
        "\n",
        "$$ h_2 = \\frac{h_1 - f}{s} + 1 $$\n",
        "\n",
        "The depth of the 3D box produced by the max-pool layer is equal to the depth the 3D box received as input. The most common setting for the hyper-parameters of a max-pool layer is f=2 and s=2. The spatial extent (f) specifies that boxes of 2x2 will be scaled down to single pixels. Of these four pixels, the pixel with the maximum value will represent the 2x2 pixel in the new grid. Because squares of size 4 are replaced with size 1, 75% of the pixel information is lost. The following figure shows this transformation as a 6x6 grid becomes a 3x3:\n",
        "\n",
        "**Figure 6.MAXPOOL: Max Pooling Layer**\n",
        "![Max Pooling Layer](https://biologicslab.co/BIO1173/images/class_8_conv_maxpool.png \"Max Pooling Layer\")\n",
        "\n",
        "Of course, the above diagram shows each pixel as a single number. A grayscale image would have this characteristic. We usually take the average of the three numbers for an RGB image to determine which pixel has the maximum value."
      ],
      "metadata": {
        "id": "yg8Td47AyFfZ"
      }
    },
    {
      "cell_type": "markdown",
      "source": [
        "----------------------------------------\n",
        "### **Supervised _vs_ Unsupervised Machine Learning**\n",
        "\n",
        "In **_supervised_ machine learning**, the algorithm is trained on a **labeled** dataset, where each training example is paired with the correct output. The goal is to learn a mapping from input features to the corresponding output labels. During training, the algorithm adjusts its parameters to minimize the difference between the predicted output and the true label. Once the model is trained, it can make predictions on new, unseen data by applying the learned mapping. Common supervised learning tasks include classification and regression.\n",
        "\n",
        "On the other hand, **_unsupervised_ machine learning** involves training the algorithm on an _unlabeled_ dataset, where the algorithm must find patterns or relationships in the data without explicit guidance. The goal of unsupervised learning is to discover hidden structures or clusters in the data. This type of learning is often used for tasks such as clustering, anomaly detection, and dimensionality reduction. Unlike supervised learning, there are no explicit output labels to guide the learning process in unsupervised learning.\n",
        "\n",
        "---------------------------------------------"
      ],
      "metadata": {
        "id": "sqOn44uuyN4w"
      }
    },
    {
      "cell_type": "markdown",
      "source": [
        "# **Example 1: Classification Convolutional Neural Network**\n",
        "\n",
        "We will now look at an example of a  classification meural network. For _supervised_ computer vision, your dataset will need some labels. For classification, this label usually specifies _what_ the image is a picture of, e.g., dog, cat, carcinoma, etc.\n",
        "\n",
        "For a classification neural network, we will provide an image and expect the neural network to classify it as being one of several posibilites. In this example, we will use the `bloodmnist_224` dataset from MedMNIST that contains images of different types of blood cells.\n",
        "\n",
        "The blood cell images and consists of 8 different classes. These classes include Neutrophils, Lymphocytes, Monocytes, Eosinophils, Basophils and Platelets.\n",
        "\n",
        "Here are images showing the 8 types of blood cells in the `bloodmnist_224` dataset\n",
        "\n",
        "![___](https://biologicslab.co/BIO1173/images/class_06/BloodCellTypes_A.png)\n",
        "\n",
        "Each image is 244 X 244 pixels with 3 color channels (RGB).\n",
        "\n",
        "Our goal will be to create a convolutional neural network (CNN) that can correctly classify a blood cell image as belonging into one of these 8 blood cell types.\n"
      ],
      "metadata": {
        "id": "G2YE0rOqySxy"
      }
    },
    {
      "cell_type": "markdown",
      "source": [
        "### Example Step - 1: Setup Evironmental Variables\n",
        "\n",
        "**Environmental variables** are similar to hidden settings that tell your computer how to behave. They hold information that can affect how programs run on your system, such as paths to files, system directories, or user-specific settings. It's like setting the stage for your computer to know where to find all its props and scripts.\n",
        "\n",
        "The code in the cell below creates environmental variables that are needed to download a specific datafile and then to extract this data into specific folders in your Colab notebook."
      ],
      "metadata": {
        "id": "XyaxI3MgyYl4"
      }
    },
    {
      "cell_type": "code",
      "source": [
        "# Example Step - 1: Setup Environmental Variables\n",
        "\n",
        "import os\n",
        "\n",
        "# Define datafile location\n",
        "URL = \"https://biologicslab.co/BIO1173/data\"\n",
        "DOWNLOAD_SOURCE = URL+\"/bloodmnist_224.npz\"\n",
        "DOWNLOAD_NAME = DOWNLOAD_SOURCE[DOWNLOAD_SOURCE.rfind('/')+1:]\n",
        "print(f\"DOWNLOAD_SOURCE {DOWNLOAD_SOURCE}\")\n",
        "print(f\"DOWNLOAD_NAME {DOWNLOAD_NAME}\")\n",
        "\n",
        "# Define folder locations to store the data\n",
        "PATH = \"/content\"\n",
        "EXTRACT_TARGET = os.path.join(PATH,\"/bloodmnist_224\")\n",
        "SOURCE = os.path.join(EXTRACT_TARGET)\n",
        "TARGET = SOURCE\n",
        "\n",
        "# Print out environmental variables\n",
        "print(f\"PATH {PATH}\")\n",
        "print(f\"EXTRACT_TARGET {EXTRACT_TARGET}\")\n",
        "print(f\"SOURCE {SOURCE}\")\n",
        "print(f\"TARGET {TARGET}\")"
      ],
      "metadata": {
        "id": "Np7QHbJp7iq5"
      },
      "execution_count": null,
      "outputs": []
    },
    {
      "cell_type": "markdown",
      "source": [
        "If the code is correct, you should see the following output:\n",
        "\n",
        "![__](https://biologicslab.co/BIO1173/images/class_03/class_03_1_image04B.png)\n",
        "\n",
        "We are going to download a datafile called `bloodmnist_224.npz` from the course file server, `https://biologicslab.co`. We will then extract (unzip) its contents into a folder called `/bloodmnist_224`."
      ],
      "metadata": {
        "id": "SGIkjihvyl3X"
      }
    },
    {
      "cell_type": "markdown",
      "source": [
        "### Example Step - 2: Download and Extract Data\n",
        "\n",
        "In Step 1 we defined the file we wanted to download and the folder in which to place the data after we unzipped it. In the next cell we perform both the download and the extraction.\n",
        "\n",
        "#### **Download File**\n",
        "\n",
        "The code in the cell below uses this code chunk to download the datafile.\n",
        "~~~text\n",
        "# Download the file\n",
        "os.system(f\"wget -O {download_path} {DOWNLOAD_SOURCE}\")\n",
        "~~~\n",
        "\n",
        "The program `wget` is a non-interactive network downloader commonly used in Unix-like operating systems. It retrieves files from the web using HTTP, HTTPS, and FTP protocols.\n",
        "\n",
        "#### **Extract File Contents**\n",
        "\n",
        "The datafile is compressed (i.e. a `zip file`), so we need to extract the file contents. The next code chunk unzips it to folder specified by the environmental variables defined above:\n",
        "~~~text\n",
        "# Extract the file\n",
        "os.system(f\"unzip -o -d {EXTRACT_TARGET} {download_path} >/dev/null\")\n",
        "~~~\n",
        "The command `unzip` is a command-line utility used to extract files from a ZIP archive.\n",
        "\n",
        "At the end of the `unzip` command is `>/dev/null`. Normally, the `unzip` command prints out the name of every file that was extracted. Since there are 2,000 images, we don't want to see this print out. Instead the output is sent instead to `> dev/null` which hids the output. `dev/null` a special file that discards all data written to it—like a black hole for unnecessary or unwanted output. If you send a program’s output to /dev/null, it's basically saying, \"I don't need this, just throw it away.\""
      ],
      "metadata": {
        "id": "9Mrt8H0R81h1"
      }
    },
    {
      "cell_type": "code",
      "source": [
        "# Example Step - 2: Download and Extract Data\n",
        "\n",
        "import os\n",
        "\n",
        "print(\"Creating necessary directories...\", end='')\n",
        "# Create necessary directories\n",
        "os.makedirs(SOURCE, exist_ok=True)\n",
        "os.makedirs(EXTRACT_TARGET, exist_ok=True)\n",
        "print(\"done.\")\n",
        "\n",
        "print(\"Downloading files...\", end='')\n",
        "# Define paths and URLs\n",
        "download_path = os.path.join(PATH, DOWNLOAD_NAME)\n",
        "extract_path = os.path.join(EXTRACT_TARGET, DOWNLOAD_NAME)\n",
        "\n",
        "# Download the file\n",
        "os.system(f\"wget -O {download_path} {DOWNLOAD_SOURCE}\")\n",
        "print(\"done.\")\n",
        "\n",
        "print(\"Extracting files...\", end='')\n",
        "# Extract the file\n",
        "os.system(f\"unzip -o -d {EXTRACT_TARGET} {download_path} >/dev/null\")\n",
        "print(\"done.\")\n"
      ],
      "metadata": {
        "id": "ADg2vo8j890E"
      },
      "execution_count": null,
      "outputs": []
    },
    {
      "cell_type": "markdown",
      "source": [
        "If the code is correct, you should see the following output:\n",
        "\n",
        "![__](https://biologicslab.co/BIO1173/images/class_03/class_03_1_image05B.png)\n",
        "\n",
        "Image datafiles used by CNN neural networks need to be relatively large which means they take a fair amount of time to download and extract. They also require a lot of memory and disk space to store and process. This is one of the main reasons for using Google Colab instead of trying to do this on your laptop."
      ],
      "metadata": {
        "id": "Ayg-LmKm9FYr"
      }
    },
    {
      "cell_type": "markdown",
      "source": [
        "### Example Step - 3: Load and Shuffle Images and Labels into Numpy arrays\n",
        "\n",
        "Image data in dataset can be stored in different formats. In many cases the image data is stored as individual pictures (frames) in a JPEG format or PNG format.\n",
        "\n",
        "However, in this dataset, the images are stored in a collect of numpy arrays. The Numpy `.npy` format is a way to save Numpy arrays to disk in a binary file. This format stores the shape, data type, and data of the array efficiently, allowing for fast reading and writing making it perfect for handling large amounts of numerical data in a compact, easy-to-access way.\n",
        "\n",
        "The code in the cell below reads the images and their corresponding labels using the Numpy command `np.load()` to create 6 numpy arrays containing the `training`, `test` and `validation` images and their labels.   \n",
        "\n",
        "In addition to `unpacking` the images, the code also randomly shuffles the data using this code chunk:\n",
        "\n",
        "~~~text\n",
        "combined = list(zip(eg_train_images, eg_train_labels))\n",
        "np.random.shuffle(combined)\n",
        "eg_X_train, eg_Y_train = zip(*combined)\n",
        "~~~\n",
        "\n",
        "Is important to note that when shuffling the images (`eg_train_images`) that their labels (`eg_train_labels`) are shuffled at the same time to keep these arrays \"synchronized\" (i.e. the right label goes with the right image)."
      ],
      "metadata": {
        "id": "yQn3GXQe9OnD"
      }
    },
    {
      "cell_type": "code",
      "source": [
        "# Example Step - 3: Load and Shuffle Images and Labels into Numpy arrays\n",
        "\n",
        "import numpy as np\n",
        "\n",
        "\n",
        "# ------------------------------------------------------------------------\n",
        "# 1️⃣  Unpack and shuffle train images\n",
        "# ------------------------------------------------------------------------\n",
        "eg_train_images = np.load(os.path.join(SOURCE,\"train_images.npy\"),)\n",
        "eg_train_labels = np.load(os.path.join(SOURCE,\"train_labels.npy\"),)\n",
        "combined = list(zip(eg_train_images, eg_train_labels))\n",
        "np.random.shuffle(combined)\n",
        "eg_X_train, eg_Y_train = zip(*combined)\n",
        "eg_X_train = np.array(eg_X_train)\n",
        "eg_Y_train = np.array(eg_Y_train)\n",
        "print(f\"eg_X_train: {eg_X_train.shape}\")\n",
        "print(f\"eg_Y_train: {eg_Y_train.shape}\")\n",
        "\n",
        "# ------------------------------------------------------------------------\n",
        "# 2️⃣  Unpack and shuffle test images\n",
        "# ------------------------------------------------------------------------\n",
        "test_images = np.load(os.path.join(SOURCE,\"test_images.npy\"),)\n",
        "test_labels = np.load(os.path.join(SOURCE,\"test_labels.npy\"),)\n",
        "combined = list(zip(test_images, test_labels))\n",
        "np.random.shuffle(combined)\n",
        "eg_X_test, eg_Y_test = zip(*combined)\n",
        "eg_X_test = np.array(eg_X_test)\n",
        "eg_Y_test = np.array(eg_Y_test)\n",
        "print(f\"eg_X_test: {eg_X_test.shape}\")\n",
        "print(f\"eg_Y_test: {eg_Y_test.shape}\")\n",
        "\n",
        "# ------------------------------------------------------------------------\n",
        "# 3️⃣  Unpack and shuffle validation images\n",
        "# ------------------------------------------------------------------------\n",
        "# Unpack and shuffle val_images\n",
        "val_images = np.load(os.path.join(SOURCE,\"val_images.npy\"),)\n",
        "val_labels = np.load(os.path.join(SOURCE,\"val_labels.npy\"),)\n",
        "combined = list(zip(val_images, val_labels))\n",
        "np.random.shuffle(combined)\n",
        "eg_X_val, eg_Y_val = zip(*combined)\n",
        "eg_X_val = np.array(eg_X_val)\n",
        "eg_Y_val = np.array(eg_Y_val)\n",
        "print(f\"eg_X_val: {eg_X_val.shape}\")\n",
        "print(f\"eg_Y_val: {eg_Y_val.shape}\")"
      ],
      "metadata": {
        "id": "H1OGthZ09THz"
      },
      "execution_count": null,
      "outputs": []
    },
    {
      "cell_type": "markdown",
      "source": [
        "If the code is correct, you should see the following output:\n",
        "\n",
        "![__](https://biologicslab.co/BIO1173/images/class_03/class_03_1_image02C.png)\n",
        "\n",
        "That means that after splitting the data, there are `11,959` images of blood cells in the training set, `3,421` images in the test set and `1,712` images in the validation set. Your values might be slightly different."
      ],
      "metadata": {
        "id": "6TkU0X_b9WqT"
      }
    },
    {
      "cell_type": "markdown",
      "source": [
        "**SPLIT DATA**\n",
        "\n",
        "This MedMNSIT dataset has already been `split` into a training set (`eg_train_images`, `eg_train_labels`), a testing set (`test_images`, `test_labels`) and a validation set (`val_images`, `val_label`). However, in many other image datasets, you will be required to split the image data yourself.\n",
        "\n",
        "**Image Size**\n",
        "\n",
        "The image size is given by the array `shape`. For example, here is the output for the train images:\n",
        "\n",
        "~~~text\n",
        "eg_train_images: (11959, 224, 224, 3)\n",
        "~~~\n",
        "\n",
        "What these `shape` numbers mean is that there is a total of `11959` images in the `eg_train_images` array. Each image is `224` X `224` pixels in size and the last digit, `3`, indicates the images are color images. The 3 stands for 3 color channels: Red, Green and Blue (RGB). If an image only has a single color channel, the image is grayscaled."
      ],
      "metadata": {
        "id": "21FlJT_10MI2"
      }
    },
    {
      "cell_type": "markdown",
      "source": [
        "----------------------------------------------------\n",
        "## **Understanding Color Channels in Neural Networks**\n",
        "\n",
        "#### **Definition**\n",
        "\n",
        "A **color channel** refers to a component of a digital image that represents intensity values for a specific color. In the context of image processing and neural networks, color channels are used to separate and process the individual color components of an image.\n",
        "\n",
        "#### **Common Color Channels**\n",
        "\n",
        "Most commonly, images are represented in the **RGB color space**, which includes three channels:\n",
        "\n",
        "- **Red (R)**\n",
        "- **Green (G)**\n",
        "- **Blue (B)**\n",
        "\n",
        "Each channel is a 2D matrix (height × width) that stores intensity values for that specific color. When combined, these channels form a full-color image.\n",
        "\n",
        "#### **Representation in Neural Networks**\n",
        "\n",
        "In neural networks, especially convolutional neural networks (CNNs), images are typically represented as 3D tensors with the shape given in pixels (e.g. `64,64`)\n",
        "\n",
        "----------------------------------------------------\n"
      ],
      "metadata": {
        "id": "wP7Yge269bWi"
      }
    },
    {
      "cell_type": "markdown",
      "source": [
        "### Example - Step 4 - Add Color Channel and Resize Images\n",
        "\n",
        "When it comes to images in data sets, the number of color channels can vary. Sometimes the images are in color and have 3 color channels (Red, Green, Blue), and sometimes the images only have 1 color channel (Monochrome or \"black-and-white\"). However, in some data sets, there is no color channel information. The code in the cell below examines the number of color channels in the image dataset and if no color channel information is provided, it adds `monochrome` color change information.\n",
        "\n",
        "The code also examines the image size to make sure that it is at least `64x64` pixels. If the images in the dataset are less than value (e.g. `32x32`) the code will automatically resize the images in the `training`, the `test` and in the `validation` datasets."
      ],
      "metadata": {
        "id": "9im2V87dD4B3"
      }
    },
    {
      "cell_type": "code",
      "source": [
        "# Example - Step 4: Add Color Channel and Resize Images\n",
        "\n",
        "import numpy as np\n",
        "import tensorflow as tf\n",
        "\n",
        "# ------------------------------------------------------------------------\n",
        "# 1️⃣  Add a color channel if not already present\n",
        "# ------------------------------------------------------------------------\n",
        "if eg_X_train.ndim == 4:\n",
        "    print(\"No need to add a color channel, images are RGB\")\n",
        "else:\n",
        "    print(\"Adding monochrome color channel...\", end='')\n",
        "    eg_X_train = np.expand_dims(eg_X_train, axis=-1)\n",
        "    eg_X_test = np.expand_dims(eg_X_test, axis=-1)\n",
        "    eg_X_val = np.expand_dims(eg_X_val, axis=-1)\n",
        "    print(\"done\")\n",
        "\n",
        "# ------------------------------------------------------------------------\n",
        "# 2️⃣  Resize images if they are less than 64 pixels\n",
        "# ------------------------------------------------------------------------\n",
        "if eg_X_train.shape[1] >= 64:\n",
        "    print(\"No need to resize images--already 64x64 (or more) pixels\")\n",
        "    eg_X_train_resized = eg_X_train\n",
        "    eg_X_test_resized = eg_X_test\n",
        "    eg_X_val_resized = eg_X_val\n",
        "else:\n",
        "    print(\"Resizing images to 64x64 pixels...\", end='')\n",
        "    eg_X_train_resized = np.array([tf.image.resize(img, (64, 64)).numpy() for img in eg_X_train])\n",
        "    eg_X_test_resized = np.array([tf.image.resize(img, (64, 64)).numpy() for img in eg_X_test])\n",
        "    eg_X_val_resized = np.array([tf.image.resize(img, (64, 64)).numpy() for img in eg_X_val])\n",
        "    print(\"done\")\n",
        "\n",
        "# ------------------------------------------------------------------------\n",
        "# 3️⃣  Copy back\n",
        "# ------------------------------------------------------------------------\n",
        "eg_X_train = np.copy(eg_X_train_resized)\n",
        "eg_X_test = np.copy(eg_X_test_resized)\n",
        "eg_X_val = np.copy(eg_X_val_resized)\n",
        "\n",
        "\n",
        "# ------------------------------------------------------------------------\n",
        "# 4️⃣   Check shapes\n",
        "# ------------------------------------------------------------------------\n",
        "print(eg_X_train.shape)\n",
        "print(eg_X_test.shape)\n",
        "print(eg_X_val.shape)"
      ],
      "metadata": {
        "id": "fTWlNJzA9fti"
      },
      "execution_count": null,
      "outputs": []
    },
    {
      "cell_type": "markdown",
      "source": [
        "If the code is correct, you should see the following output:\n",
        "\n",
        "![__](https://biologicslab.co/BIO1173/images/class_03/class_03_1_image01C.png)\n",
        "\n",
        "For this particular Medical MNIST dataset, there was no need to add a color channel or to resize the images. However, there are other Medical MNIST datasets in which this is not the case.\n",
        "\n",
        "You should also note the image size is 224x224 pixels and there are 3 color channels (i.e. RGB)."
      ],
      "metadata": {
        "id": "Om3ueI6p9idK"
      }
    },
    {
      "cell_type": "markdown",
      "source": [
        "### Example - Step 5: Check Available Memory\n",
        "\n",
        "The code in the cell below shows how to check the used and the available memory in a Colab session. As will be explained below, knowing the amount of available memory can be useful during data processing. If you perform a function that increases the size of a dataset beyond what can be held in the available memory, your Colab session will _crash!_"
      ],
      "metadata": {
        "id": "7NVtEsrt-xd1"
      }
    },
    {
      "cell_type": "code",
      "source": [
        "# Example - Step 5: Check available memory\n",
        "\n",
        "import psutil\n",
        "\n",
        "# Get the memory details\n",
        "mem = psutil.virtual_memory()\n",
        "\n",
        "# Print total, available, and used memory\n",
        "print(f\"Total Memory: {mem.total / (1024 ** 3):.2f} GB\")\n",
        "print(f\"Available Memory: {mem.available / (1024 ** 3):.2f} GB\")\n",
        "print(f\"Used Memory: {mem.used / (1024 ** 3):.2f} GB\")"
      ],
      "metadata": {
        "id": "RgkJhlPB_Wl7"
      },
      "execution_count": null,
      "outputs": []
    },
    {
      "cell_type": "markdown",
      "source": [
        "If you are using the `A100 GPU` accelerator, you should see something similar to the following output:\n",
        "\n",
        "![__](https://biologicslab.co/BIO1173/images/class_03/class_03_1_image08B.png)\n",
        "\n",
        "How much total memory you have depends upon what GPU Runtime you are using.\n"
      ],
      "metadata": {
        "id": "uKVJKqIo_fhD"
      }
    },
    {
      "cell_type": "markdown",
      "source": [
        "### Example - Step 6: Augment Train Image Set\n",
        "\n",
        "Augmenting an image dataset by flipping images means creating new images by mirroring the original ones either horizontally or vertically.\n",
        "\n",
        "**Why is it useful?**\n",
        "\n",
        "1. **Increased Dataset Size:** Flipping images effectively multiplies your dataset without the need for additional data collection, which can be costly and time-consuming.\n",
        "\n",
        "2. **Enhanced Robustness:** Models trained on augmented datasets learn to recognize objects from different perspectives, making them more robust and better at generalizing to real-world scenarios.\n",
        "\n",
        "3. **Reduced Overfitting:** Augmentation helps reduce overfitting by introducing variability into the training data, ensuring the model doesn't just memorize the training images but learns to generalize from them.\n",
        "\n",
        "It is always a good idea to augment a image dataset. However, there is one important caveat -- you need to have sufficient available memory to hold the augmented dataset.\n",
        "\n",
        "The code in the cell below checks the available memory and compares it to the amount of memory that has already been used with this conditional statement:\n",
        "\n",
        "~~~text\n",
        "if mem.available <= mem.used:\n",
        "~~~\n",
        "\n",
        "If the available memory is less than or equal to the amount of memory that has already been used, no augmentation takes place. However, if there appears to be enough memory, the images in `eg_X_train` are flipped vertically, and then horizontally and added back to `eg_X_train`.\n"
      ],
      "metadata": {
        "id": "OcoPhtQi_kiC"
      }
    },
    {
      "cell_type": "code",
      "source": [
        "# Example - Step 6: Augment train image set\n",
        "\n",
        "import numpy as np\n",
        "import psutil\n",
        "\n",
        "# ------------------------------------------------------------------------\n",
        "# 1️⃣  Get the memory details\n",
        "# ------------------------------------------------------------------------\n",
        "mem = psutil.virtual_memory()\n",
        "\n",
        "# ------------------------------------------------------------------------\n",
        "# 2️⃣  Augment if available memory is sufficient\n",
        "# ------------------------------------------------------------------------\n",
        "if mem.available <= mem.used:\n",
        "    print(f\"Available memory ({mem.available / (1024 ** 3):.2f} GB) might not be enough to augment eg_X_train\")\n",
        "    print(f\"Number of eg_X_train images: {eg_X_train.shape[0]}\")\n",
        "else:\n",
        "    print(f\"Available memory ({mem.available / (1024 ** 3):.2f} GB) should be enough to augment eg_X_train\")\n",
        "    print(\"Augmenting the number of images in eg_X_train...\", end=' ')\n",
        "\n",
        "    # Initialize lists to store the augmented images and labels\n",
        "    augmented_images = []\n",
        "    augmented_labels = []\n",
        "\n",
        "    # Iterate through each image and its corresponding label\n",
        "    for img, label in zip(eg_X_train, eg_Y_train):\n",
        "        # Original image\n",
        "        augmented_images.append(img)\n",
        "        augmented_labels.append(label)\n",
        "\n",
        "        # Vertically flipped image\n",
        "        augmented_images.append(np.flipud(img))\n",
        "        augmented_labels.append(label)\n",
        "\n",
        "        # Horizontally flipped image\n",
        "        augmented_images.append(np.fliplr(img))\n",
        "        augmented_labels.append(label)\n",
        "\n",
        "    # Convert lists back to numpy arrays\n",
        "    augmented_images = np.array(augmented_images)\n",
        "    augmented_labels = np.array(augmented_labels)\n",
        "\n",
        "    print(\"done\")\n",
        "    print(f\"Original number of eg_X_train images: {len(eg_X_train)}\")\n",
        "    print(f\"Augmented number of eg_X_train images: {len(augmented_images)}\")\n",
        "\n",
        "    # Copy images back\n",
        "    eg_X_train = np.copy(augmented_images)\n",
        "    eg_Y_train = np.copy(augmented_labels)"
      ],
      "metadata": {
        "id": "TbjbyLCGClTn"
      },
      "execution_count": null,
      "outputs": []
    },
    {
      "cell_type": "markdown",
      "source": [
        "If the code is correct, and you are using the `A100 GPU` accelerator, you should see someting similiar to the following output:\n",
        "\n",
        "![__](https://biologicslab.co/BIO1173/images/class_03/class_03_1_image09B.png)\n",
        "\n",
        "In this situation, there was sufficient available memory to go ahead with augmentation. After flipping vertically and horizontally, there are now 3X more images in `eg_X_train`.\n"
      ],
      "metadata": {
        "id": "rl_-kxWhbuhd"
      }
    },
    {
      "cell_type": "markdown",
      "source": [
        "### Example Step - 7: One-Hot Encode Labels\n",
        "\n",
        "As you have learned previously, the Y-values for a classification neural network need to be **One-Hot Encoded** before they can be processed by the model. This is also true for image datasets and CNN neural networks. In this example, the Y-values are the labels that specify the blood cell type as an integer value from 0 through 7.\n",
        "\n",
        "The code in the cell below uses the Keras function `to_categorical()` to One-Hot Encode the label information for the training, testing and validation images."
      ],
      "metadata": {
        "id": "v3FMuLDNcExU"
      }
    },
    {
      "cell_type": "code",
      "source": [
        "# Example Step - 7: One-Hot Encode Labels\n",
        "\n",
        "from tensorflow.keras.utils import to_categorical\n",
        "import numpy as np\n",
        "\n",
        "# ------------------------------------------------------------------------\n",
        "# 1️⃣  Determine the number of classes\n",
        "# ------------------------------------------------------------------------\n",
        "classes, counts = np.unique(eg_Y_test, return_counts=True)\n",
        "class_count = len(classes)\n",
        "print(f\"The label data contains {class_count} classes\")\n",
        "\n",
        "# ------------------------------------------------------------------------\n",
        "# 2️⃣  One-hot encode Y values\n",
        "# ------------------------------------------------------------------------\n",
        "eg_Y_train = to_categorical(eg_Y_train, num_classes=class_count)\n",
        "eg_Y_test = to_categorical(eg_Y_test, num_classes=class_count)\n",
        "eg_Y_val = to_categorical(eg_Y_val, num_classes=class_count)\n",
        "\n",
        "# ------------------------------------------------------------------------\n",
        "# 3️⃣  Print results\n",
        "# ------------------------------------------------------------------------\n",
        "print(f'Train Labels Shape (eg_Y_train): {eg_Y_train.shape}')\n",
        "print(f'Test Labels Shape (eg_Y_test): {eg_Y_test.shape}')\n",
        "print(f'Validation Labels Shape (eg_Y_val): {eg_Y_val.shape}')"
      ],
      "metadata": {
        "id": "F_cMX2v1_qIq"
      },
      "execution_count": null,
      "outputs": []
    },
    {
      "cell_type": "markdown",
      "source": [
        "If the code is correct, you should see the following output\n",
        "\n",
        "![__](https://biologicslab.co/BIO1173/images/class_03/class_03_1_image04C.png)\n",
        "\n",
        "As you can see, after One-Hot Encoding, there are now 8 classification types.\n",
        "\n",
        "**WARNING:**\n",
        "\n",
        "If your output shows 3 numbers instead of 2 - **Do not proceed!**\n",
        "\n",
        "![__](https://biologicslab.co/BIO1173/images/class_03/class_03_1_image11B.png)\n",
        "\n",
        "The presence of a third number (`2`) means that you have **already** one-hot encoded the data more than once. If you try to use this `Y-data`, your model will crash during training.\n",
        "\n",
        "The only way you can fix this problem is to go back to `Example - Step 1` and start over."
      ],
      "metadata": {
        "id": "-1pWvfA5cVcz"
      }
    },
    {
      "cell_type": "markdown",
      "source": [
        "### Example Step - 8: Create and Compile CNN neural network model\n",
        "\n",
        "The code in the cell below builds a classic **_Convolutional Neural Network (CNN) model_**.\n",
        "\n",
        "#### **Setting the `input_dim`**\n",
        "In a CNN model, input_dim refers to the dimensions of the input data that the model will process. It includes the height, width, and number of channels (color depth) of the images. For example, if you’re working with RGB images of size 64x64 pixels, the input_dim would be (64, 64, 3). This ensures that the model architecture matches the shape of your data. It’s the initial layer's responsibility to match this input shape, setting the stage for the entire convolutional process\n",
        "\n",
        "#### **Setting the `learning_rate`**\n",
        "Choosing the optimal learning rate for a CNN involves some experimentation and fine-tuning. You can start with a learning rate = 0.001. If training proceeds smoothly, that's great. However, if encounter a problem you could increase or decrease the learning rate to see if that resolves the issue.\n",
        "\n",
        "#### **Create CNN model**\n",
        "\n",
        "Here is a summary of the model:\n",
        "\n",
        "1. **Conv2D Layer:** 64 filters, kernel size 3x3, using ReLU activation, input shape is 224x224x3.\n",
        "2. **MaxPool2D Layer:** Reduces spatial dimensions by a factor of 2.\n",
        "3. **Conv2D Layer:** 128 filters, kernel size 3x3, using ReLU activation.\n",
        "4. **MaxPool2D Layer:** Another spatial dimension reduction.\n",
        "5. **Dropout Layer:** Drops 50% of neurons to prevent overfitting.\n",
        "6. **Flatten Layer:** Converts the 2D matrix data to a vector.\n",
        "7. **Dense Layer:** Fully connected layer with 128 neurons, using ReLU activation.\n",
        "8. **Dense Layer:** Output layer with 8 neurons, one for each category.\n",
        "\n",
        "#### **Model Compiler**\n",
        "\n",
        "Here is the code used to compile the model:\n",
        "\n",
        "~~~text\n",
        "# Compile model\n",
        "eg_model.compile(\n",
        "    optimizer=Adam(learning_rate=learning_rate),\n",
        "    loss='categorical_crossentropy',\n",
        "    metrics=['accuracy']\n",
        "~~~\n",
        "\n",
        "* **optimizer=keras.optimizers.Adam(learning_rate=learning_rate):** You're using the `Adam` optimizer to adjust the model's weights. `Adam` is known for being efficient and well-suited for large datasets or parameters. The variable `learning_rate` was set to `0.0001`.\n",
        "\n",
        "* **loss=keras.losses.CategoricalCrossentropy():** CategoricalCrossentropy is a loss function used in classification tasks where the target labels are one-hot encoded (i.e., each label is represented as a binary vector). It measures the difference between the predicted probability distribution and the true distribution (the one-hot encoded labels). In simpler terms, it penalizes the model more when it assigns higher probabilities to incorrect classes and lower probabilities to the correct class. This helps guide the model to improve its predictions, making it more accurate over time. It's crucial for tasks like image classification, where you need the model to predict distinct classes with high confidence\n",
        "\n",
        "* **metrics=['accuracy']:** Setting metrics=['accuracy'] means that during training, the model will track and display `accuracy` as an evaluation metric. Accuracy is the proportion of correct predictions among the total number of predictions made. It’s a straightforward way to gauge how well your model is performing. So, with metrics=['accuracy'], Keras will show you how often your model’s predictions match the true labels as it trains.\n"
      ],
      "metadata": {
        "id": "PhDXUkydD64K"
      }
    },
    {
      "cell_type": "code",
      "source": [
        "# Example Step - 8: Construct and compile CNN model\n",
        "\n",
        "# ------------------------------------------------------------------------\n",
        "# 0️⃣  Load packages\n",
        "# ------------------------------------------------------------------------\n",
        "from tensorflow.keras.models import Sequential\n",
        "from tensorflow.keras.layers import Conv2D, MaxPooling2D, Flatten, Dense, Dropout, BatchNormalization, Input\n",
        "from tensorflow.keras.utils import to_categorical\n",
        "from keras.callbacks import EarlyStopping\n",
        "from tensorflow.keras.optimizers import Adam\n",
        "from tensorflow.keras.regularizers import l2\n",
        "import numpy as np\n",
        "\n",
        "\n",
        "# ------------------------------------------------------------------------\n",
        "# 1️⃣  Define variables\n",
        "# ------------------------------------------------------------------------\n",
        "# Define input_dim: Must be the pixel size of your images\n",
        "input_dim = (224, 224, 3)\n",
        "\n",
        "# Sete learning rate\n",
        "learning_rate = 0.001\n",
        "\n",
        "# Set Persistance\n",
        "PATIENCE=10\n",
        "\n",
        "# ------------------------------------------------------------------------\n",
        "# 2️⃣  Create CNN model\n",
        "# ------------------------------------------------------------------------\n",
        "eg_model = Sequential([\n",
        "    # Input Layer\n",
        "    Input(shape=input_dim),\n",
        "\n",
        "    # 1st Convolution layer\n",
        "    Conv2D(16, (3, 3), activation='relu', kernel_regularizer=l2(0.01)),\n",
        "    MaxPooling2D(2, 2),\n",
        "    BatchNormalization(),\n",
        "\n",
        "    # 2nd Convolution layer\n",
        "    Conv2D(32, (3, 3), activation='relu', kernel_regularizer=l2(0.01)),\n",
        "    MaxPooling2D(2, 2),\n",
        "    BatchNormalization(),\n",
        "    Dropout(0.5),\n",
        "\n",
        "    # 3rd Convolution layer\n",
        "    Conv2D(64, (3, 3), activation='relu', kernel_regularizer=l2(0.01)),\n",
        "    MaxPooling2D(2, 2),\n",
        "    BatchNormalization(),\n",
        "    Dropout(0.5),\n",
        "\n",
        "    # 4th Convolution layer\n",
        "    Conv2D(128, (3, 3), activation='relu', kernel_regularizer=l2(0.01)),\n",
        "    MaxPooling2D(2, 2),\n",
        "    BatchNormalization(),\n",
        "    Dropout(0.5),\n",
        "\n",
        "    # Flatten the results to feed into a DNN\n",
        "    Flatten(),\n",
        "    Dropout(0.5),\n",
        "\n",
        "    # 512 neuron hidden layer\n",
        "    Dense(512, activation='relu'),\n",
        "    BatchNormalization(),\n",
        "\n",
        "    # Output layer has neurons equal to class_count\n",
        "    Dense(class_count, activation='softmax')\n",
        "])\n",
        "\n",
        "# ------------------------------------------------------------------------\n",
        "# 3️⃣  Compile model\n",
        "# ------------------------------------------------------------------------\n",
        "eg_model.compile(\n",
        "    loss='categorical_crossentropy',\n",
        "    optimizer=Adam(learning_rate=learning_rate),\n",
        "    metrics=['accuracy']\n",
        ")\n",
        "\n",
        "# ------------------------------------------------------------------------\n",
        "# 4️⃣  Create early stopping monitor\n",
        "# ------------------------------------------------------------------------\n",
        "eg_stop_monitor = EarlyStopping(monitor='val_loss',\n",
        "                 min_delta=1e-3, patience=PATIENCE,\n",
        "                 verbose=1, mode='auto',\n",
        "                 restore_best_weights=True)\n",
        "\n",
        "# Print number of classes to be used\n",
        "print(f\"The number of output classes =\",class_count)\n",
        "\n",
        "# Print model summary\n",
        "eg_model.summary()"
      ],
      "metadata": {
        "id": "igrzYQ6lECiS"
      },
      "execution_count": null,
      "outputs": []
    },
    {
      "cell_type": "markdown",
      "source": [
        "If the code is correct you should see something similar to the following output:\n",
        "\n",
        "![__](https://biologicslab.co/BIO1173/images/class_03/class_03_1_image12B.png)\n",
        "\n",
        "\n",
        "**WARNING:** The first line in the output must be `8` for this particular dataset. If the value is `2` it means you have made a mistake by running `Step 7` more than once. When you try to run your model in the next step, it will terminate with an error message."
      ],
      "metadata": {
        "id": "Wq-QSomoEMuK"
      }
    },
    {
      "cell_type": "markdown",
      "source": [
        "### Example Step - 9: Train the Neural Network\n",
        "\n",
        "Training (`model.fit()`) takes the greatest amount of time and computer power. The code in the cell below trains the neural network model on the training data (`eg_X_train`, `eg_Y_train`) and monitors its performance using the validation data (`eg_X_val`, `eg_Y_val`).\n",
        "\n",
        "The two most important variables that you can change is the maximum number of **_epochs_** to train the model and the **_batch size_**. The code in the cell below is set to train the neural network for a maximum of 100 epochs. This is an upper limit since the training includes an _early stopping monitor_ to stop training if overfitting is detected.\n",
        "\n",
        "Here's the summary:\n",
        "\n",
        "* **model.fit(eg_X_train, eg_Y_train, ...):** This is the method to train the model.\n",
        "* **validation_data=(eg_X_val, eg_Y_val):** This is the data the model will use to validate its learning after each epoch (one complete pass through the training data).\n",
        "* **epochs=EPOCHS:** This specifies the number of times the training process will iterate over the entire dataset.\n",
        "* **batch_size=BATCH_SIZE:** This sets the number of samples that will be propagated through the network at once. Smaller batches mean more updates per epoch but higher computation cost. Your GPU or TPU can limit batch xize; larger batches require more memory. In practice, a batch size of 32, 64, of 128 are good places to start.\n",
        "* **steps_per_epoch:** A good value for steps_per_epoch depends on the size of your training dataset and batch size. As a rule of thumb, it’s often set to the total number of training samples divided by the batch size:\n",
        "\n",
        "$$ \\text{steps_per_epoch} = \\frac{\\text{number of training samples}}{\\text{batch size}} $$\n",
        "\n",
        "* in the code below, the `steps_per_batch` is automatically computed with this code chunk:\n",
        "\n",
        "~~~text\n",
        "STEPS_PER_EPOCH = len(eg_X_train) // BATCH_SIZE\n",
        "~~~\n",
        "\n",
        "* **callbacks=[e_stop_monitor]:** This uses a callback function to implement early stopping.\n",
        "\n",
        "The code for the early stopping monitor was included in Example Step 8 above.\n",
        "\n",
        "##### **IMPORTANT NOTICE: Training Time will depends on the GPU**\n",
        "\n",
        "In this lesson we are training a fairly large CNN on a fairly large image dataset. Using a GPU is necessary to shorten train times.\n",
        "\n",
        "The types of GPUs that are available in Colab vary over time. This is necessary for Colab to be able to provide access to these resources free of charge. However, even with a paid subscription, there are limits on how much time you can use any of the GPUs. So you shouldn't automatically change to runtime with a GPU unless there is a compelling reason to do so. Unfortunately, you can't change from a simple CPU to a GPU runtime right before you train your CNN."
      ],
      "metadata": {
        "id": "9CuvngfiEUgB"
      }
    },
    {
      "cell_type": "code",
      "source": [
        "# Example Step - 9: Train the Neural Network\n",
        "\n",
        "import time\n",
        "import tensorflow as tf\n",
        "import numpy as np\n",
        "\n",
        "# ------------------------------------------------------------------------\n",
        "# 1️⃣  Set variables\n",
        "# ------------------------------------------------------------------------\n",
        "EPOCHS = 100\n",
        "BATCH_SIZE = 64\n",
        "VERBOSE=2  # 2 means output during training\n",
        "STEPS_PER_EPOCH = len(eg_X_train) // BATCH_SIZE\n",
        "\n",
        "\n",
        "# ------------------------------------------------------------------------\n",
        "# 2️⃣  Train model\n",
        "# ------------------------------------------------------------------------\n",
        "print(f\"----- Training is starting for {EPOCHS} epochs, batch size: {BATCH_SIZE}, steps per epoch: {STEPS_PER_EPOCH}  --------------\")\n",
        "# Record start time\n",
        "start_time = time.time()\n",
        "\n",
        "# Train model\n",
        "eg_history = eg_model.fit(eg_X_train, eg_Y_train,\n",
        "                    validation_data=(eg_X_val, eg_Y_val),\n",
        "                    epochs=EPOCHS, batch_size=BATCH_SIZE,\n",
        "                    steps_per_epoch=STEPS_PER_EPOCH,\n",
        "                    callbacks=[eg_stop_monitor],\n",
        "                    verbose=VERBOSE\n",
        ")\n",
        "\n",
        "\n",
        "# ---------------------------------------------------------------------------\n",
        "# 9️⃣ Inspect training\n",
        "# ---------------------------------------------------------------------------\n",
        "print(f\"\\nTraining finished.\")\n",
        "print(f\"Best val accuracy: {np.max(eg_history.history['val_accuracy']):.4f}\")\n",
        "# Record end time\n",
        "elapsed_time = time.time() - start_time\n",
        "\n",
        "# Print elapsed time\n",
        "print(f\"Elapsed time: {hms_string(elapsed_time)}\")"
      ],
      "metadata": {
        "id": "7DYJ9n67dB0J"
      },
      "execution_count": null,
      "outputs": []
    },
    {
      "cell_type": "markdown",
      "source": [
        "If the code correct is correct the last part of the output should look something lise this\n",
        "\n",
        "![__](https://biologicslab.co/BIO1173/images/class_03/class_03_1_image05C.png)\n",
        "\n",
        "However, if see this error message\n",
        "\n",
        "![__](https://biologicslab.co/BIO1173/images/class_03/class_03_1_image13B.png)\n",
        "\n",
        "it probably means that you ran the code for `one-hot nncoding` more than once."
      ],
      "metadata": {
        "id": "XHbiXkwldEUw"
      }
    },
    {
      "cell_type": "markdown",
      "source": [
        "## **Evaluating Model's Training**\n",
        "\n",
        "Now that we have trained our model, let's look at how it changed during its training."
      ],
      "metadata": {
        "id": "axjJIaLgEiPg"
      }
    },
    {
      "cell_type": "markdown",
      "source": [
        "### Example Step - 10: Visualize Training\n",
        "\n",
        "The code in the cell below generates a plot of `Accuracy` on the left showing `train`and`val`accuracy for each epoch and a plot `Loss` on the right showing `train`and`val` loss for each epoch."
      ],
      "metadata": {
        "id": "PAvFP6oeeMgm"
      }
    },
    {
      "cell_type": "code",
      "source": [
        "# Example Step - 10: Visualize Training\n",
        "\n",
        "import numpy as np\n",
        "\n",
        "# Show the best validation accuracy\n",
        "best_val_acc = np.max(eg_history.history['val_accuracy'])\n",
        "print(f\"Best validation accuracy: {best_val_acc:.4f}\")\n",
        "\n",
        "# Show the best validation loss\n",
        "best_val_loss = np.min(eg_history.history['val_loss'])\n",
        "print(f\"Best validation loss: {best_val_loss:.4f}\")\n",
        "\n",
        "# Plot training history\n",
        "import matplotlib.pyplot as plt\n",
        "\n",
        "plt.figure(figsize=(12,5))\n",
        "\n",
        "plt.subplot(1,2,1)\n",
        "plt.plot(eg_history.history['accuracy'], label='train')\n",
        "plt.plot(eg_history.history['val_accuracy'], label='val')\n",
        "plt.title('Accuracy')\n",
        "plt.xlabel('Epoch')\n",
        "plt.legend()\n",
        "\n",
        "plt.subplot(1,2,2)\n",
        "plt.plot(eg_history.history['loss'], label='train')\n",
        "plt.plot(eg_history.history['val_loss'], label='val')\n",
        "plt.title('Loss')\n",
        "plt.xlabel('Epoch')\n",
        "plt.legend()\n",
        "\n",
        "plt.show()"
      ],
      "metadata": {
        "id": "ZOqJHATCeAJv"
      },
      "execution_count": null,
      "outputs": []
    },
    {
      "cell_type": "markdown",
      "source": [
        "If the code correct is correct you should see something _similar_ to the following output\n",
        "\n",
        "![__](https://biologicslab.co/BIO1173/images/class_03/class_03_1_image06C.png)\n"
      ],
      "metadata": {
        "id": "IA0DCVixd_xY"
      }
    },
    {
      "cell_type": "markdown",
      "source": [
        "-------------------\n",
        "\n",
        "## **Accuracy and Loss**\n",
        "\n",
        "In training a neural network, `train accuracy` and `val_accuracy` represent different performance metrics:\n",
        "\n",
        "* **`train` Accuracy:** This measures how well the model is performing on the training data. It calculates the percentage of correct predictions out of the total predictions made during training.\n",
        "\n",
        "* **`val` Accuracy:** This measures how well the model is performing on the validation data, which is separate from the training data. It calculates the percentage of correct predictions out of the total predictions made on the validation set. This metric helps you understand how well the model generalizes to new, unseen data.\n",
        "\n",
        "In short, `train accuracy` tells you how well the model is learning from the training data, while `val_accuracy` tells you how well the model is expected to perform on new data.\n",
        "\n",
        "Train vs. Validation Loss\n",
        "Train loss – The loss (e.g., cross‑entropy, MSE, etc.) computed on the training data after each epoch.\n",
        "It tells you how well the model is fitting the data it has seen.\n",
        "\n",
        "Val loss – The loss computed on the validation set (a held‑out portion of the data) after each epoch.\n",
        "It indicates how well the model is generalizing to unseen data.\n",
        "\n",
        "Plotting both curves together is a quick way to spot common training problems:"
      ],
      "metadata": {
        "id": "BIKmmSjH2cxC"
      }
    },
    {
      "cell_type": "markdown",
      "source": [
        "If the code is correct, you should see something similar the following plot:\n",
        "\n",
        "![__](https://biologicslab.co/BIO1173/images/class_03/class_03_1_image16B.png)\n",
        "\n",
        "The accuracy of the model is relatively good! We could save the trained model and use it later to classify images obtained from new patients."
      ],
      "metadata": {
        "id": "0z6QZGh63MyO"
      }
    },
    {
      "cell_type": "markdown",
      "source": [
        "### Example - Step 11: Plot Image with Label\n",
        "\n",
        "The code in the cell below reads the data for one image (image `10`) from the Numpy array `eg_X_test` and its corresponding label from `eg_Y_test`. The code then displays the data as an image with a title showing the blood cell type (`eg_Y_test`)."
      ],
      "metadata": {
        "id": "rzdechwB3SVf"
      }
    },
    {
      "cell_type": "code",
      "source": [
        "# Example - Step 12: Plot image with label\n",
        "\n",
        "import matplotlib.pyplot as plt\n",
        "import numpy as np\n",
        "\n",
        "# Define test image number\n",
        "img_num=10\n",
        "\n",
        "# Read the image data\n",
        "image = eg_X_test[img_num]\n",
        "\n",
        "# Display the image\n",
        "plt.imshow(image)\n",
        "plt.title('Blood cell type ' + str(np.argmax(eg_Y_test[img_num])))\n",
        "plt.axis('off')  # Hide the axis\n",
        "plt.show()"
      ],
      "metadata": {
        "id": "mmNDrS493WpW"
      },
      "execution_count": null,
      "outputs": []
    },
    {
      "cell_type": "markdown",
      "source": [
        "If the code is correct you should see an image of a blood cell. Because the data was shuffled, it is very unlikely that you will see this particular example.\n",
        "\n",
        "![__](https://biologicslab.co/BIO1173/images/class_03/class_03_1_image17B.png)\n",
        "\n",
        "You can easily look at other images by simply changing the image number variable, `img_num`."
      ],
      "metadata": {
        "id": "R_dtrnzI3dpe"
      }
    },
    {
      "cell_type": "markdown",
      "source": [
        "### Example - Step 12: Plot 4 Frames with Label\n",
        "\n",
        "The code in the cell below generates a 2 X 2 plot showing 4 images from the training dataset along with their labels."
      ],
      "metadata": {
        "id": "EleEfZ9O3hGN"
      }
    },
    {
      "cell_type": "code",
      "source": [
        "# Example - Step 12: Plot 4 frames with label\n",
        "\n",
        "import matplotlib.pyplot as plt\n",
        "from mpl_toolkits.axes_grid1 import ImageGrid\n",
        "\n",
        "\n",
        "# Set figure size\n",
        "fig = plt.figure(figsize=(10,10))\n",
        "grid = ImageGrid(\n",
        "        fig, 111,\n",
        "        nrows_ncols=(2,2),\n",
        "        axes_pad=0.5\n",
        ")\n",
        "\n",
        "# Plot 4 images\n",
        "for x in range(0,4):\n",
        "    grid[x].set_title('Blood cell type ' + str(np.argmax(eg_Y_test[x])))\n",
        "    grid[x].imshow(eg_X_test[x])\n"
      ],
      "metadata": {
        "id": "OHs1et5J3g6t"
      },
      "execution_count": null,
      "outputs": []
    },
    {
      "cell_type": "markdown",
      "source": [
        "If the code is correct, you should see something similar to the following:\n",
        "\n",
        "\n",
        "![__](https://biologicslab.co/BIO1173/images/class_03/class_03_1_image18B.png)\n",
        "\n",
        "The figure shows 4 pictures from the `eg_X_test` with their blood cell type shown in the image title. Since the images were randomly shuffled, you will not see the same 4 blood cells."
      ],
      "metadata": {
        "id": "l-8wrGJf3p-u"
      }
    },
    {
      "cell_type": "markdown",
      "source": [
        "# **Exercise: Classification Convolutional Neural Networks**\n",
        "\n",
        "For the **Exercises**, you are to build a CNN classification neural network that can classify 11 different classes of abdominal organs as seen from a saggital view.\n",
        "\n",
        "The classes are:\n",
        "\n",
        "* Liver\n",
        "* Kidney\n",
        "* Pancreas\n",
        "* Spleen\n",
        "* Gallbladder\n",
        "* Stomach\n",
        "* Intestine\n",
        "* Bladder\n",
        "* Colon\n",
        "* Esophagus\n",
        "* Uterus\n",
        "* Prostate\n",
        "\n",
        "![___](https://biologicslab.co/BIO1173/images/class_06/Organ_S_Types.png)\n",
        "Each image is 28 X 28 pixels with no color channels.\n",
        "\n",
        "Your goal will be to create a convolutional neural network (CNN) that can classify an abdominal image into one of these 11 organ types.\n"
      ],
      "metadata": {
        "id": "hckUiwwO3vCV"
      }
    },
    {
      "cell_type": "markdown",
      "source": [
        "### **Exercise Step - 1: Setup Evironmental Variables**\n",
        "\n",
        "In the cell below create the environmental variables needed to download the datafile called `organsmnist.npz` from the course file server and then extract (unzip) the data into a folder called `organsmnist` in your Colab notebook."
      ],
      "metadata": {
        "id": "dq2g7Hd2339M"
      }
    },
    {
      "cell_type": "code",
      "source": [
        "# Insert your code for Exercise Step - 1 here\n",
        "\n"
      ],
      "metadata": {
        "id": "bgu8Y1QC33rM"
      },
      "execution_count": null,
      "outputs": []
    },
    {
      "cell_type": "markdown",
      "source": [
        "If your code is correct, you should see the following output:\n",
        "\n",
        "![__](https://biologicslab.co/BIO1173/images/class_03/class_03_1_image19B.png)\n",
        "\n",
        "Check your output with the expected output above. If there are **_any_** differences, no matter how small, any code you write below will probably not run."
      ],
      "metadata": {
        "id": "i-bFucne32v8"
      }
    },
    {
      "cell_type": "markdown",
      "source": [
        "### **Exercise Step - 2: Download and Extract Data**\n",
        "\n",
        "In the cell below, write the code to download and extract the datafile. You can basically re-use the code in the  `Example Step - 2` but make sure to change the prefix `eg_` to `ex_`."
      ],
      "metadata": {
        "id": "WIPIbLn14EVb"
      }
    },
    {
      "cell_type": "code",
      "source": [
        "# Insert your code for Exercise Step - 2 here\n",
        "\n",
        "\n"
      ],
      "metadata": {
        "id": "cOE-_kPc4EED"
      },
      "execution_count": null,
      "outputs": []
    },
    {
      "cell_type": "markdown",
      "source": [
        "If your code is correct, you should see the following output:\n",
        "\n",
        "![__](https://biologicslab.co/BIO1173/images/class_03/class_03_1_image20B.png)\n",
        "\n",
        "This MedMNIST datafile is much smaller than the one used in Example 1, so downloading and extracting will require significantly less time."
      ],
      "metadata": {
        "id": "oGehrux04D0L"
      }
    },
    {
      "cell_type": "markdown",
      "source": [
        "### **Exercise Step - 3: Load and Shuffle Images and Labels into Numpy arrays**\n",
        "\n",
        "In the cell below use the Numpy command `np.load()` to create 6 numpy arrays containing the `training`, `test` and `validation` images and their labels. Shuffle the data as you \"unpack\" the data into the 6 arrays.  You can basically re-use the code in the  `Example Step - 3` but make sure to change the prefix `eg_` to `ex_`."
      ],
      "metadata": {
        "id": "iPvhRoNk4RDK"
      }
    },
    {
      "cell_type": "code",
      "source": [
        "# Insert your code for Exercise - Step 3 here\n",
        "\n"
      ],
      "metadata": {
        "id": "tE-NE_le4Q0i"
      },
      "execution_count": null,
      "outputs": []
    },
    {
      "cell_type": "markdown",
      "source": [
        "If your code is correct, you should see the following output:\n",
        "\n",
        "![__](https://biologicslab.co/BIO1173/images/class_03/class_03_1_image07C.png)"
      ],
      "metadata": {
        "id": "zWRsQJ2NgwsS"
      }
    },
    {
      "cell_type": "markdown",
      "source": [
        "### **Exercise - Step 4 - Add Color Channel and Resize Images**\n",
        "\n",
        "Write the code need add a color channel (if necessary) and then resize the images (if necessary). You can basically re-use the code in the  `Example Step - 4` but make sure to change the prefix `eg_` to `ex_`."
      ],
      "metadata": {
        "id": "tzwJrO-R4cES"
      }
    },
    {
      "cell_type": "code",
      "source": [
        "# Insert your code for Exercise - Step 4 here\n"
      ],
      "metadata": {
        "id": "1gHqtCT9g8-i"
      },
      "execution_count": null,
      "outputs": []
    },
    {
      "cell_type": "markdown",
      "source": [
        "If your code is correct you should see the following output\n",
        "\n",
        "![__](https://biologicslab.co/BIO1173/images/class_03/class_03_1_image08C.png)\n",
        "\n",
        "Since this datafile did not have a color channel, the code in the cell above added one making the images \"grayscale\" instead of color.\n",
        "\n",
        "Also, the images were rather small, only 28 X 28 pixels, when they were downloaded. The code in the cell above used the function\n",
        "\n",
        "~~~text\n",
        " eg_X_train_resized = np.array([tf.image.resize(img, (64, 64)).numpy() for img in eg_X_train])\n",
        "~~~\n",
        "\n",
        "to resize the images in the training, test and validation sets to 64x64 pixels."
      ],
      "metadata": {
        "id": "M6m0ypgxiRx8"
      }
    },
    {
      "cell_type": "markdown",
      "source": [
        "### **Exercise - Step 5: Check Available Memory**\n",
        "\n",
        "Write the code need to check the available system memory."
      ],
      "metadata": {
        "id": "zgcWpW36g9o0"
      }
    },
    {
      "cell_type": "code",
      "source": [
        "# Insert your code for Example - Step 5 here\n"
      ],
      "metadata": {
        "id": "k5UrgYWU4bhi"
      },
      "execution_count": null,
      "outputs": []
    },
    {
      "cell_type": "markdown",
      "source": [
        "If your code is correct and you are using the `A100 GPU`, you should see the following output:\n",
        "\n",
        "![__](https://biologicslab.co/BIO1173/images/class_03/class_03_1_image23B.png)\n",
        "\n",
        "If you are using a different GPU you will see different values.\n"
      ],
      "metadata": {
        "id": "cx7Nm2jB4h2a"
      }
    },
    {
      "cell_type": "markdown",
      "source": [
        "### **Exercise - Step 6: Augment Train Image Set**\n",
        "\n",
        "In the cell below, write the code needed to augment the train image set (`ex_X_train`) if there is sufficient memory available."
      ],
      "metadata": {
        "id": "SxjANfuB4mOZ"
      }
    },
    {
      "cell_type": "code",
      "source": [
        "# Insert your code for Example - Step 6 here\n",
        "\n"
      ],
      "metadata": {
        "id": "rFQ1mioz4l8q"
      },
      "execution_count": null,
      "outputs": []
    },
    {
      "cell_type": "markdown",
      "source": [
        "If your code is correct you should see the following output:\n",
        "\n",
        "![__](https://biologicslab.co/BIO1173/images/class_03/class_03_1_image09C.png)\n",
        "\n",
        "If you are not using a `A100 GPU` you might see different values and you may not have enough memory to augment the training data."
      ],
      "metadata": {
        "id": "XAoMAnYE4lpZ"
      }
    },
    {
      "cell_type": "markdown",
      "source": [
        "### **Exercise Step - 7: One-Hot Encode Labels**\n",
        "\n",
        "In the cell below, use the Keras function `to_categorical()` to one-hot encode the label information for your training, testing and validation images. You can basically re-use the code in the  `Example Step - 7` but make sure to change the prefix `eg_` to `ex_`."
      ],
      "metadata": {
        "id": "xBBo7z0_45Q4"
      }
    },
    {
      "cell_type": "code",
      "source": [
        "# Insert your code for Example Step - 7 here\n"
      ],
      "metadata": {
        "id": "Oa8kyIpT45Fg"
      },
      "execution_count": null,
      "outputs": []
    },
    {
      "cell_type": "markdown",
      "source": [
        "If your code is correct you should see the following output:\n",
        "\n",
        "![__](https://biologicslab.co/BIO1173/images/class_03/class_03_1_image10C.png)"
      ],
      "metadata": {
        "id": "G9cuLHsJ4465"
      }
    },
    {
      "cell_type": "markdown",
      "source": [
        "**WARNING:**  If there are 3 numbers for the `shape` values, it means you have One-Hot encoded the data twice. You need to go back to **Exercise - Step 1** and rerun all of your code cells."
      ],
      "metadata": {
        "id": "bxYC74ML5H2f"
      }
    },
    {
      "cell_type": "markdown",
      "source": [
        "### **Exercise Step - 8: Create and Compile CNN neural network model**\n",
        "\n",
        "In the cell below, build a convolutional Neural Network (CNN) model to classify the 11 different abdominal organs as seen in a saggital view. Make sure to set the `input_dim` to `(64,64,1)`. Call your model `ex_model`. You can basically re-use the code in the  `Example Step - 8` but make sure to change the prefix `eg_` to `ex_`."
      ],
      "metadata": {
        "id": "Qp-lWtBu5PBv"
      }
    },
    {
      "cell_type": "code",
      "source": [
        "# Insert your code for Exercise Step - 8 here\n",
        "\n",
        "# ------------------------------------------------------------------------\n",
        "# 0️⃣  Load packages\n",
        "# ------------------------------------------------------------------------\n",
        "from tensorflow.keras.models import Sequential\n",
        "from tensorflow.keras.layers import Conv2D, MaxPooling2D, Flatten, Dense, Dropout, BatchNormalization, Input\n",
        "from tensorflow.keras.utils import to_categorical\n",
        "from keras.callbacks import EarlyStopping\n",
        "from tensorflow.keras.optimizers import Adam\n",
        "from tensorflow.keras.regularizers import l2\n",
        "import numpy as np\n",
        "\n",
        "\n",
        "# ------------------------------------------------------------------------\n",
        "# 1️⃣  Define variables\n",
        "# ------------------------------------------------------------------------\n",
        "# Define input_dim: Must be the pixel size of your images\n",
        "input_dim = (64, 64, 1)\n",
        "\n",
        "# Sete learning rate\n",
        "learning_rate = 0.001\n",
        "\n",
        "# Set Persistance\n",
        "PATIENCE=10\n",
        "\n",
        "# ------------------------------------------------------------------------\n",
        "# 2️⃣  Create CNN model\n",
        "# ------------------------------------------------------------------------\n",
        "ex_model = Sequential([\n",
        "    # Input Layer\n",
        "    Input(shape=input_dim),\n",
        "\n",
        "    # 1st Convolution layer\n",
        "    Conv2D(16, (3, 3), activation='relu', kernel_regularizer=l2(0.01)),\n",
        "    MaxPooling2D(2, 2),\n",
        "    BatchNormalization(),\n",
        "\n",
        "    # 2nd Convolution layer\n",
        "    Conv2D(32, (3, 3), activation='relu', kernel_regularizer=l2(0.01)),\n",
        "    MaxPooling2D(2, 2),\n",
        "    BatchNormalization(),\n",
        "    Dropout(0.5),\n",
        "\n",
        "    # 3rd Convolution layer\n",
        "    Conv2D(64, (3, 3), activation='relu', kernel_regularizer=l2(0.01)),\n",
        "    MaxPooling2D(2, 2),\n",
        "    BatchNormalization(),\n",
        "    Dropout(0.5),\n",
        "\n",
        "    # 4th Convolution layer\n",
        "    Conv2D(128, (3, 3), activation='relu', kernel_regularizer=l2(0.01)),\n",
        "    MaxPooling2D(2, 2),\n",
        "    BatchNormalization(),\n",
        "    Dropout(0.5),\n",
        "\n",
        "    # Flatten the results to feed into a DNN\n",
        "    Flatten(),\n",
        "    Dropout(0.5),\n",
        "\n",
        "    # 512 neuron hidden layer\n",
        "    Dense(512, activation='relu'),\n",
        "    BatchNormalization(),\n",
        "\n",
        "    # Output layer has neurons equal to class_count\n",
        "    Dense(class_count, activation='softmax')\n",
        "])\n",
        "\n",
        "# ------------------------------------------------------------------------\n",
        "# 3️⃣  Compile model\n",
        "# ------------------------------------------------------------------------\n",
        "ex_model.compile(\n",
        "    loss='categorical_crossentropy',\n",
        "    optimizer=Adam(learning_rate=learning_rate),\n",
        "    metrics=['accuracy']\n",
        ")\n",
        "\n",
        "# ------------------------------------------------------------------------\n",
        "# 4️⃣  Create early stopping monitor\n",
        "# ------------------------------------------------------------------------\n",
        "ex_stop_monitor = EarlyStopping(monitor='val_loss',\n",
        "                 min_delta=1e-3, patience=PATIENCE,\n",
        "                 verbose=1, mode='auto',\n",
        "                 restore_best_weights=True)\n",
        "\n",
        "# Print number of classes to be used\n",
        "print(f\"The number of output classes =\",class_count)\n",
        "\n",
        "# Print model summary\n",
        "ex_model.summary()"
      ],
      "metadata": {
        "id": "lNSSVupP5Ow3",
        "colab": {
          "base_uri": "https://localhost:8080/",
          "height": 872
        },
        "outputId": "fd13ede9-6278-456b-ddaf-a5eab2039e95"
      },
      "execution_count": null,
      "outputs": [
        {
          "output_type": "stream",
          "name": "stdout",
          "text": [
            "The number of output classes = 11\n"
          ]
        },
        {
          "output_type": "display_data",
          "data": {
            "text/plain": [
              "\u001b[1mModel: \"sequential_1\"\u001b[0m\n"
            ],
            "text/html": [
              "<pre style=\"white-space:pre;overflow-x:auto;line-height:normal;font-family:Menlo,'DejaVu Sans Mono',consolas,'Courier New',monospace\"><span style=\"font-weight: bold\">Model: \"sequential_1\"</span>\n",
              "</pre>\n"
            ]
          },
          "metadata": {}
        },
        {
          "output_type": "display_data",
          "data": {
            "text/plain": [
              "┏━━━━━━━━━━━━━━━━━━━━━━━━━━━━━━━━━┳━━━━━━━━━━━━━━━━━━━━━━━━┳━━━━━━━━━━━━━━━┓\n",
              "┃\u001b[1m \u001b[0m\u001b[1mLayer (type)                   \u001b[0m\u001b[1m \u001b[0m┃\u001b[1m \u001b[0m\u001b[1mOutput Shape          \u001b[0m\u001b[1m \u001b[0m┃\u001b[1m \u001b[0m\u001b[1m      Param #\u001b[0m\u001b[1m \u001b[0m┃\n",
              "┡━━━━━━━━━━━━━━━━━━━━━━━━━━━━━━━━━╇━━━━━━━━━━━━━━━━━━━━━━━━╇━━━━━━━━━━━━━━━┩\n",
              "│ conv2d_4 (\u001b[38;5;33mConv2D\u001b[0m)               │ (\u001b[38;5;45mNone\u001b[0m, \u001b[38;5;34m62\u001b[0m, \u001b[38;5;34m62\u001b[0m, \u001b[38;5;34m16\u001b[0m)     │           \u001b[38;5;34m160\u001b[0m │\n",
              "├─────────────────────────────────┼────────────────────────┼───────────────┤\n",
              "│ max_pooling2d_4 (\u001b[38;5;33mMaxPooling2D\u001b[0m)  │ (\u001b[38;5;45mNone\u001b[0m, \u001b[38;5;34m31\u001b[0m, \u001b[38;5;34m31\u001b[0m, \u001b[38;5;34m16\u001b[0m)     │             \u001b[38;5;34m0\u001b[0m │\n",
              "├─────────────────────────────────┼────────────────────────┼───────────────┤\n",
              "│ batch_normalization_5           │ (\u001b[38;5;45mNone\u001b[0m, \u001b[38;5;34m31\u001b[0m, \u001b[38;5;34m31\u001b[0m, \u001b[38;5;34m16\u001b[0m)     │            \u001b[38;5;34m64\u001b[0m │\n",
              "│ (\u001b[38;5;33mBatchNormalization\u001b[0m)            │                        │               │\n",
              "├─────────────────────────────────┼────────────────────────┼───────────────┤\n",
              "│ conv2d_5 (\u001b[38;5;33mConv2D\u001b[0m)               │ (\u001b[38;5;45mNone\u001b[0m, \u001b[38;5;34m29\u001b[0m, \u001b[38;5;34m29\u001b[0m, \u001b[38;5;34m32\u001b[0m)     │         \u001b[38;5;34m4,640\u001b[0m │\n",
              "├─────────────────────────────────┼────────────────────────┼───────────────┤\n",
              "│ max_pooling2d_5 (\u001b[38;5;33mMaxPooling2D\u001b[0m)  │ (\u001b[38;5;45mNone\u001b[0m, \u001b[38;5;34m14\u001b[0m, \u001b[38;5;34m14\u001b[0m, \u001b[38;5;34m32\u001b[0m)     │             \u001b[38;5;34m0\u001b[0m │\n",
              "├─────────────────────────────────┼────────────────────────┼───────────────┤\n",
              "│ batch_normalization_6           │ (\u001b[38;5;45mNone\u001b[0m, \u001b[38;5;34m14\u001b[0m, \u001b[38;5;34m14\u001b[0m, \u001b[38;5;34m32\u001b[0m)     │           \u001b[38;5;34m128\u001b[0m │\n",
              "│ (\u001b[38;5;33mBatchNormalization\u001b[0m)            │                        │               │\n",
              "├─────────────────────────────────┼────────────────────────┼───────────────┤\n",
              "│ dropout_4 (\u001b[38;5;33mDropout\u001b[0m)             │ (\u001b[38;5;45mNone\u001b[0m, \u001b[38;5;34m14\u001b[0m, \u001b[38;5;34m14\u001b[0m, \u001b[38;5;34m32\u001b[0m)     │             \u001b[38;5;34m0\u001b[0m │\n",
              "├─────────────────────────────────┼────────────────────────┼───────────────┤\n",
              "│ conv2d_6 (\u001b[38;5;33mConv2D\u001b[0m)               │ (\u001b[38;5;45mNone\u001b[0m, \u001b[38;5;34m12\u001b[0m, \u001b[38;5;34m12\u001b[0m, \u001b[38;5;34m64\u001b[0m)     │        \u001b[38;5;34m18,496\u001b[0m │\n",
              "├─────────────────────────────────┼────────────────────────┼───────────────┤\n",
              "│ max_pooling2d_6 (\u001b[38;5;33mMaxPooling2D\u001b[0m)  │ (\u001b[38;5;45mNone\u001b[0m, \u001b[38;5;34m6\u001b[0m, \u001b[38;5;34m6\u001b[0m, \u001b[38;5;34m64\u001b[0m)       │             \u001b[38;5;34m0\u001b[0m │\n",
              "├─────────────────────────────────┼────────────────────────┼───────────────┤\n",
              "│ batch_normalization_7           │ (\u001b[38;5;45mNone\u001b[0m, \u001b[38;5;34m6\u001b[0m, \u001b[38;5;34m6\u001b[0m, \u001b[38;5;34m64\u001b[0m)       │           \u001b[38;5;34m256\u001b[0m │\n",
              "│ (\u001b[38;5;33mBatchNormalization\u001b[0m)            │                        │               │\n",
              "├─────────────────────────────────┼────────────────────────┼───────────────┤\n",
              "│ dropout_5 (\u001b[38;5;33mDropout\u001b[0m)             │ (\u001b[38;5;45mNone\u001b[0m, \u001b[38;5;34m6\u001b[0m, \u001b[38;5;34m6\u001b[0m, \u001b[38;5;34m64\u001b[0m)       │             \u001b[38;5;34m0\u001b[0m │\n",
              "├─────────────────────────────────┼────────────────────────┼───────────────┤\n",
              "│ conv2d_7 (\u001b[38;5;33mConv2D\u001b[0m)               │ (\u001b[38;5;45mNone\u001b[0m, \u001b[38;5;34m4\u001b[0m, \u001b[38;5;34m4\u001b[0m, \u001b[38;5;34m128\u001b[0m)      │        \u001b[38;5;34m73,856\u001b[0m │\n",
              "├─────────────────────────────────┼────────────────────────┼───────────────┤\n",
              "│ max_pooling2d_7 (\u001b[38;5;33mMaxPooling2D\u001b[0m)  │ (\u001b[38;5;45mNone\u001b[0m, \u001b[38;5;34m2\u001b[0m, \u001b[38;5;34m2\u001b[0m, \u001b[38;5;34m128\u001b[0m)      │             \u001b[38;5;34m0\u001b[0m │\n",
              "├─────────────────────────────────┼────────────────────────┼───────────────┤\n",
              "│ batch_normalization_8           │ (\u001b[38;5;45mNone\u001b[0m, \u001b[38;5;34m2\u001b[0m, \u001b[38;5;34m2\u001b[0m, \u001b[38;5;34m128\u001b[0m)      │           \u001b[38;5;34m512\u001b[0m │\n",
              "│ (\u001b[38;5;33mBatchNormalization\u001b[0m)            │                        │               │\n",
              "├─────────────────────────────────┼────────────────────────┼───────────────┤\n",
              "│ dropout_6 (\u001b[38;5;33mDropout\u001b[0m)             │ (\u001b[38;5;45mNone\u001b[0m, \u001b[38;5;34m2\u001b[0m, \u001b[38;5;34m2\u001b[0m, \u001b[38;5;34m128\u001b[0m)      │             \u001b[38;5;34m0\u001b[0m │\n",
              "├─────────────────────────────────┼────────────────────────┼───────────────┤\n",
              "│ flatten_1 (\u001b[38;5;33mFlatten\u001b[0m)             │ (\u001b[38;5;45mNone\u001b[0m, \u001b[38;5;34m512\u001b[0m)            │             \u001b[38;5;34m0\u001b[0m │\n",
              "├─────────────────────────────────┼────────────────────────┼───────────────┤\n",
              "│ dropout_7 (\u001b[38;5;33mDropout\u001b[0m)             │ (\u001b[38;5;45mNone\u001b[0m, \u001b[38;5;34m512\u001b[0m)            │             \u001b[38;5;34m0\u001b[0m │\n",
              "├─────────────────────────────────┼────────────────────────┼───────────────┤\n",
              "│ dense_2 (\u001b[38;5;33mDense\u001b[0m)                 │ (\u001b[38;5;45mNone\u001b[0m, \u001b[38;5;34m512\u001b[0m)            │       \u001b[38;5;34m262,656\u001b[0m │\n",
              "├─────────────────────────────────┼────────────────────────┼───────────────┤\n",
              "│ batch_normalization_9           │ (\u001b[38;5;45mNone\u001b[0m, \u001b[38;5;34m512\u001b[0m)            │         \u001b[38;5;34m2,048\u001b[0m │\n",
              "│ (\u001b[38;5;33mBatchNormalization\u001b[0m)            │                        │               │\n",
              "├─────────────────────────────────┼────────────────────────┼───────────────┤\n",
              "│ dense_3 (\u001b[38;5;33mDense\u001b[0m)                 │ (\u001b[38;5;45mNone\u001b[0m, \u001b[38;5;34m11\u001b[0m)             │         \u001b[38;5;34m5,643\u001b[0m │\n",
              "└─────────────────────────────────┴────────────────────────┴───────────────┘\n"
            ],
            "text/html": [
              "<pre style=\"white-space:pre;overflow-x:auto;line-height:normal;font-family:Menlo,'DejaVu Sans Mono',consolas,'Courier New',monospace\">┏━━━━━━━━━━━━━━━━━━━━━━━━━━━━━━━━━┳━━━━━━━━━━━━━━━━━━━━━━━━┳━━━━━━━━━━━━━━━┓\n",
              "┃<span style=\"font-weight: bold\"> Layer (type)                    </span>┃<span style=\"font-weight: bold\"> Output Shape           </span>┃<span style=\"font-weight: bold\">       Param # </span>┃\n",
              "┡━━━━━━━━━━━━━━━━━━━━━━━━━━━━━━━━━╇━━━━━━━━━━━━━━━━━━━━━━━━╇━━━━━━━━━━━━━━━┩\n",
              "│ conv2d_4 (<span style=\"color: #0087ff; text-decoration-color: #0087ff\">Conv2D</span>)               │ (<span style=\"color: #00d7ff; text-decoration-color: #00d7ff\">None</span>, <span style=\"color: #00af00; text-decoration-color: #00af00\">62</span>, <span style=\"color: #00af00; text-decoration-color: #00af00\">62</span>, <span style=\"color: #00af00; text-decoration-color: #00af00\">16</span>)     │           <span style=\"color: #00af00; text-decoration-color: #00af00\">160</span> │\n",
              "├─────────────────────────────────┼────────────────────────┼───────────────┤\n",
              "│ max_pooling2d_4 (<span style=\"color: #0087ff; text-decoration-color: #0087ff\">MaxPooling2D</span>)  │ (<span style=\"color: #00d7ff; text-decoration-color: #00d7ff\">None</span>, <span style=\"color: #00af00; text-decoration-color: #00af00\">31</span>, <span style=\"color: #00af00; text-decoration-color: #00af00\">31</span>, <span style=\"color: #00af00; text-decoration-color: #00af00\">16</span>)     │             <span style=\"color: #00af00; text-decoration-color: #00af00\">0</span> │\n",
              "├─────────────────────────────────┼────────────────────────┼───────────────┤\n",
              "│ batch_normalization_5           │ (<span style=\"color: #00d7ff; text-decoration-color: #00d7ff\">None</span>, <span style=\"color: #00af00; text-decoration-color: #00af00\">31</span>, <span style=\"color: #00af00; text-decoration-color: #00af00\">31</span>, <span style=\"color: #00af00; text-decoration-color: #00af00\">16</span>)     │            <span style=\"color: #00af00; text-decoration-color: #00af00\">64</span> │\n",
              "│ (<span style=\"color: #0087ff; text-decoration-color: #0087ff\">BatchNormalization</span>)            │                        │               │\n",
              "├─────────────────────────────────┼────────────────────────┼───────────────┤\n",
              "│ conv2d_5 (<span style=\"color: #0087ff; text-decoration-color: #0087ff\">Conv2D</span>)               │ (<span style=\"color: #00d7ff; text-decoration-color: #00d7ff\">None</span>, <span style=\"color: #00af00; text-decoration-color: #00af00\">29</span>, <span style=\"color: #00af00; text-decoration-color: #00af00\">29</span>, <span style=\"color: #00af00; text-decoration-color: #00af00\">32</span>)     │         <span style=\"color: #00af00; text-decoration-color: #00af00\">4,640</span> │\n",
              "├─────────────────────────────────┼────────────────────────┼───────────────┤\n",
              "│ max_pooling2d_5 (<span style=\"color: #0087ff; text-decoration-color: #0087ff\">MaxPooling2D</span>)  │ (<span style=\"color: #00d7ff; text-decoration-color: #00d7ff\">None</span>, <span style=\"color: #00af00; text-decoration-color: #00af00\">14</span>, <span style=\"color: #00af00; text-decoration-color: #00af00\">14</span>, <span style=\"color: #00af00; text-decoration-color: #00af00\">32</span>)     │             <span style=\"color: #00af00; text-decoration-color: #00af00\">0</span> │\n",
              "├─────────────────────────────────┼────────────────────────┼───────────────┤\n",
              "│ batch_normalization_6           │ (<span style=\"color: #00d7ff; text-decoration-color: #00d7ff\">None</span>, <span style=\"color: #00af00; text-decoration-color: #00af00\">14</span>, <span style=\"color: #00af00; text-decoration-color: #00af00\">14</span>, <span style=\"color: #00af00; text-decoration-color: #00af00\">32</span>)     │           <span style=\"color: #00af00; text-decoration-color: #00af00\">128</span> │\n",
              "│ (<span style=\"color: #0087ff; text-decoration-color: #0087ff\">BatchNormalization</span>)            │                        │               │\n",
              "├─────────────────────────────────┼────────────────────────┼───────────────┤\n",
              "│ dropout_4 (<span style=\"color: #0087ff; text-decoration-color: #0087ff\">Dropout</span>)             │ (<span style=\"color: #00d7ff; text-decoration-color: #00d7ff\">None</span>, <span style=\"color: #00af00; text-decoration-color: #00af00\">14</span>, <span style=\"color: #00af00; text-decoration-color: #00af00\">14</span>, <span style=\"color: #00af00; text-decoration-color: #00af00\">32</span>)     │             <span style=\"color: #00af00; text-decoration-color: #00af00\">0</span> │\n",
              "├─────────────────────────────────┼────────────────────────┼───────────────┤\n",
              "│ conv2d_6 (<span style=\"color: #0087ff; text-decoration-color: #0087ff\">Conv2D</span>)               │ (<span style=\"color: #00d7ff; text-decoration-color: #00d7ff\">None</span>, <span style=\"color: #00af00; text-decoration-color: #00af00\">12</span>, <span style=\"color: #00af00; text-decoration-color: #00af00\">12</span>, <span style=\"color: #00af00; text-decoration-color: #00af00\">64</span>)     │        <span style=\"color: #00af00; text-decoration-color: #00af00\">18,496</span> │\n",
              "├─────────────────────────────────┼────────────────────────┼───────────────┤\n",
              "│ max_pooling2d_6 (<span style=\"color: #0087ff; text-decoration-color: #0087ff\">MaxPooling2D</span>)  │ (<span style=\"color: #00d7ff; text-decoration-color: #00d7ff\">None</span>, <span style=\"color: #00af00; text-decoration-color: #00af00\">6</span>, <span style=\"color: #00af00; text-decoration-color: #00af00\">6</span>, <span style=\"color: #00af00; text-decoration-color: #00af00\">64</span>)       │             <span style=\"color: #00af00; text-decoration-color: #00af00\">0</span> │\n",
              "├─────────────────────────────────┼────────────────────────┼───────────────┤\n",
              "│ batch_normalization_7           │ (<span style=\"color: #00d7ff; text-decoration-color: #00d7ff\">None</span>, <span style=\"color: #00af00; text-decoration-color: #00af00\">6</span>, <span style=\"color: #00af00; text-decoration-color: #00af00\">6</span>, <span style=\"color: #00af00; text-decoration-color: #00af00\">64</span>)       │           <span style=\"color: #00af00; text-decoration-color: #00af00\">256</span> │\n",
              "│ (<span style=\"color: #0087ff; text-decoration-color: #0087ff\">BatchNormalization</span>)            │                        │               │\n",
              "├─────────────────────────────────┼────────────────────────┼───────────────┤\n",
              "│ dropout_5 (<span style=\"color: #0087ff; text-decoration-color: #0087ff\">Dropout</span>)             │ (<span style=\"color: #00d7ff; text-decoration-color: #00d7ff\">None</span>, <span style=\"color: #00af00; text-decoration-color: #00af00\">6</span>, <span style=\"color: #00af00; text-decoration-color: #00af00\">6</span>, <span style=\"color: #00af00; text-decoration-color: #00af00\">64</span>)       │             <span style=\"color: #00af00; text-decoration-color: #00af00\">0</span> │\n",
              "├─────────────────────────────────┼────────────────────────┼───────────────┤\n",
              "│ conv2d_7 (<span style=\"color: #0087ff; text-decoration-color: #0087ff\">Conv2D</span>)               │ (<span style=\"color: #00d7ff; text-decoration-color: #00d7ff\">None</span>, <span style=\"color: #00af00; text-decoration-color: #00af00\">4</span>, <span style=\"color: #00af00; text-decoration-color: #00af00\">4</span>, <span style=\"color: #00af00; text-decoration-color: #00af00\">128</span>)      │        <span style=\"color: #00af00; text-decoration-color: #00af00\">73,856</span> │\n",
              "├─────────────────────────────────┼────────────────────────┼───────────────┤\n",
              "│ max_pooling2d_7 (<span style=\"color: #0087ff; text-decoration-color: #0087ff\">MaxPooling2D</span>)  │ (<span style=\"color: #00d7ff; text-decoration-color: #00d7ff\">None</span>, <span style=\"color: #00af00; text-decoration-color: #00af00\">2</span>, <span style=\"color: #00af00; text-decoration-color: #00af00\">2</span>, <span style=\"color: #00af00; text-decoration-color: #00af00\">128</span>)      │             <span style=\"color: #00af00; text-decoration-color: #00af00\">0</span> │\n",
              "├─────────────────────────────────┼────────────────────────┼───────────────┤\n",
              "│ batch_normalization_8           │ (<span style=\"color: #00d7ff; text-decoration-color: #00d7ff\">None</span>, <span style=\"color: #00af00; text-decoration-color: #00af00\">2</span>, <span style=\"color: #00af00; text-decoration-color: #00af00\">2</span>, <span style=\"color: #00af00; text-decoration-color: #00af00\">128</span>)      │           <span style=\"color: #00af00; text-decoration-color: #00af00\">512</span> │\n",
              "│ (<span style=\"color: #0087ff; text-decoration-color: #0087ff\">BatchNormalization</span>)            │                        │               │\n",
              "├─────────────────────────────────┼────────────────────────┼───────────────┤\n",
              "│ dropout_6 (<span style=\"color: #0087ff; text-decoration-color: #0087ff\">Dropout</span>)             │ (<span style=\"color: #00d7ff; text-decoration-color: #00d7ff\">None</span>, <span style=\"color: #00af00; text-decoration-color: #00af00\">2</span>, <span style=\"color: #00af00; text-decoration-color: #00af00\">2</span>, <span style=\"color: #00af00; text-decoration-color: #00af00\">128</span>)      │             <span style=\"color: #00af00; text-decoration-color: #00af00\">0</span> │\n",
              "├─────────────────────────────────┼────────────────────────┼───────────────┤\n",
              "│ flatten_1 (<span style=\"color: #0087ff; text-decoration-color: #0087ff\">Flatten</span>)             │ (<span style=\"color: #00d7ff; text-decoration-color: #00d7ff\">None</span>, <span style=\"color: #00af00; text-decoration-color: #00af00\">512</span>)            │             <span style=\"color: #00af00; text-decoration-color: #00af00\">0</span> │\n",
              "├─────────────────────────────────┼────────────────────────┼───────────────┤\n",
              "│ dropout_7 (<span style=\"color: #0087ff; text-decoration-color: #0087ff\">Dropout</span>)             │ (<span style=\"color: #00d7ff; text-decoration-color: #00d7ff\">None</span>, <span style=\"color: #00af00; text-decoration-color: #00af00\">512</span>)            │             <span style=\"color: #00af00; text-decoration-color: #00af00\">0</span> │\n",
              "├─────────────────────────────────┼────────────────────────┼───────────────┤\n",
              "│ dense_2 (<span style=\"color: #0087ff; text-decoration-color: #0087ff\">Dense</span>)                 │ (<span style=\"color: #00d7ff; text-decoration-color: #00d7ff\">None</span>, <span style=\"color: #00af00; text-decoration-color: #00af00\">512</span>)            │       <span style=\"color: #00af00; text-decoration-color: #00af00\">262,656</span> │\n",
              "├─────────────────────────────────┼────────────────────────┼───────────────┤\n",
              "│ batch_normalization_9           │ (<span style=\"color: #00d7ff; text-decoration-color: #00d7ff\">None</span>, <span style=\"color: #00af00; text-decoration-color: #00af00\">512</span>)            │         <span style=\"color: #00af00; text-decoration-color: #00af00\">2,048</span> │\n",
              "│ (<span style=\"color: #0087ff; text-decoration-color: #0087ff\">BatchNormalization</span>)            │                        │               │\n",
              "├─────────────────────────────────┼────────────────────────┼───────────────┤\n",
              "│ dense_3 (<span style=\"color: #0087ff; text-decoration-color: #0087ff\">Dense</span>)                 │ (<span style=\"color: #00d7ff; text-decoration-color: #00d7ff\">None</span>, <span style=\"color: #00af00; text-decoration-color: #00af00\">11</span>)             │         <span style=\"color: #00af00; text-decoration-color: #00af00\">5,643</span> │\n",
              "└─────────────────────────────────┴────────────────────────┴───────────────┘\n",
              "</pre>\n"
            ]
          },
          "metadata": {}
        },
        {
          "output_type": "display_data",
          "data": {
            "text/plain": [
              "\u001b[1m Total params: \u001b[0m\u001b[38;5;34m368,459\u001b[0m (1.41 MB)\n"
            ],
            "text/html": [
              "<pre style=\"white-space:pre;overflow-x:auto;line-height:normal;font-family:Menlo,'DejaVu Sans Mono',consolas,'Courier New',monospace\"><span style=\"font-weight: bold\"> Total params: </span><span style=\"color: #00af00; text-decoration-color: #00af00\">368,459</span> (1.41 MB)\n",
              "</pre>\n"
            ]
          },
          "metadata": {}
        },
        {
          "output_type": "display_data",
          "data": {
            "text/plain": [
              "\u001b[1m Trainable params: \u001b[0m\u001b[38;5;34m366,955\u001b[0m (1.40 MB)\n"
            ],
            "text/html": [
              "<pre style=\"white-space:pre;overflow-x:auto;line-height:normal;font-family:Menlo,'DejaVu Sans Mono',consolas,'Courier New',monospace\"><span style=\"font-weight: bold\"> Trainable params: </span><span style=\"color: #00af00; text-decoration-color: #00af00\">366,955</span> (1.40 MB)\n",
              "</pre>\n"
            ]
          },
          "metadata": {}
        },
        {
          "output_type": "display_data",
          "data": {
            "text/plain": [
              "\u001b[1m Non-trainable params: \u001b[0m\u001b[38;5;34m1,504\u001b[0m (5.88 KB)\n"
            ],
            "text/html": [
              "<pre style=\"white-space:pre;overflow-x:auto;line-height:normal;font-family:Menlo,'DejaVu Sans Mono',consolas,'Courier New',monospace\"><span style=\"font-weight: bold\"> Non-trainable params: </span><span style=\"color: #00af00; text-decoration-color: #00af00\">1,504</span> (5.88 KB)\n",
              "</pre>\n"
            ]
          },
          "metadata": {}
        }
      ]
    },
    {
      "cell_type": "markdown",
      "source": [
        "If your code is correct you should see the following output:\n",
        "\n",
        "![__](https://biologicslab.co/BIO1173/images/class_03/class_03_1_image26B.png)\n",
        "\n",
        "**WARNING:** Make sure the first line of the output reads:\n",
        "~~~text\n",
        "The number of output classes = 11\n",
        "~~~\n",
        "\n",
        "If the number is not `11` it probably means that you have run the code for `One Hot Encoding` (**Exercise - Step 7**) more than once. You will need to rerun all of your code starting at the **Exercise - Step 1**."
      ],
      "metadata": {
        "id": "72aIHhi15Ocn"
      }
    },
    {
      "cell_type": "markdown",
      "source": [
        "### **Exercise Step - 9: Train the Neural Network**\n",
        "\n",
        "In the cell below, train your neural network. Set the number of epochs to `100`, and the batch size to `64`."
      ],
      "metadata": {
        "id": "9QowgMvz5Xvn"
      }
    },
    {
      "cell_type": "code",
      "source": [
        "# Insert your code for Exercise Step - 9 here\n",
        "\n",
        "import time\n",
        "import tensorflow as tf\n",
        "import numpy as np\n",
        "\n",
        "# ------------------------------------------------------------------------\n",
        "# 1️⃣  Set variables\n",
        "# ------------------------------------------------------------------------\n",
        "EPOCHS = 100\n",
        "BATCH_SIZE = 64\n",
        "VERBOSE=2  # 2 means output during training\n",
        "STEPS_PER_EPOCH = len(eg_X_train) // BATCH_SIZE\n",
        "\n",
        "\n",
        "# ------------------------------------------------------------------------\n",
        "# 2️⃣  Train model\n",
        "# ------------------------------------------------------------------------\n",
        "print(f\"----- Training is starting for {EPOCHS} epochs, batch size: {BATCH_SIZE}, steps per epoch: {STEPS_PER_EPOCH}  --------------\")\n",
        "# Record start time\n",
        "start_time = time.time()\n",
        "\n",
        "# Train model\n",
        "ex_history = ex_model.fit(ex_X_train, ex_Y_train,\n",
        "                    validation_data=(ex_X_val, ex_Y_val),\n",
        "                    epochs=EPOCHS, batch_size=BATCH_SIZE,\n",
        "                    steps_per_epoch=STEPS_PER_EPOCH,\n",
        "                    callbacks=[eg_stop_monitor],\n",
        "                    verbose=VERBOSE\n",
        ")\n",
        "\n",
        "\n",
        "# ---------------------------------------------------------------------------\n",
        "# 9️⃣ Inspect training\n",
        "# ---------------------------------------------------------------------------\n",
        "print(f\"\\nTraining finished.\")\n",
        "print(f\"Best val accuracy: {np.max(ex_history.history['val_accuracy']):.4f}\")\n",
        "# Record end time\n",
        "elapsed_time = time.time() - start_time\n",
        "\n",
        "# Print elapsed time\n",
        "print(f\"Elapsed time: {hms_string(elapsed_time)}\")"
      ],
      "metadata": {
        "id": "hCqNf75c5ZO2",
        "colab": {
          "base_uri": "https://localhost:8080/"
        },
        "outputId": "2322643e-ad26-49e2-98b8-64366db580a5"
      },
      "execution_count": null,
      "outputs": [
        {
          "output_type": "stream",
          "name": "stdout",
          "text": [
            "----- Training is starting for 100 epochs, batch size: 64, steps per epoch: 560  --------------\n",
            "Epoch 1/100\n",
            "560/560 - 15s - 27ms/step - accuracy: 0.5004 - loss: 2.4773 - val_accuracy: 0.3283 - val_loss: 2.8196\n",
            "Epoch 2/100\n",
            "560/560 - 7s - 12ms/step - accuracy: 0.5757 - loss: 1.7107 - val_accuracy: 0.2031 - val_loss: 3.8063\n",
            "Epoch 3/100\n",
            "560/560 - 2s - 4ms/step - accuracy: 0.5982 - loss: 1.4688 - val_accuracy: 0.2720 - val_loss: 2.9384\n",
            "Epoch 4/100\n",
            "560/560 - 0s - 830us/step - accuracy: 0.6085 - loss: 1.3271 - val_accuracy: 0.6305 - val_loss: 1.4634\n",
            "Epoch 5/100\n",
            "560/560 - 2s - 4ms/step - accuracy: 0.6285 - loss: 1.2337 - val_accuracy: 0.5318 - val_loss: 1.6598\n",
            "Epoch 6/100\n",
            "560/560 - 0s - 850us/step - accuracy: 0.6326 - loss: 1.1928 - val_accuracy: 0.6852 - val_loss: 1.2127\n",
            "Epoch 7/100\n",
            "560/560 - 2s - 4ms/step - accuracy: 0.6416 - loss: 1.1904 - val_accuracy: 0.5090 - val_loss: 2.4002\n",
            "Epoch 8/100\n",
            "560/560 - 0s - 835us/step - accuracy: 0.6488 - loss: 1.1861 - val_accuracy: 0.6448 - val_loss: 1.1348\n",
            "Epoch 9/100\n",
            "560/560 - 2s - 4ms/step - accuracy: 0.6593 - loss: 1.1532 - val_accuracy: 0.6905 - val_loss: 1.1877\n",
            "Epoch 10/100\n",
            "560/560 - 0s - 854us/step - accuracy: 0.6568 - loss: 1.1471 - val_accuracy: 0.6117 - val_loss: 1.4269\n",
            "Epoch 11/100\n",
            "560/560 - 2s - 4ms/step - accuracy: 0.6664 - loss: 1.1396 - val_accuracy: 0.7459 - val_loss: 1.0314\n",
            "Epoch 12/100\n",
            "560/560 - 0s - 824us/step - accuracy: 0.6711 - loss: 1.1186 - val_accuracy: 0.6464 - val_loss: 1.3043\n",
            "Epoch 13/100\n",
            "560/560 - 2s - 4ms/step - accuracy: 0.6726 - loss: 1.1282 - val_accuracy: 0.7810 - val_loss: 0.8972\n",
            "Epoch 14/100\n",
            "560/560 - 0s - 824us/step - accuracy: 0.6820 - loss: 1.0907 - val_accuracy: 0.5355 - val_loss: 1.6239\n",
            "Epoch 15/100\n",
            "560/560 - 2s - 4ms/step - accuracy: 0.6625 - loss: 1.2167 - val_accuracy: 0.6978 - val_loss: 1.1347\n",
            "Epoch 16/100\n",
            "560/560 - 0s - 833us/step - accuracy: 0.6797 - loss: 1.1214 - val_accuracy: 0.7529 - val_loss: 0.9928\n",
            "Epoch 17/100\n",
            "560/560 - 2s - 4ms/step - accuracy: 0.6805 - loss: 1.1166 - val_accuracy: 0.5624 - val_loss: 1.6050\n",
            "Epoch 18/100\n",
            "560/560 - 0s - 815us/step - accuracy: 0.6904 - loss: 1.0702 - val_accuracy: 0.5338 - val_loss: 1.6740\n",
            "Epoch 19/100\n",
            "560/560 - 2s - 4ms/step - accuracy: 0.6844 - loss: 1.0923 - val_accuracy: 0.7463 - val_loss: 1.0136\n",
            "Epoch 20/100\n",
            "560/560 - 0s - 842us/step - accuracy: 0.6904 - loss: 1.0643 - val_accuracy: 0.2390 - val_loss: 3.7427\n",
            "Epoch 21/100\n",
            "560/560 - 2s - 4ms/step - accuracy: 0.6861 - loss: 1.0975 - val_accuracy: 0.3475 - val_loss: 2.4893\n",
            "Epoch 22/100\n",
            "560/560 - 0s - 836us/step - accuracy: 0.6899 - loss: 1.0744 - val_accuracy: 0.7749 - val_loss: 0.8720\n",
            "Epoch 23/100\n",
            "560/560 - 2s - 4ms/step - accuracy: 0.6982 - loss: 1.0614 - val_accuracy: 0.3381 - val_loss: 2.6264\n",
            "Epoch 24/100\n",
            "560/560 - 0s - 835us/step - accuracy: 0.6951 - loss: 1.0632 - val_accuracy: 0.4572 - val_loss: 2.1061\n",
            "Epoch 25/100\n",
            "560/560 - 2s - 4ms/step - accuracy: 0.6917 - loss: 1.0979 - val_accuracy: 0.7443 - val_loss: 0.9760\n",
            "Epoch 26/100\n",
            "560/560 - 0s - 826us/step - accuracy: 0.7018 - loss: 1.0380 - val_accuracy: 0.4988 - val_loss: 1.9436\n",
            "Epoch 27/100\n",
            "560/560 - 2s - 4ms/step - accuracy: 0.7023 - loss: 1.0587 - val_accuracy: 0.7785 - val_loss: 0.8677\n",
            "Epoch 28/100\n",
            "560/560 - 0s - 843us/step - accuracy: 0.6956 - loss: 1.0698 - val_accuracy: 0.7749 - val_loss: 0.9583\n",
            "Epoch 29/100\n",
            "560/560 - 2s - 4ms/step - accuracy: 0.7018 - loss: 1.0494 - val_accuracy: 0.6970 - val_loss: 1.0772\n",
            "Epoch 30/100\n",
            "560/560 - 0s - 875us/step - accuracy: 0.6912 - loss: 1.0548 - val_accuracy: 0.4588 - val_loss: 2.1404\n",
            "Epoch 31/100\n",
            "560/560 - 2s - 4ms/step - accuracy: 0.7006 - loss: 1.0676 - val_accuracy: 0.7626 - val_loss: 0.9911\n",
            "Epoch 32/100\n",
            "560/560 - 0s - 835us/step - accuracy: 0.7090 - loss: 1.0279 - val_accuracy: 0.7936 - val_loss: 0.8892\n",
            "Epoch 33/100\n",
            "560/560 - 2s - 4ms/step - accuracy: 0.7056 - loss: 1.0423 - val_accuracy: 0.8120 - val_loss: 0.8217\n",
            "Epoch 34/100\n",
            "560/560 - 0s - 830us/step - accuracy: 0.7048 - loss: 1.0535 - val_accuracy: 0.7316 - val_loss: 1.1311\n",
            "Epoch 35/100\n",
            "560/560 - 2s - 4ms/step - accuracy: 0.7056 - loss: 1.0401 - val_accuracy: 0.7696 - val_loss: 0.8805\n",
            "Epoch 36/100\n",
            "560/560 - 0s - 830us/step - accuracy: 0.7032 - loss: 1.0512 - val_accuracy: 0.7781 - val_loss: 0.9012\n",
            "Epoch 37/100\n",
            "560/560 - 2s - 4ms/step - accuracy: 0.7079 - loss: 1.0423 - val_accuracy: 0.6835 - val_loss: 1.1446\n",
            "Epoch 38/100\n",
            "560/560 - 0s - 838us/step - accuracy: 0.7099 - loss: 1.0372 - val_accuracy: 0.7378 - val_loss: 1.1665\n",
            "Epoch 39/100\n",
            "560/560 - 2s - 4ms/step - accuracy: 0.7056 - loss: 1.0533 - val_accuracy: 0.7908 - val_loss: 0.8846\n",
            "Epoch 40/100\n",
            "560/560 - 0s - 835us/step - accuracy: 0.7194 - loss: 1.0142 - val_accuracy: 0.8132 - val_loss: 0.8357\n",
            "Epoch 41/100\n",
            "560/560 - 2s - 4ms/step - accuracy: 0.7066 - loss: 1.0930 - val_accuracy: 0.7900 - val_loss: 1.0009\n",
            "Epoch 42/100\n",
            "560/560 - 0s - 823us/step - accuracy: 0.7127 - loss: 1.0265 - val_accuracy: 0.5624 - val_loss: 1.5408\n",
            "Epoch 43/100\n",
            "560/560 - 2s - 4ms/step - accuracy: 0.7131 - loss: 1.0367 - val_accuracy: 0.6831 - val_loss: 1.1963\n",
            "Epoch 43: early stopping\n",
            "Restoring model weights from the end of the best epoch: 33.\n",
            "\n",
            "Training finished.\n",
            "Best val accuracy: 0.8132\n",
            "Elapsed time: 0:01:14.03\n"
          ]
        }
      ]
    },
    {
      "cell_type": "markdown",
      "source": [
        "If the code correct is correct the last part of the output should look something lise this\n",
        "\n",
        "![__](https://biologicslab.co/BIO1173/images/class_03/class_03_1_image11C.png)\n",
        "\n",
        "However, if see this error message\n",
        "\n",
        "![__](https://biologicslab.co/BIO1173/images/class_03/class_03_1_image13B.png)\n",
        "\n",
        "it probably means that you ran the code for `one-hot nncoding` more than once.s less than 2 minutes with the A100 GPU runtime. Using Google's `TPU v2.8` hardware accelerator, the training time was more than **20X longer** (i.e 23 min)."
      ],
      "metadata": {
        "id": "l4_4cK6y5ZrW"
      }
    },
    {
      "cell_type": "markdown",
      "source": [
        "## **Evaluating Model's Performance**\n",
        "\n",
        "Now that you have trained your model, let's look at its performance."
      ],
      "metadata": {
        "id": "PQcEgyf85uWV"
      }
    },
    {
      "cell_type": "markdown",
      "source": [
        "### **Exercise - Step 10: Plot `accuracy` and `val_accuracy`**\n",
        "\n",
        "In the cell below, write the code to plot of `Accuracy` on the left showing `train`and`val`accuracy and a plot `Loss` on the right showing `train`and`val` loss."
      ],
      "metadata": {
        "id": "yon_MJlk5taN"
      }
    },
    {
      "cell_type": "code",
      "source": [
        "# Insert your code for Exercise - Step 10 here\n",
        "\n",
        "\n",
        "import numpy as np\n",
        "\n",
        "# Show the best validation accuracy\n",
        "best_val_acc = np.max(ex_history.history['val_accuracy'])\n",
        "print(f\"Best validation accuracy: {best_val_acc:.4f}\")\n",
        "\n",
        "# Show the best validation loss\n",
        "best_val_loss = np.min(ex_history.history['val_loss'])\n",
        "print(f\"Best validation loss: {best_val_loss:.4f}\")\n",
        "\n",
        "# Plot training history\n",
        "import matplotlib.pyplot as plt\n",
        "\n",
        "plt.figure(figsize=(12,5))\n",
        "\n",
        "plt.subplot(1,2,1)\n",
        "plt.plot(ex_history.history['accuracy'], label='train')\n",
        "plt.plot(ex_history.history['val_accuracy'], label='val')\n",
        "plt.title('Accuracy')\n",
        "plt.xlabel('Epoch')\n",
        "plt.legend()\n",
        "\n",
        "plt.subplot(1,2,2)\n",
        "plt.plot(ex_history.history['loss'], label='train')\n",
        "plt.plot(ex_history.history['val_loss'], label='val')\n",
        "plt.title('Loss')\n",
        "plt.xlabel('Epoch')\n",
        "plt.legend()\n",
        "\n",
        "plt.show()\n"
      ],
      "metadata": {
        "id": "uQ31K8OQ51ie",
        "colab": {
          "base_uri": "https://localhost:8080/",
          "height": 522
        },
        "outputId": "c22209a7-1980-492b-9b89-2df41456f9a7"
      },
      "execution_count": null,
      "outputs": [
        {
          "output_type": "stream",
          "name": "stdout",
          "text": [
            "Best validation accuracy: 0.8132\n",
            "Best validation loss: 0.8217\n"
          ]
        },
        {
          "output_type": "display_data",
          "data": {
            "text/plain": [
              "<Figure size 1200x500 with 2 Axes>"
            ],
            "image/png": "[encoded data removed]"
          },
          "metadata": {}
        }
      ]
    },
    {
      "cell_type": "markdown",
      "source": [
        "If your code is correct, you should see something similar to following pair of plots:\n",
        "\n",
        "![__](https://biologicslab.co/BIO1173/images/class_03/class_03_1_image12C.png)\n",
        "\n",
        "\n",
        "The number of `Epochs` that your model ran will depend upon how soon `Early Stopping` occured.\n"
      ],
      "metadata": {
        "id": "diMDPtuX54Tc"
      }
    },
    {
      "cell_type": "markdown",
      "source": [
        "### **Exercise - Step 11: Plot Image with Label**\n",
        "\n",
        "In the cell below, read the data for one image from the Numpy array `ex_X_test` and its corresponding label from `ex_Y_test` and then display the data as an image. Select the image number `10` and make sure to change the title to read \"Organ type\"."
      ],
      "metadata": {
        "id": "XWPQi-SX6JBr"
      }
    },
    {
      "cell_type": "code",
      "source": [
        "# Insert your code for Exercise - Step 11 here\n",
        "\n",
        "import matplotlib.pyplot as plt\n",
        "import numpy as np\n",
        "\n",
        "# Define test image number\n",
        "img_num=10\n",
        "\n",
        "# Read the image data\n",
        "image = ex_X_test[img_num]\n",
        "\n",
        "# Display the image\n",
        "plt.imshow(image)\n",
        "plt.title('Organ type ' + str(np.argmax(ex_Y_test[img_num])))\n",
        "plt.axis('off')  # Hide the axis\n",
        "plt.show()"
      ],
      "metadata": {
        "id": "Pp93g4PV6Jhb",
        "colab": {
          "base_uri": "https://localhost:8080/",
          "height": 428
        },
        "outputId": "68310a2c-3632-4db5-c2f8-524bcec64d51"
      },
      "execution_count": null,
      "outputs": [
        {
          "output_type": "display_data",
          "data": {
            "text/plain": [
              "<Figure size 640x480 with 1 Axes>"
            ],
            "image/png": "[encoded data removed]"
          },
          "metadata": {}
        }
      ]
    },
    {
      "cell_type": "markdown",
      "source": [
        "If your code is correct, you should see a saggital image of an abdominal organ. Since the image files were randomly shuffled, it is highly unlikely that your image is the same as the image below.\n",
        "\n",
        "![__](https://biologicslab.co/BIO1173/images/class_03/class_03_1_image29B.png)\n",
        "\n",
        "Make sure that you labeled your images as `Organ type` if you don't want to lose points.\n"
      ],
      "metadata": {
        "id": "CitHOzyx6LqE"
      }
    },
    {
      "cell_type": "markdown",
      "source": [
        "### **Exercise - Step 13: Plot 4 Images with Labels**\n",
        "\n",
        "In the cell, write the code to generate a 2 X 2 plot showing 4 images from your test dataset along with their labels. Change the titles to read `Organ type`."
      ],
      "metadata": {
        "id": "7s-DmeT36Vbz"
      }
    },
    {
      "cell_type": "code",
      "source": [
        "# Insert your code for Exercise - Step 13 here\n",
        "\n",
        "import matplotlib.pyplot as plt\n",
        "from mpl_toolkits.axes_grid1 import ImageGrid\n",
        "\n",
        "\n",
        "# Set figure size\n",
        "fig = plt.figure(figsize=(10,10))\n",
        "grid = ImageGrid(\n",
        "        fig, 111,\n",
        "        nrows_ncols=(2,2),\n",
        "        axes_pad=0.5\n",
        ")\n",
        "\n",
        "# Plot 4 images\n",
        "for x in range(0,4):\n",
        "    grid[x].set_title('Organ type ' + str(np.argmax(ex_Y_test[x])))\n",
        "    grid[x].imshow(ex_X_test[x])\n"
      ],
      "metadata": {
        "id": "36bZ5up76Wsy",
        "colab": {
          "base_uri": "https://localhost:8080/",
          "height": 853
        },
        "outputId": "c431d72c-1115-44e2-d665-283dbd967252"
      },
      "execution_count": null,
      "outputs": [
        {
          "output_type": "display_data",
          "data": {
            "text/plain": [
              "<Figure size 1000x1000 with 8 Axes>"
            ],
            "image/png": "[encoded data removed]"
          },
          "metadata": {}
        }
      ]
    },
    {
      "cell_type": "markdown",
      "source": [
        "If your code is correct, you should see 4 saggital images of an abdominal organ. Since the image files were randomly shuffled, it is highly unlikely that your image is the same as the image below.\n",
        "\n",
        "![__](https://biologicslab.co/BIO1173/images/class_03/class_03_1_image30B.png)\n",
        "\n",
        "Make sure that you labeled your images as `Organ type` if you don't want to lose points.\n"
      ],
      "metadata": {
        "id": "XxEeRDgn6XKj"
      }
    },
    {
      "cell_type": "markdown",
      "source": [
        "\n",
        "# Other Resources\n",
        "\n",
        "* [Imagenet:Large Scale Visual Recognition Challenge 2014](http://image-net.org/challenges/LSVRC/2014/index)\n",
        "* [Andrej Karpathy](http://cs.stanford.edu/people/karpathy/) - PhD student/instructor at Stanford.\n",
        "* [CS231n Convolutional Neural Networks for Visual Recognition](http://cs231n.stanford.edu/) - Stanford course on computer vision/CNN's.\n",
        "* [CS231n - GitHub](http://cs231n.github.io/)\n",
        "* [ConvNetJS](http://cs.stanford.edu/people/karpathy/convnetjs/) - JavaScript library for deep learning."
      ],
      "metadata": {
        "id": "_wcvMXf26jaz"
      }
    },
    {
      "cell_type": "markdown",
      "metadata": {
        "id": "9MhC_-6ebE3l"
      },
      "source": [
        "# **Lesson Turn-in**\n",
        "\n",
        "When you have completed and run all of the code cells, use the **File --> Print.. --> Save to PDF** to generate a PDF of your Colab notebook. Save your PDF as `Class_03_1.lastname.pdf` where _lastname_ is your last name, and upload the file to Canvas. Make sure you are submitting a COPY of the Colab notebook stored on your GDrive and not the original Colab script if you want your lesson graded."
      ]
    },
    {
      "cell_type": "markdown",
      "source": [
        "## **Lizard Tail**\n",
        "\n",
        "\n",
        "### **FORTRAN**\n",
        "\n",
        "![__](https://biologicslab.co/BIO1173/images/class_03/class_03_1_image01D.png)\n",
        "\n",
        ">An example of a simple FORTRAN program. In this example, the code inside a loop is indented as is done in Python. However indentation was optional and a lot of programs didn't bother, making it difficult to follow the code logic and flow.\n",
        "\n",
        "### **Overview**\n",
        "\n",
        "**FORTRAN** (short for **FORmula TRANslation**) is one of the oldest high-level programming languages, designed specifically for scientific and engineering computations. It was developed in the 1950s and has played a foundational role in the evolution of programming languages.\n",
        "\n",
        "---\n",
        "\n",
        "## Historical Development\n",
        "### Origins\n",
        "- **Developed by**: IBM\n",
        "- **Lead Developer**: John Backus\n",
        "- **First Released**: 1957\n",
        "- **Purpose**: To simplify the programming of mathematical formulas and reduce the need for assembly language.\n",
        "\n",
        "### Key Milestones\n",
        "- **FORTRAN I (1957)**: The original version, focused on numeric computation and scientific applications.\n",
        "- **FORTRAN II (1958)**: Introduced subroutines and functions.\n",
        "- **FORTRAN IV (1962)**: Improved portability and standardization.\n",
        "- **FORTRAN 66**: First standardized version by ANSI.\n",
        "- **FORTRAN 77**: Added structured programming constructs like `IF`, `DO`, and `BLOCK`.\n",
        "- **FORTRAN 90/95**: Introduced modern programming features such as modules, recursion, array operations, and dynamic memory.\n",
        "- **FORTRAN 2003/2008/2018**: Continued modernization with object-oriented programming, interoperability with C, and enhanced parallel computing support.\n",
        "\n",
        "---\n",
        "\n",
        "## Significance\n",
        "\n",
        "### Scientific Computing\n",
        "FORTRAN became the dominant language for scientific and engineering applications due to its:\n",
        "- Efficient handling of numerical computations.\n",
        "- Optimized performance on early computers.\n",
        "- Extensive libraries for mathematics, physics, and engineering.\n",
        "\n",
        "### Legacy and Longevity\n",
        "- FORTRAN codebases still exist in legacy systems, especially in aerospace, meteorology, and physics.\n",
        "- Many numerical libraries (e.g., LAPACK, BLAS) are written in FORTRAN.\n",
        "- Continues to be used in high-performance computing (HPC) environments.\n",
        "\n",
        "### Influence\n",
        "- Pioneered compiler development and optimization techniques.\n",
        "- Influenced the design of later languages like ALGOL, BASIC, and C.\n",
        "- Demonstrated the viability of high-level languages for serious computational tasks.\n",
        "\n",
        "---\n",
        "\n",
        "## Conclusion\n",
        "\n",
        "FORTRAN's historical importance lies in its role as a trailblazer for high-level programming languages. Its continued use in scientific domains underscores its robustness and efficiency. While newer languages have emerged, FORTRAN remains a testament to the enduring value of well-designed computational tools.\n",
        "\n",
        "\n",
        "**Fortran** (/ˈfɔːrtræn/; formerly FORTRAN) is a third generation, compiled, imperative programming language that is especially suited to numeric computation and scientific computing.\n",
        "\n",
        "Fortran was originally developed by IBM. It first compiled correctly in 1958. Fortran computer programs have been written to support scientific and engineering applications, such as numerical weather prediction, finite element analysis, computational fluid dynamics, plasma physics, geophysics, computational physics, crystallography and computational chemistry. It is a popular language for high-performance computing and is used for programs that benchmark and rank the world's fastest supercomputers.\n",
        "\n",
        "The IBM Blue Gene/P supercomputer installation in 2007 at the Argonne Leadership Angela Yang Computing Facility located in the Argonne National Laboratory, in Lemont, Illinois, US.\n",
        "\n",
        "Fortran has evolved through numerous versions and dialects. In 1966, the American National Standards Institute (ANSI) developed a standard for Fortran to limit proliferation of compilers using slightly different syntax. Successive versions have added support for a character data type (Fortran 77), structured programming, array programming, modular programming, generic programming (Fortran 90), parallel computing (Fortran 95), object-oriented programming (Fortran 2003), and concurrent programming (Fortran 2008).\n",
        "\n",
        "**FORTRAN and COBOL genealogy tree**\n",
        "\n",
        "Since April 2024, Fortran has ranked among the top ten languages in the TIOBE index, a measure of the popularity of programming languages.\n",
        "\n",
        "**Naming**\n",
        "\n",
        "The first manual for FORTRAN describes it as a Formula Translating System, and printed the name with small caps, Fortran. Other sources suggest the name stands for Formula Translator, or Formula Translation.\n",
        "\n",
        "Early IBM computers did not support lowercase letters, and the names of versions of the language through FORTRAN 77 were usually spelled in all-uppercase. FORTRAN 77 was the last version in which the Fortran character set included only uppercase letters.\n",
        "\n",
        "The official language standards for Fortran have referred to the language as \"Fortran\" with initial caps since Fortran 90.\n",
        "\n",
        "**Origins**\n",
        "\n",
        "In late 1953, John W. Backus submitted a proposal to his superiors at IBM to develop a more practical alternative to assembly language for programming their IBM 704 mainframe computer. Backus' historic FORTRAN team consisted of programmers Richard Goldberg, Sheldon F. Best, Harlan Herrick, Peter Sheridan, Roy Nutt, Robert Nelson, Irving Ziller, Harold Stern, Lois Haibt, and David Sayre. Its concepts included easier entry of equations into a computer, an idea developed by J. Halcombe Laning and demonstrated in the Laning and Zierler system of 1952.\n",
        "\n",
        "The Fortran Automatic Coding System for the IBM 704 (October 15, 1956), the first programmer's reference manual for Fortran\n",
        "\n",
        "A draft specification for The IBM Mathematical Formula Translating System was completed by November 1954. The first manual for FORTRAN appeared in October 1956, with the first FORTRAN compiler delivered in April 1957. Fortran produced efficient enough code for assembly language programmers to accept a high-level programming language replacement.\n",
        "\n",
        "John Backus said during a 1979 interview with Think, the IBM employee magazine, \"Much of my work has come from being lazy. I didn't like writing programs, and so, when I was working on the IBM 701, writing programs for computing missile trajectories, I started work on a programming system to make it easier to write programs.\"\n",
        "\n",
        "The language was widely adopted by scientists for writing numerically intensive programs, which encouraged compiler writers to produce compilers that could generate faster and more efficient code. The inclusion of a complex number data type in the language made Fortran especially suited to technical applications such as electrical engineering.\n",
        "\n",
        "By 1960, versions of FORTRAN were available for the IBM 709, 650, 1620, and 7090 computers. Significantly, the increasing popularity of FORTRAN spurred competing computer manufacturers to provide FORTRAN compilers for their machines, so that by 1963 over 40 FORTRAN compilers existed.\n",
        "\n",
        "FORTRAN was provided for the IBM 1401 computer by an innovative 63-phase compiler that ran entirely in its core memory of only 8000 (six-bit) characters. The compiler could be run from tape, or from a 2200-card deck; it used no further tape or disk storage. It kept the program in memory and loaded overlays that gradually transformed it, in place, into executable form, as described by Haines. This article was reprinted, edited, in both editions of Anatomy of a Compiler and in the IBM manual \"Fortran Specifications and Operating Procedures, IBM 1401\". The executable form was not entirely machine language; rather, floating-point arithmetic, sub-scripting, input/output, and function references were interpreted, preceding UCSD Pascal P-code by two decades. GOTRAN, a simplified, interpreted version of FORTRAN I (with only 12 statements not 32) for \"load and go\" operation was available (at least for the early IBM 1620 computer). Modern Fortran, and almost all later versions, are fully compiled, as done for other high-performance languages.\n",
        "\n",
        "The development of Fortran paralleled the early evolution of compiler technology, and many advances in the theory and design of compilers were specifically motivated by the need to generate efficient code for Fortran programs.\n",
        "\n",
        "## **FORTRAN - The First High-Level Programming Language**\n",
        "\n",
        "> **FORTRAN** (FORmula TRANslation) is the first widely‑used high‑level programming language, introduced by IBM in 1957. It revolutionised scientific and engineering computing and set the stage for modern compiler technology.\n",
        "\n",
        "---\n",
        "\n",
        "#### **1.  Origins (1950‑1957)**\n",
        "\n",
        "| Year | Milestone |\n",
        "|------|-----------|\n",
        "| **1950** | IBM researchers begin work on a language that could translate mathematical formulas directly into machine code. |\n",
        "| **1951** | The first *Fortran* compiler prototype is developed by John Backus and his team at IBM. |\n",
        "| **1957** | **FORTRAN IV** is officially released for the IBM 704 and 709 systems. It becomes the standard language for scientific computing. |\n",
        "\n",
        "- **Key Features at Inception**\n",
        "  - *Free‑form* and *fixed‑form* source code layouts.\n",
        "  - Built‑in support for real‑number arithmetic and array operations.\n",
        "  - Automatic handling of *loop unrolling* and *vectorization*.\n",
        "\n",
        "---\n",
        "\n",
        "#### **2.  Evolution Through the Decades**\n",
        "\n",
        "| Era | Notable Releases | Impact |\n",
        "|-----|------------------|--------|\n",
        "| **Late 1950s – 1960s** | *FORTRAN V*, *FORTRAN VI* | Added structured programming constructs (e.g., `IF…THEN…ELSE`, `DO` loops). |\n",
        "| **1970s** | *FORTRAN 77* | Standardised the language, introduced formatted I/O, improved compiler optimisations. |\n",
        "| **1980s** | *FORTRAN 90/95* | Introduced modules, derived types, array slicing, and recursion. |\n",
        "| **1990s‑2000s** | *FORTRAN 2003/2008/2018* | Added object‑oriented features, interoperability with C, and modernisation of standard library. |\n",
        "\n",
        "> **FORTRAN** has been continuously maintained and modernised, far longer than many contemporaneous languages.\n",
        "\n",
        "---\n",
        "\n",
        "#### **3.  Why FORTRAN Still Matters**\n",
        "\n",
        "| Category | Why It’s Important |\n",
        "|----------|--------------------|\n",
        "| **Performance** | Compilers generate highly optimised machine code, especially for floating‑point heavy workloads. |\n",
        "| **Scientific Libraries** | Libraries such as LAPACK, BLAS, PETSc, and many domain‑specific packages were written in FORTRAN. |\n",
        "| **Legacy Systems** | Many supercomputers and high‑performance clusters still run FORTRAN code; maintenance is critical. |\n",
        "| **Education** | It introduced concepts of compiler construction, optimisation, and structured programming to generations of scientists. |\n",
        "| **Interoperability** | Modern compilers support `ISO_C_BINDING`, allowing seamless integration with C/C++ and Python (via F2Py). |\n",
        "\n",
        "---\n",
        "\n",
        "#### **4.  Representative Code Snippet**\n",
        "\n",
        "```fortran\n",
        "PROGRAM Heat\n",
        "  IMPLICIT NONE\n",
        "  INTEGER, PARAMETER :: N = 100\n",
        "  REAL(8) :: T(N), dt, dx, alpha\n",
        "  INTEGER :: i\n",
        "\n",
        "  ! Physical constants\n",
        "  alpha = 0.01D0\n",
        "  dt = 0.001D0\n",
        "  dx = 0.01D0\n",
        "\n",
        "  ! Initial condition\n",
        "  T = 0.0D0\n",
        "  T(50) = 100.0D0\n",
        "\n",
        "  ! Time integration (explicit finite difference)\n",
        "  DO i = 1, 5000\n",
        "     T = T + dt * alpha / dx**2 * &\n",
        "         (/ 0.0D0, T(2:N-1) - 2.0D0*T(1:N-1) + T(1:N-2), 0.0D0 /)\n",
        "  END DO\n",
        "\n",
        "  PRINT *, 'Final temperature distribution:'\n",
        "  PRINT *, T\n",
        "END PROGRAM Heat\n",
        "\n"
      ],
      "metadata": {
        "id": "iA1VBVYE7cGW"
      }
    },
    {
      "cell_type": "code",
      "source": [],
      "metadata": {
        "id": "dYdsR4-MH9uu"
      },
      "execution_count": null,
      "outputs": []
    }
  ],
  "metadata": {
    "kernelspec": {
      "display_name": "Python 3",
      "name": "python3"
    },
    "language_info": {
      "codemirror_mode": {
        "name": "ipython",
        "version": 3
      },
      "file_extension": ".py",
      "mimetype": "text/x-python",
      "name": "python",
      "nbconvert_exporter": "python",
      "pygments_lexer": "ipython3",
      "version": "3.11.5"
    },
    "colab": {
      "provenance": [],
      "machine_shape": "hm",
      "gpuType": "A100",
      "include_colab_link": true
    },
    "accelerator": "GPU"
  },
  "nbformat": 4,
  "nbformat_minor": 0
}