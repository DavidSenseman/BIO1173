{
  "cells": [
    {
      "cell_type": "markdown",
      "metadata": {
        "id": "view-in-github",
        "colab_type": "text"
      },
      "source": [
        "<a href=\"https://colab.research.google.com/github/DavidSenseman/BIO1173/blob/main/Copy_of_Assigment_02_OrganA_mnist.ipynb\" target=\"_parent\"><img src=\"https://colab.research.google.com/assets/colab-badge.svg\" alt=\"Open In Colab\"/></a>"
      ]
    },
    {
      "cell_type": "code",
      "source": [],
      "metadata": {
        "id": "RU-ooemwJNHF"
      },
      "execution_count": null,
      "outputs": []
    },
    {
      "cell_type": "markdown",
      "metadata": {
        "id": "KdRFfd32xmjj"
      },
      "source": [
        "---------------------------\n",
        "**COPYRIGHT NOTICE:** This Jupyterlab Notebook is a Derivative work of [Jeff Heaton](https://github.com/jeffheaton) licensed under the Apache License, Version 2.0 (the \"License\"); You may not use this file except in compliance with the License. You may obtain a copy of the License at\n",
        "\n",
        "> [http://www.apache.org/licenses/LICENSE-2.0](http://www.apache.org/licenses/LICENSE-2.0)\n",
        "\n",
        "Unless required by applicable law or agreed to in writing, software distributed under the License is distributed on an \"AS IS\" BASIS, WITHOUT WARRANTIES OR CONDITIONS OF ANY KIND, either express or implied. See the License for the specific language governing permissions and limitations under the License.\n",
        "\n",
        "------------------------"
      ]
    },
    {
      "cell_type": "markdown",
      "metadata": {
        "id": "p_CU7EF2xmjk"
      },
      "source": [
        "# **BIO 1173: Intro Computational Biology**"
      ]
    },
    {
      "cell_type": "markdown",
      "metadata": {
        "id": "_sRFBydyxmjk"
      },
      "source": [
        "**Assignment 1: Neural Networks for Analysis of Tabular Data**\n",
        "\n",
        "* Instructor: [David Senseman](mailto:David.Senseman@utsa.edu), [Department of Integrative Biology](https://sciences.utsa.edu/integrative-biology/), [UTSA](https://www.utsa.edu/)\n",
        "\n"
      ]
    },
    {
      "cell_type": "markdown",
      "metadata": {
        "id": "q5CiYa2y1sNh"
      },
      "source": [
        "## **Change your Runtime Now**\n",
        "\n",
        "Before you can begin, you will need to change your Runtime from CPU to an accelerated Runtime, either a GPU or a TPU. This assignment has been validated to run on the `A100` GPU, but other GPUs and TPUs will probably work equally well."
      ]
    },
    {
      "cell_type": "markdown",
      "metadata": {
        "id": "kfyIfxOVjw-4"
      },
      "source": [
        "# **READ CAREFULLY**\n",
        "\n",
        "The **_second_**  digit in your myUTSA ID (e.g. \"abc123\") will determine which dataset you are to analyze for this assignment. For example, if your myUTSA ID was **vue682**, then your second digit is the number `8`.\n",
        "\n",
        "**---WARNING------WARNING------WARNING------WARNING------WARNING------WARNING---**\n",
        "\n",
        "You are **not** free to choose any dataset for this assignment. If analyze the wrong dataset, your assignment will **NOT BE GRADED** and you will receive a `0`.\n",
        "\n",
        "If you are uncertain which dataset you should be working on, contact your Instructor for help. Remember, your score in this assignment will have a large impact on your course grade so please be careful.\n",
        "\n",
        "\n",
        "| **2nd Digit myUTSA ID** | **Dataset to Analyze**  | **Datafile Name**\n",
        "--------------------------|-------------------------|-----------------\n",
        "0                         | DermaMNIST              | dermamnist_64.npz\n",
        "1                         | OCTMNIST                | octmnist.npz\n",
        "2                         | PneumoniaMNIST          | pneumoniamnist_64.npz\n",
        "3                         | BreastMNIST             | breastmnist_224.npz\n",
        "4                         | PathMNIST               | pathmnist_128.npz\n",
        "5                         | BloodMNIST              | bloodmnist_128.npz\n",
        "6                         | TissueMNIST             | tissuemnist.npz\n",
        "7                         | OrganMNIST - A          | organamnist.npz\n",
        "8                         | OrganMNIST - C          | organcmnist.npz\n",
        "9                         | OrganMNIST - S          | organsmnist.npz"
      ]
    },
    {
      "cell_type": "markdown",
      "metadata": {
        "id": "Qfs64u4eDRpD"
      },
      "source": [
        "# **The Purpose of Assignments**\n",
        "\n",
        "In this course, **_Assignments_** are designed to help me (and you) assess your ability to transfer knowledge gained in completing class coding exercises to solving more realistic problems.\n",
        "\n",
        "Assignments play a pivotal role in reinforcing your learning, as they require you to apply theoretical concepts to practical scenarios. This helps solidify your understanding and enhances your problem-solving skills. By tackling these assignments independently, you develop critical thinking and the ability to synthesize information from various sources. Moreover, assignments encourage you to explore topics more deeply, fostering intellectual curiosity and promoting a deeper engagement with the subject matter. Ultimately, these assignments are not just a measure of your learning, but a means to equip you with the skills needed for real-world applications and future challenges."
      ]
    },
    {
      "cell_type": "markdown",
      "metadata": {
        "id": "1nR0VGFVPF--"
      },
      "source": [
        "## **MAKE A COPY OF THIS NOTBOOK!**\n",
        "\n",
        "For your assignment to be graded, you **must** make a copy of this Colab notebook in your GDrive and you **must** use this copy as your worksheet."
      ]
    },
    {
      "cell_type": "markdown",
      "metadata": {
        "id": "yKQylnEiLDUM"
      },
      "source": [
        "## Google CoLab Instructions\n",
        "\n",
        "You MUST run the following code cell to get credit for this class lesson. By running this code cell, you will map your GDrive to /content/drive and print out your Google GMAIL address. Your Instructor will use your GMAIL address to verify the author of this class lesson."
      ]
    },
    {
      "cell_type": "code",
      "execution_count": 1,
      "metadata": {
        "id": "seXFCYH4LDUM",
        "colab": {
          "base_uri": "https://localhost:8080/",
          "height": 0
        },
        "outputId": "a92d191d-3164-46e2-a6c9-bcb10e2378ef"
      },
      "outputs": [
        {
          "output_type": "stream",
          "name": "stdout",
          "text": [
            "Mounted at /content/drive\n",
            "Note: using Google CoLab\n",
            "david.senseman@gmail.com\n"
          ]
        }
      ],
      "source": [
        "# YOU MUST RUN THIS CELL FIRST\n",
        "\n",
        "try:\n",
        "    from google.colab import drive\n",
        "    drive.mount('/content/drive', force_remount=True)\n",
        "    from google.colab import auth\n",
        "    auth.authenticate_user()\n",
        "    COLAB = True\n",
        "    print(\"Note: using Google CoLab\")\n",
        "    import requests\n",
        "    gcloud_token = !gcloud auth print-access-token\n",
        "    gcloud_tokeninfo = requests.get('https://www.googleapis.com/oauth2/v3/tokeninfo?access_token=' + gcloud_token[0]).json()\n",
        "    print(gcloud_tokeninfo['email'])\n",
        "except:\n",
        "    print(\"**WARNING**: Your GMAIL address was **not** printed in the output below.\")\n",
        "    print(\"**WARNING**: You will NOT receive credit for this assignment.\")\n",
        "    COLAB = False"
      ]
    },
    {
      "cell_type": "markdown",
      "metadata": {
        "id": "vEMDiVKsMzpY"
      },
      "source": [
        "Your GMAIL address **must** appear in the output in order for your work to be graded."
      ]
    },
    {
      "cell_type": "markdown",
      "metadata": {
        "id": "R9Jt7dQI2QV-"
      },
      "source": [
        "## **Accelerated Run-time Check**\n",
        "\n",
        "You MUST run the following code cell to get credit for this assignment. The code in this cell checks what hardware acceleration you are using. To run this lesson, you must be running either a Graphics Processing Unit (GPU) or a Tensor Processing Unit (TPU). This lesson has been validated using the A100 GPU but other hardware assisted environments should also work."
      ]
    },
    {
      "cell_type": "code",
      "execution_count": 2,
      "metadata": {
        "id": "ULzCHQeK2QEP",
        "colab": {
          "base_uri": "https://localhost:8080/",
          "height": 0
        },
        "outputId": "23b06f10-77ab-4bfe-bdb8-72f0548bd05d"
      },
      "outputs": [
        {
          "output_type": "stream",
          "name": "stdout",
          "text": [
            "Running on GPU\n"
          ]
        }
      ],
      "source": [
        "# You must run this cell second\n",
        "\n",
        "import tensorflow as tf\n",
        "\n",
        "def check_device():\n",
        "    # Check for available devices\n",
        "    devices = tf.config.list_physical_devices()\n",
        "\n",
        "    # Initialize device flags\n",
        "    cpu = False\n",
        "    gpu = False\n",
        "    tpu = False\n",
        "\n",
        "    # Check device types\n",
        "    for device in devices:\n",
        "        if device.device_type == 'CPU':\n",
        "            cpu = True\n",
        "        elif device.device_type == 'GPU':\n",
        "            gpu = True\n",
        "        elif device.device_type == 'TPU':\n",
        "            tpu = True\n",
        "\n",
        "    # Output device status\n",
        "    if tpu:\n",
        "        print(\"Running on TPU\")\n",
        "    elif gpu:\n",
        "        print(\"Running on GPU\")\n",
        "    elif cpu:\n",
        "        print(\"Running on CPU\")\n",
        "        print(\"WARNING: You must run this assigment using either a GPU or a TPU to earn credit\")\n",
        "        print(\"Change your RUNTIME now!\")\n",
        "    else:\n",
        "        print(\"No compatible device found\")\n",
        "        print(\"WARNING: You must run this assigment using either a GPU or a TPU to earn credit\")\n",
        "        print(\"Change your RUNTIME now!\")\n",
        "\n",
        "# Call the function\n",
        "check_device()"
      ]
    },
    {
      "cell_type": "markdown",
      "metadata": {
        "id": "rIkTDIVM27yN"
      },
      "source": [
        "In order for your assignment to be graded, the output from the last code cell should say either \"Running on GPU\"."
      ]
    },
    {
      "cell_type": "markdown",
      "metadata": {
        "id": "Jf_otSJdmp8k"
      },
      "source": [
        "# **Assignment_02: Convolutional Neural Networks (CNN) for Computer Vision**\n",
        "\n",
        "**Assignment_02** is specifically designed to assess your ability to write the Python/Tensorflow/Keras code necessary to build neural networks that can analyze medical images using Convultional Neural Networks (CNNs).\n",
        "\n",
        "Like **Assignment_01**, this assignment is broken down into a series of steps to make your coding task easier. For guidance in writting your code, look at `Class_03_1`.  \n"
      ]
    },
    {
      "cell_type": "markdown",
      "metadata": {
        "id": "WbcorfFql3Sx"
      },
      "source": [
        "# **Descriptions of Data Sets for Assignment_02**\n",
        "\n",
        "This section describes the various Medical MNIST datasets that will be used in this assignment.\n"
      ]
    },
    {
      "cell_type": "markdown",
      "metadata": {
        "id": "P3gTLi7al93Q"
      },
      "source": [
        "-----------------------------\n",
        "\n",
        "\n",
        "## **DermaMNIST - 2nd myUTSA Digit = 0**\n",
        "\n",
        "#### **Filename:** `dermamnist_64.npz`\n",
        "\n",
        "**DermaMNIST** is a medical imaging dataset containing 7,000 images of skin lesions, each with a resolution of 64x64 pixels. It is designed for dermatological image classification and is based on the HAM10000 dataset, which includes multi-source dermatoscopic images of common pigmented skin lesions. The dataset is structured as a multi-class classification task, categorizing images into seven different skin conditions, including melanoma, basal cell carcinoma, and benign keratosis-like lesions"
      ]
    },
    {
      "cell_type": "markdown",
      "metadata": {
        "id": "kSvdzxeOn6Rq"
      },
      "source": [
        "\n",
        "------------------------------------------\n",
        "\n",
        "## **OCTMNIST Dataset - 2nd myUTSA Digit = 1**\n",
        "\n",
        "#### **Filename:** `octmnist.npz`\n",
        "\n",
        "**OCTMNIST** is a medical imaging dataset containing **109,309 optical coherence tomography (OCT) images**, designed for retinal disease classification. The dataset consists of four diagnosis categories, making it a multi-class classification task. The images are grayscale and originally vary in size between (384–1,536)x(277–512) pixels, but they have now been center-cropped and resized to 28x28 pixels for standardization.\n"
      ]
    },
    {
      "cell_type": "markdown",
      "metadata": {
        "id": "tXOLnLAg0FM2"
      },
      "source": [
        "-----------------------------------------\n",
        "\n",
        "## **PneumoniaMNIST Dataset - 2nd myUTSA Digit = 2**\n",
        "\n",
        "#### **Filename:** `pneumoniamnist_64.npz`\n",
        "\n",
        "**PneumoniaMNIST** is a medical imaging dataset containing **5,856 pediatric chest X-ray images**, designed for binary classification of pneumonia versus normal cases. The dataset is derived from a prior collection of chest X-rays and has been preprocessed to standardize image sizes. The original images vary in resolution between (384–2,916)×(127–2,713) pixels, but they are now center-cropped and resized to 28×28 pixels for consistency\n",
        "\n",
        "\n",
        "-----------------------------------"
      ]
    },
    {
      "cell_type": "markdown",
      "metadata": {
        "id": "YIjrGHTCuqB8"
      },
      "source": [
        "-----------------------------\n",
        "\n",
        "\n",
        "## **BreastMNIST - 2nd myUTSA Digit = 3**\n",
        "\n",
        "#### **Filename:** `breastmnist_224.npz`\n",
        "\n",
        "**BreastMNIST** is a medical imaging dataset that is part of the MedMNIST collection, designed for breast cancer classification using **10,239 mammography images**. The dataset consists of two classes: benign and malignant, making it a binary classification task. The images are preprocessed and standardized to a resolution of 224x224 pixels, ensuring consistency for deep learning applications."
      ]
    },
    {
      "cell_type": "markdown",
      "metadata": {
        "id": "_48gnbFMuqB8"
      },
      "source": [
        "\n",
        "------------------------------------------\n",
        "\n",
        "## **PathMNIST Dataset - 2nd myUTSA Digit = 4**\n",
        "\n",
        "#### **Filename:** `pathmnist_128.npz`\n",
        "\n",
        "**PathMNIST** is a medical imaging dataset derived from **colorectal cancer histology slides**. It consists of 100,000 non-overlapping image patches from hematoxylin & eosin-stained histological images, with an additional 7,180 image patches from a separate clinical center for testing. The dataset is structured as a multi-class classification task, categorizing images into nine different tissue types, including adipose, lymphocytes, mucus, smooth muscle, normal colon mucosa, cancer-associated stroma, and colorectal adenocarcinoma epithelium"
      ]
    },
    {
      "cell_type": "markdown",
      "metadata": {
        "id": "m4jCplkYuqB9"
      },
      "source": [
        "-----------------------------------------\n",
        "\n",
        "## **PneumoniaMNIST Dataset - 2nd myUTSA Digit = 5**\n",
        "\n",
        "#### **Filename:** `pneumoniamnist_64.npz`\n",
        "\n",
        "**BloodMNIST** is a medical imaging dataset containing **17,092 images of blood samples**, categorized into eight different classes. The dataset is designed for hematology-related classification tasks, helping researchers develop AI models for blood cell analysis. The images were originally 3x360x363 pixels, but they have been center-cropped to 3x200x200 pixels and then resized to 3x28x28 pixels for standardization\n",
        "\n",
        "\n",
        "-----------------------------------"
      ]
    },
    {
      "cell_type": "markdown",
      "metadata": {
        "id": "iQQ67iQ4wuvO"
      },
      "source": [
        "-----------------------------\n",
        "\n",
        "\n",
        "## **TissueMNIST - 2nd myUTSA Digit = 6**\n",
        "\n",
        "#### **Filename:** `tissuemnist.npz`\n",
        "\n",
        "**TissueMNIST** is a medical imaging dataset derived from BBBC051, a collection of **human kidney cortex cell images** from the Broad Bioimage Benchmark Collection. It contains 236,386 grayscale images of segmented kidney cells, categorized into eight different tissue types, including collecting ducts, glomerular endothelial cells, leukocytes, and proximal tubule segments.\n",
        "\n",
        "Each image originally has 32x32x7 pixels, where 7 represents different slices of the same tissue sample. To standardize the dataset, the maximum pixel values across slices are taken, and the images are resized to 28x28 pixels"
      ]
    },
    {
      "cell_type": "markdown",
      "metadata": {
        "id": "qGgro3rywuvO"
      },
      "source": [
        "\n",
        "------------------------------------------\n",
        "\n",
        "## **OrganMNIST-A Dataset - 2nd myUTSA Digit = 7**\n",
        "\n",
        "#### **Filename:** `organamnist.npz`\n",
        "\n",
        "**OrganMNIST-A**, the \"A\" stands for \"Axial\", referring to the axial view of medical imaging scans. OrganMNIST-A is derived from **full-body CT scans**, and it specifically contains axial slices of different organs, making it a structured dataset for organ classification tasks.\n"
      ]
    },
    {
      "cell_type": "markdown",
      "metadata": {
        "id": "BhFQP5nmyCZ6"
      },
      "source": [
        "\n",
        "------------------------------------------\n",
        "\n",
        "## **OrganMNIST-C Dataset - 2nd myUTSA Digit = 8**\n",
        "\n",
        "#### **Filename:** `organcmnist.npz`\n",
        "\n",
        "**OrganMNIST-C**, the \"C\" stands for \"Coronal\", referring to the coronal view of medical imaging scans. OrganMNIST-C is derived from **full-body CT scans**, and it specifically contains coronal slices of different organs, making it a structured dataset for organ classification tasks.\n"
      ]
    },
    {
      "cell_type": "markdown",
      "metadata": {
        "id": "KbftWFG9yCiC"
      },
      "source": [
        "\n",
        "------------------------------------------\n",
        "\n",
        "## **OrganMNIST-S Dataset - 2nd myUTSA Digit = 9**\n",
        "\n",
        "#### **Filename:** `organsmnist.npz`\n",
        "\n",
        "**OrganAMNIST**, the \"S\" stands for \"Sagittal\", referring to the saggital view of medical imaging scans. OrganAMNIST is derived from **full-body CT scans**, and it specifically contains sagittal slices of different organs, making it a structured dataset for organ classification tasks.\n"
      ]
    },
    {
      "cell_type": "markdown",
      "metadata": {
        "id": "w4vNNCrnnn5A"
      },
      "source": [
        "\n",
        "-----------------------------------------------------\n",
        "-----------------------------------------------------\n",
        "\n",
        "# **General Instructions**\n",
        "\n",
        "To make the assignment more manageable, you will given a number of specific steps to perform. These steps correspond to the steps used in Example 1 (and Execise 1) in `Class_03_1`.\n",
        "\n",
        "## **Can I Use AI?**\n",
        "\n",
        "You are free to use AI (e.g. Microsoft Co-Pilot) to help you complete your assignment---but you need need to be *very* careful. Since AI doesn't really understand what your code is trying to do, it often starts adding additional code and variables that generate an incorrect output. Even worse, it can also give you code that is totally incorrect for this assignment.\n",
        "\n",
        "If your aren't sure what you are doing, it's much, much safer to get help with any of your coding problems from your course instructor and/or course TA's."
      ]
    },
    {
      "cell_type": "markdown",
      "metadata": {
        "id": "TQAS0bHK3Sas"
      },
      "source": [
        "## Create Functions for this Assignment\n",
        "\n",
        "In order to complete this assignment, you will need to create several functions by running the next code cell."
      ]
    },
    {
      "cell_type": "code",
      "execution_count": 3,
      "metadata": {
        "id": "EWG5pvkXPnff",
        "colab": {
          "base_uri": "https://localhost:8080/",
          "height": 0
        },
        "outputId": "815178ab-6f1b-433a-b0eb-8be28c9445fa"
      },
      "outputs": [
        {
          "output_type": "stream",
          "name": "stdout",
          "text": [
            "Current files: ['.config', 'drive', 'sample_data']\n"
          ]
        }
      ],
      "source": [
        "# Create functions for this lesson\n",
        "\n",
        "import psutil\n",
        "import os\n",
        "\n",
        "def check_current_ram():\n",
        "  ram = psutil.virtual_memory()\n",
        "  print(f\"Available RAM: {ram.available / (1024 ** 3):.2f} GB\")\n",
        "\n",
        "def list_files():\n",
        "   files = os.listdir('.')\n",
        "   print(f\"Current files: {files}\")\n",
        "\n",
        "def list_extract():\n",
        "  files = os.listdir(EXTRACT_TARGET)\n",
        "  print(f\"Current files in EXTRACT_TARGET: {files}\")\n",
        "\n",
        "# Simple function to print out elasped time\n",
        "def hms_string(sec_elapsed):\n",
        "    h = int(sec_elapsed / (60 * 60))\n",
        "    m = int((sec_elapsed % (60 * 60)) / 60)\n",
        "    s = sec_elapsed % 60\n",
        "    return \"{}:{:>02}:{:>05.2f}\".format(h, m, s)\n",
        "\n",
        "# List files in current directory\n",
        "list_files()"
      ]
    },
    {
      "cell_type": "markdown",
      "metadata": {
        "id": "-TxbZZQayNCu"
      },
      "source": [
        "## **Step - 1: Setup Evironmental Variables**\n",
        "\n",
        "In the cell below, create environmental variables so you can download your specific MedMNIST dataset that has been assigned to you. If you don't use the code provided in Class_03_1 as a template, you will make an unacceptable number of coding errors.\n",
        "\n",
        "If you use the code from Step 1 in Class_03_1, you will only need to make changes to the `DOWNLOAD_SOURCE` and the `EXTRACT_TARGET`.\n",
        "\n",
        "For your `EXTRACT_TARGET` you should use the file name of the MedMNIST assigned to you in the cell above, **exactly** as it is written.\n",
        "\n",
        "For example, if the 2nd digit of your myUTSA ID was `0`, your `DOWNLOAD_SOURCE` would be:\n",
        "~~~text\n",
        "DOWNLOAD_SOURCE = URL+\"/dermamnist_64.npz\"\n",
        "~~~\n",
        "and your `EXTRACT_TARGET` would be:\n",
        "~~~text\n",
        "EXTRACT_TARGET = os.path.join(PATH,\"dermamnist_64\")\n",
        "~~~\n",
        "\n",
        "Be careful when you cut-and-paste that you don't accidently include any spaces.\n"
      ]
    },
    {
      "cell_type": "code",
      "execution_count": 4,
      "metadata": {
        "id": "H6_nGGnFcnK2",
        "scrolled": true,
        "colab": {
          "base_uri": "https://localhost:8080/",
          "height": 0
        },
        "outputId": "35b40c65-1b18-4baf-be0e-6574aecc65c9"
      },
      "outputs": [
        {
          "output_type": "stream",
          "name": "stdout",
          "text": [
            "DOWNLOAD_SOURCE https://biologicslab.co/BIO1173/data/organamnist.npz\n",
            "DOWNLOAD_NAME organamnist.npz\n",
            "PATH /content\n",
            "EXTRACT_TARGET /organamnist\n",
            "SOURCE /organamnist\n",
            "TARGET /organamnist\n"
          ]
        }
      ],
      "source": [
        "# Insert your code for Step 1 here\n",
        "\n",
        "import os\n",
        "\n",
        "# Define datafile location\n",
        "URL = \"https://biologicslab.co/BIO1173/data\"\n",
        "DOWNLOAD_SOURCE = URL+\"/organamnist.npz\"\n",
        "DOWNLOAD_NAME = DOWNLOAD_SOURCE[DOWNLOAD_SOURCE.rfind('/')+1:]\n",
        "print(f\"DOWNLOAD_SOURCE {DOWNLOAD_SOURCE}\")\n",
        "print(f\"DOWNLOAD_NAME {DOWNLOAD_NAME}\")\n",
        "\n",
        "# Define folder locations to store the data\n",
        "PATH = \"/content\"\n",
        "EXTRACT_TARGET = os.path.join(PATH,\"/organamnist\")\n",
        "SOURCE = os.path.join(EXTRACT_TARGET)\n",
        "TARGET = SOURCE\n",
        "\n",
        "# Print out environmental variables\n",
        "print(f\"PATH {PATH}\")\n",
        "print(f\"EXTRACT_TARGET {EXTRACT_TARGET}\")\n",
        "print(f\"SOURCE {SOURCE}\")\n",
        "print(f\"TARGET {TARGET}\")"
      ]
    },
    {
      "cell_type": "markdown",
      "metadata": {
        "id": "Q_inb_cq2jWb"
      },
      "source": [
        "## **Step - 2: Download and Extract Data**\n",
        "\n",
        "If your code in Step 1 is correct, you should be ready to download and extract your dataset.\n",
        "\n",
        "In the cell below, write the code to download your datafile, make the appropiate file folders and then extract (unzip) your datafile into the file folders you created.\n",
        "\n",
        "**Please Note:** There is considerable differences in the size of these MedMNIST datasets. The larger ones are more than 3GB in size and may require several minutes to upload the file to Colab and then to extract it.\n",
        "\n",
        "As long as the \"little wheel\" at the top left of the code cell keeps spinning, your code is working correctly, so be patient."
      ]
    },
    {
      "cell_type": "code",
      "execution_count": 5,
      "metadata": {
        "id": "XQ4tcdRW23-6",
        "scrolled": true,
        "colab": {
          "base_uri": "https://localhost:8080/",
          "height": 0
        },
        "outputId": "f6d8edac-0e41-4f39-ab29-73884ed9039d"
      },
      "outputs": [
        {
          "output_type": "stream",
          "name": "stdout",
          "text": [
            "Creating necessary directories...done.\n",
            "Downloading files...done.\n",
            "Extracting files...done.\n"
          ]
        }
      ],
      "source": [
        "# Insert your code for Step 2 here\n",
        "import os\n",
        "\n",
        "print(\"Creating necessary directories...\", end='')\n",
        "# Create necessary directories\n",
        "os.makedirs(SOURCE, exist_ok=True)\n",
        "os.makedirs(EXTRACT_TARGET, exist_ok=True)\n",
        "print(\"done.\")\n",
        "\n",
        "print(\"Downloading files...\", end='')\n",
        "# Define paths and URLs\n",
        "download_path = os.path.join(PATH, DOWNLOAD_NAME)\n",
        "extract_path = os.path.join(EXTRACT_TARGET, DOWNLOAD_NAME)\n",
        "\n",
        "# Download the file\n",
        "os.system(f\"wget -O {download_path} {DOWNLOAD_SOURCE}\")\n",
        "print(\"done.\")\n",
        "\n",
        "print(\"Extracting files...\", end='')\n",
        "# Extract the file\n",
        "os.system(f\"unzip -o -d {EXTRACT_TARGET} {download_path} >/dev/null\")\n",
        "print(\"done.\")"
      ]
    },
    {
      "cell_type": "markdown",
      "metadata": {
        "id": "SEEeh78z1m-Z"
      },
      "source": [
        "### **Step - 3: Load and Shuffle Images and Labels into Numpy arrays**\n",
        "\n",
        "In the cell below, write the Python code to read (load) and shuffle the image and label data into Numpy arrays. In total, you should create the following 6 numpy arrays: `train_X`, `train_Y`, `test_X`, `test_Y`, `val_X` and `val_Y`. The `X` arrays will have the images, the `Y` arrays will have their corresponding labels.\n",
        "\n",
        "Make sure to print out the `shape` of each numpy array.  "
      ]
    },
    {
      "cell_type": "code",
      "execution_count": 6,
      "metadata": {
        "id": "WKRWqOVp1-6X",
        "colab": {
          "base_uri": "https://localhost:8080/",
          "height": 0
        },
        "outputId": "7b7672fe-487f-47a2-c7f0-b1199c73e607"
      },
      "outputs": [
        {
          "output_type": "stream",
          "name": "stdout",
          "text": [
            "eg_X_train: (34561, 28, 28)\n",
            "eg_Y_train: (34561, 1)\n",
            "eg_X_test: (17778, 28, 28)\n",
            "eg_Y_test: (17778, 1)\n",
            "eg_X_val: (6491, 28, 28)\n",
            "eg_Y_val: (6491, 1)\n"
          ]
        }
      ],
      "source": [
        "# Insert your code for Step 3 here\n",
        "import numpy as np\n",
        "\n",
        "\n",
        "# ------------------------------------------------------------------------\n",
        "# 1️⃣  Unpack and shuffle train images\n",
        "# ------------------------------------------------------------------------\n",
        "eg_train_images = np.load(os.path.join(SOURCE,\"train_images.npy\"),)\n",
        "eg_train_labels = np.load(os.path.join(SOURCE,\"train_labels.npy\"),)\n",
        "combined = list(zip(eg_train_images, eg_train_labels))\n",
        "np.random.shuffle(combined)\n",
        "eg_X_train, eg_Y_train = zip(*combined)\n",
        "eg_X_train = np.array(eg_X_train)\n",
        "eg_Y_train = np.array(eg_Y_train)\n",
        "print(f\"eg_X_train: {eg_X_train.shape}\")\n",
        "print(f\"eg_Y_train: {eg_Y_train.shape}\")\n",
        "\n",
        "# ------------------------------------------------------------------------\n",
        "# 2️⃣  Unpack and shuffle test images\n",
        "# ------------------------------------------------------------------------\n",
        "test_images = np.load(os.path.join(SOURCE,\"test_images.npy\"),)\n",
        "test_labels = np.load(os.path.join(SOURCE,\"test_labels.npy\"),)\n",
        "combined = list(zip(test_images, test_labels))\n",
        "np.random.shuffle(combined)\n",
        "eg_X_test, eg_Y_test = zip(*combined)\n",
        "eg_X_test = np.array(eg_X_test)\n",
        "eg_Y_test = np.array(eg_Y_test)\n",
        "print(f\"eg_X_test: {eg_X_test.shape}\")\n",
        "print(f\"eg_Y_test: {eg_Y_test.shape}\")\n",
        "\n",
        "# ------------------------------------------------------------------------\n",
        "# 3️⃣  Unpack and shuffle validation images\n",
        "# ------------------------------------------------------------------------\n",
        "# Unpack and shuffle val_images\n",
        "val_images = np.load(os.path.join(SOURCE,\"val_images.npy\"),)\n",
        "val_labels = np.load(os.path.join(SOURCE,\"val_labels.npy\"),)\n",
        "combined = list(zip(val_images, val_labels))\n",
        "np.random.shuffle(combined)\n",
        "eg_X_val, eg_Y_val = zip(*combined)\n",
        "eg_X_val = np.array(eg_X_val)\n",
        "eg_Y_val = np.array(eg_Y_val)\n",
        "print(f\"eg_X_val: {eg_X_val.shape}\")\n",
        "print(f\"eg_Y_val: {eg_Y_val.shape}\")"
      ]
    },
    {
      "cell_type": "markdown",
      "metadata": {
        "id": "7r7YL7KE3NiU"
      },
      "source": [
        "### **Step 4 - Add Color Channel and Resize Images**"
      ]
    },
    {
      "cell_type": "code",
      "execution_count": 7,
      "metadata": {
        "id": "m2ibFXD73m8L",
        "colab": {
          "base_uri": "https://localhost:8080/",
          "height": 0
        },
        "outputId": "785d3e73-6bc1-4c10-cafe-2118275ba49c"
      },
      "outputs": [
        {
          "output_type": "stream",
          "name": "stdout",
          "text": [
            "Adding monochrome color channel...done\n",
            "Resizing images to 64x64 pixels...done\n",
            "(34561, 64, 64, 1)\n",
            "(17778, 64, 64, 1)\n",
            "(6491, 64, 64, 1)\n"
          ]
        }
      ],
      "source": [
        "# Insert your code for Step 4 here\n",
        "import numpy as np\n",
        "import tensorflow as tf\n",
        "\n",
        "# ------------------------------------------------------------------------\n",
        "# 1️⃣  Add a color channel if not already present\n",
        "# ------------------------------------------------------------------------\n",
        "if eg_X_train.ndim == 4:\n",
        "    print(\"No need to add a color channel, images are RGB\")\n",
        "else:\n",
        "    print(\"Adding monochrome color channel...\", end='')\n",
        "    eg_X_train = np.expand_dims(eg_X_train, axis=-1)\n",
        "    eg_X_test = np.expand_dims(eg_X_test, axis=-1)\n",
        "    eg_X_val = np.expand_dims(eg_X_val, axis=-1)\n",
        "    print(\"done\")\n",
        "\n",
        "# ------------------------------------------------------------------------\n",
        "# 2️⃣  Resize images if they are less than 64 pixels\n",
        "# ------------------------------------------------------------------------\n",
        "if eg_X_train.shape[1] >= 64:\n",
        "    print(\"No need to resize images--already 64x64 (or more) pixels\")\n",
        "    eg_X_train_resized = eg_X_train\n",
        "    eg_X_test_resized = eg_X_test\n",
        "    eg_X_val_resized = eg_X_val\n",
        "else:\n",
        "    print(\"Resizing images to 64x64 pixels...\", end='')\n",
        "    eg_X_train_resized = np.array([tf.image.resize(img, (64, 64)).numpy() for img in eg_X_train])\n",
        "    eg_X_test_resized = np.array([tf.image.resize(img, (64, 64)).numpy() for img in eg_X_test])\n",
        "    eg_X_val_resized = np.array([tf.image.resize(img, (64, 64)).numpy() for img in eg_X_val])\n",
        "    print(\"done\")\n",
        "\n",
        "# ------------------------------------------------------------------------\n",
        "# 3️⃣  Copy back\n",
        "# ------------------------------------------------------------------------\n",
        "eg_X_train = np.copy(eg_X_train_resized)\n",
        "eg_X_test = np.copy(eg_X_test_resized)\n",
        "eg_X_val = np.copy(eg_X_val_resized)\n",
        "\n",
        "\n",
        "# ------------------------------------------------------------------------\n",
        "# 4️⃣   Check shapes\n",
        "# ------------------------------------------------------------------------\n",
        "print(eg_X_train.shape)\n",
        "print(eg_X_test.shape)\n",
        "print(eg_X_val.shape)"
      ]
    },
    {
      "cell_type": "markdown",
      "metadata": {
        "id": "RWUAeTIz4QJB"
      },
      "source": [
        "### Example - Step 5: Check Available Memory\n",
        "\n",
        "The code in the cell below shows how to check the used and the available memory in a Colab session. As will be explained below, knowing the amount of available memory can be useful during data processing. If you perform a function that increases the size of a dataset beyond what can be held in the available memory, your Colab session will _crash!_"
      ]
    },
    {
      "cell_type": "code",
      "execution_count": 11,
      "metadata": {
        "id": "oiP9n4mB4X5o",
        "colab": {
          "base_uri": "https://localhost:8080/",
          "height": 0
        },
        "outputId": "6f918764-f8c6-499d-89db-8fadd8d9946e"
      },
      "outputs": [
        {
          "output_type": "stream",
          "name": "stdout",
          "text": [
            "Total Memory: 167.05 GB\n",
            "Available Memory: 161.72 GB\n",
            "Used Memory: 3.98 GB\n"
          ]
        }
      ],
      "source": [
        "# Insert your code for Step 5 here\n",
        "\n",
        "import psutil\n",
        "\n",
        "# Get the memory details\n",
        "mem = psutil.virtual_memory()\n",
        "\n",
        "# Print total, available, and used memory\n",
        "print(f\"Total Memory: {mem.total / (1024 ** 3):.2f} GB\")\n",
        "print(f\"Available Memory: {mem.available / (1024 ** 3):.2f} GB\")\n",
        "print(f\"Used Memory: {mem.used / (1024 ** 3):.2f} GB\")"
      ]
    },
    {
      "cell_type": "markdown",
      "metadata": {
        "id": "1DAvfkkK8n4M"
      },
      "source": [
        "## **Step - 6: Augment Training Image Set**"
      ]
    },
    {
      "cell_type": "code",
      "execution_count": 12,
      "metadata": {
        "id": "coiEBPXz8oxr",
        "colab": {
          "base_uri": "https://localhost:8080/",
          "height": 0
        },
        "outputId": "d0d8d763-a337-428c-f9f8-6e65de8fd83a"
      },
      "outputs": [
        {
          "output_type": "stream",
          "name": "stdout",
          "text": [
            "Available memory (161.77 GB) should be enough to augment eg_X_train\n",
            "Augmenting the number of images in eg_X_train... done\n",
            "Original number of eg_X_train images: 34561\n",
            "Augmented number of eg_X_train images: 103683\n"
          ]
        }
      ],
      "source": [
        "# Insert your code for Step 6 here\n",
        "import numpy as np\n",
        "import psutil\n",
        "\n",
        "# ------------------------------------------------------------------------\n",
        "# 1️⃣  Get the memory details\n",
        "# ------------------------------------------------------------------------\n",
        "mem = psutil.virtual_memory()\n",
        "\n",
        "# ------------------------------------------------------------------------\n",
        "# 2️⃣  Augment if available memory is sufficient\n",
        "# ------------------------------------------------------------------------\n",
        "if mem.available <= mem.used:\n",
        "    print(f\"Available memory ({mem.available / (1024 ** 3):.2f} GB) might not be enough to augment eg_X_train\")\n",
        "    print(f\"Number of eg_X_train images: {eg_X_train.shape[0]}\")\n",
        "else:\n",
        "    print(f\"Available memory ({mem.available / (1024 ** 3):.2f} GB) should be enough to augment eg_X_train\")\n",
        "    print(\"Augmenting the number of images in eg_X_train...\", end=' ')\n",
        "\n",
        "    # Initialize lists to store the augmented images and labels\n",
        "    augmented_images = []\n",
        "    augmented_labels = []\n",
        "\n",
        "    # Iterate through each image and its corresponding label\n",
        "    for img, label in zip(eg_X_train, eg_Y_train):\n",
        "        # Original image\n",
        "        augmented_images.append(img)\n",
        "        augmented_labels.append(label)\n",
        "\n",
        "        # Vertically flipped image\n",
        "        augmented_images.append(np.flipud(img))\n",
        "        augmented_labels.append(label)\n",
        "\n",
        "        # Horizontally flipped image\n",
        "        augmented_images.append(np.fliplr(img))\n",
        "        augmented_labels.append(label)\n",
        "\n",
        "    # Convert lists back to numpy arrays\n",
        "    augmented_images = np.array(augmented_images)\n",
        "    augmented_labels = np.array(augmented_labels)\n",
        "\n",
        "    print(\"done\")\n",
        "    print(f\"Original number of eg_X_train images: {len(eg_X_train)}\")\n",
        "    print(f\"Augmented number of eg_X_train images: {len(augmented_images)}\")\n",
        "\n",
        "    # Copy images back\n",
        "    eg_X_train = np.copy(augmented_images)\n",
        "    eg_Y_train = np.copy(augmented_labels)"
      ]
    },
    {
      "cell_type": "markdown",
      "metadata": {
        "id": "jBhIX2Wj9FMq"
      },
      "source": [
        "### **Step - 7: One-Hot Encode Labels**"
      ]
    },
    {
      "cell_type": "code",
      "execution_count": 13,
      "metadata": {
        "id": "2nFInexU9E4C",
        "colab": {
          "base_uri": "https://localhost:8080/",
          "height": 0
        },
        "outputId": "c8dae6f1-e44e-4eeb-e57c-20a8664851ee"
      },
      "outputs": [
        {
          "output_type": "stream",
          "name": "stdout",
          "text": [
            "The label data contains 11 classes\n",
            "Train Labels Shape (eg_Y_train): (103683, 11)\n",
            "Test Labels Shape (eg_Y_test): (17778, 11)\n",
            "Validation Labels Shape (eg_Y_val): (6491, 11)\n"
          ]
        }
      ],
      "source": [
        "# Insert your code for Step 7 here\n",
        "\n",
        "from tensorflow.keras.utils import to_categorical\n",
        "import numpy as np\n",
        "\n",
        "# ------------------------------------------------------------------------\n",
        "# 1️⃣  Determine the number of classes\n",
        "# ------------------------------------------------------------------------\n",
        "classes, counts = np.unique(eg_Y_test, return_counts=True)\n",
        "class_count = len(classes)\n",
        "print(f\"The label data contains {class_count} classes\")\n",
        "\n",
        "# ------------------------------------------------------------------------\n",
        "# 2️⃣  One-hot encode Y values\n",
        "# ------------------------------------------------------------------------\n",
        "eg_Y_train = to_categorical(eg_Y_train, num_classes=class_count)\n",
        "eg_Y_test = to_categorical(eg_Y_test, num_classes=class_count)\n",
        "eg_Y_val = to_categorical(eg_Y_val, num_classes=class_count)\n",
        "\n",
        "# ------------------------------------------------------------------------\n",
        "# 3️⃣  Print results\n",
        "# ------------------------------------------------------------------------\n",
        "print(f'Train Labels Shape (eg_Y_train): {eg_Y_train.shape}')\n",
        "print(f'Test Labels Shape (eg_Y_test): {eg_Y_test.shape}')\n",
        "print(f'Validation Labels Shape (eg_Y_val): {eg_Y_val.shape}')"
      ]
    },
    {
      "cell_type": "markdown",
      "metadata": {
        "id": "dGyzXBigeFpq"
      },
      "source": [
        "### **Step - 8: Create and Compile CNN neural network model**"
      ]
    },
    {
      "cell_type": "code",
      "execution_count": 14,
      "metadata": {
        "id": "195gnTAFeY8a",
        "colab": {
          "base_uri": "https://localhost:8080/",
          "height": 872
        },
        "outputId": "68e7b2aa-0ece-49b4-fb32-547e54a58876"
      },
      "outputs": [
        {
          "output_type": "stream",
          "name": "stdout",
          "text": [
            "The number of output classes = 11\n"
          ]
        },
        {
          "output_type": "display_data",
          "data": {
            "text/plain": [
              "\u001b[1mModel: \"sequential\"\u001b[0m\n"
            ],
            "text/html": [
              "<pre style=\"white-space:pre;overflow-x:auto;line-height:normal;font-family:Menlo,'DejaVu Sans Mono',consolas,'Courier New',monospace\"><span style=\"font-weight: bold\">Model: \"sequential\"</span>\n",
              "</pre>\n"
            ]
          },
          "metadata": {}
        },
        {
          "output_type": "display_data",
          "data": {
            "text/plain": [
              "┏━━━━━━━━━━━━━━━━━━━━━━━━━━━━━━━━━┳━━━━━━━━━━━━━━━━━━━━━━━━┳━━━━━━━━━━━━━━━┓\n",
              "┃\u001b[1m \u001b[0m\u001b[1mLayer (type)                   \u001b[0m\u001b[1m \u001b[0m┃\u001b[1m \u001b[0m\u001b[1mOutput Shape          \u001b[0m\u001b[1m \u001b[0m┃\u001b[1m \u001b[0m\u001b[1m      Param #\u001b[0m\u001b[1m \u001b[0m┃\n",
              "┡━━━━━━━━━━━━━━━━━━━━━━━━━━━━━━━━━╇━━━━━━━━━━━━━━━━━━━━━━━━╇━━━━━━━━━━━━━━━┩\n",
              "│ conv2d (\u001b[38;5;33mConv2D\u001b[0m)                 │ (\u001b[38;5;45mNone\u001b[0m, \u001b[38;5;34m62\u001b[0m, \u001b[38;5;34m62\u001b[0m, \u001b[38;5;34m16\u001b[0m)     │           \u001b[38;5;34m160\u001b[0m │\n",
              "├─────────────────────────────────┼────────────────────────┼───────────────┤\n",
              "│ max_pooling2d (\u001b[38;5;33mMaxPooling2D\u001b[0m)    │ (\u001b[38;5;45mNone\u001b[0m, \u001b[38;5;34m31\u001b[0m, \u001b[38;5;34m31\u001b[0m, \u001b[38;5;34m16\u001b[0m)     │             \u001b[38;5;34m0\u001b[0m │\n",
              "├─────────────────────────────────┼────────────────────────┼───────────────┤\n",
              "│ batch_normalization             │ (\u001b[38;5;45mNone\u001b[0m, \u001b[38;5;34m31\u001b[0m, \u001b[38;5;34m31\u001b[0m, \u001b[38;5;34m16\u001b[0m)     │            \u001b[38;5;34m64\u001b[0m │\n",
              "│ (\u001b[38;5;33mBatchNormalization\u001b[0m)            │                        │               │\n",
              "├─────────────────────────────────┼────────────────────────┼───────────────┤\n",
              "│ conv2d_1 (\u001b[38;5;33mConv2D\u001b[0m)               │ (\u001b[38;5;45mNone\u001b[0m, \u001b[38;5;34m29\u001b[0m, \u001b[38;5;34m29\u001b[0m, \u001b[38;5;34m32\u001b[0m)     │         \u001b[38;5;34m4,640\u001b[0m │\n",
              "├─────────────────────────────────┼────────────────────────┼───────────────┤\n",
              "│ max_pooling2d_1 (\u001b[38;5;33mMaxPooling2D\u001b[0m)  │ (\u001b[38;5;45mNone\u001b[0m, \u001b[38;5;34m14\u001b[0m, \u001b[38;5;34m14\u001b[0m, \u001b[38;5;34m32\u001b[0m)     │             \u001b[38;5;34m0\u001b[0m │\n",
              "├─────────────────────────────────┼────────────────────────┼───────────────┤\n",
              "│ batch_normalization_1           │ (\u001b[38;5;45mNone\u001b[0m, \u001b[38;5;34m14\u001b[0m, \u001b[38;5;34m14\u001b[0m, \u001b[38;5;34m32\u001b[0m)     │           \u001b[38;5;34m128\u001b[0m │\n",
              "│ (\u001b[38;5;33mBatchNormalization\u001b[0m)            │                        │               │\n",
              "├─────────────────────────────────┼────────────────────────┼───────────────┤\n",
              "│ dropout (\u001b[38;5;33mDropout\u001b[0m)               │ (\u001b[38;5;45mNone\u001b[0m, \u001b[38;5;34m14\u001b[0m, \u001b[38;5;34m14\u001b[0m, \u001b[38;5;34m32\u001b[0m)     │             \u001b[38;5;34m0\u001b[0m │\n",
              "├─────────────────────────────────┼────────────────────────┼───────────────┤\n",
              "│ conv2d_2 (\u001b[38;5;33mConv2D\u001b[0m)               │ (\u001b[38;5;45mNone\u001b[0m, \u001b[38;5;34m12\u001b[0m, \u001b[38;5;34m12\u001b[0m, \u001b[38;5;34m64\u001b[0m)     │        \u001b[38;5;34m18,496\u001b[0m │\n",
              "├─────────────────────────────────┼────────────────────────┼───────────────┤\n",
              "│ max_pooling2d_2 (\u001b[38;5;33mMaxPooling2D\u001b[0m)  │ (\u001b[38;5;45mNone\u001b[0m, \u001b[38;5;34m6\u001b[0m, \u001b[38;5;34m6\u001b[0m, \u001b[38;5;34m64\u001b[0m)       │             \u001b[38;5;34m0\u001b[0m │\n",
              "├─────────────────────────────────┼────────────────────────┼───────────────┤\n",
              "│ batch_normalization_2           │ (\u001b[38;5;45mNone\u001b[0m, \u001b[38;5;34m6\u001b[0m, \u001b[38;5;34m6\u001b[0m, \u001b[38;5;34m64\u001b[0m)       │           \u001b[38;5;34m256\u001b[0m │\n",
              "│ (\u001b[38;5;33mBatchNormalization\u001b[0m)            │                        │               │\n",
              "├─────────────────────────────────┼────────────────────────┼───────────────┤\n",
              "│ dropout_1 (\u001b[38;5;33mDropout\u001b[0m)             │ (\u001b[38;5;45mNone\u001b[0m, \u001b[38;5;34m6\u001b[0m, \u001b[38;5;34m6\u001b[0m, \u001b[38;5;34m64\u001b[0m)       │             \u001b[38;5;34m0\u001b[0m │\n",
              "├─────────────────────────────────┼────────────────────────┼───────────────┤\n",
              "│ conv2d_3 (\u001b[38;5;33mConv2D\u001b[0m)               │ (\u001b[38;5;45mNone\u001b[0m, \u001b[38;5;34m4\u001b[0m, \u001b[38;5;34m4\u001b[0m, \u001b[38;5;34m128\u001b[0m)      │        \u001b[38;5;34m73,856\u001b[0m │\n",
              "├─────────────────────────────────┼────────────────────────┼───────────────┤\n",
              "│ max_pooling2d_3 (\u001b[38;5;33mMaxPooling2D\u001b[0m)  │ (\u001b[38;5;45mNone\u001b[0m, \u001b[38;5;34m2\u001b[0m, \u001b[38;5;34m2\u001b[0m, \u001b[38;5;34m128\u001b[0m)      │             \u001b[38;5;34m0\u001b[0m │\n",
              "├─────────────────────────────────┼────────────────────────┼───────────────┤\n",
              "│ batch_normalization_3           │ (\u001b[38;5;45mNone\u001b[0m, \u001b[38;5;34m2\u001b[0m, \u001b[38;5;34m2\u001b[0m, \u001b[38;5;34m128\u001b[0m)      │           \u001b[38;5;34m512\u001b[0m │\n",
              "│ (\u001b[38;5;33mBatchNormalization\u001b[0m)            │                        │               │\n",
              "├─────────────────────────────────┼────────────────────────┼───────────────┤\n",
              "│ dropout_2 (\u001b[38;5;33mDropout\u001b[0m)             │ (\u001b[38;5;45mNone\u001b[0m, \u001b[38;5;34m2\u001b[0m, \u001b[38;5;34m2\u001b[0m, \u001b[38;5;34m128\u001b[0m)      │             \u001b[38;5;34m0\u001b[0m │\n",
              "├─────────────────────────────────┼────────────────────────┼───────────────┤\n",
              "│ flatten (\u001b[38;5;33mFlatten\u001b[0m)               │ (\u001b[38;5;45mNone\u001b[0m, \u001b[38;5;34m512\u001b[0m)            │             \u001b[38;5;34m0\u001b[0m │\n",
              "├─────────────────────────────────┼────────────────────────┼───────────────┤\n",
              "│ dropout_3 (\u001b[38;5;33mDropout\u001b[0m)             │ (\u001b[38;5;45mNone\u001b[0m, \u001b[38;5;34m512\u001b[0m)            │             \u001b[38;5;34m0\u001b[0m │\n",
              "├─────────────────────────────────┼────────────────────────┼───────────────┤\n",
              "│ dense (\u001b[38;5;33mDense\u001b[0m)                   │ (\u001b[38;5;45mNone\u001b[0m, \u001b[38;5;34m512\u001b[0m)            │       \u001b[38;5;34m262,656\u001b[0m │\n",
              "├─────────────────────────────────┼────────────────────────┼───────────────┤\n",
              "│ batch_normalization_4           │ (\u001b[38;5;45mNone\u001b[0m, \u001b[38;5;34m512\u001b[0m)            │         \u001b[38;5;34m2,048\u001b[0m │\n",
              "│ (\u001b[38;5;33mBatchNormalization\u001b[0m)            │                        │               │\n",
              "├─────────────────────────────────┼────────────────────────┼───────────────┤\n",
              "│ dense_1 (\u001b[38;5;33mDense\u001b[0m)                 │ (\u001b[38;5;45mNone\u001b[0m, \u001b[38;5;34m11\u001b[0m)             │         \u001b[38;5;34m5,643\u001b[0m │\n",
              "└─────────────────────────────────┴────────────────────────┴───────────────┘\n"
            ],
            "text/html": [
              "<pre style=\"white-space:pre;overflow-x:auto;line-height:normal;font-family:Menlo,'DejaVu Sans Mono',consolas,'Courier New',monospace\">┏━━━━━━━━━━━━━━━━━━━━━━━━━━━━━━━━━┳━━━━━━━━━━━━━━━━━━━━━━━━┳━━━━━━━━━━━━━━━┓\n",
              "┃<span style=\"font-weight: bold\"> Layer (type)                    </span>┃<span style=\"font-weight: bold\"> Output Shape           </span>┃<span style=\"font-weight: bold\">       Param # </span>┃\n",
              "┡━━━━━━━━━━━━━━━━━━━━━━━━━━━━━━━━━╇━━━━━━━━━━━━━━━━━━━━━━━━╇━━━━━━━━━━━━━━━┩\n",
              "│ conv2d (<span style=\"color: #0087ff; text-decoration-color: #0087ff\">Conv2D</span>)                 │ (<span style=\"color: #00d7ff; text-decoration-color: #00d7ff\">None</span>, <span style=\"color: #00af00; text-decoration-color: #00af00\">62</span>, <span style=\"color: #00af00; text-decoration-color: #00af00\">62</span>, <span style=\"color: #00af00; text-decoration-color: #00af00\">16</span>)     │           <span style=\"color: #00af00; text-decoration-color: #00af00\">160</span> │\n",
              "├─────────────────────────────────┼────────────────────────┼───────────────┤\n",
              "│ max_pooling2d (<span style=\"color: #0087ff; text-decoration-color: #0087ff\">MaxPooling2D</span>)    │ (<span style=\"color: #00d7ff; text-decoration-color: #00d7ff\">None</span>, <span style=\"color: #00af00; text-decoration-color: #00af00\">31</span>, <span style=\"color: #00af00; text-decoration-color: #00af00\">31</span>, <span style=\"color: #00af00; text-decoration-color: #00af00\">16</span>)     │             <span style=\"color: #00af00; text-decoration-color: #00af00\">0</span> │\n",
              "├─────────────────────────────────┼────────────────────────┼───────────────┤\n",
              "│ batch_normalization             │ (<span style=\"color: #00d7ff; text-decoration-color: #00d7ff\">None</span>, <span style=\"color: #00af00; text-decoration-color: #00af00\">31</span>, <span style=\"color: #00af00; text-decoration-color: #00af00\">31</span>, <span style=\"color: #00af00; text-decoration-color: #00af00\">16</span>)     │            <span style=\"color: #00af00; text-decoration-color: #00af00\">64</span> │\n",
              "│ (<span style=\"color: #0087ff; text-decoration-color: #0087ff\">BatchNormalization</span>)            │                        │               │\n",
              "├─────────────────────────────────┼────────────────────────┼───────────────┤\n",
              "│ conv2d_1 (<span style=\"color: #0087ff; text-decoration-color: #0087ff\">Conv2D</span>)               │ (<span style=\"color: #00d7ff; text-decoration-color: #00d7ff\">None</span>, <span style=\"color: #00af00; text-decoration-color: #00af00\">29</span>, <span style=\"color: #00af00; text-decoration-color: #00af00\">29</span>, <span style=\"color: #00af00; text-decoration-color: #00af00\">32</span>)     │         <span style=\"color: #00af00; text-decoration-color: #00af00\">4,640</span> │\n",
              "├─────────────────────────────────┼────────────────────────┼───────────────┤\n",
              "│ max_pooling2d_1 (<span style=\"color: #0087ff; text-decoration-color: #0087ff\">MaxPooling2D</span>)  │ (<span style=\"color: #00d7ff; text-decoration-color: #00d7ff\">None</span>, <span style=\"color: #00af00; text-decoration-color: #00af00\">14</span>, <span style=\"color: #00af00; text-decoration-color: #00af00\">14</span>, <span style=\"color: #00af00; text-decoration-color: #00af00\">32</span>)     │             <span style=\"color: #00af00; text-decoration-color: #00af00\">0</span> │\n",
              "├─────────────────────────────────┼────────────────────────┼───────────────┤\n",
              "│ batch_normalization_1           │ (<span style=\"color: #00d7ff; text-decoration-color: #00d7ff\">None</span>, <span style=\"color: #00af00; text-decoration-color: #00af00\">14</span>, <span style=\"color: #00af00; text-decoration-color: #00af00\">14</span>, <span style=\"color: #00af00; text-decoration-color: #00af00\">32</span>)     │           <span style=\"color: #00af00; text-decoration-color: #00af00\">128</span> │\n",
              "│ (<span style=\"color: #0087ff; text-decoration-color: #0087ff\">BatchNormalization</span>)            │                        │               │\n",
              "├─────────────────────────────────┼────────────────────────┼───────────────┤\n",
              "│ dropout (<span style=\"color: #0087ff; text-decoration-color: #0087ff\">Dropout</span>)               │ (<span style=\"color: #00d7ff; text-decoration-color: #00d7ff\">None</span>, <span style=\"color: #00af00; text-decoration-color: #00af00\">14</span>, <span style=\"color: #00af00; text-decoration-color: #00af00\">14</span>, <span style=\"color: #00af00; text-decoration-color: #00af00\">32</span>)     │             <span style=\"color: #00af00; text-decoration-color: #00af00\">0</span> │\n",
              "├─────────────────────────────────┼────────────────────────┼───────────────┤\n",
              "│ conv2d_2 (<span style=\"color: #0087ff; text-decoration-color: #0087ff\">Conv2D</span>)               │ (<span style=\"color: #00d7ff; text-decoration-color: #00d7ff\">None</span>, <span style=\"color: #00af00; text-decoration-color: #00af00\">12</span>, <span style=\"color: #00af00; text-decoration-color: #00af00\">12</span>, <span style=\"color: #00af00; text-decoration-color: #00af00\">64</span>)     │        <span style=\"color: #00af00; text-decoration-color: #00af00\">18,496</span> │\n",
              "├─────────────────────────────────┼────────────────────────┼───────────────┤\n",
              "│ max_pooling2d_2 (<span style=\"color: #0087ff; text-decoration-color: #0087ff\">MaxPooling2D</span>)  │ (<span style=\"color: #00d7ff; text-decoration-color: #00d7ff\">None</span>, <span style=\"color: #00af00; text-decoration-color: #00af00\">6</span>, <span style=\"color: #00af00; text-decoration-color: #00af00\">6</span>, <span style=\"color: #00af00; text-decoration-color: #00af00\">64</span>)       │             <span style=\"color: #00af00; text-decoration-color: #00af00\">0</span> │\n",
              "├─────────────────────────────────┼────────────────────────┼───────────────┤\n",
              "│ batch_normalization_2           │ (<span style=\"color: #00d7ff; text-decoration-color: #00d7ff\">None</span>, <span style=\"color: #00af00; text-decoration-color: #00af00\">6</span>, <span style=\"color: #00af00; text-decoration-color: #00af00\">6</span>, <span style=\"color: #00af00; text-decoration-color: #00af00\">64</span>)       │           <span style=\"color: #00af00; text-decoration-color: #00af00\">256</span> │\n",
              "│ (<span style=\"color: #0087ff; text-decoration-color: #0087ff\">BatchNormalization</span>)            │                        │               │\n",
              "├─────────────────────────────────┼────────────────────────┼───────────────┤\n",
              "│ dropout_1 (<span style=\"color: #0087ff; text-decoration-color: #0087ff\">Dropout</span>)             │ (<span style=\"color: #00d7ff; text-decoration-color: #00d7ff\">None</span>, <span style=\"color: #00af00; text-decoration-color: #00af00\">6</span>, <span style=\"color: #00af00; text-decoration-color: #00af00\">6</span>, <span style=\"color: #00af00; text-decoration-color: #00af00\">64</span>)       │             <span style=\"color: #00af00; text-decoration-color: #00af00\">0</span> │\n",
              "├─────────────────────────────────┼────────────────────────┼───────────────┤\n",
              "│ conv2d_3 (<span style=\"color: #0087ff; text-decoration-color: #0087ff\">Conv2D</span>)               │ (<span style=\"color: #00d7ff; text-decoration-color: #00d7ff\">None</span>, <span style=\"color: #00af00; text-decoration-color: #00af00\">4</span>, <span style=\"color: #00af00; text-decoration-color: #00af00\">4</span>, <span style=\"color: #00af00; text-decoration-color: #00af00\">128</span>)      │        <span style=\"color: #00af00; text-decoration-color: #00af00\">73,856</span> │\n",
              "├─────────────────────────────────┼────────────────────────┼───────────────┤\n",
              "│ max_pooling2d_3 (<span style=\"color: #0087ff; text-decoration-color: #0087ff\">MaxPooling2D</span>)  │ (<span style=\"color: #00d7ff; text-decoration-color: #00d7ff\">None</span>, <span style=\"color: #00af00; text-decoration-color: #00af00\">2</span>, <span style=\"color: #00af00; text-decoration-color: #00af00\">2</span>, <span style=\"color: #00af00; text-decoration-color: #00af00\">128</span>)      │             <span style=\"color: #00af00; text-decoration-color: #00af00\">0</span> │\n",
              "├─────────────────────────────────┼────────────────────────┼───────────────┤\n",
              "│ batch_normalization_3           │ (<span style=\"color: #00d7ff; text-decoration-color: #00d7ff\">None</span>, <span style=\"color: #00af00; text-decoration-color: #00af00\">2</span>, <span style=\"color: #00af00; text-decoration-color: #00af00\">2</span>, <span style=\"color: #00af00; text-decoration-color: #00af00\">128</span>)      │           <span style=\"color: #00af00; text-decoration-color: #00af00\">512</span> │\n",
              "│ (<span style=\"color: #0087ff; text-decoration-color: #0087ff\">BatchNormalization</span>)            │                        │               │\n",
              "├─────────────────────────────────┼────────────────────────┼───────────────┤\n",
              "│ dropout_2 (<span style=\"color: #0087ff; text-decoration-color: #0087ff\">Dropout</span>)             │ (<span style=\"color: #00d7ff; text-decoration-color: #00d7ff\">None</span>, <span style=\"color: #00af00; text-decoration-color: #00af00\">2</span>, <span style=\"color: #00af00; text-decoration-color: #00af00\">2</span>, <span style=\"color: #00af00; text-decoration-color: #00af00\">128</span>)      │             <span style=\"color: #00af00; text-decoration-color: #00af00\">0</span> │\n",
              "├─────────────────────────────────┼────────────────────────┼───────────────┤\n",
              "│ flatten (<span style=\"color: #0087ff; text-decoration-color: #0087ff\">Flatten</span>)               │ (<span style=\"color: #00d7ff; text-decoration-color: #00d7ff\">None</span>, <span style=\"color: #00af00; text-decoration-color: #00af00\">512</span>)            │             <span style=\"color: #00af00; text-decoration-color: #00af00\">0</span> │\n",
              "├─────────────────────────────────┼────────────────────────┼───────────────┤\n",
              "│ dropout_3 (<span style=\"color: #0087ff; text-decoration-color: #0087ff\">Dropout</span>)             │ (<span style=\"color: #00d7ff; text-decoration-color: #00d7ff\">None</span>, <span style=\"color: #00af00; text-decoration-color: #00af00\">512</span>)            │             <span style=\"color: #00af00; text-decoration-color: #00af00\">0</span> │\n",
              "├─────────────────────────────────┼────────────────────────┼───────────────┤\n",
              "│ dense (<span style=\"color: #0087ff; text-decoration-color: #0087ff\">Dense</span>)                   │ (<span style=\"color: #00d7ff; text-decoration-color: #00d7ff\">None</span>, <span style=\"color: #00af00; text-decoration-color: #00af00\">512</span>)            │       <span style=\"color: #00af00; text-decoration-color: #00af00\">262,656</span> │\n",
              "├─────────────────────────────────┼────────────────────────┼───────────────┤\n",
              "│ batch_normalization_4           │ (<span style=\"color: #00d7ff; text-decoration-color: #00d7ff\">None</span>, <span style=\"color: #00af00; text-decoration-color: #00af00\">512</span>)            │         <span style=\"color: #00af00; text-decoration-color: #00af00\">2,048</span> │\n",
              "│ (<span style=\"color: #0087ff; text-decoration-color: #0087ff\">BatchNormalization</span>)            │                        │               │\n",
              "├─────────────────────────────────┼────────────────────────┼───────────────┤\n",
              "│ dense_1 (<span style=\"color: #0087ff; text-decoration-color: #0087ff\">Dense</span>)                 │ (<span style=\"color: #00d7ff; text-decoration-color: #00d7ff\">None</span>, <span style=\"color: #00af00; text-decoration-color: #00af00\">11</span>)             │         <span style=\"color: #00af00; text-decoration-color: #00af00\">5,643</span> │\n",
              "└─────────────────────────────────┴────────────────────────┴───────────────┘\n",
              "</pre>\n"
            ]
          },
          "metadata": {}
        },
        {
          "output_type": "display_data",
          "data": {
            "text/plain": [
              "\u001b[1m Total params: \u001b[0m\u001b[38;5;34m368,459\u001b[0m (1.41 MB)\n"
            ],
            "text/html": [
              "<pre style=\"white-space:pre;overflow-x:auto;line-height:normal;font-family:Menlo,'DejaVu Sans Mono',consolas,'Courier New',monospace\"><span style=\"font-weight: bold\"> Total params: </span><span style=\"color: #00af00; text-decoration-color: #00af00\">368,459</span> (1.41 MB)\n",
              "</pre>\n"
            ]
          },
          "metadata": {}
        },
        {
          "output_type": "display_data",
          "data": {
            "text/plain": [
              "\u001b[1m Trainable params: \u001b[0m\u001b[38;5;34m366,955\u001b[0m (1.40 MB)\n"
            ],
            "text/html": [
              "<pre style=\"white-space:pre;overflow-x:auto;line-height:normal;font-family:Menlo,'DejaVu Sans Mono',consolas,'Courier New',monospace\"><span style=\"font-weight: bold\"> Trainable params: </span><span style=\"color: #00af00; text-decoration-color: #00af00\">366,955</span> (1.40 MB)\n",
              "</pre>\n"
            ]
          },
          "metadata": {}
        },
        {
          "output_type": "display_data",
          "data": {
            "text/plain": [
              "\u001b[1m Non-trainable params: \u001b[0m\u001b[38;5;34m1,504\u001b[0m (5.88 KB)\n"
            ],
            "text/html": [
              "<pre style=\"white-space:pre;overflow-x:auto;line-height:normal;font-family:Menlo,'DejaVu Sans Mono',consolas,'Courier New',monospace\"><span style=\"font-weight: bold\"> Non-trainable params: </span><span style=\"color: #00af00; text-decoration-color: #00af00\">1,504</span> (5.88 KB)\n",
              "</pre>\n"
            ]
          },
          "metadata": {}
        }
      ],
      "source": [
        "# Insert your code for Step 8 here\n",
        "\n",
        "# ------------------------------------------------------------------------\n",
        "# 0️⃣  Load packages\n",
        "# ------------------------------------------------------------------------\n",
        "from tensorflow.keras.models import Sequential\n",
        "from tensorflow.keras.layers import Conv2D, MaxPooling2D, Flatten, Dense, Dropout, BatchNormalization, Input\n",
        "from tensorflow.keras.utils import to_categorical\n",
        "from keras.callbacks import EarlyStopping\n",
        "from tensorflow.keras.optimizers import Adam\n",
        "from tensorflow.keras.regularizers import l2\n",
        "import numpy as np\n",
        "\n",
        "\n",
        "# ------------------------------------------------------------------------\n",
        "# 1️⃣  Define variables\n",
        "# ------------------------------------------------------------------------\n",
        "# Define input_dim: Must be the pixel size of your images\n",
        "input_dim = (64, 64, 1)\n",
        "\n",
        "# Sete learning rate\n",
        "learning_rate = 0.001\n",
        "\n",
        "# Set Persistance\n",
        "PATIENCE=10\n",
        "\n",
        "# ------------------------------------------------------------------------\n",
        "# 2️⃣  Create CNN model\n",
        "# ------------------------------------------------------------------------\n",
        "eg_model = Sequential([\n",
        "    # Input Layer\n",
        "    Input(shape=input_dim),\n",
        "\n",
        "    # 1st Convolution layer\n",
        "    Conv2D(16, (3, 3), activation='relu', kernel_regularizer=l2(0.01)),\n",
        "    MaxPooling2D(2, 2),\n",
        "    BatchNormalization(),\n",
        "\n",
        "    # 2nd Convolution layer\n",
        "    Conv2D(32, (3, 3), activation='relu', kernel_regularizer=l2(0.01)),\n",
        "    MaxPooling2D(2, 2),\n",
        "    BatchNormalization(),\n",
        "    Dropout(0.5),\n",
        "\n",
        "    # 3rd Convolution layer\n",
        "    Conv2D(64, (3, 3), activation='relu', kernel_regularizer=l2(0.01)),\n",
        "    MaxPooling2D(2, 2),\n",
        "    BatchNormalization(),\n",
        "    Dropout(0.5),\n",
        "\n",
        "    # 4th Convolution layer\n",
        "    Conv2D(128, (3, 3), activation='relu', kernel_regularizer=l2(0.01)),\n",
        "    MaxPooling2D(2, 2),\n",
        "    BatchNormalization(),\n",
        "    Dropout(0.5),\n",
        "\n",
        "    # Flatten the results to feed into a DNN\n",
        "    Flatten(),\n",
        "    Dropout(0.5),\n",
        "\n",
        "    # 512 neuron hidden layer\n",
        "    Dense(512, activation='relu'),\n",
        "    BatchNormalization(),\n",
        "\n",
        "    # Output layer has neurons equal to class_count\n",
        "    Dense(class_count, activation='softmax')\n",
        "])\n",
        "\n",
        "# ------------------------------------------------------------------------\n",
        "# 3️⃣  Compile model\n",
        "# ------------------------------------------------------------------------\n",
        "eg_model.compile(\n",
        "    loss='categorical_crossentropy',\n",
        "    optimizer=Adam(learning_rate=learning_rate),\n",
        "    metrics=['accuracy']\n",
        ")\n",
        "\n",
        "# ------------------------------------------------------------------------\n",
        "# 4️⃣  Create early stopping monitor\n",
        "# ------------------------------------------------------------------------\n",
        "eg_stop_monitor = EarlyStopping(monitor='val_loss',\n",
        "                 min_delta=1e-3, patience=PATIENCE,\n",
        "                 verbose=1, mode='auto',\n",
        "                 restore_best_weights=True)\n",
        "\n",
        "# Print number of classes to be used\n",
        "print(f\"The number of output classes =\",class_count)\n",
        "\n",
        "# Print model summary\n",
        "eg_model.summary()"
      ]
    },
    {
      "cell_type": "markdown",
      "metadata": {
        "id": "mcWklesN1kjO"
      },
      "source": [
        "### **Step - 9: Train the Neural Network**"
      ]
    },
    {
      "cell_type": "code",
      "execution_count": 15,
      "metadata": {
        "id": "b_2pzz9Z1h6H",
        "colab": {
          "base_uri": "https://localhost:8080/",
          "height": 0
        },
        "outputId": "1bd86704-109f-46e9-88f7-10f2b48663d5"
      },
      "outputs": [
        {
          "output_type": "stream",
          "name": "stdout",
          "text": [
            "----- Training is starting for 100 epochs, batch size: 64, steps per epoch: 1620  --------------\n",
            "Epoch 1/100\n",
            "1620/1620 - 21s - 13ms/step - accuracy: 0.5907 - loss: 1.6570 - val_accuracy: 0.6270 - val_loss: 1.2868\n",
            "Epoch 2/100\n"
          ]
        },
        {
          "output_type": "stream",
          "name": "stderr",
          "text": [
            "/usr/local/lib/python3.12/dist-packages/keras/src/trainers/epoch_iterator.py:116: UserWarning: Your input ran out of data; interrupting training. Make sure that your dataset or generator can generate at least `steps_per_epoch * epochs` batches. You may need to use the `.repeat()` function when building your dataset.\n",
            "  self._interrupted_warning()\n"
          ]
        },
        {
          "output_type": "stream",
          "name": "stdout",
          "text": [
            "1620/1620 - 7s - 4ms/step - accuracy: 0.6667 - loss: 0.9302 - val_accuracy: 0.7207 - val_loss: 1.0930\n",
            "Epoch 3/100\n",
            "1620/1620 - 6s - 3ms/step - accuracy: 0.6877 - loss: 1.0557 - val_accuracy: 0.5235 - val_loss: 1.6939\n",
            "Epoch 4/100\n",
            "1620/1620 - 0s - 185us/step - accuracy: 0.6667 - loss: 2.2302 - val_accuracy: 0.5754 - val_loss: 1.4417\n",
            "Epoch 5/100\n",
            "1620/1620 - 6s - 4ms/step - accuracy: 0.7119 - loss: 1.0077 - val_accuracy: 0.7255 - val_loss: 1.0444\n",
            "Epoch 6/100\n",
            "1620/1620 - 0s - 184us/step - accuracy: 0.0000e+00 - loss: 1.9853 - val_accuracy: 0.5130 - val_loss: 1.8601\n",
            "Epoch 7/100\n",
            "1620/1620 - 6s - 3ms/step - accuracy: 0.7258 - loss: 0.9755 - val_accuracy: 0.8378 - val_loss: 0.7976\n",
            "Epoch 8/100\n",
            "1620/1620 - 0s - 191us/step - accuracy: 0.3333 - loss: 1.2996 - val_accuracy: 0.8234 - val_loss: 0.7931\n",
            "Epoch 9/100\n",
            "1620/1620 - 6s - 4ms/step - accuracy: 0.7320 - loss: 0.9673 - val_accuracy: 0.6925 - val_loss: 1.1228\n",
            "Epoch 10/100\n",
            "1620/1620 - 0s - 188us/step - accuracy: 0.3333 - loss: 1.5935 - val_accuracy: 0.5922 - val_loss: 2.2429\n",
            "Epoch 11/100\n",
            "1620/1620 - 6s - 3ms/step - accuracy: 0.7389 - loss: 0.9420 - val_accuracy: 0.3195 - val_loss: 4.6715\n",
            "Epoch 12/100\n",
            "1620/1620 - 0s - 185us/step - accuracy: 0.6667 - loss: 0.7027 - val_accuracy: 0.3617 - val_loss: 3.8047\n",
            "Epoch 13/100\n",
            "1620/1620 - 6s - 3ms/step - accuracy: 0.7448 - loss: 0.9341 - val_accuracy: 0.7077 - val_loss: 1.1042\n",
            "Epoch 14/100\n",
            "1620/1620 - 0s - 184us/step - accuracy: 0.3333 - loss: 4.3189 - val_accuracy: 0.5716 - val_loss: 1.6711\n",
            "Epoch 15/100\n",
            "1620/1620 - 6s - 3ms/step - accuracy: 0.7507 - loss: 0.9206 - val_accuracy: 0.4862 - val_loss: 2.6588\n",
            "Epoch 16/100\n",
            "1620/1620 - 0s - 185us/step - accuracy: 1.0000 - loss: 0.5251 - val_accuracy: 0.4782 - val_loss: 2.8606\n",
            "Epoch 17/100\n",
            "1620/1620 - 6s - 4ms/step - accuracy: 0.7554 - loss: 0.9015 - val_accuracy: 0.8375 - val_loss: 0.7909\n",
            "Epoch 18/100\n",
            "1620/1620 - 0s - 187us/step - accuracy: 0.0000e+00 - loss: 4.4084 - val_accuracy: 0.7036 - val_loss: 1.1312\n",
            "Epoch 19/100\n",
            "1620/1620 - 6s - 3ms/step - accuracy: 0.7566 - loss: 0.9151 - val_accuracy: 0.8151 - val_loss: 0.7975\n",
            "Epoch 20/100\n",
            "1620/1620 - 0s - 185us/step - accuracy: 0.3333 - loss: 1.9292 - val_accuracy: 0.8251 - val_loss: 0.8535\n",
            "Epoch 21/100\n",
            "1620/1620 - 6s - 3ms/step - accuracy: 0.7502 - loss: 1.0011 - val_accuracy: 0.8201 - val_loss: 0.8381\n",
            "Epoch 22/100\n",
            "1620/1620 - 0s - 187us/step - accuracy: 1.0000 - loss: 0.4994 - val_accuracy: 0.8139 - val_loss: 0.8758\n",
            "Epoch 23/100\n",
            "1620/1620 - 6s - 3ms/step - accuracy: 0.7632 - loss: 0.8808 - val_accuracy: 0.7349 - val_loss: 1.2923\n",
            "Epoch 24/100\n",
            "1620/1620 - 0s - 190us/step - accuracy: 0.3333 - loss: 3.4080 - val_accuracy: 0.7253 - val_loss: 1.0465\n",
            "Epoch 25/100\n",
            "1620/1620 - 6s - 3ms/step - accuracy: 0.7666 - loss: 0.8798 - val_accuracy: 0.7375 - val_loss: 1.1153\n",
            "Epoch 26/100\n",
            "1620/1620 - 0s - 195us/step - accuracy: 0.6667 - loss: 0.7854 - val_accuracy: 0.7190 - val_loss: 1.1744\n",
            "Epoch 27/100\n",
            "1620/1620 - 6s - 3ms/step - accuracy: 0.7687 - loss: 0.8659 - val_accuracy: 0.8359 - val_loss: 0.7513\n",
            "Epoch 28/100\n",
            "1620/1620 - 0s - 192us/step - accuracy: 0.3333 - loss: 2.5814 - val_accuracy: 0.8527 - val_loss: 0.7000\n",
            "Epoch 29/100\n",
            "1620/1620 - 6s - 3ms/step - accuracy: 0.7638 - loss: 0.9126 - val_accuracy: 0.8225 - val_loss: 0.7891\n",
            "Epoch 30/100\n",
            "1620/1620 - 0s - 194us/step - accuracy: 1.0000 - loss: 0.4514 - val_accuracy: 0.8295 - val_loss: 0.7780\n",
            "Epoch 31/100\n",
            "1620/1620 - 6s - 3ms/step - accuracy: 0.7717 - loss: 0.8593 - val_accuracy: 0.6296 - val_loss: 1.8010\n",
            "Epoch 32/100\n",
            "1620/1620 - 0s - 184us/step - accuracy: 0.6667 - loss: 0.6375 - val_accuracy: 0.6677 - val_loss: 1.3130\n",
            "Epoch 33/100\n",
            "1620/1620 - 6s - 3ms/step - accuracy: 0.7722 - loss: 0.8637 - val_accuracy: 0.6868 - val_loss: 1.4303\n",
            "Epoch 34/100\n",
            "1620/1620 - 0s - 183us/step - accuracy: 0.0000e+00 - loss: 3.0968 - val_accuracy: 0.5520 - val_loss: 1.8130\n",
            "Epoch 35/100\n",
            "1620/1620 - 6s - 3ms/step - accuracy: 0.7695 - loss: 0.8864 - val_accuracy: 0.8519 - val_loss: 0.7613\n",
            "Epoch 36/100\n",
            "1620/1620 - 0s - 188us/step - accuracy: 1.0000 - loss: 0.5903 - val_accuracy: 0.8382 - val_loss: 0.7717\n",
            "Epoch 37/100\n",
            "1620/1620 - 6s - 3ms/step - accuracy: 0.7739 - loss: 0.8811 - val_accuracy: 0.8378 - val_loss: 0.7404\n",
            "Epoch 38/100\n",
            "1620/1620 - 0s - 186us/step - accuracy: 0.3333 - loss: 2.3364 - val_accuracy: 0.7872 - val_loss: 0.9052\n",
            "Epoch 38: early stopping\n",
            "Restoring model weights from the end of the best epoch: 28.\n",
            "\n",
            "Training finished.\n",
            "Best val accuracy: 0.8527\n",
            "Elapsed time: 0:02:16.62\n"
          ]
        }
      ],
      "source": [
        "# Insert your code for Step 9 here\n",
        "\n",
        "import time\n",
        "import tensorflow as tf\n",
        "import numpy as np\n",
        "\n",
        "# ------------------------------------------------------------------------\n",
        "# 1️⃣  Set variables\n",
        "# ------------------------------------------------------------------------\n",
        "EPOCHS = 100\n",
        "BATCH_SIZE = 64\n",
        "VERBOSE=2  # 2 means output during training\n",
        "STEPS_PER_EPOCH = len(eg_X_train) // BATCH_SIZE\n",
        "\n",
        "\n",
        "# ------------------------------------------------------------------------\n",
        "# 2️⃣  Train model\n",
        "# ------------------------------------------------------------------------\n",
        "print(f\"----- Training is starting for {EPOCHS} epochs, batch size: {BATCH_SIZE}, steps per epoch: {STEPS_PER_EPOCH}  --------------\")\n",
        "# Record start time\n",
        "start_time = time.time()\n",
        "\n",
        "# Train model\n",
        "eg_history = eg_model.fit(eg_X_train, eg_Y_train,\n",
        "                    validation_data=(eg_X_val, eg_Y_val),\n",
        "                    epochs=EPOCHS, batch_size=BATCH_SIZE,\n",
        "                    steps_per_epoch=STEPS_PER_EPOCH,\n",
        "                    callbacks=[eg_stop_monitor],\n",
        "                    verbose=VERBOSE\n",
        ")\n",
        "\n",
        "\n",
        "# ---------------------------------------------------------------------------\n",
        "# 9️⃣ Inspect training\n",
        "# ---------------------------------------------------------------------------\n",
        "print(f\"\\nTraining finished.\")\n",
        "print(f\"Best val accuracy: {np.max(eg_history.history['val_accuracy']):.4f}\")\n",
        "# Record end time\n",
        "elapsed_time = time.time() - start_time\n",
        "\n",
        "# Print elapsed time\n",
        "print(f\"Elapsed time: {hms_string(elapsed_time)}\")"
      ]
    },
    {
      "cell_type": "markdown",
      "metadata": {
        "id": "xrHpRqD28gte"
      },
      "source": [
        "------------------------------------------------\n",
        "\n",
        "## **Evaluating Model's Training**\n"
      ]
    },
    {
      "cell_type": "markdown",
      "metadata": {
        "id": "cXtCEnW7BsR6"
      },
      "source": [
        "### **Step 10: Plot `accuracy` and `val_accuracy`**"
      ]
    },
    {
      "cell_type": "code",
      "execution_count": 16,
      "metadata": {
        "id": "4KOEkmU5Bhc7",
        "colab": {
          "base_uri": "https://localhost:8080/",
          "height": 522
        },
        "outputId": "ae504382-5260-418a-cfb6-2285f9d98673"
      },
      "outputs": [
        {
          "output_type": "stream",
          "name": "stdout",
          "text": [
            "Best validation accuracy: 0.8527\n",
            "Best validation loss: 0.7000\n"
          ]
        },
        {
          "output_type": "display_data",
          "data": {
            "text/plain": [
              "<Figure size 1200x500 with 2 Axes>"
            ],
            "image/png": "[encoded data removed]"
          },
          "metadata": {}
        }
      ],
      "source": [
        "# Insert your code for Step 10 here\n",
        "\n",
        "\n",
        "import numpy as np\n",
        "\n",
        "# Show the best validation accuracy\n",
        "best_val_acc = np.max(eg_history.history['val_accuracy'])\n",
        "print(f\"Best validation accuracy: {best_val_acc:.4f}\")\n",
        "\n",
        "# Show the best validation loss\n",
        "best_val_loss = np.min(eg_history.history['val_loss'])\n",
        "print(f\"Best validation loss: {best_val_loss:.4f}\")\n",
        "\n",
        "# Plot training history\n",
        "import matplotlib.pyplot as plt\n",
        "\n",
        "plt.figure(figsize=(12,5))\n",
        "\n",
        "plt.subplot(1,2,1)\n",
        "plt.plot(eg_history.history['accuracy'], label='train')\n",
        "plt.plot(eg_history.history['val_accuracy'], label='val')\n",
        "plt.title('Accuracy')\n",
        "plt.xlabel('Epoch')\n",
        "plt.legend()\n",
        "\n",
        "plt.subplot(1,2,2)\n",
        "plt.plot(eg_history.history['loss'], label='train')\n",
        "plt.plot(eg_history.history['val_loss'], label='val')\n",
        "plt.title('Loss')\n",
        "plt.xlabel('Epoch')\n",
        "plt.legend()\n",
        "\n",
        "plt.show()"
      ]
    },
    {
      "cell_type": "markdown",
      "metadata": {
        "id": "aaZy2UeUprey"
      },
      "source": [
        "### **Step 11: Plot Image with Label**\n",
        "\n",
        "Make sure you use a meaningful label, **not** the label used in Class_03_1, Step 11. For example, if your datafile was `pathmnist_128`, you label might say `Organ type` or `Pathology type`. Do not use `Blood Cell type` unless you analyzing the bloodcell datafile, `bloodmnist_224`.\n"
      ]
    },
    {
      "cell_type": "code",
      "execution_count": 17,
      "metadata": {
        "id": "1CKXmI-VpeiY",
        "colab": {
          "base_uri": "https://localhost:8080/",
          "height": 428
        },
        "outputId": "0d66c1c3-9535-4957-fa72-56cceb26863a"
      },
      "outputs": [
        {
          "output_type": "display_data",
          "data": {
            "text/plain": [
              "<Figure size 640x480 with 1 Axes>"
            ],
            "image/png": "[encoded data removed]"
          },
          "metadata": {}
        }
      ],
      "source": [
        "# Insert your code for Step 11 here\n",
        "import matplotlib.pyplot as plt\n",
        "import numpy as np\n",
        "\n",
        "# Define test image number\n",
        "img_num=10\n",
        "\n",
        "# Read the image data\n",
        "image = eg_X_test[img_num]\n",
        "\n",
        "# Display the image\n",
        "plt.imshow(image)\n",
        "plt.title('Organ A type ' + str(np.argmax(eg_Y_test[img_num])))\n",
        "plt.axis('off')  # Hide the axis\n",
        "plt.show()"
      ]
    },
    {
      "cell_type": "markdown",
      "metadata": {
        "id": "AMF_1asAp9_n"
      },
      "source": [
        "### **Step 12: Plot 4 Frames with Label**\n",
        "\n",
        "**NOTE:** This step is incorrectly called **Step 13** in \"Class_03_1, Exercise - Step 13.\"\n",
        "\n",
        "Again, make sure you use a meaningful label, **not** the label used in Class_03_1, Step 12. For example, if your datafile was `pathmnist_128`, you label might say `Organ type` or `Pathology type`. Do not use `Blood Cell type` unless you analyzing the bloodcell datafile, `bloodmnist_224`.\n"
      ]
    },
    {
      "cell_type": "code",
      "execution_count": 18,
      "metadata": {
        "id": "arpKI32lqOXO",
        "colab": {
          "base_uri": "https://localhost:8080/",
          "height": 853
        },
        "outputId": "cc0aa670-f782-4d61-b82e-947bf14f33b7"
      },
      "outputs": [
        {
          "output_type": "display_data",
          "data": {
            "text/plain": [
              "<Figure size 1000x1000 with 8 Axes>"
            ],
            "image/png": "[encoded data removed]"
          },
          "metadata": {}
        }
      ],
      "source": [
        "# Insert your code for Step 12 here\n",
        "\n",
        "# Example - Step 12: Plot 4 frames with label\n",
        "\n",
        "import matplotlib.pyplot as plt\n",
        "from mpl_toolkits.axes_grid1 import ImageGrid\n",
        "\n",
        "\n",
        "# Set figure size\n",
        "fig = plt.figure(figsize=(10,10))\n",
        "grid = ImageGrid(\n",
        "        fig, 111,\n",
        "        nrows_ncols=(2,2),\n",
        "        axes_pad=0.5\n",
        ")\n",
        "\n",
        "# Plot 4 images\n",
        "for x in range(0,4):\n",
        "    grid[x].set_title('Organ A type ' + str(np.argmax(eg_Y_test[x])))\n",
        "    grid[x].imshow(eg_X_test[x])\n"
      ]
    },
    {
      "cell_type": "markdown",
      "metadata": {
        "id": "atkFq1eGxmjw"
      },
      "source": [
        "## **Assignment Turn-in**\n",
        "\n",
        "When you have completed and run all of the code cells, use the **File --> Print.. --> Microsoft Print to PDF** if you are running either Windows 10 or 11 to generate a PDF of your Colab notebook. If you have a Mac, use the **File --> Print.. --> Save as PDF**\n",
        "\n",
        "In either case, save your PDF as `Copy of Assignment_02.lastname.pdf` where _lastname_ is your last name, and upload the file to Canvas.\n",
        "\n",
        "**NOTE TO WINDOWS USERS:** You will automatically lose **10 points** if your PDF is missing pages when being graded in Canvas and the grader has take the additional steps to download your PDF, print it out using **Microsoft Print to PDF** and then resubmit to Canvas for grading."
      ]
    },
    {
      "cell_type": "markdown",
      "metadata": {
        "id": "jNtya3vqufwZ"
      },
      "source": [
        "## **Poly-A Tail**\n",
        "\n",
        "\n",
        "## **Convolutional neural network**\n",
        "\n",
        "![__](https://biologicslab.co/BIO1173/images/Assignment_02_image01.png)\n",
        "\n",
        "A **Convolutional Neural Network (CNN)** is a type of feedforward neural network that learns features via filter (or kernel) optimization. This type of deep learning network has been applied to process and make predictions from many different types of data including text, images and audio. Convolution-based networks are the de-facto standard in deep learning-based approaches to computer vision and image processing, and have only recently been replaced—in some cases—by newer deep learning architectures such as the transformer.\n",
        "\n",
        "**Vanishing gradients** and exploding gradients, seen during **backpropagation** in earlier neural networks, are prevented by the regularization that comes from using shared weights over fewer connections. For example, for each neuron in the fully-connected layer, 10,000 weights would be required for processing an image sized 100 x 100 pixels. However, applying cascaded convolution (or cross-correlation) kernels, only 25 weights for each convolutional layer are required to process 5x5-sized tiles. Higher-layer features are extracted from wider context windows, compared to lower-layer features.\n",
        "\n",
        "Some applications of CNNs include:\n",
        "\n",
        "* image and video recognition,\n",
        "* recommender systems,\n",
        "* image classification,\n",
        "* image segmentation,\n",
        "* **medical image analysis**\n",
        "* natural language processing,\n",
        "* brain–computer interfaces, and\n",
        "* financial time series.\n",
        "\n",
        "CNNs are also known as **shift invariant** or **space invariant artificial neural networks**, based on the shared-weight architecture of the convolution kernels or filters that slide along input features and provide translation-equivariant responses known as feature maps. Counter-intuitively, most convolutional neural networks are not invariant to translation, due to the downsampling operation they apply to the input.\n",
        "\n",
        "**Feedforward neural networks** are usually fully connected networks, that is, each neuron in one layer is connected to all neurons in the next layer. The \"full connectivity\" of these networks makes them prone to overfitting data. Typical ways of regularization, or preventing overfitting, include: penalizing parameters during training (such as weight decay) or trimming connectivity (skipped connections, dropout, etc.) Robust datasets also increase the probability that CNNs will learn the generalized principles that characterize a given dataset rather than the biases of a poorly-populated set.\n",
        "\n",
        "Convolutional networks were inspired by **biological processes** in that the connectivity pattern between neurons resembles the organization of the animal visual cortex. Individual cortical neurons respond to stimuli only in a restricted region of the visual field known as the receptive field. The receptive fields of different neurons partially overlap such that they cover the entire visual field.\n",
        "\n",
        "CNNs use relatively little pre-processing compared to other image classification algorithms. This means that the network learns to optimize the filters (or kernels) through automated learning, whereas in traditional algorithms these filters are hand-engineered. This simplifies and automates the process, enhancing efficiency and scalability overcoming human-intervention bottlenecks.\n",
        "\n",
        "**Architecture**\n",
        "\n",
        "A convolutional neural network consists of an input layer, hidden layers and an output layer. In a convolutional neural network, the hidden layers include one or more layers that perform convolutions. Typically this includes a layer that performs a **dot product** of the convolution kernel with the layer's input matrix. This product is usually the Frobenius inner product, and its activation function is commonly ReLU. As the convolution kernel slides along the input matrix for the layer, the convolution operation generates a feature map, which in turn contributes to the input of the next layer. This is followed by other layers such as pooling layers, fully connected layers, and normalization layers. Here it should be noted how close a convolutional neural network is to a matched filter.\n",
        "\n",
        "**Convolutional layers**\n",
        "In a CNN, the input is a tensor with shape:\n",
        "\n",
        "(number of inputs) x (input height) x (input width) × (input channels)\n",
        "\n",
        "After passing through a convolutional layer, the image becomes abstracted to a feature map, also called an activation map, with shape:\n",
        "\n",
        "(number of inputs) x (feature map height) x (feature map width) x (feature map channels).\n",
        "\n",
        "Convolutional layers convolve the input and pass its result to the next layer. This is similar to the response of a neuron in the visual cortex to a specific stimulus. Each convolutional neuron processes data only for its receptive field.\n",
        "\n",
        "Although fully connected feedforward neural networks can be used to learn features and classify data, this architecture is generally impractical for larger inputs (e.g., high-resolution images), which would require massive numbers of neurons because each pixel is a relevant input feature. A fully connected layer for an image of size 100 × 100 has 10,000 weights for each neuron in the second layer. Convolution reduces the number of free parameters, allowing the network to be deeper. For example, using a 5 × 5 tiling region, each with the same shared weights, requires only 25 neurons. Using shared weights means there are many fewer parameters, which helps avoid the vanishing gradients and exploding gradients problems seen during backpropagation in earlier neural networks.\n",
        "\n",
        "To speed processing, standard convolutional layers can be replaced by depthwise separable convolutional layers, which are based on a depthwise convolution followed by a pointwise convolution. The depthwise convolution is a spatial convolution applied independently over each channel of the input tensor, while the pointwise convolution is a standard convolution restricted to the use of\n",
        "\n",
        "**Pooling layers**\n",
        "\n",
        "Convolutional networks may include local and/or global pooling layers along with traditional convolutional layers. Pooling layers reduce the dimensions of data by combining the outputs of neuron clusters at one layer into a single neuron in the next layer. Local pooling combines small clusters, tiling sizes such as 2 × 2 are commonly used. Global pooling acts on all the neurons of the feature map. There are two common types of pooling in popular use: max and average. Max pooling uses the maximum value of each local cluster of neurons in the feature map, while average pooling takes the average value.\n",
        "\n",
        "**Fully connected layers**\n",
        "\n",
        "Fully connected layers connect every neuron in one layer to every neuron in another layer. It is the same as a traditional multilayer perceptron neural network (MLP). The flattened matrix goes through a fully connected layer to classify the images.\n",
        "\n",
        "**Receptive field**\n",
        "\n",
        "In neural networks, each neuron receives input from some number of locations in the previous layer. In a convolutional layer, each neuron receives input from only a restricted area of the previous layer called the neuron's receptive field. Typically the area is a square (e.g. 5 by 5 neurons). Whereas, in a fully connected layer, the receptive field is the entire previous layer. Thus, in each convolutional layer, each neuron takes input from a larger area in the input than previous layers. This is due to applying the convolution over and over, which takes the value of a pixel into account, as well as its surrounding pixels. When using dilated layers, the number of pixels in the receptive field remains constant, but the field is more sparsely populated as its dimensions grow when combining the effect of several layers.\n",
        "\n",
        "To manipulate the receptive field size as desired, there are some alternatives to the standard convolutional layer. For example, atrous or dilated convolution expands the receptive field size without increasing the number of parameters by interleaving visible and blind regions. Moreover, a single dilated convolutional layer can comprise filters with multiple dilation ratios,thus having a variable receptive field size.\n",
        "\n",
        "**Weights**\n",
        "\n",
        "Each neuron in a neural network computes an output value by applying a specific function to the input values received from the receptive field in the previous layer. The function that is applied to the input values is determined by a vector of weights and a bias (typically real numbers). Learning consists of iteratively adjusting these biases and weights.\n",
        "\n",
        "The vectors of weights and biases are called filters and represent particular features of the input (e.g., a particular shape). A distinguishing feature of CNNs is that many neurons can share the same filter. This reduces the memory footprint because a single bias and a single vector of weights are used across all receptive fields that share that filter, as opposed to each receptive field having its own bias and vector weighting.\n",
        "\n",
        "**Deconvolutional**\n",
        "\n",
        "A deconvolutional neural network is essentially the reverse of a CNN. It consists of deconvolutional layers and unpooling layers.\n",
        "\n",
        "A deconvolutional layer is the transpose of a convolutional layer. Specifically, a convolutional layer can be written as a multiplication with a matrix, and a deconvolutional layer is multiplication with the transpose of that matrix.\n",
        "\n",
        "Deconvolution layers are used in image generators. By default, it creates periodic checkerboard artifact, which can be fixed by upscale-then-convolve.\n",
        "\n",
        "### **History**\n",
        "\n",
        "CNN are often compared to the way the brain achieves vision processing in living organisms.\n",
        "\n",
        "**Receptive fields in the visual cortex**\n",
        "\n",
        "Work by Hubel and Wiesel in the 1950s and 1960s showed that cat visual cortices contain neurons that individually respond to small regions of the visual field. Provided the eyes are not moving, the region of visual space within which visual stimuli affect the firing of a single neuron is known as its receptive field. Neighboring cells have similar and overlapping receptive fields. Receptive field size and location varies systematically across the cortex to form a complete map of visual space. The cortex in each hemisphere represents the contralateral visual field.\n",
        "\n",
        "Their 1968 paper identified two basic visual cell types in the brain:\n",
        "\n",
        "* **simple cells**, whose output is maximized by straight edges having particular orientations within their receptive field\n",
        "\n",
        "* **complex cells**, which have larger receptive fields, whose output is insensitive to the exact position of the edges in the field.\n",
        "Hubel and Wiesel also proposed a cascading model of these two types of cells for use in pattern recognition tasks.\n",
        "\n",
        "**Fukushima's analog threshold elements in a vision model**\n",
        "\n",
        "In 1969, Kunihiko Fukushima introduced a multilayer visual feature detection network, inspired by the above-mentioned work of Hubel and Wiesel, in which \"All the elements in one layer have the same set of interconnecting coefficients; the arrangement of the elements and their interconnections are all homogeneous over a given layer.\" This is the essential core of a convolutional network, but the weights were not trained. In the same paper, Fukushima also introduced the ReLU (rectified linear unit) activation function.\n",
        "\n",
        "**Neocognitron, origin of the trainable CNN architecture**\n",
        "\n",
        "The \"neocognitron\" was introduced by Fukushima in 1980. The neocognitron introduced the two basic types of layers:\n",
        "\n",
        "* **\"S-layer\":** a shared-weights receptive-field layer, later known as a convolutional layer, which contains units whose receptive fields cover a patch of the previous layer. A shared-weights receptive-field group (a \"plane\" in neocognitron terminology) is often called a filter, and a layer typically has several such filters.\n",
        "\n",
        "* **\"C-layer\":** a downsampling layer that contain units whose receptive fields cover patches of previous convolutional layers. Such a unit typically computes a weighted average of the activations of the units in its patch, and applies inhibition (divisive normalization) pooled from a somewhat larger patch and across different filters in a layer, and applies a saturating activation function. The patch weights are nonnegative and are not trainable in the original neocognitron. The downsampling and competitive inhibition help to classify features and objects in visual scenes even when the objects are shifted.\n",
        "\n",
        "Several supervised and unsupervised learning algorithms have been proposed over the decades to train the weights of a neocognitron. Today, however, the CNN architecture is usually trained through backpropagation.\n",
        "\n",
        "Fukushima's ReLU activation function was not used in his neocognitron since all the weights were nonnegative; lateral inhibition was used instead. The rectifier has become a very popular activation function for CNNs and deep neural networks in general.\n",
        "\n",
        "**Convolution in time**\n",
        "\n",
        "The term \"convolution\" first appears in neural networks in a paper by Toshiteru Homma, Les Atlas, and Robert Marks II at the first Conference on Neural Information Processing Systems in 1987. Their paper replaced multiplication with convolution in time, inherently providing shift invariance, motivated by and connecting more directly to the signal-processing concept of a filter, and demonstrated it on a speech recognition task. They also pointed out that as a data-trainable system, convolution is essentially equivalent to correlation since reversal of the weights does not affect the final learned function (\"For convenience, we denote * as correlation instead of convolution. Note that convolving a(t) with b(t) is equivalent to correlating a(-t) with b(t).\"). Modern CNN implementations typically do correlation and call it convolution, for convenience, as they did here.\n",
        "\n",
        "**Time delay neural networks**\n",
        "\n",
        "The time delay neural network (TDNN) was introduced in 1987 by Alex Waibel et al. for phoneme recognition and was an early convolutional network exhibiting shift-invariance. A TDNN is a 1-D convolutional neural net where the convolution is performed along the time axis of the data. It is the first CNN utilizing weight sharing in combination with a training by gradient descent, using backpropagation. Thus, while also using a pyramidal structure as in the neocognitron, it performed a global optimization of the weights instead of a local one.\n",
        "\n",
        "TDNNs are convolutional networks that share weights along the temporal dimension. They allow speech signals to be processed time-invariantly. In 1990 Hampshire and Waibel introduced a variant that performs a two-dimensional convolution. Since these TDNNs operated on spectrograms, the resulting phoneme recognition system was invariant to both time and frequency shifts, as with images processed by a neocognitron.\n",
        "\n",
        "TDNNs improved the performance of far-distance speech recognition.\n",
        "\n",
        "**Image recognition with CNNs trained by gradient descent**\n",
        "\n",
        "Denker et al. (1989) designed a 2-D CNN system to recognize hand-written ZIP Code numbers. However, the lack of an efficient training method to determine the kernel coefficients of the involved convolutions meant that all the coefficients had to be laboriously hand-designed.\n",
        "\n",
        "Following the advances in the training of 1-D CNNs by Waibel et al. (1987), Yann LeCun et al.(1989) used back-propagation to learn the convolution kernel coefficients directly from images of hand-written numbers. Learning was thus fully automatic, performed better than manual coefficient design, and was suited to a broader range of image recognition problems and image types. Wei Zhang et al. (1988) used back-propagation to train the convolution kernels of a CNN for alphabets recognition. The model was called shift-invariant pattern recognition neural network before the name CNN was coined later in the early 1990s. Wei Zhang et al. also applied the same CNN without the last fully connected layer for medical image object segmentation (1991) and breast cancer detection in mammograms (1994).\n",
        "\n",
        "This approach became a foundation of modern computer vision.\n",
        "\n",
        "**Max pooling**\n",
        "\n",
        "In 1990 Yamaguchi et al. introduced the concept of max pooling, a fixed filtering operation that calculates and propagates the maximum value of a given region. They did so by combining TDNNs with max pooling to realize a speaker-independent isolated word recognition system. In their system they used several TDNNs per word, one for each syllable. The results of each TDNN over the input signal were combined using max pooling and the outputs of the pooling layers were then passed on to networks performing the actual word classification.\n",
        "\n",
        "In a variant of the neocognitron called the cresceptron, instead of using Fukushima's spatial averaging with inhibition and saturation, J. Weng et al. in 1993 used max pooling, where a downsampling unit computes the maximum of the activations of the units in its patch, introducing this method into the vision field.\n",
        "\n",
        "Max pooling is often used in modern CNNs.\n",
        "\n",
        "\n",
        "**Shift-invariant neural network**\n",
        "\n",
        "A shift-invariant neural network was proposed by Wei Zhang et al. for image character recognition in 1988.It is a modified Neocognitron by keeping only the convolutional interconnections between the image feature layers and the last fully connected layer. The model was trained with back-propagation. The training algorithm was further improved in 1991 to improve its generalization ability. The model architecture was modified by removing the last fully connected layer and applied for medical image segmentation (1991) and automatic detection of breast cancer in mammograms (1994).\n",
        "\n",
        "A different convolution-based design was proposed in 1988 for application to decomposition of one-dimensional electromyography convolved signals via de-convolution. This design was modified in 1989 to other de-convolution-based designs.\n",
        "\n",
        "**GPU implementations**\n",
        "\n",
        "Although CNNs were invented in the 1980s, their breakthrough in the 2000s required fast implementations on graphics processing units (GPUs).\n",
        "\n",
        "In 2004, it was shown by K. S. Oh and K. Jung that standard neural networks can be greatly accelerated on GPUs. Their implementation was 20 times faster than an equivalent implementation on CPU.In 2005, another paper also emphasised the value of GPGPU for machine learning.\n",
        "\n",
        "The first GPU-implementation of a CNN was described in 2006 by K. Chellapilla et al. Their implementation was 4 times faster than an equivalent implementation on CPU. In the same period, GPUs were also used for unsupervised training of deep belief networks.\n",
        "\n",
        "In 2010, Dan Ciresan et al. at IDSIA trained deep feedforward networks on GPUs. In 2011, they extended this to CNNs, accelerating by 60 compared to training CPU. In 2011, the network won an image recognition contest where they achieved superhuman performance for the first time. Then they won more competitions and achieved state of the art on several benchmarks.\n",
        "\n",
        "Subsequently, AlexNet, a similar GPU-based CNN by Alex Krizhevsky et al. won the ImageNet Large Scale Visual Recognition Challenge 2012. It was an early catalytic event for the AI boom.\n",
        "\n",
        "Compared to the training of CNNs using GPUs, not much attention was given to CPU. (Viebke et al 2019) parallelizes CNN by thread- and SIMD-level parallelism that is available on the Intel Xeon Phi.\n",
        "\n",
        "**Distinguishing features**\n",
        "\n",
        "In the past, traditional multilayer perceptron (MLP) models were used for image recognition. However, the full connectivity between nodes caused the curse of dimensionality, and was computationally intractable with higher-resolution images. A 1000×1000-pixel image with RGB color channels has 3 million weights per fully-connected neuron, which is too high to feasibly process efficiently at scale.\n",
        "\n",
        "CNN layers arranged in 3 dimensions\n",
        "For example, in CIFAR-10, images are only of size 32×32×3 (32 wide, 32 high, 3 color channels), so a single fully connected neuron in the first hidden layer of a regular neural network would have 32*32*3 = 3,072 weights. A 200×200 image, however, would lead to neurons that have 200*200*3 = 120,000 weights.\n",
        "\n",
        "Also, such network architecture does not take into account the spatial structure of data, treating input pixels which are far apart in the same way as pixels that are close together. This ignores locality of reference in data with a grid-topology (such as images), both computationally and semantically. Thus, full connectivity of neurons is wasteful for purposes such as image recognition that are dominated by spatially local input patterns.\n",
        "\n",
        "Convolutional neural networks are variants of multilayer perceptrons, designed to emulate the behavior of a visual cortex. These models mitigate the challenges posed by the MLP architecture by exploiting the strong spatially local correlation present in natural images. As opposed to MLPs, CNNs have the following distinguishing features:\n",
        "\n",
        "3D volumes of neurons. The layers of a CNN have neurons arranged in 3 dimensions: width, height and depth. Where each neuron inside a convolutional layer is connected to only a small region of the layer before it, called a receptive field. Distinct types of layers, both locally and completely connected, are stacked to form a CNN architecture.\n",
        "Local connectivity: following the concept of receptive fields, CNNs exploit spatial locality by enforcing a local connectivity pattern between neurons of adjacent layers. The architecture thus ensures that the learned \"filters\" produce the strongest response to a spatially local input pattern. Stacking many such layers leads to nonlinear filters that become increasingly global (i.e. responsive to a larger region of pixel space) so that the network first creates representations of small parts of the input, then from them assembles representations of larger areas.\n",
        "\n",
        "* **Shared weights:** In CNNs, each filter is replicated across the entire visual field. These replicated units share the same parameterization (weight vector and bias) and form a feature map. This means that all the neurons in a given convolutional layer respond to the same feature within their specific response field. Replicating units in this way allows for the resulting activation map to be equivariant under shifts of the locations of input features in the visual field, i.e. they grant translational equivariance—given that the layer has a stride of one.\n",
        "\n",
        "* **Pooling:** In a CNN's pooling layers, feature maps are divided into rectangular sub-regions, and the features in each rectangle are independently down-sampled to a single value, commonly by taking their average or maximum value. In addition to reducing the sizes of feature maps, the pooling operation grants a degree of local translational invariance to the features contained therein, allowing the CNN to be more robust to variations in their positions.\n",
        "\n",
        "Together, these properties allow CNNs to achieve better generalization on vision problems. Weight sharing dramatically reduces the number of free parameters learned, thus lowering the memory requirements for running the network and allowing the training of larger, more powerful networks.\n",
        "\n",
        "**Building blocks**\n",
        "\n",
        "A CNN architecture is formed by a stack of distinct layers that transform the input volume into an output volume (e.g. holding the class scores) through a differentiable function. A few distinct types of layers are commonly used.\n",
        "\n",
        "The convolutional layer is the core building block of a CNN. The layer's parameters consist of a set of learnable filters (or kernels), which have a small receptive field, but extend through the full depth of the input volume. During the forward pass, each filter is convolved across the width and height of the input volume, computing the dot product between the filter entries and the input, producing a 2-dimensional activation map of that filter. As a result, the network learns filters that activate when it detects some specific type of feature at some spatial position in the input.\n",
        "\n",
        "Stacking the activation maps for all filters along the depth dimension forms the full output volume of the convolution layer. Every entry in the output volume can thus also be interpreted as an output of a neuron that looks at a small region in the input. Each entry in an activation map use the same set of parameters that define the filter.\n",
        "\n",
        "Self-supervised learning has been adapted for use in convolutional layers by using sparse patches with a high-mask ratio and a global response normalization layer.\n",
        "\n",
        "**Typical CNN architecture**\n",
        "\n",
        "When dealing with high-dimensional inputs such as images, it is impractical to connect neurons to all neurons in the previous volume because such a network architecture does not take the spatial structure of the data into account. Convolutional networks exploit spatially local correlation by enforcing a sparse local connectivity pattern between neurons of adjacent layers: each neuron is connected to only a small region of the input volume.\n",
        "\n",
        "The extent of this connectivity is a hyperparameter called the receptive field of the neuron. The connections are local in space (along width and height), but always extend along the entire depth of the input volume. Such an architecture ensures that the learned filters produce the strongest response to a spatially local input pattern.\n"
      ]
    },
    {
      "cell_type": "code",
      "execution_count": null,
      "metadata": {
        "id": "HJjKbpyWovaz"
      },
      "outputs": [],
      "source": []
    }
  ],
  "metadata": {
    "accelerator": "GPU",
    "colab": {
      "gpuType": "A100",
      "machine_shape": "hm",
      "provenance": [],
      "include_colab_link": true
    },
    "kernelspec": {
      "display_name": "Python 3 (ipykernel)",
      "language": "python",
      "name": "python3"
    },
    "language_info": {
      "codemirror_mode": {
        "name": "ipython",
        "version": 3
      },
      "file_extension": ".py",
      "mimetype": "text/x-python",
      "name": "python",
      "nbconvert_exporter": "python",
      "pygments_lexer": "ipython3",
      "version": "3.11.13"
    }
  },
  "nbformat": 4,
  "nbformat_minor": 0
}