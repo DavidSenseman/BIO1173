{
  "nbformat": 4,
  "nbformat_minor": 0,
  "metadata": {
    "colab": {
      "provenance": [],
      "authorship_tag": "ABX9TyOtqWmbADqbbU4XbXxkRrrs",
      "include_colab_link": true
    },
    "kernelspec": {
      "name": "python3",
      "display_name": "Python 3"
    },
    "language_info": {
      "name": "python"
    }
  },
  "cells": [
    {
      "cell_type": "markdown",
      "metadata": {
        "id": "view-in-github",
        "colab_type": "text"
      },
      "source": [
        "<a href=\"https://colab.research.google.com/github/DavidSenseman/BIO1173/blob/main/Extract_Questions_Qti.ipynb\" target=\"_parent\"><img src=\"https://colab.research.google.com/assets/colab-badge.svg\" alt=\"Open In Colab\"/></a>"
      ]
    },
    {
      "cell_type": "code",
      "execution_count": null,
      "metadata": {
        "id": "pdVWV1bxl58R"
      },
      "outputs": [],
      "source": [
        "# Program to extract questions from exported Canvas quizzes\n",
        "# Reads xml.qti file\n",
        "\n",
        "import xml.etree.ElementTree as ET\n",
        "from html import unescape\n",
        "\n",
        "def extract_questions(xml_file, text_file):\n",
        "    # Parse the XML file\n",
        "    tree = ET.parse(xml_file)\n",
        "    root = tree.getroot()\n",
        "\n",
        "    # Define the namespace\n",
        "    ns = {'ns': 'http://www.imsglobal.org/xsd/ims_qtiasiv1p2'}\n",
        "\n",
        "    # Extract text from <mattext> elements nested within <material> elements\n",
        "    questions = []\n",
        "    for material in root.findall(\".//ns:material\", ns):\n",
        "        mattext = material.find(\".//ns:mattext[@texttype='text/html']\", ns)\n",
        "        if mattext is not None and mattext.text:\n",
        "            question_text = unescape(mattext.text.strip())\n",
        "            #print(f\"Found question: {question_text}\")\n",
        "            questions.append(question_text)\n",
        "\n",
        "    if questions:\n",
        "        # Write the extracted questions to the text file\n",
        "        with open(text_file, 'w') as f:\n",
        "            for question in questions:\n",
        "                f.write(question + '\\n\\n')\n",
        "        print(f'Questions extracted from {xml_file} and saved to {text_file}')\n",
        "    else:\n",
        "        print(\"No questions to write to the output file.\")\n",
        "\n",
        "# Specify the input XML file and output text file\n",
        "xml_file = 'Exam1.xml.qti'\n",
        "text_file = 'questions.txt'\n",
        "\n",
        "# Extract and print the questions\n",
        "extract_questions(xml_file, text_file)\n"
      ]
    }
  ]
}