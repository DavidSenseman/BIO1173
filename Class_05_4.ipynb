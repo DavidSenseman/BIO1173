{
  "cells": [
    {
      "cell_type": "markdown",
      "metadata": {
        "id": "view-in-github",
        "colab_type": "text"
      },
      "source": [
        "<a href=\"https://colab.research.google.com/github/DavidSenseman/BIO1173/blob/main/Class_05_4.ipynb\" target=\"_parent\"><img src=\"https://colab.research.google.com/assets/colab-badge.svg\" alt=\"Open In Colab\"/></a>"
      ]
    },
    {
      "cell_type": "markdown",
      "metadata": {
        "id": "ZYZVwSpdbE3Y"
      },
      "source": [
        "---------------------------\n",
        "**COPYRIGHT NOTICE:** This Jupyterlab Notebook is a Derivative work of [Jeff Heaton](https://github.com/jeffheaton) licensed under the Apache License, Version 2.0 (the \"License\"); You may not use this file except in compliance with the License. You may obtain a copy of the License at\n",
        "\n",
        "> [http://www.apache.org/licenses/LICENSE-2.0](http://www.apache.org/licenses/LICENSE-2.0)\n",
        "\n",
        "Unless required by applicable law or agreed to in writing, software distributed under the License is distributed on an \"AS IS\" BASIS, WITHOUT WARRANTIES OR CONDITIONS OF ANY KIND, either express or implied. See the License for the specific language governing permissions and limitations under the License.\n",
        "\n",
        "------------------------"
      ]
    },
    {
      "cell_type": "markdown",
      "metadata": {
        "id": "ExN-OzpYbE3Y"
      },
      "source": [
        "# **BIO 1173: Intro Computational Biology**"
      ]
    },
    {
      "cell_type": "markdown",
      "metadata": {
        "id": "vt4imk1kbE3Y"
      },
      "source": [
        "##### **Module 5: Natural Language Processing**\n",
        "\n",
        "* Instructor: [David Senseman](mailto:David.Senseman@utsa.edu), [Department of Biology, Health and the Environment](https://sciences.utsa.edu/bhe/), [UTSA](https://www.utsa.edu/)\n",
        "\n",
        "### Module 5 Material\n",
        "\n",
        "* Part 5.1: Introduction to Hugging Face\n",
        "* Part 5.2: Hugging Face Tokenizers\n",
        "* Part 5.3: Hugging Face Datasets\n",
        "* **Part 5.4: Training Hugging Face models**"
      ]
    },
    {
      "cell_type": "markdown",
      "metadata": {
        "id": "V_-lPkxLbE3Z"
      },
      "source": [
        "## Google CoLab Instructions\n",
        "\n",
        "You MUST run the following code cell to get credit for this class lesson. By running this code cell, you will map your GDrive to /content/drive and print out your Google GMAIL address. Your Instructor will use your GMAIL address to verify the author of this class lesson."
      ]
    },
    {
      "cell_type": "code",
      "execution_count": null,
      "metadata": {
        "id": "seXFCYH4LDUM",
        "scrolled": true
      },
      "outputs": [],
      "source": [
        "# You must run this cell first\n",
        "try:\n",
        "    from google.colab import drive\n",
        "    drive.mount('/content/drive', force_remount=True)\n",
        "    from google.colab import auth\n",
        "    auth.authenticate_user()\n",
        "    Colab = True\n",
        "    print(\"Note: Using Google CoLab\")\n",
        "    import requests\n",
        "    gcloud_token = !gcloud auth print-access-token\n",
        "    gcloud_tokeninfo = requests.get('https://www.googleapis.com/oauth2/v3/tokeninfo?access_token=' + gcloud_token[0]).json()\n",
        "    print(gcloud_tokeninfo['email'])\n",
        "except:\n",
        "    print(\"**WARNING**: Your GMAIL address was **not** printed in the output below.\")\n",
        "    print(\"**WARNING**: You will NOT receive credit for this lesson.\")\n",
        "    Colab = False"
      ]
    },
    {
      "cell_type": "markdown",
      "metadata": {
        "id": "xG3_sXTDfyjA"
      },
      "source": [
        "You should see the following output except your GMAIL address should appear on the last line.\n",
        "\n",
        "![__](https://biologicslab.co/BIO1173/images/class_04/class_04_1_image01B.png)\n",
        "\n",
        "If your GMAIL address does not appear your lesson will **not** be graded."
      ]
    },
    {
      "cell_type": "markdown",
      "metadata": {
        "id": "-Y1civyK7D7P"
      },
      "source": [
        "## **Accelerated Run-time Check**\n",
        "\n",
        "You MUST run the following code cell to get credit for this class lesson. The code in this cell checks what hardware acceleration you are using. To run this lesson, you must be running a Graphics Processing Unit (GPU)."
      ]
    },
    {
      "cell_type": "code",
      "execution_count": null,
      "metadata": {
        "id": "WeDpYygK7OcO"
      },
      "outputs": [],
      "source": [
        "# You must run this cell second\n",
        "\n",
        "import tensorflow as tf\n",
        "\n",
        "def check_device():\n",
        "    # Check for available devices\n",
        "    devices = tf.config.list_physical_devices()\n",
        "\n",
        "    # Initialize device flags\n",
        "    cpu = False\n",
        "    gpu = False\n",
        "    tpu = False\n",
        "\n",
        "    # Check device types\n",
        "    for device in devices:\n",
        "        if device.device_type == 'CPU':\n",
        "            cpu = True\n",
        "        elif device.device_type == 'GPU':\n",
        "            gpu = True\n",
        "        elif device.device_type == 'TPU':\n",
        "            tpu = True\n",
        "\n",
        "    # Output device status\n",
        "    if tpu:\n",
        "        print(\"Running on TPU\")\n",
        "        print(\"WARNING: You must run this assigment using a GPU to earn credit\")\n",
        "        print(\"Change your RUNTIME now!\")\n",
        "    elif gpu:\n",
        "        print(\"Running on GPU\")\n",
        "        gpu_info = !nvidia-smi\n",
        "        gpu_info = '\\n'.join(gpu_info)\n",
        "        print(gpu_info)\n",
        "        print(\"You are using a GPU hardware accelerator--You're good to go!\")\n",
        "    elif cpu:\n",
        "        print(\"Running on CPU\")\n",
        "        print(\"WARNING: You must run this assigment using a GPU to earn credit\")\n",
        "        print(\"Change your RUNTIME now!\")\n",
        "    else:\n",
        "        print(\"No compatible device found\")\n",
        "        print(\"WARNING: You must run this assigment using either a GPU or a TPU to earn credit\")\n",
        "        print(\"Change your RUNTIME now!\")\n",
        "\n",
        "\n",
        "# Call the function\n",
        "check_device()"
      ]
    },
    {
      "cell_type": "markdown",
      "metadata": {
        "id": "Yv5dGIY77WS2"
      },
      "source": [
        "If you current `Runtime` is correct you should see the following output\n",
        "\n",
        "![__](https://biologicslab.co/BIO1173/images/class_05/class_05_4_image11A.png)\n",
        "\n",
        "However, if you received this warning message\n",
        "\n",
        "![__](https://biologicslab.co/BIO1173/images/class_05/class_05_4_image14A.png)\n",
        "\n",
        "You **MUST** go back and change your `Runtime` now before you continue."
      ]
    },
    {
      "cell_type": "markdown",
      "source": [
        "### **YouTube Introduction to Training Hugging Face Datasets**\n",
        "\n",
        "Run the next cell to see short introduction to Training Hugging Face Datasets. This is a suggested, but optional, part of the lesson."
      ],
      "metadata": {
        "id": "xdz1XXs_gCks"
      }
    },
    {
      "cell_type": "code",
      "source": [
        "from IPython.display import HTML\n",
        "video_id = \"7YZOik5S3vs\"\n",
        "HTML(f\"\"\"\n",
        "<iframe width=\"560\" height=\"315\"\n",
        "  src=\"https://www.youtube.com/embed/{video_id}\"\n",
        "  title=\"YouTube video player\"\n",
        "  frameborder=\"0\"\n",
        "  allow=\"accelerometer; autoplay; clipboard-write; encrypted-media; gyroscope; picture-in-picture\"\n",
        "  allowfullscreen>\n",
        "</iframe>\n",
        "\"\"\")"
      ],
      "metadata": {
        "id": "tuiauOW6gDTZ"
      },
      "execution_count": null,
      "outputs": []
    },
    {
      "cell_type": "markdown",
      "metadata": {
        "id": "iOOH7DgTY1Gx"
      },
      "source": [
        "## **Training Hugging Face Models**\n",
        "\n",
        "**Hugging Face Models** are pre-trained machine learning models available on the Hugging Face Model Hub. These models cover a wide range of tasks, including natural language processing, computer vision, audio processing, and more. They are designed to be easily accessible and usable, allowing developers and researchers to leverage state-of-the-art models without needing to train them from scratch.\n",
        "\n",
        "There are several reasons why you might want to train Hugging Face Models:\n",
        "\n",
        "1. **Customization:** Fine-tuning a pre-trained model on your specific dataset can improve its performance on your particular task.\n",
        "\n",
        "2. **Efficiency:** Training a model from scratch can be time-consuming and resource-intensive. Fine-tuning a pre-trained model can save time and computational resources.\n",
        "\n",
        "2. **Accessibility:** Hugging Face provides tools and libraries that make it easier to train and deploy models, lowering the barrier to entry for machine learning projects.\n"
      ]
    },
    {
      "cell_type": "markdown",
      "metadata": {
        "id": "P7Ny7DNFYhRP"
      },
      "source": [
        "### Install Custom Function\n",
        "\n",
        "Run the next cell to create a custom function for this lesson. You code will not run corrctly if you fail to run the next cell."
      ]
    },
    {
      "cell_type": "code",
      "execution_count": null,
      "metadata": {
        "id": "WllsY2jkrj-C"
      },
      "outputs": [],
      "source": [
        "# Simple function to print out elasped time\n",
        "def hms_string(sec_elapsed):\n",
        "    h = int(sec_elapsed / (60 * 60))\n",
        "    m = int((sec_elapsed % (60 * 60)) / 60)\n",
        "    s = sec_elapsed % 60\n",
        "    return \"{}:{:>02}:{:>05.2f}\".format(h, m, s)"
      ]
    },
    {
      "cell_type": "markdown",
      "metadata": {
        "id": "xaOJ4Sr36arE"
      },
      "source": [
        "If the code is correct you should not see any output."
      ]
    },
    {
      "cell_type": "markdown",
      "metadata": {
        "id": "YlPf_OSZZK9u"
      },
      "source": [
        "### Install Hugging Face Datasets\n",
        "\n",
        "Before we can beging, we need to install Hugging Face datasets by running the code in the next cell. This may take a little while so please be patient...\n"
      ]
    },
    {
      "cell_type": "code",
      "execution_count": null,
      "metadata": {
        "id": "evqhMPU8ZSV-"
      },
      "outputs": [],
      "source": [
        "# Install Hugging Face Datasets\n",
        "\n",
        "!pip install transformers > /dev/null\n",
        "!pip install transformers[torch] > /dev/null\n",
        "!pip install transformers[sentencepiece] > /dev/null\n",
        "!pip install datasets  > /dev/null\n",
        "!pip install huggingface_hub  > /dev/null"
      ]
    },
    {
      "cell_type": "markdown",
      "metadata": {
        "id": "jPq7I3d76Rzd"
      },
      "source": [
        "If the code is correct you should not see any output."
      ]
    },
    {
      "cell_type": "markdown",
      "source": [
        "# **Emotion Analysis**\n",
        "\n",
        "**Emotion analysis** (also called **affective computing** or **sentiment/emotion classification**) is a subfield of NLP that focuses on identifying and categorizing emotions expressed in text.\n",
        "\n",
        "Unlike sentiment analysis (which typically classifies text as positive, negative, or neutral), emotion analysis aims to detect **specific emotions** such as:\n",
        "- Joy\n",
        "- Sadness\n",
        "- Anger\n",
        "- Fear\n",
        "- Surprise\n",
        "- Disgust\n",
        "- Trust\n",
        "- Anticipation\n",
        "\n",
        "### **Common Approaches**\n",
        "\n",
        "#### **1. Lexicon-Based Methods**\n",
        "Use predefined dictionaries like:\n",
        "- **NRC Emotion Lexicon**\n",
        "- **WordNet-Affect**\n",
        "- **LIWC**\n",
        "\n",
        "These map words to emotions and aggregate scores across a text.\n",
        "\n",
        "#### **2. Machine Learning Models**\n",
        "Train classifiers (e.g., SVM, Logistic Regression) on labeled datasets:\n",
        "- Features: Bag-of-Words, TF-IDF, word embeddings\n",
        "- Datasets: EmoReact, ISEAR, SemEval, TweetEval\n",
        "\n",
        "#### **3. Deep Learning Models**\n",
        "Use neural networks like:\n",
        "- CNNs or RNNs (LSTM/GRU)\n",
        "- Transformers (e.g., BERT, RoBERTa)\n",
        "- Fine-tuned models on emotion datasets\n",
        "\n",
        "In Example 1 we will be using a transformer deep learning model called **`DistBert`** for **sequence classification** with the **`Go-Emotions`** dataset."
      ],
      "metadata": {
        "id": "2BL2nLCf2YIZ"
      }
    },
    {
      "cell_type": "markdown",
      "metadata": {
        "id": "NtY6Vr677LAK"
      },
      "source": [
        "## **GO‑Emotions Dataset (Hugging Face)**\n",
        "\n",
        "**The GO‑Emotions dataset** is a large, high-quality collection of 58,000 short `Reddit` comments annotated with 27 fine-grained emotions, such as *admiration*, *anger*, *anxiety*, and *gratitude*. Each comment may carry multiple emotions, making it a multi‑label classification resource that captures the nuanced affective states people express online.\n",
        "\n",
        "#### **Relevance for Computational Biologists**\n",
        "\n",
        "1. **Concrete, Hands‑On Machine‑Learning Practice**  \n",
        "   - The dataset is *only* 58 k short text snippets, so it can be processed on a laptop or a free Google‑Colab GPU.  \n",
        "   - Students learn the full pipeline: data loading, tokenization, model selection, fine‑tuning, evaluation, and reproducible experimentation—all in a single, end‑to‑end notebook.\n",
        "\n",
        "2. **Multi-Label Classification – A Common Challenge in Bioinformatics**  \n",
        "   - In genomics or proteomics you often predict *multiple* functional annotations per gene or protein.  \n",
        "   - Training on GO‑Emotions teaches how to handle overlapping labels, compute appropriate metrics (AUROC, macro‑F1), and balance class weights—skills directly transferable to multi‑label problems like predicting disease phenotypes or pathway memberships.\n",
        "\n",
        "3. **Transfer Learning & Fine‑Tuning of Pre-Trained Models**  \n",
        "   - Students get to experiment with transformer architectures (BERT, RoBERTa, etc.) and see how a language model trained on general English can be adapted to a highly specialized task.  \n",
        "   - This mirrors how pre‑trained protein language models (e.g., ESM, ProtBERT) are fine‑tuned for structure or function prediction in computational biology.\n",
        "\n",
        "4. **Real-World, Open-Science Data**  \n",
        "   - GO-Emotions is released under a CC-BY-SA license, encouraging open-source collaboration.  \n",
        "   - Working with openly available data instills best practices in reproducibility, version control, and ethical data handling—critical in biomedical research.\n",
        "\n",
        "5. **Interdisciplinary Connection to Bio‑Text Mining**  \n",
        "   - Sentiment and emotion analysis are valuable in public health surveillance, patient‑reported outcomes, and pharmacovigilance.  \n",
        "   - By mastering affective NLP, students can later apply these skills to biomedical literature mining, extracting patient emotions from electronic health records or social media for disease-monitoring projects.\n",
        "\n",
        "6. **Scalable Learning Curve**  \n",
        "   - The dataset is rich enough to explore advanced topics (e.g., class‑imbalance techniques, ensembling, interpretability) but still small enough for quick iteration.  \n",
        "   - This balance helps students build confidence before tackling larger biomedical corpora (e.g., PubMed abstracts, clinical notes).\n",
        "\n",
        "**Bottom line:** Training a model on **`GO-Emotions`** gives computational biology students a focused, manageable, and highly transferable machine‑learning project that bridges NLP fundamentals, multi‑label modeling, and open‑science principles—all of which are essential skills for modern bioinformatics and computational biology research."
      ]
    },
    {
      "cell_type": "markdown",
      "metadata": {
        "id": "KRT_IgZL03WL"
      },
      "source": [
        "----------------------------------\n",
        "\n",
        "## **Examples**\n",
        "\n",
        "For pedagogical reasons the Examples has been broken up into a series of sequential steps to make coding easier."
      ]
    },
    {
      "cell_type": "markdown",
      "metadata": {
        "id": "F5Cdpn42XxXp"
      },
      "source": [
        "### Example 1 - Step 1: Load Dataset\n",
        "\n",
        "The code in the next cell loads the **`GO-Emotions`** dataset into the variable `go_emotions_dataset`. The code also loads several libraries that we will be using later."
      ]
    },
    {
      "cell_type": "code",
      "execution_count": null,
      "metadata": {
        "id": "z9LS0Ro0XZjj"
      },
      "outputs": [],
      "source": [
        "# Example 1 - Step 1: Load dataset\n",
        "\n",
        "from datasets import load_dataset\n",
        "from transformers import AutoTokenizer, default_data_collator\n",
        "import torch\n",
        "import time\n",
        "from transformers import (\n",
        "    DistilBertForSequenceClassification,\n",
        "    TrainingArguments,\n",
        "    Trainer,\n",
        "    EarlyStoppingCallback\n",
        ")\n",
        "\n",
        "# Load the GoEmotions dataset\n",
        "go_emotions_dataset = load_dataset(\"google-research-datasets/go_emotions\")\n"
      ]
    },
    {
      "cell_type": "markdown",
      "metadata": {
        "id": "07TKU87ks_KE"
      },
      "source": [
        "If the code is correct you should see the following output\n",
        "\n",
        "![__](https://biologicslab.co/BIO1173/images/class_05/class_05_4_image01A.png)"
      ]
    },
    {
      "cell_type": "markdown",
      "metadata": {
        "id": "Knk_vdRk0sK0"
      },
      "source": [
        "### Example 1 - Step 2: Print Examples\n",
        "\n",
        "The code in the next cell first prints out the column names in the `go_emotions_dataset`. It is important to know exactly what the column names are for later steps in the analysis.\n",
        "\n",
        "After the column names are printed, the `text` and the `label` from one record is printed. Which record selected depends upon the value of the variable `RecordNumber`. In the example below `RecordNumber` is set to 3. Just set this variable to another value if you want to look at a different record."
      ]
    },
    {
      "cell_type": "code",
      "execution_count": null,
      "metadata": {
        "id": "4vBBa5bH0YHv"
      },
      "outputs": [],
      "source": [
        "# Example 1 - Step 2: Print Examples\n",
        "\n",
        "# Set record number\n",
        "RecordNumber = 3\n",
        "\n",
        "# Print column names\n",
        "print(f\"Dataset column names:\", go_emotions_dataset.column_names)\n",
        "\n",
        "# Print text from one record\n",
        "print(f\"Record\",RecordNumber, \"text:\", go_emotions_dataset['train'][RecordNumber]['text'])\n",
        "\n",
        "# Print label assigned to the text\n",
        "print(f\"Record\",RecordNumber, \"labels:\", go_emotions_dataset['train'][RecordNumber]['labels'])"
      ]
    },
    {
      "cell_type": "markdown",
      "source": [
        "If the code is correct you should see the following output\n",
        "\n",
        "![__](https://biologicslab.co/BIO1173/images/class_05/class_05_4_image26A.png)"
      ],
      "metadata": {
        "id": "v8ODZy5U8O43"
      }
    },
    {
      "cell_type": "markdown",
      "source": [
        "For `RecordNumber=3` the `text` _To make her feel threatened` was assigned the `labels` = `14`. The table below shows the numerical value assigned to each emotion category. By inspection you can see that the number `14` maps to **`Fear`**, which seems reasonable.\n",
        "\n",
        "List of **go‑emotions** emotion categories\n",
        "\n",
        "| #  | Emotion        |\n",
        "|----|----------------|\n",
        "| 1  | Admiration     |\n",
        "| 2  | Amusement      |\n",
        "| 3  | Anger          |\n",
        "| 4  | Annoyance      |\n",
        "| 5  | Approval       |\n",
        "| 6  | Caring         |\n",
        "| 7  | Confusion      |\n",
        "| 8  | Curiosity      |\n",
        "| 9  | Desire         |\n",
        "|10  | Disappointment |\n",
        "|11  | Disgust        |\n",
        "|12  | Embarrassment  |\n",
        "|13  | Excitement     |\n",
        "|14  | Fear           |\n",
        "|15  | Gratitude      |\n",
        "|16  | Grief          |\n",
        "|17  | Joy            |\n",
        "|18  | Love           |\n",
        "|19  | Nervousness    |\n",
        "|20  | Optimism       |\n",
        "|21  | Pride          |\n",
        "|22  | Realization    |\n",
        "|23  | Remorse        |\n",
        "|24  | Sadness        |\n",
        "|25  | Surprise       |\n",
        "|26  | Thankfulness   |\n",
        "|27  | Trust          |\n"
      ],
      "metadata": {
        "id": "sR6aGEmoZm_p"
      }
    },
    {
      "cell_type": "markdown",
      "source": [
        "--------------------------\n",
        "\n",
        "## **Tokenization**\n",
        "\n",
        "An important step in any NLP analysis is **tokenization**.\n",
        "\n",
        "#### **Why we need tokenisation**\n",
        "\n",
        "| Need | What tokenisation gives us | Example |\n",
        "|------|---------------------------|---------|\n",
        "| **Convert text to numbers** | NLP models are neural nets that accept *vectors* of integers. | `\"I love coffee\"` → `[101, 1024, 1045, 112, ...]` |\n",
        "| **Respect model vocabulary** | The tokenizer knows the exact wordpiece / subword vocabulary of the chosen pre‑trained model. | `\"unbelievable\"` → `[token1, token2]` that match `distilbert`’s embedding matrix. |\n",
        "| **Add special tokens** | Most transformer models expect special tokens (`[CLS]`, `[SEP]`, etc.) at specific positions. | `\"Hello world\"` → `\"[CLS] Hello world [SEP]\"` |\n",
        "| **Generate attention masks** | Indicates to the model which positions are real tokens and which are padding. | `[1, 1, 1, 0, 0, ...]` |\n",
        "| **Uniform length** | `padding=\"max_length\"` pads every sequence to the same length, making batching possible. | Short sentences become `[ID, ID, PAD, PAD, ...]` |\n",
        "| **Truncate long sequences** | `truncation=True` keeps only the first `max_length` tokens, preventing OOM errors. | `\"This is a very long sentence …\"` → first 512 tokens |\n",
        "\n",
        "Without tokenisation, the model would receive a string of characters that it cannot process, and the training loop would fail.\n",
        "\n",
        "---\n",
        "\n",
        "#### **Quick Visualisation**\n",
        "\n",
        "```text\n",
        "raw text:  \"I am happy today!\"\n",
        "tokeniser:  tokenizer(\"I am happy today!\")\n",
        "outputs:    {\n",
        "              'input_ids': [101, 1045, 2572, 2690, 2006, 102],\n",
        "              'attention_mask': [1, 1, 1, 1, 1, 1],\n",
        "              ...\n",
        "            }\n",
        "```\n",
        "---------------------------"
      ],
      "metadata": {
        "id": "duj-7gAEc8Oe"
      }
    },
    {
      "cell_type": "markdown",
      "metadata": {
        "id": "uOtJkR0P2U3u"
      },
      "source": [
        "### Example 1 - Step 3: Tokenize and Format the Dataset\n",
        "\n",
        "\n",
        "The code in the cell below tokenizes the raw text, normalises the labels, and creates two ready-to-train splits (`train` & `eval`) that you can feed into a `DistilBERT model` (e.g., via Hugging Face Trainer).\n",
        "\n",
        "This code is a classic data-preparation pipeline for any text-classification task."
      ]
    },
    {
      "cell_type": "code",
      "execution_count": null,
      "metadata": {
        "id": "B3h81HgCXeH6"
      },
      "outputs": [],
      "source": [
        "# Example 1 - Step 3: Tokenize and format the dataset\n",
        "\n",
        "# Initialize the tokenizer\n",
        "model_ckpt = \"distilbert-base-uncased\"\n",
        "tokenizer = AutoTokenizer.from_pretrained(model_ckpt)\n",
        "\n",
        "# Define the tokenize function\n",
        "def tokenize(rows):\n",
        "    return tokenizer(rows['text'], padding=\"max_length\", truncation=True)\n",
        "\n",
        "# Tokenize the dataset\n",
        "tokenized_datasets = go_emotions_dataset.map(tokenize, batched=True)\n",
        "\n",
        "# Ensure labels are in the correct format (flattening nested lists)\n",
        "def format_labels(example):\n",
        "    example['labels'] = example['labels'][0] if isinstance(example['labels'], list) else example['labels']\n",
        "    return example\n",
        "\n",
        "tokenized_datasets = tokenized_datasets.map(format_labels)\n",
        "\n",
        "# Split the tokenized dataset into train and test sets\n",
        "train_test_split = tokenized_datasets['train'].train_test_split(test_size=0.2, seed=42)\n",
        "\n",
        "small_train_dataset = train_test_split[\"train\"].shuffle(seed=42)\n",
        "small_eval_dataset = train_test_split[\"test\"].shuffle(seed=42)\n",
        "\n"
      ]
    },
    {
      "cell_type": "markdown",
      "metadata": {
        "id": "9Q7Jt3cafjAQ"
      },
      "source": [
        "If the code is correct, you should see something similar to the following output:\n",
        "\n",
        "![__](https://biologicslab.co/BIO1173/images/class_05/class_05_4_image08F.png)"
      ]
    },
    {
      "cell_type": "markdown",
      "metadata": {
        "id": "WdjfaGtYBpP_"
      },
      "source": [
        "### Example 1 - Step 4: Create Custom Collator\n",
        "\n",
        "The code in the cell below creates a **custom collator**. The code defines a custom data collator that wraps the default HuggingFace collator. In particular the code ensures that the `labels` tensor has the right shape (i.e. a detached `torch.long` tensor). This shape is necessary to satisfy classification loss expectations.\n",
        "\n",
        "The code then loads a pre-trained **`DistilBERT`** encoder and attaches a classification head configured for 28 output classes. Together, they prepare batches with correct label types and a model ready for fine-tuning on a multi‑class sequence-classification task.\n",
        "\n",
        "The following code **_instantiates_** the `DistilBert` model.\n",
        "\n",
        "```text\n",
        "# Instantiate the model\n",
        "EG_model = DistilBertForSequenceClassification.from_pretrained(model_ckpt, num_labels=28)\n",
        "```\n",
        "This means that the model has been just been created but not trained.\n",
        "\n",
        "**NOTE:** The name of the `DistilBert` model is **`EG_model`**. Te **EG** prefix has been used to indicate that this is the model being used in the EXAMPLE.\n"
      ]
    },
    {
      "cell_type": "code",
      "execution_count": null,
      "metadata": {
        "id": "d69asQWOb7NX"
      },
      "outputs": [],
      "source": [
        "# Example 1 - Step 4: Create custom collator\n",
        "\n",
        "# Custom data collator to handle potential edge cases and address the warning\n",
        "def custom_data_collator(features):\n",
        "    batch = default_data_collator(features)\n",
        "    if \"labels\" in batch:\n",
        "        batch[\"labels\"] = batch[\"labels\"].clone().detach().long()\n",
        "    return batch\n",
        "\n",
        "# Instantiate the model\n",
        "EG_model = DistilBertForSequenceClassification.from_pretrained(model_ckpt, num_labels=28)"
      ]
    },
    {
      "cell_type": "markdown",
      "metadata": {
        "id": "ouGvMdKGgAVV"
      },
      "source": [
        "If the code is correct, you should see something similar to the following output:\n",
        "\n",
        "![__](https://biologicslab.co/BIO1173/images/class_05/class_05_4_image09F.png)"
      ]
    },
    {
      "cell_type": "markdown",
      "source": [
        "----------------------------------\n",
        "\n",
        "### **Hugging Face Trainer**\n",
        "\n",
        "The **Hugging‑Face `Trainer`** is a high‑level training engine that abstracts away the boilerplate of a typical deep‑learning training loop.\n",
        "\n",
        "It automatically handles data loading, batching, padding, and device placement, supports distributed or mixed‑precision training out of the box, and provides built-in strategies for checkpointing, evaluation, and early stopping.\n",
        "\n",
        "By passing a `TrainingArguments` object, you can control logging, learning‑rate scheduling, and which metrics to monitor for the best checkpoint. Because it integrates seamlessly with Hugging‑Face `datasets`, tokenizers, and the `accelerate` library, you can write a single, concise script that runs on a single GPU, multiple GPUs, or a TPU without any code changes.\n",
        "\n",
        "While you can always write a custom loop for maximum control, the `Trainer` saves time, reduces bugs, and makes experiments reproducible and easy to share, making it the go-to choice for most fine‑tuning and research workloads.\n",
        "\n",
        "----------------------------\n"
      ],
      "metadata": {
        "id": "x1majM94exTo"
      }
    },
    {
      "cell_type": "markdown",
      "metadata": {
        "id": "Vm6Xn6kiXhoD"
      },
      "source": [
        "### Example 1 - Step 5: Define Model, Training Arguments, and Trainer\n",
        "\n",
        "The code in the cell below creates a trained called **`EG_trainer`**. This trainer is configured using the `TrainingArguments`. These training arguments tells **`EG_trainer`** to:\n",
        "1. run up to 5 epochs or 500 steps,\n",
        "2. use 8-sample batches\n",
        "3. use 500 warm-up steps\n",
        "4. use a weight decay = `0.01`\n",
        "5. log every `10` steps.\n",
        "6. perform checkpoints and evaluations every `50` steps\n",
        "7. save the best model is chosen based on the lowest evaluation loss.\n",
        "\n",
        "An `EarlyStoppingCallback` with a patience of `3` is added so training stops if the eval loss does not improve for three consecutive evaluations.\n",
        "\n",
        "Finally, out  `EG_trainer` is created with the pre-trained model, the train/eval datasets, the custom collator, and the early-stopping callback. In short, our `EG_trainer` is all set, just waiting to for the code signal to start training.\n"
      ]
    },
    {
      "cell_type": "code",
      "execution_count": null,
      "metadata": {
        "id": "untm7OYWXhQa"
      },
      "outputs": [],
      "source": [
        "# Example 1 - Step 5: Define model, training arguments and trainer\n",
        "\n",
        "# Define variables\n",
        "EPOCHS=5\n",
        "EVAL_STEPS=50\n",
        "MAX_STEPS=500\n",
        "SAVE_STEPS=50\n",
        "\n",
        "# Set up TrainingArguments with early stopping requirements\n",
        "training_args = TrainingArguments(\n",
        "    output_dir='./results',\n",
        "    num_train_epochs=EPOCHS,\n",
        "    max_steps=MAX_STEPS,\n",
        "    per_device_train_batch_size=8,\n",
        "    per_device_eval_batch_size=8,\n",
        "    warmup_steps=500,\n",
        "    weight_decay=0.01,\n",
        "    logging_dir='./logs',\n",
        "    logging_steps=10,\n",
        "    logging_strategy=\"steps\",\n",
        "    save_strategy=\"steps\",\n",
        "    save_steps=SAVE_STEPS,\n",
        "    eval_strategy=\"steps\",\n",
        "    eval_steps=EVAL_STEPS,\n",
        "    load_best_model_at_end=True,\n",
        "    metric_for_best_model=\"eval_loss\",\n",
        "    greater_is_better=False,\n",
        "    report_to=[]\n",
        ")\n",
        "\n",
        "# Create an early stopping callback\n",
        "PATIENCE = 3\n",
        "early_stopping_callback = EarlyStoppingCallback(early_stopping_patience=PATIENCE)\n",
        "\n",
        "EG_trainer = Trainer(\n",
        "    model=EG_model,     # Important to assign model name\n",
        "    args=training_args,\n",
        "    train_dataset=small_train_dataset,\n",
        "    eval_dataset=small_eval_dataset,\n",
        "    data_collator=custom_data_collator,\n",
        "    callbacks=[early_stopping_callback]\n",
        ")\n",
        "\n"
      ]
    },
    {
      "cell_type": "markdown",
      "metadata": {
        "id": "XNQwSgiLgG1E"
      },
      "source": [
        "If the code is correct you should not see any output."
      ]
    },
    {
      "cell_type": "markdown",
      "metadata": {
        "id": "UcjGkVDxXrPK"
      },
      "source": [
        "### Example 1 - Step 6: Train the Model and Save the Best Model\n",
        "\n",
        "The code in the cell below runs the full training loop for our **`EG_ model`** that has been wrapped in a Hugging-Face Trainer, **`EG_trainer`**.\n",
        "\n",
        "After training, the code writes out the best-performing checkpoint (i.e. the model that achieved the lowest validation loss / highest metric to a folder called `./EG_best_model`.\n",
        "\n",
        "This saves the tokenizer used during training to the same folder so you can later load the entire inference pipeline from that single directory.\n",
        "\n",
        "Since the model, **`EG_trainer`** is fairly large the next cell will require some time to finish training.\n",
        "\n",
        "**NOTE:** Make sure you have run the `Install Custom Function` cell at the start of the lesson or you will receive an error message!\n"
      ]
    },
    {
      "cell_type": "code",
      "execution_count": null,
      "metadata": {
        "id": "Kq6NAcRvXq5C"
      },
      "outputs": [],
      "source": [
        "# Example 1 - Step 6: Train the model and save the best model\n",
        "\n",
        "# Record start time\n",
        "start_time = time.time()\n",
        "\n",
        "print(\"-----Starting Training-----------------------\")\n",
        "# Train the model\n",
        "EG_trainer.train()\n",
        "print(\"-----Training Done---------------------------\")\n",
        "\n",
        "# Record the end time in T_end\n",
        "T_end = time.time()\n",
        "\n",
        "# Print elapsed time\n",
        "elapsed_time = time.time() - start_time\n",
        "print(\"Elapsed time: {}\".format(hms_string(elapsed_time)))\n",
        "\n",
        "# Save the best model\n",
        "best_model_dir = './EG_best_model'\n",
        "EG_trainer.save_model(best_model_dir)\n",
        "\n",
        "# Save tokenizer to the same directory\n",
        "tokenizer.save_pretrained(best_model_dir)\n",
        "\n"
      ]
    },
    {
      "cell_type": "markdown",
      "metadata": {
        "id": "Iv7bG2fpgmpK"
      },
      "source": [
        "If the code is correct, you should see something similar to the following output:\n",
        "\n",
        "![__](https://biologicslab.co/BIO1173/images/class_05/class_05_4_image27A.png)\n",
        "\n",
        "with the `A100` GPU hardware accelerator is took about 6 minutes to complete training of the model."
      ]
    },
    {
      "cell_type": "markdown",
      "metadata": {
        "id": "vAZNJgMj7omt"
      },
      "source": [
        "**NOTE:** If your code generated this error message\n",
        "\n",
        "![__](https://biologicslab.co/BIO1173/images/class_05/class_05_4_image07A.png)\n",
        "\n",
        "it means that you failed to run the code cell called **Install Custom Function** at the beginning of this lesson."
      ]
    },
    {
      "cell_type": "markdown",
      "metadata": {
        "id": "VOlqUCDiKLw_"
      },
      "source": [
        "### Example 1 - Step 7: Compute Accuracy Score\n",
        "\n",
        "The code in the cell below evaluates our model **`EG_trainer`** on a `hold-out set`. The **hold-out** set (also called a **test set**) is a small portion of our dataset that that was set aside before training your neural network.\n",
        "\n",
        "It important that the `hold-out` set is _never_ shown to the model during learning (nor to any hyper‑parameter tuning step). After training is done, the `hold-out` set fed into the model and a record is made of the model's predictions. The difference between these predictions and the true labels, gives an _unbiased estimate_ of the model's generalization accuracy.\n",
        "\n",
        "The code in the cell below uses a the function called `trainer.evaluate()` to get metrics (e.g., loss, accuracy) from the trained model. The code prints out each metric, and then obtains raw predictions via `trainer.predict`.\n"
      ]
    },
    {
      "cell_type": "code",
      "execution_count": null,
      "metadata": {
        "id": "q8dZPyb1hLnf"
      },
      "outputs": [],
      "source": [
        "# Example 1 - Step 7: Compute Accuracy Score\n",
        "\n",
        "from sklearn.metrics import accuracy_score\n",
        "\n",
        "# Evaluate the model on the evaluation dataset\n",
        "eval_results = EG_trainer.evaluate()\n",
        "\n",
        "# Print the evaluation results\n",
        "print(\"Evaluation results:\")\n",
        "for key, value in eval_results.items():\n",
        "    print(f\"{key}: {value:.4f}\")\n",
        "\n",
        "# Get the predictions and true labels\n",
        "predictions, labels, _ = EG_trainer.predict(small_eval_dataset)\n",
        "\n",
        "# Convert predictions to label IDs\n",
        "predictions = torch.tensor(predictions)\n",
        "predictions = torch.argmax(predictions, dim=-1)\n",
        "\n",
        "# Calculate accuracy\n",
        "accuracy = accuracy_score(labels, predictions)\n",
        "\n",
        "print(f\"Accuracy: {accuracy:.4f}\")\n"
      ]
    },
    {
      "cell_type": "markdown",
      "metadata": {
        "id": "Cf7p94XSijNM"
      },
      "source": [
        "If the code is correct, you should see something similar to the following output:\n",
        "\n",
        "![__](https://biologicslab.co/BIO1173/images/class_05/class_05_4_image10A.png)\n",
        "\n",
        "An accuracy of **0.4523** indicates that the model correctly classifies roughly **45%** of the examples in the evaluation set. Compared with a random baseline (≈ 1/28 ≈ 0.036 for a 28-class problem), the model has learned a useful signal, but it is far from perfect.  \n",
        "\n",
        "In practice this means:\n",
        "\n",
        "* The model is **under‑performing** relative to what one would hope for a well-tuned classifier in a biomedical setting.  \n",
        "* Possible reasons include insufficient training data, sub‑optimal hyper-parameters, or a model architecture that isn’t expressive enough for the task.  \n",
        "* Improving data quality, adding domain‑specific pre-training, fine-tuning longer, or experimenting with more powerful variants (e.g., `BioBERT`) could raise the score.\n",
        "\n",
        "In short, the model shows *positive* signal but still has significant room for improvement.\n",
        "\n",
        "\n"
      ]
    },
    {
      "cell_type": "markdown",
      "source": [
        "---------------------------\n",
        "\n",
        "## **Importance of Inference Using Trained Models**\n",
        "\n",
        "**Inference** is a critical phase in the machine learning lifecycle. It refers to the process of using a **trained model** to make predictions on **new, unseen data**. While training involves learning patterns from historical data, inference is where the model demonstrates its practical utility.\n",
        "\n",
        "#### **Why Inference Matters**\n",
        "\n",
        "- **Real-World Application**: Inference allows models to be deployed in real-world scenarios, such as diagnosing diseases, recommending products, detecting fraud, or translating languages.\n",
        "- **Performance Validation**: It helps validate how well the model generalizes beyond the training data. This is essential for assessing the model's reliability and robustness.\n",
        "- **Decision Support**: Inference outputs are often used to support or automate decision-making processes in various domains like healthcare, finance, and engineering.\n",
        "- **Efficiency and Speed**: Optimizing inference is crucial for applications requiring real-time predictions, such as autonomous vehicles or voice assistants.\n",
        "\n",
        "##### **Summary**\n",
        "\n",
        "Inference is the bridge between model development and real-world impact. It transforms a trained model from a theoretical construct into a practical tool that can generate insights, automate tasks, and solve complex problems in diverse domains.\n",
        "\n",
        "--------------------------"
      ],
      "metadata": {
        "id": "pTXbP3X6J-_d"
      }
    },
    {
      "cell_type": "markdown",
      "metadata": {
        "id": "3uaYByy1gqwJ"
      },
      "source": [
        "### Example 1 - Step 8: Perform Inference Using Trained Model\n",
        "\n",
        "The code in the cell below performs **`Inference`** on our **best trained** version of our **`EG_model`** that was stored in the directory **'./EG_best_model'**. The code loads the previously-saved tokenizer from the same directory.\n",
        "\n",
        "To get some idea how well our **`EG_model`** learned to evaluate the emotions expressed short text sentences, the code feeds `6` test sentences into our trained model for evaluation. Finally it prints out each sentence along with the model's prediction of its emotional category.  \n"
      ]
    },
    {
      "cell_type": "code",
      "execution_count": null,
      "metadata": {
        "id": "S2S98902i_gJ"
      },
      "outputs": [],
      "source": [
        "# Example 1 - Step 8: Perform Inference Using Trained Model\n",
        "\n",
        "import torch\n",
        "from transformers import AutoTokenizer, DistilBertForSequenceClassification\n",
        "\n",
        "# Load the tokenizer and the model from the saved directory\n",
        "best_model_dir = './EG_best_model'\n",
        "tokenizer = AutoTokenizer.from_pretrained(best_model_dir)\n",
        "EG_model = DistilBertForSequenceClassification.from_pretrained(best_model_dir)\n",
        "\n",
        "# Set the model to evaluation mode\n",
        "EG_model.eval()\n",
        "\n",
        "# Define the sentences to test\n",
        "sentences = [\n",
        "    \"I am feeling very happy today!\",\n",
        "    \"This is the worst day of my life.\",\n",
        "    \"I am so excited about the new project.\",\n",
        "    \"I feel sad and lonely.\",\n",
        "    \"I'm feeling very anxious about the presentation.\",\n",
        "    \"This news makes me extremely joyful.\"\n",
        "]\n",
        "\n",
        "# Tokenize the sentences\n",
        "inputs = tokenizer(sentences, padding=\"max_length\", truncation=True, return_tensors=\"pt\")\n",
        "\n",
        "# Get the model's predictions\n",
        "with torch.no_grad():\n",
        "    outputs = EG_model(**inputs)\n",
        "    predictions = torch.argmax(outputs.logits, dim=-1)\n",
        "\n",
        "# Define the mapping of label IDs to emotions (based on the dataset's label mapping)\n",
        "label_mapping = {\n",
        "    0: \"sadness\",\n",
        "    1: \"joy\",\n",
        "    2: \"love\",\n",
        "    3: \"anger\",\n",
        "    4: \"fear\",\n",
        "    5: \"surprise\",\n",
        "    6: \"neutral\",\n",
        "    7: \"admiration\",\n",
        "    8: \"amusement\",\n",
        "    9: \"approval\",\n",
        "    10: \"caring\",\n",
        "    11: \"confusion\",\n",
        "    12: \"curiosity\",\n",
        "    13: \"desire\",\n",
        "    14: \"disappointment\",\n",
        "    15: \"disapproval\",\n",
        "    16: \"embarrassment\",\n",
        "    17: \"excitement\",\n",
        "    18: \"gratitude\",\n",
        "    19: \"grief\",\n",
        "    20: \"love\",\n",
        "    21: \"nervousness\",\n",
        "    22: \"pride\",\n",
        "    23: \"realization\",\n",
        "    24: \"relief\",\n",
        "    25: \"remorse\",\n",
        "    26: \"sadness\",\n",
        "    27: \"surprise\"\n",
        "}\n",
        "\n",
        "# Print the predicted emotions for each sentence\n",
        "for sentence, pred in zip(sentences, predictions):\n",
        "    emotion = label_mapping[pred.item()]\n",
        "    print(f\"Sentence: '{sentence}'\\nPredicted Emotion: {emotion}\\n\")\n"
      ]
    },
    {
      "cell_type": "markdown",
      "metadata": {
        "id": "zY8-W3wVNRMW"
      },
      "source": [
        "If the code is correct you should see something similar to the following output:\n",
        "\n",
        "![__](https://biologicslab.co/BIO1173/images/class_05/class_05_4_image06A.png)\n",
        "\n",
        "The six predictions look far from what we would expect for the sentences given.  \n",
        "- “I am feeling very happy today!” is mapped to **gratitude**;  \n",
        "- “This is the worst day of my life.” and “I feel sad and lonely.” both become **remorse**;  \n",
        "- “I am so excited about the new project.” correctly receives **excitement**;  \n",
        "- “I'm feeling very anxious about the presentation.” again gets **remorse**; and  \n",
        "- “This news makes me extremely joyful.” is oddly labeled **sadness**.\n",
        "\n",
        "Because the model achieved only 45% accuracy on the validation set, these results are not surprising: the classifier appears to have learned a very weak signal that is heavily biased toward the “remorse” class (and in a few cases confuses gratitude with sadness or joy).  \n",
        "\n",
        "In practice this indicates a mismatch between the training labels and the mapping used for inference (the label-index table contains duplicate entries such as 0/26 for *sadness* and 2/20 for *love*), a possible class-imbalance issue, or simply insufficient training data/hyper-parameter tuning.  \n",
        "\n",
        "The output therefore suggests that the model is unreliable for production use and should be retrained (or a different architecture or domain-specific pre‑training applied) before it can be trusted to interpret emotion from text.\n"
      ]
    },
    {
      "cell_type": "markdown",
      "metadata": {
        "id": "4gkrwpOpOsTR"
      },
      "source": [
        "## **Exercises**\n",
        "\n",
        "For your **Exercises** you are to repeat the 6 steps demonstrated in Example 1 using a different Hugging Face dataset, the `cardiffnlp/tweet_eval – Irony Subset`\n",
        "\n",
        "The **CardiffNLP TweetEval – Irony Subset** is a **TweetEval** benchmark, developed by `CardiffNLP`. It provides a unified framework for evaluating models on various `Twitter-based` classification tasks.\n",
        "\n",
        "Among its seven tasks, the **Irony Detection** subset is particularly notable for its focus on identifying ironic content in tweets. Irony is notoriously difficult for machines—and even humans—to detect accurately.\n",
        "\n",
        "\n",
        "Irony is a complex linguistic phenomenon where the intended meaning of a statement is often the **opposite** of its literal meaning. This makes it particularly challenging for machine learning models and natural language processing systems to interpret correctly.\n",
        "\n",
        "### **Key Challenges in Irony Detection**\n",
        "\n",
        "#### **1. Context Dependence**\n",
        "Irony often relies heavily on **context**, including cultural references, prior knowledge, or the situation in which the statement is made. Without this context, the literal words may be misleading.\n",
        "\n",
        "> Example: \"Oh great, another Monday!\"  \n",
        "> Without context, this could be interpreted as positive, but it's likely ironic.\n",
        "\n",
        "#### **2. Subtlety and Ambiguity**\n",
        "Irony is frequently subtle and can be easily confused with sarcasm, humor, or even genuine sentiment. The lack of clear linguistic markers makes it hard to distinguish.\n",
        "\n",
        "#### **3. Lack of Prosody and Tone**\n",
        "In spoken language, irony is often conveyed through **tone of voice**, facial expressions, or gestures. In text (especially tweets), these cues are missing, making detection much harder.\n",
        "\n",
        "#### **4. Short and Informal Texts**\n",
        "Social media platforms like `Twitter` encourage brevity and informal language. This limits the amount of information available for models to interpret irony accurately.\n",
        "\n",
        "#### **5. Creative Language Use**\n",
        "Users often employ slang, emojis, hashtags, and unconventional grammar to express irony. These creative elements can confuse models trained on more formal or structured data.\n",
        "\n",
        "#### **Implications for NLP**\n",
        "\n",
        "Detecting irony is essential for improving the accuracy of:\n",
        "- **Sentiment analysis**\n",
        "- **Emotion detection**\n",
        "- **Content moderation**\n",
        "- **Social media monitoring**\n",
        "\n",
        "Models that fail to detect irony may misclassify negative sentiment as positive (or vice versa), leading to flawed insights and decisions.\n",
        "\n",
        "### **Summary**\n",
        "\n",
        "Irony detection remains a challenging task in NLP due to its reliance on context, subtlety, and the absence of non-verbal cues. Advances in deep learning and contextual embeddings (like BERT and RoBERTa) have improved performance, but there's still significant room for growth in this area.\n"
      ]
    },
    {
      "cell_type": "markdown",
      "metadata": {
        "id": "e1-KoyVXQWiN"
      },
      "source": [
        "### **Exercise 1 - Step 1: Load Dataset**\n",
        "\n",
        "\n",
        "In the cell below write the code to load the dataset. Use the following code for loading:\n",
        "\n",
        "```text\n",
        "# Load dataset\n",
        "irony_dataset = load_dataset(\"cardiffnlp/tweet_eval\", \"irony\")\n",
        "```\n",
        "This will create a variable called `irony_dataset` that you will use for **Exercise 1**.\n",
        "\n",
        "You should also load the several libraries that you will be using later."
      ]
    },
    {
      "cell_type": "code",
      "execution_count": null,
      "metadata": {
        "id": "hz2idA5KueZf"
      },
      "outputs": [],
      "source": [
        "# Insert your code for Exercise 1 - Step 1 here\n",
        "\n"
      ]
    },
    {
      "cell_type": "markdown",
      "metadata": {
        "id": "WHqhynrAQWiO"
      },
      "source": [
        "If the code is correct, you should see something similar to the following output:\n",
        "\n",
        "![__](https://biologicslab.co/BIO1173/images/class_05/class_05_4_image20A.png)"
      ]
    },
    {
      "cell_type": "markdown",
      "metadata": {
        "id": "DxtoLei7r6og"
      },
      "source": [
        "### **Exercise 1 - Step 2: Print Examples**\n",
        "\n",
        "In the next cell write the code to prints out the column names in your `irony_dataset` since you will need to know exactly what the column names are for later steps in the analysis.\n",
        "\n",
        "After you print the column names print the text and the label from record number `2`."
      ]
    },
    {
      "cell_type": "code",
      "execution_count": null,
      "metadata": {
        "id": "LYF86ziIr6oh"
      },
      "outputs": [],
      "source": [
        "# Insert your code for Exercise 1 - Step 2 here\n",
        "\n"
      ]
    },
    {
      "cell_type": "markdown",
      "source": [
        "If the code is correct you should see the following output:\n",
        "\n",
        "![__](https://biologicslab.co/BIO1173/images/class_05/class_05_4_image21A.png)\n",
        "\n",
        "Since the `Label = `1`for record = 2, this `tweet` is considered **ironic**."
      ],
      "metadata": {
        "id": "aSEgDNpqsi-d"
      }
    },
    {
      "cell_type": "markdown",
      "metadata": {
        "id": "aL7zgR6GQWiO"
      },
      "source": [
        "### **Exercise 1 - Step 3: Tokenize and Format the Dataset**\n",
        "\n",
        "In the cell below write the code to tokenize and format your `irony_dataset`.\n",
        "\n",
        "**IMPORTANT NOTE:** One of the column names for the `irony_dataset` is _different_ from the column names shown in Example 1 - Step 3. You will need to change your code to reflect this difference.\n"
      ]
    },
    {
      "cell_type": "code",
      "execution_count": null,
      "metadata": {
        "id": "Kf831rjRQWiP"
      },
      "outputs": [],
      "source": [
        "# Insert your code for Exercise 1 - Step 3 here\n",
        "\n"
      ]
    },
    {
      "cell_type": "markdown",
      "metadata": {
        "id": "MMItfPe8QWiP"
      },
      "source": [
        "If the code is correct you should see the following output:\n",
        "\n",
        "![__](https://biologicslab.co/BIO1173/images/class_05/class_05_4_image22A.png)"
      ]
    },
    {
      "cell_type": "markdown",
      "metadata": {
        "id": "dWgStO8NQWiP"
      },
      "source": [
        "### **Exercise 1 - Step 4: Create Custom Collator**\n",
        "\n",
        "In the cell below create a **custom collator**. You can re-use the code in Example 1 - Step 4 with the following exception.\n",
        "\n",
        "**IMPORTNAT NOTE:** When you _instantiate_ your model, **make sure** to call your model **`EX_model`**. The prefix **`EX`** signifies that this is the model that you will be using in the **EXERCISE**.  "
      ]
    },
    {
      "cell_type": "code",
      "execution_count": null,
      "metadata": {
        "id": "QMuyAqiJQWiP"
      },
      "outputs": [],
      "source": [
        "# Insert your code for Exercise 1 - Step 4 here\n",
        "\n"
      ]
    },
    {
      "cell_type": "markdown",
      "metadata": {
        "id": "zmkFxB6bQWiP"
      },
      "source": [
        "If the code is correct, you should see something similar to the following output:\n",
        "\n",
        "![__](https://biologicslab.co/BIO1173/images/class_05/class_05_4_image23A.png)"
      ]
    },
    {
      "cell_type": "markdown",
      "metadata": {
        "id": "xdiy0wgSQWiP"
      },
      "source": [
        "### **Exercise 1 - Step 5: Define Model, Training Arguments, and Trainer**\n",
        "\n",
        "In the cell below write the code to define your model, **`EX_model`** with `TrainingArguments`.\n",
        "\n",
        "You can simply re-use all of the code in Example 1 - Step 5 with the following modifications:\n",
        "\n",
        "1. Change the name of your trainer from  `EG_trainer` to  **`EX_trainer`**.\n",
        "2. Change the name of your model from  `EG_model` to  **`EX_model`**."
      ]
    },
    {
      "cell_type": "code",
      "execution_count": null,
      "metadata": {
        "id": "3FK7mqNoQWiP"
      },
      "outputs": [],
      "source": [
        "# Insert your code for Exercise 1 - Step 5 here\n",
        "\n"
      ]
    },
    {
      "cell_type": "markdown",
      "metadata": {
        "id": "rvUAMnlhQWiP"
      },
      "source": [
        "If the code is correct, you should not see any output."
      ]
    },
    {
      "cell_type": "markdown",
      "metadata": {
        "id": "sPBiHBPlQWiP"
      },
      "source": [
        "### **Exercise 1 - Step 6: Train the Model and Save the Best Model**\n",
        "\n",
        "In the cell below write the code to train your `EX_trainer`.\n",
        "\n",
        "You can re-use all of the in Example 1 - Step 6 with the following modifications:\n",
        "\n",
        "1. Make sure you are training your `EX_trainer` model.\n",
        "2. Change the name of the `best_model_dir` to './EX_best_model'\n"
      ]
    },
    {
      "cell_type": "code",
      "execution_count": null,
      "metadata": {
        "id": "h6BBHL5nQWiQ"
      },
      "outputs": [],
      "source": [
        "# Insert your code for Exercise 1 - Step 6 here\n"
      ]
    },
    {
      "cell_type": "markdown",
      "metadata": {
        "id": "xPUaAjePQWiQ"
      },
      "source": [
        "If the code is correct, you should see something similar to the following output:\n",
        "\n",
        "![__](https://biologicslab.co/BIO1173/images/class_05/class_05_4_image28A.png)\n",
        "\n",
        "Using the `A100` GPU hardware accelerator training required less than 5 minutes to complete."
      ]
    },
    {
      "cell_type": "markdown",
      "metadata": {
        "id": "j-0-RzgxQWiQ"
      },
      "source": [
        "### **Exercise 1 - Step 7: Compute Accuracy Score**\n",
        "\n",
        "In the cell below write the code to compute the accuracy score of your `EX_trainer`. (Remember, `EX_trainer` is basically your `EX_model` \"wrapped\" in some extra code.)\n",
        "\n",
        "Make sure to change\n",
        "\n",
        "1. `EG_trainer.evaluate()` to read **`EX_trainer.evaluate()`**.\n",
        "2. `EG_trainer.predict()` to read **`EX_trainer.predict()`**.\n"
      ]
    },
    {
      "cell_type": "code",
      "execution_count": null,
      "metadata": {
        "id": "ziUb2MByQWiQ"
      },
      "outputs": [],
      "source": [
        "# Insert your code for Exercise 1 - Step 6 here\n",
        "\n"
      ]
    },
    {
      "cell_type": "markdown",
      "metadata": {
        "id": "QUn5oUFyQWiQ"
      },
      "source": [
        "If the code is correct you should see something similar to the following output:\n",
        "\n",
        "![__](https://biologicslab.co/BIO1173/images/class_05/class_05_4_image25A.png)\n",
        "\n",
        "An accuracy of **0.6981** indicates that the model correctly classifies roughly 70% of the examples in the evaluation set.  This is much better accuracy that we observed for the `go_emotions_dataset` in the Example.\n"
      ]
    },
    {
      "cell_type": "markdown",
      "metadata": {
        "id": "RtZ3D4m5QWiQ"
      },
      "source": [
        "### **Exercise 1 - Step 8: Perform Inference Using Trained Model**\n",
        "\n",
        "In the cell below write the code to perform Inference on your best model,**`EX_model`**, that was store in the directory './EX_best_model'.\n",
        "\n",
        "Make sure to set your model to evaluation mode using the following code:\n",
        "```text\n",
        "# Set the model to evaluation mode\n",
        "EX_model.eval()\n",
        "```\n",
        "You can copy-and-paste this code into your cell to create the tweets to analyze:\n",
        "\n",
        "```text\n",
        "# Define the sentences to test\n",
        "sentences = [\n",
        "    \"Mens Football clearly know how to have a good time.....  #archiesday #anychanceofasocial\", # Ironic\n",
        "    \"What an amazing start to the weekend!  #ohgoditsfridayagain\",                              # Ironic\n",
        "    \"my favorite thing to do on Tuesday is write psychology papers😐  #killme\",                 # Ironic\n",
        "    \"Last day in #Riga! #self #finnishgirl #businesswoman  @ PK Riga Hotel\",                     # Not ironic\n",
        "    \"Can't wait until this weekend is over...then no more Xmas parties!!!!!! #HateSchmoozing\",   # Not ironic\n",
        "    \"How to know when he really loves you. #tmi #imsorry #chickfila\",                            # Not ironic\n",
        "]\n",
        "```\n",
        "\n",
        "These tweets were taken from the `hold-out` (validation) set.\n",
        "\n",
        "Finally, use this code for mapping your responses:\n",
        "```text\n",
        "# Define the mapping of label IDs to emotions (based on the dataset's label mapping)\n",
        "label_mapping = {\n",
        "    0: \"Not ironic\",\n",
        "    1: \"Ironic\",\n",
        "}\n",
        "```\n"
      ]
    },
    {
      "cell_type": "code",
      "execution_count": null,
      "metadata": {
        "id": "vsEcdsC-QWiQ"
      },
      "outputs": [],
      "source": [
        "# Example 1 - Step 6: Perform Inference Using Trained Model\n",
        "\n",
        "\n"
      ]
    },
    {
      "cell_type": "markdown",
      "metadata": {
        "id": "skCUSIx_QWiQ"
      },
      "source": [
        "If the code is correct you should see something similar to the following output:\n",
        "\n",
        "![__](https://biologicslab.co/BIO1173/images/class_05/class_05_4_image29A.png)\n",
        "\n",
        "Predicting what is, or is not ironic isn't easy!\n",
        "\n",
        "The first 3 tweets were labeled as being **ironic** while the last 3 tweets were labeled **not ironic**. Based on this small sample, your trained `EX_model` didn't do all that well.   \n",
        "\n",
        "```type\n",
        "Sentence: 'Mens Football clearly know how to have a good time.....  #archiesday #anychanceofasocial'\n",
        "Predicted Emotion: Ironic (✔️)\n",
        "\n",
        "Sentence: 'What an amazing start to the weekend!  #ohgoditsfridayagain'\n",
        "Predicted Emotion: Ironic (✔️)\n",
        "\n",
        "Sentence: 'my favorite thing to do on Tuesday is write psychology papers😐  #killme'\n",
        "Predicted Emotion: Not ironic (❌)\n",
        "\n",
        "Sentence: 'Last day in #Riga! #self #finnishgirl #businesswoman  @ PK Riga Hotel'\n",
        "Predicted Emotion: Not ironic (✔️)\n",
        "\n",
        "Sentence: 'Can't wait until this weekend is over...then no more Xmas parties!!!!!! #HateSchmoozing'\n",
        "Predicted Emotion: Ironic (❌)\n",
        "\n",
        "Sentence: 'How to know when he really loves you. #tmi #imsorry #chickfila'\n",
        "Predicted Emotion: Ironic (❌)\n",
        "```\n"
      ]
    },
    {
      "cell_type": "markdown",
      "metadata": {
        "id": "fx2GceWzUO7t"
      },
      "source": [
        "## **Lesson Turn-in**\n",
        "\n",
        "When you have completed and run all of the code cells, use the **File --> Print.. --> Save to PDF** to generate a PDF of your Colab notebook. Save your PDF as `Class_05_4.lastname.pdf` where _lastname_ is your last name, and upload the file to Canvas."
      ]
    },
    {
      "cell_type": "markdown",
      "metadata": {
        "id": "HdwccJ0TUQ81"
      },
      "source": [
        "## **Lizard Tail**\n",
        "\n",
        "## **Lotus 1-2-3**\n",
        "\n",
        "![__](https://upload.wikimedia.org/wikipedia/commons/0/02/Lotus-123-3.0-MSDOS.png)\n",
        "\n",
        "**Lotus 1-2-3** is a discontinued spreadsheet program from Lotus Software (later part of IBM). It was the first killer application of the IBM PC, was hugely popular in the 1980s, and significantly contributed to the success of IBM PC-compatibles in the business market.\n",
        "\n",
        "The first spreadsheet, VisiCalc, had helped launch the Apple II as one of the earliest personal computers in business use. With IBM's entry into the market, VisiCalc was slow to respond, and when they did, they launched what was essentially a straight port of their existing system despite the greatly expanded hardware capabilities. Lotus's solution was marketed as a three-in-one integrated solution: it handled spreadsheet calculations, database functionality, and graphical charts, hence the name \"1-2-3\", though how much database capability the product actually had was debatable, given the sparse memory left over after launching 1-2-3. It quickly overtook VisiCalc, as well as Multiplan and SuperCalc, the two VisiCalc competitors.\n",
        "\n",
        "Lotus 1-2-3 was the state-of-the-art spreadsheet and the standard throughout the 1980s and into the early 1990s, part of an unofficial set of three stand-alone office automation products that included dBase and WordPerfect, to build a complete business platform. Lotus Software had their own word processor named Lotus Manuscript, which was to some extent acclaimed in academia, but did not catch the interest of the business, nor the consumer market. With the acceptance of Windows 3.0 in 1990, the market for desktop software grew even more. None of the major spreadsheet developers had seriously considered the graphical user interface (GUI) to supplement their DOS offerings, and so they responded slowly to Microsoft's own GUI-based products Excel and Word. Lotus was surpassed by Microsoft in the early 1990s, and never recovered. IBM purchased Lotus in 1995, and continued to sell Lotus offerings, only officially ending sales in 2013.\n",
        "\n",
        "### **History**\n",
        "\n",
        "**VisiCalc**\n",
        "\n",
        "VisiCalc was launched in 1979 on the Apple II and immediately became a best-seller. Compared to earlier programs, VisiCalc allowed one to easily construct free-form calculation systems for practically any purpose, the limitations being primarily related to the memory and speed of the computer. The application was so compelling that there were numerous stories of people buying Apple II machines to run the program (see article Killer application). VisiCalc's runaway success on the Apple led to direct bug compatible ports to other platforms, including the Atari 8-bit computers, Commodore PET and many others. This included the IBM PC when it launched in 1981, where it quickly became another best-seller, with an estimated 300,000 sales in the first six months on the market.\n",
        "\n",
        "There were well-known problems with VisiCalc, and several competitors appeared to address some of these issues. One early example was 1980's SuperCalc, which solved the problem of circular references, while a slightly later example was Microsoft Multiplan from 1981, which offered larger sheets and other improvements. In spite of these, and others, VisiCalc continued to outsell them all.\n",
        "\n",
        "**Beginnings**\n",
        "\n",
        "The Lotus Development Corporation was founded by Mitchell Kapor, a friend of the developers of VisiCalc. 1-2-3 was originally written by Jonathan Sachs, who had written two spreadsheet programs previously while working at Concentric Data Systems, Inc. To aid its growth both in the UK and possibly elsewhere, Lotus 1-2-3 became the very first computer software to use television consumer advertising.\n",
        "\n",
        "Kapor was primarily a marketing guru. His ability to develop his product to appeal to non-technical users was one secret to its rapid success. Unlike many technologists, Kapor relied on focus group feedback to make his user instructions more user-friendly. One example: the instructions that came with the floppy disc read: \"Remove the protective cover and insert disc into computer.\" A few focus group participants tried to rip-off the stiff plastic envelope of disc carrier. Kapor's recognition that techno-speak instructions needed to be translated to normative English was a strong contributor to the product's popularity.\n",
        "\n",
        "Lotus 1-2-3 was released on 26 January 1983, and immediately overtook Visicalc in sales. Unlike Microsoft Multiplan, it stayed very close to the model of VisiCalc, including the \"A1\" letter and number cell notation, and slash-menu structure. It was cleanly programmed, relatively bug-free, gained speed from being written completely in x86 assembly language (this remained the case for all DOS versions until 3.0, when Lotus switched to C[9]) and wrote directly to video memory rather than use the slow DOS and/or BIOS text output functions.\n",
        "\n",
        "Among other novelties that Lotus introduced was a graph maker that could display several forms of graphs (including pie charts, bar graphics, or line charts) but required the user to have a graphics card. At this early stage, the only video boards available for the PC were IBM's Color Graphics Adapter and Monochrome Display and Printer Adapter, the latter not supporting any graphics. However, because the two video boards used different RAM and port addresses, both could be installed in the same machine and so Lotus took advantage of this by supporting a \"split\" screen mode whereby the user could display the worksheet portion of 1-2-3 on the sharper monochrome video and the graphics on the CGA display.\n",
        "\n",
        "The initial release of 1-2-3 supported only three video setups: CGA, MDA (in which case the graph maker was not available) or dual-monitor mode. However, a few months later support was added for Hercules Computer Technology's Hercules Graphics Adapter which was a clone of the MDA that allowed bitmap mode. The ability to have high-resolution text and graphics capabilities (at the expense of color) proved extremely popular and Lotus 1-2-3 is credited with popularizing the Hercules graphics card.\n",
        "\n",
        "Subsequent releases of Lotus 1-2-3 supported more video standards as time went on, including EGA, AT&T/Olivetti, and VGA. Significantly, support for the PCjr/Tandy modes was never added and users of those machines were limited to CGA graphics.\n",
        "\n",
        "The early versions of 1-2-3 also had a key disk copy protection. While the program was hard disk installable, the user had to insert the original floppy disk when starting 1-2-3 up. This protection scheme was easily cracked and a minor inconvenience for home users, but proved a serious nuisance in an office setting. Starting with Release 3.0, Lotus no longer used copy protection. However, it was then necessary to \"initialize\" the System disk with one's name and company name so as to customize the copy of the program. Release 2.2 and higher had this requirement. This was an irreversible process unless one had made an exact copy of the original disk so as to be able to change names to transfer the program to someone else.\n",
        "\n",
        "The reliance on the specific hardware of the IBM PC led to 1-2-3 being utilized as one of the two stress test applications, along with Microsoft Flight Simulator, for true 100% compatibility when PC clones appeared in the early 1980s. 1-2-3 required two disk drives and at least 192K of memory, which made it incompatible with the IBM PCjr; Lotus produced a version for the PCjr that was on two cartridges but otherwise identical.\n",
        "\n",
        "By early 1984 the software was a killer app for the IBM PC and compatibles, while hurting sales of computers that could not run it. \"They're looking for 1-2-3. Boy, are they looking for 1-2-3!\" InfoWorld wrote. Noting that computer purchasers did not want PC compatibility as much as compatibility with certain PC software, the magazine suggested \"let's tell it like it is. Let's not say 'PC compatible,' or even 'MS-DOS compatible.' Instead, let's say '1-2-3 compatible.'\" PC clones' advertising did often prominently state that they were compatible with 1-2-3. An Apple II software company promised that its spreadsheet had \"the power of 1-2-3\". Because spreadsheets use large amounts of memory, 1‐2‐3 helped popularize greater RAM capacities in PCs, and especially the advent of expanded memory, which allowed greater than 640k to be accessed."
      ]
    },
    {
      "cell_type": "code",
      "execution_count": null,
      "metadata": {
        "id": "aWIsyF5AWw6p"
      },
      "outputs": [],
      "source": []
    }
  ],
  "metadata": {
    "colab": {
      "machine_shape": "hm",
      "provenance": [],
      "gpuType": "A100",
      "authorship_tag": "ABX9TyO2LqOwQWYhlb0VEP6aANbR",
      "include_colab_link": true
    },
    "kernelspec": {
      "display_name": "Python 3",
      "name": "python3"
    },
    "language_info": {
      "name": "python"
    },
    "accelerator": "GPU"
  },
  "nbformat": 4,
  "nbformat_minor": 0
}