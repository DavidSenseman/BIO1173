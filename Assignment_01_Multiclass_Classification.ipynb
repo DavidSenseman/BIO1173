{
  "nbformat": 4,
  "nbformat_minor": 0,
  "metadata": {
    "colab": {
      "provenance": [],
      "authorship_tag": "ABX9TyPlHhu1h1upWP5V85JS5hoM",
      "include_colab_link": true
    },
    "kernelspec": {
      "name": "python3",
      "display_name": "Python 3"
    },
    "language_info": {
      "name": "python"
    }
  },
  "cells": [
    {
      "cell_type": "markdown",
      "metadata": {
        "id": "view-in-github",
        "colab_type": "text"
      },
      "source": [
        "<a href=\"https://colab.research.google.com/github/DavidSenseman/BIO1173/blob/main/Assignment_01_Multiclass_Classification.ipynb\" target=\"_parent\"><img src=\"https://colab.research.google.com/assets/colab-badge.svg\" alt=\"Open In Colab\"/></a>"
      ]
    },
    {
      "cell_type": "markdown",
      "source": [
        "---------------------------\n",
        "**COPYRIGHT NOTICE:** This Jupyterlab Notebook is a Derivative work of [Jeff Heaton](https://github.com/jeffheaton) licensed under the Apache License, Version 2.0 (the \"License\"); You may not use this file except in compliance with the License. You may obtain a copy of the License at\n",
        "\n",
        "> [http://www.apache.org/licenses/LICENSE-2.0](http://www.apache.org/licenses/LICENSE-2.0)\n",
        "\n",
        "Unless required by applicable law or agreed to in writing, software distributed under the License is distributed on an \"AS IS\" BASIS, WITHOUT WARRANTIES OR CONDITIONS OF ANY KIND, either express or implied. See the License for the specific language governing permissions and limitations under the License.\n",
        "\n",
        "------------------------"
      ],
      "metadata": {
        "id": "ZNirsAlIEuxf"
      }
    },
    {
      "cell_type": "markdown",
      "source": [
        "# **BIO 1173: Intro Computational Biology**"
      ],
      "metadata": {
        "id": "HhOPZPgmEus_"
      }
    },
    {
      "cell_type": "markdown",
      "source": [
        "**Assignment 1: Neural Networks for Analysis of Tabular Data**\n",
        "\n",
        "* Instructor: [David Senseman](mailto:David.Senseman@utsa.edu), [Department of Integrative Biology](https://sciences.utsa.edu/integrative-biology/), [UTSA](https://www.utsa.edu/)\n",
        "\n"
      ],
      "metadata": {
        "id": "tS0hL9bkEum_"
      }
    },
    {
      "cell_type": "markdown",
      "source": [
        "# **READ CAREFULLY**\n",
        "\n",
        "The **_first_**  digit in your myUTSA ID (e.g. \"abc123\") will determine which dataset you are to analyze for this assignment and which type of neural network (i.e. classification or regression) you will need to construct. For example, if your myUTSA ID was **vue682**, then your first digit is the number `6`.\n",
        "\n",
        "**---WARNING------WARNING------WARNING------WARNING------WARNING------WARNING---**\n",
        "\n",
        "You are **not** free to choose any dataset for this assignment. If analyze the wrong dataset, your assignment will **NOT BE GRADED** and you will automatically receive a **`0`**. If you are uncertain which dataset you should be working on, contact your Instructor for help. Remember, your score in this assignment will have a large impact on your course grade so please be careful.\n",
        "\n",
        "\n",
        "| First Digit myUTSA ID    | Dataset to Analyze      | Neural Network Type\n",
        "--------------------------|-------------------------|-----------------\n",
        "0                         | Hepatitis               | Binary Classification\n",
        "1                         | Coimbra Breast Cancer   | Binary Classification\n",
        "2                         | Parkinson Speech        | Binary Classification\n",
        "3                         | Indian Liver            | Binary Classification\n",
        "4                         | Thyroid Replacement     | Multiclass Classification\n",
        "5                         | Wine Quality            | Multiclass Classification\n",
        "6                         | Liver Disease           | Multiclass Classification\n",
        "7                         | Bone Marrow Transplant  | Regression\n",
        "8                         | German Breast Cancer    | Regression\n",
        "9                         | Diabetes Progression    | Regression\n",
        "\n",
        "#### **NOTE: You can only use this COLAB notebook if the first digit of your _myUTSA_ ID  is between `0` and `3`.**"
      ],
      "metadata": {
        "id": "x0SZ0iP-EuYo"
      }
    },
    {
      "cell_type": "markdown",
      "source": [
        "# **The Purpose of Assignments**\n",
        "\n",
        "In this course, **_Assignments_** are designed to help me (and you) assess your ability to transfer knowledge gained in completing class coding exercises to solving more realistic problems.\n",
        "\n",
        "Assignments play a pivotal role in reinforcing your learning, as they require you to apply theoretical concepts to practical scenarios. This helps solidify your understanding and enhances your problem-solving skills. By tackling these assignments independently, you develop critical thinking and the ability to synthesize information from various sources. Moreover, assignments encourage you to explore topics more deeply, fostering intellectual curiosity and promoting a deeper engagement with the subject matter. Ultimately, these assignments are not just a measure of your learning, but a means to equip you with the skills needed for real-world applications and future challenges."
      ],
      "metadata": {
        "id": "Ze8uywoTFYx0"
      }
    },
    {
      "cell_type": "markdown",
      "source": [
        "## **MAKE A COPY OF THIS NOTBOOK!**\n",
        "\n",
        "For your assignment to be graded, you **must** make a copy of this Colab notebook in your GDrive and use this copy as your worksheet."
      ],
      "metadata": {
        "id": "S5SeEYKrFcYz"
      }
    },
    {
      "cell_type": "markdown",
      "source": [
        "## Google CoLab Instructions\n",
        "\n",
        "You MUST run the following code cell to get credit for this class lesson. By running this code cell, you will map your GDrive to /content/drive and print out your Google GMAIL address. Your Instructor will use your GMAIL address to verify the author of this class lesson."
      ],
      "metadata": {
        "id": "OZA5LczUFcvk"
      }
    },
    {
      "cell_type": "code",
      "execution_count": null,
      "metadata": {
        "id": "8C50uDh3DodE"
      },
      "outputs": [],
      "source": [
        "# YOU MUST RUN THIS CELL FIRST\n",
        "\n",
        "try:\n",
        "    from google.colab import drive\n",
        "    drive.mount('/content/drive', force_remount=True)\n",
        "    from google.colab import auth\n",
        "    auth.authenticate_user()\n",
        "    COLAB = True\n",
        "    print(\"Note: using Google CoLab\")\n",
        "    import requests\n",
        "    gcloud_token = !gcloud auth print-access-token\n",
        "    gcloud_tokeninfo = requests.get('https://www.googleapis.com/oauth2/v3/tokeninfo?access_token=' + gcloud_token[0]).json()\n",
        "    print(gcloud_tokeninfo['email'])\n",
        "except:\n",
        "    print(\"**WARNING**: Your GMAIL address was **not** printed in the output below.\")\n",
        "    print(\"**WARNING**: You will NOT receive credit for this assignment.\")\n",
        "    COLAB = False"
      ]
    },
    {
      "cell_type": "markdown",
      "source": [
        "Your GMAIL address **must** appear in the output in order for your work to be graded. If your GMAIL is not visible you will receive a `0` for your grade. You will not be given a second chance to fix this problem!"
      ],
      "metadata": {
        "id": "4vxXQyP-FpAD"
      }
    },
    {
      "cell_type": "markdown",
      "source": [
        "# **Assignment 1: Multiclass Classification**\n",
        "\n",
        "**Assignment_01** is specifically designed to assess your ability to write the Python/Tensorflow/Keras code necessary to build neural networks that can analyze tabular data stored in a Pandas DataFrame. These analyzes include: (1) binary classification, (2) multiclass classification and (3) regression.\n",
        "\n",
        "You will use this Colab notebook **only** if the first digit in your myUTSA ID is between `4` and `6`. If that is correct, you have been assigned to perform **multiclass classification**.\n",
        "\n",
        "Unlike your class lessons, you will **not** be given examples that you can use to simply copy-and-paste code. Rather, you will be given a problem to solve and it will be up to you to use code snippets that you have been given previously to solve different aspects of this assignment. And unlike your class lessons, your will **not** be given the correct output. In other words, this assignment is basically how you would solve an actual biomedical problem."
      ],
      "metadata": {
        "id": "N5vwK5mM1dp3"
      }
    },
    {
      "cell_type": "markdown",
      "source": [
        "# **Multiclass Classification by Neural Networks**\n",
        "**Multiclass classification** of tabular data is a type of supervised learning task where the goal is to categorize observations into one of three or more possible classes based on their attributes.\n",
        "\n",
        "#### **Multiclass Classification:**\n",
        "Multiclass classification deals with problems where there are multiple possible outcomes. Examples include:\n",
        "1. **Disease Diagnosis:**\n",
        "   - What type of diabetes does the patient have? (Type 1/Type 2/Gestational)\n",
        "   - What stage is this breast tumor in? (Stage 0/Stage 1/Stage 2/Stage 3/Stage 4)\n",
        "   - What type of hypertension does the patient have? (Primary/Secondary)\n",
        "   - What variant of COVID-19 is the patient infected with? (Alpha/Beta/Delta/Omicron)\n",
        "2. **Medical Outcomes:**\n",
        "   - What is the prognosis for the patient after a heart attack? (Good/Fair/Poor)\n",
        "   - What type of response will the patient have to a specific treatment? (Positive/Negative/Neutral)\n",
        "   - What risk level does the patient have for developing heart disease? (Low/Medium/High)\n",
        "3. **Medical Conditions and Symptoms:**\n",
        "   - What type of depression is the patient experiencing? (Mild/Moderate/Severe)\n",
        "   - What severity of sleep apnea does the patient have? (Mild/Moderate/Severe)\n",
        "   - What is the patient's risk level for osteoporosis? (Low/Medium/High)\n",
        "   - What genetic condition does the patient have a predisposition for? (Condition A/Condition B/Condition C)\n",
        "4. **Medical Procedures:**\n",
        "   - What type of surgery is recommended for this patient? (Surgery A/Surgery B/Surgery C)\n",
        "   - What blood transfusion type does the patient need? (Type A/Type B/Type AB/Type O)\n",
        "   - What category does the patient fall into for a particular clinical trial? (Group 1/Group 2/Group 3)\n",
        "\n",
        "Here’s a step-by-step guide on how to perform multiclass classification using neural networks:\n",
        "#### **Data Preparation:**\n",
        "- **Collect Data:** Obtain a dataset with numerical features and a categorical target variable with multiple classes.\n",
        "- **Clean Data:** Handle missing values, outliers, and erroneous entries.\n",
        "- **Data Normalization:** Normalize your data (e.g. convert to Z-scores) to help the neural network learn more efficiently.\n",
        "- **Data Pre-Processing:** Create X- and Y-feature vectors and encode the target variable into numerical format (e.g., one-hot encoding).\n",
        "- **Split Data:** Divide your data into training and test sets.\n",
        "#### **Neural Network Model**\n",
        "- **Build the Neural Network Model:** Use TensorFlow and Keras to define the neural network architecture suitable for multiclass classification (e.g., using softmax activation in the output layer).\n",
        "- **Train the Model:** Fit the model to your training data, using the validation set to monitor performance.\n",
        "- **Evaluate the Model:** Assess the model’s performance on the test set using metrics like accuracy, precision, recall, F1-score, and Confusion Matrix:"
      ],
      "metadata": {
        "id": "LIlyrBUw1sWt"
      }
    },
    {
      "cell_type": "markdown",
      "source": [
        "## **Descriptions of Data Sets for Multiclass Classification**\n",
        "\n",
        "This section describes the various datasets, information for downloading them, and what variable(s) your network should predict. Remember, you do **not** earn and credit if you analyze the wrong dataset. Pay particular attention to the **output** variable for Multiclass Classification because this column will contain the `Y- values` for your assigned dataset. You will need to know the name of the output feature when you are constructing yor `X-` and `Y-feature vectors`."
      ],
      "metadata": {
        "id": "2e3ndell10n0"
      }
    },
    {
      "cell_type": "markdown",
      "source": [
        "## **Thyroid Replacement Dataset - 1st myUTSA Digit = 4**\n",
        "\n",
        "#### **Filename:** `thyroid_replacement.csv`\n",
        "#### **Output Variable (Y values):** `class`\n",
        "\n",
        "\n",
        "### **Thyroid Replacement Dataset**\n",
        "\n",
        "The Thyroid Replacement dataset contains patient records and clinical features used to predict thyroid hormone replacement therapy. The dataset includes demographic information and various thyroid-related clinical test results.\n",
        "\n",
        "#### Features:\n",
        "1. **age**: Age of the patient.\n",
        "2. **sex**: Gender of the patient (male/female).\n",
        "3. **t_med**: Use of thyroxine (Yes/No).\n",
        "5. **ant-med**: Use of antithyroid medication (Yes/No).\n",
        "6. **sick**: Whether the patient is sick (Yes/No).\n",
        "7. **pregnant**: Whether the patient is pregnant (Yes/No).\n",
        "8. **t_surgery**: Whether the patient had thyroid surgery (Yes/No).\n",
        "9. **I131_treat**: Whether the patient had radioactive iodine treatment (Yes/No).\n",
        "12. **lithium**: Whether the patient is on lithium treatment (Yes/No).\n",
        "13. **goiter**: Presence of goiter (Yes/No).\n",
        "14. **turmor**: Presence of tumor (Yes/No).\n",
        "15. **hypopituitary**: Whether the patient is hypopituitary (Yes/No).\n",
        "16. **psych**: Whether the patient has psychiatric disorders (Yes/No).\n",
        "17. **TSH**: Thyroid Stimulating Hormone level (mU/L).\n",
        "18. **T3**: Triiodothyronine level (ng/dL).\n",
        "19. **TT4**: Total Thyroxine level (μg/dL).\n",
        "20. **FTI**: Free Thyroxine Index (unitless).\n",
        "21. **TBG**: Free Thyroxine Index (unitless).\n",
        "\n",
        "\n",
        "#### Output (Y variable):\n",
        "- **class**: Indicates the thyroid hormone replacement therapy category (1: Class 1, 2: Class 2, 3: Class 3, 4: Class 4, 5: Class 5).\n"
      ],
      "metadata": {
        "id": "GshqhMtp16nU"
      }
    },
    {
      "cell_type": "markdown",
      "source": [
        "## **Wine Quality Dataset - 1st myUTSA Digit = 5**\n",
        "\n",
        "#### **Filename:** `wine_quality.csv`\n",
        "#### **Output Variable (Y values):** `quality`\n",
        "\n",
        "\n",
        "### **Wine Quality Dataset**\n",
        "\n",
        "The Wine Quality dataset contains physicochemical properties of wines, which are used to predict the quality of the wine. The dataset includes two sets of wines: red and white vinho verde wines from the north of Portugal. Each wine sample is described by 11 features and a quality score.\n",
        "\n",
        "#### Features:\n",
        "1. **color**: Wine color, red or white.\n",
        "2. **fixed acidity**: Fixed acids that remain in the wine during fermentation (e.g., tartaric acid).\n",
        "3. **volatile acidity**: Acetic acid content, which can give wine an undesirable vinegar flavor.\n",
        "4. **citric acid**: Provides freshness to wines and can contribute to flavor.\n",
        "5. **residual sugar**: The amount of sugar remaining after fermentation.\n",
        "6. **chlorides**: The amount of salt in the wine.\n",
        "7. **free sulfur dioxide**: SO₂ that is not bound to other molecules and is available to act as an antimicrobial agent.\n",
        "8. **total sulfur dioxide**: The sum of free and bound forms of SO₂.\n",
        "9. **density**: The density of the wine, closely related to alcohol and sugar content.\n",
        "10. **pH**: Measures the acidity or alkalinity of wine.\n",
        "11. **sulphates**: A wine preservative and antioxidant.\n",
        "12. **alcohol**: Alcohol content of the wine.\n",
        "\n",
        "#### Output (Y variable):\n",
        "- **quality**: Quality score of the wine, likely on a scale from 0 to 10, based on sensory data from wine experts."
      ],
      "metadata": {
        "id": "kKi75N2k2Es1"
      }
    },
    {
      "cell_type": "markdown",
      "source": [
        "## **Liver Disease Dataset - 1st myUTSA Digit = 6**\n",
        "\n",
        "#### **Filename:** `liver_disease.csv`\n",
        "#### **Output Variable (Y values):** `drinks`\n",
        "\n",
        "### **Liver Disease Dataset**\n",
        "\n",
        "The Liver Disease dataset contains patient records and clinical features used to predict the presence of liver disease. The dataset includes various biochemical markers and a classification label indicating liver disease status.\n",
        "\n",
        "#### Features:\n",
        "1. **class**: Indicates the presence of liver disease (`Diseased`, `No_Disease`)\n",
        "2. **mcv**: Mean Corpuscular Volume (fl)\n",
        "3. **alkphos**: Alkaline Phosphatase levels (IU/L)\n",
        "4. **sgpt**: Serum Glutamic-Pyruvic Transaminase (ALT) levels (IU/L)\n",
        "5. **sgoit**: Serum Glutamic-Oxaloacetic Transaminase (AST) levels (IU/L)\n",
        "6. **gammagt**: Gamma-Glutamyl Transferase levels (IU/L)\n",
        "\n",
        "#### Output (Y variable):\n",
        "- **drinks**: Number of alcoholic drinks consumed per day\n"
      ],
      "metadata": {
        "id": "S_Htu0Oj2LNj"
      }
    },
    {
      "cell_type": "markdown",
      "source": [
        "# **General Instructions**\n",
        "\n",
        "To make the assignment more manageable, you will given a number of specific steps to perform. To help guide you in writing your code, you will be given a specific example in a particular class lesson that you can use for a reference. For example, in **Step 1: Download and Extract Data** you are given **REF: Class_01_6: Examples 1 & 2**. That means Examples 1 and 2 in `Class_01_6` provide code that you can use to complete that step of this assignment.\n",
        "\n",
        "### **Variable Names**\n",
        "\n",
        "In writing your code for this assignment, you are free to give your variables any name that makes sense to you. This includes the name of the DataFrame that holds your data. When you `copy-and-paste` code from earlier Class assignments, you always have to edit the name of the DataFrame to match the name you select for this assignment in **Step 1**.\n",
        "\n",
        "When it has been necessary to give an example that includes a DataFrame name, the DataFrame has been called `df` or `my_df`. You will need to edit these names to match the actual name you give to your DataFrame in **Step 1**.\n",
        "\n",
        "### **Can I Use AI?**\n",
        "\n",
        "You are free to use AI (e.g. Microsoft Co-Pilot) to help you complete your assignment---but you need to be very careful.\n",
        "\n",
        "While AI can be very helpful in correcting coding errors, but it can also give you code that is totally incorrect for this assignment. A small number of students in previous classes have flunked their assignment by using AI code that did not generate the correct output. Useless you give the AI a well-constructed prompt, the answer you get back might lead you in the wrong direction.\n",
        "\n",
        "If your aren't sure what you are doing, it's **much, much safer to get help with any of your coding problems from your course instructor and/or course TA's.**"
      ],
      "metadata": {
        "id": "zglo_zTrG4d9"
      }
    },
    {
      "cell_type": "markdown",
      "source": [
        "### Create Custom Function\n",
        "\n",
        "The cell below creates a custom function needed for this assignment. If you don't run this cell, you will receive errors later when you try to run some cells."
      ],
      "metadata": {
        "id": "M2aQbHe5G4P9"
      }
    },
    {
      "cell_type": "code",
      "source": [
        "# Create functions for this lesson\n",
        "\n",
        "# ------------------------------------------------------------------------\n",
        "# 0️⃣  Create hms_string()\n",
        "# ------------------------------------------------------------------------\n",
        "\n",
        "# Simple function to print out elasped time\n",
        "def hms_string(sec_elapsed):\n",
        "    h = int(sec_elapsed / (60 * 60))\n",
        "    m = int((sec_elapsed % (60 * 60)) / 60)\n",
        "    s = sec_elapsed % 60\n",
        "    return \"{}:{:>02}:{:>05.2f}\".format(h, m, s)"
      ],
      "metadata": {
        "id": "6vuDFK-5HKg8"
      },
      "execution_count": null,
      "outputs": []
    },
    {
      "cell_type": "markdown",
      "source": [
        "## **Step 1: Download and Extract Data**\n",
        "\n",
        "**REF: Class_01_6: Examples 1 & 2**\n",
        "\n",
        "In the cell below, write the code to download your datafile from the course server and create a `Pandas` DataFrame to store your data. You are free to choose any name for your DataFrame, just make sure to keep it consistent throughout this assignment.\n",
        "\n",
        "**Code Hints:**\n",
        "\n",
        "1. When using the command `pd.read_csv()` the file separator argument `sep` will be always be a comma **`,`**\n",
        "\n",
        "2. You can **only** use the assigned dataset that you download from the course file server https://biologicslab.co even if you find a dataset with the same name at a different web location.\n",
        "\n",
        "3. Use this code to set your display settings:\n",
        "```text\n",
        "# Set max columns and max rows\n",
        "pd.set_option('display.max_columns', my_df.shape[1])\n",
        "pd.set_option('display.max_rows', 8)\n",
        "```\n",
        "4. At the end of the cell use the function `display(df)` to show your DataFrame.\n"
      ],
      "metadata": {
        "id": "I8o6hPfSG301"
      }
    },
    {
      "cell_type": "code",
      "source": [
        "# Step 1: Download and Extract Data\n",
        "\n"
      ],
      "metadata": {
        "id": "6wueN8hyIYDn"
      },
      "execution_count": null,
      "outputs": []
    },
    {
      "cell_type": "markdown",
      "source": [
        "If your code is correct you should see a table with a relatively large number of columns that may very well extend beyond the right edge of your notebook display."
      ],
      "metadata": {
        "id": "hClhWLb8IdNG"
      }
    },
    {
      "cell_type": "markdown",
      "source": [
        "## **Step 2: Print Summary Statistics**\n",
        "\n",
        "**REF: Class_01_6: Example 3**\n",
        "\n",
        "In the cell below use `df.describe()` to print put the summary statistics of your DataFrame.  \n",
        "\n",
        "**Code Hints:**\n",
        "\n",
        "Use this code to set your print output:\n",
        "```text\n",
        "# Set max columns and max rows\n",
        "pd.set_option('display.max_columns', 12)\n",
        "pd.set_option('display.max_rows', 8)\n",
        "```\n"
      ],
      "metadata": {
        "id": "9JXxQm3QNTPH"
      }
    },
    {
      "cell_type": "code",
      "source": [
        "# Step 2: Print summary statistics\n",
        "\n"
      ],
      "metadata": {
        "id": "zmIr8IptNsMO"
      },
      "execution_count": null,
      "outputs": []
    },
    {
      "cell_type": "markdown",
      "source": [
        "Your output should be table showing summary statistics for each column in your DataFrame."
      ],
      "metadata": {
        "id": "kAgUPj80N8bV"
      }
    },
    {
      "cell_type": "markdown",
      "source": [
        "## **Step 3: Find Missing Values**\n",
        "\n",
        "**REF: Class_01_6: Example 4**\n",
        "\n",
        "Use `df.isnull()` to find any missing values in your DataFrame. Print out the missing locations in two vertical columns titled `column_name` and `has_missing`.  \n"
      ],
      "metadata": {
        "id": "Fs6Id0FRImr2"
      }
    },
    {
      "cell_type": "code",
      "source": [
        "# Step 3: Find missing values\n",
        "\n"
      ],
      "metadata": {
        "id": "HpF_DeydIwkl"
      },
      "execution_count": null,
      "outputs": []
    },
    {
      "cell_type": "markdown",
      "source": [
        "If your code is correct you should see a list of all the columns in your DataFrame and whether or not any column has one (or more) missing data. Make careful note of name of any column that is missing data."
      ],
      "metadata": {
        "id": "8DEOVMzkIzAl"
      }
    },
    {
      "cell_type": "markdown",
      "source": [
        "## **Step 4: Replace Missing Values**\n",
        "\n",
        "**REF: Class_01_6: Example 5**\n",
        "\n",
        "Use `df.fillna()` to replace any missing values in your DataFrame with the median value of that column. Use the same print commands as in `Class_01_6: Example 5` to show what was done."
      ],
      "metadata": {
        "id": "jG2dMQGBiG7M"
      }
    },
    {
      "cell_type": "code",
      "source": [
        "# Step 4: Replace missing values\n",
        "\n",
        "\n"
      ],
      "metadata": {
        "id": "2UEmD6aglnf1"
      },
      "execution_count": null,
      "outputs": []
    },
    {
      "cell_type": "markdown",
      "source": [
        "You should see the same list that was generated by Step 2 except now all of the values in the `has_missing` column should be `False`.  "
      ],
      "metadata": {
        "id": "vTneGIKoVvT7"
      }
    },
    {
      "cell_type": "markdown",
      "source": [
        "## **Step 5: Display Data Types**\n",
        "\n",
        "**REF: Class_02_2: Example 1 - Step2**\n",
        "\n",
        "Display the different data types in your DataFrame using `df.info()` method.\n",
        "\n",
        "**Code Hints:**\n",
        "\n",
        "Set your print option using this code chunk:\n",
        "```text\n",
        "# Set max rows to the number of columns\n",
        "pd.set_option('display.max_rows', len(df.columns))\n",
        "```\n",
        "where `df` is the name of your DataFrame."
      ],
      "metadata": {
        "id": "9lhujPUbXL7U"
      }
    },
    {
      "cell_type": "code",
      "source": [
        "# Step 5: Display data types\n",
        "\n"
      ],
      "metadata": {
        "id": "n_9WMRbEZsQ6"
      },
      "execution_count": null,
      "outputs": []
    },
    {
      "cell_type": "markdown",
      "source": [
        "At the very bottom of the output will be the strings that you will need to map to an integer in the next step."
      ],
      "metadata": {
        "id": "1zjIf9Z8apIt"
      }
    },
    {
      "cell_type": "markdown",
      "source": [
        "Inspect the column `Dtype` for the word `object`. This means the column contains string values that need to be mapped to an integer value."
      ],
      "metadata": {
        "id": "MU9-WUfdYwU9"
      }
    },
    {
      "cell_type": "markdown",
      "source": [
        "## **Step 6: Map Strings to Integers**\n",
        "\n",
        "**REF: Class_01_6: Example 9**\n",
        "\n",
        "In the cell below write the code to map the strings shown in the output of the previous cell (Step 5) to an integer. Depending upon the dataset, 2-4 strings will need to be mapped. Always start your mapping with the integer `0`.\n",
        "\n",
        "**Code Hints:**\n",
        "\n",
        "1. Set the variable `col_name_map` to the string following the word `Column:` at the bottom of the output from `Step 5` above.\n",
        "\n",
        "2. The names immediately below the word `Column:` are the strings that you need to map to an integer.\n",
        "\n",
        "Use the `display()` function to print out **only** the contents of the column that you are mapping, before and then after the mapping has been performed."
      ],
      "metadata": {
        "id": "DxIEjoG7W4Om"
      }
    },
    {
      "cell_type": "code",
      "source": [
        "# Step 6: Map strings to integers\n",
        "\n"
      ],
      "metadata": {
        "id": "o2bF0DqwdVyx"
      },
      "execution_count": null,
      "outputs": []
    },
    {
      "cell_type": "markdown",
      "source": [
        "After mapping the mapped column in your `DataFrame` should now contain only integers (**`dtype`**:int64)."
      ],
      "metadata": {
        "id": "y2di5K_Tei4F"
      }
    },
    {
      "cell_type": "markdown",
      "source": [
        "## **Step 7: Create Feature Vector for Classification Neural Network**\n",
        "\n",
        "**REF: Class_02_2: Example 4**\n",
        "\n",
        "In the cell below, write the code to preprocess the data in your DataFrame to create a feature vector.\n",
        "\n",
        "**Code Hints:**\n",
        "\n",
        "1. The name of the target column was given as part of the description of your assigned dataset at the beginning of this assignment.\n",
        "\n",
        "2. Print out your `Feature matrix shape` and your `Target matrix shape` along with the first four values of your feature vector and their corresponding one-hot targets as shown in `Class_02_2: Example 4`."
      ],
      "metadata": {
        "id": "PC9W0pgzJ6uw"
      }
    },
    {
      "cell_type": "code",
      "source": [
        "# Step 7: Create feature vector for classification neural network\n",
        "\n"
      ],
      "metadata": {
        "id": "fEY-Ydr9KLW3"
      },
      "execution_count": null,
      "outputs": []
    },
    {
      "cell_type": "markdown",
      "source": [
        "If you code is correct you should see at the top of the output the shape of your `Feature maxtrix` and your `Target maxtrix` Immediately below you should see the `First 4 feature vectors` followed by the `Corresponding one-hot targets` at the bottom."
      ],
      "metadata": {
        "id": "2wNV9kzCaUwV"
      }
    },
    {
      "cell_type": "markdown",
      "source": [
        "## **Step 8: Construct and Compile Classification Neural Network**\n",
        "\n",
        "**REF: Class_02_2 Example 5A**\n",
        "\n",
        "In the cell below write the code to construct and compile a classification neural network.\n",
        "\n",
        "**Code Hints:**\n",
        "\n",
        "1. Start by importing the following packages:\n",
        "```text\n",
        "from __future__ import annotations\n",
        "\n",
        "import os\n",
        "import time\n",
        "import random\n",
        "import numpy as np\n",
        "import tensorflow as tf\n",
        "from tensorflow.keras import Input, Model\n",
        "from tensorflow.keras.optimizers import Adam\n",
        "from tensorflow.keras.layers import Dense, Dropout\n",
        "from tensorflow.keras.callbacks import (\n",
        "    EarlyStopping,\n",
        "    ModelCheckpoint,\n",
        "    ReduceLROnPlateau,\n",
        ")\n",
        "```\n",
        "\n",
        "2. Define your parameters using the code in `Block 1` of `Example 5A`\n",
        "```text\n",
        "# ---------------------------------------------------------------------------\n",
        "# 1️⃣ Define parameters\n",
        "# ---------------------------------------------------------------------------\n",
        "```\n",
        "2. Split your data using the code in `Block 2` of `Example 5A`\n",
        "```text\n",
        "# ---------------------------------------------------------------------------\n",
        "# 2️⃣ Split data\n",
        "# ---------------------------------------------------------------------------\n",
        "```\n",
        "\n",
        "3. Build and compile a classification model using the code in `Block 3` of `Example 5A`\n",
        "```text\n",
        "# ---------------------------------------------------------------------------\n",
        "# 3️⃣ Build and compile model\n",
        "# ---------------------------------------------------------------------------\n",
        "```\n",
        "\n",
        "\n",
        "**IMPORTANT:** Do **not** start training your model yet. This will be done in a separate step."
      ],
      "metadata": {
        "id": "ZDz5O3hkKOAH"
      }
    },
    {
      "cell_type": "code",
      "source": [
        "# Step 9: Construct and Compile Neural Network\n",
        "\n",
        "\n"
      ],
      "metadata": {
        "id": "hlPaZE-YKTCn"
      },
      "execution_count": null,
      "outputs": []
    },
    {
      "cell_type": "markdown",
      "source": [
        "If your code is correct, you should **not** see any output after running the previous cell. If you see any output you didn't follow directions and your grade will be reduced accordingly."
      ],
      "metadata": {
        "id": "-CNJISn-KN0u"
      }
    },
    {
      "cell_type": "markdown",
      "source": [
        "## **Step 9: Print Model Summary**\n",
        "\n",
        "**REF: Class_02_4: Example 4**\n",
        "\n",
        "In the cell below, use the `model.summary()` command to print out the information about your neural network.\n",
        "\n",
        "**Code Hints:**\n",
        "\n",
        "You only need to write a **single line of code** in the cell below."
      ],
      "metadata": {
        "id": "FS1Qew2DKWMW"
      }
    },
    {
      "cell_type": "code",
      "source": [
        "# Step 8: Print Summary of Your Model\n",
        "\n"
      ],
      "metadata": {
        "id": "8ySuP7U8KjcN"
      },
      "execution_count": null,
      "outputs": []
    },
    {
      "cell_type": "markdown",
      "source": [
        "If your code is correct you should see a table showing the 5 layers in your neural network model, their `Output Shape` and their number of parameters."
      ],
      "metadata": {
        "id": "qVvVJch6ZeYR"
      }
    },
    {
      "cell_type": "markdown",
      "source": [
        "## **Step 10: Create `callbacks`**\n",
        "\n",
        "**REF: Class_02_2: Example 5A**\n",
        "\n",
        "\n",
        "Write the code to add `callbacks` to monitor your model's training.\n",
        "\n",
        "**Code Hints:**\n",
        "\n",
        "1. You should add the following imports at the top of the code cell:\n",
        "```text\n",
        "from tensorflow.keras.callbacks import (\n",
        "    EarlyStopping,\n",
        "    ModelCheckpoint,\n",
        "    ReduceLROnPlateau,\n",
        ")\n",
        "```\n",
        "2. Define your parameters using the code in `Block 1` of `Example 5a`\n",
        "```text\n",
        "# ---------------------------------------------------------------------------\n",
        "# 1️⃣ Define parameters\n",
        "# ---------------------------------------------------------------------------\n",
        "```\n",
        "\n",
        "3. Create your `callbacks` using the code in `Block 4` of `Example 5A`\n",
        "```text\n",
        "# ---------------------------------------------------------------------------\n",
        "# 4️⃣ Add Callbacks\n",
        "# ---------------------------------------------------------------------------\n",
        "```"
      ],
      "metadata": {
        "id": "QBaoq4eAKmIN"
      }
    },
    {
      "cell_type": "code",
      "source": [
        "# Step 10: Create callbacks\n",
        "\n"
      ],
      "metadata": {
        "id": "CRc1vNJVKsIt"
      },
      "execution_count": null,
      "outputs": []
    },
    {
      "cell_type": "markdown",
      "source": [
        "If your code is correct, you should not see any output."
      ],
      "metadata": {
        "id": "OyjRWGggKl8N"
      }
    },
    {
      "cell_type": "markdown",
      "source": [
        "## **Step 11: Train the Model**\n",
        "\n",
        "**REF: Class_02_2: Example 5A**\n",
        "\n",
        "In the cell below, write the Python code to train the neural network that you constructed in **Step 10**. Set the number of epochs to `100`. Make sure the parameter `verbose` is set to `2` so that the output of each epoch is written out.\n",
        "\n",
        "**Code Hints:**\n",
        "\n",
        "1. Use the code in `Block 1` of `Example 5A` to define parameters. Change the number of epochs to `100`.\n",
        "```text\n",
        "# ---------------------------------------------------------------------------\n",
        "# 1️⃣ Define parameters\n",
        "# ---------------------------------------------------------------------------\n",
        "EPOCHS = 100\n",
        "PATIENCE = 20\n",
        "VERBOSE = 2\n",
        "lr = 0.0010\n",
        "OPTIMIZER = Adam(learning_rate=lr)\n",
        "\n",
        "```\n",
        "2. Use the code in `Block 5` of `Example 5A` to train your model.\n",
        "\n",
        "```text\n",
        "# ---------------------------------------------------------------------------\n",
        "#  5️⃣ Train model\n",
        "# ---------------------------------------------------------------------------\n",
        "```\n",
        "\n",
        "3. Use the code in `Block 6` of `Example 5A` to inspect your training:\n",
        "\n",
        "```text\n",
        "# ---------------------------------------------------------------------------\n",
        "# 6️⃣ Inspect training\n",
        "# ---------------------------------------------------------------------------\n",
        "~~~\n",
        "\n",
        "**NOTE:** Make sure that your code prints out the `Elapsed time:` formatted as `hr:min:sec` at the end of training."
      ],
      "metadata": {
        "id": "856IrePpKWB2"
      }
    },
    {
      "cell_type": "code",
      "source": [
        "# Step 11: Train the Model\n",
        "\n"
      ],
      "metadata": {
        "id": "IcR2UkBLK1Bs"
      },
      "execution_count": null,
      "outputs": []
    },
    {
      "cell_type": "markdown",
      "source": [
        "If you code is correct you should see the output generated by each epoch during training with the `Best validation accuracy` and the `Elapsed time` print at the end of the output."
      ],
      "metadata": {
        "id": "eeyAqS_dWIXc"
      }
    },
    {
      "cell_type": "markdown",
      "source": [
        "## **Step 12: Visualize Training Curves**\n",
        "\n",
        "**REF: Class_02_4 Example 1B**\n",
        "\n",
        "In the cell below, write the code to generate two side-by-side plots, an **Accuracy Curve** and a **Loss Curve** to visualized what happened during training of your model. Each plot should show the value of the `train` accuracy/loss and the `val` accuracy/loss."
      ],
      "metadata": {
        "id": "3k0Bzdp9K6Wz"
      }
    },
    {
      "cell_type": "code",
      "source": [
        "# Step 12: Visualize training\n",
        "\n"
      ],
      "metadata": {
        "id": "mI42cck5LEET"
      },
      "execution_count": null,
      "outputs": []
    },
    {
      "cell_type": "markdown",
      "source": [
        "If your code is correct you should see two side-by-side plots showing `Accuracy` on the left and `Loss` on the right."
      ],
      "metadata": {
        "id": "GDX9-4otW9H8"
      }
    },
    {
      "cell_type": "markdown",
      "source": [
        "## **Assignment Turn-in**\n",
        "\n",
        "When you have completed and run all of the code cells, use the **File --> Print.. --> Save to PDF** to generate a PDF of your Colab notebook. Save your PDF as `Copy of Assignment_01.lastname.pdf` where _lastname_ is your last name, and upload the file to Canvas.\n",
        "\n",
        "## **---WARNING---WARNING--WARNING---**\n",
        "\n",
        "Unlike class lessons, you are **only given 1 submission** for assignments. If you failed to carefully follow directions and make a bad mistake you won't have a 2nd chance to correct your errors.\n",
        "\n",
        "Therefore, you are **STRONGLY ENCOURAGED** to have your completed assignment checked by an Instructor **_before_** you submit your PDF to Canvas. Every semester one (or more) students fail to follow directions and receive an automatic `0` on an assignment--which virtually assures that the student just had their final course grade lower by a letter. Don't be that student!"
      ],
      "metadata": {
        "id": "x_Ls8jsIK6Nc"
      }
    },
    {
      "cell_type": "markdown",
      "source": [
        "## **Poly-A Tail**\n",
        "\n",
        "## **DeepSeek**\n",
        "\n",
        "![__](https://upload.wikimedia.org/wikipedia/commons/thumb/e/ec/DeepSeek_logo.svg/1920px-DeepSeek_logo.svg.png)\n",
        "\n",
        "**DeepSeek** (Chinese: 深度求索; pinyin: Shēndù Qiúsuǒ) is a Chinese artificial intelligence company that develops open-source large language models (LLMs). Based in Hangzhou, Zhejiang, it is owned and funded by Chinese hedge fund High-Flyer, whose co-founder, Liang Wenfeng, established the company in 2023 and serves as its CEO.\n",
        "\n",
        "The DeepSeek-R1 model provides responses comparable to other contemporary large language models, such as OpenAI's GPT-4o and o1. It is trained at a significantly lower cost—stated at US$6 million compared to $100 million for OpenAI's GPT-4 in 2023—and approximately a tenth of the computing power used for Meta's comparable model, LLaMA 3.1. DeepSeek's AI models were developed amid United States sanctions on China and other countries for chips used to develop artificial intelligence, which were intended to restrict the ability of these countries to develop advanced AI systems. Lesser restrictions were later announced that would affect all but a few countries.\n",
        "\n",
        "On 10 January 2025, DeepSeek released its first free chatbot app, based on the DeepSeek-R1 model, for iOS and Android; by 27 January, DeepSeek had surpassed ChatGPT as the most-downloaded free app on the iOS App Store in the United States,[10] causing Nvidia's share price to drop by 18%. DeepSeek's success against larger and more established rivals has been described as \"upending AI\"[10] and ushering in \"a new era of AI brinkmanship\". DeepSeek's compliance with Chinese government censorship policies and its data collection practices have also raised concerns over privacy and information control in the model, prompting regulatory scrutiny in multiple countries.\n",
        "\n",
        "DeepSeek makes its generative artificial intelligence algorithms, models, and training details open-source, allowing its code to be freely available for use, modification, viewing, and designing documents for building purposes.However, reports indicate that the API version hosted in China applies content restrictions in accordance with local regulations, limiting responses on topics such as the Tiananmen Square massacre and Taiwan’s status. The company reportedly vigorously recruits young AI researchers from top Chinese universities, and hires from outside the computer science field to diversify its models' knowledge and abilities.\n",
        "\n",
        "**Background**\n",
        "\n",
        "In February 2016, High-Flyer was co-founded by AI enthusiast Liang Wenfeng, who had been trading since the 2007–2008 financial crisis while attending Zhejiang University. They began stock-trading with a deep learning model running on GPU on October 21, 2016. Prior to this, they used CPU-based models, mainly linear models. Most trading was done by AI by the end of 2017.\n",
        "\n",
        "By 2019, he established High-Flyer as a hedge fund focused on developing and using AI trading algorithms. By 2021, High-Flyer exclusively used AI in trading, often using Nvidia chips. DeepSeek has made its generative artificial intelligence chatbot open source, meaning its code is freely available for use, modification, and viewing. This includes permission to access and use the source code, as well as design documents, for building purposes.\n",
        "\n",
        "In 2021, while running High-Flyer, Liang began stockpiling Nvidia GPUs for an AI project.[20] According to 36Kr, Liang had built up a store of 10,000 Nvidia A100 GPUs, which are used to train AI, before the United States federal government imposed AI chip restrictions on China.\n",
        "\n",
        "On 14 April 2023,[22] High-Flyer announced the start of an artificial general intelligence lab dedicated to research developing AI tools separate from High-Flyer's financial business. Incorporated on 17 July 2023, with High-Flyer as the investor and backer, the lab became its own company, DeepSeek. Venture capital firms were reluctant to provide funding, as they considered it unlikely that the venture would be able to generate an \"exit\" in a short period of time.\n",
        "\n",
        "On May 16, 2023, the company Beijing DeepSeek Artificial Intelligence Basic Technology Research Co., Ltd. incorporated under the control of Hangzhou DeepSeek Artificial Intelligence Basic Technology Research Co., Ltd. As of May 2024, Liang Wenfeng held 84% of DeepSeek through two shell corporations.\n",
        "\n",
        "After releasing DeepSeek-V2 in May 2024, which offered strong performance for a low price, DeepSeek became known as the catalyst for China's AI model price war. It was quickly dubbed the \"Pinduoduo of AI\", and other major tech giants such as ByteDance, Tencent, Baidu, and Alibaba began to cut the price of their AI models to compete with the company. Despite the low price charged by DeepSeek, it was profitable compared to its rivals that were losing money.\n",
        "\n",
        "DeepSeek is focused on research and has no detailed plans for commercialization, which also allows its technology to avoid the most stringent provisions of China's AI regulations, such as requiring consumer-facing technology to comply with the government's controls on information.\n",
        "\n",
        "DeepSeek's hiring preferences target technical abilities rather than work experience, resulting in most new hires being either recent university graduates or developers whose AI careers are less established. Likewise, the company recruits individuals without any computer science background to help its technology understand other topics and knowledge areas, including being able to generate poetry and perform well on the notoriously difficult Chinese college admissions exams (Gaokao).\n",
        "\n",
        "**Training framework**\n",
        "\n",
        "High-Flyer/DeepSeek has built at least two computing clusters, Fire-Flyer (萤火一号) and Fire-Flyer 2 (萤火二号). Fire-Flyer began construction in 2019 and finished in 2020, at a cost of 200 million yuan. It contained 1,100 GPUs interconnected at a rate of 200 Gbps. It was 'retired' after 1.5 years in operation. Fire-Flyer 2 began construction in 2021 with a budget of 1 billion yuan.[18] It was reported that in 2022, Fire-Flyer 2's capacity had been utilized at over 96%, totaling 56.74 million GPU hours. Of those GPU hours, 27% was used to support scientific computing outside the company.\n",
        "\n",
        "Fire-Flyer 2 consisted of co-designed software and hardware architecture. On the hardware side, there are more GPUs with 200 Gbps interconnects. The cluster is divided into two \"zones\", and the platform supports cross-zone tasks. The network topology was two fat trees, chosen for its high bisection bandwidth. On the software side, there are\n",
        "\n",
        "* **3FS (Fire-Flyer File System):** A distributed parallel file system. It was specifically designed for asynchronous random reads from a dataset, and uses Direct I/O and RDMA Read. In contrast to standard Buffered I/O, Direct I/O does not cache data. Caching is useless for this case, since each data read is random, and would not be reused.\n",
        "* **hfreduce:** Library for asynchronous communication, originally designed to replace Nvidia Collective Communication Library (NCCL).[30] It was mainly used for allreduce, especially of gradients during backpropagation. It is asynchronously run on the CPU to avoid blocking kernels on the GPU.[28] It uses two-tree broadcast like NCCL.\n",
        "* **hfai.nn:** Software library of commonly used operators in neural network training, similar to torch.nn in PyTorch.\n",
        "* **HaiScale Distributed Data Parallel (DDP):** Parallel training library that implements various forms of parallelism in deep learning such as Data Parallelism (DP), Pipeline Parallelism (PP), Tensor Parallelism (TP), Experts Parallelism (EP), Fully Sharded Data Parallel (FSDP) and Zero Redundancy Optimizer (ZeRO). It is similar to PyTorch DDP, which uses NCCL on the backend.\n",
        "* **HAI Platform:** Various applications such as task scheduling, fault handling, and disaster recovery.\n",
        "During 2022, Fire-Flyer 2 had 5000 PCIe A100 GPUs in 625 nodes, each containing 8 GPUs. At the time, they chose to exclusively use PCIe instead of DGX version of A100, since at the time the models they trained could fit within a single 40 GB GPU VRAM, so there was no need for the higher bandwidth of DGX (i.e. they required only data parallelism but not model parallelism).[30] Later, they also incorporated NVLinks and NCCL, to train larger models that required model parallelism."
      ],
      "metadata": {
        "id": "jyj_ZFKtLUiS"
      }
    }
  ]
}