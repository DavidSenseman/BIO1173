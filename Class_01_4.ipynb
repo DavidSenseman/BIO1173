{
  "cells": [
    {
      "cell_type": "markdown",
      "metadata": {
        "id": "view-in-github",
        "colab_type": "text"
      },
      "source": [
        "<a href=\"https://colab.research.google.com/github/DavidSenseman/BIO1173/blob/main/Class_01_4.ipynb\" target=\"_parent\"><img src=\"https://colab.research.google.com/assets/colab-badge.svg\" alt=\"Open In Colab\"/></a>"
      ]
    },
    {
      "cell_type": "markdown",
      "metadata": {
        "id": "wQQO1y8GYxdi"
      },
      "source": [
        "---------------------------\n",
        "**COPYRIGHT NOTICE:** This Jupyterlab Notebook is a Derivative work of [Jeff Heaton](https://github.com/jeffheaton) licensed under the Apache License, Version 2.0 (the \"License\"); You may not use this file except in compliance with the License. You may obtain a copy of the License at\n",
        "\n",
        "> [http://www.apache.org/licenses/LICENSE-2.0](http://www.apache.org/licenses/LICENSE-2.0)\n",
        "\n",
        "Unless required by applicable law or agreed to in writing, software distributed under the License is distributed on an \"AS IS\" BASIS, WITHOUT WARRANTIES OR CONDITIONS OF ANY KIND, either express or implied. See the License for the specific language governing permissions and limitations under the License.\n",
        "\n",
        "------------------------"
      ]
    },
    {
      "cell_type": "markdown",
      "metadata": {
        "id": "0ypLqmKGYxdj"
      },
      "source": [
        "# **BIO 1173: Intro Computational Biology**"
      ]
    },
    {
      "cell_type": "markdown",
      "metadata": {
        "id": "hyZy-6_MYxdj"
      },
      "source": [
        "##### **Module I: Getting Started with Python**\n",
        "\n",
        "* Instructor: [David Senseman](mailto:David.Senseman@utsa.edu), [Department of Integrative Biology](https://sciences.utsa.edu/integrative-biology/), [UTSA](https://www.utsa.edu/)\n",
        "\n",
        "\n",
        "### Module I Material\n",
        "\n",
        "* Part 1.1: Introduction to Google CoLab\n",
        "* Part 1.2: Python Basics 1 -- Strings, Variables and Indexing\n",
        "* Part 1.3: Python Basics 2 -- Numbers, Booleans, Operators and Comparisons\n",
        "* **Part 1.4: Python Basics 3 -- Lists, Dictionaries, Sets and JSON**\n",
        "* Part 1.5: Python Basics 4 -- Conditionals and Loops\n",
        "* Part 1.6: Python Basics 5 -- Packages, NumPy arrays and Matplotlib\n",
        "* Part 1.7: Python Basics 6 -- Pandas and File Handling"
      ]
    },
    {
      "cell_type": "markdown",
      "metadata": {
        "id": "yKQylnEiLDUM"
      },
      "source": [
        "### Google CoLab Instructions\n",
        "\n",
        "The following code ensures that Google CoLab is running the correct version of TensorFlow.\n",
        "  Running the following code will map your GDrive to ```/content/drive```."
      ]
    },
    {
      "cell_type": "code",
      "execution_count": 1,
      "metadata": {
        "id": "seXFCYH4LDUM",
        "colab": {
          "base_uri": "https://localhost:8080/"
        },
        "outputId": "9f15402e-8432-4ff5-b07f-2194f38ceef7"
      },
      "outputs": [
        {
          "output_type": "stream",
          "name": "stdout",
          "text": [
            "Mounted at /content/drive\n",
            "Note: not using Google CoLab\n"
          ]
        }
      ],
      "source": [
        "# YOU MUST RUN THIS CELL FIRST\n",
        "\n",
        "try:\n",
        "    from google.colab import drive\n",
        "    drive.mount('/content/drive', force_remount=True)\n",
        "    from google.colab import auth\n",
        "    auth.authenticate_user()\n",
        "    COLAB = True\n",
        "    print(\"Note: using Google CoLab\")\n",
        "    %tensorflow_version 2.x\n",
        "    import requests\n",
        "    gcloud_token = !gcloud auth print-access-token\n",
        "    gcloud_tokeninfo = requests.get('https://www.googleapis.com/oauth2/v3/tokeninfo?access_token=' + gcloud_token[0]).json()\n",
        "    print(gcloud_tokeninfo['email'])\n",
        "except:\n",
        "    print(\"Note: not using Google CoLab\")\n",
        "    COLAB = False"
      ]
    },
    {
      "cell_type": "markdown",
      "metadata": {
        "id": "NBvx1ucSYxdk"
      },
      "source": [
        "# Part 1.4: Python Basics\n",
        "\n",
        "Python includes Lists, Sets, Dictionaries, and other data structures as built-in types. The syntax appearance of both of these is similar to JSON which is discussed later in this module.\n",
        "\n",
        "This course will focus primarily on Lists, Sets, and Dictionaries. It is important to understand the differences between these three fundamental collection types.\n",
        "\n",
        "* **List -** A list is a mutable ordered collection that allows duplicate elements.\n",
        "* **Tuple -** A tuple is an immutable ordered collection that allows duplicate elements.\n",
        "* **Dictionary -** A dictionary is a mutable unordered collection that Python indexes with name and value pairs.\n",
        "* **Set -** A set is a mutable unordered collection with no duplicate elements.\n",
        "\n",
        "Most Python collections are _mutable_, meaning the program can add and remove elements after definition. One notable exception is a Python **tuple** which is an _immutable_ collection which means that items cannot be added or removed after its definition.\n",
        "\n",
        "It is also essential to understand that an ordered collection means that items maintain their order as the program adds them to a collection. This order might not be any specific ordering, such as alphabetic or numeric.\n",
        "\n",
        "Lists and tuples are very similar in Python and are often confused. The significant difference is that a list is mutable, but a tuple isn’t. So, we include a list when we want to contain similar items and a tuple when we know what information goes into it ahead of time."
      ]
    },
    {
      "cell_type": "markdown",
      "metadata": {
        "id": "sHyXOXnhYxdk"
      },
      "source": [
        "## Lists and Tuples\n",
        "\n",
        "For a Python programmer, lists and tuples look very similar. Both lists and tuples hold an ordered collection of items. It is possible to get by as a programmer using only lists and ignoring tuples.\n",
        "\n",
        "The primary difference is that a list is enclosed by square braces [], while a tuple is enclosed by parenthesis (). The following code defines both list and tuple."
      ]
    },
    {
      "cell_type": "markdown",
      "metadata": {
        "id": "dAky1WgzYxdk"
      },
      "source": [
        "### Example 1: Create a list called `myList`\n",
        "\n",
        "The code in the cell below uses square brackets `[ ]` to create a list called `myList`. (Note: `list` is a Python **reserved word** so don't use it a variable name without adding something to it)."
      ]
    },
    {
      "cell_type": "code",
      "execution_count": 2,
      "metadata": {
        "id": "w9tr97soYxdk",
        "colab": {
          "base_uri": "https://localhost:8080/"
        },
        "outputId": "ff975442-4c20-4d72-d9f2-b5a0686cd304"
      },
      "outputs": [
        {
          "output_type": "stream",
          "name": "stdout",
          "text": [
            "['a', 'b', 'c', 'd']\n"
          ]
        }
      ],
      "source": [
        "# Example 1: Create a list\n",
        "\n",
        "# Use square brackets to create a list\n",
        "myList = ['a', 'b', 'c', 'd']\n",
        "\n",
        "# Print output\n",
        "print(myList)"
      ]
    },
    {
      "cell_type": "markdown",
      "metadata": {
        "id": "zGJnZHIIYxdk"
      },
      "source": [
        "The output is\n",
        "~~~text\n",
        "['a', 'b', 'c', 'd']\n",
        "~~~"
      ]
    },
    {
      "cell_type": "markdown",
      "metadata": {
        "id": "QMyhkcHFYxdk"
      },
      "source": [
        "### **Exercise 1: Create a tuple called `myTuple`**\n",
        "\n",
        "In the cell below use parentheses `( )` to create a tuple called `myTuple`. (Note: `tuple` is a Python **reserved word** so don't use it a variable name without adding something to it)."
      ]
    },
    {
      "cell_type": "markdown",
      "metadata": {
        "id": "y7Qa1Z_HYxdl"
      },
      "source": [
        "If the code is correct you should see the following output.\n",
        "~~~text\n",
        "('a', 'b', 'c', 'd')\n",
        "~~~"
      ]
    },
    {
      "cell_type": "code",
      "execution_count": 3,
      "metadata": {
        "id": "jgOPqqn1Yxdk"
      },
      "outputs": [],
      "source": [
        "# Insert your code for Exercise 1 here\n",
        "\n"
      ]
    },
    {
      "cell_type": "markdown",
      "metadata": {
        "id": "E1KOQbTkYxdl"
      },
      "source": [
        "### Example 2: Change the contents of myList\n",
        "\n",
        "As mentioned above, a list is _mutable_, which means its contents can be changed after it has been created.\n",
        "\n",
        "The code in the cell below demonstrates that the program can change a list. This example uses square bracket `[ ]` indexing to change the _second_ element in `myList`. (Remember: Python starts counting sequences at `0`.)  "
      ]
    },
    {
      "cell_type": "markdown",
      "metadata": {
        "id": "aI_jgcEeYxdl"
      },
      "source": [
        "If the code is correct, you should see the following output:\n",
        "~~~text\n",
        "['a', 'Z', 'c', 'd']\n",
        "~~~\n",
        "which shows that the contents of a list can be changed."
      ]
    },
    {
      "cell_type": "code",
      "execution_count": 4,
      "metadata": {
        "id": "2M7UZpX1Yxdl",
        "colab": {
          "base_uri": "https://localhost:8080/"
        },
        "outputId": "4ab61d26-ecb5-49d5-95f1-e156dde51339"
      },
      "outputs": [
        {
          "output_type": "stream",
          "name": "stdout",
          "text": [
            "['a', 'Z', 'c', 'd']\n"
          ]
        }
      ],
      "source": [
        "# Example 2: Change contents of myList\n",
        "\n",
        "# Second the second element\n",
        "myList[1] = 'Z'\n",
        "\n",
        "# Print output\n",
        "print(myList)"
      ]
    },
    {
      "cell_type": "markdown",
      "metadata": {
        "id": "dHgQAR4UYxdl"
      },
      "source": [
        "### **Exercise 2: Change the contents of myTuple**\n",
        "\n",
        "As mentioned above, a tuple is _immutable_, which means its contents can **not** be changed after it has been created.\n",
        "\n",
        "Using **Example 2** as a template. write the code in the cell below to change the _second_ element in `myTuple` to letter `Z`."
      ]
    },
    {
      "cell_type": "code",
      "execution_count": 5,
      "metadata": {
        "id": "hG5MVfjzYxdl"
      },
      "outputs": [],
      "source": [
        "# Insert your code for Exercise 2 here\n",
        "\n"
      ]
    },
    {
      "cell_type": "markdown",
      "metadata": {
        "id": "t-Nd7PyKYxdl"
      },
      "source": [
        "If your code is correct you should have triggered the following error message:\n",
        "\n",
        "![_](https://biologicslab.co/BIO1173/images/class_01/class_1_6_error.png)\n",
        "\n",
        "Tuples are immutable. Once they are created their contents can not be changed."
      ]
    },
    {
      "cell_type": "markdown",
      "metadata": {
        "id": "yRO7lbdJYxdl"
      },
      "source": [
        "### Difference Between List and Tuple\n",
        "\n",
        "For a Python program, lists and tuples are very similar. Both lists and tuples hold an ordered collection of items. It is possible to get by as a programmer using only lists and ignoring tuples.\n",
        "\n",
        "The primary difference that you will see syntactically is that a list is enclosed by square braces [], and a tuple is enclosed by parenthesis (). The following code defines both list and tuple.\n"
      ]
    },
    {
      "cell_type": "markdown",
      "metadata": {
        "id": "nquo1ddxYxdm"
      },
      "source": [
        "If the code is correct you should see the following out:\n",
        "~~~text\n",
        "['a', 'b', 'c', 'd']\n",
        "('a', 'b', 'c', 'd')\n",
        "~~~\n",
        "The primary difference you will see programmatically is that a list is mutable, which means the program can change it. A tuple is immutable, which means the program cannot change it. The following code demonstrates that the program can change a list. This code also illustrates that Python indexes lists starting at element 0. Accessing element one modifies the second element in the collection. One advantage of tuples over lists is that tuples are generally slightly faster to iterate over than lists."
      ]
    },
    {
      "cell_type": "code",
      "execution_count": 6,
      "metadata": {
        "id": "W1CJ1qBpYxdl",
        "colab": {
          "base_uri": "https://localhost:8080/"
        },
        "outputId": "01029f1d-ec59-4658-b034-65249bc15e9c"
      },
      "outputs": [
        {
          "output_type": "stream",
          "name": "stdout",
          "text": [
            "['a', 'b', 'c', 'd']\n",
            "('a', 'b', 'c', 'd')\n"
          ]
        }
      ],
      "source": [
        "# Run this example\n",
        "\n",
        "myList = ['a', 'b', 'c', 'd']\n",
        "myTuple = ('a', 'b', 'c', 'd')\n",
        "\n",
        "print(myList)\n",
        "print(myTuple)"
      ]
    },
    {
      "cell_type": "markdown",
      "metadata": {
        "tags": [],
        "id": "QogGAZKRYxdm"
      },
      "source": [
        "##  Python Dictionaries\n",
        "\n",
        "A Python _dictionary_ or `dict` is a _mutable unordered_ collection of _key/value pairs_. A mutable data type in Python is a type of object whose value can be changed after it is created. It means that you can modify, add, or remove elements within the object without creating a new instance of it.\n",
        "\n",
        "For example, lists (list) and dictionaries (dict) in Python are mutable data types. You can change the elements of a list or update the key-value pairs of a dictionary without creating a new list or dictionary. An important aspect of mutability is that if you have multiple references to the same mutable object, any modifications made to the object will be reflected in all the references.\n",
        "\n",
        "In contrast, immutable data types like strings (str), tuples (tuple), and numbers (int, float) cannot be changed after they are created. If you want to modify these types, you need to create a new instance with the desired changes.\n",
        "\n",
        "Like other collection types, `dict` can be called with a collection argument to create a dictionary with the elements of the argument. However, those elements must be `tuples` or `lists` of two elements — a key and a value. Dictionaries are enclosed within curly braces {}, and each item is separated by a comma. The key-value pairs in a dictionary are separated by a colon :."
      ]
    },
    {
      "cell_type": "markdown",
      "metadata": {
        "id": "v4si5R92Yxdm"
      },
      "source": [
        "### Example 3: Create a `dict` called `DNABaseDict`\n",
        "\n",
        "The code in the cell below uses Python's `dict()` function to create a dictionary called `DNABaseDict`.\n",
        "\n",
        "The dictionary's `keys` are the single-letter abbreviation of the four bases in DNA. Each `key` has an associated `value` which is the name of the base. The `key/value` pairs in this example are contained in a `list` since they are defined using square brackets `[ ]`.   "
      ]
    },
    {
      "cell_type": "code",
      "execution_count": 7,
      "metadata": {
        "metadata": {
          "deletable": false,
          "editable": false,
          "trusted": true
        },
        "tags": [],
        "id": "qqLutwqPYxdm",
        "colab": {
          "base_uri": "https://localhost:8080/"
        },
        "outputId": "cbac1ed3-8bcd-4054-f41e-9e86eee4bf8c"
      },
      "outputs": [
        {
          "output_type": "execute_result",
          "data": {
            "text/plain": [
              "{'A': 'adenine', 'C': 'cytosine', 'G': 'guanine', 'T': 'thymine'}"
            ]
          },
          "metadata": {},
          "execution_count": 7
        }
      ],
      "source": [
        "# Example 3\n",
        "\n",
        "# create dict using dict() function\n",
        "DNABaseDict = dict((['A', 'adenine'],\n",
        "                    ['C', 'cytosine'],\n",
        "                    ['G', 'guanine'],\n",
        "                    ['T', 'thymine']\n",
        "                   ))\n",
        "\n",
        "# Print out the dictionary\n",
        "DNABaseDict"
      ]
    },
    {
      "cell_type": "markdown",
      "metadata": {
        "id": "awrqWsz3Yxdm"
      },
      "source": [
        "The output is\n",
        "~~~text\n",
        "{'A': 'adenine', 'C': 'cytosine', 'G': 'guanine', 'T': 'thymine'}\n",
        "~~~\n",
        "Python uses curly braces `{ }` to denote the output is a `list`."
      ]
    },
    {
      "cell_type": "markdown",
      "metadata": {
        "id": "rnmUEIkWYxdm"
      },
      "source": [
        "### **Exercise 3: Create a `dict` called `RNABaseDict`**\n",
        "\n",
        "In the cell below use Python's `dict()` function to create a dictionary called `RNABaseDict`. The dictionary's `keys` should be the single-letter abbreviations of the four bases in RNA with the `value` being the name of the base. Print out the `RNABaseDict`. You should already know the four nitrogenous bases in RNA. If you don't, you can \"Google\" it.   "
      ]
    },
    {
      "cell_type": "code",
      "execution_count": 8,
      "metadata": {
        "id": "5X7mMXTHYxdm"
      },
      "outputs": [],
      "source": [
        "# Insert your code for Exericse 3 here\n",
        "\n"
      ]
    },
    {
      "cell_type": "markdown",
      "metadata": {
        "id": "MO9UYxQyYxdm"
      },
      "source": [
        "If your code for Exercise 3 is correct you should see\n",
        "~~~text\n",
        "{'A': 'adenine', 'C': 'cytosine', 'G': 'guanine', 'U': 'uracil'}\n",
        "~~~"
      ]
    },
    {
      "cell_type": "markdown",
      "metadata": {
        "id": "mfrIeXJGYxdm"
      },
      "source": [
        "-----------------------\n",
        "\n",
        "### **Why the curly braces `{}` ?**\n",
        "\n",
        "Even though parentheses `()` were used to define the `DNABaseDict` dictionary in Example 3, Python printed out this dictionary using curly braces `{}`.\n",
        "\n",
        ">So why the curly braces?\n",
        "\n",
        "Because they are so frequently used, Python provides a notation for dictionaries that is similar to `sets`: a comma-separated `list` of key/value pairs enclosed in curly braces `{}`. Within the braces, a colon `:` is used to separate each key/value pair. When Python prints out a dictionary, it uses the curly brace format.  \n",
        "\n",
        "-----------------------"
      ]
    },
    {
      "cell_type": "markdown",
      "metadata": {
        "tags": [],
        "id": "mKUsSGjRYxdm"
      },
      "source": [
        "### Example 4: Create `dnaBaseDict` using curly braces `{}`\n",
        "\n",
        "As explained above, you can also create a Python dictionary using curly braces `{}`. The cell below shows how to create a dictionary called `dnaBaseDict` using curly braces. This dictionary is similar to `DNABaseDict` created in Example 1 except that lower case letters are used for the `keys`."
      ]
    },
    {
      "cell_type": "markdown",
      "metadata": {
        "id": "Aonl0OyTYxdm"
      },
      "source": [
        "If the code is correct you should see the following output:\n",
        "~~~text\n",
        "{'a': 'adenine', 't': 'thymine', 'g': 'guanine', 'c': 'cytosine'}\n",
        "~~~"
      ]
    },
    {
      "cell_type": "code",
      "execution_count": 9,
      "metadata": {
        "id": "EiqicYX7Yxdm",
        "colab": {
          "base_uri": "https://localhost:8080/"
        },
        "outputId": "ba5bec67-3485-428d-a3c1-c183be2f3199"
      },
      "outputs": [
        {
          "output_type": "execute_result",
          "data": {
            "text/plain": [
              "{'a': 'adenine', 't': 'thymine', 'g': 'guanine', 'c': 'cytosine'}"
            ]
          },
          "metadata": {},
          "execution_count": 9
        }
      ],
      "source": [
        "# Example 4: Create dictionary using {}\n",
        "\n",
        "# Create dictionary using curly braces\n",
        "dnaBaseDict = {'a': 'adenine', 't': 'thymine', 'g': 'guanine',  'c': 'cytosine'}\n",
        "\n",
        "# Print out the dictionary\n",
        "dnaBaseDict\n"
      ]
    },
    {
      "cell_type": "markdown",
      "metadata": {
        "id": "En-rkynHYxdm"
      },
      "source": [
        "### **Exercise 4: Create `rnaBaseDict` using curly braces `{}`**\n",
        "\n",
        "In the cell below create a dictionary called `rnaBaseDict` using curly braces. Use lower case letters for the `keys`."
      ]
    },
    {
      "cell_type": "code",
      "execution_count": 10,
      "metadata": {
        "id": "rxptLYeVYxdm"
      },
      "outputs": [],
      "source": [
        "# Insert your code for Exercise 4 here\n",
        "\n",
        "\n"
      ]
    },
    {
      "cell_type": "markdown",
      "metadata": {
        "id": "WuSn01yEYxdn"
      },
      "source": [
        "If your code for Exercise 4 is correct you should see\n",
        "~~~text\n",
        "{'a': 'adenine', 'u': 'uracil', 'g': 'guanine', 'c': 'cytosine'}\n",
        "~~~"
      ]
    },
    {
      "cell_type": "markdown",
      "metadata": {
        "tags": [],
        "id": "G8QoUTOYYxdn"
      },
      "source": [
        "---------------------------------------------------------------\n",
        "## Unique Keys\n",
        "\n",
        "The keys of a mapping must be **_unique_** within the collection, because the dictionary has no way to distinguish different values indexed by the same key.\n",
        "\n",
        "----------------------------------------------------------------"
      ]
    },
    {
      "cell_type": "markdown",
      "metadata": {
        "id": "DMgHmVpQYxdn"
      },
      "source": [
        "### Bioinformatics Example of a Dictionary\n",
        "\n",
        "Dictionaries are the natural Python representation for tabular data. For example, they can be used to hold rows obtained from a database table: the table’s primary key is the dictionary’s key, and the value can be a tuple, with each element of the tuple representing one column of the table. There is nothing strange about a dictionary key being part of the value associated with it — in fact, this is quite common.\n",
        "\n",
        "The code in the cell below shows how to create the RNA codon translation table using Python dictionary.  "
      ]
    },
    {
      "cell_type": "code",
      "execution_count": 11,
      "metadata": {
        "id": "e_nJ-Hj4Yxdp"
      },
      "outputs": [],
      "source": [
        "# Bioinformatics Example\n",
        "\n",
        "RNA_codon_table = {\n",
        "#                        Second Base\n",
        "#        U             C             A             G\n",
        "# U\n",
        "    'UUU': 'Phe', 'UCU': 'Ser', 'UAU': 'Tyr', 'UGU': 'Cys',     # UxU\n",
        "    'UUC': 'Phe', 'UCC': 'Ser', 'UAC': 'Tyr', 'UGC': 'Cys',     # UxC\n",
        "    'UUA': 'Leu', 'UCA': 'Ser', 'UAA': '---', 'UGA': '---',     # UxA\n",
        "    'UUG': 'Leu', 'UCG': 'Ser', 'UAG': '---', 'UGG': 'Urp',     # UxG\n",
        "# C\n",
        "    'CUU': 'Leu', 'CCU': 'Pro', 'CAU': 'His', 'CGU': 'Arg',     # CxU\n",
        "    'CUC': 'Leu', 'CCC': 'Pro', 'CAC': 'His', 'CGC': 'Arg',     # CxC\n",
        "    'CUA': 'Leu', 'CCA': 'Pro', 'CAA': 'Gln', 'CGA': 'Arg',     # CxA\n",
        "    'CUG': 'Leu', 'CCG': 'Pro', 'CAG': 'Gln', 'CGG': 'Arg',     # CxG\n",
        "# A\n",
        "    'AUU': 'Ile', 'ACU': 'Thr', 'AAU': 'Asn', 'AGU': 'Ser',     # AxU\n",
        "    'AUC': 'Ile', 'ACC': 'Thr', 'AAC': 'Asn', 'AGC': 'Ser',     # AxC\n",
        "    'AUA': 'Ile', 'ACA': 'Thr', 'AAA': 'Lys', 'AGA': 'Arg',     # AxA\n",
        "    'AUG': 'Met', 'ACG': 'Thr', 'AAG': 'Lys', 'AGG': 'Arg',     # AxG\n",
        "# G\n",
        "    'GUU': 'Val', 'GCU': 'Ala', 'GAU': 'Asp', 'GGU': 'Gly',     # GxU\n",
        "    'GUC': 'Val', 'GCC': 'Ala', 'GAC': 'Asp', 'GGC': 'Gly',     # GxC\n",
        "    'GUA': 'Val', 'GCA': 'Ala', 'GAA': 'Glu', 'GGA': 'Gly',     # GxA\n",
        "    'GUG': 'Val', 'GCG': 'Ala', 'GAG': 'Glu', 'GGG': 'Gly'      # GxG\n",
        "}\n"
      ]
    },
    {
      "cell_type": "markdown",
      "metadata": {
        "id": "-Ob7NbHOYxdq"
      },
      "source": [
        "-------------------\n",
        "\n",
        "### Why not just use a Python `list` instead of a `dict`?\n",
        "\n",
        "You might be asking yourself whether you could create the RNA codon table using a Python `list` instead of a `dict`? After all, a `list` can do everything, and more, that a `dict` can do.\n",
        "\n",
        "The answer is that while you could use a `list` to make an RNA codon table, it would be much harder to use. If our codon table was a `list`, we would have to write a lot of code in order to search through it to find the translation we want.\n",
        "\n",
        "As you will see below, using a dictionary for our codon table makes looking up the amino acid for a particular codon a trivial task.\n",
        "\n",
        "-------------------"
      ]
    },
    {
      "cell_type": "markdown",
      "metadata": {
        "tags": [],
        "id": "auIIGnFtYxdq"
      },
      "source": [
        "### Simple function to look-up an amino acid from the RNA codon table\n",
        "\n",
        "In order to use our `RNA_codon_table` we first need to create the simple function shown in the cell below. The process of writing Python functions will be covered in a later lesson."
      ]
    },
    {
      "cell_type": "code",
      "execution_count": 12,
      "metadata": {
        "id": "taGxQZcMYxdq"
      },
      "outputs": [],
      "source": [
        "# Create translation function\n",
        "\n",
        "def translate_RNA_codon(codon):\n",
        "    return RNA_codon_table[codon]"
      ]
    },
    {
      "cell_type": "markdown",
      "metadata": {
        "id": "dne4lVj1Yxdq"
      },
      "source": [
        "### Example 5: Find the amino acid coded by 'UUU'\n",
        "\n",
        "The **_genetic code_** was first 'broken' in 1961 by Mashall Nirenberg and Heinrich Matthaei working at the National Institutes of Health (NIH). (In the picture below, Nirenberg can be seen sitting in his lab with Matthaei standing at the left).\n",
        "\n",
        "![](https://biologicslab.co/BIO1173/images/class_01/Nierenberg_matthaei.png)\n",
        "\n",
        "To break the genetic code, Nirenberg and Matthaei synthesized an artifical strand of mRNA containing only one nucleotide, uracil ('U'). This special RNA is called **_poly(U)_**.\n",
        "\n",
        "When they placed their _poly(U)_ into a test tube containing ribosomes, a protein with repeating copies of the amino acid _phenylalanine_ (phe) was produced. From this they concluded that the codon \"UUU\" coded for the amino acid **phenlyalanine**.\n",
        "\n",
        "The Python code in the cell below shows how to use the `translate_RNA_codon()` function to look-up the amino acid coded by 'UUU'."
      ]
    },
    {
      "cell_type": "code",
      "execution_count": 13,
      "metadata": {
        "id": "EqS5TtA5Yxdq",
        "colab": {
          "base_uri": "https://localhost:8080/",
          "height": 35
        },
        "outputId": "de08d476-dc28-4134-816a-70acc2660935"
      },
      "outputs": [
        {
          "output_type": "execute_result",
          "data": {
            "text/plain": [
              "'Phe'"
            ],
            "application/vnd.google.colaboratory.intrinsic+json": {
              "type": "string"
            }
          },
          "metadata": {},
          "execution_count": 13
        }
      ],
      "source": [
        "# Example 5: Use codon dictionary\n",
        "\n",
        "# Look-up codon UUU\n",
        "translate_RNA_codon('UUU')"
      ]
    },
    {
      "cell_type": "markdown",
      "metadata": {
        "id": "Dlmx3y5nYxdq"
      },
      "source": [
        "If the code is correct you should see the following output:\n",
        "~~~text\n",
        "'Phe'\n",
        "~~~\n",
        "Just as Nirenberg and Matthaei found in there pioneering experiment, the codon `UUU` codes for the amino acid `Phe` or phenylanine."
      ]
    },
    {
      "cell_type": "markdown",
      "metadata": {
        "tags": [],
        "id": "5htXp4szYxdq"
      },
      "source": [
        "### **Exercise 5: Find the amino acid coded by 'AAA'**\n",
        "\n",
        "Within a few years, Nirenberg and Matthaei repeated their experiment using mRNA strands containing only adenine (A) and cytocine (C). (For technical reasons, they weren't able to synthesis mRNA containing only guanine (G)).\n",
        "\n",
        "In the cell below, write the Python code needed to find the amino acid coded by 'AAA'."
      ]
    },
    {
      "cell_type": "code",
      "execution_count": 14,
      "metadata": {
        "id": "BbZNGXUDYxdq"
      },
      "outputs": [],
      "source": [
        "# Insert you code for Exercise 5 here\n",
        "\n"
      ]
    },
    {
      "cell_type": "markdown",
      "metadata": {
        "id": "7s0uv58iYxdq"
      },
      "source": [
        "If your code is correct you should see the following output:\n",
        "~~~text\n",
        "'Lys'\n",
        "~~~\n",
        "'Lys', the 3-letter abbreviation for the amino acid **lysine**. Nirenberg and Matthaei found that their synthetic _poly(A)_ created a polypeptide that only contained the amino acid lysine."
      ]
    },
    {
      "cell_type": "markdown",
      "metadata": {
        "id": "PjSpZ_oWYxdq"
      },
      "source": [
        "## Python Sets\n",
        "\n",
        "A Python **set** is an _unordered_ collection of items that contains _**no** duplicates_. As we will see, if you try to add an item that is already in a set, nothing happens.\n",
        "\n",
        "Since strings behave as collections, a string can be used as the argument for a call to set. The resulting set will contain a **single-character string** for each unique character that appears in the argument. The order in which the elements of a set are printed will not necessarily bear any relation to the order in which they were added as shown in Example 1."
      ]
    },
    {
      "cell_type": "markdown",
      "metadata": {
        "id": "pfJADvVqYxdq"
      },
      "source": [
        "### Example 6: Create a Set called `DNABases_set`\n",
        "\n",
        "The code below shows how to create a set of single-character strings called `DNABase_set` using curly braces `{}`."
      ]
    },
    {
      "cell_type": "code",
      "execution_count": 15,
      "metadata": {
        "tags": [],
        "id": "q9rQHyJXYxdq",
        "colab": {
          "base_uri": "https://localhost:8080/"
        },
        "outputId": "c11d405c-4d4e-4f72-bd87-e46aeb3046ce"
      },
      "outputs": [
        {
          "output_type": "stream",
          "name": "stdout",
          "text": [
            "{'T', 'C', 'A', 'G'}\n"
          ]
        }
      ],
      "source": [
        "# Example 6\n",
        "\n",
        "# Create a set called DNABases_set\n",
        "DNABases_set = {'T', 'C', 'A', 'G'}\n",
        "\n",
        "# Print DNABases_set\n",
        "print(DNABases_set)"
      ]
    },
    {
      "cell_type": "markdown",
      "metadata": {
        "id": "lXmB_xOjYxdq"
      },
      "source": [
        "If the code is correct you should see something _similiar_ to the following output:\n",
        "~~~text\n",
        "{'C', 'A', 'G', 'T'}\n",
        "~~~\n",
        "You should notice two things. First our set is **not** the string \"TCAG', but a collection of 4 single-character strings (\"letters\"), A, C, G and T.\n",
        "\n",
        "Second, the order in the \"letters\" when we created the set (TCAG) may not preserved. When we printed out the `DNABases_set`, the \"letters\" were printed out _alphabetically_.\n",
        "\n",
        "Also, a set is an _unordered_ collection. If you tried to use square brackets `[]` to index an item in a set, you would get the error message: `set object is not subscriptable`."
      ]
    },
    {
      "cell_type": "markdown",
      "metadata": {
        "id": "RXE5cLabYxdq"
      },
      "source": [
        "### **Exercise 6: Create a Set called `RNABases_set`**\n",
        "\n",
        "In the cell below, create a new set called `RNABases_set` and print it out. Remember that in RNA the base _uracil_ substitutes for the base _thymine_."
      ]
    },
    {
      "cell_type": "code",
      "execution_count": 16,
      "metadata": {
        "id": "EWF7gd8IYxdq"
      },
      "outputs": [],
      "source": [
        "# Insert your code for Exercise 6 here\n",
        "\n"
      ]
    },
    {
      "cell_type": "markdown",
      "metadata": {
        "id": "yjJad8AaYxdq"
      },
      "source": [
        "If your code is correct you should see something _similiar_ to the following output:\n",
        "~~~text\n",
        "{'U', 'A', 'G', 'C'}`\n",
        "~~~\n",
        "The order of the \"letters\" might be different."
      ]
    },
    {
      "cell_type": "markdown",
      "metadata": {
        "id": "PJM7lUM8Yxdq"
      },
      "source": [
        "### Example 7: Algebraic set operations - Union\n",
        "\n",
        "In Python there are a number of operations and functions that work on different _collection_ types such as _sets_. In this example, we show one example of an operation called _union_.\n",
        "\n",
        "The \"adding\" of one set with another is called the _union_ of the two sets. In Python, you can use the `|` operator to create a **union** of two sets as shown in the next cell."
      ]
    },
    {
      "cell_type": "code",
      "execution_count": null,
      "metadata": {
        "id": "moZdWfPEYxdq",
        "collapsed": true
      },
      "outputs": [],
      "source": [
        "# Example 7: Union of 2 sets\n",
        "\n",
        "# Create a new set called AddBases_set\n",
        "AddBases_set =  {'X', 'Y', 'Z', 'U', 'U', 'A','A'}\n",
        "\n",
        "# Use | to create union\n",
        "RNABases_set_union = RNABases_set | AddBases_set\n",
        "\n",
        "# Print the new set\n",
        "print(RNABases_set_union)"
      ]
    },
    {
      "cell_type": "markdown",
      "metadata": {
        "id": "7YJSY06XYxdq"
      },
      "source": [
        "If the code is correct you should see something _similiar_ to the following output:\n",
        "~~~text\n",
        "{'A', 'U', 'C', 'Y', 'Z', 'G', 'X'}\n",
        "~~~\n",
        "Notice that when we add the two sets together, only the letters `XYZ` were added to `RNABases_set`, not the additional `U`s and `A`s.\n",
        "\n",
        ">Why?\n",
        "\n",
        "Because every element in a set must be **unique**. Since our original `RNABases_set` already contained the letters U and A, they were not added, only the new letters, X, Y and Z. In other words, a set can only contain one example of each element.\n",
        "\n",
        "NOTE: In order for this example to run correctly, you must have successfully completed **Exercise 6** above."
      ]
    },
    {
      "cell_type": "markdown",
      "metadata": {
        "id": "_j7hMGt-Yxdq"
      },
      "source": [
        "### **Exercise 7: Try to create a set with duplicated items**\n",
        "\n",
        "Because each element in a set must be _unique_, when you try to create a set with duplicated items, you don't get an error, but only one item will be added to the set.\n",
        "\n",
        "In the cell below, create a set called `RNABases_set2` with `{'U', 'A', 'A', 'G', 'U', 'C', 'C'}` and then print out the set."
      ]
    },
    {
      "cell_type": "code",
      "execution_count": null,
      "metadata": {
        "id": "rtqBKtt_Yxdr"
      },
      "outputs": [],
      "source": [
        "# Insert your code for Exercise 7 here\n",
        "\n"
      ]
    },
    {
      "cell_type": "markdown",
      "metadata": {
        "id": "yr_cHHIFYxdr"
      },
      "source": [
        "If your code is correct, you should see:\n",
        "~~~text\n",
        "{'A', 'C', 'G', 'U'}\n",
        "~~~~\n",
        "The new `RNABases_set2` only contains one example of each item."
      ]
    },
    {
      "cell_type": "markdown",
      "metadata": {
        "id": "PfpSMbHWYxdr"
      },
      "source": [
        "### Example 8: Algebraic set operations - Intersection\n",
        "\n",
        "Another algebraic set operation is **intersection**.\n",
        "\n",
        "The cell below uses the `&` operator to find the intersection of two sets."
      ]
    },
    {
      "cell_type": "code",
      "execution_count": null,
      "metadata": {
        "id": "UO95gNz3Yxdr"
      },
      "outputs": [],
      "source": [
        "# Example 8: Set intersection using & operator\n",
        "\n",
        "# Create 2 sets using curly braces\n",
        "let1_set = {'a','b','c','d','e'}\n",
        "let2_set = {'c','d','e','f','g'}\n",
        "\n",
        "# Use `&` to find their intersection\n",
        "let_set_intersection = let1_set & let2_set\n",
        "\n",
        "# Print out the intersection\n",
        "print(let_set_intersection)"
      ]
    },
    {
      "cell_type": "markdown",
      "metadata": {
        "id": "3h70DOimYxdr"
      },
      "source": [
        "The output from the algebraic set operation, intersection, is:\n",
        "~~~text\n",
        "{'c', 'd', 'e'}\n",
        "~~~\n",
        "Set intersection is the set of elements that _both_ sets have in common. In this example, only the letters `c`, `d` and `e` were contained in both sets."
      ]
    },
    {
      "cell_type": "markdown",
      "metadata": {
        "id": "VXAanjjYYxdr"
      },
      "source": [
        "### **Exercise 8: Algebraic set operations - Intersection**\n",
        "\n",
        "In Example 8, set intersection was found using the `&` operator. Python also offers the `intersection()` method for accomplishing the same thing.  \n",
        "\n",
        "The cell below use the  `intersection()` method to find the intersection between the same two sets, `let1_set` and `let2_set` used in Example 8.\n",
        "\n",
        "(**HINT:** The use of Python _methods_ was covered in Class_01_04. Methods are called using _dot notation_. In this case, the `intersection()` method is attached (by the dot) to the first set and its argument is the second set.)"
      ]
    },
    {
      "cell_type": "code",
      "execution_count": null,
      "metadata": {
        "id": "BrxWgCGOYxdr"
      },
      "outputs": [],
      "source": [
        "# Insert your code for Exercise 8 here\n",
        "\n"
      ]
    },
    {
      "cell_type": "markdown",
      "metadata": {
        "id": "zs9uDtvnYxdr"
      },
      "source": [
        "If your code is correct you should see the following output:\n",
        "~~~text\n",
        "{'c', 'd', 'e'}\n",
        "~~~"
      ]
    },
    {
      "cell_type": "markdown",
      "metadata": {
        "id": "toHh35WLYxdr"
      },
      "source": [
        "### Example 9: Use `add()` method with sets\n",
        "\n",
        "A list is always enclosed in square braces `[ ]`, a tuple in parenthesis `( )`, and similarly a set is enclosed in curly braces `{ }`.\n",
        "Programs can add items to a set as they run. Programs can dynamically add items to a set with the add function. It is important to note that the **_append function_** adds items to lists, whereas the **_add function_** adds items to a set."
      ]
    },
    {
      "cell_type": "code",
      "execution_count": null,
      "metadata": {
        "id": "ZQZFQ11eYxdr"
      },
      "outputs": [],
      "source": [
        "# Example 9: Use add() method\n",
        "\n",
        "# Manually add items, sets do not allow duplicates\n",
        "mySet = set()\n",
        "mySet.add('a')\n",
        "mySet.add('b')\n",
        "mySet.add('c')\n",
        "mySet.add('c')\n",
        "print(mySet)"
      ]
    },
    {
      "cell_type": "markdown",
      "metadata": {
        "id": "VbshGPmpYxdr"
      },
      "source": [
        "The output is the set\n",
        "~~~text\n",
        "{'a', 'b', 'c'}\n",
        "~~~\n",
        "Sets can only contain _unique_ items so there is only one `c` in the final set."
      ]
    },
    {
      "cell_type": "markdown",
      "metadata": {
        "id": "qRNLZFlAYxdr"
      },
      "source": [
        "### **Exercise 9: Use `append()` method with lists**\n",
        "\n",
        "While programs can dynamically add items to a set with the `add()` method you must use the `append()` method to add items to a list.\n",
        "\n",
        "In the cell below use the `append()` method function to adds item to a list called `myList` using **Example 9** as a template."
      ]
    },
    {
      "cell_type": "code",
      "execution_count": null,
      "metadata": {
        "id": "EH6V5pyJYxdr"
      },
      "outputs": [],
      "source": [
        "# Insert your code for Exercise 9 here\n",
        "\n"
      ]
    },
    {
      "cell_type": "markdown",
      "metadata": {
        "id": "T7yQyczyYxdr"
      },
      "source": [
        "If your code is correct you should see the following list:  \n",
        "~~~text\n",
        "['a', 'b', 'c', 'c']\n",
        "~~~\n",
        "Lists (but _not_ sets) can contain _duplicate_ items so the letter `c` appears twice in this list."
      ]
    },
    {
      "cell_type": "markdown",
      "metadata": {
        "id": "dyyrVJ7EYxdr"
      },
      "source": [
        "## JSON (JavaScript Object Notation)\n",
        "\n",
        "Data stored in a comma separated variable (CSV) file must be _flat_. In a flat file, all the data must fit neatly into rows and columns.\n",
        "\n",
        "Here is an example of data stored in a flat, CSV file:\n",
        "\n",
        "![__](https://biologicslab.co/BIO1173/images/class_01/PimaOut.jpg)\n",
        "\n",
        "Most people refer to this type of data as structured or **_tabular_**. This data is tabular because the number of columns is the same for every row. Individual rows may be missing a value for a column but these rows still have the same number of columns. Tabular data is convenient for machine learning because most models, such as neural networks, also expect incoming data to be of fixed dimensions.\n",
        "\n",
        "On the other hand, real-world information is not always so tabular. This is where JSON comes in. Instead of being tubular, JavaScript Object Notation (JSON) is a standard file format that stores data in a _hierarchical format_ similar to eXtensible Markup Language (XML).\n",
        "\n",
        "JSON is nothing more than a hierarchy of lists and dictionaries. Programmers refer to this sort of data as semi-structured data or hierarchical data. The following is a sample JSON file.\n",
        "\n",
        "Even though this isn't Python code, Python is able to run it!"
      ]
    },
    {
      "cell_type": "code",
      "execution_count": null,
      "metadata": {
        "id": "7jgpuIPoYxdr"
      },
      "outputs": [],
      "source": [
        "# JASON example. RUN THIS CELL\n",
        "{\n",
        "    \"glossary\": {\n",
        "        \"title\": \"example glossary\",\n",
        "\t\t\"GlossDiv\": {\n",
        "            \"title\": \"S\",\n",
        "\t\t\t\"GlossList\": {\n",
        "                \"GlossEntry\": {\n",
        "                    \"ID\": \"SGML\",\n",
        "\t\t\t\t\t\"SortAs\": \"SGML\",\n",
        "\t\t\t\t\t\"GlossTerm\": \"Standard Generalized Markup Language\",\n",
        "\t\t\t\t\t\"Acronym\": \"SGML\",\n",
        "\t\t\t\t\t\"Abbrev\": \"ISO 8879:1986\",\n",
        "\t\t\t\t\t\"GlossDef\": {\n",
        "                        \"para\": \"A meta-markup language.\",\n",
        "\t\t\t\t\t\t\"GlossSeeAlso\": [\"GML\", \"XML\"]\n",
        "                    },\n",
        "\t\t\t\t\t\"GlossSee\": \"markup\"\n",
        "                }\n",
        "            }\n",
        "        }\n",
        "    }\n",
        "}"
      ]
    },
    {
      "cell_type": "markdown",
      "metadata": {
        "id": "mQ4yJu7AYxdr"
      },
      "source": [
        "From inspection, you can see that a JSON file looks similar, but not identical to Python code. For example, you can see curly braces that define dictionaries and square brackets that define lists.\n",
        "\n",
        "Most JSON files can be \"run\" by the Python Interpreter without modification, as demonstrated in the next code cell."
      ]
    },
    {
      "cell_type": "code",
      "execution_count": null,
      "metadata": {
        "id": "lCRNuqGyYxdr"
      },
      "outputs": [],
      "source": [
        "# \"Running\" a JSON String\n",
        "\n",
        "import json\n",
        "\n",
        "json_string = '{\"first\":\"David\",\"last\":\"Senseman\"}'\n",
        "obj = json.loads(json_string)\n",
        "print(f\"First name: {obj['first']}\")\n",
        "print(f\"Last name: {obj['last']}\")"
      ]
    },
    {
      "cell_type": "markdown",
      "source": [
        "A data scientist will generally encounter JSON when they access web services to get their data."
      ],
      "metadata": {
        "id": "QgCdWq24aM29"
      }
    },
    {
      "cell_type": "markdown",
      "metadata": {
        "id": "TefpldbuYxdr"
      },
      "source": [
        "## **Lesson Turn-in**\n",
        "   \n",
        "\n",
        "When all of the cells have been run, use the **File --> Print.. --> Save to PDF** to generate a PDF of your Colab notebook. Save your PDF as `Class_01_4.lastname.pdf` where _lastname_ is your last name, and upload the file to Canvas."
      ]
    }
  ],
  "metadata": {
    "kernelspec": {
      "display_name": "Python 3 (ipykernel)",
      "language": "python",
      "name": "python3"
    },
    "language_info": {
      "codemirror_mode": {
        "name": "ipython",
        "version": 3
      },
      "file_extension": ".py",
      "mimetype": "text/x-python",
      "name": "python",
      "nbconvert_exporter": "python",
      "pygments_lexer": "ipython3",
      "version": "3.11.5"
    },
    "colab": {
      "provenance": [],
      "include_colab_link": true
    }
  },
  "nbformat": 4,
  "nbformat_minor": 0
}