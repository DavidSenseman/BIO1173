{
  "nbformat": 4,
  "nbformat_minor": 0,
  "metadata": {
    "colab": {
      "provenance": [],
      "gpuType": "T4",
      "authorship_tag": "ABX9TyMOFJTw14Sn44CK6mZV4J1i",
      "include_colab_link": true
    },
    "kernelspec": {
      "name": "python3",
      "display_name": "Python 3"
    },
    "language_info": {
      "name": "python"
    },
    "accelerator": "GPU",
    "widgets": {
      "application/vnd.jupyter.widget-state+json": {
        "1d6b6c8a1e544fcda9dd8a04b028c90d": {
          "model_module": "@jupyter-widgets/controls",
          "model_name": "HBoxModel",
          "model_module_version": "1.5.0",
          "state": {
            "_dom_classes": [],
            "_model_module": "@jupyter-widgets/controls",
            "_model_module_version": "1.5.0",
            "_model_name": "HBoxModel",
            "_view_count": null,
            "_view_module": "@jupyter-widgets/controls",
            "_view_module_version": "1.5.0",
            "_view_name": "HBoxView",
            "box_style": "",
            "children": [
              "IPY_MODEL_4e0d86a8e6004ad6a627aa2d003e01f6",
              "IPY_MODEL_dd07a74226ee469e9b58593ccd731a70",
              "IPY_MODEL_50bf619659c346a690fc3e78848c6548"
            ],
            "layout": "IPY_MODEL_4ffc4493fd834c6b9465bf93f676e5ff"
          }
        },
        "4e0d86a8e6004ad6a627aa2d003e01f6": {
          "model_module": "@jupyter-widgets/controls",
          "model_name": "HTMLModel",
          "model_module_version": "1.5.0",
          "state": {
            "_dom_classes": [],
            "_model_module": "@jupyter-widgets/controls",
            "_model_module_version": "1.5.0",
            "_model_name": "HTMLModel",
            "_view_count": null,
            "_view_module": "@jupyter-widgets/controls",
            "_view_module_version": "1.5.0",
            "_view_name": "HTMLView",
            "description": "",
            "description_tooltip": null,
            "layout": "IPY_MODEL_f7bbd63432f14ae2867d5a50a0f1bce5",
            "placeholder": "​",
            "style": "IPY_MODEL_7455a87acb2f4efbb25a5ae1d5164935",
            "value": "config.json: 100%"
          }
        },
        "dd07a74226ee469e9b58593ccd731a70": {
          "model_module": "@jupyter-widgets/controls",
          "model_name": "FloatProgressModel",
          "model_module_version": "1.5.0",
          "state": {
            "_dom_classes": [],
            "_model_module": "@jupyter-widgets/controls",
            "_model_module_version": "1.5.0",
            "_model_name": "FloatProgressModel",
            "_view_count": null,
            "_view_module": "@jupyter-widgets/controls",
            "_view_module_version": "1.5.0",
            "_view_name": "ProgressView",
            "bar_style": "success",
            "description": "",
            "description_tooltip": null,
            "layout": "IPY_MODEL_a7ff13a3616440598f3a8c5b0962dd58",
            "max": 688,
            "min": 0,
            "orientation": "horizontal",
            "style": "IPY_MODEL_48a9bc280884475cb387721444b95c07",
            "value": 688
          }
        },
        "50bf619659c346a690fc3e78848c6548": {
          "model_module": "@jupyter-widgets/controls",
          "model_name": "HTMLModel",
          "model_module_version": "1.5.0",
          "state": {
            "_dom_classes": [],
            "_model_module": "@jupyter-widgets/controls",
            "_model_module_version": "1.5.0",
            "_model_name": "HTMLModel",
            "_view_count": null,
            "_view_module": "@jupyter-widgets/controls",
            "_view_module_version": "1.5.0",
            "_view_name": "HTMLView",
            "description": "",
            "description_tooltip": null,
            "layout": "IPY_MODEL_b1a90cca9f2341ad87281d3b7d73810a",
            "placeholder": "​",
            "style": "IPY_MODEL_f35acbf6277144bd85f83855c2f7f883",
            "value": " 688/688 [00:00&lt;00:00, 63.6kB/s]"
          }
        },
        "4ffc4493fd834c6b9465bf93f676e5ff": {
          "model_module": "@jupyter-widgets/base",
          "model_name": "LayoutModel",
          "model_module_version": "1.2.0",
          "state": {
            "_model_module": "@jupyter-widgets/base",
            "_model_module_version": "1.2.0",
            "_model_name": "LayoutModel",
            "_view_count": null,
            "_view_module": "@jupyter-widgets/base",
            "_view_module_version": "1.2.0",
            "_view_name": "LayoutView",
            "align_content": null,
            "align_items": null,
            "align_self": null,
            "border": null,
            "bottom": null,
            "display": null,
            "flex": null,
            "flex_flow": null,
            "grid_area": null,
            "grid_auto_columns": null,
            "grid_auto_flow": null,
            "grid_auto_rows": null,
            "grid_column": null,
            "grid_gap": null,
            "grid_row": null,
            "grid_template_areas": null,
            "grid_template_columns": null,
            "grid_template_rows": null,
            "height": null,
            "justify_content": null,
            "justify_items": null,
            "left": null,
            "margin": null,
            "max_height": null,
            "max_width": null,
            "min_height": null,
            "min_width": null,
            "object_fit": null,
            "object_position": null,
            "order": null,
            "overflow": null,
            "overflow_x": null,
            "overflow_y": null,
            "padding": null,
            "right": null,
            "top": null,
            "visibility": null,
            "width": null
          }
        },
        "f7bbd63432f14ae2867d5a50a0f1bce5": {
          "model_module": "@jupyter-widgets/base",
          "model_name": "LayoutModel",
          "model_module_version": "1.2.0",
          "state": {
            "_model_module": "@jupyter-widgets/base",
            "_model_module_version": "1.2.0",
            "_model_name": "LayoutModel",
            "_view_count": null,
            "_view_module": "@jupyter-widgets/base",
            "_view_module_version": "1.2.0",
            "_view_name": "LayoutView",
            "align_content": null,
            "align_items": null,
            "align_self": null,
            "border": null,
            "bottom": null,
            "display": null,
            "flex": null,
            "flex_flow": null,
            "grid_area": null,
            "grid_auto_columns": null,
            "grid_auto_flow": null,
            "grid_auto_rows": null,
            "grid_column": null,
            "grid_gap": null,
            "grid_row": null,
            "grid_template_areas": null,
            "grid_template_columns": null,
            "grid_template_rows": null,
            "height": null,
            "justify_content": null,
            "justify_items": null,
            "left": null,
            "margin": null,
            "max_height": null,
            "max_width": null,
            "min_height": null,
            "min_width": null,
            "object_fit": null,
            "object_position": null,
            "order": null,
            "overflow": null,
            "overflow_x": null,
            "overflow_y": null,
            "padding": null,
            "right": null,
            "top": null,
            "visibility": null,
            "width": null
          }
        },
        "7455a87acb2f4efbb25a5ae1d5164935": {
          "model_module": "@jupyter-widgets/controls",
          "model_name": "DescriptionStyleModel",
          "model_module_version": "1.5.0",
          "state": {
            "_model_module": "@jupyter-widgets/controls",
            "_model_module_version": "1.5.0",
            "_model_name": "DescriptionStyleModel",
            "_view_count": null,
            "_view_module": "@jupyter-widgets/base",
            "_view_module_version": "1.2.0",
            "_view_name": "StyleView",
            "description_width": ""
          }
        },
        "a7ff13a3616440598f3a8c5b0962dd58": {
          "model_module": "@jupyter-widgets/base",
          "model_name": "LayoutModel",
          "model_module_version": "1.2.0",
          "state": {
            "_model_module": "@jupyter-widgets/base",
            "_model_module_version": "1.2.0",
            "_model_name": "LayoutModel",
            "_view_count": null,
            "_view_module": "@jupyter-widgets/base",
            "_view_module_version": "1.2.0",
            "_view_name": "LayoutView",
            "align_content": null,
            "align_items": null,
            "align_self": null,
            "border": null,
            "bottom": null,
            "display": null,
            "flex": null,
            "flex_flow": null,
            "grid_area": null,
            "grid_auto_columns": null,
            "grid_auto_flow": null,
            "grid_auto_rows": null,
            "grid_column": null,
            "grid_gap": null,
            "grid_row": null,
            "grid_template_areas": null,
            "grid_template_columns": null,
            "grid_template_rows": null,
            "height": null,
            "justify_content": null,
            "justify_items": null,
            "left": null,
            "margin": null,
            "max_height": null,
            "max_width": null,
            "min_height": null,
            "min_width": null,
            "object_fit": null,
            "object_position": null,
            "order": null,
            "overflow": null,
            "overflow_x": null,
            "overflow_y": null,
            "padding": null,
            "right": null,
            "top": null,
            "visibility": null,
            "width": null
          }
        },
        "48a9bc280884475cb387721444b95c07": {
          "model_module": "@jupyter-widgets/controls",
          "model_name": "ProgressStyleModel",
          "model_module_version": "1.5.0",
          "state": {
            "_model_module": "@jupyter-widgets/controls",
            "_model_module_version": "1.5.0",
            "_model_name": "ProgressStyleModel",
            "_view_count": null,
            "_view_module": "@jupyter-widgets/base",
            "_view_module_version": "1.2.0",
            "_view_name": "StyleView",
            "bar_color": null,
            "description_width": ""
          }
        },
        "b1a90cca9f2341ad87281d3b7d73810a": {
          "model_module": "@jupyter-widgets/base",
          "model_name": "LayoutModel",
          "model_module_version": "1.2.0",
          "state": {
            "_model_module": "@jupyter-widgets/base",
            "_model_module_version": "1.2.0",
            "_model_name": "LayoutModel",
            "_view_count": null,
            "_view_module": "@jupyter-widgets/base",
            "_view_module_version": "1.2.0",
            "_view_name": "LayoutView",
            "align_content": null,
            "align_items": null,
            "align_self": null,
            "border": null,
            "bottom": null,
            "display": null,
            "flex": null,
            "flex_flow": null,
            "grid_area": null,
            "grid_auto_columns": null,
            "grid_auto_flow": null,
            "grid_auto_rows": null,
            "grid_column": null,
            "grid_gap": null,
            "grid_row": null,
            "grid_template_areas": null,
            "grid_template_columns": null,
            "grid_template_rows": null,
            "height": null,
            "justify_content": null,
            "justify_items": null,
            "left": null,
            "margin": null,
            "max_height": null,
            "max_width": null,
            "min_height": null,
            "min_width": null,
            "object_fit": null,
            "object_position": null,
            "order": null,
            "overflow": null,
            "overflow_x": null,
            "overflow_y": null,
            "padding": null,
            "right": null,
            "top": null,
            "visibility": null,
            "width": null
          }
        },
        "f35acbf6277144bd85f83855c2f7f883": {
          "model_module": "@jupyter-widgets/controls",
          "model_name": "DescriptionStyleModel",
          "model_module_version": "1.5.0",
          "state": {
            "_model_module": "@jupyter-widgets/controls",
            "_model_module_version": "1.5.0",
            "_model_name": "DescriptionStyleModel",
            "_view_count": null,
            "_view_module": "@jupyter-widgets/base",
            "_view_module_version": "1.2.0",
            "_view_name": "StyleView",
            "description_width": ""
          }
        },
        "bcd9dbed43a84e5987ad415df2cefe1d": {
          "model_module": "@jupyter-widgets/controls",
          "model_name": "HBoxModel",
          "model_module_version": "1.5.0",
          "state": {
            "_dom_classes": [],
            "_model_module": "@jupyter-widgets/controls",
            "_model_module_version": "1.5.0",
            "_model_name": "HBoxModel",
            "_view_count": null,
            "_view_module": "@jupyter-widgets/controls",
            "_view_module_version": "1.5.0",
            "_view_name": "HBoxView",
            "box_style": "",
            "children": [
              "IPY_MODEL_0c6e6af1cdcb4c27bfb4ef53d6775c0a",
              "IPY_MODEL_f039db89c49d44fa87c641f1787fb1b3",
              "IPY_MODEL_a39e2672426d4e81bd7b8376f9057f54"
            ],
            "layout": "IPY_MODEL_e1980b37360f4554ae330c1909a59e39"
          }
        },
        "0c6e6af1cdcb4c27bfb4ef53d6775c0a": {
          "model_module": "@jupyter-widgets/controls",
          "model_name": "HTMLModel",
          "model_module_version": "1.5.0",
          "state": {
            "_dom_classes": [],
            "_model_module": "@jupyter-widgets/controls",
            "_model_module_version": "1.5.0",
            "_model_name": "HTMLModel",
            "_view_count": null,
            "_view_module": "@jupyter-widgets/controls",
            "_view_module_version": "1.5.0",
            "_view_name": "HTMLView",
            "description": "",
            "description_tooltip": null,
            "layout": "IPY_MODEL_67798aace6c541b699f00287a98c4430",
            "placeholder": "​",
            "style": "IPY_MODEL_e6a4fec39b2246c9a42289af155b00ba",
            "value": "model.safetensors: 100%"
          }
        },
        "f039db89c49d44fa87c641f1787fb1b3": {
          "model_module": "@jupyter-widgets/controls",
          "model_name": "FloatProgressModel",
          "model_module_version": "1.5.0",
          "state": {
            "_dom_classes": [],
            "_model_module": "@jupyter-widgets/controls",
            "_model_module_version": "1.5.0",
            "_model_name": "FloatProgressModel",
            "_view_count": null,
            "_view_module": "@jupyter-widgets/controls",
            "_view_module_version": "1.5.0",
            "_view_name": "ProgressView",
            "bar_style": "success",
            "description": "",
            "description_tooltip": null,
            "layout": "IPY_MODEL_c30b55cd12d44501b296fc7357bd84f8",
            "max": 1425698116,
            "min": 0,
            "orientation": "horizontal",
            "style": "IPY_MODEL_f481fd5783fe4c46b448fce2d5981cb7",
            "value": 1425698116
          }
        },
        "a39e2672426d4e81bd7b8376f9057f54": {
          "model_module": "@jupyter-widgets/controls",
          "model_name": "HTMLModel",
          "model_module_version": "1.5.0",
          "state": {
            "_dom_classes": [],
            "_model_module": "@jupyter-widgets/controls",
            "_model_module_version": "1.5.0",
            "_model_name": "HTMLModel",
            "_view_count": null,
            "_view_module": "@jupyter-widgets/controls",
            "_view_module_version": "1.5.0",
            "_view_name": "HTMLView",
            "description": "",
            "description_tooltip": null,
            "layout": "IPY_MODEL_06a8fdbe2ae946e69f2ff842f691b378",
            "placeholder": "​",
            "style": "IPY_MODEL_026e1c0ecf884cb49af46a65296eb1e8",
            "value": " 1.43G/1.43G [00:24&lt;00:00, 89.3MB/s]"
          }
        },
        "e1980b37360f4554ae330c1909a59e39": {
          "model_module": "@jupyter-widgets/base",
          "model_name": "LayoutModel",
          "model_module_version": "1.2.0",
          "state": {
            "_model_module": "@jupyter-widgets/base",
            "_model_module_version": "1.2.0",
            "_model_name": "LayoutModel",
            "_view_count": null,
            "_view_module": "@jupyter-widgets/base",
            "_view_module_version": "1.2.0",
            "_view_name": "LayoutView",
            "align_content": null,
            "align_items": null,
            "align_self": null,
            "border": null,
            "bottom": null,
            "display": null,
            "flex": null,
            "flex_flow": null,
            "grid_area": null,
            "grid_auto_columns": null,
            "grid_auto_flow": null,
            "grid_auto_rows": null,
            "grid_column": null,
            "grid_gap": null,
            "grid_row": null,
            "grid_template_areas": null,
            "grid_template_columns": null,
            "grid_template_rows": null,
            "height": null,
            "justify_content": null,
            "justify_items": null,
            "left": null,
            "margin": null,
            "max_height": null,
            "max_width": null,
            "min_height": null,
            "min_width": null,
            "object_fit": null,
            "object_position": null,
            "order": null,
            "overflow": null,
            "overflow_x": null,
            "overflow_y": null,
            "padding": null,
            "right": null,
            "top": null,
            "visibility": null,
            "width": null
          }
        },
        "67798aace6c541b699f00287a98c4430": {
          "model_module": "@jupyter-widgets/base",
          "model_name": "LayoutModel",
          "model_module_version": "1.2.0",
          "state": {
            "_model_module": "@jupyter-widgets/base",
            "_model_module_version": "1.2.0",
            "_model_name": "LayoutModel",
            "_view_count": null,
            "_view_module": "@jupyter-widgets/base",
            "_view_module_version": "1.2.0",
            "_view_name": "LayoutView",
            "align_content": null,
            "align_items": null,
            "align_self": null,
            "border": null,
            "bottom": null,
            "display": null,
            "flex": null,
            "flex_flow": null,
            "grid_area": null,
            "grid_auto_columns": null,
            "grid_auto_flow": null,
            "grid_auto_rows": null,
            "grid_column": null,
            "grid_gap": null,
            "grid_row": null,
            "grid_template_areas": null,
            "grid_template_columns": null,
            "grid_template_rows": null,
            "height": null,
            "justify_content": null,
            "justify_items": null,
            "left": null,
            "margin": null,
            "max_height": null,
            "max_width": null,
            "min_height": null,
            "min_width": null,
            "object_fit": null,
            "object_position": null,
            "order": null,
            "overflow": null,
            "overflow_x": null,
            "overflow_y": null,
            "padding": null,
            "right": null,
            "top": null,
            "visibility": null,
            "width": null
          }
        },
        "e6a4fec39b2246c9a42289af155b00ba": {
          "model_module": "@jupyter-widgets/controls",
          "model_name": "DescriptionStyleModel",
          "model_module_version": "1.5.0",
          "state": {
            "_model_module": "@jupyter-widgets/controls",
            "_model_module_version": "1.5.0",
            "_model_name": "DescriptionStyleModel",
            "_view_count": null,
            "_view_module": "@jupyter-widgets/base",
            "_view_module_version": "1.2.0",
            "_view_name": "StyleView",
            "description_width": ""
          }
        },
        "c30b55cd12d44501b296fc7357bd84f8": {
          "model_module": "@jupyter-widgets/base",
          "model_name": "LayoutModel",
          "model_module_version": "1.2.0",
          "state": {
            "_model_module": "@jupyter-widgets/base",
            "_model_module_version": "1.2.0",
            "_model_name": "LayoutModel",
            "_view_count": null,
            "_view_module": "@jupyter-widgets/base",
            "_view_module_version": "1.2.0",
            "_view_name": "LayoutView",
            "align_content": null,
            "align_items": null,
            "align_self": null,
            "border": null,
            "bottom": null,
            "display": null,
            "flex": null,
            "flex_flow": null,
            "grid_area": null,
            "grid_auto_columns": null,
            "grid_auto_flow": null,
            "grid_auto_rows": null,
            "grid_column": null,
            "grid_gap": null,
            "grid_row": null,
            "grid_template_areas": null,
            "grid_template_columns": null,
            "grid_template_rows": null,
            "height": null,
            "justify_content": null,
            "justify_items": null,
            "left": null,
            "margin": null,
            "max_height": null,
            "max_width": null,
            "min_height": null,
            "min_width": null,
            "object_fit": null,
            "object_position": null,
            "order": null,
            "overflow": null,
            "overflow_x": null,
            "overflow_y": null,
            "padding": null,
            "right": null,
            "top": null,
            "visibility": null,
            "width": null
          }
        },
        "f481fd5783fe4c46b448fce2d5981cb7": {
          "model_module": "@jupyter-widgets/controls",
          "model_name": "ProgressStyleModel",
          "model_module_version": "1.5.0",
          "state": {
            "_model_module": "@jupyter-widgets/controls",
            "_model_module_version": "1.5.0",
            "_model_name": "ProgressStyleModel",
            "_view_count": null,
            "_view_module": "@jupyter-widgets/base",
            "_view_module_version": "1.2.0",
            "_view_name": "StyleView",
            "bar_color": null,
            "description_width": ""
          }
        },
        "06a8fdbe2ae946e69f2ff842f691b378": {
          "model_module": "@jupyter-widgets/base",
          "model_name": "LayoutModel",
          "model_module_version": "1.2.0",
          "state": {
            "_model_module": "@jupyter-widgets/base",
            "_model_module_version": "1.2.0",
            "_model_name": "LayoutModel",
            "_view_count": null,
            "_view_module": "@jupyter-widgets/base",
            "_view_module_version": "1.2.0",
            "_view_name": "LayoutView",
            "align_content": null,
            "align_items": null,
            "align_self": null,
            "border": null,
            "bottom": null,
            "display": null,
            "flex": null,
            "flex_flow": null,
            "grid_area": null,
            "grid_auto_columns": null,
            "grid_auto_flow": null,
            "grid_auto_rows": null,
            "grid_column": null,
            "grid_gap": null,
            "grid_row": null,
            "grid_template_areas": null,
            "grid_template_columns": null,
            "grid_template_rows": null,
            "height": null,
            "justify_content": null,
            "justify_items": null,
            "left": null,
            "margin": null,
            "max_height": null,
            "max_width": null,
            "min_height": null,
            "min_width": null,
            "object_fit": null,
            "object_position": null,
            "order": null,
            "overflow": null,
            "overflow_x": null,
            "overflow_y": null,
            "padding": null,
            "right": null,
            "top": null,
            "visibility": null,
            "width": null
          }
        },
        "026e1c0ecf884cb49af46a65296eb1e8": {
          "model_module": "@jupyter-widgets/controls",
          "model_name": "DescriptionStyleModel",
          "model_module_version": "1.5.0",
          "state": {
            "_model_module": "@jupyter-widgets/controls",
            "_model_module_version": "1.5.0",
            "_model_name": "DescriptionStyleModel",
            "_view_count": null,
            "_view_module": "@jupyter-widgets/base",
            "_view_module_version": "1.2.0",
            "_view_name": "StyleView",
            "description_width": ""
          }
        },
        "9ad5e891339c4b5eab3b14075cc62c5e": {
          "model_module": "@jupyter-widgets/controls",
          "model_name": "HBoxModel",
          "model_module_version": "1.5.0",
          "state": {
            "_dom_classes": [],
            "_model_module": "@jupyter-widgets/controls",
            "_model_module_version": "1.5.0",
            "_model_name": "HBoxModel",
            "_view_count": null,
            "_view_module": "@jupyter-widgets/controls",
            "_view_module_version": "1.5.0",
            "_view_name": "HBoxView",
            "box_style": "",
            "children": [
              "IPY_MODEL_0464152616e44c9c821bf64b4cc93e46",
              "IPY_MODEL_326999c01f6844c6a91c5af49bcb859a",
              "IPY_MODEL_b22523ef354e4a5a82c593897a0ece0b"
            ],
            "layout": "IPY_MODEL_4331dea0f7c7427798cfdceb933f1e66"
          }
        },
        "0464152616e44c9c821bf64b4cc93e46": {
          "model_module": "@jupyter-widgets/controls",
          "model_name": "HTMLModel",
          "model_module_version": "1.5.0",
          "state": {
            "_dom_classes": [],
            "_model_module": "@jupyter-widgets/controls",
            "_model_module_version": "1.5.0",
            "_model_name": "HTMLModel",
            "_view_count": null,
            "_view_module": "@jupyter-widgets/controls",
            "_view_module_version": "1.5.0",
            "_view_name": "HTMLView",
            "description": "",
            "description_tooltip": null,
            "layout": "IPY_MODEL_19e512a65b964f50a96d4e9dee820228",
            "placeholder": "​",
            "style": "IPY_MODEL_e847a4cbe4314a0db6a4004c516e2b2f",
            "value": "tokenizer_config.json: 100%"
          }
        },
        "326999c01f6844c6a91c5af49bcb859a": {
          "model_module": "@jupyter-widgets/controls",
          "model_name": "FloatProgressModel",
          "model_module_version": "1.5.0",
          "state": {
            "_dom_classes": [],
            "_model_module": "@jupyter-widgets/controls",
            "_model_module_version": "1.5.0",
            "_model_name": "FloatProgressModel",
            "_view_count": null,
            "_view_module": "@jupyter-widgets/controls",
            "_view_module_version": "1.5.0",
            "_view_name": "ProgressView",
            "bar_style": "success",
            "description": "",
            "description_tooltip": null,
            "layout": "IPY_MODEL_c67b33d9e2fd4339a414478bf7ab9036",
            "max": 25,
            "min": 0,
            "orientation": "horizontal",
            "style": "IPY_MODEL_d13a001729d24c19b78fe6bf4670533b",
            "value": 25
          }
        },
        "b22523ef354e4a5a82c593897a0ece0b": {
          "model_module": "@jupyter-widgets/controls",
          "model_name": "HTMLModel",
          "model_module_version": "1.5.0",
          "state": {
            "_dom_classes": [],
            "_model_module": "@jupyter-widgets/controls",
            "_model_module_version": "1.5.0",
            "_model_name": "HTMLModel",
            "_view_count": null,
            "_view_module": "@jupyter-widgets/controls",
            "_view_module_version": "1.5.0",
            "_view_name": "HTMLView",
            "description": "",
            "description_tooltip": null,
            "layout": "IPY_MODEL_63086562587549289a624e562d59a26c",
            "placeholder": "​",
            "style": "IPY_MODEL_78b1eb9ac50f4ed18b34e2d5a90f15ce",
            "value": " 25.0/25.0 [00:00&lt;00:00, 1.48kB/s]"
          }
        },
        "4331dea0f7c7427798cfdceb933f1e66": {
          "model_module": "@jupyter-widgets/base",
          "model_name": "LayoutModel",
          "model_module_version": "1.2.0",
          "state": {
            "_model_module": "@jupyter-widgets/base",
            "_model_module_version": "1.2.0",
            "_model_name": "LayoutModel",
            "_view_count": null,
            "_view_module": "@jupyter-widgets/base",
            "_view_module_version": "1.2.0",
            "_view_name": "LayoutView",
            "align_content": null,
            "align_items": null,
            "align_self": null,
            "border": null,
            "bottom": null,
            "display": null,
            "flex": null,
            "flex_flow": null,
            "grid_area": null,
            "grid_auto_columns": null,
            "grid_auto_flow": null,
            "grid_auto_rows": null,
            "grid_column": null,
            "grid_gap": null,
            "grid_row": null,
            "grid_template_areas": null,
            "grid_template_columns": null,
            "grid_template_rows": null,
            "height": null,
            "justify_content": null,
            "justify_items": null,
            "left": null,
            "margin": null,
            "max_height": null,
            "max_width": null,
            "min_height": null,
            "min_width": null,
            "object_fit": null,
            "object_position": null,
            "order": null,
            "overflow": null,
            "overflow_x": null,
            "overflow_y": null,
            "padding": null,
            "right": null,
            "top": null,
            "visibility": null,
            "width": null
          }
        },
        "19e512a65b964f50a96d4e9dee820228": {
          "model_module": "@jupyter-widgets/base",
          "model_name": "LayoutModel",
          "model_module_version": "1.2.0",
          "state": {
            "_model_module": "@jupyter-widgets/base",
            "_model_module_version": "1.2.0",
            "_model_name": "LayoutModel",
            "_view_count": null,
            "_view_module": "@jupyter-widgets/base",
            "_view_module_version": "1.2.0",
            "_view_name": "LayoutView",
            "align_content": null,
            "align_items": null,
            "align_self": null,
            "border": null,
            "bottom": null,
            "display": null,
            "flex": null,
            "flex_flow": null,
            "grid_area": null,
            "grid_auto_columns": null,
            "grid_auto_flow": null,
            "grid_auto_rows": null,
            "grid_column": null,
            "grid_gap": null,
            "grid_row": null,
            "grid_template_areas": null,
            "grid_template_columns": null,
            "grid_template_rows": null,
            "height": null,
            "justify_content": null,
            "justify_items": null,
            "left": null,
            "margin": null,
            "max_height": null,
            "max_width": null,
            "min_height": null,
            "min_width": null,
            "object_fit": null,
            "object_position": null,
            "order": null,
            "overflow": null,
            "overflow_x": null,
            "overflow_y": null,
            "padding": null,
            "right": null,
            "top": null,
            "visibility": null,
            "width": null
          }
        },
        "e847a4cbe4314a0db6a4004c516e2b2f": {
          "model_module": "@jupyter-widgets/controls",
          "model_name": "DescriptionStyleModel",
          "model_module_version": "1.5.0",
          "state": {
            "_model_module": "@jupyter-widgets/controls",
            "_model_module_version": "1.5.0",
            "_model_name": "DescriptionStyleModel",
            "_view_count": null,
            "_view_module": "@jupyter-widgets/base",
            "_view_module_version": "1.2.0",
            "_view_name": "StyleView",
            "description_width": ""
          }
        },
        "c67b33d9e2fd4339a414478bf7ab9036": {
          "model_module": "@jupyter-widgets/base",
          "model_name": "LayoutModel",
          "model_module_version": "1.2.0",
          "state": {
            "_model_module": "@jupyter-widgets/base",
            "_model_module_version": "1.2.0",
            "_model_name": "LayoutModel",
            "_view_count": null,
            "_view_module": "@jupyter-widgets/base",
            "_view_module_version": "1.2.0",
            "_view_name": "LayoutView",
            "align_content": null,
            "align_items": null,
            "align_self": null,
            "border": null,
            "bottom": null,
            "display": null,
            "flex": null,
            "flex_flow": null,
            "grid_area": null,
            "grid_auto_columns": null,
            "grid_auto_flow": null,
            "grid_auto_rows": null,
            "grid_column": null,
            "grid_gap": null,
            "grid_row": null,
            "grid_template_areas": null,
            "grid_template_columns": null,
            "grid_template_rows": null,
            "height": null,
            "justify_content": null,
            "justify_items": null,
            "left": null,
            "margin": null,
            "max_height": null,
            "max_width": null,
            "min_height": null,
            "min_width": null,
            "object_fit": null,
            "object_position": null,
            "order": null,
            "overflow": null,
            "overflow_x": null,
            "overflow_y": null,
            "padding": null,
            "right": null,
            "top": null,
            "visibility": null,
            "width": null
          }
        },
        "d13a001729d24c19b78fe6bf4670533b": {
          "model_module": "@jupyter-widgets/controls",
          "model_name": "ProgressStyleModel",
          "model_module_version": "1.5.0",
          "state": {
            "_model_module": "@jupyter-widgets/controls",
            "_model_module_version": "1.5.0",
            "_model_name": "ProgressStyleModel",
            "_view_count": null,
            "_view_module": "@jupyter-widgets/base",
            "_view_module_version": "1.2.0",
            "_view_name": "StyleView",
            "bar_color": null,
            "description_width": ""
          }
        },
        "63086562587549289a624e562d59a26c": {
          "model_module": "@jupyter-widgets/base",
          "model_name": "LayoutModel",
          "model_module_version": "1.2.0",
          "state": {
            "_model_module": "@jupyter-widgets/base",
            "_model_module_version": "1.2.0",
            "_model_name": "LayoutModel",
            "_view_count": null,
            "_view_module": "@jupyter-widgets/base",
            "_view_module_version": "1.2.0",
            "_view_name": "LayoutView",
            "align_content": null,
            "align_items": null,
            "align_self": null,
            "border": null,
            "bottom": null,
            "display": null,
            "flex": null,
            "flex_flow": null,
            "grid_area": null,
            "grid_auto_columns": null,
            "grid_auto_flow": null,
            "grid_auto_rows": null,
            "grid_column": null,
            "grid_gap": null,
            "grid_row": null,
            "grid_template_areas": null,
            "grid_template_columns": null,
            "grid_template_rows": null,
            "height": null,
            "justify_content": null,
            "justify_items": null,
            "left": null,
            "margin": null,
            "max_height": null,
            "max_width": null,
            "min_height": null,
            "min_width": null,
            "object_fit": null,
            "object_position": null,
            "order": null,
            "overflow": null,
            "overflow_x": null,
            "overflow_y": null,
            "padding": null,
            "right": null,
            "top": null,
            "visibility": null,
            "width": null
          }
        },
        "78b1eb9ac50f4ed18b34e2d5a90f15ce": {
          "model_module": "@jupyter-widgets/controls",
          "model_name": "DescriptionStyleModel",
          "model_module_version": "1.5.0",
          "state": {
            "_model_module": "@jupyter-widgets/controls",
            "_model_module_version": "1.5.0",
            "_model_name": "DescriptionStyleModel",
            "_view_count": null,
            "_view_module": "@jupyter-widgets/base",
            "_view_module_version": "1.2.0",
            "_view_name": "StyleView",
            "description_width": ""
          }
        },
        "b0e9cd607ab342ba801c6b29593e0577": {
          "model_module": "@jupyter-widgets/controls",
          "model_name": "HBoxModel",
          "model_module_version": "1.5.0",
          "state": {
            "_dom_classes": [],
            "_model_module": "@jupyter-widgets/controls",
            "_model_module_version": "1.5.0",
            "_model_name": "HBoxModel",
            "_view_count": null,
            "_view_module": "@jupyter-widgets/controls",
            "_view_module_version": "1.5.0",
            "_view_name": "HBoxView",
            "box_style": "",
            "children": [
              "IPY_MODEL_22baac52f9914b7c9c720800913d1f02",
              "IPY_MODEL_fb64df4ad62f475c9295357ba699a13b",
              "IPY_MODEL_482eff70ba9c4d69b49d547587f1128c"
            ],
            "layout": "IPY_MODEL_33101f4b6f1e48f0acc13ebb59d3060d"
          }
        },
        "22baac52f9914b7c9c720800913d1f02": {
          "model_module": "@jupyter-widgets/controls",
          "model_name": "HTMLModel",
          "model_module_version": "1.5.0",
          "state": {
            "_dom_classes": [],
            "_model_module": "@jupyter-widgets/controls",
            "_model_module_version": "1.5.0",
            "_model_name": "HTMLModel",
            "_view_count": null,
            "_view_module": "@jupyter-widgets/controls",
            "_view_module_version": "1.5.0",
            "_view_name": "HTMLView",
            "description": "",
            "description_tooltip": null,
            "layout": "IPY_MODEL_4c3272b6aa9e48ddb42a2d258940e071",
            "placeholder": "​",
            "style": "IPY_MODEL_a133bd3f82724b4e8ba979893e32ce52",
            "value": "vocab.json: 100%"
          }
        },
        "fb64df4ad62f475c9295357ba699a13b": {
          "model_module": "@jupyter-widgets/controls",
          "model_name": "FloatProgressModel",
          "model_module_version": "1.5.0",
          "state": {
            "_dom_classes": [],
            "_model_module": "@jupyter-widgets/controls",
            "_model_module_version": "1.5.0",
            "_model_name": "FloatProgressModel",
            "_view_count": null,
            "_view_module": "@jupyter-widgets/controls",
            "_view_module_version": "1.5.0",
            "_view_name": "ProgressView",
            "bar_style": "success",
            "description": "",
            "description_tooltip": null,
            "layout": "IPY_MODEL_99ea7acb4a794e08a6671c84b56a3f63",
            "max": 898823,
            "min": 0,
            "orientation": "horizontal",
            "style": "IPY_MODEL_4025b9985b9f4e1bb0d6db88a09ab501",
            "value": 898823
          }
        },
        "482eff70ba9c4d69b49d547587f1128c": {
          "model_module": "@jupyter-widgets/controls",
          "model_name": "HTMLModel",
          "model_module_version": "1.5.0",
          "state": {
            "_dom_classes": [],
            "_model_module": "@jupyter-widgets/controls",
            "_model_module_version": "1.5.0",
            "_model_name": "HTMLModel",
            "_view_count": null,
            "_view_module": "@jupyter-widgets/controls",
            "_view_module_version": "1.5.0",
            "_view_name": "HTMLView",
            "description": "",
            "description_tooltip": null,
            "layout": "IPY_MODEL_39ec2f90c6bc418ebda8148541ad3748",
            "placeholder": "​",
            "style": "IPY_MODEL_849327faf938410bb2f07486de1da981",
            "value": " 899k/899k [00:00&lt;00:00, 12.0MB/s]"
          }
        },
        "33101f4b6f1e48f0acc13ebb59d3060d": {
          "model_module": "@jupyter-widgets/base",
          "model_name": "LayoutModel",
          "model_module_version": "1.2.0",
          "state": {
            "_model_module": "@jupyter-widgets/base",
            "_model_module_version": "1.2.0",
            "_model_name": "LayoutModel",
            "_view_count": null,
            "_view_module": "@jupyter-widgets/base",
            "_view_module_version": "1.2.0",
            "_view_name": "LayoutView",
            "align_content": null,
            "align_items": null,
            "align_self": null,
            "border": null,
            "bottom": null,
            "display": null,
            "flex": null,
            "flex_flow": null,
            "grid_area": null,
            "grid_auto_columns": null,
            "grid_auto_flow": null,
            "grid_auto_rows": null,
            "grid_column": null,
            "grid_gap": null,
            "grid_row": null,
            "grid_template_areas": null,
            "grid_template_columns": null,
            "grid_template_rows": null,
            "height": null,
            "justify_content": null,
            "justify_items": null,
            "left": null,
            "margin": null,
            "max_height": null,
            "max_width": null,
            "min_height": null,
            "min_width": null,
            "object_fit": null,
            "object_position": null,
            "order": null,
            "overflow": null,
            "overflow_x": null,
            "overflow_y": null,
            "padding": null,
            "right": null,
            "top": null,
            "visibility": null,
            "width": null
          }
        },
        "4c3272b6aa9e48ddb42a2d258940e071": {
          "model_module": "@jupyter-widgets/base",
          "model_name": "LayoutModel",
          "model_module_version": "1.2.0",
          "state": {
            "_model_module": "@jupyter-widgets/base",
            "_model_module_version": "1.2.0",
            "_model_name": "LayoutModel",
            "_view_count": null,
            "_view_module": "@jupyter-widgets/base",
            "_view_module_version": "1.2.0",
            "_view_name": "LayoutView",
            "align_content": null,
            "align_items": null,
            "align_self": null,
            "border": null,
            "bottom": null,
            "display": null,
            "flex": null,
            "flex_flow": null,
            "grid_area": null,
            "grid_auto_columns": null,
            "grid_auto_flow": null,
            "grid_auto_rows": null,
            "grid_column": null,
            "grid_gap": null,
            "grid_row": null,
            "grid_template_areas": null,
            "grid_template_columns": null,
            "grid_template_rows": null,
            "height": null,
            "justify_content": null,
            "justify_items": null,
            "left": null,
            "margin": null,
            "max_height": null,
            "max_width": null,
            "min_height": null,
            "min_width": null,
            "object_fit": null,
            "object_position": null,
            "order": null,
            "overflow": null,
            "overflow_x": null,
            "overflow_y": null,
            "padding": null,
            "right": null,
            "top": null,
            "visibility": null,
            "width": null
          }
        },
        "a133bd3f82724b4e8ba979893e32ce52": {
          "model_module": "@jupyter-widgets/controls",
          "model_name": "DescriptionStyleModel",
          "model_module_version": "1.5.0",
          "state": {
            "_model_module": "@jupyter-widgets/controls",
            "_model_module_version": "1.5.0",
            "_model_name": "DescriptionStyleModel",
            "_view_count": null,
            "_view_module": "@jupyter-widgets/base",
            "_view_module_version": "1.2.0",
            "_view_name": "StyleView",
            "description_width": ""
          }
        },
        "99ea7acb4a794e08a6671c84b56a3f63": {
          "model_module": "@jupyter-widgets/base",
          "model_name": "LayoutModel",
          "model_module_version": "1.2.0",
          "state": {
            "_model_module": "@jupyter-widgets/base",
            "_model_module_version": "1.2.0",
            "_model_name": "LayoutModel",
            "_view_count": null,
            "_view_module": "@jupyter-widgets/base",
            "_view_module_version": "1.2.0",
            "_view_name": "LayoutView",
            "align_content": null,
            "align_items": null,
            "align_self": null,
            "border": null,
            "bottom": null,
            "display": null,
            "flex": null,
            "flex_flow": null,
            "grid_area": null,
            "grid_auto_columns": null,
            "grid_auto_flow": null,
            "grid_auto_rows": null,
            "grid_column": null,
            "grid_gap": null,
            "grid_row": null,
            "grid_template_areas": null,
            "grid_template_columns": null,
            "grid_template_rows": null,
            "height": null,
            "justify_content": null,
            "justify_items": null,
            "left": null,
            "margin": null,
            "max_height": null,
            "max_width": null,
            "min_height": null,
            "min_width": null,
            "object_fit": null,
            "object_position": null,
            "order": null,
            "overflow": null,
            "overflow_x": null,
            "overflow_y": null,
            "padding": null,
            "right": null,
            "top": null,
            "visibility": null,
            "width": null
          }
        },
        "4025b9985b9f4e1bb0d6db88a09ab501": {
          "model_module": "@jupyter-widgets/controls",
          "model_name": "ProgressStyleModel",
          "model_module_version": "1.5.0",
          "state": {
            "_model_module": "@jupyter-widgets/controls",
            "_model_module_version": "1.5.0",
            "_model_name": "ProgressStyleModel",
            "_view_count": null,
            "_view_module": "@jupyter-widgets/base",
            "_view_module_version": "1.2.0",
            "_view_name": "StyleView",
            "bar_color": null,
            "description_width": ""
          }
        },
        "39ec2f90c6bc418ebda8148541ad3748": {
          "model_module": "@jupyter-widgets/base",
          "model_name": "LayoutModel",
          "model_module_version": "1.2.0",
          "state": {
            "_model_module": "@jupyter-widgets/base",
            "_model_module_version": "1.2.0",
            "_model_name": "LayoutModel",
            "_view_count": null,
            "_view_module": "@jupyter-widgets/base",
            "_view_module_version": "1.2.0",
            "_view_name": "LayoutView",
            "align_content": null,
            "align_items": null,
            "align_self": null,
            "border": null,
            "bottom": null,
            "display": null,
            "flex": null,
            "flex_flow": null,
            "grid_area": null,
            "grid_auto_columns": null,
            "grid_auto_flow": null,
            "grid_auto_rows": null,
            "grid_column": null,
            "grid_gap": null,
            "grid_row": null,
            "grid_template_areas": null,
            "grid_template_columns": null,
            "grid_template_rows": null,
            "height": null,
            "justify_content": null,
            "justify_items": null,
            "left": null,
            "margin": null,
            "max_height": null,
            "max_width": null,
            "min_height": null,
            "min_width": null,
            "object_fit": null,
            "object_position": null,
            "order": null,
            "overflow": null,
            "overflow_x": null,
            "overflow_y": null,
            "padding": null,
            "right": null,
            "top": null,
            "visibility": null,
            "width": null
          }
        },
        "849327faf938410bb2f07486de1da981": {
          "model_module": "@jupyter-widgets/controls",
          "model_name": "DescriptionStyleModel",
          "model_module_version": "1.5.0",
          "state": {
            "_model_module": "@jupyter-widgets/controls",
            "_model_module_version": "1.5.0",
            "_model_name": "DescriptionStyleModel",
            "_view_count": null,
            "_view_module": "@jupyter-widgets/base",
            "_view_module_version": "1.2.0",
            "_view_name": "StyleView",
            "description_width": ""
          }
        },
        "86212057cfdf47219d9eb90fe6b7a538": {
          "model_module": "@jupyter-widgets/controls",
          "model_name": "HBoxModel",
          "model_module_version": "1.5.0",
          "state": {
            "_dom_classes": [],
            "_model_module": "@jupyter-widgets/controls",
            "_model_module_version": "1.5.0",
            "_model_name": "HBoxModel",
            "_view_count": null,
            "_view_module": "@jupyter-widgets/controls",
            "_view_module_version": "1.5.0",
            "_view_name": "HBoxView",
            "box_style": "",
            "children": [
              "IPY_MODEL_56f8bfe2f81c482783538cc2a1f913fd",
              "IPY_MODEL_a25a343c0aaa48dc954f77c1f1f88f01",
              "IPY_MODEL_19d09c7d738b44a69a5104aa69aff2b6"
            ],
            "layout": "IPY_MODEL_9a94a8a73ab542dbb8976815125d212f"
          }
        },
        "56f8bfe2f81c482783538cc2a1f913fd": {
          "model_module": "@jupyter-widgets/controls",
          "model_name": "HTMLModel",
          "model_module_version": "1.5.0",
          "state": {
            "_dom_classes": [],
            "_model_module": "@jupyter-widgets/controls",
            "_model_module_version": "1.5.0",
            "_model_name": "HTMLModel",
            "_view_count": null,
            "_view_module": "@jupyter-widgets/controls",
            "_view_module_version": "1.5.0",
            "_view_name": "HTMLView",
            "description": "",
            "description_tooltip": null,
            "layout": "IPY_MODEL_20d570dc8451453bba4aab8fb14ae8e3",
            "placeholder": "​",
            "style": "IPY_MODEL_583a3d49c573426ca992757475698e44",
            "value": "merges.txt: 100%"
          }
        },
        "a25a343c0aaa48dc954f77c1f1f88f01": {
          "model_module": "@jupyter-widgets/controls",
          "model_name": "FloatProgressModel",
          "model_module_version": "1.5.0",
          "state": {
            "_dom_classes": [],
            "_model_module": "@jupyter-widgets/controls",
            "_model_module_version": "1.5.0",
            "_model_name": "FloatProgressModel",
            "_view_count": null,
            "_view_module": "@jupyter-widgets/controls",
            "_view_module_version": "1.5.0",
            "_view_name": "ProgressView",
            "bar_style": "success",
            "description": "",
            "description_tooltip": null,
            "layout": "IPY_MODEL_c310e5aa9d854631b0af672c99104ada",
            "max": 456318,
            "min": 0,
            "orientation": "horizontal",
            "style": "IPY_MODEL_93bd2c96982b4da1b6f3dcc52dd9378a",
            "value": 456318
          }
        },
        "19d09c7d738b44a69a5104aa69aff2b6": {
          "model_module": "@jupyter-widgets/controls",
          "model_name": "HTMLModel",
          "model_module_version": "1.5.0",
          "state": {
            "_dom_classes": [],
            "_model_module": "@jupyter-widgets/controls",
            "_model_module_version": "1.5.0",
            "_model_name": "HTMLModel",
            "_view_count": null,
            "_view_module": "@jupyter-widgets/controls",
            "_view_module_version": "1.5.0",
            "_view_name": "HTMLView",
            "description": "",
            "description_tooltip": null,
            "layout": "IPY_MODEL_4f0cbc138ce146098d3c97365d11ead9",
            "placeholder": "​",
            "style": "IPY_MODEL_7a9193abef324ac29442559519c3a56f",
            "value": " 456k/456k [00:00&lt;00:00, 6.94MB/s]"
          }
        },
        "9a94a8a73ab542dbb8976815125d212f": {
          "model_module": "@jupyter-widgets/base",
          "model_name": "LayoutModel",
          "model_module_version": "1.2.0",
          "state": {
            "_model_module": "@jupyter-widgets/base",
            "_model_module_version": "1.2.0",
            "_model_name": "LayoutModel",
            "_view_count": null,
            "_view_module": "@jupyter-widgets/base",
            "_view_module_version": "1.2.0",
            "_view_name": "LayoutView",
            "align_content": null,
            "align_items": null,
            "align_self": null,
            "border": null,
            "bottom": null,
            "display": null,
            "flex": null,
            "flex_flow": null,
            "grid_area": null,
            "grid_auto_columns": null,
            "grid_auto_flow": null,
            "grid_auto_rows": null,
            "grid_column": null,
            "grid_gap": null,
            "grid_row": null,
            "grid_template_areas": null,
            "grid_template_columns": null,
            "grid_template_rows": null,
            "height": null,
            "justify_content": null,
            "justify_items": null,
            "left": null,
            "margin": null,
            "max_height": null,
            "max_width": null,
            "min_height": null,
            "min_width": null,
            "object_fit": null,
            "object_position": null,
            "order": null,
            "overflow": null,
            "overflow_x": null,
            "overflow_y": null,
            "padding": null,
            "right": null,
            "top": null,
            "visibility": null,
            "width": null
          }
        },
        "20d570dc8451453bba4aab8fb14ae8e3": {
          "model_module": "@jupyter-widgets/base",
          "model_name": "LayoutModel",
          "model_module_version": "1.2.0",
          "state": {
            "_model_module": "@jupyter-widgets/base",
            "_model_module_version": "1.2.0",
            "_model_name": "LayoutModel",
            "_view_count": null,
            "_view_module": "@jupyter-widgets/base",
            "_view_module_version": "1.2.0",
            "_view_name": "LayoutView",
            "align_content": null,
            "align_items": null,
            "align_self": null,
            "border": null,
            "bottom": null,
            "display": null,
            "flex": null,
            "flex_flow": null,
            "grid_area": null,
            "grid_auto_columns": null,
            "grid_auto_flow": null,
            "grid_auto_rows": null,
            "grid_column": null,
            "grid_gap": null,
            "grid_row": null,
            "grid_template_areas": null,
            "grid_template_columns": null,
            "grid_template_rows": null,
            "height": null,
            "justify_content": null,
            "justify_items": null,
            "left": null,
            "margin": null,
            "max_height": null,
            "max_width": null,
            "min_height": null,
            "min_width": null,
            "object_fit": null,
            "object_position": null,
            "order": null,
            "overflow": null,
            "overflow_x": null,
            "overflow_y": null,
            "padding": null,
            "right": null,
            "top": null,
            "visibility": null,
            "width": null
          }
        },
        "583a3d49c573426ca992757475698e44": {
          "model_module": "@jupyter-widgets/controls",
          "model_name": "DescriptionStyleModel",
          "model_module_version": "1.5.0",
          "state": {
            "_model_module": "@jupyter-widgets/controls",
            "_model_module_version": "1.5.0",
            "_model_name": "DescriptionStyleModel",
            "_view_count": null,
            "_view_module": "@jupyter-widgets/base",
            "_view_module_version": "1.2.0",
            "_view_name": "StyleView",
            "description_width": ""
          }
        },
        "c310e5aa9d854631b0af672c99104ada": {
          "model_module": "@jupyter-widgets/base",
          "model_name": "LayoutModel",
          "model_module_version": "1.2.0",
          "state": {
            "_model_module": "@jupyter-widgets/base",
            "_model_module_version": "1.2.0",
            "_model_name": "LayoutModel",
            "_view_count": null,
            "_view_module": "@jupyter-widgets/base",
            "_view_module_version": "1.2.0",
            "_view_name": "LayoutView",
            "align_content": null,
            "align_items": null,
            "align_self": null,
            "border": null,
            "bottom": null,
            "display": null,
            "flex": null,
            "flex_flow": null,
            "grid_area": null,
            "grid_auto_columns": null,
            "grid_auto_flow": null,
            "grid_auto_rows": null,
            "grid_column": null,
            "grid_gap": null,
            "grid_row": null,
            "grid_template_areas": null,
            "grid_template_columns": null,
            "grid_template_rows": null,
            "height": null,
            "justify_content": null,
            "justify_items": null,
            "left": null,
            "margin": null,
            "max_height": null,
            "max_width": null,
            "min_height": null,
            "min_width": null,
            "object_fit": null,
            "object_position": null,
            "order": null,
            "overflow": null,
            "overflow_x": null,
            "overflow_y": null,
            "padding": null,
            "right": null,
            "top": null,
            "visibility": null,
            "width": null
          }
        },
        "93bd2c96982b4da1b6f3dcc52dd9378a": {
          "model_module": "@jupyter-widgets/controls",
          "model_name": "ProgressStyleModel",
          "model_module_version": "1.5.0",
          "state": {
            "_model_module": "@jupyter-widgets/controls",
            "_model_module_version": "1.5.0",
            "_model_name": "ProgressStyleModel",
            "_view_count": null,
            "_view_module": "@jupyter-widgets/base",
            "_view_module_version": "1.2.0",
            "_view_name": "StyleView",
            "bar_color": null,
            "description_width": ""
          }
        },
        "4f0cbc138ce146098d3c97365d11ead9": {
          "model_module": "@jupyter-widgets/base",
          "model_name": "LayoutModel",
          "model_module_version": "1.2.0",
          "state": {
            "_model_module": "@jupyter-widgets/base",
            "_model_module_version": "1.2.0",
            "_model_name": "LayoutModel",
            "_view_count": null,
            "_view_module": "@jupyter-widgets/base",
            "_view_module_version": "1.2.0",
            "_view_name": "LayoutView",
            "align_content": null,
            "align_items": null,
            "align_self": null,
            "border": null,
            "bottom": null,
            "display": null,
            "flex": null,
            "flex_flow": null,
            "grid_area": null,
            "grid_auto_columns": null,
            "grid_auto_flow": null,
            "grid_auto_rows": null,
            "grid_column": null,
            "grid_gap": null,
            "grid_row": null,
            "grid_template_areas": null,
            "grid_template_columns": null,
            "grid_template_rows": null,
            "height": null,
            "justify_content": null,
            "justify_items": null,
            "left": null,
            "margin": null,
            "max_height": null,
            "max_width": null,
            "min_height": null,
            "min_width": null,
            "object_fit": null,
            "object_position": null,
            "order": null,
            "overflow": null,
            "overflow_x": null,
            "overflow_y": null,
            "padding": null,
            "right": null,
            "top": null,
            "visibility": null,
            "width": null
          }
        },
        "7a9193abef324ac29442559519c3a56f": {
          "model_module": "@jupyter-widgets/controls",
          "model_name": "DescriptionStyleModel",
          "model_module_version": "1.5.0",
          "state": {
            "_model_module": "@jupyter-widgets/controls",
            "_model_module_version": "1.5.0",
            "_model_name": "DescriptionStyleModel",
            "_view_count": null,
            "_view_module": "@jupyter-widgets/base",
            "_view_module_version": "1.2.0",
            "_view_name": "StyleView",
            "description_width": ""
          }
        },
        "6cdf77013fd5484c80579a34f2bdeda2": {
          "model_module": "@jupyter-widgets/controls",
          "model_name": "HBoxModel",
          "model_module_version": "1.5.0",
          "state": {
            "_dom_classes": [],
            "_model_module": "@jupyter-widgets/controls",
            "_model_module_version": "1.5.0",
            "_model_name": "HBoxModel",
            "_view_count": null,
            "_view_module": "@jupyter-widgets/controls",
            "_view_module_version": "1.5.0",
            "_view_name": "HBoxView",
            "box_style": "",
            "children": [
              "IPY_MODEL_a2044587345c4c01a0f8d81c87f13b9f",
              "IPY_MODEL_2153779152f945028d3166759b2b5d8a",
              "IPY_MODEL_b2ee057c994c49f7b249dbd687fac742"
            ],
            "layout": "IPY_MODEL_dfd5d4f360d14e44b4df7d865fc389be"
          }
        },
        "a2044587345c4c01a0f8d81c87f13b9f": {
          "model_module": "@jupyter-widgets/controls",
          "model_name": "HTMLModel",
          "model_module_version": "1.5.0",
          "state": {
            "_dom_classes": [],
            "_model_module": "@jupyter-widgets/controls",
            "_model_module_version": "1.5.0",
            "_model_name": "HTMLModel",
            "_view_count": null,
            "_view_module": "@jupyter-widgets/controls",
            "_view_module_version": "1.5.0",
            "_view_name": "HTMLView",
            "description": "",
            "description_tooltip": null,
            "layout": "IPY_MODEL_0294c5196d5e48da833b190a838b9512",
            "placeholder": "​",
            "style": "IPY_MODEL_32024d2db8e747d4b00a1f86bdb5d8a1",
            "value": "tokenizer.json: 100%"
          }
        },
        "2153779152f945028d3166759b2b5d8a": {
          "model_module": "@jupyter-widgets/controls",
          "model_name": "FloatProgressModel",
          "model_module_version": "1.5.0",
          "state": {
            "_dom_classes": [],
            "_model_module": "@jupyter-widgets/controls",
            "_model_module_version": "1.5.0",
            "_model_name": "FloatProgressModel",
            "_view_count": null,
            "_view_module": "@jupyter-widgets/controls",
            "_view_module_version": "1.5.0",
            "_view_name": "ProgressView",
            "bar_style": "success",
            "description": "",
            "description_tooltip": null,
            "layout": "IPY_MODEL_442331669d0b4658810a561ef36b0200",
            "max": 1355863,
            "min": 0,
            "orientation": "horizontal",
            "style": "IPY_MODEL_1d78d65b2b6f465a88ba35085e4582cf",
            "value": 1355863
          }
        },
        "b2ee057c994c49f7b249dbd687fac742": {
          "model_module": "@jupyter-widgets/controls",
          "model_name": "HTMLModel",
          "model_module_version": "1.5.0",
          "state": {
            "_dom_classes": [],
            "_model_module": "@jupyter-widgets/controls",
            "_model_module_version": "1.5.0",
            "_model_name": "HTMLModel",
            "_view_count": null,
            "_view_module": "@jupyter-widgets/controls",
            "_view_module_version": "1.5.0",
            "_view_name": "HTMLView",
            "description": "",
            "description_tooltip": null,
            "layout": "IPY_MODEL_e4eadb02f2bf4759af63c27916f6f1a2",
            "placeholder": "​",
            "style": "IPY_MODEL_46651e06631846549df1a50087ccb584",
            "value": " 1.36M/1.36M [00:00&lt;00:00, 46.5MB/s]"
          }
        },
        "dfd5d4f360d14e44b4df7d865fc389be": {
          "model_module": "@jupyter-widgets/base",
          "model_name": "LayoutModel",
          "model_module_version": "1.2.0",
          "state": {
            "_model_module": "@jupyter-widgets/base",
            "_model_module_version": "1.2.0",
            "_model_name": "LayoutModel",
            "_view_count": null,
            "_view_module": "@jupyter-widgets/base",
            "_view_module_version": "1.2.0",
            "_view_name": "LayoutView",
            "align_content": null,
            "align_items": null,
            "align_self": null,
            "border": null,
            "bottom": null,
            "display": null,
            "flex": null,
            "flex_flow": null,
            "grid_area": null,
            "grid_auto_columns": null,
            "grid_auto_flow": null,
            "grid_auto_rows": null,
            "grid_column": null,
            "grid_gap": null,
            "grid_row": null,
            "grid_template_areas": null,
            "grid_template_columns": null,
            "grid_template_rows": null,
            "height": null,
            "justify_content": null,
            "justify_items": null,
            "left": null,
            "margin": null,
            "max_height": null,
            "max_width": null,
            "min_height": null,
            "min_width": null,
            "object_fit": null,
            "object_position": null,
            "order": null,
            "overflow": null,
            "overflow_x": null,
            "overflow_y": null,
            "padding": null,
            "right": null,
            "top": null,
            "visibility": null,
            "width": null
          }
        },
        "0294c5196d5e48da833b190a838b9512": {
          "model_module": "@jupyter-widgets/base",
          "model_name": "LayoutModel",
          "model_module_version": "1.2.0",
          "state": {
            "_model_module": "@jupyter-widgets/base",
            "_model_module_version": "1.2.0",
            "_model_name": "LayoutModel",
            "_view_count": null,
            "_view_module": "@jupyter-widgets/base",
            "_view_module_version": "1.2.0",
            "_view_name": "LayoutView",
            "align_content": null,
            "align_items": null,
            "align_self": null,
            "border": null,
            "bottom": null,
            "display": null,
            "flex": null,
            "flex_flow": null,
            "grid_area": null,
            "grid_auto_columns": null,
            "grid_auto_flow": null,
            "grid_auto_rows": null,
            "grid_column": null,
            "grid_gap": null,
            "grid_row": null,
            "grid_template_areas": null,
            "grid_template_columns": null,
            "grid_template_rows": null,
            "height": null,
            "justify_content": null,
            "justify_items": null,
            "left": null,
            "margin": null,
            "max_height": null,
            "max_width": null,
            "min_height": null,
            "min_width": null,
            "object_fit": null,
            "object_position": null,
            "order": null,
            "overflow": null,
            "overflow_x": null,
            "overflow_y": null,
            "padding": null,
            "right": null,
            "top": null,
            "visibility": null,
            "width": null
          }
        },
        "32024d2db8e747d4b00a1f86bdb5d8a1": {
          "model_module": "@jupyter-widgets/controls",
          "model_name": "DescriptionStyleModel",
          "model_module_version": "1.5.0",
          "state": {
            "_model_module": "@jupyter-widgets/controls",
            "_model_module_version": "1.5.0",
            "_model_name": "DescriptionStyleModel",
            "_view_count": null,
            "_view_module": "@jupyter-widgets/base",
            "_view_module_version": "1.2.0",
            "_view_name": "StyleView",
            "description_width": ""
          }
        },
        "442331669d0b4658810a561ef36b0200": {
          "model_module": "@jupyter-widgets/base",
          "model_name": "LayoutModel",
          "model_module_version": "1.2.0",
          "state": {
            "_model_module": "@jupyter-widgets/base",
            "_model_module_version": "1.2.0",
            "_model_name": "LayoutModel",
            "_view_count": null,
            "_view_module": "@jupyter-widgets/base",
            "_view_module_version": "1.2.0",
            "_view_name": "LayoutView",
            "align_content": null,
            "align_items": null,
            "align_self": null,
            "border": null,
            "bottom": null,
            "display": null,
            "flex": null,
            "flex_flow": null,
            "grid_area": null,
            "grid_auto_columns": null,
            "grid_auto_flow": null,
            "grid_auto_rows": null,
            "grid_column": null,
            "grid_gap": null,
            "grid_row": null,
            "grid_template_areas": null,
            "grid_template_columns": null,
            "grid_template_rows": null,
            "height": null,
            "justify_content": null,
            "justify_items": null,
            "left": null,
            "margin": null,
            "max_height": null,
            "max_width": null,
            "min_height": null,
            "min_width": null,
            "object_fit": null,
            "object_position": null,
            "order": null,
            "overflow": null,
            "overflow_x": null,
            "overflow_y": null,
            "padding": null,
            "right": null,
            "top": null,
            "visibility": null,
            "width": null
          }
        },
        "1d78d65b2b6f465a88ba35085e4582cf": {
          "model_module": "@jupyter-widgets/controls",
          "model_name": "ProgressStyleModel",
          "model_module_version": "1.5.0",
          "state": {
            "_model_module": "@jupyter-widgets/controls",
            "_model_module_version": "1.5.0",
            "_model_name": "ProgressStyleModel",
            "_view_count": null,
            "_view_module": "@jupyter-widgets/base",
            "_view_module_version": "1.2.0",
            "_view_name": "StyleView",
            "bar_color": null,
            "description_width": ""
          }
        },
        "e4eadb02f2bf4759af63c27916f6f1a2": {
          "model_module": "@jupyter-widgets/base",
          "model_name": "LayoutModel",
          "model_module_version": "1.2.0",
          "state": {
            "_model_module": "@jupyter-widgets/base",
            "_model_module_version": "1.2.0",
            "_model_name": "LayoutModel",
            "_view_count": null,
            "_view_module": "@jupyter-widgets/base",
            "_view_module_version": "1.2.0",
            "_view_name": "LayoutView",
            "align_content": null,
            "align_items": null,
            "align_self": null,
            "border": null,
            "bottom": null,
            "display": null,
            "flex": null,
            "flex_flow": null,
            "grid_area": null,
            "grid_auto_columns": null,
            "grid_auto_flow": null,
            "grid_auto_rows": null,
            "grid_column": null,
            "grid_gap": null,
            "grid_row": null,
            "grid_template_areas": null,
            "grid_template_columns": null,
            "grid_template_rows": null,
            "height": null,
            "justify_content": null,
            "justify_items": null,
            "left": null,
            "margin": null,
            "max_height": null,
            "max_width": null,
            "min_height": null,
            "min_width": null,
            "object_fit": null,
            "object_position": null,
            "order": null,
            "overflow": null,
            "overflow_x": null,
            "overflow_y": null,
            "padding": null,
            "right": null,
            "top": null,
            "visibility": null,
            "width": null
          }
        },
        "46651e06631846549df1a50087ccb584": {
          "model_module": "@jupyter-widgets/controls",
          "model_name": "DescriptionStyleModel",
          "model_module_version": "1.5.0",
          "state": {
            "_model_module": "@jupyter-widgets/controls",
            "_model_module_version": "1.5.0",
            "_model_name": "DescriptionStyleModel",
            "_view_count": null,
            "_view_module": "@jupyter-widgets/base",
            "_view_module_version": "1.2.0",
            "_view_name": "StyleView",
            "description_width": ""
          }
        }
      }
    }
  },
  "cells": [
    {
      "cell_type": "markdown",
      "metadata": {
        "id": "view-in-github",
        "colab_type": "text"
      },
      "source": [
        "<a href=\"https://colab.research.google.com/github/DavidSenseman/BIO1173/blob/main/Another_copy_of_Class_05_1.ipynb\" target=\"_parent\"><img src=\"https://colab.research.google.com/assets/colab-badge.svg\" alt=\"Open In Colab\"/></a>"
      ]
    },
    {
      "cell_type": "markdown",
      "metadata": {
        "id": "ZYZVwSpdbE3Y"
      },
      "source": [
        "---------------------------\n",
        "**COPYRIGHT NOTICE:** This Jupyterlab Notebook is a Derivative work of [Jeff Heaton](https://github.com/jeffheaton) licensed under the Apache License, Version 2.0 (the \"License\"); You may not use this file except in compliance with the License. You may obtain a copy of the License at\n",
        "\n",
        "> [http://www.apache.org/licenses/LICENSE-2.0](http://www.apache.org/licenses/LICENSE-2.0)\n",
        "\n",
        "Unless required by applicable law or agreed to in writing, software distributed under the License is distributed on an \"AS IS\" BASIS, WITHOUT WARRANTIES OR CONDITIONS OF ANY KIND, either express or implied. See the License for the specific language governing permissions and limitations under the License.\n",
        "\n",
        "------------------------"
      ]
    },
    {
      "cell_type": "markdown",
      "metadata": {
        "id": "ExN-OzpYbE3Y"
      },
      "source": [
        "# **BIO 1173: Intro Computational Biology**"
      ]
    },
    {
      "cell_type": "markdown",
      "metadata": {
        "id": "vt4imk1kbE3Y"
      },
      "source": [
        "##### **Module 5: Natural Language Processing**\n",
        "\n",
        "* Instructor: [David Senseman](mailto:David.Senseman@utsa.edu), [Department of Biology, Health and the Environment](https://sciences.utsa.edu/bhe/), [UTSA](https://www.utsa.edu/)\n",
        "\n",
        "### Module 4 Material\n",
        "\n",
        "* **Part 5.1: Introduction to Hugging Face**\n",
        "* Part 5.2: Hugging Face Tokenizers\n",
        "* Part 5.3: Hugging Face Datasets\n",
        "* Part 5.4: Training Hugging Face models"
      ]
    },
    {
      "cell_type": "markdown",
      "metadata": {
        "id": "V_-lPkxLbE3Z"
      },
      "source": [
        "## Google CoLab Instructions\n",
        "\n",
        "You MUST run the following code cell to get credit for this class lesson. By running this code cell, you will map your GDrive to /content/drive and print out your Google GMAIL address. Your Instructor will use your GMAIL address to verify the author of this class lesson."
      ]
    },
    {
      "cell_type": "code",
      "execution_count": 1,
      "metadata": {
        "id": "seXFCYH4LDUM",
        "scrolled": true,
        "colab": {
          "base_uri": "https://localhost:8080/"
        },
        "outputId": "d445e52a-36d0-4cda-beeb-4626e8822a7a"
      },
      "outputs": [
        {
          "output_type": "stream",
          "name": "stdout",
          "text": [
            "Mounted at /content/drive\n",
            "Note: Using Google CoLab\n",
            "david.senseman@gmail.com\n"
          ]
        }
      ],
      "source": [
        "# You must run this cell first\n",
        "try:\n",
        "    from google.colab import drive\n",
        "    drive.mount('/content/drive', force_remount=True)\n",
        "    from google.colab import auth\n",
        "    auth.authenticate_user()\n",
        "    COLAB = True\n",
        "    print(\"Note: Using Google CoLab\")\n",
        "    import requests\n",
        "    gcloud_token = !gcloud auth print-access-token\n",
        "    gcloud_tokeninfo = requests.get('https://www.googleapis.com/oauth2/v3/tokeninfo?access_token=' + gcloud_token[0]).json()\n",
        "    print(gcloud_tokeninfo['email'])\n",
        "except:\n",
        "    print(\"**WARNING**: Your GMAIL address was **not** printed in the output below.\")\n",
        "    print(\"**WARNING**: You will NOT receive credit for this lesson.\")\n",
        "    COLAB = False"
      ]
    },
    {
      "cell_type": "markdown",
      "source": [
        "You should see the following output except your GMAIL address should appear on the last line.\n",
        "\n",
        "![__](https://biologicslab.co/BIO1173/images/class_04/class_04_1_image01B.png)\n",
        "\n",
        "If your GMAIL address does not appear your lesson will **not** be graded."
      ],
      "metadata": {
        "id": "xG3_sXTDfyjA"
      }
    },
    {
      "cell_type": "markdown",
      "source": [
        "# **Introduction to Hugging Face**\n",
        "\n",
        "**Hugging Face** is a company renowned for its pioneering work in the realm of Natural Language Processing (NLP). Established in 2016, Hugging Face has become synonymous with making cutting-edge NLP technologies more accessible to developers, researchers, and organizations. The company's commitment to open-source development has fostered a vibrant community, which plays a pivotal role in the rapid advancements of the field.\n",
        "\n",
        "Central to Hugging Face's acclaim is the Transformers library. This Python library provides an extensive collection of pre-trained models that span a wide range of NLP tasks, from text classification and tokenization to language modeling and translation. Some of the most groundbreaking models like BERT, GPT-2, T5, and RoBERTa can be effortlessly accessed and deployed through this library.\n",
        "\n",
        "A notable feature of the Transformers library is its user-friendly API. With just a few lines of code, one can:\n",
        "\n",
        "* Load a pre-trained model.\n",
        "* Tokenize input text.\n",
        "* Obtain model predictions or embeddings.\n",
        "* Fine-tune the model on a specific task.\n",
        "\n",
        "This ease of use, combined with comprehensive documentation and tutorials, makes it an invaluable tool for both NLP newcomers and seasoned professionals.\n",
        "\n",
        "Another significant contribution from Hugging Face is the Model Hub, a platform where researchers and developers can share, discover, and use NLP models. The hub promotes collaboration, ensuring that state-of-the-art models are easily available to the wider community. It's not uncommon to see models from recent research papers promptly available on the hub, ready for real-world applications.\n",
        "\n",
        "Tokenization, the process of converting text into tokens, is a fundamental step in NLP. Recognizing its importance, Hugging Face introduced the Tokenizers library, which provides a fast and efficient way to tokenize massive datasets without compromising on accuracy. Its compatibility with the Transformers library ensures seamless integration between tokenization and modeling.\n",
        "\n",
        "Democratization of NLP: By making advanced models and tools accessible, Hugging Face has democratized NLP, enabling even small teams or individual developers to harness the power of state-of-the-art models.\n",
        "\n",
        "Rapid Prototyping: The ease with which one can deploy models means that ideas can be tested and iterated upon swiftly, accelerating the pace of NLP advancements.\n",
        "\n",
        "Community and Collaboration: The open-source ethos of Hugging Face has cultivated a community that collaborates, contributes, and ensures that the field remains vibrant and progressive.\n",
        "\n",
        "In the ever-evolving landscape of NLP, Hugging Face stands out as a beacon of innovation, accessibility, and collaboration. Whether you are a researcher pushing the boundaries of what's possible, a developer aiming to integrate NLP into an application, or an enthusiast eager to learn, Hugging Face provides the tools and resources to realize those ambitions. As we delve deeper into this book, we will frequently use the Hugging Face platform to illustrate concepts, implement solutions, and explore the vast possibilities of NLP.\n",
        "\n"
      ],
      "metadata": {
        "id": "wVWCWSJurbIC"
      }
    },
    {
      "cell_type": "markdown",
      "source": [
        "### **Using Python with Hugging Face**\n",
        "\n",
        "Transformers have become a mainstay of natural language processing. This module will examine the [Hugging Face](https://huggingface.co/) Python library for natural language processing, bringing together pretrained transformers, data sets, tokenizers, and other elements. Through the Hugging Face API, you can quickly begin using sentiment analysis, entity recognition, language translation, summarization, and text generation.\n",
        "\n",
        "Colab does not install Hugging face by default. Whether installing Hugging Face directly into a local computer or utilizing it through Colab, the following commands will install the library.\n",
        "\n",
        "Normally, when you use `pip` to install a package, a lot of information is printed out to show what subpackages were installed. We have prevented this by\n",
        "adding the text `> /dev/` after the `!pip install <package>`. Technically, this code `redirects` the standard output (in this case your Colab notebook) to a device called `null`. `/dev/null` is a special file that discards all data written to it. It is often used as a \"black hole\" for unwanted output or error messages, such as the output of commands that are meant to be silent or hidden.\n"
      ],
      "metadata": {
        "id": "5A4aEEHas1hu"
      }
    },
    {
      "cell_type": "markdown",
      "source": [
        "### Install Hugging Face Libraries\n",
        "\n",
        "Run the next code cell to install the Hugging Face libraries needed for this lesson."
      ],
      "metadata": {
        "id": "P4vC0d23ws-I"
      }
    },
    {
      "cell_type": "code",
      "source": [
        "# Install Hugging Face libraries\n",
        "\n",
        "!pip install transformers > /dev/null\n",
        "!pip install transformers[sentencepiece] > /dev/null"
      ],
      "metadata": {
        "id": "9nChFrxHrYsy"
      },
      "execution_count": 2,
      "outputs": []
    },
    {
      "cell_type": "markdown",
      "source": [
        "If the code is correct you should not see an output."
      ],
      "metadata": {
        "id": "10TTpU1dE-ch"
      }
    },
    {
      "cell_type": "markdown",
      "source": [
        "Now that we have Hugging Face installed, the following sections will demonstrate how to apply Hugging Face to a variety of everyday tasks. After this introduction, the remainder of this module will take a deeper look at several specific NLP tasks applied to Hugging Face."
      ],
      "metadata": {
        "id": "qBvhLL_JtBT9"
      }
    },
    {
      "cell_type": "markdown",
      "source": [
        "# **NLP Sentiment Analysis**\n",
        "\n",
        "**Sentiment analysis** is a subfield of natural language processing (NLP) that focuses on identifying and categorizing the emotional tone or sentiment of a piece of text, such as a review, a social media post, or an article. The task of sentiment analysis involves analyzing the words and phrases in a given text to determine whether they are positive, negative, or neutral in nature, and assigning a numerical score or label to the overall sentiment of the text.\n",
        "\n",
        "Sentiment analysis can be applied to various domains such as social media monitoring, customer feedback analysis, product review analysis, and advertising campaign evaluation. It can help organizations to identify trends and patterns in customer opinion, detect fake reviews, and optimize their marketing strategies by understanding the emotions of their target audience.\n",
        "\n",
        "### What is sentiment analysis?\n",
        "\n",
        "Sentiment analysis is a subfield of natural language processing (NLP) that focuses on identifying and categorizing the emotional tone or sentiment of a piece of text, such as a review, a social media post, or an article. The task of sentiment analysis involves analyzing the words and phrases in a given text to determine whether they are positive, negative, or neutral in nature, and assigning a numerical score or label to the overall sentiment of the text.\n",
        "\n",
        "Sentiment analysis can be applied to various domains such as social media monitoring, customer feedback analysis, product review analysis, and advertising campaign evaluation. It can help organizations to identify trends and patterns in customer opinion, detect fake reviews, and optimize their marketing strategies by understanding the emotions of their target audience.\n",
        "\n",
        "The process of sentiment analysis typically involves several steps, including:\n",
        "\n",
        "1. Text Preprocessing: This step involves cleaning and normalizing the text data to prepare it for analysis. This may include removing stop words, punctuation, and converting all text to lowercase.\n",
        "2. Tokenization: This step involves breaking down the text into smaller units called tokens, which can be individual words or phrases.\n",
        "3. Sentiment Detection: This step involves analyzing the sentiment of each token in the text using techniques such as machine learning, deep learning, or rule-based approaches.\n",
        "4. Aggregation: This step involves combining the sentiment scores of all tokens to obtain the overall sentiment score of the text.\n",
        "\n",
        "Sentiment analysis can be performed using various techniques such as:\n",
        "\n",
        "1. **Rule-Based Approach:** This approach involves defining a set of rules to classify words or phrases as positive, negative, or neutral based on their meanings and context.\n",
        "2. **Machine Learning:** This approach involves training a machine learning model on a dataset of labeled text to learn the patterns and relationships between words and sentiment.\n",
        "3. **Deep Learning:** This approach involves using deep neural networks to analyze the complex patterns in text data and learn the relationships between words, phrases, and sentiment.\n",
        "\n",
        "Sentiment analysis uses natural language processing, text analysis, computational linguistics, and biometrics to identify the tone of written text. Passages of written text can be into simple binary states of positive or negative tone. More advanced sentiment analysis might classify text into additional categories: sadness, joy, love, anger, fear, or surprise.\n"
      ],
      "metadata": {
        "id": "HYqyqMEWtFct"
      }
    },
    {
      "cell_type": "markdown",
      "source": [
        "### Example 1 - Step 1: Load Text for Sentiment Analyis\n",
        "\n",
        "To demonstrate sentiment analysis, we begin by loading Shakespeare's 18th sonnet:\n",
        "\n",
        "> Shall I compare thee to a summer's day?  \n",
        "> Thou art more lovely and more temperate:  \n",
        "> Rough winds do shake the darling buds of May,  \n",
        "> And summer's lease hath all too short a date:  \n",
        "> Sometime too hot the eye of heaven shines,  \n",
        "> And often is his gold complexion dimm'd;  \n",
        "> And every fair from fair sometimes declines,  \n",
        "> By chance or nature's changing course untrimm'd;  \n",
        "> But thy eternal summer shall not fade  \n",
        "> Nor lose possession of that fair thou owest;  \n",
        "> Nor shall Death brag thou wander'st in his shade,  \n",
        "> When in eternal lines to time thou growest.\n",
        "\n",
        "What do you think Shakespear's sentiment was when he wrote this sonnet? In particular, is Shakespear being **positive** or **negative**?\n",
        "\n",
        "Let's find out using **sentiment analysis**."
      ],
      "metadata": {
        "id": "Mm-Lhvv5Igr0"
      }
    },
    {
      "cell_type": "markdown",
      "source": [
        "In Step 1 we read the text file `sonnet_18.txt. from the course file server using the `urlopen()` command. The text is stored in a variable called `EG_text_1` (\"Example text 1\")."
      ],
      "metadata": {
        "id": "Tb1oZHikGgw8"
      }
    },
    {
      "cell_type": "code",
      "source": [
        "# Example 1 - Step 1: Load text\n",
        "\n",
        "from urllib.request import urlopen\n",
        "\n",
        "# Read sample text, a poem\n",
        "URL = \"https://biologicslab.co/BIO1173/data/sonnet_18.txt\"\n",
        "f = urlopen(URL)\n",
        "EG_text_1 = f.read().decode(\"utf-8\")\n",
        "\n",
        "# Print out text\n",
        "print(EG_text_1)"
      ],
      "metadata": {
        "id": "XcLwqoeWtLS0",
        "colab": {
          "base_uri": "https://localhost:8080/"
        },
        "outputId": "2c022c49-b574-46ec-ddb7-e05cc79f1599"
      },
      "execution_count": 3,
      "outputs": [
        {
          "output_type": "stream",
          "name": "stdout",
          "text": [
            "Shall I compare thee to a summer's day?\r\n",
            "Thou art more lovely and more temperate:\r\n",
            "Rough winds do shake the darling buds of May,\r\n",
            "And summer's lease hath all too short a date:\r\n",
            "Sometime too hot the eye of heaven shines,\r\n",
            "And often is his gold complexion dimm'd;\r\n",
            "And every fair from fair sometimes declines,\r\n",
            "By chance or nature's changing course untrimm'd;\r\n",
            "But thy eternal summer shall not fade\r\n",
            "Nor lose possession of that fair thou owest;\r\n",
            "Nor shall Death brag thou wander'st in his shade,\r\n",
            "When in eternal lines to time thou growest.\n"
          ]
        }
      ]
    },
    {
      "cell_type": "markdown",
      "source": [
        "If the code is correct your should see the following output\n",
        "\n",
        "![__](https://biologicslab.co/BIO1173/images/class_05/class_05_1_image01A.png)"
      ],
      "metadata": {
        "id": "5obxgSSN6NLZ"
      }
    },
    {
      "cell_type": "markdown",
      "source": [
        "Usually, you have to preprocess text into embeddings or other vector forms before presentation to a neural network. Hugging Face provides a pipeline that simplifies this process greatly. The pipeline allows you to pass regular Python strings to the transformers and return standard Python values.\n",
        "\n",
        "We begin by loading a text-classification model. We can specify which model to use, by passing the model parameter, such as:\n",
        "\n",
        "```\n",
        "pipe = pipeline(model=\"roberta-large-mnli\")\n",
        "```\n",
        "\n",
        "**RoBERTa-large-MNLI** is a fine-tuned version of the RoBERTa large model, which is a transformer-based language model developed by Facebook AI. RoBERTa itself is an optimized version of BERT (Bidirectional Encoder Representations from Transformers) and is trained on a large corpus of English text using a masked language modeling (MLM) objective.\n",
        "\n",
        "The code in Example 1 - Step 2 loads a model pipeline and a model for sentiment analysis.\n",
        "\n"
      ],
      "metadata": {
        "id": "mah5UesgtQRM"
      }
    },
    {
      "cell_type": "markdown",
      "source": [
        "### Example 1 - Step 2: Load Model Pipeline\n",
        "\n",
        "This code in the cell below uses the `transformers library` to create a pipeline for natural language inference (NLI) tasks. The pipeline function takes a model name as an argument, which in this case is \"roberta-large-mnli\". This specific model is a variant of the `RoBERTa model` that has been pre-trained on a large dataset of text and can perform NLI tasks such as question answering or natural language inference.\n",
        "\n",
        "The pipeline function returns an instance of a Pipeline class from the transformers library, which is a high-level API for interacting with NLP models. The returned pipeline object has methods for various NLI tasks such as question answering, natural language inference, and text classification.\n",
        "\n",
        "In this specific case, the code is creating a pipeline for natural language inference tasks using the \"roberta-large-mnli\" model. This means that it can be used to perform NLI tasks such as determining the meaning of a sentence or question given some context. The Pipeline object returned by the pipeline function will have methods for performing these tasks, such as predict and score, which can be used to make predictions on new input data and evaluate the performance of the model."
      ],
      "metadata": {
        "id": "yK4WlOW8JWSB"
      }
    },
    {
      "cell_type": "code",
      "source": [
        "# Example 1 - Step 2: Load model pipeline\n",
        "\n",
        "import pandas as pd\n",
        "from transformers import pipeline\n",
        "\n",
        "# Specify the model for the pipeline\n",
        "model_name = \"roberta-large-mnli\"\n",
        "\n",
        "# Create classification pipeline\n",
        "classifier = pipeline(\"text-classification\", model=model_name)\n",
        "\n",
        "# Verify the pipeline\n",
        "print(classifier)\n"
      ],
      "metadata": {
        "id": "-Jo1e4QX-w3u",
        "colab": {
          "base_uri": "https://localhost:8080/",
          "height": 420,
          "referenced_widgets": [
            "1d6b6c8a1e544fcda9dd8a04b028c90d",
            "4e0d86a8e6004ad6a627aa2d003e01f6",
            "dd07a74226ee469e9b58593ccd731a70",
            "50bf619659c346a690fc3e78848c6548",
            "4ffc4493fd834c6b9465bf93f676e5ff",
            "f7bbd63432f14ae2867d5a50a0f1bce5",
            "7455a87acb2f4efbb25a5ae1d5164935",
            "a7ff13a3616440598f3a8c5b0962dd58",
            "48a9bc280884475cb387721444b95c07",
            "b1a90cca9f2341ad87281d3b7d73810a",
            "f35acbf6277144bd85f83855c2f7f883",
            "bcd9dbed43a84e5987ad415df2cefe1d",
            "0c6e6af1cdcb4c27bfb4ef53d6775c0a",
            "f039db89c49d44fa87c641f1787fb1b3",
            "a39e2672426d4e81bd7b8376f9057f54",
            "e1980b37360f4554ae330c1909a59e39",
            "67798aace6c541b699f00287a98c4430",
            "e6a4fec39b2246c9a42289af155b00ba",
            "c30b55cd12d44501b296fc7357bd84f8",
            "f481fd5783fe4c46b448fce2d5981cb7",
            "06a8fdbe2ae946e69f2ff842f691b378",
            "026e1c0ecf884cb49af46a65296eb1e8",
            "9ad5e891339c4b5eab3b14075cc62c5e",
            "0464152616e44c9c821bf64b4cc93e46",
            "326999c01f6844c6a91c5af49bcb859a",
            "b22523ef354e4a5a82c593897a0ece0b",
            "4331dea0f7c7427798cfdceb933f1e66",
            "19e512a65b964f50a96d4e9dee820228",
            "e847a4cbe4314a0db6a4004c516e2b2f",
            "c67b33d9e2fd4339a414478bf7ab9036",
            "d13a001729d24c19b78fe6bf4670533b",
            "63086562587549289a624e562d59a26c",
            "78b1eb9ac50f4ed18b34e2d5a90f15ce",
            "b0e9cd607ab342ba801c6b29593e0577",
            "22baac52f9914b7c9c720800913d1f02",
            "fb64df4ad62f475c9295357ba699a13b",
            "482eff70ba9c4d69b49d547587f1128c",
            "33101f4b6f1e48f0acc13ebb59d3060d",
            "4c3272b6aa9e48ddb42a2d258940e071",
            "a133bd3f82724b4e8ba979893e32ce52",
            "99ea7acb4a794e08a6671c84b56a3f63",
            "4025b9985b9f4e1bb0d6db88a09ab501",
            "39ec2f90c6bc418ebda8148541ad3748",
            "849327faf938410bb2f07486de1da981",
            "86212057cfdf47219d9eb90fe6b7a538",
            "56f8bfe2f81c482783538cc2a1f913fd",
            "a25a343c0aaa48dc954f77c1f1f88f01",
            "19d09c7d738b44a69a5104aa69aff2b6",
            "9a94a8a73ab542dbb8976815125d212f",
            "20d570dc8451453bba4aab8fb14ae8e3",
            "583a3d49c573426ca992757475698e44",
            "c310e5aa9d854631b0af672c99104ada",
            "93bd2c96982b4da1b6f3dcc52dd9378a",
            "4f0cbc138ce146098d3c97365d11ead9",
            "7a9193abef324ac29442559519c3a56f",
            "6cdf77013fd5484c80579a34f2bdeda2",
            "a2044587345c4c01a0f8d81c87f13b9f",
            "2153779152f945028d3166759b2b5d8a",
            "b2ee057c994c49f7b249dbd687fac742",
            "dfd5d4f360d14e44b4df7d865fc389be",
            "0294c5196d5e48da833b190a838b9512",
            "32024d2db8e747d4b00a1f86bdb5d8a1",
            "442331669d0b4658810a561ef36b0200",
            "1d78d65b2b6f465a88ba35085e4582cf",
            "e4eadb02f2bf4759af63c27916f6f1a2",
            "46651e06631846549df1a50087ccb584"
          ]
        },
        "outputId": "fe6d4b3a-b603-4075-e856-1349c2b4d662"
      },
      "execution_count": 4,
      "outputs": [
        {
          "output_type": "stream",
          "name": "stderr",
          "text": [
            "/usr/local/lib/python3.11/dist-packages/huggingface_hub/utils/_auth.py:94: UserWarning: \n",
            "The secret `HF_TOKEN` does not exist in your Colab secrets.\n",
            "To authenticate with the Hugging Face Hub, create a token in your settings tab (https://huggingface.co/settings/tokens), set it as secret in your Google Colab and restart your session.\n",
            "You will be able to reuse this secret in all of your notebooks.\n",
            "Please note that authentication is recommended but still optional to access public models or datasets.\n",
            "  warnings.warn(\n"
          ]
        },
        {
          "output_type": "display_data",
          "data": {
            "text/plain": [
              "config.json:   0%|          | 0.00/688 [00:00<?, ?B/s]"
            ],
            "application/vnd.jupyter.widget-view+json": {
              "version_major": 2,
              "version_minor": 0,
              "model_id": "1d6b6c8a1e544fcda9dd8a04b028c90d"
            }
          },
          "metadata": {}
        },
        {
          "output_type": "display_data",
          "data": {
            "text/plain": [
              "model.safetensors:   0%|          | 0.00/1.43G [00:00<?, ?B/s]"
            ],
            "application/vnd.jupyter.widget-view+json": {
              "version_major": 2,
              "version_minor": 0,
              "model_id": "bcd9dbed43a84e5987ad415df2cefe1d"
            }
          },
          "metadata": {}
        },
        {
          "output_type": "stream",
          "name": "stderr",
          "text": [
            "Some weights of the model checkpoint at roberta-large-mnli were not used when initializing RobertaForSequenceClassification: ['roberta.pooler.dense.bias', 'roberta.pooler.dense.weight']\n",
            "- This IS expected if you are initializing RobertaForSequenceClassification from the checkpoint of a model trained on another task or with another architecture (e.g. initializing a BertForSequenceClassification model from a BertForPreTraining model).\n",
            "- This IS NOT expected if you are initializing RobertaForSequenceClassification from the checkpoint of a model that you expect to be exactly identical (initializing a BertForSequenceClassification model from a BertForSequenceClassification model).\n"
          ]
        },
        {
          "output_type": "display_data",
          "data": {
            "text/plain": [
              "tokenizer_config.json:   0%|          | 0.00/25.0 [00:00<?, ?B/s]"
            ],
            "application/vnd.jupyter.widget-view+json": {
              "version_major": 2,
              "version_minor": 0,
              "model_id": "9ad5e891339c4b5eab3b14075cc62c5e"
            }
          },
          "metadata": {}
        },
        {
          "output_type": "display_data",
          "data": {
            "text/plain": [
              "vocab.json:   0%|          | 0.00/899k [00:00<?, ?B/s]"
            ],
            "application/vnd.jupyter.widget-view+json": {
              "version_major": 2,
              "version_minor": 0,
              "model_id": "b0e9cd607ab342ba801c6b29593e0577"
            }
          },
          "metadata": {}
        },
        {
          "output_type": "display_data",
          "data": {
            "text/plain": [
              "merges.txt:   0%|          | 0.00/456k [00:00<?, ?B/s]"
            ],
            "application/vnd.jupyter.widget-view+json": {
              "version_major": 2,
              "version_minor": 0,
              "model_id": "86212057cfdf47219d9eb90fe6b7a538"
            }
          },
          "metadata": {}
        },
        {
          "output_type": "display_data",
          "data": {
            "text/plain": [
              "tokenizer.json:   0%|          | 0.00/1.36M [00:00<?, ?B/s]"
            ],
            "application/vnd.jupyter.widget-view+json": {
              "version_major": 2,
              "version_minor": 0,
              "model_id": "6cdf77013fd5484c80579a34f2bdeda2"
            }
          },
          "metadata": {}
        },
        {
          "output_type": "stream",
          "name": "stderr",
          "text": [
            "Device set to use cuda:0\n"
          ]
        },
        {
          "output_type": "stream",
          "name": "stdout",
          "text": [
            "<transformers.pipelines.text_classification.TextClassificationPipeline object at 0x7c4f79d0a3d0>\n"
          ]
        }
      ]
    },
    {
      "cell_type": "markdown",
      "source": [
        "If the code is correct you should see something similar to the following output:\n",
        "\n",
        "![___](https://biologicslab.co/BIO1173/images/class_05/class_05_1_image03A.png)"
      ],
      "metadata": {
        "id": "TZXVtJNBJrK6"
      }
    },
    {
      "cell_type": "markdown",
      "source": [
        "We can now display the sentiment analysis results with a Pandas dataframe.\n"
      ],
      "metadata": {
        "id": "KSs2hJvjtax8"
      }
    },
    {
      "cell_type": "markdown",
      "source": [
        "### Example 1 - Step 3: Run Sentiment Analysis on Text\n",
        "\n",
        "We can now display the sentiment analysis results with a Pandas dataframe."
      ],
      "metadata": {
        "id": "gpzyqVCYLZni"
      }
    },
    {
      "cell_type": "code",
      "source": [
        "# Example 1 - Step 3: Run sentiment analysis on text\n",
        "\n",
        "# Create variable to hold sentiment analysis\n",
        "sentiment_outputs = classifier(EG_text_1)\n",
        "\n",
        "# Display output in a Pandas DataFrame\n",
        "pd.DataFrame(sentiment_outputs)\n"
      ],
      "metadata": {
        "id": "iKQqnKlxtcNU"
      },
      "execution_count": null,
      "outputs": []
    },
    {
      "cell_type": "markdown",
      "source": [
        "If the code is correct you should see something similar to the following output:\n",
        "\n",
        "![___](https://biologicslab.co/BIO1173/images/class_05/class_05_1_image03F.png)"
      ],
      "metadata": {
        "id": "MDNJJ40MR4Qk"
      }
    },
    {
      "cell_type": "markdown",
      "source": [
        "As you can see, our sentiment analysis considered the tone of Sonnet 18 as being `NEUTRAL` with a `score` of 0.68.\n",
        "\n",
        "Shakespeare's Sonnet 18 is generally considered to have positive and admiring sentiment. The sonnet praises the subject, comparing them to a summer's day and highlighting their eternal beauty and the impermanence of natural beauty.\n",
        "\n",
        "So why did we get only a `NEUTRAL` rating?\n",
        "\n",
        "Sentiment analysis models like **`RoBERTa-large-MNLI`** work by analyzing the text and classifying it based on the presence of positive, negative, or neutral sentiments. Shakespeare's `Sonnet 18` (\"Shall I compare thee to a summer's day?\") is a complex and nuanced piece of literature, which can make it challenging for an AI model to accurately classify its sentiment.\n",
        "\n",
        "Several factors could have contributed to the neutral sentiment classification:\n",
        "\n",
        "1. **Language and Style:** Shakespeare's language and poetic style are intricate, with a mix of positive imagery and more neutral or descriptive language. This complexity might have led the model to classify the overall sentiment as neutral.\n",
        "\n",
        "2. **Ambiguity:** The sonnet contains elements of praise and admiration, but it also discusses the transience of beauty and the passage of time, which might have contributed to a more balanced or neutral sentiment score.\n",
        "\n",
        "3. **Contextual Understanding:** AI models might struggle with understanding the full context and emotional depth of the text. They might miss subtleties that human readers would easily pick up on.\n",
        "\n",
        "The `0.6795 score` indicates that the model is fairly confident in its neutral classification, but it doesn't mean the text lacks positive sentiment. It just means that the model detected a more balanced mix of sentiments overall."
      ],
      "metadata": {
        "id": "O9fRS1Dltjpj"
      }
    },
    {
      "cell_type": "markdown",
      "source": [
        "### **Exercise 1 - Step 1: Load Text for Sentiment Analyis**\n",
        "\n",
        "For **Exercise 1**, use Shakespear's Sonnet 66.\n",
        "\n",
        "**Sonnet 66**\n",
        "\n",
        "> Tired with all these, for restful death I cry:  \n",
        "> As, to behold desert a beggar born,  \n",
        "> And needy nothing trimmed in jollity,  \n",
        "> And purest faith unhappily forsworn,  \n",
        "> And gilded honor shamefully misplaced,  \n",
        "> And maiden virtue rudely strumpeted,  \n",
        "> And right perfection wrongfully disgraced,  \n",
        "> And strength by limping sway disablèd,  \n",
        "> And art made tongue-tied by authority,  \n",
        "> And folly, doctor-like, controlling skill,   \n",
        "> And simple truth miscalled simplicity,  \n",
        "> And captive good attending captain ill.  \n",
        ">   Tired with all these, from these would I be gone,  \n",
        ">   Save that, to die, I leave my love alone.  \n",
        "\n",
        "\n",
        "Here is the `URL` to download this poem:\n",
        "\n",
        "```text\n",
        "URL = \"https://biologicslab.co/BIO1173/data/sonnet_66.txt\"\n",
        "```\n",
        "\n",
        "Call your text **`EX_text_1`** and print out `EX_test_1` at the end of the code cell.\n"
      ],
      "metadata": {
        "id": "Lx3GWspDz-FM"
      }
    },
    {
      "cell_type": "code",
      "source": [
        "# Insert your code for Exercise 1 - Step 1 here\n"
      ],
      "metadata": {
        "id": "WnFCZoeEz-FM"
      },
      "execution_count": null,
      "outputs": []
    },
    {
      "cell_type": "markdown",
      "source": [
        "If the code is correct your should see the following output\n",
        "\n",
        "![__](https://biologicslab.co/BIO1173/images/class_05/class_05_1_image02A.png)"
      ],
      "metadata": {
        "id": "j-e53kar6_0e"
      }
    },
    {
      "cell_type": "markdown",
      "source": [
        "### **Exercise 1 - Step 2: Load Model Pipeline**\n",
        "\n",
        "In the cell below create the pipeline for your sentiment analysis. You can reuse the code in Example 1 - Step 2 with the following modification. Instead of using the `\"roberta-large-mnli\"` model, change your model to the following:\n",
        "\n",
        "```text\n",
        "\"distilbert-base-uncased-finetuned-sst-2-english\"\n",
        "```\n",
        "\n",
        "The **`distilbert-base-uncased-finetuned-sst-2-english`** model is a lightweight, 66 M‑parameter transformer that was distilled from BERT‑base and fine‑tuned on the Stanford Sentiment Treebank (SST‑2) for binary sentiment classification. Using an uncased WordPiece tokenizer and a 512‑token limit, the model maps input text to a pair of logits (positive/negative) through a simple linear head on the [CLS] token; applying a softmax gives the sentiment probability. It achieves roughly 93 % accuracy on SST‑2, matching full BERT‑base while running about twice as fast and using half the memory, making it ideal for quick sentiment inference on English text in production settings."
      ],
      "metadata": {
        "id": "mhpsgipYz-FM"
      }
    },
    {
      "cell_type": "code",
      "source": [
        "# Insert your code for Exercise 1 - Step 2 here\n",
        "\n"
      ],
      "metadata": {
        "id": "MlGTY7_A_PAN"
      },
      "execution_count": null,
      "outputs": []
    },
    {
      "cell_type": "markdown",
      "source": [
        "If the code is correct you should see something similar to the following output:\n",
        "\n",
        "![___](https://biologicslab.co/BIO1173/images/class_05/class_05_1_image02F.png)"
      ],
      "metadata": {
        "id": "JIPcEWZeQleg"
      }
    },
    {
      "cell_type": "markdown",
      "source": [
        "### **Exercise 1 - Step 3: Run Sentiment Analysis on Text**\n",
        "\n",
        "In the cell below write the code to run and display the sentiment analysis on your **`EX_text_1`**."
      ],
      "metadata": {
        "id": "5o9W8dU2z-FN"
      }
    },
    {
      "cell_type": "code",
      "source": [
        "# Insert your code for Exercise 1 - Step 3 here\n"
      ],
      "metadata": {
        "id": "a_TMdprsz-FN"
      },
      "execution_count": null,
      "outputs": []
    },
    {
      "cell_type": "markdown",
      "source": [
        "If the code is correct you should see something similar to the following output:\n",
        "\n",
        "![___](https://biologicslab.co/BIO1173/images/class_05/class_05_1_image04F.png)"
      ],
      "metadata": {
        "id": "stcQ0NbtVAeb"
      }
    },
    {
      "cell_type": "markdown",
      "source": [
        "Shakespeare's Sonnet 66 indeed carries a much darker tone compared to Sonnet 18. Here are a few reasons why the sentiment analysis model might have given it a strong negative sentiment classification:\n",
        "\n",
        "1. **Tone and Themes:** Sonnet 66 delves into themes of despair, disillusionment, and a profound sense of weariness with the world's injustices. The recurring motifs of frustration and longing for rest likely contributed significantly to the negative sentiment score.\n",
        "\n",
        "2. **Language and Imagery:** The sonnet is filled with negative imagery and phrases expressing dissatisfaction and lamentation. Such language naturally skews towards a negative sentiment classification by the model.\n",
        "\n",
        "3. **Emotional Weight:** The emotional heaviness and the poet’s voice reflecting societal corruption and personal sorrow might resonate strongly with the AI model’s parameters for negative sentiment.\n",
        "\n",
        "The score of `0.995` indicates an almost complete certainty by the model that the sentiment is negative, which aligns well with the sonnet’s content and tone."
      ],
      "metadata": {
        "id": "59yGe0_gzrlt"
      }
    },
    {
      "cell_type": "markdown",
      "source": [
        "## **NLP Entity Tagging**\n",
        "\n",
        "**Entity tagging**, also known as named entity recognition (NER), is a process in natural language processing (NLP) where entities such as names of people, organizations, locations, dates, and other specific items are identified and classified within a text. Here’s how it works:\n",
        "\n",
        "1. **Identification:** The model scans the text to find mentions of entities. For example, in the sentence \"Microsoft was founded by Bill Gates in 1975,\" the entities are \"Microsoft,\" \"Bill Gates,\" and \"1975.\"\n",
        "\n",
        "2. **Classification:** Once identified, the entities are classified into predefined categories, such as:\n",
        "\n",
        "- **Person:** Names of individuals (e.g., \"Bill Gates\")\n",
        "\n",
        "- **Organization:** Names of companies, institutions, etc. (e.g., \"Microsoft\")\n",
        "\n",
        "- **Location:** Names of places (e.g., \"Seattle\")\n",
        "\n",
        "- **Date/Time:** Specific dates or times (e.g., \"1975\")\n",
        "\n",
        "- **Others:** Such as events, quantities, monetary values, etc.\n",
        "\n",
        "Entity tagging is widely used in various applications like information extraction, search engines, and enhancing the accuracy of machine translation. It helps in structuring unstructured text data, making it easier to analyze and extract meaningful insights.\n",
        "\n",
        "Entity tagging is the process that takes source text and finds parts of that text that represent entities, such as one of the following:\n",
        "\n",
        "* Location (LOC)\n",
        "* Organizations (ORG)\n",
        "* Person (PER)\n",
        "* Miscellaneous (MISC)\n",
        "\n",
        "The code in Example 2 requests a \"named entity recognizer\" (ner) and processes the specified text."
      ],
      "metadata": {
        "id": "8sUPYLZktncz"
      }
    },
    {
      "cell_type": "markdown",
      "source": [
        "### Example 2 - Step 1: Entity Tagging\n",
        "\n",
        "The code in the cell below creates a variable, `EG_text_2` with the name of a famous molecular biologist, `James Watson` in the United States."
      ],
      "metadata": {
        "id": "8xs1j0xLZjV6"
      }
    },
    {
      "cell_type": "code",
      "source": [
        "# Example 2 - Step 1: Entity tagging\n",
        "\n",
        "# Specify text\n",
        "EG_text_2 = \"James Watson was a molecular biologist who lived in the United States.\"\n",
        "\n",
        "# Create one pipeline instance for each task\n",
        "classifier = pipeline(\"text-classification\", model=\"roberta-large-mnli\")\n",
        "ner_tagger   = pipeline(\"ner\", model=\"dslim/bert-base-NER\", aggregation_strategy=\"simple\")\n",
        "\n",
        "# Classification\n",
        "print(classifier(EG_text_2))     # MNLI style entailment / contradiction / neutral\n",
        "\n",
        "# NER\n",
        "print(ner_tagger(EG_text_2))\n"
      ],
      "metadata": {
        "id": "ANvzEcwp-Lot"
      },
      "execution_count": null,
      "outputs": []
    },
    {
      "cell_type": "markdown",
      "source": [
        "If the code is correct you should see something similar to the following output:\n",
        "\n",
        "![___](https://biologicslab.co/BIO1173/images/class_05/class_05_1_image03A.png)"
      ],
      "metadata": {
        "id": "y6Rupj35XQi1"
      }
    },
    {
      "cell_type": "markdown",
      "source": [
        "### Example 2 - Step 2: Review the Results\n",
        "\n",
        "The code in the next cell let us view the results stored in the `Pandas` DataFrame.  As you can see in the output, the person (`PER`) is `James Watson` and the location (`LOC`) is the `United States`."
      ],
      "metadata": {
        "id": "mPxC6XUets6a"
      }
    },
    {
      "cell_type": "code",
      "source": [
        "# Example 2 - Step 2: Review results\n",
        "\n",
        "# Define outputs\n",
        "outputs = ner_tagger(EG_text_2)\n",
        "\n",
        "# Display Output DataFrame\n",
        "pd.DataFrame(outputs)\n"
      ],
      "metadata": {
        "id": "WjCl_Ak2twgC"
      },
      "execution_count": null,
      "outputs": []
    },
    {
      "cell_type": "markdown",
      "source": [
        "If the code is correct you should see something similar to the following output:\n",
        "\n",
        "![___](https://biologicslab.co/BIO1173/images/class_05/class_05_1_image06F.png)"
      ],
      "metadata": {
        "id": "pxspeNp4YEZ6"
      }
    },
    {
      "cell_type": "markdown",
      "source": [
        "Your entity tagging pipeline has successfully identified and classified \"James Watson\" as a person and \"United States\" as a location with very high confidence."
      ],
      "metadata": {
        "id": "ddJJCnyuZbm7"
      }
    },
    {
      "cell_type": "markdown",
      "source": [
        "### **Exercise 2 - Step 1: Entity Tagging**\n",
        "\n",
        "In the cell below create a variable, `EG_text3` with the name of another famous molecular biologist, `Francis Crick` in the `United Kingdom`."
      ],
      "metadata": {
        "id": "bYxKAJB9aGAc"
      }
    },
    {
      "cell_type": "code",
      "source": [
        "# Insert your code for Exercise 2 - Step 1 here\n",
        "\n"
      ],
      "metadata": {
        "id": "3Ao9ttxkaGAd"
      },
      "execution_count": null,
      "outputs": []
    },
    {
      "cell_type": "markdown",
      "source": [
        "If the code is correct you should see something similar to the following output:\n",
        "\n",
        "![___](https://biologicslab.co/BIO1173/images/class_05/class_05_1_image05A.png)"
      ],
      "metadata": {
        "id": "nF-xVBgoaGAd"
      }
    },
    {
      "cell_type": "markdown",
      "source": [
        "### **Exercise 2 - Step 2: Review the Results**\n",
        "\n",
        "In the cell below write the code to define and review the results of your **`EX_text_2`**."
      ],
      "metadata": {
        "id": "_2C0y73aaGAd"
      }
    },
    {
      "cell_type": "code",
      "source": [
        "# Insert your code for Exercise 2 - Step 2: here\n",
        "\n"
      ],
      "metadata": {
        "id": "wCBjXGXdaGAd"
      },
      "execution_count": null,
      "outputs": []
    },
    {
      "cell_type": "markdown",
      "source": [
        "If the code is correct you should see something similar to the following output:\n",
        "\n",
        "![___](https://biologicslab.co/BIO1173/images/class_05/class_05_1_image06A.png)"
      ],
      "metadata": {
        "id": "WOkmwOTYaGAd"
      }
    },
    {
      "cell_type": "markdown",
      "source": [
        "Your entity tagging pipeline has successfully identified and classified \"Francis Crick\" as a person and \"United Kingdom\" as a location with very high confidence."
      ],
      "metadata": {
        "id": "U8uPVF8CaGAd"
      }
    },
    {
      "cell_type": "markdown",
      "source": [
        "## **NLP Question Answering**\n",
        "\n",
        "**Question Answering (QA)** is a powerful NLP task that involves providing precise answers to questions based on a given reference text. This capability is incredibly useful in various applications, such as information retrieval, and educational tools.\n",
        "\n",
        "Here's a quick rundown of how QA works:\n",
        "\n",
        "1. **Reference Text:** A passage or document from which the answer can be extracted.\n",
        "\n",
        "2. **Question:** A specific query related to the reference text.\n",
        "\n",
        "3. **Answer Extraction:** The NLP model processes the reference text to find the exact segment that answers the question.\n",
        "\n",
        "#### **Use Cases for a Computational Biologist**\n",
        "\n",
        "For a computational biologist, “QA analysis” usually refers to **question‑answering** systems that can interrogate large biological data sets, literature corpora, and simulation outputs.  Below are practical ways the technology can be applied in a research or industrial setting.\n",
        "\n",
        "| Use Case | What the QA system does | Typical inputs | Typical outputs | Why it matters |\n",
        "|----------|------------------------|----------------|-----------------|----------------|\n",
        "| **Literature mining & summarization** | Reads PubMed, bioRxiv, and review articles to answer specific biological questions (e.g., “Which genes are co‑expressed with *TP53* in breast cancer?”). | Natural‑language query + optional PMID set | Short answer, evidence sentences, citation list | Speeds up hypothesis generation and keeps investigators up‑to‑date. |\n",
        "| **Protocol & pipeline verification** | Checks whether computational workflows (e.g., variant‑calling pipelines) meet best‑practice standards or regulatory requirements. | Pipeline description, code, test logs | Pass/fail verdict, compliance report | Helps avoid costly downstream errors and accelerates reproducibility. |\n",
        "| **Clinical data interrogation** | Answers clinical questions from electronic health records or multi‑omics datasets (“What is the probability that a patient with X mutation will respond to drug Y?”). | Structured patient data, genomic profiles | Risk score, confidence interval, relevant literature | Supports precision‑medicine decisions. |\n",
        "| **Drug‑target & repurposing discovery** | Queries databases (DrugBank, ChEMBL) to find potential new targets or off‑target effects. | Chemical structure or name, target protein | List of candidate targets, predicted affinity scores | Narrows experimental screening lists. |\n",
        "| **Ontology & annotation assistance** | Maps free‑text notes or sequence motifs to controlled vocabularies (GO, MeSH). | Raw text, protein FASTA | Curated annotations, suggested terms | Improves data standardization for downstream analysis. |\n",
        "| **Model validation & debugging** | Interrogates machine‑learning models to expose decision pathways (“Why did the model predict a splice‑site mutation is benign?”). | Model, input features, intermediate activations | Explanatory text, feature importance, counter‑factuals | Enhances trust and aids model refinement. |\n",
        "| **Educational & training support** | Answers students’ queries during bioinformatics courses (e.g., “Explain the difference between UTRs and introns”). | Student question | Concise, citation‑backed answer | Lowers the learning curve for new trainees. |\n",
        "\n",
        "#### **How it typically works**\n",
        "1. **Indexing** – Textual resources (papers, databases, logs) are pre‑processed and stored in a vector‑search index.  \n",
        "2. **Query processing** – The user’s natural‑language question is encoded into a vector and matched against the index.  \n",
        "3. **Answer generation** – The system extracts the most relevant passages, optionally runs a language‑model head to paraphrase or synthesize an answer, and tags the answer with evidence citations.  \n",
        "4. **Human‑in‑the‑loop** – Domain experts review the answer; feedback is fed back into the model for continual improvement.\n",
        "\n",
        "By integrating QA analysis into the computational biology workflow, researchers can dramatically reduce the time spent on literature reviews, data curation, and pipeline troubleshooting, allowing more focus on discovery and hypothesis testing.\n"
      ],
      "metadata": {
        "id": "d5rdGwmvt04K"
      }
    },
    {
      "cell_type": "markdown",
      "source": [
        "### Build QA Pipeline\n",
        "\n",
        "The code in the cell below builds a **Questioning Answering (QA)** pipeline."
      ],
      "metadata": {
        "id": "QghFY-IXLuIN"
      }
    },
    {
      "cell_type": "code",
      "source": [
        "# Build pipeline\n",
        "\n",
        "from transformers import pipeline\n",
        "\n",
        "# Build the question‑answering pipeline (GPU is auto‑selected if available)\n",
        "qa_pipe = pipeline(\n",
        "    task=\"question-answering\",\n",
        "    model=\"distilbert-base-uncased-distilled-squad\",  # any QA‑ready model works\n",
        ")\n",
        "\n",
        "print(\" QA pipeline is ready!\")\n"
      ],
      "metadata": {
        "id": "r6cIl19QLu0V"
      },
      "execution_count": null,
      "outputs": []
    },
    {
      "cell_type": "markdown",
      "source": [
        "If the code is correct you should see the following output:\n",
        "\n",
        "![___](https://biologicslab.co/BIO1173/images/class_05/class_05_1_image15A.png)"
      ],
      "metadata": {
        "id": "bb2PCSKy5A3Y"
      }
    },
    {
      "cell_type": "markdown",
      "source": [
        "### Example 3: Generate QA Result\n",
        "\n",
        "The code in the cell below uses our `QA Pipeline` to ask the question\n",
        "\n",
        "```text\n",
        "\"what shall fade\"\n",
        "```\n",
        "The `context` of this question is Shakespear's `Sonnet 18` stored in `EG_text_1` that we created above in `Example 1`."
      ],
      "metadata": {
        "id": "Xz5wnIkW0iod"
      }
    },
    {
      "cell_type": "code",
      "source": [
        "# Example 3: Generate QA result\n",
        "\n",
        "# Define the context and the question you want answered\n",
        "context = EG_text_1  # Sonnet 18 from Example 1\n",
        "\n",
        "# Define the question\n",
        "question = \"what shall fade\"\n",
        "\n",
        "# Run the QA model\n",
        "result = qa_pipe(question=question, context=context)\n",
        "\n",
        "# Pretty‑print the answer\n",
        "print(f\"Question: {question}\")\n",
        "print(f\"Answer  : {result['answer']}\")\n",
        "print(f\"Score   : {result['score']:.4f}\")\n",
        "print(f\"Start   : {result['start']}  End: {result['end']}\")\n"
      ],
      "metadata": {
        "id": "d6ofbDKO0jQW"
      },
      "execution_count": null,
      "outputs": []
    },
    {
      "cell_type": "markdown",
      "source": [
        "If the code is correct you should see the following output:\n",
        "\n",
        "![___](https://biologicslab.co/BIO1173/images/class_05/class_05_1_image16A.png)\n",
        "\n",
        "With a `Score = 0.38`, `Hugging Face` is not especially confident that `external summer` is the correct answer to the question `what will fade`."
      ],
      "metadata": {
        "id": "b8H3VTUx3paM"
      }
    },
    {
      "cell_type": "markdown",
      "source": [
        "### **Exercise 3: Generate QA Result**\n",
        "\n",
        "The following is a famous quotation by the molecular geneticist James Watson as the forward to _Discovering the Brain_ by Sandra Ackerman.\n",
        "\n",
        "```type\n",
        "\"The brain is the last and grandest biological frontier,\"\n",
        "\"the most complex thing we have yet discovered in our universe.\"\n",
        "\"It contains hundreds of billions of cells interlinked through \"\n",
        "\"trillions of connections. The brain boggles the mind.\"\n",
        "```\n",
        "\n",
        "For **Exercise 3** you are to use Watson's quote as the `context`. The easiest way to do this is to `copy-and-paste` the quotation into space between the two parantheses as follows:\n",
        "\n",
        "```text\n",
        "Watson_quotation = (\n",
        "\"The brain is the last and grandest biological frontier,\"\n",
        "\"the most complex thing we have yet discovered in our universe.\"\n",
        "\"It contains hundreds of billions of cells interlinked through \"\n",
        "\"trillions of connections. The brain boggles the mind.\"\n",
        ")  \n",
        "```\n",
        "You will need to assign the `context` to your `Watson_quotation using this code:\n",
        "\n",
        "```text\n",
        "# Assign quotation to content\n",
        "content=Watson_quotation\n",
        "```\n",
        "Finally, for your question, use this text:\n",
        "\n",
        "```type\n",
        "\"how many connections in the brain\"\n",
        "```\n"
      ],
      "metadata": {
        "id": "jb7TZNa5BN33"
      }
    },
    {
      "cell_type": "code",
      "source": [
        "# Insert your code for Exercise 3 here\n",
        "\n"
      ],
      "metadata": {
        "id": "ngvBTs726nxU"
      },
      "execution_count": null,
      "outputs": []
    },
    {
      "cell_type": "markdown",
      "source": [
        "If the code is correct you should see the following output:\n",
        "\n",
        "![___](https://biologicslab.co/BIO1173/images/class_05/class_05_1_image14A.png)\n"
      ],
      "metadata": {
        "id": "PpU_4gq26nxU"
      }
    },
    {
      "cell_type": "markdown",
      "source": [
        "------------------------\n",
        "\n",
        "### **What does the `score` field mean in Hugging Face QA pipelines?**\n",
        "\n",
        "When a question‑answering model returns a span, it also returns a\n",
        "`score`.  The score is **not a hard probability** of correctness, but\n",
        "the model’s internal confidence that the chosen start‑and‑end tokens\n",
        "are the right answer.\n",
        "\n",
        "#### **How it is computed**\n",
        "1. The model outputs *start* and *end* logits for every token in the\n",
        "   context.  \n",
        "2. A softmax is applied to each set of logits → probabilities that sum\n",
        "   to 1.  \n",
        "3. The pipeline picks the span \\([s, e]\\) that maximises  \n",
        "   \\( P_{\\text{start}}(s) \\times P_{\\text{end}}(e) \\).  \n",
        "   This product is the `score`.\n",
        "\n",
        "#### **Interpreting a score**\n",
        "| Score range | Rough meaning | What to do |\n",
        "|-------------|---------------|------------|\n",
        "| < 0.3 | Very low confidence | Treat the answer as unreliable; re‑phrase the question or add more context. |\n",
        "| ≈ 0.5 | Moderate confidence | The answer is plausible but not guaranteed; double‑check if accuracy matters. |\n",
        "| > 0.8 | High confidence | The answer is likely correct; you can use it as is. |\n",
        "\n",
        "> **Caveat** – Hugging Face models are *not* calibrated to produce true\n",
        "> probabilities.  Use the score to **rank or filter** results, not as an\n",
        "> absolute correctness metric.\n",
        "\n",
        "-------------------------------\n"
      ],
      "metadata": {
        "id": "sfDLm-qyM716"
      }
    },
    {
      "cell_type": "markdown",
      "source": [
        "## **NLP Language Translation**\n",
        "\n",
        "**Language Translation** is a fascinating and practical application of natural language processing (NLP). It involves converting text from one language into another while preserving the original meaning, context, and nuances.\n",
        "\n",
        "Hugging Face provides powerful pre-trained models for language translation. Here is a list of the popular models:\n",
        "\n",
        "#### **List of Translators Used by Hugging Face**\n",
        "\n",
        "Hugging Face offers a variety of translation models for different language pairs. Here are some popular ones:\n",
        "\n",
        "1. **MarianMT Models**: These models support translation between multiple language pairs. For example:\n",
        "   - `Helsinki-NLP/opus-mt-en-de`: English to German\n",
        "   - `Helsinki-NLP/opus-mt-en-fr`: English to French\n",
        "   - `Helsinki-NLP/opus-mt-en-es`: English to Spanish\n",
        "\n",
        "2. **T5 Models**: These models can be fine-tuned for translation tasks. For example:\n",
        "   - `t5-small`: A smaller version of the T5 model that can be fine-tuned for translation.\n",
        "   - `t5-large`: A larger version of the T5 model with more parameters for better performance.\n",
        "\n",
        "3. **mBART Models**: These models are designed for multilingual translation tasks. For example:\n",
        "   - `facebook/mbart-large-50-many-to-many-mmt`: A multilingual model that supports translation between 50 languages.\n",
        "\n",
        "4. **M2M100 Models**: These models are designed for many-to-many translation tasks. For example:\n",
        "   - `facebook/m2m100_418M`: A model that supports translation between 100 languages.\n",
        "\n",
        "You can find more translation models and explore their capabilities on the [Hugging Face Models page](https://huggingface.co/models?search=translate).\n"
      ],
      "metadata": {
        "id": "Kq2yoUGGuD1J"
      }
    },
    {
      "cell_type": "markdown",
      "source": [
        "### Install `sacremoses` package\n",
        "\n",
        "Before we can start translating, we need to install the `sacremoses` package.\n",
        "The `sacremoses` package is a Python port of the `Moses tokenizer`, `truecaser`, and `normalizer`. It provides tools for text preprocessing, which are essential for various natural language processing (NLP) tasks. Here are some key features of sacremoses:\n",
        "\n",
        "**Tokenizer:** The Moses tokenizer splits text into tokens (words, punctuation, etc.) while handling special characters and preserving the original meaning. For example, it can tokenize sentences with unusual symbols and punctuation.\n",
        "\n",
        "**Detokenizer:** The Moses detokenizer reverses the tokenization process, converting tokens back into a coherent sentence.\n",
        "\n",
        "**Truecaser:** The Moses truecaser adjusts the casing of words in a text to match typical usage patterns. It can be trained on a large corpus to learn the correct casing for words.\n",
        "\n",
        "Google Colab doesn't normally include the `sacremoses` package but you can add it by running the following code cell."
      ],
      "metadata": {
        "id": "82F8ZG8ej7Fc"
      }
    }
  ]
}