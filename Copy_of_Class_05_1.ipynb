{
  "nbformat": 4,
  "nbformat_minor": 0,
  "metadata": {
    "colab": {
      "provenance": [],
      "gpuType": "T4",
      "authorship_tag": "ABX9TyNuzdbpAtSIdhLDUSssmc/A",
      "include_colab_link": true
    },
    "kernelspec": {
      "name": "python3",
      "display_name": "Python 3"
    },
    "language_info": {
      "name": "python"
    },
    "widgets": {
      "application/vnd.jupyter.widget-state+json": {
        "9005df37643f4c18aea521bcc5a5fbf4": {
          "model_module": "@jupyter-widgets/controls",
          "model_name": "HBoxModel",
          "model_module_version": "1.5.0",
          "state": {
            "_dom_classes": [],
            "_model_module": "@jupyter-widgets/controls",
            "_model_module_version": "1.5.0",
            "_model_name": "HBoxModel",
            "_view_count": null,
            "_view_module": "@jupyter-widgets/controls",
            "_view_module_version": "1.5.0",
            "_view_name": "HBoxView",
            "box_style": "",
            "children": [
              "IPY_MODEL_706bff460afb4a97bb69af8ca33f2a31",
              "IPY_MODEL_ca473fd4c76a48f6bcf9feb64b5004f5",
              "IPY_MODEL_dce431febcd54ce5b94845df2462d10e"
            ],
            "layout": "IPY_MODEL_ef0e2f3b5df148dd91574848663bda54"
          }
        },
        "706bff460afb4a97bb69af8ca33f2a31": {
          "model_module": "@jupyter-widgets/controls",
          "model_name": "HTMLModel",
          "model_module_version": "1.5.0",
          "state": {
            "_dom_classes": [],
            "_model_module": "@jupyter-widgets/controls",
            "_model_module_version": "1.5.0",
            "_model_name": "HTMLModel",
            "_view_count": null,
            "_view_module": "@jupyter-widgets/controls",
            "_view_module_version": "1.5.0",
            "_view_name": "HTMLView",
            "description": "",
            "description_tooltip": null,
            "layout": "IPY_MODEL_92eb6a7a63414e03b4958aa0a4ed36d4",
            "placeholder": "​",
            "style": "IPY_MODEL_d261e3de0d7442b0956b6580a570eb40",
            "value": "config.json: "
          }
        },
        "ca473fd4c76a48f6bcf9feb64b5004f5": {
          "model_module": "@jupyter-widgets/controls",
          "model_name": "FloatProgressModel",
          "model_module_version": "1.5.0",
          "state": {
            "_dom_classes": [],
            "_model_module": "@jupyter-widgets/controls",
            "_model_module_version": "1.5.0",
            "_model_name": "FloatProgressModel",
            "_view_count": null,
            "_view_module": "@jupyter-widgets/controls",
            "_view_module_version": "1.5.0",
            "_view_name": "ProgressView",
            "bar_style": "success",
            "description": "",
            "description_tooltip": null,
            "layout": "IPY_MODEL_73e85958d6594ff09511d47dbcde1e09",
            "max": 1,
            "min": 0,
            "orientation": "horizontal",
            "style": "IPY_MODEL_ce62f070cee64b428343e9c15800b414",
            "value": 1
          }
        },
        "dce431febcd54ce5b94845df2462d10e": {
          "model_module": "@jupyter-widgets/controls",
          "model_name": "HTMLModel",
          "model_module_version": "1.5.0",
          "state": {
            "_dom_classes": [],
            "_model_module": "@jupyter-widgets/controls",
            "_model_module_version": "1.5.0",
            "_model_name": "HTMLModel",
            "_view_count": null,
            "_view_module": "@jupyter-widgets/controls",
            "_view_module_version": "1.5.0",
            "_view_name": "HTMLView",
            "description": "",
            "description_tooltip": null,
            "layout": "IPY_MODEL_007285aebe8e473c8a3020a124fc7530",
            "placeholder": "​",
            "style": "IPY_MODEL_d06ff892e94746af858c6e87c0b44b30",
            "value": " 1.33k/? [00:00&lt;00:00, 120kB/s]"
          }
        },
        "ef0e2f3b5df148dd91574848663bda54": {
          "model_module": "@jupyter-widgets/base",
          "model_name": "LayoutModel",
          "model_module_version": "1.2.0",
          "state": {
            "_model_module": "@jupyter-widgets/base",
            "_model_module_version": "1.2.0",
            "_model_name": "LayoutModel",
            "_view_count": null,
            "_view_module": "@jupyter-widgets/base",
            "_view_module_version": "1.2.0",
            "_view_name": "LayoutView",
            "align_content": null,
            "align_items": null,
            "align_self": null,
            "border": null,
            "bottom": null,
            "display": null,
            "flex": null,
            "flex_flow": null,
            "grid_area": null,
            "grid_auto_columns": null,
            "grid_auto_flow": null,
            "grid_auto_rows": null,
            "grid_column": null,
            "grid_gap": null,
            "grid_row": null,
            "grid_template_areas": null,
            "grid_template_columns": null,
            "grid_template_rows": null,
            "height": null,
            "justify_content": null,
            "justify_items": null,
            "left": null,
            "margin": null,
            "max_height": null,
            "max_width": null,
            "min_height": null,
            "min_width": null,
            "object_fit": null,
            "object_position": null,
            "order": null,
            "overflow": null,
            "overflow_x": null,
            "overflow_y": null,
            "padding": null,
            "right": null,
            "top": null,
            "visibility": null,
            "width": null
          }
        },
        "92eb6a7a63414e03b4958aa0a4ed36d4": {
          "model_module": "@jupyter-widgets/base",
          "model_name": "LayoutModel",
          "model_module_version": "1.2.0",
          "state": {
            "_model_module": "@jupyter-widgets/base",
            "_model_module_version": "1.2.0",
            "_model_name": "LayoutModel",
            "_view_count": null,
            "_view_module": "@jupyter-widgets/base",
            "_view_module_version": "1.2.0",
            "_view_name": "LayoutView",
            "align_content": null,
            "align_items": null,
            "align_self": null,
            "border": null,
            "bottom": null,
            "display": null,
            "flex": null,
            "flex_flow": null,
            "grid_area": null,
            "grid_auto_columns": null,
            "grid_auto_flow": null,
            "grid_auto_rows": null,
            "grid_column": null,
            "grid_gap": null,
            "grid_row": null,
            "grid_template_areas": null,
            "grid_template_columns": null,
            "grid_template_rows": null,
            "height": null,
            "justify_content": null,
            "justify_items": null,
            "left": null,
            "margin": null,
            "max_height": null,
            "max_width": null,
            "min_height": null,
            "min_width": null,
            "object_fit": null,
            "object_position": null,
            "order": null,
            "overflow": null,
            "overflow_x": null,
            "overflow_y": null,
            "padding": null,
            "right": null,
            "top": null,
            "visibility": null,
            "width": null
          }
        },
        "d261e3de0d7442b0956b6580a570eb40": {
          "model_module": "@jupyter-widgets/controls",
          "model_name": "DescriptionStyleModel",
          "model_module_version": "1.5.0",
          "state": {
            "_model_module": "@jupyter-widgets/controls",
            "_model_module_version": "1.5.0",
            "_model_name": "DescriptionStyleModel",
            "_view_count": null,
            "_view_module": "@jupyter-widgets/base",
            "_view_module_version": "1.2.0",
            "_view_name": "StyleView",
            "description_width": ""
          }
        },
        "73e85958d6594ff09511d47dbcde1e09": {
          "model_module": "@jupyter-widgets/base",
          "model_name": "LayoutModel",
          "model_module_version": "1.2.0",
          "state": {
            "_model_module": "@jupyter-widgets/base",
            "_model_module_version": "1.2.0",
            "_model_name": "LayoutModel",
            "_view_count": null,
            "_view_module": "@jupyter-widgets/base",
            "_view_module_version": "1.2.0",
            "_view_name": "LayoutView",
            "align_content": null,
            "align_items": null,
            "align_self": null,
            "border": null,
            "bottom": null,
            "display": null,
            "flex": null,
            "flex_flow": null,
            "grid_area": null,
            "grid_auto_columns": null,
            "grid_auto_flow": null,
            "grid_auto_rows": null,
            "grid_column": null,
            "grid_gap": null,
            "grid_row": null,
            "grid_template_areas": null,
            "grid_template_columns": null,
            "grid_template_rows": null,
            "height": null,
            "justify_content": null,
            "justify_items": null,
            "left": null,
            "margin": null,
            "max_height": null,
            "max_width": null,
            "min_height": null,
            "min_width": null,
            "object_fit": null,
            "object_position": null,
            "order": null,
            "overflow": null,
            "overflow_x": null,
            "overflow_y": null,
            "padding": null,
            "right": null,
            "top": null,
            "visibility": null,
            "width": "20px"
          }
        },
        "ce62f070cee64b428343e9c15800b414": {
          "model_module": "@jupyter-widgets/controls",
          "model_name": "ProgressStyleModel",
          "model_module_version": "1.5.0",
          "state": {
            "_model_module": "@jupyter-widgets/controls",
            "_model_module_version": "1.5.0",
            "_model_name": "ProgressStyleModel",
            "_view_count": null,
            "_view_module": "@jupyter-widgets/base",
            "_view_module_version": "1.2.0",
            "_view_name": "StyleView",
            "bar_color": null,
            "description_width": ""
          }
        },
        "007285aebe8e473c8a3020a124fc7530": {
          "model_module": "@jupyter-widgets/base",
          "model_name": "LayoutModel",
          "model_module_version": "1.2.0",
          "state": {
            "_model_module": "@jupyter-widgets/base",
            "_model_module_version": "1.2.0",
            "_model_name": "LayoutModel",
            "_view_count": null,
            "_view_module": "@jupyter-widgets/base",
            "_view_module_version": "1.2.0",
            "_view_name": "LayoutView",
            "align_content": null,
            "align_items": null,
            "align_self": null,
            "border": null,
            "bottom": null,
            "display": null,
            "flex": null,
            "flex_flow": null,
            "grid_area": null,
            "grid_auto_columns": null,
            "grid_auto_flow": null,
            "grid_auto_rows": null,
            "grid_column": null,
            "grid_gap": null,
            "grid_row": null,
            "grid_template_areas": null,
            "grid_template_columns": null,
            "grid_template_rows": null,
            "height": null,
            "justify_content": null,
            "justify_items": null,
            "left": null,
            "margin": null,
            "max_height": null,
            "max_width": null,
            "min_height": null,
            "min_width": null,
            "object_fit": null,
            "object_position": null,
            "order": null,
            "overflow": null,
            "overflow_x": null,
            "overflow_y": null,
            "padding": null,
            "right": null,
            "top": null,
            "visibility": null,
            "width": null
          }
        },
        "d06ff892e94746af858c6e87c0b44b30": {
          "model_module": "@jupyter-widgets/controls",
          "model_name": "DescriptionStyleModel",
          "model_module_version": "1.5.0",
          "state": {
            "_model_module": "@jupyter-widgets/controls",
            "_model_module_version": "1.5.0",
            "_model_name": "DescriptionStyleModel",
            "_view_count": null,
            "_view_module": "@jupyter-widgets/base",
            "_view_module_version": "1.2.0",
            "_view_name": "StyleView",
            "description_width": ""
          }
        },
        "52d8ec44a9884b29a6597100c313c6cb": {
          "model_module": "@jupyter-widgets/controls",
          "model_name": "HBoxModel",
          "model_module_version": "1.5.0",
          "state": {
            "_dom_classes": [],
            "_model_module": "@jupyter-widgets/controls",
            "_model_module_version": "1.5.0",
            "_model_name": "HBoxModel",
            "_view_count": null,
            "_view_module": "@jupyter-widgets/controls",
            "_view_module_version": "1.5.0",
            "_view_name": "HBoxView",
            "box_style": "",
            "children": [
              "IPY_MODEL_38546e0b29cf4e648f51d39405336cde",
              "IPY_MODEL_1cb4cff4946a4d10a9f5095bf57c9666",
              "IPY_MODEL_9afb8f343a9947e6b976a5e31378badd"
            ],
            "layout": "IPY_MODEL_6c5d140ad8974132b5308bdc14ee1010"
          }
        },
        "38546e0b29cf4e648f51d39405336cde": {
          "model_module": "@jupyter-widgets/controls",
          "model_name": "HTMLModel",
          "model_module_version": "1.5.0",
          "state": {
            "_dom_classes": [],
            "_model_module": "@jupyter-widgets/controls",
            "_model_module_version": "1.5.0",
            "_model_name": "HTMLModel",
            "_view_count": null,
            "_view_module": "@jupyter-widgets/controls",
            "_view_module_version": "1.5.0",
            "_view_name": "HTMLView",
            "description": "",
            "description_tooltip": null,
            "layout": "IPY_MODEL_aea5671c404b4945bcc8d8dd916e0b8d",
            "placeholder": "​",
            "style": "IPY_MODEL_62875c6776e249b389269068bfd96615",
            "value": "pytorch_model.bin: 100%"
          }
        },
        "1cb4cff4946a4d10a9f5095bf57c9666": {
          "model_module": "@jupyter-widgets/controls",
          "model_name": "FloatProgressModel",
          "model_module_version": "1.5.0",
          "state": {
            "_dom_classes": [],
            "_model_module": "@jupyter-widgets/controls",
            "_model_module_version": "1.5.0",
            "_model_name": "FloatProgressModel",
            "_view_count": null,
            "_view_module": "@jupyter-widgets/controls",
            "_view_module_version": "1.5.0",
            "_view_name": "ProgressView",
            "bar_style": "success",
            "description": "",
            "description_tooltip": null,
            "layout": "IPY_MODEL_ecff2238b7d34cfba5c94dc9c4c94713",
            "max": 297928209,
            "min": 0,
            "orientation": "horizontal",
            "style": "IPY_MODEL_2218450f340546e1b98006c9afc2f8cc",
            "value": 297928209
          }
        },
        "9afb8f343a9947e6b976a5e31378badd": {
          "model_module": "@jupyter-widgets/controls",
          "model_name": "HTMLModel",
          "model_module_version": "1.5.0",
          "state": {
            "_dom_classes": [],
            "_model_module": "@jupyter-widgets/controls",
            "_model_module_version": "1.5.0",
            "_model_name": "HTMLModel",
            "_view_count": null,
            "_view_module": "@jupyter-widgets/controls",
            "_view_module_version": "1.5.0",
            "_view_name": "HTMLView",
            "description": "",
            "description_tooltip": null,
            "layout": "IPY_MODEL_4811fcf51ac844539c2c7b15dd2be5bc",
            "placeholder": "​",
            "style": "IPY_MODEL_12f0d9518fce47b18c73484748ebca2c",
            "value": " 298M/298M [00:01&lt;00:00, 274MB/s]"
          }
        },
        "6c5d140ad8974132b5308bdc14ee1010": {
          "model_module": "@jupyter-widgets/base",
          "model_name": "LayoutModel",
          "model_module_version": "1.2.0",
          "state": {
            "_model_module": "@jupyter-widgets/base",
            "_model_module_version": "1.2.0",
            "_model_name": "LayoutModel",
            "_view_count": null,
            "_view_module": "@jupyter-widgets/base",
            "_view_module_version": "1.2.0",
            "_view_name": "LayoutView",
            "align_content": null,
            "align_items": null,
            "align_self": null,
            "border": null,
            "bottom": null,
            "display": null,
            "flex": null,
            "flex_flow": null,
            "grid_area": null,
            "grid_auto_columns": null,
            "grid_auto_flow": null,
            "grid_auto_rows": null,
            "grid_column": null,
            "grid_gap": null,
            "grid_row": null,
            "grid_template_areas": null,
            "grid_template_columns": null,
            "grid_template_rows": null,
            "height": null,
            "justify_content": null,
            "justify_items": null,
            "left": null,
            "margin": null,
            "max_height": null,
            "max_width": null,
            "min_height": null,
            "min_width": null,
            "object_fit": null,
            "object_position": null,
            "order": null,
            "overflow": null,
            "overflow_x": null,
            "overflow_y": null,
            "padding": null,
            "right": null,
            "top": null,
            "visibility": null,
            "width": null
          }
        },
        "aea5671c404b4945bcc8d8dd916e0b8d": {
          "model_module": "@jupyter-widgets/base",
          "model_name": "LayoutModel",
          "model_module_version": "1.2.0",
          "state": {
            "_model_module": "@jupyter-widgets/base",
            "_model_module_version": "1.2.0",
            "_model_name": "LayoutModel",
            "_view_count": null,
            "_view_module": "@jupyter-widgets/base",
            "_view_module_version": "1.2.0",
            "_view_name": "LayoutView",
            "align_content": null,
            "align_items": null,
            "align_self": null,
            "border": null,
            "bottom": null,
            "display": null,
            "flex": null,
            "flex_flow": null,
            "grid_area": null,
            "grid_auto_columns": null,
            "grid_auto_flow": null,
            "grid_auto_rows": null,
            "grid_column": null,
            "grid_gap": null,
            "grid_row": null,
            "grid_template_areas": null,
            "grid_template_columns": null,
            "grid_template_rows": null,
            "height": null,
            "justify_content": null,
            "justify_items": null,
            "left": null,
            "margin": null,
            "max_height": null,
            "max_width": null,
            "min_height": null,
            "min_width": null,
            "object_fit": null,
            "object_position": null,
            "order": null,
            "overflow": null,
            "overflow_x": null,
            "overflow_y": null,
            "padding": null,
            "right": null,
            "top": null,
            "visibility": null,
            "width": null
          }
        },
        "62875c6776e249b389269068bfd96615": {
          "model_module": "@jupyter-widgets/controls",
          "model_name": "DescriptionStyleModel",
          "model_module_version": "1.5.0",
          "state": {
            "_model_module": "@jupyter-widgets/controls",
            "_model_module_version": "1.5.0",
            "_model_name": "DescriptionStyleModel",
            "_view_count": null,
            "_view_module": "@jupyter-widgets/base",
            "_view_module_version": "1.2.0",
            "_view_name": "StyleView",
            "description_width": ""
          }
        },
        "ecff2238b7d34cfba5c94dc9c4c94713": {
          "model_module": "@jupyter-widgets/base",
          "model_name": "LayoutModel",
          "model_module_version": "1.2.0",
          "state": {
            "_model_module": "@jupyter-widgets/base",
            "_model_module_version": "1.2.0",
            "_model_name": "LayoutModel",
            "_view_count": null,
            "_view_module": "@jupyter-widgets/base",
            "_view_module_version": "1.2.0",
            "_view_name": "LayoutView",
            "align_content": null,
            "align_items": null,
            "align_self": null,
            "border": null,
            "bottom": null,
            "display": null,
            "flex": null,
            "flex_flow": null,
            "grid_area": null,
            "grid_auto_columns": null,
            "grid_auto_flow": null,
            "grid_auto_rows": null,
            "grid_column": null,
            "grid_gap": null,
            "grid_row": null,
            "grid_template_areas": null,
            "grid_template_columns": null,
            "grid_template_rows": null,
            "height": null,
            "justify_content": null,
            "justify_items": null,
            "left": null,
            "margin": null,
            "max_height": null,
            "max_width": null,
            "min_height": null,
            "min_width": null,
            "object_fit": null,
            "object_position": null,
            "order": null,
            "overflow": null,
            "overflow_x": null,
            "overflow_y": null,
            "padding": null,
            "right": null,
            "top": null,
            "visibility": null,
            "width": null
          }
        },
        "2218450f340546e1b98006c9afc2f8cc": {
          "model_module": "@jupyter-widgets/controls",
          "model_name": "ProgressStyleModel",
          "model_module_version": "1.5.0",
          "state": {
            "_model_module": "@jupyter-widgets/controls",
            "_model_module_version": "1.5.0",
            "_model_name": "ProgressStyleModel",
            "_view_count": null,
            "_view_module": "@jupyter-widgets/base",
            "_view_module_version": "1.2.0",
            "_view_name": "StyleView",
            "bar_color": null,
            "description_width": ""
          }
        },
        "4811fcf51ac844539c2c7b15dd2be5bc": {
          "model_module": "@jupyter-widgets/base",
          "model_name": "LayoutModel",
          "model_module_version": "1.2.0",
          "state": {
            "_model_module": "@jupyter-widgets/base",
            "_model_module_version": "1.2.0",
            "_model_name": "LayoutModel",
            "_view_count": null,
            "_view_module": "@jupyter-widgets/base",
            "_view_module_version": "1.2.0",
            "_view_name": "LayoutView",
            "align_content": null,
            "align_items": null,
            "align_self": null,
            "border": null,
            "bottom": null,
            "display": null,
            "flex": null,
            "flex_flow": null,
            "grid_area": null,
            "grid_auto_columns": null,
            "grid_auto_flow": null,
            "grid_auto_rows": null,
            "grid_column": null,
            "grid_gap": null,
            "grid_row": null,
            "grid_template_areas": null,
            "grid_template_columns": null,
            "grid_template_rows": null,
            "height": null,
            "justify_content": null,
            "justify_items": null,
            "left": null,
            "margin": null,
            "max_height": null,
            "max_width": null,
            "min_height": null,
            "min_width": null,
            "object_fit": null,
            "object_position": null,
            "order": null,
            "overflow": null,
            "overflow_x": null,
            "overflow_y": null,
            "padding": null,
            "right": null,
            "top": null,
            "visibility": null,
            "width": null
          }
        },
        "12f0d9518fce47b18c73484748ebca2c": {
          "model_module": "@jupyter-widgets/controls",
          "model_name": "DescriptionStyleModel",
          "model_module_version": "1.5.0",
          "state": {
            "_model_module": "@jupyter-widgets/controls",
            "_model_module_version": "1.5.0",
            "_model_name": "DescriptionStyleModel",
            "_view_count": null,
            "_view_module": "@jupyter-widgets/base",
            "_view_module_version": "1.2.0",
            "_view_name": "StyleView",
            "description_width": ""
          }
        },
        "c563489e74c3461486b4620155e6cb66": {
          "model_module": "@jupyter-widgets/controls",
          "model_name": "HBoxModel",
          "model_module_version": "1.5.0",
          "state": {
            "_dom_classes": [],
            "_model_module": "@jupyter-widgets/controls",
            "_model_module_version": "1.5.0",
            "_model_name": "HBoxModel",
            "_view_count": null,
            "_view_module": "@jupyter-widgets/controls",
            "_view_module_version": "1.5.0",
            "_view_name": "HBoxView",
            "box_style": "",
            "children": [
              "IPY_MODEL_27ec69698a554e0eaaa4769efa40627e",
              "IPY_MODEL_bf5f6fcfa3f84ca49e66a590598a91ac",
              "IPY_MODEL_a88bea50f90b48f690caa96745035bc3"
            ],
            "layout": "IPY_MODEL_2d1ba6c73a184aa5ac073a256513dda3"
          }
        },
        "27ec69698a554e0eaaa4769efa40627e": {
          "model_module": "@jupyter-widgets/controls",
          "model_name": "HTMLModel",
          "model_module_version": "1.5.0",
          "state": {
            "_dom_classes": [],
            "_model_module": "@jupyter-widgets/controls",
            "_model_module_version": "1.5.0",
            "_model_name": "HTMLModel",
            "_view_count": null,
            "_view_module": "@jupyter-widgets/controls",
            "_view_module_version": "1.5.0",
            "_view_name": "HTMLView",
            "description": "",
            "description_tooltip": null,
            "layout": "IPY_MODEL_177ed49e879947a79a79329c82755cb2",
            "placeholder": "​",
            "style": "IPY_MODEL_a1ec8c28f3fe450498a0153a06d1151a",
            "value": "generation_config.json: 100%"
          }
        },
        "bf5f6fcfa3f84ca49e66a590598a91ac": {
          "model_module": "@jupyter-widgets/controls",
          "model_name": "FloatProgressModel",
          "model_module_version": "1.5.0",
          "state": {
            "_dom_classes": [],
            "_model_module": "@jupyter-widgets/controls",
            "_model_module_version": "1.5.0",
            "_model_name": "FloatProgressModel",
            "_view_count": null,
            "_view_module": "@jupyter-widgets/controls",
            "_view_module_version": "1.5.0",
            "_view_name": "ProgressView",
            "bar_style": "success",
            "description": "",
            "description_tooltip": null,
            "layout": "IPY_MODEL_3fad34b336984388adb91e130758cb8e",
            "max": 293,
            "min": 0,
            "orientation": "horizontal",
            "style": "IPY_MODEL_fbb17604b99143a8b7a697d75f6106f3",
            "value": 293
          }
        },
        "a88bea50f90b48f690caa96745035bc3": {
          "model_module": "@jupyter-widgets/controls",
          "model_name": "HTMLModel",
          "model_module_version": "1.5.0",
          "state": {
            "_dom_classes": [],
            "_model_module": "@jupyter-widgets/controls",
            "_model_module_version": "1.5.0",
            "_model_name": "HTMLModel",
            "_view_count": null,
            "_view_module": "@jupyter-widgets/controls",
            "_view_module_version": "1.5.0",
            "_view_name": "HTMLView",
            "description": "",
            "description_tooltip": null,
            "layout": "IPY_MODEL_575b445af38748c0ae7fc80731bec8f8",
            "placeholder": "​",
            "style": "IPY_MODEL_1a7a339250984f068ae927789da011da",
            "value": " 293/293 [00:00&lt;00:00, 21.5kB/s]"
          }
        },
        "2d1ba6c73a184aa5ac073a256513dda3": {
          "model_module": "@jupyter-widgets/base",
          "model_name": "LayoutModel",
          "model_module_version": "1.2.0",
          "state": {
            "_model_module": "@jupyter-widgets/base",
            "_model_module_version": "1.2.0",
            "_model_name": "LayoutModel",
            "_view_count": null,
            "_view_module": "@jupyter-widgets/base",
            "_view_module_version": "1.2.0",
            "_view_name": "LayoutView",
            "align_content": null,
            "align_items": null,
            "align_self": null,
            "border": null,
            "bottom": null,
            "display": null,
            "flex": null,
            "flex_flow": null,
            "grid_area": null,
            "grid_auto_columns": null,
            "grid_auto_flow": null,
            "grid_auto_rows": null,
            "grid_column": null,
            "grid_gap": null,
            "grid_row": null,
            "grid_template_areas": null,
            "grid_template_columns": null,
            "grid_template_rows": null,
            "height": null,
            "justify_content": null,
            "justify_items": null,
            "left": null,
            "margin": null,
            "max_height": null,
            "max_width": null,
            "min_height": null,
            "min_width": null,
            "object_fit": null,
            "object_position": null,
            "order": null,
            "overflow": null,
            "overflow_x": null,
            "overflow_y": null,
            "padding": null,
            "right": null,
            "top": null,
            "visibility": null,
            "width": null
          }
        },
        "177ed49e879947a79a79329c82755cb2": {
          "model_module": "@jupyter-widgets/base",
          "model_name": "LayoutModel",
          "model_module_version": "1.2.0",
          "state": {
            "_model_module": "@jupyter-widgets/base",
            "_model_module_version": "1.2.0",
            "_model_name": "LayoutModel",
            "_view_count": null,
            "_view_module": "@jupyter-widgets/base",
            "_view_module_version": "1.2.0",
            "_view_name": "LayoutView",
            "align_content": null,
            "align_items": null,
            "align_self": null,
            "border": null,
            "bottom": null,
            "display": null,
            "flex": null,
            "flex_flow": null,
            "grid_area": null,
            "grid_auto_columns": null,
            "grid_auto_flow": null,
            "grid_auto_rows": null,
            "grid_column": null,
            "grid_gap": null,
            "grid_row": null,
            "grid_template_areas": null,
            "grid_template_columns": null,
            "grid_template_rows": null,
            "height": null,
            "justify_content": null,
            "justify_items": null,
            "left": null,
            "margin": null,
            "max_height": null,
            "max_width": null,
            "min_height": null,
            "min_width": null,
            "object_fit": null,
            "object_position": null,
            "order": null,
            "overflow": null,
            "overflow_x": null,
            "overflow_y": null,
            "padding": null,
            "right": null,
            "top": null,
            "visibility": null,
            "width": null
          }
        },
        "a1ec8c28f3fe450498a0153a06d1151a": {
          "model_module": "@jupyter-widgets/controls",
          "model_name": "DescriptionStyleModel",
          "model_module_version": "1.5.0",
          "state": {
            "_model_module": "@jupyter-widgets/controls",
            "_model_module_version": "1.5.0",
            "_model_name": "DescriptionStyleModel",
            "_view_count": null,
            "_view_module": "@jupyter-widgets/base",
            "_view_module_version": "1.2.0",
            "_view_name": "StyleView",
            "description_width": ""
          }
        },
        "3fad34b336984388adb91e130758cb8e": {
          "model_module": "@jupyter-widgets/base",
          "model_name": "LayoutModel",
          "model_module_version": "1.2.0",
          "state": {
            "_model_module": "@jupyter-widgets/base",
            "_model_module_version": "1.2.0",
            "_model_name": "LayoutModel",
            "_view_count": null,
            "_view_module": "@jupyter-widgets/base",
            "_view_module_version": "1.2.0",
            "_view_name": "LayoutView",
            "align_content": null,
            "align_items": null,
            "align_self": null,
            "border": null,
            "bottom": null,
            "display": null,
            "flex": null,
            "flex_flow": null,
            "grid_area": null,
            "grid_auto_columns": null,
            "grid_auto_flow": null,
            "grid_auto_rows": null,
            "grid_column": null,
            "grid_gap": null,
            "grid_row": null,
            "grid_template_areas": null,
            "grid_template_columns": null,
            "grid_template_rows": null,
            "height": null,
            "justify_content": null,
            "justify_items": null,
            "left": null,
            "margin": null,
            "max_height": null,
            "max_width": null,
            "min_height": null,
            "min_width": null,
            "object_fit": null,
            "object_position": null,
            "order": null,
            "overflow": null,
            "overflow_x": null,
            "overflow_y": null,
            "padding": null,
            "right": null,
            "top": null,
            "visibility": null,
            "width": null
          }
        },
        "fbb17604b99143a8b7a697d75f6106f3": {
          "model_module": "@jupyter-widgets/controls",
          "model_name": "ProgressStyleModel",
          "model_module_version": "1.5.0",
          "state": {
            "_model_module": "@jupyter-widgets/controls",
            "_model_module_version": "1.5.0",
            "_model_name": "ProgressStyleModel",
            "_view_count": null,
            "_view_module": "@jupyter-widgets/base",
            "_view_module_version": "1.2.0",
            "_view_name": "StyleView",
            "bar_color": null,
            "description_width": ""
          }
        },
        "575b445af38748c0ae7fc80731bec8f8": {
          "model_module": "@jupyter-widgets/base",
          "model_name": "LayoutModel",
          "model_module_version": "1.2.0",
          "state": {
            "_model_module": "@jupyter-widgets/base",
            "_model_module_version": "1.2.0",
            "_model_name": "LayoutModel",
            "_view_count": null,
            "_view_module": "@jupyter-widgets/base",
            "_view_module_version": "1.2.0",
            "_view_name": "LayoutView",
            "align_content": null,
            "align_items": null,
            "align_self": null,
            "border": null,
            "bottom": null,
            "display": null,
            "flex": null,
            "flex_flow": null,
            "grid_area": null,
            "grid_auto_columns": null,
            "grid_auto_flow": null,
            "grid_auto_rows": null,
            "grid_column": null,
            "grid_gap": null,
            "grid_row": null,
            "grid_template_areas": null,
            "grid_template_columns": null,
            "grid_template_rows": null,
            "height": null,
            "justify_content": null,
            "justify_items": null,
            "left": null,
            "margin": null,
            "max_height": null,
            "max_width": null,
            "min_height": null,
            "min_width": null,
            "object_fit": null,
            "object_position": null,
            "order": null,
            "overflow": null,
            "overflow_x": null,
            "overflow_y": null,
            "padding": null,
            "right": null,
            "top": null,
            "visibility": null,
            "width": null
          }
        },
        "1a7a339250984f068ae927789da011da": {
          "model_module": "@jupyter-widgets/controls",
          "model_name": "DescriptionStyleModel",
          "model_module_version": "1.5.0",
          "state": {
            "_model_module": "@jupyter-widgets/controls",
            "_model_module_version": "1.5.0",
            "_model_name": "DescriptionStyleModel",
            "_view_count": null,
            "_view_module": "@jupyter-widgets/base",
            "_view_module_version": "1.2.0",
            "_view_name": "StyleView",
            "description_width": ""
          }
        },
        "829753d26c1b4128830fd676baadc5a4": {
          "model_module": "@jupyter-widgets/controls",
          "model_name": "HBoxModel",
          "model_module_version": "1.5.0",
          "state": {
            "_dom_classes": [],
            "_model_module": "@jupyter-widgets/controls",
            "_model_module_version": "1.5.0",
            "_model_name": "HBoxModel",
            "_view_count": null,
            "_view_module": "@jupyter-widgets/controls",
            "_view_module_version": "1.5.0",
            "_view_name": "HBoxView",
            "box_style": "",
            "children": [
              "IPY_MODEL_15f189ef0f7f4b18a4fc8836abb64fe4",
              "IPY_MODEL_c6bf6151b8f5497688d5c986a750ed1d",
              "IPY_MODEL_2cffade209154ce88b63f1e2535f6431"
            ],
            "layout": "IPY_MODEL_3f8caefbf46a46868ee6134a09f13efc"
          }
        },
        "15f189ef0f7f4b18a4fc8836abb64fe4": {
          "model_module": "@jupyter-widgets/controls",
          "model_name": "HTMLModel",
          "model_module_version": "1.5.0",
          "state": {
            "_dom_classes": [],
            "_model_module": "@jupyter-widgets/controls",
            "_model_module_version": "1.5.0",
            "_model_name": "HTMLModel",
            "_view_count": null,
            "_view_module": "@jupyter-widgets/controls",
            "_view_module_version": "1.5.0",
            "_view_name": "HTMLView",
            "description": "",
            "description_tooltip": null,
            "layout": "IPY_MODEL_c4a1dad357314f959cfd18aaa66d016b",
            "placeholder": "​",
            "style": "IPY_MODEL_778f9a9f69554d4e9c0914b14c7ea10a",
            "value": "model.safetensors: 100%"
          }
        },
        "c6bf6151b8f5497688d5c986a750ed1d": {
          "model_module": "@jupyter-widgets/controls",
          "model_name": "FloatProgressModel",
          "model_module_version": "1.5.0",
          "state": {
            "_dom_classes": [],
            "_model_module": "@jupyter-widgets/controls",
            "_model_module_version": "1.5.0",
            "_model_name": "FloatProgressModel",
            "_view_count": null,
            "_view_module": "@jupyter-widgets/controls",
            "_view_module_version": "1.5.0",
            "_view_name": "ProgressView",
            "bar_style": "success",
            "description": "",
            "description_tooltip": null,
            "layout": "IPY_MODEL_d78681bb970d410e88617bd60108815d",
            "max": 297903668,
            "min": 0,
            "orientation": "horizontal",
            "style": "IPY_MODEL_17bc7708683b4d038f3fecd049fd60ef",
            "value": 297903668
          }
        },
        "2cffade209154ce88b63f1e2535f6431": {
          "model_module": "@jupyter-widgets/controls",
          "model_name": "HTMLModel",
          "model_module_version": "1.5.0",
          "state": {
            "_dom_classes": [],
            "_model_module": "@jupyter-widgets/controls",
            "_model_module_version": "1.5.0",
            "_model_name": "HTMLModel",
            "_view_count": null,
            "_view_module": "@jupyter-widgets/controls",
            "_view_module_version": "1.5.0",
            "_view_name": "HTMLView",
            "description": "",
            "description_tooltip": null,
            "layout": "IPY_MODEL_122d6680bf134c40bac1a7c89efd402f",
            "placeholder": "​",
            "style": "IPY_MODEL_77d2f415ba444f15b91a6c2353b07d39",
            "value": " 298M/298M [00:01&lt;00:00, 248MB/s]"
          }
        },
        "3f8caefbf46a46868ee6134a09f13efc": {
          "model_module": "@jupyter-widgets/base",
          "model_name": "LayoutModel",
          "model_module_version": "1.2.0",
          "state": {
            "_model_module": "@jupyter-widgets/base",
            "_model_module_version": "1.2.0",
            "_model_name": "LayoutModel",
            "_view_count": null,
            "_view_module": "@jupyter-widgets/base",
            "_view_module_version": "1.2.0",
            "_view_name": "LayoutView",
            "align_content": null,
            "align_items": null,
            "align_self": null,
            "border": null,
            "bottom": null,
            "display": null,
            "flex": null,
            "flex_flow": null,
            "grid_area": null,
            "grid_auto_columns": null,
            "grid_auto_flow": null,
            "grid_auto_rows": null,
            "grid_column": null,
            "grid_gap": null,
            "grid_row": null,
            "grid_template_areas": null,
            "grid_template_columns": null,
            "grid_template_rows": null,
            "height": null,
            "justify_content": null,
            "justify_items": null,
            "left": null,
            "margin": null,
            "max_height": null,
            "max_width": null,
            "min_height": null,
            "min_width": null,
            "object_fit": null,
            "object_position": null,
            "order": null,
            "overflow": null,
            "overflow_x": null,
            "overflow_y": null,
            "padding": null,
            "right": null,
            "top": null,
            "visibility": null,
            "width": null
          }
        },
        "c4a1dad357314f959cfd18aaa66d016b": {
          "model_module": "@jupyter-widgets/base",
          "model_name": "LayoutModel",
          "model_module_version": "1.2.0",
          "state": {
            "_model_module": "@jupyter-widgets/base",
            "_model_module_version": "1.2.0",
            "_model_name": "LayoutModel",
            "_view_count": null,
            "_view_module": "@jupyter-widgets/base",
            "_view_module_version": "1.2.0",
            "_view_name": "LayoutView",
            "align_content": null,
            "align_items": null,
            "align_self": null,
            "border": null,
            "bottom": null,
            "display": null,
            "flex": null,
            "flex_flow": null,
            "grid_area": null,
            "grid_auto_columns": null,
            "grid_auto_flow": null,
            "grid_auto_rows": null,
            "grid_column": null,
            "grid_gap": null,
            "grid_row": null,
            "grid_template_areas": null,
            "grid_template_columns": null,
            "grid_template_rows": null,
            "height": null,
            "justify_content": null,
            "justify_items": null,
            "left": null,
            "margin": null,
            "max_height": null,
            "max_width": null,
            "min_height": null,
            "min_width": null,
            "object_fit": null,
            "object_position": null,
            "order": null,
            "overflow": null,
            "overflow_x": null,
            "overflow_y": null,
            "padding": null,
            "right": null,
            "top": null,
            "visibility": null,
            "width": null
          }
        },
        "778f9a9f69554d4e9c0914b14c7ea10a": {
          "model_module": "@jupyter-widgets/controls",
          "model_name": "DescriptionStyleModel",
          "model_module_version": "1.5.0",
          "state": {
            "_model_module": "@jupyter-widgets/controls",
            "_model_module_version": "1.5.0",
            "_model_name": "DescriptionStyleModel",
            "_view_count": null,
            "_view_module": "@jupyter-widgets/base",
            "_view_module_version": "1.2.0",
            "_view_name": "StyleView",
            "description_width": ""
          }
        },
        "d78681bb970d410e88617bd60108815d": {
          "model_module": "@jupyter-widgets/base",
          "model_name": "LayoutModel",
          "model_module_version": "1.2.0",
          "state": {
            "_model_module": "@jupyter-widgets/base",
            "_model_module_version": "1.2.0",
            "_model_name": "LayoutModel",
            "_view_count": null,
            "_view_module": "@jupyter-widgets/base",
            "_view_module_version": "1.2.0",
            "_view_name": "LayoutView",
            "align_content": null,
            "align_items": null,
            "align_self": null,
            "border": null,
            "bottom": null,
            "display": null,
            "flex": null,
            "flex_flow": null,
            "grid_area": null,
            "grid_auto_columns": null,
            "grid_auto_flow": null,
            "grid_auto_rows": null,
            "grid_column": null,
            "grid_gap": null,
            "grid_row": null,
            "grid_template_areas": null,
            "grid_template_columns": null,
            "grid_template_rows": null,
            "height": null,
            "justify_content": null,
            "justify_items": null,
            "left": null,
            "margin": null,
            "max_height": null,
            "max_width": null,
            "min_height": null,
            "min_width": null,
            "object_fit": null,
            "object_position": null,
            "order": null,
            "overflow": null,
            "overflow_x": null,
            "overflow_y": null,
            "padding": null,
            "right": null,
            "top": null,
            "visibility": null,
            "width": null
          }
        },
        "17bc7708683b4d038f3fecd049fd60ef": {
          "model_module": "@jupyter-widgets/controls",
          "model_name": "ProgressStyleModel",
          "model_module_version": "1.5.0",
          "state": {
            "_model_module": "@jupyter-widgets/controls",
            "_model_module_version": "1.5.0",
            "_model_name": "ProgressStyleModel",
            "_view_count": null,
            "_view_module": "@jupyter-widgets/base",
            "_view_module_version": "1.2.0",
            "_view_name": "StyleView",
            "bar_color": null,
            "description_width": ""
          }
        },
        "122d6680bf134c40bac1a7c89efd402f": {
          "model_module": "@jupyter-widgets/base",
          "model_name": "LayoutModel",
          "model_module_version": "1.2.0",
          "state": {
            "_model_module": "@jupyter-widgets/base",
            "_model_module_version": "1.2.0",
            "_model_name": "LayoutModel",
            "_view_count": null,
            "_view_module": "@jupyter-widgets/base",
            "_view_module_version": "1.2.0",
            "_view_name": "LayoutView",
            "align_content": null,
            "align_items": null,
            "align_self": null,
            "border": null,
            "bottom": null,
            "display": null,
            "flex": null,
            "flex_flow": null,
            "grid_area": null,
            "grid_auto_columns": null,
            "grid_auto_flow": null,
            "grid_auto_rows": null,
            "grid_column": null,
            "grid_gap": null,
            "grid_row": null,
            "grid_template_areas": null,
            "grid_template_columns": null,
            "grid_template_rows": null,
            "height": null,
            "justify_content": null,
            "justify_items": null,
            "left": null,
            "margin": null,
            "max_height": null,
            "max_width": null,
            "min_height": null,
            "min_width": null,
            "object_fit": null,
            "object_position": null,
            "order": null,
            "overflow": null,
            "overflow_x": null,
            "overflow_y": null,
            "padding": null,
            "right": null,
            "top": null,
            "visibility": null,
            "width": null
          }
        },
        "77d2f415ba444f15b91a6c2353b07d39": {
          "model_module": "@jupyter-widgets/controls",
          "model_name": "DescriptionStyleModel",
          "model_module_version": "1.5.0",
          "state": {
            "_model_module": "@jupyter-widgets/controls",
            "_model_module_version": "1.5.0",
            "_model_name": "DescriptionStyleModel",
            "_view_count": null,
            "_view_module": "@jupyter-widgets/base",
            "_view_module_version": "1.2.0",
            "_view_name": "StyleView",
            "description_width": ""
          }
        },
        "c60242236dea4215b924836c94006028": {
          "model_module": "@jupyter-widgets/controls",
          "model_name": "HBoxModel",
          "model_module_version": "1.5.0",
          "state": {
            "_dom_classes": [],
            "_model_module": "@jupyter-widgets/controls",
            "_model_module_version": "1.5.0",
            "_model_name": "HBoxModel",
            "_view_count": null,
            "_view_module": "@jupyter-widgets/controls",
            "_view_module_version": "1.5.0",
            "_view_name": "HBoxView",
            "box_style": "",
            "children": [
              "IPY_MODEL_68e4ad3fb04241fbac2ef6d58eb2d767",
              "IPY_MODEL_19bec23211e242e69fccaba2422a1fa1",
              "IPY_MODEL_e0e4c94997df49d38289b0a41bf47a14"
            ],
            "layout": "IPY_MODEL_a402e9c3c8aa4684adf7773d0d749d11"
          }
        },
        "68e4ad3fb04241fbac2ef6d58eb2d767": {
          "model_module": "@jupyter-widgets/controls",
          "model_name": "HTMLModel",
          "model_module_version": "1.5.0",
          "state": {
            "_dom_classes": [],
            "_model_module": "@jupyter-widgets/controls",
            "_model_module_version": "1.5.0",
            "_model_name": "HTMLModel",
            "_view_count": null,
            "_view_module": "@jupyter-widgets/controls",
            "_view_module_version": "1.5.0",
            "_view_name": "HTMLView",
            "description": "",
            "description_tooltip": null,
            "layout": "IPY_MODEL_79c3b3f8ead742c690b42c65dfa64498",
            "placeholder": "​",
            "style": "IPY_MODEL_62ea2803748947628fc0d798d3e2bba4",
            "value": "tokenizer_config.json: 100%"
          }
        },
        "19bec23211e242e69fccaba2422a1fa1": {
          "model_module": "@jupyter-widgets/controls",
          "model_name": "FloatProgressModel",
          "model_module_version": "1.5.0",
          "state": {
            "_dom_classes": [],
            "_model_module": "@jupyter-widgets/controls",
            "_model_module_version": "1.5.0",
            "_model_name": "FloatProgressModel",
            "_view_count": null,
            "_view_module": "@jupyter-widgets/controls",
            "_view_module_version": "1.5.0",
            "_view_name": "ProgressView",
            "bar_style": "success",
            "description": "",
            "description_tooltip": null,
            "layout": "IPY_MODEL_ca80c6a9cd2749e5b79e09c08a0bb4b1",
            "max": 42,
            "min": 0,
            "orientation": "horizontal",
            "style": "IPY_MODEL_912a3af12c774612b2340ab36d24d439",
            "value": 42
          }
        },
        "e0e4c94997df49d38289b0a41bf47a14": {
          "model_module": "@jupyter-widgets/controls",
          "model_name": "HTMLModel",
          "model_module_version": "1.5.0",
          "state": {
            "_dom_classes": [],
            "_model_module": "@jupyter-widgets/controls",
            "_model_module_version": "1.5.0",
            "_model_name": "HTMLModel",
            "_view_count": null,
            "_view_module": "@jupyter-widgets/controls",
            "_view_module_version": "1.5.0",
            "_view_name": "HTMLView",
            "description": "",
            "description_tooltip": null,
            "layout": "IPY_MODEL_983c2009dbf6489db06824fb347a482b",
            "placeholder": "​",
            "style": "IPY_MODEL_d5b3806cec15411fbcd3fcf833770cdc",
            "value": " 42.0/42.0 [00:00&lt;00:00, 2.09kB/s]"
          }
        },
        "a402e9c3c8aa4684adf7773d0d749d11": {
          "model_module": "@jupyter-widgets/base",
          "model_name": "LayoutModel",
          "model_module_version": "1.2.0",
          "state": {
            "_model_module": "@jupyter-widgets/base",
            "_model_module_version": "1.2.0",
            "_model_name": "LayoutModel",
            "_view_count": null,
            "_view_module": "@jupyter-widgets/base",
            "_view_module_version": "1.2.0",
            "_view_name": "LayoutView",
            "align_content": null,
            "align_items": null,
            "align_self": null,
            "border": null,
            "bottom": null,
            "display": null,
            "flex": null,
            "flex_flow": null,
            "grid_area": null,
            "grid_auto_columns": null,
            "grid_auto_flow": null,
            "grid_auto_rows": null,
            "grid_column": null,
            "grid_gap": null,
            "grid_row": null,
            "grid_template_areas": null,
            "grid_template_columns": null,
            "grid_template_rows": null,
            "height": null,
            "justify_content": null,
            "justify_items": null,
            "left": null,
            "margin": null,
            "max_height": null,
            "max_width": null,
            "min_height": null,
            "min_width": null,
            "object_fit": null,
            "object_position": null,
            "order": null,
            "overflow": null,
            "overflow_x": null,
            "overflow_y": null,
            "padding": null,
            "right": null,
            "top": null,
            "visibility": null,
            "width": null
          }
        },
        "79c3b3f8ead742c690b42c65dfa64498": {
          "model_module": "@jupyter-widgets/base",
          "model_name": "LayoutModel",
          "model_module_version": "1.2.0",
          "state": {
            "_model_module": "@jupyter-widgets/base",
            "_model_module_version": "1.2.0",
            "_model_name": "LayoutModel",
            "_view_count": null,
            "_view_module": "@jupyter-widgets/base",
            "_view_module_version": "1.2.0",
            "_view_name": "LayoutView",
            "align_content": null,
            "align_items": null,
            "align_self": null,
            "border": null,
            "bottom": null,
            "display": null,
            "flex": null,
            "flex_flow": null,
            "grid_area": null,
            "grid_auto_columns": null,
            "grid_auto_flow": null,
            "grid_auto_rows": null,
            "grid_column": null,
            "grid_gap": null,
            "grid_row": null,
            "grid_template_areas": null,
            "grid_template_columns": null,
            "grid_template_rows": null,
            "height": null,
            "justify_content": null,
            "justify_items": null,
            "left": null,
            "margin": null,
            "max_height": null,
            "max_width": null,
            "min_height": null,
            "min_width": null,
            "object_fit": null,
            "object_position": null,
            "order": null,
            "overflow": null,
            "overflow_x": null,
            "overflow_y": null,
            "padding": null,
            "right": null,
            "top": null,
            "visibility": null,
            "width": null
          }
        },
        "62ea2803748947628fc0d798d3e2bba4": {
          "model_module": "@jupyter-widgets/controls",
          "model_name": "DescriptionStyleModel",
          "model_module_version": "1.5.0",
          "state": {
            "_model_module": "@jupyter-widgets/controls",
            "_model_module_version": "1.5.0",
            "_model_name": "DescriptionStyleModel",
            "_view_count": null,
            "_view_module": "@jupyter-widgets/base",
            "_view_module_version": "1.2.0",
            "_view_name": "StyleView",
            "description_width": ""
          }
        },
        "ca80c6a9cd2749e5b79e09c08a0bb4b1": {
          "model_module": "@jupyter-widgets/base",
          "model_name": "LayoutModel",
          "model_module_version": "1.2.0",
          "state": {
            "_model_module": "@jupyter-widgets/base",
            "_model_module_version": "1.2.0",
            "_model_name": "LayoutModel",
            "_view_count": null,
            "_view_module": "@jupyter-widgets/base",
            "_view_module_version": "1.2.0",
            "_view_name": "LayoutView",
            "align_content": null,
            "align_items": null,
            "align_self": null,
            "border": null,
            "bottom": null,
            "display": null,
            "flex": null,
            "flex_flow": null,
            "grid_area": null,
            "grid_auto_columns": null,
            "grid_auto_flow": null,
            "grid_auto_rows": null,
            "grid_column": null,
            "grid_gap": null,
            "grid_row": null,
            "grid_template_areas": null,
            "grid_template_columns": null,
            "grid_template_rows": null,
            "height": null,
            "justify_content": null,
            "justify_items": null,
            "left": null,
            "margin": null,
            "max_height": null,
            "max_width": null,
            "min_height": null,
            "min_width": null,
            "object_fit": null,
            "object_position": null,
            "order": null,
            "overflow": null,
            "overflow_x": null,
            "overflow_y": null,
            "padding": null,
            "right": null,
            "top": null,
            "visibility": null,
            "width": null
          }
        },
        "912a3af12c774612b2340ab36d24d439": {
          "model_module": "@jupyter-widgets/controls",
          "model_name": "ProgressStyleModel",
          "model_module_version": "1.5.0",
          "state": {
            "_model_module": "@jupyter-widgets/controls",
            "_model_module_version": "1.5.0",
            "_model_name": "ProgressStyleModel",
            "_view_count": null,
            "_view_module": "@jupyter-widgets/base",
            "_view_module_version": "1.2.0",
            "_view_name": "StyleView",
            "bar_color": null,
            "description_width": ""
          }
        },
        "983c2009dbf6489db06824fb347a482b": {
          "model_module": "@jupyter-widgets/base",
          "model_name": "LayoutModel",
          "model_module_version": "1.2.0",
          "state": {
            "_model_module": "@jupyter-widgets/base",
            "_model_module_version": "1.2.0",
            "_model_name": "LayoutModel",
            "_view_count": null,
            "_view_module": "@jupyter-widgets/base",
            "_view_module_version": "1.2.0",
            "_view_name": "LayoutView",
            "align_content": null,
            "align_items": null,
            "align_self": null,
            "border": null,
            "bottom": null,
            "display": null,
            "flex": null,
            "flex_flow": null,
            "grid_area": null,
            "grid_auto_columns": null,
            "grid_auto_flow": null,
            "grid_auto_rows": null,
            "grid_column": null,
            "grid_gap": null,
            "grid_row": null,
            "grid_template_areas": null,
            "grid_template_columns": null,
            "grid_template_rows": null,
            "height": null,
            "justify_content": null,
            "justify_items": null,
            "left": null,
            "margin": null,
            "max_height": null,
            "max_width": null,
            "min_height": null,
            "min_width": null,
            "object_fit": null,
            "object_position": null,
            "order": null,
            "overflow": null,
            "overflow_x": null,
            "overflow_y": null,
            "padding": null,
            "right": null,
            "top": null,
            "visibility": null,
            "width": null
          }
        },
        "d5b3806cec15411fbcd3fcf833770cdc": {
          "model_module": "@jupyter-widgets/controls",
          "model_name": "DescriptionStyleModel",
          "model_module_version": "1.5.0",
          "state": {
            "_model_module": "@jupyter-widgets/controls",
            "_model_module_version": "1.5.0",
            "_model_name": "DescriptionStyleModel",
            "_view_count": null,
            "_view_module": "@jupyter-widgets/base",
            "_view_module_version": "1.2.0",
            "_view_name": "StyleView",
            "description_width": ""
          }
        },
        "785e32f5205140098c0f8e42bec6921b": {
          "model_module": "@jupyter-widgets/controls",
          "model_name": "HBoxModel",
          "model_module_version": "1.5.0",
          "state": {
            "_dom_classes": [],
            "_model_module": "@jupyter-widgets/controls",
            "_model_module_version": "1.5.0",
            "_model_name": "HBoxModel",
            "_view_count": null,
            "_view_module": "@jupyter-widgets/controls",
            "_view_module_version": "1.5.0",
            "_view_name": "HBoxView",
            "box_style": "",
            "children": [
              "IPY_MODEL_3dbff43567f143b8b3674334a2796a8c",
              "IPY_MODEL_300256b286d04cb3988932c94338857f",
              "IPY_MODEL_c0f703f41ee94ea0921453f797295606"
            ],
            "layout": "IPY_MODEL_0fe703c40e884a77814ccddba1cb95f2"
          }
        },
        "3dbff43567f143b8b3674334a2796a8c": {
          "model_module": "@jupyter-widgets/controls",
          "model_name": "HTMLModel",
          "model_module_version": "1.5.0",
          "state": {
            "_dom_classes": [],
            "_model_module": "@jupyter-widgets/controls",
            "_model_module_version": "1.5.0",
            "_model_name": "HTMLModel",
            "_view_count": null,
            "_view_module": "@jupyter-widgets/controls",
            "_view_module_version": "1.5.0",
            "_view_name": "HTMLView",
            "description": "",
            "description_tooltip": null,
            "layout": "IPY_MODEL_063d26f055d24ce6afaa6778ab61089f",
            "placeholder": "​",
            "style": "IPY_MODEL_30bd534dd56740f2ab82f3ab62c361a5",
            "value": "source.spm: 100%"
          }
        },
        "300256b286d04cb3988932c94338857f": {
          "model_module": "@jupyter-widgets/controls",
          "model_name": "FloatProgressModel",
          "model_module_version": "1.5.0",
          "state": {
            "_dom_classes": [],
            "_model_module": "@jupyter-widgets/controls",
            "_model_module_version": "1.5.0",
            "_model_name": "FloatProgressModel",
            "_view_count": null,
            "_view_module": "@jupyter-widgets/controls",
            "_view_module_version": "1.5.0",
            "_view_name": "ProgressView",
            "bar_style": "success",
            "description": "",
            "description_tooltip": null,
            "layout": "IPY_MODEL_6c4763e100124793b089dd3986e8eea9",
            "max": 768489,
            "min": 0,
            "orientation": "horizontal",
            "style": "IPY_MODEL_b77227f5a184488e86cc48ad9bcc86a1",
            "value": 768489
          }
        },
        "c0f703f41ee94ea0921453f797295606": {
          "model_module": "@jupyter-widgets/controls",
          "model_name": "HTMLModel",
          "model_module_version": "1.5.0",
          "state": {
            "_dom_classes": [],
            "_model_module": "@jupyter-widgets/controls",
            "_model_module_version": "1.5.0",
            "_model_name": "HTMLModel",
            "_view_count": null,
            "_view_module": "@jupyter-widgets/controls",
            "_view_module_version": "1.5.0",
            "_view_name": "HTMLView",
            "description": "",
            "description_tooltip": null,
            "layout": "IPY_MODEL_fd75d8db5c9f4cad8f55170ac1208609",
            "placeholder": "​",
            "style": "IPY_MODEL_5a4b3f54f0d84c439b85577871a3ac03",
            "value": " 768k/768k [00:00&lt;00:00, 7.52MB/s]"
          }
        },
        "0fe703c40e884a77814ccddba1cb95f2": {
          "model_module": "@jupyter-widgets/base",
          "model_name": "LayoutModel",
          "model_module_version": "1.2.0",
          "state": {
            "_model_module": "@jupyter-widgets/base",
            "_model_module_version": "1.2.0",
            "_model_name": "LayoutModel",
            "_view_count": null,
            "_view_module": "@jupyter-widgets/base",
            "_view_module_version": "1.2.0",
            "_view_name": "LayoutView",
            "align_content": null,
            "align_items": null,
            "align_self": null,
            "border": null,
            "bottom": null,
            "display": null,
            "flex": null,
            "flex_flow": null,
            "grid_area": null,
            "grid_auto_columns": null,
            "grid_auto_flow": null,
            "grid_auto_rows": null,
            "grid_column": null,
            "grid_gap": null,
            "grid_row": null,
            "grid_template_areas": null,
            "grid_template_columns": null,
            "grid_template_rows": null,
            "height": null,
            "justify_content": null,
            "justify_items": null,
            "left": null,
            "margin": null,
            "max_height": null,
            "max_width": null,
            "min_height": null,
            "min_width": null,
            "object_fit": null,
            "object_position": null,
            "order": null,
            "overflow": null,
            "overflow_x": null,
            "overflow_y": null,
            "padding": null,
            "right": null,
            "top": null,
            "visibility": null,
            "width": null
          }
        },
        "063d26f055d24ce6afaa6778ab61089f": {
          "model_module": "@jupyter-widgets/base",
          "model_name": "LayoutModel",
          "model_module_version": "1.2.0",
          "state": {
            "_model_module": "@jupyter-widgets/base",
            "_model_module_version": "1.2.0",
            "_model_name": "LayoutModel",
            "_view_count": null,
            "_view_module": "@jupyter-widgets/base",
            "_view_module_version": "1.2.0",
            "_view_name": "LayoutView",
            "align_content": null,
            "align_items": null,
            "align_self": null,
            "border": null,
            "bottom": null,
            "display": null,
            "flex": null,
            "flex_flow": null,
            "grid_area": null,
            "grid_auto_columns": null,
            "grid_auto_flow": null,
            "grid_auto_rows": null,
            "grid_column": null,
            "grid_gap": null,
            "grid_row": null,
            "grid_template_areas": null,
            "grid_template_columns": null,
            "grid_template_rows": null,
            "height": null,
            "justify_content": null,
            "justify_items": null,
            "left": null,
            "margin": null,
            "max_height": null,
            "max_width": null,
            "min_height": null,
            "min_width": null,
            "object_fit": null,
            "object_position": null,
            "order": null,
            "overflow": null,
            "overflow_x": null,
            "overflow_y": null,
            "padding": null,
            "right": null,
            "top": null,
            "visibility": null,
            "width": null
          }
        },
        "30bd534dd56740f2ab82f3ab62c361a5": {
          "model_module": "@jupyter-widgets/controls",
          "model_name": "DescriptionStyleModel",
          "model_module_version": "1.5.0",
          "state": {
            "_model_module": "@jupyter-widgets/controls",
            "_model_module_version": "1.5.0",
            "_model_name": "DescriptionStyleModel",
            "_view_count": null,
            "_view_module": "@jupyter-widgets/base",
            "_view_module_version": "1.2.0",
            "_view_name": "StyleView",
            "description_width": ""
          }
        },
        "6c4763e100124793b089dd3986e8eea9": {
          "model_module": "@jupyter-widgets/base",
          "model_name": "LayoutModel",
          "model_module_version": "1.2.0",
          "state": {
            "_model_module": "@jupyter-widgets/base",
            "_model_module_version": "1.2.0",
            "_model_name": "LayoutModel",
            "_view_count": null,
            "_view_module": "@jupyter-widgets/base",
            "_view_module_version": "1.2.0",
            "_view_name": "LayoutView",
            "align_content": null,
            "align_items": null,
            "align_self": null,
            "border": null,
            "bottom": null,
            "display": null,
            "flex": null,
            "flex_flow": null,
            "grid_area": null,
            "grid_auto_columns": null,
            "grid_auto_flow": null,
            "grid_auto_rows": null,
            "grid_column": null,
            "grid_gap": null,
            "grid_row": null,
            "grid_template_areas": null,
            "grid_template_columns": null,
            "grid_template_rows": null,
            "height": null,
            "justify_content": null,
            "justify_items": null,
            "left": null,
            "margin": null,
            "max_height": null,
            "max_width": null,
            "min_height": null,
            "min_width": null,
            "object_fit": null,
            "object_position": null,
            "order": null,
            "overflow": null,
            "overflow_x": null,
            "overflow_y": null,
            "padding": null,
            "right": null,
            "top": null,
            "visibility": null,
            "width": null
          }
        },
        "b77227f5a184488e86cc48ad9bcc86a1": {
          "model_module": "@jupyter-widgets/controls",
          "model_name": "ProgressStyleModel",
          "model_module_version": "1.5.0",
          "state": {
            "_model_module": "@jupyter-widgets/controls",
            "_model_module_version": "1.5.0",
            "_model_name": "ProgressStyleModel",
            "_view_count": null,
            "_view_module": "@jupyter-widgets/base",
            "_view_module_version": "1.2.0",
            "_view_name": "StyleView",
            "bar_color": null,
            "description_width": ""
          }
        },
        "fd75d8db5c9f4cad8f55170ac1208609": {
          "model_module": "@jupyter-widgets/base",
          "model_name": "LayoutModel",
          "model_module_version": "1.2.0",
          "state": {
            "_model_module": "@jupyter-widgets/base",
            "_model_module_version": "1.2.0",
            "_model_name": "LayoutModel",
            "_view_count": null,
            "_view_module": "@jupyter-widgets/base",
            "_view_module_version": "1.2.0",
            "_view_name": "LayoutView",
            "align_content": null,
            "align_items": null,
            "align_self": null,
            "border": null,
            "bottom": null,
            "display": null,
            "flex": null,
            "flex_flow": null,
            "grid_area": null,
            "grid_auto_columns": null,
            "grid_auto_flow": null,
            "grid_auto_rows": null,
            "grid_column": null,
            "grid_gap": null,
            "grid_row": null,
            "grid_template_areas": null,
            "grid_template_columns": null,
            "grid_template_rows": null,
            "height": null,
            "justify_content": null,
            "justify_items": null,
            "left": null,
            "margin": null,
            "max_height": null,
            "max_width": null,
            "min_height": null,
            "min_width": null,
            "object_fit": null,
            "object_position": null,
            "order": null,
            "overflow": null,
            "overflow_x": null,
            "overflow_y": null,
            "padding": null,
            "right": null,
            "top": null,
            "visibility": null,
            "width": null
          }
        },
        "5a4b3f54f0d84c439b85577871a3ac03": {
          "model_module": "@jupyter-widgets/controls",
          "model_name": "DescriptionStyleModel",
          "model_module_version": "1.5.0",
          "state": {
            "_model_module": "@jupyter-widgets/controls",
            "_model_module_version": "1.5.0",
            "_model_name": "DescriptionStyleModel",
            "_view_count": null,
            "_view_module": "@jupyter-widgets/base",
            "_view_module_version": "1.2.0",
            "_view_name": "StyleView",
            "description_width": ""
          }
        },
        "d37b691997a94fee8340fd34a97f8879": {
          "model_module": "@jupyter-widgets/controls",
          "model_name": "HBoxModel",
          "model_module_version": "1.5.0",
          "state": {
            "_dom_classes": [],
            "_model_module": "@jupyter-widgets/controls",
            "_model_module_version": "1.5.0",
            "_model_name": "HBoxModel",
            "_view_count": null,
            "_view_module": "@jupyter-widgets/controls",
            "_view_module_version": "1.5.0",
            "_view_name": "HBoxView",
            "box_style": "",
            "children": [
              "IPY_MODEL_cd26fbf154d243fa889e8521bde5d19b",
              "IPY_MODEL_b7b0c63118c34cf1b0950e087e19dfed",
              "IPY_MODEL_b3d024e8c3e24266b6f54a5daec660eb"
            ],
            "layout": "IPY_MODEL_e31b70ceaf0c4e98885ad2d19eaefaac"
          }
        },
        "cd26fbf154d243fa889e8521bde5d19b": {
          "model_module": "@jupyter-widgets/controls",
          "model_name": "HTMLModel",
          "model_module_version": "1.5.0",
          "state": {
            "_dom_classes": [],
            "_model_module": "@jupyter-widgets/controls",
            "_model_module_version": "1.5.0",
            "_model_name": "HTMLModel",
            "_view_count": null,
            "_view_module": "@jupyter-widgets/controls",
            "_view_module_version": "1.5.0",
            "_view_name": "HTMLView",
            "description": "",
            "description_tooltip": null,
            "layout": "IPY_MODEL_640f4148f8a94c839631ae87ace39cde",
            "placeholder": "​",
            "style": "IPY_MODEL_19eb168cc26f42a9a1c07e81994be29a",
            "value": "target.spm: 100%"
          }
        },
        "b7b0c63118c34cf1b0950e087e19dfed": {
          "model_module": "@jupyter-widgets/controls",
          "model_name": "FloatProgressModel",
          "model_module_version": "1.5.0",
          "state": {
            "_dom_classes": [],
            "_model_module": "@jupyter-widgets/controls",
            "_model_module_version": "1.5.0",
            "_model_name": "FloatProgressModel",
            "_view_count": null,
            "_view_module": "@jupyter-widgets/controls",
            "_view_module_version": "1.5.0",
            "_view_name": "ProgressView",
            "bar_style": "success",
            "description": "",
            "description_tooltip": null,
            "layout": "IPY_MODEL_aa0c1913269d4d55831d2b2a54dd2241",
            "max": 796845,
            "min": 0,
            "orientation": "horizontal",
            "style": "IPY_MODEL_5972a3b6d31f467dade3a474fa50bd31",
            "value": 796845
          }
        },
        "b3d024e8c3e24266b6f54a5daec660eb": {
          "model_module": "@jupyter-widgets/controls",
          "model_name": "HTMLModel",
          "model_module_version": "1.5.0",
          "state": {
            "_dom_classes": [],
            "_model_module": "@jupyter-widgets/controls",
            "_model_module_version": "1.5.0",
            "_model_name": "HTMLModel",
            "_view_count": null,
            "_view_module": "@jupyter-widgets/controls",
            "_view_module_version": "1.5.0",
            "_view_name": "HTMLView",
            "description": "",
            "description_tooltip": null,
            "layout": "IPY_MODEL_d0ed43d176cd4a5f92868c7bc2835307",
            "placeholder": "​",
            "style": "IPY_MODEL_6131dd624d824896b836a829478bf5f3",
            "value": " 797k/797k [00:00&lt;00:00, 20.6MB/s]"
          }
        },
        "e31b70ceaf0c4e98885ad2d19eaefaac": {
          "model_module": "@jupyter-widgets/base",
          "model_name": "LayoutModel",
          "model_module_version": "1.2.0",
          "state": {
            "_model_module": "@jupyter-widgets/base",
            "_model_module_version": "1.2.0",
            "_model_name": "LayoutModel",
            "_view_count": null,
            "_view_module": "@jupyter-widgets/base",
            "_view_module_version": "1.2.0",
            "_view_name": "LayoutView",
            "align_content": null,
            "align_items": null,
            "align_self": null,
            "border": null,
            "bottom": null,
            "display": null,
            "flex": null,
            "flex_flow": null,
            "grid_area": null,
            "grid_auto_columns": null,
            "grid_auto_flow": null,
            "grid_auto_rows": null,
            "grid_column": null,
            "grid_gap": null,
            "grid_row": null,
            "grid_template_areas": null,
            "grid_template_columns": null,
            "grid_template_rows": null,
            "height": null,
            "justify_content": null,
            "justify_items": null,
            "left": null,
            "margin": null,
            "max_height": null,
            "max_width": null,
            "min_height": null,
            "min_width": null,
            "object_fit": null,
            "object_position": null,
            "order": null,
            "overflow": null,
            "overflow_x": null,
            "overflow_y": null,
            "padding": null,
            "right": null,
            "top": null,
            "visibility": null,
            "width": null
          }
        },
        "640f4148f8a94c839631ae87ace39cde": {
          "model_module": "@jupyter-widgets/base",
          "model_name": "LayoutModel",
          "model_module_version": "1.2.0",
          "state": {
            "_model_module": "@jupyter-widgets/base",
            "_model_module_version": "1.2.0",
            "_model_name": "LayoutModel",
            "_view_count": null,
            "_view_module": "@jupyter-widgets/base",
            "_view_module_version": "1.2.0",
            "_view_name": "LayoutView",
            "align_content": null,
            "align_items": null,
            "align_self": null,
            "border": null,
            "bottom": null,
            "display": null,
            "flex": null,
            "flex_flow": null,
            "grid_area": null,
            "grid_auto_columns": null,
            "grid_auto_flow": null,
            "grid_auto_rows": null,
            "grid_column": null,
            "grid_gap": null,
            "grid_row": null,
            "grid_template_areas": null,
            "grid_template_columns": null,
            "grid_template_rows": null,
            "height": null,
            "justify_content": null,
            "justify_items": null,
            "left": null,
            "margin": null,
            "max_height": null,
            "max_width": null,
            "min_height": null,
            "min_width": null,
            "object_fit": null,
            "object_position": null,
            "order": null,
            "overflow": null,
            "overflow_x": null,
            "overflow_y": null,
            "padding": null,
            "right": null,
            "top": null,
            "visibility": null,
            "width": null
          }
        },
        "19eb168cc26f42a9a1c07e81994be29a": {
          "model_module": "@jupyter-widgets/controls",
          "model_name": "DescriptionStyleModel",
          "model_module_version": "1.5.0",
          "state": {
            "_model_module": "@jupyter-widgets/controls",
            "_model_module_version": "1.5.0",
            "_model_name": "DescriptionStyleModel",
            "_view_count": null,
            "_view_module": "@jupyter-widgets/base",
            "_view_module_version": "1.2.0",
            "_view_name": "StyleView",
            "description_width": ""
          }
        },
        "aa0c1913269d4d55831d2b2a54dd2241": {
          "model_module": "@jupyter-widgets/base",
          "model_name": "LayoutModel",
          "model_module_version": "1.2.0",
          "state": {
            "_model_module": "@jupyter-widgets/base",
            "_model_module_version": "1.2.0",
            "_model_name": "LayoutModel",
            "_view_count": null,
            "_view_module": "@jupyter-widgets/base",
            "_view_module_version": "1.2.0",
            "_view_name": "LayoutView",
            "align_content": null,
            "align_items": null,
            "align_self": null,
            "border": null,
            "bottom": null,
            "display": null,
            "flex": null,
            "flex_flow": null,
            "grid_area": null,
            "grid_auto_columns": null,
            "grid_auto_flow": null,
            "grid_auto_rows": null,
            "grid_column": null,
            "grid_gap": null,
            "grid_row": null,
            "grid_template_areas": null,
            "grid_template_columns": null,
            "grid_template_rows": null,
            "height": null,
            "justify_content": null,
            "justify_items": null,
            "left": null,
            "margin": null,
            "max_height": null,
            "max_width": null,
            "min_height": null,
            "min_width": null,
            "object_fit": null,
            "object_position": null,
            "order": null,
            "overflow": null,
            "overflow_x": null,
            "overflow_y": null,
            "padding": null,
            "right": null,
            "top": null,
            "visibility": null,
            "width": null
          }
        },
        "5972a3b6d31f467dade3a474fa50bd31": {
          "model_module": "@jupyter-widgets/controls",
          "model_name": "ProgressStyleModel",
          "model_module_version": "1.5.0",
          "state": {
            "_model_module": "@jupyter-widgets/controls",
            "_model_module_version": "1.5.0",
            "_model_name": "ProgressStyleModel",
            "_view_count": null,
            "_view_module": "@jupyter-widgets/base",
            "_view_module_version": "1.2.0",
            "_view_name": "StyleView",
            "bar_color": null,
            "description_width": ""
          }
        },
        "d0ed43d176cd4a5f92868c7bc2835307": {
          "model_module": "@jupyter-widgets/base",
          "model_name": "LayoutModel",
          "model_module_version": "1.2.0",
          "state": {
            "_model_module": "@jupyter-widgets/base",
            "_model_module_version": "1.2.0",
            "_model_name": "LayoutModel",
            "_view_count": null,
            "_view_module": "@jupyter-widgets/base",
            "_view_module_version": "1.2.0",
            "_view_name": "LayoutView",
            "align_content": null,
            "align_items": null,
            "align_self": null,
            "border": null,
            "bottom": null,
            "display": null,
            "flex": null,
            "flex_flow": null,
            "grid_area": null,
            "grid_auto_columns": null,
            "grid_auto_flow": null,
            "grid_auto_rows": null,
            "grid_column": null,
            "grid_gap": null,
            "grid_row": null,
            "grid_template_areas": null,
            "grid_template_columns": null,
            "grid_template_rows": null,
            "height": null,
            "justify_content": null,
            "justify_items": null,
            "left": null,
            "margin": null,
            "max_height": null,
            "max_width": null,
            "min_height": null,
            "min_width": null,
            "object_fit": null,
            "object_position": null,
            "order": null,
            "overflow": null,
            "overflow_x": null,
            "overflow_y": null,
            "padding": null,
            "right": null,
            "top": null,
            "visibility": null,
            "width": null
          }
        },
        "6131dd624d824896b836a829478bf5f3": {
          "model_module": "@jupyter-widgets/controls",
          "model_name": "DescriptionStyleModel",
          "model_module_version": "1.5.0",
          "state": {
            "_model_module": "@jupyter-widgets/controls",
            "_model_module_version": "1.5.0",
            "_model_name": "DescriptionStyleModel",
            "_view_count": null,
            "_view_module": "@jupyter-widgets/base",
            "_view_module_version": "1.2.0",
            "_view_name": "StyleView",
            "description_width": ""
          }
        },
        "f74b76ce60dc4745a165930bbc5a36b2": {
          "model_module": "@jupyter-widgets/controls",
          "model_name": "HBoxModel",
          "model_module_version": "1.5.0",
          "state": {
            "_dom_classes": [],
            "_model_module": "@jupyter-widgets/controls",
            "_model_module_version": "1.5.0",
            "_model_name": "HBoxModel",
            "_view_count": null,
            "_view_module": "@jupyter-widgets/controls",
            "_view_module_version": "1.5.0",
            "_view_name": "HBoxView",
            "box_style": "",
            "children": [
              "IPY_MODEL_b208d17576e84aa1a31c1f0c95e30fe6",
              "IPY_MODEL_ee18f951bb5e4819978f30cc9baa4016",
              "IPY_MODEL_4485c0e4ab7e4e01b073d9a4c84acaed"
            ],
            "layout": "IPY_MODEL_3698551813bc4c088db2cf2343139549"
          }
        },
        "b208d17576e84aa1a31c1f0c95e30fe6": {
          "model_module": "@jupyter-widgets/controls",
          "model_name": "HTMLModel",
          "model_module_version": "1.5.0",
          "state": {
            "_dom_classes": [],
            "_model_module": "@jupyter-widgets/controls",
            "_model_module_version": "1.5.0",
            "_model_name": "HTMLModel",
            "_view_count": null,
            "_view_module": "@jupyter-widgets/controls",
            "_view_module_version": "1.5.0",
            "_view_name": "HTMLView",
            "description": "",
            "description_tooltip": null,
            "layout": "IPY_MODEL_f2ef556c3bc3405d984b378f94791086",
            "placeholder": "​",
            "style": "IPY_MODEL_9ca20bd9aa8b46c3ba04d2f7b6120fc8",
            "value": "vocab.json: "
          }
        },
        "ee18f951bb5e4819978f30cc9baa4016": {
          "model_module": "@jupyter-widgets/controls",
          "model_name": "FloatProgressModel",
          "model_module_version": "1.5.0",
          "state": {
            "_dom_classes": [],
            "_model_module": "@jupyter-widgets/controls",
            "_model_module_version": "1.5.0",
            "_model_name": "FloatProgressModel",
            "_view_count": null,
            "_view_module": "@jupyter-widgets/controls",
            "_view_module_version": "1.5.0",
            "_view_name": "ProgressView",
            "bar_style": "success",
            "description": "",
            "description_tooltip": null,
            "layout": "IPY_MODEL_1cde4904fe4f4179a655ddfa35dc4f7f",
            "max": 1,
            "min": 0,
            "orientation": "horizontal",
            "style": "IPY_MODEL_71051ab0f18548b38fbd09766f7e354b",
            "value": 1
          }
        },
        "4485c0e4ab7e4e01b073d9a4c84acaed": {
          "model_module": "@jupyter-widgets/controls",
          "model_name": "HTMLModel",
          "model_module_version": "1.5.0",
          "state": {
            "_dom_classes": [],
            "_model_module": "@jupyter-widgets/controls",
            "_model_module_version": "1.5.0",
            "_model_name": "HTMLModel",
            "_view_count": null,
            "_view_module": "@jupyter-widgets/controls",
            "_view_module_version": "1.5.0",
            "_view_name": "HTMLView",
            "description": "",
            "description_tooltip": null,
            "layout": "IPY_MODEL_55298b86b6674f79afc238df3d934d39",
            "placeholder": "​",
            "style": "IPY_MODEL_77646535601b43b79ee4f25d5348b045",
            "value": " 1.27M/? [00:00&lt;00:00, 21.4MB/s]"
          }
        },
        "3698551813bc4c088db2cf2343139549": {
          "model_module": "@jupyter-widgets/base",
          "model_name": "LayoutModel",
          "model_module_version": "1.2.0",
          "state": {
            "_model_module": "@jupyter-widgets/base",
            "_model_module_version": "1.2.0",
            "_model_name": "LayoutModel",
            "_view_count": null,
            "_view_module": "@jupyter-widgets/base",
            "_view_module_version": "1.2.0",
            "_view_name": "LayoutView",
            "align_content": null,
            "align_items": null,
            "align_self": null,
            "border": null,
            "bottom": null,
            "display": null,
            "flex": null,
            "flex_flow": null,
            "grid_area": null,
            "grid_auto_columns": null,
            "grid_auto_flow": null,
            "grid_auto_rows": null,
            "grid_column": null,
            "grid_gap": null,
            "grid_row": null,
            "grid_template_areas": null,
            "grid_template_columns": null,
            "grid_template_rows": null,
            "height": null,
            "justify_content": null,
            "justify_items": null,
            "left": null,
            "margin": null,
            "max_height": null,
            "max_width": null,
            "min_height": null,
            "min_width": null,
            "object_fit": null,
            "object_position": null,
            "order": null,
            "overflow": null,
            "overflow_x": null,
            "overflow_y": null,
            "padding": null,
            "right": null,
            "top": null,
            "visibility": null,
            "width": null
          }
        },
        "f2ef556c3bc3405d984b378f94791086": {
          "model_module": "@jupyter-widgets/base",
          "model_name": "LayoutModel",
          "model_module_version": "1.2.0",
          "state": {
            "_model_module": "@jupyter-widgets/base",
            "_model_module_version": "1.2.0",
            "_model_name": "LayoutModel",
            "_view_count": null,
            "_view_module": "@jupyter-widgets/base",
            "_view_module_version": "1.2.0",
            "_view_name": "LayoutView",
            "align_content": null,
            "align_items": null,
            "align_self": null,
            "border": null,
            "bottom": null,
            "display": null,
            "flex": null,
            "flex_flow": null,
            "grid_area": null,
            "grid_auto_columns": null,
            "grid_auto_flow": null,
            "grid_auto_rows": null,
            "grid_column": null,
            "grid_gap": null,
            "grid_row": null,
            "grid_template_areas": null,
            "grid_template_columns": null,
            "grid_template_rows": null,
            "height": null,
            "justify_content": null,
            "justify_items": null,
            "left": null,
            "margin": null,
            "max_height": null,
            "max_width": null,
            "min_height": null,
            "min_width": null,
            "object_fit": null,
            "object_position": null,
            "order": null,
            "overflow": null,
            "overflow_x": null,
            "overflow_y": null,
            "padding": null,
            "right": null,
            "top": null,
            "visibility": null,
            "width": null
          }
        },
        "9ca20bd9aa8b46c3ba04d2f7b6120fc8": {
          "model_module": "@jupyter-widgets/controls",
          "model_name": "DescriptionStyleModel",
          "model_module_version": "1.5.0",
          "state": {
            "_model_module": "@jupyter-widgets/controls",
            "_model_module_version": "1.5.0",
            "_model_name": "DescriptionStyleModel",
            "_view_count": null,
            "_view_module": "@jupyter-widgets/base",
            "_view_module_version": "1.2.0",
            "_view_name": "StyleView",
            "description_width": ""
          }
        },
        "1cde4904fe4f4179a655ddfa35dc4f7f": {
          "model_module": "@jupyter-widgets/base",
          "model_name": "LayoutModel",
          "model_module_version": "1.2.0",
          "state": {
            "_model_module": "@jupyter-widgets/base",
            "_model_module_version": "1.2.0",
            "_model_name": "LayoutModel",
            "_view_count": null,
            "_view_module": "@jupyter-widgets/base",
            "_view_module_version": "1.2.0",
            "_view_name": "LayoutView",
            "align_content": null,
            "align_items": null,
            "align_self": null,
            "border": null,
            "bottom": null,
            "display": null,
            "flex": null,
            "flex_flow": null,
            "grid_area": null,
            "grid_auto_columns": null,
            "grid_auto_flow": null,
            "grid_auto_rows": null,
            "grid_column": null,
            "grid_gap": null,
            "grid_row": null,
            "grid_template_areas": null,
            "grid_template_columns": null,
            "grid_template_rows": null,
            "height": null,
            "justify_content": null,
            "justify_items": null,
            "left": null,
            "margin": null,
            "max_height": null,
            "max_width": null,
            "min_height": null,
            "min_width": null,
            "object_fit": null,
            "object_position": null,
            "order": null,
            "overflow": null,
            "overflow_x": null,
            "overflow_y": null,
            "padding": null,
            "right": null,
            "top": null,
            "visibility": null,
            "width": "20px"
          }
        },
        "71051ab0f18548b38fbd09766f7e354b": {
          "model_module": "@jupyter-widgets/controls",
          "model_name": "ProgressStyleModel",
          "model_module_version": "1.5.0",
          "state": {
            "_model_module": "@jupyter-widgets/controls",
            "_model_module_version": "1.5.0",
            "_model_name": "ProgressStyleModel",
            "_view_count": null,
            "_view_module": "@jupyter-widgets/base",
            "_view_module_version": "1.2.0",
            "_view_name": "StyleView",
            "bar_color": null,
            "description_width": ""
          }
        },
        "55298b86b6674f79afc238df3d934d39": {
          "model_module": "@jupyter-widgets/base",
          "model_name": "LayoutModel",
          "model_module_version": "1.2.0",
          "state": {
            "_model_module": "@jupyter-widgets/base",
            "_model_module_version": "1.2.0",
            "_model_name": "LayoutModel",
            "_view_count": null,
            "_view_module": "@jupyter-widgets/base",
            "_view_module_version": "1.2.0",
            "_view_name": "LayoutView",
            "align_content": null,
            "align_items": null,
            "align_self": null,
            "border": null,
            "bottom": null,
            "display": null,
            "flex": null,
            "flex_flow": null,
            "grid_area": null,
            "grid_auto_columns": null,
            "grid_auto_flow": null,
            "grid_auto_rows": null,
            "grid_column": null,
            "grid_gap": null,
            "grid_row": null,
            "grid_template_areas": null,
            "grid_template_columns": null,
            "grid_template_rows": null,
            "height": null,
            "justify_content": null,
            "justify_items": null,
            "left": null,
            "margin": null,
            "max_height": null,
            "max_width": null,
            "min_height": null,
            "min_width": null,
            "object_fit": null,
            "object_position": null,
            "order": null,
            "overflow": null,
            "overflow_x": null,
            "overflow_y": null,
            "padding": null,
            "right": null,
            "top": null,
            "visibility": null,
            "width": null
          }
        },
        "77646535601b43b79ee4f25d5348b045": {
          "model_module": "@jupyter-widgets/controls",
          "model_name": "DescriptionStyleModel",
          "model_module_version": "1.5.0",
          "state": {
            "_model_module": "@jupyter-widgets/controls",
            "_model_module_version": "1.5.0",
            "_model_name": "DescriptionStyleModel",
            "_view_count": null,
            "_view_module": "@jupyter-widgets/base",
            "_view_module_version": "1.2.0",
            "_view_name": "StyleView",
            "description_width": ""
          }
        }
      }
    },
    "accelerator": "GPU"
  },
  "cells": [
    {
      "cell_type": "markdown",
      "metadata": {
        "id": "view-in-github",
        "colab_type": "text"
      },
      "source": [
        "<a href=\"https://colab.research.google.com/github/DavidSenseman/BIO1173/blob/main/Copy_of_Class_05_1.ipynb\" target=\"_parent\"><img src=\"https://colab.research.google.com/assets/colab-badge.svg\" alt=\"Open In Colab\"/></a>"
      ]
    },
    {
      "cell_type": "markdown",
      "metadata": {
        "id": "ZYZVwSpdbE3Y"
      },
      "source": [
        "---------------------------\n",
        "**COPYRIGHT NOTICE:** This Jupyterlab Notebook is a Derivative work of [Jeff Heaton](https://github.com/jeffheaton) licensed under the Apache License, Version 2.0 (the \"License\"); You may not use this file except in compliance with the License. You may obtain a copy of the License at\n",
        "\n",
        "> [http://www.apache.org/licenses/LICENSE-2.0](http://www.apache.org/licenses/LICENSE-2.0)\n",
        "\n",
        "Unless required by applicable law or agreed to in writing, software distributed under the License is distributed on an \"AS IS\" BASIS, WITHOUT WARRANTIES OR CONDITIONS OF ANY KIND, either express or implied. See the License for the specific language governing permissions and limitations under the License.\n",
        "\n",
        "------------------------"
      ]
    },
    {
      "cell_type": "code",
      "source": [
        "    from google.colab import drive\n",
        "    drive.mount('/content/drive', force_remount=True)"
      ],
      "metadata": {
        "colab": {
          "base_uri": "https://localhost:8080/"
        },
        "id": "CJLLMA0A-OFW",
        "outputId": "1cd7e234-0821-4a48-dc9a-40db010b3763"
      },
      "execution_count": 9,
      "outputs": [
        {
          "output_type": "stream",
          "name": "stdout",
          "text": [
            "Mounted at /content/drive\n"
          ]
        }
      ]
    },
    {
      "cell_type": "code",
      "source": [
        "\n",
        "import os\n",
        "\n",
        "# List all files and directories in /content\n",
        "for filename in os.listdir('/content/drive/MyDrive/Colab Notebooks'):\n",
        "    print(filename)\n"
      ],
      "metadata": {
        "colab": {
          "base_uri": "https://localhost:8080/"
        },
        "id": "QNXats8k-CHf",
        "outputId": "6d503df7-6f76-441c-c2f3-9badd47cc86e"
      },
      "execution_count": 12,
      "outputs": [
        {
          "output_type": "stream",
          "name": "stdout",
          "text": [
            "Copy of Class_05_1.ipynb\n",
            "Lesson_02_2_Solution.ipynb\n",
            "Class_01_7_Solns.ipynb\n",
            "Copy of Class_01_3.ipynb\n",
            "Class_01_7.ipynb\n",
            "Lesson_01_1.ipynb\n",
            "Lesson_01_4.ipynb\n",
            "Copy of Class_03_2.ipynb\n",
            "Lesson_03_2_Solns (1).ipynb\n",
            "Lesson_03_2 (1).ipynb\n",
            "Copy of Lesson_03_2.ipynb\n",
            "Lesson_03_3_Solns.ipynb\n",
            "Minst_Example.ipynb\n",
            "Class_02_3_Solutions (1).ipynb\n",
            "Lesson_03_1.ipynb\n",
            "Lesson_03_4_Solns.ipynb\n",
            "Lesson_03_4 (1).ipynb\n",
            "Lesson_03_3.ipynb\n",
            "Lesson_03_4_Solutions.ipynb\n",
            "Lesson_03_4.ipynb\n",
            "Lesson_03_5_Solutions (1).ipynb\n",
            "Lesson_03_5 (2).ipynb\n",
            "Lesson_03_5_Solutions.ipynb\n",
            "Lesson_03_5 (1).ipynb\n",
            "Lesson_03_8_Solutions.ipynb\n",
            "Lesson_03_8.ipynb\n",
            "Lesson_03_2_Solns.ipynb\n",
            "Lesson_03_2.ipynb\n",
            "Lesson_02_3_Solns.ipynb\n",
            "Lesson_03_9_Solutions.ipynb\n",
            "Lesson_03_9.ipynb\n",
            "Class_04_1_Solutions.ipynb\n",
            "Copy of Class_03_4.ipynb\n",
            "Class_03_4 (2).ipynb\n",
            "Copy of Class_03_5.ipynb\n",
            "Copy of Lesson_03_5.ipynb\n",
            "Lesson_03_5.ipynb\n",
            "Class_04_2_Solutions (2).ipynb\n",
            "Copy of Class_04_3 (2).ipynb\n",
            "Copy of Class_04_4.ipynb\n",
            "Class_04_4_Solutions (1).ipynb\n",
            "Copy of Class_05_1 (1).ipynb\n",
            "Class_05_1_Solutions (1).ipynb\n",
            "Copy of Class_05_2.ipynb\n",
            "Copy of Class_05_3.ipynb\n",
            "Class_05_3_Solutions.ipynb\n",
            "Copy of Class_05_4.ipynb\n",
            "Class_05_4_Solutions.ipynb\n",
            "Copy of Class_05_5.ipynb\n",
            "Class_05_5_Solutions.ipynb\n",
            "Copy of Class_06_1 (2).ipynb\n",
            "Another copy of Class_06_1.ipynb\n",
            "Class_06_1 (6).ipynb\n",
            "Copy of New_Class_06_1.ipynb\n",
            "Copy of Class_06_1 (1).ipynb\n",
            "Copy of Class_06_1.ipynb\n",
            "Assigment_1_BreastMNIST_Solutions.ipynb\n",
            "Assigment_1 (1).ipynb\n",
            "Assigment_1_bloodmnist_224.ipynb\n",
            "Assigment_1_pathmnist_224.ipynb\n",
            "Assigment_1_pneumoniamnist.ipynb\n",
            "Assigment_1_retinamnist_128.ipynb\n",
            "Copy of Class_04_3 (1).ipynb\n",
            "Class_04_3_Solutions (1).ipynb\n",
            "Assigment_1_cellmnist (1).ipynb\n",
            "Class_06_1 (5).ipynb\n",
            "Class_06_1 (4).ipynb\n",
            "Class_06_1 (3).ipynb\n",
            "Assigment_1.ipynb\n",
            "Class_06_1 (2).ipynb\n",
            "Class_06_1 (1).ipynb\n",
            "Assigment_01 (1).ipynb\n",
            "Class_06_3_Solutions.ipynb\n",
            "Lesson_03_10_Solutions (1).ipynb\n",
            "Class_05_2_Solutions.ipynb\n",
            "Lesson_03_10_Solutions.ipynb\n",
            "Assigment_1_organsmnist_64.ipynb\n",
            "Assigment_1_organsmnist.ipynb\n",
            "Copy of Assigment_01_organamnist.ipynb\n",
            "Assigment_1_cellmnist.ipynb\n",
            "Solutions_Assigment_1_pneumoniamnist_64.ipynb\n",
            "Solutions_Assigment_1_pathmnist_224.ipynb\n",
            "Class_06_1_Solutions.ipynb\n",
            "Lesson_03_11 (1).ipynb\n",
            "Lesson_03_11_Solutions.ipynb\n",
            "Lesson_03_11.ipynb\n",
            "Lesson_03_12.ipynb\n",
            "Lesson_03_10.ipynb\n",
            "Solutions_Assigment_1_pathmnist_128.ipynb\n",
            "Assigment_02.ipynb\n",
            "Sta1404_WorkedProblems (1).ipynb\n",
            "Copy of Class_01_1 (3).ipynb\n",
            "Copy of Class_01_1 (2).ipynb\n",
            "Class_01_1 (3).ipynb\n",
            "Class_03_1 (2).ipynb\n",
            "Another copy of Class_01_1.ipynb\n",
            "Class_03_5.ipynb\n",
            "Class_03_4 (1).ipynb\n",
            "Copy of Class_01_1 (1).ipynb\n",
            "Class_04_3 (2).ipynb\n",
            "Class_04_4 (1).ipynb\n",
            "Class_05_1 (1).ipynb\n",
            "Class_05_2.ipynb\n",
            "Class_05_4.ipynb\n",
            "Class_05_5 (1).ipynb\n",
            "Class_05_5.ipynb\n",
            "Class_06_3 (1).ipynb\n",
            "ExamAnswers_BIO1173.ipynb\n",
            "DogCat_v1.ipynb\n",
            "DogCat_v2.ipynb\n",
            "Assigment_01.ipynb\n",
            "Spring25_Assigment_01.ipynb\n",
            "PD_Spring25_Assigment_01.ipynb\n",
            "Hepatitis_Spring25_Assigment_01.ipynb\n",
            "BinaryClassification_Spring25_Assigment_01.ipynb\n",
            "BinaryClassification_Spring25_Assigment_01_CoimbraBC.ipynb\n",
            "Regression_Spring25_Assigment_01.ipynb\n",
            "Multiclass_Classification_Spring25_Assigment_01.ipynb\n",
            "Extract_Questions_Qti (1).ipynb\n",
            "Extract_Questions_Qti.ipynb\n",
            "ConvertARFF.ipynb\n",
            "Class_02_2_Solutions.ipynb\n",
            "Regression_Spring25_Assigment_01_DiabetesProg.ipynb\n",
            "Regression_Spring25_Assigment_01_BreastCancer.ipynb\n",
            "Assigment_01_Regression (1).ipynb\n",
            "Class_02_1 (2).ipynb\n",
            "Class_02_1_Solutions.ipynb\n",
            "Class_02_1 (1).ipynb\n",
            "Multiclass_Classification_Spring25_Assigment_01_WineQual.ipynb\n",
            "Class_04_2 (1).ipynb\n",
            "Multiclass_Classification_Spring25_Assigment_01_LiverDisease (1).ipynb\n",
            "BinaryClassification_Spring25_Assigment_01_CoimbraBreastCancer.ipynb\n",
            "BinaryClassification_Spring25_Assigment_01_IndianLiver.ipynb\n",
            "BinaryClassification_Spring25_Assigment_01_Hepatist.ipynb\n",
            "BinaryClassification_Spring25_Assigment_01_Parkinson.ipynb\n",
            "Assigment_01 : BinaryClassification.ipynb\n",
            "Multiclass_Classification_Spring25_Assigment_01_ThyroidRes.ipynb\n",
            "Multiclass_Classification_Spring25_Assigment_01_WineQuality.ipynb\n",
            "Assigment_01 : Multiclass Classification.ipynb\n",
            "Multiclass_Classification_Spring25_Assigment_01_LiverDisease.ipynb\n",
            "Regression_Spring25_Assigment_01_BoneMarrow.ipynb\n",
            "Regression_Spring25_Assigment_01_GermanBreastCancer.ipynb\n",
            "Regression_Spring25_Assigment_01_DiabetesProgression.ipynb\n",
            "Assigment_01_Regression.ipynb\n",
            "Class_02_2 (2).ipynb\n",
            "Goku_Trial_01ipynb\n",
            "Class_03_2.ipynb\n",
            "Copy of t81_559_class_01_1_overview.ipynb\n",
            "Copy of t81_558_class_01_1_overview (1).ipynb\n",
            "Copy of t81_559_class_01_3_openai.ipynb\n",
            "Copy of t81_559_class_01_4_langchain.ipynb\n",
            "Copy of t81_559_class_01_5_prompt_engineering.ipynb\n",
            "Copy of t81_559_class_02_2_multi_prompt.ipynb\n",
            "Copy of t81_559_class_02_3_llm_debug.ipynb\n",
            "Copy of t81_559_class_02_4_software_eng.ipynb\n",
            "Copy of t81_559_class_02_5_code_gen_limits.ipynb\n",
            "Copy of t81_559_class_03_1_llm.ipynb\n",
            "Copy of t81_559_class_03_2_text_gen.ipynb\n",
            "Copy of t81_559_class_03_3_text_summary.ipynb\n",
            "Copy of t81_559_class_03_4_classification.ipynb\n",
            "Copy of t81_559_class_03_5_book.ipynb\n",
            "ShelleyCEO_book.ipynb\n",
            "DavidShelley_book.ipynb\n",
            "Copy of t81_559_class_04_1_langchain_chat.ipynb\n",
            "Copy of t81_559_class_04_2_memory_buffer (2).ipynb\n",
            "Copy of t81_559_class_04_2_memory_buffer (1).ipynb\n",
            "Copy of t81_559_class_04_2_memory_buffer.ipynb\n",
            "Copy of t81_559_class_04_4_memory_summary.ipynb\n",
            "Copy of t81_559_class_04_5_memory_persist.ipynb\n",
            "Copy of t81_559_class_05_1_langchain_data.ipynb\n",
            "Copy of t81_559_class_05_2_parsers.ipynb\n",
            "Copy of t81_559_class_05_4_custom_parsers.ipynb\n",
            "Copy of t81_559_class_05_5_output_fixing_parsers.ipynb\n",
            "Copy of t81_559_class_09_1_image_genai.ipynb\n",
            "Copy of t81_559_class_09_2_dalle.ipynb\n",
            "Copy of t81_559_class_09_3_dalle_existing.ipynb\n",
            "Copy of t81_559_class_09_4_multimodal.ipynb\n",
            "Copy of t81_559_class_06_1_rag.ipynb\n",
            "Copy of t81_559_class_06_2_chromadb.ipynb\n",
            "Copy of t81_559_class_06_3_embeddings.ipynb\n",
            "Copy of t81_559_class_06_4_qa.ipynb\n",
            "Copy of t81_559_class_06_5_embed_db.ipynb\n",
            "Copy of t81_559_class_07_1_agents.ipynb\n",
            "Copy of t81_559_class_07_2_tools.ipynb\n",
            "Copy of t81_559_class_07_3_search_tools.ipynb\n",
            "Copy of t81_559_class_07_4_more_agent.ipynb\n",
            "Copy of t81_559_class_07_5_custom_agent.ipynb\n",
            "Copy of t81_559_class_08_1_kaggle_intro.ipynb\n",
            "Copy of t81_559_class_08_2_kaggle_notebooks.ipynb\n",
            "Copy of t81_559_class_02_1_dev.ipynb\n",
            "Copy of t81_558_class_01_1_overview.ipynb\n",
            "t81_558_class_01_2_intro_python.ipynb\n",
            "t81_558_class_01_3_python_collections.ipynb\n",
            "Copy of t81_558_class_03_1_neural_net.ipynb\n",
            "t81_558_class_03_2_pytorch.ipynb\n",
            "t81_558_class_03_5_pytorch_class_sequence.ipynb\n",
            "t81_558_class_03_4_early_stop.ipynb\n",
            "t81_558_class_03_3_feature_encode.ipynb\n",
            "t81_558_class_03_1_neural_net.ipynb\n",
            "t81_558_class_04_1_kfold.ipynb\n",
            "t81_558_class_04_2_schedule.ipynb\n",
            "t81_558_class_04_3_dropout.ipynb\n",
            "t81_558_class_04_4_batch_norm.ipynb\n",
            "t81_558_class_04_5_rapids (1).ipynb\n",
            "t81_558_class_04_5_rapids.ipynb\n",
            "t81_558_class_06_1_python_images (2).ipynb\n",
            "t81_558_class_06_2_cnn (1).ipynb\n",
            "t81_558_class_06_2_cnn.ipynb\n",
            "t81_558_class_06_3_llm_memory (1).ipynb\n",
            "t81_558_class_06_3_llm_memory.ipynb\n",
            "t81_558_class_06_1_python_images (1).ipynb\n",
            "t81_558_class_06_1_python_images.ipynb\n",
            "t81_558_class_07_1_python_images.ipynb\n",
            "t81_558_class_07_2_gan_intro.ipynb\n",
            "SwarmUIcolab-notebook.ipynb\n",
            "Class_03_3 (1).ipynb\n",
            "Class_01_1 (2).ipynb\n",
            "Class_01_2.ipynb\n",
            "Class_01_3.ipynb\n",
            "Class_01_5.ipynb\n",
            "Class_02_1_Spring2025.ipynb\n",
            "Class_03_1 (1).ipynb\n",
            "Class_04_1_Spring2025.ipynb\n",
            "Copy of Class_02_2.ipynb\n",
            "Class_02_2 (1).ipynb\n",
            "Class_04_1 (1).ipynb\n",
            "F25_Class_05_1.ipynb\n",
            "F25_Class_05_2.ipynb\n",
            "F25_Class_05_3 (2).ipynb\n",
            "Copy of F25_Class_05_3_biopython.ipynb\n",
            "F25_Class_05_3 (1).ipynb\n",
            "F25_Class_05_3.ipynb\n",
            "F25_Class_05_4.ipynb\n",
            "Untitled3.ipynb\n",
            "F25_Class_06_2.ipynb\n",
            "F25_Class_06_4.ipynb\n",
            "F25_Class_06_3.ipynb\n",
            "F25_Class_04_2.ipynb\n",
            "F25_Class_04_3.ipynb\n",
            "EXTRA_F25_Class_05_1ipynb\n",
            "F25_Class_02_1.ipynb\n",
            "F25_Class_02_2.ipynb\n",
            "KaggleGemma.ipynb\n",
            "Copy of KaggleGemma.ipynb\n",
            "Copy of F25_Class_03_4.ipynb\n",
            "F25_Class_01_2.ipynb\n",
            "Class_01_1 (1).ipynb\n",
            "F25_Class_01_3.ipynb\n",
            "F25_Class_01_4.ipynb\n",
            "F25_Class_01_5.ipynb\n",
            "BIOSTATS_Assignment_07_Solutions.ipynb\n",
            "BIOSTATS_Assignment_10.ipynb\n",
            "BIOSTATS_Assignment_06_Solns.ipynb\n",
            "BIOSTATS_Assignment_01.ipynb\n",
            "STA_Assignment_10.ipynb\n",
            "BIOSTATS_Assignment_07.ipynb\n",
            "BIOSTATS_Assignment_06 (1).ipynb\n",
            "BIOSTATS_Assignment_06.ipynb\n",
            "BIOSTATS_Assignment_05.ipynb\n",
            "SP25_Assigment_01_Regression (2).ipynb\n",
            "SP25_Assigment_01_BinaryClassification (2).ipynb\n",
            "SP25_Assigment_01_Regression (1).ipynb\n",
            "GemmaExample.ipynb\n",
            "CoPilotExample.ipynb\n",
            "F25_Class_06_1_Acrobot.ipynb\n",
            "F25_Class_06_1.ipynb\n",
            "F25_Class_06_1_CartPole.ipynb\n",
            "Class_05_3.ipynb\n",
            "AI_Scientist_2.ipynb\n",
            "AI_Scientist_01.ipynb\n",
            "AI_Scientist_03.ipynb\n",
            "Copy of AI_Scientist_Ideas_04.ipynb\n",
            "AI_Scientist_Ideas_04.ipynb\n",
            "AI_Scientist_05.ipynb\n",
            "AI_Scientist_06.ipynb\n",
            "AI_Scientist_07.ipynb\n",
            "F25_Class_01_6.ipynb\n",
            "SP25_Assigment_01_BinaryClassification (1).ipynb\n",
            "F25_Reinforcement_01.ipynb\n",
            "F25_Class_04_1_Gemma.ipynb\n",
            "Copy of SP25_Assigment_01_BinaryClassification.ipynb\n",
            "SP25_Assigment_01_BinaryClassification_CoimbraBreastCancer.ipynb\n",
            "SP25_Assigment_01_BinaryClassification_ParkinsonSpeech.ipynb\n",
            "SP25_Assigment_01_BinaryClassification_IndianLiver.ipynb\n",
            "SP25_Assigment_01_BinaryClassification_Hepatitis.ipynb\n",
            "SP25_Assigment_01_BinaryClassification.ipynb\n",
            "SP25_Assigment_01_Multiclass_Classification.ipynb\n",
            "SP25_Assigment_01_Regression.ipynb\n",
            "SP25_Assigment_02_Digit_0.ipynb\n",
            "SP25_Assigment_02_Digit_1.ipynb\n",
            "SP25_Assigment_02_Digit_2.ipynb\n",
            "SP25_Assigment_02_Digit_3.ipynb\n",
            "SP25_Assigment_02_Digit_4.ipynb\n",
            "SP25_Assigment_02_Digit_5 (1).ipynb\n",
            "SP25_Assigment_02_Digit_999.ipynb\n",
            "Copy of SP25_Assigment_02_Digit_9.ipynb\n",
            "SP25_Assigment_02_Digit_5.ipynb\n",
            "SP25_Assigment_02.ipynb\n",
            "Class_06_1.ipynb\n",
            "Class_06_3.ipynb\n",
            "Class_06_4 (1).ipynb\n",
            "SP25_Assigment_02_Digit_6.ipynb\n",
            "Class_06_2.ipynb\n",
            "Class_06_4.ipynb\n",
            "Sta1404_WorkedProblems.ipynb\n",
            "Copy of t81_558_class_12_2_qlearningreinforcement.ipynb\n",
            "F25_Class_04_1.ipynb\n",
            "Untitled\n",
            "Copy of Class_04_3.ipynb\n",
            "Class_04_3 (1).ipynb\n",
            "Class_01_1.ipynb\n",
            "Copy of Class_01_1.ipynb\n",
            "Class_01_4.ipynb\n",
            "Class_01_6.ipynb\n",
            "Class_02_1.ipynb\n",
            "Class_02_2.ipynb\n",
            "Class_02_3_Solutions.ipynb\n",
            "Class_02_3.ipynb\n",
            "Class_02_4.ipynb\n",
            "Class_03_1.ipynb\n",
            "Class_03_2B_Solutions.ipynb\n",
            "Copy of Class_03_3.ipynb\n",
            "Class_03_3.ipynb\n",
            "Class_03_4.ipynb\n",
            "Class_04_2_SolutionsA.ipynb\n",
            "Class_04_2_Solutions (1).ipynb\n",
            "Copy of Class_04_2.ipynb\n",
            "Class_04_2_Solutions.ipynb\n",
            "F25_Class_04_4.ipynb\n",
            "Class_04_3_Solutions.ipynb\n",
            "Class_04_4_Solutions.ipynb\n",
            "Class_04_4.ipynb\n",
            "Class_04_3.ipynb\n",
            "Class_04_2.ipynb\n",
            "Class_04_1.ipynb\n",
            "Class_05_1_Solutions.ipynb\n",
            "Class_05_1.ipynb\n"
          ]
        }
      ]
    },
    {
      "cell_type": "code",
      "source": [
        "!pwd\n",
        "print(nb_file)\n"
      ],
      "metadata": {
        "colab": {
          "base_uri": "https://localhost:8080/"
        },
        "id": "1zXhPCwo9CVZ",
        "outputId": "34877dc4-32e2-4ac7-a999-75826f56bc19"
      },
      "execution_count": 6,
      "outputs": [
        {
          "output_type": "stream",
          "name": "stdout",
          "text": [
            "/content\n",
            "Copy of Class_05_1.ipynb\n"
          ]
        }
      ]
    },
    {
      "cell_type": "code",
      "source": [
        "# -------------------------------------------------------------\n",
        "# 1️⃣  Strip all widget metadata from the current Colab notebook\n",
        "# -------------------------------------------------------------\n",
        "import nbformat, os, pathlib\n",
        "\n",
        "# ---- 1. Pick the notebook file you want to clean -----------------\n",
        "# In Colab the current working directory is /content\n",
        "# Replace the name below with the exact file name that is open.\n",
        "# (If you have only one .ipynb file in /content, you can also skip\n",
        "#  the hard‑coded name and let the code find it automatically.)\n",
        "nb_file = 'Copy of Class_05_1.ipynb'          # <<<  Edit this line\n",
        "nb_file = 'Copy of Class_05_1.ipynb'          # <-- the *downloaded* name\n",
        "\n",
        "\n",
        "# Full path to the file\n",
        "#nb_path = pathlib.Path('/content') / nb_file\n",
        "nb_path = '/content/drive/MyDrive/Colab Notebooks/Copy of Class_05_1.ipynb'\n",
        "\n",
        "# ---- 2. Load the notebook -----------------------------------------\n",
        "nb = nbformat.read(str(nb_path), as_version=4)\n",
        "\n",
        "# ---- 3. Remove the widgets metadata --------------------------------\n",
        "if 'widgets' in nb.metadata:\n",
        "    del nb.metadata['widgets']\n",
        "    print(f\"✅  Removed widgets metadata from {nb_file}\")\n",
        "else:\n",
        "    print(\"ℹ️  No widgets metadata found – nothing to delete.\")\n",
        "\n",
        "# ---- 4. Write a cleaned copy ----------------------------------------\n",
        "clean_path = pathlib.Path('/content') / f'cleaned_{nb_file}'\n",
        "nbformat.write(nb, str(clean_path))\n",
        "print(f\"📂  Cleaned notebook written to {clean_path}\")\n",
        "\n",
        "# ---- 5. (Optional) Download the cleaned file to your local PC ----\n",
        "# Uncomment the line below if you want an automatic download dialog\n",
        "# from google.colab import files\n",
        "# files.download(str(clean_path))\n"
      ],
      "metadata": {
        "colab": {
          "base_uri": "https://localhost:8080/"
        },
        "id": "afzv1nE18rlq",
        "outputId": "8f03b50d-7429-4851-e7b1-83eb74ca7bac"
      },
      "execution_count": 13,
      "outputs": [
        {
          "output_type": "stream",
          "name": "stdout",
          "text": [
            "✅  Removed widgets metadata from Copy of Class_05_1.ipynb\n",
            "📂  Cleaned notebook written to /content/cleaned_Copy of Class_05_1.ipynb\n"
          ]
        }
      ]
    },
    {
      "cell_type": "markdown",
      "metadata": {
        "id": "ExN-OzpYbE3Y"
      },
      "source": [
        "# **BIO 1173: Intro Computational Biology**"
      ]
    },
    {
      "cell_type": "markdown",
      "metadata": {
        "id": "vt4imk1kbE3Y"
      },
      "source": [
        "##### **Module 5: Natural Language Processing**\n",
        "\n",
        "* Instructor: [David Senseman](mailto:David.Senseman@utsa.edu), [Department of Biology, Health and the Environment](https://sciences.utsa.edu/bhe/), [UTSA](https://www.utsa.edu/)\n",
        "\n",
        "### Module 4 Material\n",
        "\n",
        "* **Part 5.1: Introduction to Hugging Face**\n",
        "* Part 5.2: Hugging Face Tokenizers\n",
        "* Part 5.3: Hugging Face Datasets\n",
        "* Part 5.4: Training Hugging Face models"
      ]
    },
    {
      "cell_type": "markdown",
      "metadata": {
        "id": "V_-lPkxLbE3Z"
      },
      "source": [
        "## Google CoLab Instructions\n",
        "\n",
        "You MUST run the following code cell to get credit for this class lesson. By running this code cell, you will map your GDrive to /content/drive and print out your Google GMAIL address. Your Instructor will use your GMAIL address to verify the author of this class lesson."
      ]
    },
    {
      "cell_type": "code",
      "execution_count": null,
      "metadata": {
        "id": "seXFCYH4LDUM",
        "scrolled": true
      },
      "outputs": [],
      "source": [
        "# You must run this cell first\n",
        "try:\n",
        "    from google.colab import drive\n",
        "    drive.mount('/content/drive', force_remount=True)\n",
        "    from google.colab import auth\n",
        "    auth.authenticate_user()\n",
        "    COLAB = True\n",
        "    print(\"Note: Using Google CoLab\")\n",
        "    import requests\n",
        "    gcloud_token = !gcloud auth print-access-token\n",
        "    gcloud_tokeninfo = requests.get('https://www.googleapis.com/oauth2/v3/tokeninfo?access_token=' + gcloud_token[0]).json()\n",
        "    print(gcloud_tokeninfo['email'])\n",
        "except:\n",
        "    print(\"**WARNING**: Your GMAIL address was **not** printed in the output below.\")\n",
        "    print(\"**WARNING**: You will NOT receive credit for this lesson.\")\n",
        "    COLAB = False"
      ]
    },
    {
      "cell_type": "markdown",
      "source": [
        "You should see the following output except your GMAIL address should appear on the last line.\n",
        "\n",
        "![__](https://biologicslab.co/BIO1173/images/class_04/class_04_1_image01B.png)\n",
        "\n",
        "If your GMAIL address does not appear your lesson will **not** be graded."
      ],
      "metadata": {
        "id": "xG3_sXTDfyjA"
      }
    },
    {
      "cell_type": "markdown",
      "source": [
        "# **Introduction to Hugging Face**\n",
        "\n",
        "**Hugging Face** is a company renowned for its pioneering work in the realm of Natural Language Processing (NLP). Established in 2016, Hugging Face has become synonymous with making cutting-edge NLP technologies more accessible to developers, researchers, and organizations. The company's commitment to open-source development has fostered a vibrant community, which plays a pivotal role in the rapid advancements of the field.\n",
        "\n",
        "Central to Hugging Face's acclaim is the Transformers library. This Python library provides an extensive collection of pre-trained models that span a wide range of NLP tasks, from text classification and tokenization to language modeling and translation. Some of the most groundbreaking models like BERT, GPT-2, T5, and RoBERTa can be effortlessly accessed and deployed through this library.\n",
        "\n",
        "A notable feature of the Transformers library is its user-friendly API. With just a few lines of code, one can:\n",
        "\n",
        "* Load a pre-trained model.\n",
        "* Tokenize input text.\n",
        "* Obtain model predictions or embeddings.\n",
        "* Fine-tune the model on a specific task.\n",
        "\n",
        "This ease of use, combined with comprehensive documentation and tutorials, makes it an invaluable tool for both NLP newcomers and seasoned professionals.\n",
        "\n",
        "Another significant contribution from Hugging Face is the Model Hub, a platform where researchers and developers can share, discover, and use NLP models. The hub promotes collaboration, ensuring that state-of-the-art models are easily available to the wider community. It's not uncommon to see models from recent research papers promptly available on the hub, ready for real-world applications.\n",
        "\n",
        "Tokenization, the process of converting text into tokens, is a fundamental step in NLP. Recognizing its importance, Hugging Face introduced the Tokenizers library, which provides a fast and efficient way to tokenize massive datasets without compromising on accuracy. Its compatibility with the Transformers library ensures seamless integration between tokenization and modeling.\n",
        "\n",
        "Democratization of NLP: By making advanced models and tools accessible, Hugging Face has democratized NLP, enabling even small teams or individual developers to harness the power of state-of-the-art models.\n",
        "\n",
        "Rapid Prototyping: The ease with which one can deploy models means that ideas can be tested and iterated upon swiftly, accelerating the pace of NLP advancements.\n",
        "\n",
        "Community and Collaboration: The open-source ethos of Hugging Face has cultivated a community that collaborates, contributes, and ensures that the field remains vibrant and progressive.\n",
        "\n",
        "In the ever-evolving landscape of NLP, Hugging Face stands out as a beacon of innovation, accessibility, and collaboration. Whether you are a researcher pushing the boundaries of what's possible, a developer aiming to integrate NLP into an application, or an enthusiast eager to learn, Hugging Face provides the tools and resources to realize those ambitions. As we delve deeper into this book, we will frequently use the Hugging Face platform to illustrate concepts, implement solutions, and explore the vast possibilities of NLP.\n",
        "\n"
      ],
      "metadata": {
        "id": "wVWCWSJurbIC"
      }
    },
    {
      "cell_type": "markdown",
      "source": [
        "### **Using Python with Hugging Face**\n",
        "\n",
        "Transformers have become a mainstay of natural language processing. This module will examine the [Hugging Face](https://huggingface.co/) Python library for natural language processing, bringing together pretrained transformers, data sets, tokenizers, and other elements. Through the Hugging Face API, you can quickly begin using sentiment analysis, entity recognition, language translation, summarization, and text generation.\n",
        "\n",
        "Colab does not install Hugging face by default. Whether installing Hugging Face directly into a local computer or utilizing it through Colab, the following commands will install the library.\n",
        "\n",
        "Normally, when you use `pip` to install a package, a lot of information is printed out to show what subpackages were installed. We have prevented this by\n",
        "adding the text `> /dev/` after the `!pip install <package>`. Technically, this code `redirects` the standard output (in this case your Colab notebook) to a device called `null`. `/dev/null` is a special file that discards all data written to it. It is often used as a \"black hole\" for unwanted output or error messages, such as the output of commands that are meant to be silent or hidden.\n"
      ],
      "metadata": {
        "id": "5A4aEEHas1hu"
      }
    },
    {
      "cell_type": "markdown",
      "source": [
        "### Install Hugging Face Libraries\n",
        "\n",
        "Run the next code cell to install the Hugging Face libraries needed for this lesson."
      ],
      "metadata": {
        "id": "P4vC0d23ws-I"
      }
    },
    {
      "cell_type": "code",
      "source": [
        "# Install Hugging Face libraries\n",
        "\n",
        "!pip install transformers > /dev/null\n",
        "!pip install transformers[sentencepiece] > /dev/null"
      ],
      "metadata": {
        "id": "9nChFrxHrYsy"
      },
      "execution_count": null,
      "outputs": []
    },
    {
      "cell_type": "markdown",
      "source": [
        "If the code is correct you should not see an output."
      ],
      "metadata": {
        "id": "10TTpU1dE-ch"
      }
    },
    {
      "cell_type": "markdown",
      "source": [
        "Now that we have Hugging Face installed, the following sections will demonstrate how to apply Hugging Face to a variety of everyday tasks. After this introduction, the remainder of this module will take a deeper look at several specific NLP tasks applied to Hugging Face."
      ],
      "metadata": {
        "id": "qBvhLL_JtBT9"
      }
    },
    {
      "cell_type": "markdown",
      "source": [
        "# **NLP Sentiment Analysis**\n",
        "\n",
        "**Sentiment analysis** is a subfield of natural language processing (NLP) that focuses on identifying and categorizing the emotional tone or sentiment of a piece of text, such as a review, a social media post, or an article. The task of sentiment analysis involves analyzing the words and phrases in a given text to determine whether they are positive, negative, or neutral in nature, and assigning a numerical score or label to the overall sentiment of the text.\n",
        "\n",
        "Sentiment analysis can be applied to various domains such as social media monitoring, customer feedback analysis, product review analysis, and advertising campaign evaluation. It can help organizations to identify trends and patterns in customer opinion, detect fake reviews, and optimize their marketing strategies by understanding the emotions of their target audience.\n",
        "\n",
        "### What is sentiment analysis?\n",
        "\n",
        "Sentiment analysis is a subfield of natural language processing (NLP) that focuses on identifying and categorizing the emotional tone or sentiment of a piece of text, such as a review, a social media post, or an article. The task of sentiment analysis involves analyzing the words and phrases in a given text to determine whether they are positive, negative, or neutral in nature, and assigning a numerical score or label to the overall sentiment of the text.\n",
        "\n",
        "Sentiment analysis can be applied to various domains such as social media monitoring, customer feedback analysis, product review analysis, and advertising campaign evaluation. It can help organizations to identify trends and patterns in customer opinion, detect fake reviews, and optimize their marketing strategies by understanding the emotions of their target audience.\n",
        "\n",
        "The process of sentiment analysis typically involves several steps, including:\n",
        "\n",
        "1. Text Preprocessing: This step involves cleaning and normalizing the text data to prepare it for analysis. This may include removing stop words, punctuation, and converting all text to lowercase.\n",
        "2. Tokenization: This step involves breaking down the text into smaller units called tokens, which can be individual words or phrases.\n",
        "3. Sentiment Detection: This step involves analyzing the sentiment of each token in the text using techniques such as machine learning, deep learning, or rule-based approaches.\n",
        "4. Aggregation: This step involves combining the sentiment scores of all tokens to obtain the overall sentiment score of the text.\n",
        "\n",
        "Sentiment analysis can be performed using various techniques such as:\n",
        "\n",
        "1. **Rule-Based Approach:** This approach involves defining a set of rules to classify words or phrases as positive, negative, or neutral based on their meanings and context.\n",
        "2. **Machine Learning:** This approach involves training a machine learning model on a dataset of labeled text to learn the patterns and relationships between words and sentiment.\n",
        "3. **Deep Learning:** This approach involves using deep neural networks to analyze the complex patterns in text data and learn the relationships between words, phrases, and sentiment.\n",
        "\n",
        "Sentiment analysis uses natural language processing, text analysis, computational linguistics, and biometrics to identify the tone of written text. Passages of written text can be into simple binary states of positive or negative tone. More advanced sentiment analysis might classify text into additional categories: sadness, joy, love, anger, fear, or surprise.\n"
      ],
      "metadata": {
        "id": "HYqyqMEWtFct"
      }
    },
    {
      "cell_type": "markdown",
      "source": [
        "### Example 1 - Step 1: Load Text for Sentiment Analyis\n",
        "\n",
        "To demonstrate sentiment analysis, we begin by loading Shakespeare's 18th sonnet:\n",
        "\n",
        "> Shall I compare thee to a summer's day?  \n",
        "> Thou art more lovely and more temperate:  \n",
        "> Rough winds do shake the darling buds of May,  \n",
        "> And summer's lease hath all too short a date:  \n",
        "> Sometime too hot the eye of heaven shines,  \n",
        "> And often is his gold complexion dimm'd;  \n",
        "> And every fair from fair sometimes declines,  \n",
        "> By chance or nature's changing course untrimm'd;  \n",
        "> But thy eternal summer shall not fade  \n",
        "> Nor lose possession of that fair thou owest;  \n",
        "> Nor shall Death brag thou wander'st in his shade,  \n",
        "> When in eternal lines to time thou growest.\n",
        "\n",
        "What do you think Shakespear's sentiment was when he wrote this sonnet? In particular, is Shakespear being **positive** or **negative**?\n",
        "\n",
        "Let's find out using **sentiment analysis**."
      ],
      "metadata": {
        "id": "Mm-Lhvv5Igr0"
      }
    },
    {
      "cell_type": "markdown",
      "source": [
        "In Step 1 we read the text file `sonnet_18.txt. from the course file server using the `urlopen()` command. The text is stored in a variable called `EG_text_1` (\"Example text 1\")."
      ],
      "metadata": {
        "id": "Tb1oZHikGgw8"
      }
    },
    {
      "cell_type": "code",
      "source": [
        "# Example 1 - Step 1: Load text\n",
        "\n",
        "from urllib.request import urlopen\n",
        "\n",
        "# Read sample text, a poem\n",
        "URL = \"https://biologicslab.co/BIO1173/data/sonnet_18.txt\"\n",
        "f = urlopen(URL)\n",
        "EG_text_1 = f.read().decode(\"utf-8\")\n",
        "\n",
        "# Print out text\n",
        "print(EG_text_1)"
      ],
      "metadata": {
        "id": "XcLwqoeWtLS0"
      },
      "execution_count": null,
      "outputs": []
    },
    {
      "cell_type": "markdown",
      "source": [
        "If the code is correct your should see the following output\n",
        "\n",
        "![__](https://biologicslab.co/BIO1173/images/class_05/class_05_1_image01A.png)"
      ],
      "metadata": {
        "id": "5obxgSSN6NLZ"
      }
    },
    {
      "cell_type": "markdown",
      "source": [
        "Usually, you have to preprocess text into embeddings or other vector forms before presentation to a neural network. Hugging Face provides a pipeline that simplifies this process greatly. The pipeline allows you to pass regular Python strings to the transformers and return standard Python values.\n",
        "\n",
        "We begin by loading a text-classification model. We can specify which model to use, by passing the model parameter, such as:\n",
        "\n",
        "```\n",
        "pipe = pipeline(model=\"roberta-large-mnli\")\n",
        "```\n",
        "\n",
        "**RoBERTa-large-MNLI** is a fine-tuned version of the RoBERTa large model, which is a transformer-based language model developed by Facebook AI. RoBERTa itself is an optimized version of BERT (Bidirectional Encoder Representations from Transformers) and is trained on a large corpus of English text using a masked language modeling (MLM) objective.\n",
        "\n",
        "The code in Example 1 - Step 2 loads a model pipeline and a model for sentiment analysis.\n",
        "\n"
      ],
      "metadata": {
        "id": "mah5UesgtQRM"
      }
    },
    {
      "cell_type": "markdown",
      "source": [
        "### Example 1 - Step 2: Load Model Pipeline\n",
        "\n",
        "This code in the cell below uses the `transformers library` to create a pipeline for natural language inference (NLI) tasks. The pipeline function takes a model name as an argument, which in this case is \"roberta-large-mnli\". This specific model is a variant of the `RoBERTa model` that has been pre-trained on a large dataset of text and can perform NLI tasks such as question answering or natural language inference.\n",
        "\n",
        "The pipeline function returns an instance of a Pipeline class from the transformers library, which is a high-level API for interacting with NLP models. The returned pipeline object has methods for various NLI tasks such as question answering, natural language inference, and text classification.\n",
        "\n",
        "In this specific case, the code is creating a pipeline for natural language inference tasks using the \"roberta-large-mnli\" model. This means that it can be used to perform NLI tasks such as determining the meaning of a sentence or question given some context. The Pipeline object returned by the pipeline function will have methods for performing these tasks, such as predict and score, which can be used to make predictions on new input data and evaluate the performance of the model."
      ],
      "metadata": {
        "id": "yK4WlOW8JWSB"
      }
    },
    {
      "cell_type": "code",
      "source": [
        "# Example 1 - Step 2: Load model pipeline\n",
        "\n",
        "import pandas as pd\n",
        "from transformers import pipeline\n",
        "\n",
        "# Specify the model for the pipeline\n",
        "model_name = \"roberta-large-mnli\"\n",
        "\n",
        "# Create classification pipeline\n",
        "classifier = pipeline(\"text-classification\", model=model_name)\n",
        "\n",
        "# Verify the pipeline\n",
        "print(classifier)\n"
      ],
      "metadata": {
        "id": "-Jo1e4QX-w3u"
      },
      "execution_count": null,
      "outputs": []
    },
    {
      "cell_type": "markdown",
      "source": [
        "If the code is correct you should see something similar to the following output:\n",
        "\n",
        "![___](https://biologicslab.co/BIO1173/images/class_05/class_05_1_image03A.png)"
      ],
      "metadata": {
        "id": "TZXVtJNBJrK6"
      }
    },
    {
      "cell_type": "markdown",
      "source": [
        "We can now display the sentiment analysis results with a Pandas dataframe.\n"
      ],
      "metadata": {
        "id": "KSs2hJvjtax8"
      }
    },
    {
      "cell_type": "markdown",
      "source": [
        "### Example 1 - Step 3: Run Sentiment Analysis on Text\n",
        "\n",
        "We can now display the sentiment analysis results with a Pandas dataframe."
      ],
      "metadata": {
        "id": "gpzyqVCYLZni"
      }
    },
    {
      "cell_type": "code",
      "source": [
        "# Example 1 - Step 3: Run sentiment analysis on text\n",
        "\n",
        "# Create variable to hold sentiment analysis\n",
        "sentiment_outputs = classifier(EG_text_1)\n",
        "\n",
        "# Display output in a Pandas DataFrame\n",
        "pd.DataFrame(sentiment_outputs)\n"
      ],
      "metadata": {
        "id": "iKQqnKlxtcNU"
      },
      "execution_count": null,
      "outputs": []
    },
    {
      "cell_type": "markdown",
      "source": [
        "If the code is correct you should see something similar to the following output:\n",
        "\n",
        "![___](https://biologicslab.co/BIO1173/images/class_05/class_05_1_image03F.png)"
      ],
      "metadata": {
        "id": "MDNJJ40MR4Qk"
      }
    },
    {
      "cell_type": "markdown",
      "source": [
        "As you can see, our sentiment analysis considered the tone of Sonnet 18 as being `NEUTRAL` with a `score` of 0.68.\n",
        "\n",
        "Shakespeare's Sonnet 18 is generally considered to have positive and admiring sentiment. The sonnet praises the subject, comparing them to a summer's day and highlighting their eternal beauty and the impermanence of natural beauty.\n",
        "\n",
        "So why did we get only a `NEUTRAL` rating?\n",
        "\n",
        "Sentiment analysis models like **`RoBERTa-large-MNLI`** work by analyzing the text and classifying it based on the presence of positive, negative, or neutral sentiments. Shakespeare's `Sonnet 18` (\"Shall I compare thee to a summer's day?\") is a complex and nuanced piece of literature, which can make it challenging for an AI model to accurately classify its sentiment.\n",
        "\n",
        "Several factors could have contributed to the neutral sentiment classification:\n",
        "\n",
        "1. **Language and Style:** Shakespeare's language and poetic style are intricate, with a mix of positive imagery and more neutral or descriptive language. This complexity might have led the model to classify the overall sentiment as neutral.\n",
        "\n",
        "2. **Ambiguity:** The sonnet contains elements of praise and admiration, but it also discusses the transience of beauty and the passage of time, which might have contributed to a more balanced or neutral sentiment score.\n",
        "\n",
        "3. **Contextual Understanding:** AI models might struggle with understanding the full context and emotional depth of the text. They might miss subtleties that human readers would easily pick up on.\n",
        "\n",
        "The `0.6795 score` indicates that the model is fairly confident in its neutral classification, but it doesn't mean the text lacks positive sentiment. It just means that the model detected a more balanced mix of sentiments overall."
      ],
      "metadata": {
        "id": "O9fRS1Dltjpj"
      }
    },
    {
      "cell_type": "markdown",
      "source": [
        "### **Exercise 1 - Step 1: Load Text for Sentiment Analyis**\n",
        "\n",
        "For **Exercise 1**, use Shakespear's Sonnet 66.\n",
        "\n",
        "**Sonnet 66**\n",
        "\n",
        "> Tired with all these, for restful death I cry:  \n",
        "> As, to behold desert a beggar born,  \n",
        "> And needy nothing trimmed in jollity,  \n",
        "> And purest faith unhappily forsworn,  \n",
        "> And gilded honor shamefully misplaced,  \n",
        "> And maiden virtue rudely strumpeted,  \n",
        "> And right perfection wrongfully disgraced,  \n",
        "> And strength by limping sway disablèd,  \n",
        "> And art made tongue-tied by authority,  \n",
        "> And folly, doctor-like, controlling skill,   \n",
        "> And simple truth miscalled simplicity,  \n",
        "> And captive good attending captain ill.  \n",
        ">   Tired with all these, from these would I be gone,  \n",
        ">   Save that, to die, I leave my love alone.  \n",
        "\n",
        "\n",
        "Here is the `URL` to download this poem:\n",
        "\n",
        "```text\n",
        "URL = \"https://biologicslab.co/BIO1173/data/sonnet_66.txt\"\n",
        "```\n",
        "\n",
        "Call your text **`EX_text_1`** and print out `EX_test_1` at the end of the code cell.\n"
      ],
      "metadata": {
        "id": "Lx3GWspDz-FM"
      }
    },
    {
      "cell_type": "code",
      "source": [
        "# Insert your code for Exercise 1 - Step 1 here\n"
      ],
      "metadata": {
        "id": "WnFCZoeEz-FM"
      },
      "execution_count": null,
      "outputs": []
    },
    {
      "cell_type": "markdown",
      "source": [
        "If the code is correct your should see the following output\n",
        "\n",
        "![__](https://biologicslab.co/BIO1173/images/class_05/class_05_1_image02A.png)"
      ],
      "metadata": {
        "id": "j-e53kar6_0e"
      }
    },
    {
      "cell_type": "markdown",
      "source": [
        "### **Exercise 1 - Step 2: Load Model Pipeline**\n",
        "\n",
        "In the cell below create the pipeline for your sentiment analysis. You can reuse the code in Example 1 - Step 2 with the following modification. Instead of using the `\"roberta-large-mnli\"` model, change your model to the following:\n",
        "\n",
        "```text\n",
        "\"distilbert-base-uncased-finetuned-sst-2-english\"\n",
        "```\n",
        "\n",
        "The **`distilbert-base-uncased-finetuned-sst-2-english`** model is a lightweight, 66 M‑parameter transformer that was distilled from BERT‑base and fine‑tuned on the Stanford Sentiment Treebank (SST‑2) for binary sentiment classification. Using an uncased WordPiece tokenizer and a 512‑token limit, the model maps input text to a pair of logits (positive/negative) through a simple linear head on the [CLS] token; applying a softmax gives the sentiment probability. It achieves roughly 93 % accuracy on SST‑2, matching full BERT‑base while running about twice as fast and using half the memory, making it ideal for quick sentiment inference on English text in production settings."
      ],
      "metadata": {
        "id": "mhpsgipYz-FM"
      }
    },
    {
      "cell_type": "code",
      "source": [
        "# Insert your code for Exercise 1 - Step 2 here\n",
        "\n"
      ],
      "metadata": {
        "id": "MlGTY7_A_PAN"
      },
      "execution_count": null,
      "outputs": []
    },
    {
      "cell_type": "markdown",
      "source": [
        "If the code is correct you should see something similar to the following output:\n",
        "\n",
        "![___](https://biologicslab.co/BIO1173/images/class_05/class_05_1_image02F.png)"
      ],
      "metadata": {
        "id": "JIPcEWZeQleg"
      }
    },
    {
      "cell_type": "markdown",
      "source": [
        "### **Exercise 1 - Step 3: Run Sentiment Analysis on Text**\n",
        "\n",
        "In the cell below write the code to run and display the sentiment analysis on your **`EX_text_1`**."
      ],
      "metadata": {
        "id": "5o9W8dU2z-FN"
      }
    },
    {
      "cell_type": "code",
      "source": [
        "# Insert your code for Exercise 1 - Step 3 here\n"
      ],
      "metadata": {
        "id": "a_TMdprsz-FN"
      },
      "execution_count": null,
      "outputs": []
    },
    {
      "cell_type": "markdown",
      "source": [
        "If the code is correct you should see something similar to the following output:\n",
        "\n",
        "![___](https://biologicslab.co/BIO1173/images/class_05/class_05_1_image04F.png)"
      ],
      "metadata": {
        "id": "stcQ0NbtVAeb"
      }
    },
    {
      "cell_type": "markdown",
      "source": [
        "Shakespeare's Sonnet 66 indeed carries a much darker tone compared to Sonnet 18. Here are a few reasons why the sentiment analysis model might have given it a strong negative sentiment classification:\n",
        "\n",
        "1. **Tone and Themes:** Sonnet 66 delves into themes of despair, disillusionment, and a profound sense of weariness with the world's injustices. The recurring motifs of frustration and longing for rest likely contributed significantly to the negative sentiment score.\n",
        "\n",
        "2. **Language and Imagery:** The sonnet is filled with negative imagery and phrases expressing dissatisfaction and lamentation. Such language naturally skews towards a negative sentiment classification by the model.\n",
        "\n",
        "3. **Emotional Weight:** The emotional heaviness and the poet’s voice reflecting societal corruption and personal sorrow might resonate strongly with the AI model’s parameters for negative sentiment.\n",
        "\n",
        "The score of `0.995` indicates an almost complete certainty by the model that the sentiment is negative, which aligns well with the sonnet’s content and tone."
      ],
      "metadata": {
        "id": "59yGe0_gzrlt"
      }
    },
    {
      "cell_type": "markdown",
      "source": [
        "## **NLP Entity Tagging**\n",
        "\n",
        "**Entity tagging**, also known as named entity recognition (NER), is a process in natural language processing (NLP) where entities such as names of people, organizations, locations, dates, and other specific items are identified and classified within a text. Here’s how it works:\n",
        "\n",
        "1. **Identification:** The model scans the text to find mentions of entities. For example, in the sentence \"Microsoft was founded by Bill Gates in 1975,\" the entities are \"Microsoft,\" \"Bill Gates,\" and \"1975.\"\n",
        "\n",
        "2. **Classification:** Once identified, the entities are classified into predefined categories, such as:\n",
        "\n",
        "- **Person:** Names of individuals (e.g., \"Bill Gates\")\n",
        "\n",
        "- **Organization:** Names of companies, institutions, etc. (e.g., \"Microsoft\")\n",
        "\n",
        "- **Location:** Names of places (e.g., \"Seattle\")\n",
        "\n",
        "- **Date/Time:** Specific dates or times (e.g., \"1975\")\n",
        "\n",
        "- **Others:** Such as events, quantities, monetary values, etc.\n",
        "\n",
        "Entity tagging is widely used in various applications like information extraction, search engines, and enhancing the accuracy of machine translation. It helps in structuring unstructured text data, making it easier to analyze and extract meaningful insights.\n",
        "\n",
        "Entity tagging is the process that takes source text and finds parts of that text that represent entities, such as one of the following:\n",
        "\n",
        "* Location (LOC)\n",
        "* Organizations (ORG)\n",
        "* Person (PER)\n",
        "* Miscellaneous (MISC)\n",
        "\n",
        "The code in Example 2 requests a \"named entity recognizer\" (ner) and processes the specified text."
      ],
      "metadata": {
        "id": "8sUPYLZktncz"
      }
    },
    {
      "cell_type": "markdown",
      "source": [
        "### Example 2 - Step 1: Entity Tagging\n",
        "\n",
        "The code in the cell below creates a variable, `EG_text_2` with the name of a famous molecular biologist, `James Watson` in the United States."
      ],
      "metadata": {
        "id": "8xs1j0xLZjV6"
      }
    },
    {
      "cell_type": "code",
      "source": [
        "# Example 2 - Step 1: Entity tagging\n",
        "\n",
        "# Specify text\n",
        "EG_text_2 = \"James Watson was a molecular biologist who lived in the United States.\"\n",
        "\n",
        "# Create one pipeline instance for each task\n",
        "classifier = pipeline(\"text-classification\", model=\"roberta-large-mnli\")\n",
        "ner_tagger   = pipeline(\"ner\", model=\"dslim/bert-base-NER\", aggregation_strategy=\"simple\")\n",
        "\n",
        "# Classification\n",
        "print(classifier(EG_text_2))     # MNLI style entailment / contradiction / neutral\n",
        "\n",
        "# NER\n",
        "print(ner_tagger(EG_text_2))\n"
      ],
      "metadata": {
        "id": "ANvzEcwp-Lot"
      },
      "execution_count": null,
      "outputs": []
    },
    {
      "cell_type": "markdown",
      "source": [
        "If the code is correct you should see something similar to the following output:\n",
        "\n",
        "![___](https://biologicslab.co/BIO1173/images/class_05/class_05_1_image03A.png)"
      ],
      "metadata": {
        "id": "y6Rupj35XQi1"
      }
    },
    {
      "cell_type": "markdown",
      "source": [
        "### Example 2 - Step 2: Review the Results\n",
        "\n",
        "The code in the next cell let us view the results stored in the `Pandas` DataFrame.  As you can see in the output, the person (`PER`) is `James Watson` and the location (`LOC`) is the `United States`."
      ],
      "metadata": {
        "id": "mPxC6XUets6a"
      }
    },
    {
      "cell_type": "code",
      "source": [
        "# Example 2 - Step 2: Review results\n",
        "\n",
        "# Define outputs\n",
        "outputs = ner_tagger(EG_text_2)\n",
        "\n",
        "# Display Output DataFrame\n",
        "pd.DataFrame(outputs)\n"
      ],
      "metadata": {
        "id": "WjCl_Ak2twgC"
      },
      "execution_count": null,
      "outputs": []
    },
    {
      "cell_type": "markdown",
      "source": [
        "If the code is correct you should see something similar to the following output:\n",
        "\n",
        "![___](https://biologicslab.co/BIO1173/images/class_05/class_05_1_image06F.png)"
      ],
      "metadata": {
        "id": "pxspeNp4YEZ6"
      }
    },
    {
      "cell_type": "markdown",
      "source": [
        "Your entity tagging pipeline has successfully identified and classified \"James Watson\" as a person and \"United States\" as a location with very high confidence."
      ],
      "metadata": {
        "id": "ddJJCnyuZbm7"
      }
    },
    {
      "cell_type": "markdown",
      "source": [
        "### **Exercise 2 - Step 1: Entity Tagging**\n",
        "\n",
        "In the cell below create a variable, `EG_text3` with the name of another famous molecular biologist, `Francis Crick` in the `United Kingdom`."
      ],
      "metadata": {
        "id": "bYxKAJB9aGAc"
      }
    },
    {
      "cell_type": "code",
      "source": [
        "# Insert your code for Exercise 2 - Step 1 here\n",
        "\n"
      ],
      "metadata": {
        "id": "3Ao9ttxkaGAd"
      },
      "execution_count": null,
      "outputs": []
    },
    {
      "cell_type": "markdown",
      "source": [
        "If the code is correct you should see something similar to the following output:\n",
        "\n",
        "![___](https://biologicslab.co/BIO1173/images/class_05/class_05_1_image05A.png)"
      ],
      "metadata": {
        "id": "nF-xVBgoaGAd"
      }
    },
    {
      "cell_type": "markdown",
      "source": [
        "### **Exercise 2 - Step 2: Review the Results**\n",
        "\n",
        "In the cell below write the code to define and review the results of your **`EX_text_2`**."
      ],
      "metadata": {
        "id": "_2C0y73aaGAd"
      }
    },
    {
      "cell_type": "code",
      "source": [
        "# Insert your code for Exercise 2 - Step 2: here\n",
        "\n"
      ],
      "metadata": {
        "id": "wCBjXGXdaGAd"
      },
      "execution_count": null,
      "outputs": []
    },
    {
      "cell_type": "markdown",
      "source": [
        "If the code is correct you should see something similar to the following output:\n",
        "\n",
        "![___](https://biologicslab.co/BIO1173/images/class_05/class_05_1_image06A.png)"
      ],
      "metadata": {
        "id": "WOkmwOTYaGAd"
      }
    },
    {
      "cell_type": "markdown",
      "source": [
        "Your entity tagging pipeline has successfully identified and classified \"Francis Crick\" as a person and \"United Kingdom\" as a location with very high confidence."
      ],
      "metadata": {
        "id": "U8uPVF8CaGAd"
      }
    },
    {
      "cell_type": "markdown",
      "source": [
        "## **NLP Question Answering**\n",
        "\n",
        "**Question Answering (QA)** is a powerful NLP task that involves providing precise answers to questions based on a given reference text. This capability is incredibly useful in various applications, such as information retrieval, and educational tools.\n",
        "\n",
        "Here's a quick rundown of how QA works:\n",
        "\n",
        "1. **Reference Text:** A passage or document from which the answer can be extracted.\n",
        "\n",
        "2. **Question:** A specific query related to the reference text.\n",
        "\n",
        "3. **Answer Extraction:** The NLP model processes the reference text to find the exact segment that answers the question.\n",
        "\n",
        "#### **Use Cases for a Computational Biologist**\n",
        "\n",
        "For a computational biologist, “QA analysis” usually refers to **question‑answering** systems that can interrogate large biological data sets, literature corpora, and simulation outputs.  Below are practical ways the technology can be applied in a research or industrial setting.\n",
        "\n",
        "| Use Case | What the QA system does | Typical inputs | Typical outputs | Why it matters |\n",
        "|----------|------------------------|----------------|-----------------|----------------|\n",
        "| **Literature mining & summarization** | Reads PubMed, bioRxiv, and review articles to answer specific biological questions (e.g., “Which genes are co‑expressed with *TP53* in breast cancer?”). | Natural‑language query + optional PMID set | Short answer, evidence sentences, citation list | Speeds up hypothesis generation and keeps investigators up‑to‑date. |\n",
        "| **Protocol & pipeline verification** | Checks whether computational workflows (e.g., variant‑calling pipelines) meet best‑practice standards or regulatory requirements. | Pipeline description, code, test logs | Pass/fail verdict, compliance report | Helps avoid costly downstream errors and accelerates reproducibility. |\n",
        "| **Clinical data interrogation** | Answers clinical questions from electronic health records or multi‑omics datasets (“What is the probability that a patient with X mutation will respond to drug Y?”). | Structured patient data, genomic profiles | Risk score, confidence interval, relevant literature | Supports precision‑medicine decisions. |\n",
        "| **Drug‑target & repurposing discovery** | Queries databases (DrugBank, ChEMBL) to find potential new targets or off‑target effects. | Chemical structure or name, target protein | List of candidate targets, predicted affinity scores | Narrows experimental screening lists. |\n",
        "| **Ontology & annotation assistance** | Maps free‑text notes or sequence motifs to controlled vocabularies (GO, MeSH). | Raw text, protein FASTA | Curated annotations, suggested terms | Improves data standardization for downstream analysis. |\n",
        "| **Model validation & debugging** | Interrogates machine‑learning models to expose decision pathways (“Why did the model predict a splice‑site mutation is benign?”). | Model, input features, intermediate activations | Explanatory text, feature importance, counter‑factuals | Enhances trust and aids model refinement. |\n",
        "| **Educational & training support** | Answers students’ queries during bioinformatics courses (e.g., “Explain the difference between UTRs and introns”). | Student question | Concise, citation‑backed answer | Lowers the learning curve for new trainees. |\n",
        "\n",
        "#### **How it typically works**\n",
        "1. **Indexing** – Textual resources (papers, databases, logs) are pre‑processed and stored in a vector‑search index.  \n",
        "2. **Query processing** – The user’s natural‑language question is encoded into a vector and matched against the index.  \n",
        "3. **Answer generation** – The system extracts the most relevant passages, optionally runs a language‑model head to paraphrase or synthesize an answer, and tags the answer with evidence citations.  \n",
        "4. **Human‑in‑the‑loop** – Domain experts review the answer; feedback is fed back into the model for continual improvement.\n",
        "\n",
        "By integrating QA analysis into the computational biology workflow, researchers can dramatically reduce the time spent on literature reviews, data curation, and pipeline troubleshooting, allowing more focus on discovery and hypothesis testing.\n"
      ],
      "metadata": {
        "id": "d5rdGwmvt04K"
      }
    },
    {
      "cell_type": "markdown",
      "source": [
        "### Build QA Pipeline\n",
        "\n",
        "The code in the cell below builds a **Questioning Answering (QA)** pipeline."
      ],
      "metadata": {
        "id": "QghFY-IXLuIN"
      }
    },
    {
      "cell_type": "code",
      "source": [
        "# Build pipeline\n",
        "\n",
        "from transformers import pipeline\n",
        "\n",
        "# Build the question‑answering pipeline (GPU is auto‑selected if available)\n",
        "qa_pipe = pipeline(\n",
        "    task=\"question-answering\",\n",
        "    model=\"distilbert-base-uncased-distilled-squad\",  # any QA‑ready model works\n",
        ")\n",
        "\n",
        "print(\" QA pipeline is ready!\")\n"
      ],
      "metadata": {
        "id": "r6cIl19QLu0V"
      },
      "execution_count": null,
      "outputs": []
    },
    {
      "cell_type": "markdown",
      "source": [
        "If the code is correct you should see the following output:\n",
        "\n",
        "![___](https://biologicslab.co/BIO1173/images/class_05/class_05_1_image15A.png)"
      ],
      "metadata": {
        "id": "bb2PCSKy5A3Y"
      }
    },
    {
      "cell_type": "markdown",
      "source": [
        "### Example 3: Generate QA Result\n",
        "\n",
        "The code in the cell below uses our `QA Pipeline` to ask the question\n",
        "\n",
        "```text\n",
        "\"what shall fade\"\n",
        "```\n",
        "The `context` of this question is Shakespear's `Sonnet 18` stored in `EG_text_1` that we created above in `Example 1`."
      ],
      "metadata": {
        "id": "Xz5wnIkW0iod"
      }
    },
    {
      "cell_type": "code",
      "source": [
        "# Example 3: Generate QA result\n",
        "\n",
        "# Define the context and the question you want answered\n",
        "context = EG_text_1  # Sonnet 18 from Example 1\n",
        "\n",
        "# Define the question\n",
        "question = \"what shall fade\"\n",
        "\n",
        "# Run the QA model\n",
        "result = qa_pipe(question=question, context=context)\n",
        "\n",
        "# Pretty‑print the answer\n",
        "print(f\"Question: {question}\")\n",
        "print(f\"Answer  : {result['answer']}\")\n",
        "print(f\"Score   : {result['score']:.4f}\")\n",
        "print(f\"Start   : {result['start']}  End: {result['end']}\")\n"
      ],
      "metadata": {
        "id": "d6ofbDKO0jQW"
      },
      "execution_count": null,
      "outputs": []
    },
    {
      "cell_type": "markdown",
      "source": [
        "If the code is correct you should see the following output:\n",
        "\n",
        "![___](https://biologicslab.co/BIO1173/images/class_05/class_05_1_image16A.png)\n",
        "\n",
        "With a `Score = 0.38`, `Hugging Face` is not especially confident that `external summer` is the correct answer to the question `what will fade`."
      ],
      "metadata": {
        "id": "b8H3VTUx3paM"
      }
    },
    {
      "cell_type": "markdown",
      "source": [
        "### **Exercise 3: Generate QA Result**\n",
        "\n",
        "The following is a famous quotation by the molecular geneticist James Watson as the forward to _Discovering the Brain_ by Sandra Ackerman.\n",
        "\n",
        "```type\n",
        "\"The brain is the last and grandest biological frontier,\"\n",
        "\"the most complex thing we have yet discovered in our universe.\"\n",
        "\"It contains hundreds of billions of cells interlinked through \"\n",
        "\"trillions of connections. The brain boggles the mind.\"\n",
        "```\n",
        "\n",
        "For **Exercise 3** you are to use Watson's quote as the `context`. The easiest way to do this is to `copy-and-paste` the quotation into space between the two parantheses as follows:\n",
        "\n",
        "```text\n",
        "Watson_quotation = (\n",
        "\"The brain is the last and grandest biological frontier,\"\n",
        "\"the most complex thing we have yet discovered in our universe.\"\n",
        "\"It contains hundreds of billions of cells interlinked through \"\n",
        "\"trillions of connections. The brain boggles the mind.\"\n",
        ")  \n",
        "```\n",
        "You will need to assign the `context` to your `Watson_quotation using this code:\n",
        "\n",
        "```text\n",
        "# Assign quotation to content\n",
        "content=Watson_quotation\n",
        "```\n",
        "Finally, for your question, use this text:\n",
        "\n",
        "```type\n",
        "\"how many connections in the brain\"\n",
        "```\n"
      ],
      "metadata": {
        "id": "jb7TZNa5BN33"
      }
    },
    {
      "cell_type": "code",
      "source": [
        "# Insert your code for Exercise 3 here\n",
        "\n"
      ],
      "metadata": {
        "id": "ngvBTs726nxU"
      },
      "execution_count": null,
      "outputs": []
    },
    {
      "cell_type": "markdown",
      "source": [
        "If the code is correct you should see the following output:\n",
        "\n",
        "![___](https://biologicslab.co/BIO1173/images/class_05/class_05_1_image14A.png)\n"
      ],
      "metadata": {
        "id": "PpU_4gq26nxU"
      }
    },
    {
      "cell_type": "markdown",
      "source": [
        "------------------------\n",
        "\n",
        "### **What does the `score` field mean in Hugging Face QA pipelines?**\n",
        "\n",
        "When a question‑answering model returns a span, it also returns a\n",
        "`score`.  The score is **not a hard probability** of correctness, but\n",
        "the model’s internal confidence that the chosen start‑and‑end tokens\n",
        "are the right answer.\n",
        "\n",
        "#### **How it is computed**\n",
        "1. The model outputs *start* and *end* logits for every token in the\n",
        "   context.  \n",
        "2. A softmax is applied to each set of logits → probabilities that sum\n",
        "   to 1.  \n",
        "3. The pipeline picks the span \\([s, e]\\) that maximises  \n",
        "   \\( P_{\\text{start}}(s) \\times P_{\\text{end}}(e) \\).  \n",
        "   This product is the `score`.\n",
        "\n",
        "#### **Interpreting a score**\n",
        "| Score range | Rough meaning | What to do |\n",
        "|-------------|---------------|------------|\n",
        "| < 0.3 | Very low confidence | Treat the answer as unreliable; re‑phrase the question or add more context. |\n",
        "| ≈ 0.5 | Moderate confidence | The answer is plausible but not guaranteed; double‑check if accuracy matters. |\n",
        "| > 0.8 | High confidence | The answer is likely correct; you can use it as is. |\n",
        "\n",
        "> **Caveat** – Hugging Face models are *not* calibrated to produce true\n",
        "> probabilities.  Use the score to **rank or filter** results, not as an\n",
        "> absolute correctness metric.\n",
        "\n",
        "-------------------------------\n"
      ],
      "metadata": {
        "id": "sfDLm-qyM716"
      }
    },
    {
      "cell_type": "markdown",
      "source": [
        "## **NLP Language Translation**\n",
        "\n",
        "**Language Translation** is a fascinating and practical application of natural language processing (NLP). It involves converting text from one language into another while preserving the original meaning, context, and nuances.\n",
        "\n",
        "Hugging Face provides powerful pre-trained models for language translation. Here is a list of the popular models:\n",
        "\n",
        "#### **List of Translators Used by Hugging Face**\n",
        "\n",
        "Hugging Face offers a variety of translation models for different language pairs. Here are some popular ones:\n",
        "\n",
        "1. **MarianMT Models**: These models support translation between multiple language pairs. For example:\n",
        "   - `Helsinki-NLP/opus-mt-en-de`: English to German\n",
        "   - `Helsinki-NLP/opus-mt-en-fr`: English to French\n",
        "   - `Helsinki-NLP/opus-mt-en-es`: English to Spanish\n",
        "\n",
        "2. **T5 Models**: These models can be fine-tuned for translation tasks. For example:\n",
        "   - `t5-small`: A smaller version of the T5 model that can be fine-tuned for translation.\n",
        "   - `t5-large`: A larger version of the T5 model with more parameters for better performance.\n",
        "\n",
        "3. **mBART Models**: These models are designed for multilingual translation tasks. For example:\n",
        "   - `facebook/mbart-large-50-many-to-many-mmt`: A multilingual model that supports translation between 50 languages.\n",
        "\n",
        "4. **M2M100 Models**: These models are designed for many-to-many translation tasks. For example:\n",
        "   - `facebook/m2m100_418M`: A model that supports translation between 100 languages.\n",
        "\n",
        "You can find more translation models and explore their capabilities on the [Hugging Face Models page](https://huggingface.co/models?search=translate).\n"
      ],
      "metadata": {
        "id": "Kq2yoUGGuD1J"
      }
    },
    {
      "cell_type": "markdown",
      "source": [
        "### Install `sacremoses` package\n",
        "\n",
        "Before we can start translating, we need to install the `sacremoses` package.\n",
        "The `sacremoses` package is a Python port of the `Moses tokenizer`, `truecaser`, and `normalizer`. It provides tools for text preprocessing, which are essential for various natural language processing (NLP) tasks. Here are some key features of sacremoses:\n",
        "\n",
        "**Tokenizer:** The Moses tokenizer splits text into tokens (words, punctuation, etc.) while handling special characters and preserving the original meaning. For example, it can tokenize sentences with unusual symbols and punctuation.\n",
        "\n",
        "**Detokenizer:** The Moses detokenizer reverses the tokenization process, converting tokens back into a coherent sentence.\n",
        "\n",
        "**Truecaser:** The Moses truecaser adjusts the casing of words in a text to match typical usage patterns. It can be trained on a large corpus to learn the correct casing for words.\n",
        "\n",
        "Google Colab doesn't normally include the `sacremoses` package but you can add it by running the following code cell."
      ],
      "metadata": {
        "id": "82F8ZG8ej7Fc"
      }
    },
    {
      "cell_type": "code",
      "source": [
        "# Install sacremoses package\n",
        "\n",
        "!pip install sacremoses"
      ],
      "metadata": {
        "id": "tiKsGDwGgsit"
      },
      "execution_count": null,
      "outputs": []
    },
    {
      "cell_type": "markdown",
      "source": [
        "If the code is correct you should see the following output:\n",
        "\n",
        "![___](https://biologicslab.co/BIO1173/images/class_05/class_05_1_image12A.png)"
      ],
      "metadata": {
        "id": "6rEo499NAT85"
      }
    },
    {
      "cell_type": "markdown",
      "source": [
        "### Example 4 - Step 1: Select Translator\n",
        "\n",
        "In this example we will use the `\"Helsinki-NLP/opus-mt-en-de\"` model. The **`Helsinki-NLP/opus-mt-en-de`** model is a powerful tool for translating text from English to German. Developed by the Language Technology Research Group at the University of Helsinki, this model is part of the `OPUS-MT` project, which provides open translation services for various language pairs"
      ],
      "metadata": {
        "id": "rDkYgglxf8B_"
      }
    },
    {
      "cell_type": "code",
      "source": [
        "# Example 4 - Step 1: Setup translator\n",
        "\n",
        "# Select translator\n",
        "translator = pipeline(\"translation_en_to_de\",\n",
        "                      model=\"Helsinki-NLP/opus-mt-en-de\")\n"
      ],
      "metadata": {
        "colab": {
          "base_uri": "https://localhost:8080/",
          "height": 290,
          "referenced_widgets": [
            "9005df37643f4c18aea521bcc5a5fbf4",
            "706bff460afb4a97bb69af8ca33f2a31",
            "ca473fd4c76a48f6bcf9feb64b5004f5",
            "dce431febcd54ce5b94845df2462d10e",
            "ef0e2f3b5df148dd91574848663bda54",
            "92eb6a7a63414e03b4958aa0a4ed36d4",
            "d261e3de0d7442b0956b6580a570eb40",
            "73e85958d6594ff09511d47dbcde1e09",
            "ce62f070cee64b428343e9c15800b414",
            "007285aebe8e473c8a3020a124fc7530",
            "d06ff892e94746af858c6e87c0b44b30",
            "52d8ec44a9884b29a6597100c313c6cb",
            "38546e0b29cf4e648f51d39405336cde",
            "1cb4cff4946a4d10a9f5095bf57c9666",
            "9afb8f343a9947e6b976a5e31378badd",
            "6c5d140ad8974132b5308bdc14ee1010",
            "aea5671c404b4945bcc8d8dd916e0b8d",
            "62875c6776e249b389269068bfd96615",
            "ecff2238b7d34cfba5c94dc9c4c94713",
            "2218450f340546e1b98006c9afc2f8cc",
            "4811fcf51ac844539c2c7b15dd2be5bc",
            "12f0d9518fce47b18c73484748ebca2c",
            "c563489e74c3461486b4620155e6cb66",
            "27ec69698a554e0eaaa4769efa40627e",
            "bf5f6fcfa3f84ca49e66a590598a91ac",
            "a88bea50f90b48f690caa96745035bc3",
            "2d1ba6c73a184aa5ac073a256513dda3",
            "177ed49e879947a79a79329c82755cb2",
            "a1ec8c28f3fe450498a0153a06d1151a",
            "3fad34b336984388adb91e130758cb8e",
            "fbb17604b99143a8b7a697d75f6106f3",
            "575b445af38748c0ae7fc80731bec8f8",
            "1a7a339250984f068ae927789da011da",
            "829753d26c1b4128830fd676baadc5a4",
            "15f189ef0f7f4b18a4fc8836abb64fe4",
            "c6bf6151b8f5497688d5c986a750ed1d",
            "2cffade209154ce88b63f1e2535f6431",
            "3f8caefbf46a46868ee6134a09f13efc",
            "c4a1dad357314f959cfd18aaa66d016b",
            "778f9a9f69554d4e9c0914b14c7ea10a",
            "d78681bb970d410e88617bd60108815d",
            "17bc7708683b4d038f3fecd049fd60ef",
            "122d6680bf134c40bac1a7c89efd402f",
            "77d2f415ba444f15b91a6c2353b07d39",
            "c60242236dea4215b924836c94006028",
            "68e4ad3fb04241fbac2ef6d58eb2d767",
            "19bec23211e242e69fccaba2422a1fa1",
            "e0e4c94997df49d38289b0a41bf47a14",
            "a402e9c3c8aa4684adf7773d0d749d11",
            "79c3b3f8ead742c690b42c65dfa64498",
            "62ea2803748947628fc0d798d3e2bba4",
            "ca80c6a9cd2749e5b79e09c08a0bb4b1",
            "912a3af12c774612b2340ab36d24d439",
            "983c2009dbf6489db06824fb347a482b",
            "d5b3806cec15411fbcd3fcf833770cdc",
            "785e32f5205140098c0f8e42bec6921b",
            "3dbff43567f143b8b3674334a2796a8c",
            "300256b286d04cb3988932c94338857f",
            "c0f703f41ee94ea0921453f797295606",
            "0fe703c40e884a77814ccddba1cb95f2",
            "063d26f055d24ce6afaa6778ab61089f",
            "30bd534dd56740f2ab82f3ab62c361a5",
            "6c4763e100124793b089dd3986e8eea9",
            "b77227f5a184488e86cc48ad9bcc86a1",
            "fd75d8db5c9f4cad8f55170ac1208609",
            "5a4b3f54f0d84c439b85577871a3ac03",
            "d37b691997a94fee8340fd34a97f8879",
            "cd26fbf154d243fa889e8521bde5d19b",
            "b7b0c63118c34cf1b0950e087e19dfed",
            "b3d024e8c3e24266b6f54a5daec660eb",
            "e31b70ceaf0c4e98885ad2d19eaefaac",
            "640f4148f8a94c839631ae87ace39cde",
            "19eb168cc26f42a9a1c07e81994be29a",
            "aa0c1913269d4d55831d2b2a54dd2241",
            "5972a3b6d31f467dade3a474fa50bd31",
            "d0ed43d176cd4a5f92868c7bc2835307",
            "6131dd624d824896b836a829478bf5f3",
            "f74b76ce60dc4745a165930bbc5a36b2",
            "b208d17576e84aa1a31c1f0c95e30fe6",
            "ee18f951bb5e4819978f30cc9baa4016",
            "4485c0e4ab7e4e01b073d9a4c84acaed",
            "3698551813bc4c088db2cf2343139549",
            "f2ef556c3bc3405d984b378f94791086",
            "9ca20bd9aa8b46c3ba04d2f7b6120fc8",
            "1cde4904fe4f4179a655ddfa35dc4f7f",
            "71051ab0f18548b38fbd09766f7e354b",
            "55298b86b6674f79afc238df3d934d39",
            "77646535601b43b79ee4f25d5348b045"
          ]
        },
        "id": "7JROV9iruGq4",
        "outputId": "aef212f4-d61e-478a-9515-7b1b7c9d0de8"
      },
      "execution_count": null,
      "outputs": [
        {
          "output_type": "display_data",
          "data": {
            "text/plain": [
              "config.json: 0.00B [00:00, ?B/s]"
            ],
            "application/vnd.jupyter.widget-view+json": {
              "version_major": 2,
              "version_minor": 0,
              "model_id": "9005df37643f4c18aea521bcc5a5fbf4"
            }
          },
          "metadata": {}
        },
        {
          "output_type": "display_data",
          "data": {
            "text/plain": [
              "pytorch_model.bin:   0%|          | 0.00/298M [00:00<?, ?B/s]"
            ],
            "application/vnd.jupyter.widget-view+json": {
              "version_major": 2,
              "version_minor": 0,
              "model_id": "52d8ec44a9884b29a6597100c313c6cb"
            }
          },
          "metadata": {}
        },
        {
          "output_type": "display_data",
          "data": {
            "text/plain": [
              "generation_config.json:   0%|          | 0.00/293 [00:00<?, ?B/s]"
            ],
            "application/vnd.jupyter.widget-view+json": {
              "version_major": 2,
              "version_minor": 0,
              "model_id": "c563489e74c3461486b4620155e6cb66"
            }
          },
          "metadata": {}
        },
        {
          "output_type": "display_data",
          "data": {
            "text/plain": [
              "model.safetensors:   0%|          | 0.00/298M [00:00<?, ?B/s]"
            ],
            "application/vnd.jupyter.widget-view+json": {
              "version_major": 2,
              "version_minor": 0,
              "model_id": "829753d26c1b4128830fd676baadc5a4"
            }
          },
          "metadata": {}
        },
        {
          "output_type": "display_data",
          "data": {
            "text/plain": [
              "tokenizer_config.json:   0%|          | 0.00/42.0 [00:00<?, ?B/s]"
            ],
            "application/vnd.jupyter.widget-view+json": {
              "version_major": 2,
              "version_minor": 0,
              "model_id": "c60242236dea4215b924836c94006028"
            }
          },
          "metadata": {}
        },
        {
          "output_type": "display_data",
          "data": {
            "text/plain": [
              "source.spm:   0%|          | 0.00/768k [00:00<?, ?B/s]"
            ],
            "application/vnd.jupyter.widget-view+json": {
              "version_major": 2,
              "version_minor": 0,
              "model_id": "785e32f5205140098c0f8e42bec6921b"
            }
          },
          "metadata": {}
        },
        {
          "output_type": "display_data",
          "data": {
            "text/plain": [
              "target.spm:   0%|          | 0.00/797k [00:00<?, ?B/s]"
            ],
            "application/vnd.jupyter.widget-view+json": {
              "version_major": 2,
              "version_minor": 0,
              "model_id": "d37b691997a94fee8340fd34a97f8879"
            }
          },
          "metadata": {}
        },
        {
          "output_type": "display_data",
          "data": {
            "text/plain": [
              "vocab.json: 0.00B [00:00, ?B/s]"
            ],
            "application/vnd.jupyter.widget-view+json": {
              "version_major": 2,
              "version_minor": 0,
              "model_id": "f74b76ce60dc4745a165930bbc5a36b2"
            }
          },
          "metadata": {}
        },
        {
          "output_type": "stream",
          "name": "stderr",
          "text": [
            "Device set to use cuda:0\n"
          ]
        }
      ]
    },
    {
      "cell_type": "markdown",
      "source": [
        "If the code is correct you should see the following output:\n",
        "\n",
        "![___](https://biologicslab.co/BIO1173/images/class_05/class_05_1_image17A.png)"
      ],
      "metadata": {
        "id": "1Dk7gaStAlni"
      }
    },
    {
      "cell_type": "markdown",
      "source": [
        "### Example 4 - Step 2: Translate Text\n",
        "\n",
        "The following code translates Watson's quotation (`Watson_quotation`) that was used in **Exercise 3** into German.\n"
      ],
      "metadata": {
        "id": "fmWyexSduQf5"
      }
    },
    {
      "cell_type": "code",
      "source": [
        "# Example 4 - Step 2 Translate text\n",
        "\n",
        "import textwrap\n",
        "from transformers import pipeline\n",
        "\n",
        "# Normalize the text by removing extra spaces\n",
        "normalized_text = ' '.join(Watson_quotation.split())\n",
        "\n",
        "# Print the normalized text with proper wrapping\n",
        "wrapped_text = textwrap.fill(normalized_text, width=50)\n",
        "print(wrapped_text)\n",
        "\n",
        "# Print spacer\n",
        "print(\"\\n\")\n",
        "\n",
        "# Perform translation\n",
        "outputs = translator(Watson_quotation, clean_up_tokenization_spaces=True, min_length=100)\n",
        "\n",
        "# Get the translated text\n",
        "translated_text = outputs[0]['translation_text']\n",
        "\n",
        "# Remove excessive dots (e.g., ellipses)\n",
        "cleaned_text = translated_text.rstrip('.')\n",
        "\n",
        "# Break the cleaned text into separate lines\n",
        "wrapped_text = textwrap.fill(cleaned_text, width=50)\n",
        "\n",
        "print(wrapped_text)\n"
      ],
      "metadata": {
        "id": "WKg_Ivc4iZ4J"
      },
      "execution_count": null,
      "outputs": []
    },
    {
      "cell_type": "markdown",
      "source": [
        "If the code is correct you should see the following output:\n",
        "\n",
        "![___](https://biologicslab.co/BIO1173/images/class_05/class_05_1_image18A.png)"
      ],
      "metadata": {
        "id": "TWMWrvIZjCeP"
      }
    },
    {
      "cell_type": "markdown",
      "source": [
        "## **NLP Summarization**\n",
        "\n",
        "**Summarization** is a key NLP task that involves condensing a longer text into a shorter version while preserving the main ideas and important details. There are two primary types of summarization:\n",
        "\n",
        "1. **Extractive Summarization:** This method involves selecting and extracting key sentences or phrases from the original text. The selected sentences are then combined to form a summary. It's like creating a highlight reel of the text.\n",
        "\n",
        "2. **Abstractive Summarization:** This method involves generating new sentences that capture the essence of the original text. It requires the model to understand the context and rephrase the content in a concise manner. This approach is more challenging but can produce more natural and coherent summaries.\n",
        "\n",
        "Summarization is an NLP task that summarizes a more lengthy text into just a few sentences.\n",
        "\n",
        "#### **Use Cases**\n",
        "\n",
        "**NLP summarization**—both extractive and the more recent abstractive methods powered by transformer architectures such as BERT, T5, and GPT—automatically condenses long documents into concise, coherent overviews while preserving key information. In computational biology, this capability is indispensable for navigating the deluge of biomedical literature and data reports. Researchers employ summarization to generate rapid literature reviews, extract essential findings from high‑throughput genomics, proteomics, and metabolomics papers, and produce concise summaries of experimental protocols or clinical trial outcomes. Additionally, summarization helps distill complex pathway and interaction network descriptions, create short reports of multi‑omics integration results, and aid in hypothesis generation by highlighting novel associations across datasets. By reducing manual curation effort, summarization accelerates discovery pipelines, improves reproducibility, and supports evidence‑based decision‑making in genomics, drug discovery, and personalized medicine."
      ],
      "metadata": {
        "id": "NjEAp1jguJvh"
      }
    },
    {
      "cell_type": "markdown",
      "source": [
        "### Example 5: Summarization\n",
        "\n",
        "The code in the cell below summarizes the text in the variable `EG_text3`."
      ],
      "metadata": {
        "id": "RySRVoR6oo-u"
      }
    },
    {
      "cell_type": "code",
      "source": [
        "# Example 5 - Step 1: Setup pipeline for summarizer\n",
        "\n",
        "EG_text3 = \"\"\"\n",
        "Hugging Face is a company and an open-source platform that focuses on Natural\n",
        "Language Processing (NLP) technologies and machine learning models.\n",
        "We’re on a journey to advance and democratize artificial intelligence\n",
        "through open source and open science. Our mission is to make AI accessible\n",
        "to everyone, enabling researchers, developers, and organizations to\n",
        "build and deploy state-of-the-art models with ease. By fostering a\n",
        "collaborative community and providing cutting-edge tools,\n",
        "we aim to accelerate the development and adoption of AI technologies\n",
        "for the benefit of all.\n",
        "\"\"\"\n",
        "\n",
        "summarizer = pipeline(\"summarization\")"
      ],
      "metadata": {
        "id": "em2NSdN2uIiJ"
      },
      "execution_count": null,
      "outputs": []
    },
    {
      "cell_type": "markdown",
      "source": [
        "If the code is correct you should see something similar to the following output:\n",
        "\n",
        "![___](https://biologicslab.co/BIO1173/images/class_05/class_05_1_image11F.png)"
      ],
      "metadata": {
        "id": "jxIMRh_3qQv0"
      }
    },
    {
      "cell_type": "markdown",
      "source": [
        "### Example 5 - Step 2: Print Summary\n",
        "\n",
        "The following code summarizes the text in `EG_text3`"
      ],
      "metadata": {
        "id": "7jafTxh5uiUw"
      }
    }
  ]
}