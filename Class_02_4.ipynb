{
  "cells": [
    {
      "cell_type": "markdown",
      "metadata": {
        "id": "view-in-github",
        "colab_type": "text"
      },
      "source": [
        "<a href=\"https://colab.research.google.com/github/DavidSenseman/BIO1173/blob/main/Class_02_4.ipynb\" target=\"_parent\"><img src=\"https://colab.research.google.com/assets/colab-badge.svg\" alt=\"Open In Colab\"/></a>"
      ]
    },
    {
      "cell_type": "markdown",
      "metadata": {
        "id": "ZYZVwSpdbE3Y"
      },
      "source": [
        "---------------------------\n",
        "**COPYRIGHT NOTICE:** This Jupyterlab Notebook is a Derivative work of [Jeff Heaton](https://github.com/jeffheaton) licensed under the Apache License, Version 2.0 (the \"License\"); You may not use this file except in compliance with the License. You may obtain a copy of the License at\n",
        "\n",
        "> [http://www.apache.org/licenses/LICENSE-2.0](http://www.apache.org/licenses/LICENSE-2.0)\n",
        "\n",
        "Unless required by applicable law or agreed to in writing, software distributed under the License is distributed on an \"AS IS\" BASIS, WITHOUT WARRANTIES OR CONDITIONS OF ANY KIND, either express or implied. See the License for the specific language governing permissions and limitations under the License.\n",
        "\n",
        "------------------------"
      ]
    },
    {
      "cell_type": "markdown",
      "metadata": {
        "id": "ExN-OzpYbE3Y"
      },
      "source": [
        "# **BIO 1173: Intro Computational Biology**"
      ]
    },
    {
      "cell_type": "markdown",
      "metadata": {
        "id": "vt4imk1kbE3Y"
      },
      "source": [
        "##### **Module 2: Neural Networks with Tensorflow and Keras**\n",
        "\n",
        "* Instructor: [David Senseman](mailto:David.Senseman@utsa.edu), [Department of Biology, Health and the Environment](https://sciences.utsa.edu/bhe/), [UTSA](https://www.utsa.edu/)\n",
        "\n",
        "### Module 2 Material\n",
        "\n",
        "* Part 2.1: Introduction to Neural Networks with Tensorflow and Keras\n",
        "* Part 2.2: Encoding Feature Vectors\n",
        "* Part 2.3: Controlling Overfitting\n",
        "* **Part 2.4: Saving and Loading a Keras Neural Network**"
      ]
    },
    {
      "cell_type": "markdown",
      "metadata": {
        "id": "V_-lPkxLbE3Z"
      },
      "source": [
        "## Google CoLab Instructions\n",
        "\n",
        "You MUST run the following code cell to get credit for this class lesson. By running this code cell, you will map your GDrive to /content/drive and print out your Google GMAIL address. Your Instructor will use your GMAIL address to verify the author of this class lesson."
      ]
    },
    {
      "cell_type": "code",
      "execution_count": null,
      "metadata": {
        "id": "seXFCYH4LDUM",
        "scrolled": true
      },
      "outputs": [],
      "source": [
        "# You must run this cell first\n",
        "try:\n",
        "    from google.colab import drive\n",
        "    drive.mount('/content/drive', force_remount=True)\n",
        "    from google.colab import auth\n",
        "    auth.authenticate_user()\n",
        "    Colab = True\n",
        "    print(\"Note: Using Google CoLab\")\n",
        "    import requests\n",
        "    gcloud_token = !gcloud auth print-access-token\n",
        "    gcloud_tokeninfo = requests.get('https://www.googleapis.com/oauth2/v3/tokeninfo?access_token=' + gcloud_token[0]).json()\n",
        "    print(gcloud_tokeninfo['email'])\n",
        "except:\n",
        "    print(\"**WARNING**: Your GMAIL address was **not** printed in the output below.\")\n",
        "    print(\"**WARNING**: You will NOT receive credit for this lesson.\")\n",
        "    Colab = False"
      ]
    },
    {
      "cell_type": "markdown",
      "source": [
        "You should see the following output except your GMAIL address should appear on the last line.\n",
        "\n",
        "![__](https://biologicslab.co/BIO1173/images/class_01/class_01_6_image01A.png)\n",
        "\n",
        "If your GMAIL address does not appear your lesson will **not** be graded."
      ],
      "metadata": {
        "id": "xG3_sXTDfyjA"
      }
    },
    {
      "cell_type": "markdown",
      "source": [
        "### Create Custom Functions\n",
        "\n",
        "Run the cell below to create the function needed for this lesson."
      ],
      "metadata": {
        "id": "Mu5xJAWl_9vZ"
      }
    },
    {
      "cell_type": "code",
      "source": [
        "# Simple function to print out elasped time\n",
        "def hms_string(sec_elapsed):\n",
        "    h = int(sec_elapsed / (60 * 60))\n",
        "    m = int((sec_elapsed % (60 * 60)) / 60)\n",
        "    s = sec_elapsed % 60\n",
        "    return \"{}:{:>02}:{:>05.2f}\".format(h, m, s)"
      ],
      "metadata": {
        "id": "tnwowmLuABDZ"
      },
      "execution_count": null,
      "outputs": []
    },
    {
      "cell_type": "markdown",
      "source": [
        "# **Saving and Loading a Keras Neural Network**\n",
        "\n",
        "Complex neural networks will take a _long_ time to fit/train.  It is helpful to be able to save a trained neural network so that you can reload it and using it again.  Again, a reloaded neural network will **not** require retraining.  \n",
        "\n",
        "Keras provides the following two formats for saving neural networks:\n",
        "\n",
        "* **JSON** - Stores the neural network structure (no weights) in the [JSON file format](https://en.wikipedia.org/wiki/JSON).\n",
        "* **Keras** - Stores the complete neural network (with weights) in the native Keras format.\n",
        "\n",
        "Usually, you will want to save in native `Keras` format."
      ],
      "metadata": {
        "id": "YPb6R6QD6h6F"
      }
    },
    {
      "cell_type": "markdown",
      "source": [
        "### Example 1A: Build, Compile and Train Classification Neural Network\n",
        "\n",
        "The code in `Example 1` builds, compiles and trains a neural network called `or_model` that can classify the `Quality` of an orange based on its physical and chemical characteristics.\n",
        "\n",
        "The code in the cell below reads the **`Orange Quality dataset`** from the course HTTP server and creates a DataFrame called **`or_df`** (i.e. \"orange\" DataFrame).\n",
        "\n",
        "In order to create a feature vector, the 3 non-numeric columns in the dataset: `Color`, `Variety` and `Blemished` must be pre-processed. Mapping strings to integers is used to take care of the column `Color` while one-hot encoding is used to take care the column `Variety`. To take care of the column `Blemish`, it will simply be excluded (dropped) from the column list when generating the `X-values`.\n",
        "\n",
        "There are 7 columns in `or_df` that are numeric:\n",
        "* `Size (cm)`\n",
        "* `Weight (g)`\n",
        "* `Brix (Sweetness)`\n",
        "* `pH (Acidity)`\n",
        "* `Softness (1-5)`\n",
        "* `HarvestTime (days)`\n",
        "* `Ripeness (1-5)`\n",
        "\n",
        "The following code chunk identifies these numeric columns:\n",
        "```text\n",
        "numeric_cols = or_df.select_dtypes(include=['int64', 'float64']).columns\n",
        "```\n",
        "Using this variable `numeric_cols`, we can normalizes all numeric values to their Z-scores with this code chunk:\n",
        "```text\n",
        "or_df[numeric_cols] = or_df[numeric_cols].apply(zscore)\n",
        "```\n",
        "\n",
        "We generate the `X` feature vector (`or_X`) by simply listing each column name that we wish to include as follows:\n",
        "```text\n",
        "# Generate X-values\n",
        "or_X = or_df[['Size (cm)', 'Weight (g)', 'Brix (Sweetness)', 'pH (Acidity)',\n",
        "       'Softness (1-5)', 'HarvestTime (days)', 'Ripeness (1-5)',\n",
        "        'Color']].values\n",
        "or_X = np.asarray(or_X).astype('float32')\n",
        "```\n",
        "It is important to emphasize the need to write each column name **exactly** as it appears in the `or_df` DataFrame.\n",
        "\n",
        "Since we are building a classification neural network, we will need to one-hot encode the column `Quality (1-5)` which contains the `Y-values`.\n",
        "```text\n",
        "# Generate Y-values\n",
        "dummies = pd.get_dummies(or_df['Quality (1-5)'], dtype=int) # Classification\n",
        "or_Y = dummies.values\n",
        "or_Y = np.asarray(or_Y).astype('float32')\n",
        "```\n",
        "\n",
        "It should be noted that this column is already numeric, so we are **not** using one-hot encoding to replace string values with an integer. Rather, one-hot encoding the `Y-values` is necessary to give the `Y-values` the **correct format** for a classification neural network.\n",
        "\n",
        "The standard loss function for multi-class problems is `categorical cross-entropy` (softmax loss). This function expects the **true label** to be a probability distribution over the classes, i.e. a vector that contains a `1` for the correct class and `0s` everywhere else. This is exactly what one-hot encoding does.\n",
        "\n",
        "Finally, we will train the model with `verbose = 0`. Therefore we will not see any output during training.\n"
      ],
      "metadata": {
        "id": "EcUlAWeD7dEx"
      }
    },
    {
      "cell_type": "code",
      "source": [
        "# Example 1A: Build, Compile and Train Classification Model\n",
        "\n",
        "# ------------------------------------------------------------\n",
        "# 0️⃣  Imports\n",
        "# ------------------------------------------------------------\n",
        "import pandas as pd\n",
        "import time\n",
        "import numpy as np\n",
        "from scipy.stats import zscore\n",
        "from keras.models import Sequential\n",
        "from keras.layers import Dense, Input\n",
        "from keras.layers import BatchNormalization, Dropout\n",
        "from keras.callbacks import EarlyStopping, ModelCheckpoint\n",
        "import numpy as np\n",
        "\n",
        "# ------------------------------------------------------------\n",
        "# 1️⃣  Parameters\n",
        "# ------------------------------------------------------------\n",
        "EPOCHS        = 100\n",
        "PATIENCE      = 10\n",
        "VERBOSE       = 0     # 0 means no output during training\n",
        "\n",
        "# ------------------------------------------------------------\n",
        "# 2️⃣  Load data\n",
        "# ------------------------------------------------------------\n",
        "or_df = pd.read_csv(\n",
        "    \"https://biologicslab.co/BIO1173/data/orange_quality.csv\",\n",
        "    na_values=['NA', '?'])\n",
        "\n",
        "\n",
        "# ------------------------------------------------------------\n",
        "# 5️⃣  Preprocessing\n",
        "# ------------------------------------------------------------\n",
        "\n",
        "# Map str to int\n",
        "mapping = {'Orange':0,'Deep Orange':1,\n",
        "           'Light Orange':2,'Orange-Red':3,\n",
        "           'Yellow-Orange':4}\n",
        "or_df['Color'] = or_df['Color'].map(mapping)\n",
        "\n",
        "# Standardise all numeric column with z‑score\n",
        "numeric_cols = or_df.select_dtypes(include=['int64', 'float64']).columns\n",
        "or_df[numeric_cols] = or_df[numeric_cols].apply(zscore)\n",
        "\n",
        "\n",
        "# Generate X-values\n",
        "or_X = or_df[['Size (cm)', 'Weight (g)', 'Brix (Sweetness)', 'pH (Acidity)',\n",
        "       'Softness (1-5)', 'HarvestTime (days)', 'Ripeness (1-5)',\n",
        "        'Color']].values\n",
        "or_X = np.asarray(or_X).astype('float32')\n",
        "\n",
        "# Generate Y-values\n",
        "dummies = pd.get_dummies(or_df['Quality (1-5)'], dtype=int) # Classification\n",
        "or_Y = dummies.values\n",
        "or_Y = np.asarray(or_Y).astype('float32')\n",
        "\n",
        "# ------------------------------------------------------------\n",
        "# 6️⃣  Build & compile model\n",
        "# ------------------------------------------------------------\n",
        "\n",
        "# Build model\n",
        "or_model = Sequential([\n",
        "    Input(shape=(or_X.shape[1],)),\n",
        "    Dense(128, activation='relu'),\n",
        "    BatchNormalization(),\n",
        "    Dropout(0.3),\n",
        "    Dense(64, activation='relu'),\n",
        "    BatchNormalization(),\n",
        "    Dropout(0.3),\n",
        "    Dense(or_Y.shape[1], activation='softmax')\n",
        "])\n",
        "\n",
        "or_model.compile(\n",
        "    loss='categorical_crossentropy',\n",
        "    optimizer='adam',\n",
        "    metrics=['accuracy']\n",
        ")\n",
        "\n",
        "# ------------------------------------------------------------\n",
        "# 7️⃣  Callbacks (monitor accuracy)\n",
        "# ------------------------------------------------------------\n",
        "checkpoint_path = \"or_best_classification_model.keras\"\n",
        "callbacks = [\n",
        "    EarlyStopping(\n",
        "        monitor=\"val_accuracy\",\n",
        "        patience=PATIENCE,\n",
        "        restore_best_weights=True,\n",
        "        mode=\"max\"          # <– add this line\n",
        "    ),\n",
        "    ModelCheckpoint(\n",
        "        filepath=checkpoint_path,\n",
        "        monitor=\"val_accuracy\",\n",
        "        save_best_only=True,\n",
        "        mode=\"max\"\n",
        "    ),\n",
        "]\n",
        "\n",
        "# ------------------------------------------------------------\n",
        "# 8️⃣  Train model\n",
        "# ------------------------------------------------------------\n",
        "print(f\"------Training Starting for {EPOCHS} epochs --------------\")\n",
        "start_time = time.time()\n",
        "or_history = or_model.fit(\n",
        "    or_X, or_Y,\n",
        "    epochs=EPOCHS,\n",
        "    validation_split=0.2,\n",
        "    callbacks=callbacks,\n",
        "    verbose=VERBOSE,\n",
        ")\n",
        "\n",
        "# ---------------------------------------------------------------------------\n",
        "# 9️⃣ Inspect training\n",
        "# ---------------------------------------------------------------------------\n",
        "print(f\"\\nTraining finished.\")\n",
        "print(f\"Best val accuracy: {np.max(or_history.history['val_accuracy']):.4f}\")\n",
        "\n",
        "# --- NEW: print the *last* epoch that was executed -------------\n",
        "if or_history.epoch:                       # safety guard – should always be true\n",
        "    last_epoch = or_history.epoch[-1] + 1  # +1 → human‑friendly (1‑based) count\n",
        "    print(f\"Training ran through epoch #{last_epoch} (total {len(or_history.epoch)} epochs).\")\n",
        "else:\n",
        "    print(\"No epochs were run.\")\n",
        "\n",
        "elapsed_time = time.time() - start_time\n",
        "print(\"Elapsed time: {}\".format(hms_string(elapsed_time)))"
      ],
      "metadata": {
        "id": "Np7QHbJp7iq5"
      },
      "execution_count": null,
      "outputs": []
    },
    {
      "cell_type": "markdown",
      "source": [
        "If the code is correct you should see something _similar_ to the following output\n",
        "\n",
        "![__](https://biologicslab.co:/BIO1173/images/class_02/class_02_4_image01B.png)\n",
        "\n",
        "The `or_model` neural network trained very quickly (< 1 min) but the best validation accuracy (`val accuracy`) is only about 40-45%. It should also be noted that in this particular run, `EarlyStopping` terminated training at the 25th epoch."
      ],
      "metadata": {
        "id": "O9l9OU8us5cQ"
      }
    },
    {
      "cell_type": "markdown",
      "source": [
        "### Example 1B: Visualize Training\n",
        "\n",
        "The code in the cell below generates two side-by-side plots, an **Accuracy Curve** and a **Loss Curve**. These curves provide a visual way to follow what happened during training of `or_model`."
      ],
      "metadata": {
        "id": "XSEK-qjtdMJe"
      }
    },
    {
      "cell_type": "code",
      "source": [
        "# Example 1B: Visualize training\n",
        "\n",
        "import numpy as np\n",
        "\n",
        "# Show the best validation accuracy\n",
        "best_val_acc = np.max(or_history.history['val_accuracy'])\n",
        "print(f\"Best validation accuracy: {best_val_acc:.4f}\")\n",
        "\n",
        "# Show the best validation loss\n",
        "best_val_loss = np.min(or_history.history['val_loss'])\n",
        "print(f\"Best validation loss: {best_val_loss:.4f}\")\n",
        "\n",
        "# Plot training history\n",
        "import matplotlib.pyplot as plt\n",
        "\n",
        "plt.figure(figsize=(12,5))\n",
        "\n",
        "plt.subplot(1,2,1)\n",
        "plt.plot(or_history.history['accuracy'], label='train')\n",
        "plt.plot(or_history.history['val_accuracy'], label='val')\n",
        "plt.title('Accuracy')\n",
        "plt.xlabel('Epoch')\n",
        "plt.legend()\n",
        "\n",
        "plt.subplot(1,2,2)\n",
        "plt.plot(or_history.history['loss'], label='train')\n",
        "plt.plot(or_history.history['val_loss'], label='val')\n",
        "plt.title('Loss')\n",
        "plt.xlabel('Epoch')\n",
        "plt.legend()\n",
        "\n",
        "plt.show()\n"
      ],
      "metadata": {
        "id": "Xn_WFh1XcIUj"
      },
      "execution_count": null,
      "outputs": []
    },
    {
      "cell_type": "markdown",
      "source": [
        "If the code is correct you should see something _similar_ to the following output\n",
        "\n",
        "![__](https://biologicslab.co:/BIO1173/images/class_02/class_02_4_image02B.png)\n",
        "\n",
        "Here's an interpretation of the training and validation curves shown in the example above:\n",
        "\n",
        "####**Accuracy Curve (Left Plot)**\n",
        "* **Training Accuracy** steadily increases over epochs, reaching about **0.6** by epoch 25. This suggests the model is learning and fitting the training data well.\n",
        "* **Validation Accuracy** improves initially but **plateaus around 0.4** after epoch 5, indicating that the model's performance on unseen data stops improving early on.\n",
        "\n",
        "####**Loss Curve (Right Plot)**\n",
        "* **Training Loss** decreases consistently, reaching around 1.0 by epoch 25, which aligns with the increasing training accuracy.\n",
        "* **Validation Loss** drops slightly in the first few epochs but then **stabilizes around 2.0**, showing that the model isn't generalizing well to the validation set.\n",
        "\n",
        "#### **Summary**\n",
        "* **Best Validation Accuracy:** 0.4286\n",
        "* **Best Validation Loss:** 1.7553\n",
        "\n",
        "#### **Interpretation**\n",
        "\n",
        "The model is likely **overfitting**: it's learning the training data well but not generalizing to the validation data."
      ],
      "metadata": {
        "id": "JwOjf0rDzWqc"
      }
    },
    {
      "cell_type": "markdown",
      "source": [
        "### **Exercise 1: Build and Train a Classification Neural Network**\n",
        "\n",
        "In the cell below build and train a new classification neural network called `ap_model`.\n",
        "\n",
        "Start by `copy-and-paste` Example 1 into the cell below.\n",
        "\n",
        "Read the **`Apple Quality dataset`** and creat a DataFrame called `ap_df` (\"apple\" DataFrame) using this code chunk:\n",
        "~~~text\n",
        "ap_df = pd.read_csv(\n",
        "    \"https://biologicslab.co/BIO1173/data/apple_quality.csv\",\n",
        "    na_values=['NA', '?'])\n",
        "~~~\n",
        "\n",
        "The goal of your training your neural network model `ap_model` will be to learn how to predict the classification apples using the values in the following columns: 'Size', 'Weight', 'Sweetness', 'Crunchiness', 'Juiciness', 'Acidity' and 'Ripeness'. Since all of these columns are numeric you should standardize their values by converting them to their z-scores. You can simply re-use the code in `Example 1` making sure to change the prefix `or_` to `ap_`.\n",
        "\n",
        "Again, since all of these columns are numeric, there is no need map any strings to integers as was done in `Example 1`. The easiest and _safest_ way to accomplish this is to simply comment-out the unecessary code in `Example 1` as follows:\n",
        "```text\n",
        "# Map str to int\n",
        "#mapping = {'Orange':0,'Deep Orange':1,\n",
        "#           'Light Orange':2,'Orange-Red':3,\n",
        "#           'Yellow-Orange':4}\n",
        "#or_df['Color'] = or_df['Color'].map(mapping)\n",
        "```\n",
        "Commenting-out code instead of simply deleting it has the distinct advantage that if you make a mistake, is relatively easy to correct it by simply adding (or removing) the **`#`** before the line.\n",
        "\n",
        "\n",
        "To generate your X feature vector change this code chunk\n",
        "```text\n",
        "# Generate X-values\n",
        "or_X = or_df[['Size (cm)', 'Weight (g)', 'Brix (Sweetness)', 'pH (Acidity)',\n",
        "       'Softness (1-5)', 'HarvestTime (days)', 'Ripeness (1-5)',\n",
        "        'Color']].values\n",
        "or_X = np.asarray(or_X).astype('float32')\n",
        "```\n",
        "> to read as\n",
        "\n",
        "```text\n",
        "# Generate X‑values\n",
        "ap_X = ap_df[['Size', 'Weight', 'Sweetness', 'Crunchiness',\n",
        "              'Juiciness', 'Acidity', 'Ripeness']].values\n",
        "ap_X = np.asarray(ap_X).astype('float32')\n",
        "```\n",
        "This will make sure on the correct columns are used to generate your `X` feature vector.\n",
        "\n",
        "Since you are building a classification neural network, you will need to one-Hot encode the column called `Quality` containing your `Y-values`. You can simple re-use the code in `Example 1`, making sure to use the correct name for the target column (i.e `Quality`).\n",
        "\n",
        "Finally, train (fit) your model on your X-values (`ap_X`) and your Y-values (`ap_Y`) for 100 epochs with verbose set to `0`.  "
      ],
      "metadata": {
        "id": "9Mrt8H0R81h1"
      }
    },
    {
      "cell_type": "code",
      "source": [
        "# Insert your code for Exercise 1A here\n",
        "\n"
      ],
      "metadata": {
        "id": "9mfNvH90lmOx"
      },
      "execution_count": null,
      "outputs": []
    },
    {
      "cell_type": "markdown",
      "source": [
        "If the code is correct you should see something _similar_ to the following output\n",
        "\n",
        "![__](https://biologicslab.co:/BIO1173/images/class_02/class_02_4_image03B.png)\n",
        "\n",
        "Your `ap_model` neural network doesn't appear to have done a very good job either since the best validation accuracy (`val accuracy`) is again only about 40-45%. It should also be noted that in this particular run, `EarlyStopping` terminated training at the 46th epoch."
      ],
      "metadata": {
        "id": "PH3hBsCL09U1"
      }
    },
    {
      "cell_type": "markdown",
      "source": [
        "### **Exercise 1B: Visualize Training**\n",
        "\n",
        "In the cell below write the code to generate two side-by-side plots, an **Accuracy Curve** and a **Loss Curve** for your `ap_model`."
      ],
      "metadata": {
        "id": "dNKiSkZweeL1"
      }
    },
    {
      "cell_type": "code",
      "source": [
        "# Insert your code for Exercise 1B here\n",
        "\n"
      ],
      "metadata": {
        "id": "AHpTicaKeeL1"
      },
      "execution_count": null,
      "outputs": []
    },
    {
      "cell_type": "markdown",
      "source": [
        "If the code is correct you should see something _similar_ to the following output\n",
        "\n",
        "![__](https://biologicslab.co:/BIO1173/images/class_02/class_02_4_image04B.png)\n",
        "\n",
        "### **Analysis**\n",
        "\n",
        "The following is an analysis of the two plots shown above as example outputs.\n",
        "\n",
        "#### **Left Plot: Accuracy**\n",
        "* **Training Accuracy** (blue line):\n",
        "* * Starts around 0.75 and steadily increases to about 0.93 by epoch 40.\n",
        "* **Validation Accuracy** (orange line):\n",
        "* * Starts higher than training accuracy (~0.85) and quickly rises to ~0.95, stabilizing after epoch 20.\n",
        "* **Interpretation:**\n",
        "* The model is learning effectively and generalizing well.\n",
        "* Validation accuracy being consistently higher than training accuracy suggests **good generalization** and possibly regularization at play.\n",
        "\n",
        "#### **Right Plot: Loss**\n",
        "* **Training Loss** (blue line):\n",
        "* * Starts around 0.55 and decreases steadily to below 0.2.\n",
        "* **Validation Loss** (orange line):\n",
        "* * Starts similarly but drops faster, stabilizing around 0.14, which is lower than training loss.\n",
        "* **Interpretation:**\n",
        "* The model is not overfitting; in fact, it performs better on validation data than on training data.\n",
        "* This could be due to:\n",
        "* * Dropout or other regularization techniques\n",
        "* * Well-shuffled and representative validation set\n",
        "* * Early stopping or careful tuning\n",
        "\n",
        "#### **Summary Stats**\n",
        "* **Best Validation Accuracy:** 0.9563\n",
        "* **Best Validation Loss:** 0.141\n",
        "------------------\n",
        "\n",
        "#### **Overall Assessment:**\n",
        "\n",
        "Your model shows **excellent performance** and **strong generalization**."
      ],
      "metadata": {
        "id": "2s69Gsj92jc2"
      }
    },
    {
      "cell_type": "markdown",
      "source": [
        "----------------------------------------\n",
        "## **Time and Cost of Training Large Language Models (LLMs)**\n",
        "\n",
        "Large Language Models (LLMs) require a lot of time and money to train. Here is some of the available data as of September 2025.\n",
        "\n",
        "#### **Largest LLMs (as of September 2025)**\n",
        "\n",
        "| Model | Approx. size (parameters) | Rough training duration | Rough training cost | Source |\n",
        "|-------|---------------------------|-------------------------|---------------------|--------|\n",
        "| **PaLM 2‑G** (Google) | **540 B** | ~4 months on ≈ 5 000–10 000 GPUs (≈ 2 million GPU‑hours) | **$200 M – $250 M** | Google AI blog (2024), “PaLM 2: Language Models for the Web” |\n",
        "| **GPT‑4** (OpenAI) | **175 B** (largest released variant) | ~3 months on ≈ 10 000–15 000 GPUs (≈ 1.3 million GPU‑hours) | **$30 M – $50 M** | OpenAI press release (2023), estimates from *Bloomberg* and *The Verge* |\n",
        "| **Claude 3** (Anthropic) | **200 B** | ~3 months on ≈ 8 000 GPUs (≈ 1 million GPU‑hours) | **$30 M – $60 M** | Anthropic blog (2024) |\n",
        "| **LLaMA‑2‑70B** (Meta) | **70 B** | ~1 month on ≈ 1 500 GPUs (≈ 0.2 million GPU‑hours) | **$5 M – $10 M** | Meta AI research paper (2023) |\n",
        "\n",
        "\n",
        "####**Quick take-aways**\n",
        "\n",
        "1. **Largest publicly‑known LLM (as of 2025):**  \n",
        "   *PaLM 2‑G* – **540 billion** parameters, the only model known to exceed the 175‑B‑parameter range of GPT‑4.\n",
        "\n",
        "2. **Training time:**  \n",
        "   Even the smallest “state-of-the-art” models require **weeks to months** on **thousands of GPUs**.  \n",
        "   * PaLM 2-G ≈ **2 million GPU-hours** → ~4 months on a 5 000‑GPU cluster.\n",
        "\n",
        "3. **Training cost:**  \n",
        "   Costs run in the **tens to hundreds of millions** of dollars.  \n",
        "   * 175B-parameter models: **\\$30-50M**  \n",
        "   * 540B-parameter models: **\\$200-250M**\n",
        "\n",
        "> **Bottom line:**  \n",
        "> The field is rapidly moving toward ever larger models, but the practical ceiling is still in the *hundreds of billions* of parameters.  Training such a model is a **multi-month, multi‑million‑GPU‑hour operation** that costs **\\$30-250 million**, depending on size and hardware budget.\n",
        "\n",
        "---------------------\n"
      ],
      "metadata": {
        "id": "og2a5Hz67Mrq"
      }
    },
    {
      "cell_type": "markdown",
      "source": [
        "### Example 2: Determine the Model's Accuracy\n",
        "\n",
        "The overall objective of this assignment is to convince you that can save a _trained_ neural network to a file, and then later, recreate the neural network from the file, **without changing the model's accuracy**.\n",
        "\n",
        "#### **Why is this important?**\n",
        "\n",
        "As you already know, it can take significant time and processing power to train even relatively small neural networks that we created so far in this course. Neural networks that are used commercially (think \"Siri\" or \"Alexa\" or ChatGPT) are many times larger and require enormous resources as well as weeks (or months) to train (See above).\n",
        "\n",
        "Obviously, if you had to train a neural network every time you wanted to use it, it won't be very practical and there would be little interest in \"AI\". However, once the neural network has been trained, you can save it to a file, and then re-use it over and over again, without any loss in the neural network's ability to solve problems (i.e. loss in accuracy).      \n",
        "\n",
        "The code in the cell below calculates ability of the `or_model` neural network to predict an orange's quality (`Y-value`) based on its physical and chemical characteristics (`X-values`). The important point here is not the accuracy _per se_ but that this accuracy will not be changed by saving the model and later re-creating the model.\n",
        "\n",
        "Here is summary of what the different accuracy metrics mean and how they are calculated.\n",
        "\n",
        "#### **1. Precision**  \n",
        "**Definition**  \n",
        "The proportion of *predicted positive* instances that are actually positive.  \n",
        "\n",
        "$$\n",
        "\\text{Precision}= \\frac{\\text{True Positives (TP)}}{\\text{True Positives (TP)}+\\text{False Positives (FP)}}\n",
        "$$\n",
        "\n",
        "*A high precision means that when the model says “class X”, it is usually correct.*\n",
        "\n",
        "#### **2. Recall**  \n",
        "**Definition**  \n",
        "The proportion of *actual positive* instances that the model correctly identifies.  \n",
        "$$\n",
        "\\text{Recall}= \\frac{\\text{True Positives (TP)}}{\\text{True Positives (TP)}+\\text{False Negatives (FN)}}\n",
        "$$  \n",
        "\n",
        "*A high recall means that the model finds almost all of the examples belonging to a class.*\n",
        "\n",
        "#### **3. F1-score**  \n",
        "**Definition**  \n",
        "The harmonic mean of precision and recall, balancing the two.  \n",
        "$$\n",
        "\\text{F1}= 2 \\times \\frac{\\text{Precision}\\times\\text{Recall}}{\\text{Precision}+\\text{Recall}}\n",
        "$$  \n",
        "\n",
        "*It is a single metric that penalizes extreme values of either precision or recall.*\n",
        "\n",
        "#### **4. Support**  \n",
        "**Definition**  \n",
        "The number of *actual* instances of a given class in the dataset (i.e., the class count).  \n",
        "\n",
        "*It tells you how many samples the metrics are based on; larger support gives more reliable statistics.*\n",
        "\n",
        "--------------------\n",
        "\n",
        "### **Quick Recap**\n",
        "\n",
        "- **Precision** - “Of the times we predicted this class, how often were we right?”  \n",
        "  Formula: $(TP/(TP+FP)$)\n",
        "\n",
        "- **Recall** - “Of all the times this class actually occurred, how often did we predict it?”  \n",
        "  Formula: $(TP/(TP+FN)$)\n",
        "\n",
        "- **F1-score** - A balanced measure of precision and recall  \n",
        "  Formula: $(2\\times\\frac{P\\cdot R}{P+R}$)\n",
        "\n",
        "- **Support** - How many true examples of the class exist  \n",
        "  (Just the count of that class in the data)\n",
        "\n",
        "You can use these metrics to understand not just overall accuracy but *how* the model behaves for each individual class, especially when the classes are **imbalanced**.\n"
      ],
      "metadata": {
        "id": "yQn3GXQe9OnD"
      }
    },
    {
      "cell_type": "markdown",
      "source": [
        "### Example 2: Determine the Model's Accuracy Before Saving to Disk\n",
        "\n",
        "The code in the cell below calculates 4 **accuracy metrics** about the `or_model` before we save it to disk. To keep these values separate, we will assign the prefix `or_before_` to each metric."
      ],
      "metadata": {
        "id": "r1__6oDmqs45"
      }
    },
    {
      "cell_type": "code",
      "source": [
        "# Example 2: Determine the model's accuracy before saving to disk\n",
        "\n",
        "import os\n",
        "import numpy as np\n",
        "from sklearn.metrics import accuracy_score, classification_report, log_loss\n",
        "\n",
        "# 1️⃣  Predict probabilities\n",
        "or_before_pred_prob = or_model.predict(or_X)\n",
        "\n",
        "# 2️⃣  Convert to class indices\n",
        "true_cls  = np.argmax(or_Y, axis=1)\n",
        "pred_cls  = np.argmax(or_before_pred_prob, axis=1)\n",
        "\n",
        "# 3️⃣  Compute metrics\n",
        "or_before_acc      = accuracy_score(true_cls, pred_cls)\n",
        "or_before_class_report    = classification_report(true_cls, pred_cls, zero_division=0)\n",
        "or_before_log_loss = log_loss(true_cls, or_before_pred_prob)\n",
        "\n",
        "# 4️⃣  Prepare the output string (the same text that will be printed)\n",
        "output_text = (\n",
        "    f\"Accuracy: {or_before_acc:.4f}\\n\\n\"\n",
        "    f\"Classification report (before the model was saved):\\n{or_before_class_report}\\n\"\n",
        "    f\"Log‑loss: {or_before_log_loss:.4f}\"\n",
        ")\n",
        "\n",
        "# 5️⃣  Print to console (unchanged behaviour)\n",
        "print(output_text)"
      ],
      "metadata": {
        "id": "C6yo7dvpKhMf"
      },
      "execution_count": null,
      "outputs": []
    },
    {
      "cell_type": "markdown",
      "source": [
        "If the code is correct you should see something _similar_ to the following output\n",
        "\n",
        "![__](https://biologicslab.co:/BIO1173/images/class_02/class_02_4_image13B.png)"
      ],
      "metadata": {
        "id": "pk0iFIzo_ZKv"
      }
    },
    {
      "cell_type": "markdown",
      "source": [
        "### **Exercise 2: Determine the Model's Accuracy**\n",
        "\n",
        "In the cell below, write the code to calculate the 4 **accuracy metrics** shown in `Example 2` about the `ap_model` before we save it to disk. To keep these values separate, assign the prefix `ap_before_` to each metric."
      ],
      "metadata": {
        "id": "wP7Yge269bWi"
      }
    },
    {
      "cell_type": "code",
      "source": [
        "# Insert your code for Exercise 2 here\n",
        "\n"
      ],
      "metadata": {
        "id": "fTWlNJzA9fti"
      },
      "execution_count": null,
      "outputs": []
    },
    {
      "cell_type": "markdown",
      "source": [
        "If your code is correct you should see something _similar_ to the following output:\n",
        "\n",
        "![__](https://biologicslab.co/BIO1173/images/class_02/class_02_4_image12B.png)\n",
        "\n",
        "According to the output shown above, your `ap_model` is better than 95% accurate when it comes to predicting apple quality. Apparently, it's a little easier to predict an apple's `Quality` with a classification neural network than to predict orange quality."
      ],
      "metadata": {
        "id": "Om3ueI6p9idK"
      }
    },
    {
      "cell_type": "markdown",
      "source": [
        "### Example 3: Save the Model\n",
        "\n",
        "The code in the cell below saves the _trained_ neural network `or_model` as a file in two different file formats: `JSON` and `keras`.\n",
        "\n",
        "Each file in the current working directory (`save_path = \".\"`). The filename of the JSON file is `or_model.json` while the filename of the `keras` file is `or_model.keras`."
      ],
      "metadata": {
        "id": "7NVtEsrt-xd1"
      }
    },
    {
      "cell_type": "code",
      "source": [
        "# Example 3: Save the model & list the directory vertically\n",
        "\n",
        "import os\n",
        "from keras.models import save_model\n",
        "\n",
        "# ------------------------------------------------------------------\n",
        "# 1️⃣  Define the folder where everything will be stored\n",
        "save_path = \".\"                      # current working directory\n",
        "os.makedirs(save_path, exist_ok=True)   # just in case\n",
        "\n",
        "# ------------------------------------------------------------------\n",
        "# 2️⃣  Save the network architecture as JSON (no weights)\n",
        "or_model_json = or_model.to_json()\n",
        "json_path = os.path.join(save_path, \"or_model.json\")\n",
        "with open(json_path, \"w\", encoding=\"utf-8\") as json_file:\n",
        "    json_file.write(or_model_json)\n",
        "\n",
        "# ------------------------------------------------------------------\n",
        "# 3️⃣  Save the full model in Keras' native format (architecture + weights)\n",
        "keras_path = os.path.join(save_path, \"or_model.keras\")\n",
        "or_model.save(keras_path)\n",
        "\n",
        "# ------------------------------------------------------------------\n",
        "# 4️⃣  Print the files in the directory **vertically** (one file per line)\n",
        "print(\"\\nFiles in the current directory:\")\n",
        "for fname in sorted(os.listdir(save_path)):\n",
        "    print(f\" - {fname}\")\n"
      ],
      "metadata": {
        "id": "hdwIvJ5GD6rE"
      },
      "execution_count": null,
      "outputs": []
    },
    {
      "cell_type": "markdown",
      "source": [
        "If your code is correct you should see something _similar_ to the following output:\n",
        "\n",
        "![__](https://biologicslab.co/BIO1173/images/class_02/class_02_4_image14B.png)\n",
        "\n",
        "After running the code cell above, there should now be two new files in your `current directory`, **`or_model.jason`** and **`or_model.keras`**."
      ],
      "metadata": {
        "id": "uKVJKqIo_fhD"
      }
    },
    {
      "cell_type": "markdown",
      "source": [
        "### **Exercise 3: Save the Model**\n",
        "\n",
        "In the code cell below save your _trained_ neural network `ap_model` as a JSON file with the filename, `ap_model.json`, and as a native Keras file with the filenmane `ap_model.keras`. Save both files to your current working directory (`save_path = \".\"`)."
      ],
      "metadata": {
        "id": "OcoPhtQi_kiC"
      }
    },
    {
      "cell_type": "code",
      "source": [
        "# Insert your code for Exercise 3 here\n",
        "\n"
      ],
      "metadata": {
        "id": "TbjbyLCGClTn"
      },
      "execution_count": null,
      "outputs": []
    },
    {
      "cell_type": "markdown",
      "source": [
        "If your code is correct you should see something similar to the following output:\n",
        "\n",
        "![__](https://biologicslab.co/BIO1173/images/class_02/class_02_4_image15B.png)\n",
        "\n",
        "You should now see the two more files with your neural network, **`ap_model.json`** and **`ap_model.keras`**."
      ],
      "metadata": {
        "id": "rl_-kxWhbuhd"
      }
    },
    {
      "cell_type": "markdown",
      "source": [
        "The advantage of the `JSON` format is that it can be visually inspected--just click on the file name in the file browser panel. The `JSON` file perserves the model's _architecture_ which you can see by looking at the `JSON` file, but not the `weights`. So if you want to use the model, you will need to train it all over again.\n",
        "\n",
        "On the other hand, you can't view the contents of the `keras` file, since it is not UTF-8 encoded (it's formated). Neverthelss, you should always save your model in the **`kereas`** format since this **preserves architecture and the values of the weights** of the model's connections. By preserving these values you don't have to waste time retraining the model again."
      ],
      "metadata": {
        "id": "v3FMuLDNcExU"
      }
    },
    {
      "cell_type": "markdown",
      "source": [
        "### Example 4: Create New Model from Saved Model\n",
        "\n",
        "Once a trained model has been saved in the native `keras` format, it is a simple matter to read the file and make an **exact copy** of the model using the Keras function **`load_model()`** as shown in the cell below. In Example 4 we have given the re-loaded neural network the name `or2_model` to differentiate it from the one that we built previously, `or_model`.  "
      ],
      "metadata": {
        "id": "Qk2Sx-0_cHBj"
      }
    },
    {
      "cell_type": "code",
      "source": [
        "# Example 4: Create new model from saved model\n",
        "\n",
        "from keras.models import load_model\n",
        "\n",
        "# Look in current folder\n",
        "save_path = \".\"\n",
        "\n",
        "# Create or2_model from the saved model\n",
        "or2_model = load_model(os.path.join(save_path,\"or_model.keras\"))\n",
        "\n",
        "# Print out model summary\n",
        "or2_model.summary()"
      ],
      "metadata": {
        "id": "F_cMX2v1_qIq"
      },
      "execution_count": null,
      "outputs": []
    },
    {
      "cell_type": "markdown",
      "source": [
        "If your code is correct you should see the following output:\n",
        "\n",
        "![__](https://biologicslab.co/BIO1173/images/class_02/class_02_4_image09B.png)"
      ],
      "metadata": {
        "id": "-1pWvfA5cVcz"
      }
    },
    {
      "cell_type": "markdown",
      "source": [
        "### **Exercise 4: Create New Model from Saved Model**\n",
        "\n",
        "In the cell below create a new neural network called `ap2_model` from the file `ap_model.keras` that you saved to your current directory in **Exercise 3**. Print out a summary of your new `ap2_model`."
      ],
      "metadata": {
        "id": "PhDXUkydD64K"
      }
    },
    {
      "cell_type": "code",
      "source": [
        "# Insert your code for Exercise 4 here\n",
        "\n"
      ],
      "metadata": {
        "id": "igrzYQ6lECiS"
      },
      "execution_count": null,
      "outputs": []
    },
    {
      "cell_type": "markdown",
      "source": [
        "If your code is correct you should see the following output:\n",
        "\n",
        "![__](https://biologicslab.co/BIO1173/images/class_02/class_02_4_image10B.png)"
      ],
      "metadata": {
        "id": "Wq-QSomoEMuK"
      }
    },
    {
      "cell_type": "markdown",
      "source": [
        "### Example 5: Determine the Model's Accuracy After Restoring from Disk\n",
        "\n",
        "The code in the cell below calculates the same 4 **accuracy metrics** about the our newely created `or2_model`. To keep these values separate, we will assign the prefix `or2_after_` to each metric."
      ],
      "metadata": {
        "id": "9CuvngfiEUgB"
      }
    },
    {
      "cell_type": "code",
      "source": [
        "# Example 5: Determine the model's accuracy after restoring from disk\n",
        "\n",
        "import os\n",
        "import numpy as np\n",
        "from sklearn.metrics import accuracy_score, classification_report, log_loss\n",
        "\n",
        "# Before saving-----------------------------------------------------------------\n",
        "\n",
        "print(\"Accuracy Metrics of `or_model` before saving to disk:\\n\")\n",
        "# 1️⃣  Predict probabilities\n",
        "or_before_pred_prob = or_model.predict(or_X)\n",
        "\n",
        "# 2️⃣  Convert to class indices\n",
        "true_cls  = np.argmax(or_Y, axis=1)\n",
        "pred_cls  = np.argmax(or_before_pred_prob, axis=1)\n",
        "\n",
        "# 3️⃣  Compute metrics\n",
        "or_before_acc      = accuracy_score(true_cls, pred_cls)\n",
        "or_before_class_report    = classification_report(true_cls, pred_cls, zero_division=0)\n",
        "or_before_log_loss = log_loss(true_cls, or_before_pred_prob)\n",
        "\n",
        "# 4️⃣  Prepare the output string (the same text that will be printed)\n",
        "output_text = (\n",
        "    f\"Accuracy: {or_before_acc:.4f}\\n\\n\"\n",
        "    f\"Classification report (before the model was saved):\\n{or_before_class_report}\\n\"\n",
        "    f\"Log‑loss: {or_before_log_loss:.4f}\"\n",
        ")\n",
        "\n",
        "# 5️⃣  Print to console (unchanged behaviour)\n",
        "print(output_text)\n",
        "\n",
        "# After restoring --------------------------------------------------------------\n",
        "print(\"\\n\\nAccuracy Metrics of `or2_model` after restoring from disk:\\n\")\n",
        "\n",
        "# 1️⃣  Predict probabilities\n",
        "or2_after_pred_prob = or2_model.predict(or_X)\n",
        "\n",
        "# 2️⃣  Convert to class indices\n",
        "true_cls  = np.argmax(or_Y, axis=1)\n",
        "pred_cls  = np.argmax(or2_after_pred_prob, axis=1)\n",
        "\n",
        "# 3️⃣  Compute metrics\n",
        "or2_after_acc      = accuracy_score(true_cls, pred_cls)\n",
        "or2_after_class_report    = classification_report(true_cls, pred_cls, zero_division=0)\n",
        "or2_after_log_loss = log_loss(true_cls, or2_after_pred_prob)\n",
        "\n",
        "# 4️⃣  Prepare the output string (the same text that will be printed)\n",
        "output_text = (\n",
        "    f\"Accuracy: {or2_after_acc:.4f}\\n\\n\"\n",
        "    f\"Classification report (after the model was saved):\\n{or2_after_class_report}\\n\"\n",
        "    f\"Log‑loss: {or2_after_log_loss:.4f}\"\n",
        ")\n",
        "\n",
        "# 5️⃣  Print to console (unchanged behaviour)\n",
        "print(output_text)\n"
      ],
      "metadata": {
        "id": "B7bD9n_fHVt8"
      },
      "execution_count": null,
      "outputs": []
    },
    {
      "cell_type": "markdown",
      "source": [
        "If the code is correct the output from the last cell should be **identical** to the output generated in `Example 2`\n",
        "\n",
        "![__](https://biologicslab.co:/BIO1173/images/class_02/class_02_4_image16B.png)\n",
        "\n",
        "As you can see, there is **_no difference_** in the accuracy of the saved model compared to the original one.\n",
        "\n",
        ">> ### **_Train Once_...Use Anywhere!**\n",
        "\n",
        "Big generative models like `ChatGTP` can take days or even months to train, but once they are trained and saved, they can process new data very fast at very little cost."
      ],
      "metadata": {
        "id": "7hyVZ21cIkgf"
      }
    },
    {
      "cell_type": "markdown",
      "source": [
        "### **Exercise 5: Determine the Model's Accuracy After Restoring from Disk**\n",
        "\n",
        "In the cell below write the code to calculate the same 4 **accuracy metrics** about your newely created `ap2_model`. To keep these values separate, assign the prefix `ap2_after_` to each metric."
      ],
      "metadata": {
        "id": "axjJIaLgEiPg"
      }
    },
    {
      "cell_type": "code",
      "source": [
        "# Insert your code for Exercise 5 here\n",
        "\n"
      ],
      "metadata": {
        "id": "oUcDuK89EnKf"
      },
      "execution_count": null,
      "outputs": []
    },
    {
      "cell_type": "markdown",
      "source": [
        "If the code is correct the output from the last cell should be **identical** to the output that you generated in **`Exercise 2`**\n",
        "\n",
        "![__](https://biologicslab.co:/BIO1173/images/class_02/class_02_4_image17B.png)"
      ],
      "metadata": {
        "id": "Jab1kYFwLrK8"
      }
    },
    {
      "cell_type": "markdown",
      "metadata": {
        "id": "9MhC_-6ebE3l"
      },
      "source": [
        "## **Lesson Turn-in**\n",
        "\n",
        "When you have completed and run all of the code cells, use the **File --> Print.. --> Save to PDF** to generate a PDF of your Colab notebook. Save your PDF as `Class_02_4.lastname.pdf` where _lastname_ is your last name, and upload the file to Canvas."
      ]
    },
    {
      "cell_type": "markdown",
      "source": [
        "## **Lizard Tail**\n",
        "\n",
        "\n",
        "## **Stable Diffusion**\n",
        "\n",
        "![___](https://upload.wikimedia.org/wikipedia/commons/thumb/8/82/Astronaut_Riding_a_Horse_%28SD3.5%29.webp/1024px-Astronaut_Riding_a_Horse_%28SD3.5%29.webp.png)\n",
        "\n",
        ">*An image generated with Stable Diffusion 3.5 based on the text prompt*\n",
        "\n",
        "**Stable Diffusion** is a deep learning, text-to-image model released in 2022 based on diffusion techniques. The generative artificial intelligence technology is the premier product of `Stability AI` and is considered to be a part of the ongoing artificial intelligence boom.\n",
        "\n",
        "It is primarily used to generate detailed images conditioned on text descriptions, though it can also be applied to other tasks such as inpainting, outpainting, and generating image-to-image translations guided by a text prompt.[3] Its development involved researchers from the CompVis Group at Ludwig Maximilian University of Munich and Runway with a computational donation from Stability and training data from non-profit organizations.\n",
        "\n",
        "**Stable Diffusion** is a latent diffusion model, a kind of deep generative artificial neural network. Its code and model weights have been released publicly, and it can run on most consumer hardware equipped with a modest GPU with at least 4 GB VRAM. This marked a departure from previous proprietary text-to-image models such as DALL-E and Midjourney which were accessible only via cloud services.\n",
        "\n",
        "**Development**\n",
        "\n",
        "Stable Diffusion originated from a project called Latent Diffusion, developed in Germany by researchers at Ludwig Maximilian University in Munich and Heidelberg University. Four of the original 5 authors (Robin Rombach, Andreas Blattmann, Patrick Esser and Dominik Lorenz) later joined Stability AI and released subsequent versions of Stable Diffusion.\n",
        "\n",
        "The technical license for the model was released by the CompVis group at Ludwig Maximilian University of Munich. Development was led by Patrick Esser of Runway and Robin Rombach of CompVis, who were among the researchers who had earlier invented the latent diffusion model architecture used by Stable Diffusion. Stability AI also credited EleutherAI and LAION (a German nonprofit which assembled the dataset on which Stable Diffusion was trained) as supporters of the project.\n",
        "\n",
        "**Technology**\n",
        "\n",
        "The denoising process used by Stable Diffusion. The model generates images by iteratively denoising random noise until a configured number of steps have been reached, guided by the CLIP text encoder pretrained on concepts along with the attention mechanism, resulting in the desired image depicting a representation of the trained concept.\n",
        "\n",
        "**Architecture**\n",
        "\n",
        "Diffusion models, introduced in 2015, are trained with the objective of removing successive applications of Gaussian noise on training images, which can be thought of as a sequence of denoising autoencoders. The name diffusion is from the thermodynamic diffusion, since they were first developed with inspiration from thermodynamics.\n",
        "\n",
        "Models in Stable Diffusion series before SD 3 all used a variant of diffusion models, called latent diffusion model (LDM), developed in 2021 by the CompVis (Computer Vision & Learning) group at LMU Munich.\n",
        "\n",
        "Stable Diffusion consists of 3 parts: the variational autoencoder (VAE), U-Net, and an optional text encoder. The VAE encoder compresses the image from pixel space to a smaller dimensional latent space, capturing a more fundamental semantic meaning of the image. Gaussian noise is iteratively applied to the compressed latent representation during forward diffusion. The U-Net block, composed of a ResNet backbone, denoises the output from forward diffusion backwards to obtain a latent representation. Finally, the VAE decoder generates the final image by converting the representation back into pixel space.\n",
        "\n",
        "The denoising step can be flexibly conditioned on a string of text, an image, or another modality. The encoded conditioning data is exposed to denoising U-Nets via a cross-attention mechanism. For conditioning on text, the fixed, pretrained CLIP ViT-L/14 text encoder is used to transform text prompts to an embedding space. Researchers point to increased computational efficiency for training and generation as an advantage of LDMs.\n",
        "\n",
        "With 860 million parameters in the U-Net and 123 million in the text encoder, Stable Diffusion is considered relatively lightweight by 2022 standards, and unlike other diffusion models, it can run on consumer GPUs, and even CPU-only if using the OpenVINO version of Stable Diffusion.\n",
        "\n",
        "**SD XL**\n",
        "The XL version uses the same LDM architecture as previous versions, except larger: larger UNet backbone, larger cross-attention context, two text encoders instead of one, and trained on multiple aspect ratios (not just the square aspect ratio like previous versions).\n",
        "\n",
        "The SD XL Refiner, released at the same time, has the same architecture as SD XL, but it was trained for adding fine details to preexisting images via text-conditional img2img.\n",
        "\n",
        "**SD 3.0**\n",
        "\n",
        "Main article: Diffusion model § Rectified flow\n",
        "The 3.0 version completely changes the backbone. Not a UNet, but a Rectified Flow Transformer, which implements the rectified flow method with a Transformer.\n",
        "\n",
        "The Transformer architecture used for SD 3.0 has three \"tracks\", for original text encoding, transformed text encoding, and image encoding (in latent space). The transformed text encoding and image encoding are mixed during each transformer block.\n",
        "\n",
        "The architecture is named \"multimodal diffusion transformer (MMDiT), where the \"multimodal\" means that it mixes text and image encodings inside its operations. This differs from previous versions of DiT, where the text encoding affects the image encoding, but not vice versa.\n",
        "\n",
        "**Training data**\n",
        "\n",
        "Stable Diffusion was trained on pairs of images and captions taken from LAION-5B, a publicly available dataset derived from Common Crawl data scraped from the web, where 5 billion image-text pairs were classified based on language and filtered into separate datasets by resolution, a predicted likelihood of containing a watermark, and predicted \"aesthetic\" score (e.g. subjective visual quality). The dataset was created by LAION, a German non-profit which receives funding from Stability AI. The Stable Diffusion model was trained on three subsets of LAION-5B: laion2B-en, laion-high-resolution, and laion-aesthetics v2 5+. A third-party analysis of the model's training data identified that out of a smaller subset of 12 million images taken from the original wider dataset used, approximately 47% of the sample size of images came from 100 different domains, with Pinterest taking up 8.5% of the subset, followed by websites such as WordPress, Blogspot, Flickr, DeviantArt and Wikimedia Commons. An investigation by Bayerischer Rundfunk showed that LAION's datasets, hosted on Hugging Face, contain large amounts of private and sensitive data.\n",
        "\n",
        "**Training procedures**\n",
        "\n",
        "The model was initially trained on the laion2B-en and laion-high-resolution subsets, with the last few rounds of training done on LAION-Aesthetics v2 5+, a subset of 600 million captioned images which the LAION-Aesthetics Predictor V2 predicted that humans would, on average, give a score of at least 5 out of 10 when asked to rate how much they liked them. The LAION-Aesthetics v2 5+ subset also excluded low-resolution images and images which LAION-5B-WatermarkDetection identified as carrying a watermark with greater than 80% probability. Final rounds of training additionally dropped 10% of text conditioning to improve Classifier-Free Diffusion Guidance.\n",
        "\n",
        "The model was trained using 256 Nvidia A100 GPUs on Amazon Web Services for a total of 150,000 GPU-hours, at a cost of $600,000.\n",
        "\n",
        "![__](https://upload.wikimedia.org/wikipedia/commons/f/f6/Stable_Diffusion_architecture.png)\n",
        "\n",
        ">Diagram of the latent diffusion architecture used by Stable Diffusion\n",
        "\n",
        "\n",
        "**Limitations**\n",
        "\n",
        "Stable Diffusion has issues with degradation and inaccuracies in certain scenarios. Initial releases of the model were trained on a dataset that consists of 512×512 resolution images, meaning that the quality of generated images noticeably degrades when user specifications deviate from its \"expected\" 512×512 resolution; the version 2.0 update of the Stable Diffusion model later introduced the ability to natively generate images at 768×768 resolution. Another challenge is in generating human limbs due to poor data quality of limbs in the LAION database. The model is insufficiently trained to replicate human limbs and faces due to the lack of representative features in the database, and prompting the model to generate images of such type can confound the model. Stable Diffusion XL (SDXL) version 1.0, released in July 2023, introduced native 1024x1024 resolution and improved generation for limbs and text.\n",
        "\n",
        "Accessibility for individual developers can also be a problem. In order to customize the model for new use cases that are not included in the dataset, such as generating anime characters (\"waifu diffusion\"), new data and further training are required. Fine-tuned adaptations of Stable Diffusion created through additional retraining have been used for a variety of different use-cases, from medical imaging to algorithmically generated music. However, this fine-tuning process is sensitive to the quality of new data; low resolution images or different resolutions from the original data can not only fail to learn the new task but degrade the overall performance of the model. Even when the model is additionally trained on high quality images, it is difficult for individuals to run models in consumer electronics. For example, the training process for waifu-diffusion requires a minimum 30 GB of VRAM, which exceeds the usual resource provided in such consumer GPUs as Nvidia's GeForce 30 series, which has only about 12 GB.\n",
        "\n",
        "The creators of Stable Diffusion acknowledge the potential for algorithmic bias, as the model was primarily trained on images with English descriptions. As a result, generated images reinforce social biases and are from a western perspective, as the creators note that the model lacks data from other communities and cultures. The model gives more accurate results for prompts that are written in English in comparison to those written in other languages, with western or white cultures often being the default representation.\n",
        "\n",
        "**End-user fine-tuning**\n",
        "\n",
        "To address the limitations of the model's initial training, end-users may opt to implement additional training to fine-tune generation outputs to match more specific use-cases, a process also referred to as personalization. There are three methods in which user-accessible fine-tuning can be applied to a Stable Diffusion model checkpoint:\n",
        "\n",
        "An \"embedding\" can be trained from a collection of user-provided images, and allows the model to generate visually similar images whenever the name of the embedding is used within a generation prompt.[44] Embeddings are based on the \"textual inversion\" concept developed by researchers from Tel Aviv University in 2022 with support from Nvidia, where vector representations for specific tokens used by the model's text encoder are linked to new pseudo-words. Embeddings can be used to reduce biases within the original model, or mimic visual styles.\n",
        "\n",
        "A \"hypernetwork\" is a small pretrained neural network that is applied to various points within a larger neural network, and refers to the technique created by NovelAI developer Kurumuz in 2021, originally intended for text-generation transformer models. Hypernetworks steer results towards a particular direction, allowing Stable Diffusion-based models to imitate the art style of specific artists, even if the artist is not recognised by the original model; they process the image by finding key areas of importance such as hair and eyes, and then patch these areas in secondary latent space.\n",
        "DreamBooth is a deep learning generation model developed by researchers from Google Research and Boston University in 2022 which can fine-tune the model to generate precise, personalised outputs that depict a specific subject, following training via a set of images which depict the subject."
      ],
      "metadata": {
        "id": "kiYJyOq4HARA"
      }
    }
  ],
  "metadata": {
    "kernelspec": {
      "display_name": "Python 3",
      "name": "python3"
    },
    "language_info": {
      "codemirror_mode": {
        "name": "ipython",
        "version": 3
      },
      "file_extension": ".py",
      "mimetype": "text/x-python",
      "name": "python",
      "nbconvert_exporter": "python",
      "pygments_lexer": "ipython3",
      "version": "3.11.5"
    },
    "colab": {
      "provenance": [],
      "include_colab_link": true
    }
  },
  "nbformat": 4,
  "nbformat_minor": 0
}